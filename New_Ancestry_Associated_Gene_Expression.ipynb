{
 "cells": [
  {
   "cell_type": "markdown",
   "metadata": {},
   "source": [
    "The purpose of this notebook is to test whether there are gene expression differences between EUR and EAS cell lines for the ancestry-associated genes."
   ]
  },
  {
   "cell_type": "code",
   "execution_count": 3,
   "metadata": {},
   "outputs": [
    {
     "name": "stderr",
     "output_type": "stream",
     "text": [
      "Warning message in system(\"timedatectl\", intern = TRUE):\n",
      "“running command 'timedatectl' had status 1”\n",
      "── \u001b[1mAttaching packages\u001b[22m ─────────────────────────────────────── tidyverse 1.3.1 ──\n",
      "\n",
      "\u001b[32m✔\u001b[39m \u001b[34mggplot2\u001b[39m 3.3.5     \u001b[32m✔\u001b[39m \u001b[34mpurrr  \u001b[39m 0.3.4\n",
      "\u001b[32m✔\u001b[39m \u001b[34mtibble \u001b[39m 3.1.6     \u001b[32m✔\u001b[39m \u001b[34mdplyr  \u001b[39m 1.0.7\n",
      "\u001b[32m✔\u001b[39m \u001b[34mtidyr  \u001b[39m 1.1.4     \u001b[32m✔\u001b[39m \u001b[34mstringr\u001b[39m 1.4.0\n",
      "\u001b[32m✔\u001b[39m \u001b[34mreadr  \u001b[39m 2.1.1     \u001b[32m✔\u001b[39m \u001b[34mforcats\u001b[39m 0.5.1\n",
      "\n",
      "── \u001b[1mConflicts\u001b[22m ────────────────────────────────────────── tidyverse_conflicts() ──\n",
      "\u001b[31m✖\u001b[39m \u001b[34mdplyr\u001b[39m::\u001b[32mfilter()\u001b[39m masks \u001b[34mstats\u001b[39m::filter()\n",
      "\u001b[31m✖\u001b[39m \u001b[34mdplyr\u001b[39m::\u001b[32mlag()\u001b[39m    masks \u001b[34mstats\u001b[39m::lag()\n",
      "\n",
      "\n",
      "Attaching package: ‘reshape2’\n",
      "\n",
      "\n",
      "The following object is masked from ‘package:tidyr’:\n",
      "\n",
      "    smiths\n",
      "\n",
      "\n"
     ]
    }
   ],
   "source": [
    "#Load packages\n",
    "library(tidyverse)\n",
    "library(reshape2)\n",
    "library(ggrepel)\n",
    "\n",
    "#Load functions\n",
    "show_msg <- function(x){ \n",
    "    print(x)\n",
    "    flush.console()\n",
    "}"
   ]
  },
  {
   "cell_type": "code",
   "execution_count": 2,
   "metadata": {},
   "outputs": [],
   "source": [
    "#First, load in the statistics data from the New_Ancestry_Associated_Dependencies\n",
    "setwd('/home/jupyter/Ancestry/ccle_ancestry_analysis')\n",
    "ancestry.associations = read.table(\"ancestry.associated.gene.associations.txt\", sep = \"\\t\", header = T)"
   ]
  },
  {
   "cell_type": "code",
   "execution_count": 7,
   "metadata": {},
   "outputs": [
    {
     "data": {
      "text/html": [
       "96"
      ],
      "text/latex": [
       "96"
      ],
      "text/markdown": [
       "96"
      ],
      "text/plain": [
       "[1] 96"
      ]
     },
     "metadata": {},
     "output_type": "display_data"
    },
    {
     "data": {
      "text/html": [
       "<style>\n",
       ".list-inline {list-style: none; margin:0; padding: 0}\n",
       ".list-inline>li {display: inline-block}\n",
       ".list-inline>li:not(:last-child)::after {content: \"\\00b7\"; padding: 0 .5ex}\n",
       "</style>\n",
       "<ol class=list-inline><li>'EEF2'</li><li>'NUP133'</li><li>'RESP18'</li><li>'ACAN'</li><li>'ADCY3'</li><li>'BTG1'</li><li>'C22orf31'</li><li>'C2orf80'</li><li>'CBFA2T2'</li><li>'CCDC102B'</li><li>'CCDC74B'</li><li>'CCL3'</li><li>'CEP19'</li><li>'CHGB'</li><li>'CLSPN'</li><li>'COX6B1'</li><li>'DCN'</li><li>'DDX47'</li><li>'DND1'</li><li>'ECD'</li><li>'EGFR'</li><li>'FAM25A'</li><li>'FCGR3A'</li><li>'FRG2C'</li><li>'GLYCTK'</li><li>'GRB2'</li><li>'GTPBP3'</li><li>'HCN2'</li><li>'HINT3'</li><li>'HIST1H2AA'</li><li>'HLA'</li><li>'HNF1B'</li><li>'INCENP'</li><li>'ITGA3'</li><li>'ITIH3'</li><li>'KIAA2013'</li><li>'KRTAP3'</li><li>'MATR3'</li><li>'MRTO4'</li><li>'MYH11'</li><li>'NAA40'</li><li>'NIT2'</li><li>'NKAIN4'</li><li>'NOP56'</li><li>'NPEPPS'</li><li>'NPHS1'</li><li>'PDXDC1'</li><li>'PEX11A'</li><li>'PTPN11'</li><li>'QRICH2'</li><li>'RAB21'</li><li>'RETNLB'</li><li>'RHD'</li><li>'RIMS2'</li><li>'RPL3'</li><li>'RPS5'</li><li>'RTP5'</li><li>'SART1'</li><li>'SCN5A'</li><li>'SLC10A5'</li><li>'SLC35B2'</li><li>'SLC38A7'</li><li>'SLC5A11'</li><li>'SNAP23'</li><li>'SPATA6L'</li><li>'SRP14'</li><li>'STX4'</li><li>'STXBP3'</li><li>'TPSD1'</li><li>'TRMT61B'</li><li>'TTC4'</li><li>'TUT1'</li><li>'TXNRD1'</li><li>'UGT2B17'</li><li>'VRK1'</li><li>'WSB2'</li><li>'ZNF675'</li><li>'APEX2'</li><li>'ATRX'</li><li>'C17orf64'</li><li>'COPG1'</li><li>'CSE1L'</li><li>'DEFB108B'</li><li>'ERI1'</li><li>'FAM86C1'</li><li>'IL1RN'</li><li>'KRT14'</li><li>'LPAR6'</li><li>'MDN1'</li><li>'NOMO2'</li><li>'PCBP4'</li><li>'PSPH'</li><li>'RPP30'</li><li>'SERINC2'</li><li>'XYLT2'</li><li>'ZFP62'</li></ol>\n"
      ],
      "text/latex": [
       "\\begin{enumerate*}\n",
       "\\item 'EEF2'\n",
       "\\item 'NUP133'\n",
       "\\item 'RESP18'\n",
       "\\item 'ACAN'\n",
       "\\item 'ADCY3'\n",
       "\\item 'BTG1'\n",
       "\\item 'C22orf31'\n",
       "\\item 'C2orf80'\n",
       "\\item 'CBFA2T2'\n",
       "\\item 'CCDC102B'\n",
       "\\item 'CCDC74B'\n",
       "\\item 'CCL3'\n",
       "\\item 'CEP19'\n",
       "\\item 'CHGB'\n",
       "\\item 'CLSPN'\n",
       "\\item 'COX6B1'\n",
       "\\item 'DCN'\n",
       "\\item 'DDX47'\n",
       "\\item 'DND1'\n",
       "\\item 'ECD'\n",
       "\\item 'EGFR'\n",
       "\\item 'FAM25A'\n",
       "\\item 'FCGR3A'\n",
       "\\item 'FRG2C'\n",
       "\\item 'GLYCTK'\n",
       "\\item 'GRB2'\n",
       "\\item 'GTPBP3'\n",
       "\\item 'HCN2'\n",
       "\\item 'HINT3'\n",
       "\\item 'HIST1H2AA'\n",
       "\\item 'HLA'\n",
       "\\item 'HNF1B'\n",
       "\\item 'INCENP'\n",
       "\\item 'ITGA3'\n",
       "\\item 'ITIH3'\n",
       "\\item 'KIAA2013'\n",
       "\\item 'KRTAP3'\n",
       "\\item 'MATR3'\n",
       "\\item 'MRTO4'\n",
       "\\item 'MYH11'\n",
       "\\item 'NAA40'\n",
       "\\item 'NIT2'\n",
       "\\item 'NKAIN4'\n",
       "\\item 'NOP56'\n",
       "\\item 'NPEPPS'\n",
       "\\item 'NPHS1'\n",
       "\\item 'PDXDC1'\n",
       "\\item 'PEX11A'\n",
       "\\item 'PTPN11'\n",
       "\\item 'QRICH2'\n",
       "\\item 'RAB21'\n",
       "\\item 'RETNLB'\n",
       "\\item 'RHD'\n",
       "\\item 'RIMS2'\n",
       "\\item 'RPL3'\n",
       "\\item 'RPS5'\n",
       "\\item 'RTP5'\n",
       "\\item 'SART1'\n",
       "\\item 'SCN5A'\n",
       "\\item 'SLC10A5'\n",
       "\\item 'SLC35B2'\n",
       "\\item 'SLC38A7'\n",
       "\\item 'SLC5A11'\n",
       "\\item 'SNAP23'\n",
       "\\item 'SPATA6L'\n",
       "\\item 'SRP14'\n",
       "\\item 'STX4'\n",
       "\\item 'STXBP3'\n",
       "\\item 'TPSD1'\n",
       "\\item 'TRMT61B'\n",
       "\\item 'TTC4'\n",
       "\\item 'TUT1'\n",
       "\\item 'TXNRD1'\n",
       "\\item 'UGT2B17'\n",
       "\\item 'VRK1'\n",
       "\\item 'WSB2'\n",
       "\\item 'ZNF675'\n",
       "\\item 'APEX2'\n",
       "\\item 'ATRX'\n",
       "\\item 'C17orf64'\n",
       "\\item 'COPG1'\n",
       "\\item 'CSE1L'\n",
       "\\item 'DEFB108B'\n",
       "\\item 'ERI1'\n",
       "\\item 'FAM86C1'\n",
       "\\item 'IL1RN'\n",
       "\\item 'KRT14'\n",
       "\\item 'LPAR6'\n",
       "\\item 'MDN1'\n",
       "\\item 'NOMO2'\n",
       "\\item 'PCBP4'\n",
       "\\item 'PSPH'\n",
       "\\item 'RPP30'\n",
       "\\item 'SERINC2'\n",
       "\\item 'XYLT2'\n",
       "\\item 'ZFP62'\n",
       "\\end{enumerate*}\n"
      ],
      "text/markdown": [
       "1. 'EEF2'\n",
       "2. 'NUP133'\n",
       "3. 'RESP18'\n",
       "4. 'ACAN'\n",
       "5. 'ADCY3'\n",
       "6. 'BTG1'\n",
       "7. 'C22orf31'\n",
       "8. 'C2orf80'\n",
       "9. 'CBFA2T2'\n",
       "10. 'CCDC102B'\n",
       "11. 'CCDC74B'\n",
       "12. 'CCL3'\n",
       "13. 'CEP19'\n",
       "14. 'CHGB'\n",
       "15. 'CLSPN'\n",
       "16. 'COX6B1'\n",
       "17. 'DCN'\n",
       "18. 'DDX47'\n",
       "19. 'DND1'\n",
       "20. 'ECD'\n",
       "21. 'EGFR'\n",
       "22. 'FAM25A'\n",
       "23. 'FCGR3A'\n",
       "24. 'FRG2C'\n",
       "25. 'GLYCTK'\n",
       "26. 'GRB2'\n",
       "27. 'GTPBP3'\n",
       "28. 'HCN2'\n",
       "29. 'HINT3'\n",
       "30. 'HIST1H2AA'\n",
       "31. 'HLA'\n",
       "32. 'HNF1B'\n",
       "33. 'INCENP'\n",
       "34. 'ITGA3'\n",
       "35. 'ITIH3'\n",
       "36. 'KIAA2013'\n",
       "37. 'KRTAP3'\n",
       "38. 'MATR3'\n",
       "39. 'MRTO4'\n",
       "40. 'MYH11'\n",
       "41. 'NAA40'\n",
       "42. 'NIT2'\n",
       "43. 'NKAIN4'\n",
       "44. 'NOP56'\n",
       "45. 'NPEPPS'\n",
       "46. 'NPHS1'\n",
       "47. 'PDXDC1'\n",
       "48. 'PEX11A'\n",
       "49. 'PTPN11'\n",
       "50. 'QRICH2'\n",
       "51. 'RAB21'\n",
       "52. 'RETNLB'\n",
       "53. 'RHD'\n",
       "54. 'RIMS2'\n",
       "55. 'RPL3'\n",
       "56. 'RPS5'\n",
       "57. 'RTP5'\n",
       "58. 'SART1'\n",
       "59. 'SCN5A'\n",
       "60. 'SLC10A5'\n",
       "61. 'SLC35B2'\n",
       "62. 'SLC38A7'\n",
       "63. 'SLC5A11'\n",
       "64. 'SNAP23'\n",
       "65. 'SPATA6L'\n",
       "66. 'SRP14'\n",
       "67. 'STX4'\n",
       "68. 'STXBP3'\n",
       "69. 'TPSD1'\n",
       "70. 'TRMT61B'\n",
       "71. 'TTC4'\n",
       "72. 'TUT1'\n",
       "73. 'TXNRD1'\n",
       "74. 'UGT2B17'\n",
       "75. 'VRK1'\n",
       "76. 'WSB2'\n",
       "77. 'ZNF675'\n",
       "78. 'APEX2'\n",
       "79. 'ATRX'\n",
       "80. 'C17orf64'\n",
       "81. 'COPG1'\n",
       "82. 'CSE1L'\n",
       "83. 'DEFB108B'\n",
       "84. 'ERI1'\n",
       "85. 'FAM86C1'\n",
       "86. 'IL1RN'\n",
       "87. 'KRT14'\n",
       "88. 'LPAR6'\n",
       "89. 'MDN1'\n",
       "90. 'NOMO2'\n",
       "91. 'PCBP4'\n",
       "92. 'PSPH'\n",
       "93. 'RPP30'\n",
       "94. 'SERINC2'\n",
       "95. 'XYLT2'\n",
       "96. 'ZFP62'\n",
       "\n",
       "\n"
      ],
      "text/plain": [
       " [1] \"EEF2\"      \"NUP133\"    \"RESP18\"    \"ACAN\"      \"ADCY3\"     \"BTG1\"     \n",
       " [7] \"C22orf31\"  \"C2orf80\"   \"CBFA2T2\"   \"CCDC102B\"  \"CCDC74B\"   \"CCL3\"     \n",
       "[13] \"CEP19\"     \"CHGB\"      \"CLSPN\"     \"COX6B1\"    \"DCN\"       \"DDX47\"    \n",
       "[19] \"DND1\"      \"ECD\"       \"EGFR\"      \"FAM25A\"    \"FCGR3A\"    \"FRG2C\"    \n",
       "[25] \"GLYCTK\"    \"GRB2\"      \"GTPBP3\"    \"HCN2\"      \"HINT3\"     \"HIST1H2AA\"\n",
       "[31] \"HLA\"       \"HNF1B\"     \"INCENP\"    \"ITGA3\"     \"ITIH3\"     \"KIAA2013\" \n",
       "[37] \"KRTAP3\"    \"MATR3\"     \"MRTO4\"     \"MYH11\"     \"NAA40\"     \"NIT2\"     \n",
       "[43] \"NKAIN4\"    \"NOP56\"     \"NPEPPS\"    \"NPHS1\"     \"PDXDC1\"    \"PEX11A\"   \n",
       "[49] \"PTPN11\"    \"QRICH2\"    \"RAB21\"     \"RETNLB\"    \"RHD\"       \"RIMS2\"    \n",
       "[55] \"RPL3\"      \"RPS5\"      \"RTP5\"      \"SART1\"     \"SCN5A\"     \"SLC10A5\"  \n",
       "[61] \"SLC35B2\"   \"SLC38A7\"   \"SLC5A11\"   \"SNAP23\"    \"SPATA6L\"   \"SRP14\"    \n",
       "[67] \"STX4\"      \"STXBP3\"    \"TPSD1\"     \"TRMT61B\"   \"TTC4\"      \"TUT1\"     \n",
       "[73] \"TXNRD1\"    \"UGT2B17\"   \"VRK1\"      \"WSB2\"      \"ZNF675\"    \"APEX2\"    \n",
       "[79] \"ATRX\"      \"C17orf64\"  \"COPG1\"     \"CSE1L\"     \"DEFB108B\"  \"ERI1\"     \n",
       "[85] \"FAM86C1\"   \"IL1RN\"     \"KRT14\"     \"LPAR6\"     \"MDN1\"      \"NOMO2\"    \n",
       "[91] \"PCBP4\"     \"PSPH\"      \"RPP30\"     \"SERINC2\"   \"XYLT2\"     \"ZFP62\"    "
      ]
     },
     "metadata": {},
     "output_type": "display_data"
    }
   ],
   "source": [
    "#Get a list of the significant genes\n",
    "significant.genes = ancestry.associations %>%\n",
    "filter(FDR < 0.05) %>%\n",
    "pull(gene) %>%\n",
    "unique()\n",
    "\n",
    "length(significant.genes)\n",
    "significant.genes"
   ]
  },
  {
   "cell_type": "code",
   "execution_count": 15,
   "metadata": {},
   "outputs": [
    {
     "data": {
      "text/html": [
       "<table class=\"dataframe\">\n",
       "<caption>A data.frame: 6 × 6</caption>\n",
       "<thead>\n",
       "\t<tr><th></th><th scope=col>sample</th><th scope=col>AFR</th><th scope=col>AMR</th><th scope=col>EAS</th><th scope=col>EUR</th><th scope=col>SAS</th></tr>\n",
       "\t<tr><th></th><th scope=col>&lt;chr&gt;</th><th scope=col>&lt;dbl&gt;</th><th scope=col>&lt;dbl&gt;</th><th scope=col>&lt;dbl&gt;</th><th scope=col>&lt;dbl&gt;</th><th scope=col>&lt;dbl&gt;</th></tr>\n",
       "</thead>\n",
       "<tbody>\n",
       "\t<tr><th scope=row>1</th><td>ACH-000657</td><td>0.9601677273</td><td>0.0005504545</td><td>0.0063213636</td><td>0.03192409</td><td>0.0010363636</td></tr>\n",
       "\t<tr><th scope=row>2</th><td>ACH-000617</td><td>0.0028859091</td><td>0.0204050000</td><td>0.0000000000</td><td>0.97557545</td><td>0.0011336364</td></tr>\n",
       "\t<tr><th scope=row>3</th><td>ACH-000685</td><td>0.8539895455</td><td>0.0272740909</td><td>0.0395313636</td><td>0.07403591</td><td>0.0051686364</td></tr>\n",
       "\t<tr><th scope=row>4</th><td>ACH-000632</td><td>0.0025995455</td><td>0.0009922727</td><td>0.0001513636</td><td>0.99553364</td><td>0.0007231818</td></tr>\n",
       "\t<tr><th scope=row>5</th><td>ACH-000171</td><td>0.0007454545</td><td>0.0000000000</td><td>0.0010822727</td><td>0.99686682</td><td>0.0013054545</td></tr>\n",
       "\t<tr><th scope=row>6</th><td>ACH-000863</td><td>0.0065409091</td><td>0.0000000000</td><td>0.0036922727</td><td>0.96728000</td><td>0.0224868182</td></tr>\n",
       "</tbody>\n",
       "</table>\n"
      ],
      "text/latex": [
       "A data.frame: 6 × 6\n",
       "\\begin{tabular}{r|llllll}\n",
       "  & sample & AFR & AMR & EAS & EUR & SAS\\\\\n",
       "  & <chr> & <dbl> & <dbl> & <dbl> & <dbl> & <dbl>\\\\\n",
       "\\hline\n",
       "\t1 & ACH-000657 & 0.9601677273 & 0.0005504545 & 0.0063213636 & 0.03192409 & 0.0010363636\\\\\n",
       "\t2 & ACH-000617 & 0.0028859091 & 0.0204050000 & 0.0000000000 & 0.97557545 & 0.0011336364\\\\\n",
       "\t3 & ACH-000685 & 0.8539895455 & 0.0272740909 & 0.0395313636 & 0.07403591 & 0.0051686364\\\\\n",
       "\t4 & ACH-000632 & 0.0025995455 & 0.0009922727 & 0.0001513636 & 0.99553364 & 0.0007231818\\\\\n",
       "\t5 & ACH-000171 & 0.0007454545 & 0.0000000000 & 0.0010822727 & 0.99686682 & 0.0013054545\\\\\n",
       "\t6 & ACH-000863 & 0.0065409091 & 0.0000000000 & 0.0036922727 & 0.96728000 & 0.0224868182\\\\\n",
       "\\end{tabular}\n"
      ],
      "text/markdown": [
       "\n",
       "A data.frame: 6 × 6\n",
       "\n",
       "| <!--/--> | sample &lt;chr&gt; | AFR &lt;dbl&gt; | AMR &lt;dbl&gt; | EAS &lt;dbl&gt; | EUR &lt;dbl&gt; | SAS &lt;dbl&gt; |\n",
       "|---|---|---|---|---|---|---|\n",
       "| 1 | ACH-000657 | 0.9601677273 | 0.0005504545 | 0.0063213636 | 0.03192409 | 0.0010363636 |\n",
       "| 2 | ACH-000617 | 0.0028859091 | 0.0204050000 | 0.0000000000 | 0.97557545 | 0.0011336364 |\n",
       "| 3 | ACH-000685 | 0.8539895455 | 0.0272740909 | 0.0395313636 | 0.07403591 | 0.0051686364 |\n",
       "| 4 | ACH-000632 | 0.0025995455 | 0.0009922727 | 0.0001513636 | 0.99553364 | 0.0007231818 |\n",
       "| 5 | ACH-000171 | 0.0007454545 | 0.0000000000 | 0.0010822727 | 0.99686682 | 0.0013054545 |\n",
       "| 6 | ACH-000863 | 0.0065409091 | 0.0000000000 | 0.0036922727 | 0.96728000 | 0.0224868182 |\n",
       "\n"
      ],
      "text/plain": [
       "  sample     AFR          AMR          EAS          EUR        SAS         \n",
       "1 ACH-000657 0.9601677273 0.0005504545 0.0063213636 0.03192409 0.0010363636\n",
       "2 ACH-000617 0.0028859091 0.0204050000 0.0000000000 0.97557545 0.0011336364\n",
       "3 ACH-000685 0.8539895455 0.0272740909 0.0395313636 0.07403591 0.0051686364\n",
       "4 ACH-000632 0.0025995455 0.0009922727 0.0001513636 0.99553364 0.0007231818\n",
       "5 ACH-000171 0.0007454545 0.0000000000 0.0010822727 0.99686682 0.0013054545\n",
       "6 ACH-000863 0.0065409091 0.0000000000 0.0036922727 0.96728000 0.0224868182"
      ]
     },
     "metadata": {},
     "output_type": "display_data"
    }
   ],
   "source": [
    "#Load in the ancestry information\n",
    "setwd('/home/jupyter/Ancestry/rfmix')\n",
    "ancestry.information = read.table(\"collapsed.ancestry.information.txt\", sep = \"\\t\", header = T)\n",
    "\n",
    "#Get list of the EUR and EAS cell lines\n",
    "eur.lines = ancestry.information %>% filter(EUR >= 0.8) %>% pull(sample)\n",
    "eas.lines = ancestry.information %>% filter(EAS >= 0.8) %>% pull(sample)\n",
    "\n",
    "head(ancestry.information)"
   ]
  },
  {
   "cell_type": "code",
   "execution_count": 8,
   "metadata": {},
   "outputs": [],
   "source": [
    "#Load in the CCLE gene expression data\n",
    "setwd('/home/jupyter/Ancestry/raw_data/depmap/avana14')\n",
    "ccle.expression = read.table('CCLE_expression.csv', sep = \",\", header = T, check.names = FALSE) %>%\n",
    "rename( \"sample\" = 1) %>%\n",
    "setNames(word(names(.), 1)) "
   ]
  },
  {
   "cell_type": "markdown",
   "metadata": {},
   "source": [
    "Now that all of the data is loaded, let's calculate the associations"
   ]
  },
  {
   "cell_type": "code",
   "execution_count": 20,
   "metadata": {},
   "outputs": [],
   "source": [
    "#Not all of the CRISPR genes are in the expression dataset, so let's create an intersecting list of genes that we need to grab from the expression dataset.\n",
    "genes.to.grab = intersect(colnames(ccle.expression), significant.genes)\n",
    "\n",
    "#Filter the CCLE expression data so that it only includes the ancestry-associated genes\n",
    "filtered.expression = ccle.expression %>%\n",
    "select(sample, all_of(genes.to.grab)) %>%\n",
    "filter(sample %in% c(eur.lines, eas.lines))\n",
    "\n",
    "#Divide the dataset into a EUR dataset and an EAS dataset \n",
    "eur.filtered.expression = filtered.expression %>% filter(sample %in% eur.lines) %>% select(-sample)\n",
    "eas.filtered.expression = filtered.expression %>% filter(sample %in% eas.lines) %>% select(-sample)"
   ]
  },
  {
   "cell_type": "code",
   "execution_count": 24,
   "metadata": {},
   "outputs": [],
   "source": [
    "#Now that those datasets are made, let's calculate the p-values between the two groups.\n",
    "expression.difference.pvals = mapply(wilcox.test, x = eur.filtered.expression, y = eas.filtered.expression) %>% data.frame() %>% slice(3) %>% unlist()\n",
    "\n",
    "#Also get the expression differences\n",
    "eur.mean.expression = eur.filtered.expression %>% apply(2, mean, na.rm = TRUE)\n",
    "eas.mean.expression = eas.filtered.expression %>% apply(2, mean, na.rm = TRUE)\n",
    "differential.mean.expression = eur.mean.expression - eas.mean.expression"
   ]
  },
  {
   "cell_type": "code",
   "execution_count": 40,
   "metadata": {},
   "outputs": [
    {
     "data": {
      "text/html": [
       "<table class=\"dataframe\">\n",
       "<caption>A data.frame: 6 × 4</caption>\n",
       "<thead>\n",
       "\t<tr><th></th><th scope=col>gene</th><th scope=col>expression_difference</th><th scope=col>pval</th><th scope=col>FDR</th></tr>\n",
       "\t<tr><th></th><th scope=col>&lt;chr&gt;</th><th scope=col>&lt;dbl&gt;</th><th scope=col>&lt;dbl&gt;</th><th scope=col>&lt;dbl&gt;</th></tr>\n",
       "</thead>\n",
       "<tbody>\n",
       "\t<tr><th scope=row>PDXDC1</th><td>PDXDC1 </td><td> 0.3816276</td><td>3.171107e-14</td><td>2.917419e-12</td></tr>\n",
       "\t<tr><th scope=row>UGT2B17</th><td>UGT2B17</td><td> 0.1110812</td><td>1.040050e-09</td><td>4.784232e-08</td></tr>\n",
       "\t<tr><th scope=row>IL1RN</th><td>IL1RN  </td><td>-0.5329302</td><td>4.010039e-09</td><td>9.223091e-08</td></tr>\n",
       "\t<tr><th scope=row>RHD</th><td>RHD    </td><td>-0.1370311</td><td>3.038629e-09</td><td>9.223091e-08</td></tr>\n",
       "\t<tr><th scope=row>CLSPN</th><td>CLSPN  </td><td> 0.3755298</td><td>9.415514e-08</td><td>1.732455e-06</td></tr>\n",
       "\t<tr><th scope=row>INCENP</th><td>INCENP </td><td> 0.2300572</td><td>1.858626e-06</td><td>2.849893e-05</td></tr>\n",
       "</tbody>\n",
       "</table>\n"
      ],
      "text/latex": [
       "A data.frame: 6 × 4\n",
       "\\begin{tabular}{r|llll}\n",
       "  & gene & expression\\_difference & pval & FDR\\\\\n",
       "  & <chr> & <dbl> & <dbl> & <dbl>\\\\\n",
       "\\hline\n",
       "\tPDXDC1 & PDXDC1  &  0.3816276 & 3.171107e-14 & 2.917419e-12\\\\\n",
       "\tUGT2B17 & UGT2B17 &  0.1110812 & 1.040050e-09 & 4.784232e-08\\\\\n",
       "\tIL1RN & IL1RN   & -0.5329302 & 4.010039e-09 & 9.223091e-08\\\\\n",
       "\tRHD & RHD     & -0.1370311 & 3.038629e-09 & 9.223091e-08\\\\\n",
       "\tCLSPN & CLSPN   &  0.3755298 & 9.415514e-08 & 1.732455e-06\\\\\n",
       "\tINCENP & INCENP  &  0.2300572 & 1.858626e-06 & 2.849893e-05\\\\\n",
       "\\end{tabular}\n"
      ],
      "text/markdown": [
       "\n",
       "A data.frame: 6 × 4\n",
       "\n",
       "| <!--/--> | gene &lt;chr&gt; | expression_difference &lt;dbl&gt; | pval &lt;dbl&gt; | FDR &lt;dbl&gt; |\n",
       "|---|---|---|---|---|\n",
       "| PDXDC1 | PDXDC1  |  0.3816276 | 3.171107e-14 | 2.917419e-12 |\n",
       "| UGT2B17 | UGT2B17 |  0.1110812 | 1.040050e-09 | 4.784232e-08 |\n",
       "| IL1RN | IL1RN   | -0.5329302 | 4.010039e-09 | 9.223091e-08 |\n",
       "| RHD | RHD     | -0.1370311 | 3.038629e-09 | 9.223091e-08 |\n",
       "| CLSPN | CLSPN   |  0.3755298 | 9.415514e-08 | 1.732455e-06 |\n",
       "| INCENP | INCENP  |  0.2300572 | 1.858626e-06 | 2.849893e-05 |\n",
       "\n"
      ],
      "text/plain": [
       "        gene    expression_difference pval         FDR         \n",
       "PDXDC1  PDXDC1   0.3816276            3.171107e-14 2.917419e-12\n",
       "UGT2B17 UGT2B17  0.1110812            1.040050e-09 4.784232e-08\n",
       "IL1RN   IL1RN   -0.5329302            4.010039e-09 9.223091e-08\n",
       "RHD     RHD     -0.1370311            3.038629e-09 9.223091e-08\n",
       "CLSPN   CLSPN    0.3755298            9.415514e-08 1.732455e-06\n",
       "INCENP  INCENP   0.2300572            1.858626e-06 2.849893e-05"
      ]
     },
     "metadata": {},
     "output_type": "display_data"
    },
    {
     "name": "stdout",
     "output_type": "stream",
     "text": [
      "'data.frame':\t92 obs. of  4 variables:\n",
      " $ gene                 : chr  \"PDXDC1\" \"UGT2B17\" \"IL1RN\" \"RHD\" ...\n",
      " $ expression_difference: num  0.382 0.111 -0.533 -0.137 0.376 ...\n",
      " $ pval                 : num  3.17e-14 1.04e-09 4.01e-09 3.04e-09 9.42e-08 ...\n",
      " $ FDR                  : num  2.92e-12 4.78e-08 9.22e-08 9.22e-08 1.73e-06 ...\n"
     ]
    },
    {
     "data": {
      "image/png": "[encoded data removed]",
      "text/plain": [
       "plot without title"
      ]
     },
     "metadata": {
      "image/png": {
       "height": 420,
       "width": 420
      }
     },
     "output_type": "display_data"
    }
   ],
   "source": [
    "#Bind everything into a single dataset and draw the volcano plot\n",
    "expression.differences.df = cbind(names(differential.mean.expression), differential.mean.expression, expression.difference.pvals) %>%\n",
    "data.frame() %>%\n",
    "rename(\"gene\" = 1, \"expression_difference\" = 2, \"pval\" = 3) %>%\n",
    "mutate(pval = as.numeric(pval)) %>%\n",
    "mutate(expression_difference = as.numeric(expression_difference)) %>%\n",
    "mutate(FDR = p.adjust(pval, method = \"BH\", n = length(pval))) %>%\n",
    "arrange(FDR)\n",
    "head(expression.differences.df)\n",
    "str(expression.differences.df)\n",
    "\n",
    "\n",
    "#Now finally plot the volcano plot\n",
    "expression.differences.df %>%\n",
    "ggplot(aes(x = expression_difference, y = -log10(FDR))) +\n",
    "geom_point(aes(x = expression_difference, y = -log10(FDR))) +\n",
    "\n",
    "theme_bw() +\n",
    "\n",
    "theme(\n",
    "panel.border = element_blank(), panel.grid.major = element_blank(),\n",
    "panel.grid.minor = element_blank(), axis.line = element_line(color = \"black\")\n",
    ") +\n",
    "\n",
    "theme(\n",
    "axis.title.x = element_text(color = \"black\", size = 14, face = \"bold\"),\n",
    "axis.title.y = element_text(color = \"black\", size = 14, face = \"bold\")\n",
    ") +\n",
    "\n",
    "theme(\n",
    "axis.text=element_text(size = 12, face = \"bold\"),\n",
    "axis.title=element_text(size = 14,face = \"bold\")\n",
    ") +\n",
    "\n",
    "theme(\n",
    "legend.title = element_text(size = 14, face = \"bold\"),\n",
    "legend.text = element_text(size = 10, face = \"bold\")\n",
    ") +\n",
    "\n",
    "ylab(\"-log10(FDR)\") +\n",
    "xlab(\"Difference in Chronos Score\") +\n",
    "labs(fill='Ancestry Group') +\n",
    "scale_y_continuous(expand = c(0,0)) +\n",
    "scale_x_continuous(expand = c(0,0)) +\n",
    "\n",
    "geom_text_repel(\n",
    "aes(label=ifelse(-log10(FDR) > 5, \n",
    "as.character(gene),'')), \n",
    "box.padding = 0.5,\n",
    "nudge_y = 1,\n",
    "segment.ncp = 3,\n",
    "segment.angle = 20)"
   ]
  },
  {
   "cell_type": "code",
   "execution_count": 46,
   "metadata": {},
   "outputs": [
    {
     "name": "stderr",
     "output_type": "stream",
     "text": [
      "Using sample, ancestry as id variables\n",
      "\n"
     ]
    },
    {
     "data": {
      "text/html": [
       "<table class=\"dataframe\">\n",
       "<caption>A data.frame: 6 × 4</caption>\n",
       "<thead>\n",
       "\t<tr><th></th><th scope=col>sample</th><th scope=col>ancestry</th><th scope=col>variable</th><th scope=col>value</th></tr>\n",
       "\t<tr><th></th><th scope=col>&lt;chr&gt;</th><th scope=col>&lt;chr&gt;</th><th scope=col>&lt;fct&gt;</th><th scope=col>&lt;dbl&gt;</th></tr>\n",
       "</thead>\n",
       "<tbody>\n",
       "\t<tr><th scope=row>1</th><td>ACH-001113</td><td>EAS</td><td>CLSPN</td><td>4.441616</td></tr>\n",
       "\t<tr><th scope=row>2</th><td>ACH-000242</td><td>EUR</td><td>CLSPN</td><td>4.855990</td></tr>\n",
       "\t<tr><th scope=row>3</th><td>ACH-000708</td><td>EAS</td><td>CLSPN</td><td>3.145677</td></tr>\n",
       "\t<tr><th scope=row>4</th><td>ACH-000327</td><td>EUR</td><td>CLSPN</td><td>2.691534</td></tr>\n",
       "\t<tr><th scope=row>5</th><td>ACH-000233</td><td>EUR</td><td>CLSPN</td><td>3.509696</td></tr>\n",
       "\t<tr><th scope=row>6</th><td>ACH-000461</td><td>EAS</td><td>CLSPN</td><td>4.073820</td></tr>\n",
       "</tbody>\n",
       "</table>\n"
      ],
      "text/latex": [
       "A data.frame: 6 × 4\n",
       "\\begin{tabular}{r|llll}\n",
       "  & sample & ancestry & variable & value\\\\\n",
       "  & <chr> & <chr> & <fct> & <dbl>\\\\\n",
       "\\hline\n",
       "\t1 & ACH-001113 & EAS & CLSPN & 4.441616\\\\\n",
       "\t2 & ACH-000242 & EUR & CLSPN & 4.855990\\\\\n",
       "\t3 & ACH-000708 & EAS & CLSPN & 3.145677\\\\\n",
       "\t4 & ACH-000327 & EUR & CLSPN & 2.691534\\\\\n",
       "\t5 & ACH-000233 & EUR & CLSPN & 3.509696\\\\\n",
       "\t6 & ACH-000461 & EAS & CLSPN & 4.073820\\\\\n",
       "\\end{tabular}\n"
      ],
      "text/markdown": [
       "\n",
       "A data.frame: 6 × 4\n",
       "\n",
       "| <!--/--> | sample &lt;chr&gt; | ancestry &lt;chr&gt; | variable &lt;fct&gt; | value &lt;dbl&gt; |\n",
       "|---|---|---|---|---|\n",
       "| 1 | ACH-001113 | EAS | CLSPN | 4.441616 |\n",
       "| 2 | ACH-000242 | EUR | CLSPN | 4.855990 |\n",
       "| 3 | ACH-000708 | EAS | CLSPN | 3.145677 |\n",
       "| 4 | ACH-000327 | EUR | CLSPN | 2.691534 |\n",
       "| 5 | ACH-000233 | EUR | CLSPN | 3.509696 |\n",
       "| 6 | ACH-000461 | EAS | CLSPN | 4.073820 |\n",
       "\n"
      ],
      "text/plain": [
       "  sample     ancestry variable value   \n",
       "1 ACH-001113 EAS      CLSPN    4.441616\n",
       "2 ACH-000242 EUR      CLSPN    4.855990\n",
       "3 ACH-000708 EAS      CLSPN    3.145677\n",
       "4 ACH-000327 EUR      CLSPN    2.691534\n",
       "5 ACH-000233 EUR      CLSPN    3.509696\n",
       "6 ACH-000461 EAS      CLSPN    4.073820"
      ]
     },
     "metadata": {},
     "output_type": "display_data"
    },
    {
     "data": {
      "text/html": [
       "<style>\n",
       ".list-inline {list-style: none; margin:0; padding: 0}\n",
       ".list-inline>li {display: inline-block}\n",
       ".list-inline>li:not(:last-child)::after {content: \"\\00b7\"; padding: 0 .5ex}\n",
       "</style>\n",
       "<ol class=list-inline><li>5142</li><li>4</li></ol>\n"
      ],
      "text/latex": [
       "\\begin{enumerate*}\n",
       "\\item 5142\n",
       "\\item 4\n",
       "\\end{enumerate*}\n"
      ],
      "text/markdown": [
       "1. 5142\n",
       "2. 4\n",
       "\n",
       "\n"
      ],
      "text/plain": [
       "[1] 5142    4"
      ]
     },
     "metadata": {},
     "output_type": "display_data"
    }
   ],
   "source": [
    "#Now draw boxplots for our favorite genes\n",
    "\n",
    "#Make a vector that has our favorite genes in it\n",
    "favorite.genes = c(\"CLSPN\", \"RHD\", \"INCENP\", \"RPS5\", \"UGT2B17\", \"SRP14\")\n",
    "\n",
    "#Generate a dataset for plotting our favorite genes\n",
    "df.for.boxplot = ccle.expression %>%\n",
    "select(sample, all_of(favorite.genes)) %>%\n",
    "inner_join(., ancestry.information, by = \"sample\") %>%\n",
    "mutate(ancestry = ifelse(EUR >= 0.8, \"EUR\", ifelse(EAS >= 0.8, \"EAS\", \"Other\"))) %>%\n",
    "filter(ancestry %in% c(\"EUR\", \"EAS\")) %>%\n",
    "select(sample, all_of(favorite.genes), ancestry) %>%\n",
    "melt()\n",
    "\n",
    "head(df.for.boxplot)\n",
    "dim(df.for.boxplot)"
   ]
  },
  {
   "cell_type": "code",
   "execution_count": 49,
   "metadata": {},
   "outputs": [
    {
     "data": {
      "image/png": "[encoded data removed]",
      "text/plain": [
       "plot without title"
      ]
     },
     "metadata": {
      "image/png": {
       "height": 420,
       "width": 420
      }
     },
     "output_type": "display_data"
    }
   ],
   "source": [
    "#Now generate the boxplot\n",
    "\n",
    "set.seed(42)\n",
    "group.colors <- c(\"EAS\" = \"chartreuse4\", \"EUR\" = \"dodgerblue4\") #Make the color vector\n",
    "\n",
    "df.for.boxplot %>%\n",
    "ggplot() +\n",
    "geom_boxplot(position=position_dodge(0.8), aes(x = variable, y = value, fill = ancestry)) +\n",
    "scale_fill_manual(values = group.colors) +\n",
    "\n",
    "theme_bw() +\n",
    "\n",
    "theme(\n",
    "panel.border = element_blank(), \n",
    "panel.grid.major = element_blank(),\n",
    "panel.grid.minor = element_blank(), \n",
    "axis.line = element_line(color = \"black\")\n",
    ") +\n",
    "\n",
    "theme(\n",
    "axis.text.x = element_text(face=\"bold\", size=14),\n",
    "axis.text.y = element_text(face=\"bold\", size=14)\n",
    ") +\n",
    "\n",
    "theme(\n",
    "panel.border = element_blank(), panel.grid.major = element_blank(),\n",
    "panel.grid.minor = element_blank(), axis.line = element_line(color = \"black\")\n",
    ") +\n",
    "\n",
    "theme(\n",
    "axis.title.x = element_text(color = \"black\", size = 20, face = \"bold\"),\n",
    "axis.title.y = element_text(color = \"black\", size = 20, face = \"bold\")\n",
    ") +\n",
    "\n",
    "theme(\n",
    "axis.text=element_text(size = 14, face = \"bold\"),\n",
    ") +\n",
    "\n",
    "theme(\n",
    "legend.title = element_text(size = 14, face = \"bold\"),\n",
    "legend.text = element_text(size = 10, face = \"bold\")\n",
    ") +\n",
    "\n",
    "theme(\n",
    "axis.text.x = element_text(angle = 45, vjust = 0.5, hjust = 0.5)\n",
    ") +\n",
    "\n",
    "xlab(\"Gene\") +\n",
    "ylab(\"Relative Expression\") \n",
    "\n",
    "#Put the exported image into the google bucket\n",
    "setwd('/home/jupyter/Ancestry/figures')\n",
    "ggsave(\"ancestry_association_expression.pdf\", width = 5, height = 3)\n",
    "system(glue::glue(\"\n",
    "cd /home/jupyter/Ancestry/figures\n",
    "gsutil cp ancestry_association_expression.pdf gs://fc-45c0e148-0b1c-4244-9bfc-feb559bbc514\n",
    "\"))"
   ]
  },
  {
   "cell_type": "markdown",
   "metadata": {},
   "source": [
    "Let's make a plot that shows the expression value distribution for all of the ancestry-associated genes."
   ]
  },
  {
   "cell_type": "code",
   "execution_count": 10,
   "metadata": {},
   "outputs": [
    {
     "data": {
      "text/html": [
       "<style>\n",
       ".list-inline {list-style: none; margin:0; padding: 0}\n",
       ".list-inline>li {display: inline-block}\n",
       ".list-inline>li:not(:last-child)::after {content: \"\\00b7\"; padding: 0 .5ex}\n",
       "</style>\n",
       "<ol class=list-inline><li>'EEF2'</li><li>'NUP133'</li><li>'RESP18'</li><li>'ACAN'</li><li>'ADCY3'</li><li>'BTG1'</li><li>'C22orf31'</li><li>'C2orf80'</li><li>'CBFA2T2'</li><li>'CCDC102B'</li><li>'CCDC74B'</li><li>'CCL3'</li><li>'CEP19'</li><li>'CHGB'</li><li>'CLSPN'</li><li>'COX6B1'</li><li>'DCN'</li><li>'DDX47'</li><li>'DND1'</li><li>'ECD'</li><li>'EGFR'</li><li>'FAM25A'</li><li>'FCGR3A'</li><li>'FRG2C'</li><li>'GLYCTK'</li><li>'GRB2'</li><li>'GTPBP3'</li><li>'HCN2'</li><li>'HINT3'</li><li>'HIST1H2AA'</li><li>'HLA'</li><li>'HNF1B'</li><li>'INCENP'</li><li>'ITGA3'</li><li>'ITIH3'</li><li>'KIAA2013'</li><li>'KRTAP3'</li><li>'MATR3'</li><li>'MRTO4'</li><li>'MYH11'</li><li>'NAA40'</li><li>'NIT2'</li><li>'NKAIN4'</li><li>'NOP56'</li><li>'NPEPPS'</li><li>'NPHS1'</li><li>'PDXDC1'</li><li>'PEX11A'</li><li>'PTPN11'</li><li>'QRICH2'</li><li>'RAB21'</li><li>'RETNLB'</li><li>'RHD'</li><li>'RIMS2'</li><li>'RPL3'</li><li>'RPS5'</li><li>'RTP5'</li><li>'SART1'</li><li>'SCN5A'</li><li>'SLC10A5'</li><li>'SLC35B2'</li><li>'SLC38A7'</li><li>'SLC5A11'</li><li>'SNAP23'</li><li>'SPATA6L'</li><li>'SRP14'</li><li>'STX4'</li><li>'STXBP3'</li><li>'TPSD1'</li><li>'TRMT61B'</li><li>'TTC4'</li><li>'TUT1'</li><li>'TXNRD1'</li><li>'UGT2B17'</li><li>'VRK1'</li><li>'WSB2'</li><li>'ZNF675'</li><li>'APEX2'</li><li>'ATRX'</li><li>'C17orf64'</li><li>'COPG1'</li><li>'CSE1L'</li><li>'DEFB108B'</li><li>'ERI1'</li><li>'FAM86C1'</li><li>'IL1RN'</li><li>'KRT14'</li><li>'LPAR6'</li><li>'MDN1'</li><li>'NOMO2'</li><li>'PCBP4'</li><li>'PSPH'</li><li>'RPP30'</li><li>'SERINC2'</li><li>'XYLT2'</li><li>'ZFP62'</li></ol>\n"
      ],
      "text/latex": [
       "\\begin{enumerate*}\n",
       "\\item 'EEF2'\n",
       "\\item 'NUP133'\n",
       "\\item 'RESP18'\n",
       "\\item 'ACAN'\n",
       "\\item 'ADCY3'\n",
       "\\item 'BTG1'\n",
       "\\item 'C22orf31'\n",
       "\\item 'C2orf80'\n",
       "\\item 'CBFA2T2'\n",
       "\\item 'CCDC102B'\n",
       "\\item 'CCDC74B'\n",
       "\\item 'CCL3'\n",
       "\\item 'CEP19'\n",
       "\\item 'CHGB'\n",
       "\\item 'CLSPN'\n",
       "\\item 'COX6B1'\n",
       "\\item 'DCN'\n",
       "\\item 'DDX47'\n",
       "\\item 'DND1'\n",
       "\\item 'ECD'\n",
       "\\item 'EGFR'\n",
       "\\item 'FAM25A'\n",
       "\\item 'FCGR3A'\n",
       "\\item 'FRG2C'\n",
       "\\item 'GLYCTK'\n",
       "\\item 'GRB2'\n",
       "\\item 'GTPBP3'\n",
       "\\item 'HCN2'\n",
       "\\item 'HINT3'\n",
       "\\item 'HIST1H2AA'\n",
       "\\item 'HLA'\n",
       "\\item 'HNF1B'\n",
       "\\item 'INCENP'\n",
       "\\item 'ITGA3'\n",
       "\\item 'ITIH3'\n",
       "\\item 'KIAA2013'\n",
       "\\item 'KRTAP3'\n",
       "\\item 'MATR3'\n",
       "\\item 'MRTO4'\n",
       "\\item 'MYH11'\n",
       "\\item 'NAA40'\n",
       "\\item 'NIT2'\n",
       "\\item 'NKAIN4'\n",
       "\\item 'NOP56'\n",
       "\\item 'NPEPPS'\n",
       "\\item 'NPHS1'\n",
       "\\item 'PDXDC1'\n",
       "\\item 'PEX11A'\n",
       "\\item 'PTPN11'\n",
       "\\item 'QRICH2'\n",
       "\\item 'RAB21'\n",
       "\\item 'RETNLB'\n",
       "\\item 'RHD'\n",
       "\\item 'RIMS2'\n",
       "\\item 'RPL3'\n",
       "\\item 'RPS5'\n",
       "\\item 'RTP5'\n",
       "\\item 'SART1'\n",
       "\\item 'SCN5A'\n",
       "\\item 'SLC10A5'\n",
       "\\item 'SLC35B2'\n",
       "\\item 'SLC38A7'\n",
       "\\item 'SLC5A11'\n",
       "\\item 'SNAP23'\n",
       "\\item 'SPATA6L'\n",
       "\\item 'SRP14'\n",
       "\\item 'STX4'\n",
       "\\item 'STXBP3'\n",
       "\\item 'TPSD1'\n",
       "\\item 'TRMT61B'\n",
       "\\item 'TTC4'\n",
       "\\item 'TUT1'\n",
       "\\item 'TXNRD1'\n",
       "\\item 'UGT2B17'\n",
       "\\item 'VRK1'\n",
       "\\item 'WSB2'\n",
       "\\item 'ZNF675'\n",
       "\\item 'APEX2'\n",
       "\\item 'ATRX'\n",
       "\\item 'C17orf64'\n",
       "\\item 'COPG1'\n",
       "\\item 'CSE1L'\n",
       "\\item 'DEFB108B'\n",
       "\\item 'ERI1'\n",
       "\\item 'FAM86C1'\n",
       "\\item 'IL1RN'\n",
       "\\item 'KRT14'\n",
       "\\item 'LPAR6'\n",
       "\\item 'MDN1'\n",
       "\\item 'NOMO2'\n",
       "\\item 'PCBP4'\n",
       "\\item 'PSPH'\n",
       "\\item 'RPP30'\n",
       "\\item 'SERINC2'\n",
       "\\item 'XYLT2'\n",
       "\\item 'ZFP62'\n",
       "\\end{enumerate*}\n"
      ],
      "text/markdown": [
       "1. 'EEF2'\n",
       "2. 'NUP133'\n",
       "3. 'RESP18'\n",
       "4. 'ACAN'\n",
       "5. 'ADCY3'\n",
       "6. 'BTG1'\n",
       "7. 'C22orf31'\n",
       "8. 'C2orf80'\n",
       "9. 'CBFA2T2'\n",
       "10. 'CCDC102B'\n",
       "11. 'CCDC74B'\n",
       "12. 'CCL3'\n",
       "13. 'CEP19'\n",
       "14. 'CHGB'\n",
       "15. 'CLSPN'\n",
       "16. 'COX6B1'\n",
       "17. 'DCN'\n",
       "18. 'DDX47'\n",
       "19. 'DND1'\n",
       "20. 'ECD'\n",
       "21. 'EGFR'\n",
       "22. 'FAM25A'\n",
       "23. 'FCGR3A'\n",
       "24. 'FRG2C'\n",
       "25. 'GLYCTK'\n",
       "26. 'GRB2'\n",
       "27. 'GTPBP3'\n",
       "28. 'HCN2'\n",
       "29. 'HINT3'\n",
       "30. 'HIST1H2AA'\n",
       "31. 'HLA'\n",
       "32. 'HNF1B'\n",
       "33. 'INCENP'\n",
       "34. 'ITGA3'\n",
       "35. 'ITIH3'\n",
       "36. 'KIAA2013'\n",
       "37. 'KRTAP3'\n",
       "38. 'MATR3'\n",
       "39. 'MRTO4'\n",
       "40. 'MYH11'\n",
       "41. 'NAA40'\n",
       "42. 'NIT2'\n",
       "43. 'NKAIN4'\n",
       "44. 'NOP56'\n",
       "45. 'NPEPPS'\n",
       "46. 'NPHS1'\n",
       "47. 'PDXDC1'\n",
       "48. 'PEX11A'\n",
       "49. 'PTPN11'\n",
       "50. 'QRICH2'\n",
       "51. 'RAB21'\n",
       "52. 'RETNLB'\n",
       "53. 'RHD'\n",
       "54. 'RIMS2'\n",
       "55. 'RPL3'\n",
       "56. 'RPS5'\n",
       "57. 'RTP5'\n",
       "58. 'SART1'\n",
       "59. 'SCN5A'\n",
       "60. 'SLC10A5'\n",
       "61. 'SLC35B2'\n",
       "62. 'SLC38A7'\n",
       "63. 'SLC5A11'\n",
       "64. 'SNAP23'\n",
       "65. 'SPATA6L'\n",
       "66. 'SRP14'\n",
       "67. 'STX4'\n",
       "68. 'STXBP3'\n",
       "69. 'TPSD1'\n",
       "70. 'TRMT61B'\n",
       "71. 'TTC4'\n",
       "72. 'TUT1'\n",
       "73. 'TXNRD1'\n",
       "74. 'UGT2B17'\n",
       "75. 'VRK1'\n",
       "76. 'WSB2'\n",
       "77. 'ZNF675'\n",
       "78. 'APEX2'\n",
       "79. 'ATRX'\n",
       "80. 'C17orf64'\n",
       "81. 'COPG1'\n",
       "82. 'CSE1L'\n",
       "83. 'DEFB108B'\n",
       "84. 'ERI1'\n",
       "85. 'FAM86C1'\n",
       "86. 'IL1RN'\n",
       "87. 'KRT14'\n",
       "88. 'LPAR6'\n",
       "89. 'MDN1'\n",
       "90. 'NOMO2'\n",
       "91. 'PCBP4'\n",
       "92. 'PSPH'\n",
       "93. 'RPP30'\n",
       "94. 'SERINC2'\n",
       "95. 'XYLT2'\n",
       "96. 'ZFP62'\n",
       "\n",
       "\n"
      ],
      "text/plain": [
       " [1] \"EEF2\"      \"NUP133\"    \"RESP18\"    \"ACAN\"      \"ADCY3\"     \"BTG1\"     \n",
       " [7] \"C22orf31\"  \"C2orf80\"   \"CBFA2T2\"   \"CCDC102B\"  \"CCDC74B\"   \"CCL3\"     \n",
       "[13] \"CEP19\"     \"CHGB\"      \"CLSPN\"     \"COX6B1\"    \"DCN\"       \"DDX47\"    \n",
       "[19] \"DND1\"      \"ECD\"       \"EGFR\"      \"FAM25A\"    \"FCGR3A\"    \"FRG2C\"    \n",
       "[25] \"GLYCTK\"    \"GRB2\"      \"GTPBP3\"    \"HCN2\"      \"HINT3\"     \"HIST1H2AA\"\n",
       "[31] \"HLA\"       \"HNF1B\"     \"INCENP\"    \"ITGA3\"     \"ITIH3\"     \"KIAA2013\" \n",
       "[37] \"KRTAP3\"    \"MATR3\"     \"MRTO4\"     \"MYH11\"     \"NAA40\"     \"NIT2\"     \n",
       "[43] \"NKAIN4\"    \"NOP56\"     \"NPEPPS\"    \"NPHS1\"     \"PDXDC1\"    \"PEX11A\"   \n",
       "[49] \"PTPN11\"    \"QRICH2\"    \"RAB21\"     \"RETNLB\"    \"RHD\"       \"RIMS2\"    \n",
       "[55] \"RPL3\"      \"RPS5\"      \"RTP5\"      \"SART1\"     \"SCN5A\"     \"SLC10A5\"  \n",
       "[61] \"SLC35B2\"   \"SLC38A7\"   \"SLC5A11\"   \"SNAP23\"    \"SPATA6L\"   \"SRP14\"    \n",
       "[67] \"STX4\"      \"STXBP3\"    \"TPSD1\"     \"TRMT61B\"   \"TTC4\"      \"TUT1\"     \n",
       "[73] \"TXNRD1\"    \"UGT2B17\"   \"VRK1\"      \"WSB2\"      \"ZNF675\"    \"APEX2\"    \n",
       "[79] \"ATRX\"      \"C17orf64\"  \"COPG1\"     \"CSE1L\"     \"DEFB108B\"  \"ERI1\"     \n",
       "[85] \"FAM86C1\"   \"IL1RN\"     \"KRT14\"     \"LPAR6\"     \"MDN1\"      \"NOMO2\"    \n",
       "[91] \"PCBP4\"     \"PSPH\"      \"RPP30\"     \"SERINC2\"   \"XYLT2\"     \"ZFP62\"    "
      ]
     },
     "metadata": {},
     "output_type": "display_data"
    },
    {
     "data": {
      "text/html": [
       "96"
      ],
      "text/latex": [
       "96"
      ],
      "text/markdown": [
       "96"
      ],
      "text/plain": [
       "[1] 96"
      ]
     },
     "metadata": {},
     "output_type": "display_data"
    }
   ],
   "source": [
    "#Get a list of all of the significant genes\n",
    "setwd('/home/jupyter/Ancestry/ccle_ancestry_analysis')\n",
    "ancestry.genes = read.table(\"ancestry.associated.gene.associations.txt\", sep = \"\\t\", header = T) %>%\n",
    "filter(FDR < 0.05) %>%\n",
    "pull(gene) %>%\n",
    "unique()\n",
    "\n",
    "ancestry.genes\n",
    "length(ancestry.genes)"
   ]
  },
  {
   "cell_type": "code",
   "execution_count": 45,
   "metadata": {},
   "outputs": [
    {
     "name": "stderr",
     "output_type": "stream",
     "text": [
      "`stat_bin()` using `bins = 30`. Pick better value with `binwidth`.\n",
      "\n",
      "`stat_bin()` using `bins = 30`. Pick better value with `binwidth`.\n",
      "\n"
     ]
    },
    {
     "data": {
      "image/png": "[encoded data removed]",
      "text/plain": [
       "plot without title"
      ]
     },
     "metadata": {
      "image/png": {
       "height": 420,
       "width": 420
      }
     },
     "output_type": "display_data"
    }
   ],
   "source": [
    "#Get all of the genes that we want to keep\n",
    "genes.to.keep = intersect(ancestry.genes, colnames(ccle.expression))\n",
    "\n",
    "#Get the median expression value for all of the ancestry-associated genes.\n",
    "ancestry.expression.medians = ccle.expression %>%\n",
    "select(all_of(genes.to.keep)) %>%\n",
    "apply(2, median) %>%\n",
    "data.frame() %>%\n",
    "rename(\"expression\" = 1)\n",
    "\n",
    "ancestry.expression.medians %>%\n",
    "ggplot(aes(x = expression)) +\n",
    "geom_histogram(aes(y=..density..), color = rgb(24, 69, 59, maxColorValue = 255), fill = rgb(24, 69, 59, maxColorValue = 255)) +\n",
    "geom_density(alpha=.2, fill = rgb(24, 69, 59, maxColorValue = 255)) +\n",
    "\n",
    "theme_bw() +\n",
    "\n",
    "theme(\n",
    "panel.border = element_blank(), \n",
    "panel.grid.major = element_blank(),\n",
    "panel.grid.minor = element_blank(), \n",
    "axis.line = element_line(color = \"black\")\n",
    ") +\n",
    "\n",
    "theme(\n",
    "axis.text.x = element_text(face=\"bold\", size=14),\n",
    "axis.text.y = element_text(face=\"bold\", size=14)\n",
    ") +\n",
    "\n",
    "theme(\n",
    "panel.border = element_blank(), panel.grid.major = element_blank(),\n",
    "panel.grid.minor = element_blank(), axis.line = element_line(color = \"black\")\n",
    ") +\n",
    "\n",
    "theme(\n",
    "axis.title.x = element_text(color = \"black\", size = 20, face = \"bold\"),\n",
    "axis.title.y = element_text(color = \"black\", size = 20, face = \"bold\")\n",
    ") +\n",
    "\n",
    "theme(\n",
    "axis.text=element_text(size = 14, face = \"bold\"),\n",
    ") +\n",
    "\n",
    "theme(\n",
    "legend.title = element_text(size = 14, face = \"bold\"),\n",
    "legend.text = element_text(size = 10, face = \"bold\")\n",
    ") +\n",
    "\n",
    "scale_y_continuous(expand = c(0,0)) +\n",
    "scale_x_continuous(expand = c(0,0)) +\n",
    "\n",
    "xlab(\"Gene Expression\") +\n",
    "ylab(\"Density\") \n",
    "\n",
    "#Put the exported image into the google bucket\n",
    "setwd('/home/jupyter/Ancestry/figures')\n",
    "ggsave(\"all_expression_values.pdf\", width = 5, height = 3)\n",
    "system(glue::glue(\"\n",
    "cd /home/jupyter/Ancestry/figures\n",
    "gsutil cp all_expression_values.pdf gs://fc-45c0e148-0b1c-4244-9bfc-feb559bbc514\n",
    "\"))\n"
   ]
  },
  {
   "cell_type": "code",
   "execution_count": 52,
   "metadata": {},
   "outputs": [
    {
     "data": {
      "text/html": [
       "0.597826086956522"
      ],
      "text/latex": [
       "0.597826086956522"
      ],
      "text/markdown": [
       "0.597826086956522"
      ],
      "text/plain": [
       "[1] 0.5978261"
      ]
     },
     "metadata": {},
     "output_type": "display_data"
    }
   ],
   "source": [
    "#Calculate the number of genes that have a median expression value above 2.5\n",
    "above.value = ancestry.expression.medians[ancestry.expression.medians > 2.5]\n",
    "length(above.value)/nrow(ancestry.expression.medians)"
   ]
  },
  {
   "cell_type": "code",
   "execution_count": null,
   "metadata": {},
   "outputs": [],
   "source": []
  },
  {
   "cell_type": "code",
   "execution_count": null,
   "metadata": {},
   "outputs": [],
   "source": []
  },
  {
   "cell_type": "code",
   "execution_count": null,
   "metadata": {},
   "outputs": [],
   "source": []
  }
 ],
 "metadata": {
  "kernelspec": {
   "display_name": "R",
   "language": "R",
   "name": "ir"
  },
  "language_info": {
   "codemirror_mode": "r",
   "file_extension": ".r",
   "mimetype": "text/x-r-source",
   "name": "R",
   "pygments_lexer": "r",
   "version": "4.1.2"
  },
  "toc": {
   "base_numbering": 1,
   "nav_menu": {},
   "number_sections": true,
   "sideBar": true,
   "skip_h1_title": false,
   "title_cell": "Table of Contents",
   "title_sidebar": "Contents",
   "toc_cell": false,
   "toc_position": {},
   "toc_section_display": true,
   "toc_window_display": false
  }
 },
 "nbformat": 4,
 "nbformat_minor": 2
}
