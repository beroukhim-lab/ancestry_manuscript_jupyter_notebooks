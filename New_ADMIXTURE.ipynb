{
 "cells": [
  {
   "cell_type": "markdown",
   "metadata": {},
   "source": [
    "# Set up the environment"
   ]
  },
  {
   "cell_type": "code",
   "execution_count": 6,
   "metadata": {},
   "outputs": [],
   "source": [
    "#Arguments/Parameters\n",
    "\n",
    "working_dir = \"/home/jupyter/notebooks/Ancestry\"\n",
    "workspace_bucket = Sys.getenv('WORKSPACE_BUCKET')"
   ]
  },
  {
   "cell_type": "code",
   "execution_count": 7,
   "metadata": {},
   "outputs": [],
   "source": [
    "#Set up the environment\n",
    "\n",
    "#load packages\n",
    "library(tidyverse)\n",
    "library(reshape2)\n",
    "\n",
    "#Define functions\n",
    "show_msg <- function(x){ \n",
    "    print(x)\n",
    "    flush.console()\n",
    "}\n"
   ]
  },
  {
   "cell_type": "code",
   "execution_count": null,
   "metadata": {},
   "outputs": [],
   "source": [
    "#Download and unpack PLINK\n",
    "#This may error if the install link changes. You may need to manually update it by searching for it here: https://www.cog-genomics.org/plink/2.0/\n",
    "system(glue::glue(\"\n",
    "mkdir {working_dir}/software/plink2\n",
    "cd {working_dir}/software/plink2\n",
    "wget https://s3.amazonaws.com/plink2-assets/plink2_linux_avx2_20210920.zip\n",
    "unzip plink2_linux_avx2_20210920.zip\n",
    "\"))"
   ]
  },
  {
   "cell_type": "code",
   "execution_count": 3,
   "metadata": {},
   "outputs": [],
   "source": [
    "#Download and install ADMIXTURE\n",
    "system(glue::glue(\"\n",
    "cd {working_dir}/software\n",
    "wget https://dalexander.github.io/admixture/binaries/admixture_linux-1.3.0.tar.gz\n",
    "tar -xvzf admixture_linux-1.3.0.tar.gz\n",
    "mv dist admixture\n",
    "rm admixture_linux-1.3.0.tar.gz\n",
    "\"))"
   ]
  },
  {
   "cell_type": "code",
   "execution_count": 4,
   "metadata": {},
   "outputs": [],
   "source": [
    "#Create directory structure\n",
    "\n",
    "system(glue::glue(\"\n",
    "cd {working_dir}\n",
    "\n",
    "#Create the directory to store the liftover files\n",
    "if [ ! -d '{working_dir}/admixture' ] \n",
    "then\n",
    "mkdir admixture\n",
    "fi\n",
    "\n",
    "\"))"
   ]
  },
  {
   "cell_type": "markdown",
   "metadata": {},
   "source": [
    "# Prepare the data"
   ]
  },
  {
   "cell_type": "markdown",
   "metadata": {},
   "source": [
    "The data was already downloaded and pre-processed in the New_Download_Process_CCLE_VCF notebook. We want the data that has split genotypes but is not phased. So just transfer that data from the rfmix dataset to this notebook. \n",
    "\n",
    "Also, use the data that has not undergone a MAF filter step. Instead, first pre-filter the 1000 genomes data to only include SNPs with a MAF > 0.01. The logic for this is that if we perform a MAF filtering step on the CCLE data, we are affecting rarer ancestry groups (AFR, AMR, SAS) more than common ancestry groups (EAS, EUR), since the rare ancestry groups only make up a minor subset of the data. If we filter the whole dataset by MAF, then we will clip off more AFR, AMR, and SAS SNPs than EAS and EUR SNPs."
   ]
  },
  {
   "cell_type": "markdown",
   "metadata": {},
   "source": [
    "ADMIXTURE requires the reference and the target data to have intersecting SNPs. Use bcftools to calculate the intersection"
   ]
  },
  {
   "cell_type": "code",
   "execution_count": 5,
   "metadata": {},
   "outputs": [],
   "source": [
    "#First, perform MAF filtering on the 1000 genomes data.\n",
    "#Put this output into the admixture folder to make life a little easier.\n",
    "#This data has been pre-processed a bit as part of the rfmix pipeline. So just use those data\n",
    "chromosomes = seq(from = 1, to = 22, by = 1)\n",
    "for(chr in chromosomes){\n",
    "system(glue::glue(\"\n",
    "cp {working_dir}/software/rfmix/hg38/1kg.ogsamples.chr{chr}.vcf.gz {working_dir}/admixture\n",
    "cp {working_dir}/software/rfmix/hg38/1kg.ogsamples.chr{chr}.vcf.gz.tbi {working_dir}/admixture\n",
    "\"))\n",
    "}"
   ]
  },
  {
   "cell_type": "code",
   "execution_count": 6,
   "metadata": {},
   "outputs": [],
   "source": [
    "#Copy the CCLE data to the same directory\n",
    "chromosomes = seq(from = 1, to = 22, by = 1)\n",
    "for(chr in chromosomes){\n",
    "system(glue::glue(\"\n",
    "cp {working_dir}/raw_data/new_ccle/split.hg38.new.ccle.vcf.gz {working_dir}/admixture\n",
    "cp {working_dir}/raw_data/new_ccle/split.hg38.new.ccle.vcf.gz.tbi {working_dir}/admixture\n",
    "\"))\n",
    "}"
   ]
  },
  {
   "cell_type": "code",
   "execution_count": null,
   "metadata": {},
   "outputs": [],
   "source": [
    "#Split the data into different chromosomes to speed things up\n",
    "chromosomes = c(seq(from = 1, to = 22, by = 1), \"X\")\n",
    "\n",
    "for(chr in chromosomes){\n",
    "system(glue::glue(\"\n",
    "cd {working_dir}/admixture\n",
    "{working_dir}/software/bcftools/bcftools view -r chr{chr} split.hg38.new.ccle.vcf.gz -Oz -o chr{chr}.hg38.new.ccle.vcf.gz\n",
    "{working_dir}/software/tabix-0.2.6/tabix -p vcf {working_dir}/raw_data/new_ccle/chr{chr}.hg38.new.ccle.vcf.gz\n",
    "\"))\n",
    "}\n",
    "\n"
   ]
  },
  {
   "cell_type": "code",
   "execution_count": null,
   "metadata": {},
   "outputs": [],
   "source": [
    "#Now calculate the intersection between the ccle variant calls and the 1kg variant calls\n",
    "chromosomes = seq(from = 1, to = 22, by = 1)\n",
    "\n",
    "for(chr in chromosomes){\n",
    "system(glue::glue(\"\n",
    "cd {working_dir}/admixture\n",
    "{working_dir}/software/bcftools/bcftools isec -p {working_dir}/admixture/isec_chr{chr} -n=2 -Oz 1kg.ogsamples.chr{chr}.vcf.gz chr{chr}.hg38.new.ccle.vcf.gz \n",
    "\"))"
   ]
  },
  {
   "cell_type": "code",
   "execution_count": null,
   "metadata": {},
   "outputs": [],
   "source": [
    "#Merge all of the outputs back together into a single dataset\n",
    "cd /home/jupyter/notebooks/Ancestry/admixture\n",
    "/home/jupyter/notebooks/Ancestry/software/bcftools/bcftools concat isec_chr{1..22}/0000.vcf.gz --threads {num.threads} -Oz -o merged.1kg.admixture.reference.vcf.gz &\n",
    "/home/jupyter/notebooks/Ancestry/software/bcftools/bcftools concat isec_chr{1..22}/0001.vcf.gz --threads {num.threads} -Oz -o merged.ccle.admixture.target.vcf.gz "
   ]
  },
  {
   "cell_type": "code",
   "execution_count": 14,
   "metadata": {},
   "outputs": [],
   "source": [
    "#Convert to plink format\n",
    "system(glue::glue(\"\n",
    "cd {working_dir}/admixture\n",
    "{working_dir}/software/plink2/plink2 --vcf merged.1kg.admixture.reference.vcf.gz --make-bed --out merged.1kg.admixture.reference &\n",
    "{working_dir}/software/plink2/plink2 --vcf merged.ccle.admixture.target.vcf.gz --make-bed --out merged.ccle.admixture.target\n",
    "\"))"
   ]
  },
  {
   "cell_type": "markdown",
   "metadata": {},
   "source": [
    "# Run ADMIXTURE!"
   ]
  },
  {
   "cell_type": "markdown",
   "metadata": {},
   "source": [
    "We want to run ADMIXTURE in supervised mode. So first, we need to create a sample annotation file"
   ]
  },
  {
   "cell_type": "code",
   "execution_count": 20,
   "metadata": {},
   "outputs": [],
   "source": [
    "#Extract the sample names from the vcf file \n",
    "system(glue::glue(\"\n",
    "cd {working_dir}/admixture\n",
    "{working_dir}/software/bcftools/bcftools query -l merged.1kg.admixture.reference.vcf.gz > 1kg.sample.order\n",
    "\"))\n",
    "\n",
    "#Load in the sample names\n",
    "paste(working_dir, \"/admixture\", sep = \"\") %>% setwd()\n",
    "sample.names = read.table('1kg.sample.order', sep = \"\\t\") %>%\n",
    "pull(1)\n",
    "\n",
    "\n",
    "#Load in the sample annotation file\n",
    "paste(working_dir, \"/admixture\", sep = \"\") %>% setwd()\n",
    "sample.map = read.table('1kg_sample_map', sep = \"\\t\") %>%\n",
    "rename(\"name\" = 1, \"ancestry\" = 2)\n",
    "\n",
    "\n",
    "#Create the popfile\n",
    "pop.file = sample.names %>%\n",
    "plyr::mapvalues(from = sample.map$name, to = sample.map$ancestry, warn_missing = FALSE)\n",
    "write.table(pop.file, \"merged.1kg.admixture.reference.pop\", sep = \"\\t\", col.names = FALSE, row.names = FALSE, quote = FALSE)"
   ]
  },
  {
   "cell_type": "markdown",
   "metadata": {},
   "source": [
    "Now we can actually run ADMIXTURE"
   ]
  },
  {
   "cell_type": "code",
   "execution_count": 23,
   "metadata": {},
   "outputs": [],
   "source": [
    "#First run admixture on the reference panel\n",
    "\n",
    "#Pipe portion. Just ignore. This is here so that the syntax of the below code works\n",
    "code.chunk = \"tee log5.out\"\n",
    "\n",
    "system(glue::glue(\"\n",
    "cd {working_dir}/admixture\n",
    "{working_dir}/software/admixture/admixture_linux-1.3.0/admixture --cv --supervised -j60 merged.1kg.admixture.reference.bed 5 | {code.chunk}\n",
    "\"))"
   ]
  },
  {
   "cell_type": "code",
   "execution_count": 24,
   "metadata": {},
   "outputs": [],
   "source": [
    "#Now project the CCLE samples onto the gnomad samples\n",
    "system(glue::glue(\"\n",
    "cd {working_dir}/admixture\n",
    "cp merged.1kg.admixture.reference.5.P merged.ccle.admixture.target.5.P.in\n",
    "{working_dir}/software/admixture/admixture_linux-1.3.0/admixture -j30 -P merged.ccle.admixture.target.bed 5\n",
    "\"))"
   ]
  },
  {
   "cell_type": "code",
   "execution_count": null,
   "metadata": {},
   "outputs": [],
   "source": []
  }
 ],
 "metadata": {
  "kernelspec": {
   "display_name": "R",
   "language": "R",
   "name": "ir"
  },
  "language_info": {
   "codemirror_mode": "r",
   "file_extension": ".r",
   "mimetype": "text/x-r-source",
   "name": "R",
   "pygments_lexer": "r",
   "version": "4.1.1"
  },
  "toc": {
   "base_numbering": 1,
   "nav_menu": {},
   "number_sections": true,
   "sideBar": true,
   "skip_h1_title": false,
   "title_cell": "Table of Contents",
   "title_sidebar": "Contents",
   "toc_cell": false,
   "toc_position": {},
   "toc_section_display": true,
   "toc_window_display": false
  }
 },
 "nbformat": 4,
 "nbformat_minor": 2
}
