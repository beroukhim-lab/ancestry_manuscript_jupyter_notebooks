{
 "cells": [
  {
   "cell_type": "markdown",
   "metadata": {},
   "source": [
    "The purpose of this notebook is to calculate the total number of genes that are affected by this artifact in at least one depmap cell line."
   ]
  },
  {
   "cell_type": "code",
   "execution_count": 55,
   "metadata": {},
   "outputs": [],
   "source": [
    "#Define arguments/parameters\n",
    "working_dir = \"/home/jupyter/notebooks/Ancestry\"\n",
    "workspace_bucket = Sys.getenv('WORKSPACE_BUCKET')\n",
    "out_directory = \"avana14\" #the output directory name"
   ]
  },
  {
   "cell_type": "code",
   "execution_count": 56,
   "metadata": {},
   "outputs": [],
   "source": [
    "#Set up the environment\n",
    "\n",
    "#load packages\n",
    "library(dplyr)\n",
    "library(tidyverse)\n",
    "library(stringr)\n",
    "library(plyr)\n",
    "\n",
    "#Define functions\n",
    "show_msg <- function(x){ \n",
    "    print(x)\n",
    "    flush.console()\n",
    "}"
   ]
  },
  {
   "cell_type": "code",
   "execution_count": 57,
   "metadata": {},
   "outputs": [
    {
     "data": {
      "text/html": [
       "<table class=\"dataframe\">\n",
       "<caption>A data.frame: 10 × 10</caption>\n",
       "<thead>\n",
       "\t<tr><th></th><th scope=col>gene</th><th scope=col>sgrna</th><th scope=col>chr</th><th scope=col>pos</th><th scope=col>ACH.002214</th><th scope=col>ACH.001020</th><th scope=col>ACH.000317</th><th scope=col>ACH.000382</th><th scope=col>ACH.000172</th><th scope=col>ACH.000527</th></tr>\n",
       "\t<tr><th></th><th scope=col>&lt;chr&gt;</th><th scope=col>&lt;chr&gt;</th><th scope=col>&lt;chr&gt;</th><th scope=col>&lt;int&gt;</th><th scope=col>&lt;int&gt;</th><th scope=col>&lt;int&gt;</th><th scope=col>&lt;int&gt;</th><th scope=col>&lt;int&gt;</th><th scope=col>&lt;int&gt;</th><th scope=col>&lt;int&gt;</th></tr>\n",
       "</thead>\n",
       "<tbody>\n",
       "\t<tr><th scope=row>1</th><td>OR4F17</td><td>TCTCCATTCGGTGAGCCAGT</td><td>chr1</td><td> 69534</td><td>0</td><td>0</td><td>0</td><td>0</td><td>0</td><td>0</td></tr>\n",
       "\t<tr><th scope=row>2</th><td>SAMD11</td><td>GCTTGTGTCAGCACTGAGCG</td><td>chr1</td><td>939354</td><td>0</td><td>0</td><td>0</td><td>0</td><td>0</td><td>0</td></tr>\n",
       "\t<tr><th scope=row>3</th><td>SAMD11</td><td>GCTTGTGTCAGCACTGAGCG</td><td>chr1</td><td>939355</td><td>0</td><td>0</td><td>0</td><td>0</td><td>0</td><td>0</td></tr>\n",
       "\t<tr><th scope=row>4</th><td>SAMD11</td><td>GCTTGTGTCAGCACTGAGCG</td><td>chr1</td><td>939356</td><td>0</td><td>0</td><td>0</td><td>0</td><td>0</td><td>0</td></tr>\n",
       "\t<tr><th scope=row>5</th><td>SAMD11</td><td>GCTTGTGTCAGCACTGAGCG</td><td>chr1</td><td>939358</td><td>0</td><td>0</td><td>0</td><td>0</td><td>0</td><td>0</td></tr>\n",
       "\t<tr><th scope=row>6</th><td>NOC2L </td><td>CCATCTCTCAACCATGGCGA</td><td>chr1</td><td>956930</td><td>0</td><td>0</td><td>0</td><td>0</td><td>0</td><td>0</td></tr>\n",
       "\t<tr><th scope=row>7</th><td>KLHL17</td><td>GCCCGCCTCCTGCAGCCCCG</td><td>chr1</td><td>961286</td><td>0</td><td>0</td><td>0</td><td>0</td><td>0</td><td>0</td></tr>\n",
       "\t<tr><th scope=row>8</th><td>KLHL17</td><td>GCCCGCCTCCTGCAGCCCCG</td><td>chr1</td><td>961297</td><td>0</td><td>0</td><td>0</td><td>0</td><td>0</td><td>0</td></tr>\n",
       "\t<tr><th scope=row>9</th><td>KLHL17</td><td>GCGTGGCCCACAACTCCAAG</td><td>chr1</td><td>961388</td><td>0</td><td>0</td><td>0</td><td>0</td><td>0</td><td>0</td></tr>\n",
       "\t<tr><th scope=row>10</th><td>KLHL17</td><td>GCGTGGCCCACAACTCCAAG</td><td>chr1</td><td>961395</td><td>0</td><td>0</td><td>0</td><td>0</td><td>0</td><td>0</td></tr>\n",
       "</tbody>\n",
       "</table>\n"
      ],
      "text/latex": [
       "A data.frame: 10 × 10\n",
       "\\begin{tabular}{r|llllllllll}\n",
       "  & gene & sgrna & chr & pos & ACH.002214 & ACH.001020 & ACH.000317 & ACH.000382 & ACH.000172 & ACH.000527\\\\\n",
       "  & <chr> & <chr> & <chr> & <int> & <int> & <int> & <int> & <int> & <int> & <int>\\\\\n",
       "\\hline\n",
       "\t1 & OR4F17 & TCTCCATTCGGTGAGCCAGT & chr1 &  69534 & 0 & 0 & 0 & 0 & 0 & 0\\\\\n",
       "\t2 & SAMD11 & GCTTGTGTCAGCACTGAGCG & chr1 & 939354 & 0 & 0 & 0 & 0 & 0 & 0\\\\\n",
       "\t3 & SAMD11 & GCTTGTGTCAGCACTGAGCG & chr1 & 939355 & 0 & 0 & 0 & 0 & 0 & 0\\\\\n",
       "\t4 & SAMD11 & GCTTGTGTCAGCACTGAGCG & chr1 & 939356 & 0 & 0 & 0 & 0 & 0 & 0\\\\\n",
       "\t5 & SAMD11 & GCTTGTGTCAGCACTGAGCG & chr1 & 939358 & 0 & 0 & 0 & 0 & 0 & 0\\\\\n",
       "\t6 & NOC2L  & CCATCTCTCAACCATGGCGA & chr1 & 956930 & 0 & 0 & 0 & 0 & 0 & 0\\\\\n",
       "\t7 & KLHL17 & GCCCGCCTCCTGCAGCCCCG & chr1 & 961286 & 0 & 0 & 0 & 0 & 0 & 0\\\\\n",
       "\t8 & KLHL17 & GCCCGCCTCCTGCAGCCCCG & chr1 & 961297 & 0 & 0 & 0 & 0 & 0 & 0\\\\\n",
       "\t9 & KLHL17 & GCGTGGCCCACAACTCCAAG & chr1 & 961388 & 0 & 0 & 0 & 0 & 0 & 0\\\\\n",
       "\t10 & KLHL17 & GCGTGGCCCACAACTCCAAG & chr1 & 961395 & 0 & 0 & 0 & 0 & 0 & 0\\\\\n",
       "\\end{tabular}\n"
      ],
      "text/markdown": [
       "\n",
       "A data.frame: 10 × 10\n",
       "\n",
       "| <!--/--> | gene &lt;chr&gt; | sgrna &lt;chr&gt; | chr &lt;chr&gt; | pos &lt;int&gt; | ACH.002214 &lt;int&gt; | ACH.001020 &lt;int&gt; | ACH.000317 &lt;int&gt; | ACH.000382 &lt;int&gt; | ACH.000172 &lt;int&gt; | ACH.000527 &lt;int&gt; |\n",
       "|---|---|---|---|---|---|---|---|---|---|---|\n",
       "| 1 | OR4F17 | TCTCCATTCGGTGAGCCAGT | chr1 |  69534 | 0 | 0 | 0 | 0 | 0 | 0 |\n",
       "| 2 | SAMD11 | GCTTGTGTCAGCACTGAGCG | chr1 | 939354 | 0 | 0 | 0 | 0 | 0 | 0 |\n",
       "| 3 | SAMD11 | GCTTGTGTCAGCACTGAGCG | chr1 | 939355 | 0 | 0 | 0 | 0 | 0 | 0 |\n",
       "| 4 | SAMD11 | GCTTGTGTCAGCACTGAGCG | chr1 | 939356 | 0 | 0 | 0 | 0 | 0 | 0 |\n",
       "| 5 | SAMD11 | GCTTGTGTCAGCACTGAGCG | chr1 | 939358 | 0 | 0 | 0 | 0 | 0 | 0 |\n",
       "| 6 | NOC2L  | CCATCTCTCAACCATGGCGA | chr1 | 956930 | 0 | 0 | 0 | 0 | 0 | 0 |\n",
       "| 7 | KLHL17 | GCCCGCCTCCTGCAGCCCCG | chr1 | 961286 | 0 | 0 | 0 | 0 | 0 | 0 |\n",
       "| 8 | KLHL17 | GCCCGCCTCCTGCAGCCCCG | chr1 | 961297 | 0 | 0 | 0 | 0 | 0 | 0 |\n",
       "| 9 | KLHL17 | GCGTGGCCCACAACTCCAAG | chr1 | 961388 | 0 | 0 | 0 | 0 | 0 | 0 |\n",
       "| 10 | KLHL17 | GCGTGGCCCACAACTCCAAG | chr1 | 961395 | 0 | 0 | 0 | 0 | 0 | 0 |\n",
       "\n"
      ],
      "text/plain": [
       "   gene   sgrna                chr  pos    ACH.002214 ACH.001020 ACH.000317\n",
       "1  OR4F17 TCTCCATTCGGTGAGCCAGT chr1  69534 0          0          0         \n",
       "2  SAMD11 GCTTGTGTCAGCACTGAGCG chr1 939354 0          0          0         \n",
       "3  SAMD11 GCTTGTGTCAGCACTGAGCG chr1 939355 0          0          0         \n",
       "4  SAMD11 GCTTGTGTCAGCACTGAGCG chr1 939356 0          0          0         \n",
       "5  SAMD11 GCTTGTGTCAGCACTGAGCG chr1 939358 0          0          0         \n",
       "6  NOC2L  CCATCTCTCAACCATGGCGA chr1 956930 0          0          0         \n",
       "7  KLHL17 GCCCGCCTCCTGCAGCCCCG chr1 961286 0          0          0         \n",
       "8  KLHL17 GCCCGCCTCCTGCAGCCCCG chr1 961297 0          0          0         \n",
       "9  KLHL17 GCGTGGCCCACAACTCCAAG chr1 961388 0          0          0         \n",
       "10 KLHL17 GCGTGGCCCACAACTCCAAG chr1 961395 0          0          0         \n",
       "   ACH.000382 ACH.000172 ACH.000527\n",
       "1  0          0          0         \n",
       "2  0          0          0         \n",
       "3  0          0          0         \n",
       "4  0          0          0         \n",
       "5  0          0          0         \n",
       "6  0          0          0         \n",
       "7  0          0          0         \n",
       "8  0          0          0         \n",
       "9  0          0          0         \n",
       "10 0          0          0         "
      ]
     },
     "metadata": {},
     "output_type": "display_data"
    },
    {
     "data": {
      "text/html": [
       "<style>\n",
       ".list-inline {list-style: none; margin:0; padding: 0}\n",
       ".list-inline>li {display: inline-block}\n",
       ".list-inline>li:not(:last-child)::after {content: \"\\00b7\"; padding: 0 .5ex}\n",
       "</style>\n",
       "<ol class=list-inline><li>79727</li><li>1760</li></ol>\n"
      ],
      "text/latex": [
       "\\begin{enumerate*}\n",
       "\\item 79727\n",
       "\\item 1760\n",
       "\\end{enumerate*}\n"
      ],
      "text/markdown": [
       "1. 79727\n",
       "2. 1760\n",
       "\n",
       "\n"
      ],
      "text/plain": [
       "[1] 79727  1760"
      ]
     },
     "metadata": {},
     "output_type": "display_data"
    }
   ],
   "source": [
    "#Load in the depmap avana subset data matrix\n",
    "paste(working_dir, \"/raw_data/depmap/\", out_directory, sep = \"\") %>% setwd()\n",
    "avana.subset <- read.table(\"depmap_avana_collapsed_guide_snp_matrix.txt\", header = T, sep = \"\\t\")\n",
    "avana.subset[1:10, 1:10]\n",
    "dim(avana.subset)"
   ]
  },
  {
   "cell_type": "code",
   "execution_count": 58,
   "metadata": {},
   "outputs": [
    {
     "data": {
      "text/html": [
       "<style>\n",
       ".list-inline {list-style: none; margin:0; padding: 0}\n",
       ".list-inline>li {display: inline-block}\n",
       ".list-inline>li:not(:last-child)::after {content: \"\\00b7\"; padding: 0 .5ex}\n",
       "</style>\n",
       "<ol class=list-inline><li>859</li><li>18026</li></ol>\n"
      ],
      "text/latex": [
       "\\begin{enumerate*}\n",
       "\\item 859\n",
       "\\item 18026\n",
       "\\end{enumerate*}\n"
      ],
      "text/markdown": [
       "1. 859\n",
       "2. 18026\n",
       "\n",
       "\n"
      ],
      "text/plain": [
       "[1]   859 18026"
      ]
     },
     "metadata": {},
     "output_type": "display_data"
    },
    {
     "data": {
      "text/html": [
       "<table class=\"dataframe\">\n",
       "<caption>A data.frame: 10 × 10</caption>\n",
       "<thead>\n",
       "\t<tr><th></th><th scope=col>DepMap_ID</th><th scope=col>A1BG..1.</th><th scope=col>A1CF..29974.</th><th scope=col>A2M..2.</th><th scope=col>A2ML1..144568.</th><th scope=col>A3GALT2..127550.</th><th scope=col>A4GALT..53947.</th><th scope=col>A4GNT..51146.</th><th scope=col>AAAS..8086.</th><th scope=col>AACS..65985.</th></tr>\n",
       "\t<tr><th></th><th scope=col>&lt;chr&gt;</th><th scope=col>&lt;dbl&gt;</th><th scope=col>&lt;dbl&gt;</th><th scope=col>&lt;dbl&gt;</th><th scope=col>&lt;dbl&gt;</th><th scope=col>&lt;dbl&gt;</th><th scope=col>&lt;dbl&gt;</th><th scope=col>&lt;dbl&gt;</th><th scope=col>&lt;dbl&gt;</th><th scope=col>&lt;dbl&gt;</th></tr>\n",
       "</thead>\n",
       "<tbody>\n",
       "\t<tr><th scope=row>1</th><td>ACH-000004</td><td> 0.085182601</td><td> 0.0311078975</td><td>-0.229675206</td><td>-0.019110816</td><td> 0.13843968</td><td>-0.11563144</td><td> 0.140267813</td><td>-0.3509937</td><td> 0.165627805</td></tr>\n",
       "\t<tr><th scope=row>2</th><td>ACH-000005</td><td>-0.047515207</td><td> 0.0928010733</td><td>-0.021927211</td><td> 0.113849328</td><td> 0.10571153</td><td>-0.16697496</td><td> 0.110861598</td><td>-0.3855129</td><td>-0.056164911</td></tr>\n",
       "\t<tr><th scope=row>3</th><td>ACH-000007</td><td>-0.027968175</td><td>-0.0289905830</td><td>-0.031672575</td><td> 0.026763633</td><td> 0.05416951</td><td> 0.10409471</td><td>-0.044521638</td><td>-0.3915746</td><td>-0.094925558</td></tr>\n",
       "\t<tr><th scope=row>4</th><td>ACH-000009</td><td> 0.046814250</td><td> 0.0278182974</td><td>-0.002840993</td><td>-0.023859065</td><td> 0.20715597</td><td>-0.05366645</td><td>-0.001123352</td><td>-0.4840048</td><td> 0.100083671</td></tr>\n",
       "\t<tr><th scope=row>5</th><td>ACH-000011</td><td> 0.114031959</td><td> 0.0743680409</td><td> 0.008924388</td><td> 0.206204953</td><td> 0.03532976</td><td>-0.18891784</td><td> 0.045605508</td><td>-0.2180298</td><td> 0.123186802</td></tr>\n",
       "\t<tr><th scope=row>6</th><td>ACH-000012</td><td>-0.061480923</td><td> 0.0981230719</td><td> 0.133786682</td><td> 0.214367474</td><td> 0.19614445</td><td>-0.16747406</td><td> 0.198516306</td><td>-0.2784515</td><td> 0.046055645</td></tr>\n",
       "\t<tr><th scope=row>7</th><td>ACH-000013</td><td>-0.018547341</td><td> 0.0124748861</td><td>-0.046895743</td><td> 0.076004211</td><td> 0.01881837</td><td>-0.08705845</td><td>-0.000464505</td><td>-0.3697191</td><td>-0.021785995</td></tr>\n",
       "\t<tr><th scope=row>8</th><td>ACH-000014</td><td> 0.004555722</td><td>-0.0009708097</td><td>-0.019447556</td><td> 0.045663269</td><td> 0.07207041</td><td>-0.09673752</td><td>-0.214836681</td><td>-0.2667910</td><td>-0.153605237</td></tr>\n",
       "\t<tr><th scope=row>9</th><td>ACH-000015</td><td>-0.130280851</td><td> 0.0607801493</td><td>-0.153261480</td><td> 0.015946307</td><td> 0.08015174</td><td>-0.01342187</td><td> 0.140680801</td><td>-0.3805728</td><td> 0.006709002</td></tr>\n",
       "\t<tr><th scope=row>10</th><td>ACH-000017</td><td> 0.057963544</td><td> 0.0241323863</td><td>-0.046786160</td><td> 0.004440662</td><td>-0.18907332</td><td>-0.11095242</td><td> 0.067121011</td><td>-0.2830296</td><td> 0.007152620</td></tr>\n",
       "</tbody>\n",
       "</table>\n"
      ],
      "text/latex": [
       "A data.frame: 10 × 10\n",
       "\\begin{tabular}{r|llllllllll}\n",
       "  & DepMap\\_ID & A1BG..1. & A1CF..29974. & A2M..2. & A2ML1..144568. & A3GALT2..127550. & A4GALT..53947. & A4GNT..51146. & AAAS..8086. & AACS..65985.\\\\\n",
       "  & <chr> & <dbl> & <dbl> & <dbl> & <dbl> & <dbl> & <dbl> & <dbl> & <dbl> & <dbl>\\\\\n",
       "\\hline\n",
       "\t1 & ACH-000004 &  0.085182601 &  0.0311078975 & -0.229675206 & -0.019110816 &  0.13843968 & -0.11563144 &  0.140267813 & -0.3509937 &  0.165627805\\\\\n",
       "\t2 & ACH-000005 & -0.047515207 &  0.0928010733 & -0.021927211 &  0.113849328 &  0.10571153 & -0.16697496 &  0.110861598 & -0.3855129 & -0.056164911\\\\\n",
       "\t3 & ACH-000007 & -0.027968175 & -0.0289905830 & -0.031672575 &  0.026763633 &  0.05416951 &  0.10409471 & -0.044521638 & -0.3915746 & -0.094925558\\\\\n",
       "\t4 & ACH-000009 &  0.046814250 &  0.0278182974 & -0.002840993 & -0.023859065 &  0.20715597 & -0.05366645 & -0.001123352 & -0.4840048 &  0.100083671\\\\\n",
       "\t5 & ACH-000011 &  0.114031959 &  0.0743680409 &  0.008924388 &  0.206204953 &  0.03532976 & -0.18891784 &  0.045605508 & -0.2180298 &  0.123186802\\\\\n",
       "\t6 & ACH-000012 & -0.061480923 &  0.0981230719 &  0.133786682 &  0.214367474 &  0.19614445 & -0.16747406 &  0.198516306 & -0.2784515 &  0.046055645\\\\\n",
       "\t7 & ACH-000013 & -0.018547341 &  0.0124748861 & -0.046895743 &  0.076004211 &  0.01881837 & -0.08705845 & -0.000464505 & -0.3697191 & -0.021785995\\\\\n",
       "\t8 & ACH-000014 &  0.004555722 & -0.0009708097 & -0.019447556 &  0.045663269 &  0.07207041 & -0.09673752 & -0.214836681 & -0.2667910 & -0.153605237\\\\\n",
       "\t9 & ACH-000015 & -0.130280851 &  0.0607801493 & -0.153261480 &  0.015946307 &  0.08015174 & -0.01342187 &  0.140680801 & -0.3805728 &  0.006709002\\\\\n",
       "\t10 & ACH-000017 &  0.057963544 &  0.0241323863 & -0.046786160 &  0.004440662 & -0.18907332 & -0.11095242 &  0.067121011 & -0.2830296 &  0.007152620\\\\\n",
       "\\end{tabular}\n"
      ],
      "text/markdown": [
       "\n",
       "A data.frame: 10 × 10\n",
       "\n",
       "| <!--/--> | DepMap_ID &lt;chr&gt; | A1BG..1. &lt;dbl&gt; | A1CF..29974. &lt;dbl&gt; | A2M..2. &lt;dbl&gt; | A2ML1..144568. &lt;dbl&gt; | A3GALT2..127550. &lt;dbl&gt; | A4GALT..53947. &lt;dbl&gt; | A4GNT..51146. &lt;dbl&gt; | AAAS..8086. &lt;dbl&gt; | AACS..65985. &lt;dbl&gt; |\n",
       "|---|---|---|---|---|---|---|---|---|---|---|\n",
       "| 1 | ACH-000004 |  0.085182601 |  0.0311078975 | -0.229675206 | -0.019110816 |  0.13843968 | -0.11563144 |  0.140267813 | -0.3509937 |  0.165627805 |\n",
       "| 2 | ACH-000005 | -0.047515207 |  0.0928010733 | -0.021927211 |  0.113849328 |  0.10571153 | -0.16697496 |  0.110861598 | -0.3855129 | -0.056164911 |\n",
       "| 3 | ACH-000007 | -0.027968175 | -0.0289905830 | -0.031672575 |  0.026763633 |  0.05416951 |  0.10409471 | -0.044521638 | -0.3915746 | -0.094925558 |\n",
       "| 4 | ACH-000009 |  0.046814250 |  0.0278182974 | -0.002840993 | -0.023859065 |  0.20715597 | -0.05366645 | -0.001123352 | -0.4840048 |  0.100083671 |\n",
       "| 5 | ACH-000011 |  0.114031959 |  0.0743680409 |  0.008924388 |  0.206204953 |  0.03532976 | -0.18891784 |  0.045605508 | -0.2180298 |  0.123186802 |\n",
       "| 6 | ACH-000012 | -0.061480923 |  0.0981230719 |  0.133786682 |  0.214367474 |  0.19614445 | -0.16747406 |  0.198516306 | -0.2784515 |  0.046055645 |\n",
       "| 7 | ACH-000013 | -0.018547341 |  0.0124748861 | -0.046895743 |  0.076004211 |  0.01881837 | -0.08705845 | -0.000464505 | -0.3697191 | -0.021785995 |\n",
       "| 8 | ACH-000014 |  0.004555722 | -0.0009708097 | -0.019447556 |  0.045663269 |  0.07207041 | -0.09673752 | -0.214836681 | -0.2667910 | -0.153605237 |\n",
       "| 9 | ACH-000015 | -0.130280851 |  0.0607801493 | -0.153261480 |  0.015946307 |  0.08015174 | -0.01342187 |  0.140680801 | -0.3805728 |  0.006709002 |\n",
       "| 10 | ACH-000017 |  0.057963544 |  0.0241323863 | -0.046786160 |  0.004440662 | -0.18907332 | -0.11095242 |  0.067121011 | -0.2830296 |  0.007152620 |\n",
       "\n"
      ],
      "text/plain": [
       "   DepMap_ID  A1BG..1.     A1CF..29974.  A2M..2.      A2ML1..144568.\n",
       "1  ACH-000004  0.085182601  0.0311078975 -0.229675206 -0.019110816  \n",
       "2  ACH-000005 -0.047515207  0.0928010733 -0.021927211  0.113849328  \n",
       "3  ACH-000007 -0.027968175 -0.0289905830 -0.031672575  0.026763633  \n",
       "4  ACH-000009  0.046814250  0.0278182974 -0.002840993 -0.023859065  \n",
       "5  ACH-000011  0.114031959  0.0743680409  0.008924388  0.206204953  \n",
       "6  ACH-000012 -0.061480923  0.0981230719  0.133786682  0.214367474  \n",
       "7  ACH-000013 -0.018547341  0.0124748861 -0.046895743  0.076004211  \n",
       "8  ACH-000014  0.004555722 -0.0009708097 -0.019447556  0.045663269  \n",
       "9  ACH-000015 -0.130280851  0.0607801493 -0.153261480  0.015946307  \n",
       "10 ACH-000017  0.057963544  0.0241323863 -0.046786160  0.004440662  \n",
       "   A3GALT2..127550. A4GALT..53947. A4GNT..51146. AAAS..8086. AACS..65985.\n",
       "1   0.13843968      -0.11563144     0.140267813  -0.3509937   0.165627805\n",
       "2   0.10571153      -0.16697496     0.110861598  -0.3855129  -0.056164911\n",
       "3   0.05416951       0.10409471    -0.044521638  -0.3915746  -0.094925558\n",
       "4   0.20715597      -0.05366645    -0.001123352  -0.4840048   0.100083671\n",
       "5   0.03532976      -0.18891784     0.045605508  -0.2180298   0.123186802\n",
       "6   0.19614445      -0.16747406     0.198516306  -0.2784515   0.046055645\n",
       "7   0.01881837      -0.08705845    -0.000464505  -0.3697191  -0.021785995\n",
       "8   0.07207041      -0.09673752    -0.214836681  -0.2667910  -0.153605237\n",
       "9   0.08015174      -0.01342187     0.140680801  -0.3805728   0.006709002\n",
       "10 -0.18907332      -0.11095242     0.067121011  -0.2830296   0.007152620"
      ]
     },
     "metadata": {},
     "output_type": "display_data"
    },
    {
     "data": {
      "text/html": [
       "859"
      ],
      "text/latex": [
       "859"
      ],
      "text/markdown": [
       "859"
      ],
      "text/plain": [
       "[1] 859"
      ]
     },
     "metadata": {},
     "output_type": "display_data"
    }
   ],
   "source": [
    "###Get a list of all of the depmap cell lines so that we can filter the snpxguidexgene matrix\n",
    "\n",
    "system(glue::glue(\"\n",
    "cd {working_dir}/raw_data/depmap/{out_directory}\n",
    "gsutil cp gs://fc-45c0e148-0b1c-4244-9bfc-feb559bbc514/public-21q2_v12-achilles-gene-effect-chronos.csv .\n",
    "\"))\n",
    "\n",
    "paste(working_dir, \"/raw_data/depmap/\", out_directory, sep = \"\") %>% setwd()\n",
    "chronos.scores <- read.table(\"public-21q2_v12-achilles-gene-effect-chronos.csv\", header = T, sep = \",\")\n",
    "dim(chronos.scores)\n",
    "chronos.scores[1:10, 1:10]\n",
    "\n",
    "depmap.lines <- chronos.scores$DepMap_ID\n",
    "length(depmap.lines)"
   ]
  },
  {
   "cell_type": "code",
   "execution_count": 59,
   "metadata": {},
   "outputs": [
    {
     "data": {
      "text/html": [
       "<table class=\"dataframe\">\n",
       "<caption>A data.frame: 10 × 10</caption>\n",
       "<thead>\n",
       "\t<tr><th></th><th scope=col>gene</th><th scope=col>sgrna</th><th scope=col>chr</th><th scope=col>pos</th><th scope=col>ACH-000004</th><th scope=col>ACH-000005</th><th scope=col>ACH-000007</th><th scope=col>ACH-000009</th><th scope=col>ACH-000011</th><th scope=col>ACH-000012</th></tr>\n",
       "\t<tr><th></th><th scope=col>&lt;chr&gt;</th><th scope=col>&lt;chr&gt;</th><th scope=col>&lt;chr&gt;</th><th scope=col>&lt;int&gt;</th><th scope=col>&lt;int&gt;</th><th scope=col>&lt;int&gt;</th><th scope=col>&lt;int&gt;</th><th scope=col>&lt;int&gt;</th><th scope=col>&lt;int&gt;</th><th scope=col>&lt;int&gt;</th></tr>\n",
       "</thead>\n",
       "<tbody>\n",
       "\t<tr><th scope=row>1</th><td>OR4F17</td><td>TCTCCATTCGGTGAGCCAGT</td><td>chr1</td><td> 69534</td><td>0</td><td>0</td><td>0</td><td>0</td><td>0</td><td>0</td></tr>\n",
       "\t<tr><th scope=row>2</th><td>SAMD11</td><td>GCTTGTGTCAGCACTGAGCG</td><td>chr1</td><td>939354</td><td>0</td><td>0</td><td>0</td><td>0</td><td>0</td><td>0</td></tr>\n",
       "\t<tr><th scope=row>3</th><td>SAMD11</td><td>GCTTGTGTCAGCACTGAGCG</td><td>chr1</td><td>939355</td><td>0</td><td>0</td><td>0</td><td>0</td><td>0</td><td>0</td></tr>\n",
       "\t<tr><th scope=row>4</th><td>SAMD11</td><td>GCTTGTGTCAGCACTGAGCG</td><td>chr1</td><td>939356</td><td>0</td><td>0</td><td>0</td><td>0</td><td>0</td><td>0</td></tr>\n",
       "\t<tr><th scope=row>5</th><td>SAMD11</td><td>GCTTGTGTCAGCACTGAGCG</td><td>chr1</td><td>939358</td><td>0</td><td>0</td><td>0</td><td>0</td><td>0</td><td>0</td></tr>\n",
       "\t<tr><th scope=row>7</th><td>KLHL17</td><td>GCCCGCCTCCTGCAGCCCCG</td><td>chr1</td><td>961286</td><td>0</td><td>0</td><td>0</td><td>0</td><td>0</td><td>0</td></tr>\n",
       "\t<tr><th scope=row>8</th><td>KLHL17</td><td>GCCCGCCTCCTGCAGCCCCG</td><td>chr1</td><td>961297</td><td>0</td><td>0</td><td>0</td><td>0</td><td>0</td><td>0</td></tr>\n",
       "\t<tr><th scope=row>9</th><td>KLHL17</td><td>GCGTGGCCCACAACTCCAAG</td><td>chr1</td><td>961388</td><td>0</td><td>0</td><td>0</td><td>0</td><td>0</td><td>0</td></tr>\n",
       "\t<tr><th scope=row>10</th><td>KLHL17</td><td>GCGTGGCCCACAACTCCAAG</td><td>chr1</td><td>961395</td><td>0</td><td>0</td><td>0</td><td>0</td><td>0</td><td>0</td></tr>\n",
       "\t<tr><th scope=row>11</th><td>KLHL17</td><td>GCGTGGCCCACAACTCCAAG</td><td>chr1</td><td>961401</td><td>0</td><td>0</td><td>0</td><td>0</td><td>0</td><td>0</td></tr>\n",
       "</tbody>\n",
       "</table>\n"
      ],
      "text/latex": [
       "A data.frame: 10 × 10\n",
       "\\begin{tabular}{r|llllllllll}\n",
       "  & gene & sgrna & chr & pos & ACH-000004 & ACH-000005 & ACH-000007 & ACH-000009 & ACH-000011 & ACH-000012\\\\\n",
       "  & <chr> & <chr> & <chr> & <int> & <int> & <int> & <int> & <int> & <int> & <int>\\\\\n",
       "\\hline\n",
       "\t1 & OR4F17 & TCTCCATTCGGTGAGCCAGT & chr1 &  69534 & 0 & 0 & 0 & 0 & 0 & 0\\\\\n",
       "\t2 & SAMD11 & GCTTGTGTCAGCACTGAGCG & chr1 & 939354 & 0 & 0 & 0 & 0 & 0 & 0\\\\\n",
       "\t3 & SAMD11 & GCTTGTGTCAGCACTGAGCG & chr1 & 939355 & 0 & 0 & 0 & 0 & 0 & 0\\\\\n",
       "\t4 & SAMD11 & GCTTGTGTCAGCACTGAGCG & chr1 & 939356 & 0 & 0 & 0 & 0 & 0 & 0\\\\\n",
       "\t5 & SAMD11 & GCTTGTGTCAGCACTGAGCG & chr1 & 939358 & 0 & 0 & 0 & 0 & 0 & 0\\\\\n",
       "\t7 & KLHL17 & GCCCGCCTCCTGCAGCCCCG & chr1 & 961286 & 0 & 0 & 0 & 0 & 0 & 0\\\\\n",
       "\t8 & KLHL17 & GCCCGCCTCCTGCAGCCCCG & chr1 & 961297 & 0 & 0 & 0 & 0 & 0 & 0\\\\\n",
       "\t9 & KLHL17 & GCGTGGCCCACAACTCCAAG & chr1 & 961388 & 0 & 0 & 0 & 0 & 0 & 0\\\\\n",
       "\t10 & KLHL17 & GCGTGGCCCACAACTCCAAG & chr1 & 961395 & 0 & 0 & 0 & 0 & 0 & 0\\\\\n",
       "\t11 & KLHL17 & GCGTGGCCCACAACTCCAAG & chr1 & 961401 & 0 & 0 & 0 & 0 & 0 & 0\\\\\n",
       "\\end{tabular}\n"
      ],
      "text/markdown": [
       "\n",
       "A data.frame: 10 × 10\n",
       "\n",
       "| <!--/--> | gene &lt;chr&gt; | sgrna &lt;chr&gt; | chr &lt;chr&gt; | pos &lt;int&gt; | ACH-000004 &lt;int&gt; | ACH-000005 &lt;int&gt; | ACH-000007 &lt;int&gt; | ACH-000009 &lt;int&gt; | ACH-000011 &lt;int&gt; | ACH-000012 &lt;int&gt; |\n",
       "|---|---|---|---|---|---|---|---|---|---|---|\n",
       "| 1 | OR4F17 | TCTCCATTCGGTGAGCCAGT | chr1 |  69534 | 0 | 0 | 0 | 0 | 0 | 0 |\n",
       "| 2 | SAMD11 | GCTTGTGTCAGCACTGAGCG | chr1 | 939354 | 0 | 0 | 0 | 0 | 0 | 0 |\n",
       "| 3 | SAMD11 | GCTTGTGTCAGCACTGAGCG | chr1 | 939355 | 0 | 0 | 0 | 0 | 0 | 0 |\n",
       "| 4 | SAMD11 | GCTTGTGTCAGCACTGAGCG | chr1 | 939356 | 0 | 0 | 0 | 0 | 0 | 0 |\n",
       "| 5 | SAMD11 | GCTTGTGTCAGCACTGAGCG | chr1 | 939358 | 0 | 0 | 0 | 0 | 0 | 0 |\n",
       "| 7 | KLHL17 | GCCCGCCTCCTGCAGCCCCG | chr1 | 961286 | 0 | 0 | 0 | 0 | 0 | 0 |\n",
       "| 8 | KLHL17 | GCCCGCCTCCTGCAGCCCCG | chr1 | 961297 | 0 | 0 | 0 | 0 | 0 | 0 |\n",
       "| 9 | KLHL17 | GCGTGGCCCACAACTCCAAG | chr1 | 961388 | 0 | 0 | 0 | 0 | 0 | 0 |\n",
       "| 10 | KLHL17 | GCGTGGCCCACAACTCCAAG | chr1 | 961395 | 0 | 0 | 0 | 0 | 0 | 0 |\n",
       "| 11 | KLHL17 | GCGTGGCCCACAACTCCAAG | chr1 | 961401 | 0 | 0 | 0 | 0 | 0 | 0 |\n",
       "\n"
      ],
      "text/plain": [
       "   gene   sgrna                chr  pos    ACH-000004 ACH-000005 ACH-000007\n",
       "1  OR4F17 TCTCCATTCGGTGAGCCAGT chr1  69534 0          0          0         \n",
       "2  SAMD11 GCTTGTGTCAGCACTGAGCG chr1 939354 0          0          0         \n",
       "3  SAMD11 GCTTGTGTCAGCACTGAGCG chr1 939355 0          0          0         \n",
       "4  SAMD11 GCTTGTGTCAGCACTGAGCG chr1 939356 0          0          0         \n",
       "5  SAMD11 GCTTGTGTCAGCACTGAGCG chr1 939358 0          0          0         \n",
       "7  KLHL17 GCCCGCCTCCTGCAGCCCCG chr1 961286 0          0          0         \n",
       "8  KLHL17 GCCCGCCTCCTGCAGCCCCG chr1 961297 0          0          0         \n",
       "9  KLHL17 GCGTGGCCCACAACTCCAAG chr1 961388 0          0          0         \n",
       "10 KLHL17 GCGTGGCCCACAACTCCAAG chr1 961395 0          0          0         \n",
       "11 KLHL17 GCGTGGCCCACAACTCCAAG chr1 961401 0          0          0         \n",
       "   ACH-000009 ACH-000011 ACH-000012\n",
       "1  0          0          0         \n",
       "2  0          0          0         \n",
       "3  0          0          0         \n",
       "4  0          0          0         \n",
       "5  0          0          0         \n",
       "7  0          0          0         \n",
       "8  0          0          0         \n",
       "9  0          0          0         \n",
       "10 0          0          0         \n",
       "11 0          0          0         "
      ]
     },
     "metadata": {},
     "output_type": "display_data"
    }
   ],
   "source": [
    "#Correct avana.subset so that the . in the title is converted back to a -\n",
    "colnames(avana.subset) <- gsub(\"\\\\.\", \"-\", colnames(avana.subset)) #R replaced the '-' with '.' on loading, so fix that\n",
    "\n",
    "\n",
    "#filter avana.subset so that it only has cell lines that were included in depmap\n",
    "columns.to.keep <- c(\"gene\", \"sgrna\", \"chr\", \"pos\", depmap.lines) #Get a vector of columns that we want to keep\n",
    "columns.to.keep <- intersect(columns.to.keep, colnames(avana.subset))\n",
    "avana.subset <- avana.subset[, columns.to.keep]\n",
    "\n",
    "\n",
    "#Filter the dataset so that it only includes guides that have a SNP in at least one cell line\n",
    "row.sum.vector <- rowSums(avana.subset[,5:ncol(avana.subset)]) %>% as.vector()\n",
    "avana.subset <- avana.subset[row.sum.vector >= 1,]\n",
    "avana.subset[1:10, 1:10]\n"
   ]
  },
  {
   "cell_type": "code",
   "execution_count": 60,
   "metadata": {},
   "outputs": [
    {
     "name": "stdout",
     "output_type": "stream",
     "text": [
      "[1] \"There were  102  genes that were cut from the data frame.\"\n"
     ]
    }
   ],
   "source": [
    "#Filter the dataset to remove certain \"genes\" like \"POTENTIALLY_ACTIVE_23\"\n",
    "start.genes <- nrow(avana.subset)\n",
    "avana.subset <- avana.subset[!grepl(\"_\",avana.subset$gene),]\n",
    "end.genes <- nrow(avana.subset)\n",
    "print(paste(\"There were \", start.genes-end.genes, \" genes that were cut from the data frame.\"))"
   ]
  },
  {
   "cell_type": "code",
   "execution_count": 61,
   "metadata": {},
   "outputs": [
    {
     "name": "stdout",
     "output_type": "stream",
     "text": [
      "[1] \"There are 15408 genes that are affected by this artifact in at least one cell line!\"\n",
      "[1] \"There are 21447  genes in the entire dataset!\"\n",
      "[1] \"71.8422156945027 % of genes in the dataset are affected!\"\n"
     ]
    }
   ],
   "source": [
    "###Calculate the total number of genes that are affected\n",
    "affected.gene.number <- avana.subset$gene %>% unique %>% length()\n",
    "\n",
    "print(paste(\"There are \", affected.gene.number, \" genes that are affected by this artifact in at least one cell line!\", sep = \"\"))\n",
    "\n",
    "\n",
    "#Load in the chip file and calculate the total number of genes in depmap\n",
    "paste(working_dir, \"/raw_data/depmap/\", out_directory, sep = \"\") %>% setwd()\n",
    "chip.file <- read.table(\"avana14_guide_to_gene.chip\", header = T, sep = \"\\t\")\n",
    "colnames(chip.file) <- c(\"sgrna\", \"gene\", \"geneid\")\n",
    "chip.file <- chip.file[!grepl(\"_\", chip.file$gene),] #Remove the non-targeting guides\n",
    "total.genes <- chip.file$gene %>% unique() %>% length()\n",
    "print(paste(\"There are\", total.genes, \" genes in the entire dataset!\"))\n",
    "print(paste((affected.gene.number/total.genes)*100, \"% of genes in the dataset are affected!\"))"
   ]
  },
  {
   "cell_type": "code",
   "execution_count": 62,
   "metadata": {},
   "outputs": [
    {
     "data": {
      "text/html": [
       "<style>\n",
       ".list-inline {list-style: none; margin:0; padding: 0}\n",
       ".list-inline>li {display: inline-block}\n",
       ".list-inline>li:not(:last-child)::after {content: \"\\00b7\"; padding: 0 .5ex}\n",
       "</style>\n",
       "<ol class=list-inline><li>44846</li><li>850</li></ol>\n"
      ],
      "text/latex": [
       "\\begin{enumerate*}\n",
       "\\item 44846\n",
       "\\item 850\n",
       "\\end{enumerate*}\n"
      ],
      "text/markdown": [
       "1. 44846\n",
       "2. 850\n",
       "\n",
       "\n"
      ],
      "text/plain": [
       "[1] 44846   850"
      ]
     },
     "metadata": {},
     "output_type": "display_data"
    },
    {
     "name": "stdout",
     "output_type": "stream",
     "text": [
      "Collapsing by gene name\n",
      "Recoding gene-level matrix\n"
     ]
    },
    {
     "data": {
      "text/html": [
       "<style>\n",
       ".list-inline {list-style: none; margin:0; padding: 0}\n",
       ".list-inline>li {display: inline-block}\n",
       ".list-inline>li:not(:last-child)::after {content: \"\\00b7\"; padding: 0 .5ex}\n",
       "</style>\n",
       "<ol class=list-inline><li>15408</li><li>850</li></ol>\n"
      ],
      "text/latex": [
       "\\begin{enumerate*}\n",
       "\\item 15408\n",
       "\\item 850\n",
       "\\end{enumerate*}\n"
      ],
      "text/markdown": [
       "1. 15408\n",
       "2. 850\n",
       "\n",
       "\n"
      ],
      "text/plain": [
       "[1] 15408   850"
      ]
     },
     "metadata": {},
     "output_type": "display_data"
    }
   ],
   "source": [
    "#Collapse the dataset so that we can make a figure\n",
    "\n",
    "\n",
    "#First, drop the columns that we don't need \n",
    "avana.subset.collapsed <- avana.subset[,-c(2,3,4)]\n",
    "dim(avana.subset.collapsed)\n",
    "\n",
    "#Just like we did above, collapse the dataset by gene names\n",
    "show_msg(glue::glue(\"Collapsing by gene name\"))\n",
    "avana.subset.collapsed <- aggregate(. ~ gene, data = avana.subset.collapsed, FUN = sum)\n",
    "\n",
    "\n",
    "#Convert all of the numbers that are greater than 1 to be 1. A number greater than 1 means that there are multiple SNPs in that guide. But we just want a binary indicator of whether or not there is a SNP in that guide\n",
    "show_msg(glue::glue(\"Recoding gene-level matrix\"))\n",
    "gene <- avana.subset.collapsed$gene #Take a vector of the sgrna labels\n",
    "avana.subset.collapsed[avana.subset.collapsed > 1] <- 1 #Convert all of the numbers larger than 1 to be equal to 1\n",
    "avana.subset.collapsed$gene <- gene #Assign the sgrna names back to the matrix\n",
    "colnames(avana.subset.collapsed)[1] <- \"gene\"\n",
    "\n",
    "\n",
    "dim(avana.subset.collapsed)\n",
    "\n",
    "\n",
    "\n"
   ]
  },
  {
   "cell_type": "code",
   "execution_count": 70,
   "metadata": {},
   "outputs": [
    {
     "data": {
      "text/html": [
       "<style>\n",
       ".list-inline {list-style: none; margin:0; padding: 0}\n",
       ".list-inline>li {display: inline-block}\n",
       ".list-inline>li:not(:last-child)::after {content: \"\\00b7\"; padding: 0 .5ex}\n",
       "</style>\n",
       "<ol class=list-inline><li>15408</li><li>1</li></ol>\n"
      ],
      "text/latex": [
       "\\begin{enumerate*}\n",
       "\\item 15408\n",
       "\\item 1\n",
       "\\end{enumerate*}\n"
      ],
      "text/markdown": [
       "1. 15408\n",
       "2. 1\n",
       "\n",
       "\n"
      ],
      "text/plain": [
       "[1] 15408     1"
      ]
     },
     "metadata": {},
     "output_type": "display_data"
    }
   ],
   "source": [
    "#Create a named vector that has the number of affected cell lines for each gene\n",
    "affected.lines <- rowSums(avana.subset.collapsed[,-1]) %>% data.frame()\n",
    "dim(affected.lines)\n",
    "colnames(affected.lines) <- \"num.affected\"\n"
   ]
  },
  {
   "cell_type": "code",
   "execution_count": 77,
   "metadata": {
    "scrolled": false
   },
   "outputs": [
    {
     "data": {
      "image/png": "[encoded data removed]",
      "text/plain": [
       "plot without title"
      ]
     },
     "metadata": {
      "image/png": {
       "height": 420,
       "width": 420
      }
     },
     "output_type": "display_data"
    }
   ],
   "source": [
    "###Now, let's make a figure to illustrate this. I think the best figure might just be a histogram\n",
    "\n",
    "\n",
    "ggplot(affected.lines, aes(x=log10(num.affected))) +\n",
    "\tgeom_density(alpha = 1, fill = \"dodgerblue4\", size = 2) +\n",
    "\t\n",
    "theme_bw() +\n",
    "\n",
    "theme(\n",
    "panel.border = element_blank(), panel.grid.major = element_blank(),\n",
    "panel.grid.minor = element_blank(), axis.line = element_line(color = \"black\")\n",
    ") +\n",
    "\n",
    "theme(\n",
    "axis.title.x = element_text(color = \"black\", size = 14, face = \"bold\"),\n",
    "axis.title.y = element_text(color = \"black\", size = 14, face = \"bold\")\n",
    ") +\n",
    "\n",
    "theme(\n",
    "axis.text=element_text(size = 12, face = \"bold\"),\n",
    "axis.title=element_text(size = 14,face = \"bold\")\n",
    ") +\n",
    "\n",
    "theme(\n",
    "  legend.title = element_text(size = 14, face = \"bold\"),\n",
    "  legend.text = element_text(size = 10, face = \"bold\")\n",
    "  ) +\n",
    "  \n",
    "ylab(\"Density\") +\n",
    "xlab(\"# Cell Lines with SNV\") +\n",
    "\n",
    "scale_x_continuous(labels=c(0, 10, 100, 1000))\n"
   ]
  },
  {
   "cell_type": "code",
   "execution_count": 78,
   "metadata": {},
   "outputs": [
    {
     "name": "stderr",
     "output_type": "stream",
     "text": [
      "Saving 6.67 x 6.67 in image\n",
      "\n"
     ]
    }
   ],
   "source": [
    "#Save the plot\n",
    "\n",
    "paste(working_dir, \"/figures\", sep =\"\") %>% setwd()\n",
    "ggsave(\"depmap_affected_lines_per_gene.tiff\") #save the plot\n",
    "\n",
    "system(glue::glue(\"\n",
    "cd {working_dir}/figures\n",
    "gsutil cp depmap_affected_lines_per_gene.tiff gs://fc-45c0e148-0b1c-4244-9bfc-feb559bbc514\n",
    "\"))"
   ]
  },
  {
   "cell_type": "code",
   "execution_count": null,
   "metadata": {},
   "outputs": [],
   "source": []
  }
 ],
 "metadata": {
  "kernelspec": {
   "display_name": "R",
   "language": "R",
   "name": "ir"
  },
  "language_info": {
   "codemirror_mode": "r",
   "file_extension": ".r",
   "mimetype": "text/x-r-source",
   "name": "R",
   "pygments_lexer": "r",
   "version": "4.1.0"
  },
  "toc": {
   "base_numbering": 1,
   "nav_menu": {},
   "number_sections": true,
   "sideBar": true,
   "skip_h1_title": false,
   "title_cell": "Table of Contents",
   "title_sidebar": "Contents",
   "toc_cell": false,
   "toc_position": {},
   "toc_section_display": true,
   "toc_window_display": false
  }
 },
 "nbformat": 4,
 "nbformat_minor": 2
}
