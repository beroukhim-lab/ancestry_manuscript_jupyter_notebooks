{
 "cells": [
  {
   "cell_type": "markdown",
   "metadata": {},
   "source": [
    "The purpose of this code is to create a heatmap which shows that a majority of the ancestry-associated guides have SNVs in the sgRNA targeting sequence"
   ]
  },
  {
   "cell_type": "code",
   "execution_count": 1,
   "metadata": {},
   "outputs": [],
   "source": [
    "#Arguments/Parameters\n",
    "\n",
    "working_dir = \"/home/jupyter/notebooks/Ancestry\"\n",
    "workspace_bucket = Sys.getenv('WORKSPACE_BUCKET')\n",
    "out_directory = \"avana14\" #the output directory name"
   ]
  },
  {
   "cell_type": "code",
   "execution_count": 110,
   "metadata": {},
   "outputs": [],
   "source": [
    "#Set up the environment\n",
    "\n",
    "#load packages\n",
    "library(dplyr)\n",
    "library(tidyverse)\n",
    "library(stringr)\n",
    "library(plyr)\n",
    "library(tictoc)\n",
    "\n",
    "#Define functions\n",
    "show_msg <- function(x){ \n",
    "    print(x)\n",
    "    flush.console()\n",
    "}"
   ]
  },
  {
   "cell_type": "code",
   "execution_count": 3,
   "metadata": {},
   "outputs": [],
   "source": [
    "#Load in the guide-level SNP Matrix\n",
    "paste({working_dir}, \"/raw_data/depmap/\", {out_directory}, sep = \"\") %>% setwd()\n",
    "snp.guide.matrix = read.table('depmap_avana_collapsed_guide_snp_matrix.txt', sep = \"\\t\", header = T)\n",
    "colnames(snp.guide.matrix) = gsub(\"\\\\.\", \"-\", colnames(snp.guide.matrix))"
   ]
  },
  {
   "cell_type": "code",
   "execution_count": 33,
   "metadata": {},
   "outputs": [],
   "source": [
    "#Load in the depmap Chronos scores\n",
    "system(glue::glue(\"\n",
    "cd {working_dir}/raw_data/depmap/{out_directory}\n",
    "gsutil cp gs://fc-45c0e148-0b1c-4244-9bfc-feb559bbc514/public-21q2_v12-achilles-gene-effect-chronos.csv .\n",
    "\"))\n",
    "\n",
    "paste({working_dir}, \"/raw_data/depmap/\", {out_directory}, sep = \"\") %>% setwd()\n",
    "chronos.scores = read.table('public-21q2_v12-achilles-gene-effect-chronos.csv', sep = \",\", header = T)\n",
    "colnames(chronos.scores) = gsub(\"\\\\..*\", \"\", colnames(chronos.scores))"
   ]
  },
  {
   "cell_type": "code",
   "execution_count": 5,
   "metadata": {},
   "outputs": [
    {
     "data": {
      "text/html": [
       "<style>\n",
       ".list-inline {list-style: none; margin:0; padding: 0}\n",
       ".list-inline>li {display: inline-block}\n",
       ".list-inline>li:not(:last-child)::after {content: \"\\00b7\"; padding: 0 .5ex}\n",
       "</style>\n",
       "<ol class=list-inline><li>'CLSPN'</li><li>'RRP7A'</li><li>'RPS5'</li><li>'UGT2B17'</li><li>'CCDC74A'</li><li>'CCDC74B'</li></ol>\n"
      ],
      "text/latex": [
       "\\begin{enumerate*}\n",
       "\\item 'CLSPN'\n",
       "\\item 'RRP7A'\n",
       "\\item 'RPS5'\n",
       "\\item 'UGT2B17'\n",
       "\\item 'CCDC74A'\n",
       "\\item 'CCDC74B'\n",
       "\\end{enumerate*}\n"
      ],
      "text/markdown": [
       "1. 'CLSPN'\n",
       "2. 'RRP7A'\n",
       "3. 'RPS5'\n",
       "4. 'UGT2B17'\n",
       "5. 'CCDC74A'\n",
       "6. 'CCDC74B'\n",
       "\n",
       "\n"
      ],
      "text/plain": [
       "[1] \"CLSPN\"   \"RRP7A\"   \"RPS5\"    \"UGT2B17\" \"CCDC74A\" \"CCDC74B\""
      ]
     },
     "metadata": {},
     "output_type": "display_data"
    }
   ],
   "source": [
    "#Load in a list of ancestry-associated genes\n",
    "#Once I get ADMIXTURE loading it will be necessary to re-run this since I suspect the predicted ancestry will change.\n",
    "system(glue::glue(\"\n",
    "cd {working_dir}/raw_data/depmap/{out_directory}\n",
    "gsutil cp gs://fc-45c0e148-0b1c-4244-9bfc-feb559bbc514/all_ancestry_associated_genes.txt .\n",
    "\"))\n",
    "\n",
    "paste({working_dir}, \"/raw_data/depmap/\", {out_directory}, sep = \"\") %>% setwd()\n",
    "ancestry.genes = read.table('all_ancestry_associated_genes.txt', sep = \"\\t\")\n",
    "ancestry.genes = ancestry.genes[,1] %>% as.vector()"
   ]
  },
  {
   "cell_type": "code",
   "execution_count": 73,
   "metadata": {},
   "outputs": [],
   "source": [
    "#Load in the sgrna bed file\n",
    "paste({working_dir}, \"/raw_data/depmap/\", {out_directory}, sep = \"\") %>% setwd()\n",
    "avana.bed = read.table('Avana14_filtering.bed', sep = \"\\t\")\n",
    "colnames(avana.bed) = c(\"chr\", \"start\", \"end\", \"sgrna\")"
   ]
  },
  {
   "cell_type": "code",
   "execution_count": 6,
   "metadata": {},
   "outputs": [],
   "source": [
    "#filter the snp.guide.matrix so that it only includes ancestry-associated genes\n",
    "ancestry.sgm = snp.guide.matrix[snp.guide.matrix$gene %in% ancestry.genes, ]"
   ]
  },
  {
   "cell_type": "code",
   "execution_count": 14,
   "metadata": {},
   "outputs": [
    {
     "name": "stdout",
     "output_type": "stream",
     "text": [
      "Recoding gene-level matrix\n"
     ]
    }
   ],
   "source": [
    "#Drop the gene name, chromosome, and position\n",
    "ancestry.sgm.pruned = ancestry.sgm[,-c(1,3,4)]\n",
    "\n",
    "\n",
    "#Then collapse by sgRNA\n",
    "#The reason we do this is because there may be multiple SNPs that map to a single sgRNA\n",
    "collapsed.ancestry.sgm.pruned <- aggregate(. ~ sgrna, data = ancestry.sgm.pruned, FUN = sum)\n",
    "\n",
    "\n",
    "#Now convert all numbers > 1 to be = 1\n",
    "show_msg(glue::glue(\"Recoding gene-level matrix\"))\n",
    "gene <- collapsed.ancestry.sgm.pruned$sgrna #Take a vector of the sgrna labels\n",
    "collapsed.ancestry.sgm.pruned[collapsed.ancestry.sgm.pruned > 1] <- 1 #Convert all of the numbers larger than 1 to be equal to 1\n",
    "collapsed.ancestry.sgm.pruned$sgrna <- gene #Assign the sgrna names back to the matrix"
   ]
  },
  {
   "cell_type": "code",
   "execution_count": 56,
   "metadata": {},
   "outputs": [],
   "source": [
    "#Keep only the samples that we have WES and WGS data for\n",
    "#Also subset so that it only includes samples that were profiled with CRISPR screens\n",
    "\n",
    "\n",
    "#Load in the sample annotation file\n",
    "paste({working_dir}, \"/raw_data/depmap/\", {out_directory}, sep = \"\") %>% setwd()\n",
    "sample.annotation = read.table('ccle_sample_tracker.csv', sep = \",\", header = T)\n",
    "\n",
    "\n",
    "#Slice the sample annotation file so that it only includes the samples where we have WES and WGS data\n",
    "samples.to.keep = sample.annotation[sample.annotation$datatype %in% c(\"wgs\", \"wes\"), ]\n",
    "samples.to.keep = samples.to.keep$arxspan_id %>% as.vector() %>% unique()\n",
    "\n",
    "\n",
    "#Then subset the dataset so that it only includes the data that we have WES and WGS data for\n",
    "casp = collapsed.ancestry.sgm.pruned[ ,colnames(collapsed.ancestry.sgm.pruned) %in% c(\"sgrna\", samples.to.keep)]\n",
    "\n",
    "\n",
    "#Finally, subset the dataframe so that it only contains samples that have CRISPR screen data\n",
    "crispr.samples.to.keep = chronos.scores$DepMap_ID %>% as.vector %>% unique() #Grab all of the samples that we want to keep\n",
    "casp = casp[,colnames(casp) %in% c(\"sgrna\", crispr.samples.to.keep)]"
   ]
  },
  {
   "cell_type": "code",
   "execution_count": 57,
   "metadata": {},
   "outputs": [
    {
     "data": {
      "text/html": [
       "<table class=\"dataframe\">\n",
       "<caption>A data.frame: 5 × 5</caption>\n",
       "<thead>\n",
       "\t<tr><th></th><th scope=col>sgrna</th><th scope=col>ACH-001020</th><th scope=col>ACH-000317</th><th scope=col>ACH-000172</th><th scope=col>ACH-000527</th></tr>\n",
       "\t<tr><th></th><th scope=col>&lt;chr&gt;</th><th scope=col>&lt;dbl&gt;</th><th scope=col>&lt;dbl&gt;</th><th scope=col>&lt;dbl&gt;</th><th scope=col>&lt;dbl&gt;</th></tr>\n",
       "</thead>\n",
       "<tbody>\n",
       "\t<tr><th scope=row>1</th><td>AACAATGCCCGTTTGCTGCA</td><td>0</td><td>0</td><td>0</td><td>0</td></tr>\n",
       "\t<tr><th scope=row>2</th><td>AACTACCTATGACAGTGCCG</td><td>0</td><td>0</td><td>0</td><td>0</td></tr>\n",
       "\t<tr><th scope=row>3</th><td>AAGCTGCTCGATGAGAACAG</td><td>0</td><td>0</td><td>1</td><td>0</td></tr>\n",
       "\t<tr><th scope=row>4</th><td>AATGCTGGCGGCAGCAGCAA</td><td>1</td><td>1</td><td>0</td><td>1</td></tr>\n",
       "\t<tr><th scope=row>5</th><td>AATGGTTTGCTGGCTCCATG</td><td>0</td><td>0</td><td>0</td><td>0</td></tr>\n",
       "</tbody>\n",
       "</table>\n"
      ],
      "text/latex": [
       "A data.frame: 5 × 5\n",
       "\\begin{tabular}{r|lllll}\n",
       "  & sgrna & ACH-001020 & ACH-000317 & ACH-000172 & ACH-000527\\\\\n",
       "  & <chr> & <dbl> & <dbl> & <dbl> & <dbl>\\\\\n",
       "\\hline\n",
       "\t1 & AACAATGCCCGTTTGCTGCA & 0 & 0 & 0 & 0\\\\\n",
       "\t2 & AACTACCTATGACAGTGCCG & 0 & 0 & 0 & 0\\\\\n",
       "\t3 & AAGCTGCTCGATGAGAACAG & 0 & 0 & 1 & 0\\\\\n",
       "\t4 & AATGCTGGCGGCAGCAGCAA & 1 & 1 & 0 & 1\\\\\n",
       "\t5 & AATGGTTTGCTGGCTCCATG & 0 & 0 & 0 & 0\\\\\n",
       "\\end{tabular}\n"
      ],
      "text/markdown": [
       "\n",
       "A data.frame: 5 × 5\n",
       "\n",
       "| <!--/--> | sgrna &lt;chr&gt; | ACH-001020 &lt;dbl&gt; | ACH-000317 &lt;dbl&gt; | ACH-000172 &lt;dbl&gt; | ACH-000527 &lt;dbl&gt; |\n",
       "|---|---|---|---|---|---|\n",
       "| 1 | AACAATGCCCGTTTGCTGCA | 0 | 0 | 0 | 0 |\n",
       "| 2 | AACTACCTATGACAGTGCCG | 0 | 0 | 0 | 0 |\n",
       "| 3 | AAGCTGCTCGATGAGAACAG | 0 | 0 | 1 | 0 |\n",
       "| 4 | AATGCTGGCGGCAGCAGCAA | 1 | 1 | 0 | 1 |\n",
       "| 5 | AATGGTTTGCTGGCTCCATG | 0 | 0 | 0 | 0 |\n",
       "\n"
      ],
      "text/plain": [
       "  sgrna                ACH-001020 ACH-000317 ACH-000172 ACH-000527\n",
       "1 AACAATGCCCGTTTGCTGCA 0          0          0          0         \n",
       "2 AACTACCTATGACAGTGCCG 0          0          0          0         \n",
       "3 AAGCTGCTCGATGAGAACAG 0          0          1          0         \n",
       "4 AATGCTGGCGGCAGCAGCAA 1          1          0          1         \n",
       "5 AATGGTTTGCTGGCTCCATG 0          0          0          0         "
      ]
     },
     "metadata": {},
     "output_type": "display_data"
    }
   ],
   "source": [
    "casp[1:5, 1:5]"
   ]
  },
  {
   "cell_type": "code",
   "execution_count": 58,
   "metadata": {},
   "outputs": [],
   "source": [
    "#Add in the gene name\n",
    "casp = cbind(casp$sgrna, casp) %>% data.frame()\n",
    "colnames(casp)[1] <- \"gene\"\n",
    "casp$gene = plyr::mapvalues(casp$gene, from = snp.guide.matrix$sgrna, to = snp.guide.matrix$gene, warn_missing = FALSE)"
   ]
  },
  {
   "cell_type": "code",
   "execution_count": 60,
   "metadata": {
    "scrolled": true
   },
   "outputs": [
    {
     "data": {
      "text/html": [
       "<table class=\"dataframe\">\n",
       "<caption>A data.frame: 10 × 10</caption>\n",
       "<thead>\n",
       "\t<tr><th></th><th scope=col>gene</th><th scope=col>sgrna</th><th scope=col>ACH.001020</th><th scope=col>ACH.000317</th><th scope=col>ACH.000172</th><th scope=col>ACH.000527</th><th scope=col>ACH.001494</th><th scope=col>ACH.000522</th><th scope=col>ACH.001609</th><th scope=col>ACH.000183</th></tr>\n",
       "\t<tr><th></th><th scope=col>&lt;chr&gt;</th><th scope=col>&lt;chr&gt;</th><th scope=col>&lt;dbl&gt;</th><th scope=col>&lt;dbl&gt;</th><th scope=col>&lt;dbl&gt;</th><th scope=col>&lt;dbl&gt;</th><th scope=col>&lt;dbl&gt;</th><th scope=col>&lt;dbl&gt;</th><th scope=col>&lt;dbl&gt;</th><th scope=col>&lt;dbl&gt;</th></tr>\n",
       "</thead>\n",
       "<tbody>\n",
       "\t<tr><th scope=row>1</th><td>TPSD1   </td><td>AACAATGCCCGTTTGCTGCA</td><td>0</td><td>0</td><td>0</td><td>0</td><td>0</td><td>0</td><td>0</td><td>1</td></tr>\n",
       "\t<tr><th scope=row>2</th><td>CLSPN   </td><td>AACTACCTATGACAGTGCCG</td><td>0</td><td>0</td><td>0</td><td>0</td><td>0</td><td>0</td><td>0</td><td>0</td></tr>\n",
       "\t<tr><th scope=row>3</th><td>MDN1    </td><td>AAGCTGCTCGATGAGAACAG</td><td>0</td><td>0</td><td>1</td><td>0</td><td>1</td><td>0</td><td>0</td><td>0</td></tr>\n",
       "\t<tr><th scope=row>4</th><td>PILRA   </td><td>AATGCTGGCGGCAGCAGCAA</td><td>1</td><td>1</td><td>0</td><td>1</td><td>1</td><td>1</td><td>1</td><td>1</td></tr>\n",
       "\t<tr><th scope=row>5</th><td>PSORS1C1</td><td>AATGGTTTGCTGGCTCCATG</td><td>0</td><td>0</td><td>0</td><td>0</td><td>0</td><td>0</td><td>0</td><td>0</td></tr>\n",
       "\t<tr><th scope=row>6</th><td>C2orf80 </td><td>AATTTGACCCAAAAGGAAGA</td><td>0</td><td>0</td><td>0</td><td>0</td><td>0</td><td>0</td><td>0</td><td>0</td></tr>\n",
       "\t<tr><th scope=row>7</th><td>ZNF169  </td><td>ACACAGGTATGGCTTCTCCC</td><td>0</td><td>0</td><td>0</td><td>0</td><td>0</td><td>0</td><td>0</td><td>0</td></tr>\n",
       "\t<tr><th scope=row>8</th><td>OR4K1   </td><td>ACAGTACAATTATGAACCGG</td><td>0</td><td>0</td><td>0</td><td>0</td><td>0</td><td>1</td><td>0</td><td>0</td></tr>\n",
       "\t<tr><th scope=row>9</th><td>UGT2B17 </td><td>ACAGTTGAGAAGAATGGTGG</td><td>0</td><td>0</td><td>0</td><td>0</td><td>0</td><td>0</td><td>0</td><td>0</td></tr>\n",
       "\t<tr><th scope=row>10</th><td>ECD     </td><td>ACATTGAGAGAATAATCACT</td><td>0</td><td>0</td><td>0</td><td>1</td><td>0</td><td>0</td><td>0</td><td>0</td></tr>\n",
       "</tbody>\n",
       "</table>\n"
      ],
      "text/latex": [
       "A data.frame: 10 × 10\n",
       "\\begin{tabular}{r|llllllllll}\n",
       "  & gene & sgrna & ACH.001020 & ACH.000317 & ACH.000172 & ACH.000527 & ACH.001494 & ACH.000522 & ACH.001609 & ACH.000183\\\\\n",
       "  & <chr> & <chr> & <dbl> & <dbl> & <dbl> & <dbl> & <dbl> & <dbl> & <dbl> & <dbl>\\\\\n",
       "\\hline\n",
       "\t1 & TPSD1    & AACAATGCCCGTTTGCTGCA & 0 & 0 & 0 & 0 & 0 & 0 & 0 & 1\\\\\n",
       "\t2 & CLSPN    & AACTACCTATGACAGTGCCG & 0 & 0 & 0 & 0 & 0 & 0 & 0 & 0\\\\\n",
       "\t3 & MDN1     & AAGCTGCTCGATGAGAACAG & 0 & 0 & 1 & 0 & 1 & 0 & 0 & 0\\\\\n",
       "\t4 & PILRA    & AATGCTGGCGGCAGCAGCAA & 1 & 1 & 0 & 1 & 1 & 1 & 1 & 1\\\\\n",
       "\t5 & PSORS1C1 & AATGGTTTGCTGGCTCCATG & 0 & 0 & 0 & 0 & 0 & 0 & 0 & 0\\\\\n",
       "\t6 & C2orf80  & AATTTGACCCAAAAGGAAGA & 0 & 0 & 0 & 0 & 0 & 0 & 0 & 0\\\\\n",
       "\t7 & ZNF169   & ACACAGGTATGGCTTCTCCC & 0 & 0 & 0 & 0 & 0 & 0 & 0 & 0\\\\\n",
       "\t8 & OR4K1    & ACAGTACAATTATGAACCGG & 0 & 0 & 0 & 0 & 0 & 1 & 0 & 0\\\\\n",
       "\t9 & UGT2B17  & ACAGTTGAGAAGAATGGTGG & 0 & 0 & 0 & 0 & 0 & 0 & 0 & 0\\\\\n",
       "\t10 & ECD      & ACATTGAGAGAATAATCACT & 0 & 0 & 0 & 1 & 0 & 0 & 0 & 0\\\\\n",
       "\\end{tabular}\n"
      ],
      "text/markdown": [
       "\n",
       "A data.frame: 10 × 10\n",
       "\n",
       "| <!--/--> | gene &lt;chr&gt; | sgrna &lt;chr&gt; | ACH.001020 &lt;dbl&gt; | ACH.000317 &lt;dbl&gt; | ACH.000172 &lt;dbl&gt; | ACH.000527 &lt;dbl&gt; | ACH.001494 &lt;dbl&gt; | ACH.000522 &lt;dbl&gt; | ACH.001609 &lt;dbl&gt; | ACH.000183 &lt;dbl&gt; |\n",
       "|---|---|---|---|---|---|---|---|---|---|---|\n",
       "| 1 | TPSD1    | AACAATGCCCGTTTGCTGCA | 0 | 0 | 0 | 0 | 0 | 0 | 0 | 1 |\n",
       "| 2 | CLSPN    | AACTACCTATGACAGTGCCG | 0 | 0 | 0 | 0 | 0 | 0 | 0 | 0 |\n",
       "| 3 | MDN1     | AAGCTGCTCGATGAGAACAG | 0 | 0 | 1 | 0 | 1 | 0 | 0 | 0 |\n",
       "| 4 | PILRA    | AATGCTGGCGGCAGCAGCAA | 1 | 1 | 0 | 1 | 1 | 1 | 1 | 1 |\n",
       "| 5 | PSORS1C1 | AATGGTTTGCTGGCTCCATG | 0 | 0 | 0 | 0 | 0 | 0 | 0 | 0 |\n",
       "| 6 | C2orf80  | AATTTGACCCAAAAGGAAGA | 0 | 0 | 0 | 0 | 0 | 0 | 0 | 0 |\n",
       "| 7 | ZNF169   | ACACAGGTATGGCTTCTCCC | 0 | 0 | 0 | 0 | 0 | 0 | 0 | 0 |\n",
       "| 8 | OR4K1    | ACAGTACAATTATGAACCGG | 0 | 0 | 0 | 0 | 0 | 1 | 0 | 0 |\n",
       "| 9 | UGT2B17  | ACAGTTGAGAAGAATGGTGG | 0 | 0 | 0 | 0 | 0 | 0 | 0 | 0 |\n",
       "| 10 | ECD      | ACATTGAGAGAATAATCACT | 0 | 0 | 0 | 1 | 0 | 0 | 0 | 0 |\n",
       "\n"
      ],
      "text/plain": [
       "   gene     sgrna                ACH.001020 ACH.000317 ACH.000172 ACH.000527\n",
       "1  TPSD1    AACAATGCCCGTTTGCTGCA 0          0          0          0         \n",
       "2  CLSPN    AACTACCTATGACAGTGCCG 0          0          0          0         \n",
       "3  MDN1     AAGCTGCTCGATGAGAACAG 0          0          1          0         \n",
       "4  PILRA    AATGCTGGCGGCAGCAGCAA 1          1          0          1         \n",
       "5  PSORS1C1 AATGGTTTGCTGGCTCCATG 0          0          0          0         \n",
       "6  C2orf80  AATTTGACCCAAAAGGAAGA 0          0          0          0         \n",
       "7  ZNF169   ACACAGGTATGGCTTCTCCC 0          0          0          0         \n",
       "8  OR4K1    ACAGTACAATTATGAACCGG 0          0          0          0         \n",
       "9  UGT2B17  ACAGTTGAGAAGAATGGTGG 0          0          0          0         \n",
       "10 ECD      ACATTGAGAGAATAATCACT 0          0          0          1         \n",
       "   ACH.001494 ACH.000522 ACH.001609 ACH.000183\n",
       "1  0          0          0          1         \n",
       "2  0          0          0          0         \n",
       "3  1          0          0          0         \n",
       "4  1          1          1          1         \n",
       "5  0          0          0          0         \n",
       "6  0          0          0          0         \n",
       "7  0          0          0          0         \n",
       "8  0          1          0          0         \n",
       "9  0          0          0          0         \n",
       "10 0          0          0          0         "
      ]
     },
     "metadata": {},
     "output_type": "display_data"
    },
    {
     "data": {
      "text/html": [
       "65"
      ],
      "text/latex": [
       "65"
      ],
      "text/markdown": [
       "65"
      ],
      "text/plain": [
       "[1] 65"
      ]
     },
     "metadata": {},
     "output_type": "display_data"
    }
   ],
   "source": [
    "casp[1:10, 1:10]\n",
    "casp$gene %>% unique %>% length()"
   ]
  },
  {
   "cell_type": "markdown",
   "metadata": {},
   "source": [
    "In this next step we will map the snps to the sgrna targeting sequences to find where the snps map in the affected guides"
   ]
  },
  {
   "cell_type": "code",
   "execution_count": 74,
   "metadata": {},
   "outputs": [],
   "source": [
    "#We have the bed file, but we also need to annotate the bed file with which strand the guide binds to so that we know which side the ngg is on\n",
    "\n",
    "#Load in the guide annotation data from the gpp website\n",
    "system(glue::glue(\"\n",
    "cd {working_dir}/raw_data/depmap/{out_directory}\n",
    "gsutil cp gs://fc-45c0e148-0b1c-4244-9bfc-feb559bbc514/CP0033_9606_GRCh38_20181031_ontarget.bed .\n",
    "gsutil cp gs://fc-45c0e148-0b1c-4244-9bfc-feb559bbc514/CP0033_reference_20141120.csv .\n",
    "\"))\n",
    "\n",
    "paste({working_dir}, \"/raw_data/depmap/\", {out_directory}, sep = \"\") %>% setwd()\n",
    "brd.to.guide = read.table('CP0033_reference_20141120.csv', sep = \",\")\n",
    "strand.info = read.table('CP0033_9606_GRCh38_20181031_ontarget.bed', sep = \"\\t\")"
   ]
  },
  {
   "cell_type": "code",
   "execution_count": 76,
   "metadata": {},
   "outputs": [],
   "source": [
    "#Now annotate avana.bed so that it also includes the strand information\n",
    "avana.bed = cbind(avana.bed, avana.bed[,4]) %>% data.frame()\n",
    "colnames(avana.bed) = c(\"chr\", \"start\", \"end\", \"sgrna\", \"strand\")\n",
    "\n",
    "#map the strand column so that it contains the strand information\n",
    "avana.bed$strand = plyr::mapvalues(avana.bed$strand, from = brd.to.guide[,1], to = brd.to.guide[,2], warn_missing = FALSE)\n",
    "avana.bed$strand = plyr::mapvalues(avana.bed$strand, from = strand.info[,4], to = strand.info[,6], warn_missing = FALSE)"
   ]
  },
  {
   "cell_type": "code",
   "execution_count": 79,
   "metadata": {
    "scrolled": true
   },
   "outputs": [
    {
     "data": {
      "text/html": [
       "<table class=\"dataframe\">\n",
       "<caption>A data.frame: 10 × 10</caption>\n",
       "<thead>\n",
       "\t<tr><th></th><th scope=col>gene</th><th scope=col>sgrna</th><th scope=col>chr</th><th scope=col>pos</th><th scope=col>ACH-002214</th><th scope=col>ACH-001020</th><th scope=col>ACH-000317</th><th scope=col>ACH-000382</th><th scope=col>ACH-000172</th><th scope=col>ACH-000527</th></tr>\n",
       "\t<tr><th></th><th scope=col>&lt;chr&gt;</th><th scope=col>&lt;chr&gt;</th><th scope=col>&lt;chr&gt;</th><th scope=col>&lt;int&gt;</th><th scope=col>&lt;int&gt;</th><th scope=col>&lt;int&gt;</th><th scope=col>&lt;int&gt;</th><th scope=col>&lt;int&gt;</th><th scope=col>&lt;int&gt;</th><th scope=col>&lt;int&gt;</th></tr>\n",
       "</thead>\n",
       "<tbody>\n",
       "\t<tr><th scope=row>1</th><td>OR4F17</td><td>TCTCCATTCGGTGAGCCAGT</td><td>chr1</td><td> 69534</td><td>0</td><td>0</td><td>0</td><td>0</td><td>0</td><td>0</td></tr>\n",
       "\t<tr><th scope=row>2</th><td>SAMD11</td><td>GCTTGTGTCAGCACTGAGCG</td><td>chr1</td><td>939354</td><td>0</td><td>0</td><td>0</td><td>0</td><td>0</td><td>0</td></tr>\n",
       "\t<tr><th scope=row>3</th><td>SAMD11</td><td>GCTTGTGTCAGCACTGAGCG</td><td>chr1</td><td>939355</td><td>0</td><td>0</td><td>0</td><td>0</td><td>0</td><td>0</td></tr>\n",
       "\t<tr><th scope=row>4</th><td>SAMD11</td><td>GCTTGTGTCAGCACTGAGCG</td><td>chr1</td><td>939356</td><td>0</td><td>0</td><td>0</td><td>0</td><td>0</td><td>0</td></tr>\n",
       "\t<tr><th scope=row>5</th><td>SAMD11</td><td>GCTTGTGTCAGCACTGAGCG</td><td>chr1</td><td>939358</td><td>0</td><td>0</td><td>0</td><td>0</td><td>0</td><td>0</td></tr>\n",
       "\t<tr><th scope=row>6</th><td>NOC2L </td><td>CCATCTCTCAACCATGGCGA</td><td>chr1</td><td>956930</td><td>0</td><td>0</td><td>0</td><td>0</td><td>0</td><td>0</td></tr>\n",
       "\t<tr><th scope=row>7</th><td>KLHL17</td><td>GCCCGCCTCCTGCAGCCCCG</td><td>chr1</td><td>961286</td><td>0</td><td>0</td><td>0</td><td>0</td><td>0</td><td>0</td></tr>\n",
       "\t<tr><th scope=row>8</th><td>KLHL17</td><td>GCCCGCCTCCTGCAGCCCCG</td><td>chr1</td><td>961297</td><td>0</td><td>0</td><td>0</td><td>0</td><td>0</td><td>0</td></tr>\n",
       "\t<tr><th scope=row>9</th><td>KLHL17</td><td>GCGTGGCCCACAACTCCAAG</td><td>chr1</td><td>961388</td><td>0</td><td>0</td><td>0</td><td>0</td><td>0</td><td>0</td></tr>\n",
       "\t<tr><th scope=row>10</th><td>KLHL17</td><td>GCGTGGCCCACAACTCCAAG</td><td>chr1</td><td>961395</td><td>0</td><td>0</td><td>0</td><td>0</td><td>0</td><td>0</td></tr>\n",
       "</tbody>\n",
       "</table>\n"
      ],
      "text/latex": [
       "A data.frame: 10 × 10\n",
       "\\begin{tabular}{r|llllllllll}\n",
       "  & gene & sgrna & chr & pos & ACH-002214 & ACH-001020 & ACH-000317 & ACH-000382 & ACH-000172 & ACH-000527\\\\\n",
       "  & <chr> & <chr> & <chr> & <int> & <int> & <int> & <int> & <int> & <int> & <int>\\\\\n",
       "\\hline\n",
       "\t1 & OR4F17 & TCTCCATTCGGTGAGCCAGT & chr1 &  69534 & 0 & 0 & 0 & 0 & 0 & 0\\\\\n",
       "\t2 & SAMD11 & GCTTGTGTCAGCACTGAGCG & chr1 & 939354 & 0 & 0 & 0 & 0 & 0 & 0\\\\\n",
       "\t3 & SAMD11 & GCTTGTGTCAGCACTGAGCG & chr1 & 939355 & 0 & 0 & 0 & 0 & 0 & 0\\\\\n",
       "\t4 & SAMD11 & GCTTGTGTCAGCACTGAGCG & chr1 & 939356 & 0 & 0 & 0 & 0 & 0 & 0\\\\\n",
       "\t5 & SAMD11 & GCTTGTGTCAGCACTGAGCG & chr1 & 939358 & 0 & 0 & 0 & 0 & 0 & 0\\\\\n",
       "\t6 & NOC2L  & CCATCTCTCAACCATGGCGA & chr1 & 956930 & 0 & 0 & 0 & 0 & 0 & 0\\\\\n",
       "\t7 & KLHL17 & GCCCGCCTCCTGCAGCCCCG & chr1 & 961286 & 0 & 0 & 0 & 0 & 0 & 0\\\\\n",
       "\t8 & KLHL17 & GCCCGCCTCCTGCAGCCCCG & chr1 & 961297 & 0 & 0 & 0 & 0 & 0 & 0\\\\\n",
       "\t9 & KLHL17 & GCGTGGCCCACAACTCCAAG & chr1 & 961388 & 0 & 0 & 0 & 0 & 0 & 0\\\\\n",
       "\t10 & KLHL17 & GCGTGGCCCACAACTCCAAG & chr1 & 961395 & 0 & 0 & 0 & 0 & 0 & 0\\\\\n",
       "\\end{tabular}\n"
      ],
      "text/markdown": [
       "\n",
       "A data.frame: 10 × 10\n",
       "\n",
       "| <!--/--> | gene &lt;chr&gt; | sgrna &lt;chr&gt; | chr &lt;chr&gt; | pos &lt;int&gt; | ACH-002214 &lt;int&gt; | ACH-001020 &lt;int&gt; | ACH-000317 &lt;int&gt; | ACH-000382 &lt;int&gt; | ACH-000172 &lt;int&gt; | ACH-000527 &lt;int&gt; |\n",
       "|---|---|---|---|---|---|---|---|---|---|---|\n",
       "| 1 | OR4F17 | TCTCCATTCGGTGAGCCAGT | chr1 |  69534 | 0 | 0 | 0 | 0 | 0 | 0 |\n",
       "| 2 | SAMD11 | GCTTGTGTCAGCACTGAGCG | chr1 | 939354 | 0 | 0 | 0 | 0 | 0 | 0 |\n",
       "| 3 | SAMD11 | GCTTGTGTCAGCACTGAGCG | chr1 | 939355 | 0 | 0 | 0 | 0 | 0 | 0 |\n",
       "| 4 | SAMD11 | GCTTGTGTCAGCACTGAGCG | chr1 | 939356 | 0 | 0 | 0 | 0 | 0 | 0 |\n",
       "| 5 | SAMD11 | GCTTGTGTCAGCACTGAGCG | chr1 | 939358 | 0 | 0 | 0 | 0 | 0 | 0 |\n",
       "| 6 | NOC2L  | CCATCTCTCAACCATGGCGA | chr1 | 956930 | 0 | 0 | 0 | 0 | 0 | 0 |\n",
       "| 7 | KLHL17 | GCCCGCCTCCTGCAGCCCCG | chr1 | 961286 | 0 | 0 | 0 | 0 | 0 | 0 |\n",
       "| 8 | KLHL17 | GCCCGCCTCCTGCAGCCCCG | chr1 | 961297 | 0 | 0 | 0 | 0 | 0 | 0 |\n",
       "| 9 | KLHL17 | GCGTGGCCCACAACTCCAAG | chr1 | 961388 | 0 | 0 | 0 | 0 | 0 | 0 |\n",
       "| 10 | KLHL17 | GCGTGGCCCACAACTCCAAG | chr1 | 961395 | 0 | 0 | 0 | 0 | 0 | 0 |\n",
       "\n"
      ],
      "text/plain": [
       "   gene   sgrna                chr  pos    ACH-002214 ACH-001020 ACH-000317\n",
       "1  OR4F17 TCTCCATTCGGTGAGCCAGT chr1  69534 0          0          0         \n",
       "2  SAMD11 GCTTGTGTCAGCACTGAGCG chr1 939354 0          0          0         \n",
       "3  SAMD11 GCTTGTGTCAGCACTGAGCG chr1 939355 0          0          0         \n",
       "4  SAMD11 GCTTGTGTCAGCACTGAGCG chr1 939356 0          0          0         \n",
       "5  SAMD11 GCTTGTGTCAGCACTGAGCG chr1 939358 0          0          0         \n",
       "6  NOC2L  CCATCTCTCAACCATGGCGA chr1 956930 0          0          0         \n",
       "7  KLHL17 GCCCGCCTCCTGCAGCCCCG chr1 961286 0          0          0         \n",
       "8  KLHL17 GCCCGCCTCCTGCAGCCCCG chr1 961297 0          0          0         \n",
       "9  KLHL17 GCGTGGCCCACAACTCCAAG chr1 961388 0          0          0         \n",
       "10 KLHL17 GCGTGGCCCACAACTCCAAG chr1 961395 0          0          0         \n",
       "   ACH-000382 ACH-000172 ACH-000527\n",
       "1  0          0          0         \n",
       "2  0          0          0         \n",
       "3  0          0          0         \n",
       "4  0          0          0         \n",
       "5  0          0          0         \n",
       "6  0          0          0         \n",
       "7  0          0          0         \n",
       "8  0          0          0         \n",
       "9  0          0          0         \n",
       "10 0          0          0         "
      ]
     },
     "metadata": {},
     "output_type": "display_data"
    }
   ],
   "source": [
    "snp.guide.matrix[1:10, 1:10]"
   ]
  },
  {
   "cell_type": "code",
   "execution_count": 80,
   "metadata": {},
   "outputs": [
    {
     "data": {
      "text/html": [
       "<table class=\"dataframe\">\n",
       "<caption>A data.frame: 6 × 5</caption>\n",
       "<thead>\n",
       "\t<tr><th></th><th scope=col>chr</th><th scope=col>start</th><th scope=col>end</th><th scope=col>sgrna</th><th scope=col>strand</th></tr>\n",
       "\t<tr><th></th><th scope=col>&lt;chr&gt;</th><th scope=col>&lt;int&gt;</th><th scope=col>&lt;dbl&gt;</th><th scope=col>&lt;chr&gt;</th><th scope=col>&lt;chr&gt;</th></tr>\n",
       "</thead>\n",
       "<tbody>\n",
       "\t<tr><th scope=row>1</th><td>chr1</td><td> 69527</td><td> 69550</td><td>TCTCCATTCGGTGAGCCAGT</td><td>+</td></tr>\n",
       "\t<tr><th scope=row>2</th><td>chr1</td><td>168646</td><td>168669</td><td>TGTAGTCCCAGCTACTCAGG</td><td>-</td></tr>\n",
       "\t<tr><th scope=row>3</th><td>chr1</td><td>383420</td><td>383443</td><td>GAGAATCTCTTGAACCCGGG</td><td>+</td></tr>\n",
       "\t<tr><th scope=row>4</th><td>chr1</td><td>424270</td><td>424293</td><td>TGTAATCCCAGTACTTTGGG</td><td>+</td></tr>\n",
       "\t<tr><th scope=row>5</th><td>chr1</td><td>451271</td><td>451294</td><td>ATAATGGTCAGATAGTGGAG</td><td>+</td></tr>\n",
       "\t<tr><th scope=row>6</th><td>chr1</td><td>451344</td><td>451367</td><td>TCTCCACACCACCAACGACG</td><td>+</td></tr>\n",
       "</tbody>\n",
       "</table>\n"
      ],
      "text/latex": [
       "A data.frame: 6 × 5\n",
       "\\begin{tabular}{r|lllll}\n",
       "  & chr & start & end & sgrna & strand\\\\\n",
       "  & <chr> & <int> & <dbl> & <chr> & <chr>\\\\\n",
       "\\hline\n",
       "\t1 & chr1 &  69527 &  69550 & TCTCCATTCGGTGAGCCAGT & +\\\\\n",
       "\t2 & chr1 & 168646 & 168669 & TGTAGTCCCAGCTACTCAGG & -\\\\\n",
       "\t3 & chr1 & 383420 & 383443 & GAGAATCTCTTGAACCCGGG & +\\\\\n",
       "\t4 & chr1 & 424270 & 424293 & TGTAATCCCAGTACTTTGGG & +\\\\\n",
       "\t5 & chr1 & 451271 & 451294 & ATAATGGTCAGATAGTGGAG & +\\\\\n",
       "\t6 & chr1 & 451344 & 451367 & TCTCCACACCACCAACGACG & +\\\\\n",
       "\\end{tabular}\n"
      ],
      "text/markdown": [
       "\n",
       "A data.frame: 6 × 5\n",
       "\n",
       "| <!--/--> | chr &lt;chr&gt; | start &lt;int&gt; | end &lt;dbl&gt; | sgrna &lt;chr&gt; | strand &lt;chr&gt; |\n",
       "|---|---|---|---|---|---|\n",
       "| 1 | chr1 |  69527 |  69550 | TCTCCATTCGGTGAGCCAGT | + |\n",
       "| 2 | chr1 | 168646 | 168669 | TGTAGTCCCAGCTACTCAGG | - |\n",
       "| 3 | chr1 | 383420 | 383443 | GAGAATCTCTTGAACCCGGG | + |\n",
       "| 4 | chr1 | 424270 | 424293 | TGTAATCCCAGTACTTTGGG | + |\n",
       "| 5 | chr1 | 451271 | 451294 | ATAATGGTCAGATAGTGGAG | + |\n",
       "| 6 | chr1 | 451344 | 451367 | TCTCCACACCACCAACGACG | + |\n",
       "\n"
      ],
      "text/plain": [
       "  chr  start  end    sgrna                strand\n",
       "1 chr1  69527  69550 TCTCCATTCGGTGAGCCAGT +     \n",
       "2 chr1 168646 168669 TGTAGTCCCAGCTACTCAGG -     \n",
       "3 chr1 383420 383443 GAGAATCTCTTGAACCCGGG +     \n",
       "4 chr1 424270 424293 TGTAATCCCAGTACTTTGGG +     \n",
       "5 chr1 451271 451294 ATAATGGTCAGATAGTGGAG +     \n",
       "6 chr1 451344 451367 TCTCCACACCACCAACGACG +     "
      ]
     },
     "metadata": {},
     "output_type": "display_data"
    }
   ],
   "source": [
    "head(avana.bed)"
   ]
  },
  {
   "cell_type": "code",
   "execution_count": 116,
   "metadata": {},
   "outputs": [
    {
     "name": "stdout",
     "output_type": "stream",
     "text": [
      "557.26 sec elapsed\n"
     ]
    }
   ],
   "source": [
    "#Map the position of each SNP to the guides\n",
    "\n",
    "tic()\n",
    "\n",
    "dist.vector = apply(snp.guide.matrix, 1, function(x){\n",
    "    \n",
    "    gene = x[1] #extract the gene of interest\n",
    "    sgrna = x[2] #extract the sgrna of interest\n",
    "    pos = x[4] %>% as.numeric() #extract the position of interest\n",
    "    \n",
    "    strand = avana.bed[avana.bed$sgrna %in% sgrna, 5] #Figure out what strand the sgrna is mapping to\n",
    "    guide.start = avana.bed[avana.bed$sgrna %in% sgrna, 2] %>% as.numeric() #Get the starting position of the guide\n",
    "    guide.end = avana.bed[avana.bed$sgrna %in% sgrna, 3] %>% as.numeric() #Get the end position of the guide\n",
    "    \n",
    "    if(strand %in% \"+\"){\n",
    "            dist = pos - guide.start \n",
    "    } else {\n",
    "            dist = guide.end - pos\n",
    "    }\n",
    "    \n",
    "    dist #print the output\n",
    "    \n",
    "})\n",
    "\n",
    "\n",
    "toc()"
   ]
  },
  {
   "cell_type": "code",
   "execution_count": 120,
   "metadata": {},
   "outputs": [],
   "source": [
    "#Add the distance to snp.guide.matrix\n",
    "snp.guide.matrix = cbind(dist.vector, snp.guide.matrix) %>% data.frame()\n",
    "colnames(snp.guide.matrix)[1] <- \"snp_position\"\n"
   ]
  },
  {
   "cell_type": "code",
   "execution_count": 121,
   "metadata": {},
   "outputs": [
    {
     "data": {
      "text/html": [
       "<table class=\"dataframe\">\n",
       "<caption>A data.frame: 5 × 5</caption>\n",
       "<thead>\n",
       "\t<tr><th></th><th scope=col>snp_position</th><th scope=col>gene</th><th scope=col>sgrna</th><th scope=col>chr</th><th scope=col>pos</th></tr>\n",
       "\t<tr><th></th><th scope=col>&lt;dbl&gt;</th><th scope=col>&lt;chr&gt;</th><th scope=col>&lt;chr&gt;</th><th scope=col>&lt;chr&gt;</th><th scope=col>&lt;int&gt;</th></tr>\n",
       "</thead>\n",
       "<tbody>\n",
       "\t<tr><th scope=row>1</th><td> 7</td><td>OR4F17</td><td>TCTCCATTCGGTGAGCCAGT</td><td>chr1</td><td> 69534</td></tr>\n",
       "\t<tr><th scope=row>2</th><td>19</td><td>SAMD11</td><td>GCTTGTGTCAGCACTGAGCG</td><td>chr1</td><td>939354</td></tr>\n",
       "\t<tr><th scope=row>3</th><td>20</td><td>SAMD11</td><td>GCTTGTGTCAGCACTGAGCG</td><td>chr1</td><td>939355</td></tr>\n",
       "\t<tr><th scope=row>4</th><td>21</td><td>SAMD11</td><td>GCTTGTGTCAGCACTGAGCG</td><td>chr1</td><td>939356</td></tr>\n",
       "\t<tr><th scope=row>5</th><td>23</td><td>SAMD11</td><td>GCTTGTGTCAGCACTGAGCG</td><td>chr1</td><td>939358</td></tr>\n",
       "</tbody>\n",
       "</table>\n"
      ],
      "text/latex": [
       "A data.frame: 5 × 5\n",
       "\\begin{tabular}{r|lllll}\n",
       "  & snp\\_position & gene & sgrna & chr & pos\\\\\n",
       "  & <dbl> & <chr> & <chr> & <chr> & <int>\\\\\n",
       "\\hline\n",
       "\t1 &  7 & OR4F17 & TCTCCATTCGGTGAGCCAGT & chr1 &  69534\\\\\n",
       "\t2 & 19 & SAMD11 & GCTTGTGTCAGCACTGAGCG & chr1 & 939354\\\\\n",
       "\t3 & 20 & SAMD11 & GCTTGTGTCAGCACTGAGCG & chr1 & 939355\\\\\n",
       "\t4 & 21 & SAMD11 & GCTTGTGTCAGCACTGAGCG & chr1 & 939356\\\\\n",
       "\t5 & 23 & SAMD11 & GCTTGTGTCAGCACTGAGCG & chr1 & 939358\\\\\n",
       "\\end{tabular}\n"
      ],
      "text/markdown": [
       "\n",
       "A data.frame: 5 × 5\n",
       "\n",
       "| <!--/--> | snp_position &lt;dbl&gt; | gene &lt;chr&gt; | sgrna &lt;chr&gt; | chr &lt;chr&gt; | pos &lt;int&gt; |\n",
       "|---|---|---|---|---|---|\n",
       "| 1 |  7 | OR4F17 | TCTCCATTCGGTGAGCCAGT | chr1 |  69534 |\n",
       "| 2 | 19 | SAMD11 | GCTTGTGTCAGCACTGAGCG | chr1 | 939354 |\n",
       "| 3 | 20 | SAMD11 | GCTTGTGTCAGCACTGAGCG | chr1 | 939355 |\n",
       "| 4 | 21 | SAMD11 | GCTTGTGTCAGCACTGAGCG | chr1 | 939356 |\n",
       "| 5 | 23 | SAMD11 | GCTTGTGTCAGCACTGAGCG | chr1 | 939358 |\n",
       "\n"
      ],
      "text/plain": [
       "  snp_position gene   sgrna                chr  pos   \n",
       "1  7           OR4F17 TCTCCATTCGGTGAGCCAGT chr1  69534\n",
       "2 19           SAMD11 GCTTGTGTCAGCACTGAGCG chr1 939354\n",
       "3 20           SAMD11 GCTTGTGTCAGCACTGAGCG chr1 939355\n",
       "4 21           SAMD11 GCTTGTGTCAGCACTGAGCG chr1 939356\n",
       "5 23           SAMD11 GCTTGTGTCAGCACTGAGCG chr1 939358"
      ]
     },
     "metadata": {},
     "output_type": "display_data"
    }
   ],
   "source": [
    "snp.guide.matrix[1:5, 1:5]"
   ]
  },
  {
   "cell_type": "code",
   "execution_count": null,
   "metadata": {},
   "outputs": [],
   "source": [
    "###Next step, use ggplot to construct the heatmap\n",
    "###May need to massage the data to make it into a matrix or something"
   ]
  },
  {
   "cell_type": "code",
   "execution_count": null,
   "metadata": {},
   "outputs": [],
   "source": []
  },
  {
   "cell_type": "code",
   "execution_count": null,
   "metadata": {},
   "outputs": [],
   "source": []
  }
 ],
 "metadata": {
  "kernelspec": {
   "display_name": "R",
   "language": "R",
   "name": "ir"
  },
  "language_info": {
   "codemirror_mode": "r",
   "file_extension": ".r",
   "mimetype": "text/x-r-source",
   "name": "R",
   "pygments_lexer": "r",
   "version": "4.1.0"
  },
  "toc": {
   "base_numbering": 1,
   "nav_menu": {},
   "number_sections": true,
   "sideBar": true,
   "skip_h1_title": false,
   "title_cell": "Table of Contents",
   "title_sidebar": "Contents",
   "toc_cell": false,
   "toc_position": {},
   "toc_section_display": true,
   "toc_window_display": false
  }
 },
 "nbformat": 4,
 "nbformat_minor": 2
}
