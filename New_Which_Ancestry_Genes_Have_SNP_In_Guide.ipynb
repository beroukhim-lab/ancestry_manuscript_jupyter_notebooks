{
 "cells": [
  {
   "cell_type": "markdown",
   "metadata": {},
   "source": [
    "The goal of this notebook is to make some sort of plot that shows where in the sgRNA the SNPs are for the ancestry-associated genes"
   ]
  },
  {
   "cell_type": "code",
   "execution_count": 1,
   "metadata": {},
   "outputs": [
    {
     "name": "stderr",
     "output_type": "stream",
     "text": [
      "Warning message in system(\"timedatectl\", intern = TRUE):\n",
      "“running command 'timedatectl' had status 1”\n",
      "── \u001b[1mAttaching packages\u001b[22m ─────────────────────────────────────── tidyverse 1.3.1 ──\n",
      "\n",
      "\u001b[32m✔\u001b[39m \u001b[34mggplot2\u001b[39m 3.3.6     \u001b[32m✔\u001b[39m \u001b[34mpurrr  \u001b[39m 0.3.4\n",
      "\u001b[32m✔\u001b[39m \u001b[34mtibble \u001b[39m 3.1.7     \u001b[32m✔\u001b[39m \u001b[34mdplyr  \u001b[39m 1.0.9\n",
      "\u001b[32m✔\u001b[39m \u001b[34mtidyr  \u001b[39m 1.2.0     \u001b[32m✔\u001b[39m \u001b[34mstringr\u001b[39m 1.4.0\n",
      "\u001b[32m✔\u001b[39m \u001b[34mreadr  \u001b[39m 2.1.2     \u001b[32m✔\u001b[39m \u001b[34mforcats\u001b[39m 0.5.1\n",
      "\n",
      "── \u001b[1mConflicts\u001b[22m ────────────────────────────────────────── tidyverse_conflicts() ──\n",
      "\u001b[31m✖\u001b[39m \u001b[34mdplyr\u001b[39m::\u001b[32mfilter()\u001b[39m masks \u001b[34mstats\u001b[39m::filter()\n",
      "\u001b[31m✖\u001b[39m \u001b[34mdplyr\u001b[39m::\u001b[32mlag()\u001b[39m    masks \u001b[34mstats\u001b[39m::lag()\n",
      "\n",
      "\n",
      "Attaching package: ‘reshape2’\n",
      "\n",
      "\n",
      "The following object is masked from ‘package:tidyr’:\n",
      "\n",
      "    smiths\n",
      "\n",
      "\n"
     ]
    }
   ],
   "source": [
    "#Set up the environment\n",
    "library(tidyverse)\n",
    "library(reshape2)"
   ]
  },
  {
   "cell_type": "markdown",
   "metadata": {},
   "source": [
    "I think this is a good structure for what I should do:\n",
    "\n",
    "1) Get all the ancestry-associated genes\n",
    "2) Map CCLE SNPs to those guides\n",
    "3) Make a plot where each sgRNA is on its own row, and sgrna#1, sgrna#2, sgrna#3, and sgrna#4 are all on their own columns. sgrnas with most snps on the right.\n",
    "4) split into two chunks: bottom have at least one SNP, top have no SNPs."
   ]
  },
  {
   "cell_type": "code",
   "execution_count": 145,
   "metadata": {},
   "outputs": [
    {
     "data": {
      "text/html": [
       "<table class=\"dataframe\">\n",
       "<caption>A data.frame: 6 × 5</caption>\n",
       "<thead>\n",
       "\t<tr><th></th><th scope=col>gene</th><th scope=col>pval</th><th scope=col>difference</th><th scope=col>ancestry</th><th scope=col>FDR</th></tr>\n",
       "\t<tr><th></th><th scope=col>&lt;chr&gt;</th><th scope=col>&lt;dbl&gt;</th><th scope=col>&lt;dbl&gt;</th><th scope=col>&lt;chr&gt;</th><th scope=col>&lt;dbl&gt;</th></tr>\n",
       "</thead>\n",
       "<tbody>\n",
       "\t<tr><th scope=row>1</th><td>A1BG   </td><td>0.07711508</td><td> 2.518554e-02</td><td>AFR</td><td>0.8262291</td></tr>\n",
       "\t<tr><th scope=row>2</th><td>A1CF   </td><td>0.01553919</td><td>-4.901242e-02</td><td>AFR</td><td>0.7595784</td></tr>\n",
       "\t<tr><th scope=row>3</th><td>A2M    </td><td>0.82128228</td><td> 7.297617e-05</td><td>AFR</td><td>0.9772673</td></tr>\n",
       "\t<tr><th scope=row>4</th><td>A2ML1  </td><td>0.66475156</td><td>-3.257814e-03</td><td>AFR</td><td>0.9476137</td></tr>\n",
       "\t<tr><th scope=row>5</th><td>A3GALT2</td><td>0.89568474</td><td>-7.670531e-04</td><td>AFR</td><td>0.9866895</td></tr>\n",
       "\t<tr><th scope=row>6</th><td>A4GALT </td><td>0.52781139</td><td> 1.452687e-02</td><td>AFR</td><td>0.9160914</td></tr>\n",
       "</tbody>\n",
       "</table>\n"
      ],
      "text/latex": [
       "A data.frame: 6 × 5\n",
       "\\begin{tabular}{r|lllll}\n",
       "  & gene & pval & difference & ancestry & FDR\\\\\n",
       "  & <chr> & <dbl> & <dbl> & <chr> & <dbl>\\\\\n",
       "\\hline\n",
       "\t1 & A1BG    & 0.07711508 &  2.518554e-02 & AFR & 0.8262291\\\\\n",
       "\t2 & A1CF    & 0.01553919 & -4.901242e-02 & AFR & 0.7595784\\\\\n",
       "\t3 & A2M     & 0.82128228 &  7.297617e-05 & AFR & 0.9772673\\\\\n",
       "\t4 & A2ML1   & 0.66475156 & -3.257814e-03 & AFR & 0.9476137\\\\\n",
       "\t5 & A3GALT2 & 0.89568474 & -7.670531e-04 & AFR & 0.9866895\\\\\n",
       "\t6 & A4GALT  & 0.52781139 &  1.452687e-02 & AFR & 0.9160914\\\\\n",
       "\\end{tabular}\n"
      ],
      "text/markdown": [
       "\n",
       "A data.frame: 6 × 5\n",
       "\n",
       "| <!--/--> | gene &lt;chr&gt; | pval &lt;dbl&gt; | difference &lt;dbl&gt; | ancestry &lt;chr&gt; | FDR &lt;dbl&gt; |\n",
       "|---|---|---|---|---|---|\n",
       "| 1 | A1BG    | 0.07711508 |  2.518554e-02 | AFR | 0.8262291 |\n",
       "| 2 | A1CF    | 0.01553919 | -4.901242e-02 | AFR | 0.7595784 |\n",
       "| 3 | A2M     | 0.82128228 |  7.297617e-05 | AFR | 0.9772673 |\n",
       "| 4 | A2ML1   | 0.66475156 | -3.257814e-03 | AFR | 0.9476137 |\n",
       "| 5 | A3GALT2 | 0.89568474 | -7.670531e-04 | AFR | 0.9866895 |\n",
       "| 6 | A4GALT  | 0.52781139 |  1.452687e-02 | AFR | 0.9160914 |\n",
       "\n"
      ],
      "text/plain": [
       "  gene    pval       difference    ancestry FDR      \n",
       "1 A1BG    0.07711508  2.518554e-02 AFR      0.8262291\n",
       "2 A1CF    0.01553919 -4.901242e-02 AFR      0.7595784\n",
       "3 A2M     0.82128228  7.297617e-05 AFR      0.9772673\n",
       "4 A2ML1   0.66475156 -3.257814e-03 AFR      0.9476137\n",
       "5 A3GALT2 0.89568474 -7.670531e-04 AFR      0.9866895\n",
       "6 A4GALT  0.52781139  1.452687e-02 AFR      0.9160914"
      ]
     },
     "metadata": {},
     "output_type": "display_data"
    },
    {
     "data": {
      "text/html": [
       "<style>\n",
       ".list-inline {list-style: none; margin:0; padding: 0}\n",
       ".list-inline>li {display: inline-block}\n",
       ".list-inline>li:not(:last-child)::after {content: \"\\00b7\"; padding: 0 .5ex}\n",
       "</style>\n",
       "<ol class=list-inline><li>'EEF2'</li><li>'NUP133'</li><li>'RESP18'</li><li>'ACAN'</li><li>'ADCY3'</li><li>'BTG1'</li><li>'C22orf31'</li><li>'C2orf80'</li><li>'CBFA2T2'</li><li>'CCDC102B'</li><li>'CCDC74B'</li><li>'CCL3'</li><li>'CEP19'</li><li>'CHGB'</li><li>'CLSPN'</li><li>'COX6B1'</li><li>'DCN'</li><li>'DDX47'</li><li>'DND1'</li><li>'ECD'</li><li>'EGFR'</li><li>'FAM25A'</li><li>'FCGR3A'</li><li>'FRG2C'</li><li>'GLYCTK'</li><li>'GRB2'</li><li>'GTPBP3'</li><li>'HCN2'</li><li>'HINT3'</li><li>'HIST1H2AA'</li><li>'HLA'</li><li>'HNF1B'</li><li>'INCENP'</li><li>'ITGA3'</li><li>'ITIH3'</li><li>'KIAA2013'</li><li>'KRTAP3'</li><li>'MATR3'</li><li>'MRTO4'</li><li>'MYH11'</li><li>'NAA40'</li><li>'NIT2'</li><li>'NKAIN4'</li><li>'NOP56'</li><li>'NPEPPS'</li><li>'NPHS1'</li><li>'PDXDC1'</li><li>'PEX11A'</li><li>'PTPN11'</li><li>'QRICH2'</li><li>'RAB21'</li><li>'RETNLB'</li><li>'RHD'</li><li>'RIMS2'</li><li>'RPL3'</li><li>'RPS5'</li><li>'RTP5'</li><li>'SART1'</li><li>'SCN5A'</li><li>'SLC10A5'</li><li>'SLC35B2'</li><li>'SLC38A7'</li><li>'SLC5A11'</li><li>'SNAP23'</li><li>'SPATA6L'</li><li>'SRP14'</li><li>'STX4'</li><li>'STXBP3'</li><li>'TPSD1'</li><li>'TRMT61B'</li><li>'TTC4'</li><li>'TUT1'</li><li>'TXNRD1'</li><li>'UGT2B17'</li><li>'VRK1'</li><li>'WSB2'</li><li>'ZNF675'</li><li>'APEX2'</li><li>'ATRX'</li><li>'C17orf64'</li><li>'COPG1'</li><li>'CSE1L'</li><li>'DEFB108B'</li><li>'ERI1'</li><li>'FAM86C1'</li><li>'IL1RN'</li><li>'KRT14'</li><li>'LPAR6'</li><li>'MDN1'</li><li>'NOMO2'</li><li>'PCBP4'</li><li>'PSPH'</li><li>'RPP30'</li><li>'SERINC2'</li><li>'XYLT2'</li><li>'ZFP62'</li></ol>\n"
      ],
      "text/latex": [
       "\\begin{enumerate*}\n",
       "\\item 'EEF2'\n",
       "\\item 'NUP133'\n",
       "\\item 'RESP18'\n",
       "\\item 'ACAN'\n",
       "\\item 'ADCY3'\n",
       "\\item 'BTG1'\n",
       "\\item 'C22orf31'\n",
       "\\item 'C2orf80'\n",
       "\\item 'CBFA2T2'\n",
       "\\item 'CCDC102B'\n",
       "\\item 'CCDC74B'\n",
       "\\item 'CCL3'\n",
       "\\item 'CEP19'\n",
       "\\item 'CHGB'\n",
       "\\item 'CLSPN'\n",
       "\\item 'COX6B1'\n",
       "\\item 'DCN'\n",
       "\\item 'DDX47'\n",
       "\\item 'DND1'\n",
       "\\item 'ECD'\n",
       "\\item 'EGFR'\n",
       "\\item 'FAM25A'\n",
       "\\item 'FCGR3A'\n",
       "\\item 'FRG2C'\n",
       "\\item 'GLYCTK'\n",
       "\\item 'GRB2'\n",
       "\\item 'GTPBP3'\n",
       "\\item 'HCN2'\n",
       "\\item 'HINT3'\n",
       "\\item 'HIST1H2AA'\n",
       "\\item 'HLA'\n",
       "\\item 'HNF1B'\n",
       "\\item 'INCENP'\n",
       "\\item 'ITGA3'\n",
       "\\item 'ITIH3'\n",
       "\\item 'KIAA2013'\n",
       "\\item 'KRTAP3'\n",
       "\\item 'MATR3'\n",
       "\\item 'MRTO4'\n",
       "\\item 'MYH11'\n",
       "\\item 'NAA40'\n",
       "\\item 'NIT2'\n",
       "\\item 'NKAIN4'\n",
       "\\item 'NOP56'\n",
       "\\item 'NPEPPS'\n",
       "\\item 'NPHS1'\n",
       "\\item 'PDXDC1'\n",
       "\\item 'PEX11A'\n",
       "\\item 'PTPN11'\n",
       "\\item 'QRICH2'\n",
       "\\item 'RAB21'\n",
       "\\item 'RETNLB'\n",
       "\\item 'RHD'\n",
       "\\item 'RIMS2'\n",
       "\\item 'RPL3'\n",
       "\\item 'RPS5'\n",
       "\\item 'RTP5'\n",
       "\\item 'SART1'\n",
       "\\item 'SCN5A'\n",
       "\\item 'SLC10A5'\n",
       "\\item 'SLC35B2'\n",
       "\\item 'SLC38A7'\n",
       "\\item 'SLC5A11'\n",
       "\\item 'SNAP23'\n",
       "\\item 'SPATA6L'\n",
       "\\item 'SRP14'\n",
       "\\item 'STX4'\n",
       "\\item 'STXBP3'\n",
       "\\item 'TPSD1'\n",
       "\\item 'TRMT61B'\n",
       "\\item 'TTC4'\n",
       "\\item 'TUT1'\n",
       "\\item 'TXNRD1'\n",
       "\\item 'UGT2B17'\n",
       "\\item 'VRK1'\n",
       "\\item 'WSB2'\n",
       "\\item 'ZNF675'\n",
       "\\item 'APEX2'\n",
       "\\item 'ATRX'\n",
       "\\item 'C17orf64'\n",
       "\\item 'COPG1'\n",
       "\\item 'CSE1L'\n",
       "\\item 'DEFB108B'\n",
       "\\item 'ERI1'\n",
       "\\item 'FAM86C1'\n",
       "\\item 'IL1RN'\n",
       "\\item 'KRT14'\n",
       "\\item 'LPAR6'\n",
       "\\item 'MDN1'\n",
       "\\item 'NOMO2'\n",
       "\\item 'PCBP4'\n",
       "\\item 'PSPH'\n",
       "\\item 'RPP30'\n",
       "\\item 'SERINC2'\n",
       "\\item 'XYLT2'\n",
       "\\item 'ZFP62'\n",
       "\\end{enumerate*}\n"
      ],
      "text/markdown": [
       "1. 'EEF2'\n",
       "2. 'NUP133'\n",
       "3. 'RESP18'\n",
       "4. 'ACAN'\n",
       "5. 'ADCY3'\n",
       "6. 'BTG1'\n",
       "7. 'C22orf31'\n",
       "8. 'C2orf80'\n",
       "9. 'CBFA2T2'\n",
       "10. 'CCDC102B'\n",
       "11. 'CCDC74B'\n",
       "12. 'CCL3'\n",
       "13. 'CEP19'\n",
       "14. 'CHGB'\n",
       "15. 'CLSPN'\n",
       "16. 'COX6B1'\n",
       "17. 'DCN'\n",
       "18. 'DDX47'\n",
       "19. 'DND1'\n",
       "20. 'ECD'\n",
       "21. 'EGFR'\n",
       "22. 'FAM25A'\n",
       "23. 'FCGR3A'\n",
       "24. 'FRG2C'\n",
       "25. 'GLYCTK'\n",
       "26. 'GRB2'\n",
       "27. 'GTPBP3'\n",
       "28. 'HCN2'\n",
       "29. 'HINT3'\n",
       "30. 'HIST1H2AA'\n",
       "31. 'HLA'\n",
       "32. 'HNF1B'\n",
       "33. 'INCENP'\n",
       "34. 'ITGA3'\n",
       "35. 'ITIH3'\n",
       "36. 'KIAA2013'\n",
       "37. 'KRTAP3'\n",
       "38. 'MATR3'\n",
       "39. 'MRTO4'\n",
       "40. 'MYH11'\n",
       "41. 'NAA40'\n",
       "42. 'NIT2'\n",
       "43. 'NKAIN4'\n",
       "44. 'NOP56'\n",
       "45. 'NPEPPS'\n",
       "46. 'NPHS1'\n",
       "47. 'PDXDC1'\n",
       "48. 'PEX11A'\n",
       "49. 'PTPN11'\n",
       "50. 'QRICH2'\n",
       "51. 'RAB21'\n",
       "52. 'RETNLB'\n",
       "53. 'RHD'\n",
       "54. 'RIMS2'\n",
       "55. 'RPL3'\n",
       "56. 'RPS5'\n",
       "57. 'RTP5'\n",
       "58. 'SART1'\n",
       "59. 'SCN5A'\n",
       "60. 'SLC10A5'\n",
       "61. 'SLC35B2'\n",
       "62. 'SLC38A7'\n",
       "63. 'SLC5A11'\n",
       "64. 'SNAP23'\n",
       "65. 'SPATA6L'\n",
       "66. 'SRP14'\n",
       "67. 'STX4'\n",
       "68. 'STXBP3'\n",
       "69. 'TPSD1'\n",
       "70. 'TRMT61B'\n",
       "71. 'TTC4'\n",
       "72. 'TUT1'\n",
       "73. 'TXNRD1'\n",
       "74. 'UGT2B17'\n",
       "75. 'VRK1'\n",
       "76. 'WSB2'\n",
       "77. 'ZNF675'\n",
       "78. 'APEX2'\n",
       "79. 'ATRX'\n",
       "80. 'C17orf64'\n",
       "81. 'COPG1'\n",
       "82. 'CSE1L'\n",
       "83. 'DEFB108B'\n",
       "84. 'ERI1'\n",
       "85. 'FAM86C1'\n",
       "86. 'IL1RN'\n",
       "87. 'KRT14'\n",
       "88. 'LPAR6'\n",
       "89. 'MDN1'\n",
       "90. 'NOMO2'\n",
       "91. 'PCBP4'\n",
       "92. 'PSPH'\n",
       "93. 'RPP30'\n",
       "94. 'SERINC2'\n",
       "95. 'XYLT2'\n",
       "96. 'ZFP62'\n",
       "\n",
       "\n"
      ],
      "text/plain": [
       " [1] \"EEF2\"      \"NUP133\"    \"RESP18\"    \"ACAN\"      \"ADCY3\"     \"BTG1\"     \n",
       " [7] \"C22orf31\"  \"C2orf80\"   \"CBFA2T2\"   \"CCDC102B\"  \"CCDC74B\"   \"CCL3\"     \n",
       "[13] \"CEP19\"     \"CHGB\"      \"CLSPN\"     \"COX6B1\"    \"DCN\"       \"DDX47\"    \n",
       "[19] \"DND1\"      \"ECD\"       \"EGFR\"      \"FAM25A\"    \"FCGR3A\"    \"FRG2C\"    \n",
       "[25] \"GLYCTK\"    \"GRB2\"      \"GTPBP3\"    \"HCN2\"      \"HINT3\"     \"HIST1H2AA\"\n",
       "[31] \"HLA\"       \"HNF1B\"     \"INCENP\"    \"ITGA3\"     \"ITIH3\"     \"KIAA2013\" \n",
       "[37] \"KRTAP3\"    \"MATR3\"     \"MRTO4\"     \"MYH11\"     \"NAA40\"     \"NIT2\"     \n",
       "[43] \"NKAIN4\"    \"NOP56\"     \"NPEPPS\"    \"NPHS1\"     \"PDXDC1\"    \"PEX11A\"   \n",
       "[49] \"PTPN11\"    \"QRICH2\"    \"RAB21\"     \"RETNLB\"    \"RHD\"       \"RIMS2\"    \n",
       "[55] \"RPL3\"      \"RPS5\"      \"RTP5\"      \"SART1\"     \"SCN5A\"     \"SLC10A5\"  \n",
       "[61] \"SLC35B2\"   \"SLC38A7\"   \"SLC5A11\"   \"SNAP23\"    \"SPATA6L\"   \"SRP14\"    \n",
       "[67] \"STX4\"      \"STXBP3\"    \"TPSD1\"     \"TRMT61B\"   \"TTC4\"      \"TUT1\"     \n",
       "[73] \"TXNRD1\"    \"UGT2B17\"   \"VRK1\"      \"WSB2\"      \"ZNF675\"    \"APEX2\"    \n",
       "[79] \"ATRX\"      \"C17orf64\"  \"COPG1\"     \"CSE1L\"     \"DEFB108B\"  \"ERI1\"     \n",
       "[85] \"FAM86C1\"   \"IL1RN\"     \"KRT14\"     \"LPAR6\"     \"MDN1\"      \"NOMO2\"    \n",
       "[91] \"PCBP4\"     \"PSPH\"      \"RPP30\"     \"SERINC2\"   \"XYLT2\"     \"ZFP62\"    "
      ]
     },
     "metadata": {},
     "output_type": "display_data"
    }
   ],
   "source": [
    "#Load in the ancestry association dataset from \"New_Ancestry_Associated_Dependencies\"\n",
    "setwd('/home/jupyter/Ancestry/ccle_ancestry_analysis')\n",
    "ancestry.associations = read.table(\"ancestry.associated.gene.associations.txt\", sep = \"\\t\", header = T)\n",
    "\n",
    "#Get a list of all ancestry-associated genes\n",
    "ancestry.associated.genes = ancestry.associations %>%\n",
    "filter(FDR <= 0.05) %>%\n",
    "pull(gene) %>%\n",
    "unique()\n",
    "\n",
    "\n",
    "head(ancestry.associations)\n",
    "ancestry.associated.genes"
   ]
  },
  {
   "cell_type": "markdown",
   "metadata": {},
   "source": [
    "The next step is to grab all of the sgRNA sequences for these genes and map CCLE SNPs to them."
   ]
  },
  {
   "cell_type": "code",
   "execution_count": 146,
   "metadata": {},
   "outputs": [
    {
     "data": {
      "text/html": [
       "<table class=\"dataframe\">\n",
       "<caption>A data.frame: 6 × 4</caption>\n",
       "<thead>\n",
       "\t<tr><th></th><th scope=col>sgrna</th><th scope=col>genome_alignment</th><th scope=col>gene</th><th scope=col>n_alignments</th></tr>\n",
       "\t<tr><th></th><th scope=col>&lt;chr&gt;</th><th scope=col>&lt;chr&gt;</th><th scope=col>&lt;chr&gt;</th><th scope=col>&lt;int&gt;</th></tr>\n",
       "</thead>\n",
       "<tbody>\n",
       "\t<tr><th scope=row>1</th><td>AAACTTGTGCAAGCAGAAGG</td><td>chr12_91178529_+</td><td>DCN    </td><td>1</td></tr>\n",
       "\t<tr><th scope=row>2</th><td>AACAATGCCCGTTTGCTGCA</td><td>chr16_1256533_- </td><td>TPSD1  </td><td>1</td></tr>\n",
       "\t<tr><th scope=row>3</th><td>AACTACCTATGACAGTGCCG</td><td>chr1_35764597_- </td><td>CLSPN  </td><td>1</td></tr>\n",
       "\t<tr><th scope=row>4</th><td>AAGATCGTCGACATGTACAA</td><td>chr16_15823331_-</td><td>MYH11  </td><td>1</td></tr>\n",
       "\t<tr><th scope=row>5</th><td>AAGCGGAGACTGTACAGAAA</td><td>chr4_68567977_+ </td><td>UGT2B17</td><td>1</td></tr>\n",
       "\t<tr><th scope=row>6</th><td>AAGCTGCTCGATGAGAACAG</td><td>chr6_89772683_+ </td><td>MDN1   </td><td>1</td></tr>\n",
       "</tbody>\n",
       "</table>\n"
      ],
      "text/latex": [
       "A data.frame: 6 × 4\n",
       "\\begin{tabular}{r|llll}\n",
       "  & sgrna & genome\\_alignment & gene & n\\_alignments\\\\\n",
       "  & <chr> & <chr> & <chr> & <int>\\\\\n",
       "\\hline\n",
       "\t1 & AAACTTGTGCAAGCAGAAGG & chr12\\_91178529\\_+ & DCN     & 1\\\\\n",
       "\t2 & AACAATGCCCGTTTGCTGCA & chr16\\_1256533\\_-  & TPSD1   & 1\\\\\n",
       "\t3 & AACTACCTATGACAGTGCCG & chr1\\_35764597\\_-  & CLSPN   & 1\\\\\n",
       "\t4 & AAGATCGTCGACATGTACAA & chr16\\_15823331\\_- & MYH11   & 1\\\\\n",
       "\t5 & AAGCGGAGACTGTACAGAAA & chr4\\_68567977\\_+  & UGT2B17 & 1\\\\\n",
       "\t6 & AAGCTGCTCGATGAGAACAG & chr6\\_89772683\\_+  & MDN1    & 1\\\\\n",
       "\\end{tabular}\n"
      ],
      "text/markdown": [
       "\n",
       "A data.frame: 6 × 4\n",
       "\n",
       "| <!--/--> | sgrna &lt;chr&gt; | genome_alignment &lt;chr&gt; | gene &lt;chr&gt; | n_alignments &lt;int&gt; |\n",
       "|---|---|---|---|---|\n",
       "| 1 | AAACTTGTGCAAGCAGAAGG | chr12_91178529_+ | DCN     | 1 |\n",
       "| 2 | AACAATGCCCGTTTGCTGCA | chr16_1256533_-  | TPSD1   | 1 |\n",
       "| 3 | AACTACCTATGACAGTGCCG | chr1_35764597_-  | CLSPN   | 1 |\n",
       "| 4 | AAGATCGTCGACATGTACAA | chr16_15823331_- | MYH11   | 1 |\n",
       "| 5 | AAGCGGAGACTGTACAGAAA | chr4_68567977_+  | UGT2B17 | 1 |\n",
       "| 6 | AAGCTGCTCGATGAGAACAG | chr6_89772683_+  | MDN1    | 1 |\n",
       "\n"
      ],
      "text/plain": [
       "  sgrna                genome_alignment gene    n_alignments\n",
       "1 AAACTTGTGCAAGCAGAAGG chr12_91178529_+ DCN     1           \n",
       "2 AACAATGCCCGTTTGCTGCA chr16_1256533_-  TPSD1   1           \n",
       "3 AACTACCTATGACAGTGCCG chr1_35764597_-  CLSPN   1           \n",
       "4 AAGATCGTCGACATGTACAA chr16_15823331_- MYH11   1           \n",
       "5 AAGCGGAGACTGTACAGAAA chr4_68567977_+  UGT2B17 1           \n",
       "6 AAGCTGCTCGATGAGAACAG chr6_89772683_+  MDN1    1           "
      ]
     },
     "metadata": {},
     "output_type": "display_data"
    },
    {
     "data": {
      "text/html": [
       "<style>\n",
       ".list-inline {list-style: none; margin:0; padding: 0}\n",
       ".list-inline>li {display: inline-block}\n",
       ".list-inline>li:not(:last-child)::after {content: \"\\00b7\"; padding: 0 .5ex}\n",
       "</style>\n",
       "<ol class=list-inline><li>373</li><li>4</li></ol>\n"
      ],
      "text/latex": [
       "\\begin{enumerate*}\n",
       "\\item 373\n",
       "\\item 4\n",
       "\\end{enumerate*}\n"
      ],
      "text/markdown": [
       "1. 373\n",
       "2. 4\n",
       "\n",
       "\n"
      ],
      "text/plain": [
       "[1] 373   4"
      ]
     },
     "metadata": {},
     "output_type": "display_data"
    }
   ],
   "source": [
    "#First, load in the sgRNA guide map so that we can get a list of all of the guides that we want to keep\n",
    "setwd(\"/home/jupyter/Ancestry/gwas\")\n",
    "guide.map = read.table(\"internal-21q4_v9-achilles-guide-map.csv\", header = T, sep = \",\")\n",
    "\n",
    "#Now subset the data frame so that it only includes the ancestry-associated genes\n",
    "guides.to.keep = guide.map %>%\n",
    "mutate(gene = word(gene, 1)) %>%\n",
    "filter(gene %in% all_of(ancestry.associated.genes)) \n",
    "head(guides.to.keep)\n",
    "\n",
    "dim(guides.to.keep)"
   ]
  },
  {
   "cell_type": "code",
   "execution_count": 237,
   "metadata": {
    "code_folding": [],
    "scrolled": false
   },
   "outputs": [
    {
     "data": {
      "text/html": [
       "<table class=\"dataframe\">\n",
       "<caption>A data.frame: 6 × 2</caption>\n",
       "<thead>\n",
       "\t<tr><th></th><th scope=col>sgrna</th><th scope=col>strand</th></tr>\n",
       "\t<tr><th></th><th scope=col>&lt;chr&gt;</th><th scope=col>&lt;chr&gt;</th></tr>\n",
       "</thead>\n",
       "<tbody>\n",
       "\t<tr><th scope=row>1</th><td>AAACTTGTGCAAGCAGAAGG</td><td>+</td></tr>\n",
       "\t<tr><th scope=row>2</th><td>AACAATGCCCGTTTGCTGCA</td><td>-</td></tr>\n",
       "\t<tr><th scope=row>3</th><td>AACTACCTATGACAGTGCCG</td><td>-</td></tr>\n",
       "\t<tr><th scope=row>4</th><td>AAGATCGTCGACATGTACAA</td><td>-</td></tr>\n",
       "\t<tr><th scope=row>5</th><td>AAGCGGAGACTGTACAGAAA</td><td>+</td></tr>\n",
       "\t<tr><th scope=row>6</th><td>AAGCTGCTCGATGAGAACAG</td><td>+</td></tr>\n",
       "</tbody>\n",
       "</table>\n"
      ],
      "text/latex": [
       "A data.frame: 6 × 2\n",
       "\\begin{tabular}{r|ll}\n",
       "  & sgrna & strand\\\\\n",
       "  & <chr> & <chr>\\\\\n",
       "\\hline\n",
       "\t1 & AAACTTGTGCAAGCAGAAGG & +\\\\\n",
       "\t2 & AACAATGCCCGTTTGCTGCA & -\\\\\n",
       "\t3 & AACTACCTATGACAGTGCCG & -\\\\\n",
       "\t4 & AAGATCGTCGACATGTACAA & -\\\\\n",
       "\t5 & AAGCGGAGACTGTACAGAAA & +\\\\\n",
       "\t6 & AAGCTGCTCGATGAGAACAG & +\\\\\n",
       "\\end{tabular}\n"
      ],
      "text/markdown": [
       "\n",
       "A data.frame: 6 × 2\n",
       "\n",
       "| <!--/--> | sgrna &lt;chr&gt; | strand &lt;chr&gt; |\n",
       "|---|---|---|\n",
       "| 1 | AAACTTGTGCAAGCAGAAGG | + |\n",
       "| 2 | AACAATGCCCGTTTGCTGCA | - |\n",
       "| 3 | AACTACCTATGACAGTGCCG | - |\n",
       "| 4 | AAGATCGTCGACATGTACAA | - |\n",
       "| 5 | AAGCGGAGACTGTACAGAAA | + |\n",
       "| 6 | AAGCTGCTCGATGAGAACAG | + |\n",
       "\n"
      ],
      "text/plain": [
       "  sgrna                strand\n",
       "1 AAACTTGTGCAAGCAGAAGG +     \n",
       "2 AACAATGCCCGTTTGCTGCA -     \n",
       "3 AACTACCTATGACAGTGCCG -     \n",
       "4 AAGATCGTCGACATGTACAA -     \n",
       "5 AAGCGGAGACTGTACAGAAA +     \n",
       "6 AAGCTGCTCGATGAGAACAG +     "
      ]
     },
     "metadata": {},
     "output_type": "display_data"
    },
    {
     "data": {
      "text/html": [
       "<table class=\"dataframe\">\n",
       "<caption>A data.frame: 6 × 7</caption>\n",
       "<thead>\n",
       "\t<tr><th></th><th scope=col>chr</th><th scope=col>start</th><th scope=col>end</th><th scope=col>sgrna</th><th scope=col>genome_alignment</th><th scope=col>gene</th><th scope=col>n_alignments</th></tr>\n",
       "\t<tr><th></th><th scope=col>&lt;chr&gt;</th><th scope=col>&lt;dbl&gt;</th><th scope=col>&lt;dbl&gt;</th><th scope=col>&lt;chr&gt;</th><th scope=col>&lt;chr&gt;</th><th scope=col>&lt;chr&gt;</th><th scope=col>&lt;int&gt;</th></tr>\n",
       "</thead>\n",
       "<tbody>\n",
       "\t<tr><th scope=row>1</th><td>chr1</td><td>11925511</td><td>11925534</td><td>ATGGTCTCCGACCTTCTCCA</td><td>chr1_11925528_+</td><td>KIAA2013</td><td>2</td></tr>\n",
       "\t<tr><th scope=row>2</th><td>chr1</td><td>11925765</td><td>11925788</td><td>CCAGCTGCAGGCAACGCACG</td><td>chr1_11925782_+</td><td>KIAA2013</td><td>2</td></tr>\n",
       "\t<tr><th scope=row>3</th><td>chr1</td><td>11925965</td><td>11925988</td><td>GCCGGCACTCCAGGACCCAG</td><td>chr1_11925982_+</td><td>KIAA2013</td><td>1</td></tr>\n",
       "\t<tr><th scope=row>4</th><td>chr1</td><td>19255984</td><td>19256007</td><td>TCTTCTCTGTGGCCAACATG</td><td>chr1_19256001_+</td><td>MRTO4   </td><td>2</td></tr>\n",
       "\t<tr><th scope=row>5</th><td>chr1</td><td>19257449</td><td>19257472</td><td>GTAGGTCAGCAAAAGGTTGA</td><td>chr1_19257466_+</td><td>MRTO4   </td><td>1</td></tr>\n",
       "\t<tr><th scope=row>6</th><td>chr1</td><td>19257450</td><td>19257473</td><td>TAGGTCAGCAAAAGGTTGAG</td><td>chr1_19257467_+</td><td>MRTO4   </td><td>1</td></tr>\n",
       "</tbody>\n",
       "</table>\n"
      ],
      "text/latex": [
       "A data.frame: 6 × 7\n",
       "\\begin{tabular}{r|lllllll}\n",
       "  & chr & start & end & sgrna & genome\\_alignment & gene & n\\_alignments\\\\\n",
       "  & <chr> & <dbl> & <dbl> & <chr> & <chr> & <chr> & <int>\\\\\n",
       "\\hline\n",
       "\t1 & chr1 & 11925511 & 11925534 & ATGGTCTCCGACCTTCTCCA & chr1\\_11925528\\_+ & KIAA2013 & 2\\\\\n",
       "\t2 & chr1 & 11925765 & 11925788 & CCAGCTGCAGGCAACGCACG & chr1\\_11925782\\_+ & KIAA2013 & 2\\\\\n",
       "\t3 & chr1 & 11925965 & 11925988 & GCCGGCACTCCAGGACCCAG & chr1\\_11925982\\_+ & KIAA2013 & 1\\\\\n",
       "\t4 & chr1 & 19255984 & 19256007 & TCTTCTCTGTGGCCAACATG & chr1\\_19256001\\_+ & MRTO4    & 2\\\\\n",
       "\t5 & chr1 & 19257449 & 19257472 & GTAGGTCAGCAAAAGGTTGA & chr1\\_19257466\\_+ & MRTO4    & 1\\\\\n",
       "\t6 & chr1 & 19257450 & 19257473 & TAGGTCAGCAAAAGGTTGAG & chr1\\_19257467\\_+ & MRTO4    & 1\\\\\n",
       "\\end{tabular}\n"
      ],
      "text/markdown": [
       "\n",
       "A data.frame: 6 × 7\n",
       "\n",
       "| <!--/--> | chr &lt;chr&gt; | start &lt;dbl&gt; | end &lt;dbl&gt; | sgrna &lt;chr&gt; | genome_alignment &lt;chr&gt; | gene &lt;chr&gt; | n_alignments &lt;int&gt; |\n",
       "|---|---|---|---|---|---|---|---|\n",
       "| 1 | chr1 | 11925511 | 11925534 | ATGGTCTCCGACCTTCTCCA | chr1_11925528_+ | KIAA2013 | 2 |\n",
       "| 2 | chr1 | 11925765 | 11925788 | CCAGCTGCAGGCAACGCACG | chr1_11925782_+ | KIAA2013 | 2 |\n",
       "| 3 | chr1 | 11925965 | 11925988 | GCCGGCACTCCAGGACCCAG | chr1_11925982_+ | KIAA2013 | 1 |\n",
       "| 4 | chr1 | 19255984 | 19256007 | TCTTCTCTGTGGCCAACATG | chr1_19256001_+ | MRTO4    | 2 |\n",
       "| 5 | chr1 | 19257449 | 19257472 | GTAGGTCAGCAAAAGGTTGA | chr1_19257466_+ | MRTO4    | 1 |\n",
       "| 6 | chr1 | 19257450 | 19257473 | TAGGTCAGCAAAAGGTTGAG | chr1_19257467_+ | MRTO4    | 1 |\n",
       "\n"
      ],
      "text/plain": [
       "  chr  start    end      sgrna                genome_alignment gene    \n",
       "1 chr1 11925511 11925534 ATGGTCTCCGACCTTCTCCA chr1_11925528_+  KIAA2013\n",
       "2 chr1 11925765 11925788 CCAGCTGCAGGCAACGCACG chr1_11925782_+  KIAA2013\n",
       "3 chr1 11925965 11925988 GCCGGCACTCCAGGACCCAG chr1_11925982_+  KIAA2013\n",
       "4 chr1 19255984 19256007 TCTTCTCTGTGGCCAACATG chr1_19256001_+  MRTO4   \n",
       "5 chr1 19257449 19257472 GTAGGTCAGCAAAAGGTTGA chr1_19257466_+  MRTO4   \n",
       "6 chr1 19257450 19257473 TAGGTCAGCAAAAGGTTGAG chr1_19257467_+  MRTO4   \n",
       "  n_alignments\n",
       "1 2           \n",
       "2 2           \n",
       "3 1           \n",
       "4 2           \n",
       "5 1           \n",
       "6 1           "
      ]
     },
     "metadata": {},
     "output_type": "display_data"
    },
    {
     "data": {
      "text/html": [
       "<style>\n",
       ".list-inline {list-style: none; margin:0; padding: 0}\n",
       ".list-inline>li {display: inline-block}\n",
       ".list-inline>li:not(:last-child)::after {content: \"\\00b7\"; padding: 0 .5ex}\n",
       "</style>\n",
       "<ol class=list-inline><li>373</li><li>7</li></ol>\n"
      ],
      "text/latex": [
       "\\begin{enumerate*}\n",
       "\\item 373\n",
       "\\item 7\n",
       "\\end{enumerate*}\n"
      ],
      "text/markdown": [
       "1. 373\n",
       "2. 7\n",
       "\n",
       "\n"
      ],
      "text/plain": [
       "[1] 373   7"
      ]
     },
     "metadata": {},
     "output_type": "display_data"
    },
    {
     "data": {
      "text/html": [
       "<table class=\"dataframe\">\n",
       "<caption>A data.frame: 20 × 8</caption>\n",
       "<thead>\n",
       "\t<tr><th></th><th scope=col>chr</th><th scope=col>start</th><th scope=col>end</th><th scope=col>sgrna</th><th scope=col>strand</th><th scope=col>genome_alignment</th><th scope=col>gene</th><th scope=col>n_alignments</th></tr>\n",
       "\t<tr><th></th><th scope=col>&lt;chr&gt;</th><th scope=col>&lt;int&gt;</th><th scope=col>&lt;dbl&gt;</th><th scope=col>&lt;chr&gt;</th><th scope=col>&lt;chr&gt;</th><th scope=col>&lt;chr&gt;</th><th scope=col>&lt;chr&gt;</th><th scope=col>&lt;int&gt;</th></tr>\n",
       "</thead>\n",
       "<tbody>\n",
       "\t<tr><th scope=row>1</th><td>chr1</td><td> 11925511</td><td> 11925534</td><td>ATGGTCTCCGACCTTCTCCA</td><td>+</td><td>chr1_11925528_+ </td><td>KIAA2013</td><td>2</td></tr>\n",
       "\t<tr><th scope=row>2</th><td>chr1</td><td> 11925765</td><td> 11925788</td><td>CCAGCTGCAGGCAACGCACG</td><td>+</td><td>chr1_11925782_+ </td><td>KIAA2013</td><td>2</td></tr>\n",
       "\t<tr><th scope=row>3</th><td>chr1</td><td> 11925965</td><td> 11925988</td><td>GCCGGCACTCCAGGACCCAG</td><td>+</td><td>chr1_11925982_+ </td><td>KIAA2013</td><td>1</td></tr>\n",
       "\t<tr><th scope=row>4</th><td>chr1</td><td> 19255984</td><td> 19256007</td><td>TCTTCTCTGTGGCCAACATG</td><td>+</td><td>chr1_19256001_+ </td><td>MRTO4   </td><td>2</td></tr>\n",
       "\t<tr><th scope=row>5</th><td>chr1</td><td> 19257449</td><td> 19257472</td><td>GTAGGTCAGCAAAAGGTTGA</td><td>+</td><td>chr1_19257466_+ </td><td>MRTO4   </td><td>1</td></tr>\n",
       "\t<tr><th scope=row>6</th><td>chr1</td><td> 19257450</td><td> 19257473</td><td>TAGGTCAGCAAAAGGTTGAG</td><td>+</td><td>chr1_19257467_+ </td><td>MRTO4   </td><td>1</td></tr>\n",
       "\t<tr><th scope=row>7</th><td>chr1</td><td> 25290744</td><td> 25290767</td><td>TGACAGCTTTAGGCAACCTG</td><td>+</td><td>chr1_25290761_+ </td><td>RHD     </td><td>1</td></tr>\n",
       "\t<tr><th scope=row>8</th><td>chr1</td><td> 31424771</td><td> 31424794</td><td>CTACCGCATGTGCTTCGCCA</td><td>+</td><td>chr1_31424788_+ </td><td>SERINC2 </td><td>1</td></tr>\n",
       "\t<tr><th scope=row>9</th><td>chr1</td><td> 31425350</td><td> 31425373</td><td>GATCCTGGTGGGCCTCACCG</td><td>+</td><td>chr1_31425367_+ </td><td>SERINC2 </td><td>1</td></tr>\n",
       "\t<tr><th scope=row>10</th><td>chr1</td><td> 31425372</td><td> 31425395</td><td>GGTGCCTTCTACATTCCTGA</td><td>+</td><td>chr1_31425389_+ </td><td>SERINC2 </td><td>1</td></tr>\n",
       "\t<tr><th scope=row>11</th><td>chr1</td><td> 35761099</td><td> 35761122</td><td>ATAGTGCCATGGCATTTCCG</td><td>+</td><td>chr1_35761116_+ </td><td>CLSPN   </td><td>1</td></tr>\n",
       "\t<tr><th scope=row>12</th><td>chr1</td><td> 54722690</td><td> 54722713</td><td>GGAACTGAAACACTTTGCCG</td><td>+</td><td>chr1_54722707_+ </td><td>TTC4    </td><td>1</td></tr>\n",
       "\t<tr><th scope=row>13</th><td>chr1</td><td> 78044143</td><td> 78044166</td><td>GAAGCTGGATGAGGGCCAAG</td><td>-</td><td>chr3_100339096_-</td><td>NIT2    </td><td>2</td></tr>\n",
       "\t<tr><th scope=row>14</th><td>chr1</td><td>108772709</td><td>108772732</td><td>CCAGACCCTGGTAATGCAAA</td><td>+</td><td>chr1_108772726_+</td><td>STXBP3  </td><td>1</td></tr>\n",
       "\t<tr><th scope=row>15</th><td>chr1</td><td>229495882</td><td>229495905</td><td>GTTTCTTACCCAAATAGCAT</td><td>+</td><td>chr1_229495899_+</td><td>NUP133  </td><td>1</td></tr>\n",
       "\t<tr><th scope=row>16</th><td>chr1</td><td>229500759</td><td>229500782</td><td>GTAGAATGTGCTTCACCTGA</td><td>+</td><td>chr1_229500776_+</td><td>NUP133  </td><td>1</td></tr>\n",
       "\t<tr><th scope=row>17</th><td>chr2</td><td> 24838524</td><td> 24838547</td><td>TCTCTTCTAGGTAATCACAG</td><td>+</td><td>chr2_24838541_+ </td><td>ADCY3   </td><td>1</td></tr>\n",
       "\t<tr><th scope=row>18</th><td>chr2</td><td> 24872689</td><td> 24872712</td><td>GCACAGGTAGAGGAAGACGT</td><td>+</td><td>chr2_24872706_+ </td><td>ADCY3   </td><td>1</td></tr>\n",
       "\t<tr><th scope=row>19</th><td>chr2</td><td> 24918522</td><td> 24918545</td><td>CAGGTAGGAGAAGATCTGGG</td><td>+</td><td>chr2_24918539_+ </td><td>ADCY3   </td><td>1</td></tr>\n",
       "\t<tr><th scope=row>20</th><td>chr2</td><td> 24918878</td><td> 24918901</td><td>CATGGGTCCGGCCCACCCCG</td><td>+</td><td>chr2_24918895_+ </td><td>ADCY3   </td><td>1</td></tr>\n",
       "</tbody>\n",
       "</table>\n"
      ],
      "text/latex": [
       "A data.frame: 20 × 8\n",
       "\\begin{tabular}{r|llllllll}\n",
       "  & chr & start & end & sgrna & strand & genome\\_alignment & gene & n\\_alignments\\\\\n",
       "  & <chr> & <int> & <dbl> & <chr> & <chr> & <chr> & <chr> & <int>\\\\\n",
       "\\hline\n",
       "\t1 & chr1 &  11925511 &  11925534 & ATGGTCTCCGACCTTCTCCA & + & chr1\\_11925528\\_+  & KIAA2013 & 2\\\\\n",
       "\t2 & chr1 &  11925765 &  11925788 & CCAGCTGCAGGCAACGCACG & + & chr1\\_11925782\\_+  & KIAA2013 & 2\\\\\n",
       "\t3 & chr1 &  11925965 &  11925988 & GCCGGCACTCCAGGACCCAG & + & chr1\\_11925982\\_+  & KIAA2013 & 1\\\\\n",
       "\t4 & chr1 &  19255984 &  19256007 & TCTTCTCTGTGGCCAACATG & + & chr1\\_19256001\\_+  & MRTO4    & 2\\\\\n",
       "\t5 & chr1 &  19257449 &  19257472 & GTAGGTCAGCAAAAGGTTGA & + & chr1\\_19257466\\_+  & MRTO4    & 1\\\\\n",
       "\t6 & chr1 &  19257450 &  19257473 & TAGGTCAGCAAAAGGTTGAG & + & chr1\\_19257467\\_+  & MRTO4    & 1\\\\\n",
       "\t7 & chr1 &  25290744 &  25290767 & TGACAGCTTTAGGCAACCTG & + & chr1\\_25290761\\_+  & RHD      & 1\\\\\n",
       "\t8 & chr1 &  31424771 &  31424794 & CTACCGCATGTGCTTCGCCA & + & chr1\\_31424788\\_+  & SERINC2  & 1\\\\\n",
       "\t9 & chr1 &  31425350 &  31425373 & GATCCTGGTGGGCCTCACCG & + & chr1\\_31425367\\_+  & SERINC2  & 1\\\\\n",
       "\t10 & chr1 &  31425372 &  31425395 & GGTGCCTTCTACATTCCTGA & + & chr1\\_31425389\\_+  & SERINC2  & 1\\\\\n",
       "\t11 & chr1 &  35761099 &  35761122 & ATAGTGCCATGGCATTTCCG & + & chr1\\_35761116\\_+  & CLSPN    & 1\\\\\n",
       "\t12 & chr1 &  54722690 &  54722713 & GGAACTGAAACACTTTGCCG & + & chr1\\_54722707\\_+  & TTC4     & 1\\\\\n",
       "\t13 & chr1 &  78044143 &  78044166 & GAAGCTGGATGAGGGCCAAG & - & chr3\\_100339096\\_- & NIT2     & 2\\\\\n",
       "\t14 & chr1 & 108772709 & 108772732 & CCAGACCCTGGTAATGCAAA & + & chr1\\_108772726\\_+ & STXBP3   & 1\\\\\n",
       "\t15 & chr1 & 229495882 & 229495905 & GTTTCTTACCCAAATAGCAT & + & chr1\\_229495899\\_+ & NUP133   & 1\\\\\n",
       "\t16 & chr1 & 229500759 & 229500782 & GTAGAATGTGCTTCACCTGA & + & chr1\\_229500776\\_+ & NUP133   & 1\\\\\n",
       "\t17 & chr2 &  24838524 &  24838547 & TCTCTTCTAGGTAATCACAG & + & chr2\\_24838541\\_+  & ADCY3    & 1\\\\\n",
       "\t18 & chr2 &  24872689 &  24872712 & GCACAGGTAGAGGAAGACGT & + & chr2\\_24872706\\_+  & ADCY3    & 1\\\\\n",
       "\t19 & chr2 &  24918522 &  24918545 & CAGGTAGGAGAAGATCTGGG & + & chr2\\_24918539\\_+  & ADCY3    & 1\\\\\n",
       "\t20 & chr2 &  24918878 &  24918901 & CATGGGTCCGGCCCACCCCG & + & chr2\\_24918895\\_+  & ADCY3    & 1\\\\\n",
       "\\end{tabular}\n"
      ],
      "text/markdown": [
       "\n",
       "A data.frame: 20 × 8\n",
       "\n",
       "| <!--/--> | chr &lt;chr&gt; | start &lt;int&gt; | end &lt;dbl&gt; | sgrna &lt;chr&gt; | strand &lt;chr&gt; | genome_alignment &lt;chr&gt; | gene &lt;chr&gt; | n_alignments &lt;int&gt; |\n",
       "|---|---|---|---|---|---|---|---|---|\n",
       "| 1 | chr1 |  11925511 |  11925534 | ATGGTCTCCGACCTTCTCCA | + | chr1_11925528_+  | KIAA2013 | 2 |\n",
       "| 2 | chr1 |  11925765 |  11925788 | CCAGCTGCAGGCAACGCACG | + | chr1_11925782_+  | KIAA2013 | 2 |\n",
       "| 3 | chr1 |  11925965 |  11925988 | GCCGGCACTCCAGGACCCAG | + | chr1_11925982_+  | KIAA2013 | 1 |\n",
       "| 4 | chr1 |  19255984 |  19256007 | TCTTCTCTGTGGCCAACATG | + | chr1_19256001_+  | MRTO4    | 2 |\n",
       "| 5 | chr1 |  19257449 |  19257472 | GTAGGTCAGCAAAAGGTTGA | + | chr1_19257466_+  | MRTO4    | 1 |\n",
       "| 6 | chr1 |  19257450 |  19257473 | TAGGTCAGCAAAAGGTTGAG | + | chr1_19257467_+  | MRTO4    | 1 |\n",
       "| 7 | chr1 |  25290744 |  25290767 | TGACAGCTTTAGGCAACCTG | + | chr1_25290761_+  | RHD      | 1 |\n",
       "| 8 | chr1 |  31424771 |  31424794 | CTACCGCATGTGCTTCGCCA | + | chr1_31424788_+  | SERINC2  | 1 |\n",
       "| 9 | chr1 |  31425350 |  31425373 | GATCCTGGTGGGCCTCACCG | + | chr1_31425367_+  | SERINC2  | 1 |\n",
       "| 10 | chr1 |  31425372 |  31425395 | GGTGCCTTCTACATTCCTGA | + | chr1_31425389_+  | SERINC2  | 1 |\n",
       "| 11 | chr1 |  35761099 |  35761122 | ATAGTGCCATGGCATTTCCG | + | chr1_35761116_+  | CLSPN    | 1 |\n",
       "| 12 | chr1 |  54722690 |  54722713 | GGAACTGAAACACTTTGCCG | + | chr1_54722707_+  | TTC4     | 1 |\n",
       "| 13 | chr1 |  78044143 |  78044166 | GAAGCTGGATGAGGGCCAAG | - | chr3_100339096_- | NIT2     | 2 |\n",
       "| 14 | chr1 | 108772709 | 108772732 | CCAGACCCTGGTAATGCAAA | + | chr1_108772726_+ | STXBP3   | 1 |\n",
       "| 15 | chr1 | 229495882 | 229495905 | GTTTCTTACCCAAATAGCAT | + | chr1_229495899_+ | NUP133   | 1 |\n",
       "| 16 | chr1 | 229500759 | 229500782 | GTAGAATGTGCTTCACCTGA | + | chr1_229500776_+ | NUP133   | 1 |\n",
       "| 17 | chr2 |  24838524 |  24838547 | TCTCTTCTAGGTAATCACAG | + | chr2_24838541_+  | ADCY3    | 1 |\n",
       "| 18 | chr2 |  24872689 |  24872712 | GCACAGGTAGAGGAAGACGT | + | chr2_24872706_+  | ADCY3    | 1 |\n",
       "| 19 | chr2 |  24918522 |  24918545 | CAGGTAGGAGAAGATCTGGG | + | chr2_24918539_+  | ADCY3    | 1 |\n",
       "| 20 | chr2 |  24918878 |  24918901 | CATGGGTCCGGCCCACCCCG | + | chr2_24918895_+  | ADCY3    | 1 |\n",
       "\n"
      ],
      "text/plain": [
       "   chr  start     end       sgrna                strand genome_alignment\n",
       "1  chr1  11925511  11925534 ATGGTCTCCGACCTTCTCCA +      chr1_11925528_+ \n",
       "2  chr1  11925765  11925788 CCAGCTGCAGGCAACGCACG +      chr1_11925782_+ \n",
       "3  chr1  11925965  11925988 GCCGGCACTCCAGGACCCAG +      chr1_11925982_+ \n",
       "4  chr1  19255984  19256007 TCTTCTCTGTGGCCAACATG +      chr1_19256001_+ \n",
       "5  chr1  19257449  19257472 GTAGGTCAGCAAAAGGTTGA +      chr1_19257466_+ \n",
       "6  chr1  19257450  19257473 TAGGTCAGCAAAAGGTTGAG +      chr1_19257467_+ \n",
       "7  chr1  25290744  25290767 TGACAGCTTTAGGCAACCTG +      chr1_25290761_+ \n",
       "8  chr1  31424771  31424794 CTACCGCATGTGCTTCGCCA +      chr1_31424788_+ \n",
       "9  chr1  31425350  31425373 GATCCTGGTGGGCCTCACCG +      chr1_31425367_+ \n",
       "10 chr1  31425372  31425395 GGTGCCTTCTACATTCCTGA +      chr1_31425389_+ \n",
       "11 chr1  35761099  35761122 ATAGTGCCATGGCATTTCCG +      chr1_35761116_+ \n",
       "12 chr1  54722690  54722713 GGAACTGAAACACTTTGCCG +      chr1_54722707_+ \n",
       "13 chr1  78044143  78044166 GAAGCTGGATGAGGGCCAAG -      chr3_100339096_-\n",
       "14 chr1 108772709 108772732 CCAGACCCTGGTAATGCAAA +      chr1_108772726_+\n",
       "15 chr1 229495882 229495905 GTTTCTTACCCAAATAGCAT +      chr1_229495899_+\n",
       "16 chr1 229500759 229500782 GTAGAATGTGCTTCACCTGA +      chr1_229500776_+\n",
       "17 chr2  24838524  24838547 TCTCTTCTAGGTAATCACAG +      chr2_24838541_+ \n",
       "18 chr2  24872689  24872712 GCACAGGTAGAGGAAGACGT +      chr2_24872706_+ \n",
       "19 chr2  24918522  24918545 CAGGTAGGAGAAGATCTGGG +      chr2_24918539_+ \n",
       "20 chr2  24918878  24918901 CATGGGTCCGGCCCACCCCG +      chr2_24918895_+ \n",
       "   gene     n_alignments\n",
       "1  KIAA2013 2           \n",
       "2  KIAA2013 2           \n",
       "3  KIAA2013 1           \n",
       "4  MRTO4    2           \n",
       "5  MRTO4    1           \n",
       "6  MRTO4    1           \n",
       "7  RHD      1           \n",
       "8  SERINC2  1           \n",
       "9  SERINC2  1           \n",
       "10 SERINC2  1           \n",
       "11 CLSPN    1           \n",
       "12 TTC4     1           \n",
       "13 NIT2     2           \n",
       "14 STXBP3   1           \n",
       "15 NUP133   1           \n",
       "16 NUP133   1           \n",
       "17 ADCY3    1           \n",
       "18 ADCY3    1           \n",
       "19 ADCY3    1           \n",
       "20 ADCY3    1           "
      ]
     },
     "metadata": {},
     "output_type": "display_data"
    },
    {
     "data": {
      "text/html": [
       "<style>\n",
       ".list-inline {list-style: none; margin:0; padding: 0}\n",
       ".list-inline>li {display: inline-block}\n",
       ".list-inline>li:not(:last-child)::after {content: \"\\00b7\"; padding: 0 .5ex}\n",
       "</style>\n",
       "<ol class=list-inline><li>373</li><li>8</li></ol>\n"
      ],
      "text/latex": [
       "\\begin{enumerate*}\n",
       "\\item 373\n",
       "\\item 8\n",
       "\\end{enumerate*}\n"
      ],
      "text/markdown": [
       "1. 373\n",
       "2. 8\n",
       "\n",
       "\n"
      ],
      "text/plain": [
       "[1] 373   8"
      ]
     },
     "metadata": {},
     "output_type": "display_data"
    }
   ],
   "source": [
    "#First, load in the guide map so that we can figure out which guides are on the plus or minus strand\n",
    "setwd(\"/home/jupyter/Ancestry/gwas\")\n",
    "guide.map = guides.to.keep %>%\n",
    "select(sgrna, genome_alignment) %>%\n",
    "mutate(genome_alignment = gsub(\"..*_\", \"\", genome_alignment)) %>%\n",
    "rename(\"strand\" = genome_alignment)\n",
    "head(guide.map)\n",
    "\n",
    "#Load in the Avana bed file to get positions for the ancestry-associated guides\n",
    "#Also add the annotation information from guides.to.keep to the avana.bed matrix\n",
    "#Also flip the start and end positions if the sgrna is on the minus strand\n",
    "setwd(\"/home/jupyter/Ancestry/filtered_output/avana14\")\n",
    "avana.bed <- read.table('Avana14_filtering.bed', sep = \"\\t\", header = F) %>%\n",
    "rename(\"chr\" = 1, \"start\" = 2, \"end\" = 3, \"sgrna\" = 4) %>%\n",
    "inner_join(guide.map, by = \"sgrna\") %>%\n",
    "mutate(\"true_start\" = ifelse(strand %in% \"+\", start, end)) %>%\n",
    "mutate(\"true_end\" = ifelse(strand %in% \"+\", end, start)) %>% #This line and the line above will create two new columns to flip the start and end if the sgrna is on the minus strand\n",
    "select(chr, true_start, true_end, sgrna) %>%\n",
    "rename(\"start\" = true_start) %>%\n",
    "rename(\"end\" = true_end) %>%\n",
    "inner_join(guides.to.keep, by = \"sgrna\")\n",
    "\n",
    "head(avana.bed)\n",
    "dim(avana.bed)\n",
    "\n",
    "#We also need to make a bed file that works for SNP filtering, since for bcftools the orientation must always have the smaller value be the start\n",
    "setwd(\"/home/jupyter/Ancestry/filtered_output/avana14\")\n",
    "avana.bed.for.filtering <- read.table('Avana14_filtering.bed', sep = \"\\t\", header = F) %>%\n",
    "rename(\"chr\" = 1, \"start\" = 2, \"end\" = 3, \"sgrna\" = 4) %>%\n",
    "inner_join(guide.map, by = \"sgrna\") %>%\n",
    "inner_join(guides.to.keep, by = \"sgrna\")"
   ]
  },
  {
   "cell_type": "markdown",
   "metadata": {},
   "source": [
    "Now we need to load in all of the ccle variant calls. The entire dataset is far too large, so we will need to first subset it so that it is smaller."
   ]
  },
  {
   "cell_type": "code",
   "execution_count": 238,
   "metadata": {},
   "outputs": [],
   "source": [
    "#Format avana.bed as an actual bed file, then export it\n",
    "setwd(\"/home/jupyter/Ancestry/analysis/map_ccle_snps_to_avana_guides\")\n",
    "bed.for.export = avana.bed.for.filtering %>%\n",
    "select(chr, start, end, sgrna)\n",
    "write.table(bed.for.export, \"ancestry.associated.sgrna.ranges.bed\", sep = \"\\t\", col.names = FALSE, row.names = FALSE, quote = FALSE)\n",
    "\n",
    "\n",
    "#Now use bcftools to subset the big ccle snp matrix to only include SNPs in that range\n",
    "system(glue::glue(\"\n",
    "cd /home/jupyter/Ancestry/rfmix\n",
    "/home/jupyter/Ancestry/software/bcftools/bcftools view -R /home/jupyter/Ancestry/analysis/map_ccle_snps_to_avana_guides/ancestry.associated.sgrna.ranges.bed split.all_chroms.maf.subset.reheader.vcf.gz -o /home/jupyter/Ancestry/analysis/map_ccle_snps_to_avana_guides/snps.in.ancestry.guides.vcf.gz -Oz\n",
    "\"))"
   ]
  },
  {
   "cell_type": "code",
   "execution_count": 239,
   "metadata": {},
   "outputs": [
    {
     "data": {
      "text/html": [
       "<table class=\"dataframe\">\n",
       "<caption>A data.frame: 6 × 998</caption>\n",
       "<thead>\n",
       "\t<tr><th></th><th scope=col>chr</th><th scope=col>pos</th><th scope=col>ref</th><th scope=col>alt</th><th scope=col>V10</th><th scope=col>V11</th><th scope=col>V12</th><th scope=col>V13</th><th scope=col>V14</th><th scope=col>V15</th><th scope=col>⋯</th><th scope=col>V994</th><th scope=col>V995</th><th scope=col>V996</th><th scope=col>V997</th><th scope=col>V998</th><th scope=col>V999</th><th scope=col>V1000</th><th scope=col>V1001</th><th scope=col>V1002</th><th scope=col>V1003</th></tr>\n",
       "\t<tr><th></th><th scope=col>&lt;chr&gt;</th><th scope=col>&lt;chr&gt;</th><th scope=col>&lt;chr&gt;</th><th scope=col>&lt;chr&gt;</th><th scope=col>&lt;chr&gt;</th><th scope=col>&lt;chr&gt;</th><th scope=col>&lt;chr&gt;</th><th scope=col>&lt;chr&gt;</th><th scope=col>&lt;chr&gt;</th><th scope=col>&lt;chr&gt;</th><th scope=col>⋯</th><th scope=col>&lt;chr&gt;</th><th scope=col>&lt;chr&gt;</th><th scope=col>&lt;chr&gt;</th><th scope=col>&lt;chr&gt;</th><th scope=col>&lt;chr&gt;</th><th scope=col>&lt;chr&gt;</th><th scope=col>&lt;chr&gt;</th><th scope=col>&lt;chr&gt;</th><th scope=col>&lt;chr&gt;</th><th scope=col>&lt;chr&gt;</th></tr>\n",
       "</thead>\n",
       "<tbody>\n",
       "\t<tr><th scope=row>1</th><td>chr1</td><td>19257510</td><td>G</td><td>A</td><td>1</td><td>0</td><td>0</td><td>1</td><td>2</td><td>0</td><td>⋯</td><td>0</td><td>0</td><td>0</td><td>2</td><td>1</td><td>0</td><td>1</td><td>0</td><td>1</td><td>0</td></tr>\n",
       "\t<tr><th scope=row>2</th><td>chr1</td><td>31425387</td><td>T</td><td>C</td><td>0</td><td>1</td><td>1</td><td>2</td><td>2</td><td>2</td><td>⋯</td><td>2</td><td>0</td><td>1</td><td>0</td><td>1</td><td>1</td><td>0</td><td>1</td><td>1</td><td>1</td></tr>\n",
       "\t<tr><th scope=row>3</th><td>chr1</td><td>35760347</td><td>T</td><td>C</td><td>1</td><td>0</td><td>1</td><td>1</td><td>2</td><td>0</td><td>⋯</td><td>1</td><td>2</td><td>0</td><td>2</td><td>0</td><td>0</td><td>0</td><td>0</td><td>1</td><td>0</td></tr>\n",
       "\t<tr><th scope=row>4</th><td>chr1</td><td>54716627</td><td>T</td><td>A</td><td>1</td><td>1</td><td>2</td><td>2</td><td>1</td><td>0</td><td>⋯</td><td>0</td><td>2</td><td>2</td><td>0</td><td>1</td><td>0</td><td>2</td><td>2</td><td>1</td><td>1</td></tr>\n",
       "\t<tr><th scope=row>5</th><td>chr1</td><td>54722709</td><td>C</td><td>T</td><td>1</td><td>0</td><td>2</td><td>0</td><td>0</td><td>0</td><td>⋯</td><td>0</td><td>0</td><td>1</td><td>0</td><td>0</td><td>0</td><td>0</td><td>0</td><td>1</td><td>0</td></tr>\n",
       "\t<tr><th scope=row>6</th><td>chr2</td><td>28869984</td><td>G</td><td>T</td><td>0</td><td>0</td><td>1</td><td>1</td><td>0</td><td>0</td><td>⋯</td><td>0</td><td>2</td><td>2</td><td>0</td><td>0</td><td>1</td><td>2</td><td>1</td><td>1</td><td>0</td></tr>\n",
       "</tbody>\n",
       "</table>\n"
      ],
      "text/latex": [
       "A data.frame: 6 × 998\n",
       "\\begin{tabular}{r|lllllllllllllllllllll}\n",
       "  & chr & pos & ref & alt & V10 & V11 & V12 & V13 & V14 & V15 & ⋯ & V994 & V995 & V996 & V997 & V998 & V999 & V1000 & V1001 & V1002 & V1003\\\\\n",
       "  & <chr> & <chr> & <chr> & <chr> & <chr> & <chr> & <chr> & <chr> & <chr> & <chr> & ⋯ & <chr> & <chr> & <chr> & <chr> & <chr> & <chr> & <chr> & <chr> & <chr> & <chr>\\\\\n",
       "\\hline\n",
       "\t1 & chr1 & 19257510 & G & A & 1 & 0 & 0 & 1 & 2 & 0 & ⋯ & 0 & 0 & 0 & 2 & 1 & 0 & 1 & 0 & 1 & 0\\\\\n",
       "\t2 & chr1 & 31425387 & T & C & 0 & 1 & 1 & 2 & 2 & 2 & ⋯ & 2 & 0 & 1 & 0 & 1 & 1 & 0 & 1 & 1 & 1\\\\\n",
       "\t3 & chr1 & 35760347 & T & C & 1 & 0 & 1 & 1 & 2 & 0 & ⋯ & 1 & 2 & 0 & 2 & 0 & 0 & 0 & 0 & 1 & 0\\\\\n",
       "\t4 & chr1 & 54716627 & T & A & 1 & 1 & 2 & 2 & 1 & 0 & ⋯ & 0 & 2 & 2 & 0 & 1 & 0 & 2 & 2 & 1 & 1\\\\\n",
       "\t5 & chr1 & 54722709 & C & T & 1 & 0 & 2 & 0 & 0 & 0 & ⋯ & 0 & 0 & 1 & 0 & 0 & 0 & 0 & 0 & 1 & 0\\\\\n",
       "\t6 & chr2 & 28869984 & G & T & 0 & 0 & 1 & 1 & 0 & 0 & ⋯ & 0 & 2 & 2 & 0 & 0 & 1 & 2 & 1 & 1 & 0\\\\\n",
       "\\end{tabular}\n"
      ],
      "text/markdown": [
       "\n",
       "A data.frame: 6 × 998\n",
       "\n",
       "| <!--/--> | chr &lt;chr&gt; | pos &lt;chr&gt; | ref &lt;chr&gt; | alt &lt;chr&gt; | V10 &lt;chr&gt; | V11 &lt;chr&gt; | V12 &lt;chr&gt; | V13 &lt;chr&gt; | V14 &lt;chr&gt; | V15 &lt;chr&gt; | ⋯ ⋯ | V994 &lt;chr&gt; | V995 &lt;chr&gt; | V996 &lt;chr&gt; | V997 &lt;chr&gt; | V998 &lt;chr&gt; | V999 &lt;chr&gt; | V1000 &lt;chr&gt; | V1001 &lt;chr&gt; | V1002 &lt;chr&gt; | V1003 &lt;chr&gt; |\n",
       "|---|---|---|---|---|---|---|---|---|---|---|---|---|---|---|---|---|---|---|---|---|---|\n",
       "| 1 | chr1 | 19257510 | G | A | 1 | 0 | 0 | 1 | 2 | 0 | ⋯ | 0 | 0 | 0 | 2 | 1 | 0 | 1 | 0 | 1 | 0 |\n",
       "| 2 | chr1 | 31425387 | T | C | 0 | 1 | 1 | 2 | 2 | 2 | ⋯ | 2 | 0 | 1 | 0 | 1 | 1 | 0 | 1 | 1 | 1 |\n",
       "| 3 | chr1 | 35760347 | T | C | 1 | 0 | 1 | 1 | 2 | 0 | ⋯ | 1 | 2 | 0 | 2 | 0 | 0 | 0 | 0 | 1 | 0 |\n",
       "| 4 | chr1 | 54716627 | T | A | 1 | 1 | 2 | 2 | 1 | 0 | ⋯ | 0 | 2 | 2 | 0 | 1 | 0 | 2 | 2 | 1 | 1 |\n",
       "| 5 | chr1 | 54722709 | C | T | 1 | 0 | 2 | 0 | 0 | 0 | ⋯ | 0 | 0 | 1 | 0 | 0 | 0 | 0 | 0 | 1 | 0 |\n",
       "| 6 | chr2 | 28869984 | G | T | 0 | 0 | 1 | 1 | 0 | 0 | ⋯ | 0 | 2 | 2 | 0 | 0 | 1 | 2 | 1 | 1 | 0 |\n",
       "\n"
      ],
      "text/plain": [
       "  chr  pos      ref alt V10 V11 V12 V13 V14 V15 ⋯ V994 V995 V996 V997 V998 V999\n",
       "1 chr1 19257510 G   A   1   0   0   1   2   0   ⋯ 0    0    0    2    1    0   \n",
       "2 chr1 31425387 T   C   0   1   1   2   2   2   ⋯ 2    0    1    0    1    1   \n",
       "3 chr1 35760347 T   C   1   0   1   1   2   0   ⋯ 1    2    0    2    0    0   \n",
       "4 chr1 54716627 T   A   1   1   2   2   1   0   ⋯ 0    2    2    0    1    0   \n",
       "5 chr1 54722709 C   T   1   0   2   0   0   0   ⋯ 0    0    1    0    0    0   \n",
       "6 chr2 28869984 G   T   0   0   1   1   0   0   ⋯ 0    2    2    0    0    1   \n",
       "  V1000 V1001 V1002 V1003\n",
       "1 1     0     1     0    \n",
       "2 0     1     1     1    \n",
       "3 0     0     1     0    \n",
       "4 2     2     1     1    \n",
       "5 0     0     1     0    \n",
       "6 2     1     1     0    "
      ]
     },
     "metadata": {},
     "output_type": "display_data"
    },
    {
     "data": {
      "text/html": [
       "<style>\n",
       ".list-inline {list-style: none; margin:0; padding: 0}\n",
       ".list-inline>li {display: inline-block}\n",
       ".list-inline>li:not(:last-child)::after {content: \"\\00b7\"; padding: 0 .5ex}\n",
       "</style>\n",
       "<ol class=list-inline><li>66</li><li>998</li></ol>\n"
      ],
      "text/latex": [
       "\\begin{enumerate*}\n",
       "\\item 66\n",
       "\\item 998\n",
       "\\end{enumerate*}\n"
      ],
      "text/markdown": [
       "1. 66\n",
       "2. 998\n",
       "\n",
       "\n"
      ],
      "text/plain": [
       "[1]  66 998"
      ]
     },
     "metadata": {},
     "output_type": "display_data"
    }
   ],
   "source": [
    "#Now load in the subset vcf file and format it\n",
    "setwd(\"/home/jupyter/Ancestry/analysis/map_ccle_snps_to_avana_guides\")\n",
    "subset.ccle.snps = read.table(\"snps.in.ancestry.guides.vcf.gz\", sep = \"\\t\") %>%\n",
    "filter(V7 %in% \"PASS\") %>%\n",
    "select(-V1, -V2, -V4, -V5, -V6, -V7, -V8, -V9)\n",
    "\n",
    "#Reformat the genotyping data\n",
    "subset.ccle.snps[2:ncol(subset.ccle.snps)] = apply(subset.ccle.snps[2:ncol(subset.ccle.snps)], 2, function(x){gsub(\":..*\", \"\", x) })\n",
    "subset.ccle.snps[2:ncol(subset.ccle.snps)] = apply(subset.ccle.snps[2:ncol(subset.ccle.snps)], 2, function(x){gsub(\"0\\\\|0\", 0, x) })\n",
    "subset.ccle.snps[2:ncol(subset.ccle.snps)] = apply(subset.ccle.snps[2:ncol(subset.ccle.snps)], 2, function(x){gsub(\"0\\\\|1\", 1, x) })\n",
    "subset.ccle.snps[2:ncol(subset.ccle.snps)] = apply(subset.ccle.snps[2:ncol(subset.ccle.snps)], 2, function(x){gsub(\"1\\\\|0\", 1, x) })\n",
    "subset.ccle.snps[2:ncol(subset.ccle.snps)] = apply(subset.ccle.snps[2:ncol(subset.ccle.snps)], 2, function(x){gsub(\"1\\\\|1\", 2, x) })\n",
    "\n",
    "#Fix the SNP column\n",
    "subset.ccle.snps = subset.ccle.snps %>%\n",
    "separate(V3, sep = \":\", into = c(\"chr\", \"pos\", \"ref\", \"alt\"))\n",
    "\n",
    "head(subset.ccle.snps)\n",
    "dim(subset.ccle.snps)"
   ]
  },
  {
   "cell_type": "code",
   "execution_count": 240,
   "metadata": {},
   "outputs": [],
   "source": [
    "#For each guide in avana.bed calculate if there is a snp in the guide, then calculate the position of that SNP\n",
    "snp.in.guide.list = NULL\n",
    "for(i in 1:nrow(avana.bed)){\n",
    "    \n",
    "    #get information for the guide of interest\n",
    "    guide.start = avana.bed$start[i] %>% as.numeric() #get the position of the guide\n",
    "    guide.chrom = avana.bed$chr[i] #get the chromosome that the guide is on\n",
    "    sgrna.barcode = avana.bed$sgrna[i] #get the barcode sequence\n",
    "    \n",
    "    #subset out subset.ccle.snps so that it only includes snps on that chromsome\n",
    "    subset.to.chr = subset.ccle.snps %>% filter(chr %in% guide.chrom)\n",
    "    \n",
    "    #now calculate the differential and add it to the list outside of the loop\n",
    "    snp.position = guide.start - as.numeric(subset.to.chr$pos)\n",
    "    snp.in.guide.list[[i]] = snp.position\n",
    "}\n",
    "names(snp.in.guide.list) = avana.bed$sgrna #Then name the list with the corresponding sgrna sequence"
   ]
  },
  {
   "cell_type": "code",
   "execution_count": 241,
   "metadata": {},
   "outputs": [],
   "source": [
    "#Now create a matrix where each row is a guide and each column is a position (1-20 + 3) that is coded with 0 and 1\n",
    "#1 means there is a snp in that position in at least one cell line\n",
    "\n",
    "output.matrix = NULL\n",
    "for(i in 1:length(snp.in.guide.list)){\n",
    "    \n",
    "    snp.position.vector = snp.in.guide.list[[i]] %>% abs() #get a vector with the snp positions\n",
    "    position.with.snp = intersect(snp.position.vector, 1:23) #find the snps that map to guides or the PAM sequence\n",
    "    \n",
    "    #now create the final vector\n",
    "    final.vector = rep(0, 23)\n",
    "    final.vector[position.with.snp] <- 1\n",
    "    \n",
    "    #save the output vector to the matrix\n",
    "    output.matrix = rbind(output.matrix, final.vector)\n",
    "}\n",
    "output.matrix = output.matrix %>% data.frame()"
   ]
  },
  {
   "cell_type": "code",
   "execution_count": 242,
   "metadata": {},
   "outputs": [
    {
     "data": {
      "text/html": [
       "<table class=\"dataframe\">\n",
       "<caption>A data.frame: 6 × 23</caption>\n",
       "<thead>\n",
       "\t<tr><th></th><th scope=col>X1</th><th scope=col>X2</th><th scope=col>X3</th><th scope=col>X4</th><th scope=col>X5</th><th scope=col>X6</th><th scope=col>X7</th><th scope=col>X8</th><th scope=col>X9</th><th scope=col>X10</th><th scope=col>⋯</th><th scope=col>X14</th><th scope=col>X15</th><th scope=col>X16</th><th scope=col>X17</th><th scope=col>X18</th><th scope=col>X19</th><th scope=col>X20</th><th scope=col>X21</th><th scope=col>X22</th><th scope=col>X23</th></tr>\n",
       "\t<tr><th></th><th scope=col>&lt;dbl&gt;</th><th scope=col>&lt;dbl&gt;</th><th scope=col>&lt;dbl&gt;</th><th scope=col>&lt;dbl&gt;</th><th scope=col>&lt;dbl&gt;</th><th scope=col>&lt;dbl&gt;</th><th scope=col>&lt;dbl&gt;</th><th scope=col>&lt;dbl&gt;</th><th scope=col>&lt;dbl&gt;</th><th scope=col>&lt;dbl&gt;</th><th scope=col>⋯</th><th scope=col>&lt;dbl&gt;</th><th scope=col>&lt;dbl&gt;</th><th scope=col>&lt;dbl&gt;</th><th scope=col>&lt;dbl&gt;</th><th scope=col>&lt;dbl&gt;</th><th scope=col>&lt;dbl&gt;</th><th scope=col>&lt;dbl&gt;</th><th scope=col>&lt;dbl&gt;</th><th scope=col>&lt;dbl&gt;</th><th scope=col>&lt;dbl&gt;</th></tr>\n",
       "</thead>\n",
       "<tbody>\n",
       "\t<tr><th scope=row>ATGGTCTCCGACCTTCTCCA</th><td>0</td><td>0</td><td>0</td><td>0</td><td>0</td><td>0</td><td>0</td><td>0</td><td>0</td><td>0</td><td>⋯</td><td>0</td><td>0</td><td>0</td><td>0</td><td>0</td><td>0</td><td>0</td><td>0</td><td>0</td><td>0</td></tr>\n",
       "\t<tr><th scope=row>CCAGCTGCAGGCAACGCACG</th><td>0</td><td>0</td><td>0</td><td>0</td><td>0</td><td>0</td><td>0</td><td>0</td><td>0</td><td>0</td><td>⋯</td><td>0</td><td>0</td><td>0</td><td>0</td><td>0</td><td>0</td><td>0</td><td>0</td><td>0</td><td>0</td></tr>\n",
       "\t<tr><th scope=row>GCCGGCACTCCAGGACCCAG</th><td>0</td><td>0</td><td>0</td><td>0</td><td>0</td><td>0</td><td>0</td><td>0</td><td>0</td><td>0</td><td>⋯</td><td>0</td><td>0</td><td>0</td><td>0</td><td>0</td><td>0</td><td>0</td><td>0</td><td>0</td><td>0</td></tr>\n",
       "\t<tr><th scope=row>TCTTCTCTGTGGCCAACATG</th><td>0</td><td>0</td><td>0</td><td>0</td><td>0</td><td>0</td><td>0</td><td>0</td><td>0</td><td>0</td><td>⋯</td><td>0</td><td>0</td><td>0</td><td>0</td><td>0</td><td>0</td><td>0</td><td>0</td><td>0</td><td>0</td></tr>\n",
       "\t<tr><th scope=row>GTAGGTCAGCAAAAGGTTGA</th><td>0</td><td>0</td><td>0</td><td>0</td><td>0</td><td>0</td><td>0</td><td>0</td><td>0</td><td>0</td><td>⋯</td><td>0</td><td>0</td><td>0</td><td>0</td><td>0</td><td>0</td><td>0</td><td>0</td><td>0</td><td>0</td></tr>\n",
       "\t<tr><th scope=row>TAGGTCAGCAAAAGGTTGAG</th><td>0</td><td>0</td><td>0</td><td>0</td><td>0</td><td>0</td><td>0</td><td>0</td><td>0</td><td>0</td><td>⋯</td><td>0</td><td>0</td><td>0</td><td>0</td><td>0</td><td>0</td><td>0</td><td>0</td><td>0</td><td>0</td></tr>\n",
       "</tbody>\n",
       "</table>\n"
      ],
      "text/latex": [
       "A data.frame: 6 × 23\n",
       "\\begin{tabular}{r|lllllllllllllllllllll}\n",
       "  & X1 & X2 & X3 & X4 & X5 & X6 & X7 & X8 & X9 & X10 & ⋯ & X14 & X15 & X16 & X17 & X18 & X19 & X20 & X21 & X22 & X23\\\\\n",
       "  & <dbl> & <dbl> & <dbl> & <dbl> & <dbl> & <dbl> & <dbl> & <dbl> & <dbl> & <dbl> & ⋯ & <dbl> & <dbl> & <dbl> & <dbl> & <dbl> & <dbl> & <dbl> & <dbl> & <dbl> & <dbl>\\\\\n",
       "\\hline\n",
       "\tATGGTCTCCGACCTTCTCCA & 0 & 0 & 0 & 0 & 0 & 0 & 0 & 0 & 0 & 0 & ⋯ & 0 & 0 & 0 & 0 & 0 & 0 & 0 & 0 & 0 & 0\\\\\n",
       "\tCCAGCTGCAGGCAACGCACG & 0 & 0 & 0 & 0 & 0 & 0 & 0 & 0 & 0 & 0 & ⋯ & 0 & 0 & 0 & 0 & 0 & 0 & 0 & 0 & 0 & 0\\\\\n",
       "\tGCCGGCACTCCAGGACCCAG & 0 & 0 & 0 & 0 & 0 & 0 & 0 & 0 & 0 & 0 & ⋯ & 0 & 0 & 0 & 0 & 0 & 0 & 0 & 0 & 0 & 0\\\\\n",
       "\tTCTTCTCTGTGGCCAACATG & 0 & 0 & 0 & 0 & 0 & 0 & 0 & 0 & 0 & 0 & ⋯ & 0 & 0 & 0 & 0 & 0 & 0 & 0 & 0 & 0 & 0\\\\\n",
       "\tGTAGGTCAGCAAAAGGTTGA & 0 & 0 & 0 & 0 & 0 & 0 & 0 & 0 & 0 & 0 & ⋯ & 0 & 0 & 0 & 0 & 0 & 0 & 0 & 0 & 0 & 0\\\\\n",
       "\tTAGGTCAGCAAAAGGTTGAG & 0 & 0 & 0 & 0 & 0 & 0 & 0 & 0 & 0 & 0 & ⋯ & 0 & 0 & 0 & 0 & 0 & 0 & 0 & 0 & 0 & 0\\\\\n",
       "\\end{tabular}\n"
      ],
      "text/markdown": [
       "\n",
       "A data.frame: 6 × 23\n",
       "\n",
       "| <!--/--> | X1 &lt;dbl&gt; | X2 &lt;dbl&gt; | X3 &lt;dbl&gt; | X4 &lt;dbl&gt; | X5 &lt;dbl&gt; | X6 &lt;dbl&gt; | X7 &lt;dbl&gt; | X8 &lt;dbl&gt; | X9 &lt;dbl&gt; | X10 &lt;dbl&gt; | ⋯ ⋯ | X14 &lt;dbl&gt; | X15 &lt;dbl&gt; | X16 &lt;dbl&gt; | X17 &lt;dbl&gt; | X18 &lt;dbl&gt; | X19 &lt;dbl&gt; | X20 &lt;dbl&gt; | X21 &lt;dbl&gt; | X22 &lt;dbl&gt; | X23 &lt;dbl&gt; |\n",
       "|---|---|---|---|---|---|---|---|---|---|---|---|---|---|---|---|---|---|---|---|---|---|\n",
       "| ATGGTCTCCGACCTTCTCCA | 0 | 0 | 0 | 0 | 0 | 0 | 0 | 0 | 0 | 0 | ⋯ | 0 | 0 | 0 | 0 | 0 | 0 | 0 | 0 | 0 | 0 |\n",
       "| CCAGCTGCAGGCAACGCACG | 0 | 0 | 0 | 0 | 0 | 0 | 0 | 0 | 0 | 0 | ⋯ | 0 | 0 | 0 | 0 | 0 | 0 | 0 | 0 | 0 | 0 |\n",
       "| GCCGGCACTCCAGGACCCAG | 0 | 0 | 0 | 0 | 0 | 0 | 0 | 0 | 0 | 0 | ⋯ | 0 | 0 | 0 | 0 | 0 | 0 | 0 | 0 | 0 | 0 |\n",
       "| TCTTCTCTGTGGCCAACATG | 0 | 0 | 0 | 0 | 0 | 0 | 0 | 0 | 0 | 0 | ⋯ | 0 | 0 | 0 | 0 | 0 | 0 | 0 | 0 | 0 | 0 |\n",
       "| GTAGGTCAGCAAAAGGTTGA | 0 | 0 | 0 | 0 | 0 | 0 | 0 | 0 | 0 | 0 | ⋯ | 0 | 0 | 0 | 0 | 0 | 0 | 0 | 0 | 0 | 0 |\n",
       "| TAGGTCAGCAAAAGGTTGAG | 0 | 0 | 0 | 0 | 0 | 0 | 0 | 0 | 0 | 0 | ⋯ | 0 | 0 | 0 | 0 | 0 | 0 | 0 | 0 | 0 | 0 |\n",
       "\n"
      ],
      "text/plain": [
       "                     X1 X2 X3 X4 X5 X6 X7 X8 X9 X10 ⋯ X14 X15 X16 X17 X18 X19\n",
       "ATGGTCTCCGACCTTCTCCA 0  0  0  0  0  0  0  0  0  0   ⋯ 0   0   0   0   0   0  \n",
       "CCAGCTGCAGGCAACGCACG 0  0  0  0  0  0  0  0  0  0   ⋯ 0   0   0   0   0   0  \n",
       "GCCGGCACTCCAGGACCCAG 0  0  0  0  0  0  0  0  0  0   ⋯ 0   0   0   0   0   0  \n",
       "TCTTCTCTGTGGCCAACATG 0  0  0  0  0  0  0  0  0  0   ⋯ 0   0   0   0   0   0  \n",
       "GTAGGTCAGCAAAAGGTTGA 0  0  0  0  0  0  0  0  0  0   ⋯ 0   0   0   0   0   0  \n",
       "TAGGTCAGCAAAAGGTTGAG 0  0  0  0  0  0  0  0  0  0   ⋯ 0   0   0   0   0   0  \n",
       "                     X20 X21 X22 X23\n",
       "ATGGTCTCCGACCTTCTCCA 0   0   0   0  \n",
       "CCAGCTGCAGGCAACGCACG 0   0   0   0  \n",
       "GCCGGCACTCCAGGACCCAG 0   0   0   0  \n",
       "TCTTCTCTGTGGCCAACATG 0   0   0   0  \n",
       "GTAGGTCAGCAAAAGGTTGA 0   0   0   0  \n",
       "TAGGTCAGCAAAAGGTTGAG 0   0   0   0  "
      ]
     },
     "metadata": {},
     "output_type": "display_data"
    }
   ],
   "source": [
    "#Export the output.matrix so that we can use it for other purposes\n",
    "output.matrix.for.export = output.matrix \n",
    "row.names(output.matrix.for.export) = avana.bed$sgrna\n",
    "\n",
    "head(output.matrix.for.export)\n",
    "\n",
    "#Now export it\n",
    "setwd(\"/home/jupyter/Ancestry/analysis/map_ccle_snps_to_avana_guides\")\n",
    "write.table(output.matrix.for.export, \"ancestry_guide_snp_positions.txt\", sep = \"\\t\", row.names = TRUE, col.names = TRUE, quote = FALSE)"
   ]
  },
  {
   "cell_type": "markdown",
   "metadata": {},
   "source": [
    "Now format the output matrix for plotting, then plot the heatmap"
   ]
  },
  {
   "cell_type": "code",
   "execution_count": 243,
   "metadata": {},
   "outputs": [
    {
     "name": "stderr",
     "output_type": "stream",
     "text": [
      "Using gene as id variables\n",
      "\n",
      "`summarise()` has grouped output by 'gene'. You can override using the `.groups` argument.\n",
      "\n"
     ]
    },
    {
     "data": {
      "text/html": [
       "<table class=\"dataframe\">\n",
       "<caption>A grouped_df: 6 × 3</caption>\n",
       "<thead>\n",
       "\t<tr><th scope=col>gene</th><th scope=col>variable</th><th scope=col>value</th></tr>\n",
       "\t<tr><th scope=col>&lt;chr&gt;</th><th scope=col>&lt;fct&gt;</th><th scope=col>&lt;dbl&gt;</th></tr>\n",
       "</thead>\n",
       "<tbody>\n",
       "\t<tr><td>ACAN</td><td>X1</td><td>0</td></tr>\n",
       "\t<tr><td>ACAN</td><td>X2</td><td>0</td></tr>\n",
       "\t<tr><td>ACAN</td><td>X3</td><td>0</td></tr>\n",
       "\t<tr><td>ACAN</td><td>X4</td><td>0</td></tr>\n",
       "\t<tr><td>ACAN</td><td>X5</td><td>0</td></tr>\n",
       "\t<tr><td>ACAN</td><td>X6</td><td>0</td></tr>\n",
       "</tbody>\n",
       "</table>\n"
      ],
      "text/latex": [
       "A grouped\\_df: 6 × 3\n",
       "\\begin{tabular}{lll}\n",
       " gene & variable & value\\\\\n",
       " <chr> & <fct> & <dbl>\\\\\n",
       "\\hline\n",
       "\t ACAN & X1 & 0\\\\\n",
       "\t ACAN & X2 & 0\\\\\n",
       "\t ACAN & X3 & 0\\\\\n",
       "\t ACAN & X4 & 0\\\\\n",
       "\t ACAN & X5 & 0\\\\\n",
       "\t ACAN & X6 & 0\\\\\n",
       "\\end{tabular}\n"
      ],
      "text/markdown": [
       "\n",
       "A grouped_df: 6 × 3\n",
       "\n",
       "| gene &lt;chr&gt; | variable &lt;fct&gt; | value &lt;dbl&gt; |\n",
       "|---|---|---|\n",
       "| ACAN | X1 | 0 |\n",
       "| ACAN | X2 | 0 |\n",
       "| ACAN | X3 | 0 |\n",
       "| ACAN | X4 | 0 |\n",
       "| ACAN | X5 | 0 |\n",
       "| ACAN | X6 | 0 |\n",
       "\n"
      ],
      "text/plain": [
       "  gene variable value\n",
       "1 ACAN X1       0    \n",
       "2 ACAN X2       0    \n",
       "3 ACAN X3       0    \n",
       "4 ACAN X4       0    \n",
       "5 ACAN X5       0    \n",
       "6 ACAN X6       0    "
      ]
     },
     "metadata": {},
     "output_type": "display_data"
    }
   ],
   "source": [
    "#Format the dataset for plotting a heatmap\n",
    "output.matrix.for.plotting = output.matrix %>%\n",
    "mutate(\"sgrna\" = names(snp.in.guide.list), .before = 1) %>%\n",
    "mutate(\"gene\" = sgrna, .after = sgrna) %>%\n",
    "mutate(gene = plyr::mapvalues(gene, from = avana.bed$sgrna, to = avana.bed$gene, warn_missing = FALSE)) %>%\n",
    "select(-sgrna) %>% #remove the sgrna column\n",
    "melt() %>%\n",
    "group_by(gene, variable) %>%\n",
    "summarise(max(value)) %>%\n",
    "rename(\"value\" = 3)\n",
    "\n",
    "head(output.matrix.for.plotting)\n",
    "\n",
    "\n",
    "#calculate the number of SNPs per gene\n",
    "snps.per.gene = output.matrix.for.plotting %>%\n",
    "group_by(gene) %>%\n",
    "summarise(sum(value)) %>%\n",
    "rename(\"value\" = 2) %>%\n",
    "arrange(-value) \n",
    "\n"
   ]
  },
  {
   "cell_type": "code",
   "execution_count": 244,
   "metadata": {},
   "outputs": [
    {
     "data": {
      "image/png": "[encoded data removed]",
      "text/plain": [
       "plot without title"
      ]
     },
     "metadata": {
      "image/png": {
       "height": 420,
       "width": 420
      }
     },
     "output_type": "display_data"
    }
   ],
   "source": [
    "#Now plot the heatmap\n",
    "output.matrix.for.plotting %>%\n",
    "ggplot(aes(x = variable, y = factor(gene, levels = snps.per.gene$gene), fill = value)) + \n",
    "geom_tile()\n",
    "\n",
    "#And export it to the bucket\n",
    "#Export it to the google bucket\n",
    "setwd('/home/jupyter/Ancestry/figures')\n",
    "ggsave(\"ccle_snp_heatmap.pdf\", width = 5, height = 5)\n",
    "system(glue::glue(\"\n",
    "cd /home/jupyter/Ancestry/figures\n",
    "gsutil cp ccle_snp_heatmap.pdf gs://fc-45c0e148-0b1c-4244-9bfc-feb559bbc514\n",
    "\"))"
   ]
  },
  {
   "cell_type": "markdown",
   "metadata": {},
   "source": [
    "Now let's calculate the CCLE ancestry fractions for the SNPs that map to guides"
   ]
  },
  {
   "cell_type": "code",
   "execution_count": 120,
   "metadata": {},
   "outputs": [
    {
     "data": {
      "text/html": [
       "<style>\n",
       ".list-inline {list-style: none; margin:0; padding: 0}\n",
       ".list-inline>li {display: inline-block}\n",
       ".list-inline>li:not(:last-child)::after {content: \"\\00b7\"; padding: 0 .5ex}\n",
       "</style>\n",
       "<ol class=list-inline><li>'ACH-000657'</li><li>'ACH-000617'</li><li>'ACH-000685'</li><li>'ACH-000632'</li><li>'ACH-000171'</li><li>'ACH-000863'</li></ol>\n"
      ],
      "text/latex": [
       "\\begin{enumerate*}\n",
       "\\item 'ACH-000657'\n",
       "\\item 'ACH-000617'\n",
       "\\item 'ACH-000685'\n",
       "\\item 'ACH-000632'\n",
       "\\item 'ACH-000171'\n",
       "\\item 'ACH-000863'\n",
       "\\end{enumerate*}\n"
      ],
      "text/markdown": [
       "1. 'ACH-000657'\n",
       "2. 'ACH-000617'\n",
       "3. 'ACH-000685'\n",
       "4. 'ACH-000632'\n",
       "5. 'ACH-000171'\n",
       "6. 'ACH-000863'\n",
       "\n",
       "\n"
      ],
      "text/plain": [
       "[1] \"ACH-000657\" \"ACH-000617\" \"ACH-000685\" \"ACH-000632\" \"ACH-000171\"\n",
       "[6] \"ACH-000863\""
      ]
     },
     "metadata": {},
     "output_type": "display_data"
    }
   ],
   "source": [
    "#First extract the sample names from the vcf file, then load them into R\n",
    "system(glue::glue(\"\n",
    "cd /home/jupyter/Ancestry/analysis/map_ccle_snps_to_avana_guides\n",
    "/home/jupyter/Ancestry/software/bcftools/bcftools query -l /home/jupyter/Ancestry/analysis/map_ccle_snps_to_avana_guides/snps.in.ancestry.guides.vcf.gz > ccle.sample.names.txt\n",
    "\"))\n",
    "\n",
    "setwd(\"/home/jupyter/Ancestry/analysis/map_ccle_snps_to_avana_guides\")\n",
    "sample.names = read.table(\"ccle.sample.names.txt\", sep = \"\\t\") %>%\n",
    "pull(1)\n",
    "head(sample.names)"
   ]
  },
  {
   "cell_type": "code",
   "execution_count": 121,
   "metadata": {},
   "outputs": [
    {
     "data": {
      "text/html": [
       "<table class=\"dataframe\">\n",
       "<caption>A data.frame: 6 × 998</caption>\n",
       "<thead>\n",
       "\t<tr><th></th><th scope=col>chr</th><th scope=col>pos</th><th scope=col>ref</th><th scope=col>alt</th><th scope=col>ACH-000657</th><th scope=col>ACH-000617</th><th scope=col>ACH-000685</th><th scope=col>ACH-000632</th><th scope=col>ACH-000171</th><th scope=col>ACH-000863</th><th scope=col>⋯</th><th scope=col>ACH-000981</th><th scope=col>ACH-000217</th><th scope=col>ACH-000116</th><th scope=col>ACH-000930</th><th scope=col>ACH-000986</th><th scope=col>ACH-000342</th><th scope=col>ACH-001130</th><th scope=col>ACH-000287</th><th scope=col>ACH-000798</th><th scope=col>ACH-000645</th></tr>\n",
       "\t<tr><th></th><th scope=col>&lt;chr&gt;</th><th scope=col>&lt;chr&gt;</th><th scope=col>&lt;chr&gt;</th><th scope=col>&lt;chr&gt;</th><th scope=col>&lt;chr&gt;</th><th scope=col>&lt;chr&gt;</th><th scope=col>&lt;chr&gt;</th><th scope=col>&lt;chr&gt;</th><th scope=col>&lt;chr&gt;</th><th scope=col>&lt;chr&gt;</th><th scope=col>⋯</th><th scope=col>&lt;chr&gt;</th><th scope=col>&lt;chr&gt;</th><th scope=col>&lt;chr&gt;</th><th scope=col>&lt;chr&gt;</th><th scope=col>&lt;chr&gt;</th><th scope=col>&lt;chr&gt;</th><th scope=col>&lt;chr&gt;</th><th scope=col>&lt;chr&gt;</th><th scope=col>&lt;chr&gt;</th><th scope=col>&lt;chr&gt;</th></tr>\n",
       "</thead>\n",
       "<tbody>\n",
       "\t<tr><th scope=row>1</th><td>chr1</td><td>19257510</td><td>G</td><td>A</td><td>1</td><td>0</td><td>0</td><td>1</td><td>2</td><td>0</td><td>⋯</td><td>0</td><td>0</td><td>0</td><td>2</td><td>1</td><td>0</td><td>1</td><td>0</td><td>1</td><td>0</td></tr>\n",
       "\t<tr><th scope=row>2</th><td>chr1</td><td>31425387</td><td>T</td><td>C</td><td>0</td><td>1</td><td>1</td><td>2</td><td>2</td><td>2</td><td>⋯</td><td>2</td><td>0</td><td>1</td><td>0</td><td>1</td><td>1</td><td>0</td><td>1</td><td>1</td><td>1</td></tr>\n",
       "\t<tr><th scope=row>3</th><td>chr1</td><td>35760347</td><td>T</td><td>C</td><td>1</td><td>0</td><td>1</td><td>1</td><td>2</td><td>0</td><td>⋯</td><td>1</td><td>2</td><td>0</td><td>2</td><td>0</td><td>0</td><td>0</td><td>0</td><td>1</td><td>0</td></tr>\n",
       "\t<tr><th scope=row>4</th><td>chr1</td><td>54716627</td><td>T</td><td>A</td><td>1</td><td>1</td><td>2</td><td>2</td><td>1</td><td>0</td><td>⋯</td><td>0</td><td>2</td><td>2</td><td>0</td><td>1</td><td>0</td><td>2</td><td>2</td><td>1</td><td>1</td></tr>\n",
       "\t<tr><th scope=row>5</th><td>chr1</td><td>54722709</td><td>C</td><td>T</td><td>1</td><td>0</td><td>2</td><td>0</td><td>0</td><td>0</td><td>⋯</td><td>0</td><td>0</td><td>1</td><td>0</td><td>0</td><td>0</td><td>0</td><td>0</td><td>1</td><td>0</td></tr>\n",
       "\t<tr><th scope=row>6</th><td>chr2</td><td>28869984</td><td>G</td><td>T</td><td>0</td><td>0</td><td>1</td><td>1</td><td>0</td><td>0</td><td>⋯</td><td>0</td><td>2</td><td>2</td><td>0</td><td>0</td><td>1</td><td>2</td><td>1</td><td>1</td><td>0</td></tr>\n",
       "</tbody>\n",
       "</table>\n"
      ],
      "text/latex": [
       "A data.frame: 6 × 998\n",
       "\\begin{tabular}{r|lllllllllllllllllllll}\n",
       "  & chr & pos & ref & alt & ACH-000657 & ACH-000617 & ACH-000685 & ACH-000632 & ACH-000171 & ACH-000863 & ⋯ & ACH-000981 & ACH-000217 & ACH-000116 & ACH-000930 & ACH-000986 & ACH-000342 & ACH-001130 & ACH-000287 & ACH-000798 & ACH-000645\\\\\n",
       "  & <chr> & <chr> & <chr> & <chr> & <chr> & <chr> & <chr> & <chr> & <chr> & <chr> & ⋯ & <chr> & <chr> & <chr> & <chr> & <chr> & <chr> & <chr> & <chr> & <chr> & <chr>\\\\\n",
       "\\hline\n",
       "\t1 & chr1 & 19257510 & G & A & 1 & 0 & 0 & 1 & 2 & 0 & ⋯ & 0 & 0 & 0 & 2 & 1 & 0 & 1 & 0 & 1 & 0\\\\\n",
       "\t2 & chr1 & 31425387 & T & C & 0 & 1 & 1 & 2 & 2 & 2 & ⋯ & 2 & 0 & 1 & 0 & 1 & 1 & 0 & 1 & 1 & 1\\\\\n",
       "\t3 & chr1 & 35760347 & T & C & 1 & 0 & 1 & 1 & 2 & 0 & ⋯ & 1 & 2 & 0 & 2 & 0 & 0 & 0 & 0 & 1 & 0\\\\\n",
       "\t4 & chr1 & 54716627 & T & A & 1 & 1 & 2 & 2 & 1 & 0 & ⋯ & 0 & 2 & 2 & 0 & 1 & 0 & 2 & 2 & 1 & 1\\\\\n",
       "\t5 & chr1 & 54722709 & C & T & 1 & 0 & 2 & 0 & 0 & 0 & ⋯ & 0 & 0 & 1 & 0 & 0 & 0 & 0 & 0 & 1 & 0\\\\\n",
       "\t6 & chr2 & 28869984 & G & T & 0 & 0 & 1 & 1 & 0 & 0 & ⋯ & 0 & 2 & 2 & 0 & 0 & 1 & 2 & 1 & 1 & 0\\\\\n",
       "\\end{tabular}\n"
      ],
      "text/markdown": [
       "\n",
       "A data.frame: 6 × 998\n",
       "\n",
       "| <!--/--> | chr &lt;chr&gt; | pos &lt;chr&gt; | ref &lt;chr&gt; | alt &lt;chr&gt; | ACH-000657 &lt;chr&gt; | ACH-000617 &lt;chr&gt; | ACH-000685 &lt;chr&gt; | ACH-000632 &lt;chr&gt; | ACH-000171 &lt;chr&gt; | ACH-000863 &lt;chr&gt; | ⋯ ⋯ | ACH-000981 &lt;chr&gt; | ACH-000217 &lt;chr&gt; | ACH-000116 &lt;chr&gt; | ACH-000930 &lt;chr&gt; | ACH-000986 &lt;chr&gt; | ACH-000342 &lt;chr&gt; | ACH-001130 &lt;chr&gt; | ACH-000287 &lt;chr&gt; | ACH-000798 &lt;chr&gt; | ACH-000645 &lt;chr&gt; |\n",
       "|---|---|---|---|---|---|---|---|---|---|---|---|---|---|---|---|---|---|---|---|---|---|\n",
       "| 1 | chr1 | 19257510 | G | A | 1 | 0 | 0 | 1 | 2 | 0 | ⋯ | 0 | 0 | 0 | 2 | 1 | 0 | 1 | 0 | 1 | 0 |\n",
       "| 2 | chr1 | 31425387 | T | C | 0 | 1 | 1 | 2 | 2 | 2 | ⋯ | 2 | 0 | 1 | 0 | 1 | 1 | 0 | 1 | 1 | 1 |\n",
       "| 3 | chr1 | 35760347 | T | C | 1 | 0 | 1 | 1 | 2 | 0 | ⋯ | 1 | 2 | 0 | 2 | 0 | 0 | 0 | 0 | 1 | 0 |\n",
       "| 4 | chr1 | 54716627 | T | A | 1 | 1 | 2 | 2 | 1 | 0 | ⋯ | 0 | 2 | 2 | 0 | 1 | 0 | 2 | 2 | 1 | 1 |\n",
       "| 5 | chr1 | 54722709 | C | T | 1 | 0 | 2 | 0 | 0 | 0 | ⋯ | 0 | 0 | 1 | 0 | 0 | 0 | 0 | 0 | 1 | 0 |\n",
       "| 6 | chr2 | 28869984 | G | T | 0 | 0 | 1 | 1 | 0 | 0 | ⋯ | 0 | 2 | 2 | 0 | 0 | 1 | 2 | 1 | 1 | 0 |\n",
       "\n"
      ],
      "text/plain": [
       "  chr  pos      ref alt ACH-000657 ACH-000617 ACH-000685 ACH-000632 ACH-000171\n",
       "1 chr1 19257510 G   A   1          0          0          1          2         \n",
       "2 chr1 31425387 T   C   0          1          1          2          2         \n",
       "3 chr1 35760347 T   C   1          0          1          1          2         \n",
       "4 chr1 54716627 T   A   1          1          2          2          1         \n",
       "5 chr1 54722709 C   T   1          0          2          0          0         \n",
       "6 chr2 28869984 G   T   0          0          1          1          0         \n",
       "  ACH-000863 ⋯ ACH-000981 ACH-000217 ACH-000116 ACH-000930 ACH-000986\n",
       "1 0          ⋯ 0          0          0          2          1         \n",
       "2 2          ⋯ 2          0          1          0          1         \n",
       "3 0          ⋯ 1          2          0          2          0         \n",
       "4 0          ⋯ 0          2          2          0          1         \n",
       "5 0          ⋯ 0          0          1          0          0         \n",
       "6 0          ⋯ 0          2          2          0          0         \n",
       "  ACH-000342 ACH-001130 ACH-000287 ACH-000798 ACH-000645\n",
       "1 0          1          0          1          0         \n",
       "2 1          0          1          1          1         \n",
       "3 0          0          0          1          0         \n",
       "4 0          2          2          1          1         \n",
       "5 0          0          0          1          0         \n",
       "6 1          2          1          1          0         "
      ]
     },
     "metadata": {},
     "output_type": "display_data"
    }
   ],
   "source": [
    "#Format a matrix with the SNP-level data that is annotated with the cell line names\n",
    "snp.level.data.matrix = subset.ccle.snps\n",
    "colnames(snp.level.data.matrix) = c(\"chr\", \"pos\", \"ref\", \"alt\", sample.names)\n",
    "head(snp.level.data.matrix)"
   ]
  },
  {
   "cell_type": "code",
   "execution_count": 128,
   "metadata": {},
   "outputs": [],
   "source": [
    "#Load in the ancestry data\n",
    "setwd(\"/home/jupyter/Ancestry/rfmix\")\n",
    "ancestry.information = read.table(\"collapsed.ancestry.information.txt\", sep = \"\\t\", header = T)\n",
    "\n",
    "#Get a vector of the EAS and EUR cell lines\n",
    "eas.lines = ancestry.information %>% filter(EAS >= 0.8) %>% pull(sample)\n",
    "eur.lines = ancestry.information %>% filter(EUR >= 0.8) %>% pull(sample)"
   ]
  },
  {
   "cell_type": "code",
   "execution_count": 133,
   "metadata": {},
   "outputs": [],
   "source": [
    "###Now calculate the frequency of cell lines that are either 0/1 or 1/1 for the SNP\n",
    "\n",
    "#First splice the dataset into just the EAS and EUR cell lines\n",
    "eas.genotype.data = snp.level.data.matrix[,eas.lines]\n",
    "eur.genotype.data = snp.level.data.matrix[,eur.lines]\n",
    "\n",
    "#Count the total number of cell lines with the SNP\n",
    "eas.snp.count = eas.genotype.data %>% apply(1, function(x){\n",
    "    num.with.snp = x[x >= 1] %>% length()\n",
    "    return(num.with.snp)\n",
    "})\n",
    "\n",
    "eur.snp.count = eur.genotype.data %>% apply(1, function(x){\n",
    "    num.with.snp = x[x >= 1] %>% length()\n",
    "    return(num.with.snp)\n",
    "})\n",
    "\n",
    "\n",
    "#Now convert it into a fraction\n",
    "eas.snp.frequency = eas.snp.count/ncol(eas.genotype.data)\n",
    "eur.snp.frequency = eur.snp.count/ncol(eur.genotype.data)"
   ]
  },
  {
   "cell_type": "code",
   "execution_count": 142,
   "metadata": {},
   "outputs": [
    {
     "data": {
      "image/png": "[encoded data removed]",
      "text/plain": [
       "plot without title"
      ]
     },
     "metadata": {
      "image/png": {
       "height": 420,
       "width": 420
      }
     },
     "output_type": "display_data"
    }
   ],
   "source": [
    "#Bind everything togehter, then plot it.\n",
    "\n",
    "#Make the matrix\n",
    "snp.frequency.matrix = snp.level.data.matrix %>%\n",
    "select(chr, pos, ref, alt) %>%\n",
    "cbind(., eas.snp.frequency, eur.snp.frequency)\n",
    "\n",
    "\n",
    "#Make the scatterplot\n",
    "snp.frequency.matrix %>%\n",
    "ggplot() +\n",
    "geom_point(aes(x = eur.snp.frequency, y = eas.snp.frequency)) +\n",
    "geom_abline(intercept = -0.2, slope = 1, col = \"dodgerblue4\") +\n",
    "geom_abline(intercept = 0.2, slope = 1, col = \"chartreuse4\") +\n",
    "theme_bw() + \n",
    "\n",
    "ylab(\"Population Frequency in EAS Cell Lines\") +\n",
    "xlab(\"Population Frequency in EUR Cell Lines\") +\n",
    "\n",
    "theme(panel.border = element_blank(), panel.grid.major = element_blank(),\n",
    "panel.grid.minor = element_blank(), axis.line = element_line(colour = \"black\")) +\n",
    "\n",
    "theme(axis.text=element_text(size=12), axis.title=element_text(size=14,face=\"bold\")) +\n",
    "theme(axis.text.x = element_text(face=\"bold\", size=14), axis.text.y = element_text(face=\"bold\", size=14)) +\n",
    "\n",
    "theme(\n",
    "axis.title.x = element_text(color = \"black\", size = 14, face = \"bold\"),\n",
    "axis.title.y = element_text(color = \"black\", size = 14, face = \"bold\")\n",
    ") +\n",
    "\n",
    "theme(\n",
    "axis.text=element_text(size = 12, face = \"bold\"),\n",
    "axis.title=element_text(size = 14,face = \"bold\")\n",
    ") +\n",
    "\n",
    "theme(\n",
    "  legend.title = element_text(size = 14, face = \"bold\"),\n",
    "  legend.text = element_text(size = 10, face = \"bold\")\n",
    ") +\n",
    "\n",
    "xlim(c(0,1)) +\n",
    "ylim(c(0,1))\n",
    "\n",
    "#Export it to the google bucket\n",
    "setwd('/home/jupyter/Ancestry/figures')\n",
    "ggsave(\"ccle_allele_frequency.pdf\", width = 5, height = 5)\n",
    "system(glue::glue(\"\n",
    "cd /home/jupyter/Ancestry/figures\n",
    "gsutil cp ccle_allele_frequency.pdf gs://fc-45c0e148-0b1c-4244-9bfc-feb559bbc514\n",
    "\"))"
   ]
  },
  {
   "cell_type": "code",
   "execution_count": null,
   "metadata": {},
   "outputs": [],
   "source": []
  }
 ],
 "metadata": {
  "kernelspec": {
   "display_name": "R",
   "language": "R",
   "name": "ir"
  },
  "language_info": {
   "codemirror_mode": "r",
   "file_extension": ".r",
   "mimetype": "text/x-r-source",
   "name": "R",
   "pygments_lexer": "r",
   "version": "4.2.0"
  },
  "toc": {
   "base_numbering": 1,
   "nav_menu": {},
   "number_sections": true,
   "sideBar": true,
   "skip_h1_title": false,
   "title_cell": "Table of Contents",
   "title_sidebar": "Contents",
   "toc_cell": false,
   "toc_position": {},
   "toc_section_display": true,
   "toc_window_display": false
  }
 },
 "nbformat": 4,
 "nbformat_minor": 2
}
