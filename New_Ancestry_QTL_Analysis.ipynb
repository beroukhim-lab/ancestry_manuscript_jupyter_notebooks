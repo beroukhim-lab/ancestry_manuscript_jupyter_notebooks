{
 "cells": [
  {
   "cell_type": "markdown",
   "metadata": {},
   "source": [
    "The purpose of this notebook is to analyze the GWAS data for the ancestry-associated SNPs. Specifically, in this notebook I will try to identify cis-QTLs (that are mostly likely the result of the SNP-in-guide artifact)."
   ]
  },
  {
   "cell_type": "markdown",
   "metadata": {},
   "source": [
    "# Set up the environment"
   ]
  },
  {
   "cell_type": "code",
   "execution_count": 23,
   "metadata": {},
   "outputs": [],
   "source": [
    "#Arguments/Parameters\n",
    "\n",
    "working_dir = '/home/jupyter/notebooks/Ancestry' #home directory for this workspace\n",
    "workspace_bucket = Sys.getenv('WORKSPACE_BUCKET') #the workspace bucket that we will upload the output to\n",
    "num.threads = 8 #Specify the number of CPUs you want to use. "
   ]
  },
  {
   "cell_type": "code",
   "execution_count": 2,
   "metadata": {},
   "outputs": [
    {
     "name": "stderr",
     "output_type": "stream",
     "text": [
      "── \u001b[1mAttaching packages\u001b[22m ─────────────────────────────────────── tidyverse 1.3.1 ──\n",
      "\n",
      "\u001b[32m✔\u001b[39m \u001b[34mggplot2\u001b[39m 3.3.5     \u001b[32m✔\u001b[39m \u001b[34mpurrr  \u001b[39m 0.3.4\n",
      "\u001b[32m✔\u001b[39m \u001b[34mtibble \u001b[39m 3.1.4     \u001b[32m✔\u001b[39m \u001b[34mdplyr  \u001b[39m 1.0.7\n",
      "\u001b[32m✔\u001b[39m \u001b[34mtidyr  \u001b[39m 1.1.3     \u001b[32m✔\u001b[39m \u001b[34mstringr\u001b[39m 1.4.0\n",
      "\u001b[32m✔\u001b[39m \u001b[34mreadr  \u001b[39m 2.0.1     \u001b[32m✔\u001b[39m \u001b[34mforcats\u001b[39m 0.5.1\n",
      "\n",
      "── \u001b[1mConflicts\u001b[22m ────────────────────────────────────────── tidyverse_conflicts() ──\n",
      "\u001b[31m✖\u001b[39m \u001b[34mdplyr\u001b[39m::\u001b[32mfilter()\u001b[39m masks \u001b[34mstats\u001b[39m::filter()\n",
      "\u001b[31m✖\u001b[39m \u001b[34mdplyr\u001b[39m::\u001b[32mlag()\u001b[39m    masks \u001b[34mstats\u001b[39m::lag()\n",
      "\n",
      "Loading required package: survcomp\n",
      "\n",
      "Loading required package: survival\n",
      "\n",
      "Loading required package: prodlim\n",
      "\n",
      "Loading required package: biomaRt\n",
      "\n",
      "Loading required package: iC10\n",
      "\n",
      "Loading required package: pamr\n",
      "\n",
      "Loading required package: cluster\n",
      "\n",
      "Loading required package: impute\n",
      "\n",
      "Loading required package: iC10TrainingData\n",
      "\n",
      "Loading required package: AIMS\n",
      "\n",
      "Loading required package: e1071\n",
      "\n",
      "Loading required package: Biobase\n",
      "\n",
      "Loading required package: BiocGenerics\n",
      "\n",
      "Loading required package: parallel\n",
      "\n",
      "\n",
      "Attaching package: ‘BiocGenerics’\n",
      "\n",
      "\n",
      "The following objects are masked from ‘package:parallel’:\n",
      "\n",
      "    clusterApply, clusterApplyLB, clusterCall, clusterEvalQ,\n",
      "    clusterExport, clusterMap, parApply, parCapply, parLapply,\n",
      "    parLapplyLB, parRapply, parSapply, parSapplyLB\n",
      "\n",
      "\n",
      "The following objects are masked from ‘package:dplyr’:\n",
      "\n",
      "    combine, intersect, setdiff, union\n",
      "\n",
      "\n",
      "The following objects are masked from ‘package:stats’:\n",
      "\n",
      "    IQR, mad, sd, var, xtabs\n",
      "\n",
      "\n",
      "The following objects are masked from ‘package:base’:\n",
      "\n",
      "    anyDuplicated, append, as.data.frame, basename, cbind, colnames,\n",
      "    dirname, do.call, duplicated, eval, evalq, Filter, Find, get, grep,\n",
      "    grepl, intersect, is.unsorted, lapply, Map, mapply, match, mget,\n",
      "    order, paste, pmax, pmax.int, pmin, pmin.int, Position, rank,\n",
      "    rbind, Reduce, rownames, sapply, setdiff, sort, table, tapply,\n",
      "    union, unique, unsplit, which.max, which.min\n",
      "\n",
      "\n",
      "Welcome to Bioconductor\n",
      "\n",
      "    Vignettes contain introductory material; view with\n",
      "    'browseVignettes()'. To cite Bioconductor, see\n",
      "    'citation(\"Biobase\")', and for packages 'citation(\"pkgname\")'.\n",
      "\n",
      "\n",
      "\n",
      "\n",
      "For example usage please run: vignette('qqman')\n",
      "\n",
      "\n",
      "\n",
      "Citation appreciated but not required:\n",
      "\n",
      "Turner, (2018). qqman: an R package for visualizing GWAS results using Q-Q and manhattan plots. Journal of Open Source Software, 3(25), 731, https://doi.org/10.21105/joss.00731.\n",
      "\n",
      "\n",
      "\n"
     ]
    }
   ],
   "source": [
    "#Load packages\n",
    "library(tidyverse)\n",
    "library(genefu)\n",
    "library(qqman)\n",
    "library(ggtext)\n",
    "library(biomaRt)\n",
    "\n",
    "#Define functions\n",
    "show_msg <- function(x){ \n",
    "    print(x)\n",
    "    flush.console()\n",
    "}"
   ]
  },
  {
   "cell_type": "markdown",
   "metadata": {},
   "source": [
    "# Load in the data"
   ]
  },
  {
   "cell_type": "markdown",
   "metadata": {},
   "source": [
    "First, we want to load in all of the data and merge it into a single file"
   ]
  },
  {
   "cell_type": "code",
   "execution_count": 7,
   "metadata": {},
   "outputs": [
    {
     "data": {
      "text/html": [
       "<style>\n",
       ".list-inline {list-style: none; margin:0; padding: 0}\n",
       ".list-inline>li {display: inline-block}\n",
       ".list-inline>li:not(:last-child)::after {content: \"\\00b7\"; padding: 0 .5ex}\n",
       "</style>\n",
       "<ol class=list-inline><li>'gwas_out.ADCY3.glm.linear'</li><li>'gwas_out.BAALC.glm.linear'</li><li>'gwas_out.C2orf80.glm.linear'</li><li>'gwas_out.C7orf25.glm.linear'</li><li>'gwas_out.CBFA2T2.glm.linear'</li><li>'gwas_out.CCDC74B.glm.linear'</li><li>'gwas_out.CHGB.glm.linear'</li><li>'gwas_out.CLSPN.glm.linear'</li><li>'gwas_out.CSDC2.glm.linear'</li><li>'gwas_out.DEFB108B.glm.linear'</li><li>'gwas_out.DGKA.glm.linear'</li><li>'gwas_out.DND1.glm.linear'</li><li>'gwas_out.ECE1.glm.linear'</li><li>'gwas_out.GMDS.glm.linear'</li><li>'gwas_out.GTPBP2.glm.linear'</li><li>'gwas_out.INCENP.glm.linear'</li><li>'gwas_out.KCNV1.glm.linear'</li><li>'gwas_out.LIME1.glm.linear'</li><li>'gwas_out.PKDREJ.glm.linear'</li><li>'gwas_out.POP4.glm.linear'</li><li>'gwas_out.QRICH2.glm.linear'</li><li>'gwas_out.RESP18.glm.linear'</li><li>'gwas_out.RHD.glm.linear'</li><li>'gwas_out.RHOB.glm.linear'</li><li>'gwas_out.RIMS2.glm.linear'</li><li>'gwas_out.SLC2A4RG.glm.linear'</li><li>'gwas_out.SPATA6L.glm.linear'</li><li>'gwas_out.SRP14.glm.linear'</li><li>'gwas_out.TNFRSF1B.glm.linear'</li><li>'gwas_out.TNFRSF6B.glm.linear'</li><li>'gwas_out.TOB1.glm.linear'</li><li>'gwas_out.TPD52L2.glm.linear'</li><li>'gwas_out.TPSD1.glm.linear'</li><li>'gwas_out.TUT1.glm.linear'</li><li>'gwas_out.UCKL1.glm.linear'</li><li>'gwas_out.UGT2B17.glm.linear'</li><li>'gwas_out.WDR82.glm.linear'</li><li>'gwas_out.ZGPAT.glm.linear'</li></ol>\n"
      ],
      "text/latex": [
       "\\begin{enumerate*}\n",
       "\\item 'gwas\\_out.ADCY3.glm.linear'\n",
       "\\item 'gwas\\_out.BAALC.glm.linear'\n",
       "\\item 'gwas\\_out.C2orf80.glm.linear'\n",
       "\\item 'gwas\\_out.C7orf25.glm.linear'\n",
       "\\item 'gwas\\_out.CBFA2T2.glm.linear'\n",
       "\\item 'gwas\\_out.CCDC74B.glm.linear'\n",
       "\\item 'gwas\\_out.CHGB.glm.linear'\n",
       "\\item 'gwas\\_out.CLSPN.glm.linear'\n",
       "\\item 'gwas\\_out.CSDC2.glm.linear'\n",
       "\\item 'gwas\\_out.DEFB108B.glm.linear'\n",
       "\\item 'gwas\\_out.DGKA.glm.linear'\n",
       "\\item 'gwas\\_out.DND1.glm.linear'\n",
       "\\item 'gwas\\_out.ECE1.glm.linear'\n",
       "\\item 'gwas\\_out.GMDS.glm.linear'\n",
       "\\item 'gwas\\_out.GTPBP2.glm.linear'\n",
       "\\item 'gwas\\_out.INCENP.glm.linear'\n",
       "\\item 'gwas\\_out.KCNV1.glm.linear'\n",
       "\\item 'gwas\\_out.LIME1.glm.linear'\n",
       "\\item 'gwas\\_out.PKDREJ.glm.linear'\n",
       "\\item 'gwas\\_out.POP4.glm.linear'\n",
       "\\item 'gwas\\_out.QRICH2.glm.linear'\n",
       "\\item 'gwas\\_out.RESP18.glm.linear'\n",
       "\\item 'gwas\\_out.RHD.glm.linear'\n",
       "\\item 'gwas\\_out.RHOB.glm.linear'\n",
       "\\item 'gwas\\_out.RIMS2.glm.linear'\n",
       "\\item 'gwas\\_out.SLC2A4RG.glm.linear'\n",
       "\\item 'gwas\\_out.SPATA6L.glm.linear'\n",
       "\\item 'gwas\\_out.SRP14.glm.linear'\n",
       "\\item 'gwas\\_out.TNFRSF1B.glm.linear'\n",
       "\\item 'gwas\\_out.TNFRSF6B.glm.linear'\n",
       "\\item 'gwas\\_out.TOB1.glm.linear'\n",
       "\\item 'gwas\\_out.TPD52L2.glm.linear'\n",
       "\\item 'gwas\\_out.TPSD1.glm.linear'\n",
       "\\item 'gwas\\_out.TUT1.glm.linear'\n",
       "\\item 'gwas\\_out.UCKL1.glm.linear'\n",
       "\\item 'gwas\\_out.UGT2B17.glm.linear'\n",
       "\\item 'gwas\\_out.WDR82.glm.linear'\n",
       "\\item 'gwas\\_out.ZGPAT.glm.linear'\n",
       "\\end{enumerate*}\n"
      ],
      "text/markdown": [
       "1. 'gwas_out.ADCY3.glm.linear'\n",
       "2. 'gwas_out.BAALC.glm.linear'\n",
       "3. 'gwas_out.C2orf80.glm.linear'\n",
       "4. 'gwas_out.C7orf25.glm.linear'\n",
       "5. 'gwas_out.CBFA2T2.glm.linear'\n",
       "6. 'gwas_out.CCDC74B.glm.linear'\n",
       "7. 'gwas_out.CHGB.glm.linear'\n",
       "8. 'gwas_out.CLSPN.glm.linear'\n",
       "9. 'gwas_out.CSDC2.glm.linear'\n",
       "10. 'gwas_out.DEFB108B.glm.linear'\n",
       "11. 'gwas_out.DGKA.glm.linear'\n",
       "12. 'gwas_out.DND1.glm.linear'\n",
       "13. 'gwas_out.ECE1.glm.linear'\n",
       "14. 'gwas_out.GMDS.glm.linear'\n",
       "15. 'gwas_out.GTPBP2.glm.linear'\n",
       "16. 'gwas_out.INCENP.glm.linear'\n",
       "17. 'gwas_out.KCNV1.glm.linear'\n",
       "18. 'gwas_out.LIME1.glm.linear'\n",
       "19. 'gwas_out.PKDREJ.glm.linear'\n",
       "20. 'gwas_out.POP4.glm.linear'\n",
       "21. 'gwas_out.QRICH2.glm.linear'\n",
       "22. 'gwas_out.RESP18.glm.linear'\n",
       "23. 'gwas_out.RHD.glm.linear'\n",
       "24. 'gwas_out.RHOB.glm.linear'\n",
       "25. 'gwas_out.RIMS2.glm.linear'\n",
       "26. 'gwas_out.SLC2A4RG.glm.linear'\n",
       "27. 'gwas_out.SPATA6L.glm.linear'\n",
       "28. 'gwas_out.SRP14.glm.linear'\n",
       "29. 'gwas_out.TNFRSF1B.glm.linear'\n",
       "30. 'gwas_out.TNFRSF6B.glm.linear'\n",
       "31. 'gwas_out.TOB1.glm.linear'\n",
       "32. 'gwas_out.TPD52L2.glm.linear'\n",
       "33. 'gwas_out.TPSD1.glm.linear'\n",
       "34. 'gwas_out.TUT1.glm.linear'\n",
       "35. 'gwas_out.UCKL1.glm.linear'\n",
       "36. 'gwas_out.UGT2B17.glm.linear'\n",
       "37. 'gwas_out.WDR82.glm.linear'\n",
       "38. 'gwas_out.ZGPAT.glm.linear'\n",
       "\n",
       "\n"
      ],
      "text/plain": [
       " [1] \"gwas_out.ADCY3.glm.linear\"    \"gwas_out.BAALC.glm.linear\"   \n",
       " [3] \"gwas_out.C2orf80.glm.linear\"  \"gwas_out.C7orf25.glm.linear\" \n",
       " [5] \"gwas_out.CBFA2T2.glm.linear\"  \"gwas_out.CCDC74B.glm.linear\" \n",
       " [7] \"gwas_out.CHGB.glm.linear\"     \"gwas_out.CLSPN.glm.linear\"   \n",
       " [9] \"gwas_out.CSDC2.glm.linear\"    \"gwas_out.DEFB108B.glm.linear\"\n",
       "[11] \"gwas_out.DGKA.glm.linear\"     \"gwas_out.DND1.glm.linear\"    \n",
       "[13] \"gwas_out.ECE1.glm.linear\"     \"gwas_out.GMDS.glm.linear\"    \n",
       "[15] \"gwas_out.GTPBP2.glm.linear\"   \"gwas_out.INCENP.glm.linear\"  \n",
       "[17] \"gwas_out.KCNV1.glm.linear\"    \"gwas_out.LIME1.glm.linear\"   \n",
       "[19] \"gwas_out.PKDREJ.glm.linear\"   \"gwas_out.POP4.glm.linear\"    \n",
       "[21] \"gwas_out.QRICH2.glm.linear\"   \"gwas_out.RESP18.glm.linear\"  \n",
       "[23] \"gwas_out.RHD.glm.linear\"      \"gwas_out.RHOB.glm.linear\"    \n",
       "[25] \"gwas_out.RIMS2.glm.linear\"    \"gwas_out.SLC2A4RG.glm.linear\"\n",
       "[27] \"gwas_out.SPATA6L.glm.linear\"  \"gwas_out.SRP14.glm.linear\"   \n",
       "[29] \"gwas_out.TNFRSF1B.glm.linear\" \"gwas_out.TNFRSF6B.glm.linear\"\n",
       "[31] \"gwas_out.TOB1.glm.linear\"     \"gwas_out.TPD52L2.glm.linear\" \n",
       "[33] \"gwas_out.TPSD1.glm.linear\"    \"gwas_out.TUT1.glm.linear\"    \n",
       "[35] \"gwas_out.UCKL1.glm.linear\"    \"gwas_out.UGT2B17.glm.linear\" \n",
       "[37] \"gwas_out.WDR82.glm.linear\"    \"gwas_out.ZGPAT.glm.linear\"   "
      ]
     },
     "metadata": {},
     "output_type": "display_data"
    }
   ],
   "source": [
    "#Get a list of all of the GWAS output files\n",
    "paste(working_dir, \"/gwas/gwas_output/\", sep = \"\") %>% setwd()\n",
    "gwas.files = list.files(path = \".\", pattern = \"glm.linear\")\n",
    "gwas.files"
   ]
  },
  {
   "cell_type": "code",
   "execution_count": 8,
   "metadata": {},
   "outputs": [],
   "source": [
    "test = read.table(\"gwas_out.WDR82.glm.linear\")"
   ]
  },
  {
   "cell_type": "code",
   "execution_count": 14,
   "metadata": {},
   "outputs": [
    {
     "data": {
      "text/html": [
       "<table class=\"dataframe\">\n",
       "<caption>A data.frame: 6 × 13</caption>\n",
       "<thead>\n",
       "\t<tr><th></th><th scope=col>V1</th><th scope=col>V2</th><th scope=col>V3</th><th scope=col>V4</th><th scope=col>V5</th><th scope=col>V6</th><th scope=col>V7</th><th scope=col>V8</th><th scope=col>V9</th><th scope=col>V10</th><th scope=col>V11</th><th scope=col>V12</th><th scope=col>V13</th></tr>\n",
       "\t<tr><th></th><th scope=col>&lt;int&gt;</th><th scope=col>&lt;int&gt;</th><th scope=col>&lt;chr&gt;</th><th scope=col>&lt;chr&gt;</th><th scope=col>&lt;chr&gt;</th><th scope=col>&lt;chr&gt;</th><th scope=col>&lt;chr&gt;</th><th scope=col>&lt;int&gt;</th><th scope=col>&lt;dbl&gt;</th><th scope=col>&lt;dbl&gt;</th><th scope=col>&lt;dbl&gt;</th><th scope=col>&lt;dbl&gt;</th><th scope=col>&lt;chr&gt;</th></tr>\n",
       "</thead>\n",
       "<tbody>\n",
       "\t<tr><th scope=row>1</th><td>1</td><td> 69270</td><td>.</td><td>A</td><td>G</td><td>A</td><td>ADD</td><td>402</td><td>-0.02543630</td><td>0.0190201</td><td>-1.337330</td><td>0.181895</td><td>.</td></tr>\n",
       "\t<tr><th scope=row>2</th><td>1</td><td> 69428</td><td>.</td><td>T</td><td>G</td><td>G</td><td>ADD</td><td>402</td><td>-0.07271380</td><td>0.0799725</td><td>-0.909235</td><td>0.363789</td><td>.</td></tr>\n",
       "\t<tr><th scope=row>3</th><td>1</td><td> 69511</td><td>.</td><td>A</td><td>G</td><td>A</td><td>ADD</td><td>402</td><td>-0.02340280</td><td>0.0196899</td><td>-1.188570</td><td>0.235335</td><td>.</td></tr>\n",
       "\t<tr><th scope=row>4</th><td>1</td><td> 69761</td><td>.</td><td>A</td><td>T</td><td>T</td><td>ADD</td><td>402</td><td>-0.07576280</td><td>0.0656665</td><td>-1.153750</td><td>0.249311</td><td>.</td></tr>\n",
       "\t<tr><th scope=row>5</th><td>1</td><td> 69897</td><td>.</td><td>T</td><td>C</td><td>C</td><td>ADD</td><td>402</td><td>-0.00968426</td><td>0.0205310</td><td>-0.471689</td><td>0.637413</td><td>.</td></tr>\n",
       "\t<tr><th scope=row>6</th><td>1</td><td>926250</td><td>.</td><td>G</td><td>A</td><td>A</td><td>ADD</td><td>402</td><td> 0.03471490</td><td>0.0333173</td><td> 1.041950</td><td>0.298082</td><td>.</td></tr>\n",
       "</tbody>\n",
       "</table>\n"
      ],
      "text/latex": [
       "A data.frame: 6 × 13\n",
       "\\begin{tabular}{r|lllllllllllll}\n",
       "  & V1 & V2 & V3 & V4 & V5 & V6 & V7 & V8 & V9 & V10 & V11 & V12 & V13\\\\\n",
       "  & <int> & <int> & <chr> & <chr> & <chr> & <chr> & <chr> & <int> & <dbl> & <dbl> & <dbl> & <dbl> & <chr>\\\\\n",
       "\\hline\n",
       "\t1 & 1 &  69270 & . & A & G & A & ADD & 402 & -0.02543630 & 0.0190201 & -1.337330 & 0.181895 & .\\\\\n",
       "\t2 & 1 &  69428 & . & T & G & G & ADD & 402 & -0.07271380 & 0.0799725 & -0.909235 & 0.363789 & .\\\\\n",
       "\t3 & 1 &  69511 & . & A & G & A & ADD & 402 & -0.02340280 & 0.0196899 & -1.188570 & 0.235335 & .\\\\\n",
       "\t4 & 1 &  69761 & . & A & T & T & ADD & 402 & -0.07576280 & 0.0656665 & -1.153750 & 0.249311 & .\\\\\n",
       "\t5 & 1 &  69897 & . & T & C & C & ADD & 402 & -0.00968426 & 0.0205310 & -0.471689 & 0.637413 & .\\\\\n",
       "\t6 & 1 & 926250 & . & G & A & A & ADD & 402 &  0.03471490 & 0.0333173 &  1.041950 & 0.298082 & .\\\\\n",
       "\\end{tabular}\n"
      ],
      "text/markdown": [
       "\n",
       "A data.frame: 6 × 13\n",
       "\n",
       "| <!--/--> | V1 &lt;int&gt; | V2 &lt;int&gt; | V3 &lt;chr&gt; | V4 &lt;chr&gt; | V5 &lt;chr&gt; | V6 &lt;chr&gt; | V7 &lt;chr&gt; | V8 &lt;int&gt; | V9 &lt;dbl&gt; | V10 &lt;dbl&gt; | V11 &lt;dbl&gt; | V12 &lt;dbl&gt; | V13 &lt;chr&gt; |\n",
       "|---|---|---|---|---|---|---|---|---|---|---|---|---|---|\n",
       "| 1 | 1 |  69270 | . | A | G | A | ADD | 402 | -0.02543630 | 0.0190201 | -1.337330 | 0.181895 | . |\n",
       "| 2 | 1 |  69428 | . | T | G | G | ADD | 402 | -0.07271380 | 0.0799725 | -0.909235 | 0.363789 | . |\n",
       "| 3 | 1 |  69511 | . | A | G | A | ADD | 402 | -0.02340280 | 0.0196899 | -1.188570 | 0.235335 | . |\n",
       "| 4 | 1 |  69761 | . | A | T | T | ADD | 402 | -0.07576280 | 0.0656665 | -1.153750 | 0.249311 | . |\n",
       "| 5 | 1 |  69897 | . | T | C | C | ADD | 402 | -0.00968426 | 0.0205310 | -0.471689 | 0.637413 | . |\n",
       "| 6 | 1 | 926250 | . | G | A | A | ADD | 402 |  0.03471490 | 0.0333173 |  1.041950 | 0.298082 | . |\n",
       "\n"
      ],
      "text/plain": [
       "  V1 V2     V3 V4 V5 V6 V7  V8  V9          V10       V11       V12      V13\n",
       "1 1   69270 .  A  G  A  ADD 402 -0.02543630 0.0190201 -1.337330 0.181895 .  \n",
       "2 1   69428 .  T  G  G  ADD 402 -0.07271380 0.0799725 -0.909235 0.363789 .  \n",
       "3 1   69511 .  A  G  A  ADD 402 -0.02340280 0.0196899 -1.188570 0.235335 .  \n",
       "4 1   69761 .  A  T  T  ADD 402 -0.07576280 0.0656665 -1.153750 0.249311 .  \n",
       "5 1   69897 .  T  C  C  ADD 402 -0.00968426 0.0205310 -0.471689 0.637413 .  \n",
       "6 1  926250 .  G  A  A  ADD 402  0.03471490 0.0333173  1.041950 0.298082 .  "
      ]
     },
     "metadata": {},
     "output_type": "display_data"
    },
    {
     "data": {
      "text/html": [
       "<style>\n",
       ".list-inline {list-style: none; margin:0; padding: 0}\n",
       ".list-inline>li {display: inline-block}\n",
       ".list-inline>li:not(:last-child)::after {content: \"\\00b7\"; padding: 0 .5ex}\n",
       "</style>\n",
       "<ol class=list-inline><li>2683300</li><li>13</li></ol>\n"
      ],
      "text/latex": [
       "\\begin{enumerate*}\n",
       "\\item 2683300\n",
       "\\item 13\n",
       "\\end{enumerate*}\n"
      ],
      "text/markdown": [
       "1. 2683300\n",
       "2. 13\n",
       "\n",
       "\n"
      ],
      "text/plain": [
       "[1] 2683300      13"
      ]
     },
     "metadata": {},
     "output_type": "display_data"
    }
   ],
   "source": [
    "head(test)\n",
    "dim(test)"
   ]
  },
  {
   "cell_type": "code",
   "execution_count": 18,
   "metadata": {},
   "outputs": [
    {
     "name": "stdout",
     "output_type": "stream",
     "text": [
      "[1] \"gwas_out.ADCY3.glm.linear\"\n",
      "[1] \"gwas_out.BAALC.glm.linear\"\n",
      "[1] \"gwas_out.C2orf80.glm.linear\"\n",
      "[1] \"gwas_out.C7orf25.glm.linear\"\n",
      "[1] \"gwas_out.CBFA2T2.glm.linear\"\n",
      "[1] \"gwas_out.CCDC74B.glm.linear\"\n",
      "[1] \"gwas_out.CHGB.glm.linear\"\n",
      "[1] \"gwas_out.CLSPN.glm.linear\"\n",
      "[1] \"gwas_out.CSDC2.glm.linear\"\n",
      "[1] \"gwas_out.DEFB108B.glm.linear\"\n",
      "[1] \"gwas_out.DGKA.glm.linear\"\n",
      "[1] \"gwas_out.DND1.glm.linear\"\n",
      "[1] \"gwas_out.ECE1.glm.linear\"\n",
      "[1] \"gwas_out.GMDS.glm.linear\"\n",
      "[1] \"gwas_out.GTPBP2.glm.linear\"\n",
      "[1] \"gwas_out.INCENP.glm.linear\"\n",
      "[1] \"gwas_out.KCNV1.glm.linear\"\n",
      "[1] \"gwas_out.LIME1.glm.linear\"\n",
      "[1] \"gwas_out.PKDREJ.glm.linear\"\n",
      "[1] \"gwas_out.POP4.glm.linear\"\n",
      "[1] \"gwas_out.QRICH2.glm.linear\"\n",
      "[1] \"gwas_out.RESP18.glm.linear\"\n",
      "[1] \"gwas_out.RHD.glm.linear\"\n",
      "[1] \"gwas_out.RHOB.glm.linear\"\n",
      "[1] \"gwas_out.RIMS2.glm.linear\"\n",
      "[1] \"gwas_out.SLC2A4RG.glm.linear\"\n",
      "[1] \"gwas_out.SPATA6L.glm.linear\"\n",
      "[1] \"gwas_out.SRP14.glm.linear\"\n",
      "[1] \"gwas_out.TNFRSF1B.glm.linear\"\n",
      "[1] \"gwas_out.TNFRSF6B.glm.linear\"\n",
      "[1] \"gwas_out.TOB1.glm.linear\"\n",
      "[1] \"gwas_out.TPD52L2.glm.linear\"\n",
      "[1] \"gwas_out.TPSD1.glm.linear\"\n",
      "[1] \"gwas_out.TUT1.glm.linear\"\n",
      "[1] \"gwas_out.UCKL1.glm.linear\"\n",
      "[1] \"gwas_out.UGT2B17.glm.linear\"\n",
      "[1] \"gwas_out.WDR82.glm.linear\"\n",
      "[1] \"gwas_out.ZGPAT.glm.linear\"\n"
     ]
    }
   ],
   "source": [
    "#Loop through all of the files, load them in, and extract the important information.\n",
    "\n",
    "merged.pval.output = NULL\n",
    "for(file in gwas.files){\n",
    "    \n",
    "    #print the status of the loop\n",
    "    show_msg(file)\n",
    "    \n",
    "    #Load in the file and process it\n",
    "    gwas.data = read.table(file) %>%\n",
    "    dplyr::select(1, 2, 12) %>%\n",
    "    rename(\"chr\" = 1, \"pos\" = 2, \"pval\" = 3) %>%\n",
    "    mutate(gene = file, .before = chr) %>%\n",
    "    mutate(fdr = p.adjust(pval, method = \"BY\", n = length(pval)))\n",
    "    \n",
    "    #bind it back to the primary matrix\n",
    "    merged.pval.output = rbind(merged.pval.output, gwas.data)\n",
    "}"
   ]
  },
  {
   "cell_type": "code",
   "execution_count": 19,
   "metadata": {},
   "outputs": [
    {
     "data": {
      "text/html": [
       "<style>\n",
       ".list-inline {list-style: none; margin:0; padding: 0}\n",
       ".list-inline>li {display: inline-block}\n",
       ".list-inline>li:not(:last-child)::after {content: \"\\00b7\"; padding: 0 .5ex}\n",
       "</style>\n",
       "<ol class=list-inline><li>101965400</li><li>5</li></ol>\n"
      ],
      "text/latex": [
       "\\begin{enumerate*}\n",
       "\\item 101965400\n",
       "\\item 5\n",
       "\\end{enumerate*}\n"
      ],
      "text/markdown": [
       "1. 101965400\n",
       "2. 5\n",
       "\n",
       "\n"
      ],
      "text/plain": [
       "[1] 101965400         5"
      ]
     },
     "metadata": {},
     "output_type": "display_data"
    },
    {
     "data": {
      "text/html": [
       "<table class=\"dataframe\">\n",
       "<caption>A data.frame: 6 × 5</caption>\n",
       "<thead>\n",
       "\t<tr><th></th><th scope=col>gene</th><th scope=col>chr</th><th scope=col>pos</th><th scope=col>pval</th><th scope=col>fdr</th></tr>\n",
       "\t<tr><th></th><th scope=col>&lt;chr&gt;</th><th scope=col>&lt;int&gt;</th><th scope=col>&lt;int&gt;</th><th scope=col>&lt;dbl&gt;</th><th scope=col>&lt;dbl&gt;</th></tr>\n",
       "</thead>\n",
       "<tbody>\n",
       "\t<tr><th scope=row>1</th><td>gwas_out.ADCY3.glm.linear</td><td>1</td><td> 69270</td><td>0.317436</td><td>1</td></tr>\n",
       "\t<tr><th scope=row>2</th><td>gwas_out.ADCY3.glm.linear</td><td>1</td><td> 69428</td><td>0.238294</td><td>1</td></tr>\n",
       "\t<tr><th scope=row>3</th><td>gwas_out.ADCY3.glm.linear</td><td>1</td><td> 69511</td><td>0.872524</td><td>1</td></tr>\n",
       "\t<tr><th scope=row>4</th><td>gwas_out.ADCY3.glm.linear</td><td>1</td><td> 69761</td><td>0.160100</td><td>1</td></tr>\n",
       "\t<tr><th scope=row>5</th><td>gwas_out.ADCY3.glm.linear</td><td>1</td><td> 69897</td><td>0.385175</td><td>1</td></tr>\n",
       "\t<tr><th scope=row>6</th><td>gwas_out.ADCY3.glm.linear</td><td>1</td><td>926250</td><td>0.742348</td><td>1</td></tr>\n",
       "</tbody>\n",
       "</table>\n"
      ],
      "text/latex": [
       "A data.frame: 6 × 5\n",
       "\\begin{tabular}{r|lllll}\n",
       "  & gene & chr & pos & pval & fdr\\\\\n",
       "  & <chr> & <int> & <int> & <dbl> & <dbl>\\\\\n",
       "\\hline\n",
       "\t1 & gwas\\_out.ADCY3.glm.linear & 1 &  69270 & 0.317436 & 1\\\\\n",
       "\t2 & gwas\\_out.ADCY3.glm.linear & 1 &  69428 & 0.238294 & 1\\\\\n",
       "\t3 & gwas\\_out.ADCY3.glm.linear & 1 &  69511 & 0.872524 & 1\\\\\n",
       "\t4 & gwas\\_out.ADCY3.glm.linear & 1 &  69761 & 0.160100 & 1\\\\\n",
       "\t5 & gwas\\_out.ADCY3.glm.linear & 1 &  69897 & 0.385175 & 1\\\\\n",
       "\t6 & gwas\\_out.ADCY3.glm.linear & 1 & 926250 & 0.742348 & 1\\\\\n",
       "\\end{tabular}\n"
      ],
      "text/markdown": [
       "\n",
       "A data.frame: 6 × 5\n",
       "\n",
       "| <!--/--> | gene &lt;chr&gt; | chr &lt;int&gt; | pos &lt;int&gt; | pval &lt;dbl&gt; | fdr &lt;dbl&gt; |\n",
       "|---|---|---|---|---|---|\n",
       "| 1 | gwas_out.ADCY3.glm.linear | 1 |  69270 | 0.317436 | 1 |\n",
       "| 2 | gwas_out.ADCY3.glm.linear | 1 |  69428 | 0.238294 | 1 |\n",
       "| 3 | gwas_out.ADCY3.glm.linear | 1 |  69511 | 0.872524 | 1 |\n",
       "| 4 | gwas_out.ADCY3.glm.linear | 1 |  69761 | 0.160100 | 1 |\n",
       "| 5 | gwas_out.ADCY3.glm.linear | 1 |  69897 | 0.385175 | 1 |\n",
       "| 6 | gwas_out.ADCY3.glm.linear | 1 | 926250 | 0.742348 | 1 |\n",
       "\n"
      ],
      "text/plain": [
       "  gene                      chr pos    pval     fdr\n",
       "1 gwas_out.ADCY3.glm.linear 1    69270 0.317436 1  \n",
       "2 gwas_out.ADCY3.glm.linear 1    69428 0.238294 1  \n",
       "3 gwas_out.ADCY3.glm.linear 1    69511 0.872524 1  \n",
       "4 gwas_out.ADCY3.glm.linear 1    69761 0.160100 1  \n",
       "5 gwas_out.ADCY3.glm.linear 1    69897 0.385175 1  \n",
       "6 gwas_out.ADCY3.glm.linear 1   926250 0.742348 1  "
      ]
     },
     "metadata": {},
     "output_type": "display_data"
    }
   ],
   "source": [
    "dim(merged.pval.output)\n",
    "head(merged.pval.output)"
   ]
  },
  {
   "cell_type": "markdown",
   "metadata": {},
   "source": [
    "# Get gene positions"
   ]
  },
  {
   "cell_type": "markdown",
   "metadata": {},
   "source": [
    "The purpose of this analysis is to test whether the top SNP for each gene is a cis-QTL or a trans-QTL. The first step for this is to get the positions of each gene in the genome."
   ]
  },
  {
   "cell_type": "code",
   "execution_count": 59,
   "metadata": {},
   "outputs": [
    {
     "data": {
      "text/html": [
       "<table class=\"dataframe\">\n",
       "<caption>A data.frame: 6 × 2</caption>\n",
       "<thead>\n",
       "\t<tr><th></th><th scope=col>Approved.symbol</th><th scope=col>RefSeq.IDs</th></tr>\n",
       "\t<tr><th></th><th scope=col>&lt;chr&gt;</th><th scope=col>&lt;chr&gt;</th></tr>\n",
       "</thead>\n",
       "<tbody>\n",
       "\t<tr><th scope=row>1</th><td>A1BG    </td><td>NM_130786</td></tr>\n",
       "\t<tr><th scope=row>2</th><td>A1BG-AS1</td><td>NR_015380</td></tr>\n",
       "\t<tr><th scope=row>3</th><td>A1CF    </td><td>NM_014576</td></tr>\n",
       "\t<tr><th scope=row>4</th><td>A1S9T   </td><td>         </td></tr>\n",
       "\t<tr><th scope=row>5</th><td>A2M     </td><td>NM_000014</td></tr>\n",
       "\t<tr><th scope=row>6</th><td>A2M-AS1 </td><td>NR_026971</td></tr>\n",
       "</tbody>\n",
       "</table>\n"
      ],
      "text/latex": [
       "A data.frame: 6 × 2\n",
       "\\begin{tabular}{r|ll}\n",
       "  & Approved.symbol & RefSeq.IDs\\\\\n",
       "  & <chr> & <chr>\\\\\n",
       "\\hline\n",
       "\t1 & A1BG     & NM\\_130786\\\\\n",
       "\t2 & A1BG-AS1 & NR\\_015380\\\\\n",
       "\t3 & A1CF     & NM\\_014576\\\\\n",
       "\t4 & A1S9T    &          \\\\\n",
       "\t5 & A2M      & NM\\_000014\\\\\n",
       "\t6 & A2M-AS1  & NR\\_026971\\\\\n",
       "\\end{tabular}\n"
      ],
      "text/markdown": [
       "\n",
       "A data.frame: 6 × 2\n",
       "\n",
       "| <!--/--> | Approved.symbol &lt;chr&gt; | RefSeq.IDs &lt;chr&gt; |\n",
       "|---|---|---|\n",
       "| 1 | A1BG     | NM_130786 |\n",
       "| 2 | A1BG-AS1 | NR_015380 |\n",
       "| 3 | A1CF     | NM_014576 |\n",
       "| 4 | A1S9T    | <!----> |\n",
       "| 5 | A2M      | NM_000014 |\n",
       "| 6 | A2M-AS1  | NR_026971 |\n",
       "\n"
      ],
      "text/plain": [
       "  Approved.symbol RefSeq.IDs\n",
       "1 A1BG            NM_130786 \n",
       "2 A1BG-AS1        NR_015380 \n",
       "3 A1CF            NM_014576 \n",
       "4 A1S9T                     \n",
       "5 A2M             NM_000014 \n",
       "6 A2M-AS1         NR_026971 "
      ]
     },
     "metadata": {},
     "output_type": "display_data"
    }
   ],
   "source": [
    "#Download a bridigng file to convert the Refseq ID to the hgnc ID\n",
    "#This bridging file was downloaded from genenames.org\n",
    "paste(working_dir, \"/raw_data/new_ccle\", sep = \"\") %>% setwd()\n",
    "system(glue::glue(\"\n",
    "gsutil cp gs://fc-45c0e148-0b1c-4244-9bfc-feb559bbc514/refseq_to_hgnc.txt .\n",
    "\"))\n",
    "bridging.file = read.table(\"refseq_to_hgnc.txt\", sep = \"\\t\", fill = TRUE, header = TRUE) %>%\n",
    "dplyr::select(Approved.symbol, RefSeq.IDs)\n",
    "\n",
    "head(bridging.file)"
   ]
  },
  {
   "cell_type": "code",
   "execution_count": 62,
   "metadata": {},
   "outputs": [
    {
     "data": {
      "text/html": [
       "<table class=\"dataframe\">\n",
       "<caption>A data.frame: 6 × 7</caption>\n",
       "<thead>\n",
       "\t<tr><th></th><th scope=col>chr</th><th scope=col>start</th><th scope=col>end</th><th scope=col>refseq.string</th><th scope=col>V5</th><th scope=col>V6</th><th scope=col>gene</th></tr>\n",
       "\t<tr><th></th><th scope=col>&lt;chr&gt;</th><th scope=col>&lt;int&gt;</th><th scope=col>&lt;int&gt;</th><th scope=col>&lt;chr&gt;</th><th scope=col>&lt;int&gt;</th><th scope=col>&lt;chr&gt;</th><th scope=col>&lt;chr&gt;</th></tr>\n",
       "</thead>\n",
       "<tbody>\n",
       "\t<tr><th scope=row>1</th><td>chr1</td><td>201283702</td><td>201283904</td><td>NM_000299_cds_0_0_chr1_201283703_f</td><td>0</td><td>+</td><td>PKP1</td></tr>\n",
       "\t<tr><th scope=row>2</th><td>chr1</td><td>201293941</td><td>201294045</td><td>NM_000299_cds_1_0_chr1_201293942_f</td><td>0</td><td>+</td><td>PKP1</td></tr>\n",
       "\t<tr><th scope=row>3</th><td>chr1</td><td>201313165</td><td>201313560</td><td>NM_000299_cds_2_0_chr1_201313166_f</td><td>0</td><td>+</td><td>PKP1</td></tr>\n",
       "\t<tr><th scope=row>4</th><td>chr1</td><td>201316552</td><td>201316697</td><td>NM_000299_cds_3_0_chr1_201316553_f</td><td>0</td><td>+</td><td>PKP1</td></tr>\n",
       "\t<tr><th scope=row>5</th><td>chr1</td><td>201317571</td><td>201317779</td><td>NM_000299_cds_4_0_chr1_201317572_f</td><td>0</td><td>+</td><td>PKP1</td></tr>\n",
       "\t<tr><th scope=row>6</th><td>chr1</td><td>201318617</td><td>201318795</td><td>NM_000299_cds_5_0_chr1_201318618_f</td><td>0</td><td>+</td><td>PKP1</td></tr>\n",
       "</tbody>\n",
       "</table>\n"
      ],
      "text/latex": [
       "A data.frame: 6 × 7\n",
       "\\begin{tabular}{r|lllllll}\n",
       "  & chr & start & end & refseq.string & V5 & V6 & gene\\\\\n",
       "  & <chr> & <int> & <int> & <chr> & <int> & <chr> & <chr>\\\\\n",
       "\\hline\n",
       "\t1 & chr1 & 201283702 & 201283904 & NM\\_000299\\_cds\\_0\\_0\\_chr1\\_201283703\\_f & 0 & + & PKP1\\\\\n",
       "\t2 & chr1 & 201293941 & 201294045 & NM\\_000299\\_cds\\_1\\_0\\_chr1\\_201293942\\_f & 0 & + & PKP1\\\\\n",
       "\t3 & chr1 & 201313165 & 201313560 & NM\\_000299\\_cds\\_2\\_0\\_chr1\\_201313166\\_f & 0 & + & PKP1\\\\\n",
       "\t4 & chr1 & 201316552 & 201316697 & NM\\_000299\\_cds\\_3\\_0\\_chr1\\_201316553\\_f & 0 & + & PKP1\\\\\n",
       "\t5 & chr1 & 201317571 & 201317779 & NM\\_000299\\_cds\\_4\\_0\\_chr1\\_201317572\\_f & 0 & + & PKP1\\\\\n",
       "\t6 & chr1 & 201318617 & 201318795 & NM\\_000299\\_cds\\_5\\_0\\_chr1\\_201318618\\_f & 0 & + & PKP1\\\\\n",
       "\\end{tabular}\n"
      ],
      "text/markdown": [
       "\n",
       "A data.frame: 6 × 7\n",
       "\n",
       "| <!--/--> | chr &lt;chr&gt; | start &lt;int&gt; | end &lt;int&gt; | refseq.string &lt;chr&gt; | V5 &lt;int&gt; | V6 &lt;chr&gt; | gene &lt;chr&gt; |\n",
       "|---|---|---|---|---|---|---|---|\n",
       "| 1 | chr1 | 201283702 | 201283904 | NM_000299_cds_0_0_chr1_201283703_f | 0 | + | PKP1 |\n",
       "| 2 | chr1 | 201293941 | 201294045 | NM_000299_cds_1_0_chr1_201293942_f | 0 | + | PKP1 |\n",
       "| 3 | chr1 | 201313165 | 201313560 | NM_000299_cds_2_0_chr1_201313166_f | 0 | + | PKP1 |\n",
       "| 4 | chr1 | 201316552 | 201316697 | NM_000299_cds_3_0_chr1_201316553_f | 0 | + | PKP1 |\n",
       "| 5 | chr1 | 201317571 | 201317779 | NM_000299_cds_4_0_chr1_201317572_f | 0 | + | PKP1 |\n",
       "| 6 | chr1 | 201318617 | 201318795 | NM_000299_cds_5_0_chr1_201318618_f | 0 | + | PKP1 |\n",
       "\n"
      ],
      "text/plain": [
       "  chr  start     end       refseq.string                      V5 V6 gene\n",
       "1 chr1 201283702 201283904 NM_000299_cds_0_0_chr1_201283703_f 0  +  PKP1\n",
       "2 chr1 201293941 201294045 NM_000299_cds_1_0_chr1_201293942_f 0  +  PKP1\n",
       "3 chr1 201313165 201313560 NM_000299_cds_2_0_chr1_201313166_f 0  +  PKP1\n",
       "4 chr1 201316552 201316697 NM_000299_cds_3_0_chr1_201316553_f 0  +  PKP1\n",
       "5 chr1 201317571 201317779 NM_000299_cds_4_0_chr1_201317572_f 0  +  PKP1\n",
       "6 chr1 201318617 201318795 NM_000299_cds_5_0_chr1_201318618_f 0  +  PKP1"
      ]
     },
     "metadata": {},
     "output_type": "display_data"
    }
   ],
   "source": [
    "#Load in the exon positions and format the file correctly\n",
    "paste(working_dir, \"/raw_data/new_ccle\", sep = \"\") %>% setwd()\n",
    "exon.positions = read.table(\"exon_positions\") %>%\n",
    "rename(\"chr\" = 1, \"start\" = 2, \"end\" = 3, \"refseq.string\" = 4) %>%\n",
    "mutate(gene = stringr::str_extract(refseq.string, \"[^_]*_[^_]*\")) %>%\n",
    "mutate(gene = plyr::mapvalues(from = bridging.file$RefSeq.IDs, to = bridging.file$Approved.symbol, gene, warn_missing = FALSE))\n",
    "\n",
    "head(exon.positions)"
   ]
  },
  {
   "cell_type": "code",
   "execution_count": null,
   "metadata": {},
   "outputs": [],
   "source": []
  },
  {
   "cell_type": "code",
   "execution_count": null,
   "metadata": {},
   "outputs": [],
   "source": []
  },
  {
   "cell_type": "code",
   "execution_count": null,
   "metadata": {},
   "outputs": [],
   "source": []
  },
  {
   "cell_type": "code",
   "execution_count": null,
   "metadata": {},
   "outputs": [],
   "source": []
  },
  {
   "cell_type": "code",
   "execution_count": null,
   "metadata": {},
   "outputs": [],
   "source": []
  },
  {
   "cell_type": "code",
   "execution_count": null,
   "metadata": {},
   "outputs": [],
   "source": []
  }
 ],
 "metadata": {
  "kernelspec": {
   "display_name": "R",
   "language": "R",
   "name": "ir"
  },
  "language_info": {
   "codemirror_mode": "r",
   "file_extension": ".r",
   "mimetype": "text/x-r-source",
   "name": "R",
   "pygments_lexer": "r",
   "version": "4.1.1"
  },
  "toc": {
   "base_numbering": 1,
   "nav_menu": {},
   "number_sections": true,
   "sideBar": true,
   "skip_h1_title": false,
   "title_cell": "Table of Contents",
   "title_sidebar": "Contents",
   "toc_cell": false,
   "toc_position": {},
   "toc_section_display": true,
   "toc_window_display": false
  }
 },
 "nbformat": 4,
 "nbformat_minor": 2
}
