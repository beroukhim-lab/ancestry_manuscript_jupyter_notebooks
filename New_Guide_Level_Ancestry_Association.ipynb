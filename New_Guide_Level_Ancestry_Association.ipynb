{
 "cells": [
  {
   "cell_type": "markdown",
   "metadata": {},
   "source": [
    "The purpose of this notebook is to generate a figure which shows that for the ancestry-associated genes, only one of the guides shows any differential activity."
   ]
  },
  {
   "cell_type": "code",
   "execution_count": 1,
   "metadata": {},
   "outputs": [],
   "source": [
    "#Arguments/Parameters\n",
    "workspace_bucket = Sys.getenv('WORKSPACE_BUCKET') #the workspace bucket that we will upload the output to\n",
    "num.threads = 16 #Specify the number of CPUs you want to use. Some steps take a lot of compute."
   ]
  },
  {
   "cell_type": "code",
   "execution_count": 2,
   "metadata": {},
   "outputs": [
    {
     "name": "stderr",
     "output_type": "stream",
     "text": [
      "Warning message in system(\"timedatectl\", intern = TRUE):\n",
      "“running command 'timedatectl' had status 1”\n",
      "── \u001b[1mAttaching packages\u001b[22m ─────────────────────────────────────── tidyverse 1.3.1 ──\n",
      "\n",
      "\u001b[32m✔\u001b[39m \u001b[34mggplot2\u001b[39m 3.3.5     \u001b[32m✔\u001b[39m \u001b[34mpurrr  \u001b[39m 0.3.4\n",
      "\u001b[32m✔\u001b[39m \u001b[34mtibble \u001b[39m 3.1.6     \u001b[32m✔\u001b[39m \u001b[34mdplyr  \u001b[39m 1.0.7\n",
      "\u001b[32m✔\u001b[39m \u001b[34mtidyr  \u001b[39m 1.1.4     \u001b[32m✔\u001b[39m \u001b[34mstringr\u001b[39m 1.4.0\n",
      "\u001b[32m✔\u001b[39m \u001b[34mreadr  \u001b[39m 2.1.1     \u001b[32m✔\u001b[39m \u001b[34mforcats\u001b[39m 0.5.1\n",
      "\n",
      "── \u001b[1mConflicts\u001b[22m ────────────────────────────────────────── tidyverse_conflicts() ──\n",
      "\u001b[31m✖\u001b[39m \u001b[34mdplyr\u001b[39m::\u001b[32mfilter()\u001b[39m masks \u001b[34mstats\u001b[39m::filter()\n",
      "\u001b[31m✖\u001b[39m \u001b[34mdplyr\u001b[39m::\u001b[32mlag()\u001b[39m    masks \u001b[34mstats\u001b[39m::lag()\n",
      "\n",
      "\n",
      "Attaching package: ‘reshape2’\n",
      "\n",
      "\n",
      "The following object is masked from ‘package:tidyr’:\n",
      "\n",
      "    smiths\n",
      "\n",
      "\n"
     ]
    }
   ],
   "source": [
    "#Load packages\n",
    "library(tidyverse)\n",
    "library(reshape2)\n",
    "\n",
    "#Define functions\n",
    "show_msg <- function(x){ \n",
    "    print(x)\n",
    "    flush.console()\n",
    "}"
   ]
  },
  {
   "cell_type": "code",
   "execution_count": 3,
   "metadata": {},
   "outputs": [],
   "source": [
    "###All of this is hard-coded because I just need to make this figure really quickly.\n",
    "###In the future it will be necessary to generalize the code"
   ]
  },
  {
   "cell_type": "code",
   "execution_count": 5,
   "metadata": {},
   "outputs": [],
   "source": [
    "#Download the data\n",
    "system(glue::glue(\"\n",
    "cd /home/jupyter/Ancestry/gwas\n",
    "gsutil cp gs://fc-45c0e148-0b1c-4244-9bfc-feb559bbc514/internal-21q4_v9-achilles-guide-map.csv .\n",
    "gsutil cp gs://fc-45c0e148-0b1c-4244-9bfc-feb559bbc514/internal-21q4_v9-achilles-replicate-map.csv .\n",
    "gsutil cp gs://fc-45c0e148-0b1c-4244-9bfc-feb559bbc514/internal-21q4_v9-achilles-logfold-change.csv .\n",
    "\"))"
   ]
  },
  {
   "cell_type": "code",
   "execution_count": 3,
   "metadata": {},
   "outputs": [],
   "source": [
    "#Load the data into R\n",
    "setwd(\"/home/jupyter/Ancestry/gwas\")\n",
    "replicate.map = read.table(\"internal-21q4_v9-achilles-replicate-map.csv\", header = T, sep = \",\")\n",
    "guide.map = read.table(\"internal-21q4_v9-achilles-guide-map.csv\", header = T, sep = \",\")\n",
    "logfc = read.table(\"internal-21q4_v9-achilles-logfold-change.csv\", header = T, sep = \",\", check.names = FALSE)\n"
   ]
  },
  {
   "cell_type": "code",
   "execution_count": 5,
   "metadata": {},
   "outputs": [
    {
     "data": {
      "text/html": [
       "<style>\n",
       ".list-inline {list-style: none; margin:0; padding: 0}\n",
       ".list-inline>li {display: inline-block}\n",
       ".list-inline>li:not(:last-child)::after {content: \"\\00b7\"; padding: 0 .5ex}\n",
       "</style>\n",
       "<ol class=list-inline><li>'chr1.rfmix.output.rfmix.Q'</li><li>'chr10.rfmix.output.rfmix.Q'</li><li>'chr11.rfmix.output.rfmix.Q'</li><li>'chr12.rfmix.output.rfmix.Q'</li><li>'chr13.rfmix.output.rfmix.Q'</li><li>'chr14.rfmix.output.rfmix.Q'</li><li>'chr15.rfmix.output.rfmix.Q'</li><li>'chr16.rfmix.output.rfmix.Q'</li><li>'chr17.rfmix.output.rfmix.Q'</li><li>'chr18.rfmix.output.rfmix.Q'</li><li>'chr19.rfmix.output.rfmix.Q'</li><li>'chr2.rfmix.output.rfmix.Q'</li><li>'chr20.rfmix.output.rfmix.Q'</li><li>'chr21.rfmix.output.rfmix.Q'</li><li>'chr22.rfmix.output.rfmix.Q'</li><li>'chr3.rfmix.output.rfmix.Q'</li><li>'chr4.rfmix.output.rfmix.Q'</li><li>'chr5.rfmix.output.rfmix.Q'</li><li>'chr6.rfmix.output.rfmix.Q'</li><li>'chr7.rfmix.output.rfmix.Q'</li><li>'chr8.rfmix.output.rfmix.Q'</li><li>'chr9.rfmix.output.rfmix.Q'</li></ol>\n"
      ],
      "text/latex": [
       "\\begin{enumerate*}\n",
       "\\item 'chr1.rfmix.output.rfmix.Q'\n",
       "\\item 'chr10.rfmix.output.rfmix.Q'\n",
       "\\item 'chr11.rfmix.output.rfmix.Q'\n",
       "\\item 'chr12.rfmix.output.rfmix.Q'\n",
       "\\item 'chr13.rfmix.output.rfmix.Q'\n",
       "\\item 'chr14.rfmix.output.rfmix.Q'\n",
       "\\item 'chr15.rfmix.output.rfmix.Q'\n",
       "\\item 'chr16.rfmix.output.rfmix.Q'\n",
       "\\item 'chr17.rfmix.output.rfmix.Q'\n",
       "\\item 'chr18.rfmix.output.rfmix.Q'\n",
       "\\item 'chr19.rfmix.output.rfmix.Q'\n",
       "\\item 'chr2.rfmix.output.rfmix.Q'\n",
       "\\item 'chr20.rfmix.output.rfmix.Q'\n",
       "\\item 'chr21.rfmix.output.rfmix.Q'\n",
       "\\item 'chr22.rfmix.output.rfmix.Q'\n",
       "\\item 'chr3.rfmix.output.rfmix.Q'\n",
       "\\item 'chr4.rfmix.output.rfmix.Q'\n",
       "\\item 'chr5.rfmix.output.rfmix.Q'\n",
       "\\item 'chr6.rfmix.output.rfmix.Q'\n",
       "\\item 'chr7.rfmix.output.rfmix.Q'\n",
       "\\item 'chr8.rfmix.output.rfmix.Q'\n",
       "\\item 'chr9.rfmix.output.rfmix.Q'\n",
       "\\end{enumerate*}\n"
      ],
      "text/markdown": [
       "1. 'chr1.rfmix.output.rfmix.Q'\n",
       "2. 'chr10.rfmix.output.rfmix.Q'\n",
       "3. 'chr11.rfmix.output.rfmix.Q'\n",
       "4. 'chr12.rfmix.output.rfmix.Q'\n",
       "5. 'chr13.rfmix.output.rfmix.Q'\n",
       "6. 'chr14.rfmix.output.rfmix.Q'\n",
       "7. 'chr15.rfmix.output.rfmix.Q'\n",
       "8. 'chr16.rfmix.output.rfmix.Q'\n",
       "9. 'chr17.rfmix.output.rfmix.Q'\n",
       "10. 'chr18.rfmix.output.rfmix.Q'\n",
       "11. 'chr19.rfmix.output.rfmix.Q'\n",
       "12. 'chr2.rfmix.output.rfmix.Q'\n",
       "13. 'chr20.rfmix.output.rfmix.Q'\n",
       "14. 'chr21.rfmix.output.rfmix.Q'\n",
       "15. 'chr22.rfmix.output.rfmix.Q'\n",
       "16. 'chr3.rfmix.output.rfmix.Q'\n",
       "17. 'chr4.rfmix.output.rfmix.Q'\n",
       "18. 'chr5.rfmix.output.rfmix.Q'\n",
       "19. 'chr6.rfmix.output.rfmix.Q'\n",
       "20. 'chr7.rfmix.output.rfmix.Q'\n",
       "21. 'chr8.rfmix.output.rfmix.Q'\n",
       "22. 'chr9.rfmix.output.rfmix.Q'\n",
       "\n",
       "\n"
      ],
      "text/plain": [
       " [1] \"chr1.rfmix.output.rfmix.Q\"  \"chr10.rfmix.output.rfmix.Q\"\n",
       " [3] \"chr11.rfmix.output.rfmix.Q\" \"chr12.rfmix.output.rfmix.Q\"\n",
       " [5] \"chr13.rfmix.output.rfmix.Q\" \"chr14.rfmix.output.rfmix.Q\"\n",
       " [7] \"chr15.rfmix.output.rfmix.Q\" \"chr16.rfmix.output.rfmix.Q\"\n",
       " [9] \"chr17.rfmix.output.rfmix.Q\" \"chr18.rfmix.output.rfmix.Q\"\n",
       "[11] \"chr19.rfmix.output.rfmix.Q\" \"chr2.rfmix.output.rfmix.Q\" \n",
       "[13] \"chr20.rfmix.output.rfmix.Q\" \"chr21.rfmix.output.rfmix.Q\"\n",
       "[15] \"chr22.rfmix.output.rfmix.Q\" \"chr3.rfmix.output.rfmix.Q\" \n",
       "[17] \"chr4.rfmix.output.rfmix.Q\"  \"chr5.rfmix.output.rfmix.Q\" \n",
       "[19] \"chr6.rfmix.output.rfmix.Q\"  \"chr7.rfmix.output.rfmix.Q\" \n",
       "[21] \"chr8.rfmix.output.rfmix.Q\"  \"chr9.rfmix.output.rfmix.Q\" "
      ]
     },
     "metadata": {},
     "output_type": "display_data"
    },
    {
     "data": {
      "text/html": [
       "<table class=\"dataframe\">\n",
       "<caption>A data.frame: 6 × 6</caption>\n",
       "<thead>\n",
       "\t<tr><th></th><th scope=col>sample</th><th scope=col>AFR</th><th scope=col>AMR</th><th scope=col>EAS</th><th scope=col>EUR</th><th scope=col>SAS</th></tr>\n",
       "\t<tr><th></th><th scope=col>&lt;chr&gt;</th><th scope=col>&lt;dbl&gt;</th><th scope=col>&lt;dbl&gt;</th><th scope=col>&lt;dbl&gt;</th><th scope=col>&lt;dbl&gt;</th><th scope=col>&lt;dbl&gt;</th></tr>\n",
       "</thead>\n",
       "<tbody>\n",
       "\t<tr><th scope=row>1</th><td>ACH-000657</td><td>0.9601677273</td><td>0.0005504545</td><td>0.0063213636</td><td>0.03192409</td><td>0.0010363636</td></tr>\n",
       "\t<tr><th scope=row>2</th><td>ACH-000617</td><td>0.0028859091</td><td>0.0204050000</td><td>0.0000000000</td><td>0.97557545</td><td>0.0011336364</td></tr>\n",
       "\t<tr><th scope=row>3</th><td>ACH-000685</td><td>0.8539895455</td><td>0.0272740909</td><td>0.0395313636</td><td>0.07403591</td><td>0.0051686364</td></tr>\n",
       "\t<tr><th scope=row>4</th><td>ACH-000632</td><td>0.0025995455</td><td>0.0009922727</td><td>0.0001513636</td><td>0.99553364</td><td>0.0007231818</td></tr>\n",
       "\t<tr><th scope=row>5</th><td>ACH-000171</td><td>0.0007454545</td><td>0.0000000000</td><td>0.0010822727</td><td>0.99686682</td><td>0.0013054545</td></tr>\n",
       "\t<tr><th scope=row>6</th><td>ACH-000863</td><td>0.0065409091</td><td>0.0000000000</td><td>0.0036922727</td><td>0.96728000</td><td>0.0224868182</td></tr>\n",
       "</tbody>\n",
       "</table>\n"
      ],
      "text/latex": [
       "A data.frame: 6 × 6\n",
       "\\begin{tabular}{r|llllll}\n",
       "  & sample & AFR & AMR & EAS & EUR & SAS\\\\\n",
       "  & <chr> & <dbl> & <dbl> & <dbl> & <dbl> & <dbl>\\\\\n",
       "\\hline\n",
       "\t1 & ACH-000657 & 0.9601677273 & 0.0005504545 & 0.0063213636 & 0.03192409 & 0.0010363636\\\\\n",
       "\t2 & ACH-000617 & 0.0028859091 & 0.0204050000 & 0.0000000000 & 0.97557545 & 0.0011336364\\\\\n",
       "\t3 & ACH-000685 & 0.8539895455 & 0.0272740909 & 0.0395313636 & 0.07403591 & 0.0051686364\\\\\n",
       "\t4 & ACH-000632 & 0.0025995455 & 0.0009922727 & 0.0001513636 & 0.99553364 & 0.0007231818\\\\\n",
       "\t5 & ACH-000171 & 0.0007454545 & 0.0000000000 & 0.0010822727 & 0.99686682 & 0.0013054545\\\\\n",
       "\t6 & ACH-000863 & 0.0065409091 & 0.0000000000 & 0.0036922727 & 0.96728000 & 0.0224868182\\\\\n",
       "\\end{tabular}\n"
      ],
      "text/markdown": [
       "\n",
       "A data.frame: 6 × 6\n",
       "\n",
       "| <!--/--> | sample &lt;chr&gt; | AFR &lt;dbl&gt; | AMR &lt;dbl&gt; | EAS &lt;dbl&gt; | EUR &lt;dbl&gt; | SAS &lt;dbl&gt; |\n",
       "|---|---|---|---|---|---|---|\n",
       "| 1 | ACH-000657 | 0.9601677273 | 0.0005504545 | 0.0063213636 | 0.03192409 | 0.0010363636 |\n",
       "| 2 | ACH-000617 | 0.0028859091 | 0.0204050000 | 0.0000000000 | 0.97557545 | 0.0011336364 |\n",
       "| 3 | ACH-000685 | 0.8539895455 | 0.0272740909 | 0.0395313636 | 0.07403591 | 0.0051686364 |\n",
       "| 4 | ACH-000632 | 0.0025995455 | 0.0009922727 | 0.0001513636 | 0.99553364 | 0.0007231818 |\n",
       "| 5 | ACH-000171 | 0.0007454545 | 0.0000000000 | 0.0010822727 | 0.99686682 | 0.0013054545 |\n",
       "| 6 | ACH-000863 | 0.0065409091 | 0.0000000000 | 0.0036922727 | 0.96728000 | 0.0224868182 |\n",
       "\n"
      ],
      "text/plain": [
       "  sample     AFR          AMR          EAS          EUR        SAS         \n",
       "1 ACH-000657 0.9601677273 0.0005504545 0.0063213636 0.03192409 0.0010363636\n",
       "2 ACH-000617 0.0028859091 0.0204050000 0.0000000000 0.97557545 0.0011336364\n",
       "3 ACH-000685 0.8539895455 0.0272740909 0.0395313636 0.07403591 0.0051686364\n",
       "4 ACH-000632 0.0025995455 0.0009922727 0.0001513636 0.99553364 0.0007231818\n",
       "5 ACH-000171 0.0007454545 0.0000000000 0.0010822727 0.99686682 0.0013054545\n",
       "6 ACH-000863 0.0065409091 0.0000000000 0.0036922727 0.96728000 0.0224868182"
      ]
     },
     "metadata": {},
     "output_type": "display_data"
    }
   ],
   "source": [
    "#Load in the rfmix data\n",
    "setwd('/home/jupyter/Ancestry/rfmix')\n",
    "rfmix.file.list = list.files(path = \".\", pattern = \".Q\")\n",
    "rfmix.file.list\n",
    "\n",
    "#Compile it all into a single object\n",
    "rfmix.data = NULL #create an empty object to hold the data\n",
    "index = 0 #define the for loop index\n",
    "for(file in rfmix.file.list){\n",
    "    index = index + 1 #increase the index\n",
    "    \n",
    "    \n",
    "    #Load in and format the data\n",
    "    individual.chromosome = read.table(file, fill = TRUE) %>%\n",
    "    rename(\"sample\" = 1, \"AFR\" = 2, \"AMR\" = 3, \"EAS\" = 4, \"EUR\" = 5, \"SAS\" = 6) %>%\n",
    "    select(-sample)\n",
    "    \n",
    "    \n",
    "    \n",
    "    #Add the data to the main data frame\n",
    "    if(index == 1) {\n",
    "        rfmix.data = individual.chromosome\n",
    "    } else {\n",
    "        rfmix.data = rfmix.data + individual.chromosome\n",
    "    }\n",
    "    \n",
    "    \n",
    "    \n",
    "    #Divide the data by the number of chromosomes to get the ancestry fraction across the genome\n",
    "    if(index == length(rfmix.file.list)) {\n",
    "        rfmix.data = rfmix.data/length(rfmix.file.list)\n",
    "    }\n",
    "    \n",
    "    \n",
    "    \n",
    "    #Re-add the sample names\n",
    "    if(index == length(rfmix.file.list)){\n",
    "        sample.names = read.table(file, fill = TRUE) %>%\n",
    "        rename(\"sample\" = 1) %>%\n",
    "        pull(sample) \n",
    "        \n",
    "    rfmix.data = rfmix.data %>%\n",
    "        mutate(sample = sample.names, .before = \"AFR\")\n",
    "    }\n",
    "    \n",
    "}\n",
    "\n",
    "head(rfmix.data)"
   ]
  },
  {
   "cell_type": "code",
   "execution_count": 14,
   "metadata": {},
   "outputs": [
    {
     "name": "stderr",
     "output_type": "stream",
     "text": [
      "Warning message in scan(file = file, what = what, sep = sep, quote = quote, dec = dec, :\n",
      "“EOF within quoted string”\n"
     ]
    },
    {
     "data": {
      "text/html": [
       "<table class=\"dataframe\">\n",
       "<caption>A data.frame: 6 × 8</caption>\n",
       "<thead>\n",
       "\t<tr><th></th><th scope=col>sample</th><th scope=col>lineage</th><th scope=col>AFR</th><th scope=col>AMR</th><th scope=col>EAS</th><th scope=col>EUR</th><th scope=col>SAS</th><th scope=col>ancestry</th></tr>\n",
       "\t<tr><th></th><th scope=col>&lt;chr&gt;</th><th scope=col>&lt;chr&gt;</th><th scope=col>&lt;dbl&gt;</th><th scope=col>&lt;dbl&gt;</th><th scope=col>&lt;dbl&gt;</th><th scope=col>&lt;dbl&gt;</th><th scope=col>&lt;dbl&gt;</th><th scope=col>&lt;chr&gt;</th></tr>\n",
       "</thead>\n",
       "<tbody>\n",
       "\t<tr><th scope=row>1</th><td>ACH-000001</td><td>ovary     </td><td>0.0034077273</td><td>0.0036922727</td><td>0.0008009091</td><td>0.9915032</td><td>0.0005959091</td><td>EUR</td></tr>\n",
       "\t<tr><th scope=row>2</th><td>ACH-000002</td><td>blood     </td><td>0.0074231818</td><td>0.0000000000</td><td>0.0006659091</td><td>0.9873991</td><td>0.0045122727</td><td>EUR</td></tr>\n",
       "\t<tr><th scope=row>3</th><td>ACH-000004</td><td>blood     </td><td>0.0153395455</td><td>0.0007950000</td><td>0.0019813636</td><td>0.9759618</td><td>0.0059222727</td><td>EUR</td></tr>\n",
       "\t<tr><th scope=row>4</th><td>ACH-000005</td><td>blood     </td><td>0.0145381818</td><td>0.0014136364</td><td>0.0029336364</td><td>0.9743491</td><td>0.0067659091</td><td>EUR</td></tr>\n",
       "\t<tr><th scope=row>5</th><td>ACH-000007</td><td>colorectal</td><td>0.0007550000</td><td>0.0004977273</td><td>0.0002004545</td><td>0.9966591</td><td>0.0018872727</td><td>EUR</td></tr>\n",
       "\t<tr><th scope=row>6</th><td>ACH-000008</td><td>skin      </td><td>0.0006354545</td><td>0.0000000000</td><td>0.0009890909</td><td>0.9968695</td><td>0.0015059091</td><td>EUR</td></tr>\n",
       "</tbody>\n",
       "</table>\n"
      ],
      "text/latex": [
       "A data.frame: 6 × 8\n",
       "\\begin{tabular}{r|llllllll}\n",
       "  & sample & lineage & AFR & AMR & EAS & EUR & SAS & ancestry\\\\\n",
       "  & <chr> & <chr> & <dbl> & <dbl> & <dbl> & <dbl> & <dbl> & <chr>\\\\\n",
       "\\hline\n",
       "\t1 & ACH-000001 & ovary      & 0.0034077273 & 0.0036922727 & 0.0008009091 & 0.9915032 & 0.0005959091 & EUR\\\\\n",
       "\t2 & ACH-000002 & blood      & 0.0074231818 & 0.0000000000 & 0.0006659091 & 0.9873991 & 0.0045122727 & EUR\\\\\n",
       "\t3 & ACH-000004 & blood      & 0.0153395455 & 0.0007950000 & 0.0019813636 & 0.9759618 & 0.0059222727 & EUR\\\\\n",
       "\t4 & ACH-000005 & blood      & 0.0145381818 & 0.0014136364 & 0.0029336364 & 0.9743491 & 0.0067659091 & EUR\\\\\n",
       "\t5 & ACH-000007 & colorectal & 0.0007550000 & 0.0004977273 & 0.0002004545 & 0.9966591 & 0.0018872727 & EUR\\\\\n",
       "\t6 & ACH-000008 & skin       & 0.0006354545 & 0.0000000000 & 0.0009890909 & 0.9968695 & 0.0015059091 & EUR\\\\\n",
       "\\end{tabular}\n"
      ],
      "text/markdown": [
       "\n",
       "A data.frame: 6 × 8\n",
       "\n",
       "| <!--/--> | sample &lt;chr&gt; | lineage &lt;chr&gt; | AFR &lt;dbl&gt; | AMR &lt;dbl&gt; | EAS &lt;dbl&gt; | EUR &lt;dbl&gt; | SAS &lt;dbl&gt; | ancestry &lt;chr&gt; |\n",
       "|---|---|---|---|---|---|---|---|---|\n",
       "| 1 | ACH-000001 | ovary      | 0.0034077273 | 0.0036922727 | 0.0008009091 | 0.9915032 | 0.0005959091 | EUR |\n",
       "| 2 | ACH-000002 | blood      | 0.0074231818 | 0.0000000000 | 0.0006659091 | 0.9873991 | 0.0045122727 | EUR |\n",
       "| 3 | ACH-000004 | blood      | 0.0153395455 | 0.0007950000 | 0.0019813636 | 0.9759618 | 0.0059222727 | EUR |\n",
       "| 4 | ACH-000005 | blood      | 0.0145381818 | 0.0014136364 | 0.0029336364 | 0.9743491 | 0.0067659091 | EUR |\n",
       "| 5 | ACH-000007 | colorectal | 0.0007550000 | 0.0004977273 | 0.0002004545 | 0.9966591 | 0.0018872727 | EUR |\n",
       "| 6 | ACH-000008 | skin       | 0.0006354545 | 0.0000000000 | 0.0009890909 | 0.9968695 | 0.0015059091 | EUR |\n",
       "\n"
      ],
      "text/plain": [
       "  sample     lineage    AFR          AMR          EAS          EUR      \n",
       "1 ACH-000001 ovary      0.0034077273 0.0036922727 0.0008009091 0.9915032\n",
       "2 ACH-000002 blood      0.0074231818 0.0000000000 0.0006659091 0.9873991\n",
       "3 ACH-000004 blood      0.0153395455 0.0007950000 0.0019813636 0.9759618\n",
       "4 ACH-000005 blood      0.0145381818 0.0014136364 0.0029336364 0.9743491\n",
       "5 ACH-000007 colorectal 0.0007550000 0.0004977273 0.0002004545 0.9966591\n",
       "6 ACH-000008 skin       0.0006354545 0.0000000000 0.0009890909 0.9968695\n",
       "  SAS          ancestry\n",
       "1 0.0005959091 EUR     \n",
       "2 0.0045122727 EUR     \n",
       "3 0.0059222727 EUR     \n",
       "4 0.0067659091 EUR     \n",
       "5 0.0018872727 EUR     \n",
       "6 0.0015059091 EUR     "
      ]
     },
     "metadata": {},
     "output_type": "display_data"
    }
   ],
   "source": [
    "#Merge the RFMix data with the cell lineage\n",
    "setwd(\"/home/jupyter/Ancestry/gwas\")\n",
    "lineage.annotation = read.table('internal-22q1_v24-sample-info.csv', sep = \",\", header = T, fill = TRUE) %>%\n",
    "select(DepMap_ID, lineage) %>%\n",
    "rename(\"sample\" = DepMap_ID) %>%\n",
    "inner_join(rfmix.data, by = \"sample\") %>%\n",
    "mutate(ancestry = ifelse(AFR > 0.8, \"AFR\", \n",
    "                        ifelse(AMR > 0.8, \"AMR\",\n",
    "                              ifelse(EAS > 0.8, \"EAS\",\n",
    "                                    ifelse(EUR > 0.8, \"EUR\",\n",
    "                                          ifelse(SAS > 0.8, \"SAS\", \"Admixed\"))))))\n",
    "\n",
    "head(lineage.annotation)"
   ]
  },
  {
   "cell_type": "code",
   "execution_count": 5,
   "metadata": {},
   "outputs": [
    {
     "data": {
      "text/html": [
       "<table class=\"dataframe\">\n",
       "<caption>A data.frame: 6 × 7</caption>\n",
       "<thead>\n",
       "\t<tr><th></th><th scope=col>EUR</th><th scope=col>EAS</th><th scope=col>AMR</th><th scope=col>SAS</th><th scope=col>AFR</th><th scope=col>depmap_id</th><th scope=col>lineage</th></tr>\n",
       "\t<tr><th></th><th scope=col>&lt;dbl&gt;</th><th scope=col>&lt;dbl&gt;</th><th scope=col>&lt;dbl&gt;</th><th scope=col>&lt;dbl&gt;</th><th scope=col>&lt;dbl&gt;</th><th scope=col>&lt;chr&gt;</th><th scope=col>&lt;chr&gt;</th></tr>\n",
       "</thead>\n",
       "<tbody>\n",
       "\t<tr><th scope=row>1</th><td>0.058376</td><td>0.841298</td><td>0.028906</td><td>0.013521</td><td>0.057898</td><td>ACH-000380</td><td>plasma_cell           </td></tr>\n",
       "\t<tr><th scope=row>2</th><td>0.036494</td><td>0.863657</td><td>0.032450</td><td>0.008646</td><td>0.058753</td><td>ACH-000321</td><td>blood                 </td></tr>\n",
       "\t<tr><th scope=row>3</th><td>0.011415</td><td>0.010345</td><td>0.003088</td><td>0.964387</td><td>0.010765</td><td>ACH-000857</td><td>breast                </td></tr>\n",
       "\t<tr><th scope=row>4</th><td>0.888580</td><td>0.017735</td><td>0.028750</td><td>0.055862</td><td>0.009074</td><td>ACH-000883</td><td>central_nervous_system</td></tr>\n",
       "\t<tr><th scope=row>5</th><td>0.898368</td><td>0.014906</td><td>0.025614</td><td>0.052141</td><td>0.008971</td><td>ACH-000936</td><td>ovary                 </td></tr>\n",
       "\t<tr><th scope=row>6</th><td>0.915203</td><td>0.006926</td><td>0.029091</td><td>0.026713</td><td>0.022068</td><td>ACH-000290</td><td>lung                  </td></tr>\n",
       "</tbody>\n",
       "</table>\n"
      ],
      "text/latex": [
       "A data.frame: 6 × 7\n",
       "\\begin{tabular}{r|lllllll}\n",
       "  & EUR & EAS & AMR & SAS & AFR & depmap\\_id & lineage\\\\\n",
       "  & <dbl> & <dbl> & <dbl> & <dbl> & <dbl> & <chr> & <chr>\\\\\n",
       "\\hline\n",
       "\t1 & 0.058376 & 0.841298 & 0.028906 & 0.013521 & 0.057898 & ACH-000380 & plasma\\_cell           \\\\\n",
       "\t2 & 0.036494 & 0.863657 & 0.032450 & 0.008646 & 0.058753 & ACH-000321 & blood                 \\\\\n",
       "\t3 & 0.011415 & 0.010345 & 0.003088 & 0.964387 & 0.010765 & ACH-000857 & breast                \\\\\n",
       "\t4 & 0.888580 & 0.017735 & 0.028750 & 0.055862 & 0.009074 & ACH-000883 & central\\_nervous\\_system\\\\\n",
       "\t5 & 0.898368 & 0.014906 & 0.025614 & 0.052141 & 0.008971 & ACH-000936 & ovary                 \\\\\n",
       "\t6 & 0.915203 & 0.006926 & 0.029091 & 0.026713 & 0.022068 & ACH-000290 & lung                  \\\\\n",
       "\\end{tabular}\n"
      ],
      "text/markdown": [
       "\n",
       "A data.frame: 6 × 7\n",
       "\n",
       "| <!--/--> | EUR &lt;dbl&gt; | EAS &lt;dbl&gt; | AMR &lt;dbl&gt; | SAS &lt;dbl&gt; | AFR &lt;dbl&gt; | depmap_id &lt;chr&gt; | lineage &lt;chr&gt; |\n",
       "|---|---|---|---|---|---|---|---|\n",
       "| 1 | 0.058376 | 0.841298 | 0.028906 | 0.013521 | 0.057898 | ACH-000380 | plasma_cell            |\n",
       "| 2 | 0.036494 | 0.863657 | 0.032450 | 0.008646 | 0.058753 | ACH-000321 | blood                  |\n",
       "| 3 | 0.011415 | 0.010345 | 0.003088 | 0.964387 | 0.010765 | ACH-000857 | breast                 |\n",
       "| 4 | 0.888580 | 0.017735 | 0.028750 | 0.055862 | 0.009074 | ACH-000883 | central_nervous_system |\n",
       "| 5 | 0.898368 | 0.014906 | 0.025614 | 0.052141 | 0.008971 | ACH-000936 | ovary                  |\n",
       "| 6 | 0.915203 | 0.006926 | 0.029091 | 0.026713 | 0.022068 | ACH-000290 | lung                   |\n",
       "\n"
      ],
      "text/plain": [
       "  EUR      EAS      AMR      SAS      AFR      depmap_id \n",
       "1 0.058376 0.841298 0.028906 0.013521 0.057898 ACH-000380\n",
       "2 0.036494 0.863657 0.032450 0.008646 0.058753 ACH-000321\n",
       "3 0.011415 0.010345 0.003088 0.964387 0.010765 ACH-000857\n",
       "4 0.888580 0.017735 0.028750 0.055862 0.009074 ACH-000883\n",
       "5 0.898368 0.014906 0.025614 0.052141 0.008971 ACH-000936\n",
       "6 0.915203 0.006926 0.029091 0.026713 0.022068 ACH-000290\n",
       "  lineage               \n",
       "1 plasma_cell           \n",
       "2 blood                 \n",
       "3 breast                \n",
       "4 central_nervous_system\n",
       "5 ovary                 \n",
       "6 lung                  "
      ]
     },
     "metadata": {},
     "output_type": "display_data"
    },
    {
     "data": {
      "text/html": [
       "<table class=\"dataframe\">\n",
       "<caption>A data.frame: 6 × 3</caption>\n",
       "<thead>\n",
       "\t<tr><th></th><th scope=col>depmap_id</th><th scope=col>lineage</th><th scope=col>popmax</th></tr>\n",
       "\t<tr><th></th><th scope=col>&lt;chr&gt;</th><th scope=col>&lt;chr&gt;</th><th scope=col>&lt;chr&gt;</th></tr>\n",
       "</thead>\n",
       "<tbody>\n",
       "\t<tr><th scope=row>1</th><td>ACH-000380</td><td>plasma_cell           </td><td>East Asian (EAS) </td></tr>\n",
       "\t<tr><th scope=row>2</th><td>ACH-000321</td><td>blood                 </td><td>East Asian (EAS) </td></tr>\n",
       "\t<tr><th scope=row>3</th><td>ACH-000857</td><td>breast                </td><td>South Asian (SAS)</td></tr>\n",
       "\t<tr><th scope=row>4</th><td>ACH-000883</td><td>central_nervous_system</td><td>European (EUR)   </td></tr>\n",
       "\t<tr><th scope=row>5</th><td>ACH-000936</td><td>ovary                 </td><td>European (EUR)   </td></tr>\n",
       "\t<tr><th scope=row>6</th><td>ACH-000290</td><td>lung                  </td><td>European (EUR)   </td></tr>\n",
       "</tbody>\n",
       "</table>\n"
      ],
      "text/latex": [
       "A data.frame: 6 × 3\n",
       "\\begin{tabular}{r|lll}\n",
       "  & depmap\\_id & lineage & popmax\\\\\n",
       "  & <chr> & <chr> & <chr>\\\\\n",
       "\\hline\n",
       "\t1 & ACH-000380 & plasma\\_cell            & East Asian (EAS) \\\\\n",
       "\t2 & ACH-000321 & blood                  & East Asian (EAS) \\\\\n",
       "\t3 & ACH-000857 & breast                 & South Asian (SAS)\\\\\n",
       "\t4 & ACH-000883 & central\\_nervous\\_system & European (EUR)   \\\\\n",
       "\t5 & ACH-000936 & ovary                  & European (EUR)   \\\\\n",
       "\t6 & ACH-000290 & lung                   & European (EUR)   \\\\\n",
       "\\end{tabular}\n"
      ],
      "text/markdown": [
       "\n",
       "A data.frame: 6 × 3\n",
       "\n",
       "| <!--/--> | depmap_id &lt;chr&gt; | lineage &lt;chr&gt; | popmax &lt;chr&gt; |\n",
       "|---|---|---|---|\n",
       "| 1 | ACH-000380 | plasma_cell            | East Asian (EAS)  |\n",
       "| 2 | ACH-000321 | blood                  | East Asian (EAS)  |\n",
       "| 3 | ACH-000857 | breast                 | South Asian (SAS) |\n",
       "| 4 | ACH-000883 | central_nervous_system | European (EUR)    |\n",
       "| 5 | ACH-000936 | ovary                  | European (EUR)    |\n",
       "| 6 | ACH-000290 | lung                   | European (EUR)    |\n",
       "\n"
      ],
      "text/plain": [
       "  depmap_id  lineage                popmax           \n",
       "1 ACH-000380 plasma_cell            East Asian (EAS) \n",
       "2 ACH-000321 blood                  East Asian (EAS) \n",
       "3 ACH-000857 breast                 South Asian (SAS)\n",
       "4 ACH-000883 central_nervous_system European (EUR)   \n",
       "5 ACH-000936 ovary                  European (EUR)   \n",
       "6 ACH-000290 lung                   European (EUR)   "
      ]
     },
     "metadata": {},
     "output_type": "display_data"
    }
   ],
   "source": [
    "#Load the cell line ancestry data into R\n",
    "#All of this code is borrowed from the ancestry figure notebook. In the future it is probably better to just code that notebook so that it exports this dataset.\n",
    "\n",
    "#Load in the sample names\n",
    "paste({working_dir}, \"/admixture\", sep = \"\") %>% setwd()\n",
    "sample.names = read.table('admixture.sample.header.for.plot', sep = \"\\t\") %>%\n",
    "pull(1)\n",
    "\n",
    "#Load in lineage annotation\n",
    "paste({working_dir}, \"/admixture\", sep = \"\") %>% setwd()\n",
    "lineage.annotation = read.table('internal-21q3_v15-sample-info.csv', sep = \",\", header = T) %>%\n",
    "rename(\"depmap_id\" = 1, \"lineage\" = 2)\n",
    "\n",
    "\n",
    "#Load in the CCLE Projections\n",
    "paste({working_dir}, \"/admixture\", sep = \"\") %>% setwd()\n",
    "ccle.projections = read.table('merged.ccle.admixture.target.5.Q', sep = \" \") %>%\n",
    "mutate(depmap_id = sample.names) %>%\n",
    "rename(\"EUR\" = 1, \"EAS\" = 2, \"AMR\" = 3, \"SAS\" = 4, \"AFR\" = 5) %>% #These names are based on the assignments from the reference\n",
    "mutate(lineage = depmap_id) %>%\n",
    "mutate(lineage = plyr::mapvalues(lineage, from = lineage.annotation$depmap_id, to = lineage.annotation$lineage, warn_missing = FALSE))\n",
    "\n",
    "#Print the head so that we can take a look at it.\n",
    "head(ccle.projections)\n",
    "\n",
    "max.ancestry = ccle.projections %>%\n",
    "mutate(popmax = case_when(\n",
    "                                EUR >= 0.8 ~ \"European (EUR)\",\n",
    "                                EAS >= 0.8 ~ \"East Asian (EAS)\",\n",
    "                                AMR >= 0.8 ~ \"American (AMR)\",\n",
    "                                SAS >= 0.8 ~ \"South Asian (SAS)\",\n",
    "                                AFR >= 0.8 ~ \"African (AFR)\")) %>%\n",
    "mutate(popmax = replace_na(popmax, \"Admixed\")) %>%\n",
    "select(depmap_id, lineage, popmax) \n",
    "\n",
    "head(max.ancestry)"
   ]
  },
  {
   "cell_type": "code",
   "execution_count": 16,
   "metadata": {},
   "outputs": [
    {
     "data": {
      "text/html": [
       "<style>\n",
       ".list-inline {list-style: none; margin:0; padding: 0}\n",
       ".list-inline>li {display: inline-block}\n",
       ".list-inline>li:not(:last-child)::after {content: \"\\00b7\"; padding: 0 .5ex}\n",
       "</style>\n",
       "<ol class=list-inline><li>'AACTACCTATGACAGTGCCG'</li><li>'AGTTATCAAAAGGAACCACG'</li><li>'ATAGTGCCATGGCATTTCCG'</li><li>'CTTGAACCTGAAACCAACAG'</li></ol>\n"
      ],
      "text/latex": [
       "\\begin{enumerate*}\n",
       "\\item 'AACTACCTATGACAGTGCCG'\n",
       "\\item 'AGTTATCAAAAGGAACCACG'\n",
       "\\item 'ATAGTGCCATGGCATTTCCG'\n",
       "\\item 'CTTGAACCTGAAACCAACAG'\n",
       "\\end{enumerate*}\n"
      ],
      "text/markdown": [
       "1. 'AACTACCTATGACAGTGCCG'\n",
       "2. 'AGTTATCAAAAGGAACCACG'\n",
       "3. 'ATAGTGCCATGGCATTTCCG'\n",
       "4. 'CTTGAACCTGAAACCAACAG'\n",
       "\n",
       "\n"
      ],
      "text/plain": [
       "[1] \"AACTACCTATGACAGTGCCG\" \"AGTTATCAAAAGGAACCACG\" \"ATAGTGCCATGGCATTTCCG\"\n",
       "[4] \"CTTGAACCTGAAACCAACAG\""
      ]
     },
     "metadata": {},
     "output_type": "display_data"
    },
    {
     "name": "stderr",
     "output_type": "stream",
     "text": [
      "Using sgrna, ancestry as id variables\n",
      "\n"
     ]
    },
    {
     "data": {
      "text/html": [
       "<table class=\"dataframe\">\n",
       "<caption>A data.frame: 6 × 4</caption>\n",
       "<thead>\n",
       "\t<tr><th></th><th scope=col>sgrna</th><th scope=col>ancestry</th><th scope=col>variable</th><th scope=col>value</th></tr>\n",
       "\t<tr><th></th><th scope=col>&lt;chr&gt;</th><th scope=col>&lt;chr&gt;</th><th scope=col>&lt;fct&gt;</th><th scope=col>&lt;dbl&gt;</th></tr>\n",
       "</thead>\n",
       "<tbody>\n",
       "\t<tr><th scope=row>1</th><td>ACH-000948</td><td>EUR</td><td>AACTACCTATGACAGTGCCG</td><td>-0.725870376</td></tr>\n",
       "\t<tr><th scope=row>2</th><td>ACH-000948</td><td>EUR</td><td>AACTACCTATGACAGTGCCG</td><td>-0.791364129</td></tr>\n",
       "\t<tr><th scope=row>3</th><td>ACH-000323</td><td>EUR</td><td>AACTACCTATGACAGTGCCG</td><td>-1.121173240</td></tr>\n",
       "\t<tr><th scope=row>4</th><td>ACH-000323</td><td>EUR</td><td>AACTACCTATGACAGTGCCG</td><td>-0.321636241</td></tr>\n",
       "\t<tr><th scope=row>5</th><td>ACH-000520</td><td>EUR</td><td>AACTACCTATGACAGTGCCG</td><td>-1.355364975</td></tr>\n",
       "\t<tr><th scope=row>6</th><td>ACH-000520</td><td>EUR</td><td>AACTACCTATGACAGTGCCG</td><td> 0.007774243</td></tr>\n",
       "</tbody>\n",
       "</table>\n"
      ],
      "text/latex": [
       "A data.frame: 6 × 4\n",
       "\\begin{tabular}{r|llll}\n",
       "  & sgrna & ancestry & variable & value\\\\\n",
       "  & <chr> & <chr> & <fct> & <dbl>\\\\\n",
       "\\hline\n",
       "\t1 & ACH-000948 & EUR & AACTACCTATGACAGTGCCG & -0.725870376\\\\\n",
       "\t2 & ACH-000948 & EUR & AACTACCTATGACAGTGCCG & -0.791364129\\\\\n",
       "\t3 & ACH-000323 & EUR & AACTACCTATGACAGTGCCG & -1.121173240\\\\\n",
       "\t4 & ACH-000323 & EUR & AACTACCTATGACAGTGCCG & -0.321636241\\\\\n",
       "\t5 & ACH-000520 & EUR & AACTACCTATGACAGTGCCG & -1.355364975\\\\\n",
       "\t6 & ACH-000520 & EUR & AACTACCTATGACAGTGCCG &  0.007774243\\\\\n",
       "\\end{tabular}\n"
      ],
      "text/markdown": [
       "\n",
       "A data.frame: 6 × 4\n",
       "\n",
       "| <!--/--> | sgrna &lt;chr&gt; | ancestry &lt;chr&gt; | variable &lt;fct&gt; | value &lt;dbl&gt; |\n",
       "|---|---|---|---|---|\n",
       "| 1 | ACH-000948 | EUR | AACTACCTATGACAGTGCCG | -0.725870376 |\n",
       "| 2 | ACH-000948 | EUR | AACTACCTATGACAGTGCCG | -0.791364129 |\n",
       "| 3 | ACH-000323 | EUR | AACTACCTATGACAGTGCCG | -1.121173240 |\n",
       "| 4 | ACH-000323 | EUR | AACTACCTATGACAGTGCCG | -0.321636241 |\n",
       "| 5 | ACH-000520 | EUR | AACTACCTATGACAGTGCCG | -1.355364975 |\n",
       "| 6 | ACH-000520 | EUR | AACTACCTATGACAGTGCCG |  0.007774243 |\n",
       "\n"
      ],
      "text/plain": [
       "  sgrna      ancestry variable             value       \n",
       "1 ACH-000948 EUR      AACTACCTATGACAGTGCCG -0.725870376\n",
       "2 ACH-000948 EUR      AACTACCTATGACAGTGCCG -0.791364129\n",
       "3 ACH-000323 EUR      AACTACCTATGACAGTGCCG -1.121173240\n",
       "4 ACH-000323 EUR      AACTACCTATGACAGTGCCG -0.321636241\n",
       "5 ACH-000520 EUR      AACTACCTATGACAGTGCCG -1.355364975\n",
       "6 ACH-000520 EUR      AACTACCTATGACAGTGCCG  0.007774243"
      ]
     },
     "metadata": {},
     "output_type": "display_data"
    }
   ],
   "source": [
    "#Process a final dataset that has the ACH ID as the header and the \n",
    "\n",
    "#First, get the barcodes that correspond to CLSPN\n",
    "guides.to.keep = guide.map %>%\n",
    "mutate(gene = word(gene, 1)) %>%\n",
    "filter(gene %in% \"CLSPN\") %>%\n",
    "pull(sgrna)\n",
    "\n",
    "guides.to.keep\n",
    "\n",
    "\n",
    "#Now process the sgRNA dataset.\n",
    "logfc.processed = logfc %>%\n",
    "rename(\"sgrna\" = 1) %>%\n",
    "filter(sgrna %in% guides.to.keep) %>%\n",
    "column_to_rownames(var=\"sgrna\") %>%\n",
    "t() %>%\n",
    "data.frame() %>%\n",
    "rownames_to_column(., \"sgrna\") %>%\n",
    "mutate(sgrna = plyr::mapvalues(sgrna, from = replicate.map$replicate_ID, to = replicate.map$DepMap_ID, warn_missing = FALSE)) %>%\n",
    "mutate(ancestry = sgrna, .after = sgrna) %>%\n",
    "mutate(ancestry = plyr::mapvalues(ancestry, from = lineage.annotation$sample, to = lineage.annotation$ancestry, warn_missing = FALSE)) %>%\n",
    "filter(ancestry %in% c(\"EUR\", \"EAS\")) %>%\n",
    "melt()\n",
    "\n",
    "head(logfc.processed)"
   ]
  },
  {
   "cell_type": "code",
   "execution_count": 19,
   "metadata": {},
   "outputs": [
    {
     "data": {
      "image/png": "[encoded data removed]",
      "text/plain": [
       "plot without title"
      ]
     },
     "metadata": {
      "image/png": {
       "height": 420,
       "width": 420
      }
     },
     "output_type": "display_data"
    }
   ],
   "source": [
    "#Now plot the data\n",
    "set.seed(42)\n",
    "group.colors <- c(\"EAS\" = \"chartreuse4\", \"EUR\" = \"dodgerblue4\") #Make the color vector\n",
    "\n",
    "logfc.processed %>%\n",
    "ggplot(aes(x = variable, y = value, fill = ancestry)) +\n",
    "geom_boxplot(position=position_dodge(0.8)) +\n",
    "scale_fill_manual(values = group.colors) +\n",
    "\n",
    "theme_bw() +\n",
    "\n",
    "theme(\n",
    "panel.border = element_blank(), \n",
    "panel.grid.major = element_blank(),\n",
    "panel.grid.minor = element_blank(), \n",
    "axis.line = element_line(color = \"black\")\n",
    ") +\n",
    "\n",
    "theme(\n",
    "axis.text=element_text(size=12),\n",
    "axis.title=element_text(size=14, face=\"bold\")\n",
    ") +\n",
    "\n",
    "theme(\n",
    "axis.text.x = element_text(face=\"bold\", size=14),\n",
    "axis.text.y = element_text(face=\"bold\", size=14)\n",
    ") +\n",
    "\n",
    "theme(\n",
    "panel.border = element_blank(), panel.grid.major = element_blank(),\n",
    "panel.grid.minor = element_blank(), axis.line = element_line(color = \"black\")\n",
    ") +\n",
    "\n",
    "theme(\n",
    "axis.title.x = element_text(color = \"black\", size = 14, face = \"bold\"),\n",
    "axis.title.y = element_text(color = \"black\", size = 14, face = \"bold\")\n",
    ") +\n",
    "\n",
    "theme(\n",
    "axis.text=element_text(size = 12, face = \"bold\"),\n",
    "axis.title=element_text(size = 14,face = \"bold\")\n",
    ") +\n",
    "\n",
    "theme(\n",
    "legend.title = element_text(size = 14, face = \"bold\"),\n",
    "legend.text = element_text(size = 10, face = \"bold\")\n",
    ") +\n",
    "\n",
    "theme(\n",
    "axis.text.x = element_text(angle = 45, vjust = 1, hjust = 1)\n",
    ") +\n",
    "\n",
    "theme(\n",
    "axis.title.x=element_blank(),\n",
    "axis.text.x=element_blank(),\n",
    "axis.ticks.x=element_blank()\n",
    ") +\n",
    "\n",
    "xlab(\"Gene\") +\n",
    "ylab(\"Guide-level Log(FC)\")  \n",
    "\n",
    "#Put the exported image into the google bucket\n",
    "setwd(\"/home/jupyter/Ancestry/figures\")\n",
    "ggsave(\"ancestry_association_single_guide.pdf\", width = 5, height = 3)\n",
    "system(glue::glue(\"\n",
    "cd /home/jupyter/Ancestry/figures\n",
    "gsutil cp ancestry_association_single_guide.pdf gs://fc-45c0e148-0b1c-4244-9bfc-feb559bbc514\n",
    "\"))\n"
   ]
  },
  {
   "cell_type": "code",
   "execution_count": null,
   "metadata": {},
   "outputs": [],
   "source": []
  },
  {
   "cell_type": "code",
   "execution_count": null,
   "metadata": {},
   "outputs": [],
   "source": []
  },
  {
   "cell_type": "code",
   "execution_count": null,
   "metadata": {},
   "outputs": [],
   "source": []
  },
  {
   "cell_type": "code",
   "execution_count": null,
   "metadata": {},
   "outputs": [],
   "source": []
  }
 ],
 "metadata": {
  "kernelspec": {
   "display_name": "R",
   "language": "R",
   "name": "ir"
  },
  "language_info": {
   "codemirror_mode": "r",
   "file_extension": ".r",
   "mimetype": "text/x-r-source",
   "name": "R",
   "pygments_lexer": "r",
   "version": "4.1.2"
  },
  "toc": {
   "base_numbering": 1,
   "nav_menu": {},
   "number_sections": true,
   "sideBar": true,
   "skip_h1_title": false,
   "title_cell": "Table of Contents",
   "title_sidebar": "Contents",
   "toc_cell": false,
   "toc_position": {},
   "toc_section_display": true,
   "toc_window_display": false
  }
 },
 "nbformat": 4,
 "nbformat_minor": 2
}
