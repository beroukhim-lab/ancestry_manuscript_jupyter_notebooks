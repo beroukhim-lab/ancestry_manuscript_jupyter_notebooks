{
 "cells": [
  {
   "cell_type": "markdown",
   "metadata": {},
   "source": [
    "The purpose of this notebook is to create a nice looking heatmap for figure 3."
   ]
  },
  {
   "cell_type": "code",
   "execution_count": 1,
   "metadata": {},
   "outputs": [
    {
     "name": "stderr",
     "output_type": "stream",
     "text": [
      "Warning message in system(\"timedatectl\", intern = TRUE):\n",
      "“running command 'timedatectl' had status 1”\n",
      "── \u001b[1mAttaching packages\u001b[22m ─────────────────────────────────────── tidyverse 1.3.2 ──\n",
      "\u001b[32m✔\u001b[39m \u001b[34mggplot2\u001b[39m 3.3.6     \u001b[32m✔\u001b[39m \u001b[34mpurrr  \u001b[39m 0.3.4\n",
      "\u001b[32m✔\u001b[39m \u001b[34mtibble \u001b[39m 3.1.8     \u001b[32m✔\u001b[39m \u001b[34mdplyr  \u001b[39m 1.0.9\n",
      "\u001b[32m✔\u001b[39m \u001b[34mtidyr  \u001b[39m 1.2.0     \u001b[32m✔\u001b[39m \u001b[34mstringr\u001b[39m 1.4.0\n",
      "\u001b[32m✔\u001b[39m \u001b[34mreadr  \u001b[39m 2.1.2     \u001b[32m✔\u001b[39m \u001b[34mforcats\u001b[39m 0.5.1\n",
      "── \u001b[1mConflicts\u001b[22m ────────────────────────────────────────── tidyverse_conflicts() ──\n",
      "\u001b[31m✖\u001b[39m \u001b[34mdplyr\u001b[39m::\u001b[32mfilter()\u001b[39m masks \u001b[34mstats\u001b[39m::filter()\n",
      "\u001b[31m✖\u001b[39m \u001b[34mdplyr\u001b[39m::\u001b[32mlag()\u001b[39m    masks \u001b[34mstats\u001b[39m::lag()\n"
     ]
    }
   ],
   "source": [
    "#Set up the environment\n",
    "library(reshape2)\n",
    "library(tidyverse)\n",
    "library(ggExtra)"
   ]
  },
  {
   "cell_type": "code",
   "execution_count": 2,
   "metadata": {},
   "outputs": [
    {
     "data": {
      "text/html": [
       "579"
      ],
      "text/latex": [
       "579"
      ],
      "text/markdown": [
       "579"
      ],
      "text/plain": [
       "[1] 579"
      ]
     },
     "metadata": {},
     "output_type": "display_data"
    }
   ],
   "source": [
    "#Load in the cosmic cancer gene census genes\n",
    "setwd(\"/home/jupyter/Ancestry/analysis/cosmic_heatmap\")\n",
    "cosmic.genes = read.table(\"cosmic_genes.csv\", sep = \",\", header = T)\n",
    "\n",
    "cosmic.tier1 = cosmic.genes %>% \n",
    "filter(Tier %in% \"1\") %>%\n",
    "pull(Gene.Symbol)\n",
    "\n",
    "length(cosmic.tier1)"
   ]
  },
  {
   "cell_type": "code",
   "execution_count": 4,
   "metadata": {},
   "outputs": [
    {
     "data": {
      "text/html": [
       "<table class=\"dataframe\">\n",
       "<caption>A data.frame: 6 × 2</caption>\n",
       "<thead>\n",
       "\t<tr><th></th><th scope=col>sample</th><th scope=col>ancestry</th></tr>\n",
       "\t<tr><th></th><th scope=col>&lt;chr&gt;</th><th scope=col>&lt;chr&gt;</th></tr>\n",
       "</thead>\n",
       "<tbody>\n",
       "\t<tr><th scope=row>1</th><td>CHMI_CHMI3_WGS2</td><td>nfe</td></tr>\n",
       "\t<tr><th scope=row>2</th><td>HG00096        </td><td>nfe</td></tr>\n",
       "\t<tr><th scope=row>3</th><td>HG00097        </td><td>nfe</td></tr>\n",
       "\t<tr><th scope=row>4</th><td>HG00099        </td><td>nfe</td></tr>\n",
       "\t<tr><th scope=row>5</th><td>HG00100        </td><td>nfe</td></tr>\n",
       "\t<tr><th scope=row>6</th><td>HG00101        </td><td>nfe</td></tr>\n",
       "</tbody>\n",
       "</table>\n"
      ],
      "text/latex": [
       "A data.frame: 6 × 2\n",
       "\\begin{tabular}{r|ll}\n",
       "  & sample & ancestry\\\\\n",
       "  & <chr> & <chr>\\\\\n",
       "\\hline\n",
       "\t1 & CHMI\\_CHMI3\\_WGS2 & nfe\\\\\n",
       "\t2 & HG00096         & nfe\\\\\n",
       "\t3 & HG00097         & nfe\\\\\n",
       "\t4 & HG00099         & nfe\\\\\n",
       "\t5 & HG00100         & nfe\\\\\n",
       "\t6 & HG00101         & nfe\\\\\n",
       "\\end{tabular}\n"
      ],
      "text/markdown": [
       "\n",
       "A data.frame: 6 × 2\n",
       "\n",
       "| <!--/--> | sample &lt;chr&gt; | ancestry &lt;chr&gt; |\n",
       "|---|---|---|\n",
       "| 1 | CHMI_CHMI3_WGS2 | nfe |\n",
       "| 2 | HG00096         | nfe |\n",
       "| 3 | HG00097         | nfe |\n",
       "| 4 | HG00099         | nfe |\n",
       "| 5 | HG00100         | nfe |\n",
       "| 6 | HG00101         | nfe |\n",
       "\n"
      ],
      "text/plain": [
       "  sample          ancestry\n",
       "1 CHMI_CHMI3_WGS2 nfe     \n",
       "2 HG00096         nfe     \n",
       "3 HG00097         nfe     \n",
       "4 HG00099         nfe     \n",
       "5 HG00100         nfe     \n",
       "6 HG00101         nfe     "
      ]
     },
     "metadata": {},
     "output_type": "display_data"
    },
    {
     "data": {
      "text/html": [
       "<style>\n",
       ".list-inline {list-style: none; margin:0; padding: 0}\n",
       ".list-inline>li {display: inline-block}\n",
       ".list-inline>li:not(:last-child)::after {content: \"\\00b7\"; padding: 0 .5ex}\n",
       "</style>\n",
       "<ol class=list-inline><li>4151</li><li>2</li></ol>\n"
      ],
      "text/latex": [
       "\\begin{enumerate*}\n",
       "\\item 4151\n",
       "\\item 2\n",
       "\\end{enumerate*}\n"
      ],
      "text/markdown": [
       "1. 4151\n",
       "2. 2\n",
       "\n",
       "\n"
      ],
      "text/plain": [
       "[1] 4151    2"
      ]
     },
     "metadata": {},
     "output_type": "display_data"
    },
    {
     "data": {
      "text/html": [
       "<style>\n",
       ".list-inline {list-style: none; margin:0; padding: 0}\n",
       ".list-inline>li {display: inline-block}\n",
       ".list-inline>li:not(:last-child)::after {content: \"\\00b7\"; padding: 0 .5ex}\n",
       "</style>\n",
       "<ol class=list-inline><li>'HG01108'</li><li>'HG01241'</li><li>'HG01242'</li><li>'HG01243'</li><li>'HG01879'</li><li>'HG01881'</li></ol>\n"
      ],
      "text/latex": [
       "\\begin{enumerate*}\n",
       "\\item 'HG01108'\n",
       "\\item 'HG01241'\n",
       "\\item 'HG01242'\n",
       "\\item 'HG01243'\n",
       "\\item 'HG01879'\n",
       "\\item 'HG01881'\n",
       "\\end{enumerate*}\n"
      ],
      "text/markdown": [
       "1. 'HG01108'\n",
       "2. 'HG01241'\n",
       "3. 'HG01242'\n",
       "4. 'HG01243'\n",
       "5. 'HG01879'\n",
       "6. 'HG01881'\n",
       "\n",
       "\n"
      ],
      "text/plain": [
       "[1] \"HG01108\" \"HG01241\" \"HG01242\" \"HG01243\" \"HG01879\" \"HG01881\""
      ]
     },
     "metadata": {},
     "output_type": "display_data"
    }
   ],
   "source": [
    "#Load in the gnomAD annotation file so that we know which sample belongs to each ancestry group\n",
    "setwd(\"/home/jupyter/Ancestry/raw_data/hgdp\")\n",
    "sample.annotation = read.table(\"gnomad.genomes.v3.1.2.hgdp_1kg_subset_sample_meta.tsv.bgz\", sep = \"\\t\", header = T) %>%\n",
    "select(s, gnomad_population_inference) %>%\n",
    "mutate(gnomad_population_inference = gsub(\"\\\\..*pop\", \"\", gnomad_population_inference)) %>%\n",
    "mutate(gnomad_population_inference = gsub(\"prob..*\", \"\", gnomad_population_inference)) %>%\n",
    "mutate(gnomad_population_inference = gsub(\"..*:\", \"\", gnomad_population_inference)) %>%\n",
    "mutate(gnomad_population_inference = gsub(\",\", \"\", gnomad_population_inference)) %>%\n",
    "rename(\"sample\" = 1, \"ancestry\" = 2)\n",
    "\n",
    "head(sample.annotation)\n",
    "dim(sample.annotation)\n",
    "\n",
    "#get a vector of all African samples\n",
    "gnomad.african.samples = sample.annotation %>% \n",
    "filter(ancestry %in% \"afr\") %>%\n",
    "pull(sample)\n",
    "\n",
    "head(gnomad.african.samples)"
   ]
  },
  {
   "cell_type": "code",
   "execution_count": 6,
   "metadata": {},
   "outputs": [
    {
     "data": {
      "text/html": [
       "<style>\n",
       ".list-inline {list-style: none; margin:0; padding: 0}\n",
       ".list-inline>li {display: inline-block}\n",
       ".list-inline>li:not(:last-child)::after {content: \"\\00b7\"; padding: 0 .5ex}\n",
       "</style>\n",
       "<ol class=list-inline><li>'nfe'</li><li>NA</li><li>'fin'</li><li>'oth'</li><li>'eas'</li><li>'amr'</li><li>'afr'</li><li>'sas'</li><li>'mid'</li></ol>\n"
      ],
      "text/latex": [
       "\\begin{enumerate*}\n",
       "\\item 'nfe'\n",
       "\\item NA\n",
       "\\item 'fin'\n",
       "\\item 'oth'\n",
       "\\item 'eas'\n",
       "\\item 'amr'\n",
       "\\item 'afr'\n",
       "\\item 'sas'\n",
       "\\item 'mid'\n",
       "\\end{enumerate*}\n"
      ],
      "text/markdown": [
       "1. 'nfe'\n",
       "2. NA\n",
       "3. 'fin'\n",
       "4. 'oth'\n",
       "5. 'eas'\n",
       "6. 'amr'\n",
       "7. 'afr'\n",
       "8. 'sas'\n",
       "9. 'mid'\n",
       "\n",
       "\n"
      ],
      "text/plain": [
       "[1] \"nfe\" NA    \"fin\" \"oth\" \"eas\" \"amr\" \"afr\" \"sas\" \"mid\""
      ]
     },
     "metadata": {},
     "output_type": "display_data"
    },
    {
     "data": {
      "text/html": [
       "4120"
      ],
      "text/latex": [
       "4120"
      ],
      "text/markdown": [
       "4120"
      ],
      "text/plain": [
       "[1] 4120"
      ]
     },
     "metadata": {},
     "output_type": "display_data"
    }
   ],
   "source": [
    "#Calculate the number of samples with an assigned ancestry group\n",
    "sample.annotation$ancestry %>% unique()\n",
    "\n",
    "sample.annotation %>%\n",
    "filter(ancestry != \"NA\") %>%\n",
    "nrow()"
   ]
  },
  {
   "cell_type": "code",
   "execution_count": 7,
   "metadata": {},
   "outputs": [
    {
     "data": {
      "text/html": [
       "<table class=\"dataframe\">\n",
       "<caption>A tibble: 9 × 2</caption>\n",
       "<thead>\n",
       "\t<tr><th scope=col>ancestry</th><th scope=col>n()</th></tr>\n",
       "\t<tr><th scope=col>&lt;chr&gt;</th><th scope=col>&lt;int&gt;</th></tr>\n",
       "</thead>\n",
       "<tbody>\n",
       "\t<tr><td>afr</td><td>996</td></tr>\n",
       "\t<tr><td>amr</td><td>547</td></tr>\n",
       "\t<tr><td>eas</td><td>808</td></tr>\n",
       "\t<tr><td>fin</td><td> 92</td></tr>\n",
       "\t<tr><td>mid</td><td>128</td></tr>\n",
       "\t<tr><td>nfe</td><td>682</td></tr>\n",
       "\t<tr><td>oth</td><td> 79</td></tr>\n",
       "\t<tr><td>sas</td><td>788</td></tr>\n",
       "\t<tr><td>NA </td><td> 31</td></tr>\n",
       "</tbody>\n",
       "</table>\n"
      ],
      "text/latex": [
       "A tibble: 9 × 2\n",
       "\\begin{tabular}{ll}\n",
       " ancestry & n()\\\\\n",
       " <chr> & <int>\\\\\n",
       "\\hline\n",
       "\t afr & 996\\\\\n",
       "\t amr & 547\\\\\n",
       "\t eas & 808\\\\\n",
       "\t fin &  92\\\\\n",
       "\t mid & 128\\\\\n",
       "\t nfe & 682\\\\\n",
       "\t oth &  79\\\\\n",
       "\t sas & 788\\\\\n",
       "\t NA  &  31\\\\\n",
       "\\end{tabular}\n"
      ],
      "text/markdown": [
       "\n",
       "A tibble: 9 × 2\n",
       "\n",
       "| ancestry &lt;chr&gt; | n() &lt;int&gt; |\n",
       "|---|---|\n",
       "| afr | 996 |\n",
       "| amr | 547 |\n",
       "| eas | 808 |\n",
       "| fin |  92 |\n",
       "| mid | 128 |\n",
       "| nfe | 682 |\n",
       "| oth |  79 |\n",
       "| sas | 788 |\n",
       "| NA  |  31 |\n",
       "\n"
      ],
      "text/plain": [
       "  ancestry n()\n",
       "1 afr      996\n",
       "2 amr      547\n",
       "3 eas      808\n",
       "4 fin       92\n",
       "5 mid      128\n",
       "6 nfe      682\n",
       "7 oth       79\n",
       "8 sas      788\n",
       "9 NA        31"
      ]
     },
     "metadata": {},
     "output_type": "display_data"
    }
   ],
   "source": [
    "#Calculate the number of samples for each ancestry group\n",
    "sample.annotation %>%\n",
    "group_by(ancestry) %>%\n",
    "summarise(n())"
   ]
  },
  {
   "cell_type": "code",
   "execution_count": 8,
   "metadata": {},
   "outputs": [
    {
     "data": {
      "text/html": [
       "774"
      ],
      "text/latex": [
       "774"
      ],
      "text/markdown": [
       "774"
      ],
      "text/plain": [
       "[1] 774"
      ]
     },
     "metadata": {},
     "output_type": "display_data"
    }
   ],
   "source": [
    "92+682"
   ]
  },
  {
   "cell_type": "code",
   "execution_count": 9,
   "metadata": {},
   "outputs": [
    {
     "data": {
      "text/html": [
       "<table class=\"dataframe\">\n",
       "<caption>A data.frame: 6 × 4155</caption>\n",
       "<thead>\n",
       "\t<tr><th></th><th scope=col>seq</th><th scope=col>chr</th><th scope=col>posL</th><th scope=col>posR</th><th scope=col>CHMI_CHMI3_WGS2</th><th scope=col>LP6005441.DNA_F08</th><th scope=col>HGDP00843</th><th scope=col>HGDP00392</th><th scope=col>LP6005441.DNA_H03</th><th scope=col>HGDP00544</th><th scope=col>⋯</th><th scope=col>HG00288</th><th scope=col>HG00290</th><th scope=col>HG00304</th><th scope=col>HG01765</th><th scope=col>HG01766</th><th scope=col>HG01767</th><th scope=col>HG01768</th><th scope=col>HG01785</th><th scope=col>HG01786</th><th scope=col>HG02219</th></tr>\n",
       "\t<tr><th></th><th scope=col>&lt;chr&gt;</th><th scope=col>&lt;chr&gt;</th><th scope=col>&lt;int&gt;</th><th scope=col>&lt;int&gt;</th><th scope=col>&lt;int&gt;</th><th scope=col>&lt;int&gt;</th><th scope=col>&lt;int&gt;</th><th scope=col>&lt;int&gt;</th><th scope=col>&lt;int&gt;</th><th scope=col>&lt;int&gt;</th><th scope=col>⋯</th><th scope=col>&lt;int&gt;</th><th scope=col>&lt;int&gt;</th><th scope=col>&lt;int&gt;</th><th scope=col>&lt;int&gt;</th><th scope=col>&lt;int&gt;</th><th scope=col>&lt;int&gt;</th><th scope=col>&lt;int&gt;</th><th scope=col>&lt;int&gt;</th><th scope=col>&lt;int&gt;</th><th scope=col>&lt;int&gt;</th></tr>\n",
       "</thead>\n",
       "<tbody>\n",
       "\t<tr><th scope=row>1</th><td>AAATCCCCCTGAAGGTACCG</td><td>chr22</td><td>46626903</td><td>46626925</td><td>0</td><td>0</td><td>0</td><td>0</td><td>0</td><td>0</td><td>⋯</td><td>0</td><td>0</td><td>0</td><td>0</td><td>0</td><td>0</td><td>0</td><td>0</td><td>0</td><td>0</td></tr>\n",
       "\t<tr><th scope=row>2</th><td>AACAAGAAGGAGATTCAGAA</td><td>chr22</td><td>16991998</td><td>16992020</td><td>0</td><td>0</td><td>0</td><td>0</td><td>0</td><td>0</td><td>⋯</td><td>0</td><td>0</td><td>0</td><td>0</td><td>0</td><td>0</td><td>0</td><td>0</td><td>0</td><td>0</td></tr>\n",
       "\t<tr><th scope=row>3</th><td>AACACCGGTGAGGTATATCG</td><td>chr22</td><td>24557741</td><td>24557763</td><td>0</td><td>0</td><td>0</td><td>0</td><td>0</td><td>0</td><td>⋯</td><td>0</td><td>0</td><td>0</td><td>0</td><td>0</td><td>0</td><td>0</td><td>0</td><td>0</td><td>0</td></tr>\n",
       "\t<tr><th scope=row>4</th><td>AACCAGCAGCGCAAAAACGG</td><td>chr22</td><td>31345490</td><td>31345512</td><td>0</td><td>0</td><td>0</td><td>0</td><td>0</td><td>0</td><td>⋯</td><td>0</td><td>0</td><td>0</td><td>0</td><td>0</td><td>0</td><td>0</td><td>0</td><td>0</td><td>0</td></tr>\n",
       "\t<tr><th scope=row>5</th><td>AACCCGGACGAGGACCCGCG</td><td>chr22</td><td>31291036</td><td>31291058</td><td>0</td><td>0</td><td>0</td><td>0</td><td>0</td><td>0</td><td>⋯</td><td>0</td><td>0</td><td>0</td><td>0</td><td>0</td><td>0</td><td>0</td><td>0</td><td>0</td><td>0</td></tr>\n",
       "\t<tr><th scope=row>6</th><td>AACGGCATATGCGGCCACGA</td><td>chr22</td><td>30532670</td><td>30532692</td><td>0</td><td>0</td><td>0</td><td>0</td><td>0</td><td>0</td><td>⋯</td><td>0</td><td>0</td><td>0</td><td>0</td><td>0</td><td>0</td><td>0</td><td>0</td><td>0</td><td>0</td></tr>\n",
       "</tbody>\n",
       "</table>\n"
      ],
      "text/latex": [
       "A data.frame: 6 × 4155\n",
       "\\begin{tabular}{r|lllllllllllllllllllll}\n",
       "  & seq & chr & posL & posR & CHMI\\_CHMI3\\_WGS2 & LP6005441.DNA\\_F08 & HGDP00843 & HGDP00392 & LP6005441.DNA\\_H03 & HGDP00544 & ⋯ & HG00288 & HG00290 & HG00304 & HG01765 & HG01766 & HG01767 & HG01768 & HG01785 & HG01786 & HG02219\\\\\n",
       "  & <chr> & <chr> & <int> & <int> & <int> & <int> & <int> & <int> & <int> & <int> & ⋯ & <int> & <int> & <int> & <int> & <int> & <int> & <int> & <int> & <int> & <int>\\\\\n",
       "\\hline\n",
       "\t1 & AAATCCCCCTGAAGGTACCG & chr22 & 46626903 & 46626925 & 0 & 0 & 0 & 0 & 0 & 0 & ⋯ & 0 & 0 & 0 & 0 & 0 & 0 & 0 & 0 & 0 & 0\\\\\n",
       "\t2 & AACAAGAAGGAGATTCAGAA & chr22 & 16991998 & 16992020 & 0 & 0 & 0 & 0 & 0 & 0 & ⋯ & 0 & 0 & 0 & 0 & 0 & 0 & 0 & 0 & 0 & 0\\\\\n",
       "\t3 & AACACCGGTGAGGTATATCG & chr22 & 24557741 & 24557763 & 0 & 0 & 0 & 0 & 0 & 0 & ⋯ & 0 & 0 & 0 & 0 & 0 & 0 & 0 & 0 & 0 & 0\\\\\n",
       "\t4 & AACCAGCAGCGCAAAAACGG & chr22 & 31345490 & 31345512 & 0 & 0 & 0 & 0 & 0 & 0 & ⋯ & 0 & 0 & 0 & 0 & 0 & 0 & 0 & 0 & 0 & 0\\\\\n",
       "\t5 & AACCCGGACGAGGACCCGCG & chr22 & 31291036 & 31291058 & 0 & 0 & 0 & 0 & 0 & 0 & ⋯ & 0 & 0 & 0 & 0 & 0 & 0 & 0 & 0 & 0 & 0\\\\\n",
       "\t6 & AACGGCATATGCGGCCACGA & chr22 & 30532670 & 30532692 & 0 & 0 & 0 & 0 & 0 & 0 & ⋯ & 0 & 0 & 0 & 0 & 0 & 0 & 0 & 0 & 0 & 0\\\\\n",
       "\\end{tabular}\n"
      ],
      "text/markdown": [
       "\n",
       "A data.frame: 6 × 4155\n",
       "\n",
       "| <!--/--> | seq &lt;chr&gt; | chr &lt;chr&gt; | posL &lt;int&gt; | posR &lt;int&gt; | CHMI_CHMI3_WGS2 &lt;int&gt; | LP6005441.DNA_F08 &lt;int&gt; | HGDP00843 &lt;int&gt; | HGDP00392 &lt;int&gt; | LP6005441.DNA_H03 &lt;int&gt; | HGDP00544 &lt;int&gt; | ⋯ ⋯ | HG00288 &lt;int&gt; | HG00290 &lt;int&gt; | HG00304 &lt;int&gt; | HG01765 &lt;int&gt; | HG01766 &lt;int&gt; | HG01767 &lt;int&gt; | HG01768 &lt;int&gt; | HG01785 &lt;int&gt; | HG01786 &lt;int&gt; | HG02219 &lt;int&gt; |\n",
       "|---|---|---|---|---|---|---|---|---|---|---|---|---|---|---|---|---|---|---|---|---|---|\n",
       "| 1 | AAATCCCCCTGAAGGTACCG | chr22 | 46626903 | 46626925 | 0 | 0 | 0 | 0 | 0 | 0 | ⋯ | 0 | 0 | 0 | 0 | 0 | 0 | 0 | 0 | 0 | 0 |\n",
       "| 2 | AACAAGAAGGAGATTCAGAA | chr22 | 16991998 | 16992020 | 0 | 0 | 0 | 0 | 0 | 0 | ⋯ | 0 | 0 | 0 | 0 | 0 | 0 | 0 | 0 | 0 | 0 |\n",
       "| 3 | AACACCGGTGAGGTATATCG | chr22 | 24557741 | 24557763 | 0 | 0 | 0 | 0 | 0 | 0 | ⋯ | 0 | 0 | 0 | 0 | 0 | 0 | 0 | 0 | 0 | 0 |\n",
       "| 4 | AACCAGCAGCGCAAAAACGG | chr22 | 31345490 | 31345512 | 0 | 0 | 0 | 0 | 0 | 0 | ⋯ | 0 | 0 | 0 | 0 | 0 | 0 | 0 | 0 | 0 | 0 |\n",
       "| 5 | AACCCGGACGAGGACCCGCG | chr22 | 31291036 | 31291058 | 0 | 0 | 0 | 0 | 0 | 0 | ⋯ | 0 | 0 | 0 | 0 | 0 | 0 | 0 | 0 | 0 | 0 |\n",
       "| 6 | AACGGCATATGCGGCCACGA | chr22 | 30532670 | 30532692 | 0 | 0 | 0 | 0 | 0 | 0 | ⋯ | 0 | 0 | 0 | 0 | 0 | 0 | 0 | 0 | 0 | 0 |\n",
       "\n"
      ],
      "text/plain": [
       "  seq                  chr   posL     posR     CHMI_CHMI3_WGS2\n",
       "1 AAATCCCCCTGAAGGTACCG chr22 46626903 46626925 0              \n",
       "2 AACAAGAAGGAGATTCAGAA chr22 16991998 16992020 0              \n",
       "3 AACACCGGTGAGGTATATCG chr22 24557741 24557763 0              \n",
       "4 AACCAGCAGCGCAAAAACGG chr22 31345490 31345512 0              \n",
       "5 AACCCGGACGAGGACCCGCG chr22 31291036 31291058 0              \n",
       "6 AACGGCATATGCGGCCACGA chr22 30532670 30532692 0              \n",
       "  LP6005441.DNA_F08 HGDP00843 HGDP00392 LP6005441.DNA_H03 HGDP00544 ⋯ HG00288\n",
       "1 0                 0         0         0                 0         ⋯ 0      \n",
       "2 0                 0         0         0                 0         ⋯ 0      \n",
       "3 0                 0         0         0                 0         ⋯ 0      \n",
       "4 0                 0         0         0                 0         ⋯ 0      \n",
       "5 0                 0         0         0                 0         ⋯ 0      \n",
       "6 0                 0         0         0                 0         ⋯ 0      \n",
       "  HG00290 HG00304 HG01765 HG01766 HG01767 HG01768 HG01785 HG01786 HG02219\n",
       "1 0       0       0       0       0       0       0       0       0      \n",
       "2 0       0       0       0       0       0       0       0       0      \n",
       "3 0       0       0       0       0       0       0       0       0      \n",
       "4 0       0       0       0       0       0       0       0       0      \n",
       "5 0       0       0       0       0       0       0       0       0      \n",
       "6 0       0       0       0       0       0       0       0       0      "
      ]
     },
     "metadata": {},
     "output_type": "display_data"
    }
   ],
   "source": [
    "#Load in the avana SNP/guide matrix\n",
    "setwd(\"/home/jupyter/Ancestry/analysis/cosmic_heatmap\")\n",
    "avana.matrix = read.table(\"final_avana.txt\", sep = \"\\t\", header = T)\n",
    "\n",
    "head(avana.matrix)"
   ]
  },
  {
   "cell_type": "code",
   "execution_count": 10,
   "metadata": {},
   "outputs": [
    {
     "data": {
      "text/html": [
       "<table class=\"dataframe\">\n",
       "<caption>A data.frame: 6 × 2</caption>\n",
       "<thead>\n",
       "\t<tr><th></th><th scope=col>seq</th><th scope=col>gene</th></tr>\n",
       "\t<tr><th></th><th scope=col>&lt;chr&gt;</th><th scope=col>&lt;chr&gt;</th></tr>\n",
       "</thead>\n",
       "<tbody>\n",
       "\t<tr><th scope=row>1</th><td>AAAAAAATCCAGCAATGCAG</td><td>SHOC2  </td></tr>\n",
       "\t<tr><th scope=row>2</th><td>AAAAAACCCGTAGATAGCCT</td><td>NDUFA12</td></tr>\n",
       "\t<tr><th scope=row>3</th><td>AAAAAAGAAGAAAAAACCAG</td><td>SDAD1  </td></tr>\n",
       "\t<tr><th scope=row>4</th><td>AAAAAAGCTCAAGAAGGAGG</td><td>FAM98A </td></tr>\n",
       "\t<tr><th scope=row>5</th><td>AAAAAAGGCTGTAAAAGCGT</td><td>ZNF253 </td></tr>\n",
       "\t<tr><th scope=row>6</th><td>AAAAAAGGGCTCCAAAAAGG</td><td>H2BC7  </td></tr>\n",
       "</tbody>\n",
       "</table>\n"
      ],
      "text/latex": [
       "A data.frame: 6 × 2\n",
       "\\begin{tabular}{r|ll}\n",
       "  & seq & gene\\\\\n",
       "  & <chr> & <chr>\\\\\n",
       "\\hline\n",
       "\t1 & AAAAAAATCCAGCAATGCAG & SHOC2  \\\\\n",
       "\t2 & AAAAAACCCGTAGATAGCCT & NDUFA12\\\\\n",
       "\t3 & AAAAAAGAAGAAAAAACCAG & SDAD1  \\\\\n",
       "\t4 & AAAAAAGCTCAAGAAGGAGG & FAM98A \\\\\n",
       "\t5 & AAAAAAGGCTGTAAAAGCGT & ZNF253 \\\\\n",
       "\t6 & AAAAAAGGGCTCCAAAAAGG & H2BC7  \\\\\n",
       "\\end{tabular}\n"
      ],
      "text/markdown": [
       "\n",
       "A data.frame: 6 × 2\n",
       "\n",
       "| <!--/--> | seq &lt;chr&gt; | gene &lt;chr&gt; |\n",
       "|---|---|---|\n",
       "| 1 | AAAAAAATCCAGCAATGCAG | SHOC2   |\n",
       "| 2 | AAAAAACCCGTAGATAGCCT | NDUFA12 |\n",
       "| 3 | AAAAAAGAAGAAAAAACCAG | SDAD1   |\n",
       "| 4 | AAAAAAGCTCAAGAAGGAGG | FAM98A  |\n",
       "| 5 | AAAAAAGGCTGTAAAAGCGT | ZNF253  |\n",
       "| 6 | AAAAAAGGGCTCCAAAAAGG | H2BC7   |\n",
       "\n"
      ],
      "text/plain": [
       "  seq                  gene   \n",
       "1 AAAAAAATCCAGCAATGCAG SHOC2  \n",
       "2 AAAAAACCCGTAGATAGCCT NDUFA12\n",
       "3 AAAAAAGAAGAAAAAACCAG SDAD1  \n",
       "4 AAAAAAGCTCAAGAAGGAGG FAM98A \n",
       "5 AAAAAAGGCTGTAAAAGCGT ZNF253 \n",
       "6 AAAAAAGGGCTCCAAAAAGG H2BC7  "
      ]
     },
     "metadata": {},
     "output_type": "display_data"
    }
   ],
   "source": [
    "#Load in the guide-to-gene mapping file\n",
    "setwd(\"/home/jupyter/Ancestry/analysis/cosmic_heatmap\")\n",
    "guide.to.gene = read.table(\"internal-21q4_v9-achilles-guide-map.csv\", sep = \",\", header = T) %>%\n",
    "mutate(gene = word(gene, 1)) %>%\n",
    "select(sgrna, gene) %>%\n",
    "rename(\"seq\" = sgrna)\n",
    "\n",
    "head(guide.to.gene)"
   ]
  },
  {
   "cell_type": "code",
   "execution_count": 11,
   "metadata": {
    "scrolled": false
   },
   "outputs": [
    {
     "name": "stderr",
     "output_type": "stream",
     "text": [
      "Using seq as id variables\n",
      "\n",
      "\u001b[1m\u001b[22m`summarise()` has grouped output by 'seq'. You can override using the `.groups`\n",
      "argument.\n"
     ]
    },
    {
     "data": {
      "text/html": [
       "<table class=\"dataframe\">\n",
       "<caption>A data.frame: 6 × 2</caption>\n",
       "<thead>\n",
       "\t<tr><th></th><th scope=col>snps</th><th scope=col>gene</th></tr>\n",
       "\t<tr><th></th><th scope=col>&lt;dbl&gt;</th><th scope=col>&lt;chr&gt;</th></tr>\n",
       "</thead>\n",
       "<tbody>\n",
       "\t<tr><th scope=row>1</th><td>103</td><td>DNMT3A</td></tr>\n",
       "\t<tr><th scope=row>2</th><td>107</td><td>MAML2 </td></tr>\n",
       "\t<tr><th scope=row>3</th><td>107</td><td>WWTR1 </td></tr>\n",
       "\t<tr><th scope=row>4</th><td>110</td><td>HIP1  </td></tr>\n",
       "\t<tr><th scope=row>5</th><td>117</td><td>NTRK1 </td></tr>\n",
       "\t<tr><th scope=row>6</th><td>120</td><td>EP300 </td></tr>\n",
       "</tbody>\n",
       "</table>\n"
      ],
      "text/latex": [
       "A data.frame: 6 × 2\n",
       "\\begin{tabular}{r|ll}\n",
       "  & snps & gene\\\\\n",
       "  & <dbl> & <chr>\\\\\n",
       "\\hline\n",
       "\t1 & 103 & DNMT3A\\\\\n",
       "\t2 & 107 & MAML2 \\\\\n",
       "\t3 & 107 & WWTR1 \\\\\n",
       "\t4 & 110 & HIP1  \\\\\n",
       "\t5 & 117 & NTRK1 \\\\\n",
       "\t6 & 120 & EP300 \\\\\n",
       "\\end{tabular}\n"
      ],
      "text/markdown": [
       "\n",
       "A data.frame: 6 × 2\n",
       "\n",
       "| <!--/--> | snps &lt;dbl&gt; | gene &lt;chr&gt; |\n",
       "|---|---|---|\n",
       "| 1 | 103 | DNMT3A |\n",
       "| 2 | 107 | MAML2  |\n",
       "| 3 | 107 | WWTR1  |\n",
       "| 4 | 110 | HIP1   |\n",
       "| 5 | 117 | NTRK1  |\n",
       "| 6 | 120 | EP300  |\n",
       "\n"
      ],
      "text/plain": [
       "  snps gene  \n",
       "1 103  DNMT3A\n",
       "2 107  MAML2 \n",
       "3 107  WWTR1 \n",
       "4 110  HIP1  \n",
       "5 117  NTRK1 \n",
       "6 120  EP300 "
      ]
     },
     "metadata": {},
     "output_type": "display_data"
    },
    {
     "data": {
      "text/html": [
       "<style>\n",
       ".dl-inline {width: auto; margin:0; padding: 0}\n",
       ".dl-inline>dt, .dl-inline>dd {float: none; width: auto; display: inline-block}\n",
       ".dl-inline>dt::after {content: \":\\0020\"; padding-right: .5ex}\n",
       ".dl-inline>dt:not(:first-of-type) {padding-left: .5ex}\n",
       "</style><dl class=dl-inline><dt>HGDP00986</dt><dd>10</dd><dt>HG03027</dt><dd>11</dd><dt>HGDP00455</dt><dd>11</dd><dt>HG02978</dt><dd>12</dd><dt>HG03476</dt><dd>12</dd><dt>HGDP00914</dt><dd>12</dd></dl>\n"
      ],
      "text/latex": [
       "\\begin{description*}\n",
       "\\item[HGDP00986] 10\n",
       "\\item[HG03027] 11\n",
       "\\item[HGDP00455] 11\n",
       "\\item[HG02978] 12\n",
       "\\item[HG03476] 12\n",
       "\\item[HGDP00914] 12\n",
       "\\end{description*}\n"
      ],
      "text/markdown": [
       "HGDP00986\n",
       ":   10HG03027\n",
       ":   11HGDP00455\n",
       ":   11HG02978\n",
       ":   12HG03476\n",
       ":   12HGDP00914\n",
       ":   12\n",
       "\n"
      ],
      "text/plain": [
       "HGDP00986   HG03027 HGDP00455   HG02978   HG03476 HGDP00914 \n",
       "       10        11        11        12        12        12 "
      ]
     },
     "metadata": {},
     "output_type": "display_data"
    }
   ],
   "source": [
    "#Filter the SNP matrix so that it only includes the cosmic tier1 genes\n",
    "cosmic.tier1.matrix = avana.matrix %>% \n",
    "mutate(seq = plyr::mapvalues(from = guide.to.gene$seq, to = guide.to.gene$gene, seq, warn_missing = FALSE)) %>%\n",
    "select(-chr, -posL, -posR) %>%\n",
    "filter(seq %in% all_of(cosmic.tier1)) %>%\n",
    "melt() %>%\n",
    "group_by(seq, variable) %>%\n",
    "summarise(sum(value)) %>%\n",
    "rename(\"value\" = 3) %>%\n",
    "dcast(formula = seq ~ variable, fill = \"value\")\n",
    "\n",
    "#Convert the numbers to numeric\n",
    "cosmic.tier1.matrix[2:ncol(cosmic.tier1.matrix)] = cosmic.tier1.matrix[2:ncol(cosmic.tier1.matrix)] %>% \n",
    "apply(2, as.numeric) %>%\n",
    "apply(2, function(x) ifelse(x >= 1, 1, 0))\n",
    "      \n",
    "      \n",
    "#Filter cosmic.tier1.matrix so that it only includes African samples\n",
    "intersecting.samples = intersect(gnomad.african.samples, colnames(cosmic.tier1.matrix))\n",
    "african.cosmic.tier1.matrix = cosmic.tier1.matrix %>%\n",
    "select(seq, all_of(intersecting.samples))\n",
    "      \n",
    "      \n",
    "#Calculate the total # affected per sample and per gene, store as two vectors that are ordered from most to least\n",
    "snps.per.gene = african.cosmic.tier1.matrix %>% \n",
    "      select(-seq) %>% \n",
    "      apply(1, sum) %>% \n",
    "      data.frame() %>% \n",
    "      cbind(african.cosmic.tier1.matrix$seq) %>% \n",
    "      rename(\"snps\" = 1, \"gene\" = 2) %>% \n",
    "      filter(snps > 98) %>%\n",
    "      arrange(snps)\n",
    "      \n",
    "snps.per.sample = african.cosmic.tier1.matrix %>% \n",
    "      select(-seq,) %>% \n",
    "      apply(2, sum) %>% \n",
    "      sort()\n",
    "      \n",
    "head(snps.per.gene)\n",
    "head(snps.per.sample)"
   ]
  },
  {
   "cell_type": "code",
   "execution_count": 94,
   "metadata": {},
   "outputs": [
    {
     "name": "stderr",
     "output_type": "stream",
     "text": [
      "Using seq as id variables\n",
      "\n"
     ]
    },
    {
     "data": {
      "image/png": "[encoded data removed]",
      "text/plain": [
       "plot without title"
      ]
     },
     "metadata": {
      "image/png": {
       "height": 420,
       "width": 420
      }
     },
     "output_type": "display_data"
    }
   ],
   "source": [
    "#Plot the plot!\n",
    "african.cosmic.tier1.matrix %>%\n",
    "melt() %>%\n",
    "mutate(variable = factor(variable, levels = names(snps.per.sample))) %>%\n",
    "mutate(seq = factor(seq, levels = snps.per.gene$gene)) %>%\n",
    "filter(seq != \"NA\") %>%\n",
    "ggplot(aes(x = variable, y = seq, fill = value)) + \n",
    "geom_tile() +\n",
    "\n",
    "scale_fill_gradient2(low = \"white\", high = \"darkorange2\", \n",
    "limit = c(0, 1)) +\n",
    "\n",
    "theme_bw() +\n",
    "\n",
    "theme(\n",
    "panel.border = element_blank(), panel.grid.major = element_blank(),\n",
    "panel.grid.minor = element_blank(), axis.line = element_line(color = \"black\")\n",
    ") +\n",
    "\n",
    "theme(\n",
    "axis.title.x = element_text(color = \"black\", size = 14, face = \"bold\"),\n",
    "axis.title.y = element_text(color = \"black\", size = 14, face = \"bold\")\n",
    ") +\n",
    "\n",
    "theme(\n",
    "axis.text=element_text(size = 12, face = \"bold\"),\n",
    "axis.title=element_text(size = 14,face = \"bold\")\n",
    ") +\n",
    "\n",
    "theme(\n",
    "legend.title = element_text(size = 14, face = \"bold\"),\n",
    "legend.text = element_text(size = 10, face = \"bold\")\n",
    ") +\n",
    "\n",
    "theme(axis.text.x = element_blank(),\n",
    "     axis.ticks.x = element_blank()) +\n",
    "\n",
    "ylab(\"Gene\") +\n",
    "xlab(\"978 individuals of African descent\")\n",
    "\n",
    "setwd(\"/home/jupyter/Ancestry/analysis/cosmic_heatmap\")\n",
    "ggsave(\"affected_cosmic_genes_heatmap.pdf\", width = 5, height = 10)\n",
    "system(glue::glue(\"\n",
    "cd /home/jupyter/Ancestry/analysis/cosmic_heatmap\n",
    "gsutil cp affected_cosmic_genes_heatmap.pdf gs://fc-45c0e148-0b1c-4244-9bfc-feb559bbc514\n",
    "\"))"
   ]
  },
  {
   "cell_type": "code",
   "execution_count": 14,
   "metadata": {},
   "outputs": [
    {
     "name": "stderr",
     "output_type": "stream",
     "text": [
      "Using seq as id variables\n",
      "\n"
     ]
    },
    {
     "data": {
      "image/png": "[encoded data removed]",
      "text/plain": [
       "plot without title"
      ]
     },
     "metadata": {
      "image/png": {
       "height": 420,
       "width": 420
      }
     },
     "output_type": "display_data"
    }
   ],
   "source": [
    "#Create a version of this figure with only a few genes\n",
    "genes.to.keep = c(\"APOBEC3B\", \"HLA-A\", \"EGFR\", \"FOXA1\", \"REL\", \"NOTCH2\", \"ATM\", \"FGFR3\")\n",
    "\n",
    "african.cosmic.tier1.matrix %>%\n",
    "melt() %>%\n",
    "mutate(variable = factor(variable, levels = names(snps.per.sample))) %>%\n",
    "mutate(seq = factor(seq, levels = snps.per.gene$gene)) %>%\n",
    "filter(seq != \"NA\") %>%\n",
    "filter(seq %in% all_of(genes.to.keep)) %>%\n",
    "ggplot(aes(x = variable, y = seq, fill = value)) + \n",
    "geom_tile() +\n",
    "\n",
    "scale_fill_gradient2(low = \"white\", high = \"darkorange2\", \n",
    "limit = c(0, 1)) +\n",
    "\n",
    "theme_bw() +\n",
    "\n",
    "theme(\n",
    "panel.border = element_blank(), panel.grid.major = element_blank(),\n",
    "panel.grid.minor = element_blank(), axis.line = element_line(color = \"black\")\n",
    ") +\n",
    "\n",
    "theme(\n",
    "axis.title.x = element_text(color = \"black\", size = 14, face = \"bold\"),\n",
    "axis.title.y = element_text(color = \"black\", size = 14, face = \"bold\")\n",
    ") +\n",
    "\n",
    "theme(\n",
    "axis.text=element_text(size = 12, face = \"bold\"),\n",
    "axis.title=element_text(size = 14,face = \"bold\")\n",
    ") +\n",
    "\n",
    "theme(\n",
    "legend.title = element_text(size = 14, face = \"bold\"),\n",
    "legend.text = element_text(size = 10, face = \"bold\")\n",
    ") +\n",
    "\n",
    "theme(axis.text.x = element_blank(),\n",
    "     axis.ticks.x = element_blank()) +\n",
    "\n",
    "ylab(\"Gene\") +\n",
    "xlab(\"978 individuals of African descent\")\n",
    "\n",
    "setwd(\"/home/jupyter/Ancestry/analysis/cosmic_heatmap\")\n",
    "ggsave(\"few_genes_affected_cosmic_genes_heatmap.pdf\", width = 5, height = 5)\n",
    "system(glue::glue(\"\n",
    "cd /home/jupyter/Ancestry/analysis/cosmic_heatmap\n",
    "gsutil cp few_genes_affected_cosmic_genes_heatmap.pdf gs://fc-45c0e148-0b1c-4244-9bfc-feb559bbc514\n",
    "\"))"
   ]
  },
  {
   "cell_type": "markdown",
   "metadata": {},
   "source": [
    "# Create the propaganda version of the figure"
   ]
  },
  {
   "cell_type": "code",
   "execution_count": 16,
   "metadata": {},
   "outputs": [],
   "source": [
    "#Create a vector that has a subset of the cosmic Tier1 genes\n",
    "#This only includes genes flagged as being oncogenes or tumor suppressors\n",
    "cosmic.tier1.nofusion = cosmic.genes %>% \n",
    "filter(Role.in.Cancer %in% c(\"oncogene\", \"TSG\")) %>%\n",
    "filter(Tier %in% \"1\") %>%\n",
    "pull(Gene.Symbol)"
   ]
  },
  {
   "cell_type": "code",
   "execution_count": 17,
   "metadata": {},
   "outputs": [
    {
     "name": "stderr",
     "output_type": "stream",
     "text": [
      "Using seq as id variables\n",
      "\n",
      "\u001b[1m\u001b[22m`summarise()` has grouped output by 'seq'. You can override using the `.groups`\n",
      "argument.\n"
     ]
    },
    {
     "data": {
      "text/html": [
       "<table class=\"dataframe\">\n",
       "<caption>A data.frame: 6 × 4152</caption>\n",
       "<thead>\n",
       "\t<tr><th></th><th scope=col>seq</th><th scope=col>CHMI_CHMI3_WGS2</th><th scope=col>LP6005441.DNA_F08</th><th scope=col>HGDP00843</th><th scope=col>HGDP00392</th><th scope=col>LP6005441.DNA_H03</th><th scope=col>HGDP00544</th><th scope=col>HGDP01053</th><th scope=col>HGDP00191</th><th scope=col>HGDP01399</th><th scope=col>⋯</th><th scope=col>HG00288</th><th scope=col>HG00290</th><th scope=col>HG00304</th><th scope=col>HG01765</th><th scope=col>HG01766</th><th scope=col>HG01767</th><th scope=col>HG01768</th><th scope=col>HG01785</th><th scope=col>HG01786</th><th scope=col>HG02219</th></tr>\n",
       "\t<tr><th></th><th scope=col>&lt;chr&gt;</th><th scope=col>&lt;dbl&gt;</th><th scope=col>&lt;dbl&gt;</th><th scope=col>&lt;dbl&gt;</th><th scope=col>&lt;dbl&gt;</th><th scope=col>&lt;dbl&gt;</th><th scope=col>&lt;dbl&gt;</th><th scope=col>&lt;dbl&gt;</th><th scope=col>&lt;dbl&gt;</th><th scope=col>&lt;dbl&gt;</th><th scope=col>⋯</th><th scope=col>&lt;dbl&gt;</th><th scope=col>&lt;dbl&gt;</th><th scope=col>&lt;dbl&gt;</th><th scope=col>&lt;dbl&gt;</th><th scope=col>&lt;dbl&gt;</th><th scope=col>&lt;dbl&gt;</th><th scope=col>&lt;dbl&gt;</th><th scope=col>&lt;dbl&gt;</th><th scope=col>&lt;dbl&gt;</th><th scope=col>&lt;dbl&gt;</th></tr>\n",
       "</thead>\n",
       "<tbody>\n",
       "\t<tr><th scope=row>1</th><td>ACVR1 </td><td>1</td><td>1</td><td>1</td><td>1</td><td>1</td><td>1</td><td>1</td><td>1</td><td>1</td><td>⋯</td><td>1</td><td>1</td><td>1</td><td>1</td><td>1</td><td>1</td><td>1</td><td>1</td><td>1</td><td>1</td></tr>\n",
       "\t<tr><th scope=row>2</th><td>ACVR1B</td><td>0</td><td>0</td><td>0</td><td>0</td><td>0</td><td>0</td><td>0</td><td>0</td><td>0</td><td>⋯</td><td>0</td><td>0</td><td>0</td><td>0</td><td>0</td><td>0</td><td>0</td><td>0</td><td>0</td><td>0</td></tr>\n",
       "\t<tr><th scope=row>3</th><td>ACVR2A</td><td>0</td><td>0</td><td>0</td><td>0</td><td>0</td><td>0</td><td>0</td><td>0</td><td>0</td><td>⋯</td><td>0</td><td>0</td><td>0</td><td>0</td><td>0</td><td>0</td><td>0</td><td>0</td><td>0</td><td>0</td></tr>\n",
       "\t<tr><th scope=row>4</th><td>AKT1  </td><td>0</td><td>0</td><td>0</td><td>0</td><td>0</td><td>0</td><td>0</td><td>0</td><td>0</td><td>⋯</td><td>0</td><td>0</td><td>0</td><td>0</td><td>0</td><td>0</td><td>0</td><td>0</td><td>0</td><td>0</td></tr>\n",
       "\t<tr><th scope=row>5</th><td>AKT2  </td><td>0</td><td>0</td><td>0</td><td>0</td><td>0</td><td>0</td><td>0</td><td>0</td><td>0</td><td>⋯</td><td>0</td><td>0</td><td>0</td><td>0</td><td>0</td><td>0</td><td>0</td><td>0</td><td>0</td><td>0</td></tr>\n",
       "\t<tr><th scope=row>6</th><td>APC   </td><td>0</td><td>0</td><td>0</td><td>0</td><td>0</td><td>0</td><td>0</td><td>0</td><td>0</td><td>⋯</td><td>0</td><td>0</td><td>0</td><td>0</td><td>0</td><td>0</td><td>0</td><td>0</td><td>0</td><td>0</td></tr>\n",
       "</tbody>\n",
       "</table>\n"
      ],
      "text/latex": [
       "A data.frame: 6 × 4152\n",
       "\\begin{tabular}{r|lllllllllllllllllllll}\n",
       "  & seq & CHMI\\_CHMI3\\_WGS2 & LP6005441.DNA\\_F08 & HGDP00843 & HGDP00392 & LP6005441.DNA\\_H03 & HGDP00544 & HGDP01053 & HGDP00191 & HGDP01399 & ⋯ & HG00288 & HG00290 & HG00304 & HG01765 & HG01766 & HG01767 & HG01768 & HG01785 & HG01786 & HG02219\\\\\n",
       "  & <chr> & <dbl> & <dbl> & <dbl> & <dbl> & <dbl> & <dbl> & <dbl> & <dbl> & <dbl> & ⋯ & <dbl> & <dbl> & <dbl> & <dbl> & <dbl> & <dbl> & <dbl> & <dbl> & <dbl> & <dbl>\\\\\n",
       "\\hline\n",
       "\t1 & ACVR1  & 1 & 1 & 1 & 1 & 1 & 1 & 1 & 1 & 1 & ⋯ & 1 & 1 & 1 & 1 & 1 & 1 & 1 & 1 & 1 & 1\\\\\n",
       "\t2 & ACVR1B & 0 & 0 & 0 & 0 & 0 & 0 & 0 & 0 & 0 & ⋯ & 0 & 0 & 0 & 0 & 0 & 0 & 0 & 0 & 0 & 0\\\\\n",
       "\t3 & ACVR2A & 0 & 0 & 0 & 0 & 0 & 0 & 0 & 0 & 0 & ⋯ & 0 & 0 & 0 & 0 & 0 & 0 & 0 & 0 & 0 & 0\\\\\n",
       "\t4 & AKT1   & 0 & 0 & 0 & 0 & 0 & 0 & 0 & 0 & 0 & ⋯ & 0 & 0 & 0 & 0 & 0 & 0 & 0 & 0 & 0 & 0\\\\\n",
       "\t5 & AKT2   & 0 & 0 & 0 & 0 & 0 & 0 & 0 & 0 & 0 & ⋯ & 0 & 0 & 0 & 0 & 0 & 0 & 0 & 0 & 0 & 0\\\\\n",
       "\t6 & APC    & 0 & 0 & 0 & 0 & 0 & 0 & 0 & 0 & 0 & ⋯ & 0 & 0 & 0 & 0 & 0 & 0 & 0 & 0 & 0 & 0\\\\\n",
       "\\end{tabular}\n"
      ],
      "text/markdown": [
       "\n",
       "A data.frame: 6 × 4152\n",
       "\n",
       "| <!--/--> | seq &lt;chr&gt; | CHMI_CHMI3_WGS2 &lt;dbl&gt; | LP6005441.DNA_F08 &lt;dbl&gt; | HGDP00843 &lt;dbl&gt; | HGDP00392 &lt;dbl&gt; | LP6005441.DNA_H03 &lt;dbl&gt; | HGDP00544 &lt;dbl&gt; | HGDP01053 &lt;dbl&gt; | HGDP00191 &lt;dbl&gt; | HGDP01399 &lt;dbl&gt; | ⋯ ⋯ | HG00288 &lt;dbl&gt; | HG00290 &lt;dbl&gt; | HG00304 &lt;dbl&gt; | HG01765 &lt;dbl&gt; | HG01766 &lt;dbl&gt; | HG01767 &lt;dbl&gt; | HG01768 &lt;dbl&gt; | HG01785 &lt;dbl&gt; | HG01786 &lt;dbl&gt; | HG02219 &lt;dbl&gt; |\n",
       "|---|---|---|---|---|---|---|---|---|---|---|---|---|---|---|---|---|---|---|---|---|---|\n",
       "| 1 | ACVR1  | 1 | 1 | 1 | 1 | 1 | 1 | 1 | 1 | 1 | ⋯ | 1 | 1 | 1 | 1 | 1 | 1 | 1 | 1 | 1 | 1 |\n",
       "| 2 | ACVR1B | 0 | 0 | 0 | 0 | 0 | 0 | 0 | 0 | 0 | ⋯ | 0 | 0 | 0 | 0 | 0 | 0 | 0 | 0 | 0 | 0 |\n",
       "| 3 | ACVR2A | 0 | 0 | 0 | 0 | 0 | 0 | 0 | 0 | 0 | ⋯ | 0 | 0 | 0 | 0 | 0 | 0 | 0 | 0 | 0 | 0 |\n",
       "| 4 | AKT1   | 0 | 0 | 0 | 0 | 0 | 0 | 0 | 0 | 0 | ⋯ | 0 | 0 | 0 | 0 | 0 | 0 | 0 | 0 | 0 | 0 |\n",
       "| 5 | AKT2   | 0 | 0 | 0 | 0 | 0 | 0 | 0 | 0 | 0 | ⋯ | 0 | 0 | 0 | 0 | 0 | 0 | 0 | 0 | 0 | 0 |\n",
       "| 6 | APC    | 0 | 0 | 0 | 0 | 0 | 0 | 0 | 0 | 0 | ⋯ | 0 | 0 | 0 | 0 | 0 | 0 | 0 | 0 | 0 | 0 |\n",
       "\n"
      ],
      "text/plain": [
       "  seq    CHMI_CHMI3_WGS2 LP6005441.DNA_F08 HGDP00843 HGDP00392\n",
       "1 ACVR1  1               1                 1         1        \n",
       "2 ACVR1B 0               0                 0         0        \n",
       "3 ACVR2A 0               0                 0         0        \n",
       "4 AKT1   0               0                 0         0        \n",
       "5 AKT2   0               0                 0         0        \n",
       "6 APC    0               0                 0         0        \n",
       "  LP6005441.DNA_H03 HGDP00544 HGDP01053 HGDP00191 HGDP01399 ⋯ HG00288 HG00290\n",
       "1 1                 1         1         1         1         ⋯ 1       1      \n",
       "2 0                 0         0         0         0         ⋯ 0       0      \n",
       "3 0                 0         0         0         0         ⋯ 0       0      \n",
       "4 0                 0         0         0         0         ⋯ 0       0      \n",
       "5 0                 0         0         0         0         ⋯ 0       0      \n",
       "6 0                 0         0         0         0         ⋯ 0       0      \n",
       "  HG00304 HG01765 HG01766 HG01767 HG01768 HG01785 HG01786 HG02219\n",
       "1 1       1       1       1       1       1       1       1      \n",
       "2 0       0       0       0       0       0       0       0      \n",
       "3 0       0       0       0       0       0       0       0      \n",
       "4 0       0       0       0       0       0       0       0      \n",
       "5 0       0       0       0       0       0       0       0      \n",
       "6 0       0       0       0       0       0       0       0      "
      ]
     },
     "metadata": {},
     "output_type": "display_data"
    }
   ],
   "source": [
    "#First calculate which genes are most differentially affected across ancestry groups\n",
    "fraction.affected.matrix = avana.matrix %>% \n",
    "mutate(seq = plyr::mapvalues(from = guide.to.gene$seq, to = guide.to.gene$gene, seq, warn_missing = FALSE)) %>%\n",
    "select(-chr, -posL, -posR) %>%\n",
    "filter(seq %in% all_of(cosmic.tier1.nofusion)) %>%\n",
    "melt() %>%\n",
    "group_by(seq, variable) %>%\n",
    "summarise(sum(value)) %>%\n",
    "rename(\"value\" = 3) %>%\n",
    "dcast(formula = seq ~ variable, fill = \"value\")\n",
    "\n",
    "#Convert the numbers to numeric\n",
    "fraction.affected.matrix[2:ncol(fraction.affected.matrix)] = fraction.affected.matrix[2:ncol(fraction.affected.matrix)] %>% \n",
    "apply(2, as.numeric) %>%\n",
    "apply(2, function(x) ifelse(x >= 1, 1, 0))\n",
    "      \n",
    "head(fraction.affected.matrix)"
   ]
  },
  {
   "cell_type": "code",
   "execution_count": 120,
   "metadata": {},
   "outputs": [
    {
     "name": "stderr",
     "output_type": "stream",
     "text": [
      "Using seq as id variables\n",
      "\n",
      "\u001b[1m\u001b[22m`summarise()` has grouped output by 'seq'. You can override using the `.groups`\n",
      "argument.\n"
     ]
    },
    {
     "data": {
      "text/html": [
       "<table class=\"dataframe\">\n",
       "<caption>A grouped_df: 6 × 5</caption>\n",
       "<thead>\n",
       "\t<tr><th scope=col>seq</th><th scope=col>ancestry</th><th scope=col>count</th><th scope=col>total_num</th><th scope=col>fraction_affected</th></tr>\n",
       "\t<tr><th scope=col>&lt;chr&gt;</th><th scope=col>&lt;chr&gt;</th><th scope=col>&lt;dbl&gt;</th><th scope=col>&lt;dbl&gt;</th><th scope=col>&lt;dbl&gt;</th></tr>\n",
       "</thead>\n",
       "<tbody>\n",
       "\t<tr><td>ACVR1</td><td>AFR</td><td>323</td><td>978</td><td>0.3302658</td></tr>\n",
       "\t<tr><td>ACVR1</td><td>AMR</td><td>510</td><td>537</td><td>0.9497207</td></tr>\n",
       "\t<tr><td>ACVR1</td><td>EAS</td><td>768</td><td>773</td><td>0.9935317</td></tr>\n",
       "\t<tr><td>ACVR1</td><td>EUR</td><td>718</td><td>758</td><td>0.9472296</td></tr>\n",
       "\t<tr><td>ACVR1</td><td>MID</td><td>114</td><td>120</td><td>0.9500000</td></tr>\n",
       "\t<tr><td>ACVR1</td><td>SAS</td><td>741</td><td>771</td><td>0.9610895</td></tr>\n",
       "</tbody>\n",
       "</table>\n"
      ],
      "text/latex": [
       "A grouped\\_df: 6 × 5\n",
       "\\begin{tabular}{lllll}\n",
       " seq & ancestry & count & total\\_num & fraction\\_affected\\\\\n",
       " <chr> & <chr> & <dbl> & <dbl> & <dbl>\\\\\n",
       "\\hline\n",
       "\t ACVR1 & AFR & 323 & 978 & 0.3302658\\\\\n",
       "\t ACVR1 & AMR & 510 & 537 & 0.9497207\\\\\n",
       "\t ACVR1 & EAS & 768 & 773 & 0.9935317\\\\\n",
       "\t ACVR1 & EUR & 718 & 758 & 0.9472296\\\\\n",
       "\t ACVR1 & MID & 114 & 120 & 0.9500000\\\\\n",
       "\t ACVR1 & SAS & 741 & 771 & 0.9610895\\\\\n",
       "\\end{tabular}\n"
      ],
      "text/markdown": [
       "\n",
       "A grouped_df: 6 × 5\n",
       "\n",
       "| seq &lt;chr&gt; | ancestry &lt;chr&gt; | count &lt;dbl&gt; | total_num &lt;dbl&gt; | fraction_affected &lt;dbl&gt; |\n",
       "|---|---|---|---|---|\n",
       "| ACVR1 | AFR | 323 | 978 | 0.3302658 |\n",
       "| ACVR1 | AMR | 510 | 537 | 0.9497207 |\n",
       "| ACVR1 | EAS | 768 | 773 | 0.9935317 |\n",
       "| ACVR1 | EUR | 718 | 758 | 0.9472296 |\n",
       "| ACVR1 | MID | 114 | 120 | 0.9500000 |\n",
       "| ACVR1 | SAS | 741 | 771 | 0.9610895 |\n",
       "\n"
      ],
      "text/plain": [
       "  seq   ancestry count total_num fraction_affected\n",
       "1 ACVR1 AFR      323   978       0.3302658        \n",
       "2 ACVR1 AMR      510   537       0.9497207        \n",
       "3 ACVR1 EAS      768   773       0.9935317        \n",
       "4 ACVR1 EUR      718   758       0.9472296        \n",
       "5 ACVR1 MID      114   120       0.9500000        \n",
       "6 ACVR1 SAS      741   771       0.9610895        "
      ]
     },
     "metadata": {},
     "output_type": "display_data"
    },
    {
     "data": {
      "text/html": [
       "<table class=\"dataframe\">\n",
       "<caption>A tibble: 6 × 2</caption>\n",
       "<thead>\n",
       "\t<tr><th scope=col>seq</th><th scope=col>max_differential</th></tr>\n",
       "\t<tr><th scope=col>&lt;chr&gt;</th><th scope=col>&lt;dbl&gt;</th></tr>\n",
       "</thead>\n",
       "<tbody>\n",
       "\t<tr><td>TRRAP </td><td>0.7366143</td></tr>\n",
       "\t<tr><td>ACVR1 </td><td>0.6632658</td></tr>\n",
       "\t<tr><td>PREX2 </td><td>0.6421030</td></tr>\n",
       "\t<tr><td>XPC   </td><td>0.3925838</td></tr>\n",
       "\t<tr><td>FOXA1 </td><td>0.3593984</td></tr>\n",
       "\t<tr><td>TENT5C</td><td>0.3554622</td></tr>\n",
       "</tbody>\n",
       "</table>\n"
      ],
      "text/latex": [
       "A tibble: 6 × 2\n",
       "\\begin{tabular}{ll}\n",
       " seq & max\\_differential\\\\\n",
       " <chr> & <dbl>\\\\\n",
       "\\hline\n",
       "\t TRRAP  & 0.7366143\\\\\n",
       "\t ACVR1  & 0.6632658\\\\\n",
       "\t PREX2  & 0.6421030\\\\\n",
       "\t XPC    & 0.3925838\\\\\n",
       "\t FOXA1  & 0.3593984\\\\\n",
       "\t TENT5C & 0.3554622\\\\\n",
       "\\end{tabular}\n"
      ],
      "text/markdown": [
       "\n",
       "A tibble: 6 × 2\n",
       "\n",
       "| seq &lt;chr&gt; | max_differential &lt;dbl&gt; |\n",
       "|---|---|\n",
       "| TRRAP  | 0.7366143 |\n",
       "| ACVR1  | 0.6632658 |\n",
       "| PREX2  | 0.6421030 |\n",
       "| XPC    | 0.3925838 |\n",
       "| FOXA1  | 0.3593984 |\n",
       "| TENT5C | 0.3554622 |\n",
       "\n"
      ],
      "text/plain": [
       "  seq    max_differential\n",
       "1 TRRAP  0.7366143       \n",
       "2 ACVR1  0.6632658       \n",
       "3 PREX2  0.6421030       \n",
       "4 XPC    0.3925838       \n",
       "5 FOXA1  0.3593984       \n",
       "6 TENT5C 0.3554622       "
      ]
     },
     "metadata": {},
     "output_type": "display_data"
    },
    {
     "data": {
      "text/html": [
       "<style>\n",
       ".list-inline {list-style: none; margin:0; padding: 0}\n",
       ".list-inline>li {display: inline-block}\n",
       ".list-inline>li:not(:last-child)::after {content: \"\\00b7\"; padding: 0 .5ex}\n",
       "</style>\n",
       "<ol class=list-inline><li>'XPA'</li><li>'EGFR'</li><li>'TRRAP'</li><li>'SBDS'</li><li>'FOXA1'</li><li>'HNF1A'</li></ol>\n"
      ],
      "text/latex": [
       "\\begin{enumerate*}\n",
       "\\item 'XPA'\n",
       "\\item 'EGFR'\n",
       "\\item 'TRRAP'\n",
       "\\item 'SBDS'\n",
       "\\item 'FOXA1'\n",
       "\\item 'HNF1A'\n",
       "\\end{enumerate*}\n"
      ],
      "text/markdown": [
       "1. 'XPA'\n",
       "2. 'EGFR'\n",
       "3. 'TRRAP'\n",
       "4. 'SBDS'\n",
       "5. 'FOXA1'\n",
       "6. 'HNF1A'\n",
       "\n",
       "\n"
      ],
      "text/plain": [
       "[1] \"XPA\"   \"EGFR\"  \"TRRAP\" \"SBDS\"  \"FOXA1\" \"HNF1A\""
      ]
     },
     "metadata": {},
     "output_type": "display_data"
    }
   ],
   "source": [
    "###For each gene calculate the fraction affected for each ancestry group.\n",
    "affected.ancestry.matrix = fraction.affected.matrix %>%\n",
    "melt() %>%\n",
    "mutate(\"ancestry\" = variable) %>%\n",
    "mutate(ancestry = plyr::mapvalues(ancestry, from = sample.annotation$sample, to = sample.annotation$ancestry, warn_missing = FALSE)) %>%\n",
    "filter(ancestry %in% all_of(unique(sample.annotation$ancestry))) %>%\n",
    "filter(ancestry != \"NA\") %>%\n",
    "mutate(ancestry = gsub(\"nfe\", \"EUR\", ancestry)) %>%\n",
    "mutate(ancestry = gsub(\"amr\", \"AMR\", ancestry)) %>%\n",
    "mutate(ancestry = gsub(\"sas\", \"SAS\", ancestry)) %>%\n",
    "filter(ancestry != \"oth\") %>%\n",
    "mutate(ancestry = gsub(\"eas\", \"EAS\", ancestry)) %>%\n",
    "mutate(ancestry = gsub(\"afr\", \"AFR\", ancestry)) %>%\n",
    "mutate(ancestry = gsub(\"mid\", \"MID\", ancestry)) %>%\n",
    "mutate(ancestry = gsub(\"fin\", \"EUR\", ancestry))\n",
    "\n",
    "#Calculate the number of samples in each ancestry group\n",
    "samples.per.ancestry = affected.ancestry.matrix %>%\n",
    "select(variable, ancestry) %>%\n",
    "distinct(variable, ancestry, .keep_all = TRUE) %>%\n",
    "group_by(ancestry) %>%\n",
    "summarise(n()) %>%\n",
    "rename(\"number\" = 2)\n",
    "\n",
    "#Now group by ancestry and gene, and calculate the fraction affected\n",
    "affected.per.gene.per.ancestry = affected.ancestry.matrix %>%\n",
    "group_by(seq, ancestry) %>%\n",
    "summarise(sum(value)) %>%\n",
    "rename(\"count\" = 3) %>%\n",
    "mutate(\"total_num\" = ancestry) %>%\n",
    "mutate(total_num = plyr::mapvalues(total_num, from = samples.per.ancestry$ancestry, to = samples.per.ancestry$number, warn_missing = FALSE)) %>%\n",
    "mutate(total_num = as.numeric(total_num)) %>%\n",
    "mutate(\"fraction_affected\" = count/total_num)\n",
    "head(affected.per.gene.per.ancestry)\n",
    "\n",
    "\n",
    "#Now calculate the maximum differential for all of the genes \n",
    "maximum.differential = affected.per.gene.per.ancestry %>%\n",
    "group_by(seq) %>%\n",
    "summarise(max(fraction_affected) - min(fraction_affected)) %>%\n",
    "rename(\"max_differential\" = 2) %>%\n",
    "arrange(desc(max_differential))\n",
    "head(maximum.differential)\n",
    "\n",
    "\n",
    "#Get a list of propaganda genes\n",
    "propaganda.genes = maximum.differential %>%\n",
    "head(n = 20) %>%\n",
    "pull(seq)\n",
    "\n",
    "#Get an order for all of the propaganda genes based upon their frequency in AFR\n",
    "propaganda.gene.order = affected.per.gene.per.ancestry %>%\n",
    "filter(seq %in% propaganda.genes) %>%\n",
    "filter(ancestry %in% \"AFR\") %>%\n",
    "arrange(desc(fraction_affected)) %>%\n",
    "pull(seq)\n",
    "\n",
    "\n",
    "head(propaganda.gene.order)"
   ]
  },
  {
   "cell_type": "code",
   "execution_count": 92,
   "metadata": {},
   "outputs": [
    {
     "name": "stderr",
     "output_type": "stream",
     "text": [
      "Using seq as id variables\n",
      "\n",
      "\u001b[1m\u001b[22m`summarise()` has grouped output by 'seq'. You can override using the `.groups`\n",
      "argument.\n"
     ]
    },
    {
     "data": {
      "text/html": [
       "<table class=\"dataframe\">\n",
       "<caption>A data.frame: 6 × 4152</caption>\n",
       "<thead>\n",
       "\t<tr><th></th><th scope=col>seq</th><th scope=col>CHMI_CHMI3_WGS2</th><th scope=col>LP6005441.DNA_F08</th><th scope=col>HGDP00843</th><th scope=col>HGDP00392</th><th scope=col>LP6005441.DNA_H03</th><th scope=col>HGDP00544</th><th scope=col>HGDP01053</th><th scope=col>HGDP00191</th><th scope=col>HGDP01399</th><th scope=col>⋯</th><th scope=col>HG00288</th><th scope=col>HG00290</th><th scope=col>HG00304</th><th scope=col>HG01765</th><th scope=col>HG01766</th><th scope=col>HG01767</th><th scope=col>HG01768</th><th scope=col>HG01785</th><th scope=col>HG01786</th><th scope=col>HG02219</th></tr>\n",
       "\t<tr><th></th><th scope=col>&lt;chr&gt;</th><th scope=col>&lt;chr&gt;</th><th scope=col>&lt;chr&gt;</th><th scope=col>&lt;chr&gt;</th><th scope=col>&lt;chr&gt;</th><th scope=col>&lt;chr&gt;</th><th scope=col>&lt;chr&gt;</th><th scope=col>&lt;chr&gt;</th><th scope=col>&lt;chr&gt;</th><th scope=col>&lt;chr&gt;</th><th scope=col>⋯</th><th scope=col>&lt;chr&gt;</th><th scope=col>&lt;chr&gt;</th><th scope=col>&lt;chr&gt;</th><th scope=col>&lt;chr&gt;</th><th scope=col>&lt;chr&gt;</th><th scope=col>&lt;chr&gt;</th><th scope=col>&lt;chr&gt;</th><th scope=col>&lt;chr&gt;</th><th scope=col>&lt;chr&gt;</th><th scope=col>&lt;chr&gt;</th></tr>\n",
       "</thead>\n",
       "<tbody>\n",
       "\t<tr><th scope=row>1</th><td>ACVR1 </td><td>1</td><td>1</td><td>1</td><td>1</td><td>1</td><td>1</td><td>1</td><td>2</td><td>1</td><td>⋯</td><td>1</td><td>1</td><td>1</td><td>1</td><td>1</td><td>1</td><td>1</td><td>1</td><td>1</td><td>1</td></tr>\n",
       "\t<tr><th scope=row>2</th><td>BARD1 </td><td>1</td><td>0</td><td>1</td><td>1</td><td>0</td><td>0</td><td>0</td><td>1</td><td>0</td><td>⋯</td><td>1</td><td>0</td><td>0</td><td>1</td><td>1</td><td>1</td><td>1</td><td>1</td><td>0</td><td>0</td></tr>\n",
       "\t<tr><th scope=row>3</th><td>CBLB  </td><td>2</td><td>2</td><td>2</td><td>0</td><td>2</td><td>0</td><td>2</td><td>0</td><td>2</td><td>⋯</td><td>0</td><td>0</td><td>0</td><td>0</td><td>0</td><td>0</td><td>2</td><td>0</td><td>2</td><td>0</td></tr>\n",
       "\t<tr><th scope=row>4</th><td>DROSHA</td><td>0</td><td>0</td><td>0</td><td>0</td><td>0</td><td>0</td><td>0</td><td>0</td><td>0</td><td>⋯</td><td>0</td><td>0</td><td>0</td><td>0</td><td>0</td><td>0</td><td>0</td><td>0</td><td>0</td><td>0</td></tr>\n",
       "\t<tr><th scope=row>5</th><td>EGFR  </td><td>1</td><td>0</td><td>1</td><td>1</td><td>1</td><td>1</td><td>1</td><td>1</td><td>0</td><td>⋯</td><td>1</td><td>1</td><td>0</td><td>0</td><td>1</td><td>1</td><td>1</td><td>0</td><td>1</td><td>0</td></tr>\n",
       "\t<tr><th scope=row>6</th><td>FAT1  </td><td>0</td><td>1</td><td>1</td><td>0</td><td>1</td><td>0</td><td>1</td><td>0</td><td>0</td><td>⋯</td><td>0</td><td>0</td><td>0</td><td>0</td><td>0</td><td>0</td><td>0</td><td>0</td><td>0</td><td>0</td></tr>\n",
       "</tbody>\n",
       "</table>\n"
      ],
      "text/latex": [
       "A data.frame: 6 × 4152\n",
       "\\begin{tabular}{r|lllllllllllllllllllll}\n",
       "  & seq & CHMI\\_CHMI3\\_WGS2 & LP6005441.DNA\\_F08 & HGDP00843 & HGDP00392 & LP6005441.DNA\\_H03 & HGDP00544 & HGDP01053 & HGDP00191 & HGDP01399 & ⋯ & HG00288 & HG00290 & HG00304 & HG01765 & HG01766 & HG01767 & HG01768 & HG01785 & HG01786 & HG02219\\\\\n",
       "  & <chr> & <chr> & <chr> & <chr> & <chr> & <chr> & <chr> & <chr> & <chr> & <chr> & ⋯ & <chr> & <chr> & <chr> & <chr> & <chr> & <chr> & <chr> & <chr> & <chr> & <chr>\\\\\n",
       "\\hline\n",
       "\t1 & ACVR1  & 1 & 1 & 1 & 1 & 1 & 1 & 1 & 2 & 1 & ⋯ & 1 & 1 & 1 & 1 & 1 & 1 & 1 & 1 & 1 & 1\\\\\n",
       "\t2 & BARD1  & 1 & 0 & 1 & 1 & 0 & 0 & 0 & 1 & 0 & ⋯ & 1 & 0 & 0 & 1 & 1 & 1 & 1 & 1 & 0 & 0\\\\\n",
       "\t3 & CBLB   & 2 & 2 & 2 & 0 & 2 & 0 & 2 & 0 & 2 & ⋯ & 0 & 0 & 0 & 0 & 0 & 0 & 2 & 0 & 2 & 0\\\\\n",
       "\t4 & DROSHA & 0 & 0 & 0 & 0 & 0 & 0 & 0 & 0 & 0 & ⋯ & 0 & 0 & 0 & 0 & 0 & 0 & 0 & 0 & 0 & 0\\\\\n",
       "\t5 & EGFR   & 1 & 0 & 1 & 1 & 1 & 1 & 1 & 1 & 0 & ⋯ & 1 & 1 & 0 & 0 & 1 & 1 & 1 & 0 & 1 & 0\\\\\n",
       "\t6 & FAT1   & 0 & 1 & 1 & 0 & 1 & 0 & 1 & 0 & 0 & ⋯ & 0 & 0 & 0 & 0 & 0 & 0 & 0 & 0 & 0 & 0\\\\\n",
       "\\end{tabular}\n"
      ],
      "text/markdown": [
       "\n",
       "A data.frame: 6 × 4152\n",
       "\n",
       "| <!--/--> | seq &lt;chr&gt; | CHMI_CHMI3_WGS2 &lt;chr&gt; | LP6005441.DNA_F08 &lt;chr&gt; | HGDP00843 &lt;chr&gt; | HGDP00392 &lt;chr&gt; | LP6005441.DNA_H03 &lt;chr&gt; | HGDP00544 &lt;chr&gt; | HGDP01053 &lt;chr&gt; | HGDP00191 &lt;chr&gt; | HGDP01399 &lt;chr&gt; | ⋯ ⋯ | HG00288 &lt;chr&gt; | HG00290 &lt;chr&gt; | HG00304 &lt;chr&gt; | HG01765 &lt;chr&gt; | HG01766 &lt;chr&gt; | HG01767 &lt;chr&gt; | HG01768 &lt;chr&gt; | HG01785 &lt;chr&gt; | HG01786 &lt;chr&gt; | HG02219 &lt;chr&gt; |\n",
       "|---|---|---|---|---|---|---|---|---|---|---|---|---|---|---|---|---|---|---|---|---|---|\n",
       "| 1 | ACVR1  | 1 | 1 | 1 | 1 | 1 | 1 | 1 | 2 | 1 | ⋯ | 1 | 1 | 1 | 1 | 1 | 1 | 1 | 1 | 1 | 1 |\n",
       "| 2 | BARD1  | 1 | 0 | 1 | 1 | 0 | 0 | 0 | 1 | 0 | ⋯ | 1 | 0 | 0 | 1 | 1 | 1 | 1 | 1 | 0 | 0 |\n",
       "| 3 | CBLB   | 2 | 2 | 2 | 0 | 2 | 0 | 2 | 0 | 2 | ⋯ | 0 | 0 | 0 | 0 | 0 | 0 | 2 | 0 | 2 | 0 |\n",
       "| 4 | DROSHA | 0 | 0 | 0 | 0 | 0 | 0 | 0 | 0 | 0 | ⋯ | 0 | 0 | 0 | 0 | 0 | 0 | 0 | 0 | 0 | 0 |\n",
       "| 5 | EGFR   | 1 | 0 | 1 | 1 | 1 | 1 | 1 | 1 | 0 | ⋯ | 1 | 1 | 0 | 0 | 1 | 1 | 1 | 0 | 1 | 0 |\n",
       "| 6 | FAT1   | 0 | 1 | 1 | 0 | 1 | 0 | 1 | 0 | 0 | ⋯ | 0 | 0 | 0 | 0 | 0 | 0 | 0 | 0 | 0 | 0 |\n",
       "\n"
      ],
      "text/plain": [
       "  seq    CHMI_CHMI3_WGS2 LP6005441.DNA_F08 HGDP00843 HGDP00392\n",
       "1 ACVR1  1               1                 1         1        \n",
       "2 BARD1  1               0                 1         1        \n",
       "3 CBLB   2               2                 2         0        \n",
       "4 DROSHA 0               0                 0         0        \n",
       "5 EGFR   1               0                 1         1        \n",
       "6 FAT1   0               1                 1         0        \n",
       "  LP6005441.DNA_H03 HGDP00544 HGDP01053 HGDP00191 HGDP01399 ⋯ HG00288 HG00290\n",
       "1 1                 1         1         2         1         ⋯ 1       1      \n",
       "2 0                 0         0         1         0         ⋯ 1       0      \n",
       "3 2                 0         2         0         2         ⋯ 0       0      \n",
       "4 0                 0         0         0         0         ⋯ 0       0      \n",
       "5 1                 1         1         1         0         ⋯ 1       1      \n",
       "6 1                 0         1         0         0         ⋯ 0       0      \n",
       "  HG00304 HG01765 HG01766 HG01767 HG01768 HG01785 HG01786 HG02219\n",
       "1 1       1       1       1       1       1       1       1      \n",
       "2 0       1       1       1       1       1       0       0      \n",
       "3 0       0       0       0       2       0       2       0      \n",
       "4 0       0       0       0       0       0       0       0      \n",
       "5 0       0       1       1       1       0       1       0      \n",
       "6 0       0       0       0       0       0       0       0      "
      ]
     },
     "metadata": {},
     "output_type": "display_data"
    }
   ],
   "source": [
    "#Filter the SNP matrix so that it only includes the propaganda genes\n",
    "cosmic.propaganda.matrix = avana.matrix %>% \n",
    "mutate(seq = plyr::mapvalues(from = guide.to.gene$seq, to = guide.to.gene$gene, seq, warn_missing = FALSE)) %>%\n",
    "select(-chr, -posL, -posR) %>%\n",
    "filter(seq %in% all_of(propaganda.genes)) %>%\n",
    "melt() %>%\n",
    "group_by(seq, variable) %>%\n",
    "summarise(sum(value)) %>%\n",
    "rename(\"value\" = 3) %>%\n",
    "dcast(formula = seq ~ variable, fill = \"value\")\n",
    "\n",
    "head(cosmic.propaganda.matrix)\n",
    "\n",
    "\n",
    "#Convert the numbers to numeric\n",
    "cosmic.propaganda.matrix[2:ncol(cosmic.propaganda.matrix)] = cosmic.propaganda.matrix[2:ncol(cosmic.propaganda.matrix)] %>% \n",
    "apply(2, as.numeric) %>%\n",
    "apply(2, function(x) ifelse(x >= 1, 1, 0))"
   ]
  },
  {
   "cell_type": "code",
   "execution_count": 133,
   "metadata": {
    "scrolled": false
   },
   "outputs": [
    {
     "data": {
      "image/png": "[encoded data removed]",
      "text/plain": [
       "plot without title"
      ]
     },
     "metadata": {
      "image/png": {
       "height": 420,
       "width": 420
      }
     },
     "output_type": "display_data"
    }
   ],
   "source": [
    "#Plot the plot \n",
    "\n",
    "cosmic.propaganda.matrix %>%\n",
    "melt(id = \"seq\") %>%\n",
    "filter(seq != \"NA\") %>%\n",
    "mutate(\"ancestry\" = variable) %>%\n",
    "mutate(ancestry = plyr::mapvalues(ancestry, from = sample.annotation$sample, to = sample.annotation$ancestry, warn_missing = FALSE)) %>%\n",
    "filter(ancestry %in% all_of(unique(sample.annotation$ancestry))) %>%\n",
    "filter(ancestry != \"NA\") %>%\n",
    "mutate(ancestry = gsub(\"nfe\", \"EUR\", ancestry)) %>%\n",
    "mutate(ancestry = gsub(\"amr\", \"AMR\", ancestry)) %>%\n",
    "mutate(ancestry = gsub(\"sas\", \"SAS\", ancestry)) %>%\n",
    "filter(ancestry != \"oth\") %>%\n",
    "mutate(ancestry = gsub(\"eas\", \"EAS\", ancestry)) %>%\n",
    "mutate(ancestry = gsub(\"afr\", \"AFR\", ancestry)) %>%\n",
    "mutate(ancestry = gsub(\"mid\", \"MID\", ancestry)) %>%\n",
    "mutate(ancestry = gsub(\"fin\", \"EUR\", ancestry)) %>%\n",
    "mutate(value = as.numeric(value)) %>%\n",
    "mutate(seq = factor(seq, levels = propaganda.gene.order)) %>%\n",
    "ggplot(aes(x = seq, y = variable, fill = value)) + \n",
    "geom_tile() +\n",
    "facet_grid(ancestry ~ 1, scales = \"free_y\", space = \"free_y\") +\n",
    "\n",
    "scale_fill_gradient2(low = \"white\", high = \"black\", limit = c(0, 1)) +\n",
    "\n",
    "theme_bw() +\n",
    "\n",
    "theme(\n",
    "panel.grid.major = element_blank(),\n",
    "panel.grid.minor = element_blank(), \n",
    "axis.line = element_line(color = \"black\")\n",
    ") +\n",
    "\n",
    "theme(\n",
    "axis.title.x = element_text(color = \"black\", size = 12, face = \"bold\"),\n",
    "axis.title.y = element_text(color = \"black\", size = 12, face = \"bold\")\n",
    ") +\n",
    "\n",
    "theme(\n",
    "axis.text = element_text(size = 10, angle = 45),\n",
    "axis.title = element_text(size = 12,face = \"bold\")\n",
    ") +\n",
    "\n",
    "theme(\n",
    "legend.title = element_text(size = 12, face = \"bold\"),\n",
    "legend.text = element_text(size = 12)\n",
    ") +\n",
    "\n",
    "theme(axis.text.y = element_blank(),\n",
    "     axis.ticks.y = element_blank()) +\n",
    "\n",
    "xlab(\"Gene\") +\n",
    "ylab(\"978 individuals of African descent\") +\n",
    "\n",
    "scale_x_discrete(position = \"top\") \n",
    "\n",
    "setwd(\"/home/jupyter/Ancestry/analysis/cosmic_heatmap\")\n",
    "ggsave(\"propaganda_affected_cosmic_genes_heatmap.pdf\", width = 5, height = 10)\n",
    "system(glue::glue(\"\n",
    "cd /home/jupyter/Ancestry/analysis/cosmic_heatmap\n",
    "gsutil cp propaganda_affected_cosmic_genes_heatmap.pdf gs://fc-45c0e148-0b1c-4244-9bfc-feb559bbc514\n",
    "\"))"
   ]
  },
  {
   "cell_type": "code",
   "execution_count": null,
   "metadata": {},
   "outputs": [],
   "source": []
  },
  {
   "cell_type": "code",
   "execution_count": null,
   "metadata": {},
   "outputs": [],
   "source": []
  },
  {
   "cell_type": "code",
   "execution_count": null,
   "metadata": {},
   "outputs": [],
   "source": []
  },
  {
   "cell_type": "code",
   "execution_count": null,
   "metadata": {},
   "outputs": [],
   "source": []
  },
  {
   "cell_type": "code",
   "execution_count": null,
   "metadata": {},
   "outputs": [],
   "source": []
  },
  {
   "cell_type": "code",
   "execution_count": null,
   "metadata": {},
   "outputs": [],
   "source": []
  },
  {
   "cell_type": "code",
   "execution_count": null,
   "metadata": {},
   "outputs": [],
   "source": []
  },
  {
   "cell_type": "code",
   "execution_count": null,
   "metadata": {},
   "outputs": [],
   "source": []
  },
  {
   "cell_type": "code",
   "execution_count": null,
   "metadata": {},
   "outputs": [],
   "source": []
  },
  {
   "cell_type": "code",
   "execution_count": null,
   "metadata": {},
   "outputs": [],
   "source": []
  },
  {
   "cell_type": "code",
   "execution_count": null,
   "metadata": {},
   "outputs": [],
   "source": []
  },
  {
   "cell_type": "code",
   "execution_count": null,
   "metadata": {},
   "outputs": [],
   "source": []
  },
  {
   "cell_type": "code",
   "execution_count": null,
   "metadata": {},
   "outputs": [],
   "source": []
  },
  {
   "cell_type": "code",
   "execution_count": null,
   "metadata": {},
   "outputs": [],
   "source": []
  },
  {
   "cell_type": "code",
   "execution_count": null,
   "metadata": {},
   "outputs": [],
   "source": []
  },
  {
   "cell_type": "code",
   "execution_count": null,
   "metadata": {},
   "outputs": [],
   "source": []
  },
  {
   "cell_type": "code",
   "execution_count": null,
   "metadata": {},
   "outputs": [],
   "source": []
  },
  {
   "cell_type": "code",
   "execution_count": null,
   "metadata": {},
   "outputs": [],
   "source": []
  },
  {
   "cell_type": "code",
   "execution_count": null,
   "metadata": {},
   "outputs": [],
   "source": []
  },
  {
   "cell_type": "code",
   "execution_count": null,
   "metadata": {},
   "outputs": [],
   "source": []
  },
  {
   "cell_type": "code",
   "execution_count": null,
   "metadata": {},
   "outputs": [],
   "source": []
  },
  {
   "cell_type": "code",
   "execution_count": null,
   "metadata": {},
   "outputs": [],
   "source": []
  },
  {
   "cell_type": "code",
   "execution_count": null,
   "metadata": {},
   "outputs": [],
   "source": []
  }
 ],
 "metadata": {
  "kernelspec": {
   "display_name": "R",
   "language": "R",
   "name": "ir"
  },
  "language_info": {
   "codemirror_mode": "r",
   "file_extension": ".r",
   "mimetype": "text/x-r-source",
   "name": "R",
   "pygments_lexer": "r",
   "version": "4.2.1"
  },
  "toc": {
   "base_numbering": 1,
   "nav_menu": {},
   "number_sections": true,
   "sideBar": true,
   "skip_h1_title": false,
   "title_cell": "Table of Contents",
   "title_sidebar": "Contents",
   "toc_cell": false,
   "toc_position": {},
   "toc_section_display": true,
   "toc_window_display": false
  }
 },
 "nbformat": 4,
 "nbformat_minor": 2
}
