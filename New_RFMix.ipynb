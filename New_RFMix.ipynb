{
 "cells": [
  {
   "cell_type": "markdown",
   "metadata": {},
   "source": [
    "The purpose of this notebook is to phase genotypes using Eagle. The reason we want to do this is because we want to run RFMix to impute the ancestry fraction of unknown cell lines."
   ]
  },
  {
   "cell_type": "markdown",
   "metadata": {},
   "source": [
    "# Set up the environment and install all of the software"
   ]
  },
  {
   "cell_type": "code",
   "execution_count": 1,
   "metadata": {},
   "outputs": [],
   "source": [
    "#Arguments/Parameters\n",
    "\n",
    "working_dir = \"/home/jupyter/Ancestry\"\n",
    "workspace_bucket = Sys.getenv('WORKSPACE_BUCKET')\n",
    "num.threads = 64 #This is the number of threads that will be used to phase the genotypes"
   ]
  },
  {
   "cell_type": "code",
   "execution_count": 2,
   "metadata": {},
   "outputs": [
    {
     "name": "stderr",
     "output_type": "stream",
     "text": [
      "Warning message in system(\"timedatectl\", intern = TRUE):\n",
      "“running command 'timedatectl' had status 1”\n",
      "── \u001b[1mAttaching packages\u001b[22m ─────────────────────────────────────── tidyverse 1.3.1 ──\n",
      "\n",
      "\u001b[32m✔\u001b[39m \u001b[34mggplot2\u001b[39m 3.3.5     \u001b[32m✔\u001b[39m \u001b[34mpurrr  \u001b[39m 0.3.4\n",
      "\u001b[32m✔\u001b[39m \u001b[34mtibble \u001b[39m 3.1.6     \u001b[32m✔\u001b[39m \u001b[34mdplyr  \u001b[39m 1.0.7\n",
      "\u001b[32m✔\u001b[39m \u001b[34mtidyr  \u001b[39m 1.1.4     \u001b[32m✔\u001b[39m \u001b[34mstringr\u001b[39m 1.4.0\n",
      "\u001b[32m✔\u001b[39m \u001b[34mreadr  \u001b[39m 2.1.1     \u001b[32m✔\u001b[39m \u001b[34mforcats\u001b[39m 0.5.1\n",
      "\n",
      "── \u001b[1mConflicts\u001b[22m ────────────────────────────────────────── tidyverse_conflicts() ──\n",
      "\u001b[31m✖\u001b[39m \u001b[34mdplyr\u001b[39m::\u001b[32mfilter()\u001b[39m masks \u001b[34mstats\u001b[39m::filter()\n",
      "\u001b[31m✖\u001b[39m \u001b[34mdplyr\u001b[39m::\u001b[32mlag()\u001b[39m    masks \u001b[34mstats\u001b[39m::lag()\n",
      "\n",
      "\n",
      "Attaching package: ‘reshape2’\n",
      "\n",
      "\n",
      "The following object is masked from ‘package:tidyr’:\n",
      "\n",
      "    smiths\n",
      "\n",
      "\n"
     ]
    }
   ],
   "source": [
    "#Set up the environment\n",
    "\n",
    "#load packages\n",
    "library(tidyverse)\n",
    "library(reshape2)\n",
    "\n",
    "#Define functions\n",
    "show_msg <- function(x){ \n",
    "    print(x)\n",
    "    flush.console()\n",
    "}\n",
    "\n",
    "#Make directories\n",
    "system(glue::glue(\"\n",
    "cd {working_dir}\n",
    "\n",
    "#Create the directory to store the liftover files\n",
    "if [ ! -d '{working_dir}/LiftOver' ] \n",
    "then\n",
    "mkdir LiftOver\n",
    "fi\n",
    "\n",
    "if [ ! -d '{working_dir}/LiftOver/hg38_to_hg19' ] \n",
    "then\n",
    "mkdir LiftOver/hg38_to_hg19\n",
    "fi\n",
    "\n",
    "if [ ! -d '{working_dir}/rfmix_output' ]\n",
    "then\n",
    "mkdir {working_dir}/rfmix_output\n",
    "fi\n",
    "\"))\n",
    "\n"
   ]
  },
  {
   "cell_type": "code",
   "execution_count": 25,
   "metadata": {},
   "outputs": [],
   "source": [
    "#Download and install software\n",
    "\n",
    "#Download and install Samtools\n",
    "system(glue::glue(\"\n",
    "cd {working_dir}/software\n",
    "wget https://github.com/samtools/samtools/releases/download/1.9/samtools-1.9.tar.bz2\n",
    "tar -vxjf samtools-1.9.tar.bz2\n",
    "cd samtools-1.9\n",
    "make\n",
    "cd {working_dir}/software\n",
    "rm samtools-1.9.tar.bz2\n",
    "\"))\n",
    "\n",
    "#Download and install Bcftools\n",
    "\n",
    "\n",
    "#Set the bcftools plugin path and add bcftools to PATH\n",
    "system(glue::glue(\"\n",
    "export PATH=$PATH:{working_dir}/software/bcftools\n",
    "export BCFTOOLS_PLUGINS='/home/jupyter/notebooks/Ancestry/software/bcftools/plugins'\n",
    "\"))\n",
    "\n",
    "\n",
    "#Download and install tabix\n"
   ]
  },
  {
   "cell_type": "markdown",
   "metadata": {},
   "source": [
    "Install RFMix and process all of the dependencies"
   ]
  },
  {
   "cell_type": "code",
   "execution_count": null,
   "metadata": {},
   "outputs": [],
   "source": [
    "#Download and instal RFMix\n",
    "#I first installed RFMixv2 on the UGER cluster, then zipped and transferred the directory over to the google bucket for this project\n",
    "system(glue::glue(\"\n",
    "cd {working_dir}/software\n",
    "\n",
    "#Create the directory to store the rfmix files\n",
    "if [ ! -d '{working_dir}/software/rfmix' ] \n",
    "then\n",
    "mkdir {working_dir}/software/rfmix\n",
    "cd {working_dir}/software/rfmix\n",
    "\n",
    "#Download the rfmix script\n",
    "gsutil cp gs://fc-45c0e148-0b1c-4244-9bfc-feb559bbc514/rfmix.zip .\n",
    "unzip rfmix.zip\n",
    "rm rfmix.zip\n",
    "\n",
    "\"))\n"
   ]
  },
  {
   "cell_type": "markdown",
   "metadata": {},
   "source": [
    "Also install and process the reference panel for the hg38 data.\n",
    "\n",
    "The reference panel is from: http://ftp.1000genomes.ebi.ac.uk/vol1/ftp/data_collections/1000G_2504_high_coverage/working/20201028_3202_phased/\n",
    "\n",
    "The genetic map is from a previous install of Eagle v2.4.1. So I just copied it over to the new dir.\n",
    "https://alkesgroup.broadinstitute.org/Eagle/#x1-250005.1.2\n",
    "\n",
    "The sample map was already downloaded for the hg19 version, so I just used the same one"
   ]
  },
  {
   "cell_type": "code",
   "execution_count": 5,
   "metadata": {
    "scrolled": true
   },
   "outputs": [
    {
     "ename": "ERROR",
     "evalue": "Error in filter(., chr %in% chrom): object '*tmp*' not found\n",
     "output_type": "error",
     "traceback": [
      "Error in filter(., chr %in% chrom): object '*tmp*' not found\nTraceback:\n",
      "1. `*tmp*` %>% filter(chr %in% chrom)",
      "2. filter(., chr %in% chrom)"
     ]
    }
   ],
   "source": [
    "#Download the hg38 1000 genomes VCF files and their index files\n",
    "\n",
    "\n",
    "#Download the reference panel\n",
    "system(glue::glue(\"\n",
    "if [ ! -d '{working_dir}/software/rfmix/hg38' ]\n",
    "then\n",
    "mkdir {working_dir}/software/rfmix/hg38\n",
    "fi\n",
    "\"))\n",
    "\n",
    "chromosomes = seq(from = 1, to = 22, by = 1)\n",
    "for(chr in chromosomes){\n",
    "system(glue::glue(\"\n",
    "cd {working_dir}/software/rfmix/hg38\n",
    "wget http://ftp.1000genomes.ebi.ac.uk/vol1/ftp/data_collections/1000_genomes_project/release/20190312_biallelic_SNV_and_INDEL/ALL.chr{chr}.shapeit2_integrated_snvindels_v2a_27022019.GRCh38.phased.vcf.gz &\n",
    "wget http://ftp.1000genomes.ebi.ac.uk/vol1/ftp/data_collections/1000_genomes_project/release/20190312_biallelic_SNV_and_INDEL/ALL.chr{chr}.shapeit2_integrated_snvindels_v2a_27022019.GRCh38.phased.vcf.gz.tbi &\n",
    "\"))\n",
    "}\n",
    "\n",
    "\n",
    "#Download the genetic map\n",
    "system(glue::glue(\"\n",
    "cp {working_dir}/software/Eagle_v2.4.1/tables/genetic_map_hg38_withX.txt {working_dir}/software/rfmix/hg38/genetic_map_hg38_withX.txt\n",
    "\"))\n",
    "\n",
    "\n",
    "#Format the genetic map\n",
    "#Load in the data and format it nicely\n",
    "paste(working_dir, \"/software/rfmix/hg38\", sep = \"\") %>% setwd()\n",
    "genetic.map = read.table(\"genetic_map_hg38_withX.txt\", sep = \" \", header = T) %>%\n",
    "rename(\"chr\" = 1, \"pos\" = 2, \"combined\" = 3, \"genetic_pos\" = 4) %>%\n",
    "select(chr, pos, genetic_pos) %>%\n",
    "mutate(chr = paste(\"chr\", chr, sep = \"\"))\n",
    "\n",
    "#Get a list of all of the chromosomes\n",
    "unique.chromosomes = genetic.map %>% pull(chr) %>% unique()\n",
    "\n",
    "#Loop through all of the chromosomes, format the data and then write the output file.\n",
    "for(chrom in unique.chromosomes){\n",
    "    \n",
    "    isolated.chromosome = genetic.map %>%\n",
    "    filter(chr %in% chrom) %>%\n",
    "    mutate(genetic_pos = format(genetic_pos, scientific=F)) %>%\n",
    "    mutate(genetic_pos = as.numeric(genetic_pos)) %>%\n",
    "    arrange(genetic_pos)\n",
    "    \n",
    "    file.name = paste(chrom, \"_genetic_map.txt\", sep = \"\")\n",
    "    \n",
    "    write.table(isolated.chromosome, file.name, sep = \"\\t\", col.names = T, row.names = F, quote = F)\n",
    "\n",
    "}\n",
    "\n",
    "#Download the sample map\n",
    "#the sample map is a two column text file. the first column is the sample names. the second column is the ancestry group.\n",
    "system(glue::glue(\"\n",
    "cd {working_dir}/software/rfmix/hg38\n",
    "gsutil cp {workspace_bucket}/1kg_sample_map .\n",
    "\"))"
   ]
  },
  {
   "cell_type": "code",
   "execution_count": null,
   "metadata": {},
   "outputs": [],
   "source": [
    "#Recode the chromosome names in the reference panel from \"8\" to \"chr8\"\n",
    "\n",
    "chromosomes = seq(from = 1, to = 22, by = 1)\n",
    "\n",
    "for(chr in chromosomes){\n",
    "    \n",
    "system(glue::glue(\"\n",
    "cd {working_dir}/software/rfmix/hg38\n",
    "{working_dir}/software/bcftools/bcftools annotate ALL.chr{chr}.shapeit2_integrated_snvindels_v2a_27022019.GRCh38.phased.vcf.gz --rename-chrs {working_dir}/LiftOver/hg19_to_hg38/hg19_to_hg38_chr_bridge -Oz -o 1kg_chr{chr}.recodeChr.vcf.gz\n",
    "{working_dir}/software/tabix-0.2.6/tabix -p vcf 1kg_chr{chr}.recodeChr.vcf.gz\n",
    "\n",
    "\"))\n",
    "}"
   ]
  },
  {
   "cell_type": "code",
   "execution_count": 5,
   "metadata": {},
   "outputs": [],
   "source": [
    "#Remove unwanted samples from the reference panel.\n",
    "#The unwanted samples are related, so they are probably going to skew our data.\n",
    "\n",
    "code.chunk ='{print $1}'\n",
    "system(glue::glue(\"\n",
    "cd {working_dir}/software/rfmix/hg38\n",
    "awk '{code.chunk}' 1kg_sample_map > 1kg.samples.to.keep\n",
    "\"))\n",
    "\n",
    "\n",
    "#Now filter all of the bcf files so that they only contain these samples\n",
    "chromosomes = seq(from = 22, to = 1, by = -1)\n",
    "\n",
    "for(chr in chromosomes){\n",
    "system(glue::glue(\"\n",
    "cd {working_dir}/software/rfmix/hg38\n",
    "/home/jupyter/notebooks/Ancestry/software/bcftools/bcftools view -S 1kg.samples.to.keep --force-samples 1kg_chr{chr}.recodeChr.vcf.gz -o 1kg.ogsamples.chr{chr}.vcf.gz -Oz;\n",
    "\"))\n",
    "}\n"
   ]
  },
  {
   "cell_type": "markdown",
   "metadata": {},
   "source": [
    "# Pre-process the CCLE VCFs"
   ]
  },
  {
   "cell_type": "markdown",
   "metadata": {},
   "source": [
    "Aaron has done most of the processing for this VCF file. What was done is:\n",
    "\n",
    "-Take the SNP6 birdseed files and convert to VCF\n",
    "-Phase/Impute with the topmed reference panel\n",
    "-Filter with a MAF cutoff of 1%\n",
    "-re-header to ACH ID\n",
    "-split multi-allelic sites\n",
    "\n",
    "\n",
    "To make RFMix run a little bit faster, the final thing we want to do is split it into different chromosomes so that we can run each chromosome on its own CPU."
   ]
  },
  {
   "cell_type": "code",
   "execution_count": 4,
   "metadata": {},
   "outputs": [
    {
     "ename": "ERROR",
     "evalue": "Error in parse(text = text, keep.source = FALSE): <text>:1:3: unexpected numeric constant\n1: 1..22\n      ^\n",
     "output_type": "error",
     "traceback": [
      "Error in parse(text = text, keep.source = FALSE): <text>:1:3: unexpected numeric constant\n1: 1..22\n      ^\nTraceback:\n",
      "1. system(glue::glue(\"\\ncd {working_dir}/rfmix\\n\\nfor num in {1..22};\\ndo\\n{working_dir}/software/bcftools/bcftools view split.all_chroms.maf.subset.reheader.vcf.gz --regions chr$num -Oz -o chr$num.split.all_chroms.maf.subset.reheader.vcf.gz\\ndone\\n\\n{working_dir}/software/bcftools/bcftools view split.all_chroms.maf.subset.reheader.vcf.gz --regions chrX -Oz -o chrX.split.all_chroms.maf.subset.reheader.vcf.gz\\n{working_dir}/software/bcftools/bcftools view split.all_chroms.maf.subset.reheader.vcf.gz --regions chrY -Oz -o chrY.split.all_chroms.maf.subset.reheader.vcf.gz\\n\"))",
      "2. glue::glue(\"\\ncd {working_dir}/rfmix\\n\\nfor num in {1..22};\\ndo\\n{working_dir}/software/bcftools/bcftools view split.all_chroms.maf.subset.reheader.vcf.gz --regions chr$num -Oz -o chr$num.split.all_chroms.maf.subset.reheader.vcf.gz\\ndone\\n\\n{working_dir}/software/bcftools/bcftools view split.all_chroms.maf.subset.reheader.vcf.gz --regions chrX -Oz -o chrX.split.all_chroms.maf.subset.reheader.vcf.gz\\n{working_dir}/software/bcftools/bcftools view split.all_chroms.maf.subset.reheader.vcf.gz --regions chrY -Oz -o chrY.split.all_chroms.maf.subset.reheader.vcf.gz\\n\")",
      "3. glue_data(.x = NULL, ..., .sep = .sep, .envir = .envir, .open = .open, \n .     .close = .close, .na = .na, .null = .null, .comment = .comment, \n .     .literal = .literal, .transformer = .transformer, .trim = .trim)",
      "4. (function (expr) \n . {\n .     eval_func <- .transformer(expr, env) %||% .null\n .     tryCatch(if (is.null(eval_func)) \n .         NULL\n .     else as.character(eval_func), error = function(e) {\n .         if (is.function(eval_func)) {\n .             message <- paste0(\"glue cannot interpolate functions into strings.\\n\", \n .                 \"* object '\", expr, \"' is a function.\")\n .             stop(message, call. = FALSE)\n .         }\n .         stop(e)\n .     })\n . })(\"1..22\")",
      "5. .transformer(expr, env) %||% .null",
      "6. .transformer(expr, env)",
      "7. eval(parse(text = text, keep.source = FALSE), envir)",
      "8. parse(text = text, keep.source = FALSE)"
     ]
    }
   ],
   "source": [
    "#Split the vcf file into each chromosome\n",
    "\n",
    "cd {working_dir}/rfmix\n",
    "\n",
    "for num in {1..22};\n",
    "do\n",
    "{working_dir}/software/bcftools/bcftools view split.all_chroms.maf.subset.reheader.vcf.gz --regions chr$num -Oz -o chr$num.split.all_chroms.maf.subset.reheader.vcf.gz\n",
    "done\n",
    "\n",
    "{working_dir}/software/bcftools/bcftools view split.all_chroms.maf.subset.reheader.vcf.gz --regions chrX -Oz -o chrX.split.all_chroms.maf.subset.reheader.vcf.gz\n",
    "{working_dir}/software/bcftools/bcftools view split.all_chroms.maf.subset.reheader.vcf.gz --regions chrY -Oz -o chrY.split.all_chroms.maf.subset.reheader.vcf.gz\n"
   ]
  },
  {
   "cell_type": "markdown",
   "metadata": {},
   "source": [
    "# Run RFMix "
   ]
  },
  {
   "cell_type": "markdown",
   "metadata": {},
   "source": [
    "Run RFMix to calculate the ancestry fractions for all of the cell lines.\n",
    "\n",
    "We are running this on a big machine right now, but it looks like rfmix is only using one core, and really not that much memory. So in the future we should probabl try to modify the code to either take advantage of multithreading or just plan to run this on a smaller machine to save a bit of $."
   ]
  },
  {
   "cell_type": "code",
   "execution_count": 2,
   "metadata": {},
   "outputs": [],
   "source": [
    "#chromosomes = seq(from = 22, to = 1, by = -1)\n",
    "chromosomes = c(2, 3, 5, 6, 7, 8, 9, 10, 11, 12, \"X\")\n",
    "\n",
    "for(chr in chromosomes){\n",
    "    \n",
    "system(glue::glue(\"\n",
    "cd {working_dir}/rfmix\n",
    "{working_dir}/software/rfmix/rfmix/rfmix -f chr{chr}.split.all_chroms.maf.subset.reheader.vcf.gz -r {working_dir}/software/rfmix/hg38/1kg_chr{chr}.recodeChr.vcf.gz -m {working_dir}/software/rfmix/hg38/1kg_sample_map -g {working_dir}/software/rfmix/hg38/chr{chr}_genetic_map.txt -o chr{chr}.rfmix.output --chromosome=chr{chr}\n",
    "\"))\n",
    "    \n",
    "}"
   ]
  },
  {
   "cell_type": "code",
   "execution_count": null,
   "metadata": {},
   "outputs": [],
   "source": [
    "#temp re-run some chromosomes\n",
    "system(glue::glue(\"\n",
    "cd {working_dir}/rfmix\n",
    "{working_dir}/software/rfmix/rfmix/rfmix -f chr2.split.all_chroms.maf.subset.reheader.vcf.gz -r {working_dir}/software/rfmix/hg38/1kg_chr2.recodeChr.vcf.gz -m {working_dir}/software/rfmix/hg38/1kg_sample_map -g {working_dir}/software/rfmix/hg38/chr2_genetic_map.txt -o chr2.rfmix.output --chromosome=chr2 \n",
    "{working_dir}/software/rfmix/rfmix/rfmix -f chr3.split.all_chroms.maf.subset.reheader.vcf.gz -r {working_dir}/software/rfmix/hg38/1kg_chr3.recodeChr.vcf.gz -m {working_dir}/software/rfmix/hg38/1kg_sample_map -g {working_dir}/software/rfmix/hg38/chr3_genetic_map.txt -o chr3.rfmix.output --chromosome=chr3 \n",
    "{working_dir}/software/rfmix/rfmix/rfmix -f chrX.split.all_chroms.maf.subset.reheader.vcf.gz -r {working_dir}/software/rfmix/hg38/1kg_chrX.recodeChr.vcf.gz -m {working_dir}/software/rfmix/hg38/1kg_sample_map -g {working_dir}/software/rfmix/hg38/chrX_genetic_map.txt -o chrX.rfmix.output --chromosome=chrX \n",
    "{working_dir}/software/rfmix/rfmix/rfmix -f chr5.split.all_chroms.maf.subset.reheader.vcf.gz -r {working_dir}/software/rfmix/hg38/1kg_chr5.recodeChr.vcf.gz -m {working_dir}/software/rfmix/hg38/1kg_sample_map -g {working_dir}/software/rfmix/hg38/chr5_genetic_map.txt -o chr5.rfmix.output --chromosome=chr5 \n",
    "{working_dir}/software/rfmix/rfmix/rfmix -f chr6.split.all_chroms.maf.subset.reheader.vcf.gz -r {working_dir}/software/rfmix/hg38/1kg_chr6.recodeChr.vcf.gz -m {working_dir}/software/rfmix/hg38/1kg_sample_map -g {working_dir}/software/rfmix/hg38/chr6_genetic_map.txt -o chr6.rfmix.output --chromosome=chr6 \n",
    "{working_dir}/software/rfmix/rfmix/rfmix -f chr7.split.all_chroms.maf.subset.reheader.vcf.gz -r {working_dir}/software/rfmix/hg38/1kg_chr7.recodeChr.vcf.gz -m {working_dir}/software/rfmix/hg38/1kg_sample_map -g {working_dir}/software/rfmix/hg38/chr7_genetic_map.txt -o chr7.rfmix.output --chromosome=chr7 \n",
    "{working_dir}/software/rfmix/rfmix/rfmix -f chr8.split.all_chroms.maf.subset.reheader.vcf.gz -r {working_dir}/software/rfmix/hg38/1kg_chr8.recodeChr.vcf.gz -m {working_dir}/software/rfmix/hg38/1kg_sample_map -g {working_dir}/software/rfmix/hg38/chr8_genetic_map.txt -o chr8.rfmix.output --chromosome=chr8 \n",
    "{working_dir}/software/rfmix/rfmix/rfmix -f chr9.split.all_chroms.maf.subset.reheader.vcf.gz -r {working_dir}/software/rfmix/hg38/1kg_chr9.recodeChr.vcf.gz -m {working_dir}/software/rfmix/hg38/1kg_sample_map -g {working_dir}/software/rfmix/hg38/chr9_genetic_map.txt -o chr9.rfmix.output --chromosome=chr9 \n",
    "{working_dir}/software/rfmix/rfmix/rfmix -f chr10.split.all_chroms.maf.subset.reheader.vcf.gz -r {working_dir}/software/rfmix/hg38/1kg_chr10.recodeChr.vcf.gz -m {working_dir}/software/rfmix/hg38/1kg_sample_map -g {working_dir}/software/rfmix/hg38/chr10_genetic_map.txt -o chr10.rfmix.output --chromosome=chr10 \n",
    "{working_dir}/software/rfmix/rfmix/rfmix -f chr11.split.all_chroms.maf.subset.reheader.vcf.gz -r {working_dir}/software/rfmix/hg38/1kg_chr11.recodeChr.vcf.gz -m {working_dir}/software/rfmix/hg38/1kg_sample_map -g {working_dir}/software/rfmix/hg38/chr11_genetic_map.txt -o chr11.rfmix.output --chromosome=chr11 \n",
    "{working_dir}/software/rfmix/rfmix/rfmix -f chr12.split.all_chroms.maf.subset.reheader.vcf.gz -r {working_dir}/software/rfmix/hg38/1kg_chr12.recodeChr.vcf.gz -m {working_dir}/software/rfmix/hg38/1kg_sample_map -g {working_dir}/software/rfmix/hg38/chr12_genetic_map.txt -o chr12.rfmix.output --chromosome=chr12\n",
    "\"))\n",
    "\n",
    "setwd('/home/jupyter/Ancestry/rfmix')\n",
    "finished.files = list.files(path = \".\", pattern = \".Q\")\n",
    "while(length(finished.files) != 23){\n",
    "    Sys.sleep(5)\n",
    "}\n",
    "show_msg(\"All files are now complete!\")\n",
    "finished.files"
   ]
  },
  {
   "cell_type": "code",
   "execution_count": null,
   "metadata": {},
   "outputs": [],
   "source": []
  }
 ],
 "metadata": {
  "kernelspec": {
   "display_name": "R",
   "language": "R",
   "name": "ir"
  },
  "language_info": {
   "codemirror_mode": "r",
   "file_extension": ".r",
   "mimetype": "text/x-r-source",
   "name": "R",
   "pygments_lexer": "r",
   "version": "4.1.2"
  },
  "toc": {
   "base_numbering": 1,
   "nav_menu": {},
   "number_sections": true,
   "sideBar": true,
   "skip_h1_title": false,
   "title_cell": "Table of Contents",
   "title_sidebar": "Contents",
   "toc_cell": false,
   "toc_position": {},
   "toc_section_display": true,
   "toc_window_display": false
  }
 },
 "nbformat": 4,
 "nbformat_minor": 2
}
