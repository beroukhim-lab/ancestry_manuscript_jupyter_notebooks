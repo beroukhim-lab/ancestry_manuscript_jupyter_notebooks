{
 "cells": [
  {
   "cell_type": "markdown",
   "metadata": {},
   "source": [
    "The purpose of this notebook is simple, calculate the number of guides that have a SNV in them in at least one cell line. I've already written most of this code in other notebooks, it is just a matter of pulling it all togethere here and counting it."
   ]
  },
  {
   "cell_type": "code",
   "execution_count": 1,
   "metadata": {},
   "outputs": [
    {
     "name": "stderr",
     "output_type": "stream",
     "text": [
      "Warning message in system(\"timedatectl\", intern = TRUE):\n",
      "“running command 'timedatectl' had status 1”\n",
      "── \u001b[1mAttaching packages\u001b[22m ─────────────────────────────────────── tidyverse 1.3.2 ──\n",
      "\u001b[32m✔\u001b[39m \u001b[34mggplot2\u001b[39m 3.4.2     \u001b[32m✔\u001b[39m \u001b[34mpurrr  \u001b[39m 0.3.4\n",
      "\u001b[32m✔\u001b[39m \u001b[34mtibble \u001b[39m 3.2.1     \u001b[32m✔\u001b[39m \u001b[34mdplyr  \u001b[39m 1.0.9\n",
      "\u001b[32m✔\u001b[39m \u001b[34mtidyr  \u001b[39m 1.2.0     \u001b[32m✔\u001b[39m \u001b[34mstringr\u001b[39m 1.5.0\n",
      "\u001b[32m✔\u001b[39m \u001b[34mreadr  \u001b[39m 2.1.4     \u001b[32m✔\u001b[39m \u001b[34mforcats\u001b[39m 0.5.1\n",
      "── \u001b[1mConflicts\u001b[22m ────────────────────────────────────────── tidyverse_conflicts() ──\n",
      "\u001b[31m✖\u001b[39m \u001b[34mdplyr\u001b[39m::\u001b[32mfilter()\u001b[39m masks \u001b[34mstats\u001b[39m::filter()\n",
      "\u001b[31m✖\u001b[39m \u001b[34mdplyr\u001b[39m::\u001b[32mlag()\u001b[39m    masks \u001b[34mstats\u001b[39m::lag()\n",
      "\n",
      "Attaching package: ‘reshape2’\n",
      "\n",
      "\n",
      "The following object is masked from ‘package:tidyr’:\n",
      "\n",
      "    smiths\n",
      "\n",
      "\n",
      "\n",
      "Attaching package: ‘janitor’\n",
      "\n",
      "\n",
      "The following objects are masked from ‘package:stats’:\n",
      "\n",
      "    chisq.test, fisher.test\n",
      "\n",
      "\n"
     ]
    }
   ],
   "source": [
    "#Set up the environment\n",
    "library(tidyverse)\n",
    "library(reshape2)\n",
    "library(janitor)\n",
    "\n",
    "#Define functions\n",
    "show_msg <- function(x){ \n",
    "    print(x)\n",
    "    flush.console()\n",
    "}"
   ]
  },
  {
   "cell_type": "code",
   "execution_count": 2,
   "metadata": {},
   "outputs": [
    {
     "data": {
      "text/html": [
       "<table class=\"dataframe\">\n",
       "<caption>A data.frame: 6 × 4</caption>\n",
       "<thead>\n",
       "\t<tr><th></th><th scope=col>chr</th><th scope=col>start</th><th scope=col>end</th><th scope=col>sgrna</th></tr>\n",
       "\t<tr><th></th><th scope=col>&lt;chr&gt;</th><th scope=col>&lt;int&gt;</th><th scope=col>&lt;dbl&gt;</th><th scope=col>&lt;chr&gt;</th></tr>\n",
       "</thead>\n",
       "<tbody>\n",
       "\t<tr><th scope=row>1</th><td>chr1</td><td> 69527</td><td> 69550</td><td>TCTCCATTCGGTGAGCCAGT</td></tr>\n",
       "\t<tr><th scope=row>2</th><td>chr1</td><td>168646</td><td>168669</td><td>TGTAGTCCCAGCTACTCAGG</td></tr>\n",
       "\t<tr><th scope=row>3</th><td>chr1</td><td>383420</td><td>383443</td><td>GAGAATCTCTTGAACCCGGG</td></tr>\n",
       "\t<tr><th scope=row>4</th><td>chr1</td><td>424270</td><td>424293</td><td>TGTAATCCCAGTACTTTGGG</td></tr>\n",
       "\t<tr><th scope=row>5</th><td>chr1</td><td>451271</td><td>451294</td><td>ATAATGGTCAGATAGTGGAG</td></tr>\n",
       "\t<tr><th scope=row>6</th><td>chr1</td><td>451344</td><td>451367</td><td>TCTCCACACCACCAACGACG</td></tr>\n",
       "</tbody>\n",
       "</table>\n"
      ],
      "text/latex": [
       "A data.frame: 6 × 4\n",
       "\\begin{tabular}{r|llll}\n",
       "  & chr & start & end & sgrna\\\\\n",
       "  & <chr> & <int> & <dbl> & <chr>\\\\\n",
       "\\hline\n",
       "\t1 & chr1 &  69527 &  69550 & TCTCCATTCGGTGAGCCAGT\\\\\n",
       "\t2 & chr1 & 168646 & 168669 & TGTAGTCCCAGCTACTCAGG\\\\\n",
       "\t3 & chr1 & 383420 & 383443 & GAGAATCTCTTGAACCCGGG\\\\\n",
       "\t4 & chr1 & 424270 & 424293 & TGTAATCCCAGTACTTTGGG\\\\\n",
       "\t5 & chr1 & 451271 & 451294 & ATAATGGTCAGATAGTGGAG\\\\\n",
       "\t6 & chr1 & 451344 & 451367 & TCTCCACACCACCAACGACG\\\\\n",
       "\\end{tabular}\n"
      ],
      "text/markdown": [
       "\n",
       "A data.frame: 6 × 4\n",
       "\n",
       "| <!--/--> | chr &lt;chr&gt; | start &lt;int&gt; | end &lt;dbl&gt; | sgrna &lt;chr&gt; |\n",
       "|---|---|---|---|---|\n",
       "| 1 | chr1 |  69527 |  69550 | TCTCCATTCGGTGAGCCAGT |\n",
       "| 2 | chr1 | 168646 | 168669 | TGTAGTCCCAGCTACTCAGG |\n",
       "| 3 | chr1 | 383420 | 383443 | GAGAATCTCTTGAACCCGGG |\n",
       "| 4 | chr1 | 424270 | 424293 | TGTAATCCCAGTACTTTGGG |\n",
       "| 5 | chr1 | 451271 | 451294 | ATAATGGTCAGATAGTGGAG |\n",
       "| 6 | chr1 | 451344 | 451367 | TCTCCACACCACCAACGACG |\n",
       "\n"
      ],
      "text/plain": [
       "  chr  start  end    sgrna               \n",
       "1 chr1  69527  69550 TCTCCATTCGGTGAGCCAGT\n",
       "2 chr1 168646 168669 TGTAGTCCCAGCTACTCAGG\n",
       "3 chr1 383420 383443 GAGAATCTCTTGAACCCGGG\n",
       "4 chr1 424270 424293 TGTAATCCCAGTACTTTGGG\n",
       "5 chr1 451271 451294 ATAATGGTCAGATAGTGGAG\n",
       "6 chr1 451344 451367 TCTCCACACCACCAACGACG"
      ]
     },
     "metadata": {},
     "output_type": "display_data"
    }
   ],
   "source": [
    "#Load in the avana bed file\n",
    "setwd(\"/home/jupyter/Ancestry/filtered_output/avana14\")\n",
    "avana.bed <- read.table('Avana14_filtering.bed', sep = \"\\t\", header = F) %>%\n",
    "rename(\"chr\" = 1, \"start\" = 2, \"end\" = 3, \"sgrna\" = 4) \n",
    "head(avana.bed)"
   ]
  },
  {
   "cell_type": "code",
   "execution_count": 3,
   "metadata": {},
   "outputs": [],
   "source": [
    "#Filter the ccle variant calls so that it only includes SNPs that map to at least one sgRNA targeting sequence\n",
    "#Now use bcftools to subset the big ccle snp matrix to only include SNPs in that range\n",
    "system(glue::glue(\"\n",
    "cd /home/jupyter/Ancestry/rfmix\n",
    "/home/jupyter/Ancestry/software/bcftools/bcftools view -R /home/jupyter/Ancestry/filtered_output/avana14/Avana14_filtering.bed split.all_chroms.maf.subset.reheader.vcf.gz -o /home/jupyter/Ancestry/analysis/map_ccle_snps_to_avana_guides/snps.in.all.avana.guides.vcf.gz -Oz\n",
    "\"))"
   ]
  },
  {
   "cell_type": "code",
   "execution_count": 3,
   "metadata": {},
   "outputs": [
    {
     "data": {
      "text/html": [
       "<table class=\"dataframe\">\n",
       "<caption>A data.frame: 6 × 998</caption>\n",
       "<thead>\n",
       "\t<tr><th></th><th scope=col>chr</th><th scope=col>pos</th><th scope=col>ref</th><th scope=col>alt</th><th scope=col>V10</th><th scope=col>V11</th><th scope=col>V12</th><th scope=col>V13</th><th scope=col>V14</th><th scope=col>V15</th><th scope=col>⋯</th><th scope=col>V994</th><th scope=col>V995</th><th scope=col>V996</th><th scope=col>V997</th><th scope=col>V998</th><th scope=col>V999</th><th scope=col>V1000</th><th scope=col>V1001</th><th scope=col>V1002</th><th scope=col>V1003</th></tr>\n",
       "\t<tr><th></th><th scope=col>&lt;chr&gt;</th><th scope=col>&lt;chr&gt;</th><th scope=col>&lt;chr&gt;</th><th scope=col>&lt;chr&gt;</th><th scope=col>&lt;chr&gt;</th><th scope=col>&lt;chr&gt;</th><th scope=col>&lt;chr&gt;</th><th scope=col>&lt;chr&gt;</th><th scope=col>&lt;chr&gt;</th><th scope=col>&lt;chr&gt;</th><th scope=col>⋯</th><th scope=col>&lt;chr&gt;</th><th scope=col>&lt;chr&gt;</th><th scope=col>&lt;chr&gt;</th><th scope=col>&lt;chr&gt;</th><th scope=col>&lt;chr&gt;</th><th scope=col>&lt;chr&gt;</th><th scope=col>&lt;chr&gt;</th><th scope=col>&lt;chr&gt;</th><th scope=col>&lt;chr&gt;</th><th scope=col>&lt;chr&gt;</th></tr>\n",
       "</thead>\n",
       "<tbody>\n",
       "\t<tr><th scope=row>1</th><td>chr1</td><td>1407014</td><td>G</td><td>A</td><td>0</td><td>0</td><td>0</td><td>0</td><td>0</td><td>0</td><td>⋯</td><td>0</td><td>0</td><td>0</td><td>0</td><td>0</td><td>0</td><td>0</td><td>0</td><td>0</td><td>0</td></tr>\n",
       "\t<tr><th scope=row>2</th><td>chr1</td><td>1471992</td><td>T</td><td>C</td><td>2</td><td>2</td><td>1</td><td>0</td><td>1</td><td>0</td><td>⋯</td><td>1</td><td>2</td><td>2</td><td>2</td><td>0</td><td>1</td><td>1</td><td>1</td><td>0</td><td>0</td></tr>\n",
       "\t<tr><th scope=row>3</th><td>chr1</td><td>1918305</td><td>G</td><td>A</td><td>1</td><td>0</td><td>0</td><td>0</td><td>0</td><td>0</td><td>⋯</td><td>0</td><td>0</td><td>0</td><td>0</td><td>0</td><td>0</td><td>0</td><td>1</td><td>1</td><td>1</td></tr>\n",
       "\t<tr><th scope=row>4</th><td>chr1</td><td>2028260</td><td>G</td><td>A</td><td>0</td><td>0</td><td>0</td><td>0</td><td>0</td><td>0</td><td>⋯</td><td>0</td><td>0</td><td>0</td><td>0</td><td>0</td><td>0</td><td>0</td><td>0</td><td>0</td><td>0</td></tr>\n",
       "\t<tr><th scope=row>5</th><td>chr1</td><td>2351722</td><td>A</td><td>G</td><td>2</td><td>0</td><td>1</td><td>1</td><td>0</td><td>0</td><td>⋯</td><td>0</td><td>1</td><td>0</td><td>2</td><td>0</td><td>0</td><td>0</td><td>0</td><td>1</td><td>0</td></tr>\n",
       "\t<tr><th scope=row>6</th><td>chr1</td><td>2408761</td><td>T</td><td>C</td><td>1</td><td>2</td><td>2</td><td>2</td><td>2</td><td>2</td><td>⋯</td><td>2</td><td>2</td><td>2</td><td>2</td><td>1</td><td>1</td><td>0</td><td>2</td><td>1</td><td>2</td></tr>\n",
       "</tbody>\n",
       "</table>\n"
      ],
      "text/latex": [
       "A data.frame: 6 × 998\n",
       "\\begin{tabular}{r|lllllllllllllllllllll}\n",
       "  & chr & pos & ref & alt & V10 & V11 & V12 & V13 & V14 & V15 & ⋯ & V994 & V995 & V996 & V997 & V998 & V999 & V1000 & V1001 & V1002 & V1003\\\\\n",
       "  & <chr> & <chr> & <chr> & <chr> & <chr> & <chr> & <chr> & <chr> & <chr> & <chr> & ⋯ & <chr> & <chr> & <chr> & <chr> & <chr> & <chr> & <chr> & <chr> & <chr> & <chr>\\\\\n",
       "\\hline\n",
       "\t1 & chr1 & 1407014 & G & A & 0 & 0 & 0 & 0 & 0 & 0 & ⋯ & 0 & 0 & 0 & 0 & 0 & 0 & 0 & 0 & 0 & 0\\\\\n",
       "\t2 & chr1 & 1471992 & T & C & 2 & 2 & 1 & 0 & 1 & 0 & ⋯ & 1 & 2 & 2 & 2 & 0 & 1 & 1 & 1 & 0 & 0\\\\\n",
       "\t3 & chr1 & 1918305 & G & A & 1 & 0 & 0 & 0 & 0 & 0 & ⋯ & 0 & 0 & 0 & 0 & 0 & 0 & 0 & 1 & 1 & 1\\\\\n",
       "\t4 & chr1 & 2028260 & G & A & 0 & 0 & 0 & 0 & 0 & 0 & ⋯ & 0 & 0 & 0 & 0 & 0 & 0 & 0 & 0 & 0 & 0\\\\\n",
       "\t5 & chr1 & 2351722 & A & G & 2 & 0 & 1 & 1 & 0 & 0 & ⋯ & 0 & 1 & 0 & 2 & 0 & 0 & 0 & 0 & 1 & 0\\\\\n",
       "\t6 & chr1 & 2408761 & T & C & 1 & 2 & 2 & 2 & 2 & 2 & ⋯ & 2 & 2 & 2 & 2 & 1 & 1 & 0 & 2 & 1 & 2\\\\\n",
       "\\end{tabular}\n"
      ],
      "text/markdown": [
       "\n",
       "A data.frame: 6 × 998\n",
       "\n",
       "| <!--/--> | chr &lt;chr&gt; | pos &lt;chr&gt; | ref &lt;chr&gt; | alt &lt;chr&gt; | V10 &lt;chr&gt; | V11 &lt;chr&gt; | V12 &lt;chr&gt; | V13 &lt;chr&gt; | V14 &lt;chr&gt; | V15 &lt;chr&gt; | ⋯ ⋯ | V994 &lt;chr&gt; | V995 &lt;chr&gt; | V996 &lt;chr&gt; | V997 &lt;chr&gt; | V998 &lt;chr&gt; | V999 &lt;chr&gt; | V1000 &lt;chr&gt; | V1001 &lt;chr&gt; | V1002 &lt;chr&gt; | V1003 &lt;chr&gt; |\n",
       "|---|---|---|---|---|---|---|---|---|---|---|---|---|---|---|---|---|---|---|---|---|---|\n",
       "| 1 | chr1 | 1407014 | G | A | 0 | 0 | 0 | 0 | 0 | 0 | ⋯ | 0 | 0 | 0 | 0 | 0 | 0 | 0 | 0 | 0 | 0 |\n",
       "| 2 | chr1 | 1471992 | T | C | 2 | 2 | 1 | 0 | 1 | 0 | ⋯ | 1 | 2 | 2 | 2 | 0 | 1 | 1 | 1 | 0 | 0 |\n",
       "| 3 | chr1 | 1918305 | G | A | 1 | 0 | 0 | 0 | 0 | 0 | ⋯ | 0 | 0 | 0 | 0 | 0 | 0 | 0 | 1 | 1 | 1 |\n",
       "| 4 | chr1 | 2028260 | G | A | 0 | 0 | 0 | 0 | 0 | 0 | ⋯ | 0 | 0 | 0 | 0 | 0 | 0 | 0 | 0 | 0 | 0 |\n",
       "| 5 | chr1 | 2351722 | A | G | 2 | 0 | 1 | 1 | 0 | 0 | ⋯ | 0 | 1 | 0 | 2 | 0 | 0 | 0 | 0 | 1 | 0 |\n",
       "| 6 | chr1 | 2408761 | T | C | 1 | 2 | 2 | 2 | 2 | 2 | ⋯ | 2 | 2 | 2 | 2 | 1 | 1 | 0 | 2 | 1 | 2 |\n",
       "\n"
      ],
      "text/plain": [
       "  chr  pos     ref alt V10 V11 V12 V13 V14 V15 ⋯ V994 V995 V996 V997 V998 V999\n",
       "1 chr1 1407014 G   A   0   0   0   0   0   0   ⋯ 0    0    0    0    0    0   \n",
       "2 chr1 1471992 T   C   2   2   1   0   1   0   ⋯ 1    2    2    2    0    1   \n",
       "3 chr1 1918305 G   A   1   0   0   0   0   0   ⋯ 0    0    0    0    0    0   \n",
       "4 chr1 2028260 G   A   0   0   0   0   0   0   ⋯ 0    0    0    0    0    0   \n",
       "5 chr1 2351722 A   G   2   0   1   1   0   0   ⋯ 0    1    0    2    0    0   \n",
       "6 chr1 2408761 T   C   1   2   2   2   2   2   ⋯ 2    2    2    2    1    1   \n",
       "  V1000 V1001 V1002 V1003\n",
       "1 0     0     0     0    \n",
       "2 1     1     0     0    \n",
       "3 0     1     1     1    \n",
       "4 0     0     0     0    \n",
       "5 0     0     1     0    \n",
       "6 0     2     1     2    "
      ]
     },
     "metadata": {},
     "output_type": "display_data"
    },
    {
     "data": {
      "text/html": [
       "<style>\n",
       ".list-inline {list-style: none; margin:0; padding: 0}\n",
       ".list-inline>li {display: inline-block}\n",
       ".list-inline>li:not(:last-child)::after {content: \"\\00b7\"; padding: 0 .5ex}\n",
       "</style>\n",
       "<ol class=list-inline><li>3432</li><li>998</li></ol>\n"
      ],
      "text/latex": [
       "\\begin{enumerate*}\n",
       "\\item 3432\n",
       "\\item 998\n",
       "\\end{enumerate*}\n"
      ],
      "text/markdown": [
       "1. 3432\n",
       "2. 998\n",
       "\n",
       "\n"
      ],
      "text/plain": [
       "[1] 3432  998"
      ]
     },
     "metadata": {},
     "output_type": "display_data"
    },
    {
     "data": {
      "text/html": [
       "<style>\n",
       ".list-inline {list-style: none; margin:0; padding: 0}\n",
       ".list-inline>li {display: inline-block}\n",
       ".list-inline>li:not(:last-child)::after {content: \"\\00b7\"; padding: 0 .5ex}\n",
       "</style>\n",
       "<ol class=list-inline><li>'ACH-000657'</li><li>'ACH-000617'</li><li>'ACH-000685'</li><li>'ACH-000632'</li><li>'ACH-000171'</li><li>'ACH-000863'</li></ol>\n"
      ],
      "text/latex": [
       "\\begin{enumerate*}\n",
       "\\item 'ACH-000657'\n",
       "\\item 'ACH-000617'\n",
       "\\item 'ACH-000685'\n",
       "\\item 'ACH-000632'\n",
       "\\item 'ACH-000171'\n",
       "\\item 'ACH-000863'\n",
       "\\end{enumerate*}\n"
      ],
      "text/markdown": [
       "1. 'ACH-000657'\n",
       "2. 'ACH-000617'\n",
       "3. 'ACH-000685'\n",
       "4. 'ACH-000632'\n",
       "5. 'ACH-000171'\n",
       "6. 'ACH-000863'\n",
       "\n",
       "\n"
      ],
      "text/plain": [
       "[1] \"ACH-000657\" \"ACH-000617\" \"ACH-000685\" \"ACH-000632\" \"ACH-000171\"\n",
       "[6] \"ACH-000863\""
      ]
     },
     "metadata": {},
     "output_type": "display_data"
    },
    {
     "data": {
      "text/html": [
       "<table class=\"dataframe\">\n",
       "<caption>A data.frame: 6 × 998</caption>\n",
       "<thead>\n",
       "\t<tr><th></th><th scope=col>chr</th><th scope=col>pos</th><th scope=col>ref</th><th scope=col>alt</th><th scope=col>ACH-000657</th><th scope=col>ACH-000617</th><th scope=col>ACH-000685</th><th scope=col>ACH-000632</th><th scope=col>ACH-000171</th><th scope=col>ACH-000863</th><th scope=col>⋯</th><th scope=col>ACH-000981</th><th scope=col>ACH-000217</th><th scope=col>ACH-000116</th><th scope=col>ACH-000930</th><th scope=col>ACH-000986</th><th scope=col>ACH-000342</th><th scope=col>ACH-001130</th><th scope=col>ACH-000287</th><th scope=col>ACH-000798</th><th scope=col>ACH-000645</th></tr>\n",
       "\t<tr><th></th><th scope=col>&lt;chr&gt;</th><th scope=col>&lt;chr&gt;</th><th scope=col>&lt;chr&gt;</th><th scope=col>&lt;chr&gt;</th><th scope=col>&lt;chr&gt;</th><th scope=col>&lt;chr&gt;</th><th scope=col>&lt;chr&gt;</th><th scope=col>&lt;chr&gt;</th><th scope=col>&lt;chr&gt;</th><th scope=col>&lt;chr&gt;</th><th scope=col>⋯</th><th scope=col>&lt;chr&gt;</th><th scope=col>&lt;chr&gt;</th><th scope=col>&lt;chr&gt;</th><th scope=col>&lt;chr&gt;</th><th scope=col>&lt;chr&gt;</th><th scope=col>&lt;chr&gt;</th><th scope=col>&lt;chr&gt;</th><th scope=col>&lt;chr&gt;</th><th scope=col>&lt;chr&gt;</th><th scope=col>&lt;chr&gt;</th></tr>\n",
       "</thead>\n",
       "<tbody>\n",
       "\t<tr><th scope=row>1</th><td>chr1</td><td>1407014</td><td>G</td><td>A</td><td>0</td><td>0</td><td>0</td><td>0</td><td>0</td><td>0</td><td>⋯</td><td>0</td><td>0</td><td>0</td><td>0</td><td>0</td><td>0</td><td>0</td><td>0</td><td>0</td><td>0</td></tr>\n",
       "\t<tr><th scope=row>2</th><td>chr1</td><td>1471992</td><td>T</td><td>C</td><td>2</td><td>2</td><td>1</td><td>0</td><td>1</td><td>0</td><td>⋯</td><td>1</td><td>2</td><td>2</td><td>2</td><td>0</td><td>1</td><td>1</td><td>1</td><td>0</td><td>0</td></tr>\n",
       "\t<tr><th scope=row>3</th><td>chr1</td><td>1918305</td><td>G</td><td>A</td><td>1</td><td>0</td><td>0</td><td>0</td><td>0</td><td>0</td><td>⋯</td><td>0</td><td>0</td><td>0</td><td>0</td><td>0</td><td>0</td><td>0</td><td>1</td><td>1</td><td>1</td></tr>\n",
       "\t<tr><th scope=row>4</th><td>chr1</td><td>2028260</td><td>G</td><td>A</td><td>0</td><td>0</td><td>0</td><td>0</td><td>0</td><td>0</td><td>⋯</td><td>0</td><td>0</td><td>0</td><td>0</td><td>0</td><td>0</td><td>0</td><td>0</td><td>0</td><td>0</td></tr>\n",
       "\t<tr><th scope=row>5</th><td>chr1</td><td>2351722</td><td>A</td><td>G</td><td>2</td><td>0</td><td>1</td><td>1</td><td>0</td><td>0</td><td>⋯</td><td>0</td><td>1</td><td>0</td><td>2</td><td>0</td><td>0</td><td>0</td><td>0</td><td>1</td><td>0</td></tr>\n",
       "\t<tr><th scope=row>6</th><td>chr1</td><td>2408761</td><td>T</td><td>C</td><td>1</td><td>2</td><td>2</td><td>2</td><td>2</td><td>2</td><td>⋯</td><td>2</td><td>2</td><td>2</td><td>2</td><td>1</td><td>1</td><td>0</td><td>2</td><td>1</td><td>2</td></tr>\n",
       "</tbody>\n",
       "</table>\n"
      ],
      "text/latex": [
       "A data.frame: 6 × 998\n",
       "\\begin{tabular}{r|lllllllllllllllllllll}\n",
       "  & chr & pos & ref & alt & ACH-000657 & ACH-000617 & ACH-000685 & ACH-000632 & ACH-000171 & ACH-000863 & ⋯ & ACH-000981 & ACH-000217 & ACH-000116 & ACH-000930 & ACH-000986 & ACH-000342 & ACH-001130 & ACH-000287 & ACH-000798 & ACH-000645\\\\\n",
       "  & <chr> & <chr> & <chr> & <chr> & <chr> & <chr> & <chr> & <chr> & <chr> & <chr> & ⋯ & <chr> & <chr> & <chr> & <chr> & <chr> & <chr> & <chr> & <chr> & <chr> & <chr>\\\\\n",
       "\\hline\n",
       "\t1 & chr1 & 1407014 & G & A & 0 & 0 & 0 & 0 & 0 & 0 & ⋯ & 0 & 0 & 0 & 0 & 0 & 0 & 0 & 0 & 0 & 0\\\\\n",
       "\t2 & chr1 & 1471992 & T & C & 2 & 2 & 1 & 0 & 1 & 0 & ⋯ & 1 & 2 & 2 & 2 & 0 & 1 & 1 & 1 & 0 & 0\\\\\n",
       "\t3 & chr1 & 1918305 & G & A & 1 & 0 & 0 & 0 & 0 & 0 & ⋯ & 0 & 0 & 0 & 0 & 0 & 0 & 0 & 1 & 1 & 1\\\\\n",
       "\t4 & chr1 & 2028260 & G & A & 0 & 0 & 0 & 0 & 0 & 0 & ⋯ & 0 & 0 & 0 & 0 & 0 & 0 & 0 & 0 & 0 & 0\\\\\n",
       "\t5 & chr1 & 2351722 & A & G & 2 & 0 & 1 & 1 & 0 & 0 & ⋯ & 0 & 1 & 0 & 2 & 0 & 0 & 0 & 0 & 1 & 0\\\\\n",
       "\t6 & chr1 & 2408761 & T & C & 1 & 2 & 2 & 2 & 2 & 2 & ⋯ & 2 & 2 & 2 & 2 & 1 & 1 & 0 & 2 & 1 & 2\\\\\n",
       "\\end{tabular}\n"
      ],
      "text/markdown": [
       "\n",
       "A data.frame: 6 × 998\n",
       "\n",
       "| <!--/--> | chr &lt;chr&gt; | pos &lt;chr&gt; | ref &lt;chr&gt; | alt &lt;chr&gt; | ACH-000657 &lt;chr&gt; | ACH-000617 &lt;chr&gt; | ACH-000685 &lt;chr&gt; | ACH-000632 &lt;chr&gt; | ACH-000171 &lt;chr&gt; | ACH-000863 &lt;chr&gt; | ⋯ ⋯ | ACH-000981 &lt;chr&gt; | ACH-000217 &lt;chr&gt; | ACH-000116 &lt;chr&gt; | ACH-000930 &lt;chr&gt; | ACH-000986 &lt;chr&gt; | ACH-000342 &lt;chr&gt; | ACH-001130 &lt;chr&gt; | ACH-000287 &lt;chr&gt; | ACH-000798 &lt;chr&gt; | ACH-000645 &lt;chr&gt; |\n",
       "|---|---|---|---|---|---|---|---|---|---|---|---|---|---|---|---|---|---|---|---|---|---|\n",
       "| 1 | chr1 | 1407014 | G | A | 0 | 0 | 0 | 0 | 0 | 0 | ⋯ | 0 | 0 | 0 | 0 | 0 | 0 | 0 | 0 | 0 | 0 |\n",
       "| 2 | chr1 | 1471992 | T | C | 2 | 2 | 1 | 0 | 1 | 0 | ⋯ | 1 | 2 | 2 | 2 | 0 | 1 | 1 | 1 | 0 | 0 |\n",
       "| 3 | chr1 | 1918305 | G | A | 1 | 0 | 0 | 0 | 0 | 0 | ⋯ | 0 | 0 | 0 | 0 | 0 | 0 | 0 | 1 | 1 | 1 |\n",
       "| 4 | chr1 | 2028260 | G | A | 0 | 0 | 0 | 0 | 0 | 0 | ⋯ | 0 | 0 | 0 | 0 | 0 | 0 | 0 | 0 | 0 | 0 |\n",
       "| 5 | chr1 | 2351722 | A | G | 2 | 0 | 1 | 1 | 0 | 0 | ⋯ | 0 | 1 | 0 | 2 | 0 | 0 | 0 | 0 | 1 | 0 |\n",
       "| 6 | chr1 | 2408761 | T | C | 1 | 2 | 2 | 2 | 2 | 2 | ⋯ | 2 | 2 | 2 | 2 | 1 | 1 | 0 | 2 | 1 | 2 |\n",
       "\n"
      ],
      "text/plain": [
       "  chr  pos     ref alt ACH-000657 ACH-000617 ACH-000685 ACH-000632 ACH-000171\n",
       "1 chr1 1407014 G   A   0          0          0          0          0         \n",
       "2 chr1 1471992 T   C   2          2          1          0          1         \n",
       "3 chr1 1918305 G   A   1          0          0          0          0         \n",
       "4 chr1 2028260 G   A   0          0          0          0          0         \n",
       "5 chr1 2351722 A   G   2          0          1          1          0         \n",
       "6 chr1 2408761 T   C   1          2          2          2          2         \n",
       "  ACH-000863 ⋯ ACH-000981 ACH-000217 ACH-000116 ACH-000930 ACH-000986\n",
       "1 0          ⋯ 0          0          0          0          0         \n",
       "2 0          ⋯ 1          2          2          2          0         \n",
       "3 0          ⋯ 0          0          0          0          0         \n",
       "4 0          ⋯ 0          0          0          0          0         \n",
       "5 0          ⋯ 0          1          0          2          0         \n",
       "6 2          ⋯ 2          2          2          2          1         \n",
       "  ACH-000342 ACH-001130 ACH-000287 ACH-000798 ACH-000645\n",
       "1 0          0          0          0          0         \n",
       "2 1          1          1          0          0         \n",
       "3 0          0          1          1          1         \n",
       "4 0          0          0          0          0         \n",
       "5 0          0          0          1          0         \n",
       "6 1          0          2          1          2         "
      ]
     },
     "metadata": {},
     "output_type": "display_data"
    }
   ],
   "source": [
    "#First, load in the ccle variants and format the dataset so that it looks nice\n",
    "setwd(\"/home/jupyter/Ancestry/analysis/map_ccle_snps_to_avana_guides\")\n",
    "ccle.variant.calls = read.table(\"snps.in.all.avana.guides.vcf.gz\", sep = \"\\t\") %>%\n",
    "filter(V7 %in% \"PASS\") %>%\n",
    "select(-V1, -V2, -V4, -V5, -V6, -V7, -V8, -V9)\n",
    "\n",
    "#Reformat the genotyping data\n",
    "ccle.variant.calls[2:ncol(ccle.variant.calls)] = apply(ccle.variant.calls[2:ncol(ccle.variant.calls)], 2, function(x){gsub(\":..*\", \"\", x) })\n",
    "ccle.variant.calls[2:ncol(ccle.variant.calls)] = apply(ccle.variant.calls[2:ncol(ccle.variant.calls)], 2, function(x){gsub(\"0\\\\|0\", 0, x) })\n",
    "ccle.variant.calls[2:ncol(ccle.variant.calls)] = apply(ccle.variant.calls[2:ncol(ccle.variant.calls)], 2, function(x){gsub(\"0\\\\|1\", 1, x) })\n",
    "ccle.variant.calls[2:ncol(ccle.variant.calls)] = apply(ccle.variant.calls[2:ncol(ccle.variant.calls)], 2, function(x){gsub(\"1\\\\|0\", 1, x) })\n",
    "ccle.variant.calls[2:ncol(ccle.variant.calls)] = apply(ccle.variant.calls[2:ncol(ccle.variant.calls)], 2, function(x){gsub(\"1\\\\|1\", 2, x) })\n",
    "\n",
    "#Fix the SNP column\n",
    "ccle.variant.calls = ccle.variant.calls %>%\n",
    "separate(V3, sep = \":\", into = c(\"chr\", \"pos\", \"ref\", \"alt\"))\n",
    "\n",
    "head(ccle.variant.calls)\n",
    "dim(ccle.variant.calls)\n",
    "\n",
    "\n",
    "#Then fix the names on that dataset\n",
    "#First extract the sample names from the vcf file, then load them into R\n",
    "system(glue::glue(\"\n",
    "cd /home/jupyter/Ancestry/analysis/map_ccle_snps_to_avana_guides\n",
    "/home/jupyter/Ancestry/software/bcftools/bcftools query -l /home/jupyter/Ancestry/analysis/map_ccle_snps_to_avana_guides/snps.in.ancestry.guides.vcf.gz > ccle.sample.names.txt\n",
    "\"))\n",
    "\n",
    "setwd(\"/home/jupyter/Ancestry/analysis/map_ccle_snps_to_avana_guides\")\n",
    "sample.names = read.table(\"ccle.sample.names.txt\", sep = \"\\t\") %>%\n",
    "pull(1)\n",
    "head(sample.names)\n",
    "\n",
    "\n",
    "ccle.variant.calls = ccle.variant.calls\n",
    "colnames(ccle.variant.calls) = c(\"chr\", \"pos\", \"ref\", \"alt\", sample.names)\n",
    "head(ccle.variant.calls)"
   ]
  },
  {
   "cell_type": "code",
   "execution_count": 4,
   "metadata": {},
   "outputs": [],
   "source": [
    "#For each guide in avana.bed calculate if there is a snp in the guide, then calculate the position of that SNP\n",
    "snp.in.guide.list = NULL\n",
    "for(i in 1:nrow(avana.bed)){\n",
    "  \n",
    "    #get information for the guide of interest\n",
    "    guide.start = avana.bed$start[i] %>% as.numeric() #get the position of the guide\n",
    "    guide.chrom = avana.bed$chr[i] #get the chromosome that the guide is on\n",
    "    sgrna.barcode = avana.bed$sgrna[i] #get the barcode sequence\n",
    "    \n",
    "    #subset out subset.ccle.snps so that it only includes snps on that chromsome\n",
    "    subset.to.chr = ccle.variant.calls %>% filter(chr %in% guide.chrom)\n",
    "    \n",
    "    #now calculate the differential and add it to the list outside of the loop\n",
    "    snp.position = guide.start - as.numeric(subset.to.chr$pos)\n",
    "    snp.in.guide.list[[i]] = snp.position\n",
    "}\n",
    "names(snp.in.guide.list) = avana.bed$sgrna #Then name the list with the corresponding sgrna sequence"
   ]
  },
  {
   "cell_type": "code",
   "execution_count": 5,
   "metadata": {},
   "outputs": [],
   "source": [
    "#Assign the SNP ID as names for each vector\n",
    "\n",
    "annotated.snp.in.guide.list = NULL\n",
    "for(i in 1:length(snp.in.guide.list)){\n",
    "        \n",
    "    chromosome = avana.bed$chr[i] #get the chromosome which that guide targets\n",
    "    \n",
    "    #Now get a vector of snp positions and annotate the relative snp position vector with that information\n",
    "    vector.to.annotate = snp.in.guide.list[[i]] #grab the vector that we need to annotate in this loop\n",
    "    snp.vector = ccle.variant.calls %>% filter(chr %in% chromosome) %>% mutate(snp = paste(chr, \":\", pos, \":\", ref, \":\", alt, sep = \"\")) %>% pull(snp) #make a vector that contains the snp information\n",
    "    names(vector.to.annotate) = snp.vector #now apply that annotation to the vector of snp positions\n",
    "    \n",
    "    #Report the information outside of the loop\n",
    "    annotated.snp.in.guide.list[[i]] = vector.to.annotate\n",
    "    \n",
    "}\n",
    "\n",
    "names(annotated.snp.in.guide.list) = avana.bed$sgrna #Then name the list with the corresponding sgrna sequence"
   ]
  },
  {
   "cell_type": "code",
   "execution_count": 6,
   "metadata": {},
   "outputs": [
    {
     "data": {
      "text/html": [
       "<dl>\n",
       "\t<dt>$GGGATGACTGCCACGTCGCA</dt>\n",
       "\t\t<dd><strong>chr1:1918305:G:A:</strong> 15</dd>\n",
       "\t<dt>$CACCAGCTACCGCTTCACCA</dt>\n",
       "\t\t<dd><strong>chr1:2028260:G:A:</strong> 12</dd>\n",
       "\t<dt>$TGAACTCATCACAATCACAG</dt>\n",
       "\t\t<dd><strong>chr1:2351722:A:G:</strong> 8</dd>\n",
       "\t<dt>$GCAGTGTCACCAGCACGCCA</dt>\n",
       "\t\t<dd><style>\n",
       ".dl-inline {width: auto; margin:0; padding: 0}\n",
       ".dl-inline>dt, .dl-inline>dd {float: none; width: auto; display: inline-block}\n",
       ".dl-inline>dt::after {content: \":\\0020\"; padding-right: .5ex}\n",
       ".dl-inline>dt:not(:first-of-type) {padding-left: .5ex}\n",
       "</style><dl class=dl-inline><dt>chr1:2408761:T:C</dt><dd>5</dd><dt>chr1:2408773:G:A</dt><dd>17</dd></dl>\n",
       "</dd>\n",
       "\t<dt>$GCTCAGGGACCACAGTCCCG</dt>\n",
       "\t\t<dd><strong>chr1:2645520:C:T:</strong> 18</dd>\n",
       "\t<dt>$CGTACGTTCCTTCTAGAGCA</dt>\n",
       "\t\t<dd><strong>chr1:3844915:C:T:</strong> 5</dd>\n",
       "</dl>\n"
      ],
      "text/latex": [
       "\\begin{description}\n",
       "\\item[\\$GGGATGACTGCCACGTCGCA] \\textbf{chr1:1918305:G:A:} 15\n",
       "\\item[\\$CACCAGCTACCGCTTCACCA] \\textbf{chr1:2028260:G:A:} 12\n",
       "\\item[\\$TGAACTCATCACAATCACAG] \\textbf{chr1:2351722:A:G:} 8\n",
       "\\item[\\$GCAGTGTCACCAGCACGCCA] \\begin{description*}\n",
       "\\item[chr1:2408761:T:C] 5\n",
       "\\item[chr1:2408773:G:A] 17\n",
       "\\end{description*}\n",
       "\n",
       "\\item[\\$GCTCAGGGACCACAGTCCCG] \\textbf{chr1:2645520:C:T:} 18\n",
       "\\item[\\$CGTACGTTCCTTCTAGAGCA] \\textbf{chr1:3844915:C:T:} 5\n",
       "\\end{description}\n"
      ],
      "text/markdown": [
       "$GGGATGACTGCCACGTCGCA\n",
       ":   **chr1:1918305:G:A:** 15\n",
       "$CACCAGCTACCGCTTCACCA\n",
       ":   **chr1:2028260:G:A:** 12\n",
       "$TGAACTCATCACAATCACAG\n",
       ":   **chr1:2351722:A:G:** 8\n",
       "$GCAGTGTCACCAGCACGCCA\n",
       ":   chr1:2408761:T:C\n",
       ":   5chr1:2408773:G:A\n",
       ":   17\n",
       "\n",
       "\n",
       "$GCTCAGGGACCACAGTCCCG\n",
       ":   **chr1:2645520:C:T:** 18\n",
       "$CGTACGTTCCTTCTAGAGCA\n",
       ":   **chr1:3844915:C:T:** 5\n",
       "\n",
       "\n"
      ],
      "text/plain": [
       "$GGGATGACTGCCACGTCGCA\n",
       "chr1:1918305:G:A \n",
       "              15 \n",
       "\n",
       "$CACCAGCTACCGCTTCACCA\n",
       "chr1:2028260:G:A \n",
       "              12 \n",
       "\n",
       "$TGAACTCATCACAATCACAG\n",
       "chr1:2351722:A:G \n",
       "               8 \n",
       "\n",
       "$GCAGTGTCACCAGCACGCCA\n",
       "chr1:2408761:T:C chr1:2408773:G:A \n",
       "               5               17 \n",
       "\n",
       "$GCTCAGGGACCACAGTCCCG\n",
       "chr1:2645520:C:T \n",
       "              18 \n",
       "\n",
       "$CGTACGTTCCTTCTAGAGCA\n",
       "chr1:3844915:C:T \n",
       "               5 \n"
      ]
     },
     "metadata": {},
     "output_type": "display_data"
    },
    {
     "data": {
      "text/html": [
       "3870"
      ],
      "text/latex": [
       "3870"
      ],
      "text/markdown": [
       "3870"
      ],
      "text/plain": [
       "[1] 3870"
      ]
     },
     "metadata": {},
     "output_type": "display_data"
    }
   ],
   "source": [
    "#Go through the list and remove the SNPs that don't map to a sgrna\n",
    "pruned.snp.list = annotated.snp.in.guide.list %>%\n",
    "lapply(function(x){\n",
    "    vector = abs(x)\n",
    "    val.to.return = vector[vector %in% 0:22]\n",
    "    return(val.to.return)\n",
    "}) %>% compact(1) #compact is part of the purrr package and will remove guides that don't have a SNP\n",
    "\n",
    "head(pruned.snp.list)\n",
    "length(pruned.snp.list)"
   ]
  },
  {
   "cell_type": "code",
   "execution_count": 7,
   "metadata": {},
   "outputs": [
    {
     "data": {
      "text/html": [
       "<table class=\"dataframe\">\n",
       "<caption>A data.frame: 6 × 3</caption>\n",
       "<thead>\n",
       "\t<tr><th></th><th scope=col>sgrna</th><th scope=col>snp</th><th scope=col>position</th></tr>\n",
       "\t<tr><th></th><th scope=col>&lt;chr&gt;</th><th scope=col>&lt;chr&gt;</th><th scope=col>&lt;chr&gt;</th></tr>\n",
       "</thead>\n",
       "<tbody>\n",
       "\t<tr><th scope=row>1</th><td>GGGATGACTGCCACGTCGCA</td><td>chr1:1918305:G:A</td><td>15</td></tr>\n",
       "\t<tr><th scope=row>2</th><td>CACCAGCTACCGCTTCACCA</td><td>chr1:2028260:G:A</td><td>12</td></tr>\n",
       "\t<tr><th scope=row>3</th><td>TGAACTCATCACAATCACAG</td><td>chr1:2351722:A:G</td><td>8 </td></tr>\n",
       "\t<tr><th scope=row>4</th><td>GCAGTGTCACCAGCACGCCA</td><td>chr1:2408761:T:C</td><td>5 </td></tr>\n",
       "\t<tr><th scope=row>5</th><td>GCAGTGTCACCAGCACGCCA</td><td>chr1:2408773:G:A</td><td>17</td></tr>\n",
       "\t<tr><th scope=row>6</th><td>GCTCAGGGACCACAGTCCCG</td><td>chr1:2645520:C:T</td><td>18</td></tr>\n",
       "</tbody>\n",
       "</table>\n"
      ],
      "text/latex": [
       "A data.frame: 6 × 3\n",
       "\\begin{tabular}{r|lll}\n",
       "  & sgrna & snp & position\\\\\n",
       "  & <chr> & <chr> & <chr>\\\\\n",
       "\\hline\n",
       "\t1 & GGGATGACTGCCACGTCGCA & chr1:1918305:G:A & 15\\\\\n",
       "\t2 & CACCAGCTACCGCTTCACCA & chr1:2028260:G:A & 12\\\\\n",
       "\t3 & TGAACTCATCACAATCACAG & chr1:2351722:A:G & 8 \\\\\n",
       "\t4 & GCAGTGTCACCAGCACGCCA & chr1:2408761:T:C & 5 \\\\\n",
       "\t5 & GCAGTGTCACCAGCACGCCA & chr1:2408773:G:A & 17\\\\\n",
       "\t6 & GCTCAGGGACCACAGTCCCG & chr1:2645520:C:T & 18\\\\\n",
       "\\end{tabular}\n"
      ],
      "text/markdown": [
       "\n",
       "A data.frame: 6 × 3\n",
       "\n",
       "| <!--/--> | sgrna &lt;chr&gt; | snp &lt;chr&gt; | position &lt;chr&gt; |\n",
       "|---|---|---|---|\n",
       "| 1 | GGGATGACTGCCACGTCGCA | chr1:1918305:G:A | 15 |\n",
       "| 2 | CACCAGCTACCGCTTCACCA | chr1:2028260:G:A | 12 |\n",
       "| 3 | TGAACTCATCACAATCACAG | chr1:2351722:A:G | 8  |\n",
       "| 4 | GCAGTGTCACCAGCACGCCA | chr1:2408761:T:C | 5  |\n",
       "| 5 | GCAGTGTCACCAGCACGCCA | chr1:2408773:G:A | 17 |\n",
       "| 6 | GCTCAGGGACCACAGTCCCG | chr1:2645520:C:T | 18 |\n",
       "\n"
      ],
      "text/plain": [
       "  sgrna                snp              position\n",
       "1 GGGATGACTGCCACGTCGCA chr1:1918305:G:A 15      \n",
       "2 CACCAGCTACCGCTTCACCA chr1:2028260:G:A 12      \n",
       "3 TGAACTCATCACAATCACAG chr1:2351722:A:G 8       \n",
       "4 GCAGTGTCACCAGCACGCCA chr1:2408761:T:C 5       \n",
       "5 GCAGTGTCACCAGCACGCCA chr1:2408773:G:A 17      \n",
       "6 GCTCAGGGACCACAGTCCCG chr1:2645520:C:T 18      "
      ]
     },
     "metadata": {},
     "output_type": "display_data"
    },
    {
     "data": {
      "text/html": [
       "<style>\n",
       ".list-inline {list-style: none; margin:0; padding: 0}\n",
       ".list-inline>li {display: inline-block}\n",
       ".list-inline>li:not(:last-child)::after {content: \"\\00b7\"; padding: 0 .5ex}\n",
       "</style>\n",
       "<ol class=list-inline><li>4104</li><li>3</li></ol>\n"
      ],
      "text/latex": [
       "\\begin{enumerate*}\n",
       "\\item 4104\n",
       "\\item 3\n",
       "\\end{enumerate*}\n"
      ],
      "text/markdown": [
       "1. 4104\n",
       "2. 3\n",
       "\n",
       "\n"
      ],
      "text/plain": [
       "[1] 4104    3"
      ]
     },
     "metadata": {},
     "output_type": "display_data"
    }
   ],
   "source": [
    "#Now let's go through and create a nice data frame from this list.\n",
    "\n",
    "snp.in.guide.df = NULL\n",
    "for(i in 1:length(pruned.snp.list)){\n",
    "    \n",
    "   sgrna = pruned.snp.list[[i]] #this is a vector (normally length = 1, sometimes more with all of the snps that map to a vector)\n",
    "   \n",
    "    #If there is only one snp that maps to that sgrna, simply construct the vector and add it to the data frame\n",
    "    #If there is more than one snp, then we need to get a little more fancy and construct a data frame first\n",
    "    if(length(sgrna) == 1){\n",
    "        sgrna = names(pruned.snp.list[i]) #get the sgrna for this iteration of the loop\n",
    "        snp = names(pruned.snp.list[[i]]) #get the snp code for this iteration of the loop\n",
    "        position = pruned.snp.list[[i]] #Get the relative position of the SNP on the guide for this iteration of the loop\n",
    "        vector.to.add = c(sgrna, snp, position) #Make a vector of values to add to the data frame\n",
    "        snp.in.guide.df = rbind(snp.in.guide.df, vector.to.add) %>% data.frame() %>% #Then add that vector to the data frame\n",
    "        rename(\"sgrna\" = 1, \"snp\" = 2, \"position\" = 3)  \n",
    "    } else {\n",
    "        sgrna = names(pruned.snp.list[i]) #get the sgrna for this iteration of the loop\n",
    "        sgrna.vector = rep(sgrna, length(pruned.snp.list[[i]])) #get a vector that contains the sgrna now, length = #snps\n",
    "        snp.vector = names(pruned.snp.list[[i]]) #get the snp code for this iteration of the loop\n",
    "        position.vector = pruned.snp.list[[i]] #Get the relative position of the SNP on the guide for this iteration of the loop\n",
    "        df.to.add = cbind(sgrna.vector, snp.vector, position.vector) %>% data.frame() %>%\n",
    "        rename(\"sgrna\" = 1, \"snp\" = 2, \"position\" = 3) #bind it all into a data frame\n",
    "        snp.in.guide.df = rbind(snp.in.guide.df, df.to.add) %>% data.frame() %>%\n",
    "        rename(\"sgrna\" = 1, \"snp\" = 2, \"position\" = 3)\n",
    " }\n",
    "}\n",
    "\n",
    "row.names(snp.in.guide.df) = NULL #remove the row names on the new df since they are useless\n",
    "head(snp.in.guide.df)\n",
    "dim(snp.in.guide.df)"
   ]
  },
  {
   "cell_type": "code",
   "execution_count": 8,
   "metadata": {},
   "outputs": [
    {
     "data": {
      "text/html": [
       "<table class=\"dataframe\">\n",
       "<caption>A data.frame: 6 × 995</caption>\n",
       "<thead>\n",
       "\t<tr><th></th><th scope=col>snp</th><th scope=col>ACH-000657</th><th scope=col>ACH-000617</th><th scope=col>ACH-000685</th><th scope=col>ACH-000632</th><th scope=col>ACH-000171</th><th scope=col>ACH-000863</th><th scope=col>ACH-000971</th><th scope=col>ACH-000178</th><th scope=col>ACH-000822</th><th scope=col>⋯</th><th scope=col>ACH-000981</th><th scope=col>ACH-000217</th><th scope=col>ACH-000116</th><th scope=col>ACH-000930</th><th scope=col>ACH-000986</th><th scope=col>ACH-000342</th><th scope=col>ACH-001130</th><th scope=col>ACH-000287</th><th scope=col>ACH-000798</th><th scope=col>ACH-000645</th></tr>\n",
       "\t<tr><th></th><th scope=col>&lt;chr&gt;</th><th scope=col>&lt;chr&gt;</th><th scope=col>&lt;chr&gt;</th><th scope=col>&lt;chr&gt;</th><th scope=col>&lt;chr&gt;</th><th scope=col>&lt;chr&gt;</th><th scope=col>&lt;chr&gt;</th><th scope=col>&lt;chr&gt;</th><th scope=col>&lt;chr&gt;</th><th scope=col>&lt;chr&gt;</th><th scope=col>⋯</th><th scope=col>&lt;chr&gt;</th><th scope=col>&lt;chr&gt;</th><th scope=col>&lt;chr&gt;</th><th scope=col>&lt;chr&gt;</th><th scope=col>&lt;chr&gt;</th><th scope=col>&lt;chr&gt;</th><th scope=col>&lt;chr&gt;</th><th scope=col>&lt;chr&gt;</th><th scope=col>&lt;chr&gt;</th><th scope=col>&lt;chr&gt;</th></tr>\n",
       "</thead>\n",
       "<tbody>\n",
       "\t<tr><th scope=row>1</th><td>chr1:1407014:G:A</td><td>0</td><td>0</td><td>0</td><td>0</td><td>0</td><td>0</td><td>0</td><td>0</td><td>0</td><td>⋯</td><td>0</td><td>0</td><td>0</td><td>0</td><td>0</td><td>0</td><td>0</td><td>0</td><td>0</td><td>0</td></tr>\n",
       "\t<tr><th scope=row>2</th><td>chr1:1471992:T:C</td><td>2</td><td>2</td><td>1</td><td>0</td><td>1</td><td>0</td><td>0</td><td>0</td><td>1</td><td>⋯</td><td>1</td><td>2</td><td>2</td><td>2</td><td>0</td><td>1</td><td>1</td><td>1</td><td>0</td><td>0</td></tr>\n",
       "\t<tr><th scope=row>3</th><td>chr1:1918305:G:A</td><td>1</td><td>0</td><td>0</td><td>0</td><td>0</td><td>0</td><td>0</td><td>0</td><td>0</td><td>⋯</td><td>0</td><td>0</td><td>0</td><td>0</td><td>0</td><td>0</td><td>0</td><td>1</td><td>1</td><td>1</td></tr>\n",
       "\t<tr><th scope=row>4</th><td>chr1:2028260:G:A</td><td>0</td><td>0</td><td>0</td><td>0</td><td>0</td><td>0</td><td>0</td><td>0</td><td>0</td><td>⋯</td><td>0</td><td>0</td><td>0</td><td>0</td><td>0</td><td>0</td><td>0</td><td>0</td><td>0</td><td>0</td></tr>\n",
       "\t<tr><th scope=row>5</th><td>chr1:2351722:A:G</td><td>2</td><td>0</td><td>1</td><td>1</td><td>0</td><td>0</td><td>0</td><td>0</td><td>0</td><td>⋯</td><td>0</td><td>1</td><td>0</td><td>2</td><td>0</td><td>0</td><td>0</td><td>0</td><td>1</td><td>0</td></tr>\n",
       "\t<tr><th scope=row>6</th><td>chr1:2408761:T:C</td><td>1</td><td>2</td><td>2</td><td>2</td><td>2</td><td>2</td><td>1</td><td>2</td><td>1</td><td>⋯</td><td>2</td><td>2</td><td>2</td><td>2</td><td>1</td><td>1</td><td>0</td><td>2</td><td>1</td><td>2</td></tr>\n",
       "</tbody>\n",
       "</table>\n"
      ],
      "text/latex": [
       "A data.frame: 6 × 995\n",
       "\\begin{tabular}{r|lllllllllllllllllllll}\n",
       "  & snp & ACH-000657 & ACH-000617 & ACH-000685 & ACH-000632 & ACH-000171 & ACH-000863 & ACH-000971 & ACH-000178 & ACH-000822 & ⋯ & ACH-000981 & ACH-000217 & ACH-000116 & ACH-000930 & ACH-000986 & ACH-000342 & ACH-001130 & ACH-000287 & ACH-000798 & ACH-000645\\\\\n",
       "  & <chr> & <chr> & <chr> & <chr> & <chr> & <chr> & <chr> & <chr> & <chr> & <chr> & ⋯ & <chr> & <chr> & <chr> & <chr> & <chr> & <chr> & <chr> & <chr> & <chr> & <chr>\\\\\n",
       "\\hline\n",
       "\t1 & chr1:1407014:G:A & 0 & 0 & 0 & 0 & 0 & 0 & 0 & 0 & 0 & ⋯ & 0 & 0 & 0 & 0 & 0 & 0 & 0 & 0 & 0 & 0\\\\\n",
       "\t2 & chr1:1471992:T:C & 2 & 2 & 1 & 0 & 1 & 0 & 0 & 0 & 1 & ⋯ & 1 & 2 & 2 & 2 & 0 & 1 & 1 & 1 & 0 & 0\\\\\n",
       "\t3 & chr1:1918305:G:A & 1 & 0 & 0 & 0 & 0 & 0 & 0 & 0 & 0 & ⋯ & 0 & 0 & 0 & 0 & 0 & 0 & 0 & 1 & 1 & 1\\\\\n",
       "\t4 & chr1:2028260:G:A & 0 & 0 & 0 & 0 & 0 & 0 & 0 & 0 & 0 & ⋯ & 0 & 0 & 0 & 0 & 0 & 0 & 0 & 0 & 0 & 0\\\\\n",
       "\t5 & chr1:2351722:A:G & 2 & 0 & 1 & 1 & 0 & 0 & 0 & 0 & 0 & ⋯ & 0 & 1 & 0 & 2 & 0 & 0 & 0 & 0 & 1 & 0\\\\\n",
       "\t6 & chr1:2408761:T:C & 1 & 2 & 2 & 2 & 2 & 2 & 1 & 2 & 1 & ⋯ & 2 & 2 & 2 & 2 & 1 & 1 & 0 & 2 & 1 & 2\\\\\n",
       "\\end{tabular}\n"
      ],
      "text/markdown": [
       "\n",
       "A data.frame: 6 × 995\n",
       "\n",
       "| <!--/--> | snp &lt;chr&gt; | ACH-000657 &lt;chr&gt; | ACH-000617 &lt;chr&gt; | ACH-000685 &lt;chr&gt; | ACH-000632 &lt;chr&gt; | ACH-000171 &lt;chr&gt; | ACH-000863 &lt;chr&gt; | ACH-000971 &lt;chr&gt; | ACH-000178 &lt;chr&gt; | ACH-000822 &lt;chr&gt; | ⋯ ⋯ | ACH-000981 &lt;chr&gt; | ACH-000217 &lt;chr&gt; | ACH-000116 &lt;chr&gt; | ACH-000930 &lt;chr&gt; | ACH-000986 &lt;chr&gt; | ACH-000342 &lt;chr&gt; | ACH-001130 &lt;chr&gt; | ACH-000287 &lt;chr&gt; | ACH-000798 &lt;chr&gt; | ACH-000645 &lt;chr&gt; |\n",
       "|---|---|---|---|---|---|---|---|---|---|---|---|---|---|---|---|---|---|---|---|---|---|\n",
       "| 1 | chr1:1407014:G:A | 0 | 0 | 0 | 0 | 0 | 0 | 0 | 0 | 0 | ⋯ | 0 | 0 | 0 | 0 | 0 | 0 | 0 | 0 | 0 | 0 |\n",
       "| 2 | chr1:1471992:T:C | 2 | 2 | 1 | 0 | 1 | 0 | 0 | 0 | 1 | ⋯ | 1 | 2 | 2 | 2 | 0 | 1 | 1 | 1 | 0 | 0 |\n",
       "| 3 | chr1:1918305:G:A | 1 | 0 | 0 | 0 | 0 | 0 | 0 | 0 | 0 | ⋯ | 0 | 0 | 0 | 0 | 0 | 0 | 0 | 1 | 1 | 1 |\n",
       "| 4 | chr1:2028260:G:A | 0 | 0 | 0 | 0 | 0 | 0 | 0 | 0 | 0 | ⋯ | 0 | 0 | 0 | 0 | 0 | 0 | 0 | 0 | 0 | 0 |\n",
       "| 5 | chr1:2351722:A:G | 2 | 0 | 1 | 1 | 0 | 0 | 0 | 0 | 0 | ⋯ | 0 | 1 | 0 | 2 | 0 | 0 | 0 | 0 | 1 | 0 |\n",
       "| 6 | chr1:2408761:T:C | 1 | 2 | 2 | 2 | 2 | 2 | 1 | 2 | 1 | ⋯ | 2 | 2 | 2 | 2 | 1 | 1 | 0 | 2 | 1 | 2 |\n",
       "\n"
      ],
      "text/plain": [
       "  snp              ACH-000657 ACH-000617 ACH-000685 ACH-000632 ACH-000171\n",
       "1 chr1:1407014:G:A 0          0          0          0          0         \n",
       "2 chr1:1471992:T:C 2          2          1          0          1         \n",
       "3 chr1:1918305:G:A 1          0          0          0          0         \n",
       "4 chr1:2028260:G:A 0          0          0          0          0         \n",
       "5 chr1:2351722:A:G 2          0          1          1          0         \n",
       "6 chr1:2408761:T:C 1          2          2          2          2         \n",
       "  ACH-000863 ACH-000971 ACH-000178 ACH-000822 ⋯ ACH-000981 ACH-000217\n",
       "1 0          0          0          0          ⋯ 0          0         \n",
       "2 0          0          0          1          ⋯ 1          2         \n",
       "3 0          0          0          0          ⋯ 0          0         \n",
       "4 0          0          0          0          ⋯ 0          0         \n",
       "5 0          0          0          0          ⋯ 0          1         \n",
       "6 2          1          2          1          ⋯ 2          2         \n",
       "  ACH-000116 ACH-000930 ACH-000986 ACH-000342 ACH-001130 ACH-000287 ACH-000798\n",
       "1 0          0          0          0          0          0          0         \n",
       "2 2          2          0          1          1          1          0         \n",
       "3 0          0          0          0          0          1          1         \n",
       "4 0          0          0          0          0          0          0         \n",
       "5 0          2          0          0          0          0          1         \n",
       "6 2          2          1          1          0          2          1         \n",
       "  ACH-000645\n",
       "1 0         \n",
       "2 0         \n",
       "3 1         \n",
       "4 0         \n",
       "5 0         \n",
       "6 2         "
      ]
     },
     "metadata": {},
     "output_type": "display_data"
    }
   ],
   "source": [
    "#Format ccle.variant.calls so that it is ready for our analysis\n",
    "ccle.calls.for.analysis = ccle.variant.calls %>%\n",
    "mutate(\"snp\" = paste(chr, \":\", pos, \":\", ref, \":\", alt, sep = \"\"), .before = chr) %>%\n",
    "select(-chr, -pos, -ref, -alt)\n",
    "\n",
    "head(ccle.calls.for.analysis)"
   ]
  },
  {
   "cell_type": "code",
   "execution_count": 9,
   "metadata": {},
   "outputs": [],
   "source": [
    "#Next step is calculate the population frequency for all guides\n",
    "\n",
    "all.unique.guides = snp.in.guide.df %>%\n",
    "pull(sgrna) %>%\n",
    "unique()\n",
    "\n",
    "guide.frequency = NULL\n",
    "for(guide in all.unique.guides){\n",
    "    \n",
    "    #First get all of the SNPs we are interested in\n",
    "    snps.to.grab = snp.in.guide.df %>% \n",
    "    filter(sgrna %in% guide) %>%\n",
    "    pull(snp)\n",
    "    \n",
    "    #Pull those SNPs out of the ccle variant calls dataframe\n",
    "    #And collapse by maximum if necessary\n",
    "    if(length(snps.to.grab) > 1){\n",
    "    collapsed.snp.calls = ccle.calls.for.analysis %>%\n",
    "    filter(snp %in% snps.to.grab) %>%\n",
    "    select(-snp) %>%\n",
    "    apply(2, max) %>%\n",
    "    as.numeric() \n",
    "    \n",
    "    } else { \n",
    "        \n",
    "    collapsed.snp.calls = ccle.calls.for.analysis %>%\n",
    "    filter(snp %in% snps.to.grab) %>%\n",
    "    select(-snp)\n",
    "    }\n",
    "    \n",
    "    #Get calculate how many cell lines have a SNP in that sgRNA\n",
    "    cells.with.snp = collapsed.snp.calls[collapsed.snp.calls >= 1] %>% length()\n",
    "    \n",
    "    #return that information outside of the loop\n",
    "    guide.frequency = c(guide.frequency, cells.with.snp)\n",
    "}"
   ]
  },
  {
   "cell_type": "code",
   "execution_count": null,
   "metadata": {},
   "outputs": [],
   "source": []
  },
  {
   "cell_type": "code",
   "execution_count": null,
   "metadata": {},
   "outputs": [],
   "source": []
  },
  {
   "cell_type": "code",
   "execution_count": null,
   "metadata": {},
   "outputs": [],
   "source": []
  },
  {
   "cell_type": "code",
   "execution_count": null,
   "metadata": {},
   "outputs": [],
   "source": []
  },
  {
   "cell_type": "code",
   "execution_count": null,
   "metadata": {},
   "outputs": [],
   "source": []
  },
  {
   "cell_type": "code",
   "execution_count": 10,
   "metadata": {},
   "outputs": [
    {
     "name": "stderr",
     "output_type": "stream",
     "text": [
      "`stat_bin()` using `bins = 30`. Pick better value with `binwidth`.\n",
      "\n",
      "`stat_bin()` using `bins = 30`. Pick better value with `binwidth`.\n",
      "\n"
     ]
    },
    {
     "data": {
      "image/png": "[encoded data removed]",
      "text/plain": [
       "plot without title"
      ]
     },
     "metadata": {
      "image/png": {
       "height": 420,
       "width": 420
      }
     },
     "output_type": "display_data"
    }
   ],
   "source": [
    "#Now make a plot of the frequency distribution\n",
    "normalized.guide.frequency = guide.frequency/(ncol(ccle.calls.for.analysis)-1)\n",
    "\n",
    "#Make the dataframe for plotting\n",
    "df.for.plotting = cbind(all.unique.guides, normalized.guide.frequency) %>%\n",
    "data.frame() %>%\n",
    "rename(\"sgrna\" = 1, \"frequency\" = 2) %>%\n",
    "mutate(frequency = as.numeric(frequency))\n",
    "\n",
    "#plot the plot\n",
    "df.for.plotting %>%\n",
    "ggplot(aes(x = frequency)) +\n",
    "geom_histogram(color = rgb(24, 69, 59, maxColorValue = 255), fill = rgb(24, 69, 59, maxColorValue = 255)) +\n",
    "theme_bw() +\n",
    "\n",
    "theme(\n",
    "panel.border = element_blank(), panel.grid.major = element_blank(),\n",
    "panel.grid.minor = element_blank(), axis.line = element_line(color = \"black\")\n",
    ") +\n",
    "\n",
    "theme(\n",
    "axis.title.x = element_text(color = \"black\", size = 14, face = \"bold\"),\n",
    "axis.title.y = element_text(color = \"black\", size = 14, face = \"bold\")\n",
    ") +\n",
    "\n",
    "theme(\n",
    "axis.text=element_text(size = 12, face = \"bold\"),\n",
    "axis.title=element_text(size = 14,face = \"bold\")\n",
    ") +\n",
    "\n",
    "theme(\n",
    "legend.title = element_text(size = 14, face = \"bold\"),\n",
    "legend.text = element_text(size = 10, face = \"bold\")\n",
    ") +\n",
    "\n",
    "scale_x_continuous(expand = c(0, 0)) +\n",
    "scale_y_continuous(expand = c(0, 0), limits = c(0, 1000)) +\n",
    "\n",
    "\n",
    "ylab(\"Number of affected guides\") +\n",
    "xlab(\"Frequency of SNV in sgRNA in DepMap\")\n",
    "\n",
    "\n",
    "#Export it to the google bucket\n",
    "setwd('/home/jupyter/Ancestry/figures')\n",
    "ggsave(\"depmap_frequency_affected.pdf\", width = 5, height = 3)\n",
    "system(glue::glue(\"\n",
    "cd /home/jupyter/Ancestry/figures\n",
    "gsutil cp depmap_frequency_affected.pdf gs://fc-45c0e148-0b1c-4244-9bfc-feb559bbc514\n",
    "\"))"
   ]
  },
  {
   "cell_type": "code",
   "execution_count": 12,
   "metadata": {},
   "outputs": [
    {
     "data": {
      "text/html": [
       "<table class=\"dataframe\">\n",
       "<caption>A data.frame: 6 × 2</caption>\n",
       "<thead>\n",
       "\t<tr><th></th><th scope=col>sgrna</th><th scope=col>frequency</th></tr>\n",
       "\t<tr><th></th><th scope=col>&lt;chr&gt;</th><th scope=col>&lt;dbl&gt;</th></tr>\n",
       "</thead>\n",
       "<tbody>\n",
       "\t<tr><th scope=row>1</th><td>GGGATGACTGCCACGTCGCA</td><td>0.16096579</td></tr>\n",
       "\t<tr><th scope=row>2</th><td>CACCAGCTACCGCTTCACCA</td><td>0.01509054</td></tr>\n",
       "\t<tr><th scope=row>3</th><td>TGAACTCATCACAATCACAG</td><td>0.27665996</td></tr>\n",
       "\t<tr><th scope=row>4</th><td>GCAGTGTCACCAGCACGCCA</td><td>0.90744467</td></tr>\n",
       "\t<tr><th scope=row>5</th><td>GCTCAGGGACCACAGTCCCG</td><td>0.01810865</td></tr>\n",
       "\t<tr><th scope=row>6</th><td>CGTACGTTCCTTCTAGAGCA</td><td>0.58048290</td></tr>\n",
       "</tbody>\n",
       "</table>\n"
      ],
      "text/latex": [
       "A data.frame: 6 × 2\n",
       "\\begin{tabular}{r|ll}\n",
       "  & sgrna & frequency\\\\\n",
       "  & <chr> & <dbl>\\\\\n",
       "\\hline\n",
       "\t1 & GGGATGACTGCCACGTCGCA & 0.16096579\\\\\n",
       "\t2 & CACCAGCTACCGCTTCACCA & 0.01509054\\\\\n",
       "\t3 & TGAACTCATCACAATCACAG & 0.27665996\\\\\n",
       "\t4 & GCAGTGTCACCAGCACGCCA & 0.90744467\\\\\n",
       "\t5 & GCTCAGGGACCACAGTCCCG & 0.01810865\\\\\n",
       "\t6 & CGTACGTTCCTTCTAGAGCA & 0.58048290\\\\\n",
       "\\end{tabular}\n"
      ],
      "text/markdown": [
       "\n",
       "A data.frame: 6 × 2\n",
       "\n",
       "| <!--/--> | sgrna &lt;chr&gt; | frequency &lt;dbl&gt; |\n",
       "|---|---|---|\n",
       "| 1 | GGGATGACTGCCACGTCGCA | 0.16096579 |\n",
       "| 2 | CACCAGCTACCGCTTCACCA | 0.01509054 |\n",
       "| 3 | TGAACTCATCACAATCACAG | 0.27665996 |\n",
       "| 4 | GCAGTGTCACCAGCACGCCA | 0.90744467 |\n",
       "| 5 | GCTCAGGGACCACAGTCCCG | 0.01810865 |\n",
       "| 6 | CGTACGTTCCTTCTAGAGCA | 0.58048290 |\n",
       "\n"
      ],
      "text/plain": [
       "  sgrna                frequency \n",
       "1 GGGATGACTGCCACGTCGCA 0.16096579\n",
       "2 CACCAGCTACCGCTTCACCA 0.01509054\n",
       "3 TGAACTCATCACAATCACAG 0.27665996\n",
       "4 GCAGTGTCACCAGCACGCCA 0.90744467\n",
       "5 GCTCAGGGACCACAGTCCCG 0.01810865\n",
       "6 CGTACGTTCCTTCTAGAGCA 0.58048290"
      ]
     },
     "metadata": {},
     "output_type": "display_data"
    }
   ],
   "source": [
    "#Export the dataframe so that we don't need to always re-make it\n",
    "setwd(\"/home/jupyter/Ancestry/analysis/map_ccle_snps_to_avana_guides\")\n",
    "write.table(df.for.plotting, \"frequency_of_affected_avana_guides.txt\", sep = \"\\t\", col.names = TRUE, row.names = FALSE, quote = FALSE)\n",
    "\n",
    "head(df.for.plotting)"
   ]
  },
  {
   "cell_type": "code",
   "execution_count": 4,
   "metadata": {},
   "outputs": [],
   "source": [
    "#re-load the data frame\n",
    "setwd(\"/home/jupyter/Ancestry/analysis/map_ccle_snps_to_avana_guides\")\n",
    "df.for.plotting = read.table(\"frequency_of_affected_avana_guides.txt\", sep = \"\\t\", header = T)"
   ]
  },
  {
   "cell_type": "code",
   "execution_count": 5,
   "metadata": {},
   "outputs": [
    {
     "ename": "ERROR",
     "evalue": "Error in normalized.guide.frequency %>% length(): object 'normalized.guide.frequency' not found\n",
     "output_type": "error",
     "traceback": [
      "Error in normalized.guide.frequency %>% length(): object 'normalized.guide.frequency' not found\nTraceback:\n",
      "1. normalized.guide.frequency %>% length()"
     ]
    }
   ],
   "source": [
    "#Calculate the fraction of guides that fall above a certain cutoff\n",
    "\n",
    "total.number = normalized.guide.frequency %>% length()\n",
    "fraction.above.25 = normalized.guide.frequency[normalized.guide.frequency > 0.25] %>% length()\n",
    "fraction.above.50 = normalized.guide.frequency[normalized.guide.frequency > 0.50] %>% length()\n",
    "fraction.above.75 = normalized.guide.frequency[normalized.guide.frequency > 0.75] %>% length()\n",
    "\n",
    "\n",
    "total.number\n",
    "fraction.above.25\n",
    "fraction.above.50\n",
    "fraction.above.75\n",
    "\n",
    "percent.above.25 = (fraction.above.25/total.number)*100\n",
    "percent.above.50 = (fraction.above.50/total.number)*100\n",
    "percent.above.75 = (fraction.above.75/total.number)*100\n",
    "\n",
    "percent.above.25\n",
    "percent.above.50\n",
    "percent.above.75\n",
    "\n",
    "#calculate the fraction of guides affected at this cutoff across all of depmap\n",
    "guides.in.depmap = avana.bed %>% pull(sgrna) %>% unique() %>% length()\n",
    "\n",
    "depmap.percent.above.25 = (fraction.above.25/guides.in.depmap)*100\n",
    "depmap.percent.above.50 = (fraction.above.50/guides.in.depmap)*100\n",
    "depmap.percent.above.75 = (fraction.above.75/guides.in.depmap)*100\n",
    "\n",
    "depmap.percent.above.25\n",
    "depmap.percent.above.50\n",
    "depmap.percent.above.75\n",
    "\n",
    "total.guides.with.a.snp = (total.number/guides.in.depmap)*100\n",
    "total.guides.with.a.snp\n"
   ]
  },
  {
   "cell_type": "markdown",
   "metadata": {},
   "source": [
    "# Create a new version of the figure for the paper that includes all of the data"
   ]
  },
  {
   "cell_type": "code",
   "execution_count": 6,
   "metadata": {},
   "outputs": [
    {
     "data": {
      "text/html": [
       "<table class=\"dataframe\">\n",
       "<caption>A data.frame: 6 × 2</caption>\n",
       "<thead>\n",
       "\t<tr><th></th><th scope=col>sgrna</th><th scope=col>frequency</th></tr>\n",
       "\t<tr><th></th><th scope=col>&lt;chr&gt;</th><th scope=col>&lt;dbl&gt;</th></tr>\n",
       "</thead>\n",
       "<tbody>\n",
       "\t<tr><th scope=row>1</th><td>TCTCCATTCGGTGAGCCAGT</td><td>0</td></tr>\n",
       "\t<tr><th scope=row>2</th><td>TGTAGTCCCAGCTACTCAGG</td><td>0</td></tr>\n",
       "\t<tr><th scope=row>3</th><td>GAGAATCTCTTGAACCCGGG</td><td>0</td></tr>\n",
       "\t<tr><th scope=row>4</th><td>TGTAATCCCAGTACTTTGGG</td><td>0</td></tr>\n",
       "\t<tr><th scope=row>5</th><td>ATAATGGTCAGATAGTGGAG</td><td>0</td></tr>\n",
       "\t<tr><th scope=row>6</th><td>TCTCCACACCACCAACGACG</td><td>0</td></tr>\n",
       "</tbody>\n",
       "</table>\n"
      ],
      "text/latex": [
       "A data.frame: 6 × 2\n",
       "\\begin{tabular}{r|ll}\n",
       "  & sgrna & frequency\\\\\n",
       "  & <chr> & <dbl>\\\\\n",
       "\\hline\n",
       "\t1 & TCTCCATTCGGTGAGCCAGT & 0\\\\\n",
       "\t2 & TGTAGTCCCAGCTACTCAGG & 0\\\\\n",
       "\t3 & GAGAATCTCTTGAACCCGGG & 0\\\\\n",
       "\t4 & TGTAATCCCAGTACTTTGGG & 0\\\\\n",
       "\t5 & ATAATGGTCAGATAGTGGAG & 0\\\\\n",
       "\t6 & TCTCCACACCACCAACGACG & 0\\\\\n",
       "\\end{tabular}\n"
      ],
      "text/markdown": [
       "\n",
       "A data.frame: 6 × 2\n",
       "\n",
       "| <!--/--> | sgrna &lt;chr&gt; | frequency &lt;dbl&gt; |\n",
       "|---|---|---|\n",
       "| 1 | TCTCCATTCGGTGAGCCAGT | 0 |\n",
       "| 2 | TGTAGTCCCAGCTACTCAGG | 0 |\n",
       "| 3 | GAGAATCTCTTGAACCCGGG | 0 |\n",
       "| 4 | TGTAATCCCAGTACTTTGGG | 0 |\n",
       "| 5 | ATAATGGTCAGATAGTGGAG | 0 |\n",
       "| 6 | TCTCCACACCACCAACGACG | 0 |\n",
       "\n"
      ],
      "text/plain": [
       "  sgrna                frequency\n",
       "1 TCTCCATTCGGTGAGCCAGT 0        \n",
       "2 TGTAGTCCCAGCTACTCAGG 0        \n",
       "3 GAGAATCTCTTGAACCCGGG 0        \n",
       "4 TGTAATCCCAGTACTTTGGG 0        \n",
       "5 ATAATGGTCAGATAGTGGAG 0        \n",
       "6 TCTCCACACCACCAACGACG 0        "
      ]
     },
     "metadata": {},
     "output_type": "display_data"
    }
   ],
   "source": [
    "###Add in all of the guides that are not affected.\n",
    "affected.guides = df.for.plotting %>% pull(sgrna) %>% unique()\n",
    "unaffected.guides = setdiff(avana.bed$sgrna, affected.guides)\n",
    "\n",
    "#construct the dataframe with both the affected and the unaffected guides\n",
    "total.affected.df = unaffected.guides %>%\n",
    "data.frame() %>%\n",
    "mutate(\"frequency\" = 0) %>%\n",
    "rename(\"sgrna\" = 1) %>%\n",
    "rbind(df.for.plotting)\n",
    "\n",
    "head(total.affected.df)"
   ]
  },
  {
   "cell_type": "code",
   "execution_count": 48,
   "metadata": {},
   "outputs": [
    {
     "name": "stderr",
     "output_type": "stream",
     "text": [
      "`stat_bin()` using `bins = 30`. Pick better value with `binwidth`.\n",
      "\n",
      "`stat_bin()` using `bins = 30`. Pick better value with `binwidth`.\n",
      "\n"
     ]
    },
    {
     "data": {
      "image/png": "[encoded data removed]",
      "text/plain": [
       "plot without title"
      ]
     },
     "metadata": {
      "image/png": {
       "height": 420,
       "width": 420
      }
     },
     "output_type": "display_data"
    }
   ],
   "source": [
    "#Plot the plot!\n",
    "\n",
    "total.affected.df %>%\n",
    "ggplot(aes(x = frequency)) +\n",
    "geom_histogram(color = \"#70d1ff\", fill = \"#70d1ff\") +\n",
    "theme_bw() +\n",
    "\n",
    "\n",
    "theme(\n",
    "panel.grid.major = element_blank(),\n",
    "panel.grid.minor = element_blank(), \n",
    "axis.line = element_line(color = \"black\")\n",
    ") +\n",
    "\n",
    "theme(\n",
    "axis.title.x = element_text(color = \"black\", size = 12, face = \"bold\"),\n",
    "axis.title.y = element_text(color = \"black\", size = 12, face = \"bold\")\n",
    ") +\n",
    "\n",
    "theme(\n",
    "axis.text=element_text(size = 12, face = \"bold\"),\n",
    "axis.title=element_text(size = 14,face = \"bold\")\n",
    ") +\n",
    "\n",
    "theme(\n",
    "legend.title = element_text(size = 14, face = \"bold\"),\n",
    "legend.text = element_text(size = 10, face = \"bold\")\n",
    ") +\n",
    "\n",
    "scale_x_continuous(expand = c(0, 0)) +\n",
    "scale_y_continuous(expand = c(0, 0), trans = \"log10\", breaks = c(1, 10, 100, 1000, 10000, 100000), limits=c(1, 100000)) +\n",
    "\n",
    "ylab(\"Number of affected guides\") +\n",
    "xlab(\"Frequency of SNV in sgRNA in DepMap\")\n",
    "\n",
    "\n",
    "#Export it to the google bucket\n",
    "setwd('/home/jupyter/Ancestry/figures')\n",
    "ggsave(\"depmap_frequency_affected.pdf\", width = 3.3, height = 2)\n",
    "system(glue::glue(\"\n",
    "cd /home/jupyter/Ancestry/figures\n",
    "gsutil cp depmap_frequency_affected.pdf gs://fc-45c0e148-0b1c-4244-9bfc-feb559bbc514\n",
    "\"))"
   ]
  },
  {
   "cell_type": "code",
   "execution_count": 11,
   "metadata": {},
   "outputs": [
    {
     "data": {
      "text/html": [
       "2262"
      ],
      "text/latex": [
       "2262"
      ],
      "text/markdown": [
       "2262"
      ],
      "text/plain": [
       "[1] 2262"
      ]
     },
     "metadata": {},
     "output_type": "display_data"
    }
   ],
   "source": [
    "#Calculate the total number of guides that are affected in > 10 cell lines\n",
    "freq.for.cutoff = (994*0.01)/100\n",
    "\n",
    "df.for.plotting %>%\n",
    "filter(frequency > freq.for.cutoff) %>%\n",
    "nrow()"
   ]
  },
  {
   "cell_type": "code",
   "execution_count": null,
   "metadata": {},
   "outputs": [],
   "source": []
  }
 ],
 "metadata": {
  "kernelspec": {
   "display_name": "R",
   "language": "R",
   "name": "ir"
  },
  "language_info": {
   "codemirror_mode": "r",
   "file_extension": ".r",
   "mimetype": "text/x-r-source",
   "name": "R",
   "pygments_lexer": "r",
   "version": "4.2.1"
  },
  "toc": {
   "base_numbering": 1,
   "nav_menu": {},
   "number_sections": true,
   "sideBar": true,
   "skip_h1_title": false,
   "title_cell": "Table of Contents",
   "title_sidebar": "Contents",
   "toc_cell": false,
   "toc_position": {},
   "toc_section_display": true,
   "toc_window_display": false
  }
 },
 "nbformat": 4,
 "nbformat_minor": 2
}
