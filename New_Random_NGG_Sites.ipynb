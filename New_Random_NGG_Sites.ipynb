{
 "cells": [
  {
   "cell_type": "markdown",
   "metadata": {},
   "source": [
    "The goal of this notebook is to plot the number of affected \"guides\" for a set of random NGG sites scattered throughout the genome.\n",
    "\n",
    "Note: You will need a very big machine with lots of memory to run this."
   ]
  },
  {
   "cell_type": "code",
   "execution_count": 1,
   "metadata": {},
   "outputs": [
    {
     "name": "stderr",
     "output_type": "stream",
     "text": [
      "Warning message in system(\"timedatectl\", intern = TRUE):\n",
      "“running command 'timedatectl' had status 1”\n",
      "── \u001b[1mAttaching packages\u001b[22m ─────────────────────────────────────── tidyverse 1.3.1 ──\n",
      "\n",
      "\u001b[32m✔\u001b[39m \u001b[34mggplot2\u001b[39m 3.3.6     \u001b[32m✔\u001b[39m \u001b[34mpurrr  \u001b[39m 0.3.4\n",
      "\u001b[32m✔\u001b[39m \u001b[34mtibble \u001b[39m 3.1.7     \u001b[32m✔\u001b[39m \u001b[34mdplyr  \u001b[39m 1.0.9\n",
      "\u001b[32m✔\u001b[39m \u001b[34mtidyr  \u001b[39m 1.2.0     \u001b[32m✔\u001b[39m \u001b[34mstringr\u001b[39m 1.4.0\n",
      "\u001b[32m✔\u001b[39m \u001b[34mreadr  \u001b[39m 2.1.2     \u001b[32m✔\u001b[39m \u001b[34mforcats\u001b[39m 0.5.1\n",
      "\n",
      "── \u001b[1mConflicts\u001b[22m ────────────────────────────────────────── tidyverse_conflicts() ──\n",
      "\u001b[31m✖\u001b[39m \u001b[34mdplyr\u001b[39m::\u001b[32mfilter()\u001b[39m masks \u001b[34mstats\u001b[39m::filter()\n",
      "\u001b[31m✖\u001b[39m \u001b[34mdplyr\u001b[39m::\u001b[32mlag()\u001b[39m    masks \u001b[34mstats\u001b[39m::lag()\n",
      "\n",
      "\n",
      "Attaching package: ‘reshape2’\n",
      "\n",
      "\n",
      "The following object is masked from ‘package:tidyr’:\n",
      "\n",
      "    smiths\n",
      "\n",
      "\n"
     ]
    }
   ],
   "source": [
    "#Set up the environment\n",
    "library(tidyverse)\n",
    "library(reshape2)"
   ]
  },
  {
   "cell_type": "code",
   "execution_count": 2,
   "metadata": {},
   "outputs": [],
   "source": [
    "#Load in Aaron's data\n",
    "setwd(\"/home/jupyter/Ancestry/analysis/random_ngg\")\n",
    "random.sites = read.table(\"final_randoms.txt\", sep = \"\\t\", header = T)"
   ]
  },
  {
   "cell_type": "code",
   "execution_count": 5,
   "metadata": {},
   "outputs": [
    {
     "data": {
      "text/html": [
       "<table class=\"dataframe\">\n",
       "<caption>A data.frame: 6 × 4155</caption>\n",
       "<thead>\n",
       "\t<tr><th></th><th scope=col>seq</th><th scope=col>chr</th><th scope=col>posL</th><th scope=col>posR</th><th scope=col>CHMI_CHMI3_WGS2</th><th scope=col>LP6005441.DNA_F08</th><th scope=col>HGDP00843</th><th scope=col>HGDP00392</th><th scope=col>LP6005441.DNA_H03</th><th scope=col>HGDP00544</th><th scope=col>⋯</th><th scope=col>HG00288</th><th scope=col>HG00290</th><th scope=col>HG00304</th><th scope=col>HG01765</th><th scope=col>HG01766</th><th scope=col>HG01767</th><th scope=col>HG01768</th><th scope=col>HG01785</th><th scope=col>HG01786</th><th scope=col>HG02219</th></tr>\n",
       "\t<tr><th></th><th scope=col>&lt;chr&gt;</th><th scope=col>&lt;chr&gt;</th><th scope=col>&lt;int&gt;</th><th scope=col>&lt;int&gt;</th><th scope=col>&lt;int&gt;</th><th scope=col>&lt;int&gt;</th><th scope=col>&lt;int&gt;</th><th scope=col>&lt;int&gt;</th><th scope=col>&lt;int&gt;</th><th scope=col>&lt;int&gt;</th><th scope=col>⋯</th><th scope=col>&lt;int&gt;</th><th scope=col>&lt;int&gt;</th><th scope=col>&lt;int&gt;</th><th scope=col>&lt;int&gt;</th><th scope=col>&lt;int&gt;</th><th scope=col>&lt;int&gt;</th><th scope=col>&lt;int&gt;</th><th scope=col>&lt;int&gt;</th><th scope=col>&lt;int&gt;</th><th scope=col>&lt;int&gt;</th></tr>\n",
       "</thead>\n",
       "<tbody>\n",
       "\t<tr><th scope=row>1</th><td>AAAACGTTTCCAAGACATGATGG</td><td>chr22</td><td>41636565</td><td>41636587</td><td>0</td><td>0</td><td>0</td><td>0</td><td>0</td><td>0</td><td>⋯</td><td>0</td><td>0</td><td>0</td><td>0</td><td>0</td><td>0</td><td>0</td><td>0</td><td>0</td><td>0</td></tr>\n",
       "\t<tr><th scope=row>2</th><td>AAAAGCCGCATGACCGAGACCGG</td><td>chr22</td><td>37568153</td><td>37568175</td><td>0</td><td>0</td><td>0</td><td>0</td><td>0</td><td>0</td><td>⋯</td><td>0</td><td>0</td><td>0</td><td>0</td><td>0</td><td>0</td><td>0</td><td>0</td><td>0</td><td>0</td></tr>\n",
       "\t<tr><th scope=row>3</th><td>AAAATACAACTCTGCGACAGAGG</td><td>chr22</td><td>50739808</td><td>50739830</td><td>0</td><td>0</td><td>0</td><td>0</td><td>0</td><td>0</td><td>⋯</td><td>0</td><td>0</td><td>0</td><td>0</td><td>0</td><td>0</td><td>0</td><td>0</td><td>0</td><td>0</td></tr>\n",
       "\t<tr><th scope=row>4</th><td>AAACACAATCCTCAGAAAGTGGG</td><td>chr22</td><td>31433897</td><td>31433919</td><td>0</td><td>0</td><td>0</td><td>0</td><td>0</td><td>0</td><td>⋯</td><td>0</td><td>0</td><td>0</td><td>0</td><td>0</td><td>0</td><td>0</td><td>0</td><td>0</td><td>0</td></tr>\n",
       "\t<tr><th scope=row>5</th><td>AAACCAATGTCCCTGGAGTGTGG</td><td>chr22</td><td>29438936</td><td>29438958</td><td>0</td><td>0</td><td>0</td><td>0</td><td>0</td><td>0</td><td>⋯</td><td>0</td><td>0</td><td>0</td><td>0</td><td>0</td><td>0</td><td>0</td><td>0</td><td>0</td><td>0</td></tr>\n",
       "\t<tr><th scope=row>6</th><td>AAACGGAGCCCACCTCGGCAGGG</td><td>chr22</td><td>25174323</td><td>25174345</td><td>0</td><td>0</td><td>0</td><td>0</td><td>0</td><td>0</td><td>⋯</td><td>0</td><td>0</td><td>0</td><td>0</td><td>0</td><td>0</td><td>0</td><td>0</td><td>0</td><td>0</td></tr>\n",
       "</tbody>\n",
       "</table>\n"
      ],
      "text/latex": [
       "A data.frame: 6 × 4155\n",
       "\\begin{tabular}{r|lllllllllllllllllllll}\n",
       "  & seq & chr & posL & posR & CHMI\\_CHMI3\\_WGS2 & LP6005441.DNA\\_F08 & HGDP00843 & HGDP00392 & LP6005441.DNA\\_H03 & HGDP00544 & ⋯ & HG00288 & HG00290 & HG00304 & HG01765 & HG01766 & HG01767 & HG01768 & HG01785 & HG01786 & HG02219\\\\\n",
       "  & <chr> & <chr> & <int> & <int> & <int> & <int> & <int> & <int> & <int> & <int> & ⋯ & <int> & <int> & <int> & <int> & <int> & <int> & <int> & <int> & <int> & <int>\\\\\n",
       "\\hline\n",
       "\t1 & AAAACGTTTCCAAGACATGATGG & chr22 & 41636565 & 41636587 & 0 & 0 & 0 & 0 & 0 & 0 & ⋯ & 0 & 0 & 0 & 0 & 0 & 0 & 0 & 0 & 0 & 0\\\\\n",
       "\t2 & AAAAGCCGCATGACCGAGACCGG & chr22 & 37568153 & 37568175 & 0 & 0 & 0 & 0 & 0 & 0 & ⋯ & 0 & 0 & 0 & 0 & 0 & 0 & 0 & 0 & 0 & 0\\\\\n",
       "\t3 & AAAATACAACTCTGCGACAGAGG & chr22 & 50739808 & 50739830 & 0 & 0 & 0 & 0 & 0 & 0 & ⋯ & 0 & 0 & 0 & 0 & 0 & 0 & 0 & 0 & 0 & 0\\\\\n",
       "\t4 & AAACACAATCCTCAGAAAGTGGG & chr22 & 31433897 & 31433919 & 0 & 0 & 0 & 0 & 0 & 0 & ⋯ & 0 & 0 & 0 & 0 & 0 & 0 & 0 & 0 & 0 & 0\\\\\n",
       "\t5 & AAACCAATGTCCCTGGAGTGTGG & chr22 & 29438936 & 29438958 & 0 & 0 & 0 & 0 & 0 & 0 & ⋯ & 0 & 0 & 0 & 0 & 0 & 0 & 0 & 0 & 0 & 0\\\\\n",
       "\t6 & AAACGGAGCCCACCTCGGCAGGG & chr22 & 25174323 & 25174345 & 0 & 0 & 0 & 0 & 0 & 0 & ⋯ & 0 & 0 & 0 & 0 & 0 & 0 & 0 & 0 & 0 & 0\\\\\n",
       "\\end{tabular}\n"
      ],
      "text/markdown": [
       "\n",
       "A data.frame: 6 × 4155\n",
       "\n",
       "| <!--/--> | seq &lt;chr&gt; | chr &lt;chr&gt; | posL &lt;int&gt; | posR &lt;int&gt; | CHMI_CHMI3_WGS2 &lt;int&gt; | LP6005441.DNA_F08 &lt;int&gt; | HGDP00843 &lt;int&gt; | HGDP00392 &lt;int&gt; | LP6005441.DNA_H03 &lt;int&gt; | HGDP00544 &lt;int&gt; | ⋯ ⋯ | HG00288 &lt;int&gt; | HG00290 &lt;int&gt; | HG00304 &lt;int&gt; | HG01765 &lt;int&gt; | HG01766 &lt;int&gt; | HG01767 &lt;int&gt; | HG01768 &lt;int&gt; | HG01785 &lt;int&gt; | HG01786 &lt;int&gt; | HG02219 &lt;int&gt; |\n",
       "|---|---|---|---|---|---|---|---|---|---|---|---|---|---|---|---|---|---|---|---|---|---|\n",
       "| 1 | AAAACGTTTCCAAGACATGATGG | chr22 | 41636565 | 41636587 | 0 | 0 | 0 | 0 | 0 | 0 | ⋯ | 0 | 0 | 0 | 0 | 0 | 0 | 0 | 0 | 0 | 0 |\n",
       "| 2 | AAAAGCCGCATGACCGAGACCGG | chr22 | 37568153 | 37568175 | 0 | 0 | 0 | 0 | 0 | 0 | ⋯ | 0 | 0 | 0 | 0 | 0 | 0 | 0 | 0 | 0 | 0 |\n",
       "| 3 | AAAATACAACTCTGCGACAGAGG | chr22 | 50739808 | 50739830 | 0 | 0 | 0 | 0 | 0 | 0 | ⋯ | 0 | 0 | 0 | 0 | 0 | 0 | 0 | 0 | 0 | 0 |\n",
       "| 4 | AAACACAATCCTCAGAAAGTGGG | chr22 | 31433897 | 31433919 | 0 | 0 | 0 | 0 | 0 | 0 | ⋯ | 0 | 0 | 0 | 0 | 0 | 0 | 0 | 0 | 0 | 0 |\n",
       "| 5 | AAACCAATGTCCCTGGAGTGTGG | chr22 | 29438936 | 29438958 | 0 | 0 | 0 | 0 | 0 | 0 | ⋯ | 0 | 0 | 0 | 0 | 0 | 0 | 0 | 0 | 0 | 0 |\n",
       "| 6 | AAACGGAGCCCACCTCGGCAGGG | chr22 | 25174323 | 25174345 | 0 | 0 | 0 | 0 | 0 | 0 | ⋯ | 0 | 0 | 0 | 0 | 0 | 0 | 0 | 0 | 0 | 0 |\n",
       "\n"
      ],
      "text/plain": [
       "  seq                     chr   posL     posR     CHMI_CHMI3_WGS2\n",
       "1 AAAACGTTTCCAAGACATGATGG chr22 41636565 41636587 0              \n",
       "2 AAAAGCCGCATGACCGAGACCGG chr22 37568153 37568175 0              \n",
       "3 AAAATACAACTCTGCGACAGAGG chr22 50739808 50739830 0              \n",
       "4 AAACACAATCCTCAGAAAGTGGG chr22 31433897 31433919 0              \n",
       "5 AAACCAATGTCCCTGGAGTGTGG chr22 29438936 29438958 0              \n",
       "6 AAACGGAGCCCACCTCGGCAGGG chr22 25174323 25174345 0              \n",
       "  LP6005441.DNA_F08 HGDP00843 HGDP00392 LP6005441.DNA_H03 HGDP00544 ⋯ HG00288\n",
       "1 0                 0         0         0                 0         ⋯ 0      \n",
       "2 0                 0         0         0                 0         ⋯ 0      \n",
       "3 0                 0         0         0                 0         ⋯ 0      \n",
       "4 0                 0         0         0                 0         ⋯ 0      \n",
       "5 0                 0         0         0                 0         ⋯ 0      \n",
       "6 0                 0         0         0                 0         ⋯ 0      \n",
       "  HG00290 HG00304 HG01765 HG01766 HG01767 HG01768 HG01785 HG01786 HG02219\n",
       "1 0       0       0       0       0       0       0       0       0      \n",
       "2 0       0       0       0       0       0       0       0       0      \n",
       "3 0       0       0       0       0       0       0       0       0      \n",
       "4 0       0       0       0       0       0       0       0       0      \n",
       "5 0       0       0       0       0       0       0       0       0      \n",
       "6 0       0       0       0       0       0       0       0       0      "
      ]
     },
     "metadata": {},
     "output_type": "display_data"
    }
   ],
   "source": [
    "head(random.sites)"
   ]
  },
  {
   "cell_type": "code",
   "execution_count": 7,
   "metadata": {},
   "outputs": [],
   "source": [
    "#Calculate the number of affected guides in each individual\n",
    "affected.guides.per.person = random.sites %>%\n",
    "select(-seq, -chr, -posL, -posR) %>%\n",
    "apply(2, sum)"
   ]
  },
  {
   "cell_type": "code",
   "execution_count": 14,
   "metadata": {},
   "outputs": [],
   "source": [
    "#Convert it to a data frame\n",
    "#Write it, so we don't need to do all of that math again\n",
    "affected.guides.df = cbind(names(affected.guides.per.person), affected.guides.per.person) %>%\n",
    "data.frame() %>%\n",
    "rename(\"sample\" = 1, \"num_affected\" = 2)\n",
    "\n",
    "#Now write it\n",
    "setwd(\"/home/jupyter/Ancestry/analysis/random_ngg\")\n",
    "write.table(affected.guides.df, \"affected_guides_per_gnomad_sample.txt\", sep = \"\\t\", col.names = TRUE, row.names = FALSE, quote = FALSE)"
   ]
  },
  {
   "cell_type": "code",
   "execution_count": 15,
   "metadata": {},
   "outputs": [],
   "source": [
    "#Read it back in (for downstream analysis and for re-making the figure)\n",
    "setwd(\"/home/jupyter/Ancestry/analysis/random_ngg\")\n",
    "affected.guides.df = read.table(\"affected_guides_per_gnomad_sample.txt\", sep = \"\\t\", header = T)"
   ]
  },
  {
   "cell_type": "markdown",
   "metadata": {},
   "source": [
    "# Create the histogram"
   ]
  },
  {
   "cell_type": "code",
   "execution_count": 17,
   "metadata": {},
   "outputs": [
    {
     "data": {
      "text/html": [
       "<table class=\"dataframe\">\n",
       "<caption>A data.frame: 6 × 2</caption>\n",
       "<thead>\n",
       "\t<tr><th></th><th scope=col>sample</th><th scope=col>ancestry</th></tr>\n",
       "\t<tr><th></th><th scope=col>&lt;chr&gt;</th><th scope=col>&lt;chr&gt;</th></tr>\n",
       "</thead>\n",
       "<tbody>\n",
       "\t<tr><th scope=row>1</th><td>CHMI_CHMI3_WGS2</td><td>nfe</td></tr>\n",
       "\t<tr><th scope=row>2</th><td>HG00096        </td><td>nfe</td></tr>\n",
       "\t<tr><th scope=row>3</th><td>HG00097        </td><td>nfe</td></tr>\n",
       "\t<tr><th scope=row>4</th><td>HG00099        </td><td>nfe</td></tr>\n",
       "\t<tr><th scope=row>5</th><td>HG00100        </td><td>nfe</td></tr>\n",
       "\t<tr><th scope=row>6</th><td>HG00101        </td><td>nfe</td></tr>\n",
       "</tbody>\n",
       "</table>\n"
      ],
      "text/latex": [
       "A data.frame: 6 × 2\n",
       "\\begin{tabular}{r|ll}\n",
       "  & sample & ancestry\\\\\n",
       "  & <chr> & <chr>\\\\\n",
       "\\hline\n",
       "\t1 & CHMI\\_CHMI3\\_WGS2 & nfe\\\\\n",
       "\t2 & HG00096         & nfe\\\\\n",
       "\t3 & HG00097         & nfe\\\\\n",
       "\t4 & HG00099         & nfe\\\\\n",
       "\t5 & HG00100         & nfe\\\\\n",
       "\t6 & HG00101         & nfe\\\\\n",
       "\\end{tabular}\n"
      ],
      "text/markdown": [
       "\n",
       "A data.frame: 6 × 2\n",
       "\n",
       "| <!--/--> | sample &lt;chr&gt; | ancestry &lt;chr&gt; |\n",
       "|---|---|---|\n",
       "| 1 | CHMI_CHMI3_WGS2 | nfe |\n",
       "| 2 | HG00096         | nfe |\n",
       "| 3 | HG00097         | nfe |\n",
       "| 4 | HG00099         | nfe |\n",
       "| 5 | HG00100         | nfe |\n",
       "| 6 | HG00101         | nfe |\n",
       "\n"
      ],
      "text/plain": [
       "  sample          ancestry\n",
       "1 CHMI_CHMI3_WGS2 nfe     \n",
       "2 HG00096         nfe     \n",
       "3 HG00097         nfe     \n",
       "4 HG00099         nfe     \n",
       "5 HG00100         nfe     \n",
       "6 HG00101         nfe     "
      ]
     },
     "metadata": {},
     "output_type": "display_data"
    }
   ],
   "source": [
    "#Load in the gnomAD annotation file so that we know which sample belongs to each ancestry group\n",
    "setwd(\"/home/jupyter/Ancestry/raw_data/hgdp\")\n",
    "sample.annotation = read.table(\"gnomad.genomes.v3.1.2.hgdp_1kg_subset_sample_meta.tsv.bgz\", sep = \"\\t\", header = T) %>%\n",
    "select(s, gnomad_population_inference) %>%\n",
    "mutate(gnomad_population_inference = gsub(\"\\\\..*pop\", \"\", gnomad_population_inference)) %>%\n",
    "mutate(gnomad_population_inference = gsub(\"prob..*\", \"\", gnomad_population_inference)) %>%\n",
    "mutate(gnomad_population_inference = gsub(\"..*:\", \"\", gnomad_population_inference)) %>%\n",
    "mutate(gnomad_population_inference = gsub(\",\", \"\", gnomad_population_inference)) %>%\n",
    "rename(\"sample\" = 1, \"ancestry\" = 2)\n",
    "\n",
    "head(sample.annotation)"
   ]
  },
  {
   "cell_type": "code",
   "execution_count": 22,
   "metadata": {},
   "outputs": [
    {
     "data": {
      "text/html": [
       "1000000"
      ],
      "text/latex": [
       "1000000"
      ],
      "text/markdown": [
       "1000000"
      ],
      "text/plain": [
       "[1] 1000000"
      ]
     },
     "metadata": {},
     "output_type": "display_data"
    }
   ],
   "source": [
    "#Calculate the number of guides in the library\n",
    "tot.guides = nrow(random.sites)\n",
    "tot.guides"
   ]
  },
  {
   "cell_type": "code",
   "execution_count": 19,
   "metadata": {},
   "outputs": [],
   "source": [
    "#Assemble everything into a single data frame\n",
    "affected.guides.df = affected.guides.df %>%\n",
    "rename(\"sample\" = 1, \"num_guides\" = 2) %>%\n",
    "inner_join(sample.annotation, by = \"sample\") %>%\n",
    "mutate(num_guides = as.numeric(num_guides)) %>%\n",
    "filter(ancestry != \"NA\") %>%\n",
    "mutate(percent_guides = (num_guides/tot.guides)*100)"
   ]
  },
  {
   "cell_type": "code",
   "execution_count": 25,
   "metadata": {},
   "outputs": [
    {
     "data": {
      "text/html": [
       "<table class=\"dataframe\">\n",
       "<caption>A data.frame: 6 × 4</caption>\n",
       "<thead>\n",
       "\t<tr><th></th><th scope=col>sample</th><th scope=col>num_guides</th><th scope=col>ancestry</th><th scope=col>percent_guides</th></tr>\n",
       "\t<tr><th></th><th scope=col>&lt;chr&gt;</th><th scope=col>&lt;dbl&gt;</th><th scope=col>&lt;chr&gt;</th><th scope=col>&lt;dbl&gt;</th></tr>\n",
       "</thead>\n",
       "<tbody>\n",
       "\t<tr><th scope=row>1</th><td>CHMI_CHMI3_WGS2</td><td>17505</td><td>nfe</td><td>1.7505</td></tr>\n",
       "\t<tr><th scope=row>2</th><td>HGDP00843      </td><td>16180</td><td>amr</td><td>1.6180</td></tr>\n",
       "\t<tr><th scope=row>3</th><td>HGDP00392      </td><td>17767</td><td>sas</td><td>1.7767</td></tr>\n",
       "\t<tr><th scope=row>4</th><td>HGDP00544      </td><td>18004</td><td>oth</td><td>1.8004</td></tr>\n",
       "\t<tr><th scope=row>5</th><td>HGDP01053      </td><td>16498</td><td>amr</td><td>1.6498</td></tr>\n",
       "\t<tr><th scope=row>6</th><td>HGDP00191      </td><td>17306</td><td>sas</td><td>1.7306</td></tr>\n",
       "</tbody>\n",
       "</table>\n"
      ],
      "text/latex": [
       "A data.frame: 6 × 4\n",
       "\\begin{tabular}{r|llll}\n",
       "  & sample & num\\_guides & ancestry & percent\\_guides\\\\\n",
       "  & <chr> & <dbl> & <chr> & <dbl>\\\\\n",
       "\\hline\n",
       "\t1 & CHMI\\_CHMI3\\_WGS2 & 17505 & nfe & 1.7505\\\\\n",
       "\t2 & HGDP00843       & 16180 & amr & 1.6180\\\\\n",
       "\t3 & HGDP00392       & 17767 & sas & 1.7767\\\\\n",
       "\t4 & HGDP00544       & 18004 & oth & 1.8004\\\\\n",
       "\t5 & HGDP01053       & 16498 & amr & 1.6498\\\\\n",
       "\t6 & HGDP00191       & 17306 & sas & 1.7306\\\\\n",
       "\\end{tabular}\n"
      ],
      "text/markdown": [
       "\n",
       "A data.frame: 6 × 4\n",
       "\n",
       "| <!--/--> | sample &lt;chr&gt; | num_guides &lt;dbl&gt; | ancestry &lt;chr&gt; | percent_guides &lt;dbl&gt; |\n",
       "|---|---|---|---|---|\n",
       "| 1 | CHMI_CHMI3_WGS2 | 17505 | nfe | 1.7505 |\n",
       "| 2 | HGDP00843       | 16180 | amr | 1.6180 |\n",
       "| 3 | HGDP00392       | 17767 | sas | 1.7767 |\n",
       "| 4 | HGDP00544       | 18004 | oth | 1.8004 |\n",
       "| 5 | HGDP01053       | 16498 | amr | 1.6498 |\n",
       "| 6 | HGDP00191       | 17306 | sas | 1.7306 |\n",
       "\n"
      ],
      "text/plain": [
       "  sample          num_guides ancestry percent_guides\n",
       "1 CHMI_CHMI3_WGS2 17505      nfe      1.7505        \n",
       "2 HGDP00843       16180      amr      1.6180        \n",
       "3 HGDP00392       17767      sas      1.7767        \n",
       "4 HGDP00544       18004      oth      1.8004        \n",
       "5 HGDP01053       16498      amr      1.6498        \n",
       "6 HGDP00191       17306      sas      1.7306        "
      ]
     },
     "metadata": {},
     "output_type": "display_data"
    }
   ],
   "source": [
    "head(affected.guides.df)"
   ]
  },
  {
   "cell_type": "code",
   "execution_count": 24,
   "metadata": {},
   "outputs": [
    {
     "data": {
      "image/png": "[encoded data removed]",
      "text/plain": [
       "plot without title"
      ]
     },
     "metadata": {
      "image/png": {
       "height": 420,
       "width": 420
      }
     },
     "output_type": "display_data"
    }
   ],
   "source": [
    "#Plot the data\n",
    "affected.guides.df %>%\n",
    "ggplot() +\n",
    "geom_histogram(aes(x = percent_guides, color = ancestry, fill = ancestry), bins = 90, position=\"identity\") +\n",
    "theme_bw() +\n",
    "\n",
    "scale_color_manual(values=c(\"darkorange2\", \"grey\", \"grey\", \"grey\", \"grey\", \"grey\", \"grey\", \"grey\")) +\n",
    "scale_fill_manual(values=c(\"darkorange2\", \"grey\", \"grey\", \"grey\", \"grey\", \"grey\", \"grey\", \"grey\")) +\n",
    "\n",
    "theme(\n",
    "panel.border = element_blank(), panel.grid.major = element_blank(),\n",
    "panel.grid.minor = element_blank(), axis.line = element_line(color = \"black\")\n",
    ") +\n",
    "\n",
    "theme(\n",
    "axis.title.x = element_text(color = \"black\", size = 14, face = \"bold\"),\n",
    "axis.title.y = element_text(color = \"black\", size = 14, face = \"bold\")\n",
    ") +\n",
    "\n",
    "theme(\n",
    "axis.text=element_text(size = 12, face = \"bold\"),\n",
    "axis.title=element_text(size = 14,face = \"bold\")\n",
    ") +\n",
    "\n",
    "theme(\n",
    "legend.title = element_text(size = 14, face = \"bold\"),\n",
    "legend.text = element_text(size = 10, face = \"bold\")\n",
    ") +\n",
    "\n",
    "scale_y_continuous(expand = c(0,0)) +\n",
    "scale_x_continuous(expand = c(0,0)) +\n",
    "\n",
    "ylab(\"Number of individuals\") +\n",
    "xlab(\"% affected guides\")\n",
    "\n",
    "\n",
    "setwd(\"/home/jupyter/Ancestry/analysis/random_ngg\")\n",
    "ggsave(\"affected_guides_per_individual_random_ngg.pdf\", width = 5, height = 3)\n",
    "system(glue::glue(\"\n",
    "cd /home/jupyter/Ancestry/analysis/random_ngg\n",
    "gsutil cp affected_guides_per_individual_random_ngg.pdf gs://fc-45c0e148-0b1c-4244-9bfc-feb559bbc514\n",
    "\"))"
   ]
  },
  {
   "cell_type": "markdown",
   "metadata": {},
   "source": [
    "# Do some calculations for the manuscript text"
   ]
  },
  {
   "cell_type": "markdown",
   "metadata": {},
   "source": [
    "Calculate how many guides are affected in at least one individual"
   ]
  },
  {
   "cell_type": "code",
   "execution_count": 29,
   "metadata": {},
   "outputs": [
    {
     "data": {
      "text/html": [
       "623174"
      ],
      "text/latex": [
       "623174"
      ],
      "text/markdown": [
       "623174"
      ],
      "text/plain": [
       "[1] 623174"
      ]
     },
     "metadata": {},
     "output_type": "display_data"
    }
   ],
   "source": [
    "#Calculate the sum of samples affected per guide\n",
    "affected.samples.per.guide = random.sites %>%\n",
    "select(-seq, -chr, -posL, -posR) %>%\n",
    "apply(1, sum)"
   ]
  },
  {
   "cell_type": "code",
   "execution_count": 30,
   "metadata": {},
   "outputs": [
    {
     "data": {
      "text/html": [
       "623174"
      ],
      "text/latex": [
       "623174"
      ],
      "text/markdown": [
       "623174"
      ],
      "text/plain": [
       "[1] 623174"
      ]
     },
     "metadata": {},
     "output_type": "display_data"
    },
    {
     "data": {
      "text/html": [
       "62.3174"
      ],
      "text/latex": [
       "62.3174"
      ],
      "text/markdown": [
       "62.3174"
      ],
      "text/plain": [
       "[1] 62.3174"
      ]
     },
     "metadata": {},
     "output_type": "display_data"
    }
   ],
   "source": [
    "#How many guides are affected in at least one sample?\n",
    "num.affected.guides = affected.samples.per.guide[affected.samples.per.guide >= 1] %>% length()\n",
    "num.affected.guides\n",
    "\n",
    "#what percent of guides are affected\n",
    "percent.affected.guides = (num.affected.guides/nrow(random.sites))*100\n",
    "percent.affected.guides\n"
   ]
  },
  {
   "cell_type": "code",
   "execution_count": 34,
   "metadata": {},
   "outputs": [
    {
     "data": {
      "text/html": [
       "1.7967"
      ],
      "text/latex": [
       "1.7967"
      ],
      "text/markdown": [
       "1.7967"
      ],
      "text/plain": [
       "[1] 1.7967"
      ]
     },
     "metadata": {},
     "output_type": "display_data"
    },
    {
     "data": {
      "text/html": [
       "2.16995"
      ],
      "text/latex": [
       "2.16995"
      ],
      "text/markdown": [
       "2.16995"
      ],
      "text/plain": [
       "[1] 2.16995"
      ]
     },
     "metadata": {},
     "output_type": "display_data"
    },
    {
     "data": {
      "text/html": [
       "1.7805"
      ],
      "text/latex": [
       "1.7805"
      ],
      "text/markdown": [
       "1.7805"
      ],
      "text/plain": [
       "[1] 1.7805"
      ]
     },
     "metadata": {},
     "output_type": "display_data"
    }
   ],
   "source": [
    "#How many guides are affected in each individual?\n",
    "median.affected.all.groups = affected.guides.df %>%\n",
    "pull(percent_guides) %>%\n",
    "median()\n",
    "\n",
    "#in afr indivuals?\n",
    "median.affected.afr = affected.guides.df %>%\n",
    "filter(ancestry %in% \"afr\") %>%\n",
    "pull(percent_guides) %>%\n",
    "median()\n",
    "\n",
    "#in non-afr individuals?\n",
    "median.affected.non.afr = affected.guides.df %>%\n",
    "filter(ancestry != \"afr\") %>%\n",
    "pull(percent_guides) %>%\n",
    "median()\n",
    "\n",
    "\n",
    "\n",
    "median.affected.all.groups\n",
    "median.affected.afr\n",
    "median.affected.non.afr"
   ]
  },
  {
   "cell_type": "code",
   "execution_count": null,
   "metadata": {},
   "outputs": [],
   "source": []
  },
  {
   "cell_type": "code",
   "execution_count": null,
   "metadata": {},
   "outputs": [],
   "source": []
  },
  {
   "cell_type": "code",
   "execution_count": null,
   "metadata": {},
   "outputs": [],
   "source": []
  },
  {
   "cell_type": "code",
   "execution_count": 31,
   "metadata": {},
   "outputs": [
    {
     "data": {
      "text/html": [
       "<table class=\"dataframe\">\n",
       "<caption>A data.frame: 6 × 4</caption>\n",
       "<thead>\n",
       "\t<tr><th></th><th scope=col>sample</th><th scope=col>num_guides</th><th scope=col>ancestry</th><th scope=col>percent_guides</th></tr>\n",
       "\t<tr><th></th><th scope=col>&lt;chr&gt;</th><th scope=col>&lt;dbl&gt;</th><th scope=col>&lt;chr&gt;</th><th scope=col>&lt;dbl&gt;</th></tr>\n",
       "</thead>\n",
       "<tbody>\n",
       "\t<tr><th scope=row>1</th><td>CHMI_CHMI3_WGS2</td><td>17505</td><td>nfe</td><td>1.7505</td></tr>\n",
       "\t<tr><th scope=row>2</th><td>HGDP00843      </td><td>16180</td><td>amr</td><td>1.6180</td></tr>\n",
       "\t<tr><th scope=row>3</th><td>HGDP00392      </td><td>17767</td><td>sas</td><td>1.7767</td></tr>\n",
       "\t<tr><th scope=row>4</th><td>HGDP00544      </td><td>18004</td><td>oth</td><td>1.8004</td></tr>\n",
       "\t<tr><th scope=row>5</th><td>HGDP01053      </td><td>16498</td><td>amr</td><td>1.6498</td></tr>\n",
       "\t<tr><th scope=row>6</th><td>HGDP00191      </td><td>17306</td><td>sas</td><td>1.7306</td></tr>\n",
       "</tbody>\n",
       "</table>\n"
      ],
      "text/latex": [
       "A data.frame: 6 × 4\n",
       "\\begin{tabular}{r|llll}\n",
       "  & sample & num\\_guides & ancestry & percent\\_guides\\\\\n",
       "  & <chr> & <dbl> & <chr> & <dbl>\\\\\n",
       "\\hline\n",
       "\t1 & CHMI\\_CHMI3\\_WGS2 & 17505 & nfe & 1.7505\\\\\n",
       "\t2 & HGDP00843       & 16180 & amr & 1.6180\\\\\n",
       "\t3 & HGDP00392       & 17767 & sas & 1.7767\\\\\n",
       "\t4 & HGDP00544       & 18004 & oth & 1.8004\\\\\n",
       "\t5 & HGDP01053       & 16498 & amr & 1.6498\\\\\n",
       "\t6 & HGDP00191       & 17306 & sas & 1.7306\\\\\n",
       "\\end{tabular}\n"
      ],
      "text/markdown": [
       "\n",
       "A data.frame: 6 × 4\n",
       "\n",
       "| <!--/--> | sample &lt;chr&gt; | num_guides &lt;dbl&gt; | ancestry &lt;chr&gt; | percent_guides &lt;dbl&gt; |\n",
       "|---|---|---|---|---|\n",
       "| 1 | CHMI_CHMI3_WGS2 | 17505 | nfe | 1.7505 |\n",
       "| 2 | HGDP00843       | 16180 | amr | 1.6180 |\n",
       "| 3 | HGDP00392       | 17767 | sas | 1.7767 |\n",
       "| 4 | HGDP00544       | 18004 | oth | 1.8004 |\n",
       "| 5 | HGDP01053       | 16498 | amr | 1.6498 |\n",
       "| 6 | HGDP00191       | 17306 | sas | 1.7306 |\n",
       "\n"
      ],
      "text/plain": [
       "  sample          num_guides ancestry percent_guides\n",
       "1 CHMI_CHMI3_WGS2 17505      nfe      1.7505        \n",
       "2 HGDP00843       16180      amr      1.6180        \n",
       "3 HGDP00392       17767      sas      1.7767        \n",
       "4 HGDP00544       18004      oth      1.8004        \n",
       "5 HGDP01053       16498      amr      1.6498        \n",
       "6 HGDP00191       17306      sas      1.7306        "
      ]
     },
     "metadata": {},
     "output_type": "display_data"
    }
   ],
   "source": [
    "head(affected.guides.df)"
   ]
  },
  {
   "cell_type": "code",
   "execution_count": null,
   "metadata": {},
   "outputs": [],
   "source": []
  },
  {
   "cell_type": "code",
   "execution_count": null,
   "metadata": {},
   "outputs": [],
   "source": []
  },
  {
   "cell_type": "code",
   "execution_count": null,
   "metadata": {},
   "outputs": [],
   "source": []
  }
 ],
 "metadata": {
  "kernelspec": {
   "display_name": "R",
   "language": "R",
   "name": "ir"
  },
  "language_info": {
   "codemirror_mode": "r",
   "file_extension": ".r",
   "mimetype": "text/x-r-source",
   "name": "R",
   "pygments_lexer": "r",
   "version": "4.2.1"
  },
  "toc": {
   "base_numbering": 1,
   "nav_menu": {},
   "number_sections": true,
   "sideBar": true,
   "skip_h1_title": false,
   "title_cell": "Table of Contents",
   "title_sidebar": "Contents",
   "toc_cell": false,
   "toc_position": {},
   "toc_section_display": true,
   "toc_window_display": false
  }
 },
 "nbformat": 4,
 "nbformat_minor": 2
}
