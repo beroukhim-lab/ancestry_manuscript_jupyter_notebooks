{
 "cells": [
  {
   "cell_type": "markdown",
   "metadata": {},
   "source": [
    "The goal of this notebook is to make some sort of plot that shows where in the sgRNA the SNPs are for the ancestry-associated genes"
   ]
  },
  {
   "cell_type": "code",
   "execution_count": 2,
   "metadata": {},
   "outputs": [
    {
     "name": "stderr",
     "output_type": "stream",
     "text": [
      "Warning message in system(\"timedatectl\", intern = TRUE):\n",
      "“running command 'timedatectl' had status 1”\n",
      "── \u001b[1mAttaching packages\u001b[22m ─────────────────────────────────────── tidyverse 1.3.1 ──\n",
      "\n",
      "\u001b[32m✔\u001b[39m \u001b[34mggplot2\u001b[39m 3.3.6     \u001b[32m✔\u001b[39m \u001b[34mpurrr  \u001b[39m 0.3.4\n",
      "\u001b[32m✔\u001b[39m \u001b[34mtibble \u001b[39m 3.1.7     \u001b[32m✔\u001b[39m \u001b[34mdplyr  \u001b[39m 1.0.9\n",
      "\u001b[32m✔\u001b[39m \u001b[34mtidyr  \u001b[39m 1.2.0     \u001b[32m✔\u001b[39m \u001b[34mstringr\u001b[39m 1.4.0\n",
      "\u001b[32m✔\u001b[39m \u001b[34mreadr  \u001b[39m 2.1.2     \u001b[32m✔\u001b[39m \u001b[34mforcats\u001b[39m 0.5.1\n",
      "\n",
      "── \u001b[1mConflicts\u001b[22m ────────────────────────────────────────── tidyverse_conflicts() ──\n",
      "\u001b[31m✖\u001b[39m \u001b[34mdplyr\u001b[39m::\u001b[32mfilter()\u001b[39m masks \u001b[34mstats\u001b[39m::filter()\n",
      "\u001b[31m✖\u001b[39m \u001b[34mdplyr\u001b[39m::\u001b[32mlag()\u001b[39m    masks \u001b[34mstats\u001b[39m::lag()\n",
      "\n",
      "\n",
      "Attaching package: ‘reshape2’\n",
      "\n",
      "\n",
      "The following object is masked from ‘package:tidyr’:\n",
      "\n",
      "    smiths\n",
      "\n",
      "\n"
     ]
    }
   ],
   "source": [
    "#Set up the environment\n",
    "library(tidyverse)\n",
    "library(reshape2)"
   ]
  },
  {
   "cell_type": "markdown",
   "metadata": {},
   "source": [
    "I think this is a good structure for what I should do:\n",
    "\n",
    "1) Get all the ancestry-associated genes\n",
    "2) Map CCLE SNPs to those guides\n",
    "3) Make a plot where each sgRNA is on its own row, and sgrna#1, sgrna#2, sgrna#3, and sgrna#4 are all on their own columns. sgrnas with most snps on the right.\n",
    "4) split into two chunks: bottom have at least one SNP, top have no SNPs."
   ]
  },
  {
   "cell_type": "code",
   "execution_count": null,
   "metadata": {},
   "outputs": [],
   "source": [
    "gene pval difference ancestry FDR"
   ]
  },
  {
   "cell_type": "code",
   "execution_count": 3,
   "metadata": {},
   "outputs": [
    {
     "data": {
      "text/html": [
       "<table class=\"dataframe\">\n",
       "<caption>A data.frame: 6 × 5</caption>\n",
       "<thead>\n",
       "\t<tr><th></th><th scope=col>gene</th><th scope=col>pval</th><th scope=col>difference</th><th scope=col>ancestry</th><th scope=col>FDR</th></tr>\n",
       "\t<tr><th></th><th scope=col>&lt;chr&gt;</th><th scope=col>&lt;dbl&gt;</th><th scope=col>&lt;dbl&gt;</th><th scope=col>&lt;chr&gt;</th><th scope=col>&lt;dbl&gt;</th></tr>\n",
       "</thead>\n",
       "<tbody>\n",
       "\t<tr><th scope=row>1</th><td>A1BG   </td><td>0.07814048</td><td> 0.018967685</td><td>AFR</td><td>0.9259430</td></tr>\n",
       "\t<tr><th scope=row>2</th><td>A1CF   </td><td>0.08035465</td><td>-0.035117475</td><td>AFR</td><td>0.9270243</td></tr>\n",
       "\t<tr><th scope=row>3</th><td>A2M    </td><td>0.58861022</td><td>-0.010031350</td><td>AFR</td><td>1.0000000</td></tr>\n",
       "\t<tr><th scope=row>4</th><td>A2ML1  </td><td>0.82034442</td><td> 0.009988105</td><td>AFR</td><td>1.0000000</td></tr>\n",
       "\t<tr><th scope=row>5</th><td>A3GALT2</td><td>0.96604057</td><td> 0.003320528</td><td>AFR</td><td>1.0000000</td></tr>\n",
       "\t<tr><th scope=row>6</th><td>A4GALT </td><td>0.87594000</td><td> 0.004528391</td><td>AFR</td><td>1.0000000</td></tr>\n",
       "</tbody>\n",
       "</table>\n"
      ],
      "text/latex": [
       "A data.frame: 6 × 5\n",
       "\\begin{tabular}{r|lllll}\n",
       "  & gene & pval & difference & ancestry & FDR\\\\\n",
       "  & <chr> & <dbl> & <dbl> & <chr> & <dbl>\\\\\n",
       "\\hline\n",
       "\t1 & A1BG    & 0.07814048 &  0.018967685 & AFR & 0.9259430\\\\\n",
       "\t2 & A1CF    & 0.08035465 & -0.035117475 & AFR & 0.9270243\\\\\n",
       "\t3 & A2M     & 0.58861022 & -0.010031350 & AFR & 1.0000000\\\\\n",
       "\t4 & A2ML1   & 0.82034442 &  0.009988105 & AFR & 1.0000000\\\\\n",
       "\t5 & A3GALT2 & 0.96604057 &  0.003320528 & AFR & 1.0000000\\\\\n",
       "\t6 & A4GALT  & 0.87594000 &  0.004528391 & AFR & 1.0000000\\\\\n",
       "\\end{tabular}\n"
      ],
      "text/markdown": [
       "\n",
       "A data.frame: 6 × 5\n",
       "\n",
       "| <!--/--> | gene &lt;chr&gt; | pval &lt;dbl&gt; | difference &lt;dbl&gt; | ancestry &lt;chr&gt; | FDR &lt;dbl&gt; |\n",
       "|---|---|---|---|---|---|\n",
       "| 1 | A1BG    | 0.07814048 |  0.018967685 | AFR | 0.9259430 |\n",
       "| 2 | A1CF    | 0.08035465 | -0.035117475 | AFR | 0.9270243 |\n",
       "| 3 | A2M     | 0.58861022 | -0.010031350 | AFR | 1.0000000 |\n",
       "| 4 | A2ML1   | 0.82034442 |  0.009988105 | AFR | 1.0000000 |\n",
       "| 5 | A3GALT2 | 0.96604057 |  0.003320528 | AFR | 1.0000000 |\n",
       "| 6 | A4GALT  | 0.87594000 |  0.004528391 | AFR | 1.0000000 |\n",
       "\n"
      ],
      "text/plain": [
       "  gene    pval       difference   ancestry FDR      \n",
       "1 A1BG    0.07814048  0.018967685 AFR      0.9259430\n",
       "2 A1CF    0.08035465 -0.035117475 AFR      0.9270243\n",
       "3 A2M     0.58861022 -0.010031350 AFR      1.0000000\n",
       "4 A2ML1   0.82034442  0.009988105 AFR      1.0000000\n",
       "5 A3GALT2 0.96604057  0.003320528 AFR      1.0000000\n",
       "6 A4GALT  0.87594000  0.004528391 AFR      1.0000000"
      ]
     },
     "metadata": {},
     "output_type": "display_data"
    },
    {
     "data": {
      "text/html": [
       "<style>\n",
       ".list-inline {list-style: none; margin:0; padding: 0}\n",
       ".list-inline>li {display: inline-block}\n",
       ".list-inline>li:not(:last-child)::after {content: \"\\00b7\"; padding: 0 .5ex}\n",
       "</style>\n",
       "<ol class=list-inline><li>'CAAP1'</li><li>'CDKN2B'</li><li>'DMRTA1'</li><li>'EEF2'</li><li>'ELAVL2'</li><li>'IFNA10'</li><li>'IFNA14'</li><li>'IFNA16'</li><li>'IFNA4'</li><li>'IFNA6'</li><li>'IFNA8'</li><li>'IFNB1'</li><li>'IFNE'</li><li>'IFNK'</li><li>'IZUMO3'</li><li>'MOB3B'</li><li>'MTAP'</li><li>'RESP18'</li><li>'TEK'</li><li>'ZNF236'</li><li>'ZNF407'</li><li>'ABHD5'</li><li>'ADCY3'</li><li>'BTG1'</li><li>'C22orf31'</li><li>'C2orf80'</li><li>'CBFA2T2'</li><li>'CCDC102B'</li><li>'CCDC74B'</li><li>'CCL3'</li><li>'CEP19'</li><li>'CHGB'</li><li>'CLPSL1'</li><li>'CLSPN'</li><li>'COX6B1'</li><li>'CSTA'</li><li>'DCN'</li><li>'DDX47'</li><li>'DND1'</li><li>'ECD'</li><li>'FAM25A'</li><li>'FCGR3A'</li><li>'FRG2C'</li><li>'GLYCTK'</li><li>'GRB2'</li><li>'HINT3'</li><li>'INCENP'</li><li>'ITGA3'</li><li>'KIAA2013'</li><li>'KLF5'</li><li>'MATR3'</li><li>'MDN1'</li><li>'MRTO4'</li><li>'MYH11'</li><li>'NIT2'</li><li>'NOP56'</li><li>'NPEPPS'</li><li>'NPHS1'</li><li>'PDXDC1'</li><li>'PEX11A'</li><li>'PTPN11'</li><li>'QRICH2'</li><li>'RAB21'</li><li>'RETNLB'</li><li>'RHD'</li><li>'RIMS2'</li><li>'RPS5'</li><li>'RTP5'</li><li>'SART1'</li><li>'SLC10A5'</li><li>'SLC52A2'</li><li>'SLC5A11'</li><li>'SNAP23'</li><li>'SPATA6L'</li><li>'SRP14'</li><li>'STX4'</li><li>'STXBP3'</li><li>'TPSD1'</li><li>'TRMT61B'</li><li>'TTC4'</li><li>'TUT1'</li><li>'TXNRD1'</li><li>'UGT2B17'</li><li>'WSB2'</li><li>'ZNF675'</li><li>'ZYG11A'</li><li>'ACAN'</li><li>'DEFB108B'</li><li>'EGR4'</li><li>'NKAIN4'</li><li>'NOMO2'</li><li>'PIGN'</li><li>'RPL3'</li><li>'RPP30'</li><li>'RRP7A'</li><li>'TP63'</li><li>'VRK1'</li><li>'YTHDF2'</li></ol>\n"
      ],
      "text/latex": [
       "\\begin{enumerate*}\n",
       "\\item 'CAAP1'\n",
       "\\item 'CDKN2B'\n",
       "\\item 'DMRTA1'\n",
       "\\item 'EEF2'\n",
       "\\item 'ELAVL2'\n",
       "\\item 'IFNA10'\n",
       "\\item 'IFNA14'\n",
       "\\item 'IFNA16'\n",
       "\\item 'IFNA4'\n",
       "\\item 'IFNA6'\n",
       "\\item 'IFNA8'\n",
       "\\item 'IFNB1'\n",
       "\\item 'IFNE'\n",
       "\\item 'IFNK'\n",
       "\\item 'IZUMO3'\n",
       "\\item 'MOB3B'\n",
       "\\item 'MTAP'\n",
       "\\item 'RESP18'\n",
       "\\item 'TEK'\n",
       "\\item 'ZNF236'\n",
       "\\item 'ZNF407'\n",
       "\\item 'ABHD5'\n",
       "\\item 'ADCY3'\n",
       "\\item 'BTG1'\n",
       "\\item 'C22orf31'\n",
       "\\item 'C2orf80'\n",
       "\\item 'CBFA2T2'\n",
       "\\item 'CCDC102B'\n",
       "\\item 'CCDC74B'\n",
       "\\item 'CCL3'\n",
       "\\item 'CEP19'\n",
       "\\item 'CHGB'\n",
       "\\item 'CLPSL1'\n",
       "\\item 'CLSPN'\n",
       "\\item 'COX6B1'\n",
       "\\item 'CSTA'\n",
       "\\item 'DCN'\n",
       "\\item 'DDX47'\n",
       "\\item 'DND1'\n",
       "\\item 'ECD'\n",
       "\\item 'FAM25A'\n",
       "\\item 'FCGR3A'\n",
       "\\item 'FRG2C'\n",
       "\\item 'GLYCTK'\n",
       "\\item 'GRB2'\n",
       "\\item 'HINT3'\n",
       "\\item 'INCENP'\n",
       "\\item 'ITGA3'\n",
       "\\item 'KIAA2013'\n",
       "\\item 'KLF5'\n",
       "\\item 'MATR3'\n",
       "\\item 'MDN1'\n",
       "\\item 'MRTO4'\n",
       "\\item 'MYH11'\n",
       "\\item 'NIT2'\n",
       "\\item 'NOP56'\n",
       "\\item 'NPEPPS'\n",
       "\\item 'NPHS1'\n",
       "\\item 'PDXDC1'\n",
       "\\item 'PEX11A'\n",
       "\\item 'PTPN11'\n",
       "\\item 'QRICH2'\n",
       "\\item 'RAB21'\n",
       "\\item 'RETNLB'\n",
       "\\item 'RHD'\n",
       "\\item 'RIMS2'\n",
       "\\item 'RPS5'\n",
       "\\item 'RTP5'\n",
       "\\item 'SART1'\n",
       "\\item 'SLC10A5'\n",
       "\\item 'SLC52A2'\n",
       "\\item 'SLC5A11'\n",
       "\\item 'SNAP23'\n",
       "\\item 'SPATA6L'\n",
       "\\item 'SRP14'\n",
       "\\item 'STX4'\n",
       "\\item 'STXBP3'\n",
       "\\item 'TPSD1'\n",
       "\\item 'TRMT61B'\n",
       "\\item 'TTC4'\n",
       "\\item 'TUT1'\n",
       "\\item 'TXNRD1'\n",
       "\\item 'UGT2B17'\n",
       "\\item 'WSB2'\n",
       "\\item 'ZNF675'\n",
       "\\item 'ZYG11A'\n",
       "\\item 'ACAN'\n",
       "\\item 'DEFB108B'\n",
       "\\item 'EGR4'\n",
       "\\item 'NKAIN4'\n",
       "\\item 'NOMO2'\n",
       "\\item 'PIGN'\n",
       "\\item 'RPL3'\n",
       "\\item 'RPP30'\n",
       "\\item 'RRP7A'\n",
       "\\item 'TP63'\n",
       "\\item 'VRK1'\n",
       "\\item 'YTHDF2'\n",
       "\\end{enumerate*}\n"
      ],
      "text/markdown": [
       "1. 'CAAP1'\n",
       "2. 'CDKN2B'\n",
       "3. 'DMRTA1'\n",
       "4. 'EEF2'\n",
       "5. 'ELAVL2'\n",
       "6. 'IFNA10'\n",
       "7. 'IFNA14'\n",
       "8. 'IFNA16'\n",
       "9. 'IFNA4'\n",
       "10. 'IFNA6'\n",
       "11. 'IFNA8'\n",
       "12. 'IFNB1'\n",
       "13. 'IFNE'\n",
       "14. 'IFNK'\n",
       "15. 'IZUMO3'\n",
       "16. 'MOB3B'\n",
       "17. 'MTAP'\n",
       "18. 'RESP18'\n",
       "19. 'TEK'\n",
       "20. 'ZNF236'\n",
       "21. 'ZNF407'\n",
       "22. 'ABHD5'\n",
       "23. 'ADCY3'\n",
       "24. 'BTG1'\n",
       "25. 'C22orf31'\n",
       "26. 'C2orf80'\n",
       "27. 'CBFA2T2'\n",
       "28. 'CCDC102B'\n",
       "29. 'CCDC74B'\n",
       "30. 'CCL3'\n",
       "31. 'CEP19'\n",
       "32. 'CHGB'\n",
       "33. 'CLPSL1'\n",
       "34. 'CLSPN'\n",
       "35. 'COX6B1'\n",
       "36. 'CSTA'\n",
       "37. 'DCN'\n",
       "38. 'DDX47'\n",
       "39. 'DND1'\n",
       "40. 'ECD'\n",
       "41. 'FAM25A'\n",
       "42. 'FCGR3A'\n",
       "43. 'FRG2C'\n",
       "44. 'GLYCTK'\n",
       "45. 'GRB2'\n",
       "46. 'HINT3'\n",
       "47. 'INCENP'\n",
       "48. 'ITGA3'\n",
       "49. 'KIAA2013'\n",
       "50. 'KLF5'\n",
       "51. 'MATR3'\n",
       "52. 'MDN1'\n",
       "53. 'MRTO4'\n",
       "54. 'MYH11'\n",
       "55. 'NIT2'\n",
       "56. 'NOP56'\n",
       "57. 'NPEPPS'\n",
       "58. 'NPHS1'\n",
       "59. 'PDXDC1'\n",
       "60. 'PEX11A'\n",
       "61. 'PTPN11'\n",
       "62. 'QRICH2'\n",
       "63. 'RAB21'\n",
       "64. 'RETNLB'\n",
       "65. 'RHD'\n",
       "66. 'RIMS2'\n",
       "67. 'RPS5'\n",
       "68. 'RTP5'\n",
       "69. 'SART1'\n",
       "70. 'SLC10A5'\n",
       "71. 'SLC52A2'\n",
       "72. 'SLC5A11'\n",
       "73. 'SNAP23'\n",
       "74. 'SPATA6L'\n",
       "75. 'SRP14'\n",
       "76. 'STX4'\n",
       "77. 'STXBP3'\n",
       "78. 'TPSD1'\n",
       "79. 'TRMT61B'\n",
       "80. 'TTC4'\n",
       "81. 'TUT1'\n",
       "82. 'TXNRD1'\n",
       "83. 'UGT2B17'\n",
       "84. 'WSB2'\n",
       "85. 'ZNF675'\n",
       "86. 'ZYG11A'\n",
       "87. 'ACAN'\n",
       "88. 'DEFB108B'\n",
       "89. 'EGR4'\n",
       "90. 'NKAIN4'\n",
       "91. 'NOMO2'\n",
       "92. 'PIGN'\n",
       "93. 'RPL3'\n",
       "94. 'RPP30'\n",
       "95. 'RRP7A'\n",
       "96. 'TP63'\n",
       "97. 'VRK1'\n",
       "98. 'YTHDF2'\n",
       "\n",
       "\n"
      ],
      "text/plain": [
       " [1] \"CAAP1\"    \"CDKN2B\"   \"DMRTA1\"   \"EEF2\"     \"ELAVL2\"   \"IFNA10\"  \n",
       " [7] \"IFNA14\"   \"IFNA16\"   \"IFNA4\"    \"IFNA6\"    \"IFNA8\"    \"IFNB1\"   \n",
       "[13] \"IFNE\"     \"IFNK\"     \"IZUMO3\"   \"MOB3B\"    \"MTAP\"     \"RESP18\"  \n",
       "[19] \"TEK\"      \"ZNF236\"   \"ZNF407\"   \"ABHD5\"    \"ADCY3\"    \"BTG1\"    \n",
       "[25] \"C22orf31\" \"C2orf80\"  \"CBFA2T2\"  \"CCDC102B\" \"CCDC74B\"  \"CCL3\"    \n",
       "[31] \"CEP19\"    \"CHGB\"     \"CLPSL1\"   \"CLSPN\"    \"COX6B1\"   \"CSTA\"    \n",
       "[37] \"DCN\"      \"DDX47\"    \"DND1\"     \"ECD\"      \"FAM25A\"   \"FCGR3A\"  \n",
       "[43] \"FRG2C\"    \"GLYCTK\"   \"GRB2\"     \"HINT3\"    \"INCENP\"   \"ITGA3\"   \n",
       "[49] \"KIAA2013\" \"KLF5\"     \"MATR3\"    \"MDN1\"     \"MRTO4\"    \"MYH11\"   \n",
       "[55] \"NIT2\"     \"NOP56\"    \"NPEPPS\"   \"NPHS1\"    \"PDXDC1\"   \"PEX11A\"  \n",
       "[61] \"PTPN11\"   \"QRICH2\"   \"RAB21\"    \"RETNLB\"   \"RHD\"      \"RIMS2\"   \n",
       "[67] \"RPS5\"     \"RTP5\"     \"SART1\"    \"SLC10A5\"  \"SLC52A2\"  \"SLC5A11\" \n",
       "[73] \"SNAP23\"   \"SPATA6L\"  \"SRP14\"    \"STX4\"     \"STXBP3\"   \"TPSD1\"   \n",
       "[79] \"TRMT61B\"  \"TTC4\"     \"TUT1\"     \"TXNRD1\"   \"UGT2B17\"  \"WSB2\"    \n",
       "[85] \"ZNF675\"   \"ZYG11A\"   \"ACAN\"     \"DEFB108B\" \"EGR4\"     \"NKAIN4\"  \n",
       "[91] \"NOMO2\"    \"PIGN\"     \"RPL3\"     \"RPP30\"    \"RRP7A\"    \"TP63\"    \n",
       "[97] \"VRK1\"     \"YTHDF2\"  "
      ]
     },
     "metadata": {},
     "output_type": "display_data"
    }
   ],
   "source": [
    "#Load in the ancestry association dataset from \"New_Ancestry_Associated_Dependencies\"\n",
    "setwd('/home/jupyter/Ancestry/analysis/locus_specific_associations')\n",
    "ancestry.associations = read.table(\"ancestry_locus_gene_associations.txt\", sep = \"\\t\", header = T)\n",
    "\n",
    "#Get a list of all ancestry-associated genes\n",
    "ancestry.associated.genes = ancestry.associations %>%\n",
    "filter(FDR <= 0.05) %>%\n",
    "pull(gene) %>%\n",
    "unique()\n",
    "\n",
    "\n",
    "head(ancestry.associations)\n",
    "ancestry.associated.genes"
   ]
  },
  {
   "cell_type": "markdown",
   "metadata": {},
   "source": [
    "The next step is to grab all of the sgRNA sequences for these genes and map CCLE SNPs to them."
   ]
  },
  {
   "cell_type": "code",
   "execution_count": 4,
   "metadata": {},
   "outputs": [
    {
     "data": {
      "text/html": [
       "<table class=\"dataframe\">\n",
       "<caption>A data.frame: 6 × 4</caption>\n",
       "<thead>\n",
       "\t<tr><th></th><th scope=col>sgrna</th><th scope=col>genome_alignment</th><th scope=col>gene</th><th scope=col>n_alignments</th></tr>\n",
       "\t<tr><th></th><th scope=col>&lt;chr&gt;</th><th scope=col>&lt;chr&gt;</th><th scope=col>&lt;chr&gt;</th><th scope=col>&lt;int&gt;</th></tr>\n",
       "</thead>\n",
       "<tbody>\n",
       "\t<tr><th scope=row>1</th><td>AAACTTGTGCAAGCAGAAGG</td><td>chr12_91178529_+</td><td>DCN    </td><td>1</td></tr>\n",
       "\t<tr><th scope=row>2</th><td>AACAATGCCCGTTTGCTGCA</td><td>chr16_1256533_- </td><td>TPSD1  </td><td>1</td></tr>\n",
       "\t<tr><th scope=row>3</th><td>AACTACCTATGACAGTGCCG</td><td>chr1_35764597_- </td><td>CLSPN  </td><td>1</td></tr>\n",
       "\t<tr><th scope=row>4</th><td>AAGATCGTCGACATGTACAA</td><td>chr16_15823331_-</td><td>MYH11  </td><td>1</td></tr>\n",
       "\t<tr><th scope=row>5</th><td>AAGCCAGCCGAGCTCCCAGG</td><td>chr18_76880188_+</td><td>ZNF236 </td><td>1</td></tr>\n",
       "\t<tr><th scope=row>6</th><td>AAGCGGAGACTGTACAGAAA</td><td>chr4_68567977_+ </td><td>UGT2B17</td><td>1</td></tr>\n",
       "</tbody>\n",
       "</table>\n"
      ],
      "text/latex": [
       "A data.frame: 6 × 4\n",
       "\\begin{tabular}{r|llll}\n",
       "  & sgrna & genome\\_alignment & gene & n\\_alignments\\\\\n",
       "  & <chr> & <chr> & <chr> & <int>\\\\\n",
       "\\hline\n",
       "\t1 & AAACTTGTGCAAGCAGAAGG & chr12\\_91178529\\_+ & DCN     & 1\\\\\n",
       "\t2 & AACAATGCCCGTTTGCTGCA & chr16\\_1256533\\_-  & TPSD1   & 1\\\\\n",
       "\t3 & AACTACCTATGACAGTGCCG & chr1\\_35764597\\_-  & CLSPN   & 1\\\\\n",
       "\t4 & AAGATCGTCGACATGTACAA & chr16\\_15823331\\_- & MYH11   & 1\\\\\n",
       "\t5 & AAGCCAGCCGAGCTCCCAGG & chr18\\_76880188\\_+ & ZNF236  & 1\\\\\n",
       "\t6 & AAGCGGAGACTGTACAGAAA & chr4\\_68567977\\_+  & UGT2B17 & 1\\\\\n",
       "\\end{tabular}\n"
      ],
      "text/markdown": [
       "\n",
       "A data.frame: 6 × 4\n",
       "\n",
       "| <!--/--> | sgrna &lt;chr&gt; | genome_alignment &lt;chr&gt; | gene &lt;chr&gt; | n_alignments &lt;int&gt; |\n",
       "|---|---|---|---|---|\n",
       "| 1 | AAACTTGTGCAAGCAGAAGG | chr12_91178529_+ | DCN     | 1 |\n",
       "| 2 | AACAATGCCCGTTTGCTGCA | chr16_1256533_-  | TPSD1   | 1 |\n",
       "| 3 | AACTACCTATGACAGTGCCG | chr1_35764597_-  | CLSPN   | 1 |\n",
       "| 4 | AAGATCGTCGACATGTACAA | chr16_15823331_- | MYH11   | 1 |\n",
       "| 5 | AAGCCAGCCGAGCTCCCAGG | chr18_76880188_+ | ZNF236  | 1 |\n",
       "| 6 | AAGCGGAGACTGTACAGAAA | chr4_68567977_+  | UGT2B17 | 1 |\n",
       "\n"
      ],
      "text/plain": [
       "  sgrna                genome_alignment gene    n_alignments\n",
       "1 AAACTTGTGCAAGCAGAAGG chr12_91178529_+ DCN     1           \n",
       "2 AACAATGCCCGTTTGCTGCA chr16_1256533_-  TPSD1   1           \n",
       "3 AACTACCTATGACAGTGCCG chr1_35764597_-  CLSPN   1           \n",
       "4 AAGATCGTCGACATGTACAA chr16_15823331_- MYH11   1           \n",
       "5 AAGCCAGCCGAGCTCCCAGG chr18_76880188_+ ZNF236  1           \n",
       "6 AAGCGGAGACTGTACAGAAA chr4_68567977_+  UGT2B17 1           "
      ]
     },
     "metadata": {},
     "output_type": "display_data"
    },
    {
     "data": {
      "text/html": [
       "<style>\n",
       ".list-inline {list-style: none; margin:0; padding: 0}\n",
       ".list-inline>li {display: inline-block}\n",
       ".list-inline>li:not(:last-child)::after {content: \"\\00b7\"; padding: 0 .5ex}\n",
       "</style>\n",
       "<ol class=list-inline><li>407</li><li>4</li></ol>\n"
      ],
      "text/latex": [
       "\\begin{enumerate*}\n",
       "\\item 407\n",
       "\\item 4\n",
       "\\end{enumerate*}\n"
      ],
      "text/markdown": [
       "1. 407\n",
       "2. 4\n",
       "\n",
       "\n"
      ],
      "text/plain": [
       "[1] 407   4"
      ]
     },
     "metadata": {},
     "output_type": "display_data"
    }
   ],
   "source": [
    "#First, load in the sgRNA guide map so that we can get a list of all of the guides that we want to keep\n",
    "setwd(\"/home/jupyter/Ancestry/gwas\")\n",
    "guide.map = read.table(\"internal-21q4_v9-achilles-guide-map.csv\", header = T, sep = \",\")\n",
    "\n",
    "#Now subset the data frame so that it only includes the ancestry-associated genes\n",
    "guides.to.keep = guide.map %>%\n",
    "mutate(gene = word(gene, 1)) %>%\n",
    "filter(gene %in% all_of(ancestry.associated.genes)) \n",
    "head(guides.to.keep)\n",
    "\n",
    "dim(guides.to.keep)"
   ]
  },
  {
   "cell_type": "code",
   "execution_count": 5,
   "metadata": {
    "code_folding": [],
    "scrolled": false
   },
   "outputs": [
    {
     "data": {
      "text/html": [
       "<table class=\"dataframe\">\n",
       "<caption>A data.frame: 6 × 2</caption>\n",
       "<thead>\n",
       "\t<tr><th></th><th scope=col>sgrna</th><th scope=col>strand</th></tr>\n",
       "\t<tr><th></th><th scope=col>&lt;chr&gt;</th><th scope=col>&lt;chr&gt;</th></tr>\n",
       "</thead>\n",
       "<tbody>\n",
       "\t<tr><th scope=row>1</th><td>AAACTTGTGCAAGCAGAAGG</td><td>+</td></tr>\n",
       "\t<tr><th scope=row>2</th><td>AACAATGCCCGTTTGCTGCA</td><td>-</td></tr>\n",
       "\t<tr><th scope=row>3</th><td>AACTACCTATGACAGTGCCG</td><td>-</td></tr>\n",
       "\t<tr><th scope=row>4</th><td>AAGATCGTCGACATGTACAA</td><td>-</td></tr>\n",
       "\t<tr><th scope=row>5</th><td>AAGCCAGCCGAGCTCCCAGG</td><td>+</td></tr>\n",
       "\t<tr><th scope=row>6</th><td>AAGCGGAGACTGTACAGAAA</td><td>+</td></tr>\n",
       "</tbody>\n",
       "</table>\n"
      ],
      "text/latex": [
       "A data.frame: 6 × 2\n",
       "\\begin{tabular}{r|ll}\n",
       "  & sgrna & strand\\\\\n",
       "  & <chr> & <chr>\\\\\n",
       "\\hline\n",
       "\t1 & AAACTTGTGCAAGCAGAAGG & +\\\\\n",
       "\t2 & AACAATGCCCGTTTGCTGCA & -\\\\\n",
       "\t3 & AACTACCTATGACAGTGCCG & -\\\\\n",
       "\t4 & AAGATCGTCGACATGTACAA & -\\\\\n",
       "\t5 & AAGCCAGCCGAGCTCCCAGG & +\\\\\n",
       "\t6 & AAGCGGAGACTGTACAGAAA & +\\\\\n",
       "\\end{tabular}\n"
      ],
      "text/markdown": [
       "\n",
       "A data.frame: 6 × 2\n",
       "\n",
       "| <!--/--> | sgrna &lt;chr&gt; | strand &lt;chr&gt; |\n",
       "|---|---|---|\n",
       "| 1 | AAACTTGTGCAAGCAGAAGG | + |\n",
       "| 2 | AACAATGCCCGTTTGCTGCA | - |\n",
       "| 3 | AACTACCTATGACAGTGCCG | - |\n",
       "| 4 | AAGATCGTCGACATGTACAA | - |\n",
       "| 5 | AAGCCAGCCGAGCTCCCAGG | + |\n",
       "| 6 | AAGCGGAGACTGTACAGAAA | + |\n",
       "\n"
      ],
      "text/plain": [
       "  sgrna                strand\n",
       "1 AAACTTGTGCAAGCAGAAGG +     \n",
       "2 AACAATGCCCGTTTGCTGCA -     \n",
       "3 AACTACCTATGACAGTGCCG -     \n",
       "4 AAGATCGTCGACATGTACAA -     \n",
       "5 AAGCCAGCCGAGCTCCCAGG +     \n",
       "6 AAGCGGAGACTGTACAGAAA +     "
      ]
     },
     "metadata": {},
     "output_type": "display_data"
    },
    {
     "data": {
      "text/html": [
       "<table class=\"dataframe\">\n",
       "<caption>A data.frame: 6 × 7</caption>\n",
       "<thead>\n",
       "\t<tr><th></th><th scope=col>chr</th><th scope=col>start</th><th scope=col>end</th><th scope=col>sgrna</th><th scope=col>genome_alignment</th><th scope=col>gene</th><th scope=col>n_alignments</th></tr>\n",
       "\t<tr><th></th><th scope=col>&lt;chr&gt;</th><th scope=col>&lt;dbl&gt;</th><th scope=col>&lt;dbl&gt;</th><th scope=col>&lt;chr&gt;</th><th scope=col>&lt;chr&gt;</th><th scope=col>&lt;chr&gt;</th><th scope=col>&lt;int&gt;</th></tr>\n",
       "</thead>\n",
       "<tbody>\n",
       "\t<tr><th scope=row>1</th><td>chr1</td><td>11925511</td><td>11925534</td><td>ATGGTCTCCGACCTTCTCCA</td><td>chr1_11925528_+</td><td>KIAA2013</td><td>2</td></tr>\n",
       "\t<tr><th scope=row>2</th><td>chr1</td><td>11925765</td><td>11925788</td><td>CCAGCTGCAGGCAACGCACG</td><td>chr1_11925782_+</td><td>KIAA2013</td><td>2</td></tr>\n",
       "\t<tr><th scope=row>3</th><td>chr1</td><td>11925965</td><td>11925988</td><td>GCCGGCACTCCAGGACCCAG</td><td>chr1_11925982_+</td><td>KIAA2013</td><td>1</td></tr>\n",
       "\t<tr><th scope=row>4</th><td>chr1</td><td>19255984</td><td>19256007</td><td>TCTTCTCTGTGGCCAACATG</td><td>chr1_19256001_+</td><td>MRTO4   </td><td>2</td></tr>\n",
       "\t<tr><th scope=row>5</th><td>chr1</td><td>19257449</td><td>19257472</td><td>GTAGGTCAGCAAAAGGTTGA</td><td>chr1_19257466_+</td><td>MRTO4   </td><td>1</td></tr>\n",
       "\t<tr><th scope=row>6</th><td>chr1</td><td>19257450</td><td>19257473</td><td>TAGGTCAGCAAAAGGTTGAG</td><td>chr1_19257467_+</td><td>MRTO4   </td><td>1</td></tr>\n",
       "</tbody>\n",
       "</table>\n"
      ],
      "text/latex": [
       "A data.frame: 6 × 7\n",
       "\\begin{tabular}{r|lllllll}\n",
       "  & chr & start & end & sgrna & genome\\_alignment & gene & n\\_alignments\\\\\n",
       "  & <chr> & <dbl> & <dbl> & <chr> & <chr> & <chr> & <int>\\\\\n",
       "\\hline\n",
       "\t1 & chr1 & 11925511 & 11925534 & ATGGTCTCCGACCTTCTCCA & chr1\\_11925528\\_+ & KIAA2013 & 2\\\\\n",
       "\t2 & chr1 & 11925765 & 11925788 & CCAGCTGCAGGCAACGCACG & chr1\\_11925782\\_+ & KIAA2013 & 2\\\\\n",
       "\t3 & chr1 & 11925965 & 11925988 & GCCGGCACTCCAGGACCCAG & chr1\\_11925982\\_+ & KIAA2013 & 1\\\\\n",
       "\t4 & chr1 & 19255984 & 19256007 & TCTTCTCTGTGGCCAACATG & chr1\\_19256001\\_+ & MRTO4    & 2\\\\\n",
       "\t5 & chr1 & 19257449 & 19257472 & GTAGGTCAGCAAAAGGTTGA & chr1\\_19257466\\_+ & MRTO4    & 1\\\\\n",
       "\t6 & chr1 & 19257450 & 19257473 & TAGGTCAGCAAAAGGTTGAG & chr1\\_19257467\\_+ & MRTO4    & 1\\\\\n",
       "\\end{tabular}\n"
      ],
      "text/markdown": [
       "\n",
       "A data.frame: 6 × 7\n",
       "\n",
       "| <!--/--> | chr &lt;chr&gt; | start &lt;dbl&gt; | end &lt;dbl&gt; | sgrna &lt;chr&gt; | genome_alignment &lt;chr&gt; | gene &lt;chr&gt; | n_alignments &lt;int&gt; |\n",
       "|---|---|---|---|---|---|---|---|\n",
       "| 1 | chr1 | 11925511 | 11925534 | ATGGTCTCCGACCTTCTCCA | chr1_11925528_+ | KIAA2013 | 2 |\n",
       "| 2 | chr1 | 11925765 | 11925788 | CCAGCTGCAGGCAACGCACG | chr1_11925782_+ | KIAA2013 | 2 |\n",
       "| 3 | chr1 | 11925965 | 11925988 | GCCGGCACTCCAGGACCCAG | chr1_11925982_+ | KIAA2013 | 1 |\n",
       "| 4 | chr1 | 19255984 | 19256007 | TCTTCTCTGTGGCCAACATG | chr1_19256001_+ | MRTO4    | 2 |\n",
       "| 5 | chr1 | 19257449 | 19257472 | GTAGGTCAGCAAAAGGTTGA | chr1_19257466_+ | MRTO4    | 1 |\n",
       "| 6 | chr1 | 19257450 | 19257473 | TAGGTCAGCAAAAGGTTGAG | chr1_19257467_+ | MRTO4    | 1 |\n",
       "\n"
      ],
      "text/plain": [
       "  chr  start    end      sgrna                genome_alignment gene    \n",
       "1 chr1 11925511 11925534 ATGGTCTCCGACCTTCTCCA chr1_11925528_+  KIAA2013\n",
       "2 chr1 11925765 11925788 CCAGCTGCAGGCAACGCACG chr1_11925782_+  KIAA2013\n",
       "3 chr1 11925965 11925988 GCCGGCACTCCAGGACCCAG chr1_11925982_+  KIAA2013\n",
       "4 chr1 19255984 19256007 TCTTCTCTGTGGCCAACATG chr1_19256001_+  MRTO4   \n",
       "5 chr1 19257449 19257472 GTAGGTCAGCAAAAGGTTGA chr1_19257466_+  MRTO4   \n",
       "6 chr1 19257450 19257473 TAGGTCAGCAAAAGGTTGAG chr1_19257467_+  MRTO4   \n",
       "  n_alignments\n",
       "1 2           \n",
       "2 2           \n",
       "3 1           \n",
       "4 2           \n",
       "5 1           \n",
       "6 1           "
      ]
     },
     "metadata": {},
     "output_type": "display_data"
    },
    {
     "data": {
      "text/html": [
       "<style>\n",
       ".list-inline {list-style: none; margin:0; padding: 0}\n",
       ".list-inline>li {display: inline-block}\n",
       ".list-inline>li:not(:last-child)::after {content: \"\\00b7\"; padding: 0 .5ex}\n",
       "</style>\n",
       "<ol class=list-inline><li>417</li><li>7</li></ol>\n"
      ],
      "text/latex": [
       "\\begin{enumerate*}\n",
       "\\item 417\n",
       "\\item 7\n",
       "\\end{enumerate*}\n"
      ],
      "text/markdown": [
       "1. 417\n",
       "2. 7\n",
       "\n",
       "\n"
      ],
      "text/plain": [
       "[1] 417   7"
      ]
     },
     "metadata": {},
     "output_type": "display_data"
    }
   ],
   "source": [
    "#First, load in the guide map so that we can figure out which guides are on the plus or minus strand\n",
    "setwd(\"/home/jupyter/Ancestry/gwas\")\n",
    "guide.map = guides.to.keep %>%\n",
    "select(sgrna, genome_alignment) %>%\n",
    "mutate(genome_alignment = gsub(\"..*_\", \"\", genome_alignment)) %>%\n",
    "rename(\"strand\" = genome_alignment)\n",
    "head(guide.map)\n",
    "\n",
    "#Load in the Avana bed file to get positions for the ancestry-associated guides\n",
    "#Also add the annotation information from guides.to.keep to the avana.bed matrix\n",
    "#Also flip the start and end positions if the sgrna is on the minus strand\n",
    "setwd(\"/home/jupyter/Ancestry/filtered_output/avana14\")\n",
    "avana.bed <- read.table('Avana14_filtering.bed', sep = \"\\t\", header = F) %>%\n",
    "rename(\"chr\" = 1, \"start\" = 2, \"end\" = 3, \"sgrna\" = 4) %>%\n",
    "inner_join(guide.map, by = \"sgrna\") %>%\n",
    "mutate(\"true_start\" = ifelse(strand %in% \"+\", start, end)) %>%\n",
    "mutate(\"true_end\" = ifelse(strand %in% \"+\", end, start)) %>% #This line and the line above will create two new columns to flip the start and end if the sgrna is on the minus strand\n",
    "select(chr, true_start, true_end, sgrna) %>%\n",
    "rename(\"start\" = true_start) %>%\n",
    "rename(\"end\" = true_end) %>%\n",
    "inner_join(guides.to.keep, by = \"sgrna\")\n",
    "\n",
    "head(avana.bed)\n",
    "dim(avana.bed)\n",
    "\n",
    "#We also need to make a bed file that works for SNP filtering, since for bcftools the orientation must always have the smaller value be the start\n",
    "setwd(\"/home/jupyter/Ancestry/filtered_output/avana14\")\n",
    "avana.bed.for.filtering <- read.table('Avana14_filtering.bed', sep = \"\\t\", header = F) %>%\n",
    "rename(\"chr\" = 1, \"start\" = 2, \"end\" = 3, \"sgrna\" = 4) %>%\n",
    "inner_join(guide.map, by = \"sgrna\") %>%\n",
    "inner_join(guides.to.keep, by = \"sgrna\")"
   ]
  },
  {
   "cell_type": "markdown",
   "metadata": {},
   "source": [
    "Now we need to load in all of the ccle variant calls. The entire dataset is far too large, so we will need to first subset it so that it is smaller."
   ]
  },
  {
   "cell_type": "code",
   "execution_count": 6,
   "metadata": {},
   "outputs": [],
   "source": [
    "#Format avana.bed as an actual bed file, then export it\n",
    "setwd(\"/home/jupyter/Ancestry/analysis/map_ccle_snps_to_avana_guides\")\n",
    "bed.for.export = avana.bed.for.filtering %>%\n",
    "select(chr, start, end, sgrna)\n",
    "write.table(bed.for.export, \"ancestry.associated.sgrna.ranges.bed\", sep = \"\\t\", col.names = FALSE, row.names = FALSE, quote = FALSE)\n",
    "\n",
    "\n",
    "#Now use bcftools to subset the big ccle snp matrix to only include SNPs in that range\n",
    "system(glue::glue(\"\n",
    "cd /home/jupyter/Ancestry/rfmix\n",
    "/home/jupyter/Ancestry/software/bcftools/bcftools view -R /home/jupyter/Ancestry/analysis/map_ccle_snps_to_avana_guides/ancestry.associated.sgrna.ranges.bed split.all_chroms.maf.subset.reheader.vcf.gz -o /home/jupyter/Ancestry/analysis/map_ccle_snps_to_avana_guides/snps.in.ancestry.guides.vcf.gz -Oz\n",
    "\"))"
   ]
  },
  {
   "cell_type": "code",
   "execution_count": 7,
   "metadata": {},
   "outputs": [
    {
     "data": {
      "text/html": [
       "<table class=\"dataframe\">\n",
       "<caption>A data.frame: 6 × 998</caption>\n",
       "<thead>\n",
       "\t<tr><th></th><th scope=col>chr</th><th scope=col>pos</th><th scope=col>ref</th><th scope=col>alt</th><th scope=col>V10</th><th scope=col>V11</th><th scope=col>V12</th><th scope=col>V13</th><th scope=col>V14</th><th scope=col>V15</th><th scope=col>⋯</th><th scope=col>V994</th><th scope=col>V995</th><th scope=col>V996</th><th scope=col>V997</th><th scope=col>V998</th><th scope=col>V999</th><th scope=col>V1000</th><th scope=col>V1001</th><th scope=col>V1002</th><th scope=col>V1003</th></tr>\n",
       "\t<tr><th></th><th scope=col>&lt;chr&gt;</th><th scope=col>&lt;chr&gt;</th><th scope=col>&lt;chr&gt;</th><th scope=col>&lt;chr&gt;</th><th scope=col>&lt;chr&gt;</th><th scope=col>&lt;chr&gt;</th><th scope=col>&lt;chr&gt;</th><th scope=col>&lt;chr&gt;</th><th scope=col>&lt;chr&gt;</th><th scope=col>&lt;chr&gt;</th><th scope=col>⋯</th><th scope=col>&lt;chr&gt;</th><th scope=col>&lt;chr&gt;</th><th scope=col>&lt;chr&gt;</th><th scope=col>&lt;chr&gt;</th><th scope=col>&lt;chr&gt;</th><th scope=col>&lt;chr&gt;</th><th scope=col>&lt;chr&gt;</th><th scope=col>&lt;chr&gt;</th><th scope=col>&lt;chr&gt;</th><th scope=col>&lt;chr&gt;</th></tr>\n",
       "</thead>\n",
       "<tbody>\n",
       "\t<tr><th scope=row>1</th><td>chr1</td><td>19257510</td><td>G</td><td>A</td><td>1</td><td>0</td><td>0</td><td>1</td><td>2</td><td>0</td><td>⋯</td><td>0</td><td>0</td><td>0</td><td>2</td><td>1</td><td>0</td><td>1</td><td>0</td><td>1</td><td>0</td></tr>\n",
       "\t<tr><th scope=row>2</th><td>chr1</td><td>35760347</td><td>T</td><td>C</td><td>1</td><td>0</td><td>1</td><td>1</td><td>2</td><td>0</td><td>⋯</td><td>1</td><td>2</td><td>0</td><td>2</td><td>0</td><td>0</td><td>0</td><td>0</td><td>1</td><td>0</td></tr>\n",
       "\t<tr><th scope=row>3</th><td>chr1</td><td>52854602</td><td>G</td><td>T</td><td>1</td><td>2</td><td>1</td><td>2</td><td>2</td><td>2</td><td>⋯</td><td>1</td><td>0</td><td>2</td><td>2</td><td>1</td><td>1</td><td>2</td><td>0</td><td>1</td><td>2</td></tr>\n",
       "\t<tr><th scope=row>4</th><td>chr1</td><td>54716627</td><td>T</td><td>A</td><td>1</td><td>1</td><td>2</td><td>2</td><td>1</td><td>0</td><td>⋯</td><td>0</td><td>2</td><td>2</td><td>0</td><td>1</td><td>0</td><td>2</td><td>2</td><td>1</td><td>1</td></tr>\n",
       "\t<tr><th scope=row>5</th><td>chr1</td><td>54722709</td><td>C</td><td>T</td><td>1</td><td>0</td><td>2</td><td>0</td><td>0</td><td>0</td><td>⋯</td><td>0</td><td>0</td><td>1</td><td>0</td><td>0</td><td>0</td><td>0</td><td>0</td><td>1</td><td>0</td></tr>\n",
       "\t<tr><th scope=row>6</th><td>chr2</td><td>28869984</td><td>G</td><td>T</td><td>0</td><td>0</td><td>1</td><td>1</td><td>0</td><td>0</td><td>⋯</td><td>0</td><td>2</td><td>2</td><td>0</td><td>0</td><td>1</td><td>2</td><td>1</td><td>1</td><td>0</td></tr>\n",
       "</tbody>\n",
       "</table>\n"
      ],
      "text/latex": [
       "A data.frame: 6 × 998\n",
       "\\begin{tabular}{r|lllllllllllllllllllll}\n",
       "  & chr & pos & ref & alt & V10 & V11 & V12 & V13 & V14 & V15 & ⋯ & V994 & V995 & V996 & V997 & V998 & V999 & V1000 & V1001 & V1002 & V1003\\\\\n",
       "  & <chr> & <chr> & <chr> & <chr> & <chr> & <chr> & <chr> & <chr> & <chr> & <chr> & ⋯ & <chr> & <chr> & <chr> & <chr> & <chr> & <chr> & <chr> & <chr> & <chr> & <chr>\\\\\n",
       "\\hline\n",
       "\t1 & chr1 & 19257510 & G & A & 1 & 0 & 0 & 1 & 2 & 0 & ⋯ & 0 & 0 & 0 & 2 & 1 & 0 & 1 & 0 & 1 & 0\\\\\n",
       "\t2 & chr1 & 35760347 & T & C & 1 & 0 & 1 & 1 & 2 & 0 & ⋯ & 1 & 2 & 0 & 2 & 0 & 0 & 0 & 0 & 1 & 0\\\\\n",
       "\t3 & chr1 & 52854602 & G & T & 1 & 2 & 1 & 2 & 2 & 2 & ⋯ & 1 & 0 & 2 & 2 & 1 & 1 & 2 & 0 & 1 & 2\\\\\n",
       "\t4 & chr1 & 54716627 & T & A & 1 & 1 & 2 & 2 & 1 & 0 & ⋯ & 0 & 2 & 2 & 0 & 1 & 0 & 2 & 2 & 1 & 1\\\\\n",
       "\t5 & chr1 & 54722709 & C & T & 1 & 0 & 2 & 0 & 0 & 0 & ⋯ & 0 & 0 & 1 & 0 & 0 & 0 & 0 & 0 & 1 & 0\\\\\n",
       "\t6 & chr2 & 28869984 & G & T & 0 & 0 & 1 & 1 & 0 & 0 & ⋯ & 0 & 2 & 2 & 0 & 0 & 1 & 2 & 1 & 1 & 0\\\\\n",
       "\\end{tabular}\n"
      ],
      "text/markdown": [
       "\n",
       "A data.frame: 6 × 998\n",
       "\n",
       "| <!--/--> | chr &lt;chr&gt; | pos &lt;chr&gt; | ref &lt;chr&gt; | alt &lt;chr&gt; | V10 &lt;chr&gt; | V11 &lt;chr&gt; | V12 &lt;chr&gt; | V13 &lt;chr&gt; | V14 &lt;chr&gt; | V15 &lt;chr&gt; | ⋯ ⋯ | V994 &lt;chr&gt; | V995 &lt;chr&gt; | V996 &lt;chr&gt; | V997 &lt;chr&gt; | V998 &lt;chr&gt; | V999 &lt;chr&gt; | V1000 &lt;chr&gt; | V1001 &lt;chr&gt; | V1002 &lt;chr&gt; | V1003 &lt;chr&gt; |\n",
       "|---|---|---|---|---|---|---|---|---|---|---|---|---|---|---|---|---|---|---|---|---|---|\n",
       "| 1 | chr1 | 19257510 | G | A | 1 | 0 | 0 | 1 | 2 | 0 | ⋯ | 0 | 0 | 0 | 2 | 1 | 0 | 1 | 0 | 1 | 0 |\n",
       "| 2 | chr1 | 35760347 | T | C | 1 | 0 | 1 | 1 | 2 | 0 | ⋯ | 1 | 2 | 0 | 2 | 0 | 0 | 0 | 0 | 1 | 0 |\n",
       "| 3 | chr1 | 52854602 | G | T | 1 | 2 | 1 | 2 | 2 | 2 | ⋯ | 1 | 0 | 2 | 2 | 1 | 1 | 2 | 0 | 1 | 2 |\n",
       "| 4 | chr1 | 54716627 | T | A | 1 | 1 | 2 | 2 | 1 | 0 | ⋯ | 0 | 2 | 2 | 0 | 1 | 0 | 2 | 2 | 1 | 1 |\n",
       "| 5 | chr1 | 54722709 | C | T | 1 | 0 | 2 | 0 | 0 | 0 | ⋯ | 0 | 0 | 1 | 0 | 0 | 0 | 0 | 0 | 1 | 0 |\n",
       "| 6 | chr2 | 28869984 | G | T | 0 | 0 | 1 | 1 | 0 | 0 | ⋯ | 0 | 2 | 2 | 0 | 0 | 1 | 2 | 1 | 1 | 0 |\n",
       "\n"
      ],
      "text/plain": [
       "  chr  pos      ref alt V10 V11 V12 V13 V14 V15 ⋯ V994 V995 V996 V997 V998 V999\n",
       "1 chr1 19257510 G   A   1   0   0   1   2   0   ⋯ 0    0    0    2    1    0   \n",
       "2 chr1 35760347 T   C   1   0   1   1   2   0   ⋯ 1    2    0    2    0    0   \n",
       "3 chr1 52854602 G   T   1   2   1   2   2   2   ⋯ 1    0    2    2    1    1   \n",
       "4 chr1 54716627 T   A   1   1   2   2   1   0   ⋯ 0    2    2    0    1    0   \n",
       "5 chr1 54722709 C   T   1   0   2   0   0   0   ⋯ 0    0    1    0    0    0   \n",
       "6 chr2 28869984 G   T   0   0   1   1   0   0   ⋯ 0    2    2    0    0    1   \n",
       "  V1000 V1001 V1002 V1003\n",
       "1 1     0     1     0    \n",
       "2 0     0     1     0    \n",
       "3 2     0     1     2    \n",
       "4 2     2     1     1    \n",
       "5 0     0     1     0    \n",
       "6 2     1     1     0    "
      ]
     },
     "metadata": {},
     "output_type": "display_data"
    },
    {
     "data": {
      "text/html": [
       "<style>\n",
       ".list-inline {list-style: none; margin:0; padding: 0}\n",
       ".list-inline>li {display: inline-block}\n",
       ".list-inline>li:not(:last-child)::after {content: \"\\00b7\"; padding: 0 .5ex}\n",
       "</style>\n",
       "<ol class=list-inline><li>63</li><li>998</li></ol>\n"
      ],
      "text/latex": [
       "\\begin{enumerate*}\n",
       "\\item 63\n",
       "\\item 998\n",
       "\\end{enumerate*}\n"
      ],
      "text/markdown": [
       "1. 63\n",
       "2. 998\n",
       "\n",
       "\n"
      ],
      "text/plain": [
       "[1]  63 998"
      ]
     },
     "metadata": {},
     "output_type": "display_data"
    }
   ],
   "source": [
    "#Now load in the subset vcf file and format it\n",
    "setwd(\"/home/jupyter/Ancestry/analysis/map_ccle_snps_to_avana_guides\")\n",
    "subset.ccle.snps = read.table(\"snps.in.ancestry.guides.vcf.gz\", sep = \"\\t\") %>%\n",
    "filter(V7 %in% \"PASS\") %>%\n",
    "select(-V1, -V2, -V4, -V5, -V6, -V7, -V8, -V9)\n",
    "\n",
    "#Reformat the genotyping data\n",
    "subset.ccle.snps[2:ncol(subset.ccle.snps)] = apply(subset.ccle.snps[2:ncol(subset.ccle.snps)], 2, function(x){gsub(\":..*\", \"\", x) })\n",
    "subset.ccle.snps[2:ncol(subset.ccle.snps)] = apply(subset.ccle.snps[2:ncol(subset.ccle.snps)], 2, function(x){gsub(\"0\\\\|0\", 0, x) })\n",
    "subset.ccle.snps[2:ncol(subset.ccle.snps)] = apply(subset.ccle.snps[2:ncol(subset.ccle.snps)], 2, function(x){gsub(\"0\\\\|1\", 1, x) })\n",
    "subset.ccle.snps[2:ncol(subset.ccle.snps)] = apply(subset.ccle.snps[2:ncol(subset.ccle.snps)], 2, function(x){gsub(\"1\\\\|0\", 1, x) })\n",
    "subset.ccle.snps[2:ncol(subset.ccle.snps)] = apply(subset.ccle.snps[2:ncol(subset.ccle.snps)], 2, function(x){gsub(\"1\\\\|1\", 2, x) })\n",
    "\n",
    "#Fix the SNP column\n",
    "subset.ccle.snps = subset.ccle.snps %>%\n",
    "separate(V3, sep = \":\", into = c(\"chr\", \"pos\", \"ref\", \"alt\"))\n",
    "\n",
    "head(subset.ccle.snps)\n",
    "dim(subset.ccle.snps)"
   ]
  },
  {
   "cell_type": "code",
   "execution_count": 8,
   "metadata": {},
   "outputs": [],
   "source": [
    "#For each guide in avana.bed calculate if there is a snp in the guide, then calculate the position of that SNP\n",
    "snp.in.guide.list = NULL\n",
    "for(i in 1:nrow(avana.bed)){\n",
    "    \n",
    "    #get information for the guide of interest\n",
    "    guide.start = avana.bed$start[i] %>% as.numeric() #get the position of the guide\n",
    "    guide.chrom = avana.bed$chr[i] #get the chromosome that the guide is on\n",
    "    sgrna.barcode = avana.bed$sgrna[i] #get the barcode sequence\n",
    "    \n",
    "    #subset out subset.ccle.snps so that it only includes snps on that chromsome\n",
    "    subset.to.chr = subset.ccle.snps %>% filter(chr %in% guide.chrom)\n",
    "    \n",
    "    #now calculate the differential and add it to the list outside of the loop\n",
    "    snp.position = guide.start - as.numeric(subset.to.chr$pos)\n",
    "    snp.in.guide.list[[i]] = snp.position\n",
    "}\n",
    "names(snp.in.guide.list) = avana.bed$sgrna #Then name the list with the corresponding sgrna sequence"
   ]
  },
  {
   "cell_type": "code",
   "execution_count": 9,
   "metadata": {},
   "outputs": [],
   "source": [
    "#Now create a matrix where each row is a guide and each column is a position (1-20 + 3) that is coded with 0 and 1\n",
    "#1 means there is a snp in that position in at least one cell line\n",
    "\n",
    "output.matrix = NULL\n",
    "for(i in 1:length(snp.in.guide.list)){\n",
    "    \n",
    "    snp.position.vector = snp.in.guide.list[[i]] %>% abs() #get a vector with the snp positions\n",
    "    position.with.snp = intersect(snp.position.vector, 1:23) #find the snps that map to guides or the PAM sequence\n",
    "    \n",
    "    #now create the final vector\n",
    "    final.vector = rep(0, 23)\n",
    "    final.vector[position.with.snp] <- 1\n",
    "    \n",
    "    #save the output vector to the matrix\n",
    "    output.matrix = rbind(output.matrix, final.vector)\n",
    "}\n",
    "output.matrix = output.matrix %>% data.frame()"
   ]
  },
  {
   "cell_type": "code",
   "execution_count": 14,
   "metadata": {},
   "outputs": [
    {
     "data": {
      "text/html": [
       "<table class=\"dataframe\">\n",
       "<caption>A data.frame: 6 × 24</caption>\n",
       "<thead>\n",
       "\t<tr><th></th><th scope=col>sgrna</th><th scope=col>X1</th><th scope=col>X2</th><th scope=col>X3</th><th scope=col>X4</th><th scope=col>X5</th><th scope=col>X6</th><th scope=col>X7</th><th scope=col>X8</th><th scope=col>X9</th><th scope=col>⋯</th><th scope=col>X14</th><th scope=col>X15</th><th scope=col>X16</th><th scope=col>X17</th><th scope=col>X18</th><th scope=col>X19</th><th scope=col>X20</th><th scope=col>X21</th><th scope=col>X22</th><th scope=col>X23</th></tr>\n",
       "\t<tr><th></th><th scope=col>&lt;chr&gt;</th><th scope=col>&lt;dbl&gt;</th><th scope=col>&lt;dbl&gt;</th><th scope=col>&lt;dbl&gt;</th><th scope=col>&lt;dbl&gt;</th><th scope=col>&lt;dbl&gt;</th><th scope=col>&lt;dbl&gt;</th><th scope=col>&lt;dbl&gt;</th><th scope=col>&lt;dbl&gt;</th><th scope=col>&lt;dbl&gt;</th><th scope=col>⋯</th><th scope=col>&lt;dbl&gt;</th><th scope=col>&lt;dbl&gt;</th><th scope=col>&lt;dbl&gt;</th><th scope=col>&lt;dbl&gt;</th><th scope=col>&lt;dbl&gt;</th><th scope=col>&lt;dbl&gt;</th><th scope=col>&lt;dbl&gt;</th><th scope=col>&lt;dbl&gt;</th><th scope=col>&lt;dbl&gt;</th><th scope=col>&lt;dbl&gt;</th></tr>\n",
       "</thead>\n",
       "<tbody>\n",
       "\t<tr><th scope=row>final.vector</th><td>ATGGTCTCCGACCTTCTCCA</td><td>0</td><td>0</td><td>0</td><td>0</td><td>0</td><td>0</td><td>0</td><td>0</td><td>0</td><td>⋯</td><td>0</td><td>0</td><td>0</td><td>0</td><td>0</td><td>0</td><td>0</td><td>0</td><td>0</td><td>0</td></tr>\n",
       "\t<tr><th scope=row>final.vector.1</th><td>CCAGCTGCAGGCAACGCACG</td><td>0</td><td>0</td><td>0</td><td>0</td><td>0</td><td>0</td><td>0</td><td>0</td><td>0</td><td>⋯</td><td>0</td><td>0</td><td>0</td><td>0</td><td>0</td><td>0</td><td>0</td><td>0</td><td>0</td><td>0</td></tr>\n",
       "\t<tr><th scope=row>final.vector.2</th><td>GCCGGCACTCCAGGACCCAG</td><td>0</td><td>0</td><td>0</td><td>0</td><td>0</td><td>0</td><td>0</td><td>0</td><td>0</td><td>⋯</td><td>0</td><td>0</td><td>0</td><td>0</td><td>0</td><td>0</td><td>0</td><td>0</td><td>0</td><td>0</td></tr>\n",
       "\t<tr><th scope=row>final.vector.3</th><td>TCTTCTCTGTGGCCAACATG</td><td>0</td><td>0</td><td>0</td><td>0</td><td>0</td><td>0</td><td>0</td><td>0</td><td>0</td><td>⋯</td><td>0</td><td>0</td><td>0</td><td>0</td><td>0</td><td>0</td><td>0</td><td>0</td><td>0</td><td>0</td></tr>\n",
       "\t<tr><th scope=row>final.vector.4</th><td>GTAGGTCAGCAAAAGGTTGA</td><td>0</td><td>0</td><td>0</td><td>0</td><td>0</td><td>0</td><td>0</td><td>0</td><td>0</td><td>⋯</td><td>0</td><td>0</td><td>0</td><td>0</td><td>0</td><td>0</td><td>0</td><td>0</td><td>0</td><td>0</td></tr>\n",
       "\t<tr><th scope=row>final.vector.5</th><td>TAGGTCAGCAAAAGGTTGAG</td><td>0</td><td>0</td><td>0</td><td>0</td><td>0</td><td>0</td><td>0</td><td>0</td><td>0</td><td>⋯</td><td>0</td><td>0</td><td>0</td><td>0</td><td>0</td><td>0</td><td>0</td><td>0</td><td>0</td><td>0</td></tr>\n",
       "</tbody>\n",
       "</table>\n"
      ],
      "text/latex": [
       "A data.frame: 6 × 24\n",
       "\\begin{tabular}{r|lllllllllllllllllllll}\n",
       "  & sgrna & X1 & X2 & X3 & X4 & X5 & X6 & X7 & X8 & X9 & ⋯ & X14 & X15 & X16 & X17 & X18 & X19 & X20 & X21 & X22 & X23\\\\\n",
       "  & <chr> & <dbl> & <dbl> & <dbl> & <dbl> & <dbl> & <dbl> & <dbl> & <dbl> & <dbl> & ⋯ & <dbl> & <dbl> & <dbl> & <dbl> & <dbl> & <dbl> & <dbl> & <dbl> & <dbl> & <dbl>\\\\\n",
       "\\hline\n",
       "\tfinal.vector & ATGGTCTCCGACCTTCTCCA & 0 & 0 & 0 & 0 & 0 & 0 & 0 & 0 & 0 & ⋯ & 0 & 0 & 0 & 0 & 0 & 0 & 0 & 0 & 0 & 0\\\\\n",
       "\tfinal.vector.1 & CCAGCTGCAGGCAACGCACG & 0 & 0 & 0 & 0 & 0 & 0 & 0 & 0 & 0 & ⋯ & 0 & 0 & 0 & 0 & 0 & 0 & 0 & 0 & 0 & 0\\\\\n",
       "\tfinal.vector.2 & GCCGGCACTCCAGGACCCAG & 0 & 0 & 0 & 0 & 0 & 0 & 0 & 0 & 0 & ⋯ & 0 & 0 & 0 & 0 & 0 & 0 & 0 & 0 & 0 & 0\\\\\n",
       "\tfinal.vector.3 & TCTTCTCTGTGGCCAACATG & 0 & 0 & 0 & 0 & 0 & 0 & 0 & 0 & 0 & ⋯ & 0 & 0 & 0 & 0 & 0 & 0 & 0 & 0 & 0 & 0\\\\\n",
       "\tfinal.vector.4 & GTAGGTCAGCAAAAGGTTGA & 0 & 0 & 0 & 0 & 0 & 0 & 0 & 0 & 0 & ⋯ & 0 & 0 & 0 & 0 & 0 & 0 & 0 & 0 & 0 & 0\\\\\n",
       "\tfinal.vector.5 & TAGGTCAGCAAAAGGTTGAG & 0 & 0 & 0 & 0 & 0 & 0 & 0 & 0 & 0 & ⋯ & 0 & 0 & 0 & 0 & 0 & 0 & 0 & 0 & 0 & 0\\\\\n",
       "\\end{tabular}\n"
      ],
      "text/markdown": [
       "\n",
       "A data.frame: 6 × 24\n",
       "\n",
       "| <!--/--> | sgrna &lt;chr&gt; | X1 &lt;dbl&gt; | X2 &lt;dbl&gt; | X3 &lt;dbl&gt; | X4 &lt;dbl&gt; | X5 &lt;dbl&gt; | X6 &lt;dbl&gt; | X7 &lt;dbl&gt; | X8 &lt;dbl&gt; | X9 &lt;dbl&gt; | ⋯ ⋯ | X14 &lt;dbl&gt; | X15 &lt;dbl&gt; | X16 &lt;dbl&gt; | X17 &lt;dbl&gt; | X18 &lt;dbl&gt; | X19 &lt;dbl&gt; | X20 &lt;dbl&gt; | X21 &lt;dbl&gt; | X22 &lt;dbl&gt; | X23 &lt;dbl&gt; |\n",
       "|---|---|---|---|---|---|---|---|---|---|---|---|---|---|---|---|---|---|---|---|---|---|\n",
       "| final.vector | ATGGTCTCCGACCTTCTCCA | 0 | 0 | 0 | 0 | 0 | 0 | 0 | 0 | 0 | ⋯ | 0 | 0 | 0 | 0 | 0 | 0 | 0 | 0 | 0 | 0 |\n",
       "| final.vector.1 | CCAGCTGCAGGCAACGCACG | 0 | 0 | 0 | 0 | 0 | 0 | 0 | 0 | 0 | ⋯ | 0 | 0 | 0 | 0 | 0 | 0 | 0 | 0 | 0 | 0 |\n",
       "| final.vector.2 | GCCGGCACTCCAGGACCCAG | 0 | 0 | 0 | 0 | 0 | 0 | 0 | 0 | 0 | ⋯ | 0 | 0 | 0 | 0 | 0 | 0 | 0 | 0 | 0 | 0 |\n",
       "| final.vector.3 | TCTTCTCTGTGGCCAACATG | 0 | 0 | 0 | 0 | 0 | 0 | 0 | 0 | 0 | ⋯ | 0 | 0 | 0 | 0 | 0 | 0 | 0 | 0 | 0 | 0 |\n",
       "| final.vector.4 | GTAGGTCAGCAAAAGGTTGA | 0 | 0 | 0 | 0 | 0 | 0 | 0 | 0 | 0 | ⋯ | 0 | 0 | 0 | 0 | 0 | 0 | 0 | 0 | 0 | 0 |\n",
       "| final.vector.5 | TAGGTCAGCAAAAGGTTGAG | 0 | 0 | 0 | 0 | 0 | 0 | 0 | 0 | 0 | ⋯ | 0 | 0 | 0 | 0 | 0 | 0 | 0 | 0 | 0 | 0 |\n",
       "\n"
      ],
      "text/plain": [
       "               sgrna                X1 X2 X3 X4 X5 X6 X7 X8 X9 ⋯ X14 X15 X16\n",
       "final.vector   ATGGTCTCCGACCTTCTCCA 0  0  0  0  0  0  0  0  0  ⋯ 0   0   0  \n",
       "final.vector.1 CCAGCTGCAGGCAACGCACG 0  0  0  0  0  0  0  0  0  ⋯ 0   0   0  \n",
       "final.vector.2 GCCGGCACTCCAGGACCCAG 0  0  0  0  0  0  0  0  0  ⋯ 0   0   0  \n",
       "final.vector.3 TCTTCTCTGTGGCCAACATG 0  0  0  0  0  0  0  0  0  ⋯ 0   0   0  \n",
       "final.vector.4 GTAGGTCAGCAAAAGGTTGA 0  0  0  0  0  0  0  0  0  ⋯ 0   0   0  \n",
       "final.vector.5 TAGGTCAGCAAAAGGTTGAG 0  0  0  0  0  0  0  0  0  ⋯ 0   0   0  \n",
       "               X17 X18 X19 X20 X21 X22 X23\n",
       "final.vector   0   0   0   0   0   0   0  \n",
       "final.vector.1 0   0   0   0   0   0   0  \n",
       "final.vector.2 0   0   0   0   0   0   0  \n",
       "final.vector.3 0   0   0   0   0   0   0  \n",
       "final.vector.4 0   0   0   0   0   0   0  \n",
       "final.vector.5 0   0   0   0   0   0   0  "
      ]
     },
     "metadata": {},
     "output_type": "display_data"
    }
   ],
   "source": [
    "#Export the output.matrix so that we can use it for other purposes\n",
    "output.matrix.for.export = output.matrix %>%\n",
    "mutate(\"sgrna\" = avana.bed$sgrna, .before = 1)\n",
    "\n",
    "head(output.matrix.for.export)\n",
    "\n",
    "#Now export it\n",
    "setwd(\"/home/jupyter/Ancestry/analysis/locus_snp_in_guide_heatmap\")\n",
    "write.table(output.matrix.for.export, \"locus_ancestry_guide_snp_positions.txt\", sep = \"\\t\", row.names = TRUE, col.names = TRUE, quote = FALSE)"
   ]
  },
  {
   "cell_type": "markdown",
   "metadata": {},
   "source": [
    "Now format the output matrix for plotting, then plot the heatmap"
   ]
  },
  {
   "cell_type": "code",
   "execution_count": 15,
   "metadata": {},
   "outputs": [
    {
     "name": "stderr",
     "output_type": "stream",
     "text": [
      "Using gene as id variables\n",
      "\n",
      "\u001b[1m\u001b[22m`summarise()` has grouped output by 'gene'. You can override using the\n",
      "`.groups` argument.\n"
     ]
    },
    {
     "data": {
      "text/html": [
       "<table class=\"dataframe\">\n",
       "<caption>A grouped_df: 6 × 3</caption>\n",
       "<thead>\n",
       "\t<tr><th scope=col>gene</th><th scope=col>variable</th><th scope=col>value</th></tr>\n",
       "\t<tr><th scope=col>&lt;chr&gt;</th><th scope=col>&lt;fct&gt;</th><th scope=col>&lt;dbl&gt;</th></tr>\n",
       "</thead>\n",
       "<tbody>\n",
       "\t<tr><td>ABHD5</td><td>X1</td><td>0</td></tr>\n",
       "\t<tr><td>ABHD5</td><td>X2</td><td>0</td></tr>\n",
       "\t<tr><td>ABHD5</td><td>X3</td><td>0</td></tr>\n",
       "\t<tr><td>ABHD5</td><td>X4</td><td>0</td></tr>\n",
       "\t<tr><td>ABHD5</td><td>X5</td><td>0</td></tr>\n",
       "\t<tr><td>ABHD5</td><td>X6</td><td>0</td></tr>\n",
       "</tbody>\n",
       "</table>\n"
      ],
      "text/latex": [
       "A grouped\\_df: 6 × 3\n",
       "\\begin{tabular}{lll}\n",
       " gene & variable & value\\\\\n",
       " <chr> & <fct> & <dbl>\\\\\n",
       "\\hline\n",
       "\t ABHD5 & X1 & 0\\\\\n",
       "\t ABHD5 & X2 & 0\\\\\n",
       "\t ABHD5 & X3 & 0\\\\\n",
       "\t ABHD5 & X4 & 0\\\\\n",
       "\t ABHD5 & X5 & 0\\\\\n",
       "\t ABHD5 & X6 & 0\\\\\n",
       "\\end{tabular}\n"
      ],
      "text/markdown": [
       "\n",
       "A grouped_df: 6 × 3\n",
       "\n",
       "| gene &lt;chr&gt; | variable &lt;fct&gt; | value &lt;dbl&gt; |\n",
       "|---|---|---|\n",
       "| ABHD5 | X1 | 0 |\n",
       "| ABHD5 | X2 | 0 |\n",
       "| ABHD5 | X3 | 0 |\n",
       "| ABHD5 | X4 | 0 |\n",
       "| ABHD5 | X5 | 0 |\n",
       "| ABHD5 | X6 | 0 |\n",
       "\n"
      ],
      "text/plain": [
       "  gene  variable value\n",
       "1 ABHD5 X1       0    \n",
       "2 ABHD5 X2       0    \n",
       "3 ABHD5 X3       0    \n",
       "4 ABHD5 X4       0    \n",
       "5 ABHD5 X5       0    \n",
       "6 ABHD5 X6       0    "
      ]
     },
     "metadata": {},
     "output_type": "display_data"
    }
   ],
   "source": [
    "#Format the dataset for plotting a heatmap\n",
    "output.matrix.for.plotting = output.matrix %>%\n",
    "mutate(\"sgrna\" = names(snp.in.guide.list), .before = 1) %>%\n",
    "mutate(\"gene\" = sgrna, .after = sgrna) %>%\n",
    "mutate(gene = plyr::mapvalues(gene, from = avana.bed$sgrna, to = avana.bed$gene, warn_missing = FALSE)) %>%\n",
    "select(-sgrna) %>% #remove the sgrna column\n",
    "melt() %>%\n",
    "group_by(gene, variable) %>%\n",
    "summarise(max(value)) %>%\n",
    "rename(\"value\" = 3)\n",
    "\n",
    "head(output.matrix.for.plotting)\n",
    "\n",
    "\n",
    "#calculate the number of SNPs per gene\n",
    "snps.per.gene = output.matrix.for.plotting %>%\n",
    "group_by(gene) %>%\n",
    "summarise(sum(value)) %>%\n",
    "rename(\"value\" = 2) %>%\n",
    "arrange(-value) \n",
    "\n"
   ]
  },
  {
   "cell_type": "code",
   "execution_count": 16,
   "metadata": {},
   "outputs": [
    {
     "data": {
      "image/png": "[encoded data removed]",
      "text/plain": [
       "plot without title"
      ]
     },
     "metadata": {
      "image/png": {
       "height": 420,
       "width": 420
      }
     },
     "output_type": "display_data"
    }
   ],
   "source": [
    "#Now plot the heatmap\n",
    "output.matrix.for.plotting %>%\n",
    "ggplot(aes(x = variable, y = factor(gene, levels = snps.per.gene$gene), fill = value)) + \n",
    "geom_tile()\n",
    "\n",
    "#And export it to the bucket\n",
    "#Export it to the google bucket\n",
    "setwd('/home/jupyter/Ancestry/analysis/locus_snp_in_guide_heatmap')\n",
    "ggsave(\"locus_ccle_snp_heatmap.pdf\", width = 5, height = 5)\n",
    "system(glue::glue(\"\n",
    "cd /home/jupyter/Ancestry/analysis/locus_snp_in_guide_heatmap\n",
    "gsutil cp locus_ccle_snp_heatmap.pdf gs://fc-45c0e148-0b1c-4244-9bfc-feb559bbc514\n",
    "\"))"
   ]
  },
  {
   "cell_type": "code",
   "execution_count": 21,
   "metadata": {},
   "outputs": [
    {
     "data": {
      "text/html": [
       "47"
      ],
      "text/latex": [
       "47"
      ],
      "text/markdown": [
       "47"
      ],
      "text/plain": [
       "[1] 47"
      ]
     },
     "metadata": {},
     "output_type": "display_data"
    },
    {
     "data": {
      "text/html": [
       "79"
      ],
      "text/latex": [
       "79"
      ],
      "text/markdown": [
       "79"
      ],
      "text/plain": [
       "[1] 79"
      ]
     },
     "metadata": {},
     "output_type": "display_data"
    }
   ],
   "source": [
    "#Now calculate the number of genes with at least one SNP\n",
    "output.matrix.for.plotting %>%\n",
    "filter(value >= 1) %>%\n",
    "pull(gene) %>%\n",
    "unique() %>%\n",
    "length()\n",
    "\n",
    "#Now calculate the total number of SNVs\n",
    "output.matrix.for.plotting %>%\n",
    "pull(value) %>%\n",
    "sum()"
   ]
  },
  {
   "cell_type": "markdown",
   "metadata": {},
   "source": [
    "Now let's calculate the CCLE ancestry fractions for the SNPs that map to guides"
   ]
  },
  {
   "cell_type": "code",
   "execution_count": 120,
   "metadata": {},
   "outputs": [
    {
     "data": {
      "text/html": [
       "<style>\n",
       ".list-inline {list-style: none; margin:0; padding: 0}\n",
       ".list-inline>li {display: inline-block}\n",
       ".list-inline>li:not(:last-child)::after {content: \"\\00b7\"; padding: 0 .5ex}\n",
       "</style>\n",
       "<ol class=list-inline><li>'ACH-000657'</li><li>'ACH-000617'</li><li>'ACH-000685'</li><li>'ACH-000632'</li><li>'ACH-000171'</li><li>'ACH-000863'</li></ol>\n"
      ],
      "text/latex": [
       "\\begin{enumerate*}\n",
       "\\item 'ACH-000657'\n",
       "\\item 'ACH-000617'\n",
       "\\item 'ACH-000685'\n",
       "\\item 'ACH-000632'\n",
       "\\item 'ACH-000171'\n",
       "\\item 'ACH-000863'\n",
       "\\end{enumerate*}\n"
      ],
      "text/markdown": [
       "1. 'ACH-000657'\n",
       "2. 'ACH-000617'\n",
       "3. 'ACH-000685'\n",
       "4. 'ACH-000632'\n",
       "5. 'ACH-000171'\n",
       "6. 'ACH-000863'\n",
       "\n",
       "\n"
      ],
      "text/plain": [
       "[1] \"ACH-000657\" \"ACH-000617\" \"ACH-000685\" \"ACH-000632\" \"ACH-000171\"\n",
       "[6] \"ACH-000863\""
      ]
     },
     "metadata": {},
     "output_type": "display_data"
    }
   ],
   "source": [
    "#First extract the sample names from the vcf file, then load them into R\n",
    "system(glue::glue(\"\n",
    "cd /home/jupyter/Ancestry/analysis/map_ccle_snps_to_avana_guides\n",
    "/home/jupyter/Ancestry/software/bcftools/bcftools query -l /home/jupyter/Ancestry/analysis/map_ccle_snps_to_avana_guides/snps.in.ancestry.guides.vcf.gz > ccle.sample.names.txt\n",
    "\"))\n",
    "\n",
    "setwd(\"/home/jupyter/Ancestry/analysis/map_ccle_snps_to_avana_guides\")\n",
    "sample.names = read.table(\"ccle.sample.names.txt\", sep = \"\\t\") %>%\n",
    "pull(1)\n",
    "head(sample.names)"
   ]
  },
  {
   "cell_type": "code",
   "execution_count": 121,
   "metadata": {},
   "outputs": [
    {
     "data": {
      "text/html": [
       "<table class=\"dataframe\">\n",
       "<caption>A data.frame: 6 × 998</caption>\n",
       "<thead>\n",
       "\t<tr><th></th><th scope=col>chr</th><th scope=col>pos</th><th scope=col>ref</th><th scope=col>alt</th><th scope=col>ACH-000657</th><th scope=col>ACH-000617</th><th scope=col>ACH-000685</th><th scope=col>ACH-000632</th><th scope=col>ACH-000171</th><th scope=col>ACH-000863</th><th scope=col>⋯</th><th scope=col>ACH-000981</th><th scope=col>ACH-000217</th><th scope=col>ACH-000116</th><th scope=col>ACH-000930</th><th scope=col>ACH-000986</th><th scope=col>ACH-000342</th><th scope=col>ACH-001130</th><th scope=col>ACH-000287</th><th scope=col>ACH-000798</th><th scope=col>ACH-000645</th></tr>\n",
       "\t<tr><th></th><th scope=col>&lt;chr&gt;</th><th scope=col>&lt;chr&gt;</th><th scope=col>&lt;chr&gt;</th><th scope=col>&lt;chr&gt;</th><th scope=col>&lt;chr&gt;</th><th scope=col>&lt;chr&gt;</th><th scope=col>&lt;chr&gt;</th><th scope=col>&lt;chr&gt;</th><th scope=col>&lt;chr&gt;</th><th scope=col>&lt;chr&gt;</th><th scope=col>⋯</th><th scope=col>&lt;chr&gt;</th><th scope=col>&lt;chr&gt;</th><th scope=col>&lt;chr&gt;</th><th scope=col>&lt;chr&gt;</th><th scope=col>&lt;chr&gt;</th><th scope=col>&lt;chr&gt;</th><th scope=col>&lt;chr&gt;</th><th scope=col>&lt;chr&gt;</th><th scope=col>&lt;chr&gt;</th><th scope=col>&lt;chr&gt;</th></tr>\n",
       "</thead>\n",
       "<tbody>\n",
       "\t<tr><th scope=row>1</th><td>chr1</td><td>19257510</td><td>G</td><td>A</td><td>1</td><td>0</td><td>0</td><td>1</td><td>2</td><td>0</td><td>⋯</td><td>0</td><td>0</td><td>0</td><td>2</td><td>1</td><td>0</td><td>1</td><td>0</td><td>1</td><td>0</td></tr>\n",
       "\t<tr><th scope=row>2</th><td>chr1</td><td>31425387</td><td>T</td><td>C</td><td>0</td><td>1</td><td>1</td><td>2</td><td>2</td><td>2</td><td>⋯</td><td>2</td><td>0</td><td>1</td><td>0</td><td>1</td><td>1</td><td>0</td><td>1</td><td>1</td><td>1</td></tr>\n",
       "\t<tr><th scope=row>3</th><td>chr1</td><td>35760347</td><td>T</td><td>C</td><td>1</td><td>0</td><td>1</td><td>1</td><td>2</td><td>0</td><td>⋯</td><td>1</td><td>2</td><td>0</td><td>2</td><td>0</td><td>0</td><td>0</td><td>0</td><td>1</td><td>0</td></tr>\n",
       "\t<tr><th scope=row>4</th><td>chr1</td><td>54716627</td><td>T</td><td>A</td><td>1</td><td>1</td><td>2</td><td>2</td><td>1</td><td>0</td><td>⋯</td><td>0</td><td>2</td><td>2</td><td>0</td><td>1</td><td>0</td><td>2</td><td>2</td><td>1</td><td>1</td></tr>\n",
       "\t<tr><th scope=row>5</th><td>chr1</td><td>54722709</td><td>C</td><td>T</td><td>1</td><td>0</td><td>2</td><td>0</td><td>0</td><td>0</td><td>⋯</td><td>0</td><td>0</td><td>1</td><td>0</td><td>0</td><td>0</td><td>0</td><td>0</td><td>1</td><td>0</td></tr>\n",
       "\t<tr><th scope=row>6</th><td>chr2</td><td>28869984</td><td>G</td><td>T</td><td>0</td><td>0</td><td>1</td><td>1</td><td>0</td><td>0</td><td>⋯</td><td>0</td><td>2</td><td>2</td><td>0</td><td>0</td><td>1</td><td>2</td><td>1</td><td>1</td><td>0</td></tr>\n",
       "</tbody>\n",
       "</table>\n"
      ],
      "text/latex": [
       "A data.frame: 6 × 998\n",
       "\\begin{tabular}{r|lllllllllllllllllllll}\n",
       "  & chr & pos & ref & alt & ACH-000657 & ACH-000617 & ACH-000685 & ACH-000632 & ACH-000171 & ACH-000863 & ⋯ & ACH-000981 & ACH-000217 & ACH-000116 & ACH-000930 & ACH-000986 & ACH-000342 & ACH-001130 & ACH-000287 & ACH-000798 & ACH-000645\\\\\n",
       "  & <chr> & <chr> & <chr> & <chr> & <chr> & <chr> & <chr> & <chr> & <chr> & <chr> & ⋯ & <chr> & <chr> & <chr> & <chr> & <chr> & <chr> & <chr> & <chr> & <chr> & <chr>\\\\\n",
       "\\hline\n",
       "\t1 & chr1 & 19257510 & G & A & 1 & 0 & 0 & 1 & 2 & 0 & ⋯ & 0 & 0 & 0 & 2 & 1 & 0 & 1 & 0 & 1 & 0\\\\\n",
       "\t2 & chr1 & 31425387 & T & C & 0 & 1 & 1 & 2 & 2 & 2 & ⋯ & 2 & 0 & 1 & 0 & 1 & 1 & 0 & 1 & 1 & 1\\\\\n",
       "\t3 & chr1 & 35760347 & T & C & 1 & 0 & 1 & 1 & 2 & 0 & ⋯ & 1 & 2 & 0 & 2 & 0 & 0 & 0 & 0 & 1 & 0\\\\\n",
       "\t4 & chr1 & 54716627 & T & A & 1 & 1 & 2 & 2 & 1 & 0 & ⋯ & 0 & 2 & 2 & 0 & 1 & 0 & 2 & 2 & 1 & 1\\\\\n",
       "\t5 & chr1 & 54722709 & C & T & 1 & 0 & 2 & 0 & 0 & 0 & ⋯ & 0 & 0 & 1 & 0 & 0 & 0 & 0 & 0 & 1 & 0\\\\\n",
       "\t6 & chr2 & 28869984 & G & T & 0 & 0 & 1 & 1 & 0 & 0 & ⋯ & 0 & 2 & 2 & 0 & 0 & 1 & 2 & 1 & 1 & 0\\\\\n",
       "\\end{tabular}\n"
      ],
      "text/markdown": [
       "\n",
       "A data.frame: 6 × 998\n",
       "\n",
       "| <!--/--> | chr &lt;chr&gt; | pos &lt;chr&gt; | ref &lt;chr&gt; | alt &lt;chr&gt; | ACH-000657 &lt;chr&gt; | ACH-000617 &lt;chr&gt; | ACH-000685 &lt;chr&gt; | ACH-000632 &lt;chr&gt; | ACH-000171 &lt;chr&gt; | ACH-000863 &lt;chr&gt; | ⋯ ⋯ | ACH-000981 &lt;chr&gt; | ACH-000217 &lt;chr&gt; | ACH-000116 &lt;chr&gt; | ACH-000930 &lt;chr&gt; | ACH-000986 &lt;chr&gt; | ACH-000342 &lt;chr&gt; | ACH-001130 &lt;chr&gt; | ACH-000287 &lt;chr&gt; | ACH-000798 &lt;chr&gt; | ACH-000645 &lt;chr&gt; |\n",
       "|---|---|---|---|---|---|---|---|---|---|---|---|---|---|---|---|---|---|---|---|---|---|\n",
       "| 1 | chr1 | 19257510 | G | A | 1 | 0 | 0 | 1 | 2 | 0 | ⋯ | 0 | 0 | 0 | 2 | 1 | 0 | 1 | 0 | 1 | 0 |\n",
       "| 2 | chr1 | 31425387 | T | C | 0 | 1 | 1 | 2 | 2 | 2 | ⋯ | 2 | 0 | 1 | 0 | 1 | 1 | 0 | 1 | 1 | 1 |\n",
       "| 3 | chr1 | 35760347 | T | C | 1 | 0 | 1 | 1 | 2 | 0 | ⋯ | 1 | 2 | 0 | 2 | 0 | 0 | 0 | 0 | 1 | 0 |\n",
       "| 4 | chr1 | 54716627 | T | A | 1 | 1 | 2 | 2 | 1 | 0 | ⋯ | 0 | 2 | 2 | 0 | 1 | 0 | 2 | 2 | 1 | 1 |\n",
       "| 5 | chr1 | 54722709 | C | T | 1 | 0 | 2 | 0 | 0 | 0 | ⋯ | 0 | 0 | 1 | 0 | 0 | 0 | 0 | 0 | 1 | 0 |\n",
       "| 6 | chr2 | 28869984 | G | T | 0 | 0 | 1 | 1 | 0 | 0 | ⋯ | 0 | 2 | 2 | 0 | 0 | 1 | 2 | 1 | 1 | 0 |\n",
       "\n"
      ],
      "text/plain": [
       "  chr  pos      ref alt ACH-000657 ACH-000617 ACH-000685 ACH-000632 ACH-000171\n",
       "1 chr1 19257510 G   A   1          0          0          1          2         \n",
       "2 chr1 31425387 T   C   0          1          1          2          2         \n",
       "3 chr1 35760347 T   C   1          0          1          1          2         \n",
       "4 chr1 54716627 T   A   1          1          2          2          1         \n",
       "5 chr1 54722709 C   T   1          0          2          0          0         \n",
       "6 chr2 28869984 G   T   0          0          1          1          0         \n",
       "  ACH-000863 ⋯ ACH-000981 ACH-000217 ACH-000116 ACH-000930 ACH-000986\n",
       "1 0          ⋯ 0          0          0          2          1         \n",
       "2 2          ⋯ 2          0          1          0          1         \n",
       "3 0          ⋯ 1          2          0          2          0         \n",
       "4 0          ⋯ 0          2          2          0          1         \n",
       "5 0          ⋯ 0          0          1          0          0         \n",
       "6 0          ⋯ 0          2          2          0          0         \n",
       "  ACH-000342 ACH-001130 ACH-000287 ACH-000798 ACH-000645\n",
       "1 0          1          0          1          0         \n",
       "2 1          0          1          1          1         \n",
       "3 0          0          0          1          0         \n",
       "4 0          2          2          1          1         \n",
       "5 0          0          0          1          0         \n",
       "6 1          2          1          1          0         "
      ]
     },
     "metadata": {},
     "output_type": "display_data"
    }
   ],
   "source": [
    "#Format a matrix with the SNP-level data that is annotated with the cell line names\n",
    "snp.level.data.matrix = subset.ccle.snps\n",
    "colnames(snp.level.data.matrix) = c(\"chr\", \"pos\", \"ref\", \"alt\", sample.names)\n",
    "head(snp.level.data.matrix)"
   ]
  },
  {
   "cell_type": "code",
   "execution_count": 128,
   "metadata": {},
   "outputs": [],
   "source": [
    "#Load in the ancestry data\n",
    "setwd(\"/home/jupyter/Ancestry/rfmix\")\n",
    "ancestry.information = read.table(\"collapsed.ancestry.information.txt\", sep = \"\\t\", header = T)\n",
    "\n",
    "#Get a vector of the EAS and EUR cell lines\n",
    "eas.lines = ancestry.information %>% filter(EAS >= 0.8) %>% pull(sample)\n",
    "eur.lines = ancestry.information %>% filter(EUR >= 0.8) %>% pull(sample)"
   ]
  },
  {
   "cell_type": "code",
   "execution_count": 133,
   "metadata": {},
   "outputs": [],
   "source": [
    "###Now calculate the frequency of cell lines that are either 0/1 or 1/1 for the SNP\n",
    "\n",
    "#First splice the dataset into just the EAS and EUR cell lines\n",
    "eas.genotype.data = snp.level.data.matrix[,eas.lines]\n",
    "eur.genotype.data = snp.level.data.matrix[,eur.lines]\n",
    "\n",
    "#Count the total number of cell lines with the SNP\n",
    "eas.snp.count = eas.genotype.data %>% apply(1, function(x){\n",
    "    num.with.snp = x[x >= 1] %>% length()\n",
    "    return(num.with.snp)\n",
    "})\n",
    "\n",
    "eur.snp.count = eur.genotype.data %>% apply(1, function(x){\n",
    "    num.with.snp = x[x >= 1] %>% length()\n",
    "    return(num.with.snp)\n",
    "})\n",
    "\n",
    "\n",
    "#Now convert it into a fraction\n",
    "eas.snp.frequency = eas.snp.count/ncol(eas.genotype.data)\n",
    "eur.snp.frequency = eur.snp.count/ncol(eur.genotype.data)"
   ]
  },
  {
   "cell_type": "code",
   "execution_count": 142,
   "metadata": {},
   "outputs": [
    {
     "data": {
      "image/png": "[encoded data removed]",
      "text/plain": [
       "plot without title"
      ]
     },
     "metadata": {
      "image/png": {
       "height": 420,
       "width": 420
      }
     },
     "output_type": "display_data"
    }
   ],
   "source": [
    "#Bind everything togehter, then plot it.\n",
    "\n",
    "#Make the matrix\n",
    "snp.frequency.matrix = snp.level.data.matrix %>%\n",
    "select(chr, pos, ref, alt) %>%\n",
    "cbind(., eas.snp.frequency, eur.snp.frequency)\n",
    "\n",
    "\n",
    "#Make the scatterplot\n",
    "snp.frequency.matrix %>%\n",
    "ggplot() +\n",
    "geom_point(aes(x = eur.snp.frequency, y = eas.snp.frequency)) +\n",
    "geom_abline(intercept = -0.2, slope = 1, col = \"dodgerblue4\") +\n",
    "geom_abline(intercept = 0.2, slope = 1, col = \"chartreuse4\") +\n",
    "theme_bw() + \n",
    "\n",
    "ylab(\"Population Frequency in EAS Cell Lines\") +\n",
    "xlab(\"Population Frequency in EUR Cell Lines\") +\n",
    "\n",
    "theme(panel.border = element_blank(), panel.grid.major = element_blank(),\n",
    "panel.grid.minor = element_blank(), axis.line = element_line(colour = \"black\")) +\n",
    "\n",
    "theme(axis.text=element_text(size=12), axis.title=element_text(size=14,face=\"bold\")) +\n",
    "theme(axis.text.x = element_text(face=\"bold\", size=14), axis.text.y = element_text(face=\"bold\", size=14)) +\n",
    "\n",
    "theme(\n",
    "axis.title.x = element_text(color = \"black\", size = 14, face = \"bold\"),\n",
    "axis.title.y = element_text(color = \"black\", size = 14, face = \"bold\")\n",
    ") +\n",
    "\n",
    "theme(\n",
    "axis.text=element_text(size = 12, face = \"bold\"),\n",
    "axis.title=element_text(size = 14,face = \"bold\")\n",
    ") +\n",
    "\n",
    "theme(\n",
    "  legend.title = element_text(size = 14, face = \"bold\"),\n",
    "  legend.text = element_text(size = 10, face = \"bold\")\n",
    ") +\n",
    "\n",
    "xlim(c(0,1)) +\n",
    "ylim(c(0,1))\n",
    "\n",
    "#Export it to the google bucket\n",
    "setwd('/home/jupyter/Ancestry/figures')\n",
    "ggsave(\"ccle_allele_frequency.pdf\", width = 5, height = 5)\n",
    "system(glue::glue(\"\n",
    "cd /home/jupyter/Ancestry/figures\n",
    "gsutil cp ccle_allele_frequency.pdf gs://fc-45c0e148-0b1c-4244-9bfc-feb559bbc514\n",
    "\"))"
   ]
  },
  {
   "cell_type": "code",
   "execution_count": null,
   "metadata": {},
   "outputs": [],
   "source": []
  }
 ],
 "metadata": {
  "kernelspec": {
   "display_name": "R",
   "language": "R",
   "name": "ir"
  },
  "language_info": {
   "codemirror_mode": "r",
   "file_extension": ".r",
   "mimetype": "text/x-r-source",
   "name": "R",
   "pygments_lexer": "r",
   "version": "4.2.0"
  },
  "toc": {
   "base_numbering": 1,
   "nav_menu": {},
   "number_sections": true,
   "sideBar": true,
   "skip_h1_title": false,
   "title_cell": "Table of Contents",
   "title_sidebar": "Contents",
   "toc_cell": false,
   "toc_position": {},
   "toc_section_display": true,
   "toc_window_display": false
  }
 },
 "nbformat": 4,
 "nbformat_minor": 2
}
