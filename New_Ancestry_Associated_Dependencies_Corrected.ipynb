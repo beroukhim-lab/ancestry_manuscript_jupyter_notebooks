{
 "cells": [
  {
   "cell_type": "markdown",
   "metadata": {},
   "source": [
    "The purpose of this notebook is to identify ancestry-associated genes"
   ]
  },
  {
   "cell_type": "code",
   "execution_count": 1,
   "metadata": {},
   "outputs": [
    {
     "name": "stderr",
     "output_type": "stream",
     "text": [
      "Warning message in system(\"timedatectl\", intern = TRUE):\n",
      "“running command 'timedatectl' had status 1”\n",
      "── \u001b[1mAttaching packages\u001b[22m ─────────────────────────────────────── tidyverse 1.3.1 ──\n",
      "\n",
      "\u001b[32m✔\u001b[39m \u001b[34mggplot2\u001b[39m 3.3.5     \u001b[32m✔\u001b[39m \u001b[34mpurrr  \u001b[39m 0.3.4\n",
      "\u001b[32m✔\u001b[39m \u001b[34mtibble \u001b[39m 3.1.6     \u001b[32m✔\u001b[39m \u001b[34mdplyr  \u001b[39m 1.0.7\n",
      "\u001b[32m✔\u001b[39m \u001b[34mtidyr  \u001b[39m 1.1.4     \u001b[32m✔\u001b[39m \u001b[34mstringr\u001b[39m 1.4.0\n",
      "\u001b[32m✔\u001b[39m \u001b[34mreadr  \u001b[39m 2.1.1     \u001b[32m✔\u001b[39m \u001b[34mforcats\u001b[39m 0.5.1\n",
      "\n",
      "── \u001b[1mConflicts\u001b[22m ────────────────────────────────────────── tidyverse_conflicts() ──\n",
      "\u001b[31m✖\u001b[39m \u001b[34mdplyr\u001b[39m::\u001b[32mfilter()\u001b[39m masks \u001b[34mstats\u001b[39m::filter()\n",
      "\u001b[31m✖\u001b[39m \u001b[34mdplyr\u001b[39m::\u001b[32mlag()\u001b[39m    masks \u001b[34mstats\u001b[39m::lag()\n",
      "\n",
      "\n",
      "Attaching package: ‘reshape2’\n",
      "\n",
      "\n",
      "The following object is masked from ‘package:tidyr’:\n",
      "\n",
      "    smiths\n",
      "\n",
      "\n"
     ]
    }
   ],
   "source": [
    "#Load packages\n",
    "library(tidyverse)\n",
    "library(reshape2)\n",
    "library(ggrepel)\n",
    "\n",
    "#Load functions\n",
    "show_msg <- function(x){ \n",
    "    print(x)\n",
    "    flush.console()\n",
    "}"
   ]
  },
  {
   "cell_type": "code",
   "execution_count": 2,
   "metadata": {},
   "outputs": [
    {
     "data": {
      "text/html": [
       "<style>\n",
       ".list-inline {list-style: none; margin:0; padding: 0}\n",
       ".list-inline>li {display: inline-block}\n",
       ".list-inline>li:not(:last-child)::after {content: \"\\00b7\"; padding: 0 .5ex}\n",
       "</style>\n",
       "<ol class=list-inline><li>'chr1.rfmix.output.rfmix.Q'</li><li>'chr10.rfmix.output.rfmix.Q'</li><li>'chr11.rfmix.output.rfmix.Q'</li><li>'chr12.rfmix.output.rfmix.Q'</li><li>'chr13.rfmix.output.rfmix.Q'</li><li>'chr14.rfmix.output.rfmix.Q'</li><li>'chr15.rfmix.output.rfmix.Q'</li><li>'chr16.rfmix.output.rfmix.Q'</li><li>'chr17.rfmix.output.rfmix.Q'</li><li>'chr18.rfmix.output.rfmix.Q'</li><li>'chr19.rfmix.output.rfmix.Q'</li><li>'chr2.rfmix.output.rfmix.Q'</li><li>'chr20.rfmix.output.rfmix.Q'</li><li>'chr21.rfmix.output.rfmix.Q'</li><li>'chr22.rfmix.output.rfmix.Q'</li><li>'chr3.rfmix.output.rfmix.Q'</li><li>'chr4.rfmix.output.rfmix.Q'</li><li>'chr5.rfmix.output.rfmix.Q'</li><li>'chr6.rfmix.output.rfmix.Q'</li><li>'chr7.rfmix.output.rfmix.Q'</li><li>'chr8.rfmix.output.rfmix.Q'</li><li>'chr9.rfmix.output.rfmix.Q'</li></ol>\n"
      ],
      "text/latex": [
       "\\begin{enumerate*}\n",
       "\\item 'chr1.rfmix.output.rfmix.Q'\n",
       "\\item 'chr10.rfmix.output.rfmix.Q'\n",
       "\\item 'chr11.rfmix.output.rfmix.Q'\n",
       "\\item 'chr12.rfmix.output.rfmix.Q'\n",
       "\\item 'chr13.rfmix.output.rfmix.Q'\n",
       "\\item 'chr14.rfmix.output.rfmix.Q'\n",
       "\\item 'chr15.rfmix.output.rfmix.Q'\n",
       "\\item 'chr16.rfmix.output.rfmix.Q'\n",
       "\\item 'chr17.rfmix.output.rfmix.Q'\n",
       "\\item 'chr18.rfmix.output.rfmix.Q'\n",
       "\\item 'chr19.rfmix.output.rfmix.Q'\n",
       "\\item 'chr2.rfmix.output.rfmix.Q'\n",
       "\\item 'chr20.rfmix.output.rfmix.Q'\n",
       "\\item 'chr21.rfmix.output.rfmix.Q'\n",
       "\\item 'chr22.rfmix.output.rfmix.Q'\n",
       "\\item 'chr3.rfmix.output.rfmix.Q'\n",
       "\\item 'chr4.rfmix.output.rfmix.Q'\n",
       "\\item 'chr5.rfmix.output.rfmix.Q'\n",
       "\\item 'chr6.rfmix.output.rfmix.Q'\n",
       "\\item 'chr7.rfmix.output.rfmix.Q'\n",
       "\\item 'chr8.rfmix.output.rfmix.Q'\n",
       "\\item 'chr9.rfmix.output.rfmix.Q'\n",
       "\\end{enumerate*}\n"
      ],
      "text/markdown": [
       "1. 'chr1.rfmix.output.rfmix.Q'\n",
       "2. 'chr10.rfmix.output.rfmix.Q'\n",
       "3. 'chr11.rfmix.output.rfmix.Q'\n",
       "4. 'chr12.rfmix.output.rfmix.Q'\n",
       "5. 'chr13.rfmix.output.rfmix.Q'\n",
       "6. 'chr14.rfmix.output.rfmix.Q'\n",
       "7. 'chr15.rfmix.output.rfmix.Q'\n",
       "8. 'chr16.rfmix.output.rfmix.Q'\n",
       "9. 'chr17.rfmix.output.rfmix.Q'\n",
       "10. 'chr18.rfmix.output.rfmix.Q'\n",
       "11. 'chr19.rfmix.output.rfmix.Q'\n",
       "12. 'chr2.rfmix.output.rfmix.Q'\n",
       "13. 'chr20.rfmix.output.rfmix.Q'\n",
       "14. 'chr21.rfmix.output.rfmix.Q'\n",
       "15. 'chr22.rfmix.output.rfmix.Q'\n",
       "16. 'chr3.rfmix.output.rfmix.Q'\n",
       "17. 'chr4.rfmix.output.rfmix.Q'\n",
       "18. 'chr5.rfmix.output.rfmix.Q'\n",
       "19. 'chr6.rfmix.output.rfmix.Q'\n",
       "20. 'chr7.rfmix.output.rfmix.Q'\n",
       "21. 'chr8.rfmix.output.rfmix.Q'\n",
       "22. 'chr9.rfmix.output.rfmix.Q'\n",
       "\n",
       "\n"
      ],
      "text/plain": [
       " [1] \"chr1.rfmix.output.rfmix.Q\"  \"chr10.rfmix.output.rfmix.Q\"\n",
       " [3] \"chr11.rfmix.output.rfmix.Q\" \"chr12.rfmix.output.rfmix.Q\"\n",
       " [5] \"chr13.rfmix.output.rfmix.Q\" \"chr14.rfmix.output.rfmix.Q\"\n",
       " [7] \"chr15.rfmix.output.rfmix.Q\" \"chr16.rfmix.output.rfmix.Q\"\n",
       " [9] \"chr17.rfmix.output.rfmix.Q\" \"chr18.rfmix.output.rfmix.Q\"\n",
       "[11] \"chr19.rfmix.output.rfmix.Q\" \"chr2.rfmix.output.rfmix.Q\" \n",
       "[13] \"chr20.rfmix.output.rfmix.Q\" \"chr21.rfmix.output.rfmix.Q\"\n",
       "[15] \"chr22.rfmix.output.rfmix.Q\" \"chr3.rfmix.output.rfmix.Q\" \n",
       "[17] \"chr4.rfmix.output.rfmix.Q\"  \"chr5.rfmix.output.rfmix.Q\" \n",
       "[19] \"chr6.rfmix.output.rfmix.Q\"  \"chr7.rfmix.output.rfmix.Q\" \n",
       "[21] \"chr8.rfmix.output.rfmix.Q\"  \"chr9.rfmix.output.rfmix.Q\" "
      ]
     },
     "metadata": {},
     "output_type": "display_data"
    },
    {
     "data": {
      "text/html": [
       "<table class=\"dataframe\">\n",
       "<caption>A data.frame: 6 × 6</caption>\n",
       "<thead>\n",
       "\t<tr><th></th><th scope=col>sample</th><th scope=col>AFR</th><th scope=col>AMR</th><th scope=col>EAS</th><th scope=col>EUR</th><th scope=col>SAS</th></tr>\n",
       "\t<tr><th></th><th scope=col>&lt;chr&gt;</th><th scope=col>&lt;dbl&gt;</th><th scope=col>&lt;dbl&gt;</th><th scope=col>&lt;dbl&gt;</th><th scope=col>&lt;dbl&gt;</th><th scope=col>&lt;dbl&gt;</th></tr>\n",
       "</thead>\n",
       "<tbody>\n",
       "\t<tr><th scope=row>1</th><td>ACH-000657</td><td>0.9601677273</td><td>0.0005504545</td><td>0.0063213636</td><td>0.03192409</td><td>0.0010363636</td></tr>\n",
       "\t<tr><th scope=row>2</th><td>ACH-000617</td><td>0.0028859091</td><td>0.0204050000</td><td>0.0000000000</td><td>0.97557545</td><td>0.0011336364</td></tr>\n",
       "\t<tr><th scope=row>3</th><td>ACH-000685</td><td>0.8539895455</td><td>0.0272740909</td><td>0.0395313636</td><td>0.07403591</td><td>0.0051686364</td></tr>\n",
       "\t<tr><th scope=row>4</th><td>ACH-000632</td><td>0.0025995455</td><td>0.0009922727</td><td>0.0001513636</td><td>0.99553364</td><td>0.0007231818</td></tr>\n",
       "\t<tr><th scope=row>5</th><td>ACH-000171</td><td>0.0007454545</td><td>0.0000000000</td><td>0.0010822727</td><td>0.99686682</td><td>0.0013054545</td></tr>\n",
       "\t<tr><th scope=row>6</th><td>ACH-000863</td><td>0.0065409091</td><td>0.0000000000</td><td>0.0036922727</td><td>0.96728000</td><td>0.0224868182</td></tr>\n",
       "</tbody>\n",
       "</table>\n"
      ],
      "text/latex": [
       "A data.frame: 6 × 6\n",
       "\\begin{tabular}{r|llllll}\n",
       "  & sample & AFR & AMR & EAS & EUR & SAS\\\\\n",
       "  & <chr> & <dbl> & <dbl> & <dbl> & <dbl> & <dbl>\\\\\n",
       "\\hline\n",
       "\t1 & ACH-000657 & 0.9601677273 & 0.0005504545 & 0.0063213636 & 0.03192409 & 0.0010363636\\\\\n",
       "\t2 & ACH-000617 & 0.0028859091 & 0.0204050000 & 0.0000000000 & 0.97557545 & 0.0011336364\\\\\n",
       "\t3 & ACH-000685 & 0.8539895455 & 0.0272740909 & 0.0395313636 & 0.07403591 & 0.0051686364\\\\\n",
       "\t4 & ACH-000632 & 0.0025995455 & 0.0009922727 & 0.0001513636 & 0.99553364 & 0.0007231818\\\\\n",
       "\t5 & ACH-000171 & 0.0007454545 & 0.0000000000 & 0.0010822727 & 0.99686682 & 0.0013054545\\\\\n",
       "\t6 & ACH-000863 & 0.0065409091 & 0.0000000000 & 0.0036922727 & 0.96728000 & 0.0224868182\\\\\n",
       "\\end{tabular}\n"
      ],
      "text/markdown": [
       "\n",
       "A data.frame: 6 × 6\n",
       "\n",
       "| <!--/--> | sample &lt;chr&gt; | AFR &lt;dbl&gt; | AMR &lt;dbl&gt; | EAS &lt;dbl&gt; | EUR &lt;dbl&gt; | SAS &lt;dbl&gt; |\n",
       "|---|---|---|---|---|---|---|\n",
       "| 1 | ACH-000657 | 0.9601677273 | 0.0005504545 | 0.0063213636 | 0.03192409 | 0.0010363636 |\n",
       "| 2 | ACH-000617 | 0.0028859091 | 0.0204050000 | 0.0000000000 | 0.97557545 | 0.0011336364 |\n",
       "| 3 | ACH-000685 | 0.8539895455 | 0.0272740909 | 0.0395313636 | 0.07403591 | 0.0051686364 |\n",
       "| 4 | ACH-000632 | 0.0025995455 | 0.0009922727 | 0.0001513636 | 0.99553364 | 0.0007231818 |\n",
       "| 5 | ACH-000171 | 0.0007454545 | 0.0000000000 | 0.0010822727 | 0.99686682 | 0.0013054545 |\n",
       "| 6 | ACH-000863 | 0.0065409091 | 0.0000000000 | 0.0036922727 | 0.96728000 | 0.0224868182 |\n",
       "\n"
      ],
      "text/plain": [
       "  sample     AFR          AMR          EAS          EUR        SAS         \n",
       "1 ACH-000657 0.9601677273 0.0005504545 0.0063213636 0.03192409 0.0010363636\n",
       "2 ACH-000617 0.0028859091 0.0204050000 0.0000000000 0.97557545 0.0011336364\n",
       "3 ACH-000685 0.8539895455 0.0272740909 0.0395313636 0.07403591 0.0051686364\n",
       "4 ACH-000632 0.0025995455 0.0009922727 0.0001513636 0.99553364 0.0007231818\n",
       "5 ACH-000171 0.0007454545 0.0000000000 0.0010822727 0.99686682 0.0013054545\n",
       "6 ACH-000863 0.0065409091 0.0000000000 0.0036922727 0.96728000 0.0224868182"
      ]
     },
     "metadata": {},
     "output_type": "display_data"
    }
   ],
   "source": [
    "#Load in the rfmix data\n",
    "setwd('/home/jupyter/Ancestry/rfmix')\n",
    "rfmix.file.list = list.files(path = \".\", pattern = \".Q\")\n",
    "rfmix.file.list\n",
    "\n",
    "#Compile it all into a single object\n",
    "rfmix.data = NULL #create an empty object to hold the data\n",
    "index = 0 #define the for loop index\n",
    "for(file in rfmix.file.list){\n",
    "    index = index + 1 #increase the index\n",
    "    \n",
    "    \n",
    "    #Load in and format the data\n",
    "    individual.chromosome = read.table(file, fill = TRUE) %>%\n",
    "    rename(\"sample\" = 1, \"AFR\" = 2, \"AMR\" = 3, \"EAS\" = 4, \"EUR\" = 5, \"SAS\" = 6) %>%\n",
    "    select(-sample)\n",
    "    \n",
    "    \n",
    "    \n",
    "    #Add the data to the main data frame\n",
    "    if(index == 1) {\n",
    "        rfmix.data = individual.chromosome\n",
    "    } else {\n",
    "        rfmix.data = rfmix.data + individual.chromosome\n",
    "    }\n",
    "    \n",
    "    \n",
    "    \n",
    "    #Divide the data by the number of chromosomes to get the ancestry fraction across the genome\n",
    "    if(index == length(rfmix.file.list)) {\n",
    "        rfmix.data = rfmix.data/length(rfmix.file.list)\n",
    "    }\n",
    "    \n",
    "    \n",
    "    \n",
    "    #Re-add the sample names\n",
    "    if(index == length(rfmix.file.list)){\n",
    "        sample.names = read.table(file, fill = TRUE) %>%\n",
    "        rename(\"sample\" = 1) %>%\n",
    "        pull(sample) \n",
    "        \n",
    "    rfmix.data = rfmix.data %>%\n",
    "        mutate(sample = sample.names, .before = \"AFR\")\n",
    "    }\n",
    "    \n",
    "}\n",
    "\n",
    "head(rfmix.data)\n",
    "write.table(rfmix.data, \"collapsed.ancestry.information.txt\", sep = \"\\t\", col.names = TRUE)"
   ]
  },
  {
   "cell_type": "code",
   "execution_count": 4,
   "metadata": {},
   "outputs": [
    {
     "data": {
      "text/html": [
       "<table class=\"dataframe\">\n",
       "<caption>A data.frame: 6 × 17394</caption>\n",
       "<thead>\n",
       "\t<tr><th></th><th scope=col>sample</th><th scope=col>A1BG</th><th scope=col>A1CF</th><th scope=col>A2M</th><th scope=col>A2ML1</th><th scope=col>A3GALT2</th><th scope=col>A4GALT</th><th scope=col>A4GNT</th><th scope=col>AAAS</th><th scope=col>AACS</th><th scope=col>⋯</th><th scope=col>ZWILCH</th><th scope=col>ZWINT</th><th scope=col>ZXDA</th><th scope=col>ZXDB</th><th scope=col>ZXDC</th><th scope=col>ZYG11A</th><th scope=col>ZYG11B</th><th scope=col>ZYX</th><th scope=col>ZZEF1</th><th scope=col>ZZZ3</th></tr>\n",
       "\t<tr><th></th><th scope=col>&lt;chr&gt;</th><th scope=col>&lt;dbl&gt;</th><th scope=col>&lt;dbl&gt;</th><th scope=col>&lt;dbl&gt;</th><th scope=col>&lt;dbl&gt;</th><th scope=col>&lt;dbl&gt;</th><th scope=col>&lt;dbl&gt;</th><th scope=col>&lt;dbl&gt;</th><th scope=col>&lt;dbl&gt;</th><th scope=col>&lt;dbl&gt;</th><th scope=col>⋯</th><th scope=col>&lt;dbl&gt;</th><th scope=col>&lt;dbl&gt;</th><th scope=col>&lt;dbl&gt;</th><th scope=col>&lt;dbl&gt;</th><th scope=col>&lt;dbl&gt;</th><th scope=col>&lt;dbl&gt;</th><th scope=col>&lt;dbl&gt;</th><th scope=col>&lt;dbl&gt;</th><th scope=col>&lt;dbl&gt;</th><th scope=col>&lt;dbl&gt;</th></tr>\n",
       "</thead>\n",
       "<tbody>\n",
       "\t<tr><th scope=row>1</th><td>ACH-000001</td><td>-0.14789625</td><td> 0.05463471</td><td> 0.001419604</td><td>-0.01339043</td><td>-0.10349883</td><td>-0.01125857</td><td> 0.006416150</td><td>-0.3134714</td><td> 0.006768761</td><td>⋯</td><td>-0.07102683</td><td>-0.09653835</td><td>-0.02783783</td><td> 0.109681058</td><td> 0.15538259</td><td>-0.11208185</td><td> 0.08538044</td><td> 0.155184455</td><td> 0.063520777</td><td>-0.33008466</td></tr>\n",
       "\t<tr><th scope=row>2</th><td>ACH-000004</td><td> 0.04225404</td><td>-0.03722391</td><td>-0.110746309</td><td>-0.01216771</td><td> 0.04928672</td><td>-0.13341834</td><td> 0.146940684</td><td>-0.2059332</td><td> 0.110355464</td><td>⋯</td><td>-0.03456611</td><td>-0.24942696</td><td> 0.10866321</td><td> 0.038576149</td><td> 0.05678273</td><td> 0.06712849</td><td>-0.16562203</td><td> 0.127003760</td><td> 0.112792741</td><td>-0.02744917</td></tr>\n",
       "\t<tr><th scope=row>3</th><td>ACH-000005</td><td>-0.09725072</td><td> 0.03138132</td><td> 0.056310037</td><td> 0.14384058</td><td>-0.01691672</td><td>-0.16512957</td><td> 0.129443530</td><td>-0.2582329</td><td>-0.078755273</td><td>⋯</td><td>-0.07883775</td><td>-0.24704082</td><td>-0.04526586</td><td>-0.004562731</td><td>-0.02503393</td><td>-0.12468651</td><td>-0.11999691</td><td> 0.047232733</td><td>-0.008179104</td><td>-0.09600739</td></tr>\n",
       "\t<tr><th scope=row>4</th><td>ACH-000007</td><td>-0.02114864</td><td>-0.08354835</td><td> 0.064540722</td><td> 0.07293326</td><td>-0.02168035</td><td>-0.03812946</td><td>-0.019298595</td><td>-0.2071468</td><td>-0.065116712</td><td>⋯</td><td>-0.25412460</td><td>-0.46013587</td><td> 0.05273457</td><td> 0.162883734</td><td> 0.10396785</td><td>-0.02976377</td><td>-0.17820933</td><td>-0.126332483</td><td>-0.185517858</td><td>-0.28405535</td></tr>\n",
       "\t<tr><th scope=row>5</th><td>ACH-000009</td><td>-0.02221356</td><td>-0.03932445</td><td> 0.068163523</td><td> 0.07960398</td><td> 0.02605992</td><td>-0.07865008</td><td>-0.008861441</td><td>-0.1818317</td><td> 0.010320843</td><td>⋯</td><td>-0.19291138</td><td>-0.33573379</td><td> 0.01216716</td><td> 0.189156924</td><td>-0.04495579</td><td>-0.13131152</td><td>-0.33177966</td><td>-0.002488554</td><td>-0.068758583</td><td>-0.22810072</td></tr>\n",
       "\t<tr><th scope=row>6</th><td>ACH-000011</td><td> 0.07938469</td><td>-0.05681123</td><td> 0.046281449</td><td> 0.21295376</td><td>-0.09828782</td><td>-0.23423752</td><td>-0.067585065</td><td>-0.1514126</td><td> 0.047989598</td><td>⋯</td><td>-0.51411266</td><td>-0.48357923</td><td> 0.05012691</td><td> 0.116754733</td><td> 0.21111247</td><td> 0.08775948</td><td>-0.12456308</td><td>-0.119781600</td><td>-0.120450263</td><td>-0.21757298</td></tr>\n",
       "</tbody>\n",
       "</table>\n"
      ],
      "text/latex": [
       "A data.frame: 6 × 17394\n",
       "\\begin{tabular}{r|lllllllllllllllllllll}\n",
       "  & sample & A1BG & A1CF & A2M & A2ML1 & A3GALT2 & A4GALT & A4GNT & AAAS & AACS & ⋯ & ZWILCH & ZWINT & ZXDA & ZXDB & ZXDC & ZYG11A & ZYG11B & ZYX & ZZEF1 & ZZZ3\\\\\n",
       "  & <chr> & <dbl> & <dbl> & <dbl> & <dbl> & <dbl> & <dbl> & <dbl> & <dbl> & <dbl> & ⋯ & <dbl> & <dbl> & <dbl> & <dbl> & <dbl> & <dbl> & <dbl> & <dbl> & <dbl> & <dbl>\\\\\n",
       "\\hline\n",
       "\t1 & ACH-000001 & -0.14789625 &  0.05463471 &  0.001419604 & -0.01339043 & -0.10349883 & -0.01125857 &  0.006416150 & -0.3134714 &  0.006768761 & ⋯ & -0.07102683 & -0.09653835 & -0.02783783 &  0.109681058 &  0.15538259 & -0.11208185 &  0.08538044 &  0.155184455 &  0.063520777 & -0.33008466\\\\\n",
       "\t2 & ACH-000004 &  0.04225404 & -0.03722391 & -0.110746309 & -0.01216771 &  0.04928672 & -0.13341834 &  0.146940684 & -0.2059332 &  0.110355464 & ⋯ & -0.03456611 & -0.24942696 &  0.10866321 &  0.038576149 &  0.05678273 &  0.06712849 & -0.16562203 &  0.127003760 &  0.112792741 & -0.02744917\\\\\n",
       "\t3 & ACH-000005 & -0.09725072 &  0.03138132 &  0.056310037 &  0.14384058 & -0.01691672 & -0.16512957 &  0.129443530 & -0.2582329 & -0.078755273 & ⋯ & -0.07883775 & -0.24704082 & -0.04526586 & -0.004562731 & -0.02503393 & -0.12468651 & -0.11999691 &  0.047232733 & -0.008179104 & -0.09600739\\\\\n",
       "\t4 & ACH-000007 & -0.02114864 & -0.08354835 &  0.064540722 &  0.07293326 & -0.02168035 & -0.03812946 & -0.019298595 & -0.2071468 & -0.065116712 & ⋯ & -0.25412460 & -0.46013587 &  0.05273457 &  0.162883734 &  0.10396785 & -0.02976377 & -0.17820933 & -0.126332483 & -0.185517858 & -0.28405535\\\\\n",
       "\t5 & ACH-000009 & -0.02221356 & -0.03932445 &  0.068163523 &  0.07960398 &  0.02605992 & -0.07865008 & -0.008861441 & -0.1818317 &  0.010320843 & ⋯ & -0.19291138 & -0.33573379 &  0.01216716 &  0.189156924 & -0.04495579 & -0.13131152 & -0.33177966 & -0.002488554 & -0.068758583 & -0.22810072\\\\\n",
       "\t6 & ACH-000011 &  0.07938469 & -0.05681123 &  0.046281449 &  0.21295376 & -0.09828782 & -0.23423752 & -0.067585065 & -0.1514126 &  0.047989598 & ⋯ & -0.51411266 & -0.48357923 &  0.05012691 &  0.116754733 &  0.21111247 &  0.08775948 & -0.12456308 & -0.119781600 & -0.120450263 & -0.21757298\\\\\n",
       "\\end{tabular}\n"
      ],
      "text/markdown": [
       "\n",
       "A data.frame: 6 × 17394\n",
       "\n",
       "| <!--/--> | sample &lt;chr&gt; | A1BG &lt;dbl&gt; | A1CF &lt;dbl&gt; | A2M &lt;dbl&gt; | A2ML1 &lt;dbl&gt; | A3GALT2 &lt;dbl&gt; | A4GALT &lt;dbl&gt; | A4GNT &lt;dbl&gt; | AAAS &lt;dbl&gt; | AACS &lt;dbl&gt; | ⋯ ⋯ | ZWILCH &lt;dbl&gt; | ZWINT &lt;dbl&gt; | ZXDA &lt;dbl&gt; | ZXDB &lt;dbl&gt; | ZXDC &lt;dbl&gt; | ZYG11A &lt;dbl&gt; | ZYG11B &lt;dbl&gt; | ZYX &lt;dbl&gt; | ZZEF1 &lt;dbl&gt; | ZZZ3 &lt;dbl&gt; |\n",
       "|---|---|---|---|---|---|---|---|---|---|---|---|---|---|---|---|---|---|---|---|---|---|\n",
       "| 1 | ACH-000001 | -0.14789625 |  0.05463471 |  0.001419604 | -0.01339043 | -0.10349883 | -0.01125857 |  0.006416150 | -0.3134714 |  0.006768761 | ⋯ | -0.07102683 | -0.09653835 | -0.02783783 |  0.109681058 |  0.15538259 | -0.11208185 |  0.08538044 |  0.155184455 |  0.063520777 | -0.33008466 |\n",
       "| 2 | ACH-000004 |  0.04225404 | -0.03722391 | -0.110746309 | -0.01216771 |  0.04928672 | -0.13341834 |  0.146940684 | -0.2059332 |  0.110355464 | ⋯ | -0.03456611 | -0.24942696 |  0.10866321 |  0.038576149 |  0.05678273 |  0.06712849 | -0.16562203 |  0.127003760 |  0.112792741 | -0.02744917 |\n",
       "| 3 | ACH-000005 | -0.09725072 |  0.03138132 |  0.056310037 |  0.14384058 | -0.01691672 | -0.16512957 |  0.129443530 | -0.2582329 | -0.078755273 | ⋯ | -0.07883775 | -0.24704082 | -0.04526586 | -0.004562731 | -0.02503393 | -0.12468651 | -0.11999691 |  0.047232733 | -0.008179104 | -0.09600739 |\n",
       "| 4 | ACH-000007 | -0.02114864 | -0.08354835 |  0.064540722 |  0.07293326 | -0.02168035 | -0.03812946 | -0.019298595 | -0.2071468 | -0.065116712 | ⋯ | -0.25412460 | -0.46013587 |  0.05273457 |  0.162883734 |  0.10396785 | -0.02976377 | -0.17820933 | -0.126332483 | -0.185517858 | -0.28405535 |\n",
       "| 5 | ACH-000009 | -0.02221356 | -0.03932445 |  0.068163523 |  0.07960398 |  0.02605992 | -0.07865008 | -0.008861441 | -0.1818317 |  0.010320843 | ⋯ | -0.19291138 | -0.33573379 |  0.01216716 |  0.189156924 | -0.04495579 | -0.13131152 | -0.33177966 | -0.002488554 | -0.068758583 | -0.22810072 |\n",
       "| 6 | ACH-000011 |  0.07938469 | -0.05681123 |  0.046281449 |  0.21295376 | -0.09828782 | -0.23423752 | -0.067585065 | -0.1514126 |  0.047989598 | ⋯ | -0.51411266 | -0.48357923 |  0.05012691 |  0.116754733 |  0.21111247 |  0.08775948 | -0.12456308 | -0.119781600 | -0.120450263 | -0.21757298 |\n",
       "\n"
      ],
      "text/plain": [
       "  sample     A1BG        A1CF        A2M          A2ML1       A3GALT2    \n",
       "1 ACH-000001 -0.14789625  0.05463471  0.001419604 -0.01339043 -0.10349883\n",
       "2 ACH-000004  0.04225404 -0.03722391 -0.110746309 -0.01216771  0.04928672\n",
       "3 ACH-000005 -0.09725072  0.03138132  0.056310037  0.14384058 -0.01691672\n",
       "4 ACH-000007 -0.02114864 -0.08354835  0.064540722  0.07293326 -0.02168035\n",
       "5 ACH-000009 -0.02221356 -0.03932445  0.068163523  0.07960398  0.02605992\n",
       "6 ACH-000011  0.07938469 -0.05681123  0.046281449  0.21295376 -0.09828782\n",
       "  A4GALT      A4GNT        AAAS       AACS         ⋯ ZWILCH      ZWINT      \n",
       "1 -0.01125857  0.006416150 -0.3134714  0.006768761 ⋯ -0.07102683 -0.09653835\n",
       "2 -0.13341834  0.146940684 -0.2059332  0.110355464 ⋯ -0.03456611 -0.24942696\n",
       "3 -0.16512957  0.129443530 -0.2582329 -0.078755273 ⋯ -0.07883775 -0.24704082\n",
       "4 -0.03812946 -0.019298595 -0.2071468 -0.065116712 ⋯ -0.25412460 -0.46013587\n",
       "5 -0.07865008 -0.008861441 -0.1818317  0.010320843 ⋯ -0.19291138 -0.33573379\n",
       "6 -0.23423752 -0.067585065 -0.1514126  0.047989598 ⋯ -0.51411266 -0.48357923\n",
       "  ZXDA        ZXDB         ZXDC        ZYG11A      ZYG11B      ZYX         \n",
       "1 -0.02783783  0.109681058  0.15538259 -0.11208185  0.08538044  0.155184455\n",
       "2  0.10866321  0.038576149  0.05678273  0.06712849 -0.16562203  0.127003760\n",
       "3 -0.04526586 -0.004562731 -0.02503393 -0.12468651 -0.11999691  0.047232733\n",
       "4  0.05273457  0.162883734  0.10396785 -0.02976377 -0.17820933 -0.126332483\n",
       "5  0.01216716  0.189156924 -0.04495579 -0.13131152 -0.33177966 -0.002488554\n",
       "6  0.05012691  0.116754733  0.21111247  0.08775948 -0.12456308 -0.119781600\n",
       "  ZZEF1        ZZZ3       \n",
       "1  0.063520777 -0.33008466\n",
       "2  0.112792741 -0.02744917\n",
       "3 -0.008179104 -0.09600739\n",
       "4 -0.185517858 -0.28405535\n",
       "5 -0.068758583 -0.22810072\n",
       "6 -0.120450263 -0.21757298"
      ]
     },
     "metadata": {},
     "output_type": "display_data"
    }
   ],
   "source": [
    "#Load in the uncorrected chronos data and format it\n",
    "setwd('/home/jupyter/Ancestry/gwas')\n",
    "uncorrected.ccle.chronos = read.table('CRISPR_gene_effect.csv', sep = \",\", header = T, check.names = FALSE) %>%\n",
    "rename( \"sample\" = 1) %>%\n",
    "setNames(word(names(.), 1)) \n",
    "head(uncorrected.ccle.chronos)"
   ]
  },
  {
   "cell_type": "code",
   "execution_count": 5,
   "metadata": {},
   "outputs": [
    {
     "data": {
      "text/html": [
       "<table class=\"dataframe\">\n",
       "<caption>A data.frame: 6 × 18026</caption>\n",
       "<thead>\n",
       "\t<tr><th></th><th scope=col>sample</th><th scope=col>A1BG</th><th scope=col>A1CF</th><th scope=col>A2M</th><th scope=col>A2ML1</th><th scope=col>A3GALT2</th><th scope=col>A4GALT</th><th scope=col>A4GNT</th><th scope=col>AAAS</th><th scope=col>AACS</th><th scope=col>⋯</th><th scope=col>ZWILCH</th><th scope=col>ZWINT</th><th scope=col>ZXDA</th><th scope=col>ZXDB</th><th scope=col>ZXDC</th><th scope=col>ZYG11A</th><th scope=col>ZYG11B</th><th scope=col>ZYX</th><th scope=col>ZZEF1</th><th scope=col>ZZZ3</th></tr>\n",
       "\t<tr><th></th><th scope=col>&lt;chr&gt;</th><th scope=col>&lt;dbl&gt;</th><th scope=col>&lt;dbl&gt;</th><th scope=col>&lt;dbl&gt;</th><th scope=col>&lt;dbl&gt;</th><th scope=col>&lt;dbl&gt;</th><th scope=col>&lt;dbl&gt;</th><th scope=col>&lt;dbl&gt;</th><th scope=col>&lt;dbl&gt;</th><th scope=col>&lt;dbl&gt;</th><th scope=col>⋯</th><th scope=col>&lt;dbl&gt;</th><th scope=col>&lt;dbl&gt;</th><th scope=col>&lt;dbl&gt;</th><th scope=col>&lt;dbl&gt;</th><th scope=col>&lt;dbl&gt;</th><th scope=col>&lt;dbl&gt;</th><th scope=col>&lt;dbl&gt;</th><th scope=col>&lt;dbl&gt;</th><th scope=col>&lt;dbl&gt;</th><th scope=col>&lt;dbl&gt;</th></tr>\n",
       "</thead>\n",
       "<tbody>\n",
       "\t<tr><th scope=row>1</th><td>ACH-000004</td><td> 0.086438855</td><td>-0.005375553</td><td>-2.183470e-01</td><td>-0.008364505</td><td>0.16417069</td><td>-0.15868934</td><td> 0.13873398</td><td>-0.3513665</td><td> 0.16154247</td><td>⋯</td><td>-0.049223665</td><td>-0.20606886</td><td> 0.04893834</td><td>-0.04113926</td><td>0.11126043</td><td> 0.13950968</td><td>-0.24126582</td><td> 0.184734547</td><td> 0.14995786</td><td> 0.02054175</td></tr>\n",
       "\t<tr><th scope=row>2</th><td>ACH-000005</td><td>-0.036344709</td><td> 0.052274951</td><td>-4.114512e-05</td><td> 0.117234004</td><td>0.11821882</td><td>-0.22455174</td><td> 0.12412216</td><td>-0.3888416</td><td>-0.04671770</td><td>⋯</td><td>-0.009955124</td><td>-0.21194361</td><td>-0.25071171</td><td>-0.14646951</td><td>0.04277384</td><td>-0.16129096</td><td>-0.25317451</td><td> 0.090689833</td><td>-0.08150250</td><td>-0.01915329</td></tr>\n",
       "\t<tr><th scope=row>3</th><td>ACH-000007</td><td> 0.022240345</td><td> 0.006156480</td><td>-3.891893e-02</td><td> 0.030215966</td><td>0.02884721</td><td> 0.09573301</td><td>-0.02835576</td><td>-0.3795737</td><td>-0.09470061</td><td>⋯</td><td>-0.094843570</td><td>-0.17126918</td><td> 0.03239710</td><td> 0.16271137</td><td>0.17475661</td><td>-0.05636008</td><td>-0.21270069</td><td>-0.149988953</td><td>-0.29615284</td><td>-0.24754145</td></tr>\n",
       "\t<tr><th scope=row>4</th><td>ACH-000009</td><td> 0.005645809</td><td>-0.008697106</td><td> 8.763318e-03</td><td>-0.011197381</td><td>0.18368258</td><td>-0.05274889</td><td> 0.01991085</td><td>-0.4722547</td><td> 0.08671924</td><td>⋯</td><td>-0.128498754</td><td>-0.05410665</td><td>-0.04810827</td><td> 0.14430389</td><td>0.05453465</td><td> 0.04482793</td><td>-0.46759979</td><td> 0.110258803</td><td>-0.05243945</td><td>-0.30358156</td></tr>\n",
       "\t<tr><th scope=row>5</th><td>ACH-000011</td><td> 0.131006340</td><td> 0.097061285</td><td> 9.461156e-03</td><td> 0.204017306</td><td>0.04543504</td><td>-0.20395109</td><td> 0.05076659</td><td>-0.2199503</td><td> 0.11424052</td><td>⋯</td><td>-0.461831735</td><td>-0.35449242</td><td> 0.03969045</td><td> 0.12868549</td><td>0.25400347</td><td> 0.22500652</td><td>-0.11199388</td><td>-0.004686198</td><td>-0.11029634</td><td>-0.04172295</td></tr>\n",
       "\t<tr><th scope=row>6</th><td>ACH-000012</td><td>-0.076204036</td><td> 0.084348153</td><td> 1.436267e-01</td><td> 0.209373167</td><td>0.17615320</td><td>-0.19905234</td><td> 0.21219832</td><td>-0.2505001</td><td> 0.05307951</td><td>⋯</td><td>-0.419282699</td><td>-0.95234213</td><td>-0.01555762</td><td>-0.01956584</td><td>0.10287621</td><td> 0.14251752</td><td>-0.07013547</td><td> 0.001880521</td><td>-0.07368321</td><td>-0.15401379</td></tr>\n",
       "</tbody>\n",
       "</table>\n"
      ],
      "text/latex": [
       "A data.frame: 6 × 18026\n",
       "\\begin{tabular}{r|lllllllllllllllllllll}\n",
       "  & sample & A1BG & A1CF & A2M & A2ML1 & A3GALT2 & A4GALT & A4GNT & AAAS & AACS & ⋯ & ZWILCH & ZWINT & ZXDA & ZXDB & ZXDC & ZYG11A & ZYG11B & ZYX & ZZEF1 & ZZZ3\\\\\n",
       "  & <chr> & <dbl> & <dbl> & <dbl> & <dbl> & <dbl> & <dbl> & <dbl> & <dbl> & <dbl> & ⋯ & <dbl> & <dbl> & <dbl> & <dbl> & <dbl> & <dbl> & <dbl> & <dbl> & <dbl> & <dbl>\\\\\n",
       "\\hline\n",
       "\t1 & ACH-000004 &  0.086438855 & -0.005375553 & -2.183470e-01 & -0.008364505 & 0.16417069 & -0.15868934 &  0.13873398 & -0.3513665 &  0.16154247 & ⋯ & -0.049223665 & -0.20606886 &  0.04893834 & -0.04113926 & 0.11126043 &  0.13950968 & -0.24126582 &  0.184734547 &  0.14995786 &  0.02054175\\\\\n",
       "\t2 & ACH-000005 & -0.036344709 &  0.052274951 & -4.114512e-05 &  0.117234004 & 0.11821882 & -0.22455174 &  0.12412216 & -0.3888416 & -0.04671770 & ⋯ & -0.009955124 & -0.21194361 & -0.25071171 & -0.14646951 & 0.04277384 & -0.16129096 & -0.25317451 &  0.090689833 & -0.08150250 & -0.01915329\\\\\n",
       "\t3 & ACH-000007 &  0.022240345 &  0.006156480 & -3.891893e-02 &  0.030215966 & 0.02884721 &  0.09573301 & -0.02835576 & -0.3795737 & -0.09470061 & ⋯ & -0.094843570 & -0.17126918 &  0.03239710 &  0.16271137 & 0.17475661 & -0.05636008 & -0.21270069 & -0.149988953 & -0.29615284 & -0.24754145\\\\\n",
       "\t4 & ACH-000009 &  0.005645809 & -0.008697106 &  8.763318e-03 & -0.011197381 & 0.18368258 & -0.05274889 &  0.01991085 & -0.4722547 &  0.08671924 & ⋯ & -0.128498754 & -0.05410665 & -0.04810827 &  0.14430389 & 0.05453465 &  0.04482793 & -0.46759979 &  0.110258803 & -0.05243945 & -0.30358156\\\\\n",
       "\t5 & ACH-000011 &  0.131006340 &  0.097061285 &  9.461156e-03 &  0.204017306 & 0.04543504 & -0.20395109 &  0.05076659 & -0.2199503 &  0.11424052 & ⋯ & -0.461831735 & -0.35449242 &  0.03969045 &  0.12868549 & 0.25400347 &  0.22500652 & -0.11199388 & -0.004686198 & -0.11029634 & -0.04172295\\\\\n",
       "\t6 & ACH-000012 & -0.076204036 &  0.084348153 &  1.436267e-01 &  0.209373167 & 0.17615320 & -0.19905234 &  0.21219832 & -0.2505001 &  0.05307951 & ⋯ & -0.419282699 & -0.95234213 & -0.01555762 & -0.01956584 & 0.10287621 &  0.14251752 & -0.07013547 &  0.001880521 & -0.07368321 & -0.15401379\\\\\n",
       "\\end{tabular}\n"
      ],
      "text/markdown": [
       "\n",
       "A data.frame: 6 × 18026\n",
       "\n",
       "| <!--/--> | sample &lt;chr&gt; | A1BG &lt;dbl&gt; | A1CF &lt;dbl&gt; | A2M &lt;dbl&gt; | A2ML1 &lt;dbl&gt; | A3GALT2 &lt;dbl&gt; | A4GALT &lt;dbl&gt; | A4GNT &lt;dbl&gt; | AAAS &lt;dbl&gt; | AACS &lt;dbl&gt; | ⋯ ⋯ | ZWILCH &lt;dbl&gt; | ZWINT &lt;dbl&gt; | ZXDA &lt;dbl&gt; | ZXDB &lt;dbl&gt; | ZXDC &lt;dbl&gt; | ZYG11A &lt;dbl&gt; | ZYG11B &lt;dbl&gt; | ZYX &lt;dbl&gt; | ZZEF1 &lt;dbl&gt; | ZZZ3 &lt;dbl&gt; |\n",
       "|---|---|---|---|---|---|---|---|---|---|---|---|---|---|---|---|---|---|---|---|---|---|\n",
       "| 1 | ACH-000004 |  0.086438855 | -0.005375553 | -2.183470e-01 | -0.008364505 | 0.16417069 | -0.15868934 |  0.13873398 | -0.3513665 |  0.16154247 | ⋯ | -0.049223665 | -0.20606886 |  0.04893834 | -0.04113926 | 0.11126043 |  0.13950968 | -0.24126582 |  0.184734547 |  0.14995786 |  0.02054175 |\n",
       "| 2 | ACH-000005 | -0.036344709 |  0.052274951 | -4.114512e-05 |  0.117234004 | 0.11821882 | -0.22455174 |  0.12412216 | -0.3888416 | -0.04671770 | ⋯ | -0.009955124 | -0.21194361 | -0.25071171 | -0.14646951 | 0.04277384 | -0.16129096 | -0.25317451 |  0.090689833 | -0.08150250 | -0.01915329 |\n",
       "| 3 | ACH-000007 |  0.022240345 |  0.006156480 | -3.891893e-02 |  0.030215966 | 0.02884721 |  0.09573301 | -0.02835576 | -0.3795737 | -0.09470061 | ⋯ | -0.094843570 | -0.17126918 |  0.03239710 |  0.16271137 | 0.17475661 | -0.05636008 | -0.21270069 | -0.149988953 | -0.29615284 | -0.24754145 |\n",
       "| 4 | ACH-000009 |  0.005645809 | -0.008697106 |  8.763318e-03 | -0.011197381 | 0.18368258 | -0.05274889 |  0.01991085 | -0.4722547 |  0.08671924 | ⋯ | -0.128498754 | -0.05410665 | -0.04810827 |  0.14430389 | 0.05453465 |  0.04482793 | -0.46759979 |  0.110258803 | -0.05243945 | -0.30358156 |\n",
       "| 5 | ACH-000011 |  0.131006340 |  0.097061285 |  9.461156e-03 |  0.204017306 | 0.04543504 | -0.20395109 |  0.05076659 | -0.2199503 |  0.11424052 | ⋯ | -0.461831735 | -0.35449242 |  0.03969045 |  0.12868549 | 0.25400347 |  0.22500652 | -0.11199388 | -0.004686198 | -0.11029634 | -0.04172295 |\n",
       "| 6 | ACH-000012 | -0.076204036 |  0.084348153 |  1.436267e-01 |  0.209373167 | 0.17615320 | -0.19905234 |  0.21219832 | -0.2505001 |  0.05307951 | ⋯ | -0.419282699 | -0.95234213 | -0.01555762 | -0.01956584 | 0.10287621 |  0.14251752 | -0.07013547 |  0.001880521 | -0.07368321 | -0.15401379 |\n",
       "\n"
      ],
      "text/plain": [
       "  sample     A1BG         A1CF         A2M           A2ML1        A3GALT2   \n",
       "1 ACH-000004  0.086438855 -0.005375553 -2.183470e-01 -0.008364505 0.16417069\n",
       "2 ACH-000005 -0.036344709  0.052274951 -4.114512e-05  0.117234004 0.11821882\n",
       "3 ACH-000007  0.022240345  0.006156480 -3.891893e-02  0.030215966 0.02884721\n",
       "4 ACH-000009  0.005645809 -0.008697106  8.763318e-03 -0.011197381 0.18368258\n",
       "5 ACH-000011  0.131006340  0.097061285  9.461156e-03  0.204017306 0.04543504\n",
       "6 ACH-000012 -0.076204036  0.084348153  1.436267e-01  0.209373167 0.17615320\n",
       "  A4GALT      A4GNT       AAAS       AACS        ⋯ ZWILCH       ZWINT      \n",
       "1 -0.15868934  0.13873398 -0.3513665  0.16154247 ⋯ -0.049223665 -0.20606886\n",
       "2 -0.22455174  0.12412216 -0.3888416 -0.04671770 ⋯ -0.009955124 -0.21194361\n",
       "3  0.09573301 -0.02835576 -0.3795737 -0.09470061 ⋯ -0.094843570 -0.17126918\n",
       "4 -0.05274889  0.01991085 -0.4722547  0.08671924 ⋯ -0.128498754 -0.05410665\n",
       "5 -0.20395109  0.05076659 -0.2199503  0.11424052 ⋯ -0.461831735 -0.35449242\n",
       "6 -0.19905234  0.21219832 -0.2505001  0.05307951 ⋯ -0.419282699 -0.95234213\n",
       "  ZXDA        ZXDB        ZXDC       ZYG11A      ZYG11B      ZYX         \n",
       "1  0.04893834 -0.04113926 0.11126043  0.13950968 -0.24126582  0.184734547\n",
       "2 -0.25071171 -0.14646951 0.04277384 -0.16129096 -0.25317451  0.090689833\n",
       "3  0.03239710  0.16271137 0.17475661 -0.05636008 -0.21270069 -0.149988953\n",
       "4 -0.04810827  0.14430389 0.05453465  0.04482793 -0.46759979  0.110258803\n",
       "5  0.03969045  0.12868549 0.25400347  0.22500652 -0.11199388 -0.004686198\n",
       "6 -0.01555762 -0.01956584 0.10287621  0.14251752 -0.07013547  0.001880521\n",
       "  ZZEF1       ZZZ3       \n",
       "1  0.14995786  0.02054175\n",
       "2 -0.08150250 -0.01915329\n",
       "3 -0.29615284 -0.24754145\n",
       "4 -0.05243945 -0.30358156\n",
       "5 -0.11029634 -0.04172295\n",
       "6 -0.07368321 -0.15401379"
      ]
     },
     "metadata": {},
     "output_type": "display_data"
    }
   ],
   "source": [
    "#Load in the corrected chronos data and format it\n",
    "setwd('/home/jupyter/Ancestry/gwas')\n",
    "corrected.ccle.chronos = read.table('AncestryBias-Achilles_gene_effect_public_subset.csv', sep = \",\", header = T, check.names = FALSE) %>%\n",
    "rename( \"sample\" = 1) %>%\n",
    "setNames(word(names(.), 1)) \n",
    "head(corrected.ccle.chronos)"
   ]
  },
  {
   "cell_type": "code",
   "execution_count": 6,
   "metadata": {},
   "outputs": [
    {
     "data": {
      "text/html": [
       "<table class=\"dataframe\">\n",
       "<caption>A data.frame: 6 × 2</caption>\n",
       "<thead>\n",
       "\t<tr><th></th><th scope=col>sample</th><th scope=col>primary_disease</th></tr>\n",
       "\t<tr><th></th><th scope=col>&lt;chr&gt;</th><th scope=col>&lt;chr&gt;</th></tr>\n",
       "</thead>\n",
       "<tbody>\n",
       "\t<tr><th scope=row>1</th><td>ACH-000001</td><td>Ovarian Cancer         </td></tr>\n",
       "\t<tr><th scope=row>2</th><td>ACH-000002</td><td>Leukemia               </td></tr>\n",
       "\t<tr><th scope=row>3</th><td>ACH-000003</td><td>Colon/Colorectal Cancer</td></tr>\n",
       "\t<tr><th scope=row>4</th><td>ACH-000004</td><td>Leukemia               </td></tr>\n",
       "\t<tr><th scope=row>5</th><td>ACH-000005</td><td>Leukemia               </td></tr>\n",
       "\t<tr><th scope=row>6</th><td>ACH-000006</td><td>Leukemia               </td></tr>\n",
       "</tbody>\n",
       "</table>\n"
      ],
      "text/latex": [
       "A data.frame: 6 × 2\n",
       "\\begin{tabular}{r|ll}\n",
       "  & sample & primary\\_disease\\\\\n",
       "  & <chr> & <chr>\\\\\n",
       "\\hline\n",
       "\t1 & ACH-000001 & Ovarian Cancer         \\\\\n",
       "\t2 & ACH-000002 & Leukemia               \\\\\n",
       "\t3 & ACH-000003 & Colon/Colorectal Cancer\\\\\n",
       "\t4 & ACH-000004 & Leukemia               \\\\\n",
       "\t5 & ACH-000005 & Leukemia               \\\\\n",
       "\t6 & ACH-000006 & Leukemia               \\\\\n",
       "\\end{tabular}\n"
      ],
      "text/markdown": [
       "\n",
       "A data.frame: 6 × 2\n",
       "\n",
       "| <!--/--> | sample &lt;chr&gt; | primary_disease &lt;chr&gt; |\n",
       "|---|---|---|\n",
       "| 1 | ACH-000001 | Ovarian Cancer          |\n",
       "| 2 | ACH-000002 | Leukemia                |\n",
       "| 3 | ACH-000003 | Colon/Colorectal Cancer |\n",
       "| 4 | ACH-000004 | Leukemia                |\n",
       "| 5 | ACH-000005 | Leukemia                |\n",
       "| 6 | ACH-000006 | Leukemia                |\n",
       "\n"
      ],
      "text/plain": [
       "  sample     primary_disease        \n",
       "1 ACH-000001 Ovarian Cancer         \n",
       "2 ACH-000002 Leukemia               \n",
       "3 ACH-000003 Colon/Colorectal Cancer\n",
       "4 ACH-000004 Leukemia               \n",
       "5 ACH-000005 Leukemia               \n",
       "6 ACH-000006 Leukemia               "
      ]
     },
     "metadata": {},
     "output_type": "display_data"
    }
   ],
   "source": [
    "#Load in the sample annotation data\n",
    "setwd('/home/jupyter/Ancestry/ccle_ancestry_analysis')\n",
    "sample.annotation = read.table('depmap_cell_lineage.csv', sep = \",\", header = T) %>%\n",
    "rename(\"sample\" = 1)\n",
    "\n",
    "head(sample.annotation)"
   ]
  },
  {
   "cell_type": "code",
   "execution_count": 7,
   "metadata": {},
   "outputs": [
    {
     "name": "stderr",
     "output_type": "stream",
     "text": [
      "Joining, by = \"sample\"\n",
      "\n",
      "Joining, by = \"sample\"\n",
      "\n",
      "Joining, by = \"sample\"\n",
      "\n",
      "Joining, by = \"sample\"\n",
      "\n"
     ]
    }
   ],
   "source": [
    "#Merge all of the datasets together for uncorrected\n",
    "uncorrected.merged.dataset = rfmix.data %>%\n",
    "inner_join(., sample.annotation) %>%\n",
    "inner_join(., uncorrected.ccle.chronos)\n",
    "\n",
    "#Merge all of the datasets together for corrected\n",
    "corrected.merged.dataset = rfmix.data %>%\n",
    "inner_join(., sample.annotation) %>%\n",
    "inner_join(., corrected.ccle.chronos)\n",
    "\n"
   ]
  },
  {
   "cell_type": "markdown",
   "metadata": {},
   "source": [
    "Compute p-values with wilcoxon test"
   ]
  },
  {
   "cell_type": "markdown",
   "metadata": {},
   "source": [
    "# Compute p-values for the uncorrected datasets"
   ]
  },
  {
   "cell_type": "code",
   "execution_count": 61,
   "metadata": {},
   "outputs": [
    {
     "name": "stdout",
     "output_type": "stream",
     "text": [
      "[1] \"AFR Complete!\"\n",
      "[1] \"AMR Complete!\"\n",
      "[1] \"EAS Complete!\"\n",
      "[1] \"EUR Complete!\"\n",
      "[1] \"SAS Complete!\"\n"
     ]
    }
   ],
   "source": [
    "#Compute wilcoxon p-values for uncorrected afr\n",
    "uncorrected.afr.df =  uncorrected.merged.dataset %>% filter(AFR >= 0.5) %>% select(-c(1:7))\n",
    "uncorrected.non.afr.df =  uncorrected.merged.dataset %>% filter(AFR < 0.5) %>% select(-c(1:7))\n",
    "uncorrected.afr.wilcox.pvals = mapply(wilcox.test, x = uncorrected.afr.df, y = uncorrected.non.afr.df) %>% data.frame() %>% slice(3) %>% unlist()\n",
    "print(\"AFR Complete!\")\n",
    "\n",
    "#Compute wilcoxon p-values for uncorrected amr\n",
    "uncorrected.amr.df =  uncorrected.merged.dataset %>% filter(AMR >= 0.5) %>% select(-c(1:7))\n",
    "uncorrected.non.amr.df =  uncorrected.merged.dataset %>% filter(AMR < 0.5) %>% select(-c(1:7))\n",
    "uncorrected.amr.wilcox.pvals = mapply(wilcox.test, x = uncorrected.amr.df, y = uncorrected.non.amr.df) %>% data.frame() %>% slice(3) %>% unlist()\n",
    "print(\"AMR Complete!\")\n",
    "\n",
    "#Compute wilcoxon p-values for uncorrected eas\n",
    "uncorrected.eas.df =  uncorrected.merged.dataset %>% filter(EAS >= 0.5) %>% select(-c(1:7))\n",
    "uncorrected.non.eas.df =  uncorrected.merged.dataset %>% filter(EAS < 0.5) %>% select(-c(1:7))\n",
    "uncorrected.eas.wilcox.pvals = mapply(wilcox.test, x = uncorrected.eas.df, y = uncorrected.non.eas.df) %>% data.frame() %>% slice(3) %>% unlist()\n",
    "print(\"EAS Complete!\")\n",
    "\n",
    "#Compute wilcoxon p-values for uncorrected eur\n",
    "uncorrected.eur.df =  uncorrected.merged.dataset %>% filter(EUR >= 0.5) %>% select(-c(1:7))\n",
    "uncorrected.non.eur.df =  uncorrected.merged.dataset %>% filter(EUR < 0.5) %>% select(-c(1:7))\n",
    "uncorrected.eur.wilcox.pvals = mapply(wilcox.test, x = uncorrected.eur.df, y = uncorrected.non.eur.df) %>% data.frame() %>% slice(3) %>% unlist()\n",
    "print(\"EUR Complete!\")\n",
    "\n",
    "#Compute wilcoxon p-values for uncorrected sas\n",
    "uncorrected.sas.df =  uncorrected.merged.dataset %>% filter(SAS >= 0.5) %>% select(-c(1:7))\n",
    "uncorrected.non.sas.df =  uncorrected.merged.dataset %>% filter(SAS < 0.5) %>% select(-c(1:7))\n",
    "uncorrected.sas.wilcox.pvals = mapply(wilcox.test, x = uncorrected.sas.df, y = uncorrected.non.sas.df) %>% data.frame() %>% slice(3) %>% unlist()\n",
    "print(\"SAS Complete!\")"
   ]
  },
  {
   "cell_type": "code",
   "execution_count": 62,
   "metadata": {},
   "outputs": [
    {
     "data": {
      "text/html": [
       "<table class=\"dataframe\">\n",
       "<caption>A data.frame: 6 × 6</caption>\n",
       "<thead>\n",
       "\t<tr><th></th><th scope=col>gene</th><th scope=col>AFR</th><th scope=col>AMR</th><th scope=col>EAS</th><th scope=col>EUR</th><th scope=col>SAS</th></tr>\n",
       "\t<tr><th></th><th scope=col>&lt;chr&gt;</th><th scope=col>&lt;dbl&gt;</th><th scope=col>&lt;dbl&gt;</th><th scope=col>&lt;dbl&gt;</th><th scope=col>&lt;dbl&gt;</th><th scope=col>&lt;dbl&gt;</th></tr>\n",
       "</thead>\n",
       "<tbody>\n",
       "\t<tr><th scope=row>CLSPN.p.value</th><td>CLSPN  </td><td>0.01067045</td><td>0.7083125</td><td>2.080869e-22</td><td>3.874113e-27</td><td>0.16798728</td></tr>\n",
       "\t<tr><th scope=row>UGT2B17.p.value</th><td>UGT2B17</td><td>0.35707090</td><td>0.2344864</td><td>2.878330e-14</td><td>7.283254e-12</td><td>0.83378880</td></tr>\n",
       "\t<tr><th scope=row>RHD.p.value</th><td>RHD    </td><td>0.00115210</td><td>0.2301524</td><td>1.101590e-13</td><td>1.353829e-08</td><td>0.08125034</td></tr>\n",
       "\t<tr><th scope=row>INCENP.p.value</th><td>INCENP </td><td>0.84213208</td><td>0.1793278</td><td>6.709175e-12</td><td>2.415207e-11</td><td>0.59390646</td></tr>\n",
       "\t<tr><th scope=row>RIMS2.p.value</th><td>RIMS2  </td><td>0.52574813</td><td>0.7838101</td><td>5.582087e-11</td><td>4.745656e-09</td><td>0.07273862</td></tr>\n",
       "\t<tr><th scope=row>RPS5.p.value</th><td>RPS5   </td><td>0.96346082</td><td>0.2640680</td><td>8.716616e-11</td><td>1.147246e-10</td><td>0.78515908</td></tr>\n",
       "</tbody>\n",
       "</table>\n"
      ],
      "text/latex": [
       "A data.frame: 6 × 6\n",
       "\\begin{tabular}{r|llllll}\n",
       "  & gene & AFR & AMR & EAS & EUR & SAS\\\\\n",
       "  & <chr> & <dbl> & <dbl> & <dbl> & <dbl> & <dbl>\\\\\n",
       "\\hline\n",
       "\tCLSPN.p.value & CLSPN   & 0.01067045 & 0.7083125 & 2.080869e-22 & 3.874113e-27 & 0.16798728\\\\\n",
       "\tUGT2B17.p.value & UGT2B17 & 0.35707090 & 0.2344864 & 2.878330e-14 & 7.283254e-12 & 0.83378880\\\\\n",
       "\tRHD.p.value & RHD     & 0.00115210 & 0.2301524 & 1.101590e-13 & 1.353829e-08 & 0.08125034\\\\\n",
       "\tINCENP.p.value & INCENP  & 0.84213208 & 0.1793278 & 6.709175e-12 & 2.415207e-11 & 0.59390646\\\\\n",
       "\tRIMS2.p.value & RIMS2   & 0.52574813 & 0.7838101 & 5.582087e-11 & 4.745656e-09 & 0.07273862\\\\\n",
       "\tRPS5.p.value & RPS5    & 0.96346082 & 0.2640680 & 8.716616e-11 & 1.147246e-10 & 0.78515908\\\\\n",
       "\\end{tabular}\n"
      ],
      "text/markdown": [
       "\n",
       "A data.frame: 6 × 6\n",
       "\n",
       "| <!--/--> | gene &lt;chr&gt; | AFR &lt;dbl&gt; | AMR &lt;dbl&gt; | EAS &lt;dbl&gt; | EUR &lt;dbl&gt; | SAS &lt;dbl&gt; |\n",
       "|---|---|---|---|---|---|---|\n",
       "| CLSPN.p.value | CLSPN   | 0.01067045 | 0.7083125 | 2.080869e-22 | 3.874113e-27 | 0.16798728 |\n",
       "| UGT2B17.p.value | UGT2B17 | 0.35707090 | 0.2344864 | 2.878330e-14 | 7.283254e-12 | 0.83378880 |\n",
       "| RHD.p.value | RHD     | 0.00115210 | 0.2301524 | 1.101590e-13 | 1.353829e-08 | 0.08125034 |\n",
       "| INCENP.p.value | INCENP  | 0.84213208 | 0.1793278 | 6.709175e-12 | 2.415207e-11 | 0.59390646 |\n",
       "| RIMS2.p.value | RIMS2   | 0.52574813 | 0.7838101 | 5.582087e-11 | 4.745656e-09 | 0.07273862 |\n",
       "| RPS5.p.value | RPS5    | 0.96346082 | 0.2640680 | 8.716616e-11 | 1.147246e-10 | 0.78515908 |\n",
       "\n"
      ],
      "text/plain": [
       "                gene    AFR        AMR       EAS          EUR         \n",
       "CLSPN.p.value   CLSPN   0.01067045 0.7083125 2.080869e-22 3.874113e-27\n",
       "UGT2B17.p.value UGT2B17 0.35707090 0.2344864 2.878330e-14 7.283254e-12\n",
       "RHD.p.value     RHD     0.00115210 0.2301524 1.101590e-13 1.353829e-08\n",
       "INCENP.p.value  INCENP  0.84213208 0.1793278 6.709175e-12 2.415207e-11\n",
       "RIMS2.p.value   RIMS2   0.52574813 0.7838101 5.582087e-11 4.745656e-09\n",
       "RPS5.p.value    RPS5    0.96346082 0.2640680 8.716616e-11 1.147246e-10\n",
       "                SAS       \n",
       "CLSPN.p.value   0.16798728\n",
       "UGT2B17.p.value 0.83378880\n",
       "RHD.p.value     0.08125034\n",
       "INCENP.p.value  0.59390646\n",
       "RIMS2.p.value   0.07273862\n",
       "RPS5.p.value    0.78515908"
      ]
     },
     "metadata": {},
     "output_type": "display_data"
    }
   ],
   "source": [
    "#Combine the uncorrected dataset together\n",
    "uncorrected.wilcox.pvals.df = cbind(names(uncorrected.afr.wilcox.pvals), uncorrected.afr.wilcox.pvals, uncorrected.amr.wilcox.pvals, uncorrected.eas.wilcox.pvals, uncorrected.eur.wilcox.pvals, uncorrected.sas.wilcox.pvals) %>%\n",
    "data.frame() %>%\n",
    "rename(\"gene\" = 1, \"AFR\" = 2, \"AMR\" = 3, \"EAS\" = 4, \"EUR\" = 5, \"SAS\" = 6) %>%\n",
    "mutate(AFR = as.numeric(AFR)) %>%\n",
    "mutate(AMR = as.numeric(AMR)) %>%\n",
    "mutate(EAS = as.numeric(EAS)) %>%\n",
    "mutate(EUR = as.numeric(EUR)) %>%\n",
    "mutate(SAS = as.numeric(SAS)) %>%\n",
    "mutate(gene = gsub(\"\\\\..*\", \"\", gene))\n",
    "\n",
    "uncorrected.wilcox.pvals.df %>% arrange(EAS) %>% head()"
   ]
  },
  {
   "cell_type": "markdown",
   "metadata": {},
   "source": [
    "# Compute p-values for the corrected datasets"
   ]
  },
  {
   "cell_type": "code",
   "execution_count": 10,
   "metadata": {},
   "outputs": [
    {
     "name": "stdout",
     "output_type": "stream",
     "text": [
      "[1] \"AFR Complete!\"\n",
      "[1] \"AMR Complete!\"\n",
      "[1] \"EAS Complete!\"\n",
      "[1] \"EUR Complete!\"\n",
      "[1] \"SAS Complete!\"\n"
     ]
    }
   ],
   "source": [
    "#Compute wilcoxon p-values for corrected afr\n",
    "afr.df =  corrected.merged.dataset %>% filter(AFR >= 0.5) %>% select(-c(1:7))\n",
    "non.afr.df =  corrected.merged.dataset %>% filter(AFR < 0.5) %>% select(-c(1:7))\n",
    "afr.wilcox.pvals = mapply(wilcox.test, x = afr.df, y = non.afr.df) %>% data.frame() %>% slice(3) %>% unlist()\n",
    "print(\"AFR Complete!\")\n",
    "\n",
    "#Compute wilcoxon p-values for corrected amr\n",
    "amr.df =  corrected.merged.dataset %>% filter(AMR >= 0.5) %>% select(-c(1:7))\n",
    "non.amr.df =  corrected.merged.dataset %>% filter(AMR < 0.5) %>% select(-c(1:7))\n",
    "amr.wilcox.pvals = mapply(wilcox.test, x = amr.df, y = non.amr.df) %>% data.frame() %>% slice(3) %>% unlist()\n",
    "print(\"AMR Complete!\")\n",
    "\n",
    "#Compute wilcoxon p-values for corrected eas\n",
    "eas.df =  corrected.merged.dataset %>% filter(EAS >= 0.5) %>% select(-c(1:7))\n",
    "non.eas.df =  corrected.merged.dataset %>% filter(EAS < 0.5) %>% select(-c(1:7))\n",
    "eas.wilcox.pvals = mapply(wilcox.test, x = eas.df, y = non.eas.df) %>% data.frame() %>% slice(3) %>% unlist()\n",
    "print(\"EAS Complete!\")\n",
    "\n",
    "#Compute wilcoxon p-values for corrected eur\n",
    "eur.df =  corrected.merged.dataset %>% filter(EUR >= 0.5) %>% select(-c(1:7))\n",
    "non.eur.df =  corrected.merged.dataset %>% filter(EUR < 0.5) %>% select(-c(1:7))\n",
    "eur.wilcox.pvals = mapply(wilcox.test, x = eur.df, y = non.eur.df) %>% data.frame() %>% slice(3) %>% unlist()\n",
    "print(\"EUR Complete!\")\n",
    "\n",
    "#Compute wilcoxon p-values for corrected sas\n",
    "sas.df =  corrected.merged.dataset %>% filter(SAS >= 0.5) %>% select(-c(1:7))\n",
    "non.sas.df =  corrected.merged.dataset %>% filter(SAS < 0.5) %>% select(-c(1:7))\n",
    "sas.wilcox.pvals = mapply(wilcox.test, x = sas.df, y = non.sas.df) %>% data.frame() %>% slice(3) %>% unlist()\n",
    "print(\"SAS Complete!\")"
   ]
  },
  {
   "cell_type": "code",
   "execution_count": 63,
   "metadata": {},
   "outputs": [
    {
     "data": {
      "text/html": [
       "<table class=\"dataframe\">\n",
       "<caption>A data.frame: 6 × 6</caption>\n",
       "<thead>\n",
       "\t<tr><th></th><th scope=col>gene</th><th scope=col>AFR</th><th scope=col>AMR</th><th scope=col>EAS</th><th scope=col>EUR</th><th scope=col>SAS</th></tr>\n",
       "\t<tr><th></th><th scope=col>&lt;chr&gt;</th><th scope=col>&lt;dbl&gt;</th><th scope=col>&lt;dbl&gt;</th><th scope=col>&lt;dbl&gt;</th><th scope=col>&lt;dbl&gt;</th><th scope=col>&lt;dbl&gt;</th></tr>\n",
       "</thead>\n",
       "<tbody>\n",
       "\t<tr><th scope=row>CBS.p.value</th><td>CBS     </td><td>0.56416361</td><td>0.2906301</td><td>1.179645e-13</td><td>9.526866e-13</td><td>0.3183065</td></tr>\n",
       "\t<tr><th scope=row>XCL1.p.value</th><td>XCL1    </td><td>0.02495873</td><td>0.2372857</td><td>2.179269e-13</td><td>2.122877e-10</td><td>0.9488354</td></tr>\n",
       "\t<tr><th scope=row>CCDC74B.p.value</th><td>CCDC74B </td><td>0.59595001</td><td>0.1521683</td><td>1.326276e-12</td><td>2.716054e-12</td><td>0.5428543</td></tr>\n",
       "\t<tr><th scope=row>LRRC37A2.p.value</th><td>LRRC37A2</td><td>0.37729790</td><td>0.9153449</td><td>5.076071e-12</td><td>3.450732e-12</td><td>0.2753262</td></tr>\n",
       "\t<tr><th scope=row>RHD.p.value</th><td>RHD     </td><td>0.03559869</td><td>0.2551088</td><td>3.338977e-11</td><td>5.657845e-08</td><td>0.1763812</td></tr>\n",
       "\t<tr><th scope=row>OR2T5.p.value</th><td>OR2T5   </td><td>0.54399162</td><td>0.4682456</td><td>1.311036e-10</td><td>6.542644e-11</td><td>0.1865002</td></tr>\n",
       "</tbody>\n",
       "</table>\n"
      ],
      "text/latex": [
       "A data.frame: 6 × 6\n",
       "\\begin{tabular}{r|llllll}\n",
       "  & gene & AFR & AMR & EAS & EUR & SAS\\\\\n",
       "  & <chr> & <dbl> & <dbl> & <dbl> & <dbl> & <dbl>\\\\\n",
       "\\hline\n",
       "\tCBS.p.value & CBS      & 0.56416361 & 0.2906301 & 1.179645e-13 & 9.526866e-13 & 0.3183065\\\\\n",
       "\tXCL1.p.value & XCL1     & 0.02495873 & 0.2372857 & 2.179269e-13 & 2.122877e-10 & 0.9488354\\\\\n",
       "\tCCDC74B.p.value & CCDC74B  & 0.59595001 & 0.1521683 & 1.326276e-12 & 2.716054e-12 & 0.5428543\\\\\n",
       "\tLRRC37A2.p.value & LRRC37A2 & 0.37729790 & 0.9153449 & 5.076071e-12 & 3.450732e-12 & 0.2753262\\\\\n",
       "\tRHD.p.value & RHD      & 0.03559869 & 0.2551088 & 3.338977e-11 & 5.657845e-08 & 0.1763812\\\\\n",
       "\tOR2T5.p.value & OR2T5    & 0.54399162 & 0.4682456 & 1.311036e-10 & 6.542644e-11 & 0.1865002\\\\\n",
       "\\end{tabular}\n"
      ],
      "text/markdown": [
       "\n",
       "A data.frame: 6 × 6\n",
       "\n",
       "| <!--/--> | gene &lt;chr&gt; | AFR &lt;dbl&gt; | AMR &lt;dbl&gt; | EAS &lt;dbl&gt; | EUR &lt;dbl&gt; | SAS &lt;dbl&gt; |\n",
       "|---|---|---|---|---|---|---|\n",
       "| CBS.p.value | CBS      | 0.56416361 | 0.2906301 | 1.179645e-13 | 9.526866e-13 | 0.3183065 |\n",
       "| XCL1.p.value | XCL1     | 0.02495873 | 0.2372857 | 2.179269e-13 | 2.122877e-10 | 0.9488354 |\n",
       "| CCDC74B.p.value | CCDC74B  | 0.59595001 | 0.1521683 | 1.326276e-12 | 2.716054e-12 | 0.5428543 |\n",
       "| LRRC37A2.p.value | LRRC37A2 | 0.37729790 | 0.9153449 | 5.076071e-12 | 3.450732e-12 | 0.2753262 |\n",
       "| RHD.p.value | RHD      | 0.03559869 | 0.2551088 | 3.338977e-11 | 5.657845e-08 | 0.1763812 |\n",
       "| OR2T5.p.value | OR2T5    | 0.54399162 | 0.4682456 | 1.311036e-10 | 6.542644e-11 | 0.1865002 |\n",
       "\n"
      ],
      "text/plain": [
       "                 gene     AFR        AMR       EAS          EUR         \n",
       "CBS.p.value      CBS      0.56416361 0.2906301 1.179645e-13 9.526866e-13\n",
       "XCL1.p.value     XCL1     0.02495873 0.2372857 2.179269e-13 2.122877e-10\n",
       "CCDC74B.p.value  CCDC74B  0.59595001 0.1521683 1.326276e-12 2.716054e-12\n",
       "LRRC37A2.p.value LRRC37A2 0.37729790 0.9153449 5.076071e-12 3.450732e-12\n",
       "RHD.p.value      RHD      0.03559869 0.2551088 3.338977e-11 5.657845e-08\n",
       "OR2T5.p.value    OR2T5    0.54399162 0.4682456 1.311036e-10 6.542644e-11\n",
       "                 SAS      \n",
       "CBS.p.value      0.3183065\n",
       "XCL1.p.value     0.9488354\n",
       "CCDC74B.p.value  0.5428543\n",
       "LRRC37A2.p.value 0.2753262\n",
       "RHD.p.value      0.1763812\n",
       "OR2T5.p.value    0.1865002"
      ]
     },
     "metadata": {},
     "output_type": "display_data"
    }
   ],
   "source": [
    "#Combine the corrected dataset together\n",
    "corrected.wilcox.pvals.df = cbind(names(afr.wilcox.pvals), afr.wilcox.pvals, amr.wilcox.pvals, eas.wilcox.pvals, eur.wilcox.pvals, sas.wilcox.pvals) %>%\n",
    "data.frame() %>%\n",
    "rename(\"gene\" = 1, \"AFR\" = 2, \"AMR\" = 3, \"EAS\" = 4, \"EUR\" = 5, \"SAS\" = 6) %>%\n",
    "mutate(AFR = as.numeric(AFR)) %>%\n",
    "mutate(AMR = as.numeric(AMR)) %>%\n",
    "mutate(EAS = as.numeric(EAS)) %>%\n",
    "mutate(EUR = as.numeric(EUR)) %>%\n",
    "mutate(SAS = as.numeric(SAS)) %>%\n",
    "mutate(gene = gsub(\"\\\\..*\", \"\", gene))"
   ]
  },
  {
   "cell_type": "code",
   "execution_count": 65,
   "metadata": {
    "scrolled": true
   },
   "outputs": [
    {
     "name": "stderr",
     "output_type": "stream",
     "text": [
      "Using gene as id variables\n",
      "\n",
      "Using gene as id variables\n",
      "\n"
     ]
    },
    {
     "data": {
      "text/html": [
       "<table class=\"dataframe\">\n",
       "<caption>A data.frame: 6 × 4</caption>\n",
       "<thead>\n",
       "\t<tr><th></th><th scope=col>gene</th><th scope=col>variable</th><th scope=col>value</th><th scope=col>fdr</th></tr>\n",
       "\t<tr><th></th><th scope=col>&lt;chr&gt;</th><th scope=col>&lt;fct&gt;</th><th scope=col>&lt;dbl&gt;</th><th scope=col>&lt;dbl&gt;</th></tr>\n",
       "</thead>\n",
       "<tbody>\n",
       "\t<tr><th scope=row>1</th><td>A1BG   </td><td>AFR</td><td>0.06352433</td><td>0.8523017</td></tr>\n",
       "\t<tr><th scope=row>2</th><td>A1CF   </td><td>AFR</td><td>0.38001646</td><td>0.8991668</td></tr>\n",
       "\t<tr><th scope=row>3</th><td>A2M    </td><td>AFR</td><td>0.87089536</td><td>0.9893269</td></tr>\n",
       "\t<tr><th scope=row>4</th><td>A2ML1  </td><td>AFR</td><td>0.33230561</td><td>0.8834758</td></tr>\n",
       "\t<tr><th scope=row>5</th><td>A3GALT2</td><td>AFR</td><td>0.32238916</td><td>0.8789649</td></tr>\n",
       "\t<tr><th scope=row>6</th><td>A4GALT </td><td>AFR</td><td>0.36322306</td><td>0.8940203</td></tr>\n",
       "</tbody>\n",
       "</table>\n"
      ],
      "text/latex": [
       "A data.frame: 6 × 4\n",
       "\\begin{tabular}{r|llll}\n",
       "  & gene & variable & value & fdr\\\\\n",
       "  & <chr> & <fct> & <dbl> & <dbl>\\\\\n",
       "\\hline\n",
       "\t1 & A1BG    & AFR & 0.06352433 & 0.8523017\\\\\n",
       "\t2 & A1CF    & AFR & 0.38001646 & 0.8991668\\\\\n",
       "\t3 & A2M     & AFR & 0.87089536 & 0.9893269\\\\\n",
       "\t4 & A2ML1   & AFR & 0.33230561 & 0.8834758\\\\\n",
       "\t5 & A3GALT2 & AFR & 0.32238916 & 0.8789649\\\\\n",
       "\t6 & A4GALT  & AFR & 0.36322306 & 0.8940203\\\\\n",
       "\\end{tabular}\n"
      ],
      "text/markdown": [
       "\n",
       "A data.frame: 6 × 4\n",
       "\n",
       "| <!--/--> | gene &lt;chr&gt; | variable &lt;fct&gt; | value &lt;dbl&gt; | fdr &lt;dbl&gt; |\n",
       "|---|---|---|---|---|\n",
       "| 1 | A1BG    | AFR | 0.06352433 | 0.8523017 |\n",
       "| 2 | A1CF    | AFR | 0.38001646 | 0.8991668 |\n",
       "| 3 | A2M     | AFR | 0.87089536 | 0.9893269 |\n",
       "| 4 | A2ML1   | AFR | 0.33230561 | 0.8834758 |\n",
       "| 5 | A3GALT2 | AFR | 0.32238916 | 0.8789649 |\n",
       "| 6 | A4GALT  | AFR | 0.36322306 | 0.8940203 |\n",
       "\n"
      ],
      "text/plain": [
       "  gene    variable value      fdr      \n",
       "1 A1BG    AFR      0.06352433 0.8523017\n",
       "2 A1CF    AFR      0.38001646 0.8991668\n",
       "3 A2M     AFR      0.87089536 0.9893269\n",
       "4 A2ML1   AFR      0.33230561 0.8834758\n",
       "5 A3GALT2 AFR      0.32238916 0.8789649\n",
       "6 A4GALT  AFR      0.36322306 0.8940203"
      ]
     },
     "metadata": {},
     "output_type": "display_data"
    },
    {
     "data": {
      "text/html": [
       "<table class=\"dataframe\">\n",
       "<caption>A data.frame: 6 × 4</caption>\n",
       "<thead>\n",
       "\t<tr><th></th><th scope=col>gene</th><th scope=col>variable</th><th scope=col>value</th><th scope=col>fdr</th></tr>\n",
       "\t<tr><th></th><th scope=col>&lt;chr&gt;</th><th scope=col>&lt;fct&gt;</th><th scope=col>&lt;dbl&gt;</th><th scope=col>&lt;dbl&gt;</th></tr>\n",
       "</thead>\n",
       "<tbody>\n",
       "\t<tr><th scope=row>1</th><td>A1BG   </td><td>AFR</td><td>0.07711508</td><td>0.8260168</td></tr>\n",
       "\t<tr><th scope=row>2</th><td>A1CF   </td><td>AFR</td><td>0.01553919</td><td>0.7618980</td></tr>\n",
       "\t<tr><th scope=row>3</th><td>A2M    </td><td>AFR</td><td>0.82128228</td><td>0.9772790</td></tr>\n",
       "\t<tr><th scope=row>4</th><td>A2ML1  </td><td>AFR</td><td>0.66475156</td><td>0.9475206</td></tr>\n",
       "\t<tr><th scope=row>5</th><td>A3GALT2</td><td>AFR</td><td>0.89568474</td><td>0.9866868</td></tr>\n",
       "\t<tr><th scope=row>6</th><td>A4GALT </td><td>AFR</td><td>0.52781139</td><td>0.9159267</td></tr>\n",
       "</tbody>\n",
       "</table>\n"
      ],
      "text/latex": [
       "A data.frame: 6 × 4\n",
       "\\begin{tabular}{r|llll}\n",
       "  & gene & variable & value & fdr\\\\\n",
       "  & <chr> & <fct> & <dbl> & <dbl>\\\\\n",
       "\\hline\n",
       "\t1 & A1BG    & AFR & 0.07711508 & 0.8260168\\\\\n",
       "\t2 & A1CF    & AFR & 0.01553919 & 0.7618980\\\\\n",
       "\t3 & A2M     & AFR & 0.82128228 & 0.9772790\\\\\n",
       "\t4 & A2ML1   & AFR & 0.66475156 & 0.9475206\\\\\n",
       "\t5 & A3GALT2 & AFR & 0.89568474 & 0.9866868\\\\\n",
       "\t6 & A4GALT  & AFR & 0.52781139 & 0.9159267\\\\\n",
       "\\end{tabular}\n"
      ],
      "text/markdown": [
       "\n",
       "A data.frame: 6 × 4\n",
       "\n",
       "| <!--/--> | gene &lt;chr&gt; | variable &lt;fct&gt; | value &lt;dbl&gt; | fdr &lt;dbl&gt; |\n",
       "|---|---|---|---|---|\n",
       "| 1 | A1BG    | AFR | 0.07711508 | 0.8260168 |\n",
       "| 2 | A1CF    | AFR | 0.01553919 | 0.7618980 |\n",
       "| 3 | A2M     | AFR | 0.82128228 | 0.9772790 |\n",
       "| 4 | A2ML1   | AFR | 0.66475156 | 0.9475206 |\n",
       "| 5 | A3GALT2 | AFR | 0.89568474 | 0.9866868 |\n",
       "| 6 | A4GALT  | AFR | 0.52781139 | 0.9159267 |\n",
       "\n"
      ],
      "text/plain": [
       "  gene    variable value      fdr      \n",
       "1 A1BG    AFR      0.07711508 0.8260168\n",
       "2 A1CF    AFR      0.01553919 0.7618980\n",
       "3 A2M     AFR      0.82128228 0.9772790\n",
       "4 A2ML1   AFR      0.66475156 0.9475206\n",
       "5 A3GALT2 AFR      0.89568474 0.9866868\n",
       "6 A4GALT  AFR      0.52781139 0.9159267"
      ]
     },
     "metadata": {},
     "output_type": "display_data"
    },
    {
     "data": {
      "text/html": [
       "<style>\n",
       ".list-inline {list-style: none; margin:0; padding: 0}\n",
       ".list-inline>li {display: inline-block}\n",
       ".list-inline>li:not(:last-child)::after {content: \"\\00b7\"; padding: 0 .5ex}\n",
       "</style>\n",
       "<ol class=list-inline><li>86650</li><li>4</li></ol>\n"
      ],
      "text/latex": [
       "\\begin{enumerate*}\n",
       "\\item 86650\n",
       "\\item 4\n",
       "\\end{enumerate*}\n"
      ],
      "text/markdown": [
       "1. 86650\n",
       "2. 4\n",
       "\n",
       "\n"
      ],
      "text/plain": [
       "[1] 86650     4"
      ]
     },
     "metadata": {},
     "output_type": "display_data"
    },
    {
     "data": {
      "text/html": [
       "<style>\n",
       ".list-inline {list-style: none; margin:0; padding: 0}\n",
       ".list-inline>li {display: inline-block}\n",
       ".list-inline>li:not(:last-child)::after {content: \"\\00b7\"; padding: 0 .5ex}\n",
       "</style>\n",
       "<ol class=list-inline><li>86650</li><li>4</li></ol>\n"
      ],
      "text/latex": [
       "\\begin{enumerate*}\n",
       "\\item 86650\n",
       "\\item 4\n",
       "\\end{enumerate*}\n"
      ],
      "text/markdown": [
       "1. 86650\n",
       "2. 4\n",
       "\n",
       "\n"
      ],
      "text/plain": [
       "[1] 86650     4"
      ]
     },
     "metadata": {},
     "output_type": "display_data"
    }
   ],
   "source": [
    "#Get the intersecting genes between the two datasets\n",
    "intersecting.genes = intersect(corrected.wilcox.pvals.df$gene, uncorrected.wilcox.pvals.df$gene)\n",
    "\n",
    "#Filter the two datasets to only include these genes, melt, then calculate the fdr\n",
    "corrected.fdr = corrected.wilcox.pvals.df %>%\n",
    "filter(gene %in% intersecting.genes) %>%\n",
    "distinct(gene, .keep_all = TRUE) %>%\n",
    "arrange(gene) %>%\n",
    "melt() %>%\n",
    "mutate(fdr = p.adjust(value, method = \"BH\", n = length(value)))\n",
    "\n",
    "\n",
    "uncorrected.fdr = uncorrected.wilcox.pvals.df %>%\n",
    "filter(gene %in% intersecting.genes) %>%\n",
    "distinct(gene, .keep_all = TRUE) %>%\n",
    "arrange(gene) %>%\n",
    "melt() %>%\n",
    "mutate(fdr = p.adjust(value, method = \"BH\", n = length(value)))"
   ]
  },
  {
   "cell_type": "code",
   "execution_count": 71,
   "metadata": {},
   "outputs": [
    {
     "data": {
      "image/png": "[encoded data removed]",
      "text/plain": [
       "plot without title"
      ]
     },
     "metadata": {
      "image/png": {
       "height": 420,
       "width": 420
      }
     },
     "output_type": "display_data"
    }
   ],
   "source": [
    "#Plot the plot!\n",
    "uncorrected.fdr %>%\n",
    "mutate(corrected_value = corrected.fdr$value) %>%\n",
    "mutate(corrected_fdr = corrected.fdr$fdr) %>%\n",
    "\n",
    "ggplot() +\n",
    "geom_point(aes(x = -log10(value), y = -log10(corrected_value), color = variable)) +\n",
    "\n",
    "scale_x_continuous(limits = c(0, 30)) +\n",
    "scale_y_continuous(limits = c(0, 30))\n"
   ]
  },
  {
   "cell_type": "code",
   "execution_count": 78,
   "metadata": {},
   "outputs": [
    {
     "data": {
      "text/html": [
       "<style>\n",
       ".list-inline {list-style: none; margin:0; padding: 0}\n",
       ".list-inline>li {display: inline-block}\n",
       ".list-inline>li:not(:last-child)::after {content: \"\\00b7\"; padding: 0 .5ex}\n",
       "</style>\n",
       "<ol class=list-inline><li>'EEF2'</li><li>'NUP133'</li><li>'RESP18'</li><li>'ACAN'</li><li>'ADCY3'</li><li>'BTG1'</li><li>'C22orf31'</li><li>'C2orf80'</li><li>'CBFA2T2'</li><li>'CCDC102B'</li><li>'CCDC74B'</li><li>'CCL3'</li><li>'CEP19'</li><li>'CHGB'</li><li>'CLSPN'</li><li>'COX6B1'</li><li>'DCN'</li><li>'DDX47'</li><li>'DND1'</li><li>'ECD'</li><li>'EGFR'</li><li>'FAM25A'</li><li>'FCGR3A'</li><li>'FRG2C'</li><li>'GLYCTK'</li><li>'GRB2'</li><li>'GTPBP3'</li><li>'HCN2'</li><li>'HINT3'</li><li>'HIST1H2AA'</li><li>'HLA'</li><li>'HNF1B'</li><li>'INCENP'</li><li>'ITGA3'</li><li>'ITIH3'</li><li>'KIAA2013'</li><li>'MATR3'</li><li>'MRTO4'</li><li>'MYH11'</li><li>'NAA40'</li><li>'NIT2'</li><li>'NKAIN4'</li><li>'NOP56'</li><li>'NPEPPS'</li><li>'NPHS1'</li><li>'PDXDC1'</li><li>'PEX11A'</li><li>'PTPN11'</li><li>'QRICH2'</li><li>'RAB21'</li><li>'RETNLB'</li><li>'RHD'</li><li>'RIMS2'</li><li>'RPL3'</li><li>'RPS5'</li><li>'RTP5'</li><li>'SART1'</li><li>'SCN5A'</li><li>'SLC10A5'</li><li>'SLC35B2'</li><li>'SLC38A7'</li><li>'SLC5A11'</li><li>'SNAP23'</li><li>'SPATA6L'</li><li>'SRP14'</li><li>'STX4'</li><li>'STXBP3'</li><li>'TPSD1'</li><li>'TRMT61B'</li><li>'TTC4'</li><li>'TUT1'</li><li>'TXNRD1'</li><li>'UGT2B17'</li><li>'VRK1'</li><li>'WSB2'</li><li>'ZNF675'</li><li>'APEX2'</li><li>'ATRX'</li><li>'C17orf64'</li><li>'COPG1'</li><li>'CSE1L'</li><li>'DEFB108B'</li><li>'ERI1'</li><li>'FAM86C1'</li><li>'IL1RN'</li><li>'KRT14'</li><li>'LPAR6'</li><li>'MDN1'</li><li>'NOMO2'</li><li>'PCBP4'</li><li>'PSPH'</li><li>'RPP30'</li><li>'SERINC2'</li><li>'XYLT2'</li><li>'ZFP62'</li></ol>\n"
      ],
      "text/latex": [
       "\\begin{enumerate*}\n",
       "\\item 'EEF2'\n",
       "\\item 'NUP133'\n",
       "\\item 'RESP18'\n",
       "\\item 'ACAN'\n",
       "\\item 'ADCY3'\n",
       "\\item 'BTG1'\n",
       "\\item 'C22orf31'\n",
       "\\item 'C2orf80'\n",
       "\\item 'CBFA2T2'\n",
       "\\item 'CCDC102B'\n",
       "\\item 'CCDC74B'\n",
       "\\item 'CCL3'\n",
       "\\item 'CEP19'\n",
       "\\item 'CHGB'\n",
       "\\item 'CLSPN'\n",
       "\\item 'COX6B1'\n",
       "\\item 'DCN'\n",
       "\\item 'DDX47'\n",
       "\\item 'DND1'\n",
       "\\item 'ECD'\n",
       "\\item 'EGFR'\n",
       "\\item 'FAM25A'\n",
       "\\item 'FCGR3A'\n",
       "\\item 'FRG2C'\n",
       "\\item 'GLYCTK'\n",
       "\\item 'GRB2'\n",
       "\\item 'GTPBP3'\n",
       "\\item 'HCN2'\n",
       "\\item 'HINT3'\n",
       "\\item 'HIST1H2AA'\n",
       "\\item 'HLA'\n",
       "\\item 'HNF1B'\n",
       "\\item 'INCENP'\n",
       "\\item 'ITGA3'\n",
       "\\item 'ITIH3'\n",
       "\\item 'KIAA2013'\n",
       "\\item 'MATR3'\n",
       "\\item 'MRTO4'\n",
       "\\item 'MYH11'\n",
       "\\item 'NAA40'\n",
       "\\item 'NIT2'\n",
       "\\item 'NKAIN4'\n",
       "\\item 'NOP56'\n",
       "\\item 'NPEPPS'\n",
       "\\item 'NPHS1'\n",
       "\\item 'PDXDC1'\n",
       "\\item 'PEX11A'\n",
       "\\item 'PTPN11'\n",
       "\\item 'QRICH2'\n",
       "\\item 'RAB21'\n",
       "\\item 'RETNLB'\n",
       "\\item 'RHD'\n",
       "\\item 'RIMS2'\n",
       "\\item 'RPL3'\n",
       "\\item 'RPS5'\n",
       "\\item 'RTP5'\n",
       "\\item 'SART1'\n",
       "\\item 'SCN5A'\n",
       "\\item 'SLC10A5'\n",
       "\\item 'SLC35B2'\n",
       "\\item 'SLC38A7'\n",
       "\\item 'SLC5A11'\n",
       "\\item 'SNAP23'\n",
       "\\item 'SPATA6L'\n",
       "\\item 'SRP14'\n",
       "\\item 'STX4'\n",
       "\\item 'STXBP3'\n",
       "\\item 'TPSD1'\n",
       "\\item 'TRMT61B'\n",
       "\\item 'TTC4'\n",
       "\\item 'TUT1'\n",
       "\\item 'TXNRD1'\n",
       "\\item 'UGT2B17'\n",
       "\\item 'VRK1'\n",
       "\\item 'WSB2'\n",
       "\\item 'ZNF675'\n",
       "\\item 'APEX2'\n",
       "\\item 'ATRX'\n",
       "\\item 'C17orf64'\n",
       "\\item 'COPG1'\n",
       "\\item 'CSE1L'\n",
       "\\item 'DEFB108B'\n",
       "\\item 'ERI1'\n",
       "\\item 'FAM86C1'\n",
       "\\item 'IL1RN'\n",
       "\\item 'KRT14'\n",
       "\\item 'LPAR6'\n",
       "\\item 'MDN1'\n",
       "\\item 'NOMO2'\n",
       "\\item 'PCBP4'\n",
       "\\item 'PSPH'\n",
       "\\item 'RPP30'\n",
       "\\item 'SERINC2'\n",
       "\\item 'XYLT2'\n",
       "\\item 'ZFP62'\n",
       "\\end{enumerate*}\n"
      ],
      "text/markdown": [
       "1. 'EEF2'\n",
       "2. 'NUP133'\n",
       "3. 'RESP18'\n",
       "4. 'ACAN'\n",
       "5. 'ADCY3'\n",
       "6. 'BTG1'\n",
       "7. 'C22orf31'\n",
       "8. 'C2orf80'\n",
       "9. 'CBFA2T2'\n",
       "10. 'CCDC102B'\n",
       "11. 'CCDC74B'\n",
       "12. 'CCL3'\n",
       "13. 'CEP19'\n",
       "14. 'CHGB'\n",
       "15. 'CLSPN'\n",
       "16. 'COX6B1'\n",
       "17. 'DCN'\n",
       "18. 'DDX47'\n",
       "19. 'DND1'\n",
       "20. 'ECD'\n",
       "21. 'EGFR'\n",
       "22. 'FAM25A'\n",
       "23. 'FCGR3A'\n",
       "24. 'FRG2C'\n",
       "25. 'GLYCTK'\n",
       "26. 'GRB2'\n",
       "27. 'GTPBP3'\n",
       "28. 'HCN2'\n",
       "29. 'HINT3'\n",
       "30. 'HIST1H2AA'\n",
       "31. 'HLA'\n",
       "32. 'HNF1B'\n",
       "33. 'INCENP'\n",
       "34. 'ITGA3'\n",
       "35. 'ITIH3'\n",
       "36. 'KIAA2013'\n",
       "37. 'MATR3'\n",
       "38. 'MRTO4'\n",
       "39. 'MYH11'\n",
       "40. 'NAA40'\n",
       "41. 'NIT2'\n",
       "42. 'NKAIN4'\n",
       "43. 'NOP56'\n",
       "44. 'NPEPPS'\n",
       "45. 'NPHS1'\n",
       "46. 'PDXDC1'\n",
       "47. 'PEX11A'\n",
       "48. 'PTPN11'\n",
       "49. 'QRICH2'\n",
       "50. 'RAB21'\n",
       "51. 'RETNLB'\n",
       "52. 'RHD'\n",
       "53. 'RIMS2'\n",
       "54. 'RPL3'\n",
       "55. 'RPS5'\n",
       "56. 'RTP5'\n",
       "57. 'SART1'\n",
       "58. 'SCN5A'\n",
       "59. 'SLC10A5'\n",
       "60. 'SLC35B2'\n",
       "61. 'SLC38A7'\n",
       "62. 'SLC5A11'\n",
       "63. 'SNAP23'\n",
       "64. 'SPATA6L'\n",
       "65. 'SRP14'\n",
       "66. 'STX4'\n",
       "67. 'STXBP3'\n",
       "68. 'TPSD1'\n",
       "69. 'TRMT61B'\n",
       "70. 'TTC4'\n",
       "71. 'TUT1'\n",
       "72. 'TXNRD1'\n",
       "73. 'UGT2B17'\n",
       "74. 'VRK1'\n",
       "75. 'WSB2'\n",
       "76. 'ZNF675'\n",
       "77. 'APEX2'\n",
       "78. 'ATRX'\n",
       "79. 'C17orf64'\n",
       "80. 'COPG1'\n",
       "81. 'CSE1L'\n",
       "82. 'DEFB108B'\n",
       "83. 'ERI1'\n",
       "84. 'FAM86C1'\n",
       "85. 'IL1RN'\n",
       "86. 'KRT14'\n",
       "87. 'LPAR6'\n",
       "88. 'MDN1'\n",
       "89. 'NOMO2'\n",
       "90. 'PCBP4'\n",
       "91. 'PSPH'\n",
       "92. 'RPP30'\n",
       "93. 'SERINC2'\n",
       "94. 'XYLT2'\n",
       "95. 'ZFP62'\n",
       "\n",
       "\n"
      ],
      "text/plain": [
       " [1] \"EEF2\"      \"NUP133\"    \"RESP18\"    \"ACAN\"      \"ADCY3\"     \"BTG1\"     \n",
       " [7] \"C22orf31\"  \"C2orf80\"   \"CBFA2T2\"   \"CCDC102B\"  \"CCDC74B\"   \"CCL3\"     \n",
       "[13] \"CEP19\"     \"CHGB\"      \"CLSPN\"     \"COX6B1\"    \"DCN\"       \"DDX47\"    \n",
       "[19] \"DND1\"      \"ECD\"       \"EGFR\"      \"FAM25A\"    \"FCGR3A\"    \"FRG2C\"    \n",
       "[25] \"GLYCTK\"    \"GRB2\"      \"GTPBP3\"    \"HCN2\"      \"HINT3\"     \"HIST1H2AA\"\n",
       "[31] \"HLA\"       \"HNF1B\"     \"INCENP\"    \"ITGA3\"     \"ITIH3\"     \"KIAA2013\" \n",
       "[37] \"MATR3\"     \"MRTO4\"     \"MYH11\"     \"NAA40\"     \"NIT2\"      \"NKAIN4\"   \n",
       "[43] \"NOP56\"     \"NPEPPS\"    \"NPHS1\"     \"PDXDC1\"    \"PEX11A\"    \"PTPN11\"   \n",
       "[49] \"QRICH2\"    \"RAB21\"     \"RETNLB\"    \"RHD\"       \"RIMS2\"     \"RPL3\"     \n",
       "[55] \"RPS5\"      \"RTP5\"      \"SART1\"     \"SCN5A\"     \"SLC10A5\"   \"SLC35B2\"  \n",
       "[61] \"SLC38A7\"   \"SLC5A11\"   \"SNAP23\"    \"SPATA6L\"   \"SRP14\"     \"STX4\"     \n",
       "[67] \"STXBP3\"    \"TPSD1\"     \"TRMT61B\"   \"TTC4\"      \"TUT1\"      \"TXNRD1\"   \n",
       "[73] \"UGT2B17\"   \"VRK1\"      \"WSB2\"      \"ZNF675\"    \"APEX2\"     \"ATRX\"     \n",
       "[79] \"C17orf64\"  \"COPG1\"     \"CSE1L\"     \"DEFB108B\"  \"ERI1\"      \"FAM86C1\"  \n",
       "[85] \"IL1RN\"     \"KRT14\"     \"LPAR6\"     \"MDN1\"      \"NOMO2\"     \"PCBP4\"    \n",
       "[91] \"PSPH\"      \"RPP30\"     \"SERINC2\"   \"XYLT2\"     \"ZFP62\"    "
      ]
     },
     "metadata": {},
     "output_type": "display_data"
    },
    {
     "data": {
      "text/html": [
       "<style>\n",
       ".list-inline {list-style: none; margin:0; padding: 0}\n",
       ".list-inline>li {display: inline-block}\n",
       ".list-inline>li:not(:last-child)::after {content: \"\\00b7\"; padding: 0 .5ex}\n",
       "</style>\n",
       "<ol class=list-inline><li>'DHRS4'</li><li>'RESP18'</li><li>'AKR1B10'</li><li>'ARSG'</li><li>'C2orf80'</li><li>'CCDC74B'</li><li>'CCL3'</li><li>'FCGR3A'</li><li>'FRG2C'</li><li>'GRB2'</li><li>'KRT6B'</li><li>'MESP1'</li><li>'NPEPPS'</li><li>'PDXDC1'</li><li>'PTPN11'</li><li>'RHD'</li><li>'RRP7A'</li><li>'SNAP23'</li><li>'SRP14'</li><li>'UGT2B17'</li><li>'ZYG11A'</li><li>'VRK1'</li></ol>\n"
      ],
      "text/latex": [
       "\\begin{enumerate*}\n",
       "\\item 'DHRS4'\n",
       "\\item 'RESP18'\n",
       "\\item 'AKR1B10'\n",
       "\\item 'ARSG'\n",
       "\\item 'C2orf80'\n",
       "\\item 'CCDC74B'\n",
       "\\item 'CCL3'\n",
       "\\item 'FCGR3A'\n",
       "\\item 'FRG2C'\n",
       "\\item 'GRB2'\n",
       "\\item 'KRT6B'\n",
       "\\item 'MESP1'\n",
       "\\item 'NPEPPS'\n",
       "\\item 'PDXDC1'\n",
       "\\item 'PTPN11'\n",
       "\\item 'RHD'\n",
       "\\item 'RRP7A'\n",
       "\\item 'SNAP23'\n",
       "\\item 'SRP14'\n",
       "\\item 'UGT2B17'\n",
       "\\item 'ZYG11A'\n",
       "\\item 'VRK1'\n",
       "\\end{enumerate*}\n"
      ],
      "text/markdown": [
       "1. 'DHRS4'\n",
       "2. 'RESP18'\n",
       "3. 'AKR1B10'\n",
       "4. 'ARSG'\n",
       "5. 'C2orf80'\n",
       "6. 'CCDC74B'\n",
       "7. 'CCL3'\n",
       "8. 'FCGR3A'\n",
       "9. 'FRG2C'\n",
       "10. 'GRB2'\n",
       "11. 'KRT6B'\n",
       "12. 'MESP1'\n",
       "13. 'NPEPPS'\n",
       "14. 'PDXDC1'\n",
       "15. 'PTPN11'\n",
       "16. 'RHD'\n",
       "17. 'RRP7A'\n",
       "18. 'SNAP23'\n",
       "19. 'SRP14'\n",
       "20. 'UGT2B17'\n",
       "21. 'ZYG11A'\n",
       "22. 'VRK1'\n",
       "\n",
       "\n"
      ],
      "text/plain": [
       " [1] \"DHRS4\"   \"RESP18\"  \"AKR1B10\" \"ARSG\"    \"C2orf80\" \"CCDC74B\" \"CCL3\"   \n",
       " [8] \"FCGR3A\"  \"FRG2C\"   \"GRB2\"    \"KRT6B\"   \"MESP1\"   \"NPEPPS\"  \"PDXDC1\" \n",
       "[15] \"PTPN11\"  \"RHD\"     \"RRP7A\"   \"SNAP23\"  \"SRP14\"   \"UGT2B17\" \"ZYG11A\" \n",
       "[22] \"VRK1\"   "
      ]
     },
     "metadata": {},
     "output_type": "display_data"
    }
   ],
   "source": [
    "uncorrected.fdr %>%\n",
    "filter(fdr < 0.05) %>%\n",
    "pull(gene) %>%\n",
    "unique() \n",
    "\n",
    "corrected.fdr %>%\n",
    "filter(fdr < 0.05) %>%\n",
    "pull(gene) %>%\n",
    "unique() "
   ]
  },
  {
   "cell_type": "code",
   "execution_count": null,
   "metadata": {},
   "outputs": [],
   "source": []
  }
 ],
 "metadata": {
  "kernelspec": {
   "display_name": "R",
   "language": "R",
   "name": "ir"
  },
  "language_info": {
   "codemirror_mode": "r",
   "file_extension": ".r",
   "mimetype": "text/x-r-source",
   "name": "R",
   "pygments_lexer": "r",
   "version": "4.1.2"
  },
  "toc": {
   "base_numbering": 1,
   "nav_menu": {},
   "number_sections": true,
   "sideBar": true,
   "skip_h1_title": false,
   "title_cell": "Table of Contents",
   "title_sidebar": "Contents",
   "toc_cell": false,
   "toc_position": {},
   "toc_section_display": true,
   "toc_window_display": false
  }
 },
 "nbformat": 4,
 "nbformat_minor": 2
}
