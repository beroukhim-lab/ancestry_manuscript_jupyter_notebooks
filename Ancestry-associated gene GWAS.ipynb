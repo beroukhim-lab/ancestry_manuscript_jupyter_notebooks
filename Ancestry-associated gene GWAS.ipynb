{
 "cells": [
  {
   "cell_type": "markdown",
   "metadata": {},
   "source": [
    "The purpose of this notebook is to perform GWAS for all of the ancestry-associated genes.\n",
    "\n",
    "The question we are asking here is whether there are any germline variants that are associated with these dependencies. "
   ]
  },
  {
   "cell_type": "markdown",
   "metadata": {},
   "source": [
    "# Set up the environment"
   ]
  },
  {
   "cell_type": "code",
   "execution_count": 1,
   "metadata": {},
   "outputs": [],
   "source": [
    "#Arguments/Parameters\n",
    "\n",
    "working_dir = \"/home/jupyter/notebooks/Ancestry\"\n",
    "workspace_bucket = Sys.getenv('WORKSPACE_BUCKET')"
   ]
  },
  {
   "cell_type": "code",
   "execution_count": 2,
   "metadata": {},
   "outputs": [
    {
     "name": "stderr",
     "output_type": "stream",
     "text": [
      "── \u001b[1mAttaching packages\u001b[22m ─────────────────────────────────────── tidyverse 1.3.1 ──\n",
      "\n",
      "\u001b[32m✔\u001b[39m \u001b[34mggplot2\u001b[39m 3.3.5     \u001b[32m✔\u001b[39m \u001b[34mpurrr  \u001b[39m 0.3.4\n",
      "\u001b[32m✔\u001b[39m \u001b[34mtibble \u001b[39m 3.1.4     \u001b[32m✔\u001b[39m \u001b[34mdplyr  \u001b[39m 1.0.7\n",
      "\u001b[32m✔\u001b[39m \u001b[34mtidyr  \u001b[39m 1.1.3     \u001b[32m✔\u001b[39m \u001b[34mstringr\u001b[39m 1.4.0\n",
      "\u001b[32m✔\u001b[39m \u001b[34mreadr  \u001b[39m 2.0.1     \u001b[32m✔\u001b[39m \u001b[34mforcats\u001b[39m 0.5.1\n",
      "\n",
      "── \u001b[1mConflicts\u001b[22m ────────────────────────────────────────── tidyverse_conflicts() ──\n",
      "\u001b[31m✖\u001b[39m \u001b[34mdplyr\u001b[39m::\u001b[32mfilter()\u001b[39m masks \u001b[34mstats\u001b[39m::filter()\n",
      "\u001b[31m✖\u001b[39m \u001b[34mdplyr\u001b[39m::\u001b[32mlag()\u001b[39m    masks \u001b[34mstats\u001b[39m::lag()\n",
      "\n",
      "\n",
      "Attaching package: ‘reshape2’\n",
      "\n",
      "\n",
      "The following object is masked from ‘package:tidyr’:\n",
      "\n",
      "    smiths\n",
      "\n",
      "\n"
     ]
    }
   ],
   "source": [
    "#load packages\n",
    "library(tidyverse)\n",
    "library(reshape2)\n",
    "\n",
    "#Define functions\n",
    "show_msg <- function(x){ \n",
    "    print(x)\n",
    "    flush.console()\n",
    "}"
   ]
  },
  {
   "cell_type": "code",
   "execution_count": 17,
   "metadata": {},
   "outputs": [],
   "source": [
    "#Create directory structure\n",
    "system(glue::glue(\"\n",
    "if [ ! -d 'mkdir {working_dir}/gwas' ] \n",
    "then\n",
    "mkdir {working_dir}/gwas\n",
    "fi\n",
    "\n",
    "if [ ! -d 'mkdir {working_dir}/gwas/gwas_output' ] \n",
    "then\n",
    "mkdir {working_dir}/gwas_output\n",
    "fi\n",
    "\n",
    "#Create the directory to store the liftover files\n",
    "if [ ! -d '{working_dir}/LiftOver' ] \n",
    "then\n",
    "mkdir LiftOver\n",
    "fi\n",
    "\n",
    "if [ ! -d '{working_dir}/LiftOver/hg19_to_hg38' ] \n",
    "then\n",
    "mkdir LiftOver/hg19_to_hg38\n",
    "fi\n",
    "\"))"
   ]
  },
  {
   "cell_type": "code",
   "execution_count": 5,
   "metadata": {},
   "outputs": [],
   "source": [
    "#Download and unpack PLINK\n",
    "system(glue::glue(\"\n",
    "mkdir {working_dir}/software/plink2\n",
    "cd {working_dir}/software/plink2\n",
    "wget https://s3.amazonaws.com/plink2-assets/plink2_linux_avx2_20210826.zip\n",
    "unzip plink2_linux_avx2_20210826.zip\n",
    "\"))\n",
    "\n",
    "\n",
    "system(glue::glue(\"\n",
    "mkdir {working_dir}/software/plink\n",
    "cd {working_dir}/software/plink\n",
    "wget https://s3.amazonaws.com/plink1-assets/plink_linux_x86_64_20210606.zip\n",
    "unzip plink_linux_x86_64_20210606.zip\n",
    "\"))"
   ]
  },
  {
   "cell_type": "code",
   "execution_count": 35,
   "metadata": {},
   "outputs": [
    {
     "name": "stdout",
     "output_type": "stream",
     "text": [
      "[1] \"bcftools is already installed\"\n"
     ]
    }
   ],
   "source": [
    "#Download and install bcftools\n",
    "#Install bcftools\n",
    "step_install_bcftools <- !file.exists(glue::glue(\"{working_dir}/software/bcftools/bcftools\"))\n",
    "\n",
    "if(step_install_bcftools) {\n",
    "system(glue::glue(\"\n",
    "cd {working_dir}/software\n",
    "git clone --recurse-submodules git://github.com/samtools/htslib.git\n",
    "git clone git://github.com/samtools/bcftools.git\n",
    "cd bcftools\n",
    "autoheader && autoconf && ./configure --enable-libgsl --enable-perl-filters\n",
    "make\n",
    "export BCFTOOLS_PLUGINS=/home/jupyter-user/notebooks/Ancestry/software/bcftools/plugins\n",
    "\")) } else {print(\"bcftools is already installed\")}\n",
    "\n",
    "#Set the bcftools plugin path and add bcftools to PATH\n",
    "system(glue::glue(\"\n",
    "export PATH=$PATH:{working_dir}/software/bcftools\n",
    "export BCFTOOLS_PLUGINS='/home/jupyter/notebooks/Ancestry/software/bcftools/plugins'\n",
    "\"))"
   ]
  },
  {
   "cell_type": "code",
   "execution_count": 14,
   "metadata": {},
   "outputs": [],
   "source": [
    "#Install Picard if it needs to be installed\n",
    "system(glue::glue(\"\n",
    "cd {working_dir}\n",
    "\n",
    "#Create the directory to store the liftover files\n",
    "if [ ! -d '{working_dir}/software/picard' ] \n",
    "then\n",
    "mkdir {working_dir}/software/picard\n",
    "cd {working_dir}/software/picard\n",
    "wget https://github.com/broadinstitute/picard/releases/download/2.25.7/picard.jar\n",
    "fi\n",
    "\"))"
   ]
  },
  {
   "cell_type": "code",
   "execution_count": 7,
   "metadata": {},
   "outputs": [],
   "source": [
    "#Install Tabix"
   ]
  },
  {
   "cell_type": "markdown",
   "metadata": {},
   "source": [
    "# Format the data"
   ]
  },
  {
   "cell_type": "markdown",
   "metadata": {},
   "source": [
    "Much of this code is borrowed from the Genotype Phasing and RFMix notebook, which is part of this project."
   ]
  },
  {
   "cell_type": "code",
   "execution_count": 19,
   "metadata": {},
   "outputs": [],
   "source": [
    "#Download the CCLE data\n",
    "system(glue::glue(\"\n",
    "cd {working_dir}/gwas\n",
    "gsutil cp gs://fc-45c0e148-0b1c-4244-9bfc-feb559bbc514/recoded.ccle.all.called.vcf .\n",
    "bgzip recoded.ccle.all.called.vcf\n",
    "\"))\n",
    "\n",
    "#Index ccle.all.called.vcf\n",
    "system(glue::glue(\"\n",
    "cd {working_dir}/gwas\n",
    "{working_dir}/software/tabix-0.2.6/tabix -p vcf recoded.ccle.all.called.vcf.gz\n",
    "\"))"
   ]
  },
  {
   "cell_type": "markdown",
   "metadata": {},
   "source": [
    "The header of the vcf file has some strange cell line names as the sample names. But we don't want this. The CDS names are stored in the vcf header, so we can extract them and then assign them as the sample names in the vcf."
   ]
  },
  {
   "cell_type": "code",
   "execution_count": 20,
   "metadata": {},
   "outputs": [
    {
     "data": {
      "text/html": [
       "<style>\n",
       ".list-inline {list-style: none; margin:0; padding: 0}\n",
       ".list-inline>li {display: inline-block}\n",
       ".list-inline>li:not(:last-child)::after {content: \"\\00b7\"; padding: 0 .5ex}\n",
       "</style>\n",
       "<ol class=list-inline><li>1918</li><li>1</li></ol>\n"
      ],
      "text/latex": [
       "\\begin{enumerate*}\n",
       "\\item 1918\n",
       "\\item 1\n",
       "\\end{enumerate*}\n"
      ],
      "text/markdown": [
       "1. 1918\n",
       "2. 1\n",
       "\n",
       "\n"
      ],
      "text/plain": [
       "[1] 1918    1"
      ]
     },
     "metadata": {},
     "output_type": "display_data"
    }
   ],
   "source": [
    "#Fix the header in ccle.all.called.vcf to conver the sample ID to the CDS ID\n",
    "\n",
    "#First export the header and format it so that it is ready for us to work with it in R\n",
    "system(glue::glue(\"\n",
    "cd {working_dir}/gwas\n",
    "{working_dir}/software/bcftools/bcftools view -h recoded.ccle.all.called.vcf.gz -o sample.header.txt\n",
    "head -n 118 sample.header.txt | tail -n 1 | tr -d '#' > sample.header.for.r.txt\n",
    "rm sample.header.txt\n",
    "\"))\n",
    "\n",
    "\n",
    "#Format a dataset where each new \"CDS ID\" sample header is on a new row, then write it.\n",
    "paste(working_dir, \"/gwas\", sep = \"\") %>% setwd()\n",
    "sample.header <- read.table('sample.header.for.r.txt', sep = \"\\t\")\n",
    "sample.header <- sample.header[,1] %>% as.vector()\n",
    "split.row <- data.frame(strsplit(sample.header, \" \")) #split the row on white space\n",
    "split.row <- as.vector(split.row[,1]) #Convert it to a vector\n",
    "split.row <- split.row[9:length(split.row)] #Remove the first 8 elements since they don't contain sample names\n",
    "split.row <- gsub(\".*/\", \"\", split.row) #Each element has a '/' before the CDS, and no slashes after. So we can use gsub to remove all the junk\n",
    "split.row <- gsub('_cnn_filtered.vcf.gz', '', split.row) #Now each CDS ID has \"_cnn_filtered.vcf.gz\" after it, so remove that.\n",
    "split.row <- head(split.row, -5) #Remove the last 5 elelemnts since they are not sample names\n",
    "split.row <- gsub(\";\", \"\", split.row)\n",
    "split.row <- data.frame(split.row)\n",
    "dim(split.row)\n",
    "write.table(split.row, \"cds.name.list.txt\", sep = \"\\t\", col.names = F, row.names = F, quote = F)\n",
    "\n",
    "#Replace the sample names in ccle.all.called.vcf.gz file\n",
    "system(glue::glue(\"\n",
    "cd {working_dir}/gwas\n",
    "{working_dir}/software/bcftools/bcftools reheader --samples cds.name.list.txt -o cdsnames.ccle.all.called.vcf.gz recoded.ccle.all.called.vcf.gz\n",
    "mv cdsnames.ccle.all.called.vcf.gz ccle.all.called.vcf.gz\n",
    "\"))\n",
    "\n",
    "#Clean up\n",
    "system(glue::glue(\"\n",
    "cd {working_dir}/gwas\n",
    "rm cds.name.list.txt\n",
    "rm sample.header.for.r.txt\n",
    "rm ccle.all.called.vcf.gz.tbi\n",
    "\"))\n",
    "\n",
    "#Re-index the vcf file\n",
    "system(glue::glue(\"\n",
    "cd {working_dir}/gwas\n",
    "{working_dir}/software/tabix-0.2.6/tabix -p vcf ccle.all.called.vcf.gz\n",
    "\"))"
   ]
  },
  {
   "cell_type": "markdown",
   "metadata": {},
   "source": [
    "The variant calls are (unfortunately) hg19. Let's use LiftOver to convert them to hg38."
   ]
  },
  {
   "cell_type": "code",
   "execution_count": 15,
   "metadata": {},
   "outputs": [],
   "source": [
    "#Download the LiftOver files\n",
    "system(glue::glue(\"\n",
    "cd {working_dir}/LiftOver/hg19_to_hg38\n",
    "wget https://hgdownload.soe.ucsc.edu/goldenPath/hg19/liftOver/hg19ToHg38.over.chain.gz\n",
    "wget https://hgdownload.soe.ucsc.edu/goldenPath/hg38/bigZips/hg38.fa.gz\n",
    "\"))\n",
    "\n",
    "#Construct the GATK dict file\n",
    "system(glue::glue(\"\n",
    "cd {working_dir}/LiftOver/hg19_to_hg38\n",
    "java -jar {working_dir}/software/picard/picard.jar CreateSequenceDictionary R=hg38.fa.gz O=hg38.dict\n",
    "\"))"
   ]
  },
  {
   "cell_type": "code",
   "execution_count": 21,
   "metadata": {},
   "outputs": [],
   "source": [
    "#LiftOver the variant calls to hg38 because they are currently hg19\n",
    "system(glue::glue(\"\n",
    "java -jar {working_dir}/software/picard/picard.jar LiftoverVcf I={working_dir}/gwas/ccle.all.called.vcf.gz O={working_dir}/gwas/hg38.ccle.all.called.vcf MAX_RECORDS_IN_RAM=10000 CHAIN={working_dir}/LiftOver/hg19_to_hg38/hg19ToHg38.over.chain.gz REJECT={working_dir}/gwas/liftover_rejected_variants.vcf R={working_dir}/LiftOver/hg19_to_hg38/hg38.fa.gz\n",
    "\"))"
   ]
  },
  {
   "cell_type": "markdown",
   "metadata": {},
   "source": [
    "Let's try to recode the file as a .bcf file instead of a .vcf.gz file. This should hopefully make things run much faster."
   ]
  },
  {
   "cell_type": "code",
   "execution_count": 23,
   "metadata": {},
   "outputs": [],
   "source": [
    "#Re-code the vcf file so that it is a bcf file. This should hopefully make things run much faster.\n",
    "system(glue::glue(\"\n",
    "cd {working_dir}/gwas\n",
    "{working_dir}/software/bcftools/bcftools view hg38.ccle.all.called.vcf -o hg38.ccle.all.called.bcf -Ou\n",
    "{working_dir}/software/bcftools/bcftools index -c -f hg38.ccle.all.called.bcf\n",
    "\"))"
   ]
  },
  {
   "cell_type": "markdown",
   "metadata": {},
   "source": [
    "Variants at the same position are grouped together right now. So we should un-group them.\n",
    "\n",
    "For example:\n",
    "\n",
    "Current format: \n",
    "chr1 // pos123456789 // ref=A // alt=G/T\n",
    "\n",
    "New format: \n",
    "chr1 // pos123456789 // ref=A // alt=G\n",
    "chr1 // pos123456789 // ref=A // alt=T\n"
   ]
  },
  {
   "cell_type": "code",
   "execution_count": 24,
   "metadata": {},
   "outputs": [
    {
     "name": "stdout",
     "output_type": "stream",
     "text": [
      "[1] \"Splitting Genotype Calls\"\n"
     ]
    }
   ],
   "source": [
    "#split the genotype calls\n",
    "show_msg(\"Splitting Genotype Calls\")\n",
    "system(glue::glue(\"\n",
    "cd {working_dir}/gwas\n",
    "{working_dir}/software/bcftools/bcftools norm -m - hg38.ccle.all.called.bcf -Ou -o split.hg38.ccle.all.called.bcf\n",
    "{working_dir}/software/bcftools/bcftools index -c -f split.hg38.ccle.all.called.bcf\n",
    "\"))"
   ]
  },
  {
   "cell_type": "markdown",
   "metadata": {},
   "source": [
    "Some of the samples are WGS and other samples are WES. We should filter it down to only include exonic regions so that we are not introducing bias into the analysis."
   ]
  },
  {
   "cell_type": "code",
   "execution_count": 31,
   "metadata": {},
   "outputs": [],
   "source": [
    "#Download a bed file that has the exon positions\n",
    "system(glue::glue(\"\n",
    "cd {working_dir}/gwas\n",
    "gsutil cp gs://fc-7211fd5c-103b-4f7b-831a-1f2def618f62/exon_positions .\n",
    "\"))\n",
    "\n",
    "#Filter the file so that it only includes exons\n",
    "system(glue::glue(\"\n",
    "cd {working_dir}/gwas\n",
    "{working_dir}/software/bcftools/bcftools view --force-samples -R exon_positions split.hg38.ccle.all.called.bcf -Ou -o exon.hg38.ccle.all.called.bcf\n",
    "{working_dir}/software/bcftools/bcftools index -c -f exon.hg38.ccle.all.called.bcf\n",
    "\"))\n"
   ]
  },
  {
   "cell_type": "code",
   "execution_count": 43,
   "metadata": {},
   "outputs": [
    {
     "ename": "ERROR",
     "evalue": "Error in read.table(\"weswgs.hg38.ccle.all.called.sample.names\", sep = \"\\t\"): no lines available in input\n",
     "output_type": "error",
     "traceback": [
      "Error in read.table(\"weswgs.hg38.ccle.all.called.sample.names\", sep = \"\\t\"): no lines available in input\nTraceback:\n",
      "1. read.table(\"weswgs.hg38.ccle.all.called.sample.names\", sep = \"\\t\")",
      "2. stop(\"no lines available in input\")"
     ]
    }
   ],
   "source": [
    "#Also, we should filter the data so that it only includes the samples with WES and WGS data\n",
    "\n",
    "#Download the CCLE sample tracker\n",
    "system(glue::glue(\"\n",
    "cd {working_dir}/gwas\n",
    "gsutil cp gs://fc-45c0e148-0b1c-4244-9bfc-feb559bbc514/ccle_sample_tracker.csv .\n",
    "\"))\n",
    "\n",
    "\n",
    "#Construct a list of samples that we want to keep\n",
    "paste(working_dir, \"/gwas\", sep = \"\") %>% setwd()\n",
    "cds.to.ach <- read.table('ccle_sample_tracker.csv', sep = \",\", header = T)\n",
    "cds.to.ach <- cds.to.ach[cds.to.ach$datatype %in% c(\"wgs\", \"wes\"),]\n",
    "cds.to.ach <- cds.to.ach[,1]\n",
    "cds.to.ach <- cds.to.ach %>% unique()\n",
    "write.table(cds.to.ach, \"samples.to.keep.txt\", sep = \"\\t\", col.names = F, row.names = F, quote = F)\n",
    "\n",
    "\n",
    "#Now subset the vcf file so that it only includes samples that we have WES/WGS for\n",
    "system(glue::glue(\"\n",
    "cd {working_dir}/gwas\n",
    "{working_dir}/software/bcftools/bcftools view -S samples.to.keep.txt --force-samples -Ou -o weswgs.hg38.ccle.all.called.bcf exon.hg38.ccle.all.called.bcf\n",
    "{working_dir}/software/bcftools/bcftools index -c -f weswgs.hg38.ccle.all.called.bcf\n",
    "\"))\n",
    "\n",
    "#Extract the sample names from the vcf file and write them to a file\n",
    "system(glue::glue(\"\n",
    "cd {working_dir}/gwas\n",
    "{working_dir}/software/bcftools/bcftools query -l weswgs.hg38.ccle.all.called.bcf > weswgs.hg38.ccle.all.called.sample.names\n",
    "\"))\n",
    "\n",
    "#Create a file to bridge the CDS IDs to ACH IDs\n",
    "paste(working_dir, \"/raw_data\", sep = \"\") %>% setwd()\n",
    "sample.header <- read.table('weswgs.hg38.ccle.all.called.sample.names', sep = \"\\t\") #Load in the sample header that contains all of the samples in the vcf file\n",
    "sample.header <- sample.header[,1] %>% as.vector() #Convert it to a vector\n",
    "sample.tracker <- read.table('ccle_sample_tracker.csv', sep = \",\", header = T) #Load in the ccle.sample.tracker that bridges the cds ID to the ACH ID\n",
    "sample.tracker <- sample.tracker[sample.tracker$datatype %in% c(\"wgs\", \"wes\"),] #Filter the sample tracker so that it only includes WES and WGS data\n",
    "sample.header <- plyr::mapvalues(sample.header, from = sample.tracker$cds_id, to = sample.tracker$arxspan_id, warn_missing = FALSE)\n",
    "write.table(sample.header %>% unique(), \"ach_samples_to_keep.txt\", sep = \"\\t\", col.names = F, row.names = F, quote = F)\n",
    "sample.header <- sub('[.]', '_', make.names(sample.header, unique=TRUE))\n",
    "write.table(sample.header, \"ach_sample_header.txt\", sep = \"\\t\", col.names = F, row.names = F, quote = F)\n",
    "\n",
    "\n",
    "#Replace the sample names in the vcf file to remove the duplicates by appending a _1 to the duplicated sample\n",
    "system(glue::glue(\"\n",
    "cd {working_dir}/gwas\n",
    "rm ccle.hg38.splice.wgswes.sample.names\n",
    "{working_dir}/software/bcftools/bcftools reheader --samples ach_sample_header.txt -o achid.hg38.ccle.all.called.bcf weswgs.hg38.ccle.all.called.bcf\n",
    "{working_dir}/software/bcftools/bcftools index -c -f achid.hg38.ccle.all.called.bcf\n",
    "\"))"
   ]
  },
  {
   "cell_type": "code",
   "execution_count": 48,
   "metadata": {},
   "outputs": [],
   "source": [
    "#recode the ./. variants to 0/0\n",
    "system(glue::glue(\"\n",
    "cd {working_dir}/gwas\n",
    "export PATH=$PATH:{working_dir}/software/bcftools\n",
    "export BCFTOOLS_PLUGINS='/home/jupyter/notebooks/Ancestry/software/bcftools/plugins'\n",
    "{working_dir}/software/bcftools/bcftools +setGT achid.hg38.ccle.all.called.bcf -Ou -o complete.hg38.ccle.all.called.bcf -- -t . -n 0\n",
    "{working_dir}/software/bcftools/bcftools index -c -f complete.hg38.ccle.all.called.bcf\n",
    "\"))\n"
   ]
  },
  {
   "cell_type": "code",
   "execution_count": 49,
   "metadata": {},
   "outputs": [],
   "source": [
    "#Convert the dataset so that it is in the plink format\n",
    "system(glue::glue(\"\n",
    "cd {working_dir}/gwas\n",
    "{working_dir}/software/plink2/plink2 --bcf depmap.hg38.ccle.all.called.bcf --allow-extra-chr --make-bed --out complete.hg38.ccle.all.called\n",
    "\"))"
   ]
  },
  {
   "cell_type": "markdown",
   "metadata": {},
   "source": [
    "# Create the GWAS Phenotype and Covariate files"
   ]
  },
  {
   "cell_type": "markdown",
   "metadata": {},
   "source": [
    "First get all of the covariate data together."
   ]
  },
  {
   "cell_type": "code",
   "execution_count": 50,
   "metadata": {},
   "outputs": [],
   "source": [
    "#Perform PCA for GWAS covariate\n",
    "system(glue::glue(\"\n",
    "cd {working_dir}/gwas\n",
    "{working_dir}/software/plink2/plink2 --bfile complete.hg38.ccle.all.called --allow-extra-chr --pca 10 --out complete.hg38.ccle.all.called.pca10\n",
    "\"))"
   ]
  },
  {
   "cell_type": "code",
   "execution_count": 4,
   "metadata": {},
   "outputs": [
    {
     "data": {
      "text/html": [
       "<table class=\"dataframe\">\n",
       "<caption>A data.frame: 6 × 2</caption>\n",
       "<thead>\n",
       "\t<tr><th></th><th scope=col>ach_id</th><th scope=col>lineage</th></tr>\n",
       "\t<tr><th></th><th scope=col>&lt;chr&gt;</th><th scope=col>&lt;chr&gt;</th></tr>\n",
       "</thead>\n",
       "<tbody>\n",
       "\t<tr><th scope=row>1</th><td>ACH-000001</td><td>ovary     </td></tr>\n",
       "\t<tr><th scope=row>2</th><td>ACH-000002</td><td>blood     </td></tr>\n",
       "\t<tr><th scope=row>3</th><td>ACH-000003</td><td>colorectal</td></tr>\n",
       "\t<tr><th scope=row>4</th><td>ACH-000004</td><td>blood     </td></tr>\n",
       "\t<tr><th scope=row>5</th><td>ACH-000005</td><td>blood     </td></tr>\n",
       "\t<tr><th scope=row>6</th><td>ACH-000006</td><td>blood     </td></tr>\n",
       "</tbody>\n",
       "</table>\n"
      ],
      "text/latex": [
       "A data.frame: 6 × 2\n",
       "\\begin{tabular}{r|ll}\n",
       "  & ach\\_id & lineage\\\\\n",
       "  & <chr> & <chr>\\\\\n",
       "\\hline\n",
       "\t1 & ACH-000001 & ovary     \\\\\n",
       "\t2 & ACH-000002 & blood     \\\\\n",
       "\t3 & ACH-000003 & colorectal\\\\\n",
       "\t4 & ACH-000004 & blood     \\\\\n",
       "\t5 & ACH-000005 & blood     \\\\\n",
       "\t6 & ACH-000006 & blood     \\\\\n",
       "\\end{tabular}\n"
      ],
      "text/markdown": [
       "\n",
       "A data.frame: 6 × 2\n",
       "\n",
       "| <!--/--> | ach_id &lt;chr&gt; | lineage &lt;chr&gt; |\n",
       "|---|---|---|\n",
       "| 1 | ACH-000001 | ovary      |\n",
       "| 2 | ACH-000002 | blood      |\n",
       "| 3 | ACH-000003 | colorectal |\n",
       "| 4 | ACH-000004 | blood      |\n",
       "| 5 | ACH-000005 | blood      |\n",
       "| 6 | ACH-000006 | blood      |\n",
       "\n"
      ],
      "text/plain": [
       "  ach_id     lineage   \n",
       "1 ACH-000001 ovary     \n",
       "2 ACH-000002 blood     \n",
       "3 ACH-000003 colorectal\n",
       "4 ACH-000004 blood     \n",
       "5 ACH-000005 blood     \n",
       "6 ACH-000006 blood     "
      ]
     },
     "metadata": {},
     "output_type": "display_data"
    }
   ],
   "source": [
    "#Format the cell covariates\n",
    "\n",
    "#Download the DepMap sample annotation file \n",
    "system(glue::glue(\"\n",
    "cd {working_dir}/gwas\n",
    "gsutil cp gs://fc-45c0e148-0b1c-4244-9bfc-feb559bbc514/internal-21q3_v15-sample-info.csv . .\n",
    "\"))\n",
    "\n",
    "#Load in the sample annotation file\n",
    "paste(working_dir, \"/gwas\", sep = \"\") %>% setwd()\n",
    "cell.annotation <- read.table('internal-21q3_v15-sample-info.csv', sep = \",\", fill = TRUE, header = TRUE) #Load in the sample header that contains all of the samples in the vcf file\n",
    "\n",
    "#Format the covariates file\n",
    "covariates <- cbind(cell.annotation$DepMap_ID, cell.annotation$lineage) %>% \n",
    "data.frame %>%\n",
    "rename(\"ach_id\" = 1, \"lineage\" = 2)\n",
    "head(covariates)\n",
    "write.table(covariates, \"cell.covariates.txt\", sep = \"\\t\", col.names = T, row.names = F, quote = F)"
   ]
  },
  {
   "cell_type": "code",
   "execution_count": 31,
   "metadata": {},
   "outputs": [
    {
     "data": {
      "text/html": [
       "<table class=\"dataframe\">\n",
       "<caption>A data.frame: 6 × 2</caption>\n",
       "<thead>\n",
       "\t<tr><th></th><th scope=col>ach_id</th><th scope=col>lineage</th></tr>\n",
       "\t<tr><th></th><th scope=col>&lt;chr&gt;</th><th scope=col>&lt;chr&gt;</th></tr>\n",
       "</thead>\n",
       "<tbody>\n",
       "\t<tr><th scope=row>1</th><td>ACH_000001</td><td>ovary     </td></tr>\n",
       "\t<tr><th scope=row>2</th><td>ACH_000002</td><td>blood     </td></tr>\n",
       "\t<tr><th scope=row>3</th><td>ACH_000003</td><td>colorectal</td></tr>\n",
       "\t<tr><th scope=row>4</th><td>ACH_000004</td><td>blood     </td></tr>\n",
       "\t<tr><th scope=row>5</th><td>ACH_000005</td><td>blood     </td></tr>\n",
       "\t<tr><th scope=row>6</th><td>ACH_000006</td><td>blood     </td></tr>\n",
       "</tbody>\n",
       "</table>\n"
      ],
      "text/latex": [
       "A data.frame: 6 × 2\n",
       "\\begin{tabular}{r|ll}\n",
       "  & ach\\_id & lineage\\\\\n",
       "  & <chr> & <chr>\\\\\n",
       "\\hline\n",
       "\t1 & ACH\\_000001 & ovary     \\\\\n",
       "\t2 & ACH\\_000002 & blood     \\\\\n",
       "\t3 & ACH\\_000003 & colorectal\\\\\n",
       "\t4 & ACH\\_000004 & blood     \\\\\n",
       "\t5 & ACH\\_000005 & blood     \\\\\n",
       "\t6 & ACH\\_000006 & blood     \\\\\n",
       "\\end{tabular}\n"
      ],
      "text/markdown": [
       "\n",
       "A data.frame: 6 × 2\n",
       "\n",
       "| <!--/--> | ach_id &lt;chr&gt; | lineage &lt;chr&gt; |\n",
       "|---|---|---|\n",
       "| 1 | ACH_000001 | ovary      |\n",
       "| 2 | ACH_000002 | blood      |\n",
       "| 3 | ACH_000003 | colorectal |\n",
       "| 4 | ACH_000004 | blood      |\n",
       "| 5 | ACH_000005 | blood      |\n",
       "| 6 | ACH_000006 | blood      |\n",
       "\n"
      ],
      "text/plain": [
       "  ach_id     lineage   \n",
       "1 ACH_000001 ovary     \n",
       "2 ACH_000002 blood     \n",
       "3 ACH_000003 colorectal\n",
       "4 ACH_000004 blood     \n",
       "5 ACH_000005 blood     \n",
       "6 ACH_000006 blood     "
      ]
     },
     "metadata": {},
     "output_type": "display_data"
    },
    {
     "data": {
      "text/html": [
       "<table class=\"dataframe\">\n",
       "<caption>A data.frame: 6 × 2</caption>\n",
       "<thead>\n",
       "\t<tr><th></th><th scope=col>lineage</th><th scope=col>number</th></tr>\n",
       "\t<tr><th></th><th scope=col>&lt;chr&gt;</th><th scope=col>&lt;chr&gt;</th></tr>\n",
       "</thead>\n",
       "<tbody>\n",
       "\t<tr><th scope=row>1</th><td>ovary        </td><td>1</td></tr>\n",
       "\t<tr><th scope=row>2</th><td>blood        </td><td>2</td></tr>\n",
       "\t<tr><th scope=row>3</th><td>colorectal   </td><td>3</td></tr>\n",
       "\t<tr><th scope=row>4</th><td>skin         </td><td>4</td></tr>\n",
       "\t<tr><th scope=row>5</th><td>urinary_tract</td><td>5</td></tr>\n",
       "\t<tr><th scope=row>6</th><td>lung         </td><td>6</td></tr>\n",
       "</tbody>\n",
       "</table>\n"
      ],
      "text/latex": [
       "A data.frame: 6 × 2\n",
       "\\begin{tabular}{r|ll}\n",
       "  & lineage & number\\\\\n",
       "  & <chr> & <chr>\\\\\n",
       "\\hline\n",
       "\t1 & ovary         & 1\\\\\n",
       "\t2 & blood         & 2\\\\\n",
       "\t3 & colorectal    & 3\\\\\n",
       "\t4 & skin          & 4\\\\\n",
       "\t5 & urinary\\_tract & 5\\\\\n",
       "\t6 & lung          & 6\\\\\n",
       "\\end{tabular}\n"
      ],
      "text/markdown": [
       "\n",
       "A data.frame: 6 × 2\n",
       "\n",
       "| <!--/--> | lineage &lt;chr&gt; | number &lt;chr&gt; |\n",
       "|---|---|---|\n",
       "| 1 | ovary         | 1 |\n",
       "| 2 | blood         | 2 |\n",
       "| 3 | colorectal    | 3 |\n",
       "| 4 | skin          | 4 |\n",
       "| 5 | urinary_tract | 5 |\n",
       "| 6 | lung          | 6 |\n",
       "\n"
      ],
      "text/plain": [
       "  lineage       number\n",
       "1 ovary         1     \n",
       "2 blood         2     \n",
       "3 colorectal    3     \n",
       "4 skin          4     \n",
       "5 urinary_tract 5     \n",
       "6 lung          6     "
      ]
     },
     "metadata": {},
     "output_type": "display_data"
    },
    {
     "data": {
      "text/html": [
       "<table class=\"dataframe\">\n",
       "<caption>A data.frame: 6 × 12</caption>\n",
       "<thead>\n",
       "\t<tr><th></th><th scope=col>IID</th><th scope=col>pc1</th><th scope=col>pc2</th><th scope=col>pc3</th><th scope=col>pc4</th><th scope=col>pc5</th><th scope=col>pc6</th><th scope=col>pc7</th><th scope=col>pc8</th><th scope=col>pc9</th><th scope=col>pc10</th><th scope=col>lineage</th></tr>\n",
       "\t<tr><th></th><th scope=col>&lt;chr&gt;</th><th scope=col>&lt;dbl&gt;</th><th scope=col>&lt;dbl&gt;</th><th scope=col>&lt;dbl&gt;</th><th scope=col>&lt;dbl&gt;</th><th scope=col>&lt;dbl&gt;</th><th scope=col>&lt;dbl&gt;</th><th scope=col>&lt;dbl&gt;</th><th scope=col>&lt;dbl&gt;</th><th scope=col>&lt;dbl&gt;</th><th scope=col>&lt;dbl&gt;</th><th scope=col>&lt;chr&gt;</th></tr>\n",
       "</thead>\n",
       "<tbody>\n",
       "\t<tr><th scope=row>1</th><td>ACH_000001</td><td>-0.000791137</td><td>0.000700169</td><td>0.000914316</td><td>-0.000919319</td><td>-0.000335148</td><td>0.000578365</td><td>-0.001091010</td><td>-0.001056380</td><td>-0.00106275</td><td>1.23351e-04</td><td>1</td></tr>\n",
       "\t<tr><th scope=row>2</th><td>ACH_000002</td><td>-0.000746101</td><td>0.000703607</td><td>0.001000010</td><td>-0.000973165</td><td>-0.000343036</td><td>0.000576750</td><td>-0.000895354</td><td>-0.001185090</td><td>-0.00117146</td><td>4.58036e-05</td><td>2</td></tr>\n",
       "\t<tr><th scope=row>3</th><td>ACH_000004</td><td>-0.000745383</td><td>0.000644963</td><td>0.000917040</td><td>-0.000897439</td><td>-0.000472070</td><td>0.000553266</td><td>-0.000993790</td><td>-0.001029550</td><td>-0.00105329</td><td>2.53595e-04</td><td>2</td></tr>\n",
       "\t<tr><th scope=row>4</th><td>ACH_000005</td><td>-0.000762013</td><td>0.000694865</td><td>0.000943667</td><td>-0.000947499</td><td>-0.000467193</td><td>0.000665250</td><td>-0.000985791</td><td>-0.001070160</td><td>-0.00113868</td><td>3.37099e-04</td><td>2</td></tr>\n",
       "\t<tr><th scope=row>5</th><td>ACH_000006</td><td>-0.000763688</td><td>0.000670431</td><td>0.000919129</td><td>-0.000924049</td><td>-0.000373714</td><td>0.000629725</td><td>-0.000905337</td><td>-0.000985003</td><td>-0.00111806</td><td>1.46758e-04</td><td>2</td></tr>\n",
       "\t<tr><th scope=row>6</th><td>ACH_000007</td><td>-0.000802990</td><td>0.000694430</td><td>0.001089270</td><td>-0.001151600</td><td>-0.000645693</td><td>0.004852700</td><td> 0.004318130</td><td>-0.001237610</td><td>-0.00149745</td><td>5.87248e-04</td><td>3</td></tr>\n",
       "</tbody>\n",
       "</table>\n"
      ],
      "text/latex": [
       "A data.frame: 6 × 12\n",
       "\\begin{tabular}{r|llllllllllll}\n",
       "  & IID & pc1 & pc2 & pc3 & pc4 & pc5 & pc6 & pc7 & pc8 & pc9 & pc10 & lineage\\\\\n",
       "  & <chr> & <dbl> & <dbl> & <dbl> & <dbl> & <dbl> & <dbl> & <dbl> & <dbl> & <dbl> & <dbl> & <chr>\\\\\n",
       "\\hline\n",
       "\t1 & ACH\\_000001 & -0.000791137 & 0.000700169 & 0.000914316 & -0.000919319 & -0.000335148 & 0.000578365 & -0.001091010 & -0.001056380 & -0.00106275 & 1.23351e-04 & 1\\\\\n",
       "\t2 & ACH\\_000002 & -0.000746101 & 0.000703607 & 0.001000010 & -0.000973165 & -0.000343036 & 0.000576750 & -0.000895354 & -0.001185090 & -0.00117146 & 4.58036e-05 & 2\\\\\n",
       "\t3 & ACH\\_000004 & -0.000745383 & 0.000644963 & 0.000917040 & -0.000897439 & -0.000472070 & 0.000553266 & -0.000993790 & -0.001029550 & -0.00105329 & 2.53595e-04 & 2\\\\\n",
       "\t4 & ACH\\_000005 & -0.000762013 & 0.000694865 & 0.000943667 & -0.000947499 & -0.000467193 & 0.000665250 & -0.000985791 & -0.001070160 & -0.00113868 & 3.37099e-04 & 2\\\\\n",
       "\t5 & ACH\\_000006 & -0.000763688 & 0.000670431 & 0.000919129 & -0.000924049 & -0.000373714 & 0.000629725 & -0.000905337 & -0.000985003 & -0.00111806 & 1.46758e-04 & 2\\\\\n",
       "\t6 & ACH\\_000007 & -0.000802990 & 0.000694430 & 0.001089270 & -0.001151600 & -0.000645693 & 0.004852700 &  0.004318130 & -0.001237610 & -0.00149745 & 5.87248e-04 & 3\\\\\n",
       "\\end{tabular}\n"
      ],
      "text/markdown": [
       "\n",
       "A data.frame: 6 × 12\n",
       "\n",
       "| <!--/--> | IID &lt;chr&gt; | pc1 &lt;dbl&gt; | pc2 &lt;dbl&gt; | pc3 &lt;dbl&gt; | pc4 &lt;dbl&gt; | pc5 &lt;dbl&gt; | pc6 &lt;dbl&gt; | pc7 &lt;dbl&gt; | pc8 &lt;dbl&gt; | pc9 &lt;dbl&gt; | pc10 &lt;dbl&gt; | lineage &lt;chr&gt; |\n",
       "|---|---|---|---|---|---|---|---|---|---|---|---|---|\n",
       "| 1 | ACH_000001 | -0.000791137 | 0.000700169 | 0.000914316 | -0.000919319 | -0.000335148 | 0.000578365 | -0.001091010 | -0.001056380 | -0.00106275 | 1.23351e-04 | 1 |\n",
       "| 2 | ACH_000002 | -0.000746101 | 0.000703607 | 0.001000010 | -0.000973165 | -0.000343036 | 0.000576750 | -0.000895354 | -0.001185090 | -0.00117146 | 4.58036e-05 | 2 |\n",
       "| 3 | ACH_000004 | -0.000745383 | 0.000644963 | 0.000917040 | -0.000897439 | -0.000472070 | 0.000553266 | -0.000993790 | -0.001029550 | -0.00105329 | 2.53595e-04 | 2 |\n",
       "| 4 | ACH_000005 | -0.000762013 | 0.000694865 | 0.000943667 | -0.000947499 | -0.000467193 | 0.000665250 | -0.000985791 | -0.001070160 | -0.00113868 | 3.37099e-04 | 2 |\n",
       "| 5 | ACH_000006 | -0.000763688 | 0.000670431 | 0.000919129 | -0.000924049 | -0.000373714 | 0.000629725 | -0.000905337 | -0.000985003 | -0.00111806 | 1.46758e-04 | 2 |\n",
       "| 6 | ACH_000007 | -0.000802990 | 0.000694430 | 0.001089270 | -0.001151600 | -0.000645693 | 0.004852700 |  0.004318130 | -0.001237610 | -0.00149745 | 5.87248e-04 | 3 |\n",
       "\n"
      ],
      "text/plain": [
       "  IID        pc1          pc2         pc3         pc4          pc5         \n",
       "1 ACH_000001 -0.000791137 0.000700169 0.000914316 -0.000919319 -0.000335148\n",
       "2 ACH_000002 -0.000746101 0.000703607 0.001000010 -0.000973165 -0.000343036\n",
       "3 ACH_000004 -0.000745383 0.000644963 0.000917040 -0.000897439 -0.000472070\n",
       "4 ACH_000005 -0.000762013 0.000694865 0.000943667 -0.000947499 -0.000467193\n",
       "5 ACH_000006 -0.000763688 0.000670431 0.000919129 -0.000924049 -0.000373714\n",
       "6 ACH_000007 -0.000802990 0.000694430 0.001089270 -0.001151600 -0.000645693\n",
       "  pc6         pc7          pc8          pc9         pc10        lineage\n",
       "1 0.000578365 -0.001091010 -0.001056380 -0.00106275 1.23351e-04 1      \n",
       "2 0.000576750 -0.000895354 -0.001185090 -0.00117146 4.58036e-05 2      \n",
       "3 0.000553266 -0.000993790 -0.001029550 -0.00105329 2.53595e-04 2      \n",
       "4 0.000665250 -0.000985791 -0.001070160 -0.00113868 3.37099e-04 2      \n",
       "5 0.000629725 -0.000905337 -0.000985003 -0.00111806 1.46758e-04 2      \n",
       "6 0.004852700  0.004318130 -0.001237610 -0.00149745 5.87248e-04 3      "
      ]
     },
     "metadata": {},
     "output_type": "display_data"
    }
   ],
   "source": [
    "#Load in both of the covariate files and then merge them together into a single .cov file that is in the correct format\n",
    "paste(working_dir, \"/gwas\", sep = \"\") %>% setwd() #set the working directory\n",
    "pca.cov <- read.table('complete.hg38.ccle.all.called.pca10.eigenvec', sep = \"\\t\", fill = TRUE) #Covariates from PCA\n",
    "pca.cov <- pca.cov[,-1] #Remove the first column from pca.cov since we don't care about it\n",
    "lineage.cov <- read.table('cell.covariates.txt', sep = \"\\t\", fill = TRUE, header = TRUE) #Covariates from annotation file\n",
    "\n",
    "#Assign the column names to pca.cov\n",
    "colnames(pca.cov) <- c(\"ach_id\", \"pc1\", \"pc2\", \"pc3\", \"pc4\", \"pc5\", \"pc6\", \"pc7\", \"pc8\", \"pc9\", \"pc10\")\n",
    "\n",
    "\n",
    "#The lineage.cov file is incorrectly coded as the cell line names having a - instead of a _. \n",
    "#I say it's incorrect because the vcf/plink files have it as an _, and I don't feel like modifying those files\n",
    "lineage.cov$ach_id <- gsub(\"-\", \"_\", lineage.cov$ach_id)\n",
    "head(lineage.cov)\n",
    "\n",
    "#Convert the tumor types into numbers so that we can add it to the covariates file\n",
    "unique.lineage <- lineage.cov$lineage %>% unique()\n",
    "lineage.numbers <- seq(from = 1, to = length(unique.lineage), by = 1)\n",
    "lineage.encoding <- cbind(unique.lineage, lineage.numbers) %>% data.frame()\n",
    "colnames(lineage.encoding) <- c(\"lineage\", \"number\")\n",
    "lineage.cov$lineage <- plyr::mapvalues(lineage.cov$lineage, from = lineage.encoding$lineage, to = lineage.encoding$number)\n",
    "head(lineage.encoding)\n",
    "\n",
    "\n",
    "#merge the two datasets together\n",
    "pca.lineage.cov <- merge(pca.cov, lineage.cov, by = \"ach_id\")\n",
    "\n",
    "\n",
    "#format the .cov file\n",
    "covariate.file <- pca.lineage.cov\n",
    "colnames(covariate.file)[1] <- c(\"IID\")\n",
    "\n",
    "\n",
    "#Look at the head of each df to make sure that they are formatted correctly\n",
    "head(covariate.file)\n",
    "\n",
    "\n",
    "#write the covariate file\n",
    "write.table(covariate.file, \"depmap.cov\", sep = \"\\t\", col.names = TRUE, row.names = FALSE, quote = FALSE)"
   ]
  },
  {
   "cell_type": "markdown",
   "metadata": {},
   "source": [
    "Now get all of the phenotype data"
   ]
  },
  {
   "cell_type": "code",
   "execution_count": 32,
   "metadata": {},
   "outputs": [],
   "source": [
    "#Get a vector of all of the ancestry-associated genes.\n",
    "paste(working_dir, \"/ccle_ancestry_analysis\", sep = \"\") %>% setwd() #set the working directory\n",
    "ancestry.associated.genes = read.table('ancestry_chronos_logistic_correlations.txt', sep = \"\\t\", header = T) %>%\n",
    "mutate(fdr_afr = p.adjust(pval_afr, method = \"BH\", n = n())) %>%\n",
    "mutate(fdr_amr = p.adjust(pval_amr, method = \"BH\", n = n())) %>%\n",
    "mutate(fdr_eas = p.adjust(pval_eas, method = \"BH\", n = n())) %>%\n",
    "mutate(fdr_eur = p.adjust(pval_eur, method = \"BH\", n = n())) %>%\n",
    "mutate(fdr_sas = p.adjust(pval_sas, method = \"BH\", n = n())) %>%\n",
    "filter(fdr_afr < 0.05 | fdr_amr < 0.05 | fdr_eas < 0.05 | fdr_eur < 0.05 | fdr_sas < 0.05) %>%\n",
    "pull(gene) "
   ]
  },
  {
   "cell_type": "code",
   "execution_count": 33,
   "metadata": {},
   "outputs": [
    {
     "data": {
      "text/html": [
       "<style>\n",
       ".list-inline {list-style: none; margin:0; padding: 0}\n",
       ".list-inline>li {display: inline-block}\n",
       ".list-inline>li:not(:last-child)::after {content: \"\\00b7\"; padding: 0 .5ex}\n",
       "</style>\n",
       "<ol class=list-inline><li>1032</li><li>69</li></ol>\n"
      ],
      "text/latex": [
       "\\begin{enumerate*}\n",
       "\\item 1032\n",
       "\\item 69\n",
       "\\end{enumerate*}\n"
      ],
      "text/markdown": [
       "1. 1032\n",
       "2. 69\n",
       "\n",
       "\n"
      ],
      "text/plain": [
       "[1] 1032   69"
      ]
     },
     "metadata": {},
     "output_type": "display_data"
    },
    {
     "data": {
      "text/html": [
       "<table class=\"dataframe\">\n",
       "<caption>A data.frame: 10 × 10</caption>\n",
       "<thead>\n",
       "\t<tr><th></th><th scope=col>IID</th><th scope=col>ACAN</th><th scope=col>ACSM5</th><th scope=col>ATAD3B</th><th scope=col>C22orf31</th><th scope=col>C2orf80</th><th scope=col>C7orf57</th><th scope=col>CBFA2T2</th><th scope=col>CCDC74B</th><th scope=col>CEP19</th></tr>\n",
       "\t<tr><th></th><th scope=col>&lt;chr&gt;</th><th scope=col>&lt;chr&gt;</th><th scope=col>&lt;chr&gt;</th><th scope=col>&lt;chr&gt;</th><th scope=col>&lt;chr&gt;</th><th scope=col>&lt;chr&gt;</th><th scope=col>&lt;chr&gt;</th><th scope=col>&lt;chr&gt;</th><th scope=col>&lt;chr&gt;</th><th scope=col>&lt;chr&gt;</th></tr>\n",
       "</thead>\n",
       "<tbody>\n",
       "\t<tr><th scope=row>2</th><td>ACH_000001</td><td>0.013831177036022513 </td><td>0.06791100916254111  </td><td>0.11461641309209195 </td><td>0.04839211189620645 </td><td>-0.08352274888772399</td><td>0.19679859855515866  </td><td>0.07272412195501822  </td><td>-0.23932915293650306</td><td>0.04061729728280683  </td></tr>\n",
       "\t<tr><th scope=row>3</th><td>ACH_000004</td><td>-0.16882820847058932 </td><td>-0.05246724531068683 </td><td>0.08654679853207381 </td><td>0.057524740218377474</td><td>0.046793114175383184</td><td>-0.002845922354623769</td><td>-0.017934936288543753</td><td>0.11731691908146608 </td><td>-0.006339793223290861</td></tr>\n",
       "\t<tr><th scope=row>4</th><td>ACH_000005</td><td>0.0031318407672419404</td><td>0.1023121781128291   </td><td>0.03467980244741733 </td><td>0.09091683497756284 </td><td>-0.10923916147404387</td><td>0.03545184806036643  </td><td>0.016765367115948115 </td><td>0.034112633776800017</td><td>-0.0454750194130222  </td></tr>\n",
       "\t<tr><th scope=row>5</th><td>ACH_000007</td><td>-0.07597493340194461 </td><td>0.02682924972396029  </td><td>-0.08361651043269965</td><td>0.030157690478738168</td><td>-0.08683093595857225</td><td>0.15564067443691032  </td><td>-0.0197245684138509  </td><td>-0.21552254658340672</td><td>-0.020430708597502286</td></tr>\n",
       "\t<tr><th scope=row>6</th><td>ACH_000009</td><td>-0.08067893335608126 </td><td>0.13324417976680636  </td><td>-0.05568857905387707</td><td>0.06484416164039836 </td><td>-0.11266101259951812</td><td>0.15488500876265612  </td><td>-0.03149924065294382 </td><td>-0.2434548682325304 </td><td>-0.0080817112230735  </td></tr>\n",
       "\t<tr><th scope=row>7</th><td>ACH_000011</td><td>-0.17524798741870218 </td><td>-0.13159743126837373 </td><td>-0.05182269604764644</td><td>0.2238278924860508  </td><td>-0.06893007567710188</td><td>0.06323396661184788  </td><td>-0.14572901744977307 </td><td>-0.2980727246644349 </td><td>-0.06957855484064275 </td></tr>\n",
       "\t<tr><th scope=row>8</th><td>ACH_000012</td><td>0.03629205249062661  </td><td>-0.023050884439771328</td><td>-0.1971744392849028 </td><td>0.028679932597900692</td><td>-0.1596492885798107 </td><td>0.10560704134611597  </td><td>0.2545374765727802   </td><td>-0.1782039525307162 </td><td>0.07066779728222478  </td></tr>\n",
       "\t<tr><th scope=row>9</th><td>ACH_000013</td><td>0.16217652919147846  </td><td>0.06206296641648775  </td><td>0.04166310567667796 </td><td>0.050289220993347816</td><td>0.04588516918836931 </td><td>0.07468320731692724  </td><td>0.1592101798528528   </td><td>-0.12165843633306007</td><td>-0.16377059559166424 </td></tr>\n",
       "\t<tr><th scope=row>10</th><td>ACH_000014</td><td>0.06651211217853001  </td><td>-0.027313040564280498</td><td>0.07543656633804338 </td><td>0.045391118458644346</td><td>0.05129574861639419 </td><td>-0.05455409250012471 </td><td>-0.007534950227477088</td><td>-0.29323664178429426</td><td>0.056940136266779635 </td></tr>\n",
       "\t<tr><th scope=row>11</th><td>ACH_000015</td><td>-0.008583752534126427</td><td>-0.1206994713307842  </td><td>0.04443977391012143 </td><td>0.04916334614988057 </td><td>0.06690129667804426 </td><td>0.12320125177261987  </td><td>0.020553854601321198 </td><td>-0.08335791002102635</td><td>-0.03574263915237305 </td></tr>\n",
       "</tbody>\n",
       "</table>\n"
      ],
      "text/latex": [
       "A data.frame: 10 × 10\n",
       "\\begin{tabular}{r|llllllllll}\n",
       "  & IID & ACAN & ACSM5 & ATAD3B & C22orf31 & C2orf80 & C7orf57 & CBFA2T2 & CCDC74B & CEP19\\\\\n",
       "  & <chr> & <chr> & <chr> & <chr> & <chr> & <chr> & <chr> & <chr> & <chr> & <chr>\\\\\n",
       "\\hline\n",
       "\t2 & ACH\\_000001 & 0.013831177036022513  & 0.06791100916254111   & 0.11461641309209195  & 0.04839211189620645  & -0.08352274888772399 & 0.19679859855515866   & 0.07272412195501822   & -0.23932915293650306 & 0.04061729728280683  \\\\\n",
       "\t3 & ACH\\_000004 & -0.16882820847058932  & -0.05246724531068683  & 0.08654679853207381  & 0.057524740218377474 & 0.046793114175383184 & -0.002845922354623769 & -0.017934936288543753 & 0.11731691908146608  & -0.006339793223290861\\\\\n",
       "\t4 & ACH\\_000005 & 0.0031318407672419404 & 0.1023121781128291    & 0.03467980244741733  & 0.09091683497756284  & -0.10923916147404387 & 0.03545184806036643   & 0.016765367115948115  & 0.034112633776800017 & -0.0454750194130222  \\\\\n",
       "\t5 & ACH\\_000007 & -0.07597493340194461  & 0.02682924972396029   & -0.08361651043269965 & 0.030157690478738168 & -0.08683093595857225 & 0.15564067443691032   & -0.0197245684138509   & -0.21552254658340672 & -0.020430708597502286\\\\\n",
       "\t6 & ACH\\_000009 & -0.08067893335608126  & 0.13324417976680636   & -0.05568857905387707 & 0.06484416164039836  & -0.11266101259951812 & 0.15488500876265612   & -0.03149924065294382  & -0.2434548682325304  & -0.0080817112230735  \\\\\n",
       "\t7 & ACH\\_000011 & -0.17524798741870218  & -0.13159743126837373  & -0.05182269604764644 & 0.2238278924860508   & -0.06893007567710188 & 0.06323396661184788   & -0.14572901744977307  & -0.2980727246644349  & -0.06957855484064275 \\\\\n",
       "\t8 & ACH\\_000012 & 0.03629205249062661   & -0.023050884439771328 & -0.1971744392849028  & 0.028679932597900692 & -0.1596492885798107  & 0.10560704134611597   & 0.2545374765727802    & -0.1782039525307162  & 0.07066779728222478  \\\\\n",
       "\t9 & ACH\\_000013 & 0.16217652919147846   & 0.06206296641648775   & 0.04166310567667796  & 0.050289220993347816 & 0.04588516918836931  & 0.07468320731692724   & 0.1592101798528528    & -0.12165843633306007 & -0.16377059559166424 \\\\\n",
       "\t10 & ACH\\_000014 & 0.06651211217853001   & -0.027313040564280498 & 0.07543656633804338  & 0.045391118458644346 & 0.05129574861639419  & -0.05455409250012471  & -0.007534950227477088 & -0.29323664178429426 & 0.056940136266779635 \\\\\n",
       "\t11 & ACH\\_000015 & -0.008583752534126427 & -0.1206994713307842   & 0.04443977391012143  & 0.04916334614988057  & 0.06690129667804426  & 0.12320125177261987   & 0.020553854601321198  & -0.08335791002102635 & -0.03574263915237305 \\\\\n",
       "\\end{tabular}\n"
      ],
      "text/markdown": [
       "\n",
       "A data.frame: 10 × 10\n",
       "\n",
       "| <!--/--> | IID &lt;chr&gt; | ACAN &lt;chr&gt; | ACSM5 &lt;chr&gt; | ATAD3B &lt;chr&gt; | C22orf31 &lt;chr&gt; | C2orf80 &lt;chr&gt; | C7orf57 &lt;chr&gt; | CBFA2T2 &lt;chr&gt; | CCDC74B &lt;chr&gt; | CEP19 &lt;chr&gt; |\n",
       "|---|---|---|---|---|---|---|---|---|---|---|\n",
       "| 2 | ACH_000001 | 0.013831177036022513  | 0.06791100916254111   | 0.11461641309209195  | 0.04839211189620645  | -0.08352274888772399 | 0.19679859855515866   | 0.07272412195501822   | -0.23932915293650306 | 0.04061729728280683   |\n",
       "| 3 | ACH_000004 | -0.16882820847058932  | -0.05246724531068683  | 0.08654679853207381  | 0.057524740218377474 | 0.046793114175383184 | -0.002845922354623769 | -0.017934936288543753 | 0.11731691908146608  | -0.006339793223290861 |\n",
       "| 4 | ACH_000005 | 0.0031318407672419404 | 0.1023121781128291    | 0.03467980244741733  | 0.09091683497756284  | -0.10923916147404387 | 0.03545184806036643   | 0.016765367115948115  | 0.034112633776800017 | -0.0454750194130222   |\n",
       "| 5 | ACH_000007 | -0.07597493340194461  | 0.02682924972396029   | -0.08361651043269965 | 0.030157690478738168 | -0.08683093595857225 | 0.15564067443691032   | -0.0197245684138509   | -0.21552254658340672 | -0.020430708597502286 |\n",
       "| 6 | ACH_000009 | -0.08067893335608126  | 0.13324417976680636   | -0.05568857905387707 | 0.06484416164039836  | -0.11266101259951812 | 0.15488500876265612   | -0.03149924065294382  | -0.2434548682325304  | -0.0080817112230735   |\n",
       "| 7 | ACH_000011 | -0.17524798741870218  | -0.13159743126837373  | -0.05182269604764644 | 0.2238278924860508   | -0.06893007567710188 | 0.06323396661184788   | -0.14572901744977307  | -0.2980727246644349  | -0.06957855484064275  |\n",
       "| 8 | ACH_000012 | 0.03629205249062661   | -0.023050884439771328 | -0.1971744392849028  | 0.028679932597900692 | -0.1596492885798107  | 0.10560704134611597   | 0.2545374765727802    | -0.1782039525307162  | 0.07066779728222478   |\n",
       "| 9 | ACH_000013 | 0.16217652919147846   | 0.06206296641648775   | 0.04166310567667796  | 0.050289220993347816 | 0.04588516918836931  | 0.07468320731692724   | 0.1592101798528528    | -0.12165843633306007 | -0.16377059559166424  |\n",
       "| 10 | ACH_000014 | 0.06651211217853001   | -0.027313040564280498 | 0.07543656633804338  | 0.045391118458644346 | 0.05129574861639419  | -0.05455409250012471  | -0.007534950227477088 | -0.29323664178429426 | 0.056940136266779635  |\n",
       "| 11 | ACH_000015 | -0.008583752534126427 | -0.1206994713307842   | 0.04443977391012143  | 0.04916334614988057  | 0.06690129667804426  | 0.12320125177261987   | 0.020553854601321198  | -0.08335791002102635 | -0.03574263915237305  |\n",
       "\n"
      ],
      "text/plain": [
       "   IID        ACAN                  ACSM5                 ATAD3B              \n",
       "2  ACH_000001 0.013831177036022513  0.06791100916254111   0.11461641309209195 \n",
       "3  ACH_000004 -0.16882820847058932  -0.05246724531068683  0.08654679853207381 \n",
       "4  ACH_000005 0.0031318407672419404 0.1023121781128291    0.03467980244741733 \n",
       "5  ACH_000007 -0.07597493340194461  0.02682924972396029   -0.08361651043269965\n",
       "6  ACH_000009 -0.08067893335608126  0.13324417976680636   -0.05568857905387707\n",
       "7  ACH_000011 -0.17524798741870218  -0.13159743126837373  -0.05182269604764644\n",
       "8  ACH_000012 0.03629205249062661   -0.023050884439771328 -0.1971744392849028 \n",
       "9  ACH_000013 0.16217652919147846   0.06206296641648775   0.04166310567667796 \n",
       "10 ACH_000014 0.06651211217853001   -0.027313040564280498 0.07543656633804338 \n",
       "11 ACH_000015 -0.008583752534126427 -0.1206994713307842   0.04443977391012143 \n",
       "   C22orf31             C2orf80              C7orf57              \n",
       "2  0.04839211189620645  -0.08352274888772399 0.19679859855515866  \n",
       "3  0.057524740218377474 0.046793114175383184 -0.002845922354623769\n",
       "4  0.09091683497756284  -0.10923916147404387 0.03545184806036643  \n",
       "5  0.030157690478738168 -0.08683093595857225 0.15564067443691032  \n",
       "6  0.06484416164039836  -0.11266101259951812 0.15488500876265612  \n",
       "7  0.2238278924860508   -0.06893007567710188 0.06323396661184788  \n",
       "8  0.028679932597900692 -0.1596492885798107  0.10560704134611597  \n",
       "9  0.050289220993347816 0.04588516918836931  0.07468320731692724  \n",
       "10 0.045391118458644346 0.05129574861639419  -0.05455409250012471 \n",
       "11 0.04916334614988057  0.06690129667804426  0.12320125177261987  \n",
       "   CBFA2T2               CCDC74B              CEP19                \n",
       "2  0.07272412195501822   -0.23932915293650306 0.04061729728280683  \n",
       "3  -0.017934936288543753 0.11731691908146608  -0.006339793223290861\n",
       "4  0.016765367115948115  0.034112633776800017 -0.0454750194130222  \n",
       "5  -0.0197245684138509   -0.21552254658340672 -0.020430708597502286\n",
       "6  -0.03149924065294382  -0.2434548682325304  -0.0080817112230735  \n",
       "7  -0.14572901744977307  -0.2980727246644349  -0.06957855484064275 \n",
       "8  0.2545374765727802    -0.1782039525307162  0.07066779728222478  \n",
       "9  0.1592101798528528    -0.12165843633306007 -0.16377059559166424 \n",
       "10 -0.007534950227477088 -0.29323664178429426 0.056940136266779635 \n",
       "11 0.020553854601321198  -0.08335791002102635 -0.03574263915237305 "
      ]
     },
     "metadata": {},
     "output_type": "display_data"
    }
   ],
   "source": [
    "#Format the phenotype file\n",
    "\n",
    "#Download the depmap chronos scores\n",
    "system(glue::glue(\"\n",
    "cd {working_dir}/gwas\n",
    "gsutil cp gs://fc-45c0e148-0b1c-4244-9bfc-feb559bbc514/CRISPR_gene_effect.csv .\n",
    "\"))\n",
    "\n",
    "#Load the chronos scores and format it\n",
    "paste(working_dir, \"/gwas\", sep = \"\") %>% setwd() #set the working directory\n",
    "chronos.scores <- read.table('CRISPR_gene_effect.csv', sep = \",\", header = F)\n",
    "colnames(chronos.scores) = sub(\" .*\", \"\", chronos.scores[1,]) #Remove all of the junk after the gene name\n",
    "chronos.scores <- chronos.scores[-1,] #Remove the old 'col.names' row.\n",
    "colnames(chronos.scores)[1] <- \"IID\" #Convert the column name for the first column to IID, as per the formatting requirements for the .pheno file\n",
    "chronos.scores$IID <- gsub(\"-\", \"_\", chronos.scores$IID) #Replace the - with a _ to match the notation in the plink files\n",
    "chronos.scores[chronos.scores == \"\"] <- 0 #Replace the missing values with 0. Clearly not the best solution, but it is A solution. And these are rare cases, so it shouldn't affect it too much.   \n",
    "\n",
    "\n",
    "#Now filter it so that it only includes the high variance genes\n",
    "genes.to.keep = intersect(colnames(chronos.scores), ancestry.associated.genes)\n",
    "chronos.scores = chronos.scores %>%\n",
    "select(IID, all_of(genes.to.keep))\n",
    "\n",
    "\n",
    "dim(chronos.scores)\n",
    "chronos.scores[1:10, 1:10] #Print the head of the dataset so that we can take a look at it\n",
    "\n",
    "#write the phenotype.file\n",
    "write.table(chronos.scores, \"chronos_gwas_phenotypes.pheno\", sep = \"\\t\", col.names = TRUE, row.names = FALSE, quote = FALSE)"
   ]
  },
  {
   "cell_type": "code",
   "execution_count": 19,
   "metadata": {},
   "outputs": [],
   "source": [
    "#Run GWAS!!!\n",
    "system(glue::glue(\"\n",
    "cd {working_dir}/gwas\n",
    "{working_dir}/software/plink2/plink2 --bfile complete.hg38.ccle.all.called --allow-extra-chr --glm hide-covar --pfilter 1 --maf 0.01 --covar 'iid-only' depmap.cov --pheno chronos_gwas_phenotypes.pheno --out {working_dir}/gwas_output\n",
    "cd {working_dir}/gwas_output\n",
    "rm splice_gwas_out.log\n",
    "\"))"
   ]
  },
  {
   "cell_type": "code",
   "execution_count": null,
   "metadata": {},
   "outputs": [],
   "source": []
  }
 ],
 "metadata": {
  "kernelspec": {
   "display_name": "R",
   "language": "R",
   "name": "ir"
  },
  "language_info": {
   "codemirror_mode": "r",
   "file_extension": ".r",
   "mimetype": "text/x-r-source",
   "name": "R",
   "pygments_lexer": "r",
   "version": "4.1.1"
  },
  "toc": {
   "base_numbering": 1,
   "nav_menu": {},
   "number_sections": true,
   "sideBar": true,
   "skip_h1_title": false,
   "title_cell": "Table of Contents",
   "title_sidebar": "Contents",
   "toc_cell": false,
   "toc_position": {},
   "toc_section_display": true,
   "toc_window_display": false
  }
 },
 "nbformat": 4,
 "nbformat_minor": 2
}
