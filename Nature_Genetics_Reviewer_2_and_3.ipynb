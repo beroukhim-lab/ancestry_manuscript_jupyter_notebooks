{
 "cells": [
  {
   "cell_type": "markdown",
   "metadata": {},
   "source": [
    "The purpose of this notebook is to address all of the things that Reviewers 2/3 wanted"
   ]
  },
  {
   "cell_type": "code",
   "execution_count": 3,
   "metadata": {},
   "outputs": [
    {
     "name": "stderr",
     "output_type": "stream",
     "text": [
      "Warning message in system(\"timedatectl\", intern = TRUE):\n",
      "“running command 'timedatectl' had status 1”\n",
      "── \u001b[1mAttaching packages\u001b[22m ─────────────────────────────────────── tidyverse 1.3.2 ──\n",
      "\u001b[32m✔\u001b[39m \u001b[34mggplot2\u001b[39m 3.4.2     \u001b[32m✔\u001b[39m \u001b[34mpurrr  \u001b[39m 0.3.4\n",
      "\u001b[32m✔\u001b[39m \u001b[34mtibble \u001b[39m 3.2.1     \u001b[32m✔\u001b[39m \u001b[34mdplyr  \u001b[39m 1.0.9\n",
      "\u001b[32m✔\u001b[39m \u001b[34mtidyr  \u001b[39m 1.2.0     \u001b[32m✔\u001b[39m \u001b[34mstringr\u001b[39m 1.5.0\n",
      "\u001b[32m✔\u001b[39m \u001b[34mreadr  \u001b[39m 2.1.4     \u001b[32m✔\u001b[39m \u001b[34mforcats\u001b[39m 0.5.1\n",
      "── \u001b[1mConflicts\u001b[22m ────────────────────────────────────────── tidyverse_conflicts() ──\n",
      "\u001b[31m✖\u001b[39m \u001b[34mdplyr\u001b[39m::\u001b[32mfilter()\u001b[39m masks \u001b[34mstats\u001b[39m::filter()\n",
      "\u001b[31m✖\u001b[39m \u001b[34mdplyr\u001b[39m::\u001b[32mlag()\u001b[39m    masks \u001b[34mstats\u001b[39m::lag()\n",
      "Loading required package: RCurl\n",
      "\n",
      "\n",
      "Attaching package: ‘RCurl’\n",
      "\n",
      "\n",
      "The following object is masked from ‘package:tidyr’:\n",
      "\n",
      "    complete\n",
      "\n",
      "\n",
      "Loading required package: httr\n",
      "\n"
     ]
    }
   ],
   "source": [
    "#set up the environment\n",
    "library(reshape2)\n",
    "library(tidyverse)\n",
    "library(taigr) #useful for loading depmap data"
   ]
  },
  {
   "cell_type": "markdown",
   "metadata": {
    "heading_collapsed": true
   },
   "source": [
    "# Comment 5 "
   ]
  },
  {
   "cell_type": "markdown",
   "metadata": {
    "hidden": true
   },
   "source": [
    "The purpose of this code is to intersect the number of variants called by SNP array vs WGS"
   ]
  },
  {
   "cell_type": "code",
   "execution_count": null,
   "metadata": {
    "hidden": true
   },
   "outputs": [],
   "source": [
    "###Bash code, just run this in terminal\n",
    "\n",
    "#Get a list of all of the WGS and SNP6 samples\n",
    "cd /home/jupyter/Ancestry/raw_data/depmap/wgs_data/\n",
    "ls ACH*.vcf.gz | cut -d\".\" -f1 > /home/jupyter/Ancestry/analysis/wgs_snp6_intersection/wgs_file_names.txt\n",
    "\n",
    "cd /home/jupyter/Ancestry/raw_data/depmap/snp6_data/\n",
    "for file in split.all_chroms.maf.subset.reheader.ACH*.vcf.gz; do echo \"${file%.vcf.gz}\"; done > tmp.txt\n",
    "sed 's/split\\.all_chroms\\.maf\\.subset\\.reheader\\.//' tmp.txt > /home/jupyter/Ancestry/analysis/wgs_snp6_intersection/snp6_file_names.txt\n",
    "rm tmp.txt\n",
    "\n",
    "#Calculate the intersecting set of samples\n",
    "cd /home/jupyter/Ancestry/analysis/wgs_snp6_intersection\n",
    "file1=\"wgs_file_names.txt\"  \n",
    "file2=\"snp6_file_names.txt\" \n",
    "comm -12 <(sort \"$file1\") <(sort \"$file2\") > intersecting_wgs_snp6_samples.txt\n",
    "\n",
    "\n",
    "#Loop through all of the files and calculate the intersection\n",
    "cd /home/jupyter/Ancestry/analysis/wgs_snp6_intersection\n",
    "while IFS= read -r line; do\n",
    "    echo \"Processing line: $line\"\n",
    "\t/home/jupyter/Ancestry/software/bcftools/bcftools isec /home/jupyter/Ancestry/raw_data/depmap/snp6_data/split.all_chroms.maf.subset.reheader.$line.vcf.gz /home/jupyter/Ancestry/raw_data/depmap/wgs_data/$line.pass.vcf.gz -p $line -Oz &\n",
    "done < intersecting_wgs_snp6_samples.txt\n",
    "\n",
    "\n",
    "\n",
    "#Create places to store the data\n",
    "touch num_snp6_only.txt\n",
    "touch num_wgs_only.txt\n",
    "touch num_shared.txt\n",
    "\n",
    "\n",
    "#Now loop through all of the output directories and record the number of variants for each file\n",
    "for directory in /home/jupyter/Ancestry/analysis/wgs_snp6_intersection/ACH*/; do\n",
    "    echo \"Entering directory: $directory\"\n",
    "    cd \"$directory\"\n",
    "\t\n",
    "\t#Count the number of variants\n",
    "\tnum_snp6_only=$(zcat 0000.vcf.gz | grep -v \"#\" | wc -l)\n",
    "\tnum_wgs_only=$(zcat 0001.vcf.gz | grep -v \"#\" | wc -l)\n",
    "\tnum_shared=$(zcat 0002.vcf.gz | grep -v \"#\" | wc -l)\n",
    "\t\n",
    "\t#Add this information to some new files\n",
    "\techo $num_snp6_only >> /home/jupyter/Ancestry/analysis/wgs_snp6_intersection/num_snp6_only.txt\n",
    "\techo $num_wgs_only >> /home/jupyter/Ancestry/analysis/wgs_snp6_intersection/num_wgs_only.txt\n",
    "\techo $num_shared >> /home/jupyter/Ancestry/analysis/wgs_snp6_intersection/num_shared.txt\n",
    "\t\n",
    "\t#Leave the directory\n",
    "    cd /home/jupyter/Ancestry/analysis/wgs_snp6_intersection/\n",
    "\t\n",
    "done"
   ]
  },
  {
   "cell_type": "code",
   "execution_count": 2,
   "metadata": {
    "hidden": true
   },
   "outputs": [
    {
     "data": {
      "text/html": [
       "<table class=\"dataframe\">\n",
       "<caption>A data.frame: 6 × 7</caption>\n",
       "<thead>\n",
       "\t<tr><th></th><th scope=col>sample</th><th scope=col>afr</th><th scope=col>amr</th><th scope=col>eas</th><th scope=col>eur</th><th scope=col>sas</th><th scope=col>ancestry_call</th></tr>\n",
       "\t<tr><th></th><th scope=col>&lt;chr&gt;</th><th scope=col>&lt;dbl&gt;</th><th scope=col>&lt;dbl&gt;</th><th scope=col>&lt;dbl&gt;</th><th scope=col>&lt;dbl&gt;</th><th scope=col>&lt;dbl&gt;</th><th scope=col>&lt;chr&gt;</th></tr>\n",
       "</thead>\n",
       "<tbody>\n",
       "\t<tr><th scope=row>1</th><td>ACH-000657</td><td>0.9601677273</td><td>0.0005504545</td><td>0.0063213636</td><td>0.03192409</td><td>0.0010363636</td><td>afr</td></tr>\n",
       "\t<tr><th scope=row>2</th><td>ACH-000617</td><td>0.0028859091</td><td>0.0204050000</td><td>0.0000000000</td><td>0.97557545</td><td>0.0011336364</td><td>eur</td></tr>\n",
       "\t<tr><th scope=row>3</th><td>ACH-000685</td><td>0.8539895455</td><td>0.0272740909</td><td>0.0395313636</td><td>0.07403591</td><td>0.0051686364</td><td>afr</td></tr>\n",
       "\t<tr><th scope=row>4</th><td>ACH-000632</td><td>0.0025995455</td><td>0.0009922727</td><td>0.0001513636</td><td>0.99553364</td><td>0.0007231818</td><td>eur</td></tr>\n",
       "\t<tr><th scope=row>5</th><td>ACH-000171</td><td>0.0007454545</td><td>0.0000000000</td><td>0.0010822727</td><td>0.99686682</td><td>0.0013054545</td><td>eur</td></tr>\n",
       "\t<tr><th scope=row>6</th><td>ACH-000863</td><td>0.0065409091</td><td>0.0000000000</td><td>0.0036922727</td><td>0.96728000</td><td>0.0224868182</td><td>eur</td></tr>\n",
       "</tbody>\n",
       "</table>\n"
      ],
      "text/latex": [
       "A data.frame: 6 × 7\n",
       "\\begin{tabular}{r|lllllll}\n",
       "  & sample & afr & amr & eas & eur & sas & ancestry\\_call\\\\\n",
       "  & <chr> & <dbl> & <dbl> & <dbl> & <dbl> & <dbl> & <chr>\\\\\n",
       "\\hline\n",
       "\t1 & ACH-000657 & 0.9601677273 & 0.0005504545 & 0.0063213636 & 0.03192409 & 0.0010363636 & afr\\\\\n",
       "\t2 & ACH-000617 & 0.0028859091 & 0.0204050000 & 0.0000000000 & 0.97557545 & 0.0011336364 & eur\\\\\n",
       "\t3 & ACH-000685 & 0.8539895455 & 0.0272740909 & 0.0395313636 & 0.07403591 & 0.0051686364 & afr\\\\\n",
       "\t4 & ACH-000632 & 0.0025995455 & 0.0009922727 & 0.0001513636 & 0.99553364 & 0.0007231818 & eur\\\\\n",
       "\t5 & ACH-000171 & 0.0007454545 & 0.0000000000 & 0.0010822727 & 0.99686682 & 0.0013054545 & eur\\\\\n",
       "\t6 & ACH-000863 & 0.0065409091 & 0.0000000000 & 0.0036922727 & 0.96728000 & 0.0224868182 & eur\\\\\n",
       "\\end{tabular}\n"
      ],
      "text/markdown": [
       "\n",
       "A data.frame: 6 × 7\n",
       "\n",
       "| <!--/--> | sample &lt;chr&gt; | afr &lt;dbl&gt; | amr &lt;dbl&gt; | eas &lt;dbl&gt; | eur &lt;dbl&gt; | sas &lt;dbl&gt; | ancestry_call &lt;chr&gt; |\n",
       "|---|---|---|---|---|---|---|---|\n",
       "| 1 | ACH-000657 | 0.9601677273 | 0.0005504545 | 0.0063213636 | 0.03192409 | 0.0010363636 | afr |\n",
       "| 2 | ACH-000617 | 0.0028859091 | 0.0204050000 | 0.0000000000 | 0.97557545 | 0.0011336364 | eur |\n",
       "| 3 | ACH-000685 | 0.8539895455 | 0.0272740909 | 0.0395313636 | 0.07403591 | 0.0051686364 | afr |\n",
       "| 4 | ACH-000632 | 0.0025995455 | 0.0009922727 | 0.0001513636 | 0.99553364 | 0.0007231818 | eur |\n",
       "| 5 | ACH-000171 | 0.0007454545 | 0.0000000000 | 0.0010822727 | 0.99686682 | 0.0013054545 | eur |\n",
       "| 6 | ACH-000863 | 0.0065409091 | 0.0000000000 | 0.0036922727 | 0.96728000 | 0.0224868182 | eur |\n",
       "\n"
      ],
      "text/plain": [
       "  sample     afr          amr          eas          eur        sas         \n",
       "1 ACH-000657 0.9601677273 0.0005504545 0.0063213636 0.03192409 0.0010363636\n",
       "2 ACH-000617 0.0028859091 0.0204050000 0.0000000000 0.97557545 0.0011336364\n",
       "3 ACH-000685 0.8539895455 0.0272740909 0.0395313636 0.07403591 0.0051686364\n",
       "4 ACH-000632 0.0025995455 0.0009922727 0.0001513636 0.99553364 0.0007231818\n",
       "5 ACH-000171 0.0007454545 0.0000000000 0.0010822727 0.99686682 0.0013054545\n",
       "6 ACH-000863 0.0065409091 0.0000000000 0.0036922727 0.96728000 0.0224868182\n",
       "  ancestry_call\n",
       "1 afr          \n",
       "2 eur          \n",
       "3 afr          \n",
       "4 eur          \n",
       "5 eur          \n",
       "6 eur          "
      ]
     },
     "metadata": {},
     "output_type": "display_data"
    }
   ],
   "source": [
    "#Load in the ancestry information for all of the cell lines\n",
    "setwd('/home/jupyter/Ancestry/rfmix')\n",
    "ancestry.calls = read.table(\"ccle_snp6_ancestry_calls.txt\", sep = \"\\t\", header = T) %>%\n",
    "rename(\"sample\" = 1, \"afr\" = 2, \"amr\" = 3, \"eas\" = 4, \"eur\" = 5, \"sas\" = 6) %>%\n",
    "mutate(\"ancestry_call\" = ifelse(afr >= 0.8, \"afr\",\n",
    "                               ifelse(amr >= 0.8, \"amr\",\n",
    "                                     ifelse(eas >= 0.8, \"eas\",\n",
    "                                           ifelse(eur >= 0.8, \"eur\",\n",
    "                                                 ifelse(sas >= 0.8, \"sas\", \"admixed\"))))))\n",
    "\n",
    "head(ancestry.calls)"
   ]
  },
  {
   "cell_type": "code",
   "execution_count": 7,
   "metadata": {
    "hidden": true
   },
   "outputs": [
    {
     "name": "stdout",
     "output_type": "stream",
     "text": [
      "Fetching https://cds.team/taiga/api/dataset/public-22q1-305b/24 \n",
      "Status 200 \n"
     ]
    },
    {
     "name": "stderr",
     "output_type": "stream",
     "text": [
      "No encoding supplied: defaulting to UTF-8.\n",
      "\n"
     ]
    },
    {
     "name": "stdout",
     "output_type": "stream",
     "text": [
      "loading cached data version from  /home/jupyter/.taiga/public-22q1-305b_24.toc \n"
     ]
    },
    {
     "name": "stderr",
     "output_type": "stream",
     "text": [
      "Loading from cached file /home/jupyter/.taiga/90832e86cae84f918423ad1d83fa4222_sample-info.rds\n",
      "\n"
     ]
    },
    {
     "data": {
      "text/html": [
       "<table class=\"dataframe\">\n",
       "<caption>A data.frame: 6 × 22</caption>\n",
       "<thead>\n",
       "\t<tr><th></th><th scope=col>DepMap_ID</th><th scope=col>cell_line_name</th><th scope=col>stripped_cell_line_name</th><th scope=col>CCLE_Name</th><th scope=col>alias</th><th scope=col>COSMICID</th><th scope=col>sex</th><th scope=col>source</th><th scope=col>RRID</th><th scope=col>WTSI_Master_Cell_ID</th><th scope=col>⋯</th><th scope=col>primary_disease</th><th scope=col>Subtype</th><th scope=col>age</th><th scope=col>Sanger_Model_ID</th><th scope=col>depmap_public_comments</th><th scope=col>lineage</th><th scope=col>lineage_subtype</th><th scope=col>lineage_sub_subtype</th><th scope=col>lineage_molecular_subtype</th><th scope=col>culture_type</th></tr>\n",
       "\t<tr><th></th><th scope=col>&lt;chr&gt;</th><th scope=col>&lt;chr&gt;</th><th scope=col>&lt;chr&gt;</th><th scope=col>&lt;chr&gt;</th><th scope=col>&lt;chr&gt;</th><th scope=col>&lt;dbl&gt;</th><th scope=col>&lt;chr&gt;</th><th scope=col>&lt;chr&gt;</th><th scope=col>&lt;chr&gt;</th><th scope=col>&lt;dbl&gt;</th><th scope=col>⋯</th><th scope=col>&lt;chr&gt;</th><th scope=col>&lt;chr&gt;</th><th scope=col>&lt;dbl&gt;</th><th scope=col>&lt;chr&gt;</th><th scope=col>&lt;chr&gt;</th><th scope=col>&lt;chr&gt;</th><th scope=col>&lt;chr&gt;</th><th scope=col>&lt;chr&gt;</th><th scope=col>&lt;chr&gt;</th><th scope=col>&lt;chr&gt;</th></tr>\n",
       "</thead>\n",
       "<tbody>\n",
       "\t<tr><th scope=row>1</th><td>ACH-000001</td><td>NIH:OVCAR-3</td><td>NIHOVCAR3</td><td>NIHOVCAR3_OVARY                            </td><td>OVCAR3       </td><td>905933</td><td>Female</td><td>ATCC</td><td>CVCL_0465</td><td>2201</td><td>⋯</td><td>Ovarian Cancer         </td><td>Adenocarcinoma, high grade serous                            </td><td>60</td><td>SIDM00105</td><td></td><td>ovary     </td><td>ovary_adenocarcinoma     </td><td>high_grade_serous</td><td></td><td>Adherent  </td></tr>\n",
       "\t<tr><th scope=row>2</th><td>ACH-000002</td><td>HL-60      </td><td>HL60     </td><td>HL60_HAEMATOPOIETIC_AND_LYMPHOID_TISSUE    </td><td>             </td><td>905938</td><td>Female</td><td>ATCC</td><td>CVCL_0002</td><td>  55</td><td>⋯</td><td>Leukemia               </td><td>Acute Myelogenous Leukemia (AML), M3 (Promyelocytic)         </td><td>35</td><td>SIDM00829</td><td></td><td>blood     </td><td>AML                      </td><td>M3               </td><td></td><td>Suspension</td></tr>\n",
       "\t<tr><th scope=row>3</th><td>ACH-000003</td><td>CACO2      </td><td>CACO2    </td><td>CACO2_LARGE_INTESTINE                      </td><td>CACO2, CaCo-2</td><td>    NA</td><td>Male  </td><td>ATCC</td><td>CVCL_0025</td><td>  NA</td><td>⋯</td><td>Colon/Colorectal Cancer</td><td>Adenocarcinoma                                               </td><td>NA</td><td>SIDM00891</td><td></td><td>colorectal</td><td>colorectal_adenocarcinoma</td><td>                 </td><td></td><td>not found </td></tr>\n",
       "\t<tr><th scope=row>4</th><td>ACH-000004</td><td>HEL        </td><td>HEL      </td><td>HEL_HAEMATOPOIETIC_AND_LYMPHOID_TISSUE     </td><td>             </td><td>907053</td><td>Male  </td><td>DSMZ</td><td>CVCL_0001</td><td> 783</td><td>⋯</td><td>Leukemia               </td><td>Acute Myelogenous Leukemia (AML), M6 (Erythroleukemia)       </td><td>30</td><td>SIDM00594</td><td></td><td>blood     </td><td>AML                      </td><td>M6               </td><td></td><td>Suspension</td></tr>\n",
       "\t<tr><th scope=row>5</th><td>ACH-000005</td><td>HEL 92.1.7 </td><td>HEL9217  </td><td>HEL9217_HAEMATOPOIETIC_AND_LYMPHOID_TISSUE </td><td>             </td><td>    NA</td><td>Male  </td><td>ATCC</td><td>CVCL_2481</td><td>  NA</td><td>⋯</td><td>Leukemia               </td><td>Acute Myelogenous Leukemia (AML), M6 (Erythroleukemia)       </td><td>30</td><td>SIDM00593</td><td></td><td>blood     </td><td>AML                      </td><td>M6               </td><td></td><td>Suspension</td></tr>\n",
       "\t<tr><th scope=row>6</th><td>ACH-000006</td><td>MONO-MAC-6 </td><td>MONOMAC6 </td><td>MONOMAC6_HAEMATOPOIETIC_AND_LYMPHOID_TISSUE</td><td>             </td><td>908148</td><td>Male  </td><td>DSMZ</td><td>CVCL_1426</td><td>2167</td><td>⋯</td><td>Leukemia               </td><td>Acute Myelogenous Leukemia (AML), M5 (Eosinophilic/Monocytic)</td><td>64</td><td>SIDM01023</td><td></td><td>blood     </td><td>AML                      </td><td>M5               </td><td></td><td>Adherent  </td></tr>\n",
       "</tbody>\n",
       "</table>\n"
      ],
      "text/latex": [
       "A data.frame: 6 × 22\n",
       "\\begin{tabular}{r|lllllllllllllllllllll}\n",
       "  & DepMap\\_ID & cell\\_line\\_name & stripped\\_cell\\_line\\_name & CCLE\\_Name & alias & COSMICID & sex & source & RRID & WTSI\\_Master\\_Cell\\_ID & ⋯ & primary\\_disease & Subtype & age & Sanger\\_Model\\_ID & depmap\\_public\\_comments & lineage & lineage\\_subtype & lineage\\_sub\\_subtype & lineage\\_molecular\\_subtype & culture\\_type\\\\\n",
       "  & <chr> & <chr> & <chr> & <chr> & <chr> & <dbl> & <chr> & <chr> & <chr> & <dbl> & ⋯ & <chr> & <chr> & <dbl> & <chr> & <chr> & <chr> & <chr> & <chr> & <chr> & <chr>\\\\\n",
       "\\hline\n",
       "\t1 & ACH-000001 & NIH:OVCAR-3 & NIHOVCAR3 & NIHOVCAR3\\_OVARY                             & OVCAR3        & 905933 & Female & ATCC & CVCL\\_0465 & 2201 & ⋯ & Ovarian Cancer          & Adenocarcinoma, high grade serous                             & 60 & SIDM00105 &  & ovary      & ovary\\_adenocarcinoma      & high\\_grade\\_serous &  & Adherent  \\\\\n",
       "\t2 & ACH-000002 & HL-60       & HL60      & HL60\\_HAEMATOPOIETIC\\_AND\\_LYMPHOID\\_TISSUE     &               & 905938 & Female & ATCC & CVCL\\_0002 &   55 & ⋯ & Leukemia                & Acute Myelogenous Leukemia (AML), M3 (Promyelocytic)          & 35 & SIDM00829 &  & blood      & AML                       & M3                &  & Suspension\\\\\n",
       "\t3 & ACH-000003 & CACO2       & CACO2     & CACO2\\_LARGE\\_INTESTINE                       & CACO2, CaCo-2 &     NA & Male   & ATCC & CVCL\\_0025 &   NA & ⋯ & Colon/Colorectal Cancer & Adenocarcinoma                                                & NA & SIDM00891 &  & colorectal & colorectal\\_adenocarcinoma &                   &  & not found \\\\\n",
       "\t4 & ACH-000004 & HEL         & HEL       & HEL\\_HAEMATOPOIETIC\\_AND\\_LYMPHOID\\_TISSUE      &               & 907053 & Male   & DSMZ & CVCL\\_0001 &  783 & ⋯ & Leukemia                & Acute Myelogenous Leukemia (AML), M6 (Erythroleukemia)        & 30 & SIDM00594 &  & blood      & AML                       & M6                &  & Suspension\\\\\n",
       "\t5 & ACH-000005 & HEL 92.1.7  & HEL9217   & HEL9217\\_HAEMATOPOIETIC\\_AND\\_LYMPHOID\\_TISSUE  &               &     NA & Male   & ATCC & CVCL\\_2481 &   NA & ⋯ & Leukemia                & Acute Myelogenous Leukemia (AML), M6 (Erythroleukemia)        & 30 & SIDM00593 &  & blood      & AML                       & M6                &  & Suspension\\\\\n",
       "\t6 & ACH-000006 & MONO-MAC-6  & MONOMAC6  & MONOMAC6\\_HAEMATOPOIETIC\\_AND\\_LYMPHOID\\_TISSUE &               & 908148 & Male   & DSMZ & CVCL\\_1426 & 2167 & ⋯ & Leukemia                & Acute Myelogenous Leukemia (AML), M5 (Eosinophilic/Monocytic) & 64 & SIDM01023 &  & blood      & AML                       & M5                &  & Adherent  \\\\\n",
       "\\end{tabular}\n"
      ],
      "text/markdown": [
       "\n",
       "A data.frame: 6 × 22\n",
       "\n",
       "| <!--/--> | DepMap_ID &lt;chr&gt; | cell_line_name &lt;chr&gt; | stripped_cell_line_name &lt;chr&gt; | CCLE_Name &lt;chr&gt; | alias &lt;chr&gt; | COSMICID &lt;dbl&gt; | sex &lt;chr&gt; | source &lt;chr&gt; | RRID &lt;chr&gt; | WTSI_Master_Cell_ID &lt;dbl&gt; | ⋯ ⋯ | primary_disease &lt;chr&gt; | Subtype &lt;chr&gt; | age &lt;dbl&gt; | Sanger_Model_ID &lt;chr&gt; | depmap_public_comments &lt;chr&gt; | lineage &lt;chr&gt; | lineage_subtype &lt;chr&gt; | lineage_sub_subtype &lt;chr&gt; | lineage_molecular_subtype &lt;chr&gt; | culture_type &lt;chr&gt; |\n",
       "|---|---|---|---|---|---|---|---|---|---|---|---|---|---|---|---|---|---|---|---|---|---|\n",
       "| 1 | ACH-000001 | NIH:OVCAR-3 | NIHOVCAR3 | NIHOVCAR3_OVARY                             | OVCAR3        | 905933 | Female | ATCC | CVCL_0465 | 2201 | ⋯ | Ovarian Cancer          | Adenocarcinoma, high grade serous                             | 60 | SIDM00105 | <!----> | ovary      | ovary_adenocarcinoma      | high_grade_serous | <!----> | Adherent   |\n",
       "| 2 | ACH-000002 | HL-60       | HL60      | HL60_HAEMATOPOIETIC_AND_LYMPHOID_TISSUE     | <!----> | 905938 | Female | ATCC | CVCL_0002 |   55 | ⋯ | Leukemia                | Acute Myelogenous Leukemia (AML), M3 (Promyelocytic)          | 35 | SIDM00829 | <!----> | blood      | AML                       | M3                | <!----> | Suspension |\n",
       "| 3 | ACH-000003 | CACO2       | CACO2     | CACO2_LARGE_INTESTINE                       | CACO2, CaCo-2 |     NA | Male   | ATCC | CVCL_0025 |   NA | ⋯ | Colon/Colorectal Cancer | Adenocarcinoma                                                | NA | SIDM00891 | <!----> | colorectal | colorectal_adenocarcinoma | <!----> | <!----> | not found  |\n",
       "| 4 | ACH-000004 | HEL         | HEL       | HEL_HAEMATOPOIETIC_AND_LYMPHOID_TISSUE      | <!----> | 907053 | Male   | DSMZ | CVCL_0001 |  783 | ⋯ | Leukemia                | Acute Myelogenous Leukemia (AML), M6 (Erythroleukemia)        | 30 | SIDM00594 | <!----> | blood      | AML                       | M6                | <!----> | Suspension |\n",
       "| 5 | ACH-000005 | HEL 92.1.7  | HEL9217   | HEL9217_HAEMATOPOIETIC_AND_LYMPHOID_TISSUE  | <!----> |     NA | Male   | ATCC | CVCL_2481 |   NA | ⋯ | Leukemia                | Acute Myelogenous Leukemia (AML), M6 (Erythroleukemia)        | 30 | SIDM00593 | <!----> | blood      | AML                       | M6                | <!----> | Suspension |\n",
       "| 6 | ACH-000006 | MONO-MAC-6  | MONOMAC6  | MONOMAC6_HAEMATOPOIETIC_AND_LYMPHOID_TISSUE | <!----> | 908148 | Male   | DSMZ | CVCL_1426 | 2167 | ⋯ | Leukemia                | Acute Myelogenous Leukemia (AML), M5 (Eosinophilic/Monocytic) | 64 | SIDM01023 | <!----> | blood      | AML                       | M5                | <!----> | Adherent   |\n",
       "\n"
      ],
      "text/plain": [
       "  DepMap_ID  cell_line_name stripped_cell_line_name\n",
       "1 ACH-000001 NIH:OVCAR-3    NIHOVCAR3              \n",
       "2 ACH-000002 HL-60          HL60                   \n",
       "3 ACH-000003 CACO2          CACO2                  \n",
       "4 ACH-000004 HEL            HEL                    \n",
       "5 ACH-000005 HEL 92.1.7     HEL9217                \n",
       "6 ACH-000006 MONO-MAC-6     MONOMAC6               \n",
       "  CCLE_Name                                   alias         COSMICID sex   \n",
       "1 NIHOVCAR3_OVARY                             OVCAR3        905933   Female\n",
       "2 HL60_HAEMATOPOIETIC_AND_LYMPHOID_TISSUE                   905938   Female\n",
       "3 CACO2_LARGE_INTESTINE                       CACO2, CaCo-2     NA   Male  \n",
       "4 HEL_HAEMATOPOIETIC_AND_LYMPHOID_TISSUE                    907053   Male  \n",
       "5 HEL9217_HAEMATOPOIETIC_AND_LYMPHOID_TISSUE                    NA   Male  \n",
       "6 MONOMAC6_HAEMATOPOIETIC_AND_LYMPHOID_TISSUE               908148   Male  \n",
       "  source RRID      WTSI_Master_Cell_ID ⋯ primary_disease        \n",
       "1 ATCC   CVCL_0465 2201                ⋯ Ovarian Cancer         \n",
       "2 ATCC   CVCL_0002   55                ⋯ Leukemia               \n",
       "3 ATCC   CVCL_0025   NA                ⋯ Colon/Colorectal Cancer\n",
       "4 DSMZ   CVCL_0001  783                ⋯ Leukemia               \n",
       "5 ATCC   CVCL_2481   NA                ⋯ Leukemia               \n",
       "6 DSMZ   CVCL_1426 2167                ⋯ Leukemia               \n",
       "  Subtype                                                       age\n",
       "1 Adenocarcinoma, high grade serous                             60 \n",
       "2 Acute Myelogenous Leukemia (AML), M3 (Promyelocytic)          35 \n",
       "3 Adenocarcinoma                                                NA \n",
       "4 Acute Myelogenous Leukemia (AML), M6 (Erythroleukemia)        30 \n",
       "5 Acute Myelogenous Leukemia (AML), M6 (Erythroleukemia)        30 \n",
       "6 Acute Myelogenous Leukemia (AML), M5 (Eosinophilic/Monocytic) 64 \n",
       "  Sanger_Model_ID depmap_public_comments lineage    lineage_subtype          \n",
       "1 SIDM00105                              ovary      ovary_adenocarcinoma     \n",
       "2 SIDM00829                              blood      AML                      \n",
       "3 SIDM00891                              colorectal colorectal_adenocarcinoma\n",
       "4 SIDM00594                              blood      AML                      \n",
       "5 SIDM00593                              blood      AML                      \n",
       "6 SIDM01023                              blood      AML                      \n",
       "  lineage_sub_subtype lineage_molecular_subtype culture_type\n",
       "1 high_grade_serous                             Adherent    \n",
       "2 M3                                            Suspension  \n",
       "3                                               not found   \n",
       "4 M6                                            Suspension  \n",
       "5 M6                                            Suspension  \n",
       "6 M5                                            Adherent    "
      ]
     },
     "metadata": {},
     "output_type": "display_data"
    },
    {
     "name": "stdout",
     "output_type": "stream",
     "text": [
      "Fetching https://cds.team/taiga/api/dataset/internal-23q2-1e49/95 \n",
      "Status 200 \n"
     ]
    },
    {
     "name": "stderr",
     "output_type": "stream",
     "text": [
      "No encoding supplied: defaulting to UTF-8.\n",
      "\n"
     ]
    },
    {
     "name": "stdout",
     "output_type": "stream",
     "text": [
      "loading cached data version from  /home/jupyter/.taiga/internal-23q2-1e49_95.toc \n"
     ]
    },
    {
     "name": "stderr",
     "output_type": "stream",
     "text": [
      "Loading from cached file /home/jupyter/.taiga/bb6416b47efb46e3a0929112bc7b31ee_omicssignatures.rds\n",
      "\n"
     ]
    },
    {
     "data": {
      "text/html": [
       "<table class=\"dataframe\">\n",
       "<caption>A data.frame: 6 × 6</caption>\n",
       "<thead>\n",
       "\t<tr><th></th><th scope=col>sample</th><th scope=col>MSIScore</th><th scope=col>CIN</th><th scope=col>Ploidy</th><th scope=col>LoHFraction</th><th scope=col>WGD</th></tr>\n",
       "\t<tr><th></th><th scope=col>&lt;chr&gt;</th><th scope=col>&lt;dbl&gt;</th><th scope=col>&lt;dbl&gt;</th><th scope=col>&lt;dbl&gt;</th><th scope=col>&lt;dbl&gt;</th><th scope=col>&lt;dbl&gt;</th></tr>\n",
       "</thead>\n",
       "<tbody>\n",
       "\t<tr><th scope=row>1</th><td>ACH-000839</td><td>3.68</td><td>0.4610734</td><td>3.346668</td><td>0.1025634</td><td> 1</td></tr>\n",
       "\t<tr><th scope=row>2</th><td>ACH-002046</td><td>2.87</td><td>0.7631442</td><td>4.961658</td><td>0.2133052</td><td> 1</td></tr>\n",
       "\t<tr><th scope=row>3</th><td>ACH-002048</td><td>2.48</td><td>0.5586627</td><td>2.535103</td><td>0.2211346</td><td> 0</td></tr>\n",
       "\t<tr><th scope=row>4</th><td>ACH-003050</td><td>2.52</td><td>       NA</td><td>      NA</td><td>       NA</td><td>NA</td></tr>\n",
       "\t<tr><th scope=row>5</th><td>ACH-000832</td><td>1.28</td><td>       NA</td><td>      NA</td><td>       NA</td><td>NA</td></tr>\n",
       "\t<tr><th scope=row>6</th><td>ACH-001147</td><td>4.76</td><td>0.3521826</td><td>2.523417</td><td>0.2059773</td><td> 0</td></tr>\n",
       "</tbody>\n",
       "</table>\n"
      ],
      "text/latex": [
       "A data.frame: 6 × 6\n",
       "\\begin{tabular}{r|llllll}\n",
       "  & sample & MSIScore & CIN & Ploidy & LoHFraction & WGD\\\\\n",
       "  & <chr> & <dbl> & <dbl> & <dbl> & <dbl> & <dbl>\\\\\n",
       "\\hline\n",
       "\t1 & ACH-000839 & 3.68 & 0.4610734 & 3.346668 & 0.1025634 &  1\\\\\n",
       "\t2 & ACH-002046 & 2.87 & 0.7631442 & 4.961658 & 0.2133052 &  1\\\\\n",
       "\t3 & ACH-002048 & 2.48 & 0.5586627 & 2.535103 & 0.2211346 &  0\\\\\n",
       "\t4 & ACH-003050 & 2.52 &        NA &       NA &        NA & NA\\\\\n",
       "\t5 & ACH-000832 & 1.28 &        NA &       NA &        NA & NA\\\\\n",
       "\t6 & ACH-001147 & 4.76 & 0.3521826 & 2.523417 & 0.2059773 &  0\\\\\n",
       "\\end{tabular}\n"
      ],
      "text/markdown": [
       "\n",
       "A data.frame: 6 × 6\n",
       "\n",
       "| <!--/--> | sample &lt;chr&gt; | MSIScore &lt;dbl&gt; | CIN &lt;dbl&gt; | Ploidy &lt;dbl&gt; | LoHFraction &lt;dbl&gt; | WGD &lt;dbl&gt; |\n",
       "|---|---|---|---|---|---|---|\n",
       "| 1 | ACH-000839 | 3.68 | 0.4610734 | 3.346668 | 0.1025634 |  1 |\n",
       "| 2 | ACH-002046 | 2.87 | 0.7631442 | 4.961658 | 0.2133052 |  1 |\n",
       "| 3 | ACH-002048 | 2.48 | 0.5586627 | 2.535103 | 0.2211346 |  0 |\n",
       "| 4 | ACH-003050 | 2.52 |        NA |       NA |        NA | NA |\n",
       "| 5 | ACH-000832 | 1.28 |        NA |       NA |        NA | NA |\n",
       "| 6 | ACH-001147 | 4.76 | 0.3521826 | 2.523417 | 0.2059773 |  0 |\n",
       "\n"
      ],
      "text/plain": [
       "  sample     MSIScore CIN       Ploidy   LoHFraction WGD\n",
       "1 ACH-000839 3.68     0.4610734 3.346668 0.1025634    1 \n",
       "2 ACH-002046 2.87     0.7631442 4.961658 0.2133052    1 \n",
       "3 ACH-002048 2.48     0.5586627 2.535103 0.2211346    0 \n",
       "4 ACH-003050 2.52            NA       NA        NA   NA \n",
       "5 ACH-000832 1.28            NA       NA        NA   NA \n",
       "6 ACH-001147 4.76     0.3521826 2.523417 0.2059773    0 "
      ]
     },
     "metadata": {},
     "output_type": "display_data"
    }
   ],
   "source": [
    "#Load in the sample info\n",
    "sample.info = load.from.taiga(data.name='public-22q1-305b', data.version=24, data.file='sample_info')\n",
    "head(sample.info)\n",
    "\n",
    "msi.status = load.from.taiga(data.name='internal-23q2-1e49', data.version=95, data.file='OmicsSignatures') %>%\n",
    "data.frame() %>%\n",
    "rownames_to_column(var = \"sample\")\n",
    "head(msi.status)"
   ]
  },
  {
   "cell_type": "code",
   "execution_count": 14,
   "metadata": {
    "hidden": true
   },
   "outputs": [
    {
     "data": {
      "text/html": [
       "<table class=\"dataframe\">\n",
       "<caption>A data.frame: 6 × 11</caption>\n",
       "<thead>\n",
       "\t<tr><th></th><th scope=col>sample</th><th scope=col>shared</th><th scope=col>snp6_only</th><th scope=col>wgs_only</th><th scope=col>ancestry</th><th scope=col>fraction_shared</th><th scope=col>fraction_snp6_only</th><th scope=col>fraction_wgs_only</th><th scope=col>lineage</th><th scope=col>msi</th><th scope=col>msi_status</th></tr>\n",
       "\t<tr><th></th><th scope=col>&lt;chr&gt;</th><th scope=col>&lt;dbl&gt;</th><th scope=col>&lt;dbl&gt;</th><th scope=col>&lt;dbl&gt;</th><th scope=col>&lt;fct&gt;</th><th scope=col>&lt;dbl&gt;</th><th scope=col>&lt;dbl&gt;</th><th scope=col>&lt;dbl&gt;</th><th scope=col>&lt;chr&gt;</th><th scope=col>&lt;dbl&gt;</th><th scope=col>&lt;chr&gt;</th></tr>\n",
       "</thead>\n",
       "<tbody>\n",
       "\t<tr><th scope=row>1</th><td>ACH-000277</td><td>3398245</td><td> 90131</td><td>1232858</td><td>admixed</td><td>0.7197790</td><td>0.019090560</td><td>0.2611305</td><td>breast     </td><td>3.14</td><td>low</td></tr>\n",
       "\t<tr><th scope=row>2</th><td>ACH-000375</td><td>3742031</td><td> 40384</td><td>1488481</td><td>admixed</td><td>0.7099421</td><td>0.007661695</td><td>0.2823962</td><td>soft_tissue</td><td>2.19</td><td>low</td></tr>\n",
       "\t<tr><th scope=row>3</th><td>ACH-000427</td><td>3519689</td><td> 95784</td><td>1604386</td><td>admixed</td><td>0.6742881</td><td>0.018349921</td><td>0.3073619</td><td>gastric    </td><td>3.34</td><td>low</td></tr>\n",
       "\t<tr><th scope=row>4</th><td>ACH-000568</td><td>3303082</td><td> 62468</td><td>1234229</td><td>admixed</td><td>0.7180958</td><td>0.013580652</td><td>0.2683235</td><td>breast     </td><td>2.25</td><td>low</td></tr>\n",
       "\t<tr><th scope=row>5</th><td>ACH-000668</td><td>3278794</td><td>137157</td><td>1978702</td><td>admixed</td><td>0.6077859</td><td>0.025424620</td><td>0.3667895</td><td>breast     </td><td>3.34</td><td>low</td></tr>\n",
       "\t<tr><th scope=row>6</th><td>ACH-000679</td><td>3181506</td><td>119996</td><td>1367969</td><td>admixed</td><td>0.6813418</td><td>0.025697986</td><td>0.2929602</td><td>esophagus  </td><td>2.04</td><td>low</td></tr>\n",
       "</tbody>\n",
       "</table>\n"
      ],
      "text/latex": [
       "A data.frame: 6 × 11\n",
       "\\begin{tabular}{r|lllllllllll}\n",
       "  & sample & shared & snp6\\_only & wgs\\_only & ancestry & fraction\\_shared & fraction\\_snp6\\_only & fraction\\_wgs\\_only & lineage & msi & msi\\_status\\\\\n",
       "  & <chr> & <dbl> & <dbl> & <dbl> & <fct> & <dbl> & <dbl> & <dbl> & <chr> & <dbl> & <chr>\\\\\n",
       "\\hline\n",
       "\t1 & ACH-000277 & 3398245 &  90131 & 1232858 & admixed & 0.7197790 & 0.019090560 & 0.2611305 & breast      & 3.14 & low\\\\\n",
       "\t2 & ACH-000375 & 3742031 &  40384 & 1488481 & admixed & 0.7099421 & 0.007661695 & 0.2823962 & soft\\_tissue & 2.19 & low\\\\\n",
       "\t3 & ACH-000427 & 3519689 &  95784 & 1604386 & admixed & 0.6742881 & 0.018349921 & 0.3073619 & gastric     & 3.34 & low\\\\\n",
       "\t4 & ACH-000568 & 3303082 &  62468 & 1234229 & admixed & 0.7180958 & 0.013580652 & 0.2683235 & breast      & 2.25 & low\\\\\n",
       "\t5 & ACH-000668 & 3278794 & 137157 & 1978702 & admixed & 0.6077859 & 0.025424620 & 0.3667895 & breast      & 3.34 & low\\\\\n",
       "\t6 & ACH-000679 & 3181506 & 119996 & 1367969 & admixed & 0.6813418 & 0.025697986 & 0.2929602 & esophagus   & 2.04 & low\\\\\n",
       "\\end{tabular}\n"
      ],
      "text/markdown": [
       "\n",
       "A data.frame: 6 × 11\n",
       "\n",
       "| <!--/--> | sample &lt;chr&gt; | shared &lt;dbl&gt; | snp6_only &lt;dbl&gt; | wgs_only &lt;dbl&gt; | ancestry &lt;fct&gt; | fraction_shared &lt;dbl&gt; | fraction_snp6_only &lt;dbl&gt; | fraction_wgs_only &lt;dbl&gt; | lineage &lt;chr&gt; | msi &lt;dbl&gt; | msi_status &lt;chr&gt; |\n",
       "|---|---|---|---|---|---|---|---|---|---|---|---|\n",
       "| 1 | ACH-000277 | 3398245 |  90131 | 1232858 | admixed | 0.7197790 | 0.019090560 | 0.2611305 | breast      | 3.14 | low |\n",
       "| 2 | ACH-000375 | 3742031 |  40384 | 1488481 | admixed | 0.7099421 | 0.007661695 | 0.2823962 | soft_tissue | 2.19 | low |\n",
       "| 3 | ACH-000427 | 3519689 |  95784 | 1604386 | admixed | 0.6742881 | 0.018349921 | 0.3073619 | gastric     | 3.34 | low |\n",
       "| 4 | ACH-000568 | 3303082 |  62468 | 1234229 | admixed | 0.7180958 | 0.013580652 | 0.2683235 | breast      | 2.25 | low |\n",
       "| 5 | ACH-000668 | 3278794 | 137157 | 1978702 | admixed | 0.6077859 | 0.025424620 | 0.3667895 | breast      | 3.34 | low |\n",
       "| 6 | ACH-000679 | 3181506 | 119996 | 1367969 | admixed | 0.6813418 | 0.025697986 | 0.2929602 | esophagus   | 2.04 | low |\n",
       "\n"
      ],
      "text/plain": [
       "  sample     shared  snp6_only wgs_only ancestry fraction_shared\n",
       "1 ACH-000277 3398245  90131    1232858  admixed  0.7197790      \n",
       "2 ACH-000375 3742031  40384    1488481  admixed  0.7099421      \n",
       "3 ACH-000427 3519689  95784    1604386  admixed  0.6742881      \n",
       "4 ACH-000568 3303082  62468    1234229  admixed  0.7180958      \n",
       "5 ACH-000668 3278794 137157    1978702  admixed  0.6077859      \n",
       "6 ACH-000679 3181506 119996    1367969  admixed  0.6813418      \n",
       "  fraction_snp6_only fraction_wgs_only lineage     msi  msi_status\n",
       "1 0.019090560        0.2611305         breast      3.14 low       \n",
       "2 0.007661695        0.2823962         soft_tissue 2.19 low       \n",
       "3 0.018349921        0.3073619         gastric     3.34 low       \n",
       "4 0.013580652        0.2683235         breast      2.25 low       \n",
       "5 0.025424620        0.3667895         breast      3.34 low       \n",
       "6 0.025697986        0.2929602         esophagus   2.04 low       "
      ]
     },
     "metadata": {},
     "output_type": "display_data"
    }
   ],
   "source": [
    "#Load in the data and construct a single data frame\n",
    "setwd(\"/home/jupyter/Ancestry/analysis/wgs_snp6_intersection\")\n",
    "sample.names = read.table(\"directory_names.txt\", sep = \"\\t\") %>%\n",
    "rename(\"sample\" = 1) %>%\n",
    "mutate(sample = gsub(\"..*ACH\", \"ACH\", sample)) %>%\n",
    "mutate(sample = gsub(\"/\", \"\", sample)) %>%\n",
    "pull(sample)\n",
    "\n",
    "num.shared = read.table(\"num_shared.txt\", sep = \"\\t\") %>% pull(1) #Number of shared variants\n",
    "num.snp6 = read.table(\"num_snp6_only.txt\", sep = \"\\t\") %>% pull(1) #Number of variants in only snp6\n",
    "num.wgs = read.table(\"num_wgs_only.txt\", sep = \"\\t\") %>% pull(1) #Number of variants in only wgs\n",
    "\n",
    "\n",
    "#Bind everything into a single data frame\n",
    "intersecting.variants.df = cbind(sample.names, num.shared, num.snp6, num.wgs) %>%\n",
    "data.frame() %>%\n",
    "rename(\"sample\" = 1, \"shared\" = 2, \"snp6_only\" = 3, \"wgs_only\" = 4) %>%\n",
    "mutate(\"ancestry\" = plyr::mapvalues(from = ancestry.calls$sample, to = ancestry.calls$ancestry_call, sample, warn_missing = FALSE)) %>%\n",
    "mutate(shared = as.numeric(shared)) %>%\n",
    "mutate(snp6_only = as.numeric(snp6_only)) %>%\n",
    "mutate(wgs_only = as.numeric(wgs_only)) %>%\n",
    "mutate(\"fraction_shared\" = shared/(shared + snp6_only + wgs_only)) %>%\n",
    "mutate(\"fraction_snp6_only\" = snp6_only/(shared + snp6_only + wgs_only)) %>%\n",
    "mutate(\"fraction_wgs_only\" = wgs_only/(shared + snp6_only + wgs_only)) %>%\n",
    "arrange(ancestry) %>%\n",
    "mutate(ancestry = factor(ancestry, levels = c(\"afr\", \"amr\", \"eas\", \"eur\", \"sas\", \"admixed\"))) %>%\n",
    "mutate(\"lineage\" = plyr::mapvalues(from = sample.info$DepMap_ID, to = sample.info$lineage, sample, warn_missing = FALSE)) %>%\n",
    "mutate(\"msi\" = plyr::mapvalues(from = msi.status$sample, to = msi.status$MSIScore, sample, warn_missing = FALSE)) %>%\n",
    "mutate(msi = as.numeric(msi)) %>%\n",
    "mutate(\"msi_status\" = ifelse(msi > 10, \"high\", \"low\"))\n",
    "\n",
    "#Look at the file\n",
    "intersecting.variants.df %>% head()"
   ]
  },
  {
   "cell_type": "code",
   "execution_count": 17,
   "metadata": {
    "hidden": true
   },
   "outputs": [
    {
     "data": {
      "image/png": "[encoded data removed]",
      "text/plain": [
       "plot without title"
      ]
     },
     "metadata": {
      "image/png": {
       "height": 420,
       "width": 420
      }
     },
     "output_type": "display_data"
    },
    {
     "data": {
      "image/png": "[encoded data removed]",
      "text/plain": [
       "plot without title"
      ]
     },
     "metadata": {
      "image/png": {
       "height": 420,
       "width": 420
      }
     },
     "output_type": "display_data"
    },
    {
     "data": {
      "image/png": "[encoded data removed]",
      "text/plain": [
       "plot without title"
      ]
     },
     "metadata": {
      "image/png": {
       "height": 420,
       "width": 420
      }
     },
     "output_type": "display_data"
    }
   ],
   "source": [
    "###plot the plots\n",
    "#For ancestry\n",
    "intersecting.variants.df %>%\n",
    "filter(fraction_shared > 0) %>%\n",
    "melt(id = c(\"sample\", \"ancestry\", \"lineage\", \"msi_status\")) %>%\n",
    "filter(variable %in% c(\"fraction_shared\", \"fraction_snp6_only\", \"fraction_wgs_only\")) %>%\n",
    "ggplot(aes(x = sample, y = value, fill = variable)) +\n",
    "geom_bar(stat = \"identity\", width = 1) +\n",
    "facet_grid(1 ~ ancestry, scales = \"free\", space='free') +\n",
    "scale_fill_manual(values = c(\"brown\", \"gold\", \"deepskyblue\")) +\n",
    "theme_bw() +\n",
    "\n",
    "theme(\n",
    "panel.grid.major = element_blank(),\n",
    "panel.grid.minor = element_blank(), \n",
    "axis.line = element_line(color = \"black\")\n",
    ") +\n",
    "\n",
    "theme(\n",
    "axis.title.x = element_text(size = 7),\n",
    "axis.title.y = element_text(size = 7)\n",
    ") +\n",
    "\n",
    "theme(axis.text.x = element_text(angle = 90, vjust = 0.5, hjust=1)) +\n",
    "\n",
    "theme(\n",
    "axis.text=element_text(size = 7),\n",
    "axis.title=element_text(size = 7)\n",
    ") +\n",
    "\n",
    "theme(\n",
    "legend.title = element_text(size = 7),\n",
    "legend.text = element_text(size = 7)\n",
    ") +\n",
    "\n",
    "scale_y_continuous(expand = c(0, 0)) +\n",
    "\n",
    "ylab(\"Chronos Score\")\n",
    "\n",
    "#Export it to the google bucket\n",
    "setwd('/home/jupyter/Ancestry/analysis/nature_genetics_reviews/reviewer_2')\n",
    "ggsave(\"r2c5_ancestry_bar_plot.pdf\", width = 9, height = 5)\n",
    "system(glue::glue(\"\n",
    "cd /home/jupyter/Ancestry/analysis/nature_genetics_reviews/reviewer_2\n",
    "gsutil cp r2c5_ancestry_bar_plot.pdf gs://fc-45c0e148-0b1c-4244-9bfc-feb559bbc514\n",
    "\"))\n",
    "\n",
    "\n",
    "\n",
    "\n",
    "\n",
    "\n",
    "#For lineage\n",
    "intersecting.variants.df %>%\n",
    "filter(fraction_shared > 0) %>%\n",
    "melt(id = c(\"sample\", \"ancestry\", \"lineage\", \"msi_status\")) %>%\n",
    "filter(variable %in% c(\"fraction_shared\", \"fraction_snp6_only\", \"fraction_wgs_only\")) %>%\n",
    "ggplot(aes(x = sample, y = value, fill = variable)) +\n",
    "geom_bar(stat = \"identity\", width = 1) +\n",
    "facet_grid(1 ~ lineage, scales = \"free\", space = 'free') +\n",
    "scale_fill_manual(values = c(\"brown\", \"gold\", \"deepskyblue\")) +\n",
    "\n",
    "theme(\n",
    "panel.grid.major = element_blank(),\n",
    "panel.grid.minor = element_blank(), \n",
    "axis.line = element_line(color = \"black\")\n",
    ") +\n",
    "\n",
    "theme(\n",
    "axis.title.x = element_text(size = 7),\n",
    "axis.title.y = element_text(size = 7)\n",
    ") +\n",
    "\n",
    "theme(axis.text.x = element_text(angle = 90, vjust = 0.5, hjust=1)) +\n",
    "\n",
    "theme(\n",
    "axis.text=element_text(size = 7),\n",
    "axis.title=element_text(size = 7)\n",
    ") +\n",
    "\n",
    "theme(\n",
    "legend.title = element_text(size = 7),\n",
    "legend.text = element_text(size = 7)\n",
    ") +\n",
    "\n",
    "scale_y_continuous(expand = c(0, 0)) +\n",
    "\n",
    "ylab(\"Chronos Score\")\n",
    "\n",
    "#Export it to the google bucket\n",
    "setwd('/home/jupyter/Ancestry/analysis/nature_genetics_reviews/reviewer_2')\n",
    "ggsave(\"r2c5_lineage_bar_plot.pdf\", width = 9, height = 5)\n",
    "system(glue::glue(\"\n",
    "cd /home/jupyter/Ancestry/analysis/nature_genetics_reviews/reviewer_2\n",
    "gsutil cp r2c5_lineage_bar_plot.pdf gs://fc-45c0e148-0b1c-4244-9bfc-feb559bbc514\n",
    "\"))\n",
    "\n",
    "\n",
    "\n",
    "\n",
    "\n",
    "\n",
    "\n",
    "#For msi status\n",
    "intersecting.variants.df %>%\n",
    "filter(fraction_shared > 0) %>%\n",
    "melt(id = c(\"sample\", \"ancestry\", \"lineage\", \"msi_status\")) %>%\n",
    "filter(variable %in% c(\"fraction_shared\", \"fraction_snp6_only\", \"fraction_wgs_only\")) %>%\n",
    "ggplot(aes(x = sample, y = value, fill = variable)) +\n",
    "geom_bar(stat = \"identity\", width = 1) +\n",
    "facet_grid(1 ~ msi_status, scales = \"free\", space='free') +\n",
    "scale_fill_manual(values = c(\"brown\", \"gold\", \"deepskyblue\")) +\n",
    "theme_bw() +\n",
    "\n",
    "theme(\n",
    "panel.grid.major = element_blank(),\n",
    "panel.grid.minor = element_blank(), \n",
    "axis.line = element_line(color = \"black\")\n",
    ") +\n",
    "\n",
    "theme(\n",
    "axis.title.x = element_text(size = 7),\n",
    "axis.title.y = element_text(size = 7)\n",
    ") +\n",
    "\n",
    "theme(axis.text.x = element_text(angle = 90, vjust = 0.5, hjust=1)) +\n",
    "\n",
    "theme(\n",
    "axis.text=element_text(size = 7),\n",
    "axis.title=element_text(size = 7)\n",
    ") +\n",
    "\n",
    "theme(\n",
    "legend.title = element_text(size = 7),\n",
    "legend.text = element_text(size = 7)\n",
    ") +\n",
    "\n",
    "scale_y_continuous(expand = c(0, 0)) +\n",
    "\n",
    "ylab(\"Chronos Score\")\n",
    "\n",
    "#Export it to the google bucket\n",
    "setwd('/home/jupyter/Ancestry/analysis/nature_genetics_reviews/reviewer_2')\n",
    "ggsave(\"r2c5_msi_bar_plot.pdf\", width = 9, height = 5)\n",
    "system(glue::glue(\"\n",
    "cd /home/jupyter/Ancestry/analysis/nature_genetics_reviews/reviewer_2\n",
    "gsutil cp r2c5_msi_bar_plot.pdf gs://fc-45c0e148-0b1c-4244-9bfc-feb559bbc514\n",
    "\"))\n"
   ]
  },
  {
   "cell_type": "markdown",
   "metadata": {
    "heading_collapsed": true
   },
   "source": [
    "# Comment 6"
   ]
  },
  {
   "cell_type": "code",
   "execution_count": 1,
   "metadata": {
    "hidden": true
   },
   "outputs": [],
   "source": [
    "#Load in the pre-computed ancestry associations (with correction for lineage)\n",
    "setwd(\"/home/jupyter/Ancestry/analysis/nature_genetics_reviews/reviewer_4\")\n",
    "lm.pval.df = read.table(\"lm_ancestry_associated_dependency_pvals.txt\", sep = \"\\t\", header = TRUE)"
   ]
  },
  {
   "cell_type": "code",
   "execution_count": 4,
   "metadata": {
    "hidden": true
   },
   "outputs": [],
   "source": [
    "#Get a vector of ancestry-associated genes\n",
    "ancestry.associated.gene.vector = lm.pval.df %>%\n",
    "filter(afr_fdr < 0.05 | amr_fdr < 0.05 | eas_fdr < 0.05 | eur_fdr < 0.05 | sas_fdr < 0.05) %>%\n",
    "pull(gene) %>%\n",
    "unique()"
   ]
  },
  {
   "cell_type": "code",
   "execution_count": 5,
   "metadata": {
    "hidden": true
   },
   "outputs": [
    {
     "name": "stdout",
     "output_type": "stream",
     "text": [
      "Fetching https://cds.team/taiga/api/dataset/public-22q1-305b/24 \n",
      "Status 200 \n"
     ]
    },
    {
     "name": "stderr",
     "output_type": "stream",
     "text": [
      "No encoding supplied: defaulting to UTF-8.\n",
      "\n"
     ]
    },
    {
     "name": "stdout",
     "output_type": "stream",
     "text": [
      "loading cached data version from  /home/jupyter/.taiga/public-22q1-305b_24.toc \n"
     ]
    },
    {
     "name": "stderr",
     "output_type": "stream",
     "text": [
      "Loading from cached file /home/jupyter/.taiga/90832e86cae84f918423ad1d83fa4222_crispr-gene-effect.rds\n",
      "\n"
     ]
    },
    {
     "data": {
      "text/html": [
       "<table class=\"dataframe\">\n",
       "<caption>A data.frame: 6 × 17387</caption>\n",
       "<thead>\n",
       "\t<tr><th></th><th scope=col>sample</th><th scope=col>A1BG</th><th scope=col>A1CF</th><th scope=col>A2M</th><th scope=col>A2ML1</th><th scope=col>A3GALT2</th><th scope=col>A4GALT</th><th scope=col>A4GNT</th><th scope=col>AAAS</th><th scope=col>AACS</th><th scope=col>⋯</th><th scope=col>ZWILCH</th><th scope=col>ZWINT</th><th scope=col>ZXDA</th><th scope=col>ZXDB</th><th scope=col>ZXDC</th><th scope=col>ZYG11A</th><th scope=col>ZYG11B</th><th scope=col>ZYX</th><th scope=col>ZZEF1</th><th scope=col>ZZZ3</th></tr>\n",
       "\t<tr><th></th><th scope=col>&lt;chr&gt;</th><th scope=col>&lt;dbl&gt;</th><th scope=col>&lt;dbl&gt;</th><th scope=col>&lt;dbl&gt;</th><th scope=col>&lt;dbl&gt;</th><th scope=col>&lt;dbl&gt;</th><th scope=col>&lt;dbl&gt;</th><th scope=col>&lt;dbl&gt;</th><th scope=col>&lt;dbl&gt;</th><th scope=col>&lt;dbl&gt;</th><th scope=col>⋯</th><th scope=col>&lt;dbl&gt;</th><th scope=col>&lt;dbl&gt;</th><th scope=col>&lt;dbl&gt;</th><th scope=col>&lt;dbl&gt;</th><th scope=col>&lt;dbl&gt;</th><th scope=col>&lt;dbl&gt;</th><th scope=col>&lt;dbl&gt;</th><th scope=col>&lt;dbl&gt;</th><th scope=col>&lt;dbl&gt;</th><th scope=col>&lt;dbl&gt;</th></tr>\n",
       "</thead>\n",
       "<tbody>\n",
       "\t<tr><th scope=row>1</th><td>ACH-000001</td><td>-0.13022665</td><td> 0.04367100</td><td>-0.01067785</td><td>-0.003038938</td><td>-0.10651800</td><td>-0.01895532</td><td> 0.01761511</td><td>-0.2805246</td><td> 0.011350472</td><td>⋯</td><td>-0.05643839</td><td>-0.1176586</td><td>-0.02720567</td><td> 0.10508843</td><td> 0.14350973</td><td>-0.10492678</td><td> 0.06582083</td><td> 0.161843495</td><td> 0.05662022</td><td>-0.31553541</td></tr>\n",
       "\t<tr><th scope=row>2</th><td>ACH-000004</td><td> 0.08567935</td><td>-0.06229549</td><td>-0.11627584</td><td>-0.049394700</td><td> 0.06851031</td><td>-0.13422925</td><td> 0.15372455</td><td>-0.2020006</td><td> 0.132896655</td><td>⋯</td><td>-0.10724648</td><td>-0.2477974</td><td> 0.16406170</td><td> 0.05887251</td><td> 0.07353784</td><td> 0.08136490</td><td>-0.17123188</td><td> 0.150911988</td><td> 0.15923277</td><td>-0.04082740</td></tr>\n",
       "\t<tr><th scope=row>3</th><td>ACH-000005</td><td>-0.09358537</td><td> 0.04150119</td><td> 0.07531566</td><td> 0.149414781</td><td> 0.03169255</td><td>-0.23687679</td><td> 0.15381363</td><td>-0.2454794</td><td>-0.115307222</td><td>⋯</td><td>-0.05148461</td><td>-0.3344562</td><td>-0.11252650</td><td>-0.02517573</td><td>-0.04089682</td><td>-0.17509416</td><td>-0.13905023</td><td> 0.090325195</td><td> 0.02919711</td><td>-0.02406391</td></tr>\n",
       "\t<tr><th scope=row>4</th><td>ACH-000007</td><td>-0.03090007</td><td>-0.07052596</td><td> 0.07234903</td><td> 0.063206491</td><td>-0.01351520</td><td>-0.02802310</td><td>-0.02618453</td><td>-0.1836130</td><td>-0.063362284</td><td>⋯</td><td>-0.27257956</td><td>-0.4733824</td><td> 0.06296188</td><td> 0.18920560</td><td> 0.11106164</td><td>-0.03408766</td><td>-0.17837802</td><td>-0.146564613</td><td>-0.19310283</td><td>-0.27129185</td></tr>\n",
       "\t<tr><th scope=row>5</th><td>ACH-000009</td><td>-0.02383669</td><td>-0.05586389</td><td> 0.07779927</td><td> 0.084401894</td><td> 0.01085966</td><td>-0.07579848</td><td>-0.01227781</td><td>-0.1429850</td><td> 0.005315869</td><td>⋯</td><td>-0.18239415</td><td>-0.3284529</td><td> 0.01106695</td><td> 0.18831931</td><td>-0.04768609</td><td>-0.13576026</td><td>-0.28438696</td><td>-0.003517739</td><td>-0.05838324</td><td>-0.23112694</td></tr>\n",
       "\t<tr><th scope=row>6</th><td>ACH-000011</td><td> 0.08655529</td><td>-0.02187455</td><td> 0.03975463</td><td> 0.190257969</td><td>-0.08612250</td><td>-0.25863102</td><td>-0.05526859</td><td>-0.1497031</td><td> 0.039875196</td><td>⋯</td><td>-0.64292819</td><td>-0.4389316</td><td> 0.05385447</td><td> 0.11210283</td><td> 0.19190139</td><td> 0.10649250</td><td>-0.10068460</td><td>-0.122768098</td><td>-0.12669751</td><td>-0.17658955</td></tr>\n",
       "</tbody>\n",
       "</table>\n"
      ],
      "text/latex": [
       "A data.frame: 6 × 17387\n",
       "\\begin{tabular}{r|lllllllllllllllllllll}\n",
       "  & sample & A1BG & A1CF & A2M & A2ML1 & A3GALT2 & A4GALT & A4GNT & AAAS & AACS & ⋯ & ZWILCH & ZWINT & ZXDA & ZXDB & ZXDC & ZYG11A & ZYG11B & ZYX & ZZEF1 & ZZZ3\\\\\n",
       "  & <chr> & <dbl> & <dbl> & <dbl> & <dbl> & <dbl> & <dbl> & <dbl> & <dbl> & <dbl> & ⋯ & <dbl> & <dbl> & <dbl> & <dbl> & <dbl> & <dbl> & <dbl> & <dbl> & <dbl> & <dbl>\\\\\n",
       "\\hline\n",
       "\t1 & ACH-000001 & -0.13022665 &  0.04367100 & -0.01067785 & -0.003038938 & -0.10651800 & -0.01895532 &  0.01761511 & -0.2805246 &  0.011350472 & ⋯ & -0.05643839 & -0.1176586 & -0.02720567 &  0.10508843 &  0.14350973 & -0.10492678 &  0.06582083 &  0.161843495 &  0.05662022 & -0.31553541\\\\\n",
       "\t2 & ACH-000004 &  0.08567935 & -0.06229549 & -0.11627584 & -0.049394700 &  0.06851031 & -0.13422925 &  0.15372455 & -0.2020006 &  0.132896655 & ⋯ & -0.10724648 & -0.2477974 &  0.16406170 &  0.05887251 &  0.07353784 &  0.08136490 & -0.17123188 &  0.150911988 &  0.15923277 & -0.04082740\\\\\n",
       "\t3 & ACH-000005 & -0.09358537 &  0.04150119 &  0.07531566 &  0.149414781 &  0.03169255 & -0.23687679 &  0.15381363 & -0.2454794 & -0.115307222 & ⋯ & -0.05148461 & -0.3344562 & -0.11252650 & -0.02517573 & -0.04089682 & -0.17509416 & -0.13905023 &  0.090325195 &  0.02919711 & -0.02406391\\\\\n",
       "\t4 & ACH-000007 & -0.03090007 & -0.07052596 &  0.07234903 &  0.063206491 & -0.01351520 & -0.02802310 & -0.02618453 & -0.1836130 & -0.063362284 & ⋯ & -0.27257956 & -0.4733824 &  0.06296188 &  0.18920560 &  0.11106164 & -0.03408766 & -0.17837802 & -0.146564613 & -0.19310283 & -0.27129185\\\\\n",
       "\t5 & ACH-000009 & -0.02383669 & -0.05586389 &  0.07779927 &  0.084401894 &  0.01085966 & -0.07579848 & -0.01227781 & -0.1429850 &  0.005315869 & ⋯ & -0.18239415 & -0.3284529 &  0.01106695 &  0.18831931 & -0.04768609 & -0.13576026 & -0.28438696 & -0.003517739 & -0.05838324 & -0.23112694\\\\\n",
       "\t6 & ACH-000011 &  0.08655529 & -0.02187455 &  0.03975463 &  0.190257969 & -0.08612250 & -0.25863102 & -0.05526859 & -0.1497031 &  0.039875196 & ⋯ & -0.64292819 & -0.4389316 &  0.05385447 &  0.11210283 &  0.19190139 &  0.10649250 & -0.10068460 & -0.122768098 & -0.12669751 & -0.17658955\\\\\n",
       "\\end{tabular}\n"
      ],
      "text/markdown": [
       "\n",
       "A data.frame: 6 × 17387\n",
       "\n",
       "| <!--/--> | sample &lt;chr&gt; | A1BG &lt;dbl&gt; | A1CF &lt;dbl&gt; | A2M &lt;dbl&gt; | A2ML1 &lt;dbl&gt; | A3GALT2 &lt;dbl&gt; | A4GALT &lt;dbl&gt; | A4GNT &lt;dbl&gt; | AAAS &lt;dbl&gt; | AACS &lt;dbl&gt; | ⋯ ⋯ | ZWILCH &lt;dbl&gt; | ZWINT &lt;dbl&gt; | ZXDA &lt;dbl&gt; | ZXDB &lt;dbl&gt; | ZXDC &lt;dbl&gt; | ZYG11A &lt;dbl&gt; | ZYG11B &lt;dbl&gt; | ZYX &lt;dbl&gt; | ZZEF1 &lt;dbl&gt; | ZZZ3 &lt;dbl&gt; |\n",
       "|---|---|---|---|---|---|---|---|---|---|---|---|---|---|---|---|---|---|---|---|---|---|\n",
       "| 1 | ACH-000001 | -0.13022665 |  0.04367100 | -0.01067785 | -0.003038938 | -0.10651800 | -0.01895532 |  0.01761511 | -0.2805246 |  0.011350472 | ⋯ | -0.05643839 | -0.1176586 | -0.02720567 |  0.10508843 |  0.14350973 | -0.10492678 |  0.06582083 |  0.161843495 |  0.05662022 | -0.31553541 |\n",
       "| 2 | ACH-000004 |  0.08567935 | -0.06229549 | -0.11627584 | -0.049394700 |  0.06851031 | -0.13422925 |  0.15372455 | -0.2020006 |  0.132896655 | ⋯ | -0.10724648 | -0.2477974 |  0.16406170 |  0.05887251 |  0.07353784 |  0.08136490 | -0.17123188 |  0.150911988 |  0.15923277 | -0.04082740 |\n",
       "| 3 | ACH-000005 | -0.09358537 |  0.04150119 |  0.07531566 |  0.149414781 |  0.03169255 | -0.23687679 |  0.15381363 | -0.2454794 | -0.115307222 | ⋯ | -0.05148461 | -0.3344562 | -0.11252650 | -0.02517573 | -0.04089682 | -0.17509416 | -0.13905023 |  0.090325195 |  0.02919711 | -0.02406391 |\n",
       "| 4 | ACH-000007 | -0.03090007 | -0.07052596 |  0.07234903 |  0.063206491 | -0.01351520 | -0.02802310 | -0.02618453 | -0.1836130 | -0.063362284 | ⋯ | -0.27257956 | -0.4733824 |  0.06296188 |  0.18920560 |  0.11106164 | -0.03408766 | -0.17837802 | -0.146564613 | -0.19310283 | -0.27129185 |\n",
       "| 5 | ACH-000009 | -0.02383669 | -0.05586389 |  0.07779927 |  0.084401894 |  0.01085966 | -0.07579848 | -0.01227781 | -0.1429850 |  0.005315869 | ⋯ | -0.18239415 | -0.3284529 |  0.01106695 |  0.18831931 | -0.04768609 | -0.13576026 | -0.28438696 | -0.003517739 | -0.05838324 | -0.23112694 |\n",
       "| 6 | ACH-000011 |  0.08655529 | -0.02187455 |  0.03975463 |  0.190257969 | -0.08612250 | -0.25863102 | -0.05526859 | -0.1497031 |  0.039875196 | ⋯ | -0.64292819 | -0.4389316 |  0.05385447 |  0.11210283 |  0.19190139 |  0.10649250 | -0.10068460 | -0.122768098 | -0.12669751 | -0.17658955 |\n",
       "\n"
      ],
      "text/plain": [
       "  sample     A1BG        A1CF        A2M         A2ML1        A3GALT2    \n",
       "1 ACH-000001 -0.13022665  0.04367100 -0.01067785 -0.003038938 -0.10651800\n",
       "2 ACH-000004  0.08567935 -0.06229549 -0.11627584 -0.049394700  0.06851031\n",
       "3 ACH-000005 -0.09358537  0.04150119  0.07531566  0.149414781  0.03169255\n",
       "4 ACH-000007 -0.03090007 -0.07052596  0.07234903  0.063206491 -0.01351520\n",
       "5 ACH-000009 -0.02383669 -0.05586389  0.07779927  0.084401894  0.01085966\n",
       "6 ACH-000011  0.08655529 -0.02187455  0.03975463  0.190257969 -0.08612250\n",
       "  A4GALT      A4GNT       AAAS       AACS         ⋯ ZWILCH      ZWINT     \n",
       "1 -0.01895532  0.01761511 -0.2805246  0.011350472 ⋯ -0.05643839 -0.1176586\n",
       "2 -0.13422925  0.15372455 -0.2020006  0.132896655 ⋯ -0.10724648 -0.2477974\n",
       "3 -0.23687679  0.15381363 -0.2454794 -0.115307222 ⋯ -0.05148461 -0.3344562\n",
       "4 -0.02802310 -0.02618453 -0.1836130 -0.063362284 ⋯ -0.27257956 -0.4733824\n",
       "5 -0.07579848 -0.01227781 -0.1429850  0.005315869 ⋯ -0.18239415 -0.3284529\n",
       "6 -0.25863102 -0.05526859 -0.1497031  0.039875196 ⋯ -0.64292819 -0.4389316\n",
       "  ZXDA        ZXDB        ZXDC        ZYG11A      ZYG11B      ZYX         \n",
       "1 -0.02720567  0.10508843  0.14350973 -0.10492678  0.06582083  0.161843495\n",
       "2  0.16406170  0.05887251  0.07353784  0.08136490 -0.17123188  0.150911988\n",
       "3 -0.11252650 -0.02517573 -0.04089682 -0.17509416 -0.13905023  0.090325195\n",
       "4  0.06296188  0.18920560  0.11106164 -0.03408766 -0.17837802 -0.146564613\n",
       "5  0.01106695  0.18831931 -0.04768609 -0.13576026 -0.28438696 -0.003517739\n",
       "6  0.05385447  0.11210283  0.19190139  0.10649250 -0.10068460 -0.122768098\n",
       "  ZZEF1       ZZZ3       \n",
       "1  0.05662022 -0.31553541\n",
       "2  0.15923277 -0.04082740\n",
       "3  0.02919711 -0.02406391\n",
       "4 -0.19310283 -0.27129185\n",
       "5 -0.05838324 -0.23112694\n",
       "6 -0.12669751 -0.17658955"
      ]
     },
     "metadata": {},
     "output_type": "display_data"
    }
   ],
   "source": [
    "#Load in the pre-correction chronos scores\n",
    "chronos.22q1 = load.from.taiga(data.name='public-22q1-305b', data.version=24, data.file='CRISPR_gene_effect') %>%\n",
    "data.frame(check.names = FALSE) %>%\n",
    "rownames_to_column(\"sample\")\n",
    "colnames(chronos.22q1) = word(colnames(chronos.22q1), 1)\n",
    "\n",
    "head(chronos.22q1)"
   ]
  },
  {
   "cell_type": "code",
   "execution_count": 6,
   "metadata": {
    "hidden": true
   },
   "outputs": [
    {
     "data": {
      "text/html": [
       "<table class=\"dataframe\">\n",
       "<caption>A data.frame: 6 × 26686</caption>\n",
       "<thead>\n",
       "\t<tr><th></th><th scope=col>sample</th><th scope=col>TGIF1</th><th scope=col>PRDX6</th><th scope=col>CIC</th><th scope=col>PLEC</th><th scope=col>MPP2</th><th scope=col>CFTR</th><th scope=col>C1QB</th><th scope=col>ELN</th><th scope=col>SEPTIN12</th><th scope=col>⋯</th><th scope=col>GTF2H2C</th><th scope=col>TTC31</th><th scope=col>PDE8B</th><th scope=col>CHD1</th><th scope=col>PAK1</th><th scope=col>LOC284898</th><th scope=col>PRKD3</th><th scope=col>MLC1</th><th scope=col>ZBTB41</th><th scope=col>TMEM181</th></tr>\n",
       "\t<tr><th></th><th scope=col>&lt;chr&gt;</th><th scope=col>&lt;int&gt;</th><th scope=col>&lt;int&gt;</th><th scope=col>&lt;int&gt;</th><th scope=col>&lt;int&gt;</th><th scope=col>&lt;int&gt;</th><th scope=col>&lt;int&gt;</th><th scope=col>&lt;int&gt;</th><th scope=col>&lt;int&gt;</th><th scope=col>&lt;int&gt;</th><th scope=col>⋯</th><th scope=col>&lt;int&gt;</th><th scope=col>&lt;int&gt;</th><th scope=col>&lt;int&gt;</th><th scope=col>&lt;int&gt;</th><th scope=col>&lt;int&gt;</th><th scope=col>&lt;int&gt;</th><th scope=col>&lt;int&gt;</th><th scope=col>&lt;int&gt;</th><th scope=col>&lt;int&gt;</th><th scope=col>&lt;int&gt;</th></tr>\n",
       "</thead>\n",
       "<tbody>\n",
       "\t<tr><th scope=row>1</th><td>ACH-000657</td><td>0</td><td>0</td><td>0</td><td>0</td><td>0</td><td>0</td><td>0</td><td>0</td><td>0</td><td>⋯</td><td>0</td><td>0</td><td>0</td><td>0</td><td>0</td><td>0</td><td>0</td><td>0</td><td>0</td><td>0</td></tr>\n",
       "\t<tr><th scope=row>2</th><td>ACH-000617</td><td>3</td><td>3</td><td>3</td><td>3</td><td>3</td><td>3</td><td>3</td><td>3</td><td>3</td><td>⋯</td><td>3</td><td>3</td><td>3</td><td>3</td><td>3</td><td>3</td><td>3</td><td>3</td><td>0</td><td>3</td></tr>\n",
       "\t<tr><th scope=row>3</th><td>ACH-000685</td><td>0</td><td>0</td><td>3</td><td>0</td><td>0</td><td>0</td><td>0</td><td>0</td><td>3</td><td>⋯</td><td>0</td><td>0</td><td>0</td><td>0</td><td>0</td><td>0</td><td>0</td><td>3</td><td>0</td><td>2</td></tr>\n",
       "\t<tr><th scope=row>4</th><td>ACH-000632</td><td>3</td><td>3</td><td>3</td><td>3</td><td>3</td><td>3</td><td>3</td><td>3</td><td>3</td><td>⋯</td><td>3</td><td>3</td><td>3</td><td>3</td><td>3</td><td>3</td><td>3</td><td>3</td><td>3</td><td>3</td></tr>\n",
       "\t<tr><th scope=row>5</th><td>ACH-000171</td><td>3</td><td>3</td><td>3</td><td>3</td><td>3</td><td>3</td><td>3</td><td>3</td><td>3</td><td>⋯</td><td>3</td><td>3</td><td>3</td><td>3</td><td>3</td><td>3</td><td>3</td><td>3</td><td>3</td><td>3</td></tr>\n",
       "\t<tr><th scope=row>6</th><td>ACH-000863</td><td>3</td><td>3</td><td>3</td><td>3</td><td>3</td><td>3</td><td>3</td><td>3</td><td>3</td><td>⋯</td><td>3</td><td>3</td><td>3</td><td>3</td><td>3</td><td>3</td><td>3</td><td>3</td><td>3</td><td>3</td></tr>\n",
       "</tbody>\n",
       "</table>\n"
      ],
      "text/latex": [
       "A data.frame: 6 × 26686\n",
       "\\begin{tabular}{r|lllllllllllllllllllll}\n",
       "  & sample & TGIF1 & PRDX6 & CIC & PLEC & MPP2 & CFTR & C1QB & ELN & SEPTIN12 & ⋯ & GTF2H2C & TTC31 & PDE8B & CHD1 & PAK1 & LOC284898 & PRKD3 & MLC1 & ZBTB41 & TMEM181\\\\\n",
       "  & <chr> & <int> & <int> & <int> & <int> & <int> & <int> & <int> & <int> & <int> & ⋯ & <int> & <int> & <int> & <int> & <int> & <int> & <int> & <int> & <int> & <int>\\\\\n",
       "\\hline\n",
       "\t1 & ACH-000657 & 0 & 0 & 0 & 0 & 0 & 0 & 0 & 0 & 0 & ⋯ & 0 & 0 & 0 & 0 & 0 & 0 & 0 & 0 & 0 & 0\\\\\n",
       "\t2 & ACH-000617 & 3 & 3 & 3 & 3 & 3 & 3 & 3 & 3 & 3 & ⋯ & 3 & 3 & 3 & 3 & 3 & 3 & 3 & 3 & 0 & 3\\\\\n",
       "\t3 & ACH-000685 & 0 & 0 & 3 & 0 & 0 & 0 & 0 & 0 & 3 & ⋯ & 0 & 0 & 0 & 0 & 0 & 0 & 0 & 3 & 0 & 2\\\\\n",
       "\t4 & ACH-000632 & 3 & 3 & 3 & 3 & 3 & 3 & 3 & 3 & 3 & ⋯ & 3 & 3 & 3 & 3 & 3 & 3 & 3 & 3 & 3 & 3\\\\\n",
       "\t5 & ACH-000171 & 3 & 3 & 3 & 3 & 3 & 3 & 3 & 3 & 3 & ⋯ & 3 & 3 & 3 & 3 & 3 & 3 & 3 & 3 & 3 & 3\\\\\n",
       "\t6 & ACH-000863 & 3 & 3 & 3 & 3 & 3 & 3 & 3 & 3 & 3 & ⋯ & 3 & 3 & 3 & 3 & 3 & 3 & 3 & 3 & 3 & 3\\\\\n",
       "\\end{tabular}\n"
      ],
      "text/markdown": [
       "\n",
       "A data.frame: 6 × 26686\n",
       "\n",
       "| <!--/--> | sample &lt;chr&gt; | TGIF1 &lt;int&gt; | PRDX6 &lt;int&gt; | CIC &lt;int&gt; | PLEC &lt;int&gt; | MPP2 &lt;int&gt; | CFTR &lt;int&gt; | C1QB &lt;int&gt; | ELN &lt;int&gt; | SEPTIN12 &lt;int&gt; | ⋯ ⋯ | GTF2H2C &lt;int&gt; | TTC31 &lt;int&gt; | PDE8B &lt;int&gt; | CHD1 &lt;int&gt; | PAK1 &lt;int&gt; | LOC284898 &lt;int&gt; | PRKD3 &lt;int&gt; | MLC1 &lt;int&gt; | ZBTB41 &lt;int&gt; | TMEM181 &lt;int&gt; |\n",
       "|---|---|---|---|---|---|---|---|---|---|---|---|---|---|---|---|---|---|---|---|---|---|\n",
       "| 1 | ACH-000657 | 0 | 0 | 0 | 0 | 0 | 0 | 0 | 0 | 0 | ⋯ | 0 | 0 | 0 | 0 | 0 | 0 | 0 | 0 | 0 | 0 |\n",
       "| 2 | ACH-000617 | 3 | 3 | 3 | 3 | 3 | 3 | 3 | 3 | 3 | ⋯ | 3 | 3 | 3 | 3 | 3 | 3 | 3 | 3 | 0 | 3 |\n",
       "| 3 | ACH-000685 | 0 | 0 | 3 | 0 | 0 | 0 | 0 | 0 | 3 | ⋯ | 0 | 0 | 0 | 0 | 0 | 0 | 0 | 3 | 0 | 2 |\n",
       "| 4 | ACH-000632 | 3 | 3 | 3 | 3 | 3 | 3 | 3 | 3 | 3 | ⋯ | 3 | 3 | 3 | 3 | 3 | 3 | 3 | 3 | 3 | 3 |\n",
       "| 5 | ACH-000171 | 3 | 3 | 3 | 3 | 3 | 3 | 3 | 3 | 3 | ⋯ | 3 | 3 | 3 | 3 | 3 | 3 | 3 | 3 | 3 | 3 |\n",
       "| 6 | ACH-000863 | 3 | 3 | 3 | 3 | 3 | 3 | 3 | 3 | 3 | ⋯ | 3 | 3 | 3 | 3 | 3 | 3 | 3 | 3 | 3 | 3 |\n",
       "\n"
      ],
      "text/plain": [
       "  sample     TGIF1 PRDX6 CIC PLEC MPP2 CFTR C1QB ELN SEPTIN12 ⋯ GTF2H2C TTC31\n",
       "1 ACH-000657 0     0     0   0    0    0    0    0   0        ⋯ 0       0    \n",
       "2 ACH-000617 3     3     3   3    3    3    3    3   3        ⋯ 3       3    \n",
       "3 ACH-000685 0     0     3   0    0    0    0    0   3        ⋯ 0       0    \n",
       "4 ACH-000632 3     3     3   3    3    3    3    3   3        ⋯ 3       3    \n",
       "5 ACH-000171 3     3     3   3    3    3    3    3   3        ⋯ 3       3    \n",
       "6 ACH-000863 3     3     3   3    3    3    3    3   3        ⋯ 3       3    \n",
       "  PDE8B CHD1 PAK1 LOC284898 PRKD3 MLC1 ZBTB41 TMEM181\n",
       "1 0     0    0    0         0     0    0      0      \n",
       "2 3     3    3    3         3     3    0      3      \n",
       "3 0     0    0    0         0     3    0      2      \n",
       "4 3     3    3    3         3     3    3      3      \n",
       "5 3     3    3    3         3     3    3      3      \n",
       "6 3     3    3    3         3     3    3      3      "
      ]
     },
     "metadata": {},
     "output_type": "display_data"
    }
   ],
   "source": [
    "#Load in the gene block matrix that lists the ancestry for all genes and for all cell lines\n",
    "setwd(\"/home/jupyter/Ancestry/analysis/locus_specific_associations\")\n",
    "gene.block.matrix = read.table(\"gene.block.matrix.txt\", sep = \"\\t\", header = T)\n",
    "row.names(gene.block.matrix) = NULL\n",
    "\n",
    "#Format gene.block.matrix so that it is ready for our analysis\n",
    "formatted.gene.block.matrix = gene.block.matrix %>%\n",
    "column_to_rownames(var = \"gene\") %>%\n",
    "select(-block_id, -X.chm, -spos, -epos) %>%\n",
    "t() %>%\n",
    "data.frame() %>%\n",
    "rownames_to_column() %>%\n",
    "rename(\"sample\" = 1) %>%\n",
    "mutate(sample = gsub(\"ACH.000\", \"ACH-000\", sample)) %>%\n",
    "mutate(sample = gsub(\"\\\\.1\", \"\", sample))\n",
    "\n",
    "\n",
    "head(formatted.gene.block.matrix)"
   ]
  },
  {
   "cell_type": "code",
   "execution_count": 7,
   "metadata": {
    "hidden": true
   },
   "outputs": [],
   "source": [
    "#Loop through all of the ancestry-associated genes and compute the mean dependency score for each ancestry group\n",
    "\n",
    "mean.dependency.score.per.ancestry.df = NULL\n",
    "for(i in 1:length(ancestry.associated.gene.vector)){\n",
    "    \n",
    "    #Get the gene of interest for this loop\n",
    "    gene.of.interest = ancestry.associated.gene.vector[i] \n",
    "    \n",
    "    #Get vectors that have the names of the cell lines that are of each ancestry at the 'gene.of.interest' locus\n",
    "    gene.block.matrix.subset = formatted.gene.block.matrix %>% select(sample, all_of(gene.of.interest)) %>% rename(\"gene\" = 2)\n",
    "    afr.lines = gene.block.matrix.subset %>% filter(gene %in% \"0\") %>% pull(sample)\n",
    "    amr.lines = gene.block.matrix.subset %>% filter(gene %in% \"1\") %>% pull(sample)\n",
    "    eas.lines = gene.block.matrix.subset %>% filter(gene %in% \"2\") %>% pull(sample)\n",
    "    eur.lines = gene.block.matrix.subset %>% filter(gene %in% \"3\") %>% pull(sample)\n",
    "    sas.lines = gene.block.matrix.subset %>% filter(gene %in% \"4\") %>% pull(sample)\n",
    "    \n",
    "    #Subset the expression data and calculate the mean for each ancestry group\n",
    "    chronos.22q1.subset = chronos.22q1 %>% select(sample, all_of(gene.of.interest)) %>% rename(\"gene\" = 2)\n",
    "    afr.mean.chronos = chronos.22q1.subset %>% filter(sample %in% all_of(afr.lines)) %>% pull(gene) %>% mean()\n",
    "    amr.mean.chronos = chronos.22q1.subset %>% filter(sample %in% all_of(amr.lines)) %>% pull(gene) %>% mean()\n",
    "    eas.mean.chronos = chronos.22q1.subset %>% filter(sample %in% all_of(eas.lines)) %>% pull(gene) %>% mean()\n",
    "    eur.mean.chronos = chronos.22q1.subset %>% filter(sample %in% all_of(eur.lines)) %>% pull(gene) %>% mean()\n",
    "    sas.mean.chronos = chronos.22q1.subset %>% filter(sample %in% all_of(sas.lines)) %>% pull(gene) %>% mean()\n",
    "    \n",
    "    #Create a vector with all of the information\n",
    "    vector.to.add = c(gene.of.interest, afr.mean.chronos, amr.mean.chronos, eas.mean.chronos, eur.mean.chronos, sas.mean.chronos)\n",
    "    \n",
    "    #Add it to the data frame outside of the loop\n",
    "    mean.dependency.score.per.ancestry.df = rbind(mean.dependency.score.per.ancestry.df, vector.to.add)\n",
    "    \n",
    "}\n",
    "\n",
    "#Format the data frame so that it looks a bit nicer\n",
    "row.names(mean.dependency.score.per.ancestry.df) = NULL\n",
    "colnames(mean.dependency.score.per.ancestry.df) = c(\"gene\", \"afr\", \"amr\", \"eas\", \"eur\", \"sas\")\n",
    "mean.dependency.score.per.ancestry.df = mean.dependency.score.per.ancestry.df %>% \n",
    "data.frame() %>%\n",
    "mutate(afr = as.numeric(afr)) %>%\n",
    "mutate(amr = as.numeric(amr)) %>%\n",
    "mutate(eas = as.numeric(eas)) %>%\n",
    "mutate(eur = as.numeric(eur)) %>%\n",
    "mutate(sas = as.numeric(sas))"
   ]
  },
  {
   "cell_type": "code",
   "execution_count": 8,
   "metadata": {
    "hidden": true
   },
   "outputs": [
    {
     "data": {
      "text/html": [
       "<table class=\"dataframe\">\n",
       "<caption>A data.frame: 6 × 6</caption>\n",
       "<thead>\n",
       "\t<tr><th></th><th scope=col>gene</th><th scope=col>afr</th><th scope=col>amr</th><th scope=col>eas</th><th scope=col>eur</th><th scope=col>sas</th></tr>\n",
       "\t<tr><th></th><th scope=col>&lt;chr&gt;</th><th scope=col>&lt;dbl&gt;</th><th scope=col>&lt;dbl&gt;</th><th scope=col>&lt;dbl&gt;</th><th scope=col>&lt;dbl&gt;</th><th scope=col>&lt;dbl&gt;</th></tr>\n",
       "</thead>\n",
       "<tbody>\n",
       "\t<tr><th scope=row>1</th><td>ABHD5   </td><td> 0.02890545</td><td> 0.06352953</td><td> 0.0199022646</td><td> 0.054135126</td><td> 0.08206646</td></tr>\n",
       "\t<tr><th scope=row>2</th><td>ATOH1   </td><td>-0.03888002</td><td>-0.26495214</td><td>-0.0242675007</td><td>-0.014511887</td><td>-0.01900538</td></tr>\n",
       "\t<tr><th scope=row>3</th><td>ATP6V0E1</td><td>-0.32008308</td><td>-0.35687165</td><td>-0.2092165265</td><td>-0.147229713</td><td>-0.25434656</td></tr>\n",
       "\t<tr><th scope=row>4</th><td>CAAP1   </td><td> 0.08231156</td><td> 0.04796748</td><td>-0.0003528956</td><td> 0.008078415</td><td> 0.09811292</td></tr>\n",
       "\t<tr><th scope=row>5</th><td>CCDC74B </td><td>-0.24285980</td><td>-0.13941624</td><td>-0.2725341513</td><td>-0.189332607</td><td>-0.22642954</td></tr>\n",
       "\t<tr><th scope=row>6</th><td>CDKN2B  </td><td> 0.11659155</td><td> 0.05568664</td><td> 0.0598906772</td><td> 0.047642669</td><td>-0.03626297</td></tr>\n",
       "</tbody>\n",
       "</table>\n"
      ],
      "text/latex": [
       "A data.frame: 6 × 6\n",
       "\\begin{tabular}{r|llllll}\n",
       "  & gene & afr & amr & eas & eur & sas\\\\\n",
       "  & <chr> & <dbl> & <dbl> & <dbl> & <dbl> & <dbl>\\\\\n",
       "\\hline\n",
       "\t1 & ABHD5    &  0.02890545 &  0.06352953 &  0.0199022646 &  0.054135126 &  0.08206646\\\\\n",
       "\t2 & ATOH1    & -0.03888002 & -0.26495214 & -0.0242675007 & -0.014511887 & -0.01900538\\\\\n",
       "\t3 & ATP6V0E1 & -0.32008308 & -0.35687165 & -0.2092165265 & -0.147229713 & -0.25434656\\\\\n",
       "\t4 & CAAP1    &  0.08231156 &  0.04796748 & -0.0003528956 &  0.008078415 &  0.09811292\\\\\n",
       "\t5 & CCDC74B  & -0.24285980 & -0.13941624 & -0.2725341513 & -0.189332607 & -0.22642954\\\\\n",
       "\t6 & CDKN2B   &  0.11659155 &  0.05568664 &  0.0598906772 &  0.047642669 & -0.03626297\\\\\n",
       "\\end{tabular}\n"
      ],
      "text/markdown": [
       "\n",
       "A data.frame: 6 × 6\n",
       "\n",
       "| <!--/--> | gene &lt;chr&gt; | afr &lt;dbl&gt; | amr &lt;dbl&gt; | eas &lt;dbl&gt; | eur &lt;dbl&gt; | sas &lt;dbl&gt; |\n",
       "|---|---|---|---|---|---|---|\n",
       "| 1 | ABHD5    |  0.02890545 |  0.06352953 |  0.0199022646 |  0.054135126 |  0.08206646 |\n",
       "| 2 | ATOH1    | -0.03888002 | -0.26495214 | -0.0242675007 | -0.014511887 | -0.01900538 |\n",
       "| 3 | ATP6V0E1 | -0.32008308 | -0.35687165 | -0.2092165265 | -0.147229713 | -0.25434656 |\n",
       "| 4 | CAAP1    |  0.08231156 |  0.04796748 | -0.0003528956 |  0.008078415 |  0.09811292 |\n",
       "| 5 | CCDC74B  | -0.24285980 | -0.13941624 | -0.2725341513 | -0.189332607 | -0.22642954 |\n",
       "| 6 | CDKN2B   |  0.11659155 |  0.05568664 |  0.0598906772 |  0.047642669 | -0.03626297 |\n",
       "\n"
      ],
      "text/plain": [
       "  gene     afr         amr         eas           eur          sas        \n",
       "1 ABHD5     0.02890545  0.06352953  0.0199022646  0.054135126  0.08206646\n",
       "2 ATOH1    -0.03888002 -0.26495214 -0.0242675007 -0.014511887 -0.01900538\n",
       "3 ATP6V0E1 -0.32008308 -0.35687165 -0.2092165265 -0.147229713 -0.25434656\n",
       "4 CAAP1     0.08231156  0.04796748 -0.0003528956  0.008078415  0.09811292\n",
       "5 CCDC74B  -0.24285980 -0.13941624 -0.2725341513 -0.189332607 -0.22642954\n",
       "6 CDKN2B    0.11659155  0.05568664  0.0598906772  0.047642669 -0.03626297"
      ]
     },
     "metadata": {},
     "output_type": "display_data"
    }
   ],
   "source": [
    "head(mean.dependency.score.per.ancestry.df)"
   ]
  },
  {
   "cell_type": "code",
   "execution_count": 9,
   "metadata": {
    "hidden": true
   },
   "outputs": [],
   "source": [
    "#Calculate the mean dependency score for all of the ancestry-associated genes \n",
    "mean.expression.df = chronos.22q1 %>%\n",
    "select(all_of(ancestry.associated.gene.vector)) %>%\n",
    "apply(2, mean) %>%\n",
    "data.frame() %>%\n",
    "rename(\"chronos_score\" = 1) %>%\n",
    "mutate(\"gene\" = ancestry.associated.gene.vector, .before = 1)\n",
    "\n",
    "#Get a factor order for all of the genes\n",
    "gene.order = mean.expression.df %>%\n",
    "arrange(chronos_score) %>%\n",
    "pull(gene)"
   ]
  },
  {
   "cell_type": "code",
   "execution_count": 53,
   "metadata": {
    "hidden": true
   },
   "outputs": [
    {
     "name": "stderr",
     "output_type": "stream",
     "text": [
      "Using gene as id variables\n",
      "\n"
     ]
    },
    {
     "data": {
      "image/png": "[encoded data removed]",
      "text/plain": [
       "plot without title"
      ]
     },
     "metadata": {
      "image/png": {
       "height": 420,
       "width": 420
      }
     },
     "output_type": "display_data"
    }
   ],
   "source": [
    "#Now, plot the plot\n",
    "mean.dependency.score.per.ancestry.df %>% \n",
    "mutate(gene = factor(gene, levels = fct_inorder(gene.order))) %>%\n",
    "melt() %>%\n",
    "ggplot(aes(x = gene, y = value, fill = variable)) +\n",
    "geom_bar(stat=\"identity\") +\n",
    "facet_grid(variable ~ 1) +\n",
    "\n",
    "theme_bw() +\n",
    "\n",
    "scale_fill_manual(values = c(\"darkorange2\", \"firebrick4\", \"chartreuse4\", \"dodgerblue4\", \"darkorchid4\")) +\n",
    "\n",
    "theme(\n",
    "panel.grid.major = element_blank(),\n",
    "panel.grid.minor = element_blank(), \n",
    "axis.line = element_line(color = \"black\")\n",
    ") +\n",
    "\n",
    "theme(\n",
    "axis.title.x = element_text(size = 7),\n",
    "axis.title.y = element_text(size = 7)\n",
    ") +\n",
    "\n",
    "theme(axis.text.x = element_text(angle = 90, vjust = 0.5, hjust=1)) +\n",
    "\n",
    "theme(\n",
    "axis.text=element_text(size = 7),\n",
    "axis.title=element_text(size = 7)\n",
    ") +\n",
    "\n",
    "theme(\n",
    "legend.title = element_text(size = 7),\n",
    "legend.text = element_text(size = 7)\n",
    ") +\n",
    "\n",
    "ylab(\"Chronos Score\")\n",
    "\n",
    "#Export it to the google bucket\n",
    "setwd('/home/jupyter/Ancestry/analysis/nature_genetics_reviews/reviewer_2')\n",
    "ggsave(\"r2c6_bar_plot.pdf\", width = 9, height = 5)\n",
    "system(glue::glue(\"\n",
    "cd /home/jupyter/Ancestry/analysis/nature_genetics_reviews/reviewer_2\n",
    "gsutil cp r2c6_bar_plot.pdf gs://fc-45c0e148-0b1c-4244-9bfc-feb559bbc514\n",
    "\"))"
   ]
  },
  {
   "cell_type": "markdown",
   "metadata": {
    "hidden": true
   },
   "source": [
    "Plot the data in a different way"
   ]
  },
  {
   "cell_type": "code",
   "execution_count": 15,
   "metadata": {
    "hidden": true
   },
   "outputs": [
    {
     "name": "stderr",
     "output_type": "stream",
     "text": [
      "Using gene as id variables\n",
      "\n"
     ]
    },
    {
     "data": {
      "image/png": "[encoded data removed]",
      "text/plain": [
       "plot without title"
      ]
     },
     "metadata": {
      "image/png": {
       "height": 420,
       "width": 420
      }
     },
     "output_type": "display_data"
    }
   ],
   "source": [
    "#Plot the plot\n",
    "mean.dependency.score.per.ancestry.df %>%\n",
    "melt() %>%\n",
    "ggplot(aes(x = gene, y = value, fill = variable, color = variable)) +\n",
    "geom_point() +\n",
    "\n",
    "theme_bw() +\n",
    "\n",
    "scale_fill_manual(values = c(\"darkorange2\", \"firebrick4\", \"chartreuse4\", \"dodgerblue4\", \"darkorchid4\")) +\n",
    "scale_color_manual(values = c(\"darkorange2\", \"firebrick4\", \"chartreuse4\", \"dodgerblue4\", \"darkorchid4\")) +\n",
    "\n",
    "theme(\n",
    "panel.grid.major = element_blank(),\n",
    "panel.grid.minor = element_blank(), \n",
    "axis.line = element_line(color = \"black\")\n",
    ") +\n",
    "\n",
    "theme(\n",
    "axis.title.x = element_text(size = 7),\n",
    "axis.title.y = element_text(size = 7)\n",
    ") +\n",
    "\n",
    "theme(axis.text.x = element_text(angle = 90, vjust = 0.5, hjust=1)) +\n",
    "\n",
    "theme(\n",
    "axis.text=element_text(size = 7),\n",
    "axis.title=element_text(size = 7)\n",
    ") +\n",
    "\n",
    "theme(\n",
    "legend.title = element_text(size = 7),\n",
    "legend.text = element_text(size = 7)\n",
    ") +\n",
    "\n",
    "ylab(\"Chronos Score\") \n",
    "\n",
    "#Export it to the google bucket\n",
    "setwd('/home/jupyter/Ancestry/analysis/nature_genetics_reviews/reviewer_2')\n",
    "ggsave(\"r2c6_scatter_plot.pdf\", width = 9, height = 4)\n",
    "system(glue::glue(\"\n",
    "cd /home/jupyter/Ancestry/analysis/nature_genetics_reviews/reviewer_2\n",
    "gsutil cp r2c6_scatter_plot.pdf gs://fc-45c0e148-0b1c-4244-9bfc-feb559bbc514\n",
    "\"))"
   ]
  },
  {
   "cell_type": "code",
   "execution_count": 15,
   "metadata": {
    "hidden": true
   },
   "outputs": [
    {
     "name": "stderr",
     "output_type": "stream",
     "text": [
      "\u001b[1m\u001b[22m`stat_bin()` using `bins = 30`. Pick better value with `binwidth`.\n",
      "\u001b[1m\u001b[22m`stat_bin()` using `bins = 30`. Pick better value with `binwidth`.\n"
     ]
    },
    {
     "data": {
      "image/png": "[encoded data removed]",
      "text/plain": [
       "plot without title"
      ]
     },
     "metadata": {
      "image/png": {
       "height": 420,
       "width": 420
      }
     },
     "output_type": "display_data"
    }
   ],
   "source": [
    "#Calculate the differential between the min and max, then plot a histogram.\n",
    "mean.dependency.score.per.ancestry.df %>%\n",
    "rowwise() %>%\n",
    "mutate(\"minimum_score\" = min(c_across(afr:sas))) %>%\n",
    "rowwise() %>%\n",
    "mutate(\"max_score\" = max(c_across(afr:sas))) %>%\n",
    "mutate(\"differential_score\" = max_score - minimum_score) %>%\n",
    "\n",
    "ggplot(aes(x = differential_score)) +\n",
    "geom_histogram() +\n",
    "\n",
    "theme_bw() +\n",
    "\n",
    "theme(\n",
    "panel.grid.major = element_blank(),\n",
    "panel.grid.minor = element_blank(), \n",
    "axis.line = element_line(color = \"black\")\n",
    ") +\n",
    "\n",
    "theme(\n",
    "axis.title.x = element_text(size = 7),\n",
    "axis.title.y = element_text(size = 7)\n",
    ") +\n",
    "\n",
    "theme(\n",
    "axis.text=element_text(size = 7),\n",
    "axis.title=element_text(size = 7)\n",
    ") +\n",
    "\n",
    "theme(\n",
    "legend.title = element_text(size = 7),\n",
    "legend.text = element_text(size = 7)\n",
    ") +\n",
    "\n",
    "xlab(\"Chronos score differential\") \n",
    "\n",
    "#Export it to the google bucket\n",
    "setwd('/home/jupyter/Ancestry/analysis/nature_genetics_reviews/reviewer_2')\n",
    "ggsave(\"r2c6_differential_histogram.pdf\", width = 4, height = 4)\n",
    "system(glue::glue(\"\n",
    "cd /home/jupyter/Ancestry/analysis/nature_genetics_reviews/reviewer_2\n",
    "gsutil cp r2c6_differential_histogram.pdf gs://fc-45c0e148-0b1c-4244-9bfc-feb559bbc514\n",
    "\"))"
   ]
  },
  {
   "cell_type": "markdown",
   "metadata": {},
   "source": [
    "# Comment 7"
   ]
  },
  {
   "cell_type": "markdown",
   "metadata": {},
   "source": [
    "The purpose of this analysis is to make a figure demonstrating how many ancestry-associated genes have variants in the guide targeting sequences."
   ]
  },
  {
   "cell_type": "code",
   "execution_count": 2,
   "metadata": {},
   "outputs": [],
   "source": [
    "#Load in the ancestry-associated pval matrix\n",
    "setwd(\"/home/jupyter/Ancestry/analysis/remake_figures_lineage_correction/gwas_output\")\n",
    "all.data = read.table(\"merged.pvals.txt\", sep = \"\\t\", header = TRUE)"
   ]
  },
  {
   "cell_type": "code",
   "execution_count": 3,
   "metadata": {},
   "outputs": [],
   "source": [
    "#FDR correct the entire dataset\n",
    "all.data.fdr = all.data %>%\n",
    "select(-snp) %>%\n",
    "apply(2, function(x) { p.adjust(x, method = \"BY\", n = length(x)) }) %>%\n",
    "data.frame() %>%\n",
    "mutate(\"snp\" = all.data$snp, .before = 1)"
   ]
  },
  {
   "cell_type": "code",
   "execution_count": 4,
   "metadata": {},
   "outputs": [],
   "source": [
    "#Melt and subset to only include the significant SNPs\n",
    "all.fdr.melted = all.data.fdr %>%\n",
    "melt(id = \"snp\")"
   ]
  },
  {
   "cell_type": "code",
   "execution_count": 5,
   "metadata": {},
   "outputs": [],
   "source": [
    "#Filter to only include significant variants\n",
    "#Also split the snp column\n",
    "significant.fdr = all.fdr.melted %>%\n",
    "filter(value < 0.05) %>%\n",
    "separate(snp, sep = \":\", into = c(\"chr\", \"pos\", \"ref\", \"alt\"))"
   ]
  },
  {
   "cell_type": "code",
   "execution_count": 6,
   "metadata": {},
   "outputs": [],
   "source": [
    "#Load in the avana bed file\n",
    "setwd(\"/home/jupyter/Ancestry/filtered_output/avana14\")\n",
    "avana.bed <- read.table('Avana14_filtering.bed', sep = \"\\t\", header = F) %>%\n",
    "rename(\"chr\" = 1, \"start\" = 2, \"end\" = 3, \"sgrna\" = 4) "
   ]
  },
  {
   "cell_type": "code",
   "execution_count": 7,
   "metadata": {},
   "outputs": [],
   "source": [
    "#Compute which SNPs intersect with a guide\n",
    "in.guide.vector = significant.fdr %>%\n",
    "apply(1, function(x){\n",
    "    \n",
    "    #Store information as variables\n",
    "    chr.of.interest = x[1]\n",
    "    pos.of.interest = x[2]\n",
    "    \n",
    "    #subset avana.bed to only include guides that target the same chromosome\n",
    "    #then annotate the data frame if the variant falls within a guide\n",
    "    avana.bed.filtered = avana.bed %>% \n",
    "    filter(chr %in% all_of(chr.of.interest)) %>%\n",
    "    mutate(\"in_guide\" = ifelse(pos.of.interest >= start & pos.of.interest <= end, 1, 0))\n",
    "    \n",
    "    #Get the guides which that snp maps to\n",
    "    guide.logical = is.element(1, avana.bed.filtered$in_guide)\n",
    "    \n",
    "    if(guide.logical == TRUE){\n",
    "        guide.to.return = avana.bed.filtered %>%\n",
    "        filter(in_guide %in% \"1\") %>%\n",
    "        pull(sgrna)\n",
    "    } else {\n",
    "        guide.to.return = 0\n",
    "    }\n",
    "    \n",
    "    #Return the data outside of the loop\n",
    "    return(guide.to.return) \n",
    "})"
   ]
  },
  {
   "cell_type": "code",
   "execution_count": 8,
   "metadata": {},
   "outputs": [],
   "source": [
    "#Merge the guide into the main data frame\n",
    "significant.fdr.with.guide = significant.fdr %>%\n",
    "mutate(\"affected_guide\" = in.guide.vector)"
   ]
  },
  {
   "cell_type": "markdown",
   "metadata": {},
   "source": [
    "Load in the guide-level scores and compute the median depletion for all of the guides."
   ]
  },
  {
   "cell_type": "code",
   "execution_count": 9,
   "metadata": {},
   "outputs": [],
   "source": [
    "#Load in the lineage-corrected ancestry-associated p-value data frame\n",
    "setwd(\"/home/jupyter/Ancestry/analysis/nature_genetics_reviews/reviewer_4\")\n",
    "lineage.corrected.pvals = read.table(\"lm_ancestry_associated_dependency_pvals.txt\", sep = \"\\t\", header = T)\n",
    "\n",
    "#Get a vector of ancestry-associated genes\n",
    "ancestry.associated.genes = lineage.corrected.pvals %>%\n",
    "filter(afr_fdr < 0.05 | amr_fdr < 0.05 | eas_fdr < 0.05 | eur_fdr < 0.05 | sas_fdr < 0.05) %>%\n",
    "pull(gene) %>%\n",
    "unique()"
   ]
  },
  {
   "cell_type": "code",
   "execution_count": 10,
   "metadata": {},
   "outputs": [
    {
     "name": "stdout",
     "output_type": "stream",
     "text": [
      "Fetching https://cds.team/taiga/api/dataset/public-22q1-305b/24 \n",
      "Status 200 \n"
     ]
    },
    {
     "name": "stderr",
     "output_type": "stream",
     "text": [
      "No encoding supplied: defaulting to UTF-8.\n",
      "\n"
     ]
    },
    {
     "name": "stdout",
     "output_type": "stream",
     "text": [
      "loading cached data version from  /home/jupyter/.taiga/public-22q1-305b_24.toc \n"
     ]
    },
    {
     "name": "stderr",
     "output_type": "stream",
     "text": [
      "Loading from cached file /home/jupyter/.taiga/90832e86cae84f918423ad1d83fa4222_achilles-guide-map.rds\n",
      "\n"
     ]
    },
    {
     "name": "stdout",
     "output_type": "stream",
     "text": [
      "Fetching https://cds.team/taiga/api/dataset/public-22q1-305b/24 \n",
      "Status 200 \n"
     ]
    },
    {
     "name": "stderr",
     "output_type": "stream",
     "text": [
      "No encoding supplied: defaulting to UTF-8.\n",
      "\n"
     ]
    },
    {
     "name": "stdout",
     "output_type": "stream",
     "text": [
      "loading cached data version from  /home/jupyter/.taiga/public-22q1-305b_24.toc \n"
     ]
    },
    {
     "name": "stderr",
     "output_type": "stream",
     "text": [
      "Loading from cached file /home/jupyter/.taiga/90832e86cae84f918423ad1d83fa4222_achilles-logfold-change.rds\n",
      "\n"
     ]
    },
    {
     "name": "stdout",
     "output_type": "stream",
     "text": [
      "Fetching https://cds.team/taiga/api/dataset/public-22q1-305b/24 \n",
      "Status 200 \n"
     ]
    },
    {
     "name": "stderr",
     "output_type": "stream",
     "text": [
      "No encoding supplied: defaulting to UTF-8.\n",
      "\n"
     ]
    },
    {
     "name": "stdout",
     "output_type": "stream",
     "text": [
      "loading cached data version from  /home/jupyter/.taiga/public-22q1-305b_24.toc \n"
     ]
    },
    {
     "name": "stderr",
     "output_type": "stream",
     "text": [
      "Loading from cached file /home/jupyter/.taiga/90832e86cae84f918423ad1d83fa4222_achilles-replicate-map.rds\n",
      "\n"
     ]
    }
   ],
   "source": [
    "#Load in the data and filter it to only include ancestry-associated genes\n",
    "\n",
    "#guide map\n",
    "avana.guide.map = load.from.taiga(data.name='public-22q1-305b', data.version=24, data.file='Achilles_guide_map') %>%\n",
    "mutate(gene = word(gene, 1))\n",
    "\n",
    "#guide logfc data\n",
    "avana.logfc = load.from.taiga(data.name='public-22q1-305b', data.version=24, data.file='Achilles_logfold_change')\n",
    "\n",
    "#replicate map\n",
    "avana.replicate.map = load.from.taiga(data.name='public-22q1-305b', data.version=24, data.file='Achilles_replicate_map')"
   ]
  },
  {
   "cell_type": "code",
   "execution_count": 32,
   "metadata": {},
   "outputs": [
    {
     "name": "stderr",
     "output_type": "stream",
     "text": [
      "\u001b[1m\u001b[22m`summarise()` has grouped output by 'sgrna'. You can override using the\n",
      "`.groups` argument.\n"
     ]
    }
   ],
   "source": [
    "#Compute all of the ancestry-associated guides\n",
    "ancestry.associated.guides = avana.guide.map %>%\n",
    "filter(gene %in% all_of(ancestry.associated.genes)) %>%\n",
    "pull(sgrna)\n",
    "\n",
    "#Filter the logfc data to only include ancestry-associated guides\n",
    "#Then collapse replicates into cell lines\n",
    "ancestry.avana.logfc = avana.logfc %>%\n",
    "data.frame(check.names = FALSE) %>%\n",
    "rownames_to_column(\"sgrna\") %>%\n",
    "filter(sgrna %in% all_of(ancestry.associated.guides)) %>%\n",
    "melt(id = \"sgrna\") %>%\n",
    "mutate(\"sample\" = plyr::mapvalues(from = avana.replicate.map$replicate_ID, to = avana.replicate.map$DepMap_ID, variable, warn_missing = FALSE)) %>%\n",
    "group_by(sgrna, sample) %>%\n",
    "summarise(\"sgrna_depletion\" = mean(value)) %>%\n",
    "mutate(\"gene\" = plyr::mapvalues(from = avana.guide.map$sgrna, to = avana.guide.map$gene, sgrna, warn_missing = FALSE))\n"
   ]
  },
  {
   "cell_type": "code",
   "execution_count": 43,
   "metadata": {},
   "outputs": [
    {
     "data": {
      "text/html": [
       "<table class=\"dataframe\">\n",
       "<caption>A tibble: 6 × 4</caption>\n",
       "<thead>\n",
       "\t<tr><th scope=col>sgrna</th><th scope=col>median_sgrna_depletion</th><th scope=col>gene</th><th scope=col>snp_flag</th></tr>\n",
       "\t<tr><th scope=col>&lt;chr&gt;</th><th scope=col>&lt;dbl&gt;</th><th scope=col>&lt;chr&gt;</th><th scope=col>&lt;dbl&gt;</th></tr>\n",
       "</thead>\n",
       "<tbody>\n",
       "\t<tr><td>AACACGCTCATCACAATGAG</td><td>-0.01137518</td><td>ATP6V0E1</td><td>0</td></tr>\n",
       "\t<tr><td>AACTACCTATGACAGTGCCG</td><td>-0.52708524</td><td>CLSPN   </td><td>0</td></tr>\n",
       "\t<tr><td>AAGCGGAGACTGTACAGAAA</td><td> 0.15173893</td><td>UGT2B17 </td><td>0</td></tr>\n",
       "\t<tr><td>AAGCTGCTCGATGAGAACAG</td><td>-1.37313856</td><td>MDN1    </td><td>0</td></tr>\n",
       "\t<tr><td>AAGGGAAGAAAATTTCCGTG</td><td>-0.03615500</td><td>RFPL1   </td><td>0</td></tr>\n",
       "\t<tr><td>AATGGACTCTGATATGGAAG</td><td> 0.22496741</td><td>CAAP1   </td><td>0</td></tr>\n",
       "</tbody>\n",
       "</table>\n"
      ],
      "text/latex": [
       "A tibble: 6 × 4\n",
       "\\begin{tabular}{llll}\n",
       " sgrna & median\\_sgrna\\_depletion & gene & snp\\_flag\\\\\n",
       " <chr> & <dbl> & <chr> & <dbl>\\\\\n",
       "\\hline\n",
       "\t AACACGCTCATCACAATGAG & -0.01137518 & ATP6V0E1 & 0\\\\\n",
       "\t AACTACCTATGACAGTGCCG & -0.52708524 & CLSPN    & 0\\\\\n",
       "\t AAGCGGAGACTGTACAGAAA &  0.15173893 & UGT2B17  & 0\\\\\n",
       "\t AAGCTGCTCGATGAGAACAG & -1.37313856 & MDN1     & 0\\\\\n",
       "\t AAGGGAAGAAAATTTCCGTG & -0.03615500 & RFPL1    & 0\\\\\n",
       "\t AATGGACTCTGATATGGAAG &  0.22496741 & CAAP1    & 0\\\\\n",
       "\\end{tabular}\n"
      ],
      "text/markdown": [
       "\n",
       "A tibble: 6 × 4\n",
       "\n",
       "| sgrna &lt;chr&gt; | median_sgrna_depletion &lt;dbl&gt; | gene &lt;chr&gt; | snp_flag &lt;dbl&gt; |\n",
       "|---|---|---|---|\n",
       "| AACACGCTCATCACAATGAG | -0.01137518 | ATP6V0E1 | 0 |\n",
       "| AACTACCTATGACAGTGCCG | -0.52708524 | CLSPN    | 0 |\n",
       "| AAGCGGAGACTGTACAGAAA |  0.15173893 | UGT2B17  | 0 |\n",
       "| AAGCTGCTCGATGAGAACAG | -1.37313856 | MDN1     | 0 |\n",
       "| AAGGGAAGAAAATTTCCGTG | -0.03615500 | RFPL1    | 0 |\n",
       "| AATGGACTCTGATATGGAAG |  0.22496741 | CAAP1    | 0 |\n",
       "\n"
      ],
      "text/plain": [
       "  sgrna                median_sgrna_depletion gene     snp_flag\n",
       "1 AACACGCTCATCACAATGAG -0.01137518            ATP6V0E1 0       \n",
       "2 AACTACCTATGACAGTGCCG -0.52708524            CLSPN    0       \n",
       "3 AAGCGGAGACTGTACAGAAA  0.15173893            UGT2B17  0       \n",
       "4 AAGCTGCTCGATGAGAACAG -1.37313856            MDN1     0       \n",
       "5 AAGGGAAGAAAATTTCCGTG -0.03615500            RFPL1    0       \n",
       "6 AATGGACTCTGATATGGAAG  0.22496741            CAAP1    0       "
      ]
     },
     "metadata": {},
     "output_type": "display_data"
    }
   ],
   "source": [
    "#Get a vector of guides that have a snp\n",
    "guide.with.snp = significant.fdr.with.guide %>%\n",
    "filter(!affected_guide %in% \"0\") %>%\n",
    "pull(affected_guide) %>%\n",
    "unique()\n",
    "\n",
    "#Group by guide and calculate the median across all cell lines\n",
    "#Then annotate with if the guide has a snp in the targeting sequence\n",
    "collapsed.median.guide.depletion = ancestry.avana.logfc %>%\n",
    "group_by(sgrna) %>%\n",
    "summarise(\"median_sgrna_depletion\" = median(sgrna_depletion)) %>%\n",
    "mutate(\"gene\" = plyr::mapvalues(from = ancestry.avana.logfc$sgrna, to = ancestry.avana.logfc$gene, sgrna, warn_missing = FALSE)) %>%\n",
    "mutate(\"snp_flag\" = ifelse(sgrna %in% all_of(guide.with.snp), 1, 0))\n",
    "\n",
    "\n",
    "collapsed.median.guide.depletion %>% head()"
   ]
  },
  {
   "cell_type": "code",
   "execution_count": 45,
   "metadata": {},
   "outputs": [
    {
     "data": {
      "image/png": "[encoded data removed]",
      "text/plain": [
       "plot without title"
      ]
     },
     "metadata": {
      "image/png": {
       "height": 420,
       "width": 420
      }
     },
     "output_type": "display_data"
    }
   ],
   "source": [
    "#Plot the plot\n",
    "collapsed.median.guide.depletion %>% \n",
    "ggplot(aes(x = gene, y = median_sgrna_depletion, color = snp_flag, fill = snp_flag)) +\n",
    "geom_point()"
   ]
  },
  {
   "cell_type": "code",
   "execution_count": 56,
   "metadata": {},
   "outputs": [
    {
     "data": {
      "image/png": "[encoded data removed]",
      "text/plain": [
       "plot without title"
      ]
     },
     "metadata": {
      "image/png": {
       "height": 420,
       "width": 420
      }
     },
     "output_type": "display_data"
    }
   ],
   "source": [
    "###Represent the data in a different way\n",
    "collapsed.median.guide.depletion %>%\n",
    "filter(gene %in% all_of(ancestry.associated.genes)) %>%\n",
    "group_by(gene) %>%\n",
    "summarise(\"num_affected_guides\" = sum(snp_flag)) %>%\n",
    "group_by(num_affected_guides) %>%\n",
    "summarise(\"class\" = n()) %>%\n",
    "ggplot(aes(x = num_affected_guides, y = class)) +\n",
    "geom_bar(stat = \"identity\") +\n",
    "\n",
    "theme_bw() +\n",
    "\n",
    "theme(\n",
    "panel.grid.major = element_blank(),\n",
    "panel.grid.minor = element_blank(), \n",
    "axis.line = element_line(color = \"black\")\n",
    ") +\n",
    "\n",
    "theme(\n",
    "axis.title.x = element_text(size = 7),\n",
    "axis.title.y = element_text(size = 7)\n",
    ") +\n",
    "\n",
    "theme(\n",
    "axis.text=element_text(size = 7),\n",
    "axis.title=element_text(size = 7)\n",
    ") +\n",
    "\n",
    "theme(\n",
    "legend.title = element_text(size = 7),\n",
    "legend.text = element_text(size = 7)\n",
    ") +\n",
    "\n",
    "ylab(\"Number of genes\") +\n",
    "xlab(\"Number of affected guides\")\n",
    "\n",
    "#Export it to the google bucket\n",
    "setwd('/home/jupyter/Ancestry/analysis/nature_genetics_reviews/reviewer_2')\n",
    "ggsave(\"r2c7_bar_plot.pdf\", width = 3, height = 5)\n",
    "system(glue::glue(\"\n",
    "cd /home/jupyter/Ancestry/analysis/nature_genetics_reviews/reviewer_2\n",
    "gsutil cp r2c7_bar_plot.pdf gs://fc-45c0e148-0b1c-4244-9bfc-feb559bbc514\n",
    "\"))"
   ]
  },
  {
   "cell_type": "markdown",
   "metadata": {},
   "source": [
    "Re-do R2C7 with the blacklist matrix data"
   ]
  },
  {
   "cell_type": "code",
   "execution_count": 4,
   "metadata": {},
   "outputs": [
    {
     "name": "stdout",
     "output_type": "stream",
     "text": [
      "Fetching https://cds.team/taiga/api/dataset/internal-23q2-1e49/97 \n",
      "Status 200 \n"
     ]
    },
    {
     "name": "stderr",
     "output_type": "stream",
     "text": [
      "No encoding supplied: defaulting to UTF-8.\n",
      "\n"
     ]
    },
    {
     "name": "stdout",
     "output_type": "stream",
     "text": [
      "loading cached data version from  /home/jupyter/.taiga/internal-23q2-1e49_97.toc \n"
     ]
    },
    {
     "name": "stderr",
     "output_type": "stream",
     "text": [
      "Loading from cached file /home/jupyter/.taiga/af6202f567224b5094aa0f9911f1d458_omicsguidemutationsbinaryavana.rds\n",
      "\n"
     ]
    }
   ],
   "source": [
    "#Load in the blacklist matrix from the most recent depmap version\n",
    "avana.blacklist.matrix = load.from.taiga(data.name='internal-23q2-1e49', data.version=97, data.file='OmicsGuideMutationsBinaryAvana')\n",
    "\n",
    "#Load in the avana guide map from the most recent depmap version\n",
    "avana.guide.map = load.from.taiga(data.name='internal-23q2-1e49', data.version=97, data.file='AvanaGuideMap')"
   ]
  },
  {
   "cell_type": "code",
   "execution_count": null,
   "metadata": {},
   "outputs": [],
   "source": []
  },
  {
   "cell_type": "code",
   "execution_count": null,
   "metadata": {},
   "outputs": [],
   "source": []
  },
  {
   "cell_type": "code",
   "execution_count": 5,
   "metadata": {},
   "outputs": [
    {
     "data": {
      "text/html": [
       "<table class=\"dataframe\">\n",
       "<caption>A data.frame: 6 × 1948</caption>\n",
       "<thead>\n",
       "\t<tr><th></th><th scope=col>chrom</th><th scope=col>start</th><th scope=col>end</th><th scope=col>sgRNA</th><th scope=col>ACH-000440</th><th scope=col>ACH-002947</th><th scope=col>ACH-000078</th><th scope=col>ACH-002946</th><th scope=col>ACH-001552</th><th scope=col>ACH-000392</th><th scope=col>⋯</th><th scope=col>ACH-000832</th><th scope=col>ACH-000869</th><th scope=col>ACH-000985</th><th scope=col>ACH-002245</th><th scope=col>ACH-000776</th><th scope=col>ACH-000944</th><th scope=col>ACH-000125</th><th scope=col>ACH-000564</th><th scope=col>ACH-001626</th><th scope=col>ACH-000591</th></tr>\n",
       "\t<tr><th></th><th scope=col>&lt;chr&gt;</th><th scope=col>&lt;int&gt;</th><th scope=col>&lt;int&gt;</th><th scope=col>&lt;chr&gt;</th><th scope=col>&lt;int&gt;</th><th scope=col>&lt;int&gt;</th><th scope=col>&lt;int&gt;</th><th scope=col>&lt;int&gt;</th><th scope=col>&lt;int&gt;</th><th scope=col>&lt;int&gt;</th><th scope=col>⋯</th><th scope=col>&lt;int&gt;</th><th scope=col>&lt;int&gt;</th><th scope=col>&lt;int&gt;</th><th scope=col>&lt;int&gt;</th><th scope=col>&lt;int&gt;</th><th scope=col>&lt;int&gt;</th><th scope=col>&lt;int&gt;</th><th scope=col>&lt;int&gt;</th><th scope=col>&lt;int&gt;</th><th scope=col>&lt;int&gt;</th></tr>\n",
       "</thead>\n",
       "<tbody>\n",
       "\t<tr><th scope=row>1</th><td>chr1</td><td> 3757</td><td> 3777</td><td>TGTAGTCCCAGCTACTCAGG</td><td>0</td><td>0</td><td>0</td><td>0</td><td>0</td><td>0</td><td>⋯</td><td>0</td><td>0</td><td>0</td><td>0</td><td>0</td><td>0</td><td>0</td><td>0</td><td>0</td><td>0</td></tr>\n",
       "\t<tr><th scope=row>2</th><td>chr1</td><td> 4003</td><td> 4023</td><td>TGCAATGGCGAGGAATACCG</td><td>0</td><td>0</td><td>0</td><td>0</td><td>0</td><td>0</td><td>⋯</td><td>0</td><td>0</td><td>0</td><td>0</td><td>0</td><td>0</td><td>0</td><td>0</td><td>0</td><td>0</td></tr>\n",
       "\t<tr><th scope=row>3</th><td>chr1</td><td> 4623</td><td> 4643</td><td>GGTAGCCCTCACCCTTCCCG</td><td>0</td><td>0</td><td>0</td><td>0</td><td>0</td><td>0</td><td>⋯</td><td>0</td><td>0</td><td>0</td><td>0</td><td>0</td><td>0</td><td>0</td><td>0</td><td>0</td><td>0</td></tr>\n",
       "\t<tr><th scope=row>4</th><td>chr1</td><td> 9571</td><td> 9591</td><td>TGTAGTCCCAGCTACTCAGG</td><td>0</td><td>0</td><td>0</td><td>0</td><td>0</td><td>0</td><td>⋯</td><td>0</td><td>0</td><td>0</td><td>0</td><td>0</td><td>0</td><td>0</td><td>0</td><td>0</td><td>0</td></tr>\n",
       "\t<tr><th scope=row>5</th><td>chr1</td><td>18423</td><td>18443</td><td>TGTAGTCCCAGCTACTCAGG</td><td>0</td><td>0</td><td>0</td><td>0</td><td>0</td><td>0</td><td>⋯</td><td>0</td><td>0</td><td>0</td><td>0</td><td>0</td><td>0</td><td>0</td><td>0</td><td>0</td><td>0</td></tr>\n",
       "\t<tr><th scope=row>6</th><td>chr1</td><td>18880</td><td>18900</td><td>GAGTATTCAGTGTTACCTGG</td><td>0</td><td>0</td><td>0</td><td>0</td><td>0</td><td>0</td><td>⋯</td><td>0</td><td>0</td><td>0</td><td>0</td><td>0</td><td>0</td><td>0</td><td>0</td><td>0</td><td>0</td></tr>\n",
       "</tbody>\n",
       "</table>\n"
      ],
      "text/latex": [
       "A data.frame: 6 × 1948\n",
       "\\begin{tabular}{r|lllllllllllllllllllll}\n",
       "  & chrom & start & end & sgRNA & ACH-000440 & ACH-002947 & ACH-000078 & ACH-002946 & ACH-001552 & ACH-000392 & ⋯ & ACH-000832 & ACH-000869 & ACH-000985 & ACH-002245 & ACH-000776 & ACH-000944 & ACH-000125 & ACH-000564 & ACH-001626 & ACH-000591\\\\\n",
       "  & <chr> & <int> & <int> & <chr> & <int> & <int> & <int> & <int> & <int> & <int> & ⋯ & <int> & <int> & <int> & <int> & <int> & <int> & <int> & <int> & <int> & <int>\\\\\n",
       "\\hline\n",
       "\t1 & chr1 &  3757 &  3777 & TGTAGTCCCAGCTACTCAGG & 0 & 0 & 0 & 0 & 0 & 0 & ⋯ & 0 & 0 & 0 & 0 & 0 & 0 & 0 & 0 & 0 & 0\\\\\n",
       "\t2 & chr1 &  4003 &  4023 & TGCAATGGCGAGGAATACCG & 0 & 0 & 0 & 0 & 0 & 0 & ⋯ & 0 & 0 & 0 & 0 & 0 & 0 & 0 & 0 & 0 & 0\\\\\n",
       "\t3 & chr1 &  4623 &  4643 & GGTAGCCCTCACCCTTCCCG & 0 & 0 & 0 & 0 & 0 & 0 & ⋯ & 0 & 0 & 0 & 0 & 0 & 0 & 0 & 0 & 0 & 0\\\\\n",
       "\t4 & chr1 &  9571 &  9591 & TGTAGTCCCAGCTACTCAGG & 0 & 0 & 0 & 0 & 0 & 0 & ⋯ & 0 & 0 & 0 & 0 & 0 & 0 & 0 & 0 & 0 & 0\\\\\n",
       "\t5 & chr1 & 18423 & 18443 & TGTAGTCCCAGCTACTCAGG & 0 & 0 & 0 & 0 & 0 & 0 & ⋯ & 0 & 0 & 0 & 0 & 0 & 0 & 0 & 0 & 0 & 0\\\\\n",
       "\t6 & chr1 & 18880 & 18900 & GAGTATTCAGTGTTACCTGG & 0 & 0 & 0 & 0 & 0 & 0 & ⋯ & 0 & 0 & 0 & 0 & 0 & 0 & 0 & 0 & 0 & 0\\\\\n",
       "\\end{tabular}\n"
      ],
      "text/markdown": [
       "\n",
       "A data.frame: 6 × 1948\n",
       "\n",
       "| <!--/--> | chrom &lt;chr&gt; | start &lt;int&gt; | end &lt;int&gt; | sgRNA &lt;chr&gt; | ACH-000440 &lt;int&gt; | ACH-002947 &lt;int&gt; | ACH-000078 &lt;int&gt; | ACH-002946 &lt;int&gt; | ACH-001552 &lt;int&gt; | ACH-000392 &lt;int&gt; | ⋯ ⋯ | ACH-000832 &lt;int&gt; | ACH-000869 &lt;int&gt; | ACH-000985 &lt;int&gt; | ACH-002245 &lt;int&gt; | ACH-000776 &lt;int&gt; | ACH-000944 &lt;int&gt; | ACH-000125 &lt;int&gt; | ACH-000564 &lt;int&gt; | ACH-001626 &lt;int&gt; | ACH-000591 &lt;int&gt; |\n",
       "|---|---|---|---|---|---|---|---|---|---|---|---|---|---|---|---|---|---|---|---|---|---|\n",
       "| 1 | chr1 |  3757 |  3777 | TGTAGTCCCAGCTACTCAGG | 0 | 0 | 0 | 0 | 0 | 0 | ⋯ | 0 | 0 | 0 | 0 | 0 | 0 | 0 | 0 | 0 | 0 |\n",
       "| 2 | chr1 |  4003 |  4023 | TGCAATGGCGAGGAATACCG | 0 | 0 | 0 | 0 | 0 | 0 | ⋯ | 0 | 0 | 0 | 0 | 0 | 0 | 0 | 0 | 0 | 0 |\n",
       "| 3 | chr1 |  4623 |  4643 | GGTAGCCCTCACCCTTCCCG | 0 | 0 | 0 | 0 | 0 | 0 | ⋯ | 0 | 0 | 0 | 0 | 0 | 0 | 0 | 0 | 0 | 0 |\n",
       "| 4 | chr1 |  9571 |  9591 | TGTAGTCCCAGCTACTCAGG | 0 | 0 | 0 | 0 | 0 | 0 | ⋯ | 0 | 0 | 0 | 0 | 0 | 0 | 0 | 0 | 0 | 0 |\n",
       "| 5 | chr1 | 18423 | 18443 | TGTAGTCCCAGCTACTCAGG | 0 | 0 | 0 | 0 | 0 | 0 | ⋯ | 0 | 0 | 0 | 0 | 0 | 0 | 0 | 0 | 0 | 0 |\n",
       "| 6 | chr1 | 18880 | 18900 | GAGTATTCAGTGTTACCTGG | 0 | 0 | 0 | 0 | 0 | 0 | ⋯ | 0 | 0 | 0 | 0 | 0 | 0 | 0 | 0 | 0 | 0 |\n",
       "\n"
      ],
      "text/plain": [
       "  chrom start end   sgRNA                ACH-000440 ACH-002947 ACH-000078\n",
       "1 chr1   3757  3777 TGTAGTCCCAGCTACTCAGG 0          0          0         \n",
       "2 chr1   4003  4023 TGCAATGGCGAGGAATACCG 0          0          0         \n",
       "3 chr1   4623  4643 GGTAGCCCTCACCCTTCCCG 0          0          0         \n",
       "4 chr1   9571  9591 TGTAGTCCCAGCTACTCAGG 0          0          0         \n",
       "5 chr1  18423 18443 TGTAGTCCCAGCTACTCAGG 0          0          0         \n",
       "6 chr1  18880 18900 GAGTATTCAGTGTTACCTGG 0          0          0         \n",
       "  ACH-002946 ACH-001552 ACH-000392 ⋯ ACH-000832 ACH-000869 ACH-000985\n",
       "1 0          0          0          ⋯ 0          0          0         \n",
       "2 0          0          0          ⋯ 0          0          0         \n",
       "3 0          0          0          ⋯ 0          0          0         \n",
       "4 0          0          0          ⋯ 0          0          0         \n",
       "5 0          0          0          ⋯ 0          0          0         \n",
       "6 0          0          0          ⋯ 0          0          0         \n",
       "  ACH-002245 ACH-000776 ACH-000944 ACH-000125 ACH-000564 ACH-001626 ACH-000591\n",
       "1 0          0          0          0          0          0          0         \n",
       "2 0          0          0          0          0          0          0         \n",
       "3 0          0          0          0          0          0          0         \n",
       "4 0          0          0          0          0          0          0         \n",
       "5 0          0          0          0          0          0          0         \n",
       "6 0          0          0          0          0          0          0         "
      ]
     },
     "metadata": {},
     "output_type": "display_data"
    }
   ],
   "source": [
    "avana.blacklist.matrix %>% head()"
   ]
  },
  {
   "cell_type": "code",
   "execution_count": 6,
   "metadata": {},
   "outputs": [
    {
     "ename": "ERROR",
     "evalue": "Error in head(.): object 'avana.guide.map' not found\n",
     "output_type": "error",
     "traceback": [
      "Error in head(.): object 'avana.guide.map' not found\nTraceback:\n",
      "1. avana.guide.map %>% head()",
      "2. head(.)"
     ]
    }
   ],
   "source": [
    "avana.guide.map %>% head()"
   ]
  },
  {
   "cell_type": "code",
   "execution_count": null,
   "metadata": {},
   "outputs": [],
   "source": []
  },
  {
   "cell_type": "code",
   "execution_count": null,
   "metadata": {},
   "outputs": [],
   "source": []
  },
  {
   "cell_type": "code",
   "execution_count": null,
   "metadata": {},
   "outputs": [],
   "source": []
  },
  {
   "cell_type": "code",
   "execution_count": null,
   "metadata": {},
   "outputs": [],
   "source": []
  },
  {
   "cell_type": "markdown",
   "metadata": {
    "heading_collapsed": true
   },
   "source": [
    "# Comment 9"
   ]
  },
  {
   "cell_type": "markdown",
   "metadata": {
    "hidden": true
   },
   "source": [
    "The purpose of this notebook is to do additional analysis of the gwas data from figure 2"
   ]
  },
  {
   "cell_type": "code",
   "execution_count": null,
   "metadata": {
    "hidden": true
   },
   "outputs": [],
   "source": []
  },
  {
   "cell_type": "code",
   "execution_count": null,
   "metadata": {
    "hidden": true
   },
   "outputs": [],
   "source": []
  },
  {
   "cell_type": "code",
   "execution_count": null,
   "metadata": {
    "hidden": true
   },
   "outputs": [],
   "source": []
  },
  {
   "cell_type": "markdown",
   "metadata": {
    "heading_collapsed": true
   },
   "source": [
    "# Comment 19"
   ]
  },
  {
   "cell_type": "markdown",
   "metadata": {
    "hidden": true
   },
   "source": [
    "These analyses were performed in this notebook:\n",
    "\n",
    "New_SNV_Position_Single_Guide_Association.ipynb"
   ]
  },
  {
   "cell_type": "markdown",
   "metadata": {
    "heading_collapsed": true
   },
   "source": [
    "# Comment minor 1"
   ]
  },
  {
   "cell_type": "markdown",
   "metadata": {
    "hidden": true
   },
   "source": [
    "This analysis was performed in the New_Affected_Guides_Per_Individual.ipynb notebook"
   ]
  },
  {
   "cell_type": "markdown",
   "metadata": {
    "heading_collapsed": true
   },
   "source": [
    "# Comment minor 7"
   ]
  },
  {
   "cell_type": "markdown",
   "metadata": {
    "hidden": true
   },
   "source": [
    "The purpose of this code is to do some basic analysis of the Avana And KY libraries"
   ]
  },
  {
   "cell_type": "code",
   "execution_count": 7,
   "metadata": {
    "hidden": true
   },
   "outputs": [
    {
     "name": "stdout",
     "output_type": "stream",
     "text": [
      "Fetching https://cds.team/taiga/api/dataset/internal-23q2-1e49/97 \n",
      "Status 200 \n"
     ]
    },
    {
     "name": "stderr",
     "output_type": "stream",
     "text": [
      "No encoding supplied: defaulting to UTF-8.\n",
      "\n"
     ]
    },
    {
     "name": "stdout",
     "output_type": "stream",
     "text": [
      "loading cached data version from  /home/jupyter/.taiga/internal-23q2-1e49_97.toc \n"
     ]
    },
    {
     "name": "stderr",
     "output_type": "stream",
     "text": [
      "Loading from cached file /home/jupyter/.taiga/af6202f567224b5094aa0f9911f1d458_avanaguidemap.rds\n",
      "\n"
     ]
    },
    {
     "name": "stdout",
     "output_type": "stream",
     "text": [
      "Fetching https://cds.team/taiga/api/dataset/internal-23q2-1e49/97 \n",
      "Status 200 \n"
     ]
    },
    {
     "name": "stderr",
     "output_type": "stream",
     "text": [
      "No encoding supplied: defaulting to UTF-8.\n",
      "\n"
     ]
    },
    {
     "name": "stdout",
     "output_type": "stream",
     "text": [
      "loading cached data version from  /home/jupyter/.taiga/internal-23q2-1e49_97.toc \n"
     ]
    },
    {
     "name": "stderr",
     "output_type": "stream",
     "text": [
      "Loading from cached file /home/jupyter/.taiga/af6202f567224b5094aa0f9911f1d458_kyguidemap.rds\n",
      "\n"
     ]
    }
   ],
   "source": [
    "#Load in the avana guide map and the KY guide map\n",
    "#Also reformat them\n",
    "avana.guide.map = load.from.taiga(data.name='internal-23q2-1e49', data.version=97, data.file='AvanaGuideMap') %>%\n",
    "rename(\"sgrna\" = 1, \"genome_alignment\" = 2, \"gene\" = 3, \"n_alignments\" = 4, \"drop_reason\" = 5, \"used_by_chronos\" = 6) %>%\n",
    "mutate(gene = word(gene, 1))\n",
    "\n",
    "\n",
    "\n",
    "\n",
    "\n",
    "ky.guide.map = load.from.taiga(data.name='internal-23q2-1e49', data.version=97, data.file='KYGuideMap') %>%\n",
    "rename(\"sgrna\" = 1, \"genome_alignment\" = 2, \"gene\" = 3, \"n_alignments\" = 4, \"drop_reason\" = 5, \"used_by_chronos\" = 6) %>%\n",
    "mutate(gene = word(gene, 1))"
   ]
  },
  {
   "cell_type": "code",
   "execution_count": 18,
   "metadata": {
    "hidden": true
   },
   "outputs": [
    {
     "data": {
      "text/html": [
       "17349"
      ],
      "text/latex": [
       "17349"
      ],
      "text/markdown": [
       "17349"
      ],
      "text/plain": [
       "[1] 17349"
      ]
     },
     "metadata": {},
     "output_type": "display_data"
    }
   ],
   "source": [
    "#Calculate the number of unique genes in the KY library\n",
    "ky.guide.map %>%\n",
    "filter(used_by_chronos %in% \"True\") %>%\n",
    "pull(gene) %>%\n",
    "unique() %>%\n",
    "length()"
   ]
  },
  {
   "cell_type": "markdown",
   "metadata": {
    "heading_collapsed": true
   },
   "source": [
    "# Comment minor 11"
   ]
  },
  {
   "cell_type": "markdown",
   "metadata": {
    "hidden": true
   },
   "source": [
    "The purpose of this code is to create a supplemental table to address one of the reviewer's comments.\n",
    "\n",
    "Much of this analysis was done in the 'Remake_Figures_For_Lineage_Corrected_Analysis.ipynb' notebook"
   ]
  },
  {
   "cell_type": "code",
   "execution_count": 2,
   "metadata": {
    "hidden": true
   },
   "outputs": [
    {
     "data": {
      "text/html": [
       "<table class=\"dataframe\">\n",
       "<caption>A data.frame: 6 × 7</caption>\n",
       "<thead>\n",
       "\t<tr><th></th><th scope=col>eqtl_pval</th><th scope=col>eqtl_diff_exp</th><th scope=col>gene</th><th scope=col>snp</th><th scope=col>eqtl_fdr</th><th scope=col>abs_diff_exp</th><th scope=col>sig_flag</th></tr>\n",
       "\t<tr><th></th><th scope=col>&lt;dbl&gt;</th><th scope=col>&lt;dbl&gt;</th><th scope=col>&lt;chr&gt;</th><th scope=col>&lt;chr&gt;</th><th scope=col>&lt;dbl&gt;</th><th scope=col>&lt;dbl&gt;</th><th scope=col>&lt;chr&gt;</th></tr>\n",
       "</thead>\n",
       "<tbody>\n",
       "\t<tr><th scope=row>1</th><td>3.295075e-51</td><td>-2.4822386</td><td>MTAP   </td><td>chr9:21925164:A:C</td><td>7.232065e-49</td><td>2.4822386</td><td>sig</td></tr>\n",
       "\t<tr><th scope=row>2</th><td>1.020030e-34</td><td>-1.9509119</td><td>CDKN2B </td><td>chr9:21986219:C:T</td><td>1.119386e-32</td><td>1.9509119</td><td>sig</td></tr>\n",
       "\t<tr><th scope=row>3</th><td>2.846219e-34</td><td>-2.6020407</td><td>CAAP1  </td><td>chr9:26820990:G:A</td><td>2.082304e-32</td><td>2.6020407</td><td>sig</td></tr>\n",
       "\t<tr><th scope=row>4</th><td>2.173588e-10</td><td>-0.5907660</td><td>IFNE   </td><td>chr9:21340131:A:G</td><td>1.192654e-08</td><td>0.5907660</td><td>sig</td></tr>\n",
       "\t<tr><th scope=row>5</th><td>2.499742e-04</td><td> 0.3954071</td><td>CCDC74B</td><td>chr3:70154405:A:C</td><td>1.097292e-02</td><td>0.3954071</td><td>sig</td></tr>\n",
       "\t<tr><th scope=row>6</th><td>9.955677e-04</td><td> 0.3520314</td><td>DMRTA1 </td><td>chr9:22525700:G:A</td><td>3.641804e-02</td><td>0.3520314</td><td>sig</td></tr>\n",
       "</tbody>\n",
       "</table>\n"
      ],
      "text/latex": [
       "A data.frame: 6 × 7\n",
       "\\begin{tabular}{r|lllllll}\n",
       "  & eqtl\\_pval & eqtl\\_diff\\_exp & gene & snp & eqtl\\_fdr & abs\\_diff\\_exp & sig\\_flag\\\\\n",
       "  & <dbl> & <dbl> & <chr> & <chr> & <dbl> & <dbl> & <chr>\\\\\n",
       "\\hline\n",
       "\t1 & 3.295075e-51 & -2.4822386 & MTAP    & chr9:21925164:A:C & 7.232065e-49 & 2.4822386 & sig\\\\\n",
       "\t2 & 1.020030e-34 & -1.9509119 & CDKN2B  & chr9:21986219:C:T & 1.119386e-32 & 1.9509119 & sig\\\\\n",
       "\t3 & 2.846219e-34 & -2.6020407 & CAAP1   & chr9:26820990:G:A & 2.082304e-32 & 2.6020407 & sig\\\\\n",
       "\t4 & 2.173588e-10 & -0.5907660 & IFNE    & chr9:21340131:A:G & 1.192654e-08 & 0.5907660 & sig\\\\\n",
       "\t5 & 2.499742e-04 &  0.3954071 & CCDC74B & chr3:70154405:A:C & 1.097292e-02 & 0.3954071 & sig\\\\\n",
       "\t6 & 9.955677e-04 &  0.3520314 & DMRTA1  & chr9:22525700:G:A & 3.641804e-02 & 0.3520314 & sig\\\\\n",
       "\\end{tabular}\n"
      ],
      "text/markdown": [
       "\n",
       "A data.frame: 6 × 7\n",
       "\n",
       "| <!--/--> | eqtl_pval &lt;dbl&gt; | eqtl_diff_exp &lt;dbl&gt; | gene &lt;chr&gt; | snp &lt;chr&gt; | eqtl_fdr &lt;dbl&gt; | abs_diff_exp &lt;dbl&gt; | sig_flag &lt;chr&gt; |\n",
       "|---|---|---|---|---|---|---|---|\n",
       "| 1 | 3.295075e-51 | -2.4822386 | MTAP    | chr9:21925164:A:C | 7.232065e-49 | 2.4822386 | sig |\n",
       "| 2 | 1.020030e-34 | -1.9509119 | CDKN2B  | chr9:21986219:C:T | 1.119386e-32 | 1.9509119 | sig |\n",
       "| 3 | 2.846219e-34 | -2.6020407 | CAAP1   | chr9:26820990:G:A | 2.082304e-32 | 2.6020407 | sig |\n",
       "| 4 | 2.173588e-10 | -0.5907660 | IFNE    | chr9:21340131:A:G | 1.192654e-08 | 0.5907660 | sig |\n",
       "| 5 | 2.499742e-04 |  0.3954071 | CCDC74B | chr3:70154405:A:C | 1.097292e-02 | 0.3954071 | sig |\n",
       "| 6 | 9.955677e-04 |  0.3520314 | DMRTA1  | chr9:22525700:G:A | 3.641804e-02 | 0.3520314 | sig |\n",
       "\n"
      ],
      "text/plain": [
       "  eqtl_pval    eqtl_diff_exp gene    snp               eqtl_fdr    \n",
       "1 3.295075e-51 -2.4822386    MTAP    chr9:21925164:A:C 7.232065e-49\n",
       "2 1.020030e-34 -1.9509119    CDKN2B  chr9:21986219:C:T 1.119386e-32\n",
       "3 2.846219e-34 -2.6020407    CAAP1   chr9:26820990:G:A 2.082304e-32\n",
       "4 2.173588e-10 -0.5907660    IFNE    chr9:21340131:A:G 1.192654e-08\n",
       "5 2.499742e-04  0.3954071    CCDC74B chr3:70154405:A:C 1.097292e-02\n",
       "6 9.955677e-04  0.3520314    DMRTA1  chr9:22525700:G:A 3.641804e-02\n",
       "  abs_diff_exp sig_flag\n",
       "1 2.4822386    sig     \n",
       "2 1.9509119    sig     \n",
       "3 2.6020407    sig     \n",
       "4 0.5907660    sig     \n",
       "5 0.3954071    sig     \n",
       "6 0.3520314    sig     "
      ]
     },
     "metadata": {},
     "output_type": "display_data"
    }
   ],
   "source": [
    "#Load in the eqtl data\n",
    "setwd('/home/jupyter/Ancestry/analysis/remake_figures_lineage_correction')\n",
    "eqtl.summary = read.table(\"eqtl_summary_df.txt\", sep = \"\\t\", header = TRUE)\n",
    "\n",
    "eqtl.summary %>% head()"
   ]
  },
  {
   "cell_type": "code",
   "execution_count": 3,
   "metadata": {
    "hidden": true
   },
   "outputs": [
    {
     "data": {
      "text/html": [
       "<table class=\"dataframe\">\n",
       "<caption>A data.frame: 6 × 4</caption>\n",
       "<thead>\n",
       "\t<tr><th></th><th scope=col>gene</th><th scope=col>snp</th><th scope=col>pval</th><th scope=col>fdr</th></tr>\n",
       "\t<tr><th></th><th scope=col>&lt;chr&gt;</th><th scope=col>&lt;chr&gt;</th><th scope=col>&lt;dbl&gt;</th><th scope=col>&lt;dbl&gt;</th></tr>\n",
       "</thead>\n",
       "<tbody>\n",
       "\t<tr><th scope=row>1</th><td>ABHD5   </td><td>chr19:10327278:A:G</td><td>9.99055e-08</td><td>1.000000e+00</td></tr>\n",
       "\t<tr><th scope=row>2</th><td>ATOH1   </td><td>chr6:117239254:T:C</td><td>1.85815e-26</td><td>3.064682e-18</td></tr>\n",
       "\t<tr><th scope=row>3</th><td>ATP6V0E1</td><td>chr2:15148916:G:A </td><td>5.42604e-12</td><td>7.200293e-04</td></tr>\n",
       "\t<tr><th scope=row>4</th><td>CAAP1   </td><td>chr9:26820990:G:A </td><td>1.60688e-07</td><td>1.000000e+00</td></tr>\n",
       "\t<tr><th scope=row>5</th><td>CCDC74B </td><td>chr3:70154405:A:C </td><td>2.08891e-07</td><td>1.000000e+00</td></tr>\n",
       "\t<tr><th scope=row>6</th><td>CDKN2B  </td><td>chr9:21986219:C:T </td><td>1.63496e-15</td><td>2.696571e-07</td></tr>\n",
       "</tbody>\n",
       "</table>\n"
      ],
      "text/latex": [
       "A data.frame: 6 × 4\n",
       "\\begin{tabular}{r|llll}\n",
       "  & gene & snp & pval & fdr\\\\\n",
       "  & <chr> & <chr> & <dbl> & <dbl>\\\\\n",
       "\\hline\n",
       "\t1 & ABHD5    & chr19:10327278:A:G & 9.99055e-08 & 1.000000e+00\\\\\n",
       "\t2 & ATOH1    & chr6:117239254:T:C & 1.85815e-26 & 3.064682e-18\\\\\n",
       "\t3 & ATP6V0E1 & chr2:15148916:G:A  & 5.42604e-12 & 7.200293e-04\\\\\n",
       "\t4 & CAAP1    & chr9:26820990:G:A  & 1.60688e-07 & 1.000000e+00\\\\\n",
       "\t5 & CCDC74B  & chr3:70154405:A:C  & 2.08891e-07 & 1.000000e+00\\\\\n",
       "\t6 & CDKN2B   & chr9:21986219:C:T  & 1.63496e-15 & 2.696571e-07\\\\\n",
       "\\end{tabular}\n"
      ],
      "text/markdown": [
       "\n",
       "A data.frame: 6 × 4\n",
       "\n",
       "| <!--/--> | gene &lt;chr&gt; | snp &lt;chr&gt; | pval &lt;dbl&gt; | fdr &lt;dbl&gt; |\n",
       "|---|---|---|---|---|\n",
       "| 1 | ABHD5    | chr19:10327278:A:G | 9.99055e-08 | 1.000000e+00 |\n",
       "| 2 | ATOH1    | chr6:117239254:T:C | 1.85815e-26 | 3.064682e-18 |\n",
       "| 3 | ATP6V0E1 | chr2:15148916:G:A  | 5.42604e-12 | 7.200293e-04 |\n",
       "| 4 | CAAP1    | chr9:26820990:G:A  | 1.60688e-07 | 1.000000e+00 |\n",
       "| 5 | CCDC74B  | chr3:70154405:A:C  | 2.08891e-07 | 1.000000e+00 |\n",
       "| 6 | CDKN2B   | chr9:21986219:C:T  | 1.63496e-15 | 2.696571e-07 |\n",
       "\n"
      ],
      "text/plain": [
       "  gene     snp                pval        fdr         \n",
       "1 ABHD5    chr19:10327278:A:G 9.99055e-08 1.000000e+00\n",
       "2 ATOH1    chr6:117239254:T:C 1.85815e-26 3.064682e-18\n",
       "3 ATP6V0E1 chr2:15148916:G:A  5.42604e-12 7.200293e-04\n",
       "4 CAAP1    chr9:26820990:G:A  1.60688e-07 1.000000e+00\n",
       "5 CCDC74B  chr3:70154405:A:C  2.08891e-07 1.000000e+00\n",
       "6 CDKN2B   chr9:21986219:C:T  1.63496e-15 2.696571e-07"
      ]
     },
     "metadata": {},
     "output_type": "display_data"
    }
   ],
   "source": [
    "#Load in the dqtl data\n",
    "setwd(\"/home/jupyter/Ancestry/analysis/remake_figures_lineage_correction\")\n",
    "top.snp.df = read.table(\"ancestry_top_snp_df.txt\", sep = \"\\t\", header = TRUE)\n",
    "\n",
    "top.snp.df %>% head()"
   ]
  },
  {
   "cell_type": "code",
   "execution_count": 9,
   "metadata": {
    "hidden": true
   },
   "outputs": [
    {
     "data": {
      "text/html": [
       "<table class=\"dataframe\">\n",
       "<caption>A data.frame: 6 × 9</caption>\n",
       "<thead>\n",
       "\t<tr><th></th><th scope=col>gene</th><th scope=col>top_snp_chr</th><th scope=col>top_snp_pos</th><th scope=col>fdr</th><th scope=col>tss_chr</th><th scope=col>tss_pos</th><th scope=col>tss_strand</th><th scope=col>distance_to_tss</th><th scope=col>prox_or_dist</th></tr>\n",
       "\t<tr><th></th><th scope=col>&lt;chr&gt;</th><th scope=col>&lt;chr&gt;</th><th scope=col>&lt;int&gt;</th><th scope=col>&lt;dbl&gt;</th><th scope=col>&lt;chr&gt;</th><th scope=col>&lt;int&gt;</th><th scope=col>&lt;chr&gt;</th><th scope=col>&lt;int&gt;</th><th scope=col>&lt;chr&gt;</th></tr>\n",
       "</thead>\n",
       "<tbody>\n",
       "\t<tr><th scope=row>1</th><td>ABHD5   </td><td>chr19</td><td> 10327278</td><td>1.000000e+00</td><td>chr3</td><td> 43690870</td><td>+</td><td>1000001</td><td>distal  </td></tr>\n",
       "\t<tr><th scope=row>2</th><td>ATOH1   </td><td>chr6 </td><td>117239254</td><td>3.064682e-18</td><td>chr4</td><td> 93828753</td><td>+</td><td>1000001</td><td>distal  </td></tr>\n",
       "\t<tr><th scope=row>3</th><td>ATP6V0E1</td><td>chr2 </td><td> 15148916</td><td>7.200293e-04</td><td>chr5</td><td>172983771</td><td>+</td><td>1000001</td><td>distal  </td></tr>\n",
       "\t<tr><th scope=row>4</th><td>CAAP1   </td><td>chr9 </td><td> 26820990</td><td>1.000000e+00</td><td>chr9</td><td> 26892802</td><td>-</td><td>  71812</td><td>proximal</td></tr>\n",
       "\t<tr><th scope=row>5</th><td>CCDC74B </td><td>chr3 </td><td> 70154405</td><td>1.000000e+00</td><td>chr2</td><td>130145134</td><td>-</td><td>1000001</td><td>distal  </td></tr>\n",
       "\t<tr><th scope=row>6</th><td>CDKN2B  </td><td>chr9 </td><td> 21986219</td><td>2.696571e-07</td><td>chr9</td><td> 22009313</td><td>-</td><td>  23094</td><td>proximal</td></tr>\n",
       "</tbody>\n",
       "</table>\n"
      ],
      "text/latex": [
       "A data.frame: 6 × 9\n",
       "\\begin{tabular}{r|lllllllll}\n",
       "  & gene & top\\_snp\\_chr & top\\_snp\\_pos & fdr & tss\\_chr & tss\\_pos & tss\\_strand & distance\\_to\\_tss & prox\\_or\\_dist\\\\\n",
       "  & <chr> & <chr> & <int> & <dbl> & <chr> & <int> & <chr> & <int> & <chr>\\\\\n",
       "\\hline\n",
       "\t1 & ABHD5    & chr19 &  10327278 & 1.000000e+00 & chr3 &  43690870 & + & 1000001 & distal  \\\\\n",
       "\t2 & ATOH1    & chr6  & 117239254 & 3.064682e-18 & chr4 &  93828753 & + & 1000001 & distal  \\\\\n",
       "\t3 & ATP6V0E1 & chr2  &  15148916 & 7.200293e-04 & chr5 & 172983771 & + & 1000001 & distal  \\\\\n",
       "\t4 & CAAP1    & chr9  &  26820990 & 1.000000e+00 & chr9 &  26892802 & - &   71812 & proximal\\\\\n",
       "\t5 & CCDC74B  & chr3  &  70154405 & 1.000000e+00 & chr2 & 130145134 & - & 1000001 & distal  \\\\\n",
       "\t6 & CDKN2B   & chr9  &  21986219 & 2.696571e-07 & chr9 &  22009313 & - &   23094 & proximal\\\\\n",
       "\\end{tabular}\n"
      ],
      "text/markdown": [
       "\n",
       "A data.frame: 6 × 9\n",
       "\n",
       "| <!--/--> | gene &lt;chr&gt; | top_snp_chr &lt;chr&gt; | top_snp_pos &lt;int&gt; | fdr &lt;dbl&gt; | tss_chr &lt;chr&gt; | tss_pos &lt;int&gt; | tss_strand &lt;chr&gt; | distance_to_tss &lt;int&gt; | prox_or_dist &lt;chr&gt; |\n",
       "|---|---|---|---|---|---|---|---|---|---|\n",
       "| 1 | ABHD5    | chr19 |  10327278 | 1.000000e+00 | chr3 |  43690870 | + | 1000001 | distal   |\n",
       "| 2 | ATOH1    | chr6  | 117239254 | 3.064682e-18 | chr4 |  93828753 | + | 1000001 | distal   |\n",
       "| 3 | ATP6V0E1 | chr2  |  15148916 | 7.200293e-04 | chr5 | 172983771 | + | 1000001 | distal   |\n",
       "| 4 | CAAP1    | chr9  |  26820990 | 1.000000e+00 | chr9 |  26892802 | - |   71812 | proximal |\n",
       "| 5 | CCDC74B  | chr3  |  70154405 | 1.000000e+00 | chr2 | 130145134 | - | 1000001 | distal   |\n",
       "| 6 | CDKN2B   | chr9  |  21986219 | 2.696571e-07 | chr9 |  22009313 | - |   23094 | proximal |\n",
       "\n"
      ],
      "text/plain": [
       "  gene     top_snp_chr top_snp_pos fdr          tss_chr tss_pos   tss_strand\n",
       "1 ABHD5    chr19        10327278   1.000000e+00 chr3     43690870 +         \n",
       "2 ATOH1    chr6        117239254   3.064682e-18 chr4     93828753 +         \n",
       "3 ATP6V0E1 chr2         15148916   7.200293e-04 chr5    172983771 +         \n",
       "4 CAAP1    chr9         26820990   1.000000e+00 chr9     26892802 -         \n",
       "5 CCDC74B  chr3         70154405   1.000000e+00 chr2    130145134 -         \n",
       "6 CDKN2B   chr9         21986219   2.696571e-07 chr9     22009313 -         \n",
       "  distance_to_tss prox_or_dist\n",
       "1 1000001         distal      \n",
       "2 1000001         distal      \n",
       "3 1000001         distal      \n",
       "4   71812         proximal    \n",
       "5 1000001         distal      \n",
       "6   23094         proximal    "
      ]
     },
     "metadata": {},
     "output_type": "display_data"
    },
    {
     "data": {
      "text/html": [
       "<style>\n",
       ".list-inline {list-style: none; margin:0; padding: 0}\n",
       ".list-inline>li {display: inline-block}\n",
       ".list-inline>li:not(:last-child)::after {content: \"\\00b7\"; padding: 0 .5ex}\n",
       "</style>\n",
       "<ol class=list-inline><li>49</li><li>9</li></ol>\n"
      ],
      "text/latex": [
       "\\begin{enumerate*}\n",
       "\\item 49\n",
       "\\item 9\n",
       "\\end{enumerate*}\n"
      ],
      "text/markdown": [
       "1. 49\n",
       "2. 9\n",
       "\n",
       "\n"
      ],
      "text/plain": [
       "[1] 49  9"
      ]
     },
     "metadata": {},
     "output_type": "display_data"
    }
   ],
   "source": [
    "#Load in the distance to TSS data\n",
    "setwd('/home/jupyter/Ancestry/analysis/remake_figures_lineage_correction')\n",
    "distance.to.tss.df = read.table(\"distance_to_tss_df.txt\", sep = \"\\t\", header = TRUE)\n",
    "\n",
    "distance.to.tss.df %>% head()\n",
    "distance.to.tss.df %>% dim()"
   ]
  },
  {
   "cell_type": "code",
   "execution_count": 16,
   "metadata": {
    "hidden": true
   },
   "outputs": [
    {
     "data": {
      "text/html": [
       "<table class=\"dataframe\">\n",
       "<caption>A data.frame: 6 × 7</caption>\n",
       "<thead>\n",
       "\t<tr><th></th><th scope=col>gene</th><th scope=col>snp</th><th scope=col>eqtl_pval</th><th scope=col>eqtl_fdr</th><th scope=col>dqtl_pval</th><th scope=col>dqtl_fdr</th><th scope=col>prox_or_dist_to_tss</th></tr>\n",
       "\t<tr><th></th><th scope=col>&lt;chr&gt;</th><th scope=col>&lt;chr&gt;</th><th scope=col>&lt;dbl&gt;</th><th scope=col>&lt;dbl&gt;</th><th scope=col>&lt;dbl&gt;</th><th scope=col>&lt;dbl&gt;</th><th scope=col>&lt;chr&gt;</th></tr>\n",
       "</thead>\n",
       "<tbody>\n",
       "\t<tr><th scope=row>1</th><td>MTAP  </td><td>chr9:21925164:A:C</td><td>3.295075e-51</td><td>7.232065e-49</td><td>4.14323e-08</td><td>1.000000e+00</td><td>proximal</td></tr>\n",
       "\t<tr><th scope=row>2</th><td>CDKN2B</td><td>chr9:21986219:C:T</td><td>1.020030e-34</td><td>1.119386e-32</td><td>1.63496e-15</td><td>2.696571e-07</td><td>proximal</td></tr>\n",
       "\t<tr><th scope=row>3</th><td>CAAP1 </td><td>chr9:26820990:G:A</td><td>2.846219e-34</td><td>2.082304e-32</td><td>1.60688e-07</td><td>1.000000e+00</td><td>proximal</td></tr>\n",
       "\t<tr><th scope=row>4</th><td>IFNA14</td><td>chr9:21340131:A:G</td><td>2.173588e-10</td><td>1.192654e-08</td><td>5.72238e-09</td><td>5.345468e-01</td><td>proximal</td></tr>\n",
       "\t<tr><th scope=row>5</th><td>IFNA4 </td><td>chr9:21340131:A:G</td><td>2.173588e-10</td><td>1.192654e-08</td><td>3.63800e-08</td><td>1.000000e+00</td><td>proximal</td></tr>\n",
       "\t<tr><th scope=row>6</th><td>IFNE  </td><td>chr9:21340131:A:G</td><td>2.173588e-10</td><td>1.192654e-08</td><td>5.93298e-13</td><td>9.785378e-05</td><td>proximal</td></tr>\n",
       "</tbody>\n",
       "</table>\n"
      ],
      "text/latex": [
       "A data.frame: 6 × 7\n",
       "\\begin{tabular}{r|lllllll}\n",
       "  & gene & snp & eqtl\\_pval & eqtl\\_fdr & dqtl\\_pval & dqtl\\_fdr & prox\\_or\\_dist\\_to\\_tss\\\\\n",
       "  & <chr> & <chr> & <dbl> & <dbl> & <dbl> & <dbl> & <chr>\\\\\n",
       "\\hline\n",
       "\t1 & MTAP   & chr9:21925164:A:C & 3.295075e-51 & 7.232065e-49 & 4.14323e-08 & 1.000000e+00 & proximal\\\\\n",
       "\t2 & CDKN2B & chr9:21986219:C:T & 1.020030e-34 & 1.119386e-32 & 1.63496e-15 & 2.696571e-07 & proximal\\\\\n",
       "\t3 & CAAP1  & chr9:26820990:G:A & 2.846219e-34 & 2.082304e-32 & 1.60688e-07 & 1.000000e+00 & proximal\\\\\n",
       "\t4 & IFNA14 & chr9:21340131:A:G & 2.173588e-10 & 1.192654e-08 & 5.72238e-09 & 5.345468e-01 & proximal\\\\\n",
       "\t5 & IFNA4  & chr9:21340131:A:G & 2.173588e-10 & 1.192654e-08 & 3.63800e-08 & 1.000000e+00 & proximal\\\\\n",
       "\t6 & IFNE   & chr9:21340131:A:G & 2.173588e-10 & 1.192654e-08 & 5.93298e-13 & 9.785378e-05 & proximal\\\\\n",
       "\\end{tabular}\n"
      ],
      "text/markdown": [
       "\n",
       "A data.frame: 6 × 7\n",
       "\n",
       "| <!--/--> | gene &lt;chr&gt; | snp &lt;chr&gt; | eqtl_pval &lt;dbl&gt; | eqtl_fdr &lt;dbl&gt; | dqtl_pval &lt;dbl&gt; | dqtl_fdr &lt;dbl&gt; | prox_or_dist_to_tss &lt;chr&gt; |\n",
       "|---|---|---|---|---|---|---|---|\n",
       "| 1 | MTAP   | chr9:21925164:A:C | 3.295075e-51 | 7.232065e-49 | 4.14323e-08 | 1.000000e+00 | proximal |\n",
       "| 2 | CDKN2B | chr9:21986219:C:T | 1.020030e-34 | 1.119386e-32 | 1.63496e-15 | 2.696571e-07 | proximal |\n",
       "| 3 | CAAP1  | chr9:26820990:G:A | 2.846219e-34 | 2.082304e-32 | 1.60688e-07 | 1.000000e+00 | proximal |\n",
       "| 4 | IFNA14 | chr9:21340131:A:G | 2.173588e-10 | 1.192654e-08 | 5.72238e-09 | 5.345468e-01 | proximal |\n",
       "| 5 | IFNA4  | chr9:21340131:A:G | 2.173588e-10 | 1.192654e-08 | 3.63800e-08 | 1.000000e+00 | proximal |\n",
       "| 6 | IFNE   | chr9:21340131:A:G | 2.173588e-10 | 1.192654e-08 | 5.93298e-13 | 9.785378e-05 | proximal |\n",
       "\n"
      ],
      "text/plain": [
       "  gene   snp               eqtl_pval    eqtl_fdr     dqtl_pval   dqtl_fdr    \n",
       "1 MTAP   chr9:21925164:A:C 3.295075e-51 7.232065e-49 4.14323e-08 1.000000e+00\n",
       "2 CDKN2B chr9:21986219:C:T 1.020030e-34 1.119386e-32 1.63496e-15 2.696571e-07\n",
       "3 CAAP1  chr9:26820990:G:A 2.846219e-34 2.082304e-32 1.60688e-07 1.000000e+00\n",
       "4 IFNA14 chr9:21340131:A:G 2.173588e-10 1.192654e-08 5.72238e-09 5.345468e-01\n",
       "5 IFNA4  chr9:21340131:A:G 2.173588e-10 1.192654e-08 3.63800e-08 1.000000e+00\n",
       "6 IFNE   chr9:21340131:A:G 2.173588e-10 1.192654e-08 5.93298e-13 9.785378e-05\n",
       "  prox_or_dist_to_tss\n",
       "1 proximal           \n",
       "2 proximal           \n",
       "3 proximal           \n",
       "4 proximal           \n",
       "5 proximal           \n",
       "6 proximal           "
      ]
     },
     "metadata": {},
     "output_type": "display_data"
    }
   ],
   "source": [
    "#Merge everything together\n",
    "merged.eqtl.dqtl.tss.df = inner_join(eqtl.summary, top.snp.df, by = \"snp\") %>%\n",
    "data.frame() %>%\n",
    "select(-gene.x, -abs_diff_exp, -sig_flag) %>%\n",
    "rename(\"dqtl_pval\" = pval, \"dqtl_fdr\" = fdr, \"gene\" = gene.y) %>%\n",
    "inner_join(distance.to.tss.df, by = \"gene\") %>%\n",
    "select(-eqtl_diff_exp, -top_snp_chr, -tss_pos, -tss_chr, -tss_strand, -distance_to_tss, -fdr) %>%\n",
    "relocate(gene, .before = 1) %>%\n",
    "relocate(snp, .after = gene) %>%\n",
    "relocate(eqtl_pval, .after = snp) %>%\n",
    "relocate(eqtl_fdr, .after = eqtl_pval) %>%\n",
    "relocate(dqtl_pval, .after = eqtl_fdr) %>%\n",
    "relocate(dqtl_fdr, .after = dqtl_pval) %>%\n",
    "select(-top_snp_pos) %>%\n",
    "rename(\"prox_or_dist_to_tss\" = prox_or_dist)\n",
    "\n",
    "\n",
    "\n",
    "merged.eqtl.dqtl.tss.df %>% head()"
   ]
  },
  {
   "cell_type": "code",
   "execution_count": 19,
   "metadata": {
    "hidden": true
   },
   "outputs": [],
   "source": [
    "#Export the data frame\n",
    "setwd('/home/jupyter/Ancestry/analysis/remake_figures_lineage_correction')\n",
    "write.table(merged.eqtl.dqtl.tss.df, \"merged_eqtl_dqtl_tss.txt\", sep = \"\\t\", col.names = TRUE, row.names = FALSE, quote = FALSE)\n",
    "\n",
    "system(glue::glue(\"\n",
    "cd /home/jupyter/Ancestry/analysis/remake_figures_lineage_correction\n",
    "gsutil cp merged_eqtl_dqtl_tss.txt gs://fc-45c0e148-0b1c-4244-9bfc-feb559bbc514\n",
    "\"))"
   ]
  },
  {
   "cell_type": "markdown",
   "metadata": {
    "heading_collapsed": true
   },
   "source": [
    "# Comment minor 16"
   ]
  },
  {
   "cell_type": "code",
   "execution_count": 32,
   "metadata": {
    "hidden": true
   },
   "outputs": [],
   "source": [
    "#Load in the avana bed file\n",
    "setwd(\"/home/jupyter/Ancestry/filtered_output/avana14\")\n",
    "avana.bed <- read.table('Avana14_filtering.bed', sep = \"\\t\", header = F) %>%\n",
    "rename(\"chr\" = 1, \"start\" = 2, \"end\" = 3, \"sgrna\" = 4) \n",
    "\n",
    "total.avana.guides = avana.bed %>% pull(sgrna) %>% unique() %>% length()"
   ]
  },
  {
   "cell_type": "code",
   "execution_count": 11,
   "metadata": {
    "hidden": true
   },
   "outputs": [],
   "source": [
    "#Create a special bed file for filtering SNPs\n",
    "avana.bed.for.filtering = avana.bed %>%\n",
    "mutate(start = start - 10, .after = start) %>%\n",
    "mutate(end = end + 10, .after = end)\n",
    "\n",
    "#Write the bed file\n",
    "setwd(\"/home/jupyter/Ancestry/analysis/nature_genetics_reviews/reviewer_2\")\n",
    "write.table(avana.bed.for.filtering, \"avana_filtering_bed_file.bed\", sep = \"\\t\", col.names = FALSE, row.names = FALSE, quote = FALSE)"
   ]
  },
  {
   "cell_type": "code",
   "execution_count": 12,
   "metadata": {
    "hidden": true
   },
   "outputs": [],
   "source": [
    "#Filter the CCLE variants so that it only includes variants that fall within those guides\n",
    "system(glue::glue(\"\n",
    "cd /home/jupyter/Ancestry/analysis/nature_genetics_reviews/reviewer_2\n",
    "/home/jupyter/Ancestry/software/bcftools/bcftools filter -R /home/jupyter/Ancestry/analysis/nature_genetics_reviews/reviewer_2/avana_filtering_bed_file.bed /home/jupyter/Ancestry/analysis/locus_specific_gwas_analysis/split.all_chroms.maf.subset.reheader.vcf.gz -O z -o avana.filtered.ccle.variant.calls.vcf.gz \n",
    "\"))"
   ]
  },
  {
   "cell_type": "code",
   "execution_count": null,
   "metadata": {
    "hidden": true
   },
   "outputs": [],
   "source": [
    "#Get the sample names from the original vcf file\n",
    "system(glue::glue(\"\n",
    "cd /home/jupyter/Ancestry/analysis/nature_genetics_reviews/reviewer_2\n",
    "/home/jupyter/Ancestry/software/bcftools/bcftools query -l /home/jupyter/Ancestry/analysis/locus_specific_gwas_analysis/split.all_chroms.maf.subset.reheader.vcf.gz > \n",
    "\n",
    "\"))"
   ]
  },
  {
   "cell_type": "code",
   "execution_count": 3,
   "metadata": {
    "hidden": true
   },
   "outputs": [
    {
     "data": {
      "text/html": [
       "<table class=\"dataframe\">\n",
       "<caption>A data.frame: 6 × 5</caption>\n",
       "<thead>\n",
       "\t<tr><th></th><th scope=col>snp</th><th scope=col>chr</th><th scope=col>pos</th><th scope=col>sample</th><th scope=col>status</th></tr>\n",
       "\t<tr><th></th><th scope=col>&lt;chr&gt;</th><th scope=col>&lt;chr&gt;</th><th scope=col>&lt;chr&gt;</th><th scope=col>&lt;fct&gt;</th><th scope=col>&lt;chr&gt;</th></tr>\n",
       "</thead>\n",
       "<tbody>\n",
       "\t<tr><th scope=row>1</th><td>chr1:970892 </td><td>chr1</td><td>970892 </td><td>ACH-000657</td><td>1</td></tr>\n",
       "\t<tr><th scope=row>2</th><td>chr1:1399095</td><td>chr1</td><td>1399095</td><td>ACH-000657</td><td>0</td></tr>\n",
       "\t<tr><th scope=row>3</th><td>chr1:1407014</td><td>chr1</td><td>1407014</td><td>ACH-000657</td><td>0</td></tr>\n",
       "\t<tr><th scope=row>4</th><td>chr1:1426150</td><td>chr1</td><td>1426150</td><td>ACH-000657</td><td>0</td></tr>\n",
       "\t<tr><th scope=row>5</th><td>chr1:1426175</td><td>chr1</td><td>1426175</td><td>ACH-000657</td><td>1</td></tr>\n",
       "\t<tr><th scope=row>6</th><td>chr1:1426356</td><td>chr1</td><td>1426356</td><td>ACH-000657</td><td>0</td></tr>\n",
       "</tbody>\n",
       "</table>\n"
      ],
      "text/latex": [
       "A data.frame: 6 × 5\n",
       "\\begin{tabular}{r|lllll}\n",
       "  & snp & chr & pos & sample & status\\\\\n",
       "  & <chr> & <chr> & <chr> & <fct> & <chr>\\\\\n",
       "\\hline\n",
       "\t1 & chr1:970892  & chr1 & 970892  & ACH-000657 & 1\\\\\n",
       "\t2 & chr1:1399095 & chr1 & 1399095 & ACH-000657 & 0\\\\\n",
       "\t3 & chr1:1407014 & chr1 & 1407014 & ACH-000657 & 0\\\\\n",
       "\t4 & chr1:1426150 & chr1 & 1426150 & ACH-000657 & 0\\\\\n",
       "\t5 & chr1:1426175 & chr1 & 1426175 & ACH-000657 & 1\\\\\n",
       "\t6 & chr1:1426356 & chr1 & 1426356 & ACH-000657 & 0\\\\\n",
       "\\end{tabular}\n"
      ],
      "text/markdown": [
       "\n",
       "A data.frame: 6 × 5\n",
       "\n",
       "| <!--/--> | snp &lt;chr&gt; | chr &lt;chr&gt; | pos &lt;chr&gt; | sample &lt;fct&gt; | status &lt;chr&gt; |\n",
       "|---|---|---|---|---|---|\n",
       "| 1 | chr1:970892  | chr1 | 970892  | ACH-000657 | 1 |\n",
       "| 2 | chr1:1399095 | chr1 | 1399095 | ACH-000657 | 0 |\n",
       "| 3 | chr1:1407014 | chr1 | 1407014 | ACH-000657 | 0 |\n",
       "| 4 | chr1:1426150 | chr1 | 1426150 | ACH-000657 | 0 |\n",
       "| 5 | chr1:1426175 | chr1 | 1426175 | ACH-000657 | 1 |\n",
       "| 6 | chr1:1426356 | chr1 | 1426356 | ACH-000657 | 0 |\n",
       "\n"
      ],
      "text/plain": [
       "  snp          chr  pos     sample     status\n",
       "1 chr1:970892  chr1 970892  ACH-000657 1     \n",
       "2 chr1:1399095 chr1 1399095 ACH-000657 0     \n",
       "3 chr1:1407014 chr1 1407014 ACH-000657 0     \n",
       "4 chr1:1426150 chr1 1426150 ACH-000657 0     \n",
       "5 chr1:1426175 chr1 1426175 ACH-000657 1     \n",
       "6 chr1:1426356 chr1 1426356 ACH-000657 0     "
      ]
     },
     "metadata": {},
     "output_type": "display_data"
    }
   ],
   "source": [
    "#Load in the variant calls\n",
    "setwd(\"/home/jupyter/Ancestry/analysis/nature_genetics_reviews/reviewer_2\")\n",
    "all.ccle.variant.calls = read.table(\"avana.filtered.ccle.variant.calls.vcf.gz\", sep = \"\\t\")\n",
    "\n",
    "\n",
    "#Load in the sample names\n",
    "setwd(\"/home/jupyter/Ancestry/analysis/nature_genetics_reviews/reviewer_2\")\n",
    "ccle.sample.names = read.table(\"ccle.sample.headers.txt\", sep = \"\\t\") %>%\n",
    "pull(V1)\n",
    "\n",
    "\n",
    "#Build a nice-looking dataset\n",
    "formatted.avana.ccle.variant.calls = all.ccle.variant.calls %>%\n",
    "rename(\"snp\" = 2, \"qual\" = 7) %>%\n",
    "filter(qual %in% \"PASS\") %>%\n",
    "select(-1, -2, -4, -5, -6, -qual, -8, -9)\n",
    "\n",
    "colnames(formatted.avana.ccle.variant.calls) = c(\"snp\", ccle.sample.names)\n",
    "\n",
    "\n",
    "#Melt the dataset and re-format the variant call encoding\n",
    "melted.avana.ccle.variant.calls = formatted.avana.ccle.variant.calls %>%\n",
    "melt(id = \"snp\") %>%\n",
    "mutate(value = gsub(\":.*\", \"\", value)) %>%\n",
    "mutate(value = gsub(\"0\\\\|0\", \"0\", value)) %>%\n",
    "mutate(value = gsub(\"0\\\\|1\", \"1\", value)) %>%\n",
    "mutate(value = gsub(\"1\\\\|0\", \"1\", value)) %>%\n",
    "mutate(value = gsub(\"1\\\\|1\", \"2\", value)) %>%\n",
    "rename(\"sample\" = 2, \"status\" = 3) %>%\n",
    "separate(snp, sep = \":\", into = c(\"chr\", \"pos\", \"ref\", \"alt\")) %>%\n",
    "select(-ref, -alt) %>%\n",
    "mutate(\"snp\" = paste(chr, \":\", pos, sep = \"\"), .before = 1)\n",
    "\n",
    "\n",
    "\n",
    "melted.avana.ccle.variant.calls %>% head()"
   ]
  },
  {
   "cell_type": "code",
   "execution_count": 4,
   "metadata": {
    "hidden": true
   },
   "outputs": [],
   "source": [
    "#Create a megabed that has all possible guide positions\n",
    "avana.megabed = avana.bed %>% \n",
    "apply(1, function(x){\n",
    "    \n",
    "    #define some variables\n",
    "    chr.of.interest = x[1]\n",
    "    start.pos.of.interest = x[2]\n",
    "    end.pos.of.interest = x[3]\n",
    "    sgrna.of.interest = x[4]\n",
    "    \n",
    "    #build some vectors\n",
    "    sequence.vector = seq(from = start.pos.of.interest, to = end.pos.of.interest, by = 1)\n",
    "    chr.vector = rep(chr.of.interest, length(sequence.vector))\n",
    "    sgrna.vector = rep(sgrna.of.interest, length(sequence.vector))\n",
    "    \n",
    "    #assemble the dataframe\n",
    "    df.to.export = cbind(chr.vector, sequence.vector, sgrna.vector) %>% data.frame()\n",
    "    \n",
    "    #export the data frame\n",
    "    return(df.to.export)\n",
    "    \n",
    "}) %>%\n",
    "do.call(rbind, .) %>%\n",
    "rename(\"chr\" = 1, \"pos\" = 2, \"sgrna\" = 3) %>%\n",
    "mutate(\"snp\" = paste(chr, \":\", pos, sep = \"\"), .before = chr)\n",
    "\n"
   ]
  },
  {
   "cell_type": "code",
   "execution_count": 12,
   "metadata": {
    "hidden": true
   },
   "outputs": [],
   "source": [
    "#Annotate melted.avana.ccle.variant.calls so that is has the affected guide\n",
    "annotated.avana.ccle.variant.calls = melted.avana.ccle.variant.calls %>%\n",
    "rename(\"snp_status\" = status) %>%\n",
    "mutate(\"affected_sgrna\" = plyr::mapvalues(from = avana.megabed$snp, to = avana.megabed$sgrna, snp, warn_missing = FALSE)) %>%\n",
    "filter(!grepl('chr', affected_sgrna)) %>%\n",
    "mutate(snp_status = as.numeric(snp_status))\n"
   ]
  },
  {
   "cell_type": "code",
   "execution_count": 17,
   "metadata": {
    "hidden": true
   },
   "outputs": [
    {
     "name": "stdout",
     "output_type": "stream",
     "text": [
      "Fetching https://cds.team/taiga/api/dataset/public-22q1-305b/24 \n",
      "Status 200 \n"
     ]
    },
    {
     "name": "stderr",
     "output_type": "stream",
     "text": [
      "No encoding supplied: defaulting to UTF-8.\n",
      "\n"
     ]
    },
    {
     "name": "stdout",
     "output_type": "stream",
     "text": [
      "loading cached data version from  /home/jupyter/.taiga/public-22q1-305b_24.toc \n"
     ]
    },
    {
     "name": "stderr",
     "output_type": "stream",
     "text": [
      "Loading from cached file /home/jupyter/.taiga/90832e86cae84f918423ad1d83fa4222_crispr-gene-effect.rds\n",
      "\n"
     ]
    }
   ],
   "source": [
    "#Load in the pre-correction chronos scores\n",
    "chronos.22q1 = load.from.taiga(data.name='public-22q1-305b', data.version=24, data.file='CRISPR_gene_effect') %>%\n",
    "data.frame(check.names = FALSE) %>%\n",
    "rownames_to_column(\"sample\")\n",
    "colnames(chronos.22q1) = word(colnames(chronos.22q1), 1)\n",
    "\n",
    "#Get a vector of samples in this dataset\n",
    "chronos.22q1.samples = chronos.22q1 %>% pull(sample)\n",
    "\n",
    "#Get vector of snp6 samples\n",
    "snp6.samples = melted.avana.ccle.variant.calls %>% pull(sample) %>% unique()\n",
    "\n",
    "#Get a vector of intersecting samples between chronos and snp6\n",
    "samples.to.keep = intersect(chronos.22q1.samples, snp6.samples)"
   ]
  },
  {
   "cell_type": "code",
   "execution_count": 34,
   "metadata": {
    "hidden": true
   },
   "outputs": [
    {
     "name": "stdout",
     "output_type": "stream",
     "text": [
      "[1] \"The total number of affected guides is: 3368\"\n",
      "[1] \"The total number of guides affected in at least 10 cell lines is: 3209\"\n",
      "[1] \"4.57627348940854% of guides are affected in at least one cell line.\"\n",
      "[1] \"4.36023207467696% of guides are affected in at least one cell line.\"\n"
     ]
    }
   ],
   "source": [
    "#Calculate the total number of affected guides\n",
    "total.affected.guides = annotated.avana.ccle.variant.calls %>%\n",
    "filter(snp_status >= 1) %>%\n",
    "filter(sample %in% all_of(samples.to.keep)) %>%\n",
    "pull(affected_sgrna) %>%\n",
    "unique() %>%\n",
    "length()\n",
    "\n",
    "print(paste(\"The total number of affected guides is:\", total.affected.guides))\n",
    "\n",
    "\n",
    "\n",
    "#Calculate the total number of guides that are affected in at least 10 cell lines\n",
    "total.affected.in.10.lines = annotated.avana.ccle.variant.calls %>%\n",
    "filter(snp_status >= 1) %>%\n",
    "filter(sample %in% all_of(samples.to.keep)) %>%\n",
    "group_by(affected_sgrna) %>%\n",
    "summarize(\"unique_count\" = n_distinct(sample)) %>%\n",
    "filter(unique_count >= 10) %>%\n",
    "pull(affected_sgrna) %>%\n",
    "unique() %>%\n",
    "length()\n",
    "\n",
    "print(paste(\"The total number of guides affected in at least 10 cell lines is:\", total.affected.in.10.lines))\n",
    "\n",
    "\n",
    "\n",
    "#Calculate the percent of guides that are affected\n",
    "percent.of.guides.affected = (total.affected.guides/total.avana.guides)*100\n",
    "\n",
    "print(paste(percent.of.guides.affected, \"% of guides are affected in at least one cell line.\", sep = \"\"))\n",
    "\n",
    "\n",
    "\n",
    "#calculate the precent of guides that are affected in at least 10 cell lines\n",
    "percent.of.guides.affected.in.10.lines = (total.affected.in.10.lines/total.avana.guides)*100\n",
    "\n",
    "print(paste(percent.of.guides.affected.in.10.lines, \"% of guides are affected in at least one cell line.\", sep = \"\"))"
   ]
  },
  {
   "cell_type": "code",
   "execution_count": 36,
   "metadata": {
    "hidden": true
   },
   "outputs": [],
   "source": [
    "#Load in the single-guide p-value matrix\n",
    "setwd(\"/home/jupyter/Ancestry/analysis/snv_position_single_guide\")\n",
    "single.guide.pval.matrix = read.table(\"snv_position_single_guide_finaldf.txt\", sep = \"\\t\", header = T) %>%\n",
    "mutate(position = factor(position, levels = 0:22))\n",
    "\n",
    "#Get a vector with all of the guides that have a significant association\n",
    "all.significant.guides = single.guide.pval.matrix %>%\n",
    "filter(fdr <= 0.05) %>%\n",
    "pull(sgrna) %>%\n",
    "unique()"
   ]
  },
  {
   "cell_type": "code",
   "execution_count": 48,
   "metadata": {
    "hidden": true
   },
   "outputs": [
    {
     "name": "stdout",
     "output_type": "stream",
     "text": [
      "[1] \"the percent of guides that are affected by a snp in 10 lines and have a significant association with guide dependency score is: 56.2168899968838\"\n",
      "[1] \"the fraction of depmap that is affected is: 2.45118686902999\"\n"
     ]
    }
   ],
   "source": [
    "#Get a vector that contains the guides that are affected in at least 10 cell lines\n",
    "guides.affected.in.10.lines = annotated.avana.ccle.variant.calls %>%\n",
    "filter(snp_status >= 1) %>%\n",
    "filter(sample %in% all_of(samples.to.keep)) %>%\n",
    "group_by(affected_sgrna) %>%\n",
    "summarize(\"unique_count\" = n_distinct(sample)) %>%\n",
    "filter(unique_count >= 10) %>%\n",
    "pull(affected_sgrna) %>%\n",
    "unique()\n",
    "\n",
    "\n",
    "#Of the guides with a SNP, calculate how many are also significant\n",
    "number.affected.and.significant = setdiff(guides.affected.in.10.lines, all.significant.guides) %>% length()\n",
    "\n",
    "percent.affected.and.significant = (number.affected.and.significant/total.affected.in.10.lines)*100\n",
    "\n",
    "print(paste(\"the percent of guides that are affected by a snp in 10 lines and have a significant association with guide dependency score is:\", percent.affected.and.significant))\n",
    "\n",
    "\n",
    "\n",
    "#Of the above guides, what fraction of DepMap do they make up?\n",
    "fraction.of.depmap = (number.affected.and.significant/total.avana.guides)*100\n",
    "\n",
    "print(paste(\"the fraction of depmap that is affected is:\", fraction.of.depmap))"
   ]
  },
  {
   "cell_type": "code",
   "execution_count": 75,
   "metadata": {
    "hidden": true
   },
   "outputs": [
    {
     "data": {
      "image/png": "[encoded data removed]",
      "text/plain": [
       "plot without title"
      ]
     },
     "metadata": {
      "image/png": {
       "height": 420,
       "width": 420
      }
     },
     "output_type": "display_data"
    }
   ],
   "source": [
    "#Create a new distribution plot\n",
    "df.for.distribution.plot = annotated.avana.ccle.variant.calls %>%\n",
    "filter(snp_status >= 1) %>%\n",
    "filter(sample %in% all_of(samples.to.keep)) %>%\n",
    "group_by(affected_sgrna) %>%\n",
    "summarize(\"unique_count\" = n_distinct(sample)) %>%\n",
    "mutate(\"fraction_affected\" = unique_count/length(samples.to.keep))\n",
    "\n",
    "\n",
    "#Plot the plot\n",
    "df.for.distribution.plot %>%\n",
    "filter(unique_count >= 10) %>%\n",
    "ggplot(aes(x = fraction_affected, fill = \"firebrick4\")) +\n",
    "geom_histogram(bins = 100) +\n",
    "\n",
    "geom_vline(xintercept = 10/length(samples.to.keep), linetype = 2) +\n",
    "\n",
    "theme_bw() +\n",
    "\n",
    "scale_fill_manual(values = \"firebrick4\") +\n",
    "\n",
    "\n",
    "theme(\n",
    "panel.grid.major = element_blank(),\n",
    "panel.grid.minor = element_blank(), \n",
    "axis.line = element_line(color = \"black\")\n",
    ") +\n",
    "\n",
    "theme(\n",
    "axis.title.x = element_text(size = 7),\n",
    "axis.title.y = element_text(size = 7)\n",
    ") +\n",
    "\n",
    "\n",
    "theme(\n",
    "axis.text=element_text(size = 7),\n",
    "axis.title=element_text(size = 7)\n",
    ") +\n",
    "\n",
    "theme(\n",
    "legend.title = element_text(size = 7),\n",
    "legend.text = element_text(size = 7)\n",
    ") +\n",
    "\n",
    "ylab(\"Number of cell lines\") +\n",
    "xlab(\"Fraction of DepMap guides affected\")\n",
    "\n",
    "#Export it to the google bucket\n",
    "setwd('/home/jupyter/Ancestry/analysis/nature_genetics_reviews/reviewer_2')\n",
    "ggsave(\"r2mc16_histogram.pdf\", width = 4, height = 2)\n",
    "system(glue::glue(\"\n",
    "cd /home/jupyter/Ancestry/analysis/nature_genetics_reviews/reviewer_2\n",
    "gsutil cp r2mc16_histogram.pdf gs://fc-45c0e148-0b1c-4244-9bfc-feb559bbc514\n",
    "\"))\n"
   ]
  },
  {
   "cell_type": "code",
   "execution_count": null,
   "metadata": {
    "hidden": true
   },
   "outputs": [],
   "source": []
  },
  {
   "cell_type": "code",
   "execution_count": null,
   "metadata": {
    "hidden": true
   },
   "outputs": [],
   "source": []
  },
  {
   "cell_type": "code",
   "execution_count": null,
   "metadata": {
    "hidden": true
   },
   "outputs": [],
   "source": []
  },
  {
   "cell_type": "code",
   "execution_count": null,
   "metadata": {
    "hidden": true
   },
   "outputs": [],
   "source": []
  }
 ],
 "metadata": {
  "kernelspec": {
   "display_name": "R",
   "language": "R",
   "name": "ir"
  },
  "language_info": {
   "codemirror_mode": "r",
   "file_extension": ".r",
   "mimetype": "text/x-r-source",
   "name": "R",
   "pygments_lexer": "r",
   "version": "4.2.1"
  },
  "toc": {
   "base_numbering": 1,
   "nav_menu": {},
   "number_sections": true,
   "sideBar": true,
   "skip_h1_title": false,
   "title_cell": "Table of Contents",
   "title_sidebar": "Contents",
   "toc_cell": false,
   "toc_position": {},
   "toc_section_display": true,
   "toc_window_display": false
  }
 },
 "nbformat": 4,
 "nbformat_minor": 2
}
