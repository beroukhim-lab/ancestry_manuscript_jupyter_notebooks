{
 "cells": [
  {
   "cell_type": "markdown",
   "metadata": {},
   "source": [
    "The goal of this notebook is to test whether d-QTLs are e-QTLs"
   ]
  },
  {
   "cell_type": "code",
   "execution_count": 1,
   "metadata": {
    "scrolled": true
   },
   "outputs": [
    {
     "name": "stderr",
     "output_type": "stream",
     "text": [
      "Warning message in system(\"timedatectl\", intern = TRUE):\n",
      "“running command 'timedatectl' had status 1”\n",
      "── \u001b[1mAttaching packages\u001b[22m ─────────────────────────────────────── tidyverse 1.3.2 ──\n",
      "\u001b[32m✔\u001b[39m \u001b[34mggplot2\u001b[39m 3.3.6     \u001b[32m✔\u001b[39m \u001b[34mpurrr  \u001b[39m 0.3.4\n",
      "\u001b[32m✔\u001b[39m \u001b[34mtibble \u001b[39m 3.1.8     \u001b[32m✔\u001b[39m \u001b[34mdplyr  \u001b[39m 1.0.9\n",
      "\u001b[32m✔\u001b[39m \u001b[34mtidyr  \u001b[39m 1.2.0     \u001b[32m✔\u001b[39m \u001b[34mstringr\u001b[39m 1.4.0\n",
      "\u001b[32m✔\u001b[39m \u001b[34mreadr  \u001b[39m 2.1.2     \u001b[32m✔\u001b[39m \u001b[34mforcats\u001b[39m 0.5.1\n",
      "── \u001b[1mConflicts\u001b[22m ────────────────────────────────────────── tidyverse_conflicts() ──\n",
      "\u001b[31m✖\u001b[39m \u001b[34mdplyr\u001b[39m::\u001b[32mfilter()\u001b[39m masks \u001b[34mstats\u001b[39m::filter()\n",
      "\u001b[31m✖\u001b[39m \u001b[34mdplyr\u001b[39m::\u001b[32mlag()\u001b[39m    masks \u001b[34mstats\u001b[39m::lag()\n"
     ]
    }
   ],
   "source": [
    "#Set up the environment\n",
    "library(reshape2)\n",
    "library(tidyverse)"
   ]
  },
  {
   "cell_type": "markdown",
   "metadata": {},
   "source": [
    "# Load in all of the data"
   ]
  },
  {
   "cell_type": "code",
   "execution_count": 2,
   "metadata": {},
   "outputs": [
    {
     "data": {
      "text/html": [
       "<table class=\"dataframe\">\n",
       "<caption>A data.frame: 6 × 3</caption>\n",
       "<thead>\n",
       "\t<tr><th></th><th scope=col>gene</th><th scope=col>snp</th><th scope=col>fdr</th></tr>\n",
       "\t<tr><th></th><th scope=col>&lt;chr&gt;</th><th scope=col>&lt;chr&gt;</th><th scope=col>&lt;dbl&gt;</th></tr>\n",
       "</thead>\n",
       "<tbody>\n",
       "\t<tr><th scope=row>1</th><td>TUT1  </td><td>chr11:62578659:C:T</td><td>7.962065e-39</td></tr>\n",
       "\t<tr><th scope=row>2</th><td>ECD   </td><td>chr10:73094386:A:G</td><td>7.230154e-36</td></tr>\n",
       "\t<tr><th scope=row>3</th><td>MRTO4 </td><td>chr1:19252818:GT:G</td><td>1.689572e-34</td></tr>\n",
       "\t<tr><th scope=row>4</th><td>RPS5  </td><td>chr19:58365001:A:G</td><td>4.034371e-31</td></tr>\n",
       "\t<tr><th scope=row>5</th><td>RESP18</td><td>chr2:219320135:G:A</td><td>3.977248e-28</td></tr>\n",
       "\t<tr><th scope=row>6</th><td>SRP14 </td><td>chr15:40035497:C:G</td><td>1.121033e-27</td></tr>\n",
       "</tbody>\n",
       "</table>\n"
      ],
      "text/latex": [
       "A data.frame: 6 × 3\n",
       "\\begin{tabular}{r|lll}\n",
       "  & gene & snp & fdr\\\\\n",
       "  & <chr> & <chr> & <dbl>\\\\\n",
       "\\hline\n",
       "\t1 & TUT1   & chr11:62578659:C:T & 7.962065e-39\\\\\n",
       "\t2 & ECD    & chr10:73094386:A:G & 7.230154e-36\\\\\n",
       "\t3 & MRTO4  & chr1:19252818:GT:G & 1.689572e-34\\\\\n",
       "\t4 & RPS5   & chr19:58365001:A:G & 4.034371e-31\\\\\n",
       "\t5 & RESP18 & chr2:219320135:G:A & 3.977248e-28\\\\\n",
       "\t6 & SRP14  & chr15:40035497:C:G & 1.121033e-27\\\\\n",
       "\\end{tabular}\n"
      ],
      "text/markdown": [
       "\n",
       "A data.frame: 6 × 3\n",
       "\n",
       "| <!--/--> | gene &lt;chr&gt; | snp &lt;chr&gt; | fdr &lt;dbl&gt; |\n",
       "|---|---|---|---|\n",
       "| 1 | TUT1   | chr11:62578659:C:T | 7.962065e-39 |\n",
       "| 2 | ECD    | chr10:73094386:A:G | 7.230154e-36 |\n",
       "| 3 | MRTO4  | chr1:19252818:GT:G | 1.689572e-34 |\n",
       "| 4 | RPS5   | chr19:58365001:A:G | 4.034371e-31 |\n",
       "| 5 | RESP18 | chr2:219320135:G:A | 3.977248e-28 |\n",
       "| 6 | SRP14  | chr15:40035497:C:G | 1.121033e-27 |\n",
       "\n"
      ],
      "text/plain": [
       "  gene   snp                fdr         \n",
       "1 TUT1   chr11:62578659:C:T 7.962065e-39\n",
       "2 ECD    chr10:73094386:A:G 7.230154e-36\n",
       "3 MRTO4  chr1:19252818:GT:G 1.689572e-34\n",
       "4 RPS5   chr19:58365001:A:G 4.034371e-31\n",
       "5 RESP18 chr2:219320135:G:A 3.977248e-28\n",
       "6 SRP14  chr15:40035497:C:G 1.121033e-27"
      ]
     },
     "metadata": {},
     "output_type": "display_data"
    }
   ],
   "source": [
    "#First, load in the topsnp matrix\n",
    "setwd(\"/home/jupyter/Ancestry/analysis/locus_specific_gwas_analysis\")\n",
    "top.snp = read.table(\"top.snp.fdr.txt\", sep = \"\\t\", header = T)\n",
    "head(top.snp)"
   ]
  },
  {
   "cell_type": "code",
   "execution_count": 3,
   "metadata": {},
   "outputs": [
    {
     "name": "stderr",
     "output_type": "stream",
     "text": [
      "Warning message:\n",
      "“`funs()` was deprecated in dplyr 0.8.0.\n",
      "Please use a list of either functions or lambdas: \n",
      "\n",
      "  # Simple named list: \n",
      "  list(mean = mean, median = median)\n",
      "\n",
      "  # Auto named with `tibble::lst()`: \n",
      "  tibble::lst(mean, median)\n",
      "\n",
      "  # Using lambdas\n",
      "  list(~ mean(., trim = .2), ~ median(., na.rm = TRUE))\n",
      "\u001b[90mThis warning is displayed once every 8 hours.\u001b[39m\n",
      "\u001b[90mCall `lifecycle::last_lifecycle_warnings()` to see where this warning was generated.\u001b[39m”\n"
     ]
    },
    {
     "data": {
      "text/html": [
       "<table class=\"dataframe\">\n",
       "<caption>A data.frame: 6 × 995</caption>\n",
       "<thead>\n",
       "\t<tr><th></th><th scope=col>snp</th><th scope=col>ACH-000657</th><th scope=col>ACH-000617</th><th scope=col>ACH-000685</th><th scope=col>ACH-000632</th><th scope=col>ACH-000171</th><th scope=col>ACH-000863</th><th scope=col>ACH-000971</th><th scope=col>ACH-000178</th><th scope=col>ACH-000822</th><th scope=col>⋯</th><th scope=col>ACH-000981</th><th scope=col>ACH-000217</th><th scope=col>ACH-000116</th><th scope=col>ACH-000930</th><th scope=col>ACH-000986</th><th scope=col>ACH-000342</th><th scope=col>ACH-001130</th><th scope=col>ACH-000287</th><th scope=col>ACH-000798</th><th scope=col>ACH-000645</th></tr>\n",
       "\t<tr><th></th><th scope=col>&lt;chr&gt;</th><th scope=col>&lt;chr&gt;</th><th scope=col>&lt;chr&gt;</th><th scope=col>&lt;chr&gt;</th><th scope=col>&lt;chr&gt;</th><th scope=col>&lt;chr&gt;</th><th scope=col>&lt;chr&gt;</th><th scope=col>&lt;chr&gt;</th><th scope=col>&lt;chr&gt;</th><th scope=col>&lt;chr&gt;</th><th scope=col>⋯</th><th scope=col>&lt;chr&gt;</th><th scope=col>&lt;chr&gt;</th><th scope=col>&lt;chr&gt;</th><th scope=col>&lt;chr&gt;</th><th scope=col>&lt;chr&gt;</th><th scope=col>&lt;chr&gt;</th><th scope=col>&lt;chr&gt;</th><th scope=col>&lt;chr&gt;</th><th scope=col>&lt;chr&gt;</th><th scope=col>&lt;chr&gt;</th></tr>\n",
       "</thead>\n",
       "<tbody>\n",
       "\t<tr><th scope=row>1</th><td>chr1:914838:T:A  </td><td>0</td><td>1</td><td>0</td><td>0</td><td>2</td><td>2</td><td>2</td><td>0</td><td>2</td><td>⋯</td><td>2</td><td>1</td><td>1</td><td>0</td><td>1</td><td>1</td><td>1</td><td>1</td><td>2</td><td>1</td></tr>\n",
       "\t<tr><th scope=row>2</th><td>chr1:2166675:GC:G</td><td>0</td><td>0</td><td>0</td><td>0</td><td>0</td><td>0</td><td>0</td><td>0</td><td>0</td><td>⋯</td><td>1</td><td>0</td><td>0</td><td>0</td><td>0</td><td>0</td><td>0</td><td>0</td><td>0</td><td>1</td></tr>\n",
       "\t<tr><th scope=row>3</th><td>chr1:2763943:AG:A</td><td>0</td><td>0</td><td>0</td><td>0</td><td>0</td><td>0</td><td>0</td><td>0</td><td>0</td><td>⋯</td><td>0</td><td>0</td><td>0</td><td>0</td><td>0</td><td>0</td><td>0</td><td>0</td><td>0</td><td>0</td></tr>\n",
       "\t<tr><th scope=row>4</th><td>chr1:3790892:G:GC</td><td>2</td><td>2</td><td>2</td><td>2</td><td>0</td><td>2</td><td>0</td><td>2</td><td>1</td><td>⋯</td><td>2</td><td>0</td><td>0</td><td>2</td><td>2</td><td>2</td><td>1</td><td>2</td><td>2</td><td>1</td></tr>\n",
       "\t<tr><th scope=row>5</th><td>chr1:7630154:T:C </td><td>0</td><td>0</td><td>0</td><td>0</td><td>0</td><td>0</td><td>0</td><td>0</td><td>0</td><td>⋯</td><td>0</td><td>0</td><td>0</td><td>0</td><td>0</td><td>0</td><td>0</td><td>0</td><td>0</td><td>0</td></tr>\n",
       "\t<tr><th scope=row>6</th><td>chr1:14141375:C:G</td><td>0</td><td>0</td><td>0</td><td>0</td><td>0</td><td>0</td><td>0</td><td>0</td><td>0</td><td>⋯</td><td>0</td><td>0</td><td>0</td><td>0</td><td>0</td><td>0</td><td>0</td><td>0</td><td>0</td><td>0</td></tr>\n",
       "</tbody>\n",
       "</table>\n"
      ],
      "text/latex": [
       "A data.frame: 6 × 995\n",
       "\\begin{tabular}{r|lllllllllllllllllllll}\n",
       "  & snp & ACH-000657 & ACH-000617 & ACH-000685 & ACH-000632 & ACH-000171 & ACH-000863 & ACH-000971 & ACH-000178 & ACH-000822 & ⋯ & ACH-000981 & ACH-000217 & ACH-000116 & ACH-000930 & ACH-000986 & ACH-000342 & ACH-001130 & ACH-000287 & ACH-000798 & ACH-000645\\\\\n",
       "  & <chr> & <chr> & <chr> & <chr> & <chr> & <chr> & <chr> & <chr> & <chr> & <chr> & ⋯ & <chr> & <chr> & <chr> & <chr> & <chr> & <chr> & <chr> & <chr> & <chr> & <chr>\\\\\n",
       "\\hline\n",
       "\t1 & chr1:914838:T:A   & 0 & 1 & 0 & 0 & 2 & 2 & 2 & 0 & 2 & ⋯ & 2 & 1 & 1 & 0 & 1 & 1 & 1 & 1 & 2 & 1\\\\\n",
       "\t2 & chr1:2166675:GC:G & 0 & 0 & 0 & 0 & 0 & 0 & 0 & 0 & 0 & ⋯ & 1 & 0 & 0 & 0 & 0 & 0 & 0 & 0 & 0 & 1\\\\\n",
       "\t3 & chr1:2763943:AG:A & 0 & 0 & 0 & 0 & 0 & 0 & 0 & 0 & 0 & ⋯ & 0 & 0 & 0 & 0 & 0 & 0 & 0 & 0 & 0 & 0\\\\\n",
       "\t4 & chr1:3790892:G:GC & 2 & 2 & 2 & 2 & 0 & 2 & 0 & 2 & 1 & ⋯ & 2 & 0 & 0 & 2 & 2 & 2 & 1 & 2 & 2 & 1\\\\\n",
       "\t5 & chr1:7630154:T:C  & 0 & 0 & 0 & 0 & 0 & 0 & 0 & 0 & 0 & ⋯ & 0 & 0 & 0 & 0 & 0 & 0 & 0 & 0 & 0 & 0\\\\\n",
       "\t6 & chr1:14141375:C:G & 0 & 0 & 0 & 0 & 0 & 0 & 0 & 0 & 0 & ⋯ & 0 & 0 & 0 & 0 & 0 & 0 & 0 & 0 & 0 & 0\\\\\n",
       "\\end{tabular}\n"
      ],
      "text/markdown": [
       "\n",
       "A data.frame: 6 × 995\n",
       "\n",
       "| <!--/--> | snp &lt;chr&gt; | ACH-000657 &lt;chr&gt; | ACH-000617 &lt;chr&gt; | ACH-000685 &lt;chr&gt; | ACH-000632 &lt;chr&gt; | ACH-000171 &lt;chr&gt; | ACH-000863 &lt;chr&gt; | ACH-000971 &lt;chr&gt; | ACH-000178 &lt;chr&gt; | ACH-000822 &lt;chr&gt; | ⋯ ⋯ | ACH-000981 &lt;chr&gt; | ACH-000217 &lt;chr&gt; | ACH-000116 &lt;chr&gt; | ACH-000930 &lt;chr&gt; | ACH-000986 &lt;chr&gt; | ACH-000342 &lt;chr&gt; | ACH-001130 &lt;chr&gt; | ACH-000287 &lt;chr&gt; | ACH-000798 &lt;chr&gt; | ACH-000645 &lt;chr&gt; |\n",
       "|---|---|---|---|---|---|---|---|---|---|---|---|---|---|---|---|---|---|---|---|---|---|\n",
       "| 1 | chr1:914838:T:A   | 0 | 1 | 0 | 0 | 2 | 2 | 2 | 0 | 2 | ⋯ | 2 | 1 | 1 | 0 | 1 | 1 | 1 | 1 | 2 | 1 |\n",
       "| 2 | chr1:2166675:GC:G | 0 | 0 | 0 | 0 | 0 | 0 | 0 | 0 | 0 | ⋯ | 1 | 0 | 0 | 0 | 0 | 0 | 0 | 0 | 0 | 1 |\n",
       "| 3 | chr1:2763943:AG:A | 0 | 0 | 0 | 0 | 0 | 0 | 0 | 0 | 0 | ⋯ | 0 | 0 | 0 | 0 | 0 | 0 | 0 | 0 | 0 | 0 |\n",
       "| 4 | chr1:3790892:G:GC | 2 | 2 | 2 | 2 | 0 | 2 | 0 | 2 | 1 | ⋯ | 2 | 0 | 0 | 2 | 2 | 2 | 1 | 2 | 2 | 1 |\n",
       "| 5 | chr1:7630154:T:C  | 0 | 0 | 0 | 0 | 0 | 0 | 0 | 0 | 0 | ⋯ | 0 | 0 | 0 | 0 | 0 | 0 | 0 | 0 | 0 | 0 |\n",
       "| 6 | chr1:14141375:C:G | 0 | 0 | 0 | 0 | 0 | 0 | 0 | 0 | 0 | ⋯ | 0 | 0 | 0 | 0 | 0 | 0 | 0 | 0 | 0 | 0 |\n",
       "\n"
      ],
      "text/plain": [
       "  snp               ACH-000657 ACH-000617 ACH-000685 ACH-000632 ACH-000171\n",
       "1 chr1:914838:T:A   0          1          0          0          2         \n",
       "2 chr1:2166675:GC:G 0          0          0          0          0         \n",
       "3 chr1:2763943:AG:A 0          0          0          0          0         \n",
       "4 chr1:3790892:G:GC 2          2          2          2          0         \n",
       "5 chr1:7630154:T:C  0          0          0          0          0         \n",
       "6 chr1:14141375:C:G 0          0          0          0          0         \n",
       "  ACH-000863 ACH-000971 ACH-000178 ACH-000822 ⋯ ACH-000981 ACH-000217\n",
       "1 2          2          0          2          ⋯ 2          1         \n",
       "2 0          0          0          0          ⋯ 1          0         \n",
       "3 0          0          0          0          ⋯ 0          0         \n",
       "4 2          0          2          1          ⋯ 2          0         \n",
       "5 0          0          0          0          ⋯ 0          0         \n",
       "6 0          0          0          0          ⋯ 0          0         \n",
       "  ACH-000116 ACH-000930 ACH-000986 ACH-000342 ACH-001130 ACH-000287 ACH-000798\n",
       "1 1          0          1          1          1          1          2         \n",
       "2 0          0          0          0          0          0          0         \n",
       "3 0          0          0          0          0          0          0         \n",
       "4 0          2          2          2          1          2          2         \n",
       "5 0          0          0          0          0          0          0         \n",
       "6 0          0          0          0          0          0          0         \n",
       "  ACH-000645\n",
       "1 1         \n",
       "2 1         \n",
       "3 0         \n",
       "4 1         \n",
       "5 0         \n",
       "6 0         "
      ]
     },
     "metadata": {},
     "output_type": "display_data"
    }
   ],
   "source": [
    "#Load in the SNP genotype matrix and format it\n",
    "#First, load in the sample names\n",
    "setwd(\"/home/jupyter/Ancestry/analysis/new_locus_topsnp_ancestry_association\")\n",
    "sample.names = read.table(\"sample.names\", sep = \"\\t\") %>%\n",
    "pull(1) %>%\n",
    "c(\"snp\", .)\n",
    "\n",
    "#load in the filtered SNPS\n",
    "setwd(\"/home/jupyter/Ancestry/analysis/new_locus_topsnp_ancestry_association\")\n",
    "filtered.snps = read.table(\"extracted.snps\", sep = \"\\t\") \n",
    "\n",
    "#Now assemble the big matrix\n",
    "assembled.matrix = filtered.snps %>%\n",
    "select(-1, -2, -3, -4, -5, -6, -7, -8, -9) %>%\n",
    "apply(2, function(x){gsub(\":..*\", \"\", x)}) %>%\n",
    "apply(2, function(x){gsub(\"0\\\\|0\", \"0\", x)}) %>%\n",
    "apply(2, function(x){gsub(\"0\\\\|1\", \"1\", x)}) %>%\n",
    "apply(2, function(x){gsub(\"1\\\\|0\", \"1\", x)}) %>%\n",
    "apply(2, function(x){gsub(\"1\\\\|1\", \"2\", x)}) %>%\n",
    "data.frame() %>%\n",
    "mutate(\"snp\" = filtered.snps$V3, .before = 1) %>%\n",
    "rename_all(funs( c(sample.names) ))\n",
    "\n",
    "#Inspect the output\n",
    "head(assembled.matrix)"
   ]
  },
  {
   "cell_type": "code",
   "execution_count": 4,
   "metadata": {},
   "outputs": [
    {
     "data": {
      "text/html": [
       "<table class=\"dataframe\">\n",
       "<caption>A data.frame: 6 × 19178</caption>\n",
       "<thead>\n",
       "\t<tr><th></th><th scope=col></th><th scope=col>TSPAN6</th><th scope=col>TNMD</th><th scope=col>DPM1</th><th scope=col>SCYL3</th><th scope=col>C1orf112</th><th scope=col>FGR</th><th scope=col>CFH</th><th scope=col>FUCA2</th><th scope=col>GCLC</th><th scope=col>⋯</th><th scope=col>ARHGAP11B</th><th scope=col>AC004593.2</th><th scope=col>AC090517.4</th><th scope=col>AL160269.1</th><th scope=col>ABCF2-H2BE1</th><th scope=col>POLR2J3</th><th scope=col>H2BE1</th><th scope=col>AL445238.1</th><th scope=col>GET1-SH3BGR</th><th scope=col>AC113348.1</th></tr>\n",
       "\t<tr><th></th><th scope=col>&lt;chr&gt;</th><th scope=col>&lt;dbl&gt;</th><th scope=col>&lt;dbl&gt;</th><th scope=col>&lt;dbl&gt;</th><th scope=col>&lt;dbl&gt;</th><th scope=col>&lt;dbl&gt;</th><th scope=col>&lt;dbl&gt;</th><th scope=col>&lt;dbl&gt;</th><th scope=col>&lt;dbl&gt;</th><th scope=col>&lt;dbl&gt;</th><th scope=col>⋯</th><th scope=col>&lt;dbl&gt;</th><th scope=col>&lt;dbl&gt;</th><th scope=col>&lt;dbl&gt;</th><th scope=col>&lt;dbl&gt;</th><th scope=col>&lt;dbl&gt;</th><th scope=col>&lt;dbl&gt;</th><th scope=col>&lt;dbl&gt;</th><th scope=col>&lt;dbl&gt;</th><th scope=col>&lt;dbl&gt;</th><th scope=col>&lt;dbl&gt;</th></tr>\n",
       "</thead>\n",
       "<tbody>\n",
       "\t<tr><th scope=row>1</th><td>ACH-001113</td><td>4.990501</td><td>0.0000000</td><td>7.273702</td><td>2.765535</td><td>4.480265</td><td>0.02856915</td><td>1.26903315</td><td>3.058316</td><td>6.483171</td><td>⋯</td><td>1.2141248</td><td>0.00000000</td><td>0.11103131</td><td>0.15055968</td><td>1.4276062</td><td>5.781884</td><td>0</td><td>0.00000000</td><td>0.7990873</td><td>0.00000000</td></tr>\n",
       "\t<tr><th scope=row>2</th><td>ACH-001289</td><td>5.209843</td><td>0.5459684</td><td>7.070604</td><td>2.538538</td><td>3.510962</td><td>0.00000000</td><td>0.17632277</td><td>3.836934</td><td>4.200850</td><td>⋯</td><td>1.8359241</td><td>0.00000000</td><td>0.31034012</td><td>0.00000000</td><td>0.8073549</td><td>4.704319</td><td>0</td><td>0.00000000</td><td>0.4646683</td><td>0.07038933</td></tr>\n",
       "\t<tr><th scope=row>3</th><td>ACH-001339</td><td>3.779260</td><td>0.0000000</td><td>7.346425</td><td>2.339137</td><td>4.254745</td><td>0.05658353</td><td>1.33913738</td><td>6.724241</td><td>3.671293</td><td>⋯</td><td>1.8237494</td><td>0.08406426</td><td>0.17632277</td><td>0.04264434</td><td>1.3840498</td><td>4.931683</td><td>0</td><td>0.02856915</td><td>0.2630344</td><td>0.00000000</td></tr>\n",
       "\t<tr><th scope=row>4</th><td>ACH-001538</td><td>5.726831</td><td>0.0000000</td><td>7.086189</td><td>2.543496</td><td>3.102658</td><td>0.00000000</td><td>5.91456452</td><td>6.099716</td><td>4.475733</td><td>⋯</td><td>0.8718436</td><td>0.13750352</td><td>0.26303441</td><td>2.48542683</td><td>0.7136958</td><td>3.858976</td><td>0</td><td>0.00000000</td><td>0.0000000</td><td>0.00000000</td></tr>\n",
       "\t<tr><th scope=row>5</th><td>ACH-000242</td><td>7.465648</td><td>0.0000000</td><td>6.435462</td><td>2.414136</td><td>3.864929</td><td>0.83187724</td><td>7.19800296</td><td>5.452530</td><td>7.112492</td><td>⋯</td><td>2.3248106</td><td>0.16349873</td><td>0.16349873</td><td>0.00000000</td><td>1.1176950</td><td>4.990501</td><td>0</td><td>0.00000000</td><td>0.0000000</td><td>0.00000000</td></tr>\n",
       "\t<tr><th scope=row>6</th><td>ACH-000708</td><td>4.914086</td><td>0.1763228</td><td>6.946848</td><td>2.577731</td><td>3.853996</td><td>0.00000000</td><td>0.08406426</td><td>4.855491</td><td>4.934045</td><td>⋯</td><td>2.3103401</td><td>0.12432814</td><td>0.05658353</td><td>0.08406426</td><td>2.4982509</td><td>5.303781</td><td>0</td><td>0.00000000</td><td>0.2630344</td><td>0.00000000</td></tr>\n",
       "</tbody>\n",
       "</table>\n"
      ],
      "text/latex": [
       "A data.frame: 6 × 19178\n",
       "\\begin{tabular}{r|lllllllllllllllllllll}\n",
       "  &  & TSPAN6 & TNMD & DPM1 & SCYL3 & C1orf112 & FGR & CFH & FUCA2 & GCLC & ⋯ & ARHGAP11B & AC004593.2 & AC090517.4 & AL160269.1 & ABCF2-H2BE1 & POLR2J3 & H2BE1 & AL445238.1 & GET1-SH3BGR & AC113348.1\\\\\n",
       "  & <chr> & <dbl> & <dbl> & <dbl> & <dbl> & <dbl> & <dbl> & <dbl> & <dbl> & <dbl> & ⋯ & <dbl> & <dbl> & <dbl> & <dbl> & <dbl> & <dbl> & <dbl> & <dbl> & <dbl> & <dbl>\\\\\n",
       "\\hline\n",
       "\t1 & ACH-001113 & 4.990501 & 0.0000000 & 7.273702 & 2.765535 & 4.480265 & 0.02856915 & 1.26903315 & 3.058316 & 6.483171 & ⋯ & 1.2141248 & 0.00000000 & 0.11103131 & 0.15055968 & 1.4276062 & 5.781884 & 0 & 0.00000000 & 0.7990873 & 0.00000000\\\\\n",
       "\t2 & ACH-001289 & 5.209843 & 0.5459684 & 7.070604 & 2.538538 & 3.510962 & 0.00000000 & 0.17632277 & 3.836934 & 4.200850 & ⋯ & 1.8359241 & 0.00000000 & 0.31034012 & 0.00000000 & 0.8073549 & 4.704319 & 0 & 0.00000000 & 0.4646683 & 0.07038933\\\\\n",
       "\t3 & ACH-001339 & 3.779260 & 0.0000000 & 7.346425 & 2.339137 & 4.254745 & 0.05658353 & 1.33913738 & 6.724241 & 3.671293 & ⋯ & 1.8237494 & 0.08406426 & 0.17632277 & 0.04264434 & 1.3840498 & 4.931683 & 0 & 0.02856915 & 0.2630344 & 0.00000000\\\\\n",
       "\t4 & ACH-001538 & 5.726831 & 0.0000000 & 7.086189 & 2.543496 & 3.102658 & 0.00000000 & 5.91456452 & 6.099716 & 4.475733 & ⋯ & 0.8718436 & 0.13750352 & 0.26303441 & 2.48542683 & 0.7136958 & 3.858976 & 0 & 0.00000000 & 0.0000000 & 0.00000000\\\\\n",
       "\t5 & ACH-000242 & 7.465648 & 0.0000000 & 6.435462 & 2.414136 & 3.864929 & 0.83187724 & 7.19800296 & 5.452530 & 7.112492 & ⋯ & 2.3248106 & 0.16349873 & 0.16349873 & 0.00000000 & 1.1176950 & 4.990501 & 0 & 0.00000000 & 0.0000000 & 0.00000000\\\\\n",
       "\t6 & ACH-000708 & 4.914086 & 0.1763228 & 6.946848 & 2.577731 & 3.853996 & 0.00000000 & 0.08406426 & 4.855491 & 4.934045 & ⋯ & 2.3103401 & 0.12432814 & 0.05658353 & 0.08406426 & 2.4982509 & 5.303781 & 0 & 0.00000000 & 0.2630344 & 0.00000000\\\\\n",
       "\\end{tabular}\n"
      ],
      "text/markdown": [
       "\n",
       "A data.frame: 6 × 19178\n",
       "\n",
       "| <!--/--> | <!----> &lt;chr&gt; | TSPAN6 &lt;dbl&gt; | TNMD &lt;dbl&gt; | DPM1 &lt;dbl&gt; | SCYL3 &lt;dbl&gt; | C1orf112 &lt;dbl&gt; | FGR &lt;dbl&gt; | CFH &lt;dbl&gt; | FUCA2 &lt;dbl&gt; | GCLC &lt;dbl&gt; | ⋯ ⋯ | ARHGAP11B &lt;dbl&gt; | AC004593.2 &lt;dbl&gt; | AC090517.4 &lt;dbl&gt; | AL160269.1 &lt;dbl&gt; | ABCF2-H2BE1 &lt;dbl&gt; | POLR2J3 &lt;dbl&gt; | H2BE1 &lt;dbl&gt; | AL445238.1 &lt;dbl&gt; | GET1-SH3BGR &lt;dbl&gt; | AC113348.1 &lt;dbl&gt; |\n",
       "|---|---|---|---|---|---|---|---|---|---|---|---|---|---|---|---|---|---|---|---|---|---|\n",
       "| 1 | ACH-001113 | 4.990501 | 0.0000000 | 7.273702 | 2.765535 | 4.480265 | 0.02856915 | 1.26903315 | 3.058316 | 6.483171 | ⋯ | 1.2141248 | 0.00000000 | 0.11103131 | 0.15055968 | 1.4276062 | 5.781884 | 0 | 0.00000000 | 0.7990873 | 0.00000000 |\n",
       "| 2 | ACH-001289 | 5.209843 | 0.5459684 | 7.070604 | 2.538538 | 3.510962 | 0.00000000 | 0.17632277 | 3.836934 | 4.200850 | ⋯ | 1.8359241 | 0.00000000 | 0.31034012 | 0.00000000 | 0.8073549 | 4.704319 | 0 | 0.00000000 | 0.4646683 | 0.07038933 |\n",
       "| 3 | ACH-001339 | 3.779260 | 0.0000000 | 7.346425 | 2.339137 | 4.254745 | 0.05658353 | 1.33913738 | 6.724241 | 3.671293 | ⋯ | 1.8237494 | 0.08406426 | 0.17632277 | 0.04264434 | 1.3840498 | 4.931683 | 0 | 0.02856915 | 0.2630344 | 0.00000000 |\n",
       "| 4 | ACH-001538 | 5.726831 | 0.0000000 | 7.086189 | 2.543496 | 3.102658 | 0.00000000 | 5.91456452 | 6.099716 | 4.475733 | ⋯ | 0.8718436 | 0.13750352 | 0.26303441 | 2.48542683 | 0.7136958 | 3.858976 | 0 | 0.00000000 | 0.0000000 | 0.00000000 |\n",
       "| 5 | ACH-000242 | 7.465648 | 0.0000000 | 6.435462 | 2.414136 | 3.864929 | 0.83187724 | 7.19800296 | 5.452530 | 7.112492 | ⋯ | 2.3248106 | 0.16349873 | 0.16349873 | 0.00000000 | 1.1176950 | 4.990501 | 0 | 0.00000000 | 0.0000000 | 0.00000000 |\n",
       "| 6 | ACH-000708 | 4.914086 | 0.1763228 | 6.946848 | 2.577731 | 3.853996 | 0.00000000 | 0.08406426 | 4.855491 | 4.934045 | ⋯ | 2.3103401 | 0.12432814 | 0.05658353 | 0.08406426 | 2.4982509 | 5.303781 | 0 | 0.00000000 | 0.2630344 | 0.00000000 |\n",
       "\n"
      ],
      "text/plain": [
       "             TSPAN6   TNMD      DPM1     SCYL3    C1orf112 FGR       \n",
       "1 ACH-001113 4.990501 0.0000000 7.273702 2.765535 4.480265 0.02856915\n",
       "2 ACH-001289 5.209843 0.5459684 7.070604 2.538538 3.510962 0.00000000\n",
       "3 ACH-001339 3.779260 0.0000000 7.346425 2.339137 4.254745 0.05658353\n",
       "4 ACH-001538 5.726831 0.0000000 7.086189 2.543496 3.102658 0.00000000\n",
       "5 ACH-000242 7.465648 0.0000000 6.435462 2.414136 3.864929 0.83187724\n",
       "6 ACH-000708 4.914086 0.1763228 6.946848 2.577731 3.853996 0.00000000\n",
       "  CFH        FUCA2    GCLC     ⋯ ARHGAP11B AC004593.2 AC090517.4 AL160269.1\n",
       "1 1.26903315 3.058316 6.483171 ⋯ 1.2141248 0.00000000 0.11103131 0.15055968\n",
       "2 0.17632277 3.836934 4.200850 ⋯ 1.8359241 0.00000000 0.31034012 0.00000000\n",
       "3 1.33913738 6.724241 3.671293 ⋯ 1.8237494 0.08406426 0.17632277 0.04264434\n",
       "4 5.91456452 6.099716 4.475733 ⋯ 0.8718436 0.13750352 0.26303441 2.48542683\n",
       "5 7.19800296 5.452530 7.112492 ⋯ 2.3248106 0.16349873 0.16349873 0.00000000\n",
       "6 0.08406426 4.855491 4.934045 ⋯ 2.3103401 0.12432814 0.05658353 0.08406426\n",
       "  ABCF2-H2BE1 POLR2J3  H2BE1 AL445238.1 GET1-SH3BGR AC113348.1\n",
       "1 1.4276062   5.781884 0     0.00000000 0.7990873   0.00000000\n",
       "2 0.8073549   4.704319 0     0.00000000 0.4646683   0.07038933\n",
       "3 1.3840498   4.931683 0     0.02856915 0.2630344   0.00000000\n",
       "4 0.7136958   3.858976 0     0.00000000 0.0000000   0.00000000\n",
       "5 1.1176950   4.990501 0     0.00000000 0.0000000   0.00000000\n",
       "6 2.4982509   5.303781 0     0.00000000 0.2630344   0.00000000"
      ]
     },
     "metadata": {},
     "output_type": "display_data"
    }
   ],
   "source": [
    "#Load in the depmap expression data \n",
    "setwd(\"/home/jupyter/Ancestry/analysis/are_dqtls_eqtls\")\n",
    "depmap.expression = read.table(\"CCLE_expression.csv\", sep = \",\", header = T, check.names = FALSE) %>%\n",
    "setNames(word(names(.), 1))\n",
    "\n",
    "head(depmap.expression)"
   ]
  },
  {
   "cell_type": "code",
   "execution_count": 5,
   "metadata": {},
   "outputs": [
    {
     "data": {
      "text/html": [
       "<style>\n",
       ".list-inline {list-style: none; margin:0; padding: 0}\n",
       ".list-inline>li {display: inline-block}\n",
       ".list-inline>li:not(:last-child)::after {content: \"\\00b7\"; padding: 0 .5ex}\n",
       "</style>\n",
       "<ol class=list-inline><li>'CAAP1'</li><li>'CDKN2B'</li><li>'DMRTA1'</li><li>'EEF2'</li><li>'ELAVL2'</li><li>'IFNA10'</li><li>'IFNA14'</li><li>'IFNA16'</li><li>'IFNA4'</li><li>'IFNA6'</li><li>'IFNA8'</li><li>'IFNB1'</li><li>'IFNE'</li><li>'IFNK'</li><li>'IZUMO3'</li><li>'MOB3B'</li><li>'MTAP'</li><li>'RESP18'</li><li>'TEK'</li><li>'ZNF236'</li><li>'ZNF407'</li><li>'ABHD5'</li><li>'ADCY3'</li><li>'BTG1'</li><li>'C22orf31'</li><li>'C2orf80'</li><li>'CBFA2T2'</li><li>'CCDC102B'</li><li>'CCDC74B'</li><li>'CCL3'</li><li>'CEP19'</li><li>'CHGB'</li><li>'CLPSL1'</li><li>'CLSPN'</li><li>'COX6B1'</li><li>'CSTA'</li><li>'DCN'</li><li>'DDX47'</li><li>'DND1'</li><li>'ECD'</li><li>'FAM25A'</li><li>'FCGR3A'</li><li>'FRG2C'</li><li>'GLYCTK'</li><li>'GRB2'</li><li>'HINT3'</li><li>'INCENP'</li><li>'ITGA3'</li><li>'KIAA2013'</li><li>'KLF5'</li><li>'MATR3'</li><li>'MDN1'</li><li>'MRTO4'</li><li>'MYH11'</li><li>'NIT2'</li><li>'NOP56'</li><li>'NPEPPS'</li><li>'NPHS1'</li><li>'PDXDC1'</li><li>'PEX11A'</li><li>'PTPN11'</li><li>'QRICH2'</li><li>'RAB21'</li><li>'RETNLB'</li><li>'RHD'</li><li>'RIMS2'</li><li>'RPS5'</li><li>'RTP5'</li><li>'SART1'</li><li>'SLC10A5'</li><li>'SLC52A2'</li><li>'SLC5A11'</li><li>'SNAP23'</li><li>'SPATA6L'</li><li>'SRP14'</li><li>'STX4'</li><li>'STXBP3'</li><li>'TPSD1'</li><li>'TRMT61B'</li><li>'TTC4'</li><li>'TUT1'</li><li>'TXNRD1'</li><li>'UGT2B17'</li><li>'WSB2'</li><li>'ZNF675'</li><li>'ZYG11A'</li><li>'ACAN'</li><li>'DEFB108B'</li><li>'EGR4'</li><li>'NKAIN4'</li><li>'NOMO2'</li><li>'PIGN'</li><li>'RPL3'</li><li>'RPP30'</li><li>'RRP7A'</li><li>'TP63'</li><li>'VRK1'</li><li>'YTHDF2'</li></ol>\n"
      ],
      "text/latex": [
       "\\begin{enumerate*}\n",
       "\\item 'CAAP1'\n",
       "\\item 'CDKN2B'\n",
       "\\item 'DMRTA1'\n",
       "\\item 'EEF2'\n",
       "\\item 'ELAVL2'\n",
       "\\item 'IFNA10'\n",
       "\\item 'IFNA14'\n",
       "\\item 'IFNA16'\n",
       "\\item 'IFNA4'\n",
       "\\item 'IFNA6'\n",
       "\\item 'IFNA8'\n",
       "\\item 'IFNB1'\n",
       "\\item 'IFNE'\n",
       "\\item 'IFNK'\n",
       "\\item 'IZUMO3'\n",
       "\\item 'MOB3B'\n",
       "\\item 'MTAP'\n",
       "\\item 'RESP18'\n",
       "\\item 'TEK'\n",
       "\\item 'ZNF236'\n",
       "\\item 'ZNF407'\n",
       "\\item 'ABHD5'\n",
       "\\item 'ADCY3'\n",
       "\\item 'BTG1'\n",
       "\\item 'C22orf31'\n",
       "\\item 'C2orf80'\n",
       "\\item 'CBFA2T2'\n",
       "\\item 'CCDC102B'\n",
       "\\item 'CCDC74B'\n",
       "\\item 'CCL3'\n",
       "\\item 'CEP19'\n",
       "\\item 'CHGB'\n",
       "\\item 'CLPSL1'\n",
       "\\item 'CLSPN'\n",
       "\\item 'COX6B1'\n",
       "\\item 'CSTA'\n",
       "\\item 'DCN'\n",
       "\\item 'DDX47'\n",
       "\\item 'DND1'\n",
       "\\item 'ECD'\n",
       "\\item 'FAM25A'\n",
       "\\item 'FCGR3A'\n",
       "\\item 'FRG2C'\n",
       "\\item 'GLYCTK'\n",
       "\\item 'GRB2'\n",
       "\\item 'HINT3'\n",
       "\\item 'INCENP'\n",
       "\\item 'ITGA3'\n",
       "\\item 'KIAA2013'\n",
       "\\item 'KLF5'\n",
       "\\item 'MATR3'\n",
       "\\item 'MDN1'\n",
       "\\item 'MRTO4'\n",
       "\\item 'MYH11'\n",
       "\\item 'NIT2'\n",
       "\\item 'NOP56'\n",
       "\\item 'NPEPPS'\n",
       "\\item 'NPHS1'\n",
       "\\item 'PDXDC1'\n",
       "\\item 'PEX11A'\n",
       "\\item 'PTPN11'\n",
       "\\item 'QRICH2'\n",
       "\\item 'RAB21'\n",
       "\\item 'RETNLB'\n",
       "\\item 'RHD'\n",
       "\\item 'RIMS2'\n",
       "\\item 'RPS5'\n",
       "\\item 'RTP5'\n",
       "\\item 'SART1'\n",
       "\\item 'SLC10A5'\n",
       "\\item 'SLC52A2'\n",
       "\\item 'SLC5A11'\n",
       "\\item 'SNAP23'\n",
       "\\item 'SPATA6L'\n",
       "\\item 'SRP14'\n",
       "\\item 'STX4'\n",
       "\\item 'STXBP3'\n",
       "\\item 'TPSD1'\n",
       "\\item 'TRMT61B'\n",
       "\\item 'TTC4'\n",
       "\\item 'TUT1'\n",
       "\\item 'TXNRD1'\n",
       "\\item 'UGT2B17'\n",
       "\\item 'WSB2'\n",
       "\\item 'ZNF675'\n",
       "\\item 'ZYG11A'\n",
       "\\item 'ACAN'\n",
       "\\item 'DEFB108B'\n",
       "\\item 'EGR4'\n",
       "\\item 'NKAIN4'\n",
       "\\item 'NOMO2'\n",
       "\\item 'PIGN'\n",
       "\\item 'RPL3'\n",
       "\\item 'RPP30'\n",
       "\\item 'RRP7A'\n",
       "\\item 'TP63'\n",
       "\\item 'VRK1'\n",
       "\\item 'YTHDF2'\n",
       "\\end{enumerate*}\n"
      ],
      "text/markdown": [
       "1. 'CAAP1'\n",
       "2. 'CDKN2B'\n",
       "3. 'DMRTA1'\n",
       "4. 'EEF2'\n",
       "5. 'ELAVL2'\n",
       "6. 'IFNA10'\n",
       "7. 'IFNA14'\n",
       "8. 'IFNA16'\n",
       "9. 'IFNA4'\n",
       "10. 'IFNA6'\n",
       "11. 'IFNA8'\n",
       "12. 'IFNB1'\n",
       "13. 'IFNE'\n",
       "14. 'IFNK'\n",
       "15. 'IZUMO3'\n",
       "16. 'MOB3B'\n",
       "17. 'MTAP'\n",
       "18. 'RESP18'\n",
       "19. 'TEK'\n",
       "20. 'ZNF236'\n",
       "21. 'ZNF407'\n",
       "22. 'ABHD5'\n",
       "23. 'ADCY3'\n",
       "24. 'BTG1'\n",
       "25. 'C22orf31'\n",
       "26. 'C2orf80'\n",
       "27. 'CBFA2T2'\n",
       "28. 'CCDC102B'\n",
       "29. 'CCDC74B'\n",
       "30. 'CCL3'\n",
       "31. 'CEP19'\n",
       "32. 'CHGB'\n",
       "33. 'CLPSL1'\n",
       "34. 'CLSPN'\n",
       "35. 'COX6B1'\n",
       "36. 'CSTA'\n",
       "37. 'DCN'\n",
       "38. 'DDX47'\n",
       "39. 'DND1'\n",
       "40. 'ECD'\n",
       "41. 'FAM25A'\n",
       "42. 'FCGR3A'\n",
       "43. 'FRG2C'\n",
       "44. 'GLYCTK'\n",
       "45. 'GRB2'\n",
       "46. 'HINT3'\n",
       "47. 'INCENP'\n",
       "48. 'ITGA3'\n",
       "49. 'KIAA2013'\n",
       "50. 'KLF5'\n",
       "51. 'MATR3'\n",
       "52. 'MDN1'\n",
       "53. 'MRTO4'\n",
       "54. 'MYH11'\n",
       "55. 'NIT2'\n",
       "56. 'NOP56'\n",
       "57. 'NPEPPS'\n",
       "58. 'NPHS1'\n",
       "59. 'PDXDC1'\n",
       "60. 'PEX11A'\n",
       "61. 'PTPN11'\n",
       "62. 'QRICH2'\n",
       "63. 'RAB21'\n",
       "64. 'RETNLB'\n",
       "65. 'RHD'\n",
       "66. 'RIMS2'\n",
       "67. 'RPS5'\n",
       "68. 'RTP5'\n",
       "69. 'SART1'\n",
       "70. 'SLC10A5'\n",
       "71. 'SLC52A2'\n",
       "72. 'SLC5A11'\n",
       "73. 'SNAP23'\n",
       "74. 'SPATA6L'\n",
       "75. 'SRP14'\n",
       "76. 'STX4'\n",
       "77. 'STXBP3'\n",
       "78. 'TPSD1'\n",
       "79. 'TRMT61B'\n",
       "80. 'TTC4'\n",
       "81. 'TUT1'\n",
       "82. 'TXNRD1'\n",
       "83. 'UGT2B17'\n",
       "84. 'WSB2'\n",
       "85. 'ZNF675'\n",
       "86. 'ZYG11A'\n",
       "87. 'ACAN'\n",
       "88. 'DEFB108B'\n",
       "89. 'EGR4'\n",
       "90. 'NKAIN4'\n",
       "91. 'NOMO2'\n",
       "92. 'PIGN'\n",
       "93. 'RPL3'\n",
       "94. 'RPP30'\n",
       "95. 'RRP7A'\n",
       "96. 'TP63'\n",
       "97. 'VRK1'\n",
       "98. 'YTHDF2'\n",
       "\n",
       "\n"
      ],
      "text/plain": [
       " [1] \"CAAP1\"    \"CDKN2B\"   \"DMRTA1\"   \"EEF2\"     \"ELAVL2\"   \"IFNA10\"  \n",
       " [7] \"IFNA14\"   \"IFNA16\"   \"IFNA4\"    \"IFNA6\"    \"IFNA8\"    \"IFNB1\"   \n",
       "[13] \"IFNE\"     \"IFNK\"     \"IZUMO3\"   \"MOB3B\"    \"MTAP\"     \"RESP18\"  \n",
       "[19] \"TEK\"      \"ZNF236\"   \"ZNF407\"   \"ABHD5\"    \"ADCY3\"    \"BTG1\"    \n",
       "[25] \"C22orf31\" \"C2orf80\"  \"CBFA2T2\"  \"CCDC102B\" \"CCDC74B\"  \"CCL3\"    \n",
       "[31] \"CEP19\"    \"CHGB\"     \"CLPSL1\"   \"CLSPN\"    \"COX6B1\"   \"CSTA\"    \n",
       "[37] \"DCN\"      \"DDX47\"    \"DND1\"     \"ECD\"      \"FAM25A\"   \"FCGR3A\"  \n",
       "[43] \"FRG2C\"    \"GLYCTK\"   \"GRB2\"     \"HINT3\"    \"INCENP\"   \"ITGA3\"   \n",
       "[49] \"KIAA2013\" \"KLF5\"     \"MATR3\"    \"MDN1\"     \"MRTO4\"    \"MYH11\"   \n",
       "[55] \"NIT2\"     \"NOP56\"    \"NPEPPS\"   \"NPHS1\"    \"PDXDC1\"   \"PEX11A\"  \n",
       "[61] \"PTPN11\"   \"QRICH2\"   \"RAB21\"    \"RETNLB\"   \"RHD\"      \"RIMS2\"   \n",
       "[67] \"RPS5\"     \"RTP5\"     \"SART1\"    \"SLC10A5\"  \"SLC52A2\"  \"SLC5A11\" \n",
       "[73] \"SNAP23\"   \"SPATA6L\"  \"SRP14\"    \"STX4\"     \"STXBP3\"   \"TPSD1\"   \n",
       "[79] \"TRMT61B\"  \"TTC4\"     \"TUT1\"     \"TXNRD1\"   \"UGT2B17\"  \"WSB2\"    \n",
       "[85] \"ZNF675\"   \"ZYG11A\"   \"ACAN\"     \"DEFB108B\" \"EGR4\"     \"NKAIN4\"  \n",
       "[91] \"NOMO2\"    \"PIGN\"     \"RPL3\"     \"RPP30\"    \"RRP7A\"    \"TP63\"    \n",
       "[97] \"VRK1\"     \"YTHDF2\"  "
      ]
     },
     "metadata": {},
     "output_type": "display_data"
    }
   ],
   "source": [
    "#Load in the ancestry-associated genes \n",
    "setwd(\"/home/jupyter/Ancestry/analysis/locus_specific_associations\")\n",
    "ancestry.associated.genes = read.table(\"ancestry_locus_gene_associations.txt\", sep = \"\\t\", header = T) %>%\n",
    "filter(FDR < 0.05) %>%\n",
    "pull(gene) %>%\n",
    "unique()\n",
    "\n",
    "ancestry.associated.genes"
   ]
  },
  {
   "cell_type": "code",
   "execution_count": 6,
   "metadata": {},
   "outputs": [
    {
     "data": {
      "text/html": [
       "<style>\n",
       ".list-inline {list-style: none; margin:0; padding: 0}\n",
       ".list-inline>li {display: inline-block}\n",
       ".list-inline>li:not(:last-child)::after {content: \"\\00b7\"; padding: 0 .5ex}\n",
       "</style>\n",
       "<ol class=list-inline><li>1393</li><li>99</li></ol>\n"
      ],
      "text/latex": [
       "\\begin{enumerate*}\n",
       "\\item 1393\n",
       "\\item 99\n",
       "\\end{enumerate*}\n"
      ],
      "text/markdown": [
       "1. 1393\n",
       "2. 99\n",
       "\n",
       "\n"
      ],
      "text/plain": [
       "[1] 1393   99"
      ]
     },
     "metadata": {},
     "output_type": "display_data"
    },
    {
     "data": {
      "text/html": [
       "<table class=\"dataframe\">\n",
       "<caption>A data.frame: 6 × 99</caption>\n",
       "<thead>\n",
       "\t<tr><th></th><th scope=col>sample</th><th scope=col>CAAP1</th><th scope=col>CDKN2B</th><th scope=col>DMRTA1</th><th scope=col>EEF2</th><th scope=col>ELAVL2</th><th scope=col>IFNA10</th><th scope=col>IFNA14</th><th scope=col>IFNA16</th><th scope=col>IFNA4</th><th scope=col>⋯</th><th scope=col>EGR4</th><th scope=col>NKAIN4</th><th scope=col>NOMO2</th><th scope=col>PIGN</th><th scope=col>RPL3</th><th scope=col>RPP30</th><th scope=col>RRP7A</th><th scope=col>TP63</th><th scope=col>VRK1</th><th scope=col>YTHDF2</th></tr>\n",
       "\t<tr><th></th><th scope=col>&lt;chr&gt;</th><th scope=col>&lt;dbl&gt;</th><th scope=col>&lt;dbl&gt;</th><th scope=col>&lt;dbl&gt;</th><th scope=col>&lt;dbl&gt;</th><th scope=col>&lt;dbl&gt;</th><th scope=col>&lt;dbl&gt;</th><th scope=col>&lt;dbl&gt;</th><th scope=col>&lt;dbl&gt;</th><th scope=col>&lt;dbl&gt;</th><th scope=col>⋯</th><th scope=col>&lt;dbl&gt;</th><th scope=col>&lt;dbl&gt;</th><th scope=col>&lt;dbl&gt;</th><th scope=col>&lt;dbl&gt;</th><th scope=col>&lt;dbl&gt;</th><th scope=col>&lt;dbl&gt;</th><th scope=col>&lt;dbl&gt;</th><th scope=col>&lt;dbl&gt;</th><th scope=col>&lt;dbl&gt;</th><th scope=col>&lt;dbl&gt;</th></tr>\n",
       "</thead>\n",
       "<tbody>\n",
       "\t<tr><th scope=row>1</th><td>ACH-001113</td><td>3.894333</td><td>0.00000000</td><td>0.00000000</td><td> 9.068859</td><td>0.25096157</td><td>0.00000000</td><td>0.00000000</td><td>0</td><td>0</td><td>⋯</td><td>0.07038933</td><td>0.00000000</td><td>6.296457</td><td>4.221877</td><td>10.58346</td><td>5.526695</td><td>4.568640</td><td>8.25323294</td><td>5.380245</td><td>5.430285</td></tr>\n",
       "\t<tr><th scope=row>2</th><td>ACH-001289</td><td>4.602884</td><td>3.22187708</td><td>0.08406426</td><td>10.348064</td><td>1.06350294</td><td>0.00000000</td><td>0.05658353</td><td>0</td><td>0</td><td>⋯</td><td>0.01435529</td><td>0.00000000</td><td>6.300124</td><td>4.262283</td><td>11.17368</td><td>6.134837</td><td>4.642702</td><td>0.18903382</td><td>5.358607</td><td>6.018590</td></tr>\n",
       "\t<tr><th scope=row>3</th><td>ACH-001339</td><td>3.663345</td><td>4.16108148</td><td>0.78240856</td><td> 8.819349</td><td>0.07038933</td><td>0.02856915</td><td>0.05658353</td><td>0</td><td>0</td><td>⋯</td><td>0.00000000</td><td>0.85598970</td><td>5.771357</td><td>3.891419</td><td>10.29967</td><td>5.838952</td><td>5.144862</td><td>0.31034012</td><td>5.189429</td><td>6.014355</td></tr>\n",
       "\t<tr><th scope=row>4</th><td>ACH-001538</td><td>4.331992</td><td>4.39711841</td><td>1.13093087</td><td> 9.836492</td><td>0.32192809</td><td>0.00000000</td><td>0.00000000</td><td>0</td><td>0</td><td>⋯</td><td>0.54596837</td><td>0.12432814</td><td>4.635174</td><td>3.541019</td><td>11.12838</td><td>6.060264</td><td>3.712596</td><td>7.14435234</td><td>5.421897</td><td>5.493135</td></tr>\n",
       "\t<tr><th scope=row>5</th><td>ACH-000242</td><td>3.776104</td><td>0.02856915</td><td>0.01435529</td><td>10.044257</td><td>0.02856915</td><td>0.00000000</td><td>0.00000000</td><td>0</td><td>0</td><td>⋯</td><td>0.05658353</td><td>0.00000000</td><td>6.056584</td><td>3.747387</td><td>11.62543</td><td>5.247928</td><td>5.632559</td><td>6.34234140</td><td>6.007196</td><td>5.877990</td></tr>\n",
       "\t<tr><th scope=row>6</th><td>ACH-000708</td><td>4.422233</td><td>1.80322704</td><td>0.11103131</td><td>10.001127</td><td>0.89530262</td><td>0.00000000</td><td>0.00000000</td><td>0</td><td>0</td><td>⋯</td><td>0.16349873</td><td>0.01435529</td><td>6.897240</td><td>2.857981</td><td>10.74735</td><td>5.635174</td><td>4.589763</td><td>0.04264434</td><td>5.249066</td><td>5.287989</td></tr>\n",
       "</tbody>\n",
       "</table>\n"
      ],
      "text/latex": [
       "A data.frame: 6 × 99\n",
       "\\begin{tabular}{r|lllllllllllllllllllll}\n",
       "  & sample & CAAP1 & CDKN2B & DMRTA1 & EEF2 & ELAVL2 & IFNA10 & IFNA14 & IFNA16 & IFNA4 & ⋯ & EGR4 & NKAIN4 & NOMO2 & PIGN & RPL3 & RPP30 & RRP7A & TP63 & VRK1 & YTHDF2\\\\\n",
       "  & <chr> & <dbl> & <dbl> & <dbl> & <dbl> & <dbl> & <dbl> & <dbl> & <dbl> & <dbl> & ⋯ & <dbl> & <dbl> & <dbl> & <dbl> & <dbl> & <dbl> & <dbl> & <dbl> & <dbl> & <dbl>\\\\\n",
       "\\hline\n",
       "\t1 & ACH-001113 & 3.894333 & 0.00000000 & 0.00000000 &  9.068859 & 0.25096157 & 0.00000000 & 0.00000000 & 0 & 0 & ⋯ & 0.07038933 & 0.00000000 & 6.296457 & 4.221877 & 10.58346 & 5.526695 & 4.568640 & 8.25323294 & 5.380245 & 5.430285\\\\\n",
       "\t2 & ACH-001289 & 4.602884 & 3.22187708 & 0.08406426 & 10.348064 & 1.06350294 & 0.00000000 & 0.05658353 & 0 & 0 & ⋯ & 0.01435529 & 0.00000000 & 6.300124 & 4.262283 & 11.17368 & 6.134837 & 4.642702 & 0.18903382 & 5.358607 & 6.018590\\\\\n",
       "\t3 & ACH-001339 & 3.663345 & 4.16108148 & 0.78240856 &  8.819349 & 0.07038933 & 0.02856915 & 0.05658353 & 0 & 0 & ⋯ & 0.00000000 & 0.85598970 & 5.771357 & 3.891419 & 10.29967 & 5.838952 & 5.144862 & 0.31034012 & 5.189429 & 6.014355\\\\\n",
       "\t4 & ACH-001538 & 4.331992 & 4.39711841 & 1.13093087 &  9.836492 & 0.32192809 & 0.00000000 & 0.00000000 & 0 & 0 & ⋯ & 0.54596837 & 0.12432814 & 4.635174 & 3.541019 & 11.12838 & 6.060264 & 3.712596 & 7.14435234 & 5.421897 & 5.493135\\\\\n",
       "\t5 & ACH-000242 & 3.776104 & 0.02856915 & 0.01435529 & 10.044257 & 0.02856915 & 0.00000000 & 0.00000000 & 0 & 0 & ⋯ & 0.05658353 & 0.00000000 & 6.056584 & 3.747387 & 11.62543 & 5.247928 & 5.632559 & 6.34234140 & 6.007196 & 5.877990\\\\\n",
       "\t6 & ACH-000708 & 4.422233 & 1.80322704 & 0.11103131 & 10.001127 & 0.89530262 & 0.00000000 & 0.00000000 & 0 & 0 & ⋯ & 0.16349873 & 0.01435529 & 6.897240 & 2.857981 & 10.74735 & 5.635174 & 4.589763 & 0.04264434 & 5.249066 & 5.287989\\\\\n",
       "\\end{tabular}\n"
      ],
      "text/markdown": [
       "\n",
       "A data.frame: 6 × 99\n",
       "\n",
       "| <!--/--> | sample &lt;chr&gt; | CAAP1 &lt;dbl&gt; | CDKN2B &lt;dbl&gt; | DMRTA1 &lt;dbl&gt; | EEF2 &lt;dbl&gt; | ELAVL2 &lt;dbl&gt; | IFNA10 &lt;dbl&gt; | IFNA14 &lt;dbl&gt; | IFNA16 &lt;dbl&gt; | IFNA4 &lt;dbl&gt; | ⋯ ⋯ | EGR4 &lt;dbl&gt; | NKAIN4 &lt;dbl&gt; | NOMO2 &lt;dbl&gt; | PIGN &lt;dbl&gt; | RPL3 &lt;dbl&gt; | RPP30 &lt;dbl&gt; | RRP7A &lt;dbl&gt; | TP63 &lt;dbl&gt; | VRK1 &lt;dbl&gt; | YTHDF2 &lt;dbl&gt; |\n",
       "|---|---|---|---|---|---|---|---|---|---|---|---|---|---|---|---|---|---|---|---|---|---|\n",
       "| 1 | ACH-001113 | 3.894333 | 0.00000000 | 0.00000000 |  9.068859 | 0.25096157 | 0.00000000 | 0.00000000 | 0 | 0 | ⋯ | 0.07038933 | 0.00000000 | 6.296457 | 4.221877 | 10.58346 | 5.526695 | 4.568640 | 8.25323294 | 5.380245 | 5.430285 |\n",
       "| 2 | ACH-001289 | 4.602884 | 3.22187708 | 0.08406426 | 10.348064 | 1.06350294 | 0.00000000 | 0.05658353 | 0 | 0 | ⋯ | 0.01435529 | 0.00000000 | 6.300124 | 4.262283 | 11.17368 | 6.134837 | 4.642702 | 0.18903382 | 5.358607 | 6.018590 |\n",
       "| 3 | ACH-001339 | 3.663345 | 4.16108148 | 0.78240856 |  8.819349 | 0.07038933 | 0.02856915 | 0.05658353 | 0 | 0 | ⋯ | 0.00000000 | 0.85598970 | 5.771357 | 3.891419 | 10.29967 | 5.838952 | 5.144862 | 0.31034012 | 5.189429 | 6.014355 |\n",
       "| 4 | ACH-001538 | 4.331992 | 4.39711841 | 1.13093087 |  9.836492 | 0.32192809 | 0.00000000 | 0.00000000 | 0 | 0 | ⋯ | 0.54596837 | 0.12432814 | 4.635174 | 3.541019 | 11.12838 | 6.060264 | 3.712596 | 7.14435234 | 5.421897 | 5.493135 |\n",
       "| 5 | ACH-000242 | 3.776104 | 0.02856915 | 0.01435529 | 10.044257 | 0.02856915 | 0.00000000 | 0.00000000 | 0 | 0 | ⋯ | 0.05658353 | 0.00000000 | 6.056584 | 3.747387 | 11.62543 | 5.247928 | 5.632559 | 6.34234140 | 6.007196 | 5.877990 |\n",
       "| 6 | ACH-000708 | 4.422233 | 1.80322704 | 0.11103131 | 10.001127 | 0.89530262 | 0.00000000 | 0.00000000 | 0 | 0 | ⋯ | 0.16349873 | 0.01435529 | 6.897240 | 2.857981 | 10.74735 | 5.635174 | 4.589763 | 0.04264434 | 5.249066 | 5.287989 |\n",
       "\n"
      ],
      "text/plain": [
       "  sample     CAAP1    CDKN2B     DMRTA1     EEF2      ELAVL2     IFNA10    \n",
       "1 ACH-001113 3.894333 0.00000000 0.00000000  9.068859 0.25096157 0.00000000\n",
       "2 ACH-001289 4.602884 3.22187708 0.08406426 10.348064 1.06350294 0.00000000\n",
       "3 ACH-001339 3.663345 4.16108148 0.78240856  8.819349 0.07038933 0.02856915\n",
       "4 ACH-001538 4.331992 4.39711841 1.13093087  9.836492 0.32192809 0.00000000\n",
       "5 ACH-000242 3.776104 0.02856915 0.01435529 10.044257 0.02856915 0.00000000\n",
       "6 ACH-000708 4.422233 1.80322704 0.11103131 10.001127 0.89530262 0.00000000\n",
       "  IFNA14     IFNA16 IFNA4 ⋯ EGR4       NKAIN4     NOMO2    PIGN     RPL3    \n",
       "1 0.00000000 0      0     ⋯ 0.07038933 0.00000000 6.296457 4.221877 10.58346\n",
       "2 0.05658353 0      0     ⋯ 0.01435529 0.00000000 6.300124 4.262283 11.17368\n",
       "3 0.05658353 0      0     ⋯ 0.00000000 0.85598970 5.771357 3.891419 10.29967\n",
       "4 0.00000000 0      0     ⋯ 0.54596837 0.12432814 4.635174 3.541019 11.12838\n",
       "5 0.00000000 0      0     ⋯ 0.05658353 0.00000000 6.056584 3.747387 11.62543\n",
       "6 0.00000000 0      0     ⋯ 0.16349873 0.01435529 6.897240 2.857981 10.74735\n",
       "  RPP30    RRP7A    TP63       VRK1     YTHDF2  \n",
       "1 5.526695 4.568640 8.25323294 5.380245 5.430285\n",
       "2 6.134837 4.642702 0.18903382 5.358607 6.018590\n",
       "3 5.838952 5.144862 0.31034012 5.189429 6.014355\n",
       "4 6.060264 3.712596 7.14435234 5.421897 5.493135\n",
       "5 5.247928 5.632559 6.34234140 6.007196 5.877990\n",
       "6 5.635174 4.589763 0.04264434 5.249066 5.287989"
      ]
     },
     "metadata": {},
     "output_type": "display_data"
    }
   ],
   "source": [
    "#Filter the expression data so that it only includes the ancestry-associated genes\n",
    "filtered.depmap.expression = depmap.expression %>%\n",
    "rename(\"sample\" = 1) %>%\n",
    "select(sample, all_of(ancestry.associated.genes))\n",
    "\n",
    "dim(filtered.depmap.expression)\n",
    "head(filtered.depmap.expression)"
   ]
  },
  {
   "cell_type": "markdown",
   "metadata": {},
   "source": [
    "# Now calculate if any of the SNPs are eQTLs"
   ]
  },
  {
   "cell_type": "code",
   "execution_count": 7,
   "metadata": {},
   "outputs": [],
   "source": [
    "pval.vector = NULL\n",
    "differential.expression.vector = NULL\n",
    "\n",
    "for(i in 1:nrow(top.snp)){\n",
    "    \n",
    "    #Get the important information from top.snp\n",
    "    gene.of.interest = top.snp[i,1] #Get the gene for this iteration of the loop\n",
    "    snp.of.interest = top.snp[i,2] #Get the snp location for this iteration of the loop\n",
    "    \n",
    "    #extract the expression values for that gene\n",
    "    filtered.goi.expression = filtered.depmap.expression %>%\n",
    "    select(sample, all_of(gene.of.interest)) %>%\n",
    "    rename(\"goi\" = 2)\n",
    "    \n",
    "    #get a vector of cell lines with (and without) the SNP of interest\n",
    "    lines.with.snp = assembled.matrix %>% filter(snp %in% all_of(snp.of.interest)) %>% \n",
    "    t() %>% \n",
    "    data.frame() %>%\n",
    "    rename(\"genotype\" = 1) %>%\n",
    "    filter(genotype %in% c(0, 1, 2)) %>%\n",
    "    mutate(genotype = as.numeric(genotype)) %>%\n",
    "    filter(genotype >= 1) %>%\n",
    "    row.names()\n",
    "    \n",
    "    lines.without.snp = assembled.matrix %>% filter(snp %in% all_of(snp.of.interest)) %>% \n",
    "    t() %>% \n",
    "    data.frame() %>%\n",
    "    rename(\"genotype\" = 1) %>%\n",
    "    filter(genotype %in% c(0, 1, 2)) %>%\n",
    "    mutate(genotype = as.numeric(genotype)) %>%\n",
    "    filter(genotype == 0) %>%\n",
    "    row.names()\n",
    "    \n",
    "    #Split the expression data by snp status\n",
    "    expression.with.snp = filtered.goi.expression %>% filter(sample %in% all_of(lines.with.snp)) %>% pull(goi)\n",
    "    expression.without.snp = filtered.goi.expression %>% filter(sample %in% all_of(lines.without.snp)) %>% pull(goi)\n",
    "    \n",
    "    #calculate the differential expression\n",
    "    differential.expression = median(expression.with.snp) - median(expression.without.snp)\n",
    "    \n",
    "    #calculate a p-value\n",
    "    if(length(expression.with.snp) >= 3 && length(expression.without.snp >= 3)){\n",
    "        pval = t.test(expression.with.snp, expression.without.snp)$p.value  \n",
    "    } else {\n",
    "        pval = 1\n",
    "    }\n",
    "    \n",
    "    #add all of the stuff outside of the vector\n",
    "    pval.vector = c(pval.vector, pval)\n",
    "    differential.expression.vector = c(differential.expression.vector, differential.expression)\n",
    "}"
   ]
  },
  {
   "cell_type": "code",
   "execution_count": 8,
   "metadata": {},
   "outputs": [
    {
     "data": {
      "text/html": [
       "<table class=\"dataframe\">\n",
       "<caption>A data.frame: 6 × 7</caption>\n",
       "<thead>\n",
       "\t<tr><th></th><th scope=col>gene</th><th scope=col>snp</th><th scope=col>fdr</th><th scope=col>eqtl.pval</th><th scope=col>eqtl.differential</th><th scope=col>eqtl.fdr</th><th scope=col>abs.differential</th></tr>\n",
       "\t<tr><th></th><th scope=col>&lt;chr&gt;</th><th scope=col>&lt;chr&gt;</th><th scope=col>&lt;dbl&gt;</th><th scope=col>&lt;dbl&gt;</th><th scope=col>&lt;dbl&gt;</th><th scope=col>&lt;dbl&gt;</th><th scope=col>&lt;dbl&gt;</th></tr>\n",
       "</thead>\n",
       "<tbody>\n",
       "\t<tr><th scope=row>1</th><td>CDKN2B </td><td>chr9:21986219:C:T </td><td>1.616279e-08</td><td>1.091612e-53</td><td>-2.54985870</td><td>1.069780e-51</td><td>2.54985870</td></tr>\n",
       "\t<tr><th scope=row>2</th><td>IFNE   </td><td>chr9:21340131:A:G </td><td>5.865190e-06</td><td>2.656700e-14</td><td>-0.24867911</td><td>1.301783e-12</td><td>0.24867911</td></tr>\n",
       "\t<tr><th scope=row>3</th><td>RHD    </td><td>chr1:25235176:G:A </td><td>2.881802e-24</td><td>2.784879e-10</td><td>-0.11973924</td><td>9.097270e-09</td><td>0.11973924</td></tr>\n",
       "\t<tr><th scope=row>4</th><td>TEK    </td><td>chr9:27336435:T:A </td><td>3.492504e-04</td><td>1.566423e-09</td><td>-0.01421386</td><td>3.837737e-08</td><td>0.01421386</td></tr>\n",
       "\t<tr><th scope=row>5</th><td>TRMT61B</td><td>chr2:28796023:T:C </td><td>8.904977e-23</td><td>6.025317e-09</td><td>-0.18413662</td><td>1.180962e-07</td><td>0.18413662</td></tr>\n",
       "\t<tr><th scope=row>6</th><td>ACAN   </td><td>chr1:235898921:T:C</td><td>4.264121e-01</td><td>1.184990e-07</td><td> 0.03485449</td><td>1.935484e-06</td><td>0.03485449</td></tr>\n",
       "</tbody>\n",
       "</table>\n"
      ],
      "text/latex": [
       "A data.frame: 6 × 7\n",
       "\\begin{tabular}{r|lllllll}\n",
       "  & gene & snp & fdr & eqtl.pval & eqtl.differential & eqtl.fdr & abs.differential\\\\\n",
       "  & <chr> & <chr> & <dbl> & <dbl> & <dbl> & <dbl> & <dbl>\\\\\n",
       "\\hline\n",
       "\t1 & CDKN2B  & chr9:21986219:C:T  & 1.616279e-08 & 1.091612e-53 & -2.54985870 & 1.069780e-51 & 2.54985870\\\\\n",
       "\t2 & IFNE    & chr9:21340131:A:G  & 5.865190e-06 & 2.656700e-14 & -0.24867911 & 1.301783e-12 & 0.24867911\\\\\n",
       "\t3 & RHD     & chr1:25235176:G:A  & 2.881802e-24 & 2.784879e-10 & -0.11973924 & 9.097270e-09 & 0.11973924\\\\\n",
       "\t4 & TEK     & chr9:27336435:T:A  & 3.492504e-04 & 1.566423e-09 & -0.01421386 & 3.837737e-08 & 0.01421386\\\\\n",
       "\t5 & TRMT61B & chr2:28796023:T:C  & 8.904977e-23 & 6.025317e-09 & -0.18413662 & 1.180962e-07 & 0.18413662\\\\\n",
       "\t6 & ACAN    & chr1:235898921:T:C & 4.264121e-01 & 1.184990e-07 &  0.03485449 & 1.935484e-06 & 0.03485449\\\\\n",
       "\\end{tabular}\n"
      ],
      "text/markdown": [
       "\n",
       "A data.frame: 6 × 7\n",
       "\n",
       "| <!--/--> | gene &lt;chr&gt; | snp &lt;chr&gt; | fdr &lt;dbl&gt; | eqtl.pval &lt;dbl&gt; | eqtl.differential &lt;dbl&gt; | eqtl.fdr &lt;dbl&gt; | abs.differential &lt;dbl&gt; |\n",
       "|---|---|---|---|---|---|---|---|\n",
       "| 1 | CDKN2B  | chr9:21986219:C:T  | 1.616279e-08 | 1.091612e-53 | -2.54985870 | 1.069780e-51 | 2.54985870 |\n",
       "| 2 | IFNE    | chr9:21340131:A:G  | 5.865190e-06 | 2.656700e-14 | -0.24867911 | 1.301783e-12 | 0.24867911 |\n",
       "| 3 | RHD     | chr1:25235176:G:A  | 2.881802e-24 | 2.784879e-10 | -0.11973924 | 9.097270e-09 | 0.11973924 |\n",
       "| 4 | TEK     | chr9:27336435:T:A  | 3.492504e-04 | 1.566423e-09 | -0.01421386 | 3.837737e-08 | 0.01421386 |\n",
       "| 5 | TRMT61B | chr2:28796023:T:C  | 8.904977e-23 | 6.025317e-09 | -0.18413662 | 1.180962e-07 | 0.18413662 |\n",
       "| 6 | ACAN    | chr1:235898921:T:C | 4.264121e-01 | 1.184990e-07 |  0.03485449 | 1.935484e-06 | 0.03485449 |\n",
       "\n"
      ],
      "text/plain": [
       "  gene    snp                fdr          eqtl.pval    eqtl.differential\n",
       "1 CDKN2B  chr9:21986219:C:T  1.616279e-08 1.091612e-53 -2.54985870      \n",
       "2 IFNE    chr9:21340131:A:G  5.865190e-06 2.656700e-14 -0.24867911      \n",
       "3 RHD     chr1:25235176:G:A  2.881802e-24 2.784879e-10 -0.11973924      \n",
       "4 TEK     chr9:27336435:T:A  3.492504e-04 1.566423e-09 -0.01421386      \n",
       "5 TRMT61B chr2:28796023:T:C  8.904977e-23 6.025317e-09 -0.18413662      \n",
       "6 ACAN    chr1:235898921:T:C 4.264121e-01 1.184990e-07  0.03485449      \n",
       "  eqtl.fdr     abs.differential\n",
       "1 1.069780e-51 2.54985870      \n",
       "2 1.301783e-12 0.24867911      \n",
       "3 9.097270e-09 0.11973924      \n",
       "4 3.837737e-08 0.01421386      \n",
       "5 1.180962e-07 0.18413662      \n",
       "6 1.935484e-06 0.03485449      "
      ]
     },
     "metadata": {},
     "output_type": "display_data"
    },
    {
     "data": {
      "text/html": [
       "0.124687262345345"
      ],
      "text/latex": [
       "0.124687262345345"
      ],
      "text/markdown": [
       "0.124687262345345"
      ],
      "text/plain": [
       "[1] 0.1246873"
      ]
     },
     "metadata": {},
     "output_type": "display_data"
    },
    {
     "data": {
      "text/html": [
       "20"
      ],
      "text/latex": [
       "20"
      ],
      "text/markdown": [
       "20"
      ],
      "text/plain": [
       "[1] 20"
      ]
     },
     "metadata": {},
     "output_type": "display_data"
    }
   ],
   "source": [
    "#Assemble a data frame with all of the output\n",
    "\n",
    "eqtl.df = top.snp %>%\n",
    "mutate(\"eqtl.pval\" = pval.vector) %>%\n",
    "mutate(\"eqtl.differential\" = differential.expression.vector) %>%\n",
    "arrange(eqtl.pval) %>%\n",
    "mutate(eqtl.fdr = p.adjust(eqtl.pval, method = \"BH\", n = length(eqtl.pval))) %>%\n",
    "mutate(abs.differential = abs(eqtl.differential))\n",
    "\n",
    "head(eqtl.df)\n",
    "\n",
    "\n",
    "#calculate the median differential for all genes with fdr < 0.05\n",
    "eqtl.df %>% \n",
    "filter(eqtl.fdr < 0.05) %>%\n",
    "pull(eqtl.differential) %>%\n",
    "abs() %>%\n",
    "median()\n",
    "\n",
    "#calculate the number of SNPs that have a fdr < 0.05\n",
    "eqtl.df %>%\n",
    "filter(eqtl.fdr < 0.05) %>%\n",
    "nrow()"
   ]
  },
  {
   "cell_type": "code",
   "execution_count": 19,
   "metadata": {
    "scrolled": false
   },
   "outputs": [
    {
     "name": "stderr",
     "output_type": "stream",
     "text": [
      "Warning message:\n",
      "“Removed 3 rows containing missing values (geom_point).”\n",
      "Warning message:\n",
      "“Removed 3 rows containing missing values (geom_point).”\n"
     ]
    },
    {
     "data": {
      "image/png": "[encoded data removed]",
      "text/plain": [
       "plot without title"
      ]
     },
     "metadata": {
      "image/png": {
       "height": 420,
       "width": 420
      }
     },
     "output_type": "display_data"
    }
   ],
   "source": [
    "#Plot the plot\n",
    "eqtl.df %>%\n",
    "ggplot() +\n",
    "geom_point(size = 0.75, aes(x = abs.differential, y = log10(-log10(eqtl.fdr)))) +\n",
    "geom_hline(yintercept = 0.114287) +\n",
    "theme_bw() +\n",
    "\n",
    "theme(\n",
    "panel.border = element_blank(), panel.grid.major = element_blank(),\n",
    "panel.grid.minor = element_blank(), axis.line = element_line(color = \"black\")\n",
    ") +\n",
    "\n",
    "theme(\n",
    "axis.title.x = element_text(color = \"black\", size = 12, face = \"bold\"),\n",
    "axis.title.y = element_text(color = \"black\", size = 12, face = \"bold\")\n",
    ") +\n",
    "\n",
    "theme(\n",
    "axis.text=element_text(size = 12),\n",
    "axis.title=element_text(size = 14,face = \"bold\")\n",
    ") +\n",
    "\n",
    "theme(\n",
    "legend.title = element_text(size = 14, face = \"bold\"),\n",
    "legend.text = element_text(size = 10, face = \"bold\")\n",
    ") +\n",
    "\n",
    "ylim(c(-2, 2)) +\n",
    "\n",
    "ylab(\"Association between SNV and gene expression (FDR)\") +\n",
    "xlab(\"Difference in gene expression log10(TPM)\")\n",
    "\n",
    "#Export it to the google bucket\n",
    "setwd('/home/jupyter/Ancestry/analysis/are_dqtls_eqtls')\n",
    "ggsave(\"eqtl_volcano.pdf\", height = 2.8, width = 1.75)\n",
    "system(glue::glue(\"\n",
    "cd /home/jupyter/Ancestry/analysis/are_dqtls_eqtls\n",
    "gsutil cp eqtl_volcano.pdf gs://fc-45c0e148-0b1c-4244-9bfc-feb559bbc514\n",
    "\"))"
   ]
  },
  {
   "cell_type": "code",
   "execution_count": 22,
   "metadata": {},
   "outputs": [
    {
     "data": {
      "text/html": [
       "78"
      ],
      "text/latex": [
       "78"
      ],
      "text/markdown": [
       "78"
      ],
      "text/plain": [
       "[1] 78"
      ]
     },
     "metadata": {},
     "output_type": "display_data"
    },
    {
     "data": {
      "text/html": [
       "<style>\n",
       ".list-inline {list-style: none; margin:0; padding: 0}\n",
       ".list-inline>li {display: inline-block}\n",
       ".list-inline>li:not(:last-child)::after {content: \"\\00b7\"; padding: 0 .5ex}\n",
       "</style>\n",
       "<ol class=list-inline><li>98</li><li>7</li></ol>\n"
      ],
      "text/latex": [
       "\\begin{enumerate*}\n",
       "\\item 98\n",
       "\\item 7\n",
       "\\end{enumerate*}\n"
      ],
      "text/markdown": [
       "1. 98\n",
       "2. 7\n",
       "\n",
       "\n"
      ],
      "text/plain": [
       "[1] 98  7"
      ]
     },
     "metadata": {},
     "output_type": "display_data"
    }
   ],
   "source": [
    "#Calculate how many genes don't have eQTLs\n",
    "eqtl.df %>%\n",
    "filter(eqtl.fdr > 0.05) %>%\n",
    "nrow()\n",
    "\n",
    "dim(eqtl.df)"
   ]
  },
  {
   "cell_type": "markdown",
   "metadata": {},
   "source": [
    "# Calculate the median expression value for all ancestry-associated genes"
   ]
  },
  {
   "cell_type": "code",
   "execution_count": 60,
   "metadata": {},
   "outputs": [
    {
     "data": {
      "text/html": [
       "<table class=\"dataframe\">\n",
       "<caption>A data.frame: 6 × 3</caption>\n",
       "<thead>\n",
       "\t<tr><th></th><th scope=col>gene</th><th scope=col>expression</th><th scope=col>class</th></tr>\n",
       "\t<tr><th></th><th scope=col>&lt;chr&gt;</th><th scope=col>&lt;dbl&gt;</th><th scope=col>&lt;chr&gt;</th></tr>\n",
       "</thead>\n",
       "<tbody>\n",
       "\t<tr><th scope=row>1</th><td>CAAP1 </td><td>3.9250500</td><td>ancestry</td></tr>\n",
       "\t<tr><th scope=row>2</th><td>CDKN2B</td><td>1.6915342</td><td>ancestry</td></tr>\n",
       "\t<tr><th scope=row>3</th><td>DMRTA1</td><td>0.2265085</td><td>ancestry</td></tr>\n",
       "\t<tr><th scope=row>4</th><td>EEF2  </td><td>9.8482630</td><td>ancestry</td></tr>\n",
       "\t<tr><th scope=row>5</th><td>ELAVL2</td><td>0.1110313</td><td>ancestry</td></tr>\n",
       "\t<tr><th scope=row>6</th><td>IFNA10</td><td>0.0000000</td><td>ancestry</td></tr>\n",
       "</tbody>\n",
       "</table>\n"
      ],
      "text/latex": [
       "A data.frame: 6 × 3\n",
       "\\begin{tabular}{r|lll}\n",
       "  & gene & expression & class\\\\\n",
       "  & <chr> & <dbl> & <chr>\\\\\n",
       "\\hline\n",
       "\t1 & CAAP1  & 3.9250500 & ancestry\\\\\n",
       "\t2 & CDKN2B & 1.6915342 & ancestry\\\\\n",
       "\t3 & DMRTA1 & 0.2265085 & ancestry\\\\\n",
       "\t4 & EEF2   & 9.8482630 & ancestry\\\\\n",
       "\t5 & ELAVL2 & 0.1110313 & ancestry\\\\\n",
       "\t6 & IFNA10 & 0.0000000 & ancestry\\\\\n",
       "\\end{tabular}\n"
      ],
      "text/markdown": [
       "\n",
       "A data.frame: 6 × 3\n",
       "\n",
       "| <!--/--> | gene &lt;chr&gt; | expression &lt;dbl&gt; | class &lt;chr&gt; |\n",
       "|---|---|---|---|\n",
       "| 1 | CAAP1  | 3.9250500 | ancestry |\n",
       "| 2 | CDKN2B | 1.6915342 | ancestry |\n",
       "| 3 | DMRTA1 | 0.2265085 | ancestry |\n",
       "| 4 | EEF2   | 9.8482630 | ancestry |\n",
       "| 5 | ELAVL2 | 0.1110313 | ancestry |\n",
       "| 6 | IFNA10 | 0.0000000 | ancestry |\n",
       "\n"
      ],
      "text/plain": [
       "  gene   expression class   \n",
       "1 CAAP1  3.9250500  ancestry\n",
       "2 CDKN2B 1.6915342  ancestry\n",
       "3 DMRTA1 0.2265085  ancestry\n",
       "4 EEF2   9.8482630  ancestry\n",
       "5 ELAVL2 0.1110313  ancestry\n",
       "6 IFNA10 0.0000000  ancestry"
      ]
     },
     "metadata": {},
     "output_type": "display_data"
    }
   ],
   "source": [
    "#Calculate the median expression value for all ancestry-associated genes\n",
    "median.expression.value = filtered.depmap.expression %>%\n",
    "select(-sample) %>%\n",
    "apply(2, median) %>%\n",
    "data.frame() %>%\n",
    "rename(\"expression\" = 1) %>%\n",
    "rownames_to_column() %>%\n",
    "rename(\"gene\" = 1) %>%\n",
    "mutate(\"class\" = \"ancestry\")\n",
    "\n",
    "head(median.expression.value)"
   ]
  },
  {
   "cell_type": "code",
   "execution_count": 61,
   "metadata": {},
   "outputs": [
    {
     "data": {
      "text/html": [
       "1247"
      ],
      "text/latex": [
       "1247"
      ],
      "text/markdown": [
       "1247"
      ],
      "text/plain": [
       "[1] 1247"
      ]
     },
     "metadata": {},
     "output_type": "display_data"
    },
    {
     "data": {
      "text/html": [
       "<table class=\"dataframe\">\n",
       "<caption>A data.frame: 6 × 3</caption>\n",
       "<thead>\n",
       "\t<tr><th></th><th scope=col>gene</th><th scope=col>expression</th><th scope=col>class</th></tr>\n",
       "\t<tr><th></th><th scope=col>&lt;chr&gt;</th><th scope=col>&lt;dbl&gt;</th><th scope=col>&lt;chr&gt;</th></tr>\n",
       "</thead>\n",
       "<tbody>\n",
       "\t<tr><th scope=row>1</th><td>VPS52 </td><td>5.167920</td><td>common_essential</td></tr>\n",
       "\t<tr><th scope=row>2</th><td>LRR1  </td><td>4.718636</td><td>common_essential</td></tr>\n",
       "\t<tr><th scope=row>3</th><td>XRN1  </td><td>3.090853</td><td>common_essential</td></tr>\n",
       "\t<tr><th scope=row>4</th><td>TXNL4A</td><td>6.206135</td><td>common_essential</td></tr>\n",
       "\t<tr><th scope=row>5</th><td>PSMC6 </td><td>6.527790</td><td>common_essential</td></tr>\n",
       "\t<tr><th scope=row>6</th><td>RPN1  </td><td>7.469967</td><td>common_essential</td></tr>\n",
       "</tbody>\n",
       "</table>\n"
      ],
      "text/latex": [
       "A data.frame: 6 × 3\n",
       "\\begin{tabular}{r|lll}\n",
       "  & gene & expression & class\\\\\n",
       "  & <chr> & <dbl> & <chr>\\\\\n",
       "\\hline\n",
       "\t1 & VPS52  & 5.167920 & common\\_essential\\\\\n",
       "\t2 & LRR1   & 4.718636 & common\\_essential\\\\\n",
       "\t3 & XRN1   & 3.090853 & common\\_essential\\\\\n",
       "\t4 & TXNL4A & 6.206135 & common\\_essential\\\\\n",
       "\t5 & PSMC6  & 6.527790 & common\\_essential\\\\\n",
       "\t6 & RPN1   & 7.469967 & common\\_essential\\\\\n",
       "\\end{tabular}\n"
      ],
      "text/markdown": [
       "\n",
       "A data.frame: 6 × 3\n",
       "\n",
       "| <!--/--> | gene &lt;chr&gt; | expression &lt;dbl&gt; | class &lt;chr&gt; |\n",
       "|---|---|---|---|\n",
       "| 1 | VPS52  | 5.167920 | common_essential |\n",
       "| 2 | LRR1   | 4.718636 | common_essential |\n",
       "| 3 | XRN1   | 3.090853 | common_essential |\n",
       "| 4 | TXNL4A | 6.206135 | common_essential |\n",
       "| 5 | PSMC6  | 6.527790 | common_essential |\n",
       "| 6 | RPN1   | 7.469967 | common_essential |\n",
       "\n"
      ],
      "text/plain": [
       "  gene   expression class           \n",
       "1 VPS52  5.167920   common_essential\n",
       "2 LRR1   4.718636   common_essential\n",
       "3 XRN1   3.090853   common_essential\n",
       "4 TXNL4A 6.206135   common_essential\n",
       "5 PSMC6  6.527790   common_essential\n",
       "6 RPN1   7.469967   common_essential"
      ]
     },
     "metadata": {},
     "output_type": "display_data"
    }
   ],
   "source": [
    "###Calculate the median expression for all of the common essential genes\n",
    "\n",
    "#First, load in a list of all of the common essential genes\n",
    "setwd(\"/home/jupyter/Ancestry/analysis/are_dqtls_eqtls\")\n",
    "common.essential.genes = read.table(\"common_essentials.csv\", sep = \",\", header = T) %>%\n",
    "mutate(gene = word(gene, 1)) %>%\n",
    "pull(gene)\n",
    "length(common.essential.genes)\n",
    "\n",
    "#Subset these genes from the expression matrix, then calculate the median expression of all genes\n",
    "intersecting.ce.genes = intersect(common.essential.genes, colnames(depmap.expression))\n",
    "\n",
    "common.essential.gene.expression = depmap.expression %>%\n",
    "select(all_of(intersecting.ce.genes)) %>%\n",
    "apply(2, median) %>% \n",
    "data.frame() %>%\n",
    "rownames_to_column() %>%\n",
    "rename(\"gene\" = 1, \"expression\" = 2) %>%\n",
    "mutate(\"class\" = \"common_essential\") %>%\n",
    "sample_n(nrow(median.expression.value))\n",
    "\n",
    "head(common.essential.gene.expression)\n"
   ]
  },
  {
   "cell_type": "code",
   "execution_count": 62,
   "metadata": {},
   "outputs": [
    {
     "data": {
      "text/html": [
       "<table class=\"dataframe\">\n",
       "<caption>A data.frame: 6 × 3</caption>\n",
       "<thead>\n",
       "\t<tr><th></th><th scope=col>gene</th><th scope=col>expression</th><th scope=col>class</th></tr>\n",
       "\t<tr><th></th><th scope=col>&lt;chr&gt;</th><th scope=col>&lt;dbl&gt;</th><th scope=col>&lt;fct&gt;</th></tr>\n",
       "</thead>\n",
       "<tbody>\n",
       "\t<tr><th scope=row>1</th><td>VPS52 </td><td>5.167920</td><td>common_essential</td></tr>\n",
       "\t<tr><th scope=row>2</th><td>LRR1  </td><td>4.718636</td><td>common_essential</td></tr>\n",
       "\t<tr><th scope=row>3</th><td>XRN1  </td><td>3.090853</td><td>common_essential</td></tr>\n",
       "\t<tr><th scope=row>4</th><td>TXNL4A</td><td>6.206135</td><td>common_essential</td></tr>\n",
       "\t<tr><th scope=row>5</th><td>PSMC6 </td><td>6.527790</td><td>common_essential</td></tr>\n",
       "\t<tr><th scope=row>6</th><td>RPN1  </td><td>7.469967</td><td>common_essential</td></tr>\n",
       "</tbody>\n",
       "</table>\n"
      ],
      "text/latex": [
       "A data.frame: 6 × 3\n",
       "\\begin{tabular}{r|lll}\n",
       "  & gene & expression & class\\\\\n",
       "  & <chr> & <dbl> & <fct>\\\\\n",
       "\\hline\n",
       "\t1 & VPS52  & 5.167920 & common\\_essential\\\\\n",
       "\t2 & LRR1   & 4.718636 & common\\_essential\\\\\n",
       "\t3 & XRN1   & 3.090853 & common\\_essential\\\\\n",
       "\t4 & TXNL4A & 6.206135 & common\\_essential\\\\\n",
       "\t5 & PSMC6  & 6.527790 & common\\_essential\\\\\n",
       "\t6 & RPN1   & 7.469967 & common\\_essential\\\\\n",
       "\\end{tabular}\n"
      ],
      "text/markdown": [
       "\n",
       "A data.frame: 6 × 3\n",
       "\n",
       "| <!--/--> | gene &lt;chr&gt; | expression &lt;dbl&gt; | class &lt;fct&gt; |\n",
       "|---|---|---|---|\n",
       "| 1 | VPS52  | 5.167920 | common_essential |\n",
       "| 2 | LRR1   | 4.718636 | common_essential |\n",
       "| 3 | XRN1   | 3.090853 | common_essential |\n",
       "| 4 | TXNL4A | 6.206135 | common_essential |\n",
       "| 5 | PSMC6  | 6.527790 | common_essential |\n",
       "| 6 | RPN1   | 7.469967 | common_essential |\n",
       "\n"
      ],
      "text/plain": [
       "  gene   expression class           \n",
       "1 VPS52  5.167920   common_essential\n",
       "2 LRR1   4.718636   common_essential\n",
       "3 XRN1   3.090853   common_essential\n",
       "4 TXNL4A 6.206135   common_essential\n",
       "5 PSMC6  6.527790   common_essential\n",
       "6 RPN1   7.469967   common_essential"
      ]
     },
     "metadata": {},
     "output_type": "display_data"
    },
    {
     "data": {
      "text/html": [
       "<table class=\"dataframe\">\n",
       "<caption>A data.frame: 6 × 3</caption>\n",
       "<thead>\n",
       "\t<tr><th></th><th scope=col>gene</th><th scope=col>expression</th><th scope=col>class</th></tr>\n",
       "\t<tr><th></th><th scope=col>&lt;chr&gt;</th><th scope=col>&lt;dbl&gt;</th><th scope=col>&lt;fct&gt;</th></tr>\n",
       "</thead>\n",
       "<tbody>\n",
       "\t<tr><th scope=row>191</th><td>RPL3  </td><td>10.7750341</td><td>ancestry</td></tr>\n",
       "\t<tr><th scope=row>192</th><td>RPP30 </td><td> 5.4161642</td><td>ancestry</td></tr>\n",
       "\t<tr><th scope=row>193</th><td>RRP7A </td><td> 4.8444861</td><td>ancestry</td></tr>\n",
       "\t<tr><th scope=row>194</th><td>TP63  </td><td> 0.1763228</td><td>ancestry</td></tr>\n",
       "\t<tr><th scope=row>195</th><td>VRK1  </td><td> 5.0938137</td><td>ancestry</td></tr>\n",
       "\t<tr><th scope=row>196</th><td>YTHDF2</td><td> 5.5257557</td><td>ancestry</td></tr>\n",
       "</tbody>\n",
       "</table>\n"
      ],
      "text/latex": [
       "A data.frame: 6 × 3\n",
       "\\begin{tabular}{r|lll}\n",
       "  & gene & expression & class\\\\\n",
       "  & <chr> & <dbl> & <fct>\\\\\n",
       "\\hline\n",
       "\t191 & RPL3   & 10.7750341 & ancestry\\\\\n",
       "\t192 & RPP30  &  5.4161642 & ancestry\\\\\n",
       "\t193 & RRP7A  &  4.8444861 & ancestry\\\\\n",
       "\t194 & TP63   &  0.1763228 & ancestry\\\\\n",
       "\t195 & VRK1   &  5.0938137 & ancestry\\\\\n",
       "\t196 & YTHDF2 &  5.5257557 & ancestry\\\\\n",
       "\\end{tabular}\n"
      ],
      "text/markdown": [
       "\n",
       "A data.frame: 6 × 3\n",
       "\n",
       "| <!--/--> | gene &lt;chr&gt; | expression &lt;dbl&gt; | class &lt;fct&gt; |\n",
       "|---|---|---|---|\n",
       "| 191 | RPL3   | 10.7750341 | ancestry |\n",
       "| 192 | RPP30  |  5.4161642 | ancestry |\n",
       "| 193 | RRP7A  |  4.8444861 | ancestry |\n",
       "| 194 | TP63   |  0.1763228 | ancestry |\n",
       "| 195 | VRK1   |  5.0938137 | ancestry |\n",
       "| 196 | YTHDF2 |  5.5257557 | ancestry |\n",
       "\n"
      ],
      "text/plain": [
       "    gene   expression class   \n",
       "191 RPL3   10.7750341 ancestry\n",
       "192 RPP30   5.4161642 ancestry\n",
       "193 RRP7A   4.8444861 ancestry\n",
       "194 TP63    0.1763228 ancestry\n",
       "195 VRK1    5.0938137 ancestry\n",
       "196 YTHDF2  5.5257557 ancestry"
      ]
     },
     "metadata": {},
     "output_type": "display_data"
    }
   ],
   "source": [
    "#Bind thme both together\n",
    "median.expression.value = median.expression.value %>%\n",
    "rbind(common.essential.gene.expression, .) %>%\n",
    "mutate(class = factor(class, levels = c(\"common_essential\", \"ancestry\"))) #Convert the class to a factor so that we can make one appear in front of the other\n",
    "\n",
    "head(median.expression.value)\n",
    "tail(median.expression.value)"
   ]
  },
  {
   "cell_type": "code",
   "execution_count": 85,
   "metadata": {},
   "outputs": [
    {
     "name": "stderr",
     "output_type": "stream",
     "text": [
      "`stat_bin()` using `bins = 30`. Pick better value with `binwidth`.\n",
      "\n",
      "`stat_bin()` using `bins = 30`. Pick better value with `binwidth`.\n",
      "\n"
     ]
    },
    {
     "data": {
      "image/png": "[encoded data removed]",
      "text/plain": [
       "plot without title"
      ]
     },
     "metadata": {
      "image/png": {
       "height": 420,
       "width": 420
      }
     },
     "output_type": "display_data"
    }
   ],
   "source": [
    "#Now plot a histogram of the median expression values\n",
    "\n",
    "median.expression.value %>%\n",
    "ggplot(aes(x = expression)) +\n",
    "geom_histogram(aes(fill = class), position=\"identity\") +\n",
    "geom_vline(xintercept = 2.32, linetype = \"dotted\") + \n",
    "\n",
    "scale_color_manual(values=c(\"dimgrey\", \"#071d46\")) +\n",
    "scale_fill_manual(values=c(\"dimgrey\", \"#071d46\")) +\n",
    "\n",
    "theme_bw() +\n",
    "\n",
    "theme(\n",
    "#panel.border = element_blank(), \n",
    "panel.grid.major = element_blank(),\n",
    "panel.grid.minor = element_blank(), \n",
    "axis.line = element_line(color = \"black\")\n",
    ") +\n",
    "\n",
    "theme(\n",
    "axis.text.x = element_text(face=\"bold\", size=12),\n",
    "axis.text.y = element_text(face=\"bold\", size=12)\n",
    ") +\n",
    "\n",
    "theme(\n",
    "axis.title.x = element_text(color = \"black\", size = 12, face = \"bold\"),\n",
    "axis.title.y = element_text(color = \"black\", size = 12, face = \"bold\")\n",
    ") +\n",
    "\n",
    "theme(\n",
    "axis.text=element_text(size = 12, face = \"bold\"),\n",
    ") +\n",
    "\n",
    "theme(\n",
    "legend.title = element_text(size = 12, face = \"bold\"),\n",
    "legend.text = element_text(size = 12, face = \"bold\")\n",
    ") +\n",
    "\n",
    "scale_y_continuous(expand = c(0,0)) +\n",
    "scale_x_continuous(expand = c(0,0), breaks = c(0, 2.5, 5, 7.5, 10)) +\n",
    "\n",
    "xlab(\"Gene Expression log10(TPM)\") +\n",
    "ylab(\"Number of Genes\") \n",
    "\n",
    "#Put the exported image into the google bucket\n",
    "setwd('/home/jupyter/Ancestry/analysis/are_dqtls_eqtls')\n",
    "ggsave(\"locus_expression_values.pdf\", width = 6, height = 2.3)\n",
    "system(glue::glue(\"\n",
    "cd /home/jupyter/Ancestry/figures\n",
    "gsutil cp /home/jupyter/Ancestry/analysis/are_dqtls_eqtls/locus_expression_values.pdf gs://fc-45c0e148-0b1c-4244-9bfc-feb559bbc514\n",
    "\"))"
   ]
  },
  {
   "cell_type": "code",
   "execution_count": 80,
   "metadata": {},
   "outputs": [
    {
     "data": {
      "text/html": [
       "50"
      ],
      "text/latex": [
       "50"
      ],
      "text/markdown": [
       "50"
      ],
      "text/plain": [
       "[1] 50"
      ]
     },
     "metadata": {},
     "output_type": "display_data"
    },
    {
     "data": {
      "text/html": [
       "2"
      ],
      "text/latex": [
       "2"
      ],
      "text/markdown": [
       "2"
      ],
      "text/plain": [
       "[1] 2"
      ]
     },
     "metadata": {},
     "output_type": "display_data"
    },
    {
     "data": {
      "text/html": [
       "98"
      ],
      "text/latex": [
       "98"
      ],
      "text/markdown": [
       "98"
      ],
      "text/plain": [
       "[1] 98"
      ]
     },
     "metadata": {},
     "output_type": "display_data"
    },
    {
     "data": {
      "text/html": [
       "98"
      ],
      "text/latex": [
       "98"
      ],
      "text/markdown": [
       "98"
      ],
      "text/plain": [
       "[1] 98"
      ]
     },
     "metadata": {},
     "output_type": "display_data"
    }
   ],
   "source": [
    "#Calculate the number of genes whose expression value is less than 2.5\n",
    "median.expression.value %>%\n",
    "filter(class %in% \"ancestry\") %>%\n",
    "filter(expression < 2.32) %>%\n",
    "nrow()\n",
    "\n",
    "\n",
    "#Now do the same for common essentials\n",
    "median.expression.value %>%\n",
    "filter(class %in% \"common_essential\") %>%\n",
    "filter(expression < 2.32) %>%\n",
    "nrow()\n",
    "\n",
    "#How many total genes are there\n",
    "median.expression.value %>% filter(class %in% \"ancestry\") %>% nrow()\n",
    "median.expression.value %>% filter(class %in% \"common_essential\") %>% nrow()\n"
   ]
  },
  {
   "cell_type": "markdown",
   "metadata": {},
   "source": [
    "The CDKN2B finding is interesting. Let's stress test it a bit.\n",
    "\n",
    "If that SNP (or a SNP in LD) is a true CDKN2B eQTL, then that SNP should probably only be associated with CDKN2B expression, but not expression of other neighboring genes."
   ]
  },
  {
   "cell_type": "code",
   "execution_count": 33,
   "metadata": {},
   "outputs": [
    {
     "data": {
      "text/html": [
       "<table class=\"dataframe\">\n",
       "<caption>A data.frame: 6 × 4</caption>\n",
       "<thead>\n",
       "\t<tr><th></th><th scope=col>chr</th><th scope=col>position</th><th scope=col>strand</th><th scope=col>gene</th></tr>\n",
       "\t<tr><th></th><th scope=col>&lt;chr&gt;</th><th scope=col>&lt;int&gt;</th><th scope=col>&lt;chr&gt;</th><th scope=col>&lt;chr&gt;</th></tr>\n",
       "</thead>\n",
       "<tbody>\n",
       "\t<tr><th scope=row>1</th><td>chr9</td><td>127778666</td><td>-</td><td>SH2D3C</td></tr>\n",
       "\t<tr><th scope=row>2</th><td>chr9</td><td> 75088514</td><td>+</td><td>OSTF1 </td></tr>\n",
       "\t<tr><th scope=row>3</th><td>chr9</td><td>132879046</td><td>-</td><td>AK8   </td></tr>\n",
       "\t<tr><th scope=row>4</th><td>chr9</td><td>114930595</td><td>-</td><td>TNFSF8</td></tr>\n",
       "\t<tr><th scope=row>5</th><td>chr9</td><td> 27109141</td><td>+</td><td>TEK   </td></tr>\n",
       "\t<tr><th scope=row>6</th><td>chr9</td><td> 98119222</td><td>-</td><td>TRIM14</td></tr>\n",
       "</tbody>\n",
       "</table>\n"
      ],
      "text/latex": [
       "A data.frame: 6 × 4\n",
       "\\begin{tabular}{r|llll}\n",
       "  & chr & position & strand & gene\\\\\n",
       "  & <chr> & <int> & <chr> & <chr>\\\\\n",
       "\\hline\n",
       "\t1 & chr9 & 127778666 & - & SH2D3C\\\\\n",
       "\t2 & chr9 &  75088514 & + & OSTF1 \\\\\n",
       "\t3 & chr9 & 132879046 & - & AK8   \\\\\n",
       "\t4 & chr9 & 114930595 & - & TNFSF8\\\\\n",
       "\t5 & chr9 &  27109141 & + & TEK   \\\\\n",
       "\t6 & chr9 &  98119222 & - & TRIM14\\\\\n",
       "\\end{tabular}\n"
      ],
      "text/markdown": [
       "\n",
       "A data.frame: 6 × 4\n",
       "\n",
       "| <!--/--> | chr &lt;chr&gt; | position &lt;int&gt; | strand &lt;chr&gt; | gene &lt;chr&gt; |\n",
       "|---|---|---|---|---|\n",
       "| 1 | chr9 | 127778666 | - | SH2D3C |\n",
       "| 2 | chr9 |  75088514 | + | OSTF1  |\n",
       "| 3 | chr9 | 132879046 | - | AK8    |\n",
       "| 4 | chr9 | 114930595 | - | TNFSF8 |\n",
       "| 5 | chr9 |  27109141 | + | TEK    |\n",
       "| 6 | chr9 |  98119222 | - | TRIM14 |\n",
       "\n"
      ],
      "text/plain": [
       "  chr  position  strand gene  \n",
       "1 chr9 127778666 -      SH2D3C\n",
       "2 chr9  75088514 +      OSTF1 \n",
       "3 chr9 132879046 -      AK8   \n",
       "4 chr9 114930595 -      TNFSF8\n",
       "5 chr9  27109141 +      TEK   \n",
       "6 chr9  98119222 -      TRIM14"
      ]
     },
     "metadata": {},
     "output_type": "display_data"
    },
    {
     "data": {
      "text/html": [
       "<style>\n",
       ".list-inline {list-style: none; margin:0; padding: 0}\n",
       ".list-inline>li {display: inline-block}\n",
       ".list-inline>li:not(:last-child)::after {content: \"\\00b7\"; padding: 0 .5ex}\n",
       "</style>\n",
       "<ol class=list-inline><li>1091</li><li>4</li></ol>\n"
      ],
      "text/latex": [
       "\\begin{enumerate*}\n",
       "\\item 1091\n",
       "\\item 4\n",
       "\\end{enumerate*}\n"
      ],
      "text/markdown": [
       "1. 1091\n",
       "2. 4\n",
       "\n",
       "\n"
      ],
      "text/plain": [
       "[1] 1091    4"
      ]
     },
     "metadata": {},
     "output_type": "display_data"
    },
    {
     "data": {
      "text/html": [
       "731"
      ],
      "text/latex": [
       "731"
      ],
      "text/markdown": [
       "731"
      ],
      "text/plain": [
       "[1] 731"
      ]
     },
     "metadata": {},
     "output_type": "display_data"
    }
   ],
   "source": [
    "#Grab every gene that is on chr9 and test if expression of those genes is also associated with CDKN2B expression\n",
    "setwd(\"/home/jupyter/Ancestry/analysis/locus_specific_gwas_analysis\")\n",
    "refgene = read.table(\"hg38.refGene.gtf\", header = F, sep = \"\\t\") %>%\n",
    "select(V1, V3, V4, V5, 7, V9) %>%\n",
    "rename(\"chr\" = V1, \"type\" = V3, \"start\" = V4, \"end\" = V5, \"strand\" = V7, \"gene\" = V9) %>%\n",
    "filter(type %in% \"transcript\") %>%\n",
    "mutate(\"position\" = ifelse(strand %in% \"+\", start, end)) %>%\n",
    "mutate(gene = gsub(\";..*\", \"\", gene)) %>%\n",
    "mutate(gene = gsub(\"gene_id \", \"\", gene)) %>%\n",
    "select(chr, position, strand, gene) %>%\n",
    "distinct(gene, .keep_all = TRUE) %>%\n",
    "filter(chr %in% \"chr9\") \n",
    "\n",
    "head(refgene)\n",
    "dim(refgene)\n",
    "\n",
    "genes.on.chr9 = refgene %>% pull(gene) %>%\n",
    "intersect(names(depmap.expression))\n",
    "\n",
    "length(genes.on.chr9)\n"
   ]
  },
  {
   "cell_type": "code",
   "execution_count": 19,
   "metadata": {},
   "outputs": [],
   "source": [
    "#Get a list of samples with the snp and samples without the snp\n",
    "samples.with.snp = assembled.matrix %>% filter(snp %in% \"chr9:21986219:C:T\") %>%\n",
    "select_if(~max(.) >= 1) %>%\n",
    "colnames(.) %>%\n",
    ".[2:length(.)]\n",
    "\n",
    "samples.without.snp = assembled.matrix %>% filter(snp %in% \"chr9:21986219:C:T\") %>%\n",
    "select_if(~min(.) == 0) %>%\n",
    "colnames(.) %>%\n",
    ".[2:length(.)]\n"
   ]
  },
  {
   "cell_type": "code",
   "execution_count": 38,
   "metadata": {},
   "outputs": [
    {
     "data": {
      "text/html": [
       "<table class=\"dataframe\">\n",
       "<caption>A data.frame: 6 × 731</caption>\n",
       "<thead>\n",
       "\t<tr><th></th><th scope=col>SH2D3C</th><th scope=col>OSTF1</th><th scope=col>AK8</th><th scope=col>TNFSF8</th><th scope=col>TEK</th><th scope=col>TRIM14</th><th scope=col>SPINK4</th><th scope=col>KYAT1</th><th scope=col>ZDHHC21</th><th scope=col>CDKN2A</th><th scope=col>⋯</th><th scope=col>BARHL1</th><th scope=col>ZER1</th><th scope=col>QSOX2</th><th scope=col>PLPP6</th><th scope=col>BRD3</th><th scope=col>MPDZ</th><th scope=col>ERCC6L2</th><th scope=col>FRRS1L</th><th scope=col>DPM2</th><th scope=col>SLC24A2</th></tr>\n",
       "\t<tr><th></th><th scope=col>&lt;dbl&gt;</th><th scope=col>&lt;dbl&gt;</th><th scope=col>&lt;dbl&gt;</th><th scope=col>&lt;dbl&gt;</th><th scope=col>&lt;dbl&gt;</th><th scope=col>&lt;dbl&gt;</th><th scope=col>&lt;dbl&gt;</th><th scope=col>&lt;dbl&gt;</th><th scope=col>&lt;dbl&gt;</th><th scope=col>&lt;dbl&gt;</th><th scope=col>⋯</th><th scope=col>&lt;dbl&gt;</th><th scope=col>&lt;dbl&gt;</th><th scope=col>&lt;dbl&gt;</th><th scope=col>&lt;dbl&gt;</th><th scope=col>&lt;dbl&gt;</th><th scope=col>&lt;dbl&gt;</th><th scope=col>&lt;dbl&gt;</th><th scope=col>&lt;dbl&gt;</th><th scope=col>&lt;dbl&gt;</th><th scope=col>&lt;dbl&gt;</th></tr>\n",
       "</thead>\n",
       "<tbody>\n",
       "\t<tr><th scope=row>1</th><td>0.78240856</td><td>5.227664</td><td>0.77399633</td><td>0.00000000</td><td>0.01435529</td><td>4.010780</td><td>0.0000000</td><td>1.933573</td><td>3.586164</td><td>0.0000000</td><td>⋯</td><td>0.04264434</td><td>3.513491</td><td>3.877744</td><td>4.122673</td><td>3.494416</td><td>4.2311252</td><td>4.800123</td><td>0.00000000</td><td>4.643856</td><td>0.20163386</td></tr>\n",
       "\t<tr><th scope=row>2</th><td>0.11103131</td><td>5.838448</td><td>0.04264434</td><td>0.02856915</td><td>0.00000000</td><td>4.022368</td><td>0.5558162</td><td>1.713696</td><td>2.891419</td><td>0.1375035</td><td>⋯</td><td>0.01435529</td><td>3.894333</td><td>3.285402</td><td>2.648465</td><td>2.835924</td><td>2.9049657</td><td>3.638074</td><td>0.04264434</td><td>4.556429</td><td>0.01435529</td></tr>\n",
       "\t<tr><th scope=row>3</th><td>0.07038933</td><td>4.840967</td><td>0.66902677</td><td>0.01435529</td><td>0.00000000</td><td>3.993674</td><td>0.3673711</td><td>2.073820</td><td>1.735522</td><td>0.3219281</td><td>⋯</td><td>0.08406426</td><td>4.698774</td><td>5.151778</td><td>2.327687</td><td>4.214902</td><td>0.0976108</td><td>3.791814</td><td>0.01435529</td><td>6.063719</td><td>0.00000000</td></tr>\n",
       "\t<tr><th scope=row>4</th><td>0.05658353</td><td>4.577731</td><td>0.26303441</td><td>0.07038933</td><td>0.12432814</td><td>2.490570</td><td>0.1634987</td><td>2.925999</td><td>2.232661</td><td>6.1424134</td><td>⋯</td><td>0.05658353</td><td>4.985956</td><td>4.188243</td><td>1.718088</td><td>3.693766</td><td>2.4032677</td><td>3.586164</td><td>0.00000000</td><td>6.223809</td><td>0.00000000</td></tr>\n",
       "\t<tr><th scope=row>5</th><td>0.18903382</td><td>3.915521</td><td>0.47508488</td><td>0.02856915</td><td>0.45417589</td><td>2.526069</td><td>0.0000000</td><td>4.275752</td><td>2.084064</td><td>0.1890338</td><td>⋯</td><td>0.01435529</td><td>4.030336</td><td>4.795455</td><td>3.361768</td><td>3.940167</td><td>3.9345165</td><td>2.794936</td><td>0.00000000</td><td>5.953032</td><td>0.00000000</td></tr>\n",
       "\t<tr><th scope=row>6</th><td>0.20163386</td><td>4.394377</td><td>0.81557543</td><td>0.01435529</td><td>0.86393845</td><td>3.612352</td><td>0.0000000</td><td>3.761285</td><td>2.582556</td><td>0.2750070</td><td>⋯</td><td>0.00000000</td><td>4.965323</td><td>4.268285</td><td>3.037382</td><td>4.257011</td><td>5.2426025</td><td>3.911692</td><td>2.20476675</td><td>5.900625</td><td>0.00000000</td></tr>\n",
       "</tbody>\n",
       "</table>\n"
      ],
      "text/latex": [
       "A data.frame: 6 × 731\n",
       "\\begin{tabular}{r|lllllllllllllllllllll}\n",
       "  & SH2D3C & OSTF1 & AK8 & TNFSF8 & TEK & TRIM14 & SPINK4 & KYAT1 & ZDHHC21 & CDKN2A & ⋯ & BARHL1 & ZER1 & QSOX2 & PLPP6 & BRD3 & MPDZ & ERCC6L2 & FRRS1L & DPM2 & SLC24A2\\\\\n",
       "  & <dbl> & <dbl> & <dbl> & <dbl> & <dbl> & <dbl> & <dbl> & <dbl> & <dbl> & <dbl> & ⋯ & <dbl> & <dbl> & <dbl> & <dbl> & <dbl> & <dbl> & <dbl> & <dbl> & <dbl> & <dbl>\\\\\n",
       "\\hline\n",
       "\t1 & 0.78240856 & 5.227664 & 0.77399633 & 0.00000000 & 0.01435529 & 4.010780 & 0.0000000 & 1.933573 & 3.586164 & 0.0000000 & ⋯ & 0.04264434 & 3.513491 & 3.877744 & 4.122673 & 3.494416 & 4.2311252 & 4.800123 & 0.00000000 & 4.643856 & 0.20163386\\\\\n",
       "\t2 & 0.11103131 & 5.838448 & 0.04264434 & 0.02856915 & 0.00000000 & 4.022368 & 0.5558162 & 1.713696 & 2.891419 & 0.1375035 & ⋯ & 0.01435529 & 3.894333 & 3.285402 & 2.648465 & 2.835924 & 2.9049657 & 3.638074 & 0.04264434 & 4.556429 & 0.01435529\\\\\n",
       "\t3 & 0.07038933 & 4.840967 & 0.66902677 & 0.01435529 & 0.00000000 & 3.993674 & 0.3673711 & 2.073820 & 1.735522 & 0.3219281 & ⋯ & 0.08406426 & 4.698774 & 5.151778 & 2.327687 & 4.214902 & 0.0976108 & 3.791814 & 0.01435529 & 6.063719 & 0.00000000\\\\\n",
       "\t4 & 0.05658353 & 4.577731 & 0.26303441 & 0.07038933 & 0.12432814 & 2.490570 & 0.1634987 & 2.925999 & 2.232661 & 6.1424134 & ⋯ & 0.05658353 & 4.985956 & 4.188243 & 1.718088 & 3.693766 & 2.4032677 & 3.586164 & 0.00000000 & 6.223809 & 0.00000000\\\\\n",
       "\t5 & 0.18903382 & 3.915521 & 0.47508488 & 0.02856915 & 0.45417589 & 2.526069 & 0.0000000 & 4.275752 & 2.084064 & 0.1890338 & ⋯ & 0.01435529 & 4.030336 & 4.795455 & 3.361768 & 3.940167 & 3.9345165 & 2.794936 & 0.00000000 & 5.953032 & 0.00000000\\\\\n",
       "\t6 & 0.20163386 & 4.394377 & 0.81557543 & 0.01435529 & 0.86393845 & 3.612352 & 0.0000000 & 3.761285 & 2.582556 & 0.2750070 & ⋯ & 0.00000000 & 4.965323 & 4.268285 & 3.037382 & 4.257011 & 5.2426025 & 3.911692 & 2.20476675 & 5.900625 & 0.00000000\\\\\n",
       "\\end{tabular}\n"
      ],
      "text/markdown": [
       "\n",
       "A data.frame: 6 × 731\n",
       "\n",
       "| <!--/--> | SH2D3C &lt;dbl&gt; | OSTF1 &lt;dbl&gt; | AK8 &lt;dbl&gt; | TNFSF8 &lt;dbl&gt; | TEK &lt;dbl&gt; | TRIM14 &lt;dbl&gt; | SPINK4 &lt;dbl&gt; | KYAT1 &lt;dbl&gt; | ZDHHC21 &lt;dbl&gt; | CDKN2A &lt;dbl&gt; | ⋯ ⋯ | BARHL1 &lt;dbl&gt; | ZER1 &lt;dbl&gt; | QSOX2 &lt;dbl&gt; | PLPP6 &lt;dbl&gt; | BRD3 &lt;dbl&gt; | MPDZ &lt;dbl&gt; | ERCC6L2 &lt;dbl&gt; | FRRS1L &lt;dbl&gt; | DPM2 &lt;dbl&gt; | SLC24A2 &lt;dbl&gt; |\n",
       "|---|---|---|---|---|---|---|---|---|---|---|---|---|---|---|---|---|---|---|---|---|---|\n",
       "| 1 | 0.78240856 | 5.227664 | 0.77399633 | 0.00000000 | 0.01435529 | 4.010780 | 0.0000000 | 1.933573 | 3.586164 | 0.0000000 | ⋯ | 0.04264434 | 3.513491 | 3.877744 | 4.122673 | 3.494416 | 4.2311252 | 4.800123 | 0.00000000 | 4.643856 | 0.20163386 |\n",
       "| 2 | 0.11103131 | 5.838448 | 0.04264434 | 0.02856915 | 0.00000000 | 4.022368 | 0.5558162 | 1.713696 | 2.891419 | 0.1375035 | ⋯ | 0.01435529 | 3.894333 | 3.285402 | 2.648465 | 2.835924 | 2.9049657 | 3.638074 | 0.04264434 | 4.556429 | 0.01435529 |\n",
       "| 3 | 0.07038933 | 4.840967 | 0.66902677 | 0.01435529 | 0.00000000 | 3.993674 | 0.3673711 | 2.073820 | 1.735522 | 0.3219281 | ⋯ | 0.08406426 | 4.698774 | 5.151778 | 2.327687 | 4.214902 | 0.0976108 | 3.791814 | 0.01435529 | 6.063719 | 0.00000000 |\n",
       "| 4 | 0.05658353 | 4.577731 | 0.26303441 | 0.07038933 | 0.12432814 | 2.490570 | 0.1634987 | 2.925999 | 2.232661 | 6.1424134 | ⋯ | 0.05658353 | 4.985956 | 4.188243 | 1.718088 | 3.693766 | 2.4032677 | 3.586164 | 0.00000000 | 6.223809 | 0.00000000 |\n",
       "| 5 | 0.18903382 | 3.915521 | 0.47508488 | 0.02856915 | 0.45417589 | 2.526069 | 0.0000000 | 4.275752 | 2.084064 | 0.1890338 | ⋯ | 0.01435529 | 4.030336 | 4.795455 | 3.361768 | 3.940167 | 3.9345165 | 2.794936 | 0.00000000 | 5.953032 | 0.00000000 |\n",
       "| 6 | 0.20163386 | 4.394377 | 0.81557543 | 0.01435529 | 0.86393845 | 3.612352 | 0.0000000 | 3.761285 | 2.582556 | 0.2750070 | ⋯ | 0.00000000 | 4.965323 | 4.268285 | 3.037382 | 4.257011 | 5.2426025 | 3.911692 | 2.20476675 | 5.900625 | 0.00000000 |\n",
       "\n"
      ],
      "text/plain": [
       "  SH2D3C     OSTF1    AK8        TNFSF8     TEK        TRIM14   SPINK4   \n",
       "1 0.78240856 5.227664 0.77399633 0.00000000 0.01435529 4.010780 0.0000000\n",
       "2 0.11103131 5.838448 0.04264434 0.02856915 0.00000000 4.022368 0.5558162\n",
       "3 0.07038933 4.840967 0.66902677 0.01435529 0.00000000 3.993674 0.3673711\n",
       "4 0.05658353 4.577731 0.26303441 0.07038933 0.12432814 2.490570 0.1634987\n",
       "5 0.18903382 3.915521 0.47508488 0.02856915 0.45417589 2.526069 0.0000000\n",
       "6 0.20163386 4.394377 0.81557543 0.01435529 0.86393845 3.612352 0.0000000\n",
       "  KYAT1    ZDHHC21  CDKN2A    ⋯ BARHL1     ZER1     QSOX2    PLPP6    BRD3    \n",
       "1 1.933573 3.586164 0.0000000 ⋯ 0.04264434 3.513491 3.877744 4.122673 3.494416\n",
       "2 1.713696 2.891419 0.1375035 ⋯ 0.01435529 3.894333 3.285402 2.648465 2.835924\n",
       "3 2.073820 1.735522 0.3219281 ⋯ 0.08406426 4.698774 5.151778 2.327687 4.214902\n",
       "4 2.925999 2.232661 6.1424134 ⋯ 0.05658353 4.985956 4.188243 1.718088 3.693766\n",
       "5 4.275752 2.084064 0.1890338 ⋯ 0.01435529 4.030336 4.795455 3.361768 3.940167\n",
       "6 3.761285 2.582556 0.2750070 ⋯ 0.00000000 4.965323 4.268285 3.037382 4.257011\n",
       "  MPDZ      ERCC6L2  FRRS1L     DPM2     SLC24A2   \n",
       "1 4.2311252 4.800123 0.00000000 4.643856 0.20163386\n",
       "2 2.9049657 3.638074 0.04264434 4.556429 0.01435529\n",
       "3 0.0976108 3.791814 0.01435529 6.063719 0.00000000\n",
       "4 2.4032677 3.586164 0.00000000 6.223809 0.00000000\n",
       "5 3.9345165 2.794936 0.00000000 5.953032 0.00000000\n",
       "6 5.2426025 3.911692 2.20476675 5.900625 0.00000000"
      ]
     },
     "metadata": {},
     "output_type": "display_data"
    },
    {
     "data": {
      "text/html": [
       "<table class=\"dataframe\">\n",
       "<caption>A data.frame: 6 × 731</caption>\n",
       "<thead>\n",
       "\t<tr><th></th><th scope=col>SH2D3C</th><th scope=col>OSTF1</th><th scope=col>AK8</th><th scope=col>TNFSF8</th><th scope=col>TEK</th><th scope=col>TRIM14</th><th scope=col>SPINK4</th><th scope=col>KYAT1</th><th scope=col>ZDHHC21</th><th scope=col>CDKN2A</th><th scope=col>⋯</th><th scope=col>BARHL1</th><th scope=col>ZER1</th><th scope=col>QSOX2</th><th scope=col>PLPP6</th><th scope=col>BRD3</th><th scope=col>MPDZ</th><th scope=col>ERCC6L2</th><th scope=col>FRRS1L</th><th scope=col>DPM2</th><th scope=col>SLC24A2</th></tr>\n",
       "\t<tr><th></th><th scope=col>&lt;dbl&gt;</th><th scope=col>&lt;dbl&gt;</th><th scope=col>&lt;dbl&gt;</th><th scope=col>&lt;dbl&gt;</th><th scope=col>&lt;dbl&gt;</th><th scope=col>&lt;dbl&gt;</th><th scope=col>&lt;dbl&gt;</th><th scope=col>&lt;dbl&gt;</th><th scope=col>&lt;dbl&gt;</th><th scope=col>&lt;dbl&gt;</th><th scope=col>⋯</th><th scope=col>&lt;dbl&gt;</th><th scope=col>&lt;dbl&gt;</th><th scope=col>&lt;dbl&gt;</th><th scope=col>&lt;dbl&gt;</th><th scope=col>&lt;dbl&gt;</th><th scope=col>&lt;dbl&gt;</th><th scope=col>&lt;dbl&gt;</th><th scope=col>&lt;dbl&gt;</th><th scope=col>&lt;dbl&gt;</th><th scope=col>&lt;dbl&gt;</th></tr>\n",
       "</thead>\n",
       "<tbody>\n",
       "\t<tr><th scope=row>1</th><td>0.04264434</td><td>5.167519</td><td>0.35614381</td><td>0.08406426</td><td>0.01435529</td><td>4.858976</td><td>7.5161728</td><td>3.193772</td><td>2.45680615</td><td>5.2857721</td><td>⋯</td><td>0.00000000</td><td>3.996389</td><td>3.851999</td><td>3.165108</td><td>3.502076</td><td>0.0976108</td><td>3.190615</td><td>0.01435529</td><td>5.667041</td><td>0.02856915</td></tr>\n",
       "\t<tr><th scope=row>2</th><td>0.15055968</td><td>3.890447</td><td>0.05658353</td><td>0.02856915</td><td>0.04264434</td><td>1.298658</td><td>0.0000000</td><td>1.250962</td><td>2.38128337</td><td>3.2249664</td><td>⋯</td><td>0.00000000</td><td>2.422233</td><td>2.815575</td><td>3.200065</td><td>1.321928</td><td>2.1858665</td><td>2.563158</td><td>0.00000000</td><td>5.082788</td><td>0.00000000</td></tr>\n",
       "\t<tr><th scope=row>3</th><td>0.43295941</td><td>6.238978</td><td>0.48542683</td><td>0.05658353</td><td>1.12432814</td><td>3.916477</td><td>0.1243281</td><td>2.733354</td><td>0.08406426</td><td>5.8831320</td><td>⋯</td><td>0.04264434</td><td>3.295723</td><td>3.781360</td><td>3.061776</td><td>3.174726</td><td>1.1110313</td><td>5.655638</td><td>0.00000000</td><td>5.046578</td><td>0.04264434</td></tr>\n",
       "\t<tr><th scope=row>4</th><td>0.20163386</td><td>6.403949</td><td>0.25096157</td><td>0.00000000</td><td>0.00000000</td><td>4.042644</td><td>0.0000000</td><td>1.244887</td><td>3.13750352</td><td>0.4114262</td><td>⋯</td><td>0.02856915</td><td>3.471187</td><td>3.626439</td><td>4.144862</td><td>3.339137</td><td>3.3504972</td><td>3.818646</td><td>0.00000000</td><td>4.635174</td><td>0.13750352</td></tr>\n",
       "\t<tr><th scope=row>5</th><td>3.03913839</td><td>5.223423</td><td>0.01435529</td><td>0.21412481</td><td>0.00000000</td><td>4.891419</td><td>2.1570437</td><td>2.680324</td><td>2.53106949</td><td>3.9221978</td><td>⋯</td><td>0.04264434</td><td>2.722466</td><td>3.962549</td><td>1.056584</td><td>2.954196</td><td>0.0000000</td><td>3.615887</td><td>0.00000000</td><td>5.442943</td><td>0.00000000</td></tr>\n",
       "\t<tr><th scope=row>6</th><td>0.21412481</td><td>5.086614</td><td>0.12432814</td><td>0.08406426</td><td>0.01435529</td><td>2.985500</td><td>6.6201465</td><td>2.250962</td><td>2.80941444</td><td>4.6241009</td><td>⋯</td><td>0.00000000</td><td>3.684819</td><td>3.404631</td><td>2.843984</td><td>3.488001</td><td>0.0000000</td><td>4.244887</td><td>0.00000000</td><td>4.475085</td><td>0.00000000</td></tr>\n",
       "</tbody>\n",
       "</table>\n"
      ],
      "text/latex": [
       "A data.frame: 6 × 731\n",
       "\\begin{tabular}{r|lllllllllllllllllllll}\n",
       "  & SH2D3C & OSTF1 & AK8 & TNFSF8 & TEK & TRIM14 & SPINK4 & KYAT1 & ZDHHC21 & CDKN2A & ⋯ & BARHL1 & ZER1 & QSOX2 & PLPP6 & BRD3 & MPDZ & ERCC6L2 & FRRS1L & DPM2 & SLC24A2\\\\\n",
       "  & <dbl> & <dbl> & <dbl> & <dbl> & <dbl> & <dbl> & <dbl> & <dbl> & <dbl> & <dbl> & ⋯ & <dbl> & <dbl> & <dbl> & <dbl> & <dbl> & <dbl> & <dbl> & <dbl> & <dbl> & <dbl>\\\\\n",
       "\\hline\n",
       "\t1 & 0.04264434 & 5.167519 & 0.35614381 & 0.08406426 & 0.01435529 & 4.858976 & 7.5161728 & 3.193772 & 2.45680615 & 5.2857721 & ⋯ & 0.00000000 & 3.996389 & 3.851999 & 3.165108 & 3.502076 & 0.0976108 & 3.190615 & 0.01435529 & 5.667041 & 0.02856915\\\\\n",
       "\t2 & 0.15055968 & 3.890447 & 0.05658353 & 0.02856915 & 0.04264434 & 1.298658 & 0.0000000 & 1.250962 & 2.38128337 & 3.2249664 & ⋯ & 0.00000000 & 2.422233 & 2.815575 & 3.200065 & 1.321928 & 2.1858665 & 2.563158 & 0.00000000 & 5.082788 & 0.00000000\\\\\n",
       "\t3 & 0.43295941 & 6.238978 & 0.48542683 & 0.05658353 & 1.12432814 & 3.916477 & 0.1243281 & 2.733354 & 0.08406426 & 5.8831320 & ⋯ & 0.04264434 & 3.295723 & 3.781360 & 3.061776 & 3.174726 & 1.1110313 & 5.655638 & 0.00000000 & 5.046578 & 0.04264434\\\\\n",
       "\t4 & 0.20163386 & 6.403949 & 0.25096157 & 0.00000000 & 0.00000000 & 4.042644 & 0.0000000 & 1.244887 & 3.13750352 & 0.4114262 & ⋯ & 0.02856915 & 3.471187 & 3.626439 & 4.144862 & 3.339137 & 3.3504972 & 3.818646 & 0.00000000 & 4.635174 & 0.13750352\\\\\n",
       "\t5 & 3.03913839 & 5.223423 & 0.01435529 & 0.21412481 & 0.00000000 & 4.891419 & 2.1570437 & 2.680324 & 2.53106949 & 3.9221978 & ⋯ & 0.04264434 & 2.722466 & 3.962549 & 1.056584 & 2.954196 & 0.0000000 & 3.615887 & 0.00000000 & 5.442943 & 0.00000000\\\\\n",
       "\t6 & 0.21412481 & 5.086614 & 0.12432814 & 0.08406426 & 0.01435529 & 2.985500 & 6.6201465 & 2.250962 & 2.80941444 & 4.6241009 & ⋯ & 0.00000000 & 3.684819 & 3.404631 & 2.843984 & 3.488001 & 0.0000000 & 4.244887 & 0.00000000 & 4.475085 & 0.00000000\\\\\n",
       "\\end{tabular}\n"
      ],
      "text/markdown": [
       "\n",
       "A data.frame: 6 × 731\n",
       "\n",
       "| <!--/--> | SH2D3C &lt;dbl&gt; | OSTF1 &lt;dbl&gt; | AK8 &lt;dbl&gt; | TNFSF8 &lt;dbl&gt; | TEK &lt;dbl&gt; | TRIM14 &lt;dbl&gt; | SPINK4 &lt;dbl&gt; | KYAT1 &lt;dbl&gt; | ZDHHC21 &lt;dbl&gt; | CDKN2A &lt;dbl&gt; | ⋯ ⋯ | BARHL1 &lt;dbl&gt; | ZER1 &lt;dbl&gt; | QSOX2 &lt;dbl&gt; | PLPP6 &lt;dbl&gt; | BRD3 &lt;dbl&gt; | MPDZ &lt;dbl&gt; | ERCC6L2 &lt;dbl&gt; | FRRS1L &lt;dbl&gt; | DPM2 &lt;dbl&gt; | SLC24A2 &lt;dbl&gt; |\n",
       "|---|---|---|---|---|---|---|---|---|---|---|---|---|---|---|---|---|---|---|---|---|---|\n",
       "| 1 | 0.04264434 | 5.167519 | 0.35614381 | 0.08406426 | 0.01435529 | 4.858976 | 7.5161728 | 3.193772 | 2.45680615 | 5.2857721 | ⋯ | 0.00000000 | 3.996389 | 3.851999 | 3.165108 | 3.502076 | 0.0976108 | 3.190615 | 0.01435529 | 5.667041 | 0.02856915 |\n",
       "| 2 | 0.15055968 | 3.890447 | 0.05658353 | 0.02856915 | 0.04264434 | 1.298658 | 0.0000000 | 1.250962 | 2.38128337 | 3.2249664 | ⋯ | 0.00000000 | 2.422233 | 2.815575 | 3.200065 | 1.321928 | 2.1858665 | 2.563158 | 0.00000000 | 5.082788 | 0.00000000 |\n",
       "| 3 | 0.43295941 | 6.238978 | 0.48542683 | 0.05658353 | 1.12432814 | 3.916477 | 0.1243281 | 2.733354 | 0.08406426 | 5.8831320 | ⋯ | 0.04264434 | 3.295723 | 3.781360 | 3.061776 | 3.174726 | 1.1110313 | 5.655638 | 0.00000000 | 5.046578 | 0.04264434 |\n",
       "| 4 | 0.20163386 | 6.403949 | 0.25096157 | 0.00000000 | 0.00000000 | 4.042644 | 0.0000000 | 1.244887 | 3.13750352 | 0.4114262 | ⋯ | 0.02856915 | 3.471187 | 3.626439 | 4.144862 | 3.339137 | 3.3504972 | 3.818646 | 0.00000000 | 4.635174 | 0.13750352 |\n",
       "| 5 | 3.03913839 | 5.223423 | 0.01435529 | 0.21412481 | 0.00000000 | 4.891419 | 2.1570437 | 2.680324 | 2.53106949 | 3.9221978 | ⋯ | 0.04264434 | 2.722466 | 3.962549 | 1.056584 | 2.954196 | 0.0000000 | 3.615887 | 0.00000000 | 5.442943 | 0.00000000 |\n",
       "| 6 | 0.21412481 | 5.086614 | 0.12432814 | 0.08406426 | 0.01435529 | 2.985500 | 6.6201465 | 2.250962 | 2.80941444 | 4.6241009 | ⋯ | 0.00000000 | 3.684819 | 3.404631 | 2.843984 | 3.488001 | 0.0000000 | 4.244887 | 0.00000000 | 4.475085 | 0.00000000 |\n",
       "\n"
      ],
      "text/plain": [
       "  SH2D3C     OSTF1    AK8        TNFSF8     TEK        TRIM14   SPINK4   \n",
       "1 0.04264434 5.167519 0.35614381 0.08406426 0.01435529 4.858976 7.5161728\n",
       "2 0.15055968 3.890447 0.05658353 0.02856915 0.04264434 1.298658 0.0000000\n",
       "3 0.43295941 6.238978 0.48542683 0.05658353 1.12432814 3.916477 0.1243281\n",
       "4 0.20163386 6.403949 0.25096157 0.00000000 0.00000000 4.042644 0.0000000\n",
       "5 3.03913839 5.223423 0.01435529 0.21412481 0.00000000 4.891419 2.1570437\n",
       "6 0.21412481 5.086614 0.12432814 0.08406426 0.01435529 2.985500 6.6201465\n",
       "  KYAT1    ZDHHC21    CDKN2A    ⋯ BARHL1     ZER1     QSOX2    PLPP6   \n",
       "1 3.193772 2.45680615 5.2857721 ⋯ 0.00000000 3.996389 3.851999 3.165108\n",
       "2 1.250962 2.38128337 3.2249664 ⋯ 0.00000000 2.422233 2.815575 3.200065\n",
       "3 2.733354 0.08406426 5.8831320 ⋯ 0.04264434 3.295723 3.781360 3.061776\n",
       "4 1.244887 3.13750352 0.4114262 ⋯ 0.02856915 3.471187 3.626439 4.144862\n",
       "5 2.680324 2.53106949 3.9221978 ⋯ 0.04264434 2.722466 3.962549 1.056584\n",
       "6 2.250962 2.80941444 4.6241009 ⋯ 0.00000000 3.684819 3.404631 2.843984\n",
       "  BRD3     MPDZ      ERCC6L2  FRRS1L     DPM2     SLC24A2   \n",
       "1 3.502076 0.0976108 3.190615 0.01435529 5.667041 0.02856915\n",
       "2 1.321928 2.1858665 2.563158 0.00000000 5.082788 0.00000000\n",
       "3 3.174726 1.1110313 5.655638 0.00000000 5.046578 0.04264434\n",
       "4 3.339137 3.3504972 3.818646 0.00000000 4.635174 0.13750352\n",
       "5 2.954196 0.0000000 3.615887 0.00000000 5.442943 0.00000000\n",
       "6 3.488001 0.0000000 4.244887 0.00000000 4.475085 0.00000000"
      ]
     },
     "metadata": {},
     "output_type": "display_data"
    }
   ],
   "source": [
    "#Split the expression dataset into these two chunks based upon if the samples have the SNP or not\n",
    "#Also filter the dataset so that it only includes the genes on chr9\n",
    "with.snp.chunk = depmap.expression %>% \n",
    "rename(\"sample\" = 1) %>%\n",
    "filter(sample %in% all_of(samples.with.snp)) %>%\n",
    "select(sample, all_of(genes.on.chr9)) %>%\n",
    "select(-sample)\n",
    "\n",
    "\n",
    "without.snp.chunk = depmap.expression %>%\n",
    "rename(\"sample\" = 1) %>%\n",
    "filter(sample %in% all_of(samples.without.snp)) %>%\n",
    "select(sample, all_of(genes.on.chr9)) %>%\n",
    "select(-sample)\n",
    "\n",
    "\n",
    "head(with.snp.chunk)\n",
    "head(without.snp.chunk)"
   ]
  },
  {
   "cell_type": "code",
   "execution_count": 49,
   "metadata": {},
   "outputs": [
    {
     "data": {
      "text/html": [
       "<table class=\"dataframe\">\n",
       "<caption>A data.frame: 20 × 7</caption>\n",
       "<thead>\n",
       "\t<tr><th></th><th scope=col>gene</th><th scope=col>pval</th><th scope=col>differential</th><th scope=col>fdr</th><th scope=col>chr</th><th scope=col>position</th><th scope=col>strand</th></tr>\n",
       "\t<tr><th></th><th scope=col>&lt;chr&gt;</th><th scope=col>&lt;chr&gt;</th><th scope=col>&lt;chr&gt;</th><th scope=col>&lt;dbl&gt;</th><th scope=col>&lt;chr&gt;</th><th scope=col>&lt;int&gt;</th><th scope=col>&lt;chr&gt;</th></tr>\n",
       "</thead>\n",
       "<tbody>\n",
       "\t<tr><th scope=row>1</th><td>CDKN2A  </td><td>1.32099330207663e-89</td><td>0</td><td>9.656461e-87</td><td>chr9</td><td> 21974827</td><td>-</td></tr>\n",
       "\t<tr><th scope=row>2</th><td>CDKN2B  </td><td>7.89238606248627e-54</td><td>0</td><td>2.884667e-51</td><td>chr9</td><td> 22009313</td><td>-</td></tr>\n",
       "\t<tr><th scope=row>3</th><td>MTAP    </td><td>1.17012654838137e-29</td><td>0</td><td>2.851208e-27</td><td>chr9</td><td> 21802636</td><td>+</td></tr>\n",
       "\t<tr><th scope=row>4</th><td>KLHL9   </td><td>2.8321403005231e-15 </td><td>0</td><td>5.175736e-13</td><td>chr9</td><td> 21335404</td><td>-</td></tr>\n",
       "\t<tr><th scope=row>5</th><td>ADAMTSL2</td><td>8.9317695357349e-11 </td><td>0</td><td>1.305825e-08</td><td>chr9</td><td>133534704</td><td>+</td></tr>\n",
       "\t<tr><th scope=row>6</th><td>ANXA1   </td><td>9.74927211688655e-10</td><td>0</td><td>1.187786e-07</td><td>chr9</td><td> 73151865</td><td>+</td></tr>\n",
       "\t<tr><th scope=row>7</th><td>CTSL    </td><td>1.56645062774473e-08</td><td>0</td><td>1.635822e-06</td><td>chr9</td><td> 87726119</td><td>+</td></tr>\n",
       "\t<tr><th scope=row>8</th><td>FOCAD   </td><td>1.81084176476105e-08</td><td>0</td><td>1.654657e-06</td><td>chr9</td><td> 20658309</td><td>+</td></tr>\n",
       "\t<tr><th scope=row>9</th><td>FAM163B </td><td>7.85400193236809e-08</td><td>0</td><td>6.379195e-06</td><td>chr9</td><td>133586119</td><td>-</td></tr>\n",
       "\t<tr><th scope=row>10</th><td>TXN     </td><td>1.64041567429344e-07</td><td>0</td><td>1.199144e-05</td><td>chr9</td><td>110256507</td><td>-</td></tr>\n",
       "\t<tr><th scope=row>11</th><td>GRIN3A  </td><td>2.07037304828218e-07</td><td>0</td><td>1.375857e-05</td><td>chr9</td><td>101738647</td><td>-</td></tr>\n",
       "\t<tr><th scope=row>12</th><td>MSANTD3 </td><td>2.31543142445797e-07</td><td>0</td><td>1.410484e-05</td><td>chr9</td><td>100427213</td><td>+</td></tr>\n",
       "\t<tr><th scope=row>13</th><td>CNTFR   </td><td>3.22857875016157e-07</td><td>0</td><td>1.543834e-05</td><td>chr9</td><td> 34590140</td><td>-</td></tr>\n",
       "\t<tr><th scope=row>14</th><td>CCDC187 </td><td>3.18940374312511e-07</td><td>0</td><td>1.543834e-05</td><td>chr9</td><td>136306901</td><td>-</td></tr>\n",
       "\t<tr><th scope=row>15</th><td>LCN15   </td><td>3.37911655407888e-07</td><td>0</td><td>1.543834e-05</td><td>chr9</td><td>136764518</td><td>-</td></tr>\n",
       "\t<tr><th scope=row>16</th><td>OLFML2A </td><td>3.05413578143356e-07</td><td>0</td><td>1.543834e-05</td><td>chr9</td><td>124800874</td><td>+</td></tr>\n",
       "\t<tr><th scope=row>17</th><td>COL27A1 </td><td>3.61277396437e-07   </td><td>0</td><td>1.553493e-05</td><td>chr9</td><td>114155537</td><td>+</td></tr>\n",
       "\t<tr><th scope=row>18</th><td>FRRS1L  </td><td>3.85836424048762e-07</td><td>0</td><td>1.566925e-05</td><td>chr9</td><td>109167249</td><td>-</td></tr>\n",
       "\t<tr><th scope=row>19</th><td>PLAA    </td><td>4.09053105410764e-07</td><td>0</td><td>1.573778e-05</td><td>chr9</td><td> 26947473</td><td>-</td></tr>\n",
       "\t<tr><th scope=row>20</th><td>S1PR3   </td><td>1.00082199428922e-06</td><td>0</td><td>3.658004e-05</td><td>chr9</td><td> 88991468</td><td>+</td></tr>\n",
       "</tbody>\n",
       "</table>\n"
      ],
      "text/latex": [
       "A data.frame: 20 × 7\n",
       "\\begin{tabular}{r|lllllll}\n",
       "  & gene & pval & differential & fdr & chr & position & strand\\\\\n",
       "  & <chr> & <chr> & <chr> & <dbl> & <chr> & <int> & <chr>\\\\\n",
       "\\hline\n",
       "\t1 & CDKN2A   & 1.32099330207663e-89 & 0 & 9.656461e-87 & chr9 &  21974827 & -\\\\\n",
       "\t2 & CDKN2B   & 7.89238606248627e-54 & 0 & 2.884667e-51 & chr9 &  22009313 & -\\\\\n",
       "\t3 & MTAP     & 1.17012654838137e-29 & 0 & 2.851208e-27 & chr9 &  21802636 & +\\\\\n",
       "\t4 & KLHL9    & 2.8321403005231e-15  & 0 & 5.175736e-13 & chr9 &  21335404 & -\\\\\n",
       "\t5 & ADAMTSL2 & 8.9317695357349e-11  & 0 & 1.305825e-08 & chr9 & 133534704 & +\\\\\n",
       "\t6 & ANXA1    & 9.74927211688655e-10 & 0 & 1.187786e-07 & chr9 &  73151865 & +\\\\\n",
       "\t7 & CTSL     & 1.56645062774473e-08 & 0 & 1.635822e-06 & chr9 &  87726119 & +\\\\\n",
       "\t8 & FOCAD    & 1.81084176476105e-08 & 0 & 1.654657e-06 & chr9 &  20658309 & +\\\\\n",
       "\t9 & FAM163B  & 7.85400193236809e-08 & 0 & 6.379195e-06 & chr9 & 133586119 & -\\\\\n",
       "\t10 & TXN      & 1.64041567429344e-07 & 0 & 1.199144e-05 & chr9 & 110256507 & -\\\\\n",
       "\t11 & GRIN3A   & 2.07037304828218e-07 & 0 & 1.375857e-05 & chr9 & 101738647 & -\\\\\n",
       "\t12 & MSANTD3  & 2.31543142445797e-07 & 0 & 1.410484e-05 & chr9 & 100427213 & +\\\\\n",
       "\t13 & CNTFR    & 3.22857875016157e-07 & 0 & 1.543834e-05 & chr9 &  34590140 & -\\\\\n",
       "\t14 & CCDC187  & 3.18940374312511e-07 & 0 & 1.543834e-05 & chr9 & 136306901 & -\\\\\n",
       "\t15 & LCN15    & 3.37911655407888e-07 & 0 & 1.543834e-05 & chr9 & 136764518 & -\\\\\n",
       "\t16 & OLFML2A  & 3.05413578143356e-07 & 0 & 1.543834e-05 & chr9 & 124800874 & +\\\\\n",
       "\t17 & COL27A1  & 3.61277396437e-07    & 0 & 1.553493e-05 & chr9 & 114155537 & +\\\\\n",
       "\t18 & FRRS1L   & 3.85836424048762e-07 & 0 & 1.566925e-05 & chr9 & 109167249 & -\\\\\n",
       "\t19 & PLAA     & 4.09053105410764e-07 & 0 & 1.573778e-05 & chr9 &  26947473 & -\\\\\n",
       "\t20 & S1PR3    & 1.00082199428922e-06 & 0 & 3.658004e-05 & chr9 &  88991468 & +\\\\\n",
       "\\end{tabular}\n"
      ],
      "text/markdown": [
       "\n",
       "A data.frame: 20 × 7\n",
       "\n",
       "| <!--/--> | gene &lt;chr&gt; | pval &lt;chr&gt; | differential &lt;chr&gt; | fdr &lt;dbl&gt; | chr &lt;chr&gt; | position &lt;int&gt; | strand &lt;chr&gt; |\n",
       "|---|---|---|---|---|---|---|---|\n",
       "| 1 | CDKN2A   | 1.32099330207663e-89 | 0 | 9.656461e-87 | chr9 |  21974827 | - |\n",
       "| 2 | CDKN2B   | 7.89238606248627e-54 | 0 | 2.884667e-51 | chr9 |  22009313 | - |\n",
       "| 3 | MTAP     | 1.17012654838137e-29 | 0 | 2.851208e-27 | chr9 |  21802636 | + |\n",
       "| 4 | KLHL9    | 2.8321403005231e-15  | 0 | 5.175736e-13 | chr9 |  21335404 | - |\n",
       "| 5 | ADAMTSL2 | 8.9317695357349e-11  | 0 | 1.305825e-08 | chr9 | 133534704 | + |\n",
       "| 6 | ANXA1    | 9.74927211688655e-10 | 0 | 1.187786e-07 | chr9 |  73151865 | + |\n",
       "| 7 | CTSL     | 1.56645062774473e-08 | 0 | 1.635822e-06 | chr9 |  87726119 | + |\n",
       "| 8 | FOCAD    | 1.81084176476105e-08 | 0 | 1.654657e-06 | chr9 |  20658309 | + |\n",
       "| 9 | FAM163B  | 7.85400193236809e-08 | 0 | 6.379195e-06 | chr9 | 133586119 | - |\n",
       "| 10 | TXN      | 1.64041567429344e-07 | 0 | 1.199144e-05 | chr9 | 110256507 | - |\n",
       "| 11 | GRIN3A   | 2.07037304828218e-07 | 0 | 1.375857e-05 | chr9 | 101738647 | - |\n",
       "| 12 | MSANTD3  | 2.31543142445797e-07 | 0 | 1.410484e-05 | chr9 | 100427213 | + |\n",
       "| 13 | CNTFR    | 3.22857875016157e-07 | 0 | 1.543834e-05 | chr9 |  34590140 | - |\n",
       "| 14 | CCDC187  | 3.18940374312511e-07 | 0 | 1.543834e-05 | chr9 | 136306901 | - |\n",
       "| 15 | LCN15    | 3.37911655407888e-07 | 0 | 1.543834e-05 | chr9 | 136764518 | - |\n",
       "| 16 | OLFML2A  | 3.05413578143356e-07 | 0 | 1.543834e-05 | chr9 | 124800874 | + |\n",
       "| 17 | COL27A1  | 3.61277396437e-07    | 0 | 1.553493e-05 | chr9 | 114155537 | + |\n",
       "| 18 | FRRS1L   | 3.85836424048762e-07 | 0 | 1.566925e-05 | chr9 | 109167249 | - |\n",
       "| 19 | PLAA     | 4.09053105410764e-07 | 0 | 1.573778e-05 | chr9 |  26947473 | - |\n",
       "| 20 | S1PR3    | 1.00082199428922e-06 | 0 | 3.658004e-05 | chr9 |  88991468 | + |\n",
       "\n"
      ],
      "text/plain": [
       "   gene     pval                 differential fdr          chr  position \n",
       "1  CDKN2A   1.32099330207663e-89 0            9.656461e-87 chr9  21974827\n",
       "2  CDKN2B   7.89238606248627e-54 0            2.884667e-51 chr9  22009313\n",
       "3  MTAP     1.17012654838137e-29 0            2.851208e-27 chr9  21802636\n",
       "4  KLHL9    2.8321403005231e-15  0            5.175736e-13 chr9  21335404\n",
       "5  ADAMTSL2 8.9317695357349e-11  0            1.305825e-08 chr9 133534704\n",
       "6  ANXA1    9.74927211688655e-10 0            1.187786e-07 chr9  73151865\n",
       "7  CTSL     1.56645062774473e-08 0            1.635822e-06 chr9  87726119\n",
       "8  FOCAD    1.81084176476105e-08 0            1.654657e-06 chr9  20658309\n",
       "9  FAM163B  7.85400193236809e-08 0            6.379195e-06 chr9 133586119\n",
       "10 TXN      1.64041567429344e-07 0            1.199144e-05 chr9 110256507\n",
       "11 GRIN3A   2.07037304828218e-07 0            1.375857e-05 chr9 101738647\n",
       "12 MSANTD3  2.31543142445797e-07 0            1.410484e-05 chr9 100427213\n",
       "13 CNTFR    3.22857875016157e-07 0            1.543834e-05 chr9  34590140\n",
       "14 CCDC187  3.18940374312511e-07 0            1.543834e-05 chr9 136306901\n",
       "15 LCN15    3.37911655407888e-07 0            1.543834e-05 chr9 136764518\n",
       "16 OLFML2A  3.05413578143356e-07 0            1.543834e-05 chr9 124800874\n",
       "17 COL27A1  3.61277396437e-07    0            1.553493e-05 chr9 114155537\n",
       "18 FRRS1L   3.85836424048762e-07 0            1.566925e-05 chr9 109167249\n",
       "19 PLAA     4.09053105410764e-07 0            1.573778e-05 chr9  26947473\n",
       "20 S1PR3    1.00082199428922e-06 0            3.658004e-05 chr9  88991468\n",
       "   strand\n",
       "1  -     \n",
       "2  -     \n",
       "3  +     \n",
       "4  -     \n",
       "5  +     \n",
       "6  +     \n",
       "7  +     \n",
       "8  +     \n",
       "9  -     \n",
       "10 -     \n",
       "11 -     \n",
       "12 +     \n",
       "13 -     \n",
       "14 -     \n",
       "15 -     \n",
       "16 +     \n",
       "17 +     \n",
       "18 -     \n",
       "19 -     \n",
       "20 +     "
      ]
     },
     "metadata": {},
     "output_type": "display_data"
    }
   ],
   "source": [
    "#Now loop through both data frames and calculate the median difference and the p-value\n",
    "chr9.pval.vector = NULL\n",
    "chr9.differential.vector = NULL\n",
    "for(i in 1:ncol(with.snp.chunk)){\n",
    "    \n",
    "    #extract the two vectors\n",
    "    snp.expression.vector = with.snp.chunk %>% pull(i)\n",
    "    without.snp.expression.vector =  without.snp.chunk %>% pull(i)\n",
    "    \n",
    "    #calculate the p-value\n",
    "    pval = t.test(snp.expression.vector, without.snp.expression.vector)$p.value\n",
    "    \n",
    "    #calculate the differential\n",
    "    snp.median = median(snp.expression.vector)\n",
    "    without.snp.median = median(without.snp.expression.vector)\n",
    "    median.differential = snp.median - without.snp.median\n",
    "    \n",
    "    #Add the data outside of the loop\n",
    "    chr9.pval.vector[i] = pval\n",
    "    chr9.differential.vector = median.differential\n",
    "    \n",
    "}\n",
    "\n",
    "\n",
    "#assemble the output dataframe\n",
    "snp.differential.df = cbind(names(with.snp.chunk), chr9.pval.vector, chr9.differential.vector) %>%\n",
    "data.frame() %>%\n",
    "rename(\"gene\" = 1, \"pval\" = 2, \"differential\" = 3) %>%\n",
    "mutate(fdr = p.adjust(pval, method = \"BH\", n = length(pval))) %>%\n",
    "arrange(fdr) %>%\n",
    "inner_join(refgene, by = \"gene\")\n",
    "\n",
    "head(snp.differential.df, n = 20)"
   ]
  },
  {
   "cell_type": "code",
   "execution_count": 65,
   "metadata": {},
   "outputs": [
    {
     "data": {
      "image/png": "[encoded data removed]",
      "text/plain": [
       "plot without title"
      ]
     },
     "metadata": {
      "image/png": {
       "height": 420,
       "width": 420
      }
     },
     "output_type": "display_data"
    }
   ],
   "source": [
    "#Plot the p-value as a function of distance from CDKN2A\n",
    "snp.differential.df %>%\n",
    "ggplot() +\n",
    "geom_point(aes(x = position, y = -log10(fdr))) +\n",
    "theme_bw() +\n",
    "\n",
    "theme(\n",
    "panel.border = element_blank(), \n",
    "panel.grid.major = element_blank(),\n",
    "panel.grid.minor = element_blank(), \n",
    "axis.line = element_line(color = \"black\")\n",
    ") +\n",
    "\n",
    "theme(\n",
    "axis.text.x = element_text(face=\"bold\", size=14),\n",
    "axis.text.y = element_text(face=\"bold\", size=14)\n",
    ") +\n",
    "\n",
    "theme(\n",
    "panel.border = element_blank(), panel.grid.major = element_blank(),\n",
    "panel.grid.minor = element_blank(), axis.line = element_line(color = \"black\")\n",
    ") +\n",
    "\n",
    "theme(\n",
    "axis.title.x = element_text(color = \"black\", size = 20, face = \"bold\"),\n",
    "axis.title.y = element_text(color = \"black\", size = 20, face = \"bold\")\n",
    ") +\n",
    "\n",
    "theme(\n",
    "axis.text=element_text(size = 14, face = \"bold\"),\n",
    ") +\n",
    "\n",
    "theme(\n",
    "legend.title = element_text(size = 14, face = \"bold\"),\n",
    "legend.text = element_text(size = 10, face = \"bold\")\n",
    ") +\n",
    "\n",
    "scale_y_continuous(expand = c(0,0)) +\n",
    "scale_x_continuous(expand = c(0,0)) \n",
    "\n",
    "setwd('/home/jupyter/Ancestry/analysis/are_dqtls_eqtls')\n",
    "ggsave(\"pval_by_chr9_location.pdf\", width = 5, height = 3)\n",
    "system(glue::glue(\"\n",
    "cd /home/jupyter/Ancestry/figures\n",
    "gsutil cp /home/jupyter/Ancestry/analysis/are_dqtls_eqtls/pval_by_chr9_location.pdf gs://fc-45c0e148-0b1c-4244-9bfc-feb559bbc514\n",
    "\"))"
   ]
  },
  {
   "cell_type": "markdown",
   "metadata": {},
   "source": [
    "It's interesting, all of the most significant associations are in very close proximity to that gene. And why is that one SNP associated with expression of multiple genes?\n",
    "\n",
    "A biological reason is that this SNP is messing with a TAD?\n",
    "\n",
    "The most likely reason is that this SNP is a CNV artifact. Let's test if this SNP is associated with copy loss at CDKN2A locus."
   ]
  },
  {
   "cell_type": "code",
   "execution_count": 53,
   "metadata": {},
   "outputs": [
    {
     "data": {
      "text/html": [
       "<table class=\"dataframe\">\n",
       "<caption>A data.frame: 6 × 25369</caption>\n",
       "<thead>\n",
       "\t<tr><th></th><th scope=col></th><th scope=col>DDX11L1</th><th scope=col>WASH7P</th><th scope=col>MIR6859-1</th><th scope=col>MIR1302-2</th><th scope=col>FAM138A</th><th scope=col>OR4F5</th><th scope=col>WASH9P</th><th scope=col>MIR6859-2</th><th scope=col>OR4F29</th><th scope=col>⋯</th><th scope=col>TTTY17B</th><th scope=col>TTTY4B</th><th scope=col>BPY2B</th><th scope=col>DAZ3</th><th scope=col>DAZ4</th><th scope=col>BPY2C</th><th scope=col>TTTY4C</th><th scope=col>CSPG4P1Y</th><th scope=col>CDY1</th><th scope=col>TTTY3</th></tr>\n",
       "\t<tr><th></th><th scope=col>&lt;chr&gt;</th><th scope=col>&lt;dbl&gt;</th><th scope=col>&lt;dbl&gt;</th><th scope=col>&lt;dbl&gt;</th><th scope=col>&lt;dbl&gt;</th><th scope=col>&lt;dbl&gt;</th><th scope=col>&lt;dbl&gt;</th><th scope=col>&lt;dbl&gt;</th><th scope=col>&lt;dbl&gt;</th><th scope=col>&lt;dbl&gt;</th><th scope=col>⋯</th><th scope=col>&lt;dbl&gt;</th><th scope=col>&lt;dbl&gt;</th><th scope=col>&lt;dbl&gt;</th><th scope=col>&lt;dbl&gt;</th><th scope=col>&lt;dbl&gt;</th><th scope=col>&lt;dbl&gt;</th><th scope=col>&lt;dbl&gt;</th><th scope=col>&lt;dbl&gt;</th><th scope=col>&lt;dbl&gt;</th><th scope=col>&lt;dbl&gt;</th></tr>\n",
       "</thead>\n",
       "<tbody>\n",
       "\t<tr><th scope=row>1</th><td>ACH-001533</td><td>1.0161256</td><td>1.0161256</td><td>1.0161256</td><td>1.0161256</td><td>1.0161256</td><td>1.0161256</td><td>1.0161256</td><td>1.0161256</td><td>1.0161256</td><td>⋯</td><td>6.108848e-01</td><td>6.108848e-01</td><td>6.108848e-01</td><td>6.108848e-01</td><td>6.108848e-01</td><td>6.108848e-01</td><td>6.108848e-01</td><td>6.108848e-01</td><td>6.108848e-01</td><td>6.108848e-01</td></tr>\n",
       "\t<tr><th scope=row>2</th><td>ACH-000934</td><td>0.8551505</td><td>0.8551505</td><td>0.8551505</td><td>0.8551505</td><td>0.8551505</td><td>0.8551505</td><td>0.8551505</td><td>0.8551505</td><td>0.8551505</td><td>⋯</td><td>6.045011e-02</td><td>2.473427e-08</td><td>2.473427e-08</td><td>2.473427e-08</td><td>2.473427e-08</td><td>2.473427e-08</td><td>2.473427e-08</td><td>2.473427e-08</td><td>2.473427e-08</td><td>2.473427e-08</td></tr>\n",
       "\t<tr><th scope=row>3</th><td>ACH-000653</td><td>1.0679432</td><td>1.0679432</td><td>1.0679432</td><td>1.0679432</td><td>1.0679432</td><td>1.0679432</td><td>1.0679432</td><td>1.0679432</td><td>1.0679432</td><td>⋯</td><td>8.668152e-10</td><td>8.668152e-10</td><td>8.668152e-10</td><td>8.668152e-10</td><td>8.668152e-10</td><td>8.668152e-10</td><td>8.668152e-10</td><td>8.668152e-10</td><td>8.668152e-10</td><td>8.668152e-10</td></tr>\n",
       "\t<tr><th scope=row>4</th><td>ACH-001497</td><td>1.0392236</td><td>1.0392236</td><td>1.0392236</td><td>1.0392236</td><td>1.0392236</td><td>1.0392236</td><td>1.0392236</td><td>1.0392236</td><td>1.0392236</td><td>⋯</td><td>7.805491e-10</td><td>7.805491e-10</td><td>7.805491e-10</td><td>7.805491e-10</td><td>7.805491e-10</td><td>7.805491e-10</td><td>7.805491e-10</td><td>7.805491e-10</td><td>7.805491e-10</td><td>7.805491e-10</td></tr>\n",
       "\t<tr><th scope=row>5</th><td>ACH-000888</td><td>0.7012708</td><td>0.7012708</td><td>0.7012708</td><td>0.7012708</td><td>0.7012708</td><td>0.7012708</td><td>0.7012708</td><td>0.7012708</td><td>0.7012708</td><td>⋯</td><td>4.548009e-09</td><td>4.548009e-09</td><td>4.548009e-09</td><td>4.548009e-09</td><td>4.548009e-09</td><td>4.548009e-09</td><td>4.548009e-09</td><td>4.548009e-09</td><td>4.548009e-09</td><td>4.548009e-09</td></tr>\n",
       "\t<tr><th scope=row>6</th><td>ACH-000433</td><td>0.9817134</td><td>0.9817134</td><td>0.9817134</td><td>0.9817134</td><td>0.9817134</td><td>0.9817134</td><td>0.9817134</td><td>0.9817134</td><td>0.9817134</td><td>⋯</td><td>5.648721e-09</td><td>5.648721e-09</td><td>5.648721e-09</td><td>5.648721e-09</td><td>5.648721e-09</td><td>5.648721e-09</td><td>5.648721e-09</td><td>5.648721e-09</td><td>5.648721e-09</td><td>5.648721e-09</td></tr>\n",
       "</tbody>\n",
       "</table>\n"
      ],
      "text/latex": [
       "A data.frame: 6 × 25369\n",
       "\\begin{tabular}{r|lllllllllllllllllllll}\n",
       "  &  & DDX11L1 & WASH7P & MIR6859-1 & MIR1302-2 & FAM138A & OR4F5 & WASH9P & MIR6859-2 & OR4F29 & ⋯ & TTTY17B & TTTY4B & BPY2B & DAZ3 & DAZ4 & BPY2C & TTTY4C & CSPG4P1Y & CDY1 & TTTY3\\\\\n",
       "  & <chr> & <dbl> & <dbl> & <dbl> & <dbl> & <dbl> & <dbl> & <dbl> & <dbl> & <dbl> & ⋯ & <dbl> & <dbl> & <dbl> & <dbl> & <dbl> & <dbl> & <dbl> & <dbl> & <dbl> & <dbl>\\\\\n",
       "\\hline\n",
       "\t1 & ACH-001533 & 1.0161256 & 1.0161256 & 1.0161256 & 1.0161256 & 1.0161256 & 1.0161256 & 1.0161256 & 1.0161256 & 1.0161256 & ⋯ & 6.108848e-01 & 6.108848e-01 & 6.108848e-01 & 6.108848e-01 & 6.108848e-01 & 6.108848e-01 & 6.108848e-01 & 6.108848e-01 & 6.108848e-01 & 6.108848e-01\\\\\n",
       "\t2 & ACH-000934 & 0.8551505 & 0.8551505 & 0.8551505 & 0.8551505 & 0.8551505 & 0.8551505 & 0.8551505 & 0.8551505 & 0.8551505 & ⋯ & 6.045011e-02 & 2.473427e-08 & 2.473427e-08 & 2.473427e-08 & 2.473427e-08 & 2.473427e-08 & 2.473427e-08 & 2.473427e-08 & 2.473427e-08 & 2.473427e-08\\\\\n",
       "\t3 & ACH-000653 & 1.0679432 & 1.0679432 & 1.0679432 & 1.0679432 & 1.0679432 & 1.0679432 & 1.0679432 & 1.0679432 & 1.0679432 & ⋯ & 8.668152e-10 & 8.668152e-10 & 8.668152e-10 & 8.668152e-10 & 8.668152e-10 & 8.668152e-10 & 8.668152e-10 & 8.668152e-10 & 8.668152e-10 & 8.668152e-10\\\\\n",
       "\t4 & ACH-001497 & 1.0392236 & 1.0392236 & 1.0392236 & 1.0392236 & 1.0392236 & 1.0392236 & 1.0392236 & 1.0392236 & 1.0392236 & ⋯ & 7.805491e-10 & 7.805491e-10 & 7.805491e-10 & 7.805491e-10 & 7.805491e-10 & 7.805491e-10 & 7.805491e-10 & 7.805491e-10 & 7.805491e-10 & 7.805491e-10\\\\\n",
       "\t5 & ACH-000888 & 0.7012708 & 0.7012708 & 0.7012708 & 0.7012708 & 0.7012708 & 0.7012708 & 0.7012708 & 0.7012708 & 0.7012708 & ⋯ & 4.548009e-09 & 4.548009e-09 & 4.548009e-09 & 4.548009e-09 & 4.548009e-09 & 4.548009e-09 & 4.548009e-09 & 4.548009e-09 & 4.548009e-09 & 4.548009e-09\\\\\n",
       "\t6 & ACH-000433 & 0.9817134 & 0.9817134 & 0.9817134 & 0.9817134 & 0.9817134 & 0.9817134 & 0.9817134 & 0.9817134 & 0.9817134 & ⋯ & 5.648721e-09 & 5.648721e-09 & 5.648721e-09 & 5.648721e-09 & 5.648721e-09 & 5.648721e-09 & 5.648721e-09 & 5.648721e-09 & 5.648721e-09 & 5.648721e-09\\\\\n",
       "\\end{tabular}\n"
      ],
      "text/markdown": [
       "\n",
       "A data.frame: 6 × 25369\n",
       "\n",
       "| <!--/--> | <!----> &lt;chr&gt; | DDX11L1 &lt;dbl&gt; | WASH7P &lt;dbl&gt; | MIR6859-1 &lt;dbl&gt; | MIR1302-2 &lt;dbl&gt; | FAM138A &lt;dbl&gt; | OR4F5 &lt;dbl&gt; | WASH9P &lt;dbl&gt; | MIR6859-2 &lt;dbl&gt; | OR4F29 &lt;dbl&gt; | ⋯ ⋯ | TTTY17B &lt;dbl&gt; | TTTY4B &lt;dbl&gt; | BPY2B &lt;dbl&gt; | DAZ3 &lt;dbl&gt; | DAZ4 &lt;dbl&gt; | BPY2C &lt;dbl&gt; | TTTY4C &lt;dbl&gt; | CSPG4P1Y &lt;dbl&gt; | CDY1 &lt;dbl&gt; | TTTY3 &lt;dbl&gt; |\n",
       "|---|---|---|---|---|---|---|---|---|---|---|---|---|---|---|---|---|---|---|---|---|---|\n",
       "| 1 | ACH-001533 | 1.0161256 | 1.0161256 | 1.0161256 | 1.0161256 | 1.0161256 | 1.0161256 | 1.0161256 | 1.0161256 | 1.0161256 | ⋯ | 6.108848e-01 | 6.108848e-01 | 6.108848e-01 | 6.108848e-01 | 6.108848e-01 | 6.108848e-01 | 6.108848e-01 | 6.108848e-01 | 6.108848e-01 | 6.108848e-01 |\n",
       "| 2 | ACH-000934 | 0.8551505 | 0.8551505 | 0.8551505 | 0.8551505 | 0.8551505 | 0.8551505 | 0.8551505 | 0.8551505 | 0.8551505 | ⋯ | 6.045011e-02 | 2.473427e-08 | 2.473427e-08 | 2.473427e-08 | 2.473427e-08 | 2.473427e-08 | 2.473427e-08 | 2.473427e-08 | 2.473427e-08 | 2.473427e-08 |\n",
       "| 3 | ACH-000653 | 1.0679432 | 1.0679432 | 1.0679432 | 1.0679432 | 1.0679432 | 1.0679432 | 1.0679432 | 1.0679432 | 1.0679432 | ⋯ | 8.668152e-10 | 8.668152e-10 | 8.668152e-10 | 8.668152e-10 | 8.668152e-10 | 8.668152e-10 | 8.668152e-10 | 8.668152e-10 | 8.668152e-10 | 8.668152e-10 |\n",
       "| 4 | ACH-001497 | 1.0392236 | 1.0392236 | 1.0392236 | 1.0392236 | 1.0392236 | 1.0392236 | 1.0392236 | 1.0392236 | 1.0392236 | ⋯ | 7.805491e-10 | 7.805491e-10 | 7.805491e-10 | 7.805491e-10 | 7.805491e-10 | 7.805491e-10 | 7.805491e-10 | 7.805491e-10 | 7.805491e-10 | 7.805491e-10 |\n",
       "| 5 | ACH-000888 | 0.7012708 | 0.7012708 | 0.7012708 | 0.7012708 | 0.7012708 | 0.7012708 | 0.7012708 | 0.7012708 | 0.7012708 | ⋯ | 4.548009e-09 | 4.548009e-09 | 4.548009e-09 | 4.548009e-09 | 4.548009e-09 | 4.548009e-09 | 4.548009e-09 | 4.548009e-09 | 4.548009e-09 | 4.548009e-09 |\n",
       "| 6 | ACH-000433 | 0.9817134 | 0.9817134 | 0.9817134 | 0.9817134 | 0.9817134 | 0.9817134 | 0.9817134 | 0.9817134 | 0.9817134 | ⋯ | 5.648721e-09 | 5.648721e-09 | 5.648721e-09 | 5.648721e-09 | 5.648721e-09 | 5.648721e-09 | 5.648721e-09 | 5.648721e-09 | 5.648721e-09 | 5.648721e-09 |\n",
       "\n"
      ],
      "text/plain": [
       "             DDX11L1   WASH7P    MIR6859-1 MIR1302-2 FAM138A   OR4F5    \n",
       "1 ACH-001533 1.0161256 1.0161256 1.0161256 1.0161256 1.0161256 1.0161256\n",
       "2 ACH-000934 0.8551505 0.8551505 0.8551505 0.8551505 0.8551505 0.8551505\n",
       "3 ACH-000653 1.0679432 1.0679432 1.0679432 1.0679432 1.0679432 1.0679432\n",
       "4 ACH-001497 1.0392236 1.0392236 1.0392236 1.0392236 1.0392236 1.0392236\n",
       "5 ACH-000888 0.7012708 0.7012708 0.7012708 0.7012708 0.7012708 0.7012708\n",
       "6 ACH-000433 0.9817134 0.9817134 0.9817134 0.9817134 0.9817134 0.9817134\n",
       "  WASH9P    MIR6859-2 OR4F29    ⋯ TTTY17B      TTTY4B       BPY2B       \n",
       "1 1.0161256 1.0161256 1.0161256 ⋯ 6.108848e-01 6.108848e-01 6.108848e-01\n",
       "2 0.8551505 0.8551505 0.8551505 ⋯ 6.045011e-02 2.473427e-08 2.473427e-08\n",
       "3 1.0679432 1.0679432 1.0679432 ⋯ 8.668152e-10 8.668152e-10 8.668152e-10\n",
       "4 1.0392236 1.0392236 1.0392236 ⋯ 7.805491e-10 7.805491e-10 7.805491e-10\n",
       "5 0.7012708 0.7012708 0.7012708 ⋯ 4.548009e-09 4.548009e-09 4.548009e-09\n",
       "6 0.9817134 0.9817134 0.9817134 ⋯ 5.648721e-09 5.648721e-09 5.648721e-09\n",
       "  DAZ3         DAZ4         BPY2C        TTTY4C       CSPG4P1Y     CDY1        \n",
       "1 6.108848e-01 6.108848e-01 6.108848e-01 6.108848e-01 6.108848e-01 6.108848e-01\n",
       "2 2.473427e-08 2.473427e-08 2.473427e-08 2.473427e-08 2.473427e-08 2.473427e-08\n",
       "3 8.668152e-10 8.668152e-10 8.668152e-10 8.668152e-10 8.668152e-10 8.668152e-10\n",
       "4 7.805491e-10 7.805491e-10 7.805491e-10 7.805491e-10 7.805491e-10 7.805491e-10\n",
       "5 4.548009e-09 4.548009e-09 4.548009e-09 4.548009e-09 4.548009e-09 4.548009e-09\n",
       "6 5.648721e-09 5.648721e-09 5.648721e-09 5.648721e-09 5.648721e-09 5.648721e-09\n",
       "  TTTY3       \n",
       "1 6.108848e-01\n",
       "2 2.473427e-08\n",
       "3 8.668152e-10\n",
       "4 7.805491e-10\n",
       "5 4.548009e-09\n",
       "6 5.648721e-09"
      ]
     },
     "metadata": {},
     "output_type": "display_data"
    }
   ],
   "source": [
    "#Load in the gene-level CN data\n",
    "setwd(\"/home/jupyter/Ancestry/analysis/are_dqtls_eqtls\")\n",
    "depmap.cn = read.table(\"CCLE_gene_cn.csv\", sep = \",\", header = T, check.names = FALSE) %>%\n",
    "setNames(word(names(.), 1))\n",
    "\n",
    "head(depmap.cn)"
   ]
  },
  {
   "cell_type": "code",
   "execution_count": 59,
   "metadata": {},
   "outputs": [
    {
     "data": {
      "text/html": [
       "<table class=\"dataframe\">\n",
       "<caption>A data.frame: 6 × 2</caption>\n",
       "<thead>\n",
       "\t<tr><th></th><th scope=col>sample</th><th scope=col>CDKN2B</th></tr>\n",
       "\t<tr><th></th><th scope=col>&lt;chr&gt;</th><th scope=col>&lt;dbl&gt;</th></tr>\n",
       "</thead>\n",
       "<tbody>\n",
       "\t<tr><th scope=row>1</th><td>ACH-001533</td><td>9.619635e-01</td></tr>\n",
       "\t<tr><th scope=row>2</th><td>ACH-000934</td><td>4.137646e-01</td></tr>\n",
       "\t<tr><th scope=row>3</th><td>ACH-000653</td><td>8.212975e-01</td></tr>\n",
       "\t<tr><th scope=row>4</th><td>ACH-001497</td><td>7.813944e-01</td></tr>\n",
       "\t<tr><th scope=row>5</th><td>ACH-000888</td><td>9.861957e-01</td></tr>\n",
       "\t<tr><th scope=row>6</th><td>ACH-000433</td><td>1.391660e-09</td></tr>\n",
       "</tbody>\n",
       "</table>\n"
      ],
      "text/latex": [
       "A data.frame: 6 × 2\n",
       "\\begin{tabular}{r|ll}\n",
       "  & sample & CDKN2B\\\\\n",
       "  & <chr> & <dbl>\\\\\n",
       "\\hline\n",
       "\t1 & ACH-001533 & 9.619635e-01\\\\\n",
       "\t2 & ACH-000934 & 4.137646e-01\\\\\n",
       "\t3 & ACH-000653 & 8.212975e-01\\\\\n",
       "\t4 & ACH-001497 & 7.813944e-01\\\\\n",
       "\t5 & ACH-000888 & 9.861957e-01\\\\\n",
       "\t6 & ACH-000433 & 1.391660e-09\\\\\n",
       "\\end{tabular}\n"
      ],
      "text/markdown": [
       "\n",
       "A data.frame: 6 × 2\n",
       "\n",
       "| <!--/--> | sample &lt;chr&gt; | CDKN2B &lt;dbl&gt; |\n",
       "|---|---|---|\n",
       "| 1 | ACH-001533 | 9.619635e-01 |\n",
       "| 2 | ACH-000934 | 4.137646e-01 |\n",
       "| 3 | ACH-000653 | 8.212975e-01 |\n",
       "| 4 | ACH-001497 | 7.813944e-01 |\n",
       "| 5 | ACH-000888 | 9.861957e-01 |\n",
       "| 6 | ACH-000433 | 1.391660e-09 |\n",
       "\n"
      ],
      "text/plain": [
       "  sample     CDKN2B      \n",
       "1 ACH-001533 9.619635e-01\n",
       "2 ACH-000934 4.137646e-01\n",
       "3 ACH-000653 8.212975e-01\n",
       "4 ACH-001497 7.813944e-01\n",
       "5 ACH-000888 9.861957e-01\n",
       "6 ACH-000433 1.391660e-09"
      ]
     },
     "metadata": {},
     "output_type": "display_data"
    },
    {
     "data": {
      "text/html": [
       "<table class=\"dataframe\">\n",
       "<caption>A data.frame: 6 × 2</caption>\n",
       "<thead>\n",
       "\t<tr><th></th><th scope=col>sample</th><th scope=col>snp.call</th></tr>\n",
       "\t<tr><th></th><th scope=col>&lt;chr&gt;</th><th scope=col>&lt;chr&gt;</th></tr>\n",
       "</thead>\n",
       "<tbody>\n",
       "\t<tr><th scope=row>ACH-000657</th><td>ACH-000657</td><td>0</td></tr>\n",
       "\t<tr><th scope=row>ACH-000617</th><td>ACH-000617</td><td>0</td></tr>\n",
       "\t<tr><th scope=row>ACH-000685</th><td>ACH-000685</td><td>0</td></tr>\n",
       "\t<tr><th scope=row>ACH-000632</th><td>ACH-000632</td><td>0</td></tr>\n",
       "\t<tr><th scope=row>ACH-000171</th><td>ACH-000171</td><td>1</td></tr>\n",
       "\t<tr><th scope=row>ACH-000863</th><td>ACH-000863</td><td>1</td></tr>\n",
       "</tbody>\n",
       "</table>\n"
      ],
      "text/latex": [
       "A data.frame: 6 × 2\n",
       "\\begin{tabular}{r|ll}\n",
       "  & sample & snp.call\\\\\n",
       "  & <chr> & <chr>\\\\\n",
       "\\hline\n",
       "\tACH-000657 & ACH-000657 & 0\\\\\n",
       "\tACH-000617 & ACH-000617 & 0\\\\\n",
       "\tACH-000685 & ACH-000685 & 0\\\\\n",
       "\tACH-000632 & ACH-000632 & 0\\\\\n",
       "\tACH-000171 & ACH-000171 & 1\\\\\n",
       "\tACH-000863 & ACH-000863 & 1\\\\\n",
       "\\end{tabular}\n"
      ],
      "text/markdown": [
       "\n",
       "A data.frame: 6 × 2\n",
       "\n",
       "| <!--/--> | sample &lt;chr&gt; | snp.call &lt;chr&gt; |\n",
       "|---|---|---|\n",
       "| ACH-000657 | ACH-000657 | 0 |\n",
       "| ACH-000617 | ACH-000617 | 0 |\n",
       "| ACH-000685 | ACH-000685 | 0 |\n",
       "| ACH-000632 | ACH-000632 | 0 |\n",
       "| ACH-000171 | ACH-000171 | 1 |\n",
       "| ACH-000863 | ACH-000863 | 1 |\n",
       "\n"
      ],
      "text/plain": [
       "           sample     snp.call\n",
       "ACH-000657 ACH-000657 0       \n",
       "ACH-000617 ACH-000617 0       \n",
       "ACH-000685 ACH-000685 0       \n",
       "ACH-000632 ACH-000632 0       \n",
       "ACH-000171 ACH-000171 1       \n",
       "ACH-000863 ACH-000863 1       "
      ]
     },
     "metadata": {},
     "output_type": "display_data"
    },
    {
     "data": {
      "text/html": [
       "<table class=\"dataframe\">\n",
       "<caption>A data.frame: 6 × 3</caption>\n",
       "<thead>\n",
       "\t<tr><th></th><th scope=col>sample</th><th scope=col>CDKN2B</th><th scope=col>snp.call</th></tr>\n",
       "\t<tr><th></th><th scope=col>&lt;chr&gt;</th><th scope=col>&lt;dbl&gt;</th><th scope=col>&lt;chr&gt;</th></tr>\n",
       "</thead>\n",
       "<tbody>\n",
       "\t<tr><th scope=row>1</th><td>ACH-000934</td><td>4.137646e-01</td><td>0</td></tr>\n",
       "\t<tr><th scope=row>2</th><td>ACH-000888</td><td>9.861957e-01</td><td>1</td></tr>\n",
       "\t<tr><th scope=row>3</th><td>ACH-000433</td><td>1.391660e-09</td><td>1</td></tr>\n",
       "\t<tr><th scope=row>4</th><td>ACH-000717</td><td>1.841236e-09</td><td>1</td></tr>\n",
       "\t<tr><th scope=row>5</th><td>ACH-000633</td><td>9.147949e-01</td><td>0</td></tr>\n",
       "\t<tr><th scope=row>6</th><td>ACH-000568</td><td>8.341819e-01</td><td>0</td></tr>\n",
       "</tbody>\n",
       "</table>\n"
      ],
      "text/latex": [
       "A data.frame: 6 × 3\n",
       "\\begin{tabular}{r|lll}\n",
       "  & sample & CDKN2B & snp.call\\\\\n",
       "  & <chr> & <dbl> & <chr>\\\\\n",
       "\\hline\n",
       "\t1 & ACH-000934 & 4.137646e-01 & 0\\\\\n",
       "\t2 & ACH-000888 & 9.861957e-01 & 1\\\\\n",
       "\t3 & ACH-000433 & 1.391660e-09 & 1\\\\\n",
       "\t4 & ACH-000717 & 1.841236e-09 & 1\\\\\n",
       "\t5 & ACH-000633 & 9.147949e-01 & 0\\\\\n",
       "\t6 & ACH-000568 & 8.341819e-01 & 0\\\\\n",
       "\\end{tabular}\n"
      ],
      "text/markdown": [
       "\n",
       "A data.frame: 6 × 3\n",
       "\n",
       "| <!--/--> | sample &lt;chr&gt; | CDKN2B &lt;dbl&gt; | snp.call &lt;chr&gt; |\n",
       "|---|---|---|---|\n",
       "| 1 | ACH-000934 | 4.137646e-01 | 0 |\n",
       "| 2 | ACH-000888 | 9.861957e-01 | 1 |\n",
       "| 3 | ACH-000433 | 1.391660e-09 | 1 |\n",
       "| 4 | ACH-000717 | 1.841236e-09 | 1 |\n",
       "| 5 | ACH-000633 | 9.147949e-01 | 0 |\n",
       "| 6 | ACH-000568 | 8.341819e-01 | 0 |\n",
       "\n"
      ],
      "text/plain": [
       "  sample     CDKN2B       snp.call\n",
       "1 ACH-000934 4.137646e-01 0       \n",
       "2 ACH-000888 9.861957e-01 1       \n",
       "3 ACH-000433 1.391660e-09 1       \n",
       "4 ACH-000717 1.841236e-09 1       \n",
       "5 ACH-000633 9.147949e-01 0       \n",
       "6 ACH-000568 8.341819e-01 0       "
      ]
     },
     "metadata": {},
     "output_type": "display_data"
    }
   ],
   "source": [
    "#Extract the CN information for just CDKN2B\n",
    "cdkn2b.cn = depmap.cn %>%\n",
    "rename(\"sample\" = 1) %>%\n",
    "select(sample, CDKN2B)\n",
    "\n",
    "head(cdkn2b.cn)\n",
    "\n",
    "#assemble a data frame that has the cell line name and the SNP call for our favorite SNP\n",
    "cdkn2b.snp = assembled.matrix %>% filter(snp %in% \"chr9:21986219:C:T\") %>%\n",
    "select(-snp) %>%\n",
    "t() %>%\n",
    "data.frame() %>%\n",
    "rename(\"snp.call\" = 1) %>%\n",
    "mutate(sample = row.names(.), .before = snp.call)\n",
    "\n",
    "head(cdkn2b.snp)\n",
    "\n",
    "#merge them both together\n",
    "merged.cn.snp = inner_join(cdkn2b.cn, cdkn2b.snp, by = \"sample\")\n",
    "head(merged.cn.snp)"
   ]
  },
  {
   "cell_type": "code",
   "execution_count": 64,
   "metadata": {},
   "outputs": [
    {
     "data": {
      "image/png": "[encoded data removed]",
      "text/plain": [
       "plot without title"
      ]
     },
     "metadata": {
      "image/png": {
       "height": 420,
       "width": 420
      }
     },
     "output_type": "display_data"
    }
   ],
   "source": [
    "#Now plot the copy number as a function of the SNP call\n",
    "merged.cn.snp %>%\n",
    "ggplot() +\n",
    "geom_boxplot(aes(x = snp.call, y = CDKN2B)) +\n",
    "theme_bw() +\n",
    "\n",
    "theme(\n",
    "panel.border = element_blank(), \n",
    "panel.grid.major = element_blank(),\n",
    "panel.grid.minor = element_blank(), \n",
    "axis.line = element_line(color = \"black\")\n",
    ") +\n",
    "\n",
    "theme(\n",
    "axis.text.x = element_text(face=\"bold\", size=14),\n",
    "axis.text.y = element_text(face=\"bold\", size=14)\n",
    ") +\n",
    "\n",
    "theme(\n",
    "panel.border = element_blank(), panel.grid.major = element_blank(),\n",
    "panel.grid.minor = element_blank(), axis.line = element_line(color = \"black\")\n",
    ") +\n",
    "\n",
    "theme(\n",
    "axis.title.x = element_text(color = \"black\", size = 20, face = \"bold\"),\n",
    "axis.title.y = element_text(color = \"black\", size = 20, face = \"bold\")\n",
    ") +\n",
    "\n",
    "theme(\n",
    "axis.text=element_text(size = 14, face = \"bold\"),\n",
    ") +\n",
    "\n",
    "theme(\n",
    "legend.title = element_text(size = 14, face = \"bold\"),\n",
    "legend.text = element_text(size = 10, face = \"bold\")\n",
    ") \n",
    "\n",
    "setwd('/home/jupyter/Ancestry/analysis/are_dqtls_eqtls')\n",
    "ggsave(\"cdkn2b_cn_by_snp_status.pdf\", width = 5, height = 3)\n",
    "system(glue::glue(\"\n",
    "cd /home/jupyter/Ancestry/figures\n",
    "gsutil cp /home/jupyter/Ancestry/analysis/are_dqtls_eqtls/cdkn2b_cn_by_snp_status.pdf gs://fc-45c0e148-0b1c-4244-9bfc-feb559bbc514\n",
    "\"))"
   ]
  },
  {
   "cell_type": "markdown",
   "metadata": {},
   "source": [
    "Which gene is associated with multiple SNPs?"
   ]
  },
  {
   "cell_type": "code",
   "execution_count": 3,
   "metadata": {},
   "outputs": [
    {
     "data": {
      "text/html": [
       "<table class=\"dataframe\">\n",
       "<caption>A data.frame: 6 × 3</caption>\n",
       "<thead>\n",
       "\t<tr><th></th><th scope=col>gene</th><th scope=col>snp</th><th scope=col>fdr</th></tr>\n",
       "\t<tr><th></th><th scope=col>&lt;chr&gt;</th><th scope=col>&lt;chr&gt;</th><th scope=col>&lt;dbl&gt;</th></tr>\n",
       "</thead>\n",
       "<tbody>\n",
       "\t<tr><th scope=row>1</th><td>TUT1  </td><td>chr11:62578659:C:T</td><td>7.962065e-39</td></tr>\n",
       "\t<tr><th scope=row>2</th><td>ECD   </td><td>chr10:73094386:A:G</td><td>7.230154e-36</td></tr>\n",
       "\t<tr><th scope=row>3</th><td>MRTO4 </td><td>chr1:19252818:GT:G</td><td>1.689572e-34</td></tr>\n",
       "\t<tr><th scope=row>4</th><td>RPS5  </td><td>chr19:58365001:A:G</td><td>4.034371e-31</td></tr>\n",
       "\t<tr><th scope=row>5</th><td>RESP18</td><td>chr2:219320135:G:A</td><td>3.977248e-28</td></tr>\n",
       "\t<tr><th scope=row>6</th><td>SRP14 </td><td>chr15:40035497:C:G</td><td>1.121033e-27</td></tr>\n",
       "</tbody>\n",
       "</table>\n"
      ],
      "text/latex": [
       "A data.frame: 6 × 3\n",
       "\\begin{tabular}{r|lll}\n",
       "  & gene & snp & fdr\\\\\n",
       "  & <chr> & <chr> & <dbl>\\\\\n",
       "\\hline\n",
       "\t1 & TUT1   & chr11:62578659:C:T & 7.962065e-39\\\\\n",
       "\t2 & ECD    & chr10:73094386:A:G & 7.230154e-36\\\\\n",
       "\t3 & MRTO4  & chr1:19252818:GT:G & 1.689572e-34\\\\\n",
       "\t4 & RPS5   & chr19:58365001:A:G & 4.034371e-31\\\\\n",
       "\t5 & RESP18 & chr2:219320135:G:A & 3.977248e-28\\\\\n",
       "\t6 & SRP14  & chr15:40035497:C:G & 1.121033e-27\\\\\n",
       "\\end{tabular}\n"
      ],
      "text/markdown": [
       "\n",
       "A data.frame: 6 × 3\n",
       "\n",
       "| <!--/--> | gene &lt;chr&gt; | snp &lt;chr&gt; | fdr &lt;dbl&gt; |\n",
       "|---|---|---|---|\n",
       "| 1 | TUT1   | chr11:62578659:C:T | 7.962065e-39 |\n",
       "| 2 | ECD    | chr10:73094386:A:G | 7.230154e-36 |\n",
       "| 3 | MRTO4  | chr1:19252818:GT:G | 1.689572e-34 |\n",
       "| 4 | RPS5   | chr19:58365001:A:G | 4.034371e-31 |\n",
       "| 5 | RESP18 | chr2:219320135:G:A | 3.977248e-28 |\n",
       "| 6 | SRP14  | chr15:40035497:C:G | 1.121033e-27 |\n",
       "\n"
      ],
      "text/plain": [
       "  gene   snp                fdr         \n",
       "1 TUT1   chr11:62578659:C:T 7.962065e-39\n",
       "2 ECD    chr10:73094386:A:G 7.230154e-36\n",
       "3 MRTO4  chr1:19252818:GT:G 1.689572e-34\n",
       "4 RPS5   chr19:58365001:A:G 4.034371e-31\n",
       "5 RESP18 chr2:219320135:G:A 3.977248e-28\n",
       "6 SRP14  chr15:40035497:C:G 1.121033e-27"
      ]
     },
     "metadata": {},
     "output_type": "display_data"
    }
   ],
   "source": [
    "head(top.snp)"
   ]
  },
  {
   "cell_type": "code",
   "execution_count": 8,
   "metadata": {},
   "outputs": [
    {
     "data": {
      "text/html": [
       "98"
      ],
      "text/latex": [
       "98"
      ],
      "text/markdown": [
       "98"
      ],
      "text/plain": [
       "[1] 98"
      ]
     },
     "metadata": {},
     "output_type": "display_data"
    },
    {
     "data": {
      "text/html": [
       "96"
      ],
      "text/latex": [
       "96"
      ],
      "text/markdown": [
       "96"
      ],
      "text/plain": [
       "[1] 96"
      ]
     },
     "metadata": {},
     "output_type": "display_data"
    },
    {
     "data": {
      "text/html": [
       "<table class=\"dataframe\">\n",
       "<caption>A data.frame: 2 × 3</caption>\n",
       "<thead>\n",
       "\t<tr><th scope=col>gene</th><th scope=col>snp</th><th scope=col>fdr</th></tr>\n",
       "\t<tr><th scope=col>&lt;chr&gt;</th><th scope=col>&lt;chr&gt;</th><th scope=col>&lt;dbl&gt;</th></tr>\n",
       "</thead>\n",
       "<tbody>\n",
       "\t<tr><td>IFNE  </td><td>chr9:21340131:A:G</td><td>5.86519e-06</td></tr>\n",
       "\t<tr><td>IFNA16</td><td>chr9:21340131:A:G</td><td>7.60253e-04</td></tr>\n",
       "</tbody>\n",
       "</table>\n"
      ],
      "text/latex": [
       "A data.frame: 2 × 3\n",
       "\\begin{tabular}{lll}\n",
       " gene & snp & fdr\\\\\n",
       " <chr> & <chr> & <dbl>\\\\\n",
       "\\hline\n",
       "\t IFNE   & chr9:21340131:A:G & 5.86519e-06\\\\\n",
       "\t IFNA16 & chr9:21340131:A:G & 7.60253e-04\\\\\n",
       "\\end{tabular}\n"
      ],
      "text/markdown": [
       "\n",
       "A data.frame: 2 × 3\n",
       "\n",
       "| gene &lt;chr&gt; | snp &lt;chr&gt; | fdr &lt;dbl&gt; |\n",
       "|---|---|---|\n",
       "| IFNE   | chr9:21340131:A:G | 5.86519e-06 |\n",
       "| IFNA16 | chr9:21340131:A:G | 7.60253e-04 |\n",
       "\n"
      ],
      "text/plain": [
       "  gene   snp               fdr        \n",
       "1 IFNE   chr9:21340131:A:G 5.86519e-06\n",
       "2 IFNA16 chr9:21340131:A:G 7.60253e-04"
      ]
     },
     "metadata": {},
     "output_type": "display_data"
    },
    {
     "data": {
      "text/html": [
       "<table class=\"dataframe\">\n",
       "<caption>A data.frame: 4 × 3</caption>\n",
       "<thead>\n",
       "\t<tr><th scope=col>gene</th><th scope=col>snp</th><th scope=col>fdr</th></tr>\n",
       "\t<tr><th scope=col>&lt;chr&gt;</th><th scope=col>&lt;chr&gt;</th><th scope=col>&lt;dbl&gt;</th></tr>\n",
       "</thead>\n",
       "<tbody>\n",
       "\t<tr><td>IFNE  </td><td>chr9:21340131:A:G</td><td>5.865190e-06</td></tr>\n",
       "\t<tr><td>IFNA16</td><td>chr9:21340131:A:G</td><td>7.602530e-04</td></tr>\n",
       "\t<tr><td>IFNA6 </td><td>chr9:21338127:A:C</td><td>2.493490e-03</td></tr>\n",
       "\t<tr><td>IFNA14</td><td>chr9:21338127:A:C</td><td>3.203983e-02</td></tr>\n",
       "</tbody>\n",
       "</table>\n"
      ],
      "text/latex": [
       "A data.frame: 4 × 3\n",
       "\\begin{tabular}{lll}\n",
       " gene & snp & fdr\\\\\n",
       " <chr> & <chr> & <dbl>\\\\\n",
       "\\hline\n",
       "\t IFNE   & chr9:21340131:A:G & 5.865190e-06\\\\\n",
       "\t IFNA16 & chr9:21340131:A:G & 7.602530e-04\\\\\n",
       "\t IFNA6  & chr9:21338127:A:C & 2.493490e-03\\\\\n",
       "\t IFNA14 & chr9:21338127:A:C & 3.203983e-02\\\\\n",
       "\\end{tabular}\n"
      ],
      "text/markdown": [
       "\n",
       "A data.frame: 4 × 3\n",
       "\n",
       "| gene &lt;chr&gt; | snp &lt;chr&gt; | fdr &lt;dbl&gt; |\n",
       "|---|---|---|\n",
       "| IFNE   | chr9:21340131:A:G | 5.865190e-06 |\n",
       "| IFNA16 | chr9:21340131:A:G | 7.602530e-04 |\n",
       "| IFNA6  | chr9:21338127:A:C | 2.493490e-03 |\n",
       "| IFNA14 | chr9:21338127:A:C | 3.203983e-02 |\n",
       "\n"
      ],
      "text/plain": [
       "  gene   snp               fdr         \n",
       "1 IFNE   chr9:21340131:A:G 5.865190e-06\n",
       "2 IFNA16 chr9:21340131:A:G 7.602530e-04\n",
       "3 IFNA6  chr9:21338127:A:C 2.493490e-03\n",
       "4 IFNA14 chr9:21338127:A:C 3.203983e-02"
      ]
     },
     "metadata": {},
     "output_type": "display_data"
    }
   ],
   "source": [
    "top.snp %>% pull(gene) %>% unique() %>% length()\n",
    "top.snp %>% pull(snp) %>% unique() %>% length()\n",
    "top.snp %>% filter(snp %in% \"chr9:21340131:A:G\")\n",
    "top.snp %>% filter(gene %in% c(\"IFNE\", \"IFNA16\", \"IFNA6\", \"IFNA14\"))"
   ]
  },
  {
   "cell_type": "code",
   "execution_count": null,
   "metadata": {},
   "outputs": [],
   "source": []
  },
  {
   "cell_type": "code",
   "execution_count": null,
   "metadata": {},
   "outputs": [],
   "source": []
  },
  {
   "cell_type": "code",
   "execution_count": null,
   "metadata": {},
   "outputs": [],
   "source": []
  }
 ],
 "metadata": {
  "kernelspec": {
   "display_name": "R",
   "language": "R",
   "name": "ir"
  },
  "language_info": {
   "codemirror_mode": "r",
   "file_extension": ".r",
   "mimetype": "text/x-r-source",
   "name": "R",
   "pygments_lexer": "r",
   "version": "4.2.1"
  },
  "toc": {
   "base_numbering": 1,
   "nav_menu": {},
   "number_sections": true,
   "sideBar": true,
   "skip_h1_title": false,
   "title_cell": "Table of Contents",
   "title_sidebar": "Contents",
   "toc_cell": false,
   "toc_position": {},
   "toc_section_display": true,
   "toc_window_display": false
  }
 },
 "nbformat": 4,
 "nbformat_minor": 2
}
