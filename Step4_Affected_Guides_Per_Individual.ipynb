{
 "cells": [
  {
   "cell_type": "markdown",
   "metadata": {},
   "source": [
    "The purpose of this code is to calculate the number of affected guides in each individual for a wide range of CRISPR libraries."
   ]
  },
  {
   "cell_type": "code",
   "execution_count": 4,
   "metadata": {},
   "outputs": [],
   "source": [
    "#Arguments/Parameters\n",
    "working_dir = \"/home/jupyter/Ancestry/\"\n",
    "workspace_bucket = Sys.getenv('WORKSPACE_BUCKET')"
   ]
  },
  {
   "cell_type": "code",
   "execution_count": 2,
   "metadata": {},
   "outputs": [
    {
     "name": "stderr",
     "output_type": "stream",
     "text": [
      "\n",
      "   *****       ***   vcfR   ***       *****\n",
      "   This is vcfR 1.12.0 \n",
      "     browseVignettes('vcfR') # Documentation\n",
      "     citation('vcfR') # Citation\n",
      "   *****       *****      *****       *****\n",
      "\n",
      "\n",
      "Warning message in system(\"timedatectl\", intern = TRUE):\n",
      "“running command 'timedatectl' had status 1”\n",
      "── \u001b[1mAttaching packages\u001b[22m ─────────────────────────────────────── tidyverse 1.3.1 ──\n",
      "\n",
      "\u001b[32m✔\u001b[39m \u001b[34mggplot2\u001b[39m 3.3.5     \u001b[32m✔\u001b[39m \u001b[34mpurrr  \u001b[39m 0.3.4\n",
      "\u001b[32m✔\u001b[39m \u001b[34mtibble \u001b[39m 3.1.6     \u001b[32m✔\u001b[39m \u001b[34mdplyr  \u001b[39m 1.0.7\n",
      "\u001b[32m✔\u001b[39m \u001b[34mtidyr  \u001b[39m 1.1.4     \u001b[32m✔\u001b[39m \u001b[34mstringr\u001b[39m 1.4.0\n",
      "\u001b[32m✔\u001b[39m \u001b[34mreadr  \u001b[39m 2.1.1     \u001b[32m✔\u001b[39m \u001b[34mforcats\u001b[39m 0.5.1\n",
      "\n",
      "── \u001b[1mConflicts\u001b[22m ────────────────────────────────────────── tidyverse_conflicts() ──\n",
      "\u001b[31m✖\u001b[39m \u001b[34mdplyr\u001b[39m::\u001b[32mfilter()\u001b[39m masks \u001b[34mstats\u001b[39m::filter()\n",
      "\u001b[31m✖\u001b[39m \u001b[34mdplyr\u001b[39m::\u001b[32mlag()\u001b[39m    masks \u001b[34mstats\u001b[39m::lag()\n",
      "\n"
     ]
    }
   ],
   "source": [
    "#Set up the environment\n",
    "\n",
    "#load libraries\n",
    "library(vcfR)\n",
    "library(tidyverse)\n",
    "\n",
    "#build functions\n",
    "show_msg <- function(x){ \n",
    "    print(x)\n",
    "    flush.console()\n",
    "}"
   ]
  },
  {
   "cell_type": "code",
   "execution_count": 3,
   "metadata": {},
   "outputs": [],
   "source": [
    "#Create the directory structure\n",
    "\n",
    "system(glue::glue(\"\n",
    "cd {working_dir}\n",
    "\n",
    "#Build the master directory if it doesn't exist\n",
    "if [ ! -d '{working_dir}/figures' ] \n",
    "then\n",
    "mkdir figures\n",
    "fi\n",
    "\"))"
   ]
  },
  {
   "cell_type": "code",
   "execution_count": 5,
   "metadata": {},
   "outputs": [],
   "source": [
    "#Manually go through all of the directories and load in 'affected guides per person' data\n",
    "#This part is currently hardcoded, in the future it will be useful to generalize it, but for now I just care about getting the data\n",
    "\n",
    "paste(working_dir, \"/filtered_output/avana14\", sep =\"\") %>% setwd()\n",
    "avana <- read.table('avana14_guide_level_matrix.txt', sep = \"\\t\", header = T)\n",
    "\n",
    "paste(working_dir, \"/filtered_output/calabrese\", sep =\"\") %>% setwd()\n",
    "calabrese <- read.table('calabrese_guide_level_matrix.txt', sep = \"\\t\", header = T)\n",
    "\n",
    "paste(working_dir, \"/filtered_output/minilibcas9\", sep =\"\") %>% setwd()\n",
    "minilibcas9 <- read.table('minilibcas9_guide_level_matrix.txt', sep = \"\\t\", header = T)\n",
    "\n",
    "paste(working_dir, \"/filtered_output/sanger\", sep =\"\") %>% setwd()\n",
    "sanger <- read.table('sanger_guide_level_matrix.txt', sep = \"\\t\", header = T)\n",
    "\n",
    "paste(working_dir, \"/filtered_output/tko\", sep =\"\") %>% setwd()\n",
    "tko <- read.table('tko_guide_level_matrix.txt', sep = \"\\t\", header = T)\n",
    "\n",
    "paste(working_dir, \"/filtered_output/gecko\", sep =\"\") %>% setwd()\n",
    "gecko <- read.table('gecko_guide_level_matrix.txt', sep = \"\\t\", header = T)\n"
   ]
  },
  {
   "cell_type": "code",
   "execution_count": 6,
   "metadata": {},
   "outputs": [],
   "source": [
    "#Combine all of the datasets into a named list so that it is easier to work with\n",
    "matrix.list <- NULL\n",
    "matrix.list[[1]] <- avana\n",
    "matrix.list[[2]] <- calabrese\n",
    "matrix.list[[3]] <- minilibcas9\n",
    "matrix.list[[4]] <- sanger\n",
    "matrix.list[[5]] <- tko\n",
    "matrix.list[[6]] <- gecko\n",
    "\n",
    "names(matrix.list) <- c(\"avana\", \"calabrese\", \"minilibcas9\", \"sanger\", \"tko\", \"gecko\")\n"
   ]
  },
  {
   "cell_type": "code",
   "execution_count": 7,
   "metadata": {},
   "outputs": [],
   "source": [
    "#Massage all of the data frames in the list so that they are formatted properly for our downstream analysis\n",
    "matrix.list <- lapply(matrix.list, function(x){\n",
    "    \n",
    "    x <- x[,-1] #drop the gene ID column since we don't need it for this analysis\n",
    "    colnames(x) <- gsub(\"\\\\.\", \"-\", colnames(x)) #R replaced the '-' with '.' on loading, so fix that\n",
    "    colnames(x) <- gsub(\"v3-1--\", \"v3\\\\.1::\", colnames(x)) #I converted the . to - here by mistake, when it really should be a ., so just change it back.\n",
    "    x\n",
    "})"
   ]
  },
  {
   "cell_type": "code",
   "execution_count": 13,
   "metadata": {},
   "outputs": [],
   "source": [
    "##Load in the sample annotation file\n",
    "\n",
    "setwd(\"/home/jupyter/Ancestry/raw_data/hgdp\")\n",
    "sample.annotation <- read.table('gnomad.genomes.v3.1.2.hgdp_1kg_subset_sample_meta.tsv.bgz', sep = \"\\t\", header = T)"
   ]
  },
  {
   "cell_type": "code",
   "execution_count": 15,
   "metadata": {},
   "outputs": [],
   "source": [
    "#Calculate the number of affected guides in each sample\n",
    "\n",
    "affected.guides.per.sample <- lapply(matrix.list, function(x){\n",
    "    \n",
    "    apply(x, 2, sum) %>% as.vector()\n",
    "    \n",
    "})\n",
    "\n"
   ]
  },
  {
   "cell_type": "code",
   "execution_count": 16,
   "metadata": {},
   "outputs": [
    {
     "data": {
      "text/html": [
       "<style>\n",
       ".dl-inline {width: auto; margin:0; padding: 0}\n",
       ".dl-inline>dt, .dl-inline>dd {float: none; width: auto; display: inline-block}\n",
       ".dl-inline>dt::after {content: \":\\0020\"; padding-right: .5ex}\n",
       ".dl-inline>dt:not(:first-of-type) {padding-left: .5ex}\n",
       "</style><dl class=dl-inline><dt>avana</dt><dd>73596</dd><dt>calabrese</dt><dd>112243</dd><dt>minilibcas9</dt><dd>37521</dd><dt>sanger</dt><dd>90708</dd><dt>tko</dt><dd>71089</dd><dt>gecko</dt><dd>118290</dd></dl>\n"
      ],
      "text/latex": [
       "\\begin{description*}\n",
       "\\item[avana] 73596\n",
       "\\item[calabrese] 112243\n",
       "\\item[minilibcas9] 37521\n",
       "\\item[sanger] 90708\n",
       "\\item[tko] 71089\n",
       "\\item[gecko] 118290\n",
       "\\end{description*}\n"
      ],
      "text/markdown": [
       "avana\n",
       ":   73596calabrese\n",
       ":   112243minilibcas9\n",
       ":   37521sanger\n",
       ":   90708tko\n",
       ":   71089gecko\n",
       ":   118290\n",
       "\n"
      ],
      "text/plain": [
       "      avana   calabrese minilibcas9      sanger         tko       gecko \n",
       "      73596      112243       37521       90708       71089      118290 "
      ]
     },
     "metadata": {},
     "output_type": "display_data"
    }
   ],
   "source": [
    "##Normalize affected.guides.per.sample so that it is normalized to be the fraction of the library that is affected, rather than the total number of guides\n",
    "\n",
    "#load the bed files and then calculate the number of guides in each bed file\n",
    "paste(working_dir, \"/filtered_output/avana14\", sep =\"\") %>% setwd()\n",
    "avana.num.guides <- read.table('Avana14_filtering.bed', sep = \"\\t\", header = T) %>% nrow()\n",
    "\n",
    "paste(working_dir, \"/filtered_output/calabrese\", sep =\"\") %>% setwd()\n",
    "calabrese.num.guides <- read.table('calabrese_filtering.bed', sep = \"\\t\", header = T) %>% nrow()\n",
    "\n",
    "paste(working_dir, \"/filtered_output/minilibcas9\", sep =\"\") %>% setwd()\n",
    "minilibcas9.num.guides <- read.table('minilibcas9_filtering.bed', sep = \"\\t\", header = T) %>% nrow()\n",
    "\n",
    "paste(working_dir, \"/filtered_output/sanger\", sep =\"\") %>% setwd()\n",
    "sanger.num.guides <- read.table('sanger_filtering.bed', sep = \"\\t\", header = T) %>% nrow()\n",
    "\n",
    "paste(working_dir, \"/filtered_output/tko\", sep =\"\") %>% setwd()\n",
    "tko.num.guides <- read.table('tko_filtering.bed', sep = \"\\t\", header = T) %>% nrow()\n",
    "\n",
    "paste(working_dir, \"/filtered_output/gecko\", sep =\"\") %>% setwd()\n",
    "gecko.num.guides <- read.table('gecko_filtering.bed', sep = \"\\t\", header = T) %>% nrow()\n",
    "\n",
    "\n",
    "guide.num.vector <- c(avana.num.guides, calabrese.num.guides, minilibcas9.num.guides, sanger.num.guides, tko.num.guides, gecko.num.guides)\n",
    "names(guide.num.vector) <- c(\"avana\", \"calabrese\", \"minilibcas9\", \"sanger\", \"tko\", \"gecko\")\n",
    "guide.num.vector"
   ]
  },
  {
   "cell_type": "code",
   "execution_count": 17,
   "metadata": {},
   "outputs": [],
   "source": [
    "#Now divide affected.guides.per.sample by guide.num.vector to get the fraction of the library that is affected\n",
    "nagps <- NULL\n",
    "for(i in 1:length(affected.guides.per.sample)){\n",
    "    \n",
    "    nagps[[i]] <- (affected.guides.per.sample[[i]]/guide.num.vector[i])*100    \n",
    "    \n",
    "}"
   ]
  },
  {
   "cell_type": "code",
   "execution_count": 22,
   "metadata": {},
   "outputs": [
    {
     "name": "stdout",
     "output_type": "stream",
     "text": [
      "List of 6\n",
      " $ : num [1:3942] 1.92 1.74 1.83 1.82 1.77 ...\n",
      " $ : num [1:3942] 3.8 3.64 3.78 3.86 3.77 ...\n",
      " $ : num [1:3940] 1.62 1.61 1.54 1.6 1.65 ...\n",
      " $ : num [1:3942] 3.29 3.16 3.43 3.39 3.21 ...\n",
      " $ : num [1:3942] 2.83 2.71 2.93 2.87 2.73 ...\n",
      " $ : num [1:3942] 2.06 1.92 1.99 2.1 1.93 ...\n"
     ]
    }
   ],
   "source": [
    "str(nagps)"
   ]
  },
  {
   "cell_type": "code",
   "execution_count": 18,
   "metadata": {},
   "outputs": [
    {
     "ename": "ERROR",
     "evalue": "Error in plyr::mapvalues(col1, from = sample.annotation$s, to = sample.annotation$population_inference.pop): `from` and `to` vectors are not the same length.\n",
     "output_type": "error",
     "traceback": [
      "Error in plyr::mapvalues(col1, from = sample.annotation$s, to = sample.annotation$population_inference.pop): `from` and `to` vectors are not the same length.\nTraceback:\n",
      "1. plyr::mapvalues(col1, from = sample.annotation$s, to = sample.annotation$population_inference.pop)",
      "2. stop(\"`from` and `to` vectors are not the same length.\")"
     ]
    }
   ],
   "source": [
    "#Assemble a dataframe with the following structure:\n",
    "#column 1 = sample name\n",
    "#column 2 = % of library affected\n",
    "#column 3 = ancestry\n",
    "#column 4 = dataset\n",
    "\n",
    "#Get a column for the sample name\n",
    "col1 <- NULL\n",
    "for(i in 1:length(matrix.list)){\n",
    "    names <- colnames(matrix.list[[i]])\n",
    "    col1 <- c(col1, names)\n",
    "}\n",
    "col1 <- col1 %>% as.vector()\n",
    "\n",
    "#Get a column for the % of the library that is affected\n",
    "col2 <- NULL\n",
    "for(i in 1:length(nagps)){\n",
    "    col2 <- c(col2, nagps[[i]])\n",
    "}\n",
    "\n",
    "#Get a column that converts the sample name into the ancestry group\n",
    "col3 <- plyr::mapvalues(col1, from = sample.annotation$s, to = sample.annotation$population_inference.pop)\n",
    "\n",
    "#Get a column that lists which dataset each row came from\n",
    "col4 <- NULL\n",
    "for(i in 1:length(affected.guides.per.sample)){\n",
    "    sample.names <- names(affected.guides.per.sample)\n",
    "    vec.length <- length(affected.guides.per.sample[[i]])\n",
    "    vec.to.add <- rep(sample.names[i], vec.length) \n",
    "    col4 <- c(col4, vec.to.add)\n",
    "}\n",
    "\n",
    "\n",
    "\n",
    "length(col1)\n",
    "length(col2)\n",
    "length(col3)\n",
    "length(col4)\n",
    "\n",
    "\n",
    "#Bind all of the columns together\n",
    "dataframe.for.plotting <- cbind(col1, col2, col3, col4) %>% data.frame()\n",
    "colnames(dataframe.for.plotting) <- c(\"sample\", \"percent_affected\", \"ancestry\", \"library\")\n",
    "dataframe.for.plotting$percent_affected <- dataframe.for.plotting$percent_affected %>% as.numeric()\n",
    "\n",
    "\n",
    "\n"
   ]
  },
  {
   "cell_type": "code",
   "execution_count": null,
   "metadata": {},
   "outputs": [],
   "source": []
  },
  {
   "cell_type": "code",
   "execution_count": null,
   "metadata": {},
   "outputs": [],
   "source": []
  },
  {
   "cell_type": "code",
   "execution_count": null,
   "metadata": {},
   "outputs": [],
   "source": []
  },
  {
   "cell_type": "code",
   "execution_count": null,
   "metadata": {},
   "outputs": [],
   "source": []
  },
  {
   "cell_type": "code",
   "execution_count": null,
   "metadata": {},
   "outputs": [],
   "source": []
  },
  {
   "cell_type": "code",
   "execution_count": null,
   "metadata": {},
   "outputs": [],
   "source": []
  },
  {
   "cell_type": "code",
   "execution_count": 20,
   "metadata": {},
   "outputs": [
    {
     "name": "stderr",
     "output_type": "stream",
     "text": [
      "Warning message:\n",
      "“Removed 1 rows containing non-finite values (stat_ydensity).”\n",
      "Warning message:\n",
      "“Removed 1 rows containing non-finite values (stat_ydensity).”\n"
     ]
    },
    {
     "data": {
      "image/png": "[encoded data removed]",
      "text/plain": [
       "plot without title"
      ]
     },
     "metadata": {
      "image/png": {
       "height": 420,
       "width": 420
      }
     },
     "output_type": "display_data"
    }
   ],
   "source": [
    "#draw the violin plot\n",
    "\n",
    "ggplot(dataframe.for.plotting, aes(x=library, y=percent_affected, fill=ancestry)) +\n",
    "geom_violin(position = position_dodge(width=.5), lwd=0.1) +\n",
    "theme_bw() + \n",
    "scale_color_brewer(palette = \"Spectral\") +\n",
    "guides(color = guide_legend(reverse=TRUE)) +\n",
    "\n",
    "ylab(\"Percent of Guides Affected\") +\n",
    "xlab(\"Library\") +\n",
    "\n",
    "theme(panel.border = element_blank(), panel.grid.major = element_blank(),\n",
    "panel.grid.minor = element_blank(), axis.line = element_line(colour = \"black\")) +\n",
    "\n",
    "theme(axis.text=element_text(size=12), axis.title=element_text(size=14,face=\"bold\")) +\n",
    "theme(axis.text.x = element_text(face=\"bold\", size=14), axis.text.y = element_text(face=\"bold\", size=14)) +\n",
    "\n",
    "theme(\n",
    "axis.title.x = element_text(color = \"black\", size = 14, face = \"bold\"),\n",
    "axis.title.y = element_text(color = \"black\", size = 14, face = \"bold\")\n",
    ") +\n",
    "\n",
    "theme(\n",
    "axis.text=element_text(size = 12, face = \"bold\"),\n",
    "axis.title=element_text(size = 14,face = \"bold\")\n",
    ") +\n",
    "\n",
    "theme(\n",
    "  legend.title = element_text(size = 14, face = \"bold\"),\n",
    "  legend.text = element_text(size = 10, face = \"bold\")\n",
    ") +\n",
    "\n",
    "coord_flip() +\n",
    "  \n",
    "scale_y_continuous(limits = c(0, 5))\n",
    "\n",
    "#Export it to the google bucket\n",
    "setwd('/home/jupyter/Ancestry/figures')\n",
    "ggsave(\"affected_guides_per_ancestry_group.pdf\", width = 5, height = 5)\n",
    "system(glue::glue(\"\n",
    "cd /home/jupyter/Ancestry/figures\n",
    "gsutil cp affected_guides_per_ancestry_group.pdf gs://fc-45c0e148-0b1c-4244-9bfc-feb559bbc514\n",
    "\"))\n"
   ]
  },
  {
   "cell_type": "code",
   "execution_count": null,
   "metadata": {},
   "outputs": [],
   "source": []
  },
  {
   "cell_type": "code",
   "execution_count": null,
   "metadata": {},
   "outputs": [],
   "source": [
    "#####Next Step: Make a better looking figure!!!"
   ]
  },
  {
   "cell_type": "code",
   "execution_count": null,
   "metadata": {},
   "outputs": [],
   "source": []
  },
  {
   "cell_type": "code",
   "execution_count": null,
   "metadata": {},
   "outputs": [],
   "source": []
  },
  {
   "cell_type": "code",
   "execution_count": null,
   "metadata": {},
   "outputs": [],
   "source": []
  }
 ],
 "metadata": {
  "kernelspec": {
   "display_name": "R",
   "language": "R",
   "name": "ir"
  },
  "language_info": {
   "codemirror_mode": "r",
   "file_extension": ".r",
   "mimetype": "text/x-r-source",
   "name": "R",
   "pygments_lexer": "r",
   "version": "4.1.2"
  },
  "toc": {
   "base_numbering": 1,
   "nav_menu": {},
   "number_sections": true,
   "sideBar": true,
   "skip_h1_title": false,
   "title_cell": "Table of Contents",
   "title_sidebar": "Contents",
   "toc_cell": false,
   "toc_position": {},
   "toc_section_display": true,
   "toc_window_display": false
  }
 },
 "nbformat": 4,
 "nbformat_minor": 2
}
