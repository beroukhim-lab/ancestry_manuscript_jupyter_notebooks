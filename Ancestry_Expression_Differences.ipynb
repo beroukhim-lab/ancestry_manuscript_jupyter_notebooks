{
 "cells": [
  {
   "cell_type": "markdown",
   "metadata": {},
   "source": [
    "The purpose of this notebook is to calculate the expression differences between different ancestry groups.\n",
    "\n",
    "This notebook will focus on EUR vs EAS since these are the two major ancestry groups in the dataset."
   ]
  },
  {
   "cell_type": "markdown",
   "metadata": {},
   "source": [
    "# Set up the environment"
   ]
  },
  {
   "cell_type": "code",
   "execution_count": 1,
   "metadata": {},
   "outputs": [],
   "source": [
    "#Arguments/Parameters\n",
    "working_dir = \"/home/jupyter/notebooks/Ancestry\"\n",
    "workspace_bucket = Sys.getenv('WORKSPACE_BUCKET')"
   ]
  },
  {
   "cell_type": "code",
   "execution_count": 2,
   "metadata": {},
   "outputs": [
    {
     "name": "stderr",
     "output_type": "stream",
     "text": [
      "── \u001b[1mAttaching packages\u001b[22m ─────────────────────────────────────── tidyverse 1.3.1 ──\n",
      "\n",
      "\u001b[32m✔\u001b[39m \u001b[34mggplot2\u001b[39m 3.3.5     \u001b[32m✔\u001b[39m \u001b[34mpurrr  \u001b[39m 0.3.4\n",
      "\u001b[32m✔\u001b[39m \u001b[34mtibble \u001b[39m 3.1.4     \u001b[32m✔\u001b[39m \u001b[34mdplyr  \u001b[39m 1.0.7\n",
      "\u001b[32m✔\u001b[39m \u001b[34mtidyr  \u001b[39m 1.1.3     \u001b[32m✔\u001b[39m \u001b[34mstringr\u001b[39m 1.4.0\n",
      "\u001b[32m✔\u001b[39m \u001b[34mreadr  \u001b[39m 2.0.1     \u001b[32m✔\u001b[39m \u001b[34mforcats\u001b[39m 0.5.1\n",
      "\n",
      "── \u001b[1mConflicts\u001b[22m ────────────────────────────────────────── tidyverse_conflicts() ──\n",
      "\u001b[31m✖\u001b[39m \u001b[34mdplyr\u001b[39m::\u001b[32mfilter()\u001b[39m masks \u001b[34mstats\u001b[39m::filter()\n",
      "\u001b[31m✖\u001b[39m \u001b[34mdplyr\u001b[39m::\u001b[32mlag()\u001b[39m    masks \u001b[34mstats\u001b[39m::lag()\n",
      "\n",
      "\n",
      "Attaching package: ‘reshape2’\n",
      "\n",
      "\n",
      "The following object is masked from ‘package:tidyr’:\n",
      "\n",
      "    smiths\n",
      "\n",
      "\n"
     ]
    }
   ],
   "source": [
    "#Set up the environment\n",
    "\n",
    "#load packages\n",
    "library(tidyverse)\n",
    "library(reshape2)\n",
    "library(ggforce)\n",
    "library(stringr)\n",
    "library(ggrepel)\n",
    "\n",
    "#Define functions\n",
    "show_msg <- function(x){ \n",
    "    print(x)\n",
    "    flush.console()\n",
    "}\n",
    "\n"
   ]
  },
  {
   "cell_type": "markdown",
   "metadata": {},
   "source": [
    "# Format the datasets "
   ]
  },
  {
   "cell_type": "code",
   "execution_count": 3,
   "metadata": {},
   "outputs": [
    {
     "data": {
      "text/html": [
       "<table class=\"dataframe\">\n",
       "<caption>A data.frame: 6 × 7</caption>\n",
       "<thead>\n",
       "\t<tr><th></th><th scope=col>EUR</th><th scope=col>EAS</th><th scope=col>AMR</th><th scope=col>SAS</th><th scope=col>AFR</th><th scope=col>DepMap_ID</th><th scope=col>lineage_subtype</th></tr>\n",
       "\t<tr><th></th><th scope=col>&lt;dbl&gt;</th><th scope=col>&lt;dbl&gt;</th><th scope=col>&lt;dbl&gt;</th><th scope=col>&lt;dbl&gt;</th><th scope=col>&lt;dbl&gt;</th><th scope=col>&lt;chr&gt;</th><th scope=col>&lt;chr&gt;</th></tr>\n",
       "</thead>\n",
       "<tbody>\n",
       "\t<tr><th scope=row>1</th><td>0.058376</td><td>0.841298</td><td>0.028906</td><td>0.013521</td><td>0.057898</td><td>ACH-000380</td><td>plasma_cell           </td></tr>\n",
       "\t<tr><th scope=row>2</th><td>0.036494</td><td>0.863657</td><td>0.032450</td><td>0.008646</td><td>0.058753</td><td>ACH-000321</td><td>blood                 </td></tr>\n",
       "\t<tr><th scope=row>3</th><td>0.011415</td><td>0.010345</td><td>0.003088</td><td>0.964387</td><td>0.010765</td><td>ACH-000857</td><td>breast                </td></tr>\n",
       "\t<tr><th scope=row>4</th><td>0.888580</td><td>0.017735</td><td>0.028750</td><td>0.055862</td><td>0.009074</td><td>ACH-000883</td><td>central_nervous_system</td></tr>\n",
       "\t<tr><th scope=row>5</th><td>0.898368</td><td>0.014906</td><td>0.025614</td><td>0.052141</td><td>0.008971</td><td>ACH-000936</td><td>ovary                 </td></tr>\n",
       "\t<tr><th scope=row>6</th><td>0.915203</td><td>0.006926</td><td>0.029091</td><td>0.026713</td><td>0.022068</td><td>ACH-000290</td><td>lung                  </td></tr>\n",
       "</tbody>\n",
       "</table>\n"
      ],
      "text/latex": [
       "A data.frame: 6 × 7\n",
       "\\begin{tabular}{r|lllllll}\n",
       "  & EUR & EAS & AMR & SAS & AFR & DepMap\\_ID & lineage\\_subtype\\\\\n",
       "  & <dbl> & <dbl> & <dbl> & <dbl> & <dbl> & <chr> & <chr>\\\\\n",
       "\\hline\n",
       "\t1 & 0.058376 & 0.841298 & 0.028906 & 0.013521 & 0.057898 & ACH-000380 & plasma\\_cell           \\\\\n",
       "\t2 & 0.036494 & 0.863657 & 0.032450 & 0.008646 & 0.058753 & ACH-000321 & blood                 \\\\\n",
       "\t3 & 0.011415 & 0.010345 & 0.003088 & 0.964387 & 0.010765 & ACH-000857 & breast                \\\\\n",
       "\t4 & 0.888580 & 0.017735 & 0.028750 & 0.055862 & 0.009074 & ACH-000883 & central\\_nervous\\_system\\\\\n",
       "\t5 & 0.898368 & 0.014906 & 0.025614 & 0.052141 & 0.008971 & ACH-000936 & ovary                 \\\\\n",
       "\t6 & 0.915203 & 0.006926 & 0.029091 & 0.026713 & 0.022068 & ACH-000290 & lung                  \\\\\n",
       "\\end{tabular}\n"
      ],
      "text/markdown": [
       "\n",
       "A data.frame: 6 × 7\n",
       "\n",
       "| <!--/--> | EUR &lt;dbl&gt; | EAS &lt;dbl&gt; | AMR &lt;dbl&gt; | SAS &lt;dbl&gt; | AFR &lt;dbl&gt; | DepMap_ID &lt;chr&gt; | lineage_subtype &lt;chr&gt; |\n",
       "|---|---|---|---|---|---|---|---|\n",
       "| 1 | 0.058376 | 0.841298 | 0.028906 | 0.013521 | 0.057898 | ACH-000380 | plasma_cell            |\n",
       "| 2 | 0.036494 | 0.863657 | 0.032450 | 0.008646 | 0.058753 | ACH-000321 | blood                  |\n",
       "| 3 | 0.011415 | 0.010345 | 0.003088 | 0.964387 | 0.010765 | ACH-000857 | breast                 |\n",
       "| 4 | 0.888580 | 0.017735 | 0.028750 | 0.055862 | 0.009074 | ACH-000883 | central_nervous_system |\n",
       "| 5 | 0.898368 | 0.014906 | 0.025614 | 0.052141 | 0.008971 | ACH-000936 | ovary                  |\n",
       "| 6 | 0.915203 | 0.006926 | 0.029091 | 0.026713 | 0.022068 | ACH-000290 | lung                   |\n",
       "\n"
      ],
      "text/plain": [
       "  EUR      EAS      AMR      SAS      AFR      DepMap_ID \n",
       "1 0.058376 0.841298 0.028906 0.013521 0.057898 ACH-000380\n",
       "2 0.036494 0.863657 0.032450 0.008646 0.058753 ACH-000321\n",
       "3 0.011415 0.010345 0.003088 0.964387 0.010765 ACH-000857\n",
       "4 0.888580 0.017735 0.028750 0.055862 0.009074 ACH-000883\n",
       "5 0.898368 0.014906 0.025614 0.052141 0.008971 ACH-000936\n",
       "6 0.915203 0.006926 0.029091 0.026713 0.022068 ACH-000290\n",
       "  lineage_subtype       \n",
       "1 plasma_cell           \n",
       "2 blood                 \n",
       "3 breast                \n",
       "4 central_nervous_system\n",
       "5 ovary                 \n",
       "6 lung                  "
      ]
     },
     "metadata": {},
     "output_type": "display_data"
    }
   ],
   "source": [
    "#Load in the ancestry fraction data\n",
    "paste(working_dir, \"/admixture\", sep = \"\") %>% setwd()\n",
    "ancestry.averages = read.table('ccle.projections.txt', sep = \"\\t\", header = T)\n",
    "head(ancestry.averages)"
   ]
  },
  {
   "cell_type": "code",
   "execution_count": 4,
   "metadata": {},
   "outputs": [],
   "source": [
    "#Load in the RNA-Seq data\n",
    "system(glue::glue(\"\n",
    "cd {working_dir}/ccle_ancestry_analysis\n",
    "gsutil cp gs://fc-45c0e148-0b1c-4244-9bfc-feb559bbc514/internal-21q4_v9-ccle-expression.csv .\n",
    "\"))\n",
    "\n",
    "\n",
    "paste(working_dir, \"/ccle_ancestry_analysis\", sep = \"\") %>% setwd()\n",
    "expression = read.table('internal-21q4_v9-ccle-expression.csv', sep = \",\")\n",
    "expression[1,] = gsub(\" .*\", \"\", expression[1,]) #Remove the trailing number after the gene symbol [e.g A1BG (1) -> A1BG]\n",
    "colnames(expression) <- as.character(expression[1, ]) #Then set those back to the column names\n",
    "expression <- expression[-1,] #And remove the row from the dataset. The dataset should be all set now \n",
    "expression[2:ncol(expression)] = apply(expression[,2:ncol(expression)], 2, as.numeric)\n",
    "expression = expression %>% rename(DepMap_ID = 1)"
   ]
  },
  {
   "cell_type": "markdown",
   "metadata": {},
   "source": [
    "Now that all of the data is loaded, subset out the EUR and EAS cell lines."
   ]
  },
  {
   "cell_type": "code",
   "execution_count": 5,
   "metadata": {},
   "outputs": [
    {
     "data": {
      "text/html": [
       "<table class=\"dataframe\">\n",
       "<caption>A data.frame: 6 × 8</caption>\n",
       "<thead>\n",
       "\t<tr><th></th><th scope=col>EUR</th><th scope=col>EAS</th><th scope=col>AMR</th><th scope=col>SAS</th><th scope=col>AFR</th><th scope=col>DepMap_ID</th><th scope=col>lineage_subtype</th><th scope=col>popmax</th></tr>\n",
       "\t<tr><th></th><th scope=col>&lt;dbl&gt;</th><th scope=col>&lt;dbl&gt;</th><th scope=col>&lt;dbl&gt;</th><th scope=col>&lt;dbl&gt;</th><th scope=col>&lt;dbl&gt;</th><th scope=col>&lt;chr&gt;</th><th scope=col>&lt;chr&gt;</th><th scope=col>&lt;chr&gt;</th></tr>\n",
       "</thead>\n",
       "<tbody>\n",
       "\t<tr><th scope=row>1</th><td>0.058376</td><td>0.841298</td><td>0.028906</td><td>0.013521</td><td>0.057898</td><td>ACH-000380</td><td>plasma_cell           </td><td>East Asian (EAS) </td></tr>\n",
       "\t<tr><th scope=row>2</th><td>0.036494</td><td>0.863657</td><td>0.032450</td><td>0.008646</td><td>0.058753</td><td>ACH-000321</td><td>blood                 </td><td>East Asian (EAS) </td></tr>\n",
       "\t<tr><th scope=row>3</th><td>0.011415</td><td>0.010345</td><td>0.003088</td><td>0.964387</td><td>0.010765</td><td>ACH-000857</td><td>breast                </td><td>South Asian (SAS)</td></tr>\n",
       "\t<tr><th scope=row>4</th><td>0.888580</td><td>0.017735</td><td>0.028750</td><td>0.055862</td><td>0.009074</td><td>ACH-000883</td><td>central_nervous_system</td><td>European (EUR)   </td></tr>\n",
       "\t<tr><th scope=row>5</th><td>0.898368</td><td>0.014906</td><td>0.025614</td><td>0.052141</td><td>0.008971</td><td>ACH-000936</td><td>ovary                 </td><td>European (EUR)   </td></tr>\n",
       "\t<tr><th scope=row>6</th><td>0.915203</td><td>0.006926</td><td>0.029091</td><td>0.026713</td><td>0.022068</td><td>ACH-000290</td><td>lung                  </td><td>European (EUR)   </td></tr>\n",
       "</tbody>\n",
       "</table>\n"
      ],
      "text/latex": [
       "A data.frame: 6 × 8\n",
       "\\begin{tabular}{r|llllllll}\n",
       "  & EUR & EAS & AMR & SAS & AFR & DepMap\\_ID & lineage\\_subtype & popmax\\\\\n",
       "  & <dbl> & <dbl> & <dbl> & <dbl> & <dbl> & <chr> & <chr> & <chr>\\\\\n",
       "\\hline\n",
       "\t1 & 0.058376 & 0.841298 & 0.028906 & 0.013521 & 0.057898 & ACH-000380 & plasma\\_cell            & East Asian (EAS) \\\\\n",
       "\t2 & 0.036494 & 0.863657 & 0.032450 & 0.008646 & 0.058753 & ACH-000321 & blood                  & East Asian (EAS) \\\\\n",
       "\t3 & 0.011415 & 0.010345 & 0.003088 & 0.964387 & 0.010765 & ACH-000857 & breast                 & South Asian (SAS)\\\\\n",
       "\t4 & 0.888580 & 0.017735 & 0.028750 & 0.055862 & 0.009074 & ACH-000883 & central\\_nervous\\_system & European (EUR)   \\\\\n",
       "\t5 & 0.898368 & 0.014906 & 0.025614 & 0.052141 & 0.008971 & ACH-000936 & ovary                  & European (EUR)   \\\\\n",
       "\t6 & 0.915203 & 0.006926 & 0.029091 & 0.026713 & 0.022068 & ACH-000290 & lung                   & European (EUR)   \\\\\n",
       "\\end{tabular}\n"
      ],
      "text/markdown": [
       "\n",
       "A data.frame: 6 × 8\n",
       "\n",
       "| <!--/--> | EUR &lt;dbl&gt; | EAS &lt;dbl&gt; | AMR &lt;dbl&gt; | SAS &lt;dbl&gt; | AFR &lt;dbl&gt; | DepMap_ID &lt;chr&gt; | lineage_subtype &lt;chr&gt; | popmax &lt;chr&gt; |\n",
       "|---|---|---|---|---|---|---|---|---|\n",
       "| 1 | 0.058376 | 0.841298 | 0.028906 | 0.013521 | 0.057898 | ACH-000380 | plasma_cell            | East Asian (EAS)  |\n",
       "| 2 | 0.036494 | 0.863657 | 0.032450 | 0.008646 | 0.058753 | ACH-000321 | blood                  | East Asian (EAS)  |\n",
       "| 3 | 0.011415 | 0.010345 | 0.003088 | 0.964387 | 0.010765 | ACH-000857 | breast                 | South Asian (SAS) |\n",
       "| 4 | 0.888580 | 0.017735 | 0.028750 | 0.055862 | 0.009074 | ACH-000883 | central_nervous_system | European (EUR)    |\n",
       "| 5 | 0.898368 | 0.014906 | 0.025614 | 0.052141 | 0.008971 | ACH-000936 | ovary                  | European (EUR)    |\n",
       "| 6 | 0.915203 | 0.006926 | 0.029091 | 0.026713 | 0.022068 | ACH-000290 | lung                   | European (EUR)    |\n",
       "\n"
      ],
      "text/plain": [
       "  EUR      EAS      AMR      SAS      AFR      DepMap_ID \n",
       "1 0.058376 0.841298 0.028906 0.013521 0.057898 ACH-000380\n",
       "2 0.036494 0.863657 0.032450 0.008646 0.058753 ACH-000321\n",
       "3 0.011415 0.010345 0.003088 0.964387 0.010765 ACH-000857\n",
       "4 0.888580 0.017735 0.028750 0.055862 0.009074 ACH-000883\n",
       "5 0.898368 0.014906 0.025614 0.052141 0.008971 ACH-000936\n",
       "6 0.915203 0.006926 0.029091 0.026713 0.022068 ACH-000290\n",
       "  lineage_subtype        popmax           \n",
       "1 plasma_cell            East Asian (EAS) \n",
       "2 blood                  East Asian (EAS) \n",
       "3 breast                 South Asian (SAS)\n",
       "4 central_nervous_system European (EUR)   \n",
       "5 ovary                  European (EUR)   \n",
       "6 lung                   European (EUR)   "
      ]
     },
     "metadata": {},
     "output_type": "display_data"
    }
   ],
   "source": [
    "#First, create a column to define the 'popmax' for each cell line.\n",
    "ancestry.averages = ancestry.averages %>%\n",
    "mutate(popmax = case_when(\n",
    "                                EUR >= 0.8 ~ \"European (EUR)\",\n",
    "                                EAS >= 0.8 ~ \"East Asian (EAS)\",\n",
    "                                AMR >= 0.8 ~ \"American (AMR)\",\n",
    "                                SAS >= 0.8 ~ \"South Asian (SAS)\",\n",
    "                                AFR >= 0.8 ~ \"African (AFR)\")) %>%\n",
    "mutate(popmax = replace_na(popmax, \"Admixed\"), .before = DepMap_ID)\n",
    "\n",
    "head(ancestry.averages)"
   ]
  },
  {
   "cell_type": "code",
   "execution_count": 6,
   "metadata": {
    "scrolled": true
   },
   "outputs": [
    {
     "name": "stderr",
     "output_type": "stream",
     "text": [
      "Joining, by = \"DepMap_ID\"\n",
      "\n"
     ]
    },
    {
     "data": {
      "text/html": [
       "<table class=\"dataframe\">\n",
       "<caption>A data.frame: 5 × 10</caption>\n",
       "<thead>\n",
       "\t<tr><th></th><th scope=col>EUR</th><th scope=col>EAS</th><th scope=col>AMR</th><th scope=col>SAS</th><th scope=col>AFR</th><th scope=col>DepMap_ID</th><th scope=col>lineage_subtype</th><th scope=col>popmax</th><th scope=col>TSPAN6</th><th scope=col>TNMD</th></tr>\n",
       "\t<tr><th></th><th scope=col>&lt;dbl&gt;</th><th scope=col>&lt;dbl&gt;</th><th scope=col>&lt;dbl&gt;</th><th scope=col>&lt;dbl&gt;</th><th scope=col>&lt;dbl&gt;</th><th scope=col>&lt;chr&gt;</th><th scope=col>&lt;chr&gt;</th><th scope=col>&lt;chr&gt;</th><th scope=col>&lt;dbl&gt;</th><th scope=col>&lt;dbl&gt;</th></tr>\n",
       "</thead>\n",
       "<tbody>\n",
       "\t<tr><th scope=row>1</th><td>0.058376</td><td>0.841298</td><td>0.028906</td><td>0.013521</td><td>0.057898</td><td>ACH-000380</td><td>plasma_cell           </td><td>East Asian (EAS) </td><td>0.07038933</td><td>0.00000000</td></tr>\n",
       "\t<tr><th scope=row>2</th><td>0.036494</td><td>0.863657</td><td>0.032450</td><td>0.008646</td><td>0.058753</td><td>ACH-000321</td><td>blood                 </td><td>East Asian (EAS) </td><td>1.19534760</td><td>0.00000000</td></tr>\n",
       "\t<tr><th scope=row>3</th><td>0.011415</td><td>0.010345</td><td>0.003088</td><td>0.964387</td><td>0.010765</td><td>ACH-000857</td><td>breast                </td><td>South Asian (SAS)</td><td>5.61264738</td><td>0.00000000</td></tr>\n",
       "\t<tr><th scope=row>4</th><td>0.888580</td><td>0.017735</td><td>0.028750</td><td>0.055862</td><td>0.009074</td><td>ACH-000883</td><td>central_nervous_system</td><td>European (EUR)   </td><td>5.71945727</td><td>0.00000000</td></tr>\n",
       "\t<tr><th scope=row>5</th><td>0.898368</td><td>0.014906</td><td>0.025614</td><td>0.052141</td><td>0.008971</td><td>ACH-000936</td><td>ovary                 </td><td>European (EUR)   </td><td>5.18982456</td><td>0.02856915</td></tr>\n",
       "</tbody>\n",
       "</table>\n"
      ],
      "text/latex": [
       "A data.frame: 5 × 10\n",
       "\\begin{tabular}{r|llllllllll}\n",
       "  & EUR & EAS & AMR & SAS & AFR & DepMap\\_ID & lineage\\_subtype & popmax & TSPAN6 & TNMD\\\\\n",
       "  & <dbl> & <dbl> & <dbl> & <dbl> & <dbl> & <chr> & <chr> & <chr> & <dbl> & <dbl>\\\\\n",
       "\\hline\n",
       "\t1 & 0.058376 & 0.841298 & 0.028906 & 0.013521 & 0.057898 & ACH-000380 & plasma\\_cell            & East Asian (EAS)  & 0.07038933 & 0.00000000\\\\\n",
       "\t2 & 0.036494 & 0.863657 & 0.032450 & 0.008646 & 0.058753 & ACH-000321 & blood                  & East Asian (EAS)  & 1.19534760 & 0.00000000\\\\\n",
       "\t3 & 0.011415 & 0.010345 & 0.003088 & 0.964387 & 0.010765 & ACH-000857 & breast                 & South Asian (SAS) & 5.61264738 & 0.00000000\\\\\n",
       "\t4 & 0.888580 & 0.017735 & 0.028750 & 0.055862 & 0.009074 & ACH-000883 & central\\_nervous\\_system & European (EUR)    & 5.71945727 & 0.00000000\\\\\n",
       "\t5 & 0.898368 & 0.014906 & 0.025614 & 0.052141 & 0.008971 & ACH-000936 & ovary                  & European (EUR)    & 5.18982456 & 0.02856915\\\\\n",
       "\\end{tabular}\n"
      ],
      "text/markdown": [
       "\n",
       "A data.frame: 5 × 10\n",
       "\n",
       "| <!--/--> | EUR &lt;dbl&gt; | EAS &lt;dbl&gt; | AMR &lt;dbl&gt; | SAS &lt;dbl&gt; | AFR &lt;dbl&gt; | DepMap_ID &lt;chr&gt; | lineage_subtype &lt;chr&gt; | popmax &lt;chr&gt; | TSPAN6 &lt;dbl&gt; | TNMD &lt;dbl&gt; |\n",
       "|---|---|---|---|---|---|---|---|---|---|---|\n",
       "| 1 | 0.058376 | 0.841298 | 0.028906 | 0.013521 | 0.057898 | ACH-000380 | plasma_cell            | East Asian (EAS)  | 0.07038933 | 0.00000000 |\n",
       "| 2 | 0.036494 | 0.863657 | 0.032450 | 0.008646 | 0.058753 | ACH-000321 | blood                  | East Asian (EAS)  | 1.19534760 | 0.00000000 |\n",
       "| 3 | 0.011415 | 0.010345 | 0.003088 | 0.964387 | 0.010765 | ACH-000857 | breast                 | South Asian (SAS) | 5.61264738 | 0.00000000 |\n",
       "| 4 | 0.888580 | 0.017735 | 0.028750 | 0.055862 | 0.009074 | ACH-000883 | central_nervous_system | European (EUR)    | 5.71945727 | 0.00000000 |\n",
       "| 5 | 0.898368 | 0.014906 | 0.025614 | 0.052141 | 0.008971 | ACH-000936 | ovary                  | European (EUR)    | 5.18982456 | 0.02856915 |\n",
       "\n"
      ],
      "text/plain": [
       "  EUR      EAS      AMR      SAS      AFR      DepMap_ID \n",
       "1 0.058376 0.841298 0.028906 0.013521 0.057898 ACH-000380\n",
       "2 0.036494 0.863657 0.032450 0.008646 0.058753 ACH-000321\n",
       "3 0.011415 0.010345 0.003088 0.964387 0.010765 ACH-000857\n",
       "4 0.888580 0.017735 0.028750 0.055862 0.009074 ACH-000883\n",
       "5 0.898368 0.014906 0.025614 0.052141 0.008971 ACH-000936\n",
       "  lineage_subtype        popmax            TSPAN6     TNMD      \n",
       "1 plasma_cell            East Asian (EAS)  0.07038933 0.00000000\n",
       "2 blood                  East Asian (EAS)  1.19534760 0.00000000\n",
       "3 breast                 South Asian (SAS) 5.61264738 0.00000000\n",
       "4 central_nervous_system European (EUR)    5.71945727 0.00000000\n",
       "5 ovary                  European (EUR)    5.18982456 0.02856915"
      ]
     },
     "metadata": {},
     "output_type": "display_data"
    }
   ],
   "source": [
    "#Merge ancestry.averages and expression together\n",
    "ancestry.and.expression = inner_join(ancestry.averages, expression)\n",
    "ancestry.and.expression[1:5, 1:10]"
   ]
  },
  {
   "cell_type": "markdown",
   "metadata": {},
   "source": [
    "# Create a plot to visualize the expression for ancestry-associated genes"
   ]
  },
  {
   "cell_type": "markdown",
   "metadata": {},
   "source": [
    "We found a bunch of ancestry-associated genes in our previous analysis. Now, let's ask the question of whether different ancestry groups have differential expression of these genes."
   ]
  },
  {
   "cell_type": "code",
   "execution_count": 7,
   "metadata": {},
   "outputs": [
    {
     "name": "stderr",
     "output_type": "stream",
     "text": [
      "Using Ancestry, DepMap_ID as id variables\n",
      "\n"
     ]
    },
    {
     "data": {
      "text/html": [
       "<table class=\"dataframe\">\n",
       "<caption>A data.frame: 6 × 4</caption>\n",
       "<thead>\n",
       "\t<tr><th></th><th scope=col>Ancestry</th><th scope=col>DepMap_ID</th><th scope=col>variable</th><th scope=col>value</th></tr>\n",
       "\t<tr><th></th><th scope=col>&lt;chr&gt;</th><th scope=col>&lt;chr&gt;</th><th scope=col>&lt;fct&gt;</th><th scope=col>&lt;dbl&gt;</th></tr>\n",
       "</thead>\n",
       "<tbody>\n",
       "\t<tr><th scope=row>1</th><td>East Asian (EAS)</td><td>ACH-000380</td><td>CLSPN</td><td>3.956057</td></tr>\n",
       "\t<tr><th scope=row>2</th><td>East Asian (EAS)</td><td>ACH-000321</td><td>CLSPN</td><td>3.047887</td></tr>\n",
       "\t<tr><th scope=row>3</th><td>European (EUR)  </td><td>ACH-000883</td><td>CLSPN</td><td>4.670161</td></tr>\n",
       "\t<tr><th scope=row>4</th><td>European (EUR)  </td><td>ACH-000936</td><td>CLSPN</td><td>3.874797</td></tr>\n",
       "\t<tr><th scope=row>5</th><td>European (EUR)  </td><td>ACH-000290</td><td>CLSPN</td><td>6.754620</td></tr>\n",
       "\t<tr><th scope=row>6</th><td>European (EUR)  </td><td>ACH-000885</td><td>CLSPN</td><td>4.133399</td></tr>\n",
       "</tbody>\n",
       "</table>\n"
      ],
      "text/latex": [
       "A data.frame: 6 × 4\n",
       "\\begin{tabular}{r|llll}\n",
       "  & Ancestry & DepMap\\_ID & variable & value\\\\\n",
       "  & <chr> & <chr> & <fct> & <dbl>\\\\\n",
       "\\hline\n",
       "\t1 & East Asian (EAS) & ACH-000380 & CLSPN & 3.956057\\\\\n",
       "\t2 & East Asian (EAS) & ACH-000321 & CLSPN & 3.047887\\\\\n",
       "\t3 & European (EUR)   & ACH-000883 & CLSPN & 4.670161\\\\\n",
       "\t4 & European (EUR)   & ACH-000936 & CLSPN & 3.874797\\\\\n",
       "\t5 & European (EUR)   & ACH-000290 & CLSPN & 6.754620\\\\\n",
       "\t6 & European (EUR)   & ACH-000885 & CLSPN & 4.133399\\\\\n",
       "\\end{tabular}\n"
      ],
      "text/markdown": [
       "\n",
       "A data.frame: 6 × 4\n",
       "\n",
       "| <!--/--> | Ancestry &lt;chr&gt; | DepMap_ID &lt;chr&gt; | variable &lt;fct&gt; | value &lt;dbl&gt; |\n",
       "|---|---|---|---|---|\n",
       "| 1 | East Asian (EAS) | ACH-000380 | CLSPN | 3.956057 |\n",
       "| 2 | East Asian (EAS) | ACH-000321 | CLSPN | 3.047887 |\n",
       "| 3 | European (EUR)   | ACH-000883 | CLSPN | 4.670161 |\n",
       "| 4 | European (EUR)   | ACH-000936 | CLSPN | 3.874797 |\n",
       "| 5 | European (EUR)   | ACH-000290 | CLSPN | 6.754620 |\n",
       "| 6 | European (EUR)   | ACH-000885 | CLSPN | 4.133399 |\n",
       "\n"
      ],
      "text/plain": [
       "  Ancestry         DepMap_ID  variable value   \n",
       "1 East Asian (EAS) ACH-000380 CLSPN    3.956057\n",
       "2 East Asian (EAS) ACH-000321 CLSPN    3.047887\n",
       "3 European (EUR)   ACH-000883 CLSPN    4.670161\n",
       "4 European (EUR)   ACH-000936 CLSPN    3.874797\n",
       "5 European (EUR)   ACH-000290 CLSPN    6.754620\n",
       "6 European (EUR)   ACH-000885 CLSPN    4.133399"
      ]
     },
     "metadata": {},
     "output_type": "display_data"
    }
   ],
   "source": [
    "#First, subset the dataframe so that it only includes the data we are interested in\n",
    "df.subset.for.plotting = ancestry.and.expression %>%\n",
    "select(popmax, DepMap_ID, CLSPN, RHD, UGT2B17, CHGB) %>%\n",
    "filter(popmax %in% c(\"European (EUR)\", \"East Asian (EAS)\")) %>%\n",
    "rename(\"Ancestry\" = popmax) %>%\n",
    "melt()\n",
    "\n",
    "head(df.subset.for.plotting)"
   ]
  },
  {
   "cell_type": "code",
   "execution_count": 11,
   "metadata": {},
   "outputs": [
    {
     "data": {
      "image/png": "[encoded data removed]",
      "text/plain": [
       "plot without title"
      ]
     },
     "metadata": {
      "image/png": {
       "height": 420,
       "width": 420
      }
     },
     "output_type": "display_data"
    }
   ],
   "source": [
    "#Now plot the data\n",
    "set.seed(42)\n",
    "group.colors <- c(\"East Asian (EAS)\" = \"chartreuse4\", \"European (EUR)\" = \"dodgerblue4\") #Make the color vector\n",
    "\n",
    "df.subset.for.plotting %>%\n",
    "ggplot(aes(x = variable, y = value, fill = Ancestry)) +\n",
    "geom_boxplot(position=position_dodge(0.8)) +\n",
    "scale_fill_manual(values = group.colors) +\n",
    "\n",
    "theme_bw() +\n",
    "\n",
    "theme(\n",
    "panel.border = element_blank(), \n",
    "panel.grid.major = element_blank(),\n",
    "panel.grid.minor = element_blank(), \n",
    "axis.line = element_line(color = \"black\")\n",
    ") +\n",
    "\n",
    "theme(\n",
    "axis.text.x = element_text(face=\"bold\", size=14),\n",
    "axis.text.y = element_text(face=\"bold\", size=14)\n",
    ") +\n",
    "\n",
    "theme(\n",
    "panel.border = element_blank(), panel.grid.major = element_blank(),\n",
    "panel.grid.minor = element_blank(), axis.line = element_line(color = \"black\")\n",
    ") +\n",
    "\n",
    "theme(\n",
    "axis.title.x = element_text(color = \"black\", size = 20, face = \"bold\"),\n",
    "axis.title.y = element_text(color = \"black\", size = 20, face = \"bold\")\n",
    ") +\n",
    "\n",
    "theme(\n",
    "axis.text=element_text(size = 14, face = \"bold\"),\n",
    ") +\n",
    "\n",
    "theme(\n",
    "legend.title = element_text(size = 14, face = \"bold\"),\n",
    "legend.text = element_text(size = 10, face = \"bold\")\n",
    ") +\n",
    "\n",
    "theme(\n",
    "axis.text.x = element_text(angle = 45, vjust = 0.5, hjust = 0.5)\n",
    ") +\n",
    "\n",
    "theme(\n",
    "legend.position = c(0.35, 0.85),\n",
    "legend.title=element_text(size=30), \n",
    "legend.text=element_text(size=20)\n",
    ") +\n",
    "\n",
    "\n",
    "xlab(\"Gene\") +\n",
    "ylab(\"mRNA Expression\") \n",
    "\n",
    "#Put the exported image into the google bucket\n",
    "ggsave(\"ancestry_association_expression.png\", dpi = 300, width = 10, height = 10)\n",
    "system(glue::glue(\"\n",
    "cd {working_dir}/ccle_ancestry_analysis\n",
    "gsutil cp ancestry_association_expression.png {workspace_bucket}\n",
    "\"))"
   ]
  },
  {
   "cell_type": "code",
   "execution_count": null,
   "metadata": {},
   "outputs": [],
   "source": []
  },
  {
   "cell_type": "code",
   "execution_count": null,
   "metadata": {},
   "outputs": [],
   "source": []
  },
  {
   "cell_type": "code",
   "execution_count": null,
   "metadata": {},
   "outputs": [],
   "source": []
  },
  {
   "cell_type": "code",
   "execution_count": null,
   "metadata": {},
   "outputs": [],
   "source": []
  },
  {
   "cell_type": "code",
   "execution_count": null,
   "metadata": {},
   "outputs": [],
   "source": []
  },
  {
   "cell_type": "code",
   "execution_count": null,
   "metadata": {},
   "outputs": [],
   "source": []
  },
  {
   "cell_type": "code",
   "execution_count": null,
   "metadata": {},
   "outputs": [],
   "source": []
  },
  {
   "cell_type": "code",
   "execution_count": null,
   "metadata": {},
   "outputs": [],
   "source": []
  },
  {
   "cell_type": "code",
   "execution_count": null,
   "metadata": {},
   "outputs": [],
   "source": []
  }
 ],
 "metadata": {
  "kernelspec": {
   "display_name": "R",
   "language": "R",
   "name": "ir"
  },
  "language_info": {
   "codemirror_mode": "r",
   "file_extension": ".r",
   "mimetype": "text/x-r-source",
   "name": "R",
   "pygments_lexer": "r",
   "version": "4.1.1"
  },
  "toc": {
   "base_numbering": 1,
   "nav_menu": {},
   "number_sections": true,
   "sideBar": true,
   "skip_h1_title": false,
   "title_cell": "Table of Contents",
   "title_sidebar": "Contents",
   "toc_cell": false,
   "toc_position": {},
   "toc_section_display": true,
   "toc_window_display": false
  }
 },
 "nbformat": 4,
 "nbformat_minor": 2
}
