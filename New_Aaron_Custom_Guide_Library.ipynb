{
 "cells": [
  {
   "cell_type": "markdown",
   "metadata": {},
   "source": [
    "The purpose of this notebook is to analyze the custom guide library that Aaron created.\n",
    "\n",
    "The paper will have a figure describing this library, and that figure will be generated in this notebook"
   ]
  },
  {
   "cell_type": "code",
   "execution_count": 1,
   "metadata": {},
   "outputs": [
    {
     "name": "stderr",
     "output_type": "stream",
     "text": [
      "Warning message in system(\"timedatectl\", intern = TRUE):\n",
      "“running command 'timedatectl' had status 1”\n",
      "── \u001b[1mAttaching packages\u001b[22m ─────────────────────────────────────── tidyverse 1.3.1 ──\n",
      "\n",
      "\u001b[32m✔\u001b[39m \u001b[34mggplot2\u001b[39m 3.3.6     \u001b[32m✔\u001b[39m \u001b[34mpurrr  \u001b[39m 0.3.4\n",
      "\u001b[32m✔\u001b[39m \u001b[34mtibble \u001b[39m 3.1.7     \u001b[32m✔\u001b[39m \u001b[34mdplyr  \u001b[39m 1.0.9\n",
      "\u001b[32m✔\u001b[39m \u001b[34mtidyr  \u001b[39m 1.2.0     \u001b[32m✔\u001b[39m \u001b[34mstringr\u001b[39m 1.4.0\n",
      "\u001b[32m✔\u001b[39m \u001b[34mreadr  \u001b[39m 2.1.2     \u001b[32m✔\u001b[39m \u001b[34mforcats\u001b[39m 0.5.1\n",
      "\n",
      "── \u001b[1mConflicts\u001b[22m ────────────────────────────────────────── tidyverse_conflicts() ──\n",
      "\u001b[31m✖\u001b[39m \u001b[34mdplyr\u001b[39m::\u001b[32mfilter()\u001b[39m masks \u001b[34mstats\u001b[39m::filter()\n",
      "\u001b[31m✖\u001b[39m \u001b[34mdplyr\u001b[39m::\u001b[32mlag()\u001b[39m    masks \u001b[34mstats\u001b[39m::lag()\n",
      "\n",
      "\n",
      "Attaching package: ‘reshape2’\n",
      "\n",
      "\n",
      "The following object is masked from ‘package:tidyr’:\n",
      "\n",
      "    smiths\n",
      "\n",
      "\n"
     ]
    }
   ],
   "source": [
    "#set up the environment\n",
    "library(tidyverse)\n",
    "library(reshape2)"
   ]
  },
  {
   "cell_type": "code",
   "execution_count": 2,
   "metadata": {},
   "outputs": [
    {
     "data": {
      "text/html": [
       "<table class=\"dataframe\">\n",
       "<caption>A data.frame: 6 × 2</caption>\n",
       "<thead>\n",
       "\t<tr><th></th><th scope=col>sample</th><th scope=col>ancestry</th></tr>\n",
       "\t<tr><th></th><th scope=col>&lt;chr&gt;</th><th scope=col>&lt;chr&gt;</th></tr>\n",
       "</thead>\n",
       "<tbody>\n",
       "\t<tr><th scope=row>1</th><td>CHMI_CHMI3_WGS2</td><td>nfe</td></tr>\n",
       "\t<tr><th scope=row>2</th><td>HG00096        </td><td>nfe</td></tr>\n",
       "\t<tr><th scope=row>3</th><td>HG00097        </td><td>nfe</td></tr>\n",
       "\t<tr><th scope=row>4</th><td>HG00099        </td><td>nfe</td></tr>\n",
       "\t<tr><th scope=row>5</th><td>HG00100        </td><td>nfe</td></tr>\n",
       "\t<tr><th scope=row>6</th><td>HG00101        </td><td>nfe</td></tr>\n",
       "</tbody>\n",
       "</table>\n"
      ],
      "text/latex": [
       "A data.frame: 6 × 2\n",
       "\\begin{tabular}{r|ll}\n",
       "  & sample & ancestry\\\\\n",
       "  & <chr> & <chr>\\\\\n",
       "\\hline\n",
       "\t1 & CHMI\\_CHMI3\\_WGS2 & nfe\\\\\n",
       "\t2 & HG00096         & nfe\\\\\n",
       "\t3 & HG00097         & nfe\\\\\n",
       "\t4 & HG00099         & nfe\\\\\n",
       "\t5 & HG00100         & nfe\\\\\n",
       "\t6 & HG00101         & nfe\\\\\n",
       "\\end{tabular}\n"
      ],
      "text/markdown": [
       "\n",
       "A data.frame: 6 × 2\n",
       "\n",
       "| <!--/--> | sample &lt;chr&gt; | ancestry &lt;chr&gt; |\n",
       "|---|---|---|\n",
       "| 1 | CHMI_CHMI3_WGS2 | nfe |\n",
       "| 2 | HG00096         | nfe |\n",
       "| 3 | HG00097         | nfe |\n",
       "| 4 | HG00099         | nfe |\n",
       "| 5 | HG00100         | nfe |\n",
       "| 6 | HG00101         | nfe |\n",
       "\n"
      ],
      "text/plain": [
       "  sample          ancestry\n",
       "1 CHMI_CHMI3_WGS2 nfe     \n",
       "2 HG00096         nfe     \n",
       "3 HG00097         nfe     \n",
       "4 HG00099         nfe     \n",
       "5 HG00100         nfe     \n",
       "6 HG00101         nfe     "
      ]
     },
     "metadata": {},
     "output_type": "display_data"
    }
   ],
   "source": [
    "#Load in the gnomAD annotation file so that we know which sample belongs to each ancestry group\n",
    "setwd(\"/home/jupyter/Ancestry/raw_data/hgdp\")\n",
    "sample.annotation = read.table(\"gnomad.genomes.v3.1.2.hgdp_1kg_subset_sample_meta.tsv.bgz\", sep = \"\\t\", header = T) %>%\n",
    "select(s, gnomad_population_inference) %>%\n",
    "mutate(gnomad_population_inference = gsub(\"\\\\..*pop\", \"\", gnomad_population_inference)) %>%\n",
    "mutate(gnomad_population_inference = gsub(\"prob..*\", \"\", gnomad_population_inference)) %>%\n",
    "mutate(gnomad_population_inference = gsub(\"..*:\", \"\", gnomad_population_inference)) %>%\n",
    "mutate(gnomad_population_inference = gsub(\",\", \"\", gnomad_population_inference)) %>%\n",
    "rename(\"sample\" = 1, \"ancestry\" = 2)\n",
    "\n",
    "head(sample.annotation)"
   ]
  },
  {
   "cell_type": "code",
   "execution_count": 3,
   "metadata": {},
   "outputs": [
    {
     "data": {
      "text/html": [
       "<table class=\"dataframe\">\n",
       "<caption>A data.frame: 6 × 4155</caption>\n",
       "<thead>\n",
       "\t<tr><th></th><th scope=col>seq</th><th scope=col>chr</th><th scope=col>posL</th><th scope=col>posR</th><th scope=col>CHMI_CHMI3_WGS2</th><th scope=col>LP6005441.DNA_F08</th><th scope=col>HGDP00843</th><th scope=col>HGDP00392</th><th scope=col>LP6005441.DNA_H03</th><th scope=col>HGDP00544</th><th scope=col>⋯</th><th scope=col>HG00288</th><th scope=col>HG00290</th><th scope=col>HG00304</th><th scope=col>HG01765</th><th scope=col>HG01766</th><th scope=col>HG01767</th><th scope=col>HG01768</th><th scope=col>HG01785</th><th scope=col>HG01786</th><th scope=col>HG02219</th></tr>\n",
       "\t<tr><th></th><th scope=col>&lt;chr&gt;</th><th scope=col>&lt;chr&gt;</th><th scope=col>&lt;int&gt;</th><th scope=col>&lt;int&gt;</th><th scope=col>&lt;int&gt;</th><th scope=col>&lt;int&gt;</th><th scope=col>&lt;int&gt;</th><th scope=col>&lt;int&gt;</th><th scope=col>&lt;int&gt;</th><th scope=col>&lt;int&gt;</th><th scope=col>⋯</th><th scope=col>&lt;int&gt;</th><th scope=col>&lt;int&gt;</th><th scope=col>&lt;int&gt;</th><th scope=col>&lt;int&gt;</th><th scope=col>&lt;int&gt;</th><th scope=col>&lt;int&gt;</th><th scope=col>&lt;int&gt;</th><th scope=col>&lt;int&gt;</th><th scope=col>&lt;int&gt;</th><th scope=col>&lt;int&gt;</th></tr>\n",
       "</thead>\n",
       "<tbody>\n",
       "\t<tr><th scope=row>1</th><td>AAAACTGCTACAATACTCCA</td><td>chr22</td><td>49925465</td><td>49925487</td><td>0</td><td>0</td><td>0</td><td>0</td><td>0</td><td>0</td><td>⋯</td><td>0</td><td>0</td><td>0</td><td>0</td><td>0</td><td>0</td><td>0</td><td>0</td><td>0</td><td>0</td></tr>\n",
       "\t<tr><th scope=row>2</th><td>AAACACACCCAGCATCAACC</td><td>chr22</td><td>50423557</td><td>50423579</td><td>0</td><td>0</td><td>0</td><td>0</td><td>0</td><td>0</td><td>⋯</td><td>0</td><td>0</td><td>0</td><td>0</td><td>0</td><td>0</td><td>0</td><td>0</td><td>0</td><td>0</td></tr>\n",
       "\t<tr><th scope=row>3</th><td>AAACACGATCAGGTCAATTC</td><td>chr22</td><td>41945939</td><td>41945961</td><td>0</td><td>0</td><td>0</td><td>0</td><td>0</td><td>0</td><td>⋯</td><td>0</td><td>0</td><td>0</td><td>0</td><td>0</td><td>0</td><td>0</td><td>0</td><td>0</td><td>0</td></tr>\n",
       "\t<tr><th scope=row>4</th><td>AAAGAGGACAGCTCTGACAA</td><td>chr22</td><td>15695464</td><td>15695486</td><td>0</td><td>0</td><td>0</td><td>0</td><td>0</td><td>0</td><td>⋯</td><td>0</td><td>0</td><td>0</td><td>0</td><td>0</td><td>0</td><td>0</td><td>0</td><td>0</td><td>0</td></tr>\n",
       "\t<tr><th scope=row>5</th><td>AAAGCAGCAGCATCCATGGT</td><td>chr22</td><td>21047999</td><td>21048021</td><td>0</td><td>0</td><td>0</td><td>0</td><td>0</td><td>0</td><td>⋯</td><td>0</td><td>0</td><td>0</td><td>0</td><td>0</td><td>0</td><td>0</td><td>0</td><td>0</td><td>0</td></tr>\n",
       "\t<tr><th scope=row>6</th><td>AAAGCCGTCCTGTCCGACAT</td><td>chr22</td><td>39374523</td><td>39374545</td><td>0</td><td>0</td><td>0</td><td>0</td><td>0</td><td>0</td><td>⋯</td><td>0</td><td>0</td><td>0</td><td>0</td><td>0</td><td>0</td><td>0</td><td>0</td><td>0</td><td>0</td></tr>\n",
       "</tbody>\n",
       "</table>\n"
      ],
      "text/latex": [
       "A data.frame: 6 × 4155\n",
       "\\begin{tabular}{r|lllllllllllllllllllll}\n",
       "  & seq & chr & posL & posR & CHMI\\_CHMI3\\_WGS2 & LP6005441.DNA\\_F08 & HGDP00843 & HGDP00392 & LP6005441.DNA\\_H03 & HGDP00544 & ⋯ & HG00288 & HG00290 & HG00304 & HG01765 & HG01766 & HG01767 & HG01768 & HG01785 & HG01786 & HG02219\\\\\n",
       "  & <chr> & <chr> & <int> & <int> & <int> & <int> & <int> & <int> & <int> & <int> & ⋯ & <int> & <int> & <int> & <int> & <int> & <int> & <int> & <int> & <int> & <int>\\\\\n",
       "\\hline\n",
       "\t1 & AAAACTGCTACAATACTCCA & chr22 & 49925465 & 49925487 & 0 & 0 & 0 & 0 & 0 & 0 & ⋯ & 0 & 0 & 0 & 0 & 0 & 0 & 0 & 0 & 0 & 0\\\\\n",
       "\t2 & AAACACACCCAGCATCAACC & chr22 & 50423557 & 50423579 & 0 & 0 & 0 & 0 & 0 & 0 & ⋯ & 0 & 0 & 0 & 0 & 0 & 0 & 0 & 0 & 0 & 0\\\\\n",
       "\t3 & AAACACGATCAGGTCAATTC & chr22 & 41945939 & 41945961 & 0 & 0 & 0 & 0 & 0 & 0 & ⋯ & 0 & 0 & 0 & 0 & 0 & 0 & 0 & 0 & 0 & 0\\\\\n",
       "\t4 & AAAGAGGACAGCTCTGACAA & chr22 & 15695464 & 15695486 & 0 & 0 & 0 & 0 & 0 & 0 & ⋯ & 0 & 0 & 0 & 0 & 0 & 0 & 0 & 0 & 0 & 0\\\\\n",
       "\t5 & AAAGCAGCAGCATCCATGGT & chr22 & 21047999 & 21048021 & 0 & 0 & 0 & 0 & 0 & 0 & ⋯ & 0 & 0 & 0 & 0 & 0 & 0 & 0 & 0 & 0 & 0\\\\\n",
       "\t6 & AAAGCCGTCCTGTCCGACAT & chr22 & 39374523 & 39374545 & 0 & 0 & 0 & 0 & 0 & 0 & ⋯ & 0 & 0 & 0 & 0 & 0 & 0 & 0 & 0 & 0 & 0\\\\\n",
       "\\end{tabular}\n"
      ],
      "text/markdown": [
       "\n",
       "A data.frame: 6 × 4155\n",
       "\n",
       "| <!--/--> | seq &lt;chr&gt; | chr &lt;chr&gt; | posL &lt;int&gt; | posR &lt;int&gt; | CHMI_CHMI3_WGS2 &lt;int&gt; | LP6005441.DNA_F08 &lt;int&gt; | HGDP00843 &lt;int&gt; | HGDP00392 &lt;int&gt; | LP6005441.DNA_H03 &lt;int&gt; | HGDP00544 &lt;int&gt; | ⋯ ⋯ | HG00288 &lt;int&gt; | HG00290 &lt;int&gt; | HG00304 &lt;int&gt; | HG01765 &lt;int&gt; | HG01766 &lt;int&gt; | HG01767 &lt;int&gt; | HG01768 &lt;int&gt; | HG01785 &lt;int&gt; | HG01786 &lt;int&gt; | HG02219 &lt;int&gt; |\n",
       "|---|---|---|---|---|---|---|---|---|---|---|---|---|---|---|---|---|---|---|---|---|---|\n",
       "| 1 | AAAACTGCTACAATACTCCA | chr22 | 49925465 | 49925487 | 0 | 0 | 0 | 0 | 0 | 0 | ⋯ | 0 | 0 | 0 | 0 | 0 | 0 | 0 | 0 | 0 | 0 |\n",
       "| 2 | AAACACACCCAGCATCAACC | chr22 | 50423557 | 50423579 | 0 | 0 | 0 | 0 | 0 | 0 | ⋯ | 0 | 0 | 0 | 0 | 0 | 0 | 0 | 0 | 0 | 0 |\n",
       "| 3 | AAACACGATCAGGTCAATTC | chr22 | 41945939 | 41945961 | 0 | 0 | 0 | 0 | 0 | 0 | ⋯ | 0 | 0 | 0 | 0 | 0 | 0 | 0 | 0 | 0 | 0 |\n",
       "| 4 | AAAGAGGACAGCTCTGACAA | chr22 | 15695464 | 15695486 | 0 | 0 | 0 | 0 | 0 | 0 | ⋯ | 0 | 0 | 0 | 0 | 0 | 0 | 0 | 0 | 0 | 0 |\n",
       "| 5 | AAAGCAGCAGCATCCATGGT | chr22 | 21047999 | 21048021 | 0 | 0 | 0 | 0 | 0 | 0 | ⋯ | 0 | 0 | 0 | 0 | 0 | 0 | 0 | 0 | 0 | 0 |\n",
       "| 6 | AAAGCCGTCCTGTCCGACAT | chr22 | 39374523 | 39374545 | 0 | 0 | 0 | 0 | 0 | 0 | ⋯ | 0 | 0 | 0 | 0 | 0 | 0 | 0 | 0 | 0 | 0 |\n",
       "\n"
      ],
      "text/plain": [
       "  seq                  chr   posL     posR     CHMI_CHMI3_WGS2\n",
       "1 AAAACTGCTACAATACTCCA chr22 49925465 49925487 0              \n",
       "2 AAACACACCCAGCATCAACC chr22 50423557 50423579 0              \n",
       "3 AAACACGATCAGGTCAATTC chr22 41945939 41945961 0              \n",
       "4 AAAGAGGACAGCTCTGACAA chr22 15695464 15695486 0              \n",
       "5 AAAGCAGCAGCATCCATGGT chr22 21047999 21048021 0              \n",
       "6 AAAGCCGTCCTGTCCGACAT chr22 39374523 39374545 0              \n",
       "  LP6005441.DNA_F08 HGDP00843 HGDP00392 LP6005441.DNA_H03 HGDP00544 ⋯ HG00288\n",
       "1 0                 0         0         0                 0         ⋯ 0      \n",
       "2 0                 0         0         0                 0         ⋯ 0      \n",
       "3 0                 0         0         0                 0         ⋯ 0      \n",
       "4 0                 0         0         0                 0         ⋯ 0      \n",
       "5 0                 0         0         0                 0         ⋯ 0      \n",
       "6 0                 0         0         0                 0         ⋯ 0      \n",
       "  HG00290 HG00304 HG01765 HG01766 HG01767 HG01768 HG01785 HG01786 HG02219\n",
       "1 0       0       0       0       0       0       0       0       0      \n",
       "2 0       0       0       0       0       0       0       0       0      \n",
       "3 0       0       0       0       0       0       0       0       0      \n",
       "4 0       0       0       0       0       0       0       0       0      \n",
       "5 0       0       0       0       0       0       0       0       0      \n",
       "6 0       0       0       0       0       0       0       0       0      "
      ]
     },
     "metadata": {},
     "output_type": "display_data"
    }
   ],
   "source": [
    "#Load in Aaron's data\n",
    "setwd(\"/home/jupyter/Ancestry/analysis/aaron_custom_guide_library\")\n",
    "custom.guides = read.table(\"final_custom_library.txt\", header = T)\n",
    "head(custom.guides)"
   ]
  },
  {
   "cell_type": "code",
   "execution_count": 5,
   "metadata": {},
   "outputs": [],
   "source": [
    "#Calculate the number of guides in the library\n",
    "tot.guides = nrow(custom.guides)"
   ]
  },
  {
   "cell_type": "code",
   "execution_count": 6,
   "metadata": {},
   "outputs": [
    {
     "data": {
      "text/html": [
       "<style>\n",
       ".dl-inline {width: auto; margin:0; padding: 0}\n",
       ".dl-inline>dt, .dl-inline>dd {float: none; width: auto; display: inline-block}\n",
       ".dl-inline>dt::after {content: \":\\0020\"; padding-right: .5ex}\n",
       ".dl-inline>dt:not(:first-of-type) {padding-left: .5ex}\n",
       "</style><dl class=dl-inline><dt>CHMI_CHMI3_WGS2</dt><dd>150</dd><dt>LP6005441.DNA_F08</dt><dd>186</dd><dt>HGDP00843</dt><dd>152</dd><dt>HGDP00392</dt><dd>167</dd><dt>LP6005441.DNA_H03</dt><dd>165</dd><dt>HGDP00544</dt><dd>200</dd></dl>\n"
      ],
      "text/latex": [
       "\\begin{description*}\n",
       "\\item[CHMI\\textbackslash{}\\_CHMI3\\textbackslash{}\\_WGS2] 150\n",
       "\\item[LP6005441.DNA\\textbackslash{}\\_F08] 186\n",
       "\\item[HGDP00843] 152\n",
       "\\item[HGDP00392] 167\n",
       "\\item[LP6005441.DNA\\textbackslash{}\\_H03] 165\n",
       "\\item[HGDP00544] 200\n",
       "\\end{description*}\n"
      ],
      "text/markdown": [
       "CHMI_CHMI3_WGS2\n",
       ":   150LP6005441.DNA_F08\n",
       ":   186HGDP00843\n",
       ":   152HGDP00392\n",
       ":   167LP6005441.DNA_H03\n",
       ":   165HGDP00544\n",
       ":   200\n",
       "\n"
      ],
      "text/plain": [
       "  CHMI_CHMI3_WGS2 LP6005441.DNA_F08         HGDP00843         HGDP00392 \n",
       "              150               186               152               167 \n",
       "LP6005441.DNA_H03         HGDP00544 \n",
       "              165               200 "
      ]
     },
     "metadata": {},
     "output_type": "display_data"
    },
    {
     "data": {
      "text/html": [
       "<style>\n",
       ".list-inline {list-style: none; margin:0; padding: 0}\n",
       ".list-inline>li {display: inline-block}\n",
       ".list-inline>li:not(:last-child)::after {content: \"\\00b7\"; padding: 0 .5ex}\n",
       "</style>\n",
       "<ol class=list-inline><li>'CHMI_CHMI3_WGS2'</li><li>'LP6005441.DNA_F08'</li><li>'HGDP00843'</li><li>'HGDP00392'</li><li>'LP6005441.DNA_H03'</li><li>'HGDP00544'</li></ol>\n"
      ],
      "text/latex": [
       "\\begin{enumerate*}\n",
       "\\item 'CHMI\\_CHMI3\\_WGS2'\n",
       "\\item 'LP6005441.DNA\\_F08'\n",
       "\\item 'HGDP00843'\n",
       "\\item 'HGDP00392'\n",
       "\\item 'LP6005441.DNA\\_H03'\n",
       "\\item 'HGDP00544'\n",
       "\\end{enumerate*}\n"
      ],
      "text/markdown": [
       "1. 'CHMI_CHMI3_WGS2'\n",
       "2. 'LP6005441.DNA_F08'\n",
       "3. 'HGDP00843'\n",
       "4. 'HGDP00392'\n",
       "5. 'LP6005441.DNA_H03'\n",
       "6. 'HGDP00544'\n",
       "\n",
       "\n"
      ],
      "text/plain": [
       "[1] \"CHMI_CHMI3_WGS2\"   \"LP6005441.DNA_F08\" \"HGDP00843\"        \n",
       "[4] \"HGDP00392\"         \"LP6005441.DNA_H03\" \"HGDP00544\"        "
      ]
     },
     "metadata": {},
     "output_type": "display_data"
    },
    {
     "data": {
      "text/html": [
       "4151"
      ],
      "text/latex": [
       "4151"
      ],
      "text/markdown": [
       "4151"
      ],
      "text/plain": [
       "[1] 4151"
      ]
     },
     "metadata": {},
     "output_type": "display_data"
    },
    {
     "data": {
      "text/html": [
       "<style>\n",
       ".list-inline {list-style: none; margin:0; padding: 0}\n",
       ".list-inline>li {display: inline-block}\n",
       ".list-inline>li:not(:last-child)::after {content: \"\\00b7\"; padding: 0 .5ex}\n",
       "</style>\n",
       "<ol class=list-inline><li>4010</li><li>4</li></ol>\n"
      ],
      "text/latex": [
       "\\begin{enumerate*}\n",
       "\\item 4010\n",
       "\\item 4\n",
       "\\end{enumerate*}\n"
      ],
      "text/markdown": [
       "1. 4010\n",
       "2. 4\n",
       "\n",
       "\n"
      ],
      "text/plain": [
       "[1] 4010    4"
      ]
     },
     "metadata": {},
     "output_type": "display_data"
    },
    {
     "data": {
      "text/html": [
       "<table class=\"dataframe\">\n",
       "<caption>A data.frame: 6 × 4</caption>\n",
       "<thead>\n",
       "\t<tr><th></th><th scope=col>sample</th><th scope=col>num_guides</th><th scope=col>ancestry</th><th scope=col>percent_guides</th></tr>\n",
       "\t<tr><th></th><th scope=col>&lt;chr&gt;</th><th scope=col>&lt;dbl&gt;</th><th scope=col>&lt;chr&gt;</th><th scope=col>&lt;dbl&gt;</th></tr>\n",
       "</thead>\n",
       "<tbody>\n",
       "\t<tr><th scope=row>1</th><td>CHMI_CHMI3_WGS2</td><td>150</td><td>nfe</td><td>0.2035831</td></tr>\n",
       "\t<tr><th scope=row>2</th><td>HGDP00843      </td><td>152</td><td>amr</td><td>0.2062975</td></tr>\n",
       "\t<tr><th scope=row>3</th><td>HGDP00392      </td><td>167</td><td>sas</td><td>0.2266558</td></tr>\n",
       "\t<tr><th scope=row>4</th><td>HGDP00544      </td><td>200</td><td>oth</td><td>0.2714441</td></tr>\n",
       "\t<tr><th scope=row>5</th><td>HGDP01053      </td><td>169</td><td>amr</td><td>0.2293702</td></tr>\n",
       "\t<tr><th scope=row>6</th><td>HGDP00191      </td><td>173</td><td>sas</td><td>0.2347991</td></tr>\n",
       "</tbody>\n",
       "</table>\n"
      ],
      "text/latex": [
       "A data.frame: 6 × 4\n",
       "\\begin{tabular}{r|llll}\n",
       "  & sample & num\\_guides & ancestry & percent\\_guides\\\\\n",
       "  & <chr> & <dbl> & <chr> & <dbl>\\\\\n",
       "\\hline\n",
       "\t1 & CHMI\\_CHMI3\\_WGS2 & 150 & nfe & 0.2035831\\\\\n",
       "\t2 & HGDP00843       & 152 & amr & 0.2062975\\\\\n",
       "\t3 & HGDP00392       & 167 & sas & 0.2266558\\\\\n",
       "\t4 & HGDP00544       & 200 & oth & 0.2714441\\\\\n",
       "\t5 & HGDP01053       & 169 & amr & 0.2293702\\\\\n",
       "\t6 & HGDP00191       & 173 & sas & 0.2347991\\\\\n",
       "\\end{tabular}\n"
      ],
      "text/markdown": [
       "\n",
       "A data.frame: 6 × 4\n",
       "\n",
       "| <!--/--> | sample &lt;chr&gt; | num_guides &lt;dbl&gt; | ancestry &lt;chr&gt; | percent_guides &lt;dbl&gt; |\n",
       "|---|---|---|---|---|\n",
       "| 1 | CHMI_CHMI3_WGS2 | 150 | nfe | 0.2035831 |\n",
       "| 2 | HGDP00843       | 152 | amr | 0.2062975 |\n",
       "| 3 | HGDP00392       | 167 | sas | 0.2266558 |\n",
       "| 4 | HGDP00544       | 200 | oth | 0.2714441 |\n",
       "| 5 | HGDP01053       | 169 | amr | 0.2293702 |\n",
       "| 6 | HGDP00191       | 173 | sas | 0.2347991 |\n",
       "\n"
      ],
      "text/plain": [
       "  sample          num_guides ancestry percent_guides\n",
       "1 CHMI_CHMI3_WGS2 150        nfe      0.2035831     \n",
       "2 HGDP00843       152        amr      0.2062975     \n",
       "3 HGDP00392       167        sas      0.2266558     \n",
       "4 HGDP00544       200        oth      0.2714441     \n",
       "5 HGDP01053       169        amr      0.2293702     \n",
       "6 HGDP00191       173        sas      0.2347991     "
      ]
     },
     "metadata": {},
     "output_type": "display_data"
    }
   ],
   "source": [
    "#calculate the number of affected guides per individual\n",
    "guides.per.person = custom.guides %>%\n",
    "select(-seq, -chr, -posL, -posR) %>%\n",
    "apply(2, sum)\n",
    "head(guides.per.person)\n",
    "\n",
    "#Get a vector of the names\n",
    "sample.names = colnames(custom.guides)[5:ncol(custom.guides)]\n",
    "head(sample.names)\n",
    "\n",
    "#Assemble everything into a single data frame\n",
    "affected.guides.df = cbind(sample.names, guides.per.person) %>%\n",
    "data.frame() %>%\n",
    "rename(\"sample\" = 1, \"num_guides\" = 2) %>%\n",
    "inner_join(sample.annotation, by = \"sample\") %>%\n",
    "mutate(num_guides = as.numeric(num_guides)) %>%\n",
    "filter(ancestry != \"NA\") %>%\n",
    "mutate(percent_guides = (num_guides/tot.guides)*100)\n",
    "\n",
    "length(sample.names)\n",
    "dim(affected.guides.df)\n",
    "head(affected.guides.df)\n"
   ]
  },
  {
   "cell_type": "code",
   "execution_count": 10,
   "metadata": {},
   "outputs": [
    {
     "data": {
      "image/png": "[encoded data removed]",
      "text/plain": [
       "plot without title"
      ]
     },
     "metadata": {
      "image/png": {
       "height": 420,
       "width": 420
      }
     },
     "output_type": "display_data"
    }
   ],
   "source": [
    "#Plot the data\n",
    "affected.guides.df %>%\n",
    "ggplot() +\n",
    "geom_histogram(aes(x = percent_guides, color = ancestry, fill = ancestry), bins = 90, position=\"identity\") +\n",
    "theme_bw() +\n",
    "\n",
    "scale_color_manual(values=c(\"darkorange2\", \"grey\", \"grey\", \"grey\", \"grey\", \"grey\", \"grey\", \"grey\")) +\n",
    "scale_fill_manual(values=c(\"darkorange2\", \"grey\", \"grey\", \"grey\", \"grey\", \"grey\", \"grey\", \"grey\")) +\n",
    "\n",
    "theme(\n",
    "panel.border = element_blank(), panel.grid.major = element_blank(),\n",
    "panel.grid.minor = element_blank(), axis.line = element_line(color = \"black\")\n",
    ") +\n",
    "\n",
    "theme(\n",
    "axis.title.x = element_text(color = \"black\", size = 14, face = \"bold\"),\n",
    "axis.title.y = element_text(color = \"black\", size = 14, face = \"bold\")\n",
    ") +\n",
    "\n",
    "theme(\n",
    "axis.text=element_text(size = 12, face = \"bold\"),\n",
    "axis.title=element_text(size = 14,face = \"bold\")\n",
    ") +\n",
    "\n",
    "theme(\n",
    "legend.title = element_text(size = 14, face = \"bold\"),\n",
    "legend.text = element_text(size = 10, face = \"bold\")\n",
    ") +\n",
    "\n",
    "scale_y_continuous(expand = c(0,0)) +\n",
    "scale_x_continuous(expand = c(0,0)) +\n",
    "\n",
    "ylab(\"Number of individuals\") +\n",
    "xlab(\"% affected guides\")\n",
    "\n",
    "\n",
    "\n",
    "setwd(\"/home/jupyter/Ancestry/analysis/aaron_custom_guide_library\")\n",
    "ggsave(\"affected_guides_per_individual_aaron_library.pdf\", width = 5, height = 3)\n",
    "system(glue::glue(\"\n",
    "cd /home/jupyter/Ancestry/analysis/aaron_custom_guide_library\n",
    "gsutil cp affected_guides_per_individual_aaron_library.pdf gs://fc-45c0e148-0b1c-4244-9bfc-feb559bbc514\n",
    "\"))"
   ]
  },
  {
   "cell_type": "code",
   "execution_count": null,
   "metadata": {},
   "outputs": [],
   "source": []
  }
 ],
 "metadata": {
  "kernelspec": {
   "display_name": "R",
   "language": "R",
   "name": "ir"
  },
  "language_info": {
   "codemirror_mode": "r",
   "file_extension": ".r",
   "mimetype": "text/x-r-source",
   "name": "R",
   "pygments_lexer": "r",
   "version": "4.2.1"
  },
  "toc": {
   "base_numbering": 1,
   "nav_menu": {},
   "number_sections": true,
   "sideBar": true,
   "skip_h1_title": false,
   "title_cell": "Table of Contents",
   "title_sidebar": "Contents",
   "toc_cell": false,
   "toc_position": {},
   "toc_section_display": true,
   "toc_window_display": false
  }
 },
 "nbformat": 4,
 "nbformat_minor": 2
}
