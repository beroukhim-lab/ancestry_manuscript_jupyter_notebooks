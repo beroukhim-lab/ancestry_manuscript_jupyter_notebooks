{
 "cells": [
  {
   "cell_type": "markdown",
   "metadata": {},
   "source": [
    "The purpose of this code is to subset the gnomAD vcf files so that they only include variants that are of interest that map to guide ranges in the filtering.bed file."
   ]
  },
  {
   "cell_type": "code",
   "execution_count": 1,
   "metadata": {},
   "outputs": [],
   "source": [
    "#Arguments/Parameters\n",
    "\n",
    "working_dir = \"/home/jupyter/notebooks/Ancestry\"\n",
    "workspace_bucket = Sys.getenv('WORKSPACE_BUCKET')\n",
    "\n",
    "filtering_bed = \"minilibcas9_filtering.bed\" #The name of the bed file that will be used to subset the gnomAD data. This file must be uploaded to the workspace bucket.\n",
    "\n",
    "out_directory = \"minilibcas9\" #the output directory name\n"
   ]
  },
  {
   "cell_type": "code",
   "execution_count": 2,
   "metadata": {},
   "outputs": [],
   "source": [
    "#Build the directory structure \n",
    "\n",
    "system(glue::glue(\"\n",
    "\n",
    "cd {working_dir}\n",
    "\n",
    "#Build the master directory if it doesn't exist\n",
    "if [ ! -d '{working_dir}/filtered_output' ] \n",
    "then\n",
    "mkdir filtered_output\n",
    "fi\n",
    "\n",
    "#Make the sample-specific sub-directory\n",
    "mkdir filtered_output/{out_directory}\n",
    "\n",
    "\"))"
   ]
  },
  {
   "cell_type": "code",
   "execution_count": 3,
   "metadata": {},
   "outputs": [
    {
     "name": "stderr",
     "output_type": "stream",
     "text": [
      "Installing package into ‘/home/jupyter/notebooks/packages’\n",
      "(as ‘lib’ is unspecified)\n",
      "\n",
      "\n",
      "Attaching package: ‘dplyr’\n",
      "\n",
      "\n",
      "The following objects are masked from ‘package:stats’:\n",
      "\n",
      "    filter, lag\n",
      "\n",
      "\n",
      "The following objects are masked from ‘package:base’:\n",
      "\n",
      "    intersect, setdiff, setequal, union\n",
      "\n",
      "\n"
     ]
    },
    {
     "name": "stdout",
     "output_type": "stream",
     "text": [
      "[1] \"bcftools is already installed\"\n"
     ]
    }
   ],
   "source": [
    "#Install/load required packages/software\n",
    "\n",
    "#Download R packages\n",
    "install.packages(\"tictoc\")\n",
    "\n",
    "#Load R packages\n",
    "library(dplyr)\n",
    "library(tictoc)\n",
    "\n",
    "#Install bcftools\n",
    "step_install_bcftools <- !file.exists(glue::glue(\"{working_dir}/software/bcftools/bcftools\"))\n",
    "\n",
    "if(step_install_bcftools) {\n",
    "system(glue::glue(\"\n",
    "cd {working_dir}/software\n",
    "git clone --recurse-submodules git://github.com/samtools/htslib.git\n",
    "git clone git://github.com/samtools/bcftools.git\n",
    "cd bcftools\n",
    "autoheader && autoconf && ./configure --enable-libgsl --enable-perl-filters\n",
    "make\n",
    "export BCFTOOLS_PLUGINS=/home/jupyter-user/notebooks/Ancestry/software/bcftools/plugins\n",
    "\")) } else {print(\"bcftools is already installed\")}\n",
    "\n"
   ]
  },
  {
   "cell_type": "code",
   "execution_count": 4,
   "metadata": {},
   "outputs": [],
   "source": [
    "##Load the filtering.bed file into the filtering output directory\n",
    "\n",
    "system(glue::glue(\"\n",
    "\n",
    "cd {working_dir}/filtered_output/{out_directory}\n",
    "gsutil cp gs://fc-45c0e148-0b1c-4244-9bfc-feb559bbc514/{filtering_bed} .\n",
    "\n",
    "\"))"
   ]
  },
  {
   "cell_type": "code",
   "execution_count": null,
   "metadata": {},
   "outputs": [],
   "source": [
    "##Loop through all of the files and subset them\n",
    "\n",
    "tic()\n",
    "system(glue::glue(\"\n",
    "\n",
    "cd {working_dir}/raw_data/hgdp\n",
    "\n",
    "for vcffile in {working_dir}/raw_data/hgdp/*.vcf.bgz\n",
    "do\n",
    "/home/jupyter/notebooks/Ancestry/software/bcftools/bcftools view -R {working_dir}/filtered_output/{out_directory}/{filtering_bed} $vcffile -o $vcffile.{out_directory} -Ov\n",
    "done\n",
    "\n",
    "\"))\n",
    "toc()"
   ]
  },
  {
   "cell_type": "code",
   "execution_count": null,
   "metadata": {},
   "outputs": [],
   "source": [
    "#Move the files into a different directory for the filtered output\n",
    "system(glue::glue(\"\n",
    "\n",
    "cd {working_dir}/raw_data/hgdp\n",
    "mv *{out_directory} {working_dir}/filtered_output/{out_directory}\n",
    "\n",
    "\"))"
   ]
  },
  {
   "cell_type": "code",
   "execution_count": null,
   "metadata": {},
   "outputs": [],
   "source": []
  }
 ],
 "metadata": {
  "kernelspec": {
   "display_name": "R",
   "language": "R",
   "name": "ir"
  },
  "language_info": {
   "codemirror_mode": "r",
   "file_extension": ".r",
   "mimetype": "text/x-r-source",
   "name": "R",
   "pygments_lexer": "r",
   "version": "4.1.0"
  },
  "toc": {
   "base_numbering": 1,
   "nav_menu": {},
   "number_sections": true,
   "sideBar": true,
   "skip_h1_title": false,
   "title_cell": "Table of Contents",
   "title_sidebar": "Contents",
   "toc_cell": false,
   "toc_position": {},
   "toc_section_display": true,
   "toc_window_display": false
  }
 },
 "nbformat": 4,
 "nbformat_minor": 2
}
