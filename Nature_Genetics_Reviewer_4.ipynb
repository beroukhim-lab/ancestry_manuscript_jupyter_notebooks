{
 "cells": [
  {
   "cell_type": "markdown",
   "metadata": {},
   "source": [
    "The purpose of this notebook is to answer all of the concerns that Reviewer 4 had"
   ]
  },
  {
   "cell_type": "code",
   "execution_count": 1,
   "metadata": {
    "scrolled": true
   },
   "outputs": [
    {
     "name": "stderr",
     "output_type": "stream",
     "text": [
      "Warning message in system(\"timedatectl\", intern = TRUE):\n",
      "“running command 'timedatectl' had status 1”\n",
      "── \u001b[1mAttaching packages\u001b[22m ─────────────────────────────────────── tidyverse 1.3.2 ──\n",
      "\u001b[32m✔\u001b[39m \u001b[34mggplot2\u001b[39m 3.4.2     \u001b[32m✔\u001b[39m \u001b[34mpurrr  \u001b[39m 0.3.4\n",
      "\u001b[32m✔\u001b[39m \u001b[34mtibble \u001b[39m 3.2.1     \u001b[32m✔\u001b[39m \u001b[34mdplyr  \u001b[39m 1.0.9\n",
      "\u001b[32m✔\u001b[39m \u001b[34mtidyr  \u001b[39m 1.2.0     \u001b[32m✔\u001b[39m \u001b[34mstringr\u001b[39m 1.5.0\n",
      "\u001b[32m✔\u001b[39m \u001b[34mreadr  \u001b[39m 2.1.4     \u001b[32m✔\u001b[39m \u001b[34mforcats\u001b[39m 0.5.1\n",
      "── \u001b[1mConflicts\u001b[22m ────────────────────────────────────────── tidyverse_conflicts() ──\n",
      "\u001b[31m✖\u001b[39m \u001b[34mdplyr\u001b[39m::\u001b[32mfilter()\u001b[39m masks \u001b[34mstats\u001b[39m::filter()\n",
      "\u001b[31m✖\u001b[39m \u001b[34mdplyr\u001b[39m::\u001b[32mlag()\u001b[39m    masks \u001b[34mstats\u001b[39m::lag()\n",
      "\n",
      "Attaching package: ‘reshape2’\n",
      "\n",
      "\n",
      "The following object is masked from ‘package:tidyr’:\n",
      "\n",
      "    smiths\n",
      "\n",
      "\n",
      "Loading required package: RCurl\n",
      "\n",
      "\n",
      "Attaching package: ‘RCurl’\n",
      "\n",
      "\n",
      "The following object is masked from ‘package:tidyr’:\n",
      "\n",
      "    complete\n",
      "\n",
      "\n",
      "Loading required package: httr\n",
      "\n",
      "\n",
      "Attaching package: ‘janitor’\n",
      "\n",
      "\n",
      "The following objects are masked from ‘package:stats’:\n",
      "\n",
      "    chisq.test, fisher.test\n",
      "\n",
      "\n"
     ]
    }
   ],
   "source": [
    "#Set up the environment\n",
    "library(tidyverse)\n",
    "library(reshape2)\n",
    "library(taigr) #useful for loading depmap data\n",
    "library(janitor)\n",
    "library(ggrepel)\n",
    "\n",
    "#Output directory for this workspace\n",
    "#/home/jupyter/Ancestry/analysis/nature_genetics_reviews/reviewer_4"
   ]
  },
  {
   "cell_type": "markdown",
   "metadata": {},
   "source": [
    "# Comment 1"
   ]
  },
  {
   "cell_type": "code",
   "execution_count": 2,
   "metadata": {},
   "outputs": [
    {
     "name": "stdout",
     "output_type": "stream",
     "text": [
      "Fetching https://cds.team/taiga/api/dataset/public-22q1-305b/24 \n",
      "Status 200 \n"
     ]
    },
    {
     "name": "stderr",
     "output_type": "stream",
     "text": [
      "No encoding supplied: defaulting to UTF-8.\n",
      "\n"
     ]
    },
    {
     "name": "stdout",
     "output_type": "stream",
     "text": [
      "loading cached data version from  /home/jupyter/.taiga/public-22q1-305b_24.toc \n"
     ]
    },
    {
     "name": "stderr",
     "output_type": "stream",
     "text": [
      "Loading from cached file /home/jupyter/.taiga/90832e86cae84f918423ad1d83fa4222_achilles-gene-effect.rds\n",
      "\n"
     ]
    }
   ],
   "source": [
    "#Load in the CRISPR screening data\n",
    "achilles.22q1 = load.from.taiga(data.name='public-22q1-305b', data.version=24, data.file='Achilles_gene_effect') %>%\n",
    "data.frame(check.names = FALSE) %>%\n",
    "rownames_to_column(\"sample\")\n",
    "colnames(achilles.22q1) = word(colnames(achilles.22q1), 1)"
   ]
  },
  {
   "cell_type": "code",
   "execution_count": 3,
   "metadata": {},
   "outputs": [
    {
     "data": {
      "text/html": [
       "<table class=\"dataframe\">\n",
       "<caption>A data.frame: 6 × 18018</caption>\n",
       "<thead>\n",
       "\t<tr><th></th><th scope=col>sample</th><th scope=col>A1BG</th><th scope=col>A1CF</th><th scope=col>A2M</th><th scope=col>A2ML1</th><th scope=col>A3GALT2</th><th scope=col>A4GALT</th><th scope=col>A4GNT</th><th scope=col>AAAS</th><th scope=col>AACS</th><th scope=col>⋯</th><th scope=col>ZWILCH</th><th scope=col>ZWINT</th><th scope=col>ZXDA</th><th scope=col>ZXDB</th><th scope=col>ZXDC</th><th scope=col>ZYG11A</th><th scope=col>ZYG11B</th><th scope=col>ZYX</th><th scope=col>ZZEF1</th><th scope=col>ZZZ3</th></tr>\n",
       "\t<tr><th></th><th scope=col>&lt;chr&gt;</th><th scope=col>&lt;dbl&gt;</th><th scope=col>&lt;dbl&gt;</th><th scope=col>&lt;dbl&gt;</th><th scope=col>&lt;dbl&gt;</th><th scope=col>&lt;dbl&gt;</th><th scope=col>&lt;dbl&gt;</th><th scope=col>&lt;dbl&gt;</th><th scope=col>&lt;dbl&gt;</th><th scope=col>&lt;dbl&gt;</th><th scope=col>⋯</th><th scope=col>&lt;dbl&gt;</th><th scope=col>&lt;dbl&gt;</th><th scope=col>&lt;dbl&gt;</th><th scope=col>&lt;dbl&gt;</th><th scope=col>&lt;dbl&gt;</th><th scope=col>&lt;dbl&gt;</th><th scope=col>&lt;dbl&gt;</th><th scope=col>&lt;dbl&gt;</th><th scope=col>&lt;dbl&gt;</th><th scope=col>&lt;dbl&gt;</th></tr>\n",
       "</thead>\n",
       "<tbody>\n",
       "\t<tr><th scope=row>1</th><td>ACH-000004</td><td> 0.11744612</td><td>-0.001051181</td><td>-0.23395392</td><td>-0.03896151</td><td>0.13364660</td><td>-0.15303238</td><td> 0.129735459</td><td>-0.3250315</td><td> 0.15751095</td><td>⋯</td><td>-0.06593203</td><td>-0.20919537</td><td> 0.05741568</td><td>-0.01479287</td><td>0.091239438</td><td> 0.12910350</td><td>-0.24942409</td><td> 0.191440845</td><td> 0.12955310</td><td>-0.01438684</td></tr>\n",
       "\t<tr><th scope=row>2</th><td>ACH-000005</td><td>-0.01117267</td><td> 0.073583116</td><td>-0.02689838</td><td> 0.09578112</td><td>0.11036335</td><td>-0.23910904</td><td> 0.106212516</td><td>-0.3578650</td><td>-0.07533758</td><td>⋯</td><td>-0.02483866</td><td>-0.27469658</td><td>-0.26798018</td><td>-0.12282855</td><td>0.002518124</td><td>-0.15332301</td><td>-0.21807599</td><td> 0.112961944</td><td>-0.01650208</td><td>-0.02763737</td></tr>\n",
       "\t<tr><th scope=row>3</th><td>ACH-000007</td><td>-0.02289075</td><td>-0.005557062</td><td>-0.03721019</td><td> 0.03494349</td><td>0.02044321</td><td> 0.08615090</td><td>-0.028631561</td><td>-0.3303598</td><td>-0.07459645</td><td>⋯</td><td>-0.12737096</td><td>-0.21022478</td><td> 0.01824790</td><td> 0.16505336</td><td>0.154865739</td><td>-0.05926157</td><td>-0.20014439</td><td>-0.138382457</td><td>-0.29673791</td><td>-0.28021976</td></tr>\n",
       "\t<tr><th scope=row>4</th><td>ACH-000009</td><td> 0.06084219</td><td>-0.005400561</td><td> 0.01670920</td><td>-0.02544969</td><td>0.17202923</td><td>-0.06304451</td><td> 0.005985091</td><td>-0.3998144</td><td> 0.09645066</td><td>⋯</td><td>-0.11967886</td><td>-0.07581406</td><td>-0.07777840</td><td> 0.12409788</td><td>0.046490586</td><td> 0.02356493</td><td>-0.46977116</td><td> 0.109421658</td><td>-0.04402405</td><td>-0.31711055</td></tr>\n",
       "\t<tr><th scope=row>5</th><td>ACH-000011</td><td> 0.15160634</td><td> 0.099379288</td><td> 0.01929531</td><td> 0.21254180</td><td>0.04312538</td><td>-0.20542792</td><td> 0.046436700</td><td>-0.2339292</td><td> 0.11148982</td><td>⋯</td><td>-0.48330947</td><td>-0.33276154</td><td> 0.02286435</td><td> 0.12202867</td><td>0.247958115</td><td> 0.22383858</td><td>-0.09603587</td><td>-0.002169704</td><td>-0.12744714</td><td>-0.04949121</td></tr>\n",
       "\t<tr><th scope=row>6</th><td>ACH-000012</td><td>-0.04196759</td><td> 0.093503453</td><td> 0.12921563</td><td> 0.20169508</td><td>0.17355898</td><td>-0.18785047</td><td> 0.198468321</td><td>-0.2553267</td><td> 0.05206082</td><td>⋯</td><td>-0.41741509</td><td>-0.95221544</td><td>-0.01593963</td><td>-0.04373990</td><td>0.100437487</td><td> 0.13170388</td><td>-0.06641048</td><td> 0.006659502</td><td>-0.05874217</td><td>-0.16449399</td></tr>\n",
       "</tbody>\n",
       "</table>\n"
      ],
      "text/latex": [
       "A data.frame: 6 × 18018\n",
       "\\begin{tabular}{r|lllllllllllllllllllll}\n",
       "  & sample & A1BG & A1CF & A2M & A2ML1 & A3GALT2 & A4GALT & A4GNT & AAAS & AACS & ⋯ & ZWILCH & ZWINT & ZXDA & ZXDB & ZXDC & ZYG11A & ZYG11B & ZYX & ZZEF1 & ZZZ3\\\\\n",
       "  & <chr> & <dbl> & <dbl> & <dbl> & <dbl> & <dbl> & <dbl> & <dbl> & <dbl> & <dbl> & ⋯ & <dbl> & <dbl> & <dbl> & <dbl> & <dbl> & <dbl> & <dbl> & <dbl> & <dbl> & <dbl>\\\\\n",
       "\\hline\n",
       "\t1 & ACH-000004 &  0.11744612 & -0.001051181 & -0.23395392 & -0.03896151 & 0.13364660 & -0.15303238 &  0.129735459 & -0.3250315 &  0.15751095 & ⋯ & -0.06593203 & -0.20919537 &  0.05741568 & -0.01479287 & 0.091239438 &  0.12910350 & -0.24942409 &  0.191440845 &  0.12955310 & -0.01438684\\\\\n",
       "\t2 & ACH-000005 & -0.01117267 &  0.073583116 & -0.02689838 &  0.09578112 & 0.11036335 & -0.23910904 &  0.106212516 & -0.3578650 & -0.07533758 & ⋯ & -0.02483866 & -0.27469658 & -0.26798018 & -0.12282855 & 0.002518124 & -0.15332301 & -0.21807599 &  0.112961944 & -0.01650208 & -0.02763737\\\\\n",
       "\t3 & ACH-000007 & -0.02289075 & -0.005557062 & -0.03721019 &  0.03494349 & 0.02044321 &  0.08615090 & -0.028631561 & -0.3303598 & -0.07459645 & ⋯ & -0.12737096 & -0.21022478 &  0.01824790 &  0.16505336 & 0.154865739 & -0.05926157 & -0.20014439 & -0.138382457 & -0.29673791 & -0.28021976\\\\\n",
       "\t4 & ACH-000009 &  0.06084219 & -0.005400561 &  0.01670920 & -0.02544969 & 0.17202923 & -0.06304451 &  0.005985091 & -0.3998144 &  0.09645066 & ⋯ & -0.11967886 & -0.07581406 & -0.07777840 &  0.12409788 & 0.046490586 &  0.02356493 & -0.46977116 &  0.109421658 & -0.04402405 & -0.31711055\\\\\n",
       "\t5 & ACH-000011 &  0.15160634 &  0.099379288 &  0.01929531 &  0.21254180 & 0.04312538 & -0.20542792 &  0.046436700 & -0.2339292 &  0.11148982 & ⋯ & -0.48330947 & -0.33276154 &  0.02286435 &  0.12202867 & 0.247958115 &  0.22383858 & -0.09603587 & -0.002169704 & -0.12744714 & -0.04949121\\\\\n",
       "\t6 & ACH-000012 & -0.04196759 &  0.093503453 &  0.12921563 &  0.20169508 & 0.17355898 & -0.18785047 &  0.198468321 & -0.2553267 &  0.05206082 & ⋯ & -0.41741509 & -0.95221544 & -0.01593963 & -0.04373990 & 0.100437487 &  0.13170388 & -0.06641048 &  0.006659502 & -0.05874217 & -0.16449399\\\\\n",
       "\\end{tabular}\n"
      ],
      "text/markdown": [
       "\n",
       "A data.frame: 6 × 18018\n",
       "\n",
       "| <!--/--> | sample &lt;chr&gt; | A1BG &lt;dbl&gt; | A1CF &lt;dbl&gt; | A2M &lt;dbl&gt; | A2ML1 &lt;dbl&gt; | A3GALT2 &lt;dbl&gt; | A4GALT &lt;dbl&gt; | A4GNT &lt;dbl&gt; | AAAS &lt;dbl&gt; | AACS &lt;dbl&gt; | ⋯ ⋯ | ZWILCH &lt;dbl&gt; | ZWINT &lt;dbl&gt; | ZXDA &lt;dbl&gt; | ZXDB &lt;dbl&gt; | ZXDC &lt;dbl&gt; | ZYG11A &lt;dbl&gt; | ZYG11B &lt;dbl&gt; | ZYX &lt;dbl&gt; | ZZEF1 &lt;dbl&gt; | ZZZ3 &lt;dbl&gt; |\n",
       "|---|---|---|---|---|---|---|---|---|---|---|---|---|---|---|---|---|---|---|---|---|---|\n",
       "| 1 | ACH-000004 |  0.11744612 | -0.001051181 | -0.23395392 | -0.03896151 | 0.13364660 | -0.15303238 |  0.129735459 | -0.3250315 |  0.15751095 | ⋯ | -0.06593203 | -0.20919537 |  0.05741568 | -0.01479287 | 0.091239438 |  0.12910350 | -0.24942409 |  0.191440845 |  0.12955310 | -0.01438684 |\n",
       "| 2 | ACH-000005 | -0.01117267 |  0.073583116 | -0.02689838 |  0.09578112 | 0.11036335 | -0.23910904 |  0.106212516 | -0.3578650 | -0.07533758 | ⋯ | -0.02483866 | -0.27469658 | -0.26798018 | -0.12282855 | 0.002518124 | -0.15332301 | -0.21807599 |  0.112961944 | -0.01650208 | -0.02763737 |\n",
       "| 3 | ACH-000007 | -0.02289075 | -0.005557062 | -0.03721019 |  0.03494349 | 0.02044321 |  0.08615090 | -0.028631561 | -0.3303598 | -0.07459645 | ⋯ | -0.12737096 | -0.21022478 |  0.01824790 |  0.16505336 | 0.154865739 | -0.05926157 | -0.20014439 | -0.138382457 | -0.29673791 | -0.28021976 |\n",
       "| 4 | ACH-000009 |  0.06084219 | -0.005400561 |  0.01670920 | -0.02544969 | 0.17202923 | -0.06304451 |  0.005985091 | -0.3998144 |  0.09645066 | ⋯ | -0.11967886 | -0.07581406 | -0.07777840 |  0.12409788 | 0.046490586 |  0.02356493 | -0.46977116 |  0.109421658 | -0.04402405 | -0.31711055 |\n",
       "| 5 | ACH-000011 |  0.15160634 |  0.099379288 |  0.01929531 |  0.21254180 | 0.04312538 | -0.20542792 |  0.046436700 | -0.2339292 |  0.11148982 | ⋯ | -0.48330947 | -0.33276154 |  0.02286435 |  0.12202867 | 0.247958115 |  0.22383858 | -0.09603587 | -0.002169704 | -0.12744714 | -0.04949121 |\n",
       "| 6 | ACH-000012 | -0.04196759 |  0.093503453 |  0.12921563 |  0.20169508 | 0.17355898 | -0.18785047 |  0.198468321 | -0.2553267 |  0.05206082 | ⋯ | -0.41741509 | -0.95221544 | -0.01593963 | -0.04373990 | 0.100437487 |  0.13170388 | -0.06641048 |  0.006659502 | -0.05874217 | -0.16449399 |\n",
       "\n"
      ],
      "text/plain": [
       "  sample     A1BG        A1CF         A2M         A2ML1       A3GALT2   \n",
       "1 ACH-000004  0.11744612 -0.001051181 -0.23395392 -0.03896151 0.13364660\n",
       "2 ACH-000005 -0.01117267  0.073583116 -0.02689838  0.09578112 0.11036335\n",
       "3 ACH-000007 -0.02289075 -0.005557062 -0.03721019  0.03494349 0.02044321\n",
       "4 ACH-000009  0.06084219 -0.005400561  0.01670920 -0.02544969 0.17202923\n",
       "5 ACH-000011  0.15160634  0.099379288  0.01929531  0.21254180 0.04312538\n",
       "6 ACH-000012 -0.04196759  0.093503453  0.12921563  0.20169508 0.17355898\n",
       "  A4GALT      A4GNT        AAAS       AACS        ⋯ ZWILCH      ZWINT      \n",
       "1 -0.15303238  0.129735459 -0.3250315  0.15751095 ⋯ -0.06593203 -0.20919537\n",
       "2 -0.23910904  0.106212516 -0.3578650 -0.07533758 ⋯ -0.02483866 -0.27469658\n",
       "3  0.08615090 -0.028631561 -0.3303598 -0.07459645 ⋯ -0.12737096 -0.21022478\n",
       "4 -0.06304451  0.005985091 -0.3998144  0.09645066 ⋯ -0.11967886 -0.07581406\n",
       "5 -0.20542792  0.046436700 -0.2339292  0.11148982 ⋯ -0.48330947 -0.33276154\n",
       "6 -0.18785047  0.198468321 -0.2553267  0.05206082 ⋯ -0.41741509 -0.95221544\n",
       "  ZXDA        ZXDB        ZXDC        ZYG11A      ZYG11B      ZYX         \n",
       "1  0.05741568 -0.01479287 0.091239438  0.12910350 -0.24942409  0.191440845\n",
       "2 -0.26798018 -0.12282855 0.002518124 -0.15332301 -0.21807599  0.112961944\n",
       "3  0.01824790  0.16505336 0.154865739 -0.05926157 -0.20014439 -0.138382457\n",
       "4 -0.07777840  0.12409788 0.046490586  0.02356493 -0.46977116  0.109421658\n",
       "5  0.02286435  0.12202867 0.247958115  0.22383858 -0.09603587 -0.002169704\n",
       "6 -0.01593963 -0.04373990 0.100437487  0.13170388 -0.06641048  0.006659502\n",
       "  ZZEF1       ZZZ3       \n",
       "1  0.12955310 -0.01438684\n",
       "2 -0.01650208 -0.02763737\n",
       "3 -0.29673791 -0.28021976\n",
       "4 -0.04402405 -0.31711055\n",
       "5 -0.12744714 -0.04949121\n",
       "6 -0.05874217 -0.16449399"
      ]
     },
     "metadata": {},
     "output_type": "display_data"
    }
   ],
   "source": [
    "head(achilles.22q1)"
   ]
  },
  {
   "cell_type": "code",
   "execution_count": 4,
   "metadata": {},
   "outputs": [
    {
     "data": {
      "text/html": [
       "<table class=\"dataframe\">\n",
       "<caption>A data.frame: 6 × 26686</caption>\n",
       "<thead>\n",
       "\t<tr><th></th><th scope=col>sample</th><th scope=col>TGIF1</th><th scope=col>PRDX6</th><th scope=col>CIC</th><th scope=col>PLEC</th><th scope=col>MPP2</th><th scope=col>CFTR</th><th scope=col>C1QB</th><th scope=col>ELN</th><th scope=col>SEPTIN12</th><th scope=col>⋯</th><th scope=col>GTF2H2C</th><th scope=col>TTC31</th><th scope=col>PDE8B</th><th scope=col>CHD1</th><th scope=col>PAK1</th><th scope=col>LOC284898</th><th scope=col>PRKD3</th><th scope=col>MLC1</th><th scope=col>ZBTB41</th><th scope=col>TMEM181</th></tr>\n",
       "\t<tr><th></th><th scope=col>&lt;chr&gt;</th><th scope=col>&lt;int&gt;</th><th scope=col>&lt;int&gt;</th><th scope=col>&lt;int&gt;</th><th scope=col>&lt;int&gt;</th><th scope=col>&lt;int&gt;</th><th scope=col>&lt;int&gt;</th><th scope=col>&lt;int&gt;</th><th scope=col>&lt;int&gt;</th><th scope=col>&lt;int&gt;</th><th scope=col>⋯</th><th scope=col>&lt;int&gt;</th><th scope=col>&lt;int&gt;</th><th scope=col>&lt;int&gt;</th><th scope=col>&lt;int&gt;</th><th scope=col>&lt;int&gt;</th><th scope=col>&lt;int&gt;</th><th scope=col>&lt;int&gt;</th><th scope=col>&lt;int&gt;</th><th scope=col>&lt;int&gt;</th><th scope=col>&lt;int&gt;</th></tr>\n",
       "</thead>\n",
       "<tbody>\n",
       "\t<tr><th scope=row>1</th><td>ACH-000657</td><td>0</td><td>0</td><td>0</td><td>0</td><td>0</td><td>0</td><td>0</td><td>0</td><td>0</td><td>⋯</td><td>0</td><td>0</td><td>0</td><td>0</td><td>0</td><td>0</td><td>0</td><td>0</td><td>0</td><td>0</td></tr>\n",
       "\t<tr><th scope=row>2</th><td>ACH-000617</td><td>3</td><td>3</td><td>3</td><td>3</td><td>3</td><td>3</td><td>3</td><td>3</td><td>3</td><td>⋯</td><td>3</td><td>3</td><td>3</td><td>3</td><td>3</td><td>3</td><td>3</td><td>3</td><td>0</td><td>3</td></tr>\n",
       "\t<tr><th scope=row>3</th><td>ACH-000685</td><td>0</td><td>0</td><td>3</td><td>0</td><td>0</td><td>0</td><td>0</td><td>0</td><td>3</td><td>⋯</td><td>0</td><td>0</td><td>0</td><td>0</td><td>0</td><td>0</td><td>0</td><td>3</td><td>0</td><td>2</td></tr>\n",
       "\t<tr><th scope=row>4</th><td>ACH-000632</td><td>3</td><td>3</td><td>3</td><td>3</td><td>3</td><td>3</td><td>3</td><td>3</td><td>3</td><td>⋯</td><td>3</td><td>3</td><td>3</td><td>3</td><td>3</td><td>3</td><td>3</td><td>3</td><td>3</td><td>3</td></tr>\n",
       "\t<tr><th scope=row>5</th><td>ACH-000171</td><td>3</td><td>3</td><td>3</td><td>3</td><td>3</td><td>3</td><td>3</td><td>3</td><td>3</td><td>⋯</td><td>3</td><td>3</td><td>3</td><td>3</td><td>3</td><td>3</td><td>3</td><td>3</td><td>3</td><td>3</td></tr>\n",
       "\t<tr><th scope=row>6</th><td>ACH-000863</td><td>3</td><td>3</td><td>3</td><td>3</td><td>3</td><td>3</td><td>3</td><td>3</td><td>3</td><td>⋯</td><td>3</td><td>3</td><td>3</td><td>3</td><td>3</td><td>3</td><td>3</td><td>3</td><td>3</td><td>3</td></tr>\n",
       "</tbody>\n",
       "</table>\n"
      ],
      "text/latex": [
       "A data.frame: 6 × 26686\n",
       "\\begin{tabular}{r|lllllllllllllllllllll}\n",
       "  & sample & TGIF1 & PRDX6 & CIC & PLEC & MPP2 & CFTR & C1QB & ELN & SEPTIN12 & ⋯ & GTF2H2C & TTC31 & PDE8B & CHD1 & PAK1 & LOC284898 & PRKD3 & MLC1 & ZBTB41 & TMEM181\\\\\n",
       "  & <chr> & <int> & <int> & <int> & <int> & <int> & <int> & <int> & <int> & <int> & ⋯ & <int> & <int> & <int> & <int> & <int> & <int> & <int> & <int> & <int> & <int>\\\\\n",
       "\\hline\n",
       "\t1 & ACH-000657 & 0 & 0 & 0 & 0 & 0 & 0 & 0 & 0 & 0 & ⋯ & 0 & 0 & 0 & 0 & 0 & 0 & 0 & 0 & 0 & 0\\\\\n",
       "\t2 & ACH-000617 & 3 & 3 & 3 & 3 & 3 & 3 & 3 & 3 & 3 & ⋯ & 3 & 3 & 3 & 3 & 3 & 3 & 3 & 3 & 0 & 3\\\\\n",
       "\t3 & ACH-000685 & 0 & 0 & 3 & 0 & 0 & 0 & 0 & 0 & 3 & ⋯ & 0 & 0 & 0 & 0 & 0 & 0 & 0 & 3 & 0 & 2\\\\\n",
       "\t4 & ACH-000632 & 3 & 3 & 3 & 3 & 3 & 3 & 3 & 3 & 3 & ⋯ & 3 & 3 & 3 & 3 & 3 & 3 & 3 & 3 & 3 & 3\\\\\n",
       "\t5 & ACH-000171 & 3 & 3 & 3 & 3 & 3 & 3 & 3 & 3 & 3 & ⋯ & 3 & 3 & 3 & 3 & 3 & 3 & 3 & 3 & 3 & 3\\\\\n",
       "\t6 & ACH-000863 & 3 & 3 & 3 & 3 & 3 & 3 & 3 & 3 & 3 & ⋯ & 3 & 3 & 3 & 3 & 3 & 3 & 3 & 3 & 3 & 3\\\\\n",
       "\\end{tabular}\n"
      ],
      "text/markdown": [
       "\n",
       "A data.frame: 6 × 26686\n",
       "\n",
       "| <!--/--> | sample &lt;chr&gt; | TGIF1 &lt;int&gt; | PRDX6 &lt;int&gt; | CIC &lt;int&gt; | PLEC &lt;int&gt; | MPP2 &lt;int&gt; | CFTR &lt;int&gt; | C1QB &lt;int&gt; | ELN &lt;int&gt; | SEPTIN12 &lt;int&gt; | ⋯ ⋯ | GTF2H2C &lt;int&gt; | TTC31 &lt;int&gt; | PDE8B &lt;int&gt; | CHD1 &lt;int&gt; | PAK1 &lt;int&gt; | LOC284898 &lt;int&gt; | PRKD3 &lt;int&gt; | MLC1 &lt;int&gt; | ZBTB41 &lt;int&gt; | TMEM181 &lt;int&gt; |\n",
       "|---|---|---|---|---|---|---|---|---|---|---|---|---|---|---|---|---|---|---|---|---|---|\n",
       "| 1 | ACH-000657 | 0 | 0 | 0 | 0 | 0 | 0 | 0 | 0 | 0 | ⋯ | 0 | 0 | 0 | 0 | 0 | 0 | 0 | 0 | 0 | 0 |\n",
       "| 2 | ACH-000617 | 3 | 3 | 3 | 3 | 3 | 3 | 3 | 3 | 3 | ⋯ | 3 | 3 | 3 | 3 | 3 | 3 | 3 | 3 | 0 | 3 |\n",
       "| 3 | ACH-000685 | 0 | 0 | 3 | 0 | 0 | 0 | 0 | 0 | 3 | ⋯ | 0 | 0 | 0 | 0 | 0 | 0 | 0 | 3 | 0 | 2 |\n",
       "| 4 | ACH-000632 | 3 | 3 | 3 | 3 | 3 | 3 | 3 | 3 | 3 | ⋯ | 3 | 3 | 3 | 3 | 3 | 3 | 3 | 3 | 3 | 3 |\n",
       "| 5 | ACH-000171 | 3 | 3 | 3 | 3 | 3 | 3 | 3 | 3 | 3 | ⋯ | 3 | 3 | 3 | 3 | 3 | 3 | 3 | 3 | 3 | 3 |\n",
       "| 6 | ACH-000863 | 3 | 3 | 3 | 3 | 3 | 3 | 3 | 3 | 3 | ⋯ | 3 | 3 | 3 | 3 | 3 | 3 | 3 | 3 | 3 | 3 |\n",
       "\n"
      ],
      "text/plain": [
       "  sample     TGIF1 PRDX6 CIC PLEC MPP2 CFTR C1QB ELN SEPTIN12 ⋯ GTF2H2C TTC31\n",
       "1 ACH-000657 0     0     0   0    0    0    0    0   0        ⋯ 0       0    \n",
       "2 ACH-000617 3     3     3   3    3    3    3    3   3        ⋯ 3       3    \n",
       "3 ACH-000685 0     0     3   0    0    0    0    0   3        ⋯ 0       0    \n",
       "4 ACH-000632 3     3     3   3    3    3    3    3   3        ⋯ 3       3    \n",
       "5 ACH-000171 3     3     3   3    3    3    3    3   3        ⋯ 3       3    \n",
       "6 ACH-000863 3     3     3   3    3    3    3    3   3        ⋯ 3       3    \n",
       "  PDE8B CHD1 PAK1 LOC284898 PRKD3 MLC1 ZBTB41 TMEM181\n",
       "1 0     0    0    0         0     0    0      0      \n",
       "2 3     3    3    3         3     3    0      3      \n",
       "3 0     0    0    0         0     3    0      2      \n",
       "4 3     3    3    3         3     3    3      3      \n",
       "5 3     3    3    3         3     3    3      3      \n",
       "6 3     3    3    3         3     3    3      3      "
      ]
     },
     "metadata": {},
     "output_type": "display_data"
    }
   ],
   "source": [
    "#Load in the gene block matrix that lists the ancestry for all genes and for all cell lines\n",
    "setwd(\"/home/jupyter/Ancestry/analysis/locus_specific_associations\")\n",
    "gene.block.matrix = read.table(\"gene.block.matrix.txt\", sep = \"\\t\", header = T)\n",
    "row.names(gene.block.matrix) = NULL\n",
    "\n",
    "#Format gene.block.matrix so that it is ready for our analysis\n",
    "formatted.gene.block.matrix = gene.block.matrix %>%\n",
    "column_to_rownames(var = \"gene\") %>%\n",
    "select(-block_id, -X.chm, -spos, -epos) %>%\n",
    "t() %>%\n",
    "data.frame() %>%\n",
    "rownames_to_column() %>%\n",
    "rename(\"sample\" = 1) %>%\n",
    "mutate(sample = gsub(\"ACH.000\", \"ACH-000\", sample)) %>%\n",
    "mutate(sample = gsub(\"\\\\.1\", \"\", sample))\n",
    "\n",
    "\n",
    "head(formatted.gene.block.matrix)"
   ]
  },
  {
   "cell_type": "code",
   "execution_count": 5,
   "metadata": {},
   "outputs": [
    {
     "data": {
      "text/html": [
       "<table class=\"dataframe\">\n",
       "<caption>A data.frame: 6 × 16952</caption>\n",
       "<thead>\n",
       "\t<tr><th></th><th scope=col>sample</th><th scope=col>A1BG</th><th scope=col>A1CF</th><th scope=col>A2M</th><th scope=col>A2ML1</th><th scope=col>A3GALT2</th><th scope=col>A4GALT</th><th scope=col>A4GNT</th><th scope=col>AAAS</th><th scope=col>AACS</th><th scope=col>⋯</th><th scope=col>ZUP1</th><th scope=col>ZW10</th><th scope=col>ZWILCH</th><th scope=col>ZWINT</th><th scope=col>ZXDC</th><th scope=col>ZYG11A</th><th scope=col>ZYG11B</th><th scope=col>ZYX</th><th scope=col>ZZEF1</th><th scope=col>ZZZ3</th></tr>\n",
       "\t<tr><th></th><th scope=col>&lt;chr&gt;</th><th scope=col>&lt;dbl&gt;</th><th scope=col>&lt;dbl&gt;</th><th scope=col>&lt;dbl&gt;</th><th scope=col>&lt;dbl&gt;</th><th scope=col>&lt;dbl&gt;</th><th scope=col>&lt;dbl&gt;</th><th scope=col>&lt;dbl&gt;</th><th scope=col>&lt;dbl&gt;</th><th scope=col>&lt;dbl&gt;</th><th scope=col>⋯</th><th scope=col>&lt;dbl&gt;</th><th scope=col>&lt;dbl&gt;</th><th scope=col>&lt;dbl&gt;</th><th scope=col>&lt;dbl&gt;</th><th scope=col>&lt;dbl&gt;</th><th scope=col>&lt;dbl&gt;</th><th scope=col>&lt;dbl&gt;</th><th scope=col>&lt;dbl&gt;</th><th scope=col>&lt;dbl&gt;</th><th scope=col>&lt;dbl&gt;</th></tr>\n",
       "</thead>\n",
       "<tbody>\n",
       "\t<tr><th scope=row>1</th><td>ACH-000004</td><td> 0.11744612</td><td>-0.001051181</td><td>-0.23395392</td><td>-0.03896151</td><td>0.13364660</td><td>-0.15303238</td><td> 0.129735459</td><td>-0.3250315</td><td> 0.15751095</td><td>⋯</td><td>-0.16551089</td><td>-0.02562803</td><td>-0.065932029</td><td>-0.20919537</td><td>0.091239438</td><td> 0.1291035015</td><td>-0.24942409</td><td> 0.191440845</td><td> 0.12955310</td><td>-0.01438684</td></tr>\n",
       "\t<tr><th scope=row>2</th><td>ACH-000005</td><td>-0.01117267</td><td> 0.073583116</td><td>-0.02689838</td><td> 0.09578112</td><td>0.11036335</td><td>-0.23910904</td><td> 0.106212516</td><td>-0.3578650</td><td>-0.07533758</td><td>⋯</td><td>-0.34383867</td><td>-0.31638189</td><td>-0.024838665</td><td>-0.27469658</td><td>0.002518124</td><td>-0.1533230138</td><td>-0.21807599</td><td> 0.112961944</td><td>-0.01650208</td><td>-0.02763737</td></tr>\n",
       "\t<tr><th scope=row>3</th><td>ACH-000007</td><td>-0.02289075</td><td>-0.005557062</td><td>-0.03721019</td><td> 0.03494349</td><td>0.02044321</td><td> 0.08615090</td><td>-0.028631561</td><td>-0.3303598</td><td>-0.07459645</td><td>⋯</td><td>-0.12671539</td><td>-0.37945164</td><td>-0.127370960</td><td>-0.21022478</td><td>0.154865739</td><td>-0.0592615664</td><td>-0.20014439</td><td>-0.138382457</td><td>-0.29673791</td><td>-0.28021976</td></tr>\n",
       "\t<tr><th scope=row>4</th><td>ACH-000009</td><td> 0.06084219</td><td>-0.005400561</td><td> 0.01670920</td><td>-0.02544969</td><td>0.17202923</td><td>-0.06304451</td><td> 0.005985091</td><td>-0.3998144</td><td> 0.09645066</td><td>⋯</td><td> 0.04038080</td><td>-0.24526231</td><td>-0.119678863</td><td>-0.07581406</td><td>0.046490586</td><td> 0.0235649287</td><td>-0.46977116</td><td> 0.109421658</td><td>-0.04402405</td><td>-0.31711055</td></tr>\n",
       "\t<tr><th scope=row>5</th><td>ACH-000012</td><td>-0.04196759</td><td> 0.093503453</td><td> 0.12921563</td><td> 0.20169508</td><td>0.17355898</td><td>-0.18785047</td><td> 0.198468321</td><td>-0.2553267</td><td> 0.05206082</td><td>⋯</td><td> 0.02775213</td><td>-0.37480690</td><td>-0.417415089</td><td>-0.95221544</td><td>0.100437487</td><td> 0.1317038833</td><td>-0.06641048</td><td> 0.006659502</td><td>-0.05874217</td><td>-0.16449399</td></tr>\n",
       "\t<tr><th scope=row>6</th><td>ACH-000013</td><td> 0.00998090</td><td>-0.021292932</td><td>-0.04064724</td><td> 0.08794246</td><td>0.01174277</td><td>-0.09741850</td><td> 0.020148161</td><td>-0.3076077</td><td>-0.04163766</td><td>⋯</td><td>-0.05298880</td><td>-1.12238846</td><td>-0.004032217</td><td> 0.13630928</td><td>0.163914087</td><td> 0.0009830282</td><td>-0.07391150</td><td> 0.062107667</td><td>-0.16896519</td><td>-0.32896727</td></tr>\n",
       "</tbody>\n",
       "</table>\n"
      ],
      "text/latex": [
       "A data.frame: 6 × 16952\n",
       "\\begin{tabular}{r|lllllllllllllllllllll}\n",
       "  & sample & A1BG & A1CF & A2M & A2ML1 & A3GALT2 & A4GALT & A4GNT & AAAS & AACS & ⋯ & ZUP1 & ZW10 & ZWILCH & ZWINT & ZXDC & ZYG11A & ZYG11B & ZYX & ZZEF1 & ZZZ3\\\\\n",
       "  & <chr> & <dbl> & <dbl> & <dbl> & <dbl> & <dbl> & <dbl> & <dbl> & <dbl> & <dbl> & ⋯ & <dbl> & <dbl> & <dbl> & <dbl> & <dbl> & <dbl> & <dbl> & <dbl> & <dbl> & <dbl>\\\\\n",
       "\\hline\n",
       "\t1 & ACH-000004 &  0.11744612 & -0.001051181 & -0.23395392 & -0.03896151 & 0.13364660 & -0.15303238 &  0.129735459 & -0.3250315 &  0.15751095 & ⋯ & -0.16551089 & -0.02562803 & -0.065932029 & -0.20919537 & 0.091239438 &  0.1291035015 & -0.24942409 &  0.191440845 &  0.12955310 & -0.01438684\\\\\n",
       "\t2 & ACH-000005 & -0.01117267 &  0.073583116 & -0.02689838 &  0.09578112 & 0.11036335 & -0.23910904 &  0.106212516 & -0.3578650 & -0.07533758 & ⋯ & -0.34383867 & -0.31638189 & -0.024838665 & -0.27469658 & 0.002518124 & -0.1533230138 & -0.21807599 &  0.112961944 & -0.01650208 & -0.02763737\\\\\n",
       "\t3 & ACH-000007 & -0.02289075 & -0.005557062 & -0.03721019 &  0.03494349 & 0.02044321 &  0.08615090 & -0.028631561 & -0.3303598 & -0.07459645 & ⋯ & -0.12671539 & -0.37945164 & -0.127370960 & -0.21022478 & 0.154865739 & -0.0592615664 & -0.20014439 & -0.138382457 & -0.29673791 & -0.28021976\\\\\n",
       "\t4 & ACH-000009 &  0.06084219 & -0.005400561 &  0.01670920 & -0.02544969 & 0.17202923 & -0.06304451 &  0.005985091 & -0.3998144 &  0.09645066 & ⋯ &  0.04038080 & -0.24526231 & -0.119678863 & -0.07581406 & 0.046490586 &  0.0235649287 & -0.46977116 &  0.109421658 & -0.04402405 & -0.31711055\\\\\n",
       "\t5 & ACH-000012 & -0.04196759 &  0.093503453 &  0.12921563 &  0.20169508 & 0.17355898 & -0.18785047 &  0.198468321 & -0.2553267 &  0.05206082 & ⋯ &  0.02775213 & -0.37480690 & -0.417415089 & -0.95221544 & 0.100437487 &  0.1317038833 & -0.06641048 &  0.006659502 & -0.05874217 & -0.16449399\\\\\n",
       "\t6 & ACH-000013 &  0.00998090 & -0.021292932 & -0.04064724 &  0.08794246 & 0.01174277 & -0.09741850 &  0.020148161 & -0.3076077 & -0.04163766 & ⋯ & -0.05298880 & -1.12238846 & -0.004032217 &  0.13630928 & 0.163914087 &  0.0009830282 & -0.07391150 &  0.062107667 & -0.16896519 & -0.32896727\\\\\n",
       "\\end{tabular}\n"
      ],
      "text/markdown": [
       "\n",
       "A data.frame: 6 × 16952\n",
       "\n",
       "| <!--/--> | sample &lt;chr&gt; | A1BG &lt;dbl&gt; | A1CF &lt;dbl&gt; | A2M &lt;dbl&gt; | A2ML1 &lt;dbl&gt; | A3GALT2 &lt;dbl&gt; | A4GALT &lt;dbl&gt; | A4GNT &lt;dbl&gt; | AAAS &lt;dbl&gt; | AACS &lt;dbl&gt; | ⋯ ⋯ | ZUP1 &lt;dbl&gt; | ZW10 &lt;dbl&gt; | ZWILCH &lt;dbl&gt; | ZWINT &lt;dbl&gt; | ZXDC &lt;dbl&gt; | ZYG11A &lt;dbl&gt; | ZYG11B &lt;dbl&gt; | ZYX &lt;dbl&gt; | ZZEF1 &lt;dbl&gt; | ZZZ3 &lt;dbl&gt; |\n",
       "|---|---|---|---|---|---|---|---|---|---|---|---|---|---|---|---|---|---|---|---|---|---|\n",
       "| 1 | ACH-000004 |  0.11744612 | -0.001051181 | -0.23395392 | -0.03896151 | 0.13364660 | -0.15303238 |  0.129735459 | -0.3250315 |  0.15751095 | ⋯ | -0.16551089 | -0.02562803 | -0.065932029 | -0.20919537 | 0.091239438 |  0.1291035015 | -0.24942409 |  0.191440845 |  0.12955310 | -0.01438684 |\n",
       "| 2 | ACH-000005 | -0.01117267 |  0.073583116 | -0.02689838 |  0.09578112 | 0.11036335 | -0.23910904 |  0.106212516 | -0.3578650 | -0.07533758 | ⋯ | -0.34383867 | -0.31638189 | -0.024838665 | -0.27469658 | 0.002518124 | -0.1533230138 | -0.21807599 |  0.112961944 | -0.01650208 | -0.02763737 |\n",
       "| 3 | ACH-000007 | -0.02289075 | -0.005557062 | -0.03721019 |  0.03494349 | 0.02044321 |  0.08615090 | -0.028631561 | -0.3303598 | -0.07459645 | ⋯ | -0.12671539 | -0.37945164 | -0.127370960 | -0.21022478 | 0.154865739 | -0.0592615664 | -0.20014439 | -0.138382457 | -0.29673791 | -0.28021976 |\n",
       "| 4 | ACH-000009 |  0.06084219 | -0.005400561 |  0.01670920 | -0.02544969 | 0.17202923 | -0.06304451 |  0.005985091 | -0.3998144 |  0.09645066 | ⋯ |  0.04038080 | -0.24526231 | -0.119678863 | -0.07581406 | 0.046490586 |  0.0235649287 | -0.46977116 |  0.109421658 | -0.04402405 | -0.31711055 |\n",
       "| 5 | ACH-000012 | -0.04196759 |  0.093503453 |  0.12921563 |  0.20169508 | 0.17355898 | -0.18785047 |  0.198468321 | -0.2553267 |  0.05206082 | ⋯ |  0.02775213 | -0.37480690 | -0.417415089 | -0.95221544 | 0.100437487 |  0.1317038833 | -0.06641048 |  0.006659502 | -0.05874217 | -0.16449399 |\n",
       "| 6 | ACH-000013 |  0.00998090 | -0.021292932 | -0.04064724 |  0.08794246 | 0.01174277 | -0.09741850 |  0.020148161 | -0.3076077 | -0.04163766 | ⋯ | -0.05298880 | -1.12238846 | -0.004032217 |  0.13630928 | 0.163914087 |  0.0009830282 | -0.07391150 |  0.062107667 | -0.16896519 | -0.32896727 |\n",
       "\n"
      ],
      "text/plain": [
       "  sample     A1BG        A1CF         A2M         A2ML1       A3GALT2   \n",
       "1 ACH-000004  0.11744612 -0.001051181 -0.23395392 -0.03896151 0.13364660\n",
       "2 ACH-000005 -0.01117267  0.073583116 -0.02689838  0.09578112 0.11036335\n",
       "3 ACH-000007 -0.02289075 -0.005557062 -0.03721019  0.03494349 0.02044321\n",
       "4 ACH-000009  0.06084219 -0.005400561  0.01670920 -0.02544969 0.17202923\n",
       "5 ACH-000012 -0.04196759  0.093503453  0.12921563  0.20169508 0.17355898\n",
       "6 ACH-000013  0.00998090 -0.021292932 -0.04064724  0.08794246 0.01174277\n",
       "  A4GALT      A4GNT        AAAS       AACS        ⋯ ZUP1        ZW10       \n",
       "1 -0.15303238  0.129735459 -0.3250315  0.15751095 ⋯ -0.16551089 -0.02562803\n",
       "2 -0.23910904  0.106212516 -0.3578650 -0.07533758 ⋯ -0.34383867 -0.31638189\n",
       "3  0.08615090 -0.028631561 -0.3303598 -0.07459645 ⋯ -0.12671539 -0.37945164\n",
       "4 -0.06304451  0.005985091 -0.3998144  0.09645066 ⋯  0.04038080 -0.24526231\n",
       "5 -0.18785047  0.198468321 -0.2553267  0.05206082 ⋯  0.02775213 -0.37480690\n",
       "6 -0.09741850  0.020148161 -0.3076077 -0.04163766 ⋯ -0.05298880 -1.12238846\n",
       "  ZWILCH       ZWINT       ZXDC        ZYG11A        ZYG11B      ZYX         \n",
       "1 -0.065932029 -0.20919537 0.091239438  0.1291035015 -0.24942409  0.191440845\n",
       "2 -0.024838665 -0.27469658 0.002518124 -0.1533230138 -0.21807599  0.112961944\n",
       "3 -0.127370960 -0.21022478 0.154865739 -0.0592615664 -0.20014439 -0.138382457\n",
       "4 -0.119678863 -0.07581406 0.046490586  0.0235649287 -0.46977116  0.109421658\n",
       "5 -0.417415089 -0.95221544 0.100437487  0.1317038833 -0.06641048  0.006659502\n",
       "6 -0.004032217  0.13630928 0.163914087  0.0009830282 -0.07391150  0.062107667\n",
       "  ZZEF1       ZZZ3       \n",
       "1  0.12955310 -0.01438684\n",
       "2 -0.01650208 -0.02763737\n",
       "3 -0.29673791 -0.28021976\n",
       "4 -0.04402405 -0.31711055\n",
       "5 -0.05874217 -0.16449399\n",
       "6 -0.16896519 -0.32896727"
      ]
     },
     "metadata": {},
     "output_type": "display_data"
    },
    {
     "data": {
      "text/html": [
       "<table class=\"dataframe\">\n",
       "<caption>A data.frame: 6 × 16952</caption>\n",
       "<thead>\n",
       "\t<tr><th></th><th scope=col>sample</th><th scope=col>A1BG</th><th scope=col>A1CF</th><th scope=col>A2M</th><th scope=col>A2ML1</th><th scope=col>A3GALT2</th><th scope=col>A4GALT</th><th scope=col>A4GNT</th><th scope=col>AAAS</th><th scope=col>AACS</th><th scope=col>⋯</th><th scope=col>ZUP1</th><th scope=col>ZW10</th><th scope=col>ZWILCH</th><th scope=col>ZWINT</th><th scope=col>ZXDC</th><th scope=col>ZYG11A</th><th scope=col>ZYG11B</th><th scope=col>ZYX</th><th scope=col>ZZEF1</th><th scope=col>ZZZ3</th></tr>\n",
       "\t<tr><th></th><th scope=col>&lt;chr&gt;</th><th scope=col>&lt;int&gt;</th><th scope=col>&lt;int&gt;</th><th scope=col>&lt;int&gt;</th><th scope=col>&lt;int&gt;</th><th scope=col>&lt;int&gt;</th><th scope=col>&lt;int&gt;</th><th scope=col>&lt;int&gt;</th><th scope=col>&lt;int&gt;</th><th scope=col>&lt;int&gt;</th><th scope=col>⋯</th><th scope=col>&lt;int&gt;</th><th scope=col>&lt;int&gt;</th><th scope=col>&lt;int&gt;</th><th scope=col>&lt;int&gt;</th><th scope=col>&lt;int&gt;</th><th scope=col>&lt;int&gt;</th><th scope=col>&lt;int&gt;</th><th scope=col>&lt;int&gt;</th><th scope=col>&lt;int&gt;</th><th scope=col>&lt;int&gt;</th></tr>\n",
       "</thead>\n",
       "<tbody>\n",
       "\t<tr><th scope=row>1</th><td>ACH-000004</td><td>3</td><td>3</td><td>3</td><td>3</td><td>3</td><td>3</td><td>3</td><td>3</td><td>3</td><td>⋯</td><td>3</td><td>3</td><td>3</td><td>3</td><td>3</td><td>3</td><td>3</td><td>3</td><td>3</td><td>3</td></tr>\n",
       "\t<tr><th scope=row>2</th><td>ACH-000005</td><td>3</td><td>3</td><td>3</td><td>3</td><td>3</td><td>3</td><td>3</td><td>3</td><td>3</td><td>⋯</td><td>3</td><td>3</td><td>3</td><td>3</td><td>3</td><td>3</td><td>3</td><td>3</td><td>3</td><td>3</td></tr>\n",
       "\t<tr><th scope=row>3</th><td>ACH-000007</td><td>3</td><td>3</td><td>3</td><td>3</td><td>3</td><td>3</td><td>3</td><td>3</td><td>3</td><td>⋯</td><td>3</td><td>3</td><td>3</td><td>3</td><td>3</td><td>3</td><td>3</td><td>3</td><td>3</td><td>3</td></tr>\n",
       "\t<tr><th scope=row>4</th><td>ACH-000009</td><td>3</td><td>3</td><td>3</td><td>3</td><td>3</td><td>3</td><td>3</td><td>3</td><td>3</td><td>⋯</td><td>3</td><td>3</td><td>3</td><td>3</td><td>3</td><td>3</td><td>3</td><td>3</td><td>3</td><td>3</td></tr>\n",
       "\t<tr><th scope=row>5</th><td>ACH-000012</td><td>3</td><td>3</td><td>3</td><td>3</td><td>3</td><td>3</td><td>3</td><td>3</td><td>3</td><td>⋯</td><td>3</td><td>3</td><td>3</td><td>3</td><td>3</td><td>3</td><td>3</td><td>3</td><td>3</td><td>3</td></tr>\n",
       "\t<tr><th scope=row>6</th><td>ACH-000013</td><td>3</td><td>3</td><td>3</td><td>3</td><td>3</td><td>3</td><td>3</td><td>3</td><td>3</td><td>⋯</td><td>3</td><td>3</td><td>3</td><td>3</td><td>3</td><td>3</td><td>3</td><td>3</td><td>3</td><td>3</td></tr>\n",
       "</tbody>\n",
       "</table>\n"
      ],
      "text/latex": [
       "A data.frame: 6 × 16952\n",
       "\\begin{tabular}{r|lllllllllllllllllllll}\n",
       "  & sample & A1BG & A1CF & A2M & A2ML1 & A3GALT2 & A4GALT & A4GNT & AAAS & AACS & ⋯ & ZUP1 & ZW10 & ZWILCH & ZWINT & ZXDC & ZYG11A & ZYG11B & ZYX & ZZEF1 & ZZZ3\\\\\n",
       "  & <chr> & <int> & <int> & <int> & <int> & <int> & <int> & <int> & <int> & <int> & ⋯ & <int> & <int> & <int> & <int> & <int> & <int> & <int> & <int> & <int> & <int>\\\\\n",
       "\\hline\n",
       "\t1 & ACH-000004 & 3 & 3 & 3 & 3 & 3 & 3 & 3 & 3 & 3 & ⋯ & 3 & 3 & 3 & 3 & 3 & 3 & 3 & 3 & 3 & 3\\\\\n",
       "\t2 & ACH-000005 & 3 & 3 & 3 & 3 & 3 & 3 & 3 & 3 & 3 & ⋯ & 3 & 3 & 3 & 3 & 3 & 3 & 3 & 3 & 3 & 3\\\\\n",
       "\t3 & ACH-000007 & 3 & 3 & 3 & 3 & 3 & 3 & 3 & 3 & 3 & ⋯ & 3 & 3 & 3 & 3 & 3 & 3 & 3 & 3 & 3 & 3\\\\\n",
       "\t4 & ACH-000009 & 3 & 3 & 3 & 3 & 3 & 3 & 3 & 3 & 3 & ⋯ & 3 & 3 & 3 & 3 & 3 & 3 & 3 & 3 & 3 & 3\\\\\n",
       "\t5 & ACH-000012 & 3 & 3 & 3 & 3 & 3 & 3 & 3 & 3 & 3 & ⋯ & 3 & 3 & 3 & 3 & 3 & 3 & 3 & 3 & 3 & 3\\\\\n",
       "\t6 & ACH-000013 & 3 & 3 & 3 & 3 & 3 & 3 & 3 & 3 & 3 & ⋯ & 3 & 3 & 3 & 3 & 3 & 3 & 3 & 3 & 3 & 3\\\\\n",
       "\\end{tabular}\n"
      ],
      "text/markdown": [
       "\n",
       "A data.frame: 6 × 16952\n",
       "\n",
       "| <!--/--> | sample &lt;chr&gt; | A1BG &lt;int&gt; | A1CF &lt;int&gt; | A2M &lt;int&gt; | A2ML1 &lt;int&gt; | A3GALT2 &lt;int&gt; | A4GALT &lt;int&gt; | A4GNT &lt;int&gt; | AAAS &lt;int&gt; | AACS &lt;int&gt; | ⋯ ⋯ | ZUP1 &lt;int&gt; | ZW10 &lt;int&gt; | ZWILCH &lt;int&gt; | ZWINT &lt;int&gt; | ZXDC &lt;int&gt; | ZYG11A &lt;int&gt; | ZYG11B &lt;int&gt; | ZYX &lt;int&gt; | ZZEF1 &lt;int&gt; | ZZZ3 &lt;int&gt; |\n",
       "|---|---|---|---|---|---|---|---|---|---|---|---|---|---|---|---|---|---|---|---|---|---|\n",
       "| 1 | ACH-000004 | 3 | 3 | 3 | 3 | 3 | 3 | 3 | 3 | 3 | ⋯ | 3 | 3 | 3 | 3 | 3 | 3 | 3 | 3 | 3 | 3 |\n",
       "| 2 | ACH-000005 | 3 | 3 | 3 | 3 | 3 | 3 | 3 | 3 | 3 | ⋯ | 3 | 3 | 3 | 3 | 3 | 3 | 3 | 3 | 3 | 3 |\n",
       "| 3 | ACH-000007 | 3 | 3 | 3 | 3 | 3 | 3 | 3 | 3 | 3 | ⋯ | 3 | 3 | 3 | 3 | 3 | 3 | 3 | 3 | 3 | 3 |\n",
       "| 4 | ACH-000009 | 3 | 3 | 3 | 3 | 3 | 3 | 3 | 3 | 3 | ⋯ | 3 | 3 | 3 | 3 | 3 | 3 | 3 | 3 | 3 | 3 |\n",
       "| 5 | ACH-000012 | 3 | 3 | 3 | 3 | 3 | 3 | 3 | 3 | 3 | ⋯ | 3 | 3 | 3 | 3 | 3 | 3 | 3 | 3 | 3 | 3 |\n",
       "| 6 | ACH-000013 | 3 | 3 | 3 | 3 | 3 | 3 | 3 | 3 | 3 | ⋯ | 3 | 3 | 3 | 3 | 3 | 3 | 3 | 3 | 3 | 3 |\n",
       "\n"
      ],
      "text/plain": [
       "  sample     A1BG A1CF A2M A2ML1 A3GALT2 A4GALT A4GNT AAAS AACS ⋯ ZUP1 ZW10\n",
       "1 ACH-000004 3    3    3   3     3       3      3     3    3    ⋯ 3    3   \n",
       "2 ACH-000005 3    3    3   3     3       3      3     3    3    ⋯ 3    3   \n",
       "3 ACH-000007 3    3    3   3     3       3      3     3    3    ⋯ 3    3   \n",
       "4 ACH-000009 3    3    3   3     3       3      3     3    3    ⋯ 3    3   \n",
       "5 ACH-000012 3    3    3   3     3       3      3     3    3    ⋯ 3    3   \n",
       "6 ACH-000013 3    3    3   3     3       3      3     3    3    ⋯ 3    3   \n",
       "  ZWILCH ZWINT ZXDC ZYG11A ZYG11B ZYX ZZEF1 ZZZ3\n",
       "1 3      3     3    3      3      3   3     3   \n",
       "2 3      3     3    3      3      3   3     3   \n",
       "3 3      3     3    3      3      3   3     3   \n",
       "4 3      3     3    3      3      3   3     3   \n",
       "5 3      3     3    3      3      3   3     3   \n",
       "6 3      3     3    3      3      3   3     3   "
      ]
     },
     "metadata": {},
     "output_type": "display_data"
    },
    {
     "data": {
      "text/html": [
       "<style>\n",
       ".list-inline {list-style: none; margin:0; padding: 0}\n",
       ".list-inline>li {display: inline-block}\n",
       ".list-inline>li:not(:last-child)::after {content: \"\\00b7\"; padding: 0 .5ex}\n",
       "</style>\n",
       "<ol class=list-inline><li>558</li><li>16952</li></ol>\n"
      ],
      "text/latex": [
       "\\begin{enumerate*}\n",
       "\\item 558\n",
       "\\item 16952\n",
       "\\end{enumerate*}\n"
      ],
      "text/markdown": [
       "1. 558\n",
       "2. 16952\n",
       "\n",
       "\n"
      ],
      "text/plain": [
       "[1]   558 16952"
      ]
     },
     "metadata": {},
     "output_type": "display_data"
    },
    {
     "data": {
      "text/html": [
       "<style>\n",
       ".list-inline {list-style: none; margin:0; padding: 0}\n",
       ".list-inline>li {display: inline-block}\n",
       ".list-inline>li:not(:last-child)::after {content: \"\\00b7\"; padding: 0 .5ex}\n",
       "</style>\n",
       "<ol class=list-inline><li>558</li><li>16952</li></ol>\n"
      ],
      "text/latex": [
       "\\begin{enumerate*}\n",
       "\\item 558\n",
       "\\item 16952\n",
       "\\end{enumerate*}\n"
      ],
      "text/markdown": [
       "1. 558\n",
       "2. 16952\n",
       "\n",
       "\n"
      ],
      "text/plain": [
       "[1]   558 16952"
      ]
     },
     "metadata": {},
     "output_type": "display_data"
    }
   ],
   "source": [
    "#Filter both datasets so that they share a common set of samples\n",
    "intersecting.samples = intersect(achilles.22q1$sample, formatted.gene.block.matrix$sample)\n",
    "intersecting.genes = intersect(colnames(achilles.22q1), colnames(formatted.gene.block.matrix))\n",
    "\n",
    "final.achilles.22q1 = achilles.22q1 %>%\n",
    "filter(sample %in% intersecting.samples) %>%\n",
    "select(all_of(intersecting.genes)) %>%\n",
    "arrange(sample)\n",
    "\n",
    "final.gene.block = formatted.gene.block.matrix %>%\n",
    "filter(sample %in% intersecting.samples) %>%\n",
    "select(all_of(intersecting.genes)) %>%\n",
    "arrange(sample)\n",
    "\n",
    "head(final.achilles.22q1)\n",
    "head(final.gene.block)\n",
    "\n",
    "dim(final.achilles.22q1)\n",
    "dim(final.gene.block)"
   ]
  },
  {
   "cell_type": "code",
   "execution_count": 8,
   "metadata": {},
   "outputs": [
    {
     "data": {
      "text/html": [
       "<table class=\"dataframe\">\n",
       "<caption>A data.frame: 6 × 2</caption>\n",
       "<thead>\n",
       "\t<tr><th></th><th scope=col>sample</th><th scope=col>primary_disease</th></tr>\n",
       "\t<tr><th></th><th scope=col>&lt;chr&gt;</th><th scope=col>&lt;chr&gt;</th></tr>\n",
       "</thead>\n",
       "<tbody>\n",
       "\t<tr><th scope=row>1</th><td>ACH-000001</td><td>Ovarian Cancer         </td></tr>\n",
       "\t<tr><th scope=row>2</th><td>ACH-000002</td><td>Leukemia               </td></tr>\n",
       "\t<tr><th scope=row>3</th><td>ACH-000003</td><td>Colon/Colorectal Cancer</td></tr>\n",
       "\t<tr><th scope=row>4</th><td>ACH-000004</td><td>Leukemia               </td></tr>\n",
       "\t<tr><th scope=row>5</th><td>ACH-000005</td><td>Leukemia               </td></tr>\n",
       "\t<tr><th scope=row>6</th><td>ACH-000006</td><td>Leukemia               </td></tr>\n",
       "</tbody>\n",
       "</table>\n"
      ],
      "text/latex": [
       "A data.frame: 6 × 2\n",
       "\\begin{tabular}{r|ll}\n",
       "  & sample & primary\\_disease\\\\\n",
       "  & <chr> & <chr>\\\\\n",
       "\\hline\n",
       "\t1 & ACH-000001 & Ovarian Cancer         \\\\\n",
       "\t2 & ACH-000002 & Leukemia               \\\\\n",
       "\t3 & ACH-000003 & Colon/Colorectal Cancer\\\\\n",
       "\t4 & ACH-000004 & Leukemia               \\\\\n",
       "\t5 & ACH-000005 & Leukemia               \\\\\n",
       "\t6 & ACH-000006 & Leukemia               \\\\\n",
       "\\end{tabular}\n"
      ],
      "text/markdown": [
       "\n",
       "A data.frame: 6 × 2\n",
       "\n",
       "| <!--/--> | sample &lt;chr&gt; | primary_disease &lt;chr&gt; |\n",
       "|---|---|---|\n",
       "| 1 | ACH-000001 | Ovarian Cancer          |\n",
       "| 2 | ACH-000002 | Leukemia                |\n",
       "| 3 | ACH-000003 | Colon/Colorectal Cancer |\n",
       "| 4 | ACH-000004 | Leukemia                |\n",
       "| 5 | ACH-000005 | Leukemia                |\n",
       "| 6 | ACH-000006 | Leukemia                |\n",
       "\n"
      ],
      "text/plain": [
       "  sample     primary_disease        \n",
       "1 ACH-000001 Ovarian Cancer         \n",
       "2 ACH-000002 Leukemia               \n",
       "3 ACH-000003 Colon/Colorectal Cancer\n",
       "4 ACH-000004 Leukemia               \n",
       "5 ACH-000005 Leukemia               \n",
       "6 ACH-000006 Leukemia               "
      ]
     },
     "metadata": {},
     "output_type": "display_data"
    }
   ],
   "source": [
    "#Load in the sample annotation data\n",
    "setwd('/home/jupyter/Ancestry/ccle_ancestry_analysis')\n",
    "sample.annotation = read.table('depmap_cell_lineage.csv', sep = \",\", header = T) %>%\n",
    "rename(\"sample\" = 1)\n",
    "\n",
    "head(sample.annotation)"
   ]
  },
  {
   "cell_type": "code",
   "execution_count": 9,
   "metadata": {},
   "outputs": [],
   "source": [
    "#Calculate p-values and mean differences for 22q1\n",
    "\n",
    "gene.names = colnames(final.achilles.22q1)[2:ncol(final.achilles.22q1)]\n",
    "\n",
    "\n",
    "afr.pval.vector = NULL\n",
    "amr.pval.vector = NULL\n",
    "eas.pval.vector = NULL\n",
    "eur.pval.vector = NULL\n",
    "sas.pval.vector = NULL\n",
    "afr.mean.dif = NULL\n",
    "amr.mean.dif = NULL\n",
    "eas.mean.dif = NULL\n",
    "eur.mean.dif = NULL\n",
    "sas.mean.dif = NULL\n",
    "for(gene in gene.names){\n",
    "    \n",
    "    #Filter the chronos data so that it only includes the gene we are interested in \n",
    "    chronos.filtered = final.achilles.22q1 %>% select(sample, all_of(gene))\n",
    "    \n",
    "    #Filter the gene block data so that it only includes the gene we are interested in\n",
    "    gene.block.filtered = final.gene.block %>% select(sample, all_of(gene)) %>% rename(\"gene.symbol\" = 2)\n",
    "    \n",
    "    #For each gene in the loop, figure out which cell lines have the version of that gene for each ancestry group\n",
    "    afr.lines = gene.block.filtered %>% filter(gene.symbol %in% \"0\") %>% pull(sample)\n",
    "    non.afr.lines = gene.block.filtered %>% filter(!gene.symbol %in% \"0\") %>% pull(sample)\n",
    "    amr.lines = gene.block.filtered %>% filter(gene.symbol %in% \"1\") %>% pull(sample)\n",
    "    non.amr.lines = gene.block.filtered %>% filter(!gene.symbol %in% \"1\") %>% pull(sample)\n",
    "    eas.lines = gene.block.filtered %>% filter(gene.symbol %in% \"2\") %>% pull(sample)\n",
    "    non.eas.lines = gene.block.filtered %>% filter(!gene.symbol %in% \"2\") %>% pull(sample)\n",
    "    eur.lines = gene.block.filtered %>% filter(gene.symbol %in% \"3\") %>% pull(sample)\n",
    "    non.eur.lines = gene.block.filtered %>% filter(!gene.symbol %in% \"3\") %>% pull(sample)\n",
    "    sas.lines = gene.block.filtered %>% filter(gene.symbol %in% \"4\") %>% pull(sample)\n",
    "    non.sas.lines = gene.block.filtered %>% filter(!gene.symbol %in% \"4\") %>% pull(sample)\n",
    "    \n",
    "    \n",
    "    #Now get vectors of chronos scores for each ancestry group\n",
    "    afr.chronos = chronos.filtered %>% filter(sample %in% afr.lines) %>% pull(2)\n",
    "    non.afr.chronos = chronos.filtered %>% filter(sample %in% non.afr.lines) %>% pull(2)\n",
    "    \n",
    "    amr.chronos = chronos.filtered %>% filter(sample %in% amr.lines) %>% pull(2)\n",
    "    non.amr.chronos = chronos.filtered %>% filter(sample %in% non.amr.lines) %>% pull(2)\n",
    "    \n",
    "    eas.chronos = chronos.filtered %>% filter(sample %in% eas.lines) %>% pull(2)\n",
    "    non.eas.chronos = chronos.filtered %>% filter(sample %in% non.eas.lines) %>% pull(2)\n",
    "    \n",
    "    eur.chronos = chronos.filtered %>% filter(sample %in% eur.lines) %>% pull(2)\n",
    "    non.eur.chronos = chronos.filtered %>% filter(sample %in% non.eur.lines) %>% pull(2)\n",
    "    \n",
    "    sas.chronos = chronos.filtered %>% filter(sample %in% sas.lines) %>% pull(2)\n",
    "    non.sas.chronos = chronos.filtered %>% filter(sample %in% non.sas.lines) %>% pull(2)\n",
    "    \n",
    "    \n",
    "    #Assemble data frames for performing the linear regression\n",
    "    afr.df = c(afr.lines, non.afr.lines) %>%\n",
    "    data.frame() %>%\n",
    "    rename(\"sample\" = 1) %>%\n",
    "    mutate(\"ancestry_class\" = c(rep(0, length(afr.lines)), rep(1, length(non.afr.lines)))) %>%\n",
    "    mutate(\"chronos_score\" = c(afr.chronos, non.afr.chronos)) %>%\n",
    "    mutate(\"covariate\" = plyr::mapvalues(from = sample.annotation$sample, to = sample.annotation$primary_disease, sample, warn_missing = FALSE))\n",
    "    \n",
    "    amr.df = c(amr.lines, non.amr.lines) %>%\n",
    "    data.frame() %>%\n",
    "    rename(\"sample\" = 1) %>%\n",
    "    mutate(\"ancestry_class\" = c(rep(0, length(amr.lines)), rep(1, length(non.amr.lines)))) %>%\n",
    "    mutate(\"chronos_score\" = c(amr.chronos, non.amr.chronos)) %>%\n",
    "    mutate(\"covariate\" = plyr::mapvalues(from = sample.annotation$sample, to = sample.annotation$primary_disease, sample, warn_missing = FALSE))\n",
    "    \n",
    "    eas.df = c(eas.lines, non.eas.lines) %>%\n",
    "    data.frame() %>%\n",
    "    rename(\"sample\" = 1) %>%\n",
    "    mutate(\"ancestry_class\" = c(rep(0, length(eas.lines)), rep(1, length(non.eas.lines)))) %>%\n",
    "    mutate(\"chronos_score\" = c(eas.chronos, non.eas.chronos)) %>%\n",
    "    mutate(\"covariate\" = plyr::mapvalues(from = sample.annotation$sample, to = sample.annotation$primary_disease, sample, warn_missing = FALSE))\n",
    "    \n",
    "    eur.df = c(eur.lines, non.eur.lines) %>%\n",
    "    data.frame() %>%\n",
    "    rename(\"sample\" = 1) %>%\n",
    "    mutate(\"ancestry_class\" = c(rep(0, length(eur.lines)), rep(1, length(non.eur.lines)))) %>%\n",
    "    mutate(\"chronos_score\" = c(eur.chronos, non.eur.chronos)) %>%\n",
    "    mutate(\"covariate\" = plyr::mapvalues(from = sample.annotation$sample, to = sample.annotation$primary_disease, sample, warn_missing = FALSE))\n",
    "    \n",
    "    sas.df = c(sas.lines, non.sas.lines) %>%\n",
    "    data.frame() %>%\n",
    "    rename(\"sample\" = 1) %>%\n",
    "    mutate(\"ancestry_class\" = c(rep(0, length(sas.lines)), rep(1, length(non.sas.lines)))) %>%\n",
    "    mutate(\"chronos_score\" = c(sas.chronos, non.sas.chronos)) %>%\n",
    "    mutate(\"covariate\" = plyr::mapvalues(from = sample.annotation$sample, to = sample.annotation$primary_disease, sample, warn_missing = FALSE))\n",
    "    \n",
    "    \n",
    "    #Now calculate the p-values for each comparison (if there are more than three observations)\n",
    "    if(length(afr.chronos) >= 3 & length(non.afr.chronos) >= 3){\n",
    "        afr.pval = lm(chronos_score ~ ancestry_class + covariate, data = afr.df) %>% summary() %>% .[[4]] %>% .[2,4]\n",
    "    } else { afr.pval = 1 }\n",
    "    \n",
    "      if(length(amr.chronos) >= 3 & length(non.amr.chronos) >= 3){\n",
    "        amr.pval = lm(chronos_score ~ ancestry_class + covariate, data = amr.df) %>% summary() %>% .[[4]] %>% .[2,4] \n",
    "    } else { amr.pval = 1 }\n",
    "    \n",
    "      if(length(eas.chronos) >= 3 & length(non.eas.chronos) >= 3){\n",
    "        eas.pval = lm(chronos_score ~ ancestry_class + covariate, data = eas.df) %>% summary() %>% .[[4]] %>% .[2,4] \n",
    "    } else { eas.pval = 1 }\n",
    "    \n",
    "      if(length(eur.chronos) >= 3 & length(non.eur.chronos) >= 3){\n",
    "        eur.pval = lm(chronos_score ~ ancestry_class + covariate, data = eur.df) %>% summary() %>% .[[4]] %>% .[2,4] \n",
    "    } else { eur.pval = 1 }\n",
    "    \n",
    "      if(length(sas.chronos) >= 3 & length(non.sas.chronos) >= 3){\n",
    "        sas.pval = lm(chronos_score ~ ancestry_class + covariate, data = sas.df) %>% summary() %>% .[[4]] %>% .[2,4] \n",
    "    } else { sas.pval = 1 }\n",
    "    \n",
    "    \n",
    "    #Add the p-values to the vector outside of the loop\n",
    "    afr.pval.vector = c(afr.pval.vector, afr.pval)\n",
    "    amr.pval.vector = c(amr.pval.vector, amr.pval)\n",
    "    eas.pval.vector = c(eas.pval.vector, eas.pval)\n",
    "    eur.pval.vector = c(eur.pval.vector, eur.pval)\n",
    "    sas.pval.vector = c(sas.pval.vector, sas.pval)\n",
    "    \n",
    "    \n",
    "    #Calculate the differences in means\n",
    "    afr.dif = mean(afr.chronos) - mean(non.afr.chronos)\n",
    "    amr.dif = mean(amr.chronos) - mean(non.amr.chronos)\n",
    "    eas.dif = mean(eas.chronos) - mean(non.eas.chronos)\n",
    "    eur.dif = mean(eur.chronos) - mean(non.eur.chronos)\n",
    "    sas.dif = mean(sas.chronos) - mean(non.sas.chronos)\n",
    "    \n",
    "    #Add the mean differences to the vectors\n",
    "    afr.mean.dif = c(afr.mean.dif, afr.dif)\n",
    "    amr.mean.dif = c(amr.mean.dif, amr.dif)\n",
    "    eas.mean.dif = c(eas.mean.dif, eas.dif)\n",
    "    eur.mean.dif = c(eur.mean.dif, eur.dif)\n",
    "    sas.mean.dif = c(sas.mean.dif, sas.dif)\n",
    "}"
   ]
  },
  {
   "cell_type": "code",
   "execution_count": 10,
   "metadata": {},
   "outputs": [
    {
     "data": {
      "text/html": [
       "<table class=\"dataframe\">\n",
       "<caption>A data.frame: 6 × 5</caption>\n",
       "<thead>\n",
       "\t<tr><th></th><th scope=col>gene</th><th scope=col>pval</th><th scope=col>difference</th><th scope=col>ancestry</th><th scope=col>FDR</th></tr>\n",
       "\t<tr><th></th><th scope=col>&lt;chr&gt;</th><th scope=col>&lt;dbl&gt;</th><th scope=col>&lt;dbl&gt;</th><th scope=col>&lt;chr&gt;</th><th scope=col>&lt;dbl&gt;</th></tr>\n",
       "</thead>\n",
       "<tbody>\n",
       "\t<tr><th scope=row>1</th><td>A1BG   </td><td>0.5023609</td><td> 0.0183208574</td><td>AFR</td><td>1</td></tr>\n",
       "\t<tr><th scope=row>2</th><td>A1CF   </td><td>0.9830007</td><td> 0.0005046055</td><td>AFR</td><td>1</td></tr>\n",
       "\t<tr><th scope=row>3</th><td>A2M    </td><td>0.8686871</td><td>-0.0006612870</td><td>AFR</td><td>1</td></tr>\n",
       "\t<tr><th scope=row>4</th><td>A2ML1  </td><td>0.2586242</td><td> 0.0208188943</td><td>AFR</td><td>1</td></tr>\n",
       "\t<tr><th scope=row>5</th><td>A3GALT2</td><td>0.6097706</td><td>-0.0104624547</td><td>AFR</td><td>1</td></tr>\n",
       "\t<tr><th scope=row>6</th><td>A4GALT </td><td>0.9369998</td><td> 0.0044760289</td><td>AFR</td><td>1</td></tr>\n",
       "</tbody>\n",
       "</table>\n"
      ],
      "text/latex": [
       "A data.frame: 6 × 5\n",
       "\\begin{tabular}{r|lllll}\n",
       "  & gene & pval & difference & ancestry & FDR\\\\\n",
       "  & <chr> & <dbl> & <dbl> & <chr> & <dbl>\\\\\n",
       "\\hline\n",
       "\t1 & A1BG    & 0.5023609 &  0.0183208574 & AFR & 1\\\\\n",
       "\t2 & A1CF    & 0.9830007 &  0.0005046055 & AFR & 1\\\\\n",
       "\t3 & A2M     & 0.8686871 & -0.0006612870 & AFR & 1\\\\\n",
       "\t4 & A2ML1   & 0.2586242 &  0.0208188943 & AFR & 1\\\\\n",
       "\t5 & A3GALT2 & 0.6097706 & -0.0104624547 & AFR & 1\\\\\n",
       "\t6 & A4GALT  & 0.9369998 &  0.0044760289 & AFR & 1\\\\\n",
       "\\end{tabular}\n"
      ],
      "text/markdown": [
       "\n",
       "A data.frame: 6 × 5\n",
       "\n",
       "| <!--/--> | gene &lt;chr&gt; | pval &lt;dbl&gt; | difference &lt;dbl&gt; | ancestry &lt;chr&gt; | FDR &lt;dbl&gt; |\n",
       "|---|---|---|---|---|---|\n",
       "| 1 | A1BG    | 0.5023609 |  0.0183208574 | AFR | 1 |\n",
       "| 2 | A1CF    | 0.9830007 |  0.0005046055 | AFR | 1 |\n",
       "| 3 | A2M     | 0.8686871 | -0.0006612870 | AFR | 1 |\n",
       "| 4 | A2ML1   | 0.2586242 |  0.0208188943 | AFR | 1 |\n",
       "| 5 | A3GALT2 | 0.6097706 | -0.0104624547 | AFR | 1 |\n",
       "| 6 | A4GALT  | 0.9369998 |  0.0044760289 | AFR | 1 |\n",
       "\n"
      ],
      "text/plain": [
       "  gene    pval      difference    ancestry FDR\n",
       "1 A1BG    0.5023609  0.0183208574 AFR      1  \n",
       "2 A1CF    0.9830007  0.0005046055 AFR      1  \n",
       "3 A2M     0.8686871 -0.0006612870 AFR      1  \n",
       "4 A2ML1   0.2586242  0.0208188943 AFR      1  \n",
       "5 A3GALT2 0.6097706 -0.0104624547 AFR      1  \n",
       "6 A4GALT  0.9369998  0.0044760289 AFR      1  "
      ]
     },
     "metadata": {},
     "output_type": "display_data"
    },
    {
     "data": {
      "text/html": [
       "<table class=\"dataframe\">\n",
       "<caption>A data.frame: 6 × 5</caption>\n",
       "<thead>\n",
       "\t<tr><th></th><th scope=col>gene</th><th scope=col>pval</th><th scope=col>difference</th><th scope=col>ancestry</th><th scope=col>FDR</th></tr>\n",
       "\t<tr><th></th><th scope=col>&lt;chr&gt;</th><th scope=col>&lt;dbl&gt;</th><th scope=col>&lt;dbl&gt;</th><th scope=col>&lt;chr&gt;</th><th scope=col>&lt;dbl&gt;</th></tr>\n",
       "</thead>\n",
       "<tbody>\n",
       "\t<tr><th scope=row>84750</th><td>ZXDC  </td><td>1.0000000</td><td>-0.05777144</td><td>SAS</td><td>1</td></tr>\n",
       "\t<tr><th scope=row>84751</th><td>ZYG11A</td><td>1.0000000</td><td>-0.04823526</td><td>SAS</td><td>1</td></tr>\n",
       "\t<tr><th scope=row>84752</th><td>ZYG11B</td><td>1.0000000</td><td> 0.05114193</td><td>SAS</td><td>1</td></tr>\n",
       "\t<tr><th scope=row>84753</th><td>ZYX   </td><td>0.4372270</td><td>-0.06731900</td><td>SAS</td><td>1</td></tr>\n",
       "\t<tr><th scope=row>84754</th><td>ZZEF1 </td><td>0.8140801</td><td> 0.04295974</td><td>SAS</td><td>1</td></tr>\n",
       "\t<tr><th scope=row>84755</th><td>ZZZ3  </td><td>1.0000000</td><td>-0.09172472</td><td>SAS</td><td>1</td></tr>\n",
       "</tbody>\n",
       "</table>\n"
      ],
      "text/latex": [
       "A data.frame: 6 × 5\n",
       "\\begin{tabular}{r|lllll}\n",
       "  & gene & pval & difference & ancestry & FDR\\\\\n",
       "  & <chr> & <dbl> & <dbl> & <chr> & <dbl>\\\\\n",
       "\\hline\n",
       "\t84750 & ZXDC   & 1.0000000 & -0.05777144 & SAS & 1\\\\\n",
       "\t84751 & ZYG11A & 1.0000000 & -0.04823526 & SAS & 1\\\\\n",
       "\t84752 & ZYG11B & 1.0000000 &  0.05114193 & SAS & 1\\\\\n",
       "\t84753 & ZYX    & 0.4372270 & -0.06731900 & SAS & 1\\\\\n",
       "\t84754 & ZZEF1  & 0.8140801 &  0.04295974 & SAS & 1\\\\\n",
       "\t84755 & ZZZ3   & 1.0000000 & -0.09172472 & SAS & 1\\\\\n",
       "\\end{tabular}\n"
      ],
      "text/markdown": [
       "\n",
       "A data.frame: 6 × 5\n",
       "\n",
       "| <!--/--> | gene &lt;chr&gt; | pval &lt;dbl&gt; | difference &lt;dbl&gt; | ancestry &lt;chr&gt; | FDR &lt;dbl&gt; |\n",
       "|---|---|---|---|---|---|\n",
       "| 84750 | ZXDC   | 1.0000000 | -0.05777144 | SAS | 1 |\n",
       "| 84751 | ZYG11A | 1.0000000 | -0.04823526 | SAS | 1 |\n",
       "| 84752 | ZYG11B | 1.0000000 |  0.05114193 | SAS | 1 |\n",
       "| 84753 | ZYX    | 0.4372270 | -0.06731900 | SAS | 1 |\n",
       "| 84754 | ZZEF1  | 0.8140801 |  0.04295974 | SAS | 1 |\n",
       "| 84755 | ZZZ3   | 1.0000000 | -0.09172472 | SAS | 1 |\n",
       "\n"
      ],
      "text/plain": [
       "      gene   pval      difference  ancestry FDR\n",
       "84750 ZXDC   1.0000000 -0.05777144 SAS      1  \n",
       "84751 ZYG11A 1.0000000 -0.04823526 SAS      1  \n",
       "84752 ZYG11B 1.0000000  0.05114193 SAS      1  \n",
       "84753 ZYX    0.4372270 -0.06731900 SAS      1  \n",
       "84754 ZZEF1  0.8140801  0.04295974 SAS      1  \n",
       "84755 ZZZ3   1.0000000 -0.09172472 SAS      1  "
      ]
     },
     "metadata": {},
     "output_type": "display_data"
    }
   ],
   "source": [
    "#First, create datasets for each ancestry group, then cat them.\n",
    "afr.volcano.df = cbind(gene.names, afr.pval.vector, afr.mean.dif) %>%\n",
    "data.frame() %>%\n",
    "rename(\"gene\" = 1, \"pval\" = 2, \"difference\" = 3) %>%\n",
    "mutate(\"ancestry\" = \"AFR\")\n",
    "\n",
    "amr.volcano.df = cbind(gene.names, amr.pval.vector, amr.mean.dif) %>%\n",
    "data.frame() %>%\n",
    "rename(\"gene\" = 1, \"pval\" = 2, \"difference\" = 3) %>%\n",
    "mutate(\"ancestry\" = \"AMR\")\n",
    "\n",
    "eas.volcano.df = cbind(gene.names, eas.pval.vector, eas.mean.dif) %>%\n",
    "data.frame() %>%\n",
    "rename(\"gene\" = 1, \"pval\" = 2, \"difference\" = 3) %>%\n",
    "mutate(\"ancestry\" = \"EAS\")\n",
    "\n",
    "eur.volcano.df = cbind(gene.names, eur.pval.vector, eur.mean.dif) %>%\n",
    "data.frame() %>%\n",
    "rename(\"gene\" = 1, \"pval\" = 2, \"difference\" = 3) %>%\n",
    "mutate(\"ancestry\" = \"EUR\")\n",
    "\n",
    "sas.volcano.df = cbind(gene.names, sas.pval.vector, sas.mean.dif) %>%\n",
    "data.frame() %>%\n",
    "rename(\"gene\" = 1, \"pval\" = 2, \"difference\" = 3) %>%\n",
    "mutate(\"ancestry\" = \"SAS\")\n",
    "\n",
    "cat.volcano.df = rbind(afr.volcano.df, amr.volcano.df, eas.volcano.df, eur.volcano.df, sas.volcano.df) %>%\n",
    "mutate(pval = as.numeric(pval)) %>%\n",
    "mutate(difference = as.numeric(difference)) %>%\n",
    "mutate(FDR = p.adjust(pval, method = \"BH\", n = length(pval)))\n",
    "\n",
    "head(cat.volcano.df)\n",
    "tail(cat.volcano.df)"
   ]
  },
  {
   "cell_type": "code",
   "execution_count": 11,
   "metadata": {},
   "outputs": [],
   "source": [
    "#Write the dataset so that we don't need to re-read it\n",
    "setwd(\"/home/jupyter/Ancestry/analysis/locus_specific_associations\")\n",
    "write.table(cat.volcano.df, \"achilles_only_ancestry_pvals.txt\", sep = \"\\t\", col.names = TRUE, row.names = FALSE, quote = FALSE)"
   ]
  },
  {
   "cell_type": "markdown",
   "metadata": {},
   "source": [
    "Now calculate the differences between the combined and the achilles-only"
   ]
  },
  {
   "cell_type": "code",
   "execution_count": 16,
   "metadata": {},
   "outputs": [
    {
     "data": {
      "text/html": [
       "<table class=\"dataframe\">\n",
       "<caption>A data.frame: 6 × 6</caption>\n",
       "<thead>\n",
       "\t<tr><th></th><th scope=col>gene</th><th scope=col>pval</th><th scope=col>difference</th><th scope=col>ancestry</th><th scope=col>FDR</th><th scope=col>gene_ancestry</th></tr>\n",
       "\t<tr><th></th><th scope=col>&lt;chr&gt;</th><th scope=col>&lt;dbl&gt;</th><th scope=col>&lt;dbl&gt;</th><th scope=col>&lt;chr&gt;</th><th scope=col>&lt;dbl&gt;</th><th scope=col>&lt;chr&gt;</th></tr>\n",
       "</thead>\n",
       "<tbody>\n",
       "\t<tr><th scope=row>1</th><td>A1BG   </td><td>0.51570812</td><td> 0.018967685</td><td>AFR</td><td>0.998556</td><td>A1BG_AFR   </td></tr>\n",
       "\t<tr><th scope=row>2</th><td>A1CF   </td><td>0.09749307</td><td>-0.035117475</td><td>AFR</td><td>0.998556</td><td>A1CF_AFR   </td></tr>\n",
       "\t<tr><th scope=row>3</th><td>A2M    </td><td>0.68035925</td><td>-0.010031350</td><td>AFR</td><td>0.998556</td><td>A2M_AFR    </td></tr>\n",
       "\t<tr><th scope=row>4</th><td>A2ML1  </td><td>0.61602149</td><td> 0.009988105</td><td>AFR</td><td>0.998556</td><td>A2ML1_AFR  </td></tr>\n",
       "\t<tr><th scope=row>5</th><td>A3GALT2</td><td>0.76637396</td><td> 0.003320528</td><td>AFR</td><td>0.998556</td><td>A3GALT2_AFR</td></tr>\n",
       "\t<tr><th scope=row>6</th><td>A4GALT </td><td>0.87370145</td><td> 0.004528391</td><td>AFR</td><td>0.998556</td><td>A4GALT_AFR </td></tr>\n",
       "</tbody>\n",
       "</table>\n"
      ],
      "text/latex": [
       "A data.frame: 6 × 6\n",
       "\\begin{tabular}{r|llllll}\n",
       "  & gene & pval & difference & ancestry & FDR & gene\\_ancestry\\\\\n",
       "  & <chr> & <dbl> & <dbl> & <chr> & <dbl> & <chr>\\\\\n",
       "\\hline\n",
       "\t1 & A1BG    & 0.51570812 &  0.018967685 & AFR & 0.998556 & A1BG\\_AFR   \\\\\n",
       "\t2 & A1CF    & 0.09749307 & -0.035117475 & AFR & 0.998556 & A1CF\\_AFR   \\\\\n",
       "\t3 & A2M     & 0.68035925 & -0.010031350 & AFR & 0.998556 & A2M\\_AFR    \\\\\n",
       "\t4 & A2ML1   & 0.61602149 &  0.009988105 & AFR & 0.998556 & A2ML1\\_AFR  \\\\\n",
       "\t5 & A3GALT2 & 0.76637396 &  0.003320528 & AFR & 0.998556 & A3GALT2\\_AFR\\\\\n",
       "\t6 & A4GALT  & 0.87370145 &  0.004528391 & AFR & 0.998556 & A4GALT\\_AFR \\\\\n",
       "\\end{tabular}\n"
      ],
      "text/markdown": [
       "\n",
       "A data.frame: 6 × 6\n",
       "\n",
       "| <!--/--> | gene &lt;chr&gt; | pval &lt;dbl&gt; | difference &lt;dbl&gt; | ancestry &lt;chr&gt; | FDR &lt;dbl&gt; | gene_ancestry &lt;chr&gt; |\n",
       "|---|---|---|---|---|---|---|\n",
       "| 1 | A1BG    | 0.51570812 |  0.018967685 | AFR | 0.998556 | A1BG_AFR    |\n",
       "| 2 | A1CF    | 0.09749307 | -0.035117475 | AFR | 0.998556 | A1CF_AFR    |\n",
       "| 3 | A2M     | 0.68035925 | -0.010031350 | AFR | 0.998556 | A2M_AFR     |\n",
       "| 4 | A2ML1   | 0.61602149 |  0.009988105 | AFR | 0.998556 | A2ML1_AFR   |\n",
       "| 5 | A3GALT2 | 0.76637396 |  0.003320528 | AFR | 0.998556 | A3GALT2_AFR |\n",
       "| 6 | A4GALT  | 0.87370145 |  0.004528391 | AFR | 0.998556 | A4GALT_AFR  |\n",
       "\n"
      ],
      "text/plain": [
       "  gene    pval       difference   ancestry FDR      gene_ancestry\n",
       "1 A1BG    0.51570812  0.018967685 AFR      0.998556 A1BG_AFR     \n",
       "2 A1CF    0.09749307 -0.035117475 AFR      0.998556 A1CF_AFR     \n",
       "3 A2M     0.68035925 -0.010031350 AFR      0.998556 A2M_AFR      \n",
       "4 A2ML1   0.61602149  0.009988105 AFR      0.998556 A2ML1_AFR    \n",
       "5 A3GALT2 0.76637396  0.003320528 AFR      0.998556 A3GALT2_AFR  \n",
       "6 A4GALT  0.87370145  0.004528391 AFR      0.998556 A4GALT_AFR   "
      ]
     },
     "metadata": {},
     "output_type": "display_data"
    }
   ],
   "source": [
    "#Load in the lineage-corrected ancestry-associated p-value data frame\n",
    "setwd(\"/home/jupyter/Ancestry/analysis/nature_genetics_reviews/reviewer_4\")\n",
    "lineage.corrected.pvals = read.table(\"lm_ancestry_associated_dependency_pvals.txt\", sep = \"\\t\", header = T)\n",
    "\n",
    "#Format the old lineage corrected p-values in a goofy way because of how I coded things before.\n",
    "gene.vector = c(lineage.corrected.pvals$gene, lineage.corrected.pvals$gene, lineage.corrected.pvals$gene, lineage.corrected.pvals$gene, lineage.corrected.pvals$gene)\n",
    "pval.vector = c(lineage.corrected.pvals$afr.lm.pval.vector, lineage.corrected.pvals$amr.lm.pval.vector, lineage.corrected.pvals$eas.lm.pval.vector, lineage.corrected.pvals$eur.lm.pval.vector, lineage.corrected.pvals$sas.lm.pval.vector)\n",
    "diff.vector = c(lineage.corrected.pvals$afr.mean.dif, lineage.corrected.pvals$amr.mean.dif, lineage.corrected.pvals$eas.mean.dif, lineage.corrected.pvals$eur.mean.dif, lineage.corrected.pvals$sas.mean.dif)\n",
    "fdr.vector = c(lineage.corrected.pvals$afr_fdr, lineage.corrected.pvals$amr_fdr, lineage.corrected.pvals$eas_fdr, lineage.corrected.pvals$eur_fdr, lineage.corrected.pvals$sas_fdr)\n",
    "ancestry.vector = c(rep(\"AFR\", times = length(gene.vector)/5), rep(\"AMR\", times = length(gene.vector)/5), rep(\"EAS\", times = length(gene.vector)/5), rep(\"EUR\", times = length(gene.vector)/5), rep(\"SAS\", times = length(gene.vector)/5))\n",
    "gene.ancestry.vector = paste(gene.vector, \"_\", ancestry.vector, sep = \"\")\n",
    "\n",
    "#Bind all of the vectors together\n",
    "combined.volcano.df = cbind(gene.vector, pval.vector, diff.vector, ancestry.vector, fdr.vector, gene.ancestry.vector) %>%\n",
    "data.frame() %>%\n",
    "rename(\"gene\" = 1, \"pval\" = 2, \"difference\" = 3, \"ancestry\" = 4, \"FDR\" = 5, \"gene_ancestry\" = 6) %>%\n",
    "mutate(pval = as.numeric(pval)) %>%\n",
    "mutate(difference = as.numeric(difference)) %>%\n",
    "mutate(FDR = as.numeric(FDR))\n",
    "\n",
    "head(combined.volcano.df)\n"
   ]
  },
  {
   "cell_type": "code",
   "execution_count": 17,
   "metadata": {},
   "outputs": [
    {
     "data": {
      "text/html": [
       "<table class=\"dataframe\">\n",
       "<caption>A data.frame: 6 × 11</caption>\n",
       "<thead>\n",
       "\t<tr><th></th><th scope=col>achilles_gene</th><th scope=col>achilles_pval</th><th scope=col>achilles_difference</th><th scope=col>achilles_ancestry</th><th scope=col>achilles_fdr</th><th scope=col>gene_ancestry</th><th scope=col>merged_gene</th><th scope=col>merged_pval</th><th scope=col>merged_difference</th><th scope=col>merged_ancestry</th><th scope=col>merged_fdr</th></tr>\n",
       "\t<tr><th></th><th scope=col>&lt;chr&gt;</th><th scope=col>&lt;dbl&gt;</th><th scope=col>&lt;dbl&gt;</th><th scope=col>&lt;chr&gt;</th><th scope=col>&lt;dbl&gt;</th><th scope=col>&lt;chr&gt;</th><th scope=col>&lt;chr&gt;</th><th scope=col>&lt;dbl&gt;</th><th scope=col>&lt;dbl&gt;</th><th scope=col>&lt;chr&gt;</th><th scope=col>&lt;dbl&gt;</th></tr>\n",
       "</thead>\n",
       "<tbody>\n",
       "\t<tr><th scope=row>1</th><td>A1BG   </td><td>0.5023609</td><td> 0.0183208574</td><td>AFR</td><td>1</td><td>A1BG_AFR   </td><td>A1BG   </td><td>0.51570812</td><td> 0.018967685</td><td>AFR</td><td>0.998556</td></tr>\n",
       "\t<tr><th scope=row>2</th><td>A1CF   </td><td>0.9830007</td><td> 0.0005046055</td><td>AFR</td><td>1</td><td>A1CF_AFR   </td><td>A1CF   </td><td>0.09749307</td><td>-0.035117475</td><td>AFR</td><td>0.998556</td></tr>\n",
       "\t<tr><th scope=row>3</th><td>A2M    </td><td>0.8686871</td><td>-0.0006612870</td><td>AFR</td><td>1</td><td>A2M_AFR    </td><td>A2M    </td><td>0.68035925</td><td>-0.010031350</td><td>AFR</td><td>0.998556</td></tr>\n",
       "\t<tr><th scope=row>4</th><td>A2ML1  </td><td>0.2586242</td><td> 0.0208188943</td><td>AFR</td><td>1</td><td>A2ML1_AFR  </td><td>A2ML1  </td><td>0.61602149</td><td> 0.009988105</td><td>AFR</td><td>0.998556</td></tr>\n",
       "\t<tr><th scope=row>5</th><td>A3GALT2</td><td>0.6097706</td><td>-0.0104624547</td><td>AFR</td><td>1</td><td>A3GALT2_AFR</td><td>A3GALT2</td><td>0.76637396</td><td> 0.003320528</td><td>AFR</td><td>0.998556</td></tr>\n",
       "\t<tr><th scope=row>6</th><td>A4GALT </td><td>0.9369998</td><td> 0.0044760289</td><td>AFR</td><td>1</td><td>A4GALT_AFR </td><td>A4GALT </td><td>0.87370145</td><td> 0.004528391</td><td>AFR</td><td>0.998556</td></tr>\n",
       "</tbody>\n",
       "</table>\n"
      ],
      "text/latex": [
       "A data.frame: 6 × 11\n",
       "\\begin{tabular}{r|lllllllllll}\n",
       "  & achilles\\_gene & achilles\\_pval & achilles\\_difference & achilles\\_ancestry & achilles\\_fdr & gene\\_ancestry & merged\\_gene & merged\\_pval & merged\\_difference & merged\\_ancestry & merged\\_fdr\\\\\n",
       "  & <chr> & <dbl> & <dbl> & <chr> & <dbl> & <chr> & <chr> & <dbl> & <dbl> & <chr> & <dbl>\\\\\n",
       "\\hline\n",
       "\t1 & A1BG    & 0.5023609 &  0.0183208574 & AFR & 1 & A1BG\\_AFR    & A1BG    & 0.51570812 &  0.018967685 & AFR & 0.998556\\\\\n",
       "\t2 & A1CF    & 0.9830007 &  0.0005046055 & AFR & 1 & A1CF\\_AFR    & A1CF    & 0.09749307 & -0.035117475 & AFR & 0.998556\\\\\n",
       "\t3 & A2M     & 0.8686871 & -0.0006612870 & AFR & 1 & A2M\\_AFR     & A2M     & 0.68035925 & -0.010031350 & AFR & 0.998556\\\\\n",
       "\t4 & A2ML1   & 0.2586242 &  0.0208188943 & AFR & 1 & A2ML1\\_AFR   & A2ML1   & 0.61602149 &  0.009988105 & AFR & 0.998556\\\\\n",
       "\t5 & A3GALT2 & 0.6097706 & -0.0104624547 & AFR & 1 & A3GALT2\\_AFR & A3GALT2 & 0.76637396 &  0.003320528 & AFR & 0.998556\\\\\n",
       "\t6 & A4GALT  & 0.9369998 &  0.0044760289 & AFR & 1 & A4GALT\\_AFR  & A4GALT  & 0.87370145 &  0.004528391 & AFR & 0.998556\\\\\n",
       "\\end{tabular}\n"
      ],
      "text/markdown": [
       "\n",
       "A data.frame: 6 × 11\n",
       "\n",
       "| <!--/--> | achilles_gene &lt;chr&gt; | achilles_pval &lt;dbl&gt; | achilles_difference &lt;dbl&gt; | achilles_ancestry &lt;chr&gt; | achilles_fdr &lt;dbl&gt; | gene_ancestry &lt;chr&gt; | merged_gene &lt;chr&gt; | merged_pval &lt;dbl&gt; | merged_difference &lt;dbl&gt; | merged_ancestry &lt;chr&gt; | merged_fdr &lt;dbl&gt; |\n",
       "|---|---|---|---|---|---|---|---|---|---|---|---|\n",
       "| 1 | A1BG    | 0.5023609 |  0.0183208574 | AFR | 1 | A1BG_AFR    | A1BG    | 0.51570812 |  0.018967685 | AFR | 0.998556 |\n",
       "| 2 | A1CF    | 0.9830007 |  0.0005046055 | AFR | 1 | A1CF_AFR    | A1CF    | 0.09749307 | -0.035117475 | AFR | 0.998556 |\n",
       "| 3 | A2M     | 0.8686871 | -0.0006612870 | AFR | 1 | A2M_AFR     | A2M     | 0.68035925 | -0.010031350 | AFR | 0.998556 |\n",
       "| 4 | A2ML1   | 0.2586242 |  0.0208188943 | AFR | 1 | A2ML1_AFR   | A2ML1   | 0.61602149 |  0.009988105 | AFR | 0.998556 |\n",
       "| 5 | A3GALT2 | 0.6097706 | -0.0104624547 | AFR | 1 | A3GALT2_AFR | A3GALT2 | 0.76637396 |  0.003320528 | AFR | 0.998556 |\n",
       "| 6 | A4GALT  | 0.9369998 |  0.0044760289 | AFR | 1 | A4GALT_AFR  | A4GALT  | 0.87370145 |  0.004528391 | AFR | 0.998556 |\n",
       "\n"
      ],
      "text/plain": [
       "  achilles_gene achilles_pval achilles_difference achilles_ancestry\n",
       "1 A1BG          0.5023609      0.0183208574       AFR              \n",
       "2 A1CF          0.9830007      0.0005046055       AFR              \n",
       "3 A2M           0.8686871     -0.0006612870       AFR              \n",
       "4 A2ML1         0.2586242      0.0208188943       AFR              \n",
       "5 A3GALT2       0.6097706     -0.0104624547       AFR              \n",
       "6 A4GALT        0.9369998      0.0044760289       AFR              \n",
       "  achilles_fdr gene_ancestry merged_gene merged_pval merged_difference\n",
       "1 1            A1BG_AFR      A1BG        0.51570812   0.018967685     \n",
       "2 1            A1CF_AFR      A1CF        0.09749307  -0.035117475     \n",
       "3 1            A2M_AFR       A2M         0.68035925  -0.010031350     \n",
       "4 1            A2ML1_AFR     A2ML1       0.61602149   0.009988105     \n",
       "5 1            A3GALT2_AFR   A3GALT2     0.76637396   0.003320528     \n",
       "6 1            A4GALT_AFR    A4GALT      0.87370145   0.004528391     \n",
       "  merged_ancestry merged_fdr\n",
       "1 AFR             0.998556  \n",
       "2 AFR             0.998556  \n",
       "3 AFR             0.998556  \n",
       "4 AFR             0.998556  \n",
       "5 AFR             0.998556  \n",
       "6 AFR             0.998556  "
      ]
     },
     "metadata": {},
     "output_type": "display_data"
    }
   ],
   "source": [
    "#Create a merged dataset\n",
    "merged.pval.matrix = cat.volcano.df %>%\n",
    "rename(\"achilles_gene\" = 1, \"achilles_pval\" = 2, \"achilles_difference\" = 3, \"achilles_ancestry\" = 4, \"achilles_fdr\" = 5) %>%\n",
    "mutate(gene_ancestry = paste(achilles_gene, achilles_ancestry, sep = \"_\")) %>%\n",
    "inner_join(combined.volcano.df, by = \"gene_ancestry\") %>%\n",
    "rename(\"merged_gene\" = 7, \"merged_pval\" = 8, \"merged_difference\" = 9, \"merged_ancestry\" = 10, \"merged_fdr\" = 11)\n",
    "\n",
    "\n",
    "\n",
    "head(merged.pval.matrix)"
   ]
  },
  {
   "cell_type": "code",
   "execution_count": 19,
   "metadata": {},
   "outputs": [
    {
     "data": {
      "image/png": "[encoded data removed]",
      "text/plain": [
       "plot without title"
      ]
     },
     "metadata": {
      "image/png": {
       "height": 420,
       "width": 420
      }
     },
     "output_type": "display_data"
    }
   ],
   "source": [
    "#Correlate the p-values from the achilles only and the merged\n",
    "merged.pval.matrix %>%\n",
    "mutate(\"sig_color\" = ifelse(achilles_fdr < 0.05 & merged_fdr < 0.05, \"color\", \"no_color\")) %>%\n",
    "ggplot(aes(x = -log10(merged_fdr), y = -log10(achilles_fdr), color = sig_color)) +\n",
    "geom_point() +\n",
    "\n",
    "geom_hline(yintercept = 1.301, linetype = 2) +\n",
    "geom_vline(xintercept = 1.301, linetype = 2) +\n",
    "\n",
    "scale_color_manual(values = c(\"firebrick4\", \"black\")) +\n",
    "\n",
    "theme_bw() +\n",
    "\n",
    "theme(\n",
    "panel.grid.major = element_blank(),\n",
    "panel.grid.minor = element_blank(), \n",
    "axis.line = element_line(color = \"black\")\n",
    ") +\n",
    "\n",
    "theme(\n",
    "axis.title.x = element_text(size = 12),\n",
    "axis.title.y = element_text(size = 12)\n",
    ") +\n",
    "\n",
    "theme(\n",
    "axis.text=element_text(size = 12),\n",
    "axis.title=element_text(size = 12)\n",
    ") +\n",
    "\n",
    "\n",
    "ylab(\"Achilles ancestry association (fdr)\") +\n",
    "xlab(\"Merged ancestry association (fdr)\")\n",
    "\n",
    "\n",
    "#Export it to the google bucket\n",
    "setwd('/home/jupyter/Ancestry/analysis/nature_genetics_reviews/reviewer_4')\n",
    "ggsave(\"r4c1_achilles_merged_correlation_plot.pdf\", width = 5, height = 4)\n",
    "system(glue::glue(\"\n",
    "cd /home/jupyter/Ancestry/analysis/nature_genetics_reviews/reviewer_4\n",
    "gsutil cp r4c1_achilles_merged_correlation_plot.pdf gs://fc-45c0e148-0b1c-4244-9bfc-feb559bbc514\n",
    "\"))"
   ]
  },
  {
   "cell_type": "code",
   "execution_count": 20,
   "metadata": {},
   "outputs": [
    {
     "data": {
      "text/html": [
       "46"
      ],
      "text/latex": [
       "46"
      ],
      "text/markdown": [
       "46"
      ],
      "text/plain": [
       "[1] 46"
      ]
     },
     "metadata": {},
     "output_type": "display_data"
    },
    {
     "data": {
      "text/html": [
       "49"
      ],
      "text/latex": [
       "49"
      ],
      "text/markdown": [
       "49"
      ],
      "text/plain": [
       "[1] 49"
      ]
     },
     "metadata": {},
     "output_type": "display_data"
    },
    {
     "data": {
      "text/html": [
       "34"
      ],
      "text/latex": [
       "34"
      ],
      "text/markdown": [
       "34"
      ],
      "text/plain": [
       "[1] 34"
      ]
     },
     "metadata": {},
     "output_type": "display_data"
    }
   ],
   "source": [
    "#Calculate the total number of significant genes in each dataset\n",
    "merged.pval.matrix %>% filter(achilles_fdr < 0.05) %>% pull(achilles_gene) %>% unique() %>% length()\n",
    "merged.pval.matrix %>% filter(merged_fdr < 0.05) %>% pull(merged_gene) %>% unique() %>% length()\n",
    "merged.pval.matrix %>% filter(achilles_fdr < 0.05 & merged_fdr < 0.05) %>% pull(achilles_gene) %>% unique() %>% length()"
   ]
  },
  {
   "cell_type": "markdown",
   "metadata": {},
   "source": [
    "# Comment 1 (lineage correction)"
   ]
  },
  {
   "cell_type": "code",
   "execution_count": 8,
   "metadata": {},
   "outputs": [
    {
     "name": "stdout",
     "output_type": "stream",
     "text": [
      "Fetching https://cds.team/taiga/api/dataset/public-22q1-305b/24 \n",
      "Status 200 \n"
     ]
    },
    {
     "name": "stderr",
     "output_type": "stream",
     "text": [
      "No encoding supplied: defaulting to UTF-8.\n",
      "\n"
     ]
    },
    {
     "name": "stdout",
     "output_type": "stream",
     "text": [
      "loading cached data version from  /home/jupyter/.taiga/public-22q1-305b_24.toc \n"
     ]
    },
    {
     "name": "stderr",
     "output_type": "stream",
     "text": [
      "Loading from cached file /home/jupyter/.taiga/90832e86cae84f918423ad1d83fa4222_crispr-gene-effect.rds\n",
      "\n"
     ]
    },
    {
     "name": "stdout",
     "output_type": "stream",
     "text": [
      "Fetching https://cds.team/taiga/api/dataset/public-22q2-de04/14 \n",
      "Status 200 \n"
     ]
    },
    {
     "name": "stderr",
     "output_type": "stream",
     "text": [
      "No encoding supplied: defaulting to UTF-8.\n",
      "\n"
     ]
    },
    {
     "name": "stdout",
     "output_type": "stream",
     "text": [
      "loading cached data version from  /home/jupyter/.taiga/public-22q2-de04_14.toc \n"
     ]
    },
    {
     "name": "stderr",
     "output_type": "stream",
     "text": [
      "Loading from cached file /home/jupyter/.taiga/72c31542d4034fd8aa4f0b25e91e8ce6_crispr-gene-effect.rds\n",
      "\n"
     ]
    }
   ],
   "source": [
    "#Load in the chronos scores\n",
    "chronos.scores.22q1 = load.from.taiga(data.name='public-22q1-305b', data.version=24, data.file='CRISPR_gene_effect') %>%\n",
    "data.frame(check.names = FALSE) %>%\n",
    "rownames_to_column(\"sample\") %>%\n",
    "rename_all(~sub(\" .*\", \"\", .))\n",
    "\n",
    "chronos.scores.22q2 = load.from.taiga(data.name='public-22q2-de04', data.version=14, data.file='CRISPR_gene_effect') %>%\n",
    "data.frame(check.names = FALSE) %>%\n",
    "rownames_to_column(\"sample\") %>%\n",
    "rename_all(~sub(\" .*\", \"\", .))"
   ]
  },
  {
   "cell_type": "code",
   "execution_count": 43,
   "metadata": {},
   "outputs": [
    {
     "data": {
      "text/html": [
       "<table class=\"dataframe\">\n",
       "<caption>A data.frame: 6 × 26686</caption>\n",
       "<thead>\n",
       "\t<tr><th></th><th scope=col>sample</th><th scope=col>TGIF1</th><th scope=col>PRDX6</th><th scope=col>CIC</th><th scope=col>PLEC</th><th scope=col>MPP2</th><th scope=col>CFTR</th><th scope=col>C1QB</th><th scope=col>ELN</th><th scope=col>SEPTIN12</th><th scope=col>⋯</th><th scope=col>GTF2H2C</th><th scope=col>TTC31</th><th scope=col>PDE8B</th><th scope=col>CHD1</th><th scope=col>PAK1</th><th scope=col>LOC284898</th><th scope=col>PRKD3</th><th scope=col>MLC1</th><th scope=col>ZBTB41</th><th scope=col>TMEM181</th></tr>\n",
       "\t<tr><th></th><th scope=col>&lt;chr&gt;</th><th scope=col>&lt;int&gt;</th><th scope=col>&lt;int&gt;</th><th scope=col>&lt;int&gt;</th><th scope=col>&lt;int&gt;</th><th scope=col>&lt;int&gt;</th><th scope=col>&lt;int&gt;</th><th scope=col>&lt;int&gt;</th><th scope=col>&lt;int&gt;</th><th scope=col>&lt;int&gt;</th><th scope=col>⋯</th><th scope=col>&lt;int&gt;</th><th scope=col>&lt;int&gt;</th><th scope=col>&lt;int&gt;</th><th scope=col>&lt;int&gt;</th><th scope=col>&lt;int&gt;</th><th scope=col>&lt;int&gt;</th><th scope=col>&lt;int&gt;</th><th scope=col>&lt;int&gt;</th><th scope=col>&lt;int&gt;</th><th scope=col>&lt;int&gt;</th></tr>\n",
       "</thead>\n",
       "<tbody>\n",
       "\t<tr><th scope=row>1</th><td>ACH-000657</td><td>0</td><td>0</td><td>0</td><td>0</td><td>0</td><td>0</td><td>0</td><td>0</td><td>0</td><td>⋯</td><td>0</td><td>0</td><td>0</td><td>0</td><td>0</td><td>0</td><td>0</td><td>0</td><td>0</td><td>0</td></tr>\n",
       "\t<tr><th scope=row>2</th><td>ACH-000617</td><td>3</td><td>3</td><td>3</td><td>3</td><td>3</td><td>3</td><td>3</td><td>3</td><td>3</td><td>⋯</td><td>3</td><td>3</td><td>3</td><td>3</td><td>3</td><td>3</td><td>3</td><td>3</td><td>0</td><td>3</td></tr>\n",
       "\t<tr><th scope=row>3</th><td>ACH-000685</td><td>0</td><td>0</td><td>3</td><td>0</td><td>0</td><td>0</td><td>0</td><td>0</td><td>3</td><td>⋯</td><td>0</td><td>0</td><td>0</td><td>0</td><td>0</td><td>0</td><td>0</td><td>3</td><td>0</td><td>2</td></tr>\n",
       "\t<tr><th scope=row>4</th><td>ACH-000632</td><td>3</td><td>3</td><td>3</td><td>3</td><td>3</td><td>3</td><td>3</td><td>3</td><td>3</td><td>⋯</td><td>3</td><td>3</td><td>3</td><td>3</td><td>3</td><td>3</td><td>3</td><td>3</td><td>3</td><td>3</td></tr>\n",
       "\t<tr><th scope=row>5</th><td>ACH-000171</td><td>3</td><td>3</td><td>3</td><td>3</td><td>3</td><td>3</td><td>3</td><td>3</td><td>3</td><td>⋯</td><td>3</td><td>3</td><td>3</td><td>3</td><td>3</td><td>3</td><td>3</td><td>3</td><td>3</td><td>3</td></tr>\n",
       "\t<tr><th scope=row>6</th><td>ACH-000863</td><td>3</td><td>3</td><td>3</td><td>3</td><td>3</td><td>3</td><td>3</td><td>3</td><td>3</td><td>⋯</td><td>3</td><td>3</td><td>3</td><td>3</td><td>3</td><td>3</td><td>3</td><td>3</td><td>3</td><td>3</td></tr>\n",
       "</tbody>\n",
       "</table>\n"
      ],
      "text/latex": [
       "A data.frame: 6 × 26686\n",
       "\\begin{tabular}{r|lllllllllllllllllllll}\n",
       "  & sample & TGIF1 & PRDX6 & CIC & PLEC & MPP2 & CFTR & C1QB & ELN & SEPTIN12 & ⋯ & GTF2H2C & TTC31 & PDE8B & CHD1 & PAK1 & LOC284898 & PRKD3 & MLC1 & ZBTB41 & TMEM181\\\\\n",
       "  & <chr> & <int> & <int> & <int> & <int> & <int> & <int> & <int> & <int> & <int> & ⋯ & <int> & <int> & <int> & <int> & <int> & <int> & <int> & <int> & <int> & <int>\\\\\n",
       "\\hline\n",
       "\t1 & ACH-000657 & 0 & 0 & 0 & 0 & 0 & 0 & 0 & 0 & 0 & ⋯ & 0 & 0 & 0 & 0 & 0 & 0 & 0 & 0 & 0 & 0\\\\\n",
       "\t2 & ACH-000617 & 3 & 3 & 3 & 3 & 3 & 3 & 3 & 3 & 3 & ⋯ & 3 & 3 & 3 & 3 & 3 & 3 & 3 & 3 & 0 & 3\\\\\n",
       "\t3 & ACH-000685 & 0 & 0 & 3 & 0 & 0 & 0 & 0 & 0 & 3 & ⋯ & 0 & 0 & 0 & 0 & 0 & 0 & 0 & 3 & 0 & 2\\\\\n",
       "\t4 & ACH-000632 & 3 & 3 & 3 & 3 & 3 & 3 & 3 & 3 & 3 & ⋯ & 3 & 3 & 3 & 3 & 3 & 3 & 3 & 3 & 3 & 3\\\\\n",
       "\t5 & ACH-000171 & 3 & 3 & 3 & 3 & 3 & 3 & 3 & 3 & 3 & ⋯ & 3 & 3 & 3 & 3 & 3 & 3 & 3 & 3 & 3 & 3\\\\\n",
       "\t6 & ACH-000863 & 3 & 3 & 3 & 3 & 3 & 3 & 3 & 3 & 3 & ⋯ & 3 & 3 & 3 & 3 & 3 & 3 & 3 & 3 & 3 & 3\\\\\n",
       "\\end{tabular}\n"
      ],
      "text/markdown": [
       "\n",
       "A data.frame: 6 × 26686\n",
       "\n",
       "| <!--/--> | sample &lt;chr&gt; | TGIF1 &lt;int&gt; | PRDX6 &lt;int&gt; | CIC &lt;int&gt; | PLEC &lt;int&gt; | MPP2 &lt;int&gt; | CFTR &lt;int&gt; | C1QB &lt;int&gt; | ELN &lt;int&gt; | SEPTIN12 &lt;int&gt; | ⋯ ⋯ | GTF2H2C &lt;int&gt; | TTC31 &lt;int&gt; | PDE8B &lt;int&gt; | CHD1 &lt;int&gt; | PAK1 &lt;int&gt; | LOC284898 &lt;int&gt; | PRKD3 &lt;int&gt; | MLC1 &lt;int&gt; | ZBTB41 &lt;int&gt; | TMEM181 &lt;int&gt; |\n",
       "|---|---|---|---|---|---|---|---|---|---|---|---|---|---|---|---|---|---|---|---|---|---|\n",
       "| 1 | ACH-000657 | 0 | 0 | 0 | 0 | 0 | 0 | 0 | 0 | 0 | ⋯ | 0 | 0 | 0 | 0 | 0 | 0 | 0 | 0 | 0 | 0 |\n",
       "| 2 | ACH-000617 | 3 | 3 | 3 | 3 | 3 | 3 | 3 | 3 | 3 | ⋯ | 3 | 3 | 3 | 3 | 3 | 3 | 3 | 3 | 0 | 3 |\n",
       "| 3 | ACH-000685 | 0 | 0 | 3 | 0 | 0 | 0 | 0 | 0 | 3 | ⋯ | 0 | 0 | 0 | 0 | 0 | 0 | 0 | 3 | 0 | 2 |\n",
       "| 4 | ACH-000632 | 3 | 3 | 3 | 3 | 3 | 3 | 3 | 3 | 3 | ⋯ | 3 | 3 | 3 | 3 | 3 | 3 | 3 | 3 | 3 | 3 |\n",
       "| 5 | ACH-000171 | 3 | 3 | 3 | 3 | 3 | 3 | 3 | 3 | 3 | ⋯ | 3 | 3 | 3 | 3 | 3 | 3 | 3 | 3 | 3 | 3 |\n",
       "| 6 | ACH-000863 | 3 | 3 | 3 | 3 | 3 | 3 | 3 | 3 | 3 | ⋯ | 3 | 3 | 3 | 3 | 3 | 3 | 3 | 3 | 3 | 3 |\n",
       "\n"
      ],
      "text/plain": [
       "  sample     TGIF1 PRDX6 CIC PLEC MPP2 CFTR C1QB ELN SEPTIN12 ⋯ GTF2H2C TTC31\n",
       "1 ACH-000657 0     0     0   0    0    0    0    0   0        ⋯ 0       0    \n",
       "2 ACH-000617 3     3     3   3    3    3    3    3   3        ⋯ 3       3    \n",
       "3 ACH-000685 0     0     3   0    0    0    0    0   3        ⋯ 0       0    \n",
       "4 ACH-000632 3     3     3   3    3    3    3    3   3        ⋯ 3       3    \n",
       "5 ACH-000171 3     3     3   3    3    3    3    3   3        ⋯ 3       3    \n",
       "6 ACH-000863 3     3     3   3    3    3    3    3   3        ⋯ 3       3    \n",
       "  PDE8B CHD1 PAK1 LOC284898 PRKD3 MLC1 ZBTB41 TMEM181\n",
       "1 0     0    0    0         0     0    0      0      \n",
       "2 3     3    3    3         3     3    0      3      \n",
       "3 0     0    0    0         0     3    0      2      \n",
       "4 3     3    3    3         3     3    3      3      \n",
       "5 3     3    3    3         3     3    3      3      \n",
       "6 3     3    3    3         3     3    3      3      "
      ]
     },
     "metadata": {},
     "output_type": "display_data"
    }
   ],
   "source": [
    "#Load in the gene block matrix that lists the ancestry for all genes and for all cell lines\n",
    "setwd(\"/home/jupyter/Ancestry/analysis/locus_specific_associations\")\n",
    "gene.block.matrix = read.table(\"gene.block.matrix.txt\", sep = \"\\t\", header = T)\n",
    "row.names(gene.block.matrix) = NULL\n",
    "\n",
    "#Format gene.block.matrix so that it is ready for our analysis\n",
    "formatted.gene.block.matrix = gene.block.matrix %>%\n",
    "column_to_rownames(var = \"gene\") %>%\n",
    "select(-block_id, -X.chm, -spos, -epos) %>%\n",
    "t() %>%\n",
    "data.frame() %>%\n",
    "rownames_to_column() %>%\n",
    "rename(\"sample\" = 1) %>%\n",
    "mutate(sample = gsub(\"ACH.000\", \"ACH-000\", sample)) %>%\n",
    "mutate(sample = gsub(\"\\\\.1\", \"\", sample))\n",
    "\n",
    "\n",
    "head(formatted.gene.block.matrix)"
   ]
  },
  {
   "cell_type": "code",
   "execution_count": 46,
   "metadata": {},
   "outputs": [
    {
     "data": {
      "text/html": [
       "<style>\n",
       ".list-inline {list-style: none; margin:0; padding: 0}\n",
       ".list-inline>li {display: inline-block}\n",
       ".list-inline>li:not(:last-child)::after {content: \"\\00b7\"; padding: 0 .5ex}\n",
       "</style>\n",
       "<ol class=list-inline><li>611</li><li>16385</li></ol>\n"
      ],
      "text/latex": [
       "\\begin{enumerate*}\n",
       "\\item 611\n",
       "\\item 16385\n",
       "\\end{enumerate*}\n"
      ],
      "text/markdown": [
       "1. 611\n",
       "2. 16385\n",
       "\n",
       "\n"
      ],
      "text/plain": [
       "[1]   611 16385"
      ]
     },
     "metadata": {},
     "output_type": "display_data"
    },
    {
     "data": {
      "text/html": [
       "<style>\n",
       ".list-inline {list-style: none; margin:0; padding: 0}\n",
       ".list-inline>li {display: inline-block}\n",
       ".list-inline>li:not(:last-child)::after {content: \"\\00b7\"; padding: 0 .5ex}\n",
       "</style>\n",
       "<ol class=list-inline><li>611</li><li>16385</li></ol>\n"
      ],
      "text/latex": [
       "\\begin{enumerate*}\n",
       "\\item 611\n",
       "\\item 16385\n",
       "\\end{enumerate*}\n"
      ],
      "text/markdown": [
       "1. 611\n",
       "2. 16385\n",
       "\n",
       "\n"
      ],
      "text/plain": [
       "[1]   611 16385"
      ]
     },
     "metadata": {},
     "output_type": "display_data"
    },
    {
     "data": {
      "text/html": [
       "<style>\n",
       ".list-inline {list-style: none; margin:0; padding: 0}\n",
       ".list-inline>li {display: inline-block}\n",
       ".list-inline>li:not(:last-child)::after {content: \"\\00b7\"; padding: 0 .5ex}\n",
       "</style>\n",
       "<ol class=list-inline><li>611</li><li>16385</li></ol>\n"
      ],
      "text/latex": [
       "\\begin{enumerate*}\n",
       "\\item 611\n",
       "\\item 16385\n",
       "\\end{enumerate*}\n"
      ],
      "text/markdown": [
       "1. 611\n",
       "2. 16385\n",
       "\n",
       "\n"
      ],
      "text/plain": [
       "[1]   611 16385"
      ]
     },
     "metadata": {},
     "output_type": "display_data"
    }
   ],
   "source": [
    "#Get two vectors of intersecting samples and genes\n",
    "intersecting.samples = intersect(chronos.scores.22q1$sample, chronos.scores.22q2$sample) %>% intersect(., formatted.gene.block.matrix$sample)\n",
    "intersecting.columns = intersect(colnames(chronos.scores.22q1), colnames(chronos.scores.22q2)) %>% intersect(., colnames(formatted.gene.block.matrix))\n",
    "\n",
    "#Now filter the two datasets so that they only included the intersecting samples and genes\n",
    "final.chronos.22q1 = chronos.scores.22q1 %>% \n",
    "filter(sample %in% all_of(intersecting.samples)) %>%\n",
    "select(all_of(intersecting.columns))\n",
    "\n",
    "final.chronos.22q2 = chronos.scores.22q2 %>%\n",
    "filter(sample %in% all_of(intersecting.samples)) %>%\n",
    "select(all_of(intersecting.columns))\n",
    "\n",
    "#Filter gene block matrix so it only includes the genes and samples we are interested in\n",
    "final.gene.block.matrix = formatted.gene.block.matrix %>%\n",
    "filter(sample %in% all_of(intersecting.samples)) %>%\n",
    "select(all_of(intersecting.columns))\n",
    "\n",
    "final.chronos.22q1 %>% dim()\n",
    "final.chronos.22q2 %>% dim()\n",
    "final.gene.block.matrix %>% dim()"
   ]
  },
  {
   "cell_type": "code",
   "execution_count": 15,
   "metadata": {},
   "outputs": [
    {
     "data": {
      "text/html": [
       "<table class=\"dataframe\">\n",
       "<caption>A data.frame: 6 × 2</caption>\n",
       "<thead>\n",
       "\t<tr><th></th><th scope=col>sample</th><th scope=col>primary_disease</th></tr>\n",
       "\t<tr><th></th><th scope=col>&lt;chr&gt;</th><th scope=col>&lt;chr&gt;</th></tr>\n",
       "</thead>\n",
       "<tbody>\n",
       "\t<tr><th scope=row>1</th><td>ACH-000001</td><td>Ovarian Cancer         </td></tr>\n",
       "\t<tr><th scope=row>2</th><td>ACH-000002</td><td>Leukemia               </td></tr>\n",
       "\t<tr><th scope=row>3</th><td>ACH-000003</td><td>Colon/Colorectal Cancer</td></tr>\n",
       "\t<tr><th scope=row>4</th><td>ACH-000004</td><td>Leukemia               </td></tr>\n",
       "\t<tr><th scope=row>5</th><td>ACH-000005</td><td>Leukemia               </td></tr>\n",
       "\t<tr><th scope=row>6</th><td>ACH-000006</td><td>Leukemia               </td></tr>\n",
       "</tbody>\n",
       "</table>\n"
      ],
      "text/latex": [
       "A data.frame: 6 × 2\n",
       "\\begin{tabular}{r|ll}\n",
       "  & sample & primary\\_disease\\\\\n",
       "  & <chr> & <chr>\\\\\n",
       "\\hline\n",
       "\t1 & ACH-000001 & Ovarian Cancer         \\\\\n",
       "\t2 & ACH-000002 & Leukemia               \\\\\n",
       "\t3 & ACH-000003 & Colon/Colorectal Cancer\\\\\n",
       "\t4 & ACH-000004 & Leukemia               \\\\\n",
       "\t5 & ACH-000005 & Leukemia               \\\\\n",
       "\t6 & ACH-000006 & Leukemia               \\\\\n",
       "\\end{tabular}\n"
      ],
      "text/markdown": [
       "\n",
       "A data.frame: 6 × 2\n",
       "\n",
       "| <!--/--> | sample &lt;chr&gt; | primary_disease &lt;chr&gt; |\n",
       "|---|---|---|\n",
       "| 1 | ACH-000001 | Ovarian Cancer          |\n",
       "| 2 | ACH-000002 | Leukemia                |\n",
       "| 3 | ACH-000003 | Colon/Colorectal Cancer |\n",
       "| 4 | ACH-000004 | Leukemia                |\n",
       "| 5 | ACH-000005 | Leukemia                |\n",
       "| 6 | ACH-000006 | Leukemia                |\n",
       "\n"
      ],
      "text/plain": [
       "  sample     primary_disease        \n",
       "1 ACH-000001 Ovarian Cancer         \n",
       "2 ACH-000002 Leukemia               \n",
       "3 ACH-000003 Colon/Colorectal Cancer\n",
       "4 ACH-000004 Leukemia               \n",
       "5 ACH-000005 Leukemia               \n",
       "6 ACH-000006 Leukemia               "
      ]
     },
     "metadata": {},
     "output_type": "display_data"
    }
   ],
   "source": [
    "#Load in the sample annotation data\n",
    "setwd('/home/jupyter/Ancestry/ccle_ancestry_analysis')\n",
    "sample.annotation = read.table('depmap_cell_lineage.csv', sep = \",\", header = T) %>%\n",
    "rename(\"sample\" = 1)\n",
    "\n",
    "head(sample.annotation)"
   ]
  },
  {
   "cell_type": "code",
   "execution_count": 50,
   "metadata": {},
   "outputs": [],
   "source": [
    "#Calculate p-values and mean differences for 22q1\n",
    "\n",
    "gene.names = colnames(final.chronos.22q1)[2:ncol(final.chronos.22q1)]\n",
    "\n",
    "\n",
    "afr.lm.pval.vector.22q1 = NULL\n",
    "amr.lm.pval.vector.22q1 = NULL\n",
    "eas.lm.pval.vector.22q1 = NULL\n",
    "eur.lm.pval.vector.22q1 = NULL\n",
    "sas.lm.pval.vector.22q1 = NULL\n",
    "afr.mean.dif.22q1 = NULL\n",
    "amr.mean.dif.22q1 = NULL\n",
    "eas.mean.dif.22q1 = NULL\n",
    "eur.mean.dif.22q1 = NULL\n",
    "sas.mean.dif.22q1 = NULL\n",
    "for(gene in gene.names){\n",
    "    \n",
    "    #Filter the chronos data so that it only includes the gene we are interested in \n",
    "    chronos.filtered = final.chronos.22q1 %>% select(sample, all_of(gene))\n",
    "    \n",
    "    #Filter the gene block data so that it only includes the gene we are interested in\n",
    "    gene.block.filtered = final.gene.block.matrix %>% select(sample, all_of(gene)) %>% rename(\"gene.symbol\" = 2)\n",
    "    \n",
    "    #For each gene in the loop, figure out which cell lines have the version of that gene for each ancestry group\n",
    "    afr.lines = gene.block.filtered %>% filter(gene.symbol %in% \"0\") %>% pull(sample)\n",
    "    non.afr.lines = gene.block.filtered %>% filter(!gene.symbol %in% \"0\") %>% pull(sample)\n",
    "    amr.lines = gene.block.filtered %>% filter(gene.symbol %in% \"1\") %>% pull(sample)\n",
    "    non.amr.lines = gene.block.filtered %>% filter(!gene.symbol %in% \"1\") %>% pull(sample)\n",
    "    eas.lines = gene.block.filtered %>% filter(gene.symbol %in% \"2\") %>% pull(sample)\n",
    "    non.eas.lines = gene.block.filtered %>% filter(!gene.symbol %in% \"2\") %>% pull(sample)\n",
    "    eur.lines = gene.block.filtered %>% filter(gene.symbol %in% \"3\") %>% pull(sample)\n",
    "    non.eur.lines = gene.block.filtered %>% filter(!gene.symbol %in% \"3\") %>% pull(sample)\n",
    "    sas.lines = gene.block.filtered %>% filter(gene.symbol %in% \"4\") %>% pull(sample)\n",
    "    non.sas.lines = gene.block.filtered %>% filter(!gene.symbol %in% \"4\") %>% pull(sample)\n",
    "    \n",
    "    \n",
    "    #Now get vectors of chronos scores for each ancestry group\n",
    "    afr.chronos = chronos.filtered %>% filter(sample %in% afr.lines) %>% pull(2)\n",
    "    non.afr.chronos = chronos.filtered %>% filter(sample %in% non.afr.lines) %>% pull(2)\n",
    "    \n",
    "    amr.chronos = chronos.filtered %>% filter(sample %in% amr.lines) %>% pull(2)\n",
    "    non.amr.chronos = chronos.filtered %>% filter(sample %in% non.amr.lines) %>% pull(2)\n",
    "    \n",
    "    eas.chronos = chronos.filtered %>% filter(sample %in% eas.lines) %>% pull(2)\n",
    "    non.eas.chronos = chronos.filtered %>% filter(sample %in% non.eas.lines) %>% pull(2)\n",
    "    \n",
    "    eur.chronos = chronos.filtered %>% filter(sample %in% eur.lines) %>% pull(2)\n",
    "    non.eur.chronos = chronos.filtered %>% filter(sample %in% non.eur.lines) %>% pull(2)\n",
    "    \n",
    "    sas.chronos = chronos.filtered %>% filter(sample %in% sas.lines) %>% pull(2)\n",
    "    non.sas.chronos = chronos.filtered %>% filter(sample %in% non.sas.lines) %>% pull(2)\n",
    "    \n",
    "    \n",
    "    #Assemble data frames for performing the linear regression\n",
    "    afr.df = c(afr.lines, non.afr.lines) %>%\n",
    "    data.frame() %>%\n",
    "    rename(\"sample\" = 1) %>%\n",
    "    mutate(\"ancestry_class\" = c(rep(0, length(afr.lines)), rep(1, length(non.afr.lines)))) %>%\n",
    "    mutate(\"chronos_score\" = c(afr.chronos, non.afr.chronos)) %>%\n",
    "    mutate(\"covariate\" = plyr::mapvalues(from = sample.annotation$sample, to = sample.annotation$primary_disease, sample, warn_missing = FALSE))\n",
    "    \n",
    "    amr.df = c(amr.lines, non.amr.lines) %>%\n",
    "    data.frame() %>%\n",
    "    rename(\"sample\" = 1) %>%\n",
    "    mutate(\"ancestry_class\" = c(rep(0, length(amr.lines)), rep(1, length(non.amr.lines)))) %>%\n",
    "    mutate(\"chronos_score\" = c(amr.chronos, non.amr.chronos)) %>%\n",
    "    mutate(\"covariate\" = plyr::mapvalues(from = sample.annotation$sample, to = sample.annotation$primary_disease, sample, warn_missing = FALSE))\n",
    "    \n",
    "    eas.df = c(eas.lines, non.eas.lines) %>%\n",
    "    data.frame() %>%\n",
    "    rename(\"sample\" = 1) %>%\n",
    "    mutate(\"ancestry_class\" = c(rep(0, length(eas.lines)), rep(1, length(non.eas.lines)))) %>%\n",
    "    mutate(\"chronos_score\" = c(eas.chronos, non.eas.chronos)) %>%\n",
    "    mutate(\"covariate\" = plyr::mapvalues(from = sample.annotation$sample, to = sample.annotation$primary_disease, sample, warn_missing = FALSE))\n",
    "    \n",
    "    eur.df = c(eur.lines, non.eur.lines) %>%\n",
    "    data.frame() %>%\n",
    "    rename(\"sample\" = 1) %>%\n",
    "    mutate(\"ancestry_class\" = c(rep(0, length(eur.lines)), rep(1, length(non.eur.lines)))) %>%\n",
    "    mutate(\"chronos_score\" = c(eur.chronos, non.eur.chronos)) %>%\n",
    "    mutate(\"covariate\" = plyr::mapvalues(from = sample.annotation$sample, to = sample.annotation$primary_disease, sample, warn_missing = FALSE))\n",
    "    \n",
    "    sas.df = c(sas.lines, non.sas.lines) %>%\n",
    "    data.frame() %>%\n",
    "    rename(\"sample\" = 1) %>%\n",
    "    mutate(\"ancestry_class\" = c(rep(0, length(sas.lines)), rep(1, length(non.sas.lines)))) %>%\n",
    "    mutate(\"chronos_score\" = c(sas.chronos, non.sas.chronos)) %>%\n",
    "    mutate(\"covariate\" = plyr::mapvalues(from = sample.annotation$sample, to = sample.annotation$primary_disease, sample, warn_missing = FALSE))\n",
    "    \n",
    "    \n",
    "    #Now calculate the p-values for each comparison (if there are more than three observations)\n",
    "    if(length(afr.chronos) >= 3 & length(non.afr.chronos) >= 3){\n",
    "        afr.pval = lm(chronos_score ~ ancestry_class + covariate, data = afr.df) %>% summary() %>% .[[4]] %>% .[2,4]\n",
    "    } else { afr.pval = 1 }\n",
    "    \n",
    "      if(length(amr.chronos) >= 3 & length(non.amr.chronos) >= 3){\n",
    "        amr.pval = lm(chronos_score ~ ancestry_class + covariate, data = amr.df) %>% summary() %>% .[[4]] %>% .[2,4] \n",
    "    } else { amr.pval = 1 }\n",
    "    \n",
    "      if(length(eas.chronos) >= 3 & length(non.eas.chronos) >= 3){\n",
    "        eas.pval = lm(chronos_score ~ ancestry_class + covariate, data = eas.df) %>% summary() %>% .[[4]] %>% .[2,4] \n",
    "    } else { eas.pval = 1 }\n",
    "    \n",
    "      if(length(eur.chronos) >= 3 & length(non.eur.chronos) >= 3){\n",
    "        eur.pval = lm(chronos_score ~ ancestry_class + covariate, data = eur.df) %>% summary() %>% .[[4]] %>% .[2,4] \n",
    "    } else { eur.pval = 1 }\n",
    "    \n",
    "      if(length(sas.chronos) >= 3 & length(non.sas.chronos) >= 3){\n",
    "        sas.pval = lm(chronos_score ~ ancestry_class + covariate, data = sas.df) %>% summary() %>% .[[4]] %>% .[2,4] \n",
    "    } else { sas.pval = 1 }\n",
    "    \n",
    "    \n",
    "    #Add the p-values to the vector outside of the loop\n",
    "    afr.lm.pval.vector.22q1 = c(afr.lm.pval.vector.22q1, afr.pval)\n",
    "    amr.lm.pval.vector.22q1 = c(amr.lm.pval.vector.22q1, amr.pval)\n",
    "    eas.lm.pval.vector.22q1 = c(eas.lm.pval.vector.22q1, eas.pval)\n",
    "    eur.lm.pval.vector.22q1 = c(eur.lm.pval.vector.22q1, eur.pval)\n",
    "    sas.lm.pval.vector.22q1 = c(sas.lm.pval.vector.22q1, sas.pval)\n",
    "    \n",
    "    \n",
    "    #Calculate the differences in means\n",
    "    afr.dif = mean(afr.chronos) - mean(non.afr.chronos)\n",
    "    amr.dif = mean(amr.chronos) - mean(non.amr.chronos)\n",
    "    eas.dif = mean(eas.chronos) - mean(non.eas.chronos)\n",
    "    eur.dif = mean(eur.chronos) - mean(non.eur.chronos)\n",
    "    sas.dif = mean(sas.chronos) - mean(non.sas.chronos)\n",
    "    \n",
    "    #Add the mean differences to the vectors\n",
    "    afr.mean.dif.22q1 = c(afr.mean.dif.22q1, afr.dif)\n",
    "    amr.mean.dif.22q1 = c(amr.mean.dif.22q1, amr.dif)\n",
    "    eas.mean.dif.22q1 = c(eas.mean.dif.22q1, eas.dif)\n",
    "    eur.mean.dif.22q1 = c(eur.mean.dif.22q1, eur.dif)\n",
    "    sas.mean.dif.22q1 = c(sas.mean.dif.22q1, sas.dif)\n",
    "}"
   ]
  },
  {
   "cell_type": "code",
   "execution_count": 51,
   "metadata": {},
   "outputs": [],
   "source": [
    "#Calculate p-values and mean differences for 22q2\n",
    "\n",
    "gene.names = colnames(final.chronos.22q2)[2:ncol(final.chronos.22q2)]\n",
    "\n",
    "\n",
    "afr.lm.pval.vector.22q2 = NULL\n",
    "amr.lm.pval.vector.22q2 = NULL\n",
    "eas.lm.pval.vector.22q2 = NULL\n",
    "eur.lm.pval.vector.22q2 = NULL\n",
    "sas.lm.pval.vector.22q2 = NULL\n",
    "afr.mean.dif.22q2 = NULL\n",
    "amr.mean.dif.22q2 = NULL\n",
    "eas.mean.dif.22q2 = NULL\n",
    "eur.mean.dif.22q2 = NULL\n",
    "sas.mean.dif.22q2 = NULL\n",
    "for(gene in gene.names){\n",
    "    \n",
    "    #Filter the chronos data so that it only includes the gene we are interested in \n",
    "    chronos.filtered = final.chronos.22q2 %>% select(sample, all_of(gene))\n",
    "    \n",
    "    #Filter the gene block data so that it only includes the gene we are interested in\n",
    "    gene.block.filtered = final.gene.block.matrix %>% select(sample, all_of(gene)) %>% rename(\"gene.symbol\" = 2)\n",
    "    \n",
    "    #For each gene in the loop, figure out which cell lines have the version of that gene for each ancestry group\n",
    "    afr.lines = gene.block.filtered %>% filter(gene.symbol %in% \"0\") %>% pull(sample)\n",
    "    non.afr.lines = gene.block.filtered %>% filter(!gene.symbol %in% \"0\") %>% pull(sample)\n",
    "    amr.lines = gene.block.filtered %>% filter(gene.symbol %in% \"1\") %>% pull(sample)\n",
    "    non.amr.lines = gene.block.filtered %>% filter(!gene.symbol %in% \"1\") %>% pull(sample)\n",
    "    eas.lines = gene.block.filtered %>% filter(gene.symbol %in% \"2\") %>% pull(sample)\n",
    "    non.eas.lines = gene.block.filtered %>% filter(!gene.symbol %in% \"2\") %>% pull(sample)\n",
    "    eur.lines = gene.block.filtered %>% filter(gene.symbol %in% \"3\") %>% pull(sample)\n",
    "    non.eur.lines = gene.block.filtered %>% filter(!gene.symbol %in% \"3\") %>% pull(sample)\n",
    "    sas.lines = gene.block.filtered %>% filter(gene.symbol %in% \"4\") %>% pull(sample)\n",
    "    non.sas.lines = gene.block.filtered %>% filter(!gene.symbol %in% \"4\") %>% pull(sample)\n",
    "    \n",
    "    \n",
    "    #Now get vectors of chronos scores for each ancestry group\n",
    "    afr.chronos = chronos.filtered %>% filter(sample %in% afr.lines) %>% pull(2)\n",
    "    non.afr.chronos = chronos.filtered %>% filter(sample %in% non.afr.lines) %>% pull(2)\n",
    "    \n",
    "    amr.chronos = chronos.filtered %>% filter(sample %in% amr.lines) %>% pull(2)\n",
    "    non.amr.chronos = chronos.filtered %>% filter(sample %in% non.amr.lines) %>% pull(2)\n",
    "    \n",
    "    eas.chronos = chronos.filtered %>% filter(sample %in% eas.lines) %>% pull(2)\n",
    "    non.eas.chronos = chronos.filtered %>% filter(sample %in% non.eas.lines) %>% pull(2)\n",
    "    \n",
    "    eur.chronos = chronos.filtered %>% filter(sample %in% eur.lines) %>% pull(2)\n",
    "    non.eur.chronos = chronos.filtered %>% filter(sample %in% non.eur.lines) %>% pull(2)\n",
    "    \n",
    "    sas.chronos = chronos.filtered %>% filter(sample %in% sas.lines) %>% pull(2)\n",
    "    non.sas.chronos = chronos.filtered %>% filter(sample %in% non.sas.lines) %>% pull(2)\n",
    "    \n",
    "    \n",
    "    #Assemble data frames for performing the linear regression\n",
    "    afr.df = c(afr.lines, non.afr.lines) %>%\n",
    "    data.frame() %>%\n",
    "    rename(\"sample\" = 1) %>%\n",
    "    mutate(\"ancestry_class\" = c(rep(0, length(afr.lines)), rep(1, length(non.afr.lines)))) %>%\n",
    "    mutate(\"chronos_score\" = c(afr.chronos, non.afr.chronos)) %>%\n",
    "    mutate(\"covariate\" = plyr::mapvalues(from = sample.annotation$sample, to = sample.annotation$primary_disease, sample, warn_missing = FALSE))\n",
    "    \n",
    "    amr.df = c(amr.lines, non.amr.lines) %>%\n",
    "    data.frame() %>%\n",
    "    rename(\"sample\" = 1) %>%\n",
    "    mutate(\"ancestry_class\" = c(rep(0, length(amr.lines)), rep(1, length(non.amr.lines)))) %>%\n",
    "    mutate(\"chronos_score\" = c(amr.chronos, non.amr.chronos)) %>%\n",
    "    mutate(\"covariate\" = plyr::mapvalues(from = sample.annotation$sample, to = sample.annotation$primary_disease, sample, warn_missing = FALSE))\n",
    "    \n",
    "    eas.df = c(eas.lines, non.eas.lines) %>%\n",
    "    data.frame() %>%\n",
    "    rename(\"sample\" = 1) %>%\n",
    "    mutate(\"ancestry_class\" = c(rep(0, length(eas.lines)), rep(1, length(non.eas.lines)))) %>%\n",
    "    mutate(\"chronos_score\" = c(eas.chronos, non.eas.chronos)) %>%\n",
    "    mutate(\"covariate\" = plyr::mapvalues(from = sample.annotation$sample, to = sample.annotation$primary_disease, sample, warn_missing = FALSE))\n",
    "    \n",
    "    eur.df = c(eur.lines, non.eur.lines) %>%\n",
    "    data.frame() %>%\n",
    "    rename(\"sample\" = 1) %>%\n",
    "    mutate(\"ancestry_class\" = c(rep(0, length(eur.lines)), rep(1, length(non.eur.lines)))) %>%\n",
    "    mutate(\"chronos_score\" = c(eur.chronos, non.eur.chronos)) %>%\n",
    "    mutate(\"covariate\" = plyr::mapvalues(from = sample.annotation$sample, to = sample.annotation$primary_disease, sample, warn_missing = FALSE))\n",
    "    \n",
    "    sas.df = c(sas.lines, non.sas.lines) %>%\n",
    "    data.frame() %>%\n",
    "    rename(\"sample\" = 1) %>%\n",
    "    mutate(\"ancestry_class\" = c(rep(0, length(sas.lines)), rep(1, length(non.sas.lines)))) %>%\n",
    "    mutate(\"chronos_score\" = c(sas.chronos, non.sas.chronos)) %>%\n",
    "    mutate(\"covariate\" = plyr::mapvalues(from = sample.annotation$sample, to = sample.annotation$primary_disease, sample, warn_missing = FALSE))\n",
    "    \n",
    "    \n",
    "    #Now calculate the p-values for each comparison (if there are more than three observations)\n",
    "    if(length(afr.chronos) >= 3 & length(non.afr.chronos) >= 3){\n",
    "        afr.pval = lm(chronos_score ~ ancestry_class + covariate, data = afr.df) %>% summary() %>% .[[4]] %>% .[2,4]\n",
    "    } else { afr.pval = 1 }\n",
    "    \n",
    "      if(length(amr.chronos) >= 3 & length(non.amr.chronos) >= 3){\n",
    "        amr.pval = lm(chronos_score ~ ancestry_class + covariate, data = amr.df) %>% summary() %>% .[[4]] %>% .[2,4] \n",
    "    } else { amr.pval = 1 }\n",
    "    \n",
    "      if(length(eas.chronos) >= 3 & length(non.eas.chronos) >= 3){\n",
    "        eas.pval = lm(chronos_score ~ ancestry_class + covariate, data = eas.df) %>% summary() %>% .[[4]] %>% .[2,4] \n",
    "    } else { eas.pval = 1 }\n",
    "    \n",
    "      if(length(eur.chronos) >= 3 & length(non.eur.chronos) >= 3){\n",
    "        eur.pval = lm(chronos_score ~ ancestry_class + covariate, data = eur.df) %>% summary() %>% .[[4]] %>% .[2,4] \n",
    "    } else { eur.pval = 1 }\n",
    "    \n",
    "      if(length(sas.chronos) >= 3 & length(non.sas.chronos) >= 3){\n",
    "        sas.pval = lm(chronos_score ~ ancestry_class + covariate, data = sas.df) %>% summary() %>% .[[4]] %>% .[2,4] \n",
    "    } else { sas.pval = 1 }\n",
    "    \n",
    "    \n",
    "    #Add the p-values to the vector outside of the loop\n",
    "    afr.lm.pval.vector.22q2 = c(afr.lm.pval.vector.22q2, afr.pval)\n",
    "    amr.lm.pval.vector.22q2 = c(amr.lm.pval.vector.22q2, amr.pval)\n",
    "    eas.lm.pval.vector.22q2 = c(eas.lm.pval.vector.22q2, eas.pval)\n",
    "    eur.lm.pval.vector.22q2 = c(eur.lm.pval.vector.22q2, eur.pval)\n",
    "    sas.lm.pval.vector.22q2 = c(sas.lm.pval.vector.22q2, sas.pval)\n",
    "    \n",
    "    \n",
    "    #Calculate the differences in means\n",
    "    afr.dif = mean(afr.chronos) - mean(non.afr.chronos)\n",
    "    amr.dif = mean(amr.chronos) - mean(non.amr.chronos)\n",
    "    eas.dif = mean(eas.chronos) - mean(non.eas.chronos)\n",
    "    eur.dif = mean(eur.chronos) - mean(non.eur.chronos)\n",
    "    sas.dif = mean(sas.chronos) - mean(non.sas.chronos)\n",
    "    \n",
    "    #Add the mean differences to the vectors\n",
    "    afr.mean.dif.22q2 = c(afr.mean.dif.22q2, afr.dif)\n",
    "    amr.mean.dif.22q2 = c(amr.mean.dif.22q2, amr.dif)\n",
    "    eas.mean.dif.22q2 = c(eas.mean.dif.22q2, eas.dif)\n",
    "    eur.mean.dif.22q2 = c(eur.mean.dif.22q2, eur.dif)\n",
    "    sas.mean.dif.22q2 = c(sas.mean.dif.22q2, sas.dif)\n",
    "}"
   ]
  },
  {
   "cell_type": "code",
   "execution_count": 52,
   "metadata": {},
   "outputs": [],
   "source": [
    "###Export the two datasets so that we don't need to do that again\n",
    "\n",
    "#Construct the dataset for 22q1\n",
    "#Construct a dataset with all of this information\n",
    "pval.df.22q1 = cbind(afr.lm.pval.vector.22q1, amr.lm.pval.vector.22q1, eas.lm.pval.vector.22q1, eur.lm.pval.vector.22q1, sas.lm.pval.vector.22q1, afr.mean.dif.22q1, amr.mean.dif.22q1, eas.mean.dif.22q1, eur.mean.dif.22q1, sas.mean.dif.22q1) %>%\n",
    "data.frame() %>%\n",
    "mutate(\"gene\" = gene.names, .before = 1) %>%\n",
    "mutate(\"afr_fdr\" = p.adjust(afr.lm.pval.vector.22q1, method = \"BH\", n = length(afr.lm.pval.vector.22q1))) %>%\n",
    "mutate(\"amr_fdr\" = p.adjust(amr.lm.pval.vector.22q1, method = \"BH\", n = length(amr.lm.pval.vector.22q1))) %>%\n",
    "mutate(\"eas_fdr\" = p.adjust(eas.lm.pval.vector.22q1, method = \"BH\", n = length(eas.lm.pval.vector.22q1))) %>%\n",
    "mutate(\"eur_fdr\" = p.adjust(eur.lm.pval.vector.22q1, method = \"BH\", n = length(eur.lm.pval.vector.22q1))) %>%\n",
    "mutate(\"sas_fdr\" = p.adjust(sas.lm.pval.vector.22q1, method = \"BH\", n = length(sas.lm.pval.vector.22q1))) %>%\n",
    "rename(\"afr_pval\" = 2, \"amr_pval\" = 3, \"eas_pval\" = 4, \"eur_pval\" = 5, \"sas_pval\" = 6) %>%\n",
    "rename(\"afr_mean_diff\" = 7, \"amr_mean_diff\" = 8, \"eas_mean_diff\" = 9, \"eur_mean_diff\" = 10, \"sas_mean_diff\" = 11)\n",
    "\n",
    "pval.df.22q2 = cbind(afr.lm.pval.vector.22q2, amr.lm.pval.vector.22q2, eas.lm.pval.vector.22q2, eur.lm.pval.vector.22q2, sas.lm.pval.vector.22q2, afr.mean.dif.22q2, amr.mean.dif.22q2, eas.mean.dif.22q2, eur.mean.dif.22q2, sas.mean.dif.22q2) %>%\n",
    "data.frame() %>%\n",
    "mutate(\"gene\" = gene.names, .before = 1) %>%\n",
    "mutate(\"afr_fdr\" = p.adjust(afr.lm.pval.vector.22q2, method = \"BH\", n = length(afr.lm.pval.vector.22q2))) %>%\n",
    "mutate(\"amr_fdr\" = p.adjust(amr.lm.pval.vector.22q2, method = \"BH\", n = length(amr.lm.pval.vector.22q2))) %>%\n",
    "mutate(\"eas_fdr\" = p.adjust(eas.lm.pval.vector.22q2, method = \"BH\", n = length(eas.lm.pval.vector.22q2))) %>%\n",
    "mutate(\"eur_fdr\" = p.adjust(eur.lm.pval.vector.22q2, method = \"BH\", n = length(eur.lm.pval.vector.22q2))) %>%\n",
    "mutate(\"sas_fdr\" = p.adjust(sas.lm.pval.vector.22q2, method = \"BH\", n = length(sas.lm.pval.vector.22q2))) %>%\n",
    "rename(\"afr_pval\" = 2, \"amr_pval\" = 3, \"eas_pval\" = 4, \"eur_pval\" = 5, \"sas_pval\" = 6) %>%\n",
    "rename(\"afr_mean_diff\" = 7, \"amr_mean_diff\" = 8, \"eas_mean_diff\" = 9, \"eur_mean_diff\" = 10, \"sas_mean_diff\" = 11)\n",
    "\n",
    "#Write the two datasets\n",
    "setwd('/home/jupyter/Ancestry/analysis/nature_genetics_reviews/reviewer_4')\n",
    "write.table(pval.df.22q1, \"ancestry_associated_pval_lineage_correction_22q1.txt\", sep = \"\\t\", col.names = TRUE, row.names = FALSE, quote = FALSE)\n",
    "write.table(pval.df.22q2, \"ancestry_associated_pval_lineage_correction_22q2.txt\", sep = \"\\t\", col.names = TRUE, row.names = FALSE, quote = FALSE)"
   ]
  },
  {
   "cell_type": "code",
   "execution_count": 70,
   "metadata": {},
   "outputs": [
    {
     "data": {
      "text/html": [
       "<table class=\"dataframe\">\n",
       "<caption>A data.frame: 84 × 16</caption>\n",
       "<thead>\n",
       "\t<tr><th scope=col>gene</th><th scope=col>afr_pval</th><th scope=col>amr_pval</th><th scope=col>eas_pval</th><th scope=col>eur_pval</th><th scope=col>sas_pval</th><th scope=col>afr_mean_diff</th><th scope=col>amr_mean_diff</th><th scope=col>eas_mean_diff</th><th scope=col>eur_mean_diff</th><th scope=col>sas_mean_diff</th><th scope=col>afr_fdr</th><th scope=col>amr_fdr</th><th scope=col>eas_fdr</th><th scope=col>eur_fdr</th><th scope=col>sas_fdr</th></tr>\n",
       "\t<tr><th scope=col>&lt;chr&gt;</th><th scope=col>&lt;dbl&gt;</th><th scope=col>&lt;dbl&gt;</th><th scope=col>&lt;dbl&gt;</th><th scope=col>&lt;dbl&gt;</th><th scope=col>&lt;dbl&gt;</th><th scope=col>&lt;dbl&gt;</th><th scope=col>&lt;dbl&gt;</th><th scope=col>&lt;dbl&gt;</th><th scope=col>&lt;dbl&gt;</th><th scope=col>&lt;dbl&gt;</th><th scope=col>&lt;dbl&gt;</th><th scope=col>&lt;dbl&gt;</th><th scope=col>&lt;dbl&gt;</th><th scope=col>&lt;dbl&gt;</th><th scope=col>&lt;dbl&gt;</th></tr>\n",
       "</thead>\n",
       "<tbody>\n",
       "\t<tr><td>ABHD5   </td><td>5.029064e-01</td><td>6.731293e-01</td><td>1.419840e-04</td><td>7.325947e-05</td><td>1.00000000</td><td>-0.013409333</td><td> 0.0219651014</td><td>-0.032870455</td><td> 0.031810393</td><td> 0.040454712</td><td>9.998078e-01</td><td>1.0000000000</td><td>5.673820e-02</td><td>3.530245e-02</td><td>1</td></tr>\n",
       "\t<tr><td>ATOH1   </td><td>2.515906e-01</td><td>6.035723e-08</td><td>7.642248e-01</td><td>1.120672e-01</td><td>1.00000000</td><td>-0.018784078</td><td>-0.2460395453</td><td>-0.005028698</td><td> 0.016397610</td><td> 0.001926937</td><td>9.998078e-01</td><td>0.0004944464</td><td>9.640037e-01</td><td>7.422146e-01</td><td>1</td></tr>\n",
       "\t<tr><td>ATP6V0E1</td><td>1.892691e-03</td><td>2.650515e-02</td><td>3.773307e-02</td><td>1.839334e-05</td><td>1.00000000</td><td>-0.147688999</td><td>-0.1811022707</td><td>-0.046207095</td><td> 0.079448564</td><td>-0.076158852</td><td>4.784503e-01</td><td>1.0000000000</td><td>5.301130e-01</td><td>1.310246e-02</td><td>1</td></tr>\n",
       "\t<tr><td>BRAF    </td><td>1.443207e-01</td><td>1.000000e+00</td><td>5.214319e-05</td><td>4.503751e-03</td><td>1.00000000</td><td> 0.065334238</td><td>-0.8376455999</td><td> 0.071713743</td><td>-0.074058027</td><td> 0.070252934</td><td>9.998078e-01</td><td>1.0000000000</td><td>2.945517e-02</td><td>3.194349e-01</td><td>1</td></tr>\n",
       "\t<tr><td>C2orf80 </td><td>7.979514e-01</td><td>6.053948e-01</td><td>2.033376e-05</td><td>1.526936e-05</td><td>0.63512189</td><td>-0.009448367</td><td> 0.0356221501</td><td>-0.045197475</td><td> 0.042714631</td><td> 0.033353581</td><td>9.998078e-01</td><td>1.0000000000</td><td>1.332593e-02</td><td>1.191301e-02</td><td>1</td></tr>\n",
       "\t<tr><td>CCDC74B </td><td>5.621591e-01</td><td>2.759222e-01</td><td>6.901363e-07</td><td>3.539659e-09</td><td>1.00000000</td><td>-0.024543386</td><td> 0.0804197765</td><td>-0.079704723</td><td> 0.077621608</td><td>-0.007011342</td><td>9.998078e-01</td><td>1.0000000000</td><td>1.256355e-03</td><td>1.449844e-05</td><td>1</td></tr>\n",
       "\t<tr><td>CDKN2B  </td><td>2.279463e-05</td><td>7.832736e-01</td><td>9.731180e-01</td><td>4.880268e-04</td><td>1.00000000</td><td> 0.064926397</td><td>-0.0078898650</td><td>-0.004968188</td><td>-0.032872679</td><td>-0.100050763</td><td>1.957885e-02</td><td>1.0000000000</td><td>9.977479e-01</td><td>1.161740e-01</td><td>1</td></tr>\n",
       "\t<tr><td>CHGB    </td><td>1.905154e-01</td><td>5.768611e-01</td><td>6.505422e-05</td><td>9.395311e-05</td><td>1.00000000</td><td>-0.026503202</td><td>-0.0274902299</td><td> 0.042385715</td><td>-0.033555982</td><td>-0.066873581</td><td>9.998078e-01</td><td>1.0000000000</td><td>3.232727e-02</td><td>4.050863e-02</td><td>1</td></tr>\n",
       "\t<tr><td>CLSPN   </td><td>6.011614e-02</td><td>7.391213e-01</td><td>8.991061e-19</td><td>6.889402e-23</td><td>1.00000000</td><td> 0.105076936</td><td>-0.0744837949</td><td> 0.221512039</td><td>-0.227785494</td><td> 0.192494991</td><td>9.998078e-01</td><td>1.0000000000</td><td>1.473095e-14</td><td>1.128760e-18</td><td>1</td></tr>\n",
       "\t<tr><td>DDX47   </td><td>1.424023e-02</td><td>1.000000e+00</td><td>6.327570e-06</td><td>3.314482e-06</td><td>1.00000000</td><td>-0.128071609</td><td> 0.1309337625</td><td> 0.132318357</td><td>-0.109215534</td><td> 0.031341872</td><td>9.998078e-01</td><td>1.0000000000</td><td>5.183545e-03</td><td>3.878890e-03</td><td>1</td></tr>\n",
       "\t<tr><td>DMRTA1  </td><td>1.850320e-12</td><td>7.193483e-01</td><td>4.749862e-01</td><td>6.705179e-04</td><td>1.00000000</td><td> 0.070958584</td><td>-0.0110440787</td><td>-0.018049226</td><td>-0.026666606</td><td> 0.004315584</td><td>3.031564e-08</td><td>1.0000000000</td><td>8.930656e-01</td><td>1.368756e-01</td><td>1</td></tr>\n",
       "\t<tr><td>DND1    </td><td>9.855143e-01</td><td>1.000000e+00</td><td>1.867425e-04</td><td>8.505026e-05</td><td>0.99929010</td><td>-0.006686608</td><td> 0.0511805711</td><td> 0.053351926</td><td>-0.049633975</td><td> 0.005292056</td><td>9.999866e-01</td><td>1.0000000000</td><td>6.953612e-02</td><td>3.766118e-02</td><td>1</td></tr>\n",
       "\t<tr><td>ECD     </td><td>6.541462e-02</td><td>1.000000e+00</td><td>2.616966e-06</td><td>4.606584e-07</td><td>1.00000000</td><td> 0.100290507</td><td>-0.1040491361</td><td> 0.125786953</td><td>-0.135698023</td><td> 0.105486319</td><td>9.998078e-01</td><td>1.0000000000</td><td>3.298183e-03</td><td>8.386030e-04</td><td>1</td></tr>\n",
       "\t<tr><td>EEF2    </td><td>3.204808e-08</td><td>4.387254e-01</td><td>8.645740e-02</td><td>7.752369e-01</td><td>0.21770758</td><td> 0.335801623</td><td>-0.0534150337</td><td>-0.068633223</td><td> 0.005034024</td><td> 0.208271351</td><td>6.563448e-05</td><td>1.0000000000</td><td>6.304740e-01</td><td>9.813689e-01</td><td>1</td></tr>\n",
       "\t<tr><td>ELAVL2  </td><td>8.395198e-09</td><td>9.828328e-01</td><td>1.749893e-02</td><td>2.936204e-01</td><td>1.00000000</td><td> 0.066983849</td><td>-0.0044585884</td><td>-0.025415267</td><td>-0.010138126</td><td> 0.032218883</td><td>2.292449e-05</td><td>1.0000000000</td><td>4.377773e-01</td><td>8.712313e-01</td><td>1</td></tr>\n",
       "\t<tr><td>FAM25A  </td><td>1.045359e-01</td><td>4.290247e-01</td><td>4.626751e-04</td><td>5.236591e-05</td><td>1.00000000</td><td>-0.056968017</td><td>-0.0325429918</td><td> 0.056325472</td><td>-0.043116859</td><td> 0.034359890</td><td>9.998078e-01</td><td>1.0000000000</td><td>1.082924e-01</td><td>2.953589e-02</td><td>1</td></tr>\n",
       "\t<tr><td>FCGR3A  </td><td>1.233275e-01</td><td>9.009078e-01</td><td>9.497719e-07</td><td>9.457768e-06</td><td>0.22669376</td><td> 0.029249272</td><td> 0.0166592818</td><td>-0.047588114</td><td> 0.037294954</td><td> 0.091236998</td><td>9.998078e-01</td><td>1.0000000000</td><td>1.411919e-03</td><td>8.410822e-03</td><td>1</td></tr>\n",
       "\t<tr><td>FGFR3   </td><td>2.884853e-01</td><td>8.404626e-06</td><td>2.648870e-01</td><td>3.682088e-01</td><td>0.37599332</td><td> 0.031785270</td><td>-0.1227646514</td><td>-0.008643887</td><td> 0.017782149</td><td> 0.067948475</td><td>9.998078e-01</td><td>0.0229502328</td><td>8.051924e-01</td><td>8.920741e-01</td><td>1</td></tr>\n",
       "\t<tr><td>GET1    </td><td>6.189826e-02</td><td>3.296607e-01</td><td>3.248488e-02</td><td>1.024520e-04</td><td>0.22456515</td><td>-0.094366963</td><td>-0.1353997918</td><td>-0.067089925</td><td> 0.080221986</td><td> 0.192969477</td><td>9.998078e-01</td><td>1.0000000000</td><td>5.035259e-01</td><td>4.304035e-02</td><td>1</td></tr>\n",
       "\t<tr><td>GRB2    </td><td>7.581334e-01</td><td>6.418488e-01</td><td>1.576830e-05</td><td>5.738333e-05</td><td>1.00000000</td><td> 0.046807571</td><td>-0.0507275782</td><td>-0.212170969</td><td> 0.191588142</td><td> 0.008918673</td><td>9.998078e-01</td><td>1.0000000000</td><td>1.174309e-02</td><td>2.953589e-02</td><td>1</td></tr>\n",
       "\t<tr><td>GTF2I   </td><td>4.286738e-05</td><td>8.690182e-01</td><td>5.105416e-01</td><td>1.152690e-01</td><td>1.00000000</td><td>-0.129996557</td><td>-0.0216040143</td><td> 0.010619476</td><td> 0.014152776</td><td>-0.076748652</td><td>3.192451e-02</td><td>1.0000000000</td><td>9.050761e-01</td><td>7.433071e-01</td><td>1</td></tr>\n",
       "\t<tr><td>HACD4   </td><td>2.389997e-05</td><td>9.724568e-01</td><td>7.835087e-01</td><td>3.764744e-02</td><td>0.09027263</td><td> 0.056131670</td><td>-0.0000981992</td><td>-0.002093293</td><td>-0.016026810</td><td>-0.092261746</td><td>1.957885e-02</td><td>1.0000000000</td><td>9.660755e-01</td><td>6.035379e-01</td><td>1</td></tr>\n",
       "\t<tr><td>HNF1B   </td><td>1.992916e-01</td><td>9.069352e-01</td><td>8.131036e-07</td><td>1.701329e-03</td><td>1.00000000</td><td> 0.067241418</td><td> 0.0211548024</td><td>-0.104268577</td><td> 0.084473513</td><td> 0.116194244</td><td>9.998078e-01</td><td>1.0000000000</td><td>1.332189e-03</td><td>2.153570e-01</td><td>1</td></tr>\n",
       "\t<tr><td>IFNA14  </td><td>6.267011e-07</td><td>6.155725e-01</td><td>4.628394e-01</td><td>7.011014e-02</td><td>0.18916828</td><td> 0.061578524</td><td> 0.0175311816</td><td>-0.008672439</td><td>-0.016179847</td><td>-0.067447645</td><td>9.334428e-04</td><td>1.0000000000</td><td>8.917817e-01</td><td>6.834385e-01</td><td>1</td></tr>\n",
       "\t<tr><td>IFNA16  </td><td>2.086240e-08</td><td>4.941882e-01</td><td>2.674664e-01</td><td>3.280300e-02</td><td>0.88731978</td><td> 0.065066236</td><td> 0.0167470426</td><td>-0.013521554</td><td>-0.014545151</td><td>-0.004670715</td><td>4.882993e-05</td><td>1.0000000000</td><td>8.072886e-01</td><td>5.826043e-01</td><td>1</td></tr>\n",
       "\t<tr><td>IFNA4   </td><td>8.388530e-11</td><td>6.848493e-01</td><td>5.847637e-01</td><td>1.316814e-03</td><td>0.75798069</td><td> 0.115943704</td><td>-0.0177349122</td><td>-0.009896715</td><td>-0.035751229</td><td> 0.026961976</td><td>6.871884e-07</td><td>1.0000000000</td><td>9.231909e-01</td><td>1.872632e-01</td><td>1</td></tr>\n",
       "\t<tr><td>IFNA6   </td><td>1.832103e-06</td><td>8.642515e-01</td><td>9.062125e-01</td><td>5.031318e-03</td><td>0.57068961</td><td> 0.047509332</td><td>-0.0016974213</td><td> 0.001658252</td><td>-0.019268191</td><td>-0.022954529</td><td>2.309013e-03</td><td>1.0000000000</td><td>9.869088e-01</td><td>3.406316e-01</td><td>1</td></tr>\n",
       "\t<tr><td>IFNA8   </td><td>3.266518e-09</td><td>6.135855e-01</td><td>6.463543e-01</td><td>3.771748e-02</td><td>0.57461686</td><td> 0.088666024</td><td> 0.0211838139</td><td>-0.013755573</td><td>-0.023217964</td><td>-0.032753625</td><td>1.337966e-05</td><td>1.0000000000</td><td>9.406323e-01</td><td>6.038235e-01</td><td>1</td></tr>\n",
       "\t<tr><td>IFNB1   </td><td>2.278711e-07</td><td>8.181700e-01</td><td>2.123662e-01</td><td>2.482533e-01</td><td>0.60041032</td><td> 0.050260122</td><td> 0.0024262675</td><td>-0.011357626</td><td>-0.007212490</td><td>-0.032493183</td><td>3.733440e-04</td><td>1.0000000000</td><td>7.744939e-01</td><td>8.522606e-01</td><td>1</td></tr>\n",
       "\t<tr><td>IFNE    </td><td>6.778842e-09</td><td>4.531266e-01</td><td>3.258549e-02</td><td>1.713918e-02</td><td>0.45699869</td><td> 0.064195513</td><td> 0.0192518458</td><td>-0.015147779</td><td>-0.017314102</td><td> 0.038587188</td><td>2.221291e-05</td><td>1.0000000000</td><td>5.035259e-01</td><td>4.880097e-01</td><td>1</td></tr>\n",
       "\t<tr><td>⋮</td><td>⋮</td><td>⋮</td><td>⋮</td><td>⋮</td><td>⋮</td><td>⋮</td><td>⋮</td><td>⋮</td><td>⋮</td><td>⋮</td><td>⋮</td><td>⋮</td><td>⋮</td><td>⋮</td><td>⋮</td></tr>\n",
       "\t<tr><td>RHD    </td><td>2.639936e-03</td><td>1.000000e+00</td><td>1.522840e-08</td><td>3.898149e-06</td><td>1.00000000</td><td> 7.908571e-02</td><td>-0.2284342642</td><td>-0.072036680</td><td> 0.054157433</td><td> 0.161323683</td><td>5.767028e-01</td><td>1.0000000000</td><td>6.237551e-05</td><td>4.257819e-03</td><td>1</td></tr>\n",
       "\t<tr><td>RHOB   </td><td>2.202040e-01</td><td>1.163824e-09</td><td>8.255350e-02</td><td>3.498362e-01</td><td>1.00000000</td><td> 2.461848e-02</td><td>-0.2605932207</td><td> 0.017220414</td><td>-0.011530894</td><td> 0.016128273</td><td>9.998078e-01</td><td>0.0000190681</td><td>6.228982e-01</td><td>8.862942e-01</td><td>1</td></tr>\n",
       "\t<tr><td>RIMS2  </td><td>8.573310e-01</td><td>8.026815e-01</td><td>8.811503e-09</td><td>2.398349e-06</td><td>0.03512851</td><td>-3.182704e-03</td><td>-0.0076932872</td><td> 0.039919402</td><td>-0.034442052</td><td>-0.082006623</td><td>9.998078e-01</td><td>1.0000000000</td><td>4.812255e-05</td><td>3.433819e-03</td><td>1</td></tr>\n",
       "\t<tr><td>RPL3   </td><td>2.185669e-02</td><td>1.000000e+00</td><td>1.061576e-02</td><td>1.164767e-05</td><td>1.00000000</td><td>-8.951981e-02</td><td>-0.1876296529</td><td>-0.075503889</td><td> 0.087629540</td><td>-0.008402362</td><td>9.998078e-01</td><td>1.0000000000</td><td>3.885024e-01</td><td>9.541772e-03</td><td>1</td></tr>\n",
       "\t<tr><td>RPL8   </td><td>1.695234e-05</td><td>5.062654e-01</td><td>2.434488e-01</td><td>1.137743e-04</td><td>0.76691824</td><td> 2.053134e-01</td><td>-0.0474952773</td><td> 0.029579969</td><td>-0.065994074</td><td> 0.046198292</td><td>1.543039e-02</td><td>1.0000000000</td><td>7.895342e-01</td><td>4.645394e-02</td><td>1</td></tr>\n",
       "\t<tr><td>RPP30  </td><td>1.915251e-01</td><td>8.218495e-01</td><td>4.065144e-04</td><td>7.382243e-06</td><td>0.80322203</td><td>-9.822443e-02</td><td> 0.0567110825</td><td>-0.114880651</td><td> 0.121153281</td><td>-0.042995101</td><td>9.998078e-01</td><td>1.0000000000</td><td>1.021111e-01</td><td>7.114745e-03</td><td>1</td></tr>\n",
       "\t<tr><td>RPS5   </td><td>5.223483e-01</td><td>6.151384e-01</td><td>5.209279e-08</td><td>6.721400e-09</td><td>1.00000000</td><td>-1.845602e-02</td><td> 0.0260470265</td><td> 0.137996087</td><td>-0.127678195</td><td> 0.080555900</td><td>9.998078e-01</td><td>1.0000000000</td><td>1.706976e-04</td><td>2.202468e-05</td><td>1</td></tr>\n",
       "\t<tr><td>SART1  </td><td>6.019677e-01</td><td>1.000000e+00</td><td>3.744277e-07</td><td>2.515004e-06</td><td>1.00000000</td><td>-9.166598e-03</td><td>-0.1464291839</td><td>-0.144824119</td><td> 0.140290564</td><td> 0.062162602</td><td>9.998078e-01</td><td>1.0000000000</td><td>8.272627e-04</td><td>3.433819e-03</td><td>1</td></tr>\n",
       "\t<tr><td>SLC10A5</td><td>3.766544e-01</td><td>7.349535e-01</td><td>1.896102e-05</td><td>1.832233e-03</td><td>0.72475097</td><td> 2.370114e-02</td><td> 0.0068987857</td><td>-0.035794964</td><td> 0.030409349</td><td>-0.011979399</td><td>9.998078e-01</td><td>1.0000000000</td><td>1.332593e-02</td><td>2.191190e-01</td><td>1</td></tr>\n",
       "\t<tr><td>SLC5A11</td><td>8.431623e-01</td><td>6.704944e-02</td><td>4.039369e-07</td><td>2.780337e-04</td><td>1.00000000</td><td> 6.451396e-03</td><td> 0.0731295928</td><td>-0.030653500</td><td> 0.026776638</td><td>-0.054118099</td><td>9.998078e-01</td><td>1.0000000000</td><td>8.272627e-04</td><td>8.359033e-02</td><td>1</td></tr>\n",
       "\t<tr><td>SNAP23 </td><td>9.203748e-01</td><td>8.067690e-01</td><td>1.988667e-05</td><td>3.219946e-06</td><td>1.00000000</td><td> 3.559613e-02</td><td> 0.0264164112</td><td>-0.203595740</td><td> 0.180648288</td><td> 0.245891533</td><td>9.998078e-01</td><td>1.0000000000</td><td>1.332593e-02</td><td>3.878890e-03</td><td>1</td></tr>\n",
       "\t<tr><td>SPATA6L</td><td>2.517249e-01</td><td>1.135771e-01</td><td>4.990893e-06</td><td>5.009600e-04</td><td>1.00000000</td><td>-2.523329e-02</td><td> 0.0313195815</td><td> 0.037536097</td><td>-0.033650454</td><td>-0.015864354</td><td>9.998078e-01</td><td>1.0000000000</td><td>4.542822e-03</td><td>1.172533e-01</td><td>1</td></tr>\n",
       "\t<tr><td>SRBD1  </td><td>3.379817e-02</td><td>1.000000e+00</td><td>3.392848e-02</td><td>5.410481e-05</td><td>1.00000000</td><td>-1.203301e-01</td><td> 0.0707298946</td><td>-0.072423809</td><td> 0.085175374</td><td> 0.201813949</td><td>9.998078e-01</td><td>1.0000000000</td><td>5.095180e-01</td><td>2.953589e-02</td><td>1</td></tr>\n",
       "\t<tr><td>SRP14  </td><td>7.116286e-02</td><td>4.574235e-01</td><td>1.184034e-05</td><td>4.219665e-10</td><td>1.00000000</td><td>-1.097183e-01</td><td>-0.1776010255</td><td>-0.165588690</td><td> 0.179795348</td><td>-0.148908524</td><td>9.998078e-01</td><td>1.0000000000</td><td>9.237717e-03</td><td>3.456750e-06</td><td>1</td></tr>\n",
       "\t<tr><td>STAT3  </td><td>9.503786e-01</td><td>1.369042e-05</td><td>8.048930e-01</td><td>3.138861e-01</td><td>0.57076545</td><td> 2.063158e-05</td><td>-0.3743889201</td><td>-0.017876009</td><td> 0.027626385</td><td>-0.028725440</td><td>9.998078e-01</td><td>0.0280379836</td><td>9.711335e-01</td><td>8.795599e-01</td><td>1</td></tr>\n",
       "\t<tr><td>TEK    </td><td>9.770316e-10</td><td>8.417016e-01</td><td>8.037934e-01</td><td>3.170794e-03</td><td>0.70277616</td><td> 7.339506e-02</td><td> 0.0079153218</td><td>-0.002773913</td><td>-0.023588120</td><td> 0.015078507</td><td>5.335895e-06</td><td>1.0000000000</td><td>9.708353e-01</td><td>2.902250e-01</td><td>1</td></tr>\n",
       "\t<tr><td>TGM6   </td><td>1.637426e-02</td><td>1.470754e-01</td><td>5.393403e-05</td><td>6.152772e-04</td><td>0.54088139</td><td> 3.950144e-02</td><td>-0.0564927124</td><td>-0.030153449</td><td> 0.024366855</td><td>-0.020948212</td><td>9.998078e-01</td><td>1.0000000000</td><td>2.945517e-02</td><td>1.344094e-01</td><td>1</td></tr>\n",
       "\t<tr><td>TPSD1  </td><td>9.930997e-01</td><td>6.097215e-02</td><td>4.950109e-06</td><td>5.242718e-08</td><td>1.00000000</td><td>-1.635524e-03</td><td> 0.0525774896</td><td> 0.040574345</td><td>-0.041800300</td><td> 0.149162229</td><td>9.999866e-01</td><td>1.0000000000</td><td>4.542822e-03</td><td>1.431611e-04</td><td>1</td></tr>\n",
       "\t<tr><td>TTC4   </td><td>3.850393e-02</td><td>9.053057e-01</td><td>8.518362e-05</td><td>5.696921e-03</td><td>1.00000000</td><td>-9.583983e-02</td><td>-0.0001706838</td><td> 0.092332029</td><td>-0.068764892</td><td>-0.048722808</td><td>9.998078e-01</td><td>1.0000000000</td><td>3.876801e-02</td><td>3.467533e-01</td><td>1</td></tr>\n",
       "\t<tr><td>TUT1   </td><td>9.200363e-01</td><td>9.331347e-01</td><td>2.522887e-04</td><td>5.215683e-05</td><td>1.00000000</td><td>-2.430602e-02</td><td> 0.0364289371</td><td>-0.148272973</td><td> 0.142367552</td><td> 0.064401477</td><td>9.998078e-01</td><td>1.0000000000</td><td>8.104899e-02</td><td>2.953589e-02</td><td>1</td></tr>\n",
       "\t<tr><td>TXNRD1 </td><td>4.025825e-01</td><td>1.240999e-02</td><td>1.250213e-03</td><td>5.876908e-05</td><td>0.09121889</td><td> 5.057325e-02</td><td> 0.3707963070</td><td> 0.122247568</td><td>-0.129027942</td><td>-0.328444379</td><td>9.998078e-01</td><td>1.0000000000</td><td>1.625674e-01</td><td>2.953589e-02</td><td>1</td></tr>\n",
       "\t<tr><td>UGT2B17</td><td>6.269368e-01</td><td>8.780669e-01</td><td>1.551865e-07</td><td>2.911255e-07</td><td>0.73483788</td><td>-7.356555e-03</td><td> 0.0072441775</td><td> 0.058485956</td><td>-0.053175094</td><td>-0.008600155</td><td>9.998078e-01</td><td>1.0000000000</td><td>4.237627e-04</td><td>5.962250e-04</td><td>1</td></tr>\n",
       "\t<tr><td>WSB2   </td><td>5.411662e-01</td><td>9.431928e-01</td><td>2.323223e-05</td><td>2.026573e-06</td><td>0.22357311</td><td> 1.689186e-02</td><td>-0.0317591554</td><td> 0.075229992</td><td>-0.074417114</td><td> 0.106182651</td><td>9.998078e-01</td><td>1.0000000000</td><td>1.463988e-02</td><td>3.320338e-03</td><td>1</td></tr>\n",
       "\t<tr><td>XYLT2  </td><td>2.699032e-01</td><td>7.558927e-01</td><td>4.113363e-04</td><td>9.753761e-06</td><td>1.00000000</td><td>-4.998359e-02</td><td> 0.0443403866</td><td>-0.064780977</td><td> 0.067053583</td><td> 0.065525451</td><td>9.998078e-01</td><td>1.0000000000</td><td>1.021111e-01</td><td>8.410822e-03</td><td>1</td></tr>\n",
       "\t<tr><td>ZNF223 </td><td>5.981477e-01</td><td>1.000000e+00</td><td>9.414520e-05</td><td>6.833306e-03</td><td>0.67409173</td><td> 3.197633e-03</td><td>-0.0691965930</td><td>-0.030255593</td><td> 0.028136884</td><td> 0.035744215</td><td>9.998078e-01</td><td>1.0000000000</td><td>4.168851e-02</td><td>3.643221e-01</td><td>1</td></tr>\n",
       "\t<tr><td>ZNF236 </td><td>3.030953e-01</td><td>4.872072e-06</td><td>3.246728e-01</td><td>7.708002e-01</td><td>0.95230111</td><td> 3.113824e-02</td><td>-0.1329088312</td><td> 0.021001263</td><td> 0.010701178</td><td>-0.050086544</td><td>9.998078e-01</td><td>0.0159648061</td><td>8.314794e-01</td><td>9.801261e-01</td><td>1</td></tr>\n",
       "\t<tr><td>ZNF407 </td><td>3.975787e-01</td><td>1.033408e-06</td><td>3.083876e-01</td><td>7.021683e-01</td><td>1.00000000</td><td>-4.782992e-02</td><td>-0.1986559140</td><td> 0.051869936</td><td> 0.016288444</td><td>-0.022459987</td><td>9.998078e-01</td><td>0.0056437834</td><td>8.292308e-01</td><td>9.718793e-01</td><td>1</td></tr>\n",
       "\t<tr><td>ZNF675 </td><td>8.124295e-01</td><td>7.255183e-01</td><td>1.387378e-04</td><td>2.319164e-05</td><td>0.45095384</td><td>-5.333556e-03</td><td> 0.0092472738</td><td>-0.030862428</td><td> 0.029605255</td><td>-0.012407542</td><td>9.998078e-01</td><td>1.0000000000</td><td>5.673820e-02</td><td>1.519887e-02</td><td>1</td></tr>\n",
       "\t<tr><td>ZRANB1 </td><td>8.737161e-01</td><td>1.127140e-05</td><td>6.299318e-01</td><td>9.669016e-01</td><td>1.00000000</td><td>-2.901994e-03</td><td>-0.1935862506</td><td> 0.008747735</td><td>-0.001510342</td><td> 0.122661012</td><td>9.998078e-01</td><td>0.0263815175</td><td>9.362954e-01</td><td>9.976281e-01</td><td>1</td></tr>\n",
       "\t<tr><td>ZYG11A </td><td>9.641258e-03</td><td>5.261761e-01</td><td>6.055585e-05</td><td>2.969425e-03</td><td>1.00000000</td><td> 4.157027e-02</td><td>-0.0183021996</td><td>-0.032676574</td><td> 0.024180092</td><td> 0.038489461</td><td>9.327901e-01</td><td>1.0000000000</td><td>3.200475e-02</td><td>2.812200e-01</td><td>1</td></tr>\n",
       "</tbody>\n",
       "</table>\n"
      ],
      "text/latex": [
       "A data.frame: 84 × 16\n",
       "\\begin{tabular}{llllllllllllllll}\n",
       " gene & afr\\_pval & amr\\_pval & eas\\_pval & eur\\_pval & sas\\_pval & afr\\_mean\\_diff & amr\\_mean\\_diff & eas\\_mean\\_diff & eur\\_mean\\_diff & sas\\_mean\\_diff & afr\\_fdr & amr\\_fdr & eas\\_fdr & eur\\_fdr & sas\\_fdr\\\\\n",
       " <chr> & <dbl> & <dbl> & <dbl> & <dbl> & <dbl> & <dbl> & <dbl> & <dbl> & <dbl> & <dbl> & <dbl> & <dbl> & <dbl> & <dbl> & <dbl>\\\\\n",
       "\\hline\n",
       "\t ABHD5    & 5.029064e-01 & 6.731293e-01 & 1.419840e-04 & 7.325947e-05 & 1.00000000 & -0.013409333 &  0.0219651014 & -0.032870455 &  0.031810393 &  0.040454712 & 9.998078e-01 & 1.0000000000 & 5.673820e-02 & 3.530245e-02 & 1\\\\\n",
       "\t ATOH1    & 2.515906e-01 & 6.035723e-08 & 7.642248e-01 & 1.120672e-01 & 1.00000000 & -0.018784078 & -0.2460395453 & -0.005028698 &  0.016397610 &  0.001926937 & 9.998078e-01 & 0.0004944464 & 9.640037e-01 & 7.422146e-01 & 1\\\\\n",
       "\t ATP6V0E1 & 1.892691e-03 & 2.650515e-02 & 3.773307e-02 & 1.839334e-05 & 1.00000000 & -0.147688999 & -0.1811022707 & -0.046207095 &  0.079448564 & -0.076158852 & 4.784503e-01 & 1.0000000000 & 5.301130e-01 & 1.310246e-02 & 1\\\\\n",
       "\t BRAF     & 1.443207e-01 & 1.000000e+00 & 5.214319e-05 & 4.503751e-03 & 1.00000000 &  0.065334238 & -0.8376455999 &  0.071713743 & -0.074058027 &  0.070252934 & 9.998078e-01 & 1.0000000000 & 2.945517e-02 & 3.194349e-01 & 1\\\\\n",
       "\t C2orf80  & 7.979514e-01 & 6.053948e-01 & 2.033376e-05 & 1.526936e-05 & 0.63512189 & -0.009448367 &  0.0356221501 & -0.045197475 &  0.042714631 &  0.033353581 & 9.998078e-01 & 1.0000000000 & 1.332593e-02 & 1.191301e-02 & 1\\\\\n",
       "\t CCDC74B  & 5.621591e-01 & 2.759222e-01 & 6.901363e-07 & 3.539659e-09 & 1.00000000 & -0.024543386 &  0.0804197765 & -0.079704723 &  0.077621608 & -0.007011342 & 9.998078e-01 & 1.0000000000 & 1.256355e-03 & 1.449844e-05 & 1\\\\\n",
       "\t CDKN2B   & 2.279463e-05 & 7.832736e-01 & 9.731180e-01 & 4.880268e-04 & 1.00000000 &  0.064926397 & -0.0078898650 & -0.004968188 & -0.032872679 & -0.100050763 & 1.957885e-02 & 1.0000000000 & 9.977479e-01 & 1.161740e-01 & 1\\\\\n",
       "\t CHGB     & 1.905154e-01 & 5.768611e-01 & 6.505422e-05 & 9.395311e-05 & 1.00000000 & -0.026503202 & -0.0274902299 &  0.042385715 & -0.033555982 & -0.066873581 & 9.998078e-01 & 1.0000000000 & 3.232727e-02 & 4.050863e-02 & 1\\\\\n",
       "\t CLSPN    & 6.011614e-02 & 7.391213e-01 & 8.991061e-19 & 6.889402e-23 & 1.00000000 &  0.105076936 & -0.0744837949 &  0.221512039 & -0.227785494 &  0.192494991 & 9.998078e-01 & 1.0000000000 & 1.473095e-14 & 1.128760e-18 & 1\\\\\n",
       "\t DDX47    & 1.424023e-02 & 1.000000e+00 & 6.327570e-06 & 3.314482e-06 & 1.00000000 & -0.128071609 &  0.1309337625 &  0.132318357 & -0.109215534 &  0.031341872 & 9.998078e-01 & 1.0000000000 & 5.183545e-03 & 3.878890e-03 & 1\\\\\n",
       "\t DMRTA1   & 1.850320e-12 & 7.193483e-01 & 4.749862e-01 & 6.705179e-04 & 1.00000000 &  0.070958584 & -0.0110440787 & -0.018049226 & -0.026666606 &  0.004315584 & 3.031564e-08 & 1.0000000000 & 8.930656e-01 & 1.368756e-01 & 1\\\\\n",
       "\t DND1     & 9.855143e-01 & 1.000000e+00 & 1.867425e-04 & 8.505026e-05 & 0.99929010 & -0.006686608 &  0.0511805711 &  0.053351926 & -0.049633975 &  0.005292056 & 9.999866e-01 & 1.0000000000 & 6.953612e-02 & 3.766118e-02 & 1\\\\\n",
       "\t ECD      & 6.541462e-02 & 1.000000e+00 & 2.616966e-06 & 4.606584e-07 & 1.00000000 &  0.100290507 & -0.1040491361 &  0.125786953 & -0.135698023 &  0.105486319 & 9.998078e-01 & 1.0000000000 & 3.298183e-03 & 8.386030e-04 & 1\\\\\n",
       "\t EEF2     & 3.204808e-08 & 4.387254e-01 & 8.645740e-02 & 7.752369e-01 & 0.21770758 &  0.335801623 & -0.0534150337 & -0.068633223 &  0.005034024 &  0.208271351 & 6.563448e-05 & 1.0000000000 & 6.304740e-01 & 9.813689e-01 & 1\\\\\n",
       "\t ELAVL2   & 8.395198e-09 & 9.828328e-01 & 1.749893e-02 & 2.936204e-01 & 1.00000000 &  0.066983849 & -0.0044585884 & -0.025415267 & -0.010138126 &  0.032218883 & 2.292449e-05 & 1.0000000000 & 4.377773e-01 & 8.712313e-01 & 1\\\\\n",
       "\t FAM25A   & 1.045359e-01 & 4.290247e-01 & 4.626751e-04 & 5.236591e-05 & 1.00000000 & -0.056968017 & -0.0325429918 &  0.056325472 & -0.043116859 &  0.034359890 & 9.998078e-01 & 1.0000000000 & 1.082924e-01 & 2.953589e-02 & 1\\\\\n",
       "\t FCGR3A   & 1.233275e-01 & 9.009078e-01 & 9.497719e-07 & 9.457768e-06 & 0.22669376 &  0.029249272 &  0.0166592818 & -0.047588114 &  0.037294954 &  0.091236998 & 9.998078e-01 & 1.0000000000 & 1.411919e-03 & 8.410822e-03 & 1\\\\\n",
       "\t FGFR3    & 2.884853e-01 & 8.404626e-06 & 2.648870e-01 & 3.682088e-01 & 0.37599332 &  0.031785270 & -0.1227646514 & -0.008643887 &  0.017782149 &  0.067948475 & 9.998078e-01 & 0.0229502328 & 8.051924e-01 & 8.920741e-01 & 1\\\\\n",
       "\t GET1     & 6.189826e-02 & 3.296607e-01 & 3.248488e-02 & 1.024520e-04 & 0.22456515 & -0.094366963 & -0.1353997918 & -0.067089925 &  0.080221986 &  0.192969477 & 9.998078e-01 & 1.0000000000 & 5.035259e-01 & 4.304035e-02 & 1\\\\\n",
       "\t GRB2     & 7.581334e-01 & 6.418488e-01 & 1.576830e-05 & 5.738333e-05 & 1.00000000 &  0.046807571 & -0.0507275782 & -0.212170969 &  0.191588142 &  0.008918673 & 9.998078e-01 & 1.0000000000 & 1.174309e-02 & 2.953589e-02 & 1\\\\\n",
       "\t GTF2I    & 4.286738e-05 & 8.690182e-01 & 5.105416e-01 & 1.152690e-01 & 1.00000000 & -0.129996557 & -0.0216040143 &  0.010619476 &  0.014152776 & -0.076748652 & 3.192451e-02 & 1.0000000000 & 9.050761e-01 & 7.433071e-01 & 1\\\\\n",
       "\t HACD4    & 2.389997e-05 & 9.724568e-01 & 7.835087e-01 & 3.764744e-02 & 0.09027263 &  0.056131670 & -0.0000981992 & -0.002093293 & -0.016026810 & -0.092261746 & 1.957885e-02 & 1.0000000000 & 9.660755e-01 & 6.035379e-01 & 1\\\\\n",
       "\t HNF1B    & 1.992916e-01 & 9.069352e-01 & 8.131036e-07 & 1.701329e-03 & 1.00000000 &  0.067241418 &  0.0211548024 & -0.104268577 &  0.084473513 &  0.116194244 & 9.998078e-01 & 1.0000000000 & 1.332189e-03 & 2.153570e-01 & 1\\\\\n",
       "\t IFNA14   & 6.267011e-07 & 6.155725e-01 & 4.628394e-01 & 7.011014e-02 & 0.18916828 &  0.061578524 &  0.0175311816 & -0.008672439 & -0.016179847 & -0.067447645 & 9.334428e-04 & 1.0000000000 & 8.917817e-01 & 6.834385e-01 & 1\\\\\n",
       "\t IFNA16   & 2.086240e-08 & 4.941882e-01 & 2.674664e-01 & 3.280300e-02 & 0.88731978 &  0.065066236 &  0.0167470426 & -0.013521554 & -0.014545151 & -0.004670715 & 4.882993e-05 & 1.0000000000 & 8.072886e-01 & 5.826043e-01 & 1\\\\\n",
       "\t IFNA4    & 8.388530e-11 & 6.848493e-01 & 5.847637e-01 & 1.316814e-03 & 0.75798069 &  0.115943704 & -0.0177349122 & -0.009896715 & -0.035751229 &  0.026961976 & 6.871884e-07 & 1.0000000000 & 9.231909e-01 & 1.872632e-01 & 1\\\\\n",
       "\t IFNA6    & 1.832103e-06 & 8.642515e-01 & 9.062125e-01 & 5.031318e-03 & 0.57068961 &  0.047509332 & -0.0016974213 &  0.001658252 & -0.019268191 & -0.022954529 & 2.309013e-03 & 1.0000000000 & 9.869088e-01 & 3.406316e-01 & 1\\\\\n",
       "\t IFNA8    & 3.266518e-09 & 6.135855e-01 & 6.463543e-01 & 3.771748e-02 & 0.57461686 &  0.088666024 &  0.0211838139 & -0.013755573 & -0.023217964 & -0.032753625 & 1.337966e-05 & 1.0000000000 & 9.406323e-01 & 6.038235e-01 & 1\\\\\n",
       "\t IFNB1    & 2.278711e-07 & 8.181700e-01 & 2.123662e-01 & 2.482533e-01 & 0.60041032 &  0.050260122 &  0.0024262675 & -0.011357626 & -0.007212490 & -0.032493183 & 3.733440e-04 & 1.0000000000 & 7.744939e-01 & 8.522606e-01 & 1\\\\\n",
       "\t IFNE     & 6.778842e-09 & 4.531266e-01 & 3.258549e-02 & 1.713918e-02 & 0.45699869 &  0.064195513 &  0.0192518458 & -0.015147779 & -0.017314102 &  0.038587188 & 2.221291e-05 & 1.0000000000 & 5.035259e-01 & 4.880097e-01 & 1\\\\\n",
       "\t ⋮ & ⋮ & ⋮ & ⋮ & ⋮ & ⋮ & ⋮ & ⋮ & ⋮ & ⋮ & ⋮ & ⋮ & ⋮ & ⋮ & ⋮ & ⋮\\\\\n",
       "\t RHD     & 2.639936e-03 & 1.000000e+00 & 1.522840e-08 & 3.898149e-06 & 1.00000000 &  7.908571e-02 & -0.2284342642 & -0.072036680 &  0.054157433 &  0.161323683 & 5.767028e-01 & 1.0000000000 & 6.237551e-05 & 4.257819e-03 & 1\\\\\n",
       "\t RHOB    & 2.202040e-01 & 1.163824e-09 & 8.255350e-02 & 3.498362e-01 & 1.00000000 &  2.461848e-02 & -0.2605932207 &  0.017220414 & -0.011530894 &  0.016128273 & 9.998078e-01 & 0.0000190681 & 6.228982e-01 & 8.862942e-01 & 1\\\\\n",
       "\t RIMS2   & 8.573310e-01 & 8.026815e-01 & 8.811503e-09 & 2.398349e-06 & 0.03512851 & -3.182704e-03 & -0.0076932872 &  0.039919402 & -0.034442052 & -0.082006623 & 9.998078e-01 & 1.0000000000 & 4.812255e-05 & 3.433819e-03 & 1\\\\\n",
       "\t RPL3    & 2.185669e-02 & 1.000000e+00 & 1.061576e-02 & 1.164767e-05 & 1.00000000 & -8.951981e-02 & -0.1876296529 & -0.075503889 &  0.087629540 & -0.008402362 & 9.998078e-01 & 1.0000000000 & 3.885024e-01 & 9.541772e-03 & 1\\\\\n",
       "\t RPL8    & 1.695234e-05 & 5.062654e-01 & 2.434488e-01 & 1.137743e-04 & 0.76691824 &  2.053134e-01 & -0.0474952773 &  0.029579969 & -0.065994074 &  0.046198292 & 1.543039e-02 & 1.0000000000 & 7.895342e-01 & 4.645394e-02 & 1\\\\\n",
       "\t RPP30   & 1.915251e-01 & 8.218495e-01 & 4.065144e-04 & 7.382243e-06 & 0.80322203 & -9.822443e-02 &  0.0567110825 & -0.114880651 &  0.121153281 & -0.042995101 & 9.998078e-01 & 1.0000000000 & 1.021111e-01 & 7.114745e-03 & 1\\\\\n",
       "\t RPS5    & 5.223483e-01 & 6.151384e-01 & 5.209279e-08 & 6.721400e-09 & 1.00000000 & -1.845602e-02 &  0.0260470265 &  0.137996087 & -0.127678195 &  0.080555900 & 9.998078e-01 & 1.0000000000 & 1.706976e-04 & 2.202468e-05 & 1\\\\\n",
       "\t SART1   & 6.019677e-01 & 1.000000e+00 & 3.744277e-07 & 2.515004e-06 & 1.00000000 & -9.166598e-03 & -0.1464291839 & -0.144824119 &  0.140290564 &  0.062162602 & 9.998078e-01 & 1.0000000000 & 8.272627e-04 & 3.433819e-03 & 1\\\\\n",
       "\t SLC10A5 & 3.766544e-01 & 7.349535e-01 & 1.896102e-05 & 1.832233e-03 & 0.72475097 &  2.370114e-02 &  0.0068987857 & -0.035794964 &  0.030409349 & -0.011979399 & 9.998078e-01 & 1.0000000000 & 1.332593e-02 & 2.191190e-01 & 1\\\\\n",
       "\t SLC5A11 & 8.431623e-01 & 6.704944e-02 & 4.039369e-07 & 2.780337e-04 & 1.00000000 &  6.451396e-03 &  0.0731295928 & -0.030653500 &  0.026776638 & -0.054118099 & 9.998078e-01 & 1.0000000000 & 8.272627e-04 & 8.359033e-02 & 1\\\\\n",
       "\t SNAP23  & 9.203748e-01 & 8.067690e-01 & 1.988667e-05 & 3.219946e-06 & 1.00000000 &  3.559613e-02 &  0.0264164112 & -0.203595740 &  0.180648288 &  0.245891533 & 9.998078e-01 & 1.0000000000 & 1.332593e-02 & 3.878890e-03 & 1\\\\\n",
       "\t SPATA6L & 2.517249e-01 & 1.135771e-01 & 4.990893e-06 & 5.009600e-04 & 1.00000000 & -2.523329e-02 &  0.0313195815 &  0.037536097 & -0.033650454 & -0.015864354 & 9.998078e-01 & 1.0000000000 & 4.542822e-03 & 1.172533e-01 & 1\\\\\n",
       "\t SRBD1   & 3.379817e-02 & 1.000000e+00 & 3.392848e-02 & 5.410481e-05 & 1.00000000 & -1.203301e-01 &  0.0707298946 & -0.072423809 &  0.085175374 &  0.201813949 & 9.998078e-01 & 1.0000000000 & 5.095180e-01 & 2.953589e-02 & 1\\\\\n",
       "\t SRP14   & 7.116286e-02 & 4.574235e-01 & 1.184034e-05 & 4.219665e-10 & 1.00000000 & -1.097183e-01 & -0.1776010255 & -0.165588690 &  0.179795348 & -0.148908524 & 9.998078e-01 & 1.0000000000 & 9.237717e-03 & 3.456750e-06 & 1\\\\\n",
       "\t STAT3   & 9.503786e-01 & 1.369042e-05 & 8.048930e-01 & 3.138861e-01 & 0.57076545 &  2.063158e-05 & -0.3743889201 & -0.017876009 &  0.027626385 & -0.028725440 & 9.998078e-01 & 0.0280379836 & 9.711335e-01 & 8.795599e-01 & 1\\\\\n",
       "\t TEK     & 9.770316e-10 & 8.417016e-01 & 8.037934e-01 & 3.170794e-03 & 0.70277616 &  7.339506e-02 &  0.0079153218 & -0.002773913 & -0.023588120 &  0.015078507 & 5.335895e-06 & 1.0000000000 & 9.708353e-01 & 2.902250e-01 & 1\\\\\n",
       "\t TGM6    & 1.637426e-02 & 1.470754e-01 & 5.393403e-05 & 6.152772e-04 & 0.54088139 &  3.950144e-02 & -0.0564927124 & -0.030153449 &  0.024366855 & -0.020948212 & 9.998078e-01 & 1.0000000000 & 2.945517e-02 & 1.344094e-01 & 1\\\\\n",
       "\t TPSD1   & 9.930997e-01 & 6.097215e-02 & 4.950109e-06 & 5.242718e-08 & 1.00000000 & -1.635524e-03 &  0.0525774896 &  0.040574345 & -0.041800300 &  0.149162229 & 9.999866e-01 & 1.0000000000 & 4.542822e-03 & 1.431611e-04 & 1\\\\\n",
       "\t TTC4    & 3.850393e-02 & 9.053057e-01 & 8.518362e-05 & 5.696921e-03 & 1.00000000 & -9.583983e-02 & -0.0001706838 &  0.092332029 & -0.068764892 & -0.048722808 & 9.998078e-01 & 1.0000000000 & 3.876801e-02 & 3.467533e-01 & 1\\\\\n",
       "\t TUT1    & 9.200363e-01 & 9.331347e-01 & 2.522887e-04 & 5.215683e-05 & 1.00000000 & -2.430602e-02 &  0.0364289371 & -0.148272973 &  0.142367552 &  0.064401477 & 9.998078e-01 & 1.0000000000 & 8.104899e-02 & 2.953589e-02 & 1\\\\\n",
       "\t TXNRD1  & 4.025825e-01 & 1.240999e-02 & 1.250213e-03 & 5.876908e-05 & 0.09121889 &  5.057325e-02 &  0.3707963070 &  0.122247568 & -0.129027942 & -0.328444379 & 9.998078e-01 & 1.0000000000 & 1.625674e-01 & 2.953589e-02 & 1\\\\\n",
       "\t UGT2B17 & 6.269368e-01 & 8.780669e-01 & 1.551865e-07 & 2.911255e-07 & 0.73483788 & -7.356555e-03 &  0.0072441775 &  0.058485956 & -0.053175094 & -0.008600155 & 9.998078e-01 & 1.0000000000 & 4.237627e-04 & 5.962250e-04 & 1\\\\\n",
       "\t WSB2    & 5.411662e-01 & 9.431928e-01 & 2.323223e-05 & 2.026573e-06 & 0.22357311 &  1.689186e-02 & -0.0317591554 &  0.075229992 & -0.074417114 &  0.106182651 & 9.998078e-01 & 1.0000000000 & 1.463988e-02 & 3.320338e-03 & 1\\\\\n",
       "\t XYLT2   & 2.699032e-01 & 7.558927e-01 & 4.113363e-04 & 9.753761e-06 & 1.00000000 & -4.998359e-02 &  0.0443403866 & -0.064780977 &  0.067053583 &  0.065525451 & 9.998078e-01 & 1.0000000000 & 1.021111e-01 & 8.410822e-03 & 1\\\\\n",
       "\t ZNF223  & 5.981477e-01 & 1.000000e+00 & 9.414520e-05 & 6.833306e-03 & 0.67409173 &  3.197633e-03 & -0.0691965930 & -0.030255593 &  0.028136884 &  0.035744215 & 9.998078e-01 & 1.0000000000 & 4.168851e-02 & 3.643221e-01 & 1\\\\\n",
       "\t ZNF236  & 3.030953e-01 & 4.872072e-06 & 3.246728e-01 & 7.708002e-01 & 0.95230111 &  3.113824e-02 & -0.1329088312 &  0.021001263 &  0.010701178 & -0.050086544 & 9.998078e-01 & 0.0159648061 & 8.314794e-01 & 9.801261e-01 & 1\\\\\n",
       "\t ZNF407  & 3.975787e-01 & 1.033408e-06 & 3.083876e-01 & 7.021683e-01 & 1.00000000 & -4.782992e-02 & -0.1986559140 &  0.051869936 &  0.016288444 & -0.022459987 & 9.998078e-01 & 0.0056437834 & 8.292308e-01 & 9.718793e-01 & 1\\\\\n",
       "\t ZNF675  & 8.124295e-01 & 7.255183e-01 & 1.387378e-04 & 2.319164e-05 & 0.45095384 & -5.333556e-03 &  0.0092472738 & -0.030862428 &  0.029605255 & -0.012407542 & 9.998078e-01 & 1.0000000000 & 5.673820e-02 & 1.519887e-02 & 1\\\\\n",
       "\t ZRANB1  & 8.737161e-01 & 1.127140e-05 & 6.299318e-01 & 9.669016e-01 & 1.00000000 & -2.901994e-03 & -0.1935862506 &  0.008747735 & -0.001510342 &  0.122661012 & 9.998078e-01 & 0.0263815175 & 9.362954e-01 & 9.976281e-01 & 1\\\\\n",
       "\t ZYG11A  & 9.641258e-03 & 5.261761e-01 & 6.055585e-05 & 2.969425e-03 & 1.00000000 &  4.157027e-02 & -0.0183021996 & -0.032676574 &  0.024180092 &  0.038489461 & 9.327901e-01 & 1.0000000000 & 3.200475e-02 & 2.812200e-01 & 1\\\\\n",
       "\\end{tabular}\n"
      ],
      "text/markdown": [
       "\n",
       "A data.frame: 84 × 16\n",
       "\n",
       "| gene &lt;chr&gt; | afr_pval &lt;dbl&gt; | amr_pval &lt;dbl&gt; | eas_pval &lt;dbl&gt; | eur_pval &lt;dbl&gt; | sas_pval &lt;dbl&gt; | afr_mean_diff &lt;dbl&gt; | amr_mean_diff &lt;dbl&gt; | eas_mean_diff &lt;dbl&gt; | eur_mean_diff &lt;dbl&gt; | sas_mean_diff &lt;dbl&gt; | afr_fdr &lt;dbl&gt; | amr_fdr &lt;dbl&gt; | eas_fdr &lt;dbl&gt; | eur_fdr &lt;dbl&gt; | sas_fdr &lt;dbl&gt; |\n",
       "|---|---|---|---|---|---|---|---|---|---|---|---|---|---|---|---|\n",
       "| ABHD5    | 5.029064e-01 | 6.731293e-01 | 1.419840e-04 | 7.325947e-05 | 1.00000000 | -0.013409333 |  0.0219651014 | -0.032870455 |  0.031810393 |  0.040454712 | 9.998078e-01 | 1.0000000000 | 5.673820e-02 | 3.530245e-02 | 1 |\n",
       "| ATOH1    | 2.515906e-01 | 6.035723e-08 | 7.642248e-01 | 1.120672e-01 | 1.00000000 | -0.018784078 | -0.2460395453 | -0.005028698 |  0.016397610 |  0.001926937 | 9.998078e-01 | 0.0004944464 | 9.640037e-01 | 7.422146e-01 | 1 |\n",
       "| ATP6V0E1 | 1.892691e-03 | 2.650515e-02 | 3.773307e-02 | 1.839334e-05 | 1.00000000 | -0.147688999 | -0.1811022707 | -0.046207095 |  0.079448564 | -0.076158852 | 4.784503e-01 | 1.0000000000 | 5.301130e-01 | 1.310246e-02 | 1 |\n",
       "| BRAF     | 1.443207e-01 | 1.000000e+00 | 5.214319e-05 | 4.503751e-03 | 1.00000000 |  0.065334238 | -0.8376455999 |  0.071713743 | -0.074058027 |  0.070252934 | 9.998078e-01 | 1.0000000000 | 2.945517e-02 | 3.194349e-01 | 1 |\n",
       "| C2orf80  | 7.979514e-01 | 6.053948e-01 | 2.033376e-05 | 1.526936e-05 | 0.63512189 | -0.009448367 |  0.0356221501 | -0.045197475 |  0.042714631 |  0.033353581 | 9.998078e-01 | 1.0000000000 | 1.332593e-02 | 1.191301e-02 | 1 |\n",
       "| CCDC74B  | 5.621591e-01 | 2.759222e-01 | 6.901363e-07 | 3.539659e-09 | 1.00000000 | -0.024543386 |  0.0804197765 | -0.079704723 |  0.077621608 | -0.007011342 | 9.998078e-01 | 1.0000000000 | 1.256355e-03 | 1.449844e-05 | 1 |\n",
       "| CDKN2B   | 2.279463e-05 | 7.832736e-01 | 9.731180e-01 | 4.880268e-04 | 1.00000000 |  0.064926397 | -0.0078898650 | -0.004968188 | -0.032872679 | -0.100050763 | 1.957885e-02 | 1.0000000000 | 9.977479e-01 | 1.161740e-01 | 1 |\n",
       "| CHGB     | 1.905154e-01 | 5.768611e-01 | 6.505422e-05 | 9.395311e-05 | 1.00000000 | -0.026503202 | -0.0274902299 |  0.042385715 | -0.033555982 | -0.066873581 | 9.998078e-01 | 1.0000000000 | 3.232727e-02 | 4.050863e-02 | 1 |\n",
       "| CLSPN    | 6.011614e-02 | 7.391213e-01 | 8.991061e-19 | 6.889402e-23 | 1.00000000 |  0.105076936 | -0.0744837949 |  0.221512039 | -0.227785494 |  0.192494991 | 9.998078e-01 | 1.0000000000 | 1.473095e-14 | 1.128760e-18 | 1 |\n",
       "| DDX47    | 1.424023e-02 | 1.000000e+00 | 6.327570e-06 | 3.314482e-06 | 1.00000000 | -0.128071609 |  0.1309337625 |  0.132318357 | -0.109215534 |  0.031341872 | 9.998078e-01 | 1.0000000000 | 5.183545e-03 | 3.878890e-03 | 1 |\n",
       "| DMRTA1   | 1.850320e-12 | 7.193483e-01 | 4.749862e-01 | 6.705179e-04 | 1.00000000 |  0.070958584 | -0.0110440787 | -0.018049226 | -0.026666606 |  0.004315584 | 3.031564e-08 | 1.0000000000 | 8.930656e-01 | 1.368756e-01 | 1 |\n",
       "| DND1     | 9.855143e-01 | 1.000000e+00 | 1.867425e-04 | 8.505026e-05 | 0.99929010 | -0.006686608 |  0.0511805711 |  0.053351926 | -0.049633975 |  0.005292056 | 9.999866e-01 | 1.0000000000 | 6.953612e-02 | 3.766118e-02 | 1 |\n",
       "| ECD      | 6.541462e-02 | 1.000000e+00 | 2.616966e-06 | 4.606584e-07 | 1.00000000 |  0.100290507 | -0.1040491361 |  0.125786953 | -0.135698023 |  0.105486319 | 9.998078e-01 | 1.0000000000 | 3.298183e-03 | 8.386030e-04 | 1 |\n",
       "| EEF2     | 3.204808e-08 | 4.387254e-01 | 8.645740e-02 | 7.752369e-01 | 0.21770758 |  0.335801623 | -0.0534150337 | -0.068633223 |  0.005034024 |  0.208271351 | 6.563448e-05 | 1.0000000000 | 6.304740e-01 | 9.813689e-01 | 1 |\n",
       "| ELAVL2   | 8.395198e-09 | 9.828328e-01 | 1.749893e-02 | 2.936204e-01 | 1.00000000 |  0.066983849 | -0.0044585884 | -0.025415267 | -0.010138126 |  0.032218883 | 2.292449e-05 | 1.0000000000 | 4.377773e-01 | 8.712313e-01 | 1 |\n",
       "| FAM25A   | 1.045359e-01 | 4.290247e-01 | 4.626751e-04 | 5.236591e-05 | 1.00000000 | -0.056968017 | -0.0325429918 |  0.056325472 | -0.043116859 |  0.034359890 | 9.998078e-01 | 1.0000000000 | 1.082924e-01 | 2.953589e-02 | 1 |\n",
       "| FCGR3A   | 1.233275e-01 | 9.009078e-01 | 9.497719e-07 | 9.457768e-06 | 0.22669376 |  0.029249272 |  0.0166592818 | -0.047588114 |  0.037294954 |  0.091236998 | 9.998078e-01 | 1.0000000000 | 1.411919e-03 | 8.410822e-03 | 1 |\n",
       "| FGFR3    | 2.884853e-01 | 8.404626e-06 | 2.648870e-01 | 3.682088e-01 | 0.37599332 |  0.031785270 | -0.1227646514 | -0.008643887 |  0.017782149 |  0.067948475 | 9.998078e-01 | 0.0229502328 | 8.051924e-01 | 8.920741e-01 | 1 |\n",
       "| GET1     | 6.189826e-02 | 3.296607e-01 | 3.248488e-02 | 1.024520e-04 | 0.22456515 | -0.094366963 | -0.1353997918 | -0.067089925 |  0.080221986 |  0.192969477 | 9.998078e-01 | 1.0000000000 | 5.035259e-01 | 4.304035e-02 | 1 |\n",
       "| GRB2     | 7.581334e-01 | 6.418488e-01 | 1.576830e-05 | 5.738333e-05 | 1.00000000 |  0.046807571 | -0.0507275782 | -0.212170969 |  0.191588142 |  0.008918673 | 9.998078e-01 | 1.0000000000 | 1.174309e-02 | 2.953589e-02 | 1 |\n",
       "| GTF2I    | 4.286738e-05 | 8.690182e-01 | 5.105416e-01 | 1.152690e-01 | 1.00000000 | -0.129996557 | -0.0216040143 |  0.010619476 |  0.014152776 | -0.076748652 | 3.192451e-02 | 1.0000000000 | 9.050761e-01 | 7.433071e-01 | 1 |\n",
       "| HACD4    | 2.389997e-05 | 9.724568e-01 | 7.835087e-01 | 3.764744e-02 | 0.09027263 |  0.056131670 | -0.0000981992 | -0.002093293 | -0.016026810 | -0.092261746 | 1.957885e-02 | 1.0000000000 | 9.660755e-01 | 6.035379e-01 | 1 |\n",
       "| HNF1B    | 1.992916e-01 | 9.069352e-01 | 8.131036e-07 | 1.701329e-03 | 1.00000000 |  0.067241418 |  0.0211548024 | -0.104268577 |  0.084473513 |  0.116194244 | 9.998078e-01 | 1.0000000000 | 1.332189e-03 | 2.153570e-01 | 1 |\n",
       "| IFNA14   | 6.267011e-07 | 6.155725e-01 | 4.628394e-01 | 7.011014e-02 | 0.18916828 |  0.061578524 |  0.0175311816 | -0.008672439 | -0.016179847 | -0.067447645 | 9.334428e-04 | 1.0000000000 | 8.917817e-01 | 6.834385e-01 | 1 |\n",
       "| IFNA16   | 2.086240e-08 | 4.941882e-01 | 2.674664e-01 | 3.280300e-02 | 0.88731978 |  0.065066236 |  0.0167470426 | -0.013521554 | -0.014545151 | -0.004670715 | 4.882993e-05 | 1.0000000000 | 8.072886e-01 | 5.826043e-01 | 1 |\n",
       "| IFNA4    | 8.388530e-11 | 6.848493e-01 | 5.847637e-01 | 1.316814e-03 | 0.75798069 |  0.115943704 | -0.0177349122 | -0.009896715 | -0.035751229 |  0.026961976 | 6.871884e-07 | 1.0000000000 | 9.231909e-01 | 1.872632e-01 | 1 |\n",
       "| IFNA6    | 1.832103e-06 | 8.642515e-01 | 9.062125e-01 | 5.031318e-03 | 0.57068961 |  0.047509332 | -0.0016974213 |  0.001658252 | -0.019268191 | -0.022954529 | 2.309013e-03 | 1.0000000000 | 9.869088e-01 | 3.406316e-01 | 1 |\n",
       "| IFNA8    | 3.266518e-09 | 6.135855e-01 | 6.463543e-01 | 3.771748e-02 | 0.57461686 |  0.088666024 |  0.0211838139 | -0.013755573 | -0.023217964 | -0.032753625 | 1.337966e-05 | 1.0000000000 | 9.406323e-01 | 6.038235e-01 | 1 |\n",
       "| IFNB1    | 2.278711e-07 | 8.181700e-01 | 2.123662e-01 | 2.482533e-01 | 0.60041032 |  0.050260122 |  0.0024262675 | -0.011357626 | -0.007212490 | -0.032493183 | 3.733440e-04 | 1.0000000000 | 7.744939e-01 | 8.522606e-01 | 1 |\n",
       "| IFNE     | 6.778842e-09 | 4.531266e-01 | 3.258549e-02 | 1.713918e-02 | 0.45699869 |  0.064195513 |  0.0192518458 | -0.015147779 | -0.017314102 |  0.038587188 | 2.221291e-05 | 1.0000000000 | 5.035259e-01 | 4.880097e-01 | 1 |\n",
       "| ⋮ | ⋮ | ⋮ | ⋮ | ⋮ | ⋮ | ⋮ | ⋮ | ⋮ | ⋮ | ⋮ | ⋮ | ⋮ | ⋮ | ⋮ | ⋮ |\n",
       "| RHD     | 2.639936e-03 | 1.000000e+00 | 1.522840e-08 | 3.898149e-06 | 1.00000000 |  7.908571e-02 | -0.2284342642 | -0.072036680 |  0.054157433 |  0.161323683 | 5.767028e-01 | 1.0000000000 | 6.237551e-05 | 4.257819e-03 | 1 |\n",
       "| RHOB    | 2.202040e-01 | 1.163824e-09 | 8.255350e-02 | 3.498362e-01 | 1.00000000 |  2.461848e-02 | -0.2605932207 |  0.017220414 | -0.011530894 |  0.016128273 | 9.998078e-01 | 0.0000190681 | 6.228982e-01 | 8.862942e-01 | 1 |\n",
       "| RIMS2   | 8.573310e-01 | 8.026815e-01 | 8.811503e-09 | 2.398349e-06 | 0.03512851 | -3.182704e-03 | -0.0076932872 |  0.039919402 | -0.034442052 | -0.082006623 | 9.998078e-01 | 1.0000000000 | 4.812255e-05 | 3.433819e-03 | 1 |\n",
       "| RPL3    | 2.185669e-02 | 1.000000e+00 | 1.061576e-02 | 1.164767e-05 | 1.00000000 | -8.951981e-02 | -0.1876296529 | -0.075503889 |  0.087629540 | -0.008402362 | 9.998078e-01 | 1.0000000000 | 3.885024e-01 | 9.541772e-03 | 1 |\n",
       "| RPL8    | 1.695234e-05 | 5.062654e-01 | 2.434488e-01 | 1.137743e-04 | 0.76691824 |  2.053134e-01 | -0.0474952773 |  0.029579969 | -0.065994074 |  0.046198292 | 1.543039e-02 | 1.0000000000 | 7.895342e-01 | 4.645394e-02 | 1 |\n",
       "| RPP30   | 1.915251e-01 | 8.218495e-01 | 4.065144e-04 | 7.382243e-06 | 0.80322203 | -9.822443e-02 |  0.0567110825 | -0.114880651 |  0.121153281 | -0.042995101 | 9.998078e-01 | 1.0000000000 | 1.021111e-01 | 7.114745e-03 | 1 |\n",
       "| RPS5    | 5.223483e-01 | 6.151384e-01 | 5.209279e-08 | 6.721400e-09 | 1.00000000 | -1.845602e-02 |  0.0260470265 |  0.137996087 | -0.127678195 |  0.080555900 | 9.998078e-01 | 1.0000000000 | 1.706976e-04 | 2.202468e-05 | 1 |\n",
       "| SART1   | 6.019677e-01 | 1.000000e+00 | 3.744277e-07 | 2.515004e-06 | 1.00000000 | -9.166598e-03 | -0.1464291839 | -0.144824119 |  0.140290564 |  0.062162602 | 9.998078e-01 | 1.0000000000 | 8.272627e-04 | 3.433819e-03 | 1 |\n",
       "| SLC10A5 | 3.766544e-01 | 7.349535e-01 | 1.896102e-05 | 1.832233e-03 | 0.72475097 |  2.370114e-02 |  0.0068987857 | -0.035794964 |  0.030409349 | -0.011979399 | 9.998078e-01 | 1.0000000000 | 1.332593e-02 | 2.191190e-01 | 1 |\n",
       "| SLC5A11 | 8.431623e-01 | 6.704944e-02 | 4.039369e-07 | 2.780337e-04 | 1.00000000 |  6.451396e-03 |  0.0731295928 | -0.030653500 |  0.026776638 | -0.054118099 | 9.998078e-01 | 1.0000000000 | 8.272627e-04 | 8.359033e-02 | 1 |\n",
       "| SNAP23  | 9.203748e-01 | 8.067690e-01 | 1.988667e-05 | 3.219946e-06 | 1.00000000 |  3.559613e-02 |  0.0264164112 | -0.203595740 |  0.180648288 |  0.245891533 | 9.998078e-01 | 1.0000000000 | 1.332593e-02 | 3.878890e-03 | 1 |\n",
       "| SPATA6L | 2.517249e-01 | 1.135771e-01 | 4.990893e-06 | 5.009600e-04 | 1.00000000 | -2.523329e-02 |  0.0313195815 |  0.037536097 | -0.033650454 | -0.015864354 | 9.998078e-01 | 1.0000000000 | 4.542822e-03 | 1.172533e-01 | 1 |\n",
       "| SRBD1   | 3.379817e-02 | 1.000000e+00 | 3.392848e-02 | 5.410481e-05 | 1.00000000 | -1.203301e-01 |  0.0707298946 | -0.072423809 |  0.085175374 |  0.201813949 | 9.998078e-01 | 1.0000000000 | 5.095180e-01 | 2.953589e-02 | 1 |\n",
       "| SRP14   | 7.116286e-02 | 4.574235e-01 | 1.184034e-05 | 4.219665e-10 | 1.00000000 | -1.097183e-01 | -0.1776010255 | -0.165588690 |  0.179795348 | -0.148908524 | 9.998078e-01 | 1.0000000000 | 9.237717e-03 | 3.456750e-06 | 1 |\n",
       "| STAT3   | 9.503786e-01 | 1.369042e-05 | 8.048930e-01 | 3.138861e-01 | 0.57076545 |  2.063158e-05 | -0.3743889201 | -0.017876009 |  0.027626385 | -0.028725440 | 9.998078e-01 | 0.0280379836 | 9.711335e-01 | 8.795599e-01 | 1 |\n",
       "| TEK     | 9.770316e-10 | 8.417016e-01 | 8.037934e-01 | 3.170794e-03 | 0.70277616 |  7.339506e-02 |  0.0079153218 | -0.002773913 | -0.023588120 |  0.015078507 | 5.335895e-06 | 1.0000000000 | 9.708353e-01 | 2.902250e-01 | 1 |\n",
       "| TGM6    | 1.637426e-02 | 1.470754e-01 | 5.393403e-05 | 6.152772e-04 | 0.54088139 |  3.950144e-02 | -0.0564927124 | -0.030153449 |  0.024366855 | -0.020948212 | 9.998078e-01 | 1.0000000000 | 2.945517e-02 | 1.344094e-01 | 1 |\n",
       "| TPSD1   | 9.930997e-01 | 6.097215e-02 | 4.950109e-06 | 5.242718e-08 | 1.00000000 | -1.635524e-03 |  0.0525774896 |  0.040574345 | -0.041800300 |  0.149162229 | 9.999866e-01 | 1.0000000000 | 4.542822e-03 | 1.431611e-04 | 1 |\n",
       "| TTC4    | 3.850393e-02 | 9.053057e-01 | 8.518362e-05 | 5.696921e-03 | 1.00000000 | -9.583983e-02 | -0.0001706838 |  0.092332029 | -0.068764892 | -0.048722808 | 9.998078e-01 | 1.0000000000 | 3.876801e-02 | 3.467533e-01 | 1 |\n",
       "| TUT1    | 9.200363e-01 | 9.331347e-01 | 2.522887e-04 | 5.215683e-05 | 1.00000000 | -2.430602e-02 |  0.0364289371 | -0.148272973 |  0.142367552 |  0.064401477 | 9.998078e-01 | 1.0000000000 | 8.104899e-02 | 2.953589e-02 | 1 |\n",
       "| TXNRD1  | 4.025825e-01 | 1.240999e-02 | 1.250213e-03 | 5.876908e-05 | 0.09121889 |  5.057325e-02 |  0.3707963070 |  0.122247568 | -0.129027942 | -0.328444379 | 9.998078e-01 | 1.0000000000 | 1.625674e-01 | 2.953589e-02 | 1 |\n",
       "| UGT2B17 | 6.269368e-01 | 8.780669e-01 | 1.551865e-07 | 2.911255e-07 | 0.73483788 | -7.356555e-03 |  0.0072441775 |  0.058485956 | -0.053175094 | -0.008600155 | 9.998078e-01 | 1.0000000000 | 4.237627e-04 | 5.962250e-04 | 1 |\n",
       "| WSB2    | 5.411662e-01 | 9.431928e-01 | 2.323223e-05 | 2.026573e-06 | 0.22357311 |  1.689186e-02 | -0.0317591554 |  0.075229992 | -0.074417114 |  0.106182651 | 9.998078e-01 | 1.0000000000 | 1.463988e-02 | 3.320338e-03 | 1 |\n",
       "| XYLT2   | 2.699032e-01 | 7.558927e-01 | 4.113363e-04 | 9.753761e-06 | 1.00000000 | -4.998359e-02 |  0.0443403866 | -0.064780977 |  0.067053583 |  0.065525451 | 9.998078e-01 | 1.0000000000 | 1.021111e-01 | 8.410822e-03 | 1 |\n",
       "| ZNF223  | 5.981477e-01 | 1.000000e+00 | 9.414520e-05 | 6.833306e-03 | 0.67409173 |  3.197633e-03 | -0.0691965930 | -0.030255593 |  0.028136884 |  0.035744215 | 9.998078e-01 | 1.0000000000 | 4.168851e-02 | 3.643221e-01 | 1 |\n",
       "| ZNF236  | 3.030953e-01 | 4.872072e-06 | 3.246728e-01 | 7.708002e-01 | 0.95230111 |  3.113824e-02 | -0.1329088312 |  0.021001263 |  0.010701178 | -0.050086544 | 9.998078e-01 | 0.0159648061 | 8.314794e-01 | 9.801261e-01 | 1 |\n",
       "| ZNF407  | 3.975787e-01 | 1.033408e-06 | 3.083876e-01 | 7.021683e-01 | 1.00000000 | -4.782992e-02 | -0.1986559140 |  0.051869936 |  0.016288444 | -0.022459987 | 9.998078e-01 | 0.0056437834 | 8.292308e-01 | 9.718793e-01 | 1 |\n",
       "| ZNF675  | 8.124295e-01 | 7.255183e-01 | 1.387378e-04 | 2.319164e-05 | 0.45095384 | -5.333556e-03 |  0.0092472738 | -0.030862428 |  0.029605255 | -0.012407542 | 9.998078e-01 | 1.0000000000 | 5.673820e-02 | 1.519887e-02 | 1 |\n",
       "| ZRANB1  | 8.737161e-01 | 1.127140e-05 | 6.299318e-01 | 9.669016e-01 | 1.00000000 | -2.901994e-03 | -0.1935862506 |  0.008747735 | -0.001510342 |  0.122661012 | 9.998078e-01 | 0.0263815175 | 9.362954e-01 | 9.976281e-01 | 1 |\n",
       "| ZYG11A  | 9.641258e-03 | 5.261761e-01 | 6.055585e-05 | 2.969425e-03 | 1.00000000 |  4.157027e-02 | -0.0183021996 | -0.032676574 |  0.024180092 |  0.038489461 | 9.327901e-01 | 1.0000000000 | 3.200475e-02 | 2.812200e-01 | 1 |\n",
       "\n"
      ],
      "text/plain": [
       "   gene     afr_pval     amr_pval     eas_pval     eur_pval     sas_pval  \n",
       "1  ABHD5    5.029064e-01 6.731293e-01 1.419840e-04 7.325947e-05 1.00000000\n",
       "2  ATOH1    2.515906e-01 6.035723e-08 7.642248e-01 1.120672e-01 1.00000000\n",
       "3  ATP6V0E1 1.892691e-03 2.650515e-02 3.773307e-02 1.839334e-05 1.00000000\n",
       "4  BRAF     1.443207e-01 1.000000e+00 5.214319e-05 4.503751e-03 1.00000000\n",
       "5  C2orf80  7.979514e-01 6.053948e-01 2.033376e-05 1.526936e-05 0.63512189\n",
       "6  CCDC74B  5.621591e-01 2.759222e-01 6.901363e-07 3.539659e-09 1.00000000\n",
       "7  CDKN2B   2.279463e-05 7.832736e-01 9.731180e-01 4.880268e-04 1.00000000\n",
       "8  CHGB     1.905154e-01 5.768611e-01 6.505422e-05 9.395311e-05 1.00000000\n",
       "9  CLSPN    6.011614e-02 7.391213e-01 8.991061e-19 6.889402e-23 1.00000000\n",
       "10 DDX47    1.424023e-02 1.000000e+00 6.327570e-06 3.314482e-06 1.00000000\n",
       "11 DMRTA1   1.850320e-12 7.193483e-01 4.749862e-01 6.705179e-04 1.00000000\n",
       "12 DND1     9.855143e-01 1.000000e+00 1.867425e-04 8.505026e-05 0.99929010\n",
       "13 ECD      6.541462e-02 1.000000e+00 2.616966e-06 4.606584e-07 1.00000000\n",
       "14 EEF2     3.204808e-08 4.387254e-01 8.645740e-02 7.752369e-01 0.21770758\n",
       "15 ELAVL2   8.395198e-09 9.828328e-01 1.749893e-02 2.936204e-01 1.00000000\n",
       "16 FAM25A   1.045359e-01 4.290247e-01 4.626751e-04 5.236591e-05 1.00000000\n",
       "17 FCGR3A   1.233275e-01 9.009078e-01 9.497719e-07 9.457768e-06 0.22669376\n",
       "18 FGFR3    2.884853e-01 8.404626e-06 2.648870e-01 3.682088e-01 0.37599332\n",
       "19 GET1     6.189826e-02 3.296607e-01 3.248488e-02 1.024520e-04 0.22456515\n",
       "20 GRB2     7.581334e-01 6.418488e-01 1.576830e-05 5.738333e-05 1.00000000\n",
       "21 GTF2I    4.286738e-05 8.690182e-01 5.105416e-01 1.152690e-01 1.00000000\n",
       "22 HACD4    2.389997e-05 9.724568e-01 7.835087e-01 3.764744e-02 0.09027263\n",
       "23 HNF1B    1.992916e-01 9.069352e-01 8.131036e-07 1.701329e-03 1.00000000\n",
       "24 IFNA14   6.267011e-07 6.155725e-01 4.628394e-01 7.011014e-02 0.18916828\n",
       "25 IFNA16   2.086240e-08 4.941882e-01 2.674664e-01 3.280300e-02 0.88731978\n",
       "26 IFNA4    8.388530e-11 6.848493e-01 5.847637e-01 1.316814e-03 0.75798069\n",
       "27 IFNA6    1.832103e-06 8.642515e-01 9.062125e-01 5.031318e-03 0.57068961\n",
       "28 IFNA8    3.266518e-09 6.135855e-01 6.463543e-01 3.771748e-02 0.57461686\n",
       "29 IFNB1    2.278711e-07 8.181700e-01 2.123662e-01 2.482533e-01 0.60041032\n",
       "30 IFNE     6.778842e-09 4.531266e-01 3.258549e-02 1.713918e-02 0.45699869\n",
       "⋮  ⋮        ⋮            ⋮            ⋮            ⋮            ⋮         \n",
       "55 RHD      2.639936e-03 1.000000e+00 1.522840e-08 3.898149e-06 1.00000000\n",
       "56 RHOB     2.202040e-01 1.163824e-09 8.255350e-02 3.498362e-01 1.00000000\n",
       "57 RIMS2    8.573310e-01 8.026815e-01 8.811503e-09 2.398349e-06 0.03512851\n",
       "58 RPL3     2.185669e-02 1.000000e+00 1.061576e-02 1.164767e-05 1.00000000\n",
       "59 RPL8     1.695234e-05 5.062654e-01 2.434488e-01 1.137743e-04 0.76691824\n",
       "60 RPP30    1.915251e-01 8.218495e-01 4.065144e-04 7.382243e-06 0.80322203\n",
       "61 RPS5     5.223483e-01 6.151384e-01 5.209279e-08 6.721400e-09 1.00000000\n",
       "62 SART1    6.019677e-01 1.000000e+00 3.744277e-07 2.515004e-06 1.00000000\n",
       "63 SLC10A5  3.766544e-01 7.349535e-01 1.896102e-05 1.832233e-03 0.72475097\n",
       "64 SLC5A11  8.431623e-01 6.704944e-02 4.039369e-07 2.780337e-04 1.00000000\n",
       "65 SNAP23   9.203748e-01 8.067690e-01 1.988667e-05 3.219946e-06 1.00000000\n",
       "66 SPATA6L  2.517249e-01 1.135771e-01 4.990893e-06 5.009600e-04 1.00000000\n",
       "67 SRBD1    3.379817e-02 1.000000e+00 3.392848e-02 5.410481e-05 1.00000000\n",
       "68 SRP14    7.116286e-02 4.574235e-01 1.184034e-05 4.219665e-10 1.00000000\n",
       "69 STAT3    9.503786e-01 1.369042e-05 8.048930e-01 3.138861e-01 0.57076545\n",
       "70 TEK      9.770316e-10 8.417016e-01 8.037934e-01 3.170794e-03 0.70277616\n",
       "71 TGM6     1.637426e-02 1.470754e-01 5.393403e-05 6.152772e-04 0.54088139\n",
       "72 TPSD1    9.930997e-01 6.097215e-02 4.950109e-06 5.242718e-08 1.00000000\n",
       "73 TTC4     3.850393e-02 9.053057e-01 8.518362e-05 5.696921e-03 1.00000000\n",
       "74 TUT1     9.200363e-01 9.331347e-01 2.522887e-04 5.215683e-05 1.00000000\n",
       "75 TXNRD1   4.025825e-01 1.240999e-02 1.250213e-03 5.876908e-05 0.09121889\n",
       "76 UGT2B17  6.269368e-01 8.780669e-01 1.551865e-07 2.911255e-07 0.73483788\n",
       "77 WSB2     5.411662e-01 9.431928e-01 2.323223e-05 2.026573e-06 0.22357311\n",
       "78 XYLT2    2.699032e-01 7.558927e-01 4.113363e-04 9.753761e-06 1.00000000\n",
       "79 ZNF223   5.981477e-01 1.000000e+00 9.414520e-05 6.833306e-03 0.67409173\n",
       "80 ZNF236   3.030953e-01 4.872072e-06 3.246728e-01 7.708002e-01 0.95230111\n",
       "81 ZNF407   3.975787e-01 1.033408e-06 3.083876e-01 7.021683e-01 1.00000000\n",
       "82 ZNF675   8.124295e-01 7.255183e-01 1.387378e-04 2.319164e-05 0.45095384\n",
       "83 ZRANB1   8.737161e-01 1.127140e-05 6.299318e-01 9.669016e-01 1.00000000\n",
       "84 ZYG11A   9.641258e-03 5.261761e-01 6.055585e-05 2.969425e-03 1.00000000\n",
       "   afr_mean_diff amr_mean_diff eas_mean_diff eur_mean_diff sas_mean_diff\n",
       "1  -0.013409333   0.0219651014 -0.032870455   0.031810393   0.040454712 \n",
       "2  -0.018784078  -0.2460395453 -0.005028698   0.016397610   0.001926937 \n",
       "3  -0.147688999  -0.1811022707 -0.046207095   0.079448564  -0.076158852 \n",
       "4   0.065334238  -0.8376455999  0.071713743  -0.074058027   0.070252934 \n",
       "5  -0.009448367   0.0356221501 -0.045197475   0.042714631   0.033353581 \n",
       "6  -0.024543386   0.0804197765 -0.079704723   0.077621608  -0.007011342 \n",
       "7   0.064926397  -0.0078898650 -0.004968188  -0.032872679  -0.100050763 \n",
       "8  -0.026503202  -0.0274902299  0.042385715  -0.033555982  -0.066873581 \n",
       "9   0.105076936  -0.0744837949  0.221512039  -0.227785494   0.192494991 \n",
       "10 -0.128071609   0.1309337625  0.132318357  -0.109215534   0.031341872 \n",
       "11  0.070958584  -0.0110440787 -0.018049226  -0.026666606   0.004315584 \n",
       "12 -0.006686608   0.0511805711  0.053351926  -0.049633975   0.005292056 \n",
       "13  0.100290507  -0.1040491361  0.125786953  -0.135698023   0.105486319 \n",
       "14  0.335801623  -0.0534150337 -0.068633223   0.005034024   0.208271351 \n",
       "15  0.066983849  -0.0044585884 -0.025415267  -0.010138126   0.032218883 \n",
       "16 -0.056968017  -0.0325429918  0.056325472  -0.043116859   0.034359890 \n",
       "17  0.029249272   0.0166592818 -0.047588114   0.037294954   0.091236998 \n",
       "18  0.031785270  -0.1227646514 -0.008643887   0.017782149   0.067948475 \n",
       "19 -0.094366963  -0.1353997918 -0.067089925   0.080221986   0.192969477 \n",
       "20  0.046807571  -0.0507275782 -0.212170969   0.191588142   0.008918673 \n",
       "21 -0.129996557  -0.0216040143  0.010619476   0.014152776  -0.076748652 \n",
       "22  0.056131670  -0.0000981992 -0.002093293  -0.016026810  -0.092261746 \n",
       "23  0.067241418   0.0211548024 -0.104268577   0.084473513   0.116194244 \n",
       "24  0.061578524   0.0175311816 -0.008672439  -0.016179847  -0.067447645 \n",
       "25  0.065066236   0.0167470426 -0.013521554  -0.014545151  -0.004670715 \n",
       "26  0.115943704  -0.0177349122 -0.009896715  -0.035751229   0.026961976 \n",
       "27  0.047509332  -0.0016974213  0.001658252  -0.019268191  -0.022954529 \n",
       "28  0.088666024   0.0211838139 -0.013755573  -0.023217964  -0.032753625 \n",
       "29  0.050260122   0.0024262675 -0.011357626  -0.007212490  -0.032493183 \n",
       "30  0.064195513   0.0192518458 -0.015147779  -0.017314102   0.038587188 \n",
       "⋮  ⋮             ⋮             ⋮             ⋮             ⋮            \n",
       "55  7.908571e-02 -0.2284342642 -0.072036680   0.054157433   0.161323683 \n",
       "56  2.461848e-02 -0.2605932207  0.017220414  -0.011530894   0.016128273 \n",
       "57 -3.182704e-03 -0.0076932872  0.039919402  -0.034442052  -0.082006623 \n",
       "58 -8.951981e-02 -0.1876296529 -0.075503889   0.087629540  -0.008402362 \n",
       "59  2.053134e-01 -0.0474952773  0.029579969  -0.065994074   0.046198292 \n",
       "60 -9.822443e-02  0.0567110825 -0.114880651   0.121153281  -0.042995101 \n",
       "61 -1.845602e-02  0.0260470265  0.137996087  -0.127678195   0.080555900 \n",
       "62 -9.166598e-03 -0.1464291839 -0.144824119   0.140290564   0.062162602 \n",
       "63  2.370114e-02  0.0068987857 -0.035794964   0.030409349  -0.011979399 \n",
       "64  6.451396e-03  0.0731295928 -0.030653500   0.026776638  -0.054118099 \n",
       "65  3.559613e-02  0.0264164112 -0.203595740   0.180648288   0.245891533 \n",
       "66 -2.523329e-02  0.0313195815  0.037536097  -0.033650454  -0.015864354 \n",
       "67 -1.203301e-01  0.0707298946 -0.072423809   0.085175374   0.201813949 \n",
       "68 -1.097183e-01 -0.1776010255 -0.165588690   0.179795348  -0.148908524 \n",
       "69  2.063158e-05 -0.3743889201 -0.017876009   0.027626385  -0.028725440 \n",
       "70  7.339506e-02  0.0079153218 -0.002773913  -0.023588120   0.015078507 \n",
       "71  3.950144e-02 -0.0564927124 -0.030153449   0.024366855  -0.020948212 \n",
       "72 -1.635524e-03  0.0525774896  0.040574345  -0.041800300   0.149162229 \n",
       "73 -9.583983e-02 -0.0001706838  0.092332029  -0.068764892  -0.048722808 \n",
       "74 -2.430602e-02  0.0364289371 -0.148272973   0.142367552   0.064401477 \n",
       "75  5.057325e-02  0.3707963070  0.122247568  -0.129027942  -0.328444379 \n",
       "76 -7.356555e-03  0.0072441775  0.058485956  -0.053175094  -0.008600155 \n",
       "77  1.689186e-02 -0.0317591554  0.075229992  -0.074417114   0.106182651 \n",
       "78 -4.998359e-02  0.0443403866 -0.064780977   0.067053583   0.065525451 \n",
       "79  3.197633e-03 -0.0691965930 -0.030255593   0.028136884   0.035744215 \n",
       "80  3.113824e-02 -0.1329088312  0.021001263   0.010701178  -0.050086544 \n",
       "81 -4.782992e-02 -0.1986559140  0.051869936   0.016288444  -0.022459987 \n",
       "82 -5.333556e-03  0.0092472738 -0.030862428   0.029605255  -0.012407542 \n",
       "83 -2.901994e-03 -0.1935862506  0.008747735  -0.001510342   0.122661012 \n",
       "84  4.157027e-02 -0.0183021996 -0.032676574   0.024180092   0.038489461 \n",
       "   afr_fdr      amr_fdr      eas_fdr      eur_fdr      sas_fdr\n",
       "1  9.998078e-01 1.0000000000 5.673820e-02 3.530245e-02 1      \n",
       "2  9.998078e-01 0.0004944464 9.640037e-01 7.422146e-01 1      \n",
       "3  4.784503e-01 1.0000000000 5.301130e-01 1.310246e-02 1      \n",
       "4  9.998078e-01 1.0000000000 2.945517e-02 3.194349e-01 1      \n",
       "5  9.998078e-01 1.0000000000 1.332593e-02 1.191301e-02 1      \n",
       "6  9.998078e-01 1.0000000000 1.256355e-03 1.449844e-05 1      \n",
       "7  1.957885e-02 1.0000000000 9.977479e-01 1.161740e-01 1      \n",
       "8  9.998078e-01 1.0000000000 3.232727e-02 4.050863e-02 1      \n",
       "9  9.998078e-01 1.0000000000 1.473095e-14 1.128760e-18 1      \n",
       "10 9.998078e-01 1.0000000000 5.183545e-03 3.878890e-03 1      \n",
       "11 3.031564e-08 1.0000000000 8.930656e-01 1.368756e-01 1      \n",
       "12 9.999866e-01 1.0000000000 6.953612e-02 3.766118e-02 1      \n",
       "13 9.998078e-01 1.0000000000 3.298183e-03 8.386030e-04 1      \n",
       "14 6.563448e-05 1.0000000000 6.304740e-01 9.813689e-01 1      \n",
       "15 2.292449e-05 1.0000000000 4.377773e-01 8.712313e-01 1      \n",
       "16 9.998078e-01 1.0000000000 1.082924e-01 2.953589e-02 1      \n",
       "17 9.998078e-01 1.0000000000 1.411919e-03 8.410822e-03 1      \n",
       "18 9.998078e-01 0.0229502328 8.051924e-01 8.920741e-01 1      \n",
       "19 9.998078e-01 1.0000000000 5.035259e-01 4.304035e-02 1      \n",
       "20 9.998078e-01 1.0000000000 1.174309e-02 2.953589e-02 1      \n",
       "21 3.192451e-02 1.0000000000 9.050761e-01 7.433071e-01 1      \n",
       "22 1.957885e-02 1.0000000000 9.660755e-01 6.035379e-01 1      \n",
       "23 9.998078e-01 1.0000000000 1.332189e-03 2.153570e-01 1      \n",
       "24 9.334428e-04 1.0000000000 8.917817e-01 6.834385e-01 1      \n",
       "25 4.882993e-05 1.0000000000 8.072886e-01 5.826043e-01 1      \n",
       "26 6.871884e-07 1.0000000000 9.231909e-01 1.872632e-01 1      \n",
       "27 2.309013e-03 1.0000000000 9.869088e-01 3.406316e-01 1      \n",
       "28 1.337966e-05 1.0000000000 9.406323e-01 6.038235e-01 1      \n",
       "29 3.733440e-04 1.0000000000 7.744939e-01 8.522606e-01 1      \n",
       "30 2.221291e-05 1.0000000000 5.035259e-01 4.880097e-01 1      \n",
       "⋮  ⋮            ⋮            ⋮            ⋮            ⋮      \n",
       "55 5.767028e-01 1.0000000000 6.237551e-05 4.257819e-03 1      \n",
       "56 9.998078e-01 0.0000190681 6.228982e-01 8.862942e-01 1      \n",
       "57 9.998078e-01 1.0000000000 4.812255e-05 3.433819e-03 1      \n",
       "58 9.998078e-01 1.0000000000 3.885024e-01 9.541772e-03 1      \n",
       "59 1.543039e-02 1.0000000000 7.895342e-01 4.645394e-02 1      \n",
       "60 9.998078e-01 1.0000000000 1.021111e-01 7.114745e-03 1      \n",
       "61 9.998078e-01 1.0000000000 1.706976e-04 2.202468e-05 1      \n",
       "62 9.998078e-01 1.0000000000 8.272627e-04 3.433819e-03 1      \n",
       "63 9.998078e-01 1.0000000000 1.332593e-02 2.191190e-01 1      \n",
       "64 9.998078e-01 1.0000000000 8.272627e-04 8.359033e-02 1      \n",
       "65 9.998078e-01 1.0000000000 1.332593e-02 3.878890e-03 1      \n",
       "66 9.998078e-01 1.0000000000 4.542822e-03 1.172533e-01 1      \n",
       "67 9.998078e-01 1.0000000000 5.095180e-01 2.953589e-02 1      \n",
       "68 9.998078e-01 1.0000000000 9.237717e-03 3.456750e-06 1      \n",
       "69 9.998078e-01 0.0280379836 9.711335e-01 8.795599e-01 1      \n",
       "70 5.335895e-06 1.0000000000 9.708353e-01 2.902250e-01 1      \n",
       "71 9.998078e-01 1.0000000000 2.945517e-02 1.344094e-01 1      \n",
       "72 9.999866e-01 1.0000000000 4.542822e-03 1.431611e-04 1      \n",
       "73 9.998078e-01 1.0000000000 3.876801e-02 3.467533e-01 1      \n",
       "74 9.998078e-01 1.0000000000 8.104899e-02 2.953589e-02 1      \n",
       "75 9.998078e-01 1.0000000000 1.625674e-01 2.953589e-02 1      \n",
       "76 9.998078e-01 1.0000000000 4.237627e-04 5.962250e-04 1      \n",
       "77 9.998078e-01 1.0000000000 1.463988e-02 3.320338e-03 1      \n",
       "78 9.998078e-01 1.0000000000 1.021111e-01 8.410822e-03 1      \n",
       "79 9.998078e-01 1.0000000000 4.168851e-02 3.643221e-01 1      \n",
       "80 9.998078e-01 0.0159648061 8.314794e-01 9.801261e-01 1      \n",
       "81 9.998078e-01 0.0056437834 8.292308e-01 9.718793e-01 1      \n",
       "82 9.998078e-01 1.0000000000 5.673820e-02 1.519887e-02 1      \n",
       "83 9.998078e-01 0.0263815175 9.362954e-01 9.976281e-01 1      \n",
       "84 9.327901e-01 1.0000000000 3.200475e-02 2.812200e-01 1      "
      ]
     },
     "metadata": {},
     "output_type": "display_data"
    }
   ],
   "source": [
    "#Calculate the number of significant associations\n",
    "pval.df.22q1 %>% \n",
    "filter(afr_fdr < 0.05 | amr_fdr < 0.05 | eas_fdr < 0.05 | eur_fdr < 0.05 | sas_fdr < 0.05)"
   ]
  },
  {
   "cell_type": "code",
   "execution_count": 53,
   "metadata": {},
   "outputs": [],
   "source": [
    "#Read the files back in (if necessary)\n",
    "setwd('/home/jupyter/Ancestry/analysis/nature_genetics_reviews/reviewer_4')\n",
    "pval.df.22q1 = read.table(\"ancestry_associated_pval_lineage_correction_22q1.txt\", sep = \"\\t\", header = T)\n",
    "pval.df.22q2 = read.table(\"ancestry_associated_pval_lineage_correction_22q2.txt\", sep = \"\\t\", header = T)"
   ]
  },
  {
   "cell_type": "code",
   "execution_count": 54,
   "metadata": {},
   "outputs": [
    {
     "data": {
      "text/html": [
       "<table class=\"dataframe\">\n",
       "<caption>A rowwise_df: 6 × 3</caption>\n",
       "<thead>\n",
       "\t<tr><th scope=col>gene</th><th scope=col>min_fdr_22q1</th><th scope=col>min_fdr_22q2</th></tr>\n",
       "\t<tr><th scope=col>&lt;chr&gt;</th><th scope=col>&lt;dbl&gt;</th><th scope=col>&lt;dbl&gt;</th></tr>\n",
       "</thead>\n",
       "<tbody>\n",
       "\t<tr><td>A1BG   </td><td>0.7840050</td><td>0.8212421</td></tr>\n",
       "\t<tr><td>A1CF   </td><td>0.3012055</td><td>0.3290478</td></tr>\n",
       "\t<tr><td>A2M    </td><td>0.7508653</td><td>0.7381969</td></tr>\n",
       "\t<tr><td>A2ML1  </td><td>0.7045613</td><td>0.6767793</td></tr>\n",
       "\t<tr><td>A3GALT2</td><td>0.6228982</td><td>0.6651930</td></tr>\n",
       "\t<tr><td>A4GALT </td><td>0.8145870</td><td>0.8059326</td></tr>\n",
       "</tbody>\n",
       "</table>\n"
      ],
      "text/latex": [
       "A rowwise\\_df: 6 × 3\n",
       "\\begin{tabular}{lll}\n",
       " gene & min\\_fdr\\_22q1 & min\\_fdr\\_22q2\\\\\n",
       " <chr> & <dbl> & <dbl>\\\\\n",
       "\\hline\n",
       "\t A1BG    & 0.7840050 & 0.8212421\\\\\n",
       "\t A1CF    & 0.3012055 & 0.3290478\\\\\n",
       "\t A2M     & 0.7508653 & 0.7381969\\\\\n",
       "\t A2ML1   & 0.7045613 & 0.6767793\\\\\n",
       "\t A3GALT2 & 0.6228982 & 0.6651930\\\\\n",
       "\t A4GALT  & 0.8145870 & 0.8059326\\\\\n",
       "\\end{tabular}\n"
      ],
      "text/markdown": [
       "\n",
       "A rowwise_df: 6 × 3\n",
       "\n",
       "| gene &lt;chr&gt; | min_fdr_22q1 &lt;dbl&gt; | min_fdr_22q2 &lt;dbl&gt; |\n",
       "|---|---|---|\n",
       "| A1BG    | 0.7840050 | 0.8212421 |\n",
       "| A1CF    | 0.3012055 | 0.3290478 |\n",
       "| A2M     | 0.7508653 | 0.7381969 |\n",
       "| A2ML1   | 0.7045613 | 0.6767793 |\n",
       "| A3GALT2 | 0.6228982 | 0.6651930 |\n",
       "| A4GALT  | 0.8145870 | 0.8059326 |\n",
       "\n"
      ],
      "text/plain": [
       "  gene    min_fdr_22q1 min_fdr_22q2\n",
       "1 A1BG    0.7840050    0.8212421   \n",
       "2 A1CF    0.3012055    0.3290478   \n",
       "3 A2M     0.7508653    0.7381969   \n",
       "4 A2ML1   0.7045613    0.6767793   \n",
       "5 A3GALT2 0.6228982    0.6651930   \n",
       "6 A4GALT  0.8145870    0.8059326   "
      ]
     },
     "metadata": {},
     "output_type": "display_data"
    }
   ],
   "source": [
    "#Make the correlation plot for Figure 4\n",
    "#Make this plot with only the minimal fdr for each gene\n",
    "\n",
    "#Calculate the min fdr for 22q1\n",
    "minimum.fdr.22q1 = pval.df.22q1 %>%\n",
    "rowwise() %>%\n",
    "mutate(\"min_fdr\" = min(c_across(afr_fdr:sas_fdr))) %>%\n",
    "select(gene, min_fdr) %>%\n",
    "rename(\"min_fdr_22q1\" = min_fdr)\n",
    "\n",
    "#Calculate the min fdr for 22q2\n",
    "minimum.fdr.22q2 = pval.df.22q2 %>%\n",
    "rowwise() %>%\n",
    "mutate(\"min_fdr\" = min(c_across(afr_fdr:sas_fdr))) %>%\n",
    "select(gene, min_fdr) %>%\n",
    "rename(\"min_fdr_22q2\" = min_fdr)\n",
    "\n",
    "#Bind the two datasets together\n",
    "min.fdr.both.datasets = inner_join(minimum.fdr.22q1, minimum.fdr.22q2, by = \"gene\")\n",
    "\n",
    "min.fdr.both.datasets %>% head()"
   ]
  },
  {
   "cell_type": "code",
   "execution_count": 56,
   "metadata": {},
   "outputs": [
    {
     "data": {
      "image/png": "[encoded data removed]",
      "text/plain": [
       "plot without title"
      ]
     },
     "metadata": {
      "image/png": {
       "height": 420,
       "width": 420
      }
     },
     "output_type": "display_data"
    }
   ],
   "source": [
    "#Make the scatterplot\n",
    "min.fdr.both.datasets %>%\n",
    "mutate(\"sig_flag\" = ifelse(min_fdr_22q1 < 0.05 & min_fdr_22q2 < 0.05, TRUE, FALSE)) %>%\n",
    "ggplot(aes(x = -log10(min_fdr_22q1), y = -log10(min_fdr_22q2), color = sig_flag)) +\n",
    "geom_point() +\n",
    "\n",
    "scale_color_manual(values = c(\"black\", \"firebrick4\")) +\n",
    "\n",
    "geom_hline(yintercept = 1.301, linetype = 2) +\n",
    "geom_vline(xintercept = 1.301, linetype = 2) +\n",
    "\n",
    "theme_bw() +\n",
    "\n",
    "theme(\n",
    "panel.grid.major = element_blank(),\n",
    "panel.grid.minor = element_blank(), \n",
    "axis.line = element_line(color = \"black\")\n",
    ") +\n",
    "\n",
    "theme(\n",
    "axis.title.x = element_text(size = 7),\n",
    "axis.title.y = element_text(size = 7)\n",
    ") +\n",
    "\n",
    "theme(\n",
    "axis.text=element_text(size = 7),\n",
    "axis.title=element_text(size = 7)\n",
    ") +\n",
    "\n",
    "\n",
    "ylab(\"Post-correction ancestry association (FDR)\") +\n",
    "xlab(\"Pre-correction ancestry association (FDR)\")\n",
    "\n",
    "\n",
    "#Export it to the google bucket\n",
    "setwd('/home/jupyter/Ancestry/analysis/nature_genetics_reviews/reviewer_4')\n",
    "ggsave(\"r4c1_pre_post_lineage_correction.pdf\", width = 5, height = 4)\n",
    "system(glue::glue(\"\n",
    "cd /home/jupyter/Ancestry/analysis/nature_genetics_reviews/reviewer_4\n",
    "gsutil cp r4c1_pre_post_lineage_correction.pdf gs://fc-45c0e148-0b1c-4244-9bfc-feb559bbc514\n",
    "\"))\n",
    "\n",
    "\n"
   ]
  },
  {
   "cell_type": "code",
   "execution_count": 64,
   "metadata": {},
   "outputs": [
    {
     "data": {
      "text/html": [
       "84"
      ],
      "text/latex": [
       "84"
      ],
      "text/markdown": [
       "84"
      ],
      "text/plain": [
       "[1] 84"
      ]
     },
     "metadata": {},
     "output_type": "display_data"
    }
   ],
   "source": [
    "#Count some stuff\n",
    "min.fdr.both.datasets %>%\n",
    "filter(min_fdr_22q1 < 0.05) %>%\n",
    "pull(gene) %>%\n",
    "unique() %>%\n",
    "length()\n",
    "\n"
   ]
  },
  {
   "cell_type": "code",
   "execution_count": 65,
   "metadata": {},
   "outputs": [
    {
     "data": {
      "text/html": [
       "<table class=\"dataframe\">\n",
       "<caption>A rowwise_df: 6 × 3</caption>\n",
       "<thead>\n",
       "\t<tr><th scope=col>gene</th><th scope=col>min_fdr_22q1</th><th scope=col>min_fdr_22q2</th></tr>\n",
       "\t<tr><th scope=col>&lt;chr&gt;</th><th scope=col>&lt;dbl&gt;</th><th scope=col>&lt;dbl&gt;</th></tr>\n",
       "</thead>\n",
       "<tbody>\n",
       "\t<tr><td>A1BG   </td><td>0.7840050</td><td>0.8212421</td></tr>\n",
       "\t<tr><td>A1CF   </td><td>0.3012055</td><td>0.3290478</td></tr>\n",
       "\t<tr><td>A2M    </td><td>0.7508653</td><td>0.7381969</td></tr>\n",
       "\t<tr><td>A2ML1  </td><td>0.7045613</td><td>0.6767793</td></tr>\n",
       "\t<tr><td>A3GALT2</td><td>0.6228982</td><td>0.6651930</td></tr>\n",
       "\t<tr><td>A4GALT </td><td>0.8145870</td><td>0.8059326</td></tr>\n",
       "</tbody>\n",
       "</table>\n"
      ],
      "text/latex": [
       "A rowwise\\_df: 6 × 3\n",
       "\\begin{tabular}{lll}\n",
       " gene & min\\_fdr\\_22q1 & min\\_fdr\\_22q2\\\\\n",
       " <chr> & <dbl> & <dbl>\\\\\n",
       "\\hline\n",
       "\t A1BG    & 0.7840050 & 0.8212421\\\\\n",
       "\t A1CF    & 0.3012055 & 0.3290478\\\\\n",
       "\t A2M     & 0.7508653 & 0.7381969\\\\\n",
       "\t A2ML1   & 0.7045613 & 0.6767793\\\\\n",
       "\t A3GALT2 & 0.6228982 & 0.6651930\\\\\n",
       "\t A4GALT  & 0.8145870 & 0.8059326\\\\\n",
       "\\end{tabular}\n"
      ],
      "text/markdown": [
       "\n",
       "A rowwise_df: 6 × 3\n",
       "\n",
       "| gene &lt;chr&gt; | min_fdr_22q1 &lt;dbl&gt; | min_fdr_22q2 &lt;dbl&gt; |\n",
       "|---|---|---|\n",
       "| A1BG    | 0.7840050 | 0.8212421 |\n",
       "| A1CF    | 0.3012055 | 0.3290478 |\n",
       "| A2M     | 0.7508653 | 0.7381969 |\n",
       "| A2ML1   | 0.7045613 | 0.6767793 |\n",
       "| A3GALT2 | 0.6228982 | 0.6651930 |\n",
       "| A4GALT  | 0.8145870 | 0.8059326 |\n",
       "\n"
      ],
      "text/plain": [
       "  gene    min_fdr_22q1 min_fdr_22q2\n",
       "1 A1BG    0.7840050    0.8212421   \n",
       "2 A1CF    0.3012055    0.3290478   \n",
       "3 A2M     0.7508653    0.7381969   \n",
       "4 A2ML1   0.7045613    0.6767793   \n",
       "5 A3GALT2 0.6228982    0.6651930   \n",
       "6 A4GALT  0.8145870    0.8059326   "
      ]
     },
     "metadata": {},
     "output_type": "display_data"
    }
   ],
   "source": [
    "min.fdr.both.datasets %>% head()"
   ]
  },
  {
   "cell_type": "markdown",
   "metadata": {
    "heading_collapsed": true
   },
   "source": [
    "# Comment 2"
   ]
  },
  {
   "cell_type": "code",
   "execution_count": 92,
   "metadata": {
    "code_folding": [
     0
    ],
    "collapsed": true,
    "hidden": true
   },
   "outputs": [
    {
     "name": "stdout",
     "output_type": "stream",
     "text": [
      "Fetching https://cds.team/taiga/api/dataset/public-22q1-305b/24 \n",
      "Status 200 \n"
     ]
    },
    {
     "name": "stderr",
     "output_type": "stream",
     "text": [
      "No encoding supplied: defaulting to UTF-8.\n",
      "\n"
     ]
    },
    {
     "name": "stdout",
     "output_type": "stream",
     "text": [
      "loading cached data version from  /home/jupyter/.taiga/public-22q1-305b_24.toc \n"
     ]
    },
    {
     "name": "stderr",
     "output_type": "stream",
     "text": [
      "Loading from cached file /home/jupyter/.taiga/90832e86cae84f918423ad1d83fa4222_crispr-gene-effect.rds\n",
      "\n"
     ]
    }
   ],
   "source": [
    "#Load in the CRISPR screening data\n",
    "\n",
    "#for 22q1\n",
    "chronos.22q1 = load.from.taiga(data.name='public-22q1-305b', data.version=24, data.file='CRISPR_gene_effect') %>%\n",
    "data.frame(check.names = FALSE) %>%\n",
    "rownames_to_column(\"sample\")\n",
    "colnames(chronos.22q1) = word(colnames(chronos.22q1), 1)\n",
    "\n",
    "#and 22q2\n",
    "chronos.22q2 = load.from.taiga(data.name='public-22q2-de04', data.version=14, data.file='CRISPR_gene_effect') %>%\n",
    "data.frame(check.names = FALSE) %>%\n",
    "rownames_to_column(\"sample\")\n",
    "colnames(chronos.22q2) = word(colnames(chronos.22q2), 1)\n"
   ]
  },
  {
   "cell_type": "code",
   "execution_count": 93,
   "metadata": {
    "code_folding": [
     0
    ],
    "collapsed": true,
    "hidden": true
   },
   "outputs": [
    {
     "data": {
      "text/html": [
       "<table class=\"dataframe\">\n",
       "<caption>A data.frame: 6 × 26686</caption>\n",
       "<thead>\n",
       "\t<tr><th></th><th scope=col>sample</th><th scope=col>TGIF1</th><th scope=col>PRDX6</th><th scope=col>CIC</th><th scope=col>PLEC</th><th scope=col>MPP2</th><th scope=col>CFTR</th><th scope=col>C1QB</th><th scope=col>ELN</th><th scope=col>SEPTIN12</th><th scope=col>⋯</th><th scope=col>GTF2H2C</th><th scope=col>TTC31</th><th scope=col>PDE8B</th><th scope=col>CHD1</th><th scope=col>PAK1</th><th scope=col>LOC284898</th><th scope=col>PRKD3</th><th scope=col>MLC1</th><th scope=col>ZBTB41</th><th scope=col>TMEM181</th></tr>\n",
       "\t<tr><th></th><th scope=col>&lt;chr&gt;</th><th scope=col>&lt;int&gt;</th><th scope=col>&lt;int&gt;</th><th scope=col>&lt;int&gt;</th><th scope=col>&lt;int&gt;</th><th scope=col>&lt;int&gt;</th><th scope=col>&lt;int&gt;</th><th scope=col>&lt;int&gt;</th><th scope=col>&lt;int&gt;</th><th scope=col>&lt;int&gt;</th><th scope=col>⋯</th><th scope=col>&lt;int&gt;</th><th scope=col>&lt;int&gt;</th><th scope=col>&lt;int&gt;</th><th scope=col>&lt;int&gt;</th><th scope=col>&lt;int&gt;</th><th scope=col>&lt;int&gt;</th><th scope=col>&lt;int&gt;</th><th scope=col>&lt;int&gt;</th><th scope=col>&lt;int&gt;</th><th scope=col>&lt;int&gt;</th></tr>\n",
       "</thead>\n",
       "<tbody>\n",
       "\t<tr><th scope=row>1</th><td>ACH-000657</td><td>0</td><td>0</td><td>0</td><td>0</td><td>0</td><td>0</td><td>0</td><td>0</td><td>0</td><td>⋯</td><td>0</td><td>0</td><td>0</td><td>0</td><td>0</td><td>0</td><td>0</td><td>0</td><td>0</td><td>0</td></tr>\n",
       "\t<tr><th scope=row>2</th><td>ACH-000617</td><td>3</td><td>3</td><td>3</td><td>3</td><td>3</td><td>3</td><td>3</td><td>3</td><td>3</td><td>⋯</td><td>3</td><td>3</td><td>3</td><td>3</td><td>3</td><td>3</td><td>3</td><td>3</td><td>0</td><td>3</td></tr>\n",
       "\t<tr><th scope=row>3</th><td>ACH-000685</td><td>0</td><td>0</td><td>3</td><td>0</td><td>0</td><td>0</td><td>0</td><td>0</td><td>3</td><td>⋯</td><td>0</td><td>0</td><td>0</td><td>0</td><td>0</td><td>0</td><td>0</td><td>3</td><td>0</td><td>2</td></tr>\n",
       "\t<tr><th scope=row>4</th><td>ACH-000632</td><td>3</td><td>3</td><td>3</td><td>3</td><td>3</td><td>3</td><td>3</td><td>3</td><td>3</td><td>⋯</td><td>3</td><td>3</td><td>3</td><td>3</td><td>3</td><td>3</td><td>3</td><td>3</td><td>3</td><td>3</td></tr>\n",
       "\t<tr><th scope=row>5</th><td>ACH-000171</td><td>3</td><td>3</td><td>3</td><td>3</td><td>3</td><td>3</td><td>3</td><td>3</td><td>3</td><td>⋯</td><td>3</td><td>3</td><td>3</td><td>3</td><td>3</td><td>3</td><td>3</td><td>3</td><td>3</td><td>3</td></tr>\n",
       "\t<tr><th scope=row>6</th><td>ACH-000863</td><td>3</td><td>3</td><td>3</td><td>3</td><td>3</td><td>3</td><td>3</td><td>3</td><td>3</td><td>⋯</td><td>3</td><td>3</td><td>3</td><td>3</td><td>3</td><td>3</td><td>3</td><td>3</td><td>3</td><td>3</td></tr>\n",
       "</tbody>\n",
       "</table>\n"
      ],
      "text/latex": [
       "A data.frame: 6 × 26686\n",
       "\\begin{tabular}{r|lllllllllllllllllllll}\n",
       "  & sample & TGIF1 & PRDX6 & CIC & PLEC & MPP2 & CFTR & C1QB & ELN & SEPTIN12 & ⋯ & GTF2H2C & TTC31 & PDE8B & CHD1 & PAK1 & LOC284898 & PRKD3 & MLC1 & ZBTB41 & TMEM181\\\\\n",
       "  & <chr> & <int> & <int> & <int> & <int> & <int> & <int> & <int> & <int> & <int> & ⋯ & <int> & <int> & <int> & <int> & <int> & <int> & <int> & <int> & <int> & <int>\\\\\n",
       "\\hline\n",
       "\t1 & ACH-000657 & 0 & 0 & 0 & 0 & 0 & 0 & 0 & 0 & 0 & ⋯ & 0 & 0 & 0 & 0 & 0 & 0 & 0 & 0 & 0 & 0\\\\\n",
       "\t2 & ACH-000617 & 3 & 3 & 3 & 3 & 3 & 3 & 3 & 3 & 3 & ⋯ & 3 & 3 & 3 & 3 & 3 & 3 & 3 & 3 & 0 & 3\\\\\n",
       "\t3 & ACH-000685 & 0 & 0 & 3 & 0 & 0 & 0 & 0 & 0 & 3 & ⋯ & 0 & 0 & 0 & 0 & 0 & 0 & 0 & 3 & 0 & 2\\\\\n",
       "\t4 & ACH-000632 & 3 & 3 & 3 & 3 & 3 & 3 & 3 & 3 & 3 & ⋯ & 3 & 3 & 3 & 3 & 3 & 3 & 3 & 3 & 3 & 3\\\\\n",
       "\t5 & ACH-000171 & 3 & 3 & 3 & 3 & 3 & 3 & 3 & 3 & 3 & ⋯ & 3 & 3 & 3 & 3 & 3 & 3 & 3 & 3 & 3 & 3\\\\\n",
       "\t6 & ACH-000863 & 3 & 3 & 3 & 3 & 3 & 3 & 3 & 3 & 3 & ⋯ & 3 & 3 & 3 & 3 & 3 & 3 & 3 & 3 & 3 & 3\\\\\n",
       "\\end{tabular}\n"
      ],
      "text/markdown": [
       "\n",
       "A data.frame: 6 × 26686\n",
       "\n",
       "| <!--/--> | sample &lt;chr&gt; | TGIF1 &lt;int&gt; | PRDX6 &lt;int&gt; | CIC &lt;int&gt; | PLEC &lt;int&gt; | MPP2 &lt;int&gt; | CFTR &lt;int&gt; | C1QB &lt;int&gt; | ELN &lt;int&gt; | SEPTIN12 &lt;int&gt; | ⋯ ⋯ | GTF2H2C &lt;int&gt; | TTC31 &lt;int&gt; | PDE8B &lt;int&gt; | CHD1 &lt;int&gt; | PAK1 &lt;int&gt; | LOC284898 &lt;int&gt; | PRKD3 &lt;int&gt; | MLC1 &lt;int&gt; | ZBTB41 &lt;int&gt; | TMEM181 &lt;int&gt; |\n",
       "|---|---|---|---|---|---|---|---|---|---|---|---|---|---|---|---|---|---|---|---|---|---|\n",
       "| 1 | ACH-000657 | 0 | 0 | 0 | 0 | 0 | 0 | 0 | 0 | 0 | ⋯ | 0 | 0 | 0 | 0 | 0 | 0 | 0 | 0 | 0 | 0 |\n",
       "| 2 | ACH-000617 | 3 | 3 | 3 | 3 | 3 | 3 | 3 | 3 | 3 | ⋯ | 3 | 3 | 3 | 3 | 3 | 3 | 3 | 3 | 0 | 3 |\n",
       "| 3 | ACH-000685 | 0 | 0 | 3 | 0 | 0 | 0 | 0 | 0 | 3 | ⋯ | 0 | 0 | 0 | 0 | 0 | 0 | 0 | 3 | 0 | 2 |\n",
       "| 4 | ACH-000632 | 3 | 3 | 3 | 3 | 3 | 3 | 3 | 3 | 3 | ⋯ | 3 | 3 | 3 | 3 | 3 | 3 | 3 | 3 | 3 | 3 |\n",
       "| 5 | ACH-000171 | 3 | 3 | 3 | 3 | 3 | 3 | 3 | 3 | 3 | ⋯ | 3 | 3 | 3 | 3 | 3 | 3 | 3 | 3 | 3 | 3 |\n",
       "| 6 | ACH-000863 | 3 | 3 | 3 | 3 | 3 | 3 | 3 | 3 | 3 | ⋯ | 3 | 3 | 3 | 3 | 3 | 3 | 3 | 3 | 3 | 3 |\n",
       "\n"
      ],
      "text/plain": [
       "  sample     TGIF1 PRDX6 CIC PLEC MPP2 CFTR C1QB ELN SEPTIN12 ⋯ GTF2H2C TTC31\n",
       "1 ACH-000657 0     0     0   0    0    0    0    0   0        ⋯ 0       0    \n",
       "2 ACH-000617 3     3     3   3    3    3    3    3   3        ⋯ 3       3    \n",
       "3 ACH-000685 0     0     3   0    0    0    0    0   3        ⋯ 0       0    \n",
       "4 ACH-000632 3     3     3   3    3    3    3    3   3        ⋯ 3       3    \n",
       "5 ACH-000171 3     3     3   3    3    3    3    3   3        ⋯ 3       3    \n",
       "6 ACH-000863 3     3     3   3    3    3    3    3   3        ⋯ 3       3    \n",
       "  PDE8B CHD1 PAK1 LOC284898 PRKD3 MLC1 ZBTB41 TMEM181\n",
       "1 0     0    0    0         0     0    0      0      \n",
       "2 3     3    3    3         3     3    0      3      \n",
       "3 0     0    0    0         0     3    0      2      \n",
       "4 3     3    3    3         3     3    3      3      \n",
       "5 3     3    3    3         3     3    3      3      \n",
       "6 3     3    3    3         3     3    3      3      "
      ]
     },
     "metadata": {},
     "output_type": "display_data"
    }
   ],
   "source": [
    "#Load in the gene block matrix that lists the ancestry for all genes and for all cell lines\n",
    "setwd(\"/home/jupyter/Ancestry/analysis/locus_specific_associations\")\n",
    "gene.block.matrix = read.table(\"gene.block.matrix.txt\", sep = \"\\t\", header = T)\n",
    "row.names(gene.block.matrix) = NULL\n",
    "\n",
    "#Format gene.block.matrix so that it is ready for our analysis\n",
    "formatted.gene.block.matrix = gene.block.matrix %>%\n",
    "column_to_rownames(var = \"gene\") %>%\n",
    "select(-block_id, -X.chm, -spos, -epos) %>%\n",
    "t() %>%\n",
    "data.frame() %>%\n",
    "rownames_to_column() %>%\n",
    "rename(\"sample\" = 1) %>%\n",
    "mutate(sample = gsub(\"ACH.000\", \"ACH-000\", sample)) %>%\n",
    "mutate(sample = gsub(\"\\\\.1\", \"\", sample))\n",
    "\n",
    "\n",
    "head(formatted.gene.block.matrix)"
   ]
  },
  {
   "cell_type": "code",
   "execution_count": 94,
   "metadata": {
    "code_folding": [
     0
    ],
    "collapsed": true,
    "hidden": true
   },
   "outputs": [
    {
     "data": {
      "text/html": [
       "<table class=\"dataframe\">\n",
       "<caption>A data.frame: 6 × 16385</caption>\n",
       "<thead>\n",
       "\t<tr><th></th><th scope=col>sample</th><th scope=col>A1BG</th><th scope=col>A1CF</th><th scope=col>A2M</th><th scope=col>A2ML1</th><th scope=col>A3GALT2</th><th scope=col>A4GALT</th><th scope=col>A4GNT</th><th scope=col>AAAS</th><th scope=col>AACS</th><th scope=col>⋯</th><th scope=col>ZUP1</th><th scope=col>ZW10</th><th scope=col>ZWILCH</th><th scope=col>ZWINT</th><th scope=col>ZXDC</th><th scope=col>ZYG11A</th><th scope=col>ZYG11B</th><th scope=col>ZYX</th><th scope=col>ZZEF1</th><th scope=col>ZZZ3</th></tr>\n",
       "\t<tr><th></th><th scope=col>&lt;chr&gt;</th><th scope=col>&lt;dbl&gt;</th><th scope=col>&lt;dbl&gt;</th><th scope=col>&lt;dbl&gt;</th><th scope=col>&lt;dbl&gt;</th><th scope=col>&lt;dbl&gt;</th><th scope=col>&lt;dbl&gt;</th><th scope=col>&lt;dbl&gt;</th><th scope=col>&lt;dbl&gt;</th><th scope=col>&lt;dbl&gt;</th><th scope=col>⋯</th><th scope=col>&lt;dbl&gt;</th><th scope=col>&lt;dbl&gt;</th><th scope=col>&lt;dbl&gt;</th><th scope=col>&lt;dbl&gt;</th><th scope=col>&lt;dbl&gt;</th><th scope=col>&lt;dbl&gt;</th><th scope=col>&lt;dbl&gt;</th><th scope=col>&lt;dbl&gt;</th><th scope=col>&lt;dbl&gt;</th><th scope=col>&lt;dbl&gt;</th></tr>\n",
       "</thead>\n",
       "<tbody>\n",
       "\t<tr><th scope=row>1</th><td>ACH-000001</td><td>-0.13022665</td><td> 0.04367100</td><td>-0.01067785</td><td>-0.003038938</td><td>-0.10651800</td><td>-0.01895532</td><td> 0.01761511</td><td>-0.2805246</td><td> 0.011350472</td><td>⋯</td><td>-0.016751717</td><td>-0.4675348</td><td>-0.05643839</td><td>-0.1176586</td><td> 0.14350973</td><td>-0.10492678</td><td> 0.06582083</td><td> 0.161843495</td><td> 0.05662022</td><td>-0.31553541</td></tr>\n",
       "\t<tr><th scope=row>2</th><td>ACH-000004</td><td> 0.08567935</td><td>-0.06229549</td><td>-0.11627584</td><td>-0.049394700</td><td> 0.06851031</td><td>-0.13422925</td><td> 0.15372455</td><td>-0.2020006</td><td> 0.132896655</td><td>⋯</td><td>-0.141819984</td><td> 0.1195287</td><td>-0.10724648</td><td>-0.2477974</td><td> 0.07353784</td><td> 0.08136490</td><td>-0.17123188</td><td> 0.150911988</td><td> 0.15923277</td><td>-0.04082740</td></tr>\n",
       "\t<tr><th scope=row>3</th><td>ACH-000005</td><td>-0.09358537</td><td> 0.04150119</td><td> 0.07531566</td><td> 0.149414781</td><td> 0.03169255</td><td>-0.23687679</td><td> 0.15381363</td><td>-0.2454794</td><td>-0.115307222</td><td>⋯</td><td>-0.304217262</td><td>-0.1466795</td><td>-0.05148461</td><td>-0.3344562</td><td>-0.04089682</td><td>-0.17509416</td><td>-0.13905023</td><td> 0.090325195</td><td> 0.02919711</td><td>-0.02406391</td></tr>\n",
       "\t<tr><th scope=row>4</th><td>ACH-000007</td><td>-0.03090007</td><td>-0.07052596</td><td> 0.07234903</td><td> 0.063206491</td><td>-0.01351520</td><td>-0.02802310</td><td>-0.02618453</td><td>-0.1836130</td><td>-0.063362284</td><td>⋯</td><td>-0.195726053</td><td>-0.2546972</td><td>-0.27257956</td><td>-0.4733824</td><td> 0.11106164</td><td>-0.03408766</td><td>-0.17837802</td><td>-0.146564613</td><td>-0.19310283</td><td>-0.27129185</td></tr>\n",
       "\t<tr><th scope=row>5</th><td>ACH-000009</td><td>-0.02383669</td><td>-0.05586389</td><td> 0.07779927</td><td> 0.084401894</td><td> 0.01085966</td><td>-0.07579848</td><td>-0.01227781</td><td>-0.1429850</td><td> 0.005315869</td><td>⋯</td><td> 0.028096552</td><td>-0.1723441</td><td>-0.18239415</td><td>-0.3284529</td><td>-0.04768609</td><td>-0.13576026</td><td>-0.28438696</td><td>-0.003517739</td><td>-0.05838324</td><td>-0.23112694</td></tr>\n",
       "\t<tr><th scope=row>6</th><td>ACH-000012</td><td>-0.10647815</td><td> 0.01288647</td><td> 0.16741875</td><td> 0.227102498</td><td> 0.07689544</td><td>-0.21553977</td><td> 0.18137996</td><td>-0.1281190</td><td> 0.004292332</td><td>⋯</td><td>-0.001588165</td><td>-0.1282899</td><td>-0.53368428</td><td>-1.1187548</td><td> 0.06429254</td><td> 0.05243090</td><td>-0.04087758</td><td>-0.075470757</td><td>-0.03858331</td><td>-0.24810776</td></tr>\n",
       "</tbody>\n",
       "</table>\n"
      ],
      "text/latex": [
       "A data.frame: 6 × 16385\n",
       "\\begin{tabular}{r|lllllllllllllllllllll}\n",
       "  & sample & A1BG & A1CF & A2M & A2ML1 & A3GALT2 & A4GALT & A4GNT & AAAS & AACS & ⋯ & ZUP1 & ZW10 & ZWILCH & ZWINT & ZXDC & ZYG11A & ZYG11B & ZYX & ZZEF1 & ZZZ3\\\\\n",
       "  & <chr> & <dbl> & <dbl> & <dbl> & <dbl> & <dbl> & <dbl> & <dbl> & <dbl> & <dbl> & ⋯ & <dbl> & <dbl> & <dbl> & <dbl> & <dbl> & <dbl> & <dbl> & <dbl> & <dbl> & <dbl>\\\\\n",
       "\\hline\n",
       "\t1 & ACH-000001 & -0.13022665 &  0.04367100 & -0.01067785 & -0.003038938 & -0.10651800 & -0.01895532 &  0.01761511 & -0.2805246 &  0.011350472 & ⋯ & -0.016751717 & -0.4675348 & -0.05643839 & -0.1176586 &  0.14350973 & -0.10492678 &  0.06582083 &  0.161843495 &  0.05662022 & -0.31553541\\\\\n",
       "\t2 & ACH-000004 &  0.08567935 & -0.06229549 & -0.11627584 & -0.049394700 &  0.06851031 & -0.13422925 &  0.15372455 & -0.2020006 &  0.132896655 & ⋯ & -0.141819984 &  0.1195287 & -0.10724648 & -0.2477974 &  0.07353784 &  0.08136490 & -0.17123188 &  0.150911988 &  0.15923277 & -0.04082740\\\\\n",
       "\t3 & ACH-000005 & -0.09358537 &  0.04150119 &  0.07531566 &  0.149414781 &  0.03169255 & -0.23687679 &  0.15381363 & -0.2454794 & -0.115307222 & ⋯ & -0.304217262 & -0.1466795 & -0.05148461 & -0.3344562 & -0.04089682 & -0.17509416 & -0.13905023 &  0.090325195 &  0.02919711 & -0.02406391\\\\\n",
       "\t4 & ACH-000007 & -0.03090007 & -0.07052596 &  0.07234903 &  0.063206491 & -0.01351520 & -0.02802310 & -0.02618453 & -0.1836130 & -0.063362284 & ⋯ & -0.195726053 & -0.2546972 & -0.27257956 & -0.4733824 &  0.11106164 & -0.03408766 & -0.17837802 & -0.146564613 & -0.19310283 & -0.27129185\\\\\n",
       "\t5 & ACH-000009 & -0.02383669 & -0.05586389 &  0.07779927 &  0.084401894 &  0.01085966 & -0.07579848 & -0.01227781 & -0.1429850 &  0.005315869 & ⋯ &  0.028096552 & -0.1723441 & -0.18239415 & -0.3284529 & -0.04768609 & -0.13576026 & -0.28438696 & -0.003517739 & -0.05838324 & -0.23112694\\\\\n",
       "\t6 & ACH-000012 & -0.10647815 &  0.01288647 &  0.16741875 &  0.227102498 &  0.07689544 & -0.21553977 &  0.18137996 & -0.1281190 &  0.004292332 & ⋯ & -0.001588165 & -0.1282899 & -0.53368428 & -1.1187548 &  0.06429254 &  0.05243090 & -0.04087758 & -0.075470757 & -0.03858331 & -0.24810776\\\\\n",
       "\\end{tabular}\n"
      ],
      "text/markdown": [
       "\n",
       "A data.frame: 6 × 16385\n",
       "\n",
       "| <!--/--> | sample &lt;chr&gt; | A1BG &lt;dbl&gt; | A1CF &lt;dbl&gt; | A2M &lt;dbl&gt; | A2ML1 &lt;dbl&gt; | A3GALT2 &lt;dbl&gt; | A4GALT &lt;dbl&gt; | A4GNT &lt;dbl&gt; | AAAS &lt;dbl&gt; | AACS &lt;dbl&gt; | ⋯ ⋯ | ZUP1 &lt;dbl&gt; | ZW10 &lt;dbl&gt; | ZWILCH &lt;dbl&gt; | ZWINT &lt;dbl&gt; | ZXDC &lt;dbl&gt; | ZYG11A &lt;dbl&gt; | ZYG11B &lt;dbl&gt; | ZYX &lt;dbl&gt; | ZZEF1 &lt;dbl&gt; | ZZZ3 &lt;dbl&gt; |\n",
       "|---|---|---|---|---|---|---|---|---|---|---|---|---|---|---|---|---|---|---|---|---|---|\n",
       "| 1 | ACH-000001 | -0.13022665 |  0.04367100 | -0.01067785 | -0.003038938 | -0.10651800 | -0.01895532 |  0.01761511 | -0.2805246 |  0.011350472 | ⋯ | -0.016751717 | -0.4675348 | -0.05643839 | -0.1176586 |  0.14350973 | -0.10492678 |  0.06582083 |  0.161843495 |  0.05662022 | -0.31553541 |\n",
       "| 2 | ACH-000004 |  0.08567935 | -0.06229549 | -0.11627584 | -0.049394700 |  0.06851031 | -0.13422925 |  0.15372455 | -0.2020006 |  0.132896655 | ⋯ | -0.141819984 |  0.1195287 | -0.10724648 | -0.2477974 |  0.07353784 |  0.08136490 | -0.17123188 |  0.150911988 |  0.15923277 | -0.04082740 |\n",
       "| 3 | ACH-000005 | -0.09358537 |  0.04150119 |  0.07531566 |  0.149414781 |  0.03169255 | -0.23687679 |  0.15381363 | -0.2454794 | -0.115307222 | ⋯ | -0.304217262 | -0.1466795 | -0.05148461 | -0.3344562 | -0.04089682 | -0.17509416 | -0.13905023 |  0.090325195 |  0.02919711 | -0.02406391 |\n",
       "| 4 | ACH-000007 | -0.03090007 | -0.07052596 |  0.07234903 |  0.063206491 | -0.01351520 | -0.02802310 | -0.02618453 | -0.1836130 | -0.063362284 | ⋯ | -0.195726053 | -0.2546972 | -0.27257956 | -0.4733824 |  0.11106164 | -0.03408766 | -0.17837802 | -0.146564613 | -0.19310283 | -0.27129185 |\n",
       "| 5 | ACH-000009 | -0.02383669 | -0.05586389 |  0.07779927 |  0.084401894 |  0.01085966 | -0.07579848 | -0.01227781 | -0.1429850 |  0.005315869 | ⋯ |  0.028096552 | -0.1723441 | -0.18239415 | -0.3284529 | -0.04768609 | -0.13576026 | -0.28438696 | -0.003517739 | -0.05838324 | -0.23112694 |\n",
       "| 6 | ACH-000012 | -0.10647815 |  0.01288647 |  0.16741875 |  0.227102498 |  0.07689544 | -0.21553977 |  0.18137996 | -0.1281190 |  0.004292332 | ⋯ | -0.001588165 | -0.1282899 | -0.53368428 | -1.1187548 |  0.06429254 |  0.05243090 | -0.04087758 | -0.075470757 | -0.03858331 | -0.24810776 |\n",
       "\n"
      ],
      "text/plain": [
       "  sample     A1BG        A1CF        A2M         A2ML1        A3GALT2    \n",
       "1 ACH-000001 -0.13022665  0.04367100 -0.01067785 -0.003038938 -0.10651800\n",
       "2 ACH-000004  0.08567935 -0.06229549 -0.11627584 -0.049394700  0.06851031\n",
       "3 ACH-000005 -0.09358537  0.04150119  0.07531566  0.149414781  0.03169255\n",
       "4 ACH-000007 -0.03090007 -0.07052596  0.07234903  0.063206491 -0.01351520\n",
       "5 ACH-000009 -0.02383669 -0.05586389  0.07779927  0.084401894  0.01085966\n",
       "6 ACH-000012 -0.10647815  0.01288647  0.16741875  0.227102498  0.07689544\n",
       "  A4GALT      A4GNT       AAAS       AACS         ⋯ ZUP1         ZW10      \n",
       "1 -0.01895532  0.01761511 -0.2805246  0.011350472 ⋯ -0.016751717 -0.4675348\n",
       "2 -0.13422925  0.15372455 -0.2020006  0.132896655 ⋯ -0.141819984  0.1195287\n",
       "3 -0.23687679  0.15381363 -0.2454794 -0.115307222 ⋯ -0.304217262 -0.1466795\n",
       "4 -0.02802310 -0.02618453 -0.1836130 -0.063362284 ⋯ -0.195726053 -0.2546972\n",
       "5 -0.07579848 -0.01227781 -0.1429850  0.005315869 ⋯  0.028096552 -0.1723441\n",
       "6 -0.21553977  0.18137996 -0.1281190  0.004292332 ⋯ -0.001588165 -0.1282899\n",
       "  ZWILCH      ZWINT      ZXDC        ZYG11A      ZYG11B      ZYX         \n",
       "1 -0.05643839 -0.1176586  0.14350973 -0.10492678  0.06582083  0.161843495\n",
       "2 -0.10724648 -0.2477974  0.07353784  0.08136490 -0.17123188  0.150911988\n",
       "3 -0.05148461 -0.3344562 -0.04089682 -0.17509416 -0.13905023  0.090325195\n",
       "4 -0.27257956 -0.4733824  0.11106164 -0.03408766 -0.17837802 -0.146564613\n",
       "5 -0.18239415 -0.3284529 -0.04768609 -0.13576026 -0.28438696 -0.003517739\n",
       "6 -0.53368428 -1.1187548  0.06429254  0.05243090 -0.04087758 -0.075470757\n",
       "  ZZEF1       ZZZ3       \n",
       "1  0.05662022 -0.31553541\n",
       "2  0.15923277 -0.04082740\n",
       "3  0.02919711 -0.02406391\n",
       "4 -0.19310283 -0.27129185\n",
       "5 -0.05838324 -0.23112694\n",
       "6 -0.03858331 -0.24810776"
      ]
     },
     "metadata": {},
     "output_type": "display_data"
    },
    {
     "data": {
      "text/html": [
       "<table class=\"dataframe\">\n",
       "<caption>A data.frame: 6 × 16385</caption>\n",
       "<thead>\n",
       "\t<tr><th></th><th scope=col>sample</th><th scope=col>A1BG</th><th scope=col>A1CF</th><th scope=col>A2M</th><th scope=col>A2ML1</th><th scope=col>A3GALT2</th><th scope=col>A4GALT</th><th scope=col>A4GNT</th><th scope=col>AAAS</th><th scope=col>AACS</th><th scope=col>⋯</th><th scope=col>ZUP1</th><th scope=col>ZW10</th><th scope=col>ZWILCH</th><th scope=col>ZWINT</th><th scope=col>ZXDC</th><th scope=col>ZYG11A</th><th scope=col>ZYG11B</th><th scope=col>ZYX</th><th scope=col>ZZEF1</th><th scope=col>ZZZ3</th></tr>\n",
       "\t<tr><th></th><th scope=col>&lt;chr&gt;</th><th scope=col>&lt;int&gt;</th><th scope=col>&lt;int&gt;</th><th scope=col>&lt;int&gt;</th><th scope=col>&lt;int&gt;</th><th scope=col>&lt;int&gt;</th><th scope=col>&lt;int&gt;</th><th scope=col>&lt;int&gt;</th><th scope=col>&lt;int&gt;</th><th scope=col>&lt;int&gt;</th><th scope=col>⋯</th><th scope=col>&lt;int&gt;</th><th scope=col>&lt;int&gt;</th><th scope=col>&lt;int&gt;</th><th scope=col>&lt;int&gt;</th><th scope=col>&lt;int&gt;</th><th scope=col>&lt;int&gt;</th><th scope=col>&lt;int&gt;</th><th scope=col>&lt;int&gt;</th><th scope=col>&lt;int&gt;</th><th scope=col>&lt;int&gt;</th></tr>\n",
       "</thead>\n",
       "<tbody>\n",
       "\t<tr><th scope=row>1</th><td>ACH-000001</td><td>3</td><td>3</td><td>3</td><td>3</td><td>3</td><td>3</td><td>3</td><td>3</td><td>3</td><td>⋯</td><td>3</td><td>3</td><td>3</td><td>3</td><td>3</td><td>3</td><td>3</td><td>3</td><td>3</td><td>3</td></tr>\n",
       "\t<tr><th scope=row>2</th><td>ACH-000004</td><td>3</td><td>3</td><td>3</td><td>3</td><td>3</td><td>3</td><td>3</td><td>3</td><td>3</td><td>⋯</td><td>3</td><td>3</td><td>3</td><td>3</td><td>3</td><td>3</td><td>3</td><td>3</td><td>3</td><td>3</td></tr>\n",
       "\t<tr><th scope=row>3</th><td>ACH-000005</td><td>3</td><td>3</td><td>3</td><td>3</td><td>3</td><td>3</td><td>3</td><td>3</td><td>3</td><td>⋯</td><td>3</td><td>3</td><td>3</td><td>3</td><td>3</td><td>3</td><td>3</td><td>3</td><td>3</td><td>3</td></tr>\n",
       "\t<tr><th scope=row>4</th><td>ACH-000007</td><td>3</td><td>3</td><td>3</td><td>3</td><td>3</td><td>3</td><td>3</td><td>3</td><td>3</td><td>⋯</td><td>3</td><td>3</td><td>3</td><td>3</td><td>3</td><td>3</td><td>3</td><td>3</td><td>3</td><td>3</td></tr>\n",
       "\t<tr><th scope=row>5</th><td>ACH-000009</td><td>3</td><td>3</td><td>3</td><td>3</td><td>3</td><td>3</td><td>3</td><td>3</td><td>3</td><td>⋯</td><td>3</td><td>3</td><td>3</td><td>3</td><td>3</td><td>3</td><td>3</td><td>3</td><td>3</td><td>3</td></tr>\n",
       "\t<tr><th scope=row>6</th><td>ACH-000012</td><td>3</td><td>3</td><td>3</td><td>3</td><td>3</td><td>3</td><td>3</td><td>3</td><td>3</td><td>⋯</td><td>3</td><td>3</td><td>3</td><td>3</td><td>3</td><td>3</td><td>3</td><td>3</td><td>3</td><td>3</td></tr>\n",
       "</tbody>\n",
       "</table>\n"
      ],
      "text/latex": [
       "A data.frame: 6 × 16385\n",
       "\\begin{tabular}{r|lllllllllllllllllllll}\n",
       "  & sample & A1BG & A1CF & A2M & A2ML1 & A3GALT2 & A4GALT & A4GNT & AAAS & AACS & ⋯ & ZUP1 & ZW10 & ZWILCH & ZWINT & ZXDC & ZYG11A & ZYG11B & ZYX & ZZEF1 & ZZZ3\\\\\n",
       "  & <chr> & <int> & <int> & <int> & <int> & <int> & <int> & <int> & <int> & <int> & ⋯ & <int> & <int> & <int> & <int> & <int> & <int> & <int> & <int> & <int> & <int>\\\\\n",
       "\\hline\n",
       "\t1 & ACH-000001 & 3 & 3 & 3 & 3 & 3 & 3 & 3 & 3 & 3 & ⋯ & 3 & 3 & 3 & 3 & 3 & 3 & 3 & 3 & 3 & 3\\\\\n",
       "\t2 & ACH-000004 & 3 & 3 & 3 & 3 & 3 & 3 & 3 & 3 & 3 & ⋯ & 3 & 3 & 3 & 3 & 3 & 3 & 3 & 3 & 3 & 3\\\\\n",
       "\t3 & ACH-000005 & 3 & 3 & 3 & 3 & 3 & 3 & 3 & 3 & 3 & ⋯ & 3 & 3 & 3 & 3 & 3 & 3 & 3 & 3 & 3 & 3\\\\\n",
       "\t4 & ACH-000007 & 3 & 3 & 3 & 3 & 3 & 3 & 3 & 3 & 3 & ⋯ & 3 & 3 & 3 & 3 & 3 & 3 & 3 & 3 & 3 & 3\\\\\n",
       "\t5 & ACH-000009 & 3 & 3 & 3 & 3 & 3 & 3 & 3 & 3 & 3 & ⋯ & 3 & 3 & 3 & 3 & 3 & 3 & 3 & 3 & 3 & 3\\\\\n",
       "\t6 & ACH-000012 & 3 & 3 & 3 & 3 & 3 & 3 & 3 & 3 & 3 & ⋯ & 3 & 3 & 3 & 3 & 3 & 3 & 3 & 3 & 3 & 3\\\\\n",
       "\\end{tabular}\n"
      ],
      "text/markdown": [
       "\n",
       "A data.frame: 6 × 16385\n",
       "\n",
       "| <!--/--> | sample &lt;chr&gt; | A1BG &lt;int&gt; | A1CF &lt;int&gt; | A2M &lt;int&gt; | A2ML1 &lt;int&gt; | A3GALT2 &lt;int&gt; | A4GALT &lt;int&gt; | A4GNT &lt;int&gt; | AAAS &lt;int&gt; | AACS &lt;int&gt; | ⋯ ⋯ | ZUP1 &lt;int&gt; | ZW10 &lt;int&gt; | ZWILCH &lt;int&gt; | ZWINT &lt;int&gt; | ZXDC &lt;int&gt; | ZYG11A &lt;int&gt; | ZYG11B &lt;int&gt; | ZYX &lt;int&gt; | ZZEF1 &lt;int&gt; | ZZZ3 &lt;int&gt; |\n",
       "|---|---|---|---|---|---|---|---|---|---|---|---|---|---|---|---|---|---|---|---|---|---|\n",
       "| 1 | ACH-000001 | 3 | 3 | 3 | 3 | 3 | 3 | 3 | 3 | 3 | ⋯ | 3 | 3 | 3 | 3 | 3 | 3 | 3 | 3 | 3 | 3 |\n",
       "| 2 | ACH-000004 | 3 | 3 | 3 | 3 | 3 | 3 | 3 | 3 | 3 | ⋯ | 3 | 3 | 3 | 3 | 3 | 3 | 3 | 3 | 3 | 3 |\n",
       "| 3 | ACH-000005 | 3 | 3 | 3 | 3 | 3 | 3 | 3 | 3 | 3 | ⋯ | 3 | 3 | 3 | 3 | 3 | 3 | 3 | 3 | 3 | 3 |\n",
       "| 4 | ACH-000007 | 3 | 3 | 3 | 3 | 3 | 3 | 3 | 3 | 3 | ⋯ | 3 | 3 | 3 | 3 | 3 | 3 | 3 | 3 | 3 | 3 |\n",
       "| 5 | ACH-000009 | 3 | 3 | 3 | 3 | 3 | 3 | 3 | 3 | 3 | ⋯ | 3 | 3 | 3 | 3 | 3 | 3 | 3 | 3 | 3 | 3 |\n",
       "| 6 | ACH-000012 | 3 | 3 | 3 | 3 | 3 | 3 | 3 | 3 | 3 | ⋯ | 3 | 3 | 3 | 3 | 3 | 3 | 3 | 3 | 3 | 3 |\n",
       "\n"
      ],
      "text/plain": [
       "  sample     A1BG A1CF A2M A2ML1 A3GALT2 A4GALT A4GNT AAAS AACS ⋯ ZUP1 ZW10\n",
       "1 ACH-000001 3    3    3   3     3       3      3     3    3    ⋯ 3    3   \n",
       "2 ACH-000004 3    3    3   3     3       3      3     3    3    ⋯ 3    3   \n",
       "3 ACH-000005 3    3    3   3     3       3      3     3    3    ⋯ 3    3   \n",
       "4 ACH-000007 3    3    3   3     3       3      3     3    3    ⋯ 3    3   \n",
       "5 ACH-000009 3    3    3   3     3       3      3     3    3    ⋯ 3    3   \n",
       "6 ACH-000012 3    3    3   3     3       3      3     3    3    ⋯ 3    3   \n",
       "  ZWILCH ZWINT ZXDC ZYG11A ZYG11B ZYX ZZEF1 ZZZ3\n",
       "1 3      3     3    3      3      3   3     3   \n",
       "2 3      3     3    3      3      3   3     3   \n",
       "3 3      3     3    3      3      3   3     3   \n",
       "4 3      3     3    3      3      3   3     3   \n",
       "5 3      3     3    3      3      3   3     3   \n",
       "6 3      3     3    3      3      3   3     3   "
      ]
     },
     "metadata": {},
     "output_type": "display_data"
    },
    {
     "data": {
      "text/html": [
       "<style>\n",
       ".list-inline {list-style: none; margin:0; padding: 0}\n",
       ".list-inline>li {display: inline-block}\n",
       ".list-inline>li:not(:last-child)::after {content: \"\\00b7\"; padding: 0 .5ex}\n",
       "</style>\n",
       "<ol class=list-inline><li>611</li><li>16385</li></ol>\n"
      ],
      "text/latex": [
       "\\begin{enumerate*}\n",
       "\\item 611\n",
       "\\item 16385\n",
       "\\end{enumerate*}\n"
      ],
      "text/markdown": [
       "1. 611\n",
       "2. 16385\n",
       "\n",
       "\n"
      ],
      "text/plain": [
       "[1]   611 16385"
      ]
     },
     "metadata": {},
     "output_type": "display_data"
    },
    {
     "data": {
      "text/html": [
       "<style>\n",
       ".list-inline {list-style: none; margin:0; padding: 0}\n",
       ".list-inline>li {display: inline-block}\n",
       ".list-inline>li:not(:last-child)::after {content: \"\\00b7\"; padding: 0 .5ex}\n",
       "</style>\n",
       "<ol class=list-inline><li>611</li><li>16385</li></ol>\n"
      ],
      "text/latex": [
       "\\begin{enumerate*}\n",
       "\\item 611\n",
       "\\item 16385\n",
       "\\end{enumerate*}\n"
      ],
      "text/markdown": [
       "1. 611\n",
       "2. 16385\n",
       "\n",
       "\n"
      ],
      "text/plain": [
       "[1]   611 16385"
      ]
     },
     "metadata": {},
     "output_type": "display_data"
    }
   ],
   "source": [
    "#Filter both datasets so that they share a common set of samples\n",
    "intersecting.samples = intersect(chronos.22q1$sample, formatted.gene.block.matrix$sample)\n",
    "intersecting.genes = intersect(colnames(chronos.22q1), colnames(formatted.gene.block.matrix))\n",
    "\n",
    "#For 22q1\n",
    "final.chronos.22q1 = chronos.22q1 %>%\n",
    "filter(sample %in% intersecting.samples) %>%\n",
    "select(all_of(intersecting.genes)) %>%\n",
    "arrange(sample)\n",
    "\n",
    "#and 22q2\n",
    "final.chronos.22q2 = chronos.22q2 %>%\n",
    "filter(sample %in% intersecting.samples) %>%\n",
    "select(all_of(intersecting.genes)) %>%\n",
    "arrange(sample)\n",
    "\n",
    "final.gene.block = formatted.gene.block.matrix %>%\n",
    "filter(sample %in% intersecting.samples) %>%\n",
    "select(all_of(intersecting.genes)) %>%\n",
    "arrange(sample)\n",
    "\n"
   ]
  },
  {
   "cell_type": "code",
   "execution_count": 95,
   "metadata": {
    "code_folding": [
     0
    ],
    "collapsed": true,
    "hidden": true
   },
   "outputs": [
    {
     "data": {
      "text/html": [
       "<table class=\"dataframe\">\n",
       "<caption>A data.frame: 6 × 2</caption>\n",
       "<thead>\n",
       "\t<tr><th></th><th scope=col>sample</th><th scope=col>primary_disease</th></tr>\n",
       "\t<tr><th></th><th scope=col>&lt;chr&gt;</th><th scope=col>&lt;chr&gt;</th></tr>\n",
       "</thead>\n",
       "<tbody>\n",
       "\t<tr><th scope=row>1</th><td>ACH-000001</td><td>Ovarian Cancer         </td></tr>\n",
       "\t<tr><th scope=row>2</th><td>ACH-000002</td><td>Leukemia               </td></tr>\n",
       "\t<tr><th scope=row>3</th><td>ACH-000003</td><td>Colon/Colorectal Cancer</td></tr>\n",
       "\t<tr><th scope=row>4</th><td>ACH-000004</td><td>Leukemia               </td></tr>\n",
       "\t<tr><th scope=row>5</th><td>ACH-000005</td><td>Leukemia               </td></tr>\n",
       "\t<tr><th scope=row>6</th><td>ACH-000006</td><td>Leukemia               </td></tr>\n",
       "</tbody>\n",
       "</table>\n"
      ],
      "text/latex": [
       "A data.frame: 6 × 2\n",
       "\\begin{tabular}{r|ll}\n",
       "  & sample & primary\\_disease\\\\\n",
       "  & <chr> & <chr>\\\\\n",
       "\\hline\n",
       "\t1 & ACH-000001 & Ovarian Cancer         \\\\\n",
       "\t2 & ACH-000002 & Leukemia               \\\\\n",
       "\t3 & ACH-000003 & Colon/Colorectal Cancer\\\\\n",
       "\t4 & ACH-000004 & Leukemia               \\\\\n",
       "\t5 & ACH-000005 & Leukemia               \\\\\n",
       "\t6 & ACH-000006 & Leukemia               \\\\\n",
       "\\end{tabular}\n"
      ],
      "text/markdown": [
       "\n",
       "A data.frame: 6 × 2\n",
       "\n",
       "| <!--/--> | sample &lt;chr&gt; | primary_disease &lt;chr&gt; |\n",
       "|---|---|---|\n",
       "| 1 | ACH-000001 | Ovarian Cancer          |\n",
       "| 2 | ACH-000002 | Leukemia                |\n",
       "| 3 | ACH-000003 | Colon/Colorectal Cancer |\n",
       "| 4 | ACH-000004 | Leukemia                |\n",
       "| 5 | ACH-000005 | Leukemia                |\n",
       "| 6 | ACH-000006 | Leukemia                |\n",
       "\n"
      ],
      "text/plain": [
       "  sample     primary_disease        \n",
       "1 ACH-000001 Ovarian Cancer         \n",
       "2 ACH-000002 Leukemia               \n",
       "3 ACH-000003 Colon/Colorectal Cancer\n",
       "4 ACH-000004 Leukemia               \n",
       "5 ACH-000005 Leukemia               \n",
       "6 ACH-000006 Leukemia               "
      ]
     },
     "metadata": {},
     "output_type": "display_data"
    }
   ],
   "source": [
    "#Load in the sample annotation data\n",
    "setwd('/home/jupyter/Ancestry/ccle_ancestry_analysis')\n",
    "sample.annotation = read.table('depmap_cell_lineage.csv', sep = \",\", header = T) %>%\n",
    "rename(\"sample\" = 1)\n",
    "\n",
    "head(sample.annotation)"
   ]
  },
  {
   "cell_type": "code",
   "execution_count": 96,
   "metadata": {
    "code_folding": [],
    "hidden": true
   },
   "outputs": [],
   "source": [
    "#Calculate p-values and mean differences for 22q1\n",
    "\n",
    "gene.names = colnames(final.gene.block)[2:ncol(final.gene.block)]\n",
    "\n",
    "\n",
    "afr.lm.pval.vector = NULL\n",
    "amr.lm.pval.vector = NULL\n",
    "eas.lm.pval.vector = NULL\n",
    "eur.lm.pval.vector = NULL\n",
    "sas.lm.pval.vector = NULL\n",
    "afr.mean.dif = NULL\n",
    "amr.mean.dif = NULL\n",
    "eas.mean.dif = NULL\n",
    "eur.mean.dif = NULL\n",
    "sas.mean.dif = NULL\n",
    "for(gene in gene.names){\n",
    "    \n",
    "    #Filter the chronos data so that it only includes the gene we are interested in \n",
    "    chronos.filtered = final.chronos.22q1 %>% select(sample, all_of(gene))\n",
    "    \n",
    "    #Filter the gene block data so that it only includes the gene we are interested in\n",
    "    gene.block.filtered = final.gene.block %>% select(sample, all_of(gene)) %>% rename(\"gene.symbol\" = 2)\n",
    "    \n",
    "    #For each gene in the loop, figure out which cell lines have the version of that gene for each ancestry group\n",
    "    afr.lines = gene.block.filtered %>% filter(gene.symbol %in% \"0\") %>% pull(sample)\n",
    "    non.afr.lines = gene.block.filtered %>% filter(!gene.symbol %in% \"0\") %>% pull(sample)\n",
    "    amr.lines = gene.block.filtered %>% filter(gene.symbol %in% \"1\") %>% pull(sample)\n",
    "    non.amr.lines = gene.block.filtered %>% filter(!gene.symbol %in% \"1\") %>% pull(sample)\n",
    "    eas.lines = gene.block.filtered %>% filter(gene.symbol %in% \"2\") %>% pull(sample)\n",
    "    non.eas.lines = gene.block.filtered %>% filter(!gene.symbol %in% \"2\") %>% pull(sample)\n",
    "    eur.lines = gene.block.filtered %>% filter(gene.symbol %in% \"3\") %>% pull(sample)\n",
    "    non.eur.lines = gene.block.filtered %>% filter(!gene.symbol %in% \"3\") %>% pull(sample)\n",
    "    sas.lines = gene.block.filtered %>% filter(gene.symbol %in% \"4\") %>% pull(sample)\n",
    "    non.sas.lines = gene.block.filtered %>% filter(!gene.symbol %in% \"4\") %>% pull(sample)\n",
    "    \n",
    "    \n",
    "    #Now get vectors of chronos scores for each ancestry group\n",
    "    afr.chronos = chronos.filtered %>% filter(sample %in% afr.lines) %>% pull(2)\n",
    "    non.afr.chronos = chronos.filtered %>% filter(sample %in% non.afr.lines) %>% pull(2)\n",
    "    \n",
    "    amr.chronos = chronos.filtered %>% filter(sample %in% amr.lines) %>% pull(2)\n",
    "    non.amr.chronos = chronos.filtered %>% filter(sample %in% non.amr.lines) %>% pull(2)\n",
    "    \n",
    "    eas.chronos = chronos.filtered %>% filter(sample %in% eas.lines) %>% pull(2)\n",
    "    non.eas.chronos = chronos.filtered %>% filter(sample %in% non.eas.lines) %>% pull(2)\n",
    "    \n",
    "    eur.chronos = chronos.filtered %>% filter(sample %in% eur.lines) %>% pull(2)\n",
    "    non.eur.chronos = chronos.filtered %>% filter(sample %in% non.eur.lines) %>% pull(2)\n",
    "    \n",
    "    sas.chronos = chronos.filtered %>% filter(sample %in% sas.lines) %>% pull(2)\n",
    "    non.sas.chronos = chronos.filtered %>% filter(sample %in% non.sas.lines) %>% pull(2)\n",
    "    \n",
    "    \n",
    "    #Assemble data frames for performing the linear regression\n",
    "    afr.df = c(afr.lines, non.afr.lines) %>%\n",
    "    data.frame() %>%\n",
    "    rename(\"sample\" = 1) %>%\n",
    "    mutate(\"ancestry_class\" = c(rep(0, length(afr.lines)), rep(1, length(non.afr.lines)))) %>%\n",
    "    mutate(\"chronos_score\" = c(afr.chronos, non.afr.chronos)) %>%\n",
    "    mutate(\"covariate\" = plyr::mapvalues(from = sample.annotation$sample, to = sample.annotation$primary_disease, sample, warn_missing = FALSE))\n",
    "    \n",
    "    amr.df = c(amr.lines, non.amr.lines) %>%\n",
    "    data.frame() %>%\n",
    "    rename(\"sample\" = 1) %>%\n",
    "    mutate(\"ancestry_class\" = c(rep(0, length(amr.lines)), rep(1, length(non.amr.lines)))) %>%\n",
    "    mutate(\"chronos_score\" = c(amr.chronos, non.amr.chronos)) %>%\n",
    "    mutate(\"covariate\" = plyr::mapvalues(from = sample.annotation$sample, to = sample.annotation$primary_disease, sample, warn_missing = FALSE))\n",
    "    \n",
    "    eas.df = c(eas.lines, non.eas.lines) %>%\n",
    "    data.frame() %>%\n",
    "    rename(\"sample\" = 1) %>%\n",
    "    mutate(\"ancestry_class\" = c(rep(0, length(eas.lines)), rep(1, length(non.eas.lines)))) %>%\n",
    "    mutate(\"chronos_score\" = c(eas.chronos, non.eas.chronos)) %>%\n",
    "    mutate(\"covariate\" = plyr::mapvalues(from = sample.annotation$sample, to = sample.annotation$primary_disease, sample, warn_missing = FALSE))\n",
    "    \n",
    "    eur.df = c(eur.lines, non.eur.lines) %>%\n",
    "    data.frame() %>%\n",
    "    rename(\"sample\" = 1) %>%\n",
    "    mutate(\"ancestry_class\" = c(rep(0, length(eur.lines)), rep(1, length(non.eur.lines)))) %>%\n",
    "    mutate(\"chronos_score\" = c(eur.chronos, non.eur.chronos)) %>%\n",
    "    mutate(\"covariate\" = plyr::mapvalues(from = sample.annotation$sample, to = sample.annotation$primary_disease, sample, warn_missing = FALSE))\n",
    "    \n",
    "    sas.df = c(sas.lines, non.sas.lines) %>%\n",
    "    data.frame() %>%\n",
    "    rename(\"sample\" = 1) %>%\n",
    "    mutate(\"ancestry_class\" = c(rep(0, length(sas.lines)), rep(1, length(non.sas.lines)))) %>%\n",
    "    mutate(\"chronos_score\" = c(sas.chronos, non.sas.chronos)) %>%\n",
    "    mutate(\"covariate\" = plyr::mapvalues(from = sample.annotation$sample, to = sample.annotation$primary_disease, sample, warn_missing = FALSE))\n",
    "    \n",
    "    \n",
    "    #Now calculate the p-values for each comparison (if there are more than three observations)\n",
    "    if(length(afr.chronos) >= 3 & length(non.afr.chronos) >= 3){\n",
    "        afr.pval = lm(chronos_score ~ ancestry_class + covariate, data = afr.df) %>% summary() %>% .[[4]] %>% .[2,4]\n",
    "    } else { afr.pval = 1 }\n",
    "    \n",
    "      if(length(amr.chronos) >= 3 & length(non.amr.chronos) >= 3){\n",
    "        amr.pval = lm(chronos_score ~ ancestry_class + covariate, data = amr.df) %>% summary() %>% .[[4]] %>% .[2,4] \n",
    "    } else { amr.pval = 1 }\n",
    "    \n",
    "      if(length(eas.chronos) >= 3 & length(non.eas.chronos) >= 3){\n",
    "        eas.pval = lm(chronos_score ~ ancestry_class + covariate, data = eas.df) %>% summary() %>% .[[4]] %>% .[2,4] \n",
    "    } else { eas.pval = 1 }\n",
    "    \n",
    "      if(length(eur.chronos) >= 3 & length(non.eur.chronos) >= 3){\n",
    "        eur.pval = lm(chronos_score ~ ancestry_class + covariate, data = eur.df) %>% summary() %>% .[[4]] %>% .[2,4] \n",
    "    } else { eur.pval = 1 }\n",
    "    \n",
    "      if(length(sas.chronos) >= 3 & length(non.sas.chronos) >= 3){\n",
    "        sas.pval = lm(chronos_score ~ ancestry_class + covariate, data = sas.df) %>% summary() %>% .[[4]] %>% .[2,4] \n",
    "    } else { sas.pval = 1 }\n",
    "    \n",
    "    \n",
    "    #Add the p-values to the vector outside of the loop\n",
    "    afr.lm.pval.vector = c(afr.lm.pval.vector, afr.pval)\n",
    "    amr.lm.pval.vector = c(amr.lm.pval.vector, amr.pval)\n",
    "    eas.lm.pval.vector = c(eas.lm.pval.vector, eas.pval)\n",
    "    eur.lm.pval.vector = c(eur.lm.pval.vector, eur.pval)\n",
    "    sas.lm.pval.vector = c(sas.lm.pval.vector, sas.pval)\n",
    "    \n",
    "    \n",
    "    #Calculate the differences in means\n",
    "    afr.dif = mean(afr.chronos) - mean(non.afr.chronos)\n",
    "    amr.dif = mean(amr.chronos) - mean(non.amr.chronos)\n",
    "    eas.dif = mean(eas.chronos) - mean(non.eas.chronos)\n",
    "    eur.dif = mean(eur.chronos) - mean(non.eur.chronos)\n",
    "    sas.dif = mean(sas.chronos) - mean(non.sas.chronos)\n",
    "    \n",
    "    #Add the mean differences to the vectors\n",
    "    afr.mean.dif = c(afr.mean.dif, afr.dif)\n",
    "    amr.mean.dif = c(amr.mean.dif, amr.dif)\n",
    "    eas.mean.dif = c(eas.mean.dif, eas.dif)\n",
    "    eur.mean.dif = c(eur.mean.dif, eur.dif)\n",
    "    sas.mean.dif = c(sas.mean.dif, sas.dif)\n",
    "}"
   ]
  },
  {
   "cell_type": "code",
   "execution_count": 97,
   "metadata": {
    "code_folding": [],
    "collapsed": true,
    "hidden": true
   },
   "outputs": [
    {
     "data": {
      "text/html": [
       "<table class=\"dataframe\">\n",
       "<caption>A data.frame: 6 × 16</caption>\n",
       "<thead>\n",
       "\t<tr><th></th><th scope=col>gene</th><th scope=col>afr.lm.pval.vector</th><th scope=col>amr.lm.pval.vector</th><th scope=col>eas.lm.pval.vector</th><th scope=col>eur.lm.pval.vector</th><th scope=col>sas.lm.pval.vector</th><th scope=col>afr.mean.dif</th><th scope=col>amr.mean.dif</th><th scope=col>eas.mean.dif</th><th scope=col>eur.mean.dif</th><th scope=col>sas.mean.dif</th><th scope=col>afr_fdr</th><th scope=col>amr_fdr</th><th scope=col>eas_fdr</th><th scope=col>eur_fdr</th><th scope=col>sas_fdr</th></tr>\n",
       "\t<tr><th></th><th scope=col>&lt;chr&gt;</th><th scope=col>&lt;dbl&gt;</th><th scope=col>&lt;dbl&gt;</th><th scope=col>&lt;dbl&gt;</th><th scope=col>&lt;dbl&gt;</th><th scope=col>&lt;dbl&gt;</th><th scope=col>&lt;dbl&gt;</th><th scope=col>&lt;dbl&gt;</th><th scope=col>&lt;dbl&gt;</th><th scope=col>&lt;dbl&gt;</th><th scope=col>&lt;dbl&gt;</th><th scope=col>&lt;dbl&gt;</th><th scope=col>&lt;dbl&gt;</th><th scope=col>&lt;dbl&gt;</th><th scope=col>&lt;dbl&gt;</th><th scope=col>&lt;dbl&gt;</th></tr>\n",
       "</thead>\n",
       "<tbody>\n",
       "\t<tr><th scope=row>1</th><td>A1BG   </td><td>0.51570812</td><td>0.5243904</td><td>0.33508618</td><td>0.51316820</td><td>1.0000000</td><td> 0.018967685</td><td>0.039100054</td><td>-0.011154457</td><td> 0.006603833</td><td>-0.226423809</td><td>0.998556</td><td>1</td><td>0.9184664</td><td>0.9703296</td><td>1</td></tr>\n",
       "\t<tr><th scope=row>2</th><td>A1CF   </td><td>0.09749307</td><td>0.9998859</td><td>0.73471568</td><td>0.70146509</td><td>0.5597664</td><td>-0.035117475</td><td>0.027514943</td><td>-0.002246655</td><td> 0.007144719</td><td> 0.030043081</td><td>0.998556</td><td>1</td><td>0.9771815</td><td>0.9821999</td><td>1</td></tr>\n",
       "\t<tr><th scope=row>3</th><td>A2M    </td><td>0.68035925</td><td>1.0000000</td><td>0.51713036</td><td>0.53660729</td><td>1.0000000</td><td>-0.010031350</td><td>0.038566520</td><td>-0.001514329</td><td> 0.001920044</td><td> 0.046502802</td><td>0.998556</td><td>1</td><td>0.9548815</td><td>0.9720597</td><td>1</td></tr>\n",
       "\t<tr><th scope=row>4</th><td>A2ML1  </td><td>0.61602149</td><td>0.6843036</td><td>0.09231594</td><td>0.06193838</td><td>1.0000000</td><td> 0.009988105</td><td>0.013638286</td><td> 0.009534186</td><td>-0.010934267</td><td> 0.004499364</td><td>0.998556</td><td>1</td><td>0.7843746</td><td>0.8105684</td><td>1</td></tr>\n",
       "\t<tr><th scope=row>5</th><td>A3GALT2</td><td>0.76637396</td><td>1.0000000</td><td>0.70909158</td><td>0.83017049</td><td>0.9866729</td><td> 0.003320528</td><td>0.001137803</td><td>-0.016077768</td><td> 0.014507092</td><td>-0.002840530</td><td>0.998556</td><td>1</td><td>0.9753693</td><td>0.9917531</td><td>1</td></tr>\n",
       "\t<tr><th scope=row>6</th><td>A4GALT </td><td>0.87370145</td><td>1.0000000</td><td>0.13340200</td><td>0.13581386</td><td>1.0000000</td><td> 0.004528391</td><td>0.019587428</td><td>-0.008987721</td><td> 0.008747816</td><td>-0.096587268</td><td>0.998556</td><td>1</td><td>0.8209225</td><td>0.8739186</td><td>1</td></tr>\n",
       "</tbody>\n",
       "</table>\n"
      ],
      "text/latex": [
       "A data.frame: 6 × 16\n",
       "\\begin{tabular}{r|llllllllllllllll}\n",
       "  & gene & afr.lm.pval.vector & amr.lm.pval.vector & eas.lm.pval.vector & eur.lm.pval.vector & sas.lm.pval.vector & afr.mean.dif & amr.mean.dif & eas.mean.dif & eur.mean.dif & sas.mean.dif & afr\\_fdr & amr\\_fdr & eas\\_fdr & eur\\_fdr & sas\\_fdr\\\\\n",
       "  & <chr> & <dbl> & <dbl> & <dbl> & <dbl> & <dbl> & <dbl> & <dbl> & <dbl> & <dbl> & <dbl> & <dbl> & <dbl> & <dbl> & <dbl> & <dbl>\\\\\n",
       "\\hline\n",
       "\t1 & A1BG    & 0.51570812 & 0.5243904 & 0.33508618 & 0.51316820 & 1.0000000 &  0.018967685 & 0.039100054 & -0.011154457 &  0.006603833 & -0.226423809 & 0.998556 & 1 & 0.9184664 & 0.9703296 & 1\\\\\n",
       "\t2 & A1CF    & 0.09749307 & 0.9998859 & 0.73471568 & 0.70146509 & 0.5597664 & -0.035117475 & 0.027514943 & -0.002246655 &  0.007144719 &  0.030043081 & 0.998556 & 1 & 0.9771815 & 0.9821999 & 1\\\\\n",
       "\t3 & A2M     & 0.68035925 & 1.0000000 & 0.51713036 & 0.53660729 & 1.0000000 & -0.010031350 & 0.038566520 & -0.001514329 &  0.001920044 &  0.046502802 & 0.998556 & 1 & 0.9548815 & 0.9720597 & 1\\\\\n",
       "\t4 & A2ML1   & 0.61602149 & 0.6843036 & 0.09231594 & 0.06193838 & 1.0000000 &  0.009988105 & 0.013638286 &  0.009534186 & -0.010934267 &  0.004499364 & 0.998556 & 1 & 0.7843746 & 0.8105684 & 1\\\\\n",
       "\t5 & A3GALT2 & 0.76637396 & 1.0000000 & 0.70909158 & 0.83017049 & 0.9866729 &  0.003320528 & 0.001137803 & -0.016077768 &  0.014507092 & -0.002840530 & 0.998556 & 1 & 0.9753693 & 0.9917531 & 1\\\\\n",
       "\t6 & A4GALT  & 0.87370145 & 1.0000000 & 0.13340200 & 0.13581386 & 1.0000000 &  0.004528391 & 0.019587428 & -0.008987721 &  0.008747816 & -0.096587268 & 0.998556 & 1 & 0.8209225 & 0.8739186 & 1\\\\\n",
       "\\end{tabular}\n"
      ],
      "text/markdown": [
       "\n",
       "A data.frame: 6 × 16\n",
       "\n",
       "| <!--/--> | gene &lt;chr&gt; | afr.lm.pval.vector &lt;dbl&gt; | amr.lm.pval.vector &lt;dbl&gt; | eas.lm.pval.vector &lt;dbl&gt; | eur.lm.pval.vector &lt;dbl&gt; | sas.lm.pval.vector &lt;dbl&gt; | afr.mean.dif &lt;dbl&gt; | amr.mean.dif &lt;dbl&gt; | eas.mean.dif &lt;dbl&gt; | eur.mean.dif &lt;dbl&gt; | sas.mean.dif &lt;dbl&gt; | afr_fdr &lt;dbl&gt; | amr_fdr &lt;dbl&gt; | eas_fdr &lt;dbl&gt; | eur_fdr &lt;dbl&gt; | sas_fdr &lt;dbl&gt; |\n",
       "|---|---|---|---|---|---|---|---|---|---|---|---|---|---|---|---|---|\n",
       "| 1 | A1BG    | 0.51570812 | 0.5243904 | 0.33508618 | 0.51316820 | 1.0000000 |  0.018967685 | 0.039100054 | -0.011154457 |  0.006603833 | -0.226423809 | 0.998556 | 1 | 0.9184664 | 0.9703296 | 1 |\n",
       "| 2 | A1CF    | 0.09749307 | 0.9998859 | 0.73471568 | 0.70146509 | 0.5597664 | -0.035117475 | 0.027514943 | -0.002246655 |  0.007144719 |  0.030043081 | 0.998556 | 1 | 0.9771815 | 0.9821999 | 1 |\n",
       "| 3 | A2M     | 0.68035925 | 1.0000000 | 0.51713036 | 0.53660729 | 1.0000000 | -0.010031350 | 0.038566520 | -0.001514329 |  0.001920044 |  0.046502802 | 0.998556 | 1 | 0.9548815 | 0.9720597 | 1 |\n",
       "| 4 | A2ML1   | 0.61602149 | 0.6843036 | 0.09231594 | 0.06193838 | 1.0000000 |  0.009988105 | 0.013638286 |  0.009534186 | -0.010934267 |  0.004499364 | 0.998556 | 1 | 0.7843746 | 0.8105684 | 1 |\n",
       "| 5 | A3GALT2 | 0.76637396 | 1.0000000 | 0.70909158 | 0.83017049 | 0.9866729 |  0.003320528 | 0.001137803 | -0.016077768 |  0.014507092 | -0.002840530 | 0.998556 | 1 | 0.9753693 | 0.9917531 | 1 |\n",
       "| 6 | A4GALT  | 0.87370145 | 1.0000000 | 0.13340200 | 0.13581386 | 1.0000000 |  0.004528391 | 0.019587428 | -0.008987721 |  0.008747816 | -0.096587268 | 0.998556 | 1 | 0.8209225 | 0.8739186 | 1 |\n",
       "\n"
      ],
      "text/plain": [
       "  gene    afr.lm.pval.vector amr.lm.pval.vector eas.lm.pval.vector\n",
       "1 A1BG    0.51570812         0.5243904          0.33508618        \n",
       "2 A1CF    0.09749307         0.9998859          0.73471568        \n",
       "3 A2M     0.68035925         1.0000000          0.51713036        \n",
       "4 A2ML1   0.61602149         0.6843036          0.09231594        \n",
       "5 A3GALT2 0.76637396         1.0000000          0.70909158        \n",
       "6 A4GALT  0.87370145         1.0000000          0.13340200        \n",
       "  eur.lm.pval.vector sas.lm.pval.vector afr.mean.dif amr.mean.dif eas.mean.dif\n",
       "1 0.51316820         1.0000000           0.018967685 0.039100054  -0.011154457\n",
       "2 0.70146509         0.5597664          -0.035117475 0.027514943  -0.002246655\n",
       "3 0.53660729         1.0000000          -0.010031350 0.038566520  -0.001514329\n",
       "4 0.06193838         1.0000000           0.009988105 0.013638286   0.009534186\n",
       "5 0.83017049         0.9866729           0.003320528 0.001137803  -0.016077768\n",
       "6 0.13581386         1.0000000           0.004528391 0.019587428  -0.008987721\n",
       "  eur.mean.dif sas.mean.dif afr_fdr  amr_fdr eas_fdr   eur_fdr   sas_fdr\n",
       "1  0.006603833 -0.226423809 0.998556 1       0.9184664 0.9703296 1      \n",
       "2  0.007144719  0.030043081 0.998556 1       0.9771815 0.9821999 1      \n",
       "3  0.001920044  0.046502802 0.998556 1       0.9548815 0.9720597 1      \n",
       "4 -0.010934267  0.004499364 0.998556 1       0.7843746 0.8105684 1      \n",
       "5  0.014507092 -0.002840530 0.998556 1       0.9753693 0.9917531 1      \n",
       "6  0.008747816 -0.096587268 0.998556 1       0.8209225 0.8739186 1      "
      ]
     },
     "metadata": {},
     "output_type": "display_data"
    }
   ],
   "source": [
    "#Construct a dataset with all of this information\n",
    "lm.pval.df = cbind(afr.lm.pval.vector, amr.lm.pval.vector, eas.lm.pval.vector, eur.lm.pval.vector, sas.lm.pval.vector, afr.mean.dif, amr.mean.dif, eas.mean.dif, eur.mean.dif, sas.mean.dif) %>%\n",
    "data.frame() %>%\n",
    "mutate(\"gene\" = gene.names, .before = 1) %>%\n",
    "mutate(\"afr_fdr\" = p.adjust(afr.lm.pval.vector, method = \"BH\", n = length(afr.lm.pval.vector))) %>%\n",
    "mutate(\"amr_fdr\" = p.adjust(amr.lm.pval.vector, method = \"BH\", n = length(amr.lm.pval.vector))) %>%\n",
    "mutate(\"eas_fdr\" = p.adjust(eas.lm.pval.vector, method = \"BH\", n = length(eas.lm.pval.vector))) %>%\n",
    "mutate(\"eur_fdr\" = p.adjust(eur.lm.pval.vector, method = \"BH\", n = length(eur.lm.pval.vector))) %>%\n",
    "mutate(\"sas_fdr\" = p.adjust(sas.lm.pval.vector, method = \"BH\", n = length(sas.lm.pval.vector)))\n",
    "\n",
    "\n",
    "head(lm.pval.df)"
   ]
  },
  {
   "cell_type": "code",
   "execution_count": 99,
   "metadata": {
    "hidden": true
   },
   "outputs": [],
   "source": [
    "#Now do the same thing for 22q2\n",
    "\n",
    "gene.names = colnames(final.gene.block)[2:ncol(final.gene.block)]\n",
    "\n",
    "\n",
    "afr.lm.pval.vector.22q2 = NULL\n",
    "amr.lm.pval.vector.22q2 = NULL\n",
    "eas.lm.pval.vector.22q2 = NULL\n",
    "eur.lm.pval.vector.22q2 = NULL\n",
    "sas.lm.pval.vector.22q2 = NULL\n",
    "afr.mean.dif.22q2 = NULL\n",
    "amr.mean.dif.22q2 = NULL\n",
    "eas.mean.dif.22q2 = NULL\n",
    "eur.mean.dif.22q2 = NULL\n",
    "sas.mean.dif.22q2 = NULL\n",
    "for(gene in gene.names){\n",
    "    \n",
    "    #Filter the chronos data so that it only includes the gene we are interested in \n",
    "    chronos.filtered = final.chronos.22q2 %>% select(sample, all_of(gene))\n",
    "    \n",
    "    #Filter the gene block data so that it only includes the gene we are interested in\n",
    "    gene.block.filtered = final.gene.block %>% select(sample, all_of(gene)) %>% rename(\"gene.symbol\" = 2)\n",
    "    \n",
    "    #For each gene in the loop, figure out which cell lines have the version of that gene for each ancestry group\n",
    "    afr.lines = gene.block.filtered %>% filter(gene.symbol %in% \"0\") %>% pull(sample)\n",
    "    non.afr.lines = gene.block.filtered %>% filter(!gene.symbol %in% \"0\") %>% pull(sample)\n",
    "    amr.lines = gene.block.filtered %>% filter(gene.symbol %in% \"1\") %>% pull(sample)\n",
    "    non.amr.lines = gene.block.filtered %>% filter(!gene.symbol %in% \"1\") %>% pull(sample)\n",
    "    eas.lines = gene.block.filtered %>% filter(gene.symbol %in% \"2\") %>% pull(sample)\n",
    "    non.eas.lines = gene.block.filtered %>% filter(!gene.symbol %in% \"2\") %>% pull(sample)\n",
    "    eur.lines = gene.block.filtered %>% filter(gene.symbol %in% \"3\") %>% pull(sample)\n",
    "    non.eur.lines = gene.block.filtered %>% filter(!gene.symbol %in% \"3\") %>% pull(sample)\n",
    "    sas.lines = gene.block.filtered %>% filter(gene.symbol %in% \"4\") %>% pull(sample)\n",
    "    non.sas.lines = gene.block.filtered %>% filter(!gene.symbol %in% \"4\") %>% pull(sample)\n",
    "    \n",
    "    \n",
    "    #Now get vectors of chronos scores for each ancestry group\n",
    "    afr.chronos = chronos.filtered %>% filter(sample %in% afr.lines) %>% pull(2)\n",
    "    non.afr.chronos = chronos.filtered %>% filter(sample %in% non.afr.lines) %>% pull(2)\n",
    "    \n",
    "    amr.chronos = chronos.filtered %>% filter(sample %in% amr.lines) %>% pull(2)\n",
    "    non.amr.chronos = chronos.filtered %>% filter(sample %in% non.amr.lines) %>% pull(2)\n",
    "    \n",
    "    eas.chronos = chronos.filtered %>% filter(sample %in% eas.lines) %>% pull(2)\n",
    "    non.eas.chronos = chronos.filtered %>% filter(sample %in% non.eas.lines) %>% pull(2)\n",
    "    \n",
    "    eur.chronos = chronos.filtered %>% filter(sample %in% eur.lines) %>% pull(2)\n",
    "    non.eur.chronos = chronos.filtered %>% filter(sample %in% non.eur.lines) %>% pull(2)\n",
    "    \n",
    "    sas.chronos = chronos.filtered %>% filter(sample %in% sas.lines) %>% pull(2)\n",
    "    non.sas.chronos = chronos.filtered %>% filter(sample %in% non.sas.lines) %>% pull(2)\n",
    "    \n",
    "    \n",
    "    #Assemble data frames for performing the linear regression\n",
    "    afr.df = c(afr.lines, non.afr.lines) %>%\n",
    "    data.frame() %>%\n",
    "    rename(\"sample\" = 1) %>%\n",
    "    mutate(\"ancestry_class\" = c(rep(0, length(afr.lines)), rep(1, length(non.afr.lines)))) %>%\n",
    "    mutate(\"chronos_score\" = c(afr.chronos, non.afr.chronos)) %>%\n",
    "    mutate(\"covariate\" = plyr::mapvalues(from = sample.annotation$sample, to = sample.annotation$primary_disease, sample, warn_missing = FALSE))\n",
    "    \n",
    "    amr.df = c(amr.lines, non.amr.lines) %>%\n",
    "    data.frame() %>%\n",
    "    rename(\"sample\" = 1) %>%\n",
    "    mutate(\"ancestry_class\" = c(rep(0, length(amr.lines)), rep(1, length(non.amr.lines)))) %>%\n",
    "    mutate(\"chronos_score\" = c(amr.chronos, non.amr.chronos)) %>%\n",
    "    mutate(\"covariate\" = plyr::mapvalues(from = sample.annotation$sample, to = sample.annotation$primary_disease, sample, warn_missing = FALSE))\n",
    "    \n",
    "    eas.df = c(eas.lines, non.eas.lines) %>%\n",
    "    data.frame() %>%\n",
    "    rename(\"sample\" = 1) %>%\n",
    "    mutate(\"ancestry_class\" = c(rep(0, length(eas.lines)), rep(1, length(non.eas.lines)))) %>%\n",
    "    mutate(\"chronos_score\" = c(eas.chronos, non.eas.chronos)) %>%\n",
    "    mutate(\"covariate\" = plyr::mapvalues(from = sample.annotation$sample, to = sample.annotation$primary_disease, sample, warn_missing = FALSE))\n",
    "    \n",
    "    eur.df = c(eur.lines, non.eur.lines) %>%\n",
    "    data.frame() %>%\n",
    "    rename(\"sample\" = 1) %>%\n",
    "    mutate(\"ancestry_class\" = c(rep(0, length(eur.lines)), rep(1, length(non.eur.lines)))) %>%\n",
    "    mutate(\"chronos_score\" = c(eur.chronos, non.eur.chronos)) %>%\n",
    "    mutate(\"covariate\" = plyr::mapvalues(from = sample.annotation$sample, to = sample.annotation$primary_disease, sample, warn_missing = FALSE))\n",
    "    \n",
    "    sas.df = c(sas.lines, non.sas.lines) %>%\n",
    "    data.frame() %>%\n",
    "    rename(\"sample\" = 1) %>%\n",
    "    mutate(\"ancestry_class\" = c(rep(0, length(sas.lines)), rep(1, length(non.sas.lines)))) %>%\n",
    "    mutate(\"chronos_score\" = c(sas.chronos, non.sas.chronos)) %>%\n",
    "    mutate(\"covariate\" = plyr::mapvalues(from = sample.annotation$sample, to = sample.annotation$primary_disease, sample, warn_missing = FALSE))\n",
    "    \n",
    "    \n",
    "    #Now calculate the p-values for each comparison (if there are more than three observations)\n",
    "    if(length(afr.chronos) >= 3 & length(non.afr.chronos) >= 3){\n",
    "        afr.pval = lm(chronos_score ~ ancestry_class + covariate, data = afr.df) %>% summary() %>% .[[4]] %>% .[2,4]\n",
    "    } else { afr.pval = 1 }\n",
    "    \n",
    "      if(length(amr.chronos) >= 3 & length(non.amr.chronos) >= 3){\n",
    "        amr.pval = lm(chronos_score ~ ancestry_class + covariate, data = amr.df) %>% summary() %>% .[[4]] %>% .[2,4] \n",
    "    } else { amr.pval = 1 }\n",
    "    \n",
    "      if(length(eas.chronos) >= 3 & length(non.eas.chronos) >= 3){\n",
    "        eas.pval = lm(chronos_score ~ ancestry_class + covariate, data = eas.df) %>% summary() %>% .[[4]] %>% .[2,4] \n",
    "    } else { eas.pval = 1 }\n",
    "    \n",
    "      if(length(eur.chronos) >= 3 & length(non.eur.chronos) >= 3){\n",
    "        eur.pval = lm(chronos_score ~ ancestry_class + covariate, data = eur.df) %>% summary() %>% .[[4]] %>% .[2,4] \n",
    "    } else { eur.pval = 1 }\n",
    "    \n",
    "      if(length(sas.chronos) >= 3 & length(non.sas.chronos) >= 3){\n",
    "        sas.pval = lm(chronos_score ~ ancestry_class + covariate, data = sas.df) %>% summary() %>% .[[4]] %>% .[2,4] \n",
    "    } else { sas.pval = 1 }\n",
    "    \n",
    "    \n",
    "    #Add the p-values to the vector outside of the loop\n",
    "    afr.lm.pval.vector.22q2 = c(afr.lm.pval.vector.22q2, afr.pval)\n",
    "    amr.lm.pval.vector.22q2 = c(amr.lm.pval.vector.22q2, amr.pval)\n",
    "    eas.lm.pval.vector.22q2 = c(eas.lm.pval.vector.22q2, eas.pval)\n",
    "    eur.lm.pval.vector.22q2 = c(eur.lm.pval.vector.22q2, eur.pval)\n",
    "    sas.lm.pval.vector.22q2 = c(sas.lm.pval.vector.22q2, sas.pval)\n",
    "    \n",
    "    \n",
    "    #Calculate the differences in means\n",
    "    afr.dif = mean(afr.chronos) - mean(non.afr.chronos)\n",
    "    amr.dif = mean(amr.chronos) - mean(non.amr.chronos)\n",
    "    eas.dif = mean(eas.chronos) - mean(non.eas.chronos)\n",
    "    eur.dif = mean(eur.chronos) - mean(non.eur.chronos)\n",
    "    sas.dif = mean(sas.chronos) - mean(non.sas.chronos)\n",
    "    \n",
    "    #Add the mean differences to the vectors\n",
    "    afr.mean.dif.22q2 = c(afr.mean.dif.22q2, afr.dif)\n",
    "    amr.mean.dif.22q2 = c(amr.mean.dif.22q2, amr.dif)\n",
    "    eas.mean.dif.22q2 = c(eas.mean.dif.22q2, eas.dif)\n",
    "    eur.mean.dif.22q2 = c(eur.mean.dif.22q2, eur.dif)\n",
    "    sas.mean.dif.22q2 = c(sas.mean.dif.22q2, sas.dif)\n",
    "}"
   ]
  },
  {
   "cell_type": "code",
   "execution_count": 100,
   "metadata": {
    "hidden": true
   },
   "outputs": [
    {
     "data": {
      "text/html": [
       "<table class=\"dataframe\">\n",
       "<caption>A data.frame: 6 × 16</caption>\n",
       "<thead>\n",
       "\t<tr><th></th><th scope=col>gene</th><th scope=col>afr.lm.pval.vector.22q2</th><th scope=col>amr.lm.pval.vector.22q2</th><th scope=col>eas.lm.pval.vector.22q2</th><th scope=col>eur.lm.pval.vector.22q2</th><th scope=col>sas.lm.pval.vector.22q2</th><th scope=col>afr.mean.dif.22q2</th><th scope=col>amr.mean.dif.22q2</th><th scope=col>eas.mean.dif.22q2</th><th scope=col>eur.mean.dif.22q2</th><th scope=col>sas.mean.dif.22q2</th><th scope=col>afr_fdr</th><th scope=col>amr_fdr</th><th scope=col>eas_fdr</th><th scope=col>eur_fdr</th><th scope=col>sas_fdr</th></tr>\n",
       "\t<tr><th></th><th scope=col>&lt;chr&gt;</th><th scope=col>&lt;dbl&gt;</th><th scope=col>&lt;dbl&gt;</th><th scope=col>&lt;dbl&gt;</th><th scope=col>&lt;dbl&gt;</th><th scope=col>&lt;dbl&gt;</th><th scope=col>&lt;dbl&gt;</th><th scope=col>&lt;dbl&gt;</th><th scope=col>&lt;dbl&gt;</th><th scope=col>&lt;dbl&gt;</th><th scope=col>&lt;dbl&gt;</th><th scope=col>&lt;dbl&gt;</th><th scope=col>&lt;dbl&gt;</th><th scope=col>&lt;dbl&gt;</th><th scope=col>&lt;dbl&gt;</th><th scope=col>&lt;dbl&gt;</th></tr>\n",
       "</thead>\n",
       "<tbody>\n",
       "\t<tr><th scope=row>1</th><td>A1BG   </td><td>0.63607402</td><td>0.4347907</td><td>0.24718420</td><td>0.37926825</td><td>1.0000000</td><td> 0.014246271</td><td> 0.047282961</td><td>-0.012410097</td><td> 0.008117148</td><td>-0.223069865</td><td>0.9999923</td><td>1</td><td>0.9052003</td><td>0.9586727</td><td>1</td></tr>\n",
       "\t<tr><th scope=row>2</th><td>A1CF   </td><td>0.08152746</td><td>0.7294415</td><td>0.79898092</td><td>0.66298261</td><td>0.5208707</td><td>-0.038100883</td><td> 0.044809258</td><td>-0.003628359</td><td> 0.008491365</td><td> 0.035171822</td><td>0.9999923</td><td>1</td><td>0.9848630</td><td>0.9867853</td><td>1</td></tr>\n",
       "\t<tr><th scope=row>3</th><td>A2M    </td><td>0.69694086</td><td>1.0000000</td><td>0.45680164</td><td>0.48365880</td><td>1.0000000</td><td>-0.009297125</td><td> 0.035183347</td><td>-0.002255537</td><td> 0.002553366</td><td> 0.045833413</td><td>0.9999923</td><td>1</td><td>0.9479719</td><td>0.9785046</td><td>1</td></tr>\n",
       "\t<tr><th scope=row>4</th><td>A2ML1  </td><td>0.71604993</td><td>0.8478363</td><td>0.07015254</td><td>0.06577663</td><td>1.0000000</td><td> 0.007199391</td><td>-0.023627374</td><td> 0.010597730</td><td>-0.010809465</td><td> 0.010846957</td><td>0.9999923</td><td>1</td><td>0.8029020</td><td>0.8624431</td><td>1</td></tr>\n",
       "\t<tr><th scope=row>5</th><td>A3GALT2</td><td>0.70774004</td><td>1.0000000</td><td>0.79703538</td><td>0.93419916</td><td>0.9916234</td><td> 0.005166178</td><td>-0.003243663</td><td>-0.015240973</td><td> 0.013478353</td><td>-0.005084751</td><td>0.9999923</td><td>1</td><td>0.9848630</td><td>0.9959178</td><td>1</td></tr>\n",
       "\t<tr><th scope=row>6</th><td>A4GALT </td><td>0.82364593</td><td>1.0000000</td><td>0.12362926</td><td>0.12837428</td><td>1.0000000</td><td> 0.005254821</td><td> 0.005388613</td><td>-0.009904195</td><td> 0.009703529</td><td>-0.098166525</td><td>0.9999923</td><td>1</td><td>0.8367271</td><td>0.9023872</td><td>1</td></tr>\n",
       "</tbody>\n",
       "</table>\n"
      ],
      "text/latex": [
       "A data.frame: 6 × 16\n",
       "\\begin{tabular}{r|llllllllllllllll}\n",
       "  & gene & afr.lm.pval.vector.22q2 & amr.lm.pval.vector.22q2 & eas.lm.pval.vector.22q2 & eur.lm.pval.vector.22q2 & sas.lm.pval.vector.22q2 & afr.mean.dif.22q2 & amr.mean.dif.22q2 & eas.mean.dif.22q2 & eur.mean.dif.22q2 & sas.mean.dif.22q2 & afr\\_fdr & amr\\_fdr & eas\\_fdr & eur\\_fdr & sas\\_fdr\\\\\n",
       "  & <chr> & <dbl> & <dbl> & <dbl> & <dbl> & <dbl> & <dbl> & <dbl> & <dbl> & <dbl> & <dbl> & <dbl> & <dbl> & <dbl> & <dbl> & <dbl>\\\\\n",
       "\\hline\n",
       "\t1 & A1BG    & 0.63607402 & 0.4347907 & 0.24718420 & 0.37926825 & 1.0000000 &  0.014246271 &  0.047282961 & -0.012410097 &  0.008117148 & -0.223069865 & 0.9999923 & 1 & 0.9052003 & 0.9586727 & 1\\\\\n",
       "\t2 & A1CF    & 0.08152746 & 0.7294415 & 0.79898092 & 0.66298261 & 0.5208707 & -0.038100883 &  0.044809258 & -0.003628359 &  0.008491365 &  0.035171822 & 0.9999923 & 1 & 0.9848630 & 0.9867853 & 1\\\\\n",
       "\t3 & A2M     & 0.69694086 & 1.0000000 & 0.45680164 & 0.48365880 & 1.0000000 & -0.009297125 &  0.035183347 & -0.002255537 &  0.002553366 &  0.045833413 & 0.9999923 & 1 & 0.9479719 & 0.9785046 & 1\\\\\n",
       "\t4 & A2ML1   & 0.71604993 & 0.8478363 & 0.07015254 & 0.06577663 & 1.0000000 &  0.007199391 & -0.023627374 &  0.010597730 & -0.010809465 &  0.010846957 & 0.9999923 & 1 & 0.8029020 & 0.8624431 & 1\\\\\n",
       "\t5 & A3GALT2 & 0.70774004 & 1.0000000 & 0.79703538 & 0.93419916 & 0.9916234 &  0.005166178 & -0.003243663 & -0.015240973 &  0.013478353 & -0.005084751 & 0.9999923 & 1 & 0.9848630 & 0.9959178 & 1\\\\\n",
       "\t6 & A4GALT  & 0.82364593 & 1.0000000 & 0.12362926 & 0.12837428 & 1.0000000 &  0.005254821 &  0.005388613 & -0.009904195 &  0.009703529 & -0.098166525 & 0.9999923 & 1 & 0.8367271 & 0.9023872 & 1\\\\\n",
       "\\end{tabular}\n"
      ],
      "text/markdown": [
       "\n",
       "A data.frame: 6 × 16\n",
       "\n",
       "| <!--/--> | gene &lt;chr&gt; | afr.lm.pval.vector.22q2 &lt;dbl&gt; | amr.lm.pval.vector.22q2 &lt;dbl&gt; | eas.lm.pval.vector.22q2 &lt;dbl&gt; | eur.lm.pval.vector.22q2 &lt;dbl&gt; | sas.lm.pval.vector.22q2 &lt;dbl&gt; | afr.mean.dif.22q2 &lt;dbl&gt; | amr.mean.dif.22q2 &lt;dbl&gt; | eas.mean.dif.22q2 &lt;dbl&gt; | eur.mean.dif.22q2 &lt;dbl&gt; | sas.mean.dif.22q2 &lt;dbl&gt; | afr_fdr &lt;dbl&gt; | amr_fdr &lt;dbl&gt; | eas_fdr &lt;dbl&gt; | eur_fdr &lt;dbl&gt; | sas_fdr &lt;dbl&gt; |\n",
       "|---|---|---|---|---|---|---|---|---|---|---|---|---|---|---|---|---|\n",
       "| 1 | A1BG    | 0.63607402 | 0.4347907 | 0.24718420 | 0.37926825 | 1.0000000 |  0.014246271 |  0.047282961 | -0.012410097 |  0.008117148 | -0.223069865 | 0.9999923 | 1 | 0.9052003 | 0.9586727 | 1 |\n",
       "| 2 | A1CF    | 0.08152746 | 0.7294415 | 0.79898092 | 0.66298261 | 0.5208707 | -0.038100883 |  0.044809258 | -0.003628359 |  0.008491365 |  0.035171822 | 0.9999923 | 1 | 0.9848630 | 0.9867853 | 1 |\n",
       "| 3 | A2M     | 0.69694086 | 1.0000000 | 0.45680164 | 0.48365880 | 1.0000000 | -0.009297125 |  0.035183347 | -0.002255537 |  0.002553366 |  0.045833413 | 0.9999923 | 1 | 0.9479719 | 0.9785046 | 1 |\n",
       "| 4 | A2ML1   | 0.71604993 | 0.8478363 | 0.07015254 | 0.06577663 | 1.0000000 |  0.007199391 | -0.023627374 |  0.010597730 | -0.010809465 |  0.010846957 | 0.9999923 | 1 | 0.8029020 | 0.8624431 | 1 |\n",
       "| 5 | A3GALT2 | 0.70774004 | 1.0000000 | 0.79703538 | 0.93419916 | 0.9916234 |  0.005166178 | -0.003243663 | -0.015240973 |  0.013478353 | -0.005084751 | 0.9999923 | 1 | 0.9848630 | 0.9959178 | 1 |\n",
       "| 6 | A4GALT  | 0.82364593 | 1.0000000 | 0.12362926 | 0.12837428 | 1.0000000 |  0.005254821 |  0.005388613 | -0.009904195 |  0.009703529 | -0.098166525 | 0.9999923 | 1 | 0.8367271 | 0.9023872 | 1 |\n",
       "\n"
      ],
      "text/plain": [
       "  gene    afr.lm.pval.vector.22q2 amr.lm.pval.vector.22q2\n",
       "1 A1BG    0.63607402              0.4347907              \n",
       "2 A1CF    0.08152746              0.7294415              \n",
       "3 A2M     0.69694086              1.0000000              \n",
       "4 A2ML1   0.71604993              0.8478363              \n",
       "5 A3GALT2 0.70774004              1.0000000              \n",
       "6 A4GALT  0.82364593              1.0000000              \n",
       "  eas.lm.pval.vector.22q2 eur.lm.pval.vector.22q2 sas.lm.pval.vector.22q2\n",
       "1 0.24718420              0.37926825              1.0000000              \n",
       "2 0.79898092              0.66298261              0.5208707              \n",
       "3 0.45680164              0.48365880              1.0000000              \n",
       "4 0.07015254              0.06577663              1.0000000              \n",
       "5 0.79703538              0.93419916              0.9916234              \n",
       "6 0.12362926              0.12837428              1.0000000              \n",
       "  afr.mean.dif.22q2 amr.mean.dif.22q2 eas.mean.dif.22q2 eur.mean.dif.22q2\n",
       "1  0.014246271       0.047282961      -0.012410097       0.008117148     \n",
       "2 -0.038100883       0.044809258      -0.003628359       0.008491365     \n",
       "3 -0.009297125       0.035183347      -0.002255537       0.002553366     \n",
       "4  0.007199391      -0.023627374       0.010597730      -0.010809465     \n",
       "5  0.005166178      -0.003243663      -0.015240973       0.013478353     \n",
       "6  0.005254821       0.005388613      -0.009904195       0.009703529     \n",
       "  sas.mean.dif.22q2 afr_fdr   amr_fdr eas_fdr   eur_fdr   sas_fdr\n",
       "1 -0.223069865      0.9999923 1       0.9052003 0.9586727 1      \n",
       "2  0.035171822      0.9999923 1       0.9848630 0.9867853 1      \n",
       "3  0.045833413      0.9999923 1       0.9479719 0.9785046 1      \n",
       "4  0.010846957      0.9999923 1       0.8029020 0.8624431 1      \n",
       "5 -0.005084751      0.9999923 1       0.9848630 0.9959178 1      \n",
       "6 -0.098166525      0.9999923 1       0.8367271 0.9023872 1      "
      ]
     },
     "metadata": {},
     "output_type": "display_data"
    }
   ],
   "source": [
    "#Construct a dataset with all of this information\n",
    "lm.pval.df.22q2 = cbind(afr.lm.pval.vector.22q2, amr.lm.pval.vector.22q2, eas.lm.pval.vector.22q2, eur.lm.pval.vector.22q2, sas.lm.pval.vector.22q2, afr.mean.dif.22q2, amr.mean.dif.22q2, eas.mean.dif.22q2, eur.mean.dif.22q2, sas.mean.dif.22q2) %>%\n",
    "data.frame() %>%\n",
    "mutate(\"gene\" = gene.names, .before = 1) %>%\n",
    "mutate(\"afr_fdr\" = p.adjust(afr.lm.pval.vector.22q2, method = \"BH\", n = length(afr.lm.pval.vector.22q2))) %>%\n",
    "mutate(\"amr_fdr\" = p.adjust(amr.lm.pval.vector.22q2, method = \"BH\", n = length(amr.lm.pval.vector.22q2))) %>%\n",
    "mutate(\"eas_fdr\" = p.adjust(eas.lm.pval.vector.22q2, method = \"BH\", n = length(eas.lm.pval.vector.22q2))) %>%\n",
    "mutate(\"eur_fdr\" = p.adjust(eur.lm.pval.vector.22q2, method = \"BH\", n = length(eur.lm.pval.vector.22q2))) %>%\n",
    "mutate(\"sas_fdr\" = p.adjust(sas.lm.pval.vector.22q2, method = \"BH\", n = length(sas.lm.pval.vector.22q2)))\n",
    "\n",
    "\n",
    "head(lm.pval.df.22q2)"
   ]
  },
  {
   "cell_type": "code",
   "execution_count": 102,
   "metadata": {
    "hidden": true
   },
   "outputs": [
    {
     "data": {
      "text/html": [
       "38"
      ],
      "text/latex": [
       "38"
      ],
      "text/markdown": [
       "38"
      ],
      "text/plain": [
       "[1] 38"
      ]
     },
     "metadata": {},
     "output_type": "display_data"
    },
    {
     "data": {
      "text/html": [
       "49"
      ],
      "text/latex": [
       "49"
      ],
      "text/markdown": [
       "49"
      ],
      "text/plain": [
       "[1] 49"
      ]
     },
     "metadata": {},
     "output_type": "display_data"
    }
   ],
   "source": [
    "lm.pval.df.22q2 %>%\n",
    "filter(afr_fdr < 0.05 | amr_fdr < 0.05 | eas_fdr < 0.05 | eur_fdr < 0.05 | sas_fdr < 0.05) %>%\n",
    "pull(gene) %>%\n",
    "unique() %>%\n",
    "length()\n",
    "\n",
    "\n",
    "\n",
    "lm.pval.df %>%\n",
    "filter(afr_fdr < 0.05 | amr_fdr < 0.05 | eas_fdr < 0.05 | eur_fdr < 0.05 | sas_fdr < 0.05) %>%\n",
    "pull(gene) %>%\n",
    "unique() %>%\n",
    "length()"
   ]
  },
  {
   "cell_type": "code",
   "execution_count": 105,
   "metadata": {
    "hidden": true
   },
   "outputs": [],
   "source": [
    "#Write two datasets so that we don't need to re-compute everything\n",
    "setwd(\"/home/jupyter/Ancestry/analysis/nature_genetics_reviews/reviewer_4\")\n",
    "write.table(lm.pval.df, \"chronos_22q1_ancestry_associated_dependency_pvals.txt\", sep = \"\\t\", col.names = TRUE, row.names = FALSE, quote = FALSE)\n",
    "write.table(lm.pval.df.22q2, \"chronos_22q2_ancestry_associated_dependency_pvals.txt\", sep  = \"\\t\", col.names = TRUE, row.names = FALSE, quote = FALSE)"
   ]
  },
  {
   "cell_type": "code",
   "execution_count": 106,
   "metadata": {
    "hidden": true
   },
   "outputs": [],
   "source": [
    "#Read the datasets back in, if necessary\n",
    "setwd(\"/home/jupyter/Ancestry/analysis/nature_genetics_reviews/reviewer_4\")\n",
    "lm.pval.df = read.table(\"chronos_22q1_ancestry_associated_dependency_pvals.txt\", sep = \"\\t\", header = T)\n",
    "lm.pval.df.22q2 = read.table(\"chronos_22q2_ancestry_associated_dependency_pvals.txt\", sep = \"\\t\", header = T)"
   ]
  },
  {
   "cell_type": "code",
   "execution_count": 6,
   "metadata": {
    "hidden": true
   },
   "outputs": [
    {
     "data": {
      "text/html": [
       "<table class=\"dataframe\">\n",
       "<caption>A data.frame: 6 × 5</caption>\n",
       "<thead>\n",
       "\t<tr><th></th><th scope=col>gene</th><th scope=col>differential</th><th scope=col>flag</th><th scope=col>ancestry</th><th scope=col>fdr</th></tr>\n",
       "\t<tr><th></th><th scope=col>&lt;chr&gt;</th><th scope=col>&lt;dbl&gt;</th><th scope=col>&lt;chr&gt;</th><th scope=col>&lt;chr&gt;</th><th scope=col>&lt;dbl&gt;</th></tr>\n",
       "</thead>\n",
       "<tbody>\n",
       "\t<tr><th scope=row>1</th><td>A1BG   </td><td> 0.018967685</td><td>A1BG_afr   </td><td>afr</td><td>0.998556</td></tr>\n",
       "\t<tr><th scope=row>2</th><td>A1CF   </td><td>-0.035117475</td><td>A1CF_afr   </td><td>afr</td><td>0.998556</td></tr>\n",
       "\t<tr><th scope=row>3</th><td>A2M    </td><td>-0.010031350</td><td>A2M_afr    </td><td>afr</td><td>0.998556</td></tr>\n",
       "\t<tr><th scope=row>4</th><td>A2ML1  </td><td> 0.009988105</td><td>A2ML1_afr  </td><td>afr</td><td>0.998556</td></tr>\n",
       "\t<tr><th scope=row>5</th><td>A3GALT2</td><td> 0.003320528</td><td>A3GALT2_afr</td><td>afr</td><td>0.998556</td></tr>\n",
       "\t<tr><th scope=row>6</th><td>A4GALT </td><td> 0.004528391</td><td>A4GALT_afr </td><td>afr</td><td>0.998556</td></tr>\n",
       "</tbody>\n",
       "</table>\n"
      ],
      "text/latex": [
       "A data.frame: 6 × 5\n",
       "\\begin{tabular}{r|lllll}\n",
       "  & gene & differential & flag & ancestry & fdr\\\\\n",
       "  & <chr> & <dbl> & <chr> & <chr> & <dbl>\\\\\n",
       "\\hline\n",
       "\t1 & A1BG    &  0.018967685 & A1BG\\_afr    & afr & 0.998556\\\\\n",
       "\t2 & A1CF    & -0.035117475 & A1CF\\_afr    & afr & 0.998556\\\\\n",
       "\t3 & A2M     & -0.010031350 & A2M\\_afr     & afr & 0.998556\\\\\n",
       "\t4 & A2ML1   &  0.009988105 & A2ML1\\_afr   & afr & 0.998556\\\\\n",
       "\t5 & A3GALT2 &  0.003320528 & A3GALT2\\_afr & afr & 0.998556\\\\\n",
       "\t6 & A4GALT  &  0.004528391 & A4GALT\\_afr  & afr & 0.998556\\\\\n",
       "\\end{tabular}\n"
      ],
      "text/markdown": [
       "\n",
       "A data.frame: 6 × 5\n",
       "\n",
       "| <!--/--> | gene &lt;chr&gt; | differential &lt;dbl&gt; | flag &lt;chr&gt; | ancestry &lt;chr&gt; | fdr &lt;dbl&gt; |\n",
       "|---|---|---|---|---|---|\n",
       "| 1 | A1BG    |  0.018967685 | A1BG_afr    | afr | 0.998556 |\n",
       "| 2 | A1CF    | -0.035117475 | A1CF_afr    | afr | 0.998556 |\n",
       "| 3 | A2M     | -0.010031350 | A2M_afr     | afr | 0.998556 |\n",
       "| 4 | A2ML1   |  0.009988105 | A2ML1_afr   | afr | 0.998556 |\n",
       "| 5 | A3GALT2 |  0.003320528 | A3GALT2_afr | afr | 0.998556 |\n",
       "| 6 | A4GALT  |  0.004528391 | A4GALT_afr  | afr | 0.998556 |\n",
       "\n"
      ],
      "text/plain": [
       "  gene    differential flag        ancestry fdr     \n",
       "1 A1BG     0.018967685 A1BG_afr    afr      0.998556\n",
       "2 A1CF    -0.035117475 A1CF_afr    afr      0.998556\n",
       "3 A2M     -0.010031350 A2M_afr     afr      0.998556\n",
       "4 A2ML1    0.009988105 A2ML1_afr   afr      0.998556\n",
       "5 A3GALT2  0.003320528 A3GALT2_afr afr      0.998556\n",
       "6 A4GALT   0.004528391 A4GALT_afr  afr      0.998556"
      ]
     },
     "metadata": {},
     "output_type": "display_data"
    }
   ],
   "source": [
    "#Make a data frame that we can use for creating the volcano plot\n",
    "differential.df = lm.pval.df %>%\n",
    "select(gene, afr.mean.dif, amr.mean.dif, eas.mean.dif, eur.mean.dif, sas.mean.dif) %>%\n",
    "melt(id = \"gene\") %>%\n",
    "rename(\"ancestry\" = 2, \"differential\" = 3) %>%\n",
    "mutate(ancestry = gsub(\"\\\\..*\", \"\", ancestry)) %>%\n",
    "mutate(\"flag\" = paste(gene, ancestry, sep = \"_\"))\n",
    "\n",
    "fdr.df = lm.pval.df %>%\n",
    "select(gene, \"afr_fdr\", \"amr_fdr\", \"eas_fdr\", \"eur_fdr\", \"sas_fdr\") %>%\n",
    "melt(id = \"gene\") %>%\n",
    "rename(\"ancestry\" = 2, \"fdr\" = 3) %>%\n",
    "mutate(ancestry = gsub(\"_..*\", \"\", ancestry)) %>%\n",
    "mutate(\"flag\" = paste(gene, ancestry, sep = \"_\"))\n",
    "\n",
    "\n",
    "#Merge the fdr and the differential data together\n",
    "merged.df.for.volcano.plot = inner_join(differential.df, fdr.df, by = \"flag\") %>%\n",
    "select(-ancestry.x, -gene.y) %>%\n",
    "rename(\"gene\" = 1, \"ancestry\" = 4)\n",
    "\n",
    "head(merged.df.for.volcano.plot)"
   ]
  },
  {
   "cell_type": "code",
   "execution_count": 7,
   "metadata": {
    "hidden": true
   },
   "outputs": [
    {
     "name": "stderr",
     "output_type": "stream",
     "text": [
      "Warning message:\n",
      "“\u001b[1m\u001b[22mRemoved 119 rows containing missing values (`geom_point()`).”\n",
      "Warning message:\n",
      "“\u001b[1m\u001b[22mRemoved 119 rows containing missing values (`geom_text_repel()`).”\n",
      "Warning message:\n",
      "“\u001b[1m\u001b[22mRemoved 119 rows containing missing values (`geom_point()`).”\n",
      "Warning message:\n",
      "“\u001b[1m\u001b[22mRemoved 119 rows containing missing values (`geom_text_repel()`).”\n"
     ]
    },
    {
     "data": {
      "image/png": "[encoded data removed]",
      "text/plain": [
       "plot without title"
      ]
     },
     "metadata": {
      "image/png": {
       "height": 420,
       "width": 420
      }
     },
     "output_type": "display_data"
    }
   ],
   "source": [
    "#Create the color vector\n",
    "group.colors <- c(\"darkorange2\", \"firebrick4\", \"chartreuse4\", \"dodgerblue4\", \"darkorchid4\")\n",
    "\n",
    "#Now finally plot the volcano plot\n",
    "merged.df.for.volcano.plot %>%\n",
    "ggplot(aes(x = differential, y = -log10(fdr), color = ancestry)) +\n",
    "geom_point(aes(x = differential, y = -log10(fdr), color = ancestry)) +\n",
    "geom_hline(linetype = \"dotted\", yintercept = 1.301) +\n",
    "\n",
    "theme_bw() +\n",
    "scale_colour_manual(values = group.colors) +\n",
    "\n",
    "theme(\n",
    "panel.grid.major = element_blank(),\n",
    "panel.grid.minor = element_blank(), \n",
    "axis.line = element_line(color = \"black\")\n",
    ") +\n",
    "\n",
    "theme(\n",
    "axis.title.x = element_text(color = \"black\", size = 12),\n",
    "axis.title.y = element_text(color = \"black\", size = 12)\n",
    ") +\n",
    "\n",
    "theme(\n",
    "axis.text=element_text(size = 12),\n",
    "axis.title=element_text(size = 12)\n",
    ") +\n",
    "\n",
    "theme(\n",
    "legend.title = element_text(size = 12),\n",
    "legend.text = element_text(size = 12)\n",
    ") +\n",
    "\n",
    "ylab(\"-log10(fdr)\") +\n",
    "xlab(\"Difference in Chronos Score\") +\n",
    "labs(fill='Ancestry Group') +\n",
    "scale_y_continuous(expand = c(0,0), limits = c(0, 15)) +\n",
    "scale_x_continuous(expand = c(0,0), limits = c(-0.4, 0.4)) +\n",
    "\n",
    "geom_text_repel(\n",
    "aes(label=ifelse(-log10(fdr) > 5, \n",
    "as.character(gene),'')), \n",
    "box.padding = 0.5,\n",
    "nudge_y = 1,\n",
    "segment.ncp = 3,\n",
    "segment.angle = 20)\n",
    "\n",
    "#Export it to the google bucket\n",
    "setwd('/home/jupyter/Ancestry/analysis/nature_genetics_reviews/reviewer_4')\n",
    "ggsave(\"r4c2_volcano_plot.pdf\", width = 4, height = 3)\n",
    "system(glue::glue(\"\n",
    "cd /home/jupyter/Ancestry/analysis/nature_genetics_reviews/reviewer_4\n",
    "gsutil cp r4c2_volcano_plot.pdf gs://fc-45c0e148-0b1c-4244-9bfc-feb559bbc514\n",
    "\"))"
   ]
  },
  {
   "cell_type": "markdown",
   "metadata": {
    "hidden": true
   },
   "source": [
    "Now let's compare the ancestry-associated dependencies in our original analysis vs those in the lineage-correted analysis.\n",
    "\n",
    "\n",
    "This analysis is now updated to only include the lineage-corrected ancestry-associated genes."
   ]
  },
  {
   "cell_type": "code",
   "execution_count": 1,
   "metadata": {
    "hidden": true
   },
   "outputs": [],
   "source": [
    "#Load in the original p-values\n",
    "setwd(\"/home/jupyter/Ancestry/analysis/locus_specific_associations\")\n",
    "original.ancestry.association.pvals = read.table(\"ancestry_locus_gene_associations.txt\", sep = \"\\t\", header = T)"
   ]
  },
  {
   "cell_type": "code",
   "execution_count": null,
   "metadata": {
    "hidden": true
   },
   "outputs": [],
   "source": [
    "#Get a vector of ancestry-associated genes\n",
    "#Make a vector of all of the ancestry-associated genes\n",
    "setwd(\"/home/jupyter/Ancestry/analysis/nature_genetics_reviews/reviewer_4\")\n",
    "ancestry.associated.gene.vector = read.table(\"lm_ancestry_associated_dependency_pvals.txt\", sep = \"\\t\", header = TRUE) %>%\n",
    "filter(afr_fdr < 0.05 | amr_fdr < 0.05 | eas_fdr < 0.05 | eur_fdr < 0.05 | sas_fdr < 0.05) %>%\n",
    "pull(gene) %>%\n",
    "unique()"
   ]
  },
  {
   "cell_type": "code",
   "execution_count": 10,
   "metadata": {
    "hidden": true
   },
   "outputs": [
    {
     "data": {
      "text/html": [
       "<table class=\"dataframe\">\n",
       "<caption>A data.frame: 6 × 8</caption>\n",
       "<thead>\n",
       "\t<tr><th></th><th scope=col>gene</th><th scope=col>old_pval</th><th scope=col>old_difference</th><th scope=col>ancestry</th><th scope=col>old_fdr</th><th scope=col>flag</th><th scope=col>new_differential</th><th scope=col>new_fdr</th></tr>\n",
       "\t<tr><th></th><th scope=col>&lt;chr&gt;</th><th scope=col>&lt;dbl&gt;</th><th scope=col>&lt;dbl&gt;</th><th scope=col>&lt;chr&gt;</th><th scope=col>&lt;dbl&gt;</th><th scope=col>&lt;chr&gt;</th><th scope=col>&lt;dbl&gt;</th><th scope=col>&lt;dbl&gt;</th></tr>\n",
       "</thead>\n",
       "<tbody>\n",
       "\t<tr><th scope=row>1</th><td>A1BG   </td><td>0.07814048</td><td> 0.018967685</td><td>afr</td><td>0.9259430</td><td>A1BG_afr   </td><td> 0.018967685</td><td>0.998556</td></tr>\n",
       "\t<tr><th scope=row>2</th><td>A1CF   </td><td>0.08035465</td><td>-0.035117475</td><td>afr</td><td>0.9270243</td><td>A1CF_afr   </td><td>-0.035117475</td><td>0.998556</td></tr>\n",
       "\t<tr><th scope=row>3</th><td>A2M    </td><td>0.58861022</td><td>-0.010031350</td><td>afr</td><td>1.0000000</td><td>A2M_afr    </td><td>-0.010031350</td><td>0.998556</td></tr>\n",
       "\t<tr><th scope=row>4</th><td>A2ML1  </td><td>0.82034442</td><td> 0.009988105</td><td>afr</td><td>1.0000000</td><td>A2ML1_afr  </td><td> 0.009988105</td><td>0.998556</td></tr>\n",
       "\t<tr><th scope=row>5</th><td>A3GALT2</td><td>0.96604057</td><td> 0.003320528</td><td>afr</td><td>1.0000000</td><td>A3GALT2_afr</td><td> 0.003320528</td><td>0.998556</td></tr>\n",
       "\t<tr><th scope=row>6</th><td>A4GALT </td><td>0.87594000</td><td> 0.004528391</td><td>afr</td><td>1.0000000</td><td>A4GALT_afr </td><td> 0.004528391</td><td>0.998556</td></tr>\n",
       "</tbody>\n",
       "</table>\n"
      ],
      "text/latex": [
       "A data.frame: 6 × 8\n",
       "\\begin{tabular}{r|llllllll}\n",
       "  & gene & old\\_pval & old\\_difference & ancestry & old\\_fdr & flag & new\\_differential & new\\_fdr\\\\\n",
       "  & <chr> & <dbl> & <dbl> & <chr> & <dbl> & <chr> & <dbl> & <dbl>\\\\\n",
       "\\hline\n",
       "\t1 & A1BG    & 0.07814048 &  0.018967685 & afr & 0.9259430 & A1BG\\_afr    &  0.018967685 & 0.998556\\\\\n",
       "\t2 & A1CF    & 0.08035465 & -0.035117475 & afr & 0.9270243 & A1CF\\_afr    & -0.035117475 & 0.998556\\\\\n",
       "\t3 & A2M     & 0.58861022 & -0.010031350 & afr & 1.0000000 & A2M\\_afr     & -0.010031350 & 0.998556\\\\\n",
       "\t4 & A2ML1   & 0.82034442 &  0.009988105 & afr & 1.0000000 & A2ML1\\_afr   &  0.009988105 & 0.998556\\\\\n",
       "\t5 & A3GALT2 & 0.96604057 &  0.003320528 & afr & 1.0000000 & A3GALT2\\_afr &  0.003320528 & 0.998556\\\\\n",
       "\t6 & A4GALT  & 0.87594000 &  0.004528391 & afr & 1.0000000 & A4GALT\\_afr  &  0.004528391 & 0.998556\\\\\n",
       "\\end{tabular}\n"
      ],
      "text/markdown": [
       "\n",
       "A data.frame: 6 × 8\n",
       "\n",
       "| <!--/--> | gene &lt;chr&gt; | old_pval &lt;dbl&gt; | old_difference &lt;dbl&gt; | ancestry &lt;chr&gt; | old_fdr &lt;dbl&gt; | flag &lt;chr&gt; | new_differential &lt;dbl&gt; | new_fdr &lt;dbl&gt; |\n",
       "|---|---|---|---|---|---|---|---|---|\n",
       "| 1 | A1BG    | 0.07814048 |  0.018967685 | afr | 0.9259430 | A1BG_afr    |  0.018967685 | 0.998556 |\n",
       "| 2 | A1CF    | 0.08035465 | -0.035117475 | afr | 0.9270243 | A1CF_afr    | -0.035117475 | 0.998556 |\n",
       "| 3 | A2M     | 0.58861022 | -0.010031350 | afr | 1.0000000 | A2M_afr     | -0.010031350 | 0.998556 |\n",
       "| 4 | A2ML1   | 0.82034442 |  0.009988105 | afr | 1.0000000 | A2ML1_afr   |  0.009988105 | 0.998556 |\n",
       "| 5 | A3GALT2 | 0.96604057 |  0.003320528 | afr | 1.0000000 | A3GALT2_afr |  0.003320528 | 0.998556 |\n",
       "| 6 | A4GALT  | 0.87594000 |  0.004528391 | afr | 1.0000000 | A4GALT_afr  |  0.004528391 | 0.998556 |\n",
       "\n"
      ],
      "text/plain": [
       "  gene    old_pval   old_difference ancestry old_fdr   flag       \n",
       "1 A1BG    0.07814048  0.018967685   afr      0.9259430 A1BG_afr   \n",
       "2 A1CF    0.08035465 -0.035117475   afr      0.9270243 A1CF_afr   \n",
       "3 A2M     0.58861022 -0.010031350   afr      1.0000000 A2M_afr    \n",
       "4 A2ML1   0.82034442  0.009988105   afr      1.0000000 A2ML1_afr  \n",
       "5 A3GALT2 0.96604057  0.003320528   afr      1.0000000 A3GALT2_afr\n",
       "6 A4GALT  0.87594000  0.004528391   afr      1.0000000 A4GALT_afr \n",
       "  new_differential new_fdr \n",
       "1  0.018967685     0.998556\n",
       "2 -0.035117475     0.998556\n",
       "3 -0.010031350     0.998556\n",
       "4  0.009988105     0.998556\n",
       "5  0.003320528     0.998556\n",
       "6  0.004528391     0.998556"
      ]
     },
     "metadata": {},
     "output_type": "display_data"
    }
   ],
   "source": [
    "#Create a merged dataset with only the ancestry-associated genes\n",
    "df.for.ancestry.associated.scatterplot = original.ancestry.association.pvals %>%\n",
    "mutate(ancestry = tolower(ancestry)) %>%\n",
    "mutate(\"flag\" = paste(gene, ancestry, sep = \"_\")) %>%\n",
    "rename(\"old_pval\" = pval, \"old_difference\" = difference, \"old_fdr\" = FDR) %>%\n",
    "inner_join(merged.df.for.volcano.plot, by = \"flag\") %>%\n",
    "select(-ancestry.y, -gene.y) %>%\n",
    "rename(\"gene\" = gene.x, \"ancestry\" = ancestry.x, \"new_differential\" = differential, \"new_fdr\" = fdr)\n",
    "       \n",
    "       \n",
    "head(df.for.ancestry.associated.scatterplot)"
   ]
  },
  {
   "cell_type": "code",
   "execution_count": 11,
   "metadata": {
    "hidden": true
   },
   "outputs": [
    {
     "data": {
      "image/png": "[encoded data removed]",
      "text/plain": [
       "plot without title"
      ]
     },
     "metadata": {
      "image/png": {
       "height": 420,
       "width": 420
      }
     },
     "output_type": "display_data"
    }
   ],
   "source": [
    "#Plot the scatterplot\n",
    "df.for.ancestry.associated.scatterplot %>%\n",
    "filter(old_fdr < 0.05) %>%\n",
    "mutate(\"significant\" = ifelse(old_fdr < 0.05 & new_fdr < 0.05, \"sig\", \"not_sig\")) %>%\n",
    "ggplot(aes(x = -log10(old_fdr), y = -log10(new_fdr), color = significant)) +\n",
    "geom_point() +\n",
    "\n",
    "scale_color_manual(values = c(\"black\", \"red\")) + \n",
    "\n",
    "geom_hline(yintercept = 1.301, linetype = 2) +\n",
    "geom_vline(xintercept = 1.301, linetype = 2) +\n",
    "\n",
    "theme_bw() +\n",
    "\n",
    "\n",
    "theme(\n",
    "panel.grid.major = element_blank(),\n",
    "panel.grid.minor = element_blank(), \n",
    "axis.line = element_line(color = \"black\")\n",
    ") +\n",
    "\n",
    "theme(\n",
    "axis.title.x = element_text(color = \"black\", size = 12),\n",
    "axis.title.y = element_text(color = \"black\", size = 12)\n",
    ") +\n",
    "\n",
    "theme(\n",
    "axis.text=element_text(size = 12),\n",
    "axis.title=element_text(size = 12)\n",
    ") +\n",
    "\n",
    "theme(\n",
    "legend.title = element_text(size = 12),\n",
    "legend.text = element_text(size = 12)\n",
    ") +\n",
    "\n",
    "ylab(\"FDR with lineage correction\") +\n",
    "xlab(\"FDR without lineage correction\")\n",
    "\n",
    "#Export it to the google bucket\n",
    "setwd('/home/jupyter/Ancestry/analysis/nature_genetics_reviews/reviewer_4')\n",
    "ggsave(\"r4c2_scatterplot.pdf\", width = 5, height = 5)\n",
    "system(glue::glue(\"\n",
    "cd /home/jupyter/Ancestry/analysis/nature_genetics_reviews/reviewer_4\n",
    "gsutil cp r4c2_scatterplot.pdf gs://fc-45c0e148-0b1c-4244-9bfc-feb559bbc514\n",
    "\"))"
   ]
  },
  {
   "cell_type": "code",
   "execution_count": 41,
   "metadata": {
    "hidden": true
   },
   "outputs": [
    {
     "data": {
      "text/html": [
       "40"
      ],
      "text/latex": [
       "40"
      ],
      "text/markdown": [
       "40"
      ],
      "text/plain": [
       "[1] 40"
      ]
     },
     "metadata": {},
     "output_type": "display_data"
    },
    {
     "data": {
      "text/html": [
       "9"
      ],
      "text/latex": [
       "9"
      ],
      "text/markdown": [
       "9"
      ],
      "text/plain": [
       "[1] 9"
      ]
     },
     "metadata": {},
     "output_type": "display_data"
    },
    {
     "data": {
      "text/html": [
       "58"
      ],
      "text/latex": [
       "58"
      ],
      "text/markdown": [
       "58"
      ],
      "text/plain": [
       "[1] 58"
      ]
     },
     "metadata": {},
     "output_type": "display_data"
    }
   ],
   "source": [
    "old.sig.genes = df.for.ancestry.associated.scatterplot %>%\n",
    "filter(old_fdr < 0.05) %>%\n",
    "pull(gene) %>%\n",
    "unique() \n",
    "\n",
    "new.sig.genes = df.for.ancestry.associated.scatterplot %>%\n",
    "filter(new_fdr < 0.05) %>%\n",
    "pull(gene) %>%\n",
    "unique()\n",
    "\n",
    "#Compute the intersection between the two datasets\n",
    "intersect(old.sig.genes, new.sig.genes) %>% length()\n",
    "\n",
    "#Compute the ones that are only in new \n",
    "setdiff(new.sig.genes, old.sig.genes) %>% length()\n",
    "\n",
    "#Compute the ones that are only in old\n",
    "setdiff(old.sig.genes, new.sig.genes) %>% length()\n"
   ]
  },
  {
   "cell_type": "code",
   "execution_count": null,
   "metadata": {
    "hidden": true
   },
   "outputs": [],
   "source": []
  },
  {
   "cell_type": "code",
   "execution_count": null,
   "metadata": {
    "hidden": true
   },
   "outputs": [],
   "source": []
  },
  {
   "cell_type": "code",
   "execution_count": null,
   "metadata": {
    "hidden": true
   },
   "outputs": [],
   "source": []
  },
  {
   "cell_type": "code",
   "execution_count": null,
   "metadata": {
    "hidden": true
   },
   "outputs": [],
   "source": []
  },
  {
   "cell_type": "code",
   "execution_count": null,
   "metadata": {
    "hidden": true
   },
   "outputs": [],
   "source": []
  }
 ],
 "metadata": {
  "kernelspec": {
   "display_name": "R",
   "language": "R",
   "name": "ir"
  },
  "language_info": {
   "codemirror_mode": "r",
   "file_extension": ".r",
   "mimetype": "text/x-r-source",
   "name": "R",
   "pygments_lexer": "r",
   "version": "4.2.1"
  },
  "toc": {
   "base_numbering": 1,
   "nav_menu": {},
   "number_sections": true,
   "sideBar": true,
   "skip_h1_title": false,
   "title_cell": "Table of Contents",
   "title_sidebar": "Contents",
   "toc_cell": false,
   "toc_position": {},
   "toc_section_display": true,
   "toc_window_display": false
  }
 },
 "nbformat": 4,
 "nbformat_minor": 2
}
