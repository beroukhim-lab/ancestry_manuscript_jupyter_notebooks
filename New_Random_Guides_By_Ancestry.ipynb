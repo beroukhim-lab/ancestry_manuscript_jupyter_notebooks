{
 "cells": [
  {
   "cell_type": "markdown",
   "metadata": {},
   "source": [
    "The goal of this notebook is to map SNPs for each ancestry group into randomly generated CRISPR guides."
   ]
  },
  {
   "cell_type": "code",
   "execution_count": 29,
   "metadata": {},
   "outputs": [],
   "source": [
    "#Load packages\n",
    "library(tidyverse)\n",
    "library(reshape2)\n",
    "library(tictoc)\n",
    "\n",
    "show_msg <- function(x){ \n",
    "    print(x)\n",
    "    flush.console()\n",
    "}"
   ]
  },
  {
   "cell_type": "code",
   "execution_count": 5,
   "metadata": {},
   "outputs": [],
   "source": [
    "#Load in the guide and SNP data\n",
    "setwd('/home/jupyter/Ancestry/ccle_ancestry_analysis')\n",
    "guide.data = read.table(\"guideData.txt\", sep = \"\\t\", header = T)\n",
    "snp.data = read.table(\"snpData.txt\", sep = \"\\t\", header = T) "
   ]
  },
  {
   "cell_type": "code",
   "execution_count": 52,
   "metadata": {},
   "outputs": [],
   "source": [
    "#First create a barplot that shows the total number of guides sampled and the total number of guides with SNPs\n",
    "total.affected = nrow(snp.data)\n",
    "\n",
    "total.ancestry.vector = NULL\n",
    "for(i in 5:14){\n",
    "    num.affected = snp.data %>% \n",
    "    select(id, all_of(i)) %>%\n",
    "    rename(\"ancestry.fraction\" = 2) %>%\n",
    "    filter(ancestry.fraction > 0) %>%\n",
    "    nrow()\n",
    "    \n",
    "    total.ancestry.vector = c(total.ancestry.vector, num.affected)\n",
    "}"
   ]
  },
  {
   "cell_type": "code",
   "execution_count": null,
   "metadata": {},
   "outputs": [],
   "source": []
  },
  {
   "cell_type": "code",
   "execution_count": null,
   "metadata": {},
   "outputs": [],
   "source": []
  },
  {
   "cell_type": "code",
   "execution_count": null,
   "metadata": {},
   "outputs": [],
   "source": []
  },
  {
   "cell_type": "code",
   "execution_count": null,
   "metadata": {},
   "outputs": [],
   "source": []
  },
  {
   "cell_type": "code",
   "execution_count": null,
   "metadata": {},
   "outputs": [],
   "source": []
  },
  {
   "cell_type": "code",
   "execution_count": 46,
   "metadata": {},
   "outputs": [
    {
     "data": {
      "text/html": [
       "<style>\n",
       ".list-inline {list-style: none; margin:0; padding: 0}\n",
       ".list-inline>li {display: inline-block}\n",
       ".list-inline>li:not(:last-child)::after {content: \"\\00b7\"; padding: 0 .5ex}\n",
       "</style>\n",
       "<ol class=list-inline><li>1326981</li><li>4</li></ol>\n"
      ],
      "text/latex": [
       "\\begin{enumerate*}\n",
       "\\item 1326981\n",
       "\\item 4\n",
       "\\end{enumerate*}\n"
      ],
      "text/markdown": [
       "1. 1326981\n",
       "2. 4\n",
       "\n",
       "\n"
      ],
      "text/plain": [
       "[1] 1326981       4"
      ]
     },
     "metadata": {},
     "output_type": "display_data"
    },
    {
     "data": {
      "text/html": [
       "<style>\n",
       ".list-inline {list-style: none; margin:0; padding: 0}\n",
       ".list-inline>li {display: inline-block}\n",
       ".list-inline>li:not(:last-child)::after {content: \"\\00b7\"; padding: 0 .5ex}\n",
       "</style>\n",
       "<ol class=list-inline><li>179557</li><li>14</li></ol>\n"
      ],
      "text/latex": [
       "\\begin{enumerate*}\n",
       "\\item 179557\n",
       "\\item 14\n",
       "\\end{enumerate*}\n"
      ],
      "text/markdown": [
       "1. 179557\n",
       "2. 14\n",
       "\n",
       "\n"
      ],
      "text/plain": [
       "[1] 179557     14"
      ]
     },
     "metadata": {},
     "output_type": "display_data"
    },
    {
     "data": {
      "text/html": [
       "0.135312412159632"
      ],
      "text/latex": [
       "0.135312412159632"
      ],
      "text/markdown": [
       "0.135312412159632"
      ],
      "text/plain": [
       "[1] 0.1353124"
      ]
     },
     "metadata": {},
     "output_type": "display_data"
    }
   ],
   "source": [
    "dim(guide.data)\n",
    "dim(snp.data)\n",
    "\n",
    "nrow(snp.data)/nrow(guide.data)"
   ]
  },
  {
   "cell_type": "code",
   "execution_count": 36,
   "metadata": {},
   "outputs": [
    {
     "data": {
      "text/html": [
       "<table class=\"dataframe\">\n",
       "<caption>A data.frame: 6 × 4</caption>\n",
       "<thead>\n",
       "\t<tr><th></th><th scope=col>id</th><th scope=col>chr</th><th scope=col>posL</th><th scope=col>posR</th></tr>\n",
       "\t<tr><th></th><th scope=col>&lt;int&gt;</th><th scope=col>&lt;chr&gt;</th><th scope=col>&lt;int&gt;</th><th scope=col>&lt;int&gt;</th></tr>\n",
       "</thead>\n",
       "<tbody>\n",
       "\t<tr><th scope=row>1</th><td>0</td><td>chr1</td><td>12162</td><td>12185</td></tr>\n",
       "\t<tr><th scope=row>2</th><td>1</td><td>chr1</td><td>12629</td><td>12652</td></tr>\n",
       "\t<tr><th scope=row>3</th><td>2</td><td>chr1</td><td>13542</td><td>13565</td></tr>\n",
       "\t<tr><th scope=row>4</th><td>3</td><td>chr1</td><td>12022</td><td>12045</td></tr>\n",
       "\t<tr><th scope=row>5</th><td>4</td><td>chr1</td><td>12201</td><td>12224</td></tr>\n",
       "\t<tr><th scope=row>6</th><td>5</td><td>chr1</td><td>12663</td><td>12686</td></tr>\n",
       "</tbody>\n",
       "</table>\n"
      ],
      "text/latex": [
       "A data.frame: 6 × 4\n",
       "\\begin{tabular}{r|llll}\n",
       "  & id & chr & posL & posR\\\\\n",
       "  & <int> & <chr> & <int> & <int>\\\\\n",
       "\\hline\n",
       "\t1 & 0 & chr1 & 12162 & 12185\\\\\n",
       "\t2 & 1 & chr1 & 12629 & 12652\\\\\n",
       "\t3 & 2 & chr1 & 13542 & 13565\\\\\n",
       "\t4 & 3 & chr1 & 12022 & 12045\\\\\n",
       "\t5 & 4 & chr1 & 12201 & 12224\\\\\n",
       "\t6 & 5 & chr1 & 12663 & 12686\\\\\n",
       "\\end{tabular}\n"
      ],
      "text/markdown": [
       "\n",
       "A data.frame: 6 × 4\n",
       "\n",
       "| <!--/--> | id &lt;int&gt; | chr &lt;chr&gt; | posL &lt;int&gt; | posR &lt;int&gt; |\n",
       "|---|---|---|---|---|\n",
       "| 1 | 0 | chr1 | 12162 | 12185 |\n",
       "| 2 | 1 | chr1 | 12629 | 12652 |\n",
       "| 3 | 2 | chr1 | 13542 | 13565 |\n",
       "| 4 | 3 | chr1 | 12022 | 12045 |\n",
       "| 5 | 4 | chr1 | 12201 | 12224 |\n",
       "| 6 | 5 | chr1 | 12663 | 12686 |\n",
       "\n"
      ],
      "text/plain": [
       "  id chr  posL  posR \n",
       "1 0  chr1 12162 12185\n",
       "2 1  chr1 12629 12652\n",
       "3 2  chr1 13542 13565\n",
       "4 3  chr1 12022 12045\n",
       "5 4  chr1 12201 12224\n",
       "6 5  chr1 12663 12686"
      ]
     },
     "metadata": {},
     "output_type": "display_data"
    },
    {
     "data": {
      "text/html": [
       "<table class=\"dataframe\">\n",
       "<caption>A data.frame: 6 × 14</caption>\n",
       "<thead>\n",
       "\t<tr><th></th><th scope=col>id</th><th scope=col>pos</th><th scope=col>ref</th><th scope=col>alt</th><th scope=col>AF_oth</th><th scope=col>AF_ami</th><th scope=col>AF_sas</th><th scope=col>AF_fin</th><th scope=col>AF_eas</th><th scope=col>AF_amr</th><th scope=col>AF_afr</th><th scope=col>AF_mid</th><th scope=col>AF_asj</th><th scope=col>AF_nfe</th></tr>\n",
       "\t<tr><th></th><th scope=col>&lt;int&gt;</th><th scope=col>&lt;int&gt;</th><th scope=col>&lt;chr&gt;</th><th scope=col>&lt;chr&gt;</th><th scope=col>&lt;dbl&gt;</th><th scope=col>&lt;dbl&gt;</th><th scope=col>&lt;dbl&gt;</th><th scope=col>&lt;dbl&gt;</th><th scope=col>&lt;dbl&gt;</th><th scope=col>&lt;dbl&gt;</th><th scope=col>&lt;dbl&gt;</th><th scope=col>&lt;dbl&gt;</th><th scope=col>&lt;dbl&gt;</th><th scope=col>&lt;dbl&gt;</th></tr>\n",
       "</thead>\n",
       "<tbody>\n",
       "\t<tr><th scope=row>1</th><td> 2</td><td>13550</td><td>G   </td><td>A</td><td>0.011467890</td><td>0.00000000</td><td>0.0028205128</td><td>0.025546605</td><td>0.00000000</td><td>0.012193216</td><td>1.383878e-03</td><td>0.01574803</td><td>0.015923567</td><td>1.521429e-02</td></tr>\n",
       "\t<tr><th scope=row>2</th><td> 7</td><td>13302</td><td>C   </td><td>T</td><td>0.007407407</td><td>0.00000000</td><td>0.0000000000</td><td>0.000000000</td><td>0.00000000</td><td>0.004024662</td><td>3.296571e-02</td><td>0.00000000</td><td>0.000000000</td><td>9.041591e-05</td></tr>\n",
       "\t<tr><th scope=row>3</th><td>17</td><td>15850</td><td>G   </td><td>A</td><td>0.000000000</td><td>0.00000000</td><td>0.0004413063</td><td>0.000000000</td><td>0.01020408</td><td>0.000000000</td><td>2.837201e-05</td><td>0.00000000</td><td>0.000000000</td><td>7.918910e-05</td></tr>\n",
       "\t<tr><th scope=row>4</th><td>31</td><td>58814</td><td>G   </td><td>A</td><td>0.111490330</td><td>0.09878049</td><td>0.0617900954</td><td>0.082645631</td><td>0.02192639</td><td>0.175803545</td><td>1.840796e-01</td><td>0.06521739</td><td>0.058500323</td><td>6.054307e-02</td></tr>\n",
       "\t<tr><th scope=row>5</th><td>32</td><td>63735</td><td>CCTA</td><td>C</td><td>0.332624113</td><td>0.27115987</td><td>0.4825581395</td><td>0.354333576</td><td>0.68252305</td><td>0.340150492</td><td>1.623777e-01</td><td>0.36915888</td><td>0.338417541</td><td>3.528184e-01</td></tr>\n",
       "\t<tr><th scope=row>6</th><td>33</td><td>63528</td><td>G   </td><td>A</td><td>0.004559271</td><td>0.03472222</td><td>0.0008912656</td><td>0.001672241</td><td>0.00000000</td><td>0.002922756</td><td>4.516984e-04</td><td>0.00000000</td><td>0.003243243</td><td>4.416756e-03</td></tr>\n",
       "</tbody>\n",
       "</table>\n"
      ],
      "text/latex": [
       "A data.frame: 6 × 14\n",
       "\\begin{tabular}{r|llllllllllllll}\n",
       "  & id & pos & ref & alt & AF\\_oth & AF\\_ami & AF\\_sas & AF\\_fin & AF\\_eas & AF\\_amr & AF\\_afr & AF\\_mid & AF\\_asj & AF\\_nfe\\\\\n",
       "  & <int> & <int> & <chr> & <chr> & <dbl> & <dbl> & <dbl> & <dbl> & <dbl> & <dbl> & <dbl> & <dbl> & <dbl> & <dbl>\\\\\n",
       "\\hline\n",
       "\t1 &  2 & 13550 & G    & A & 0.011467890 & 0.00000000 & 0.0028205128 & 0.025546605 & 0.00000000 & 0.012193216 & 1.383878e-03 & 0.01574803 & 0.015923567 & 1.521429e-02\\\\\n",
       "\t2 &  7 & 13302 & C    & T & 0.007407407 & 0.00000000 & 0.0000000000 & 0.000000000 & 0.00000000 & 0.004024662 & 3.296571e-02 & 0.00000000 & 0.000000000 & 9.041591e-05\\\\\n",
       "\t3 & 17 & 15850 & G    & A & 0.000000000 & 0.00000000 & 0.0004413063 & 0.000000000 & 0.01020408 & 0.000000000 & 2.837201e-05 & 0.00000000 & 0.000000000 & 7.918910e-05\\\\\n",
       "\t4 & 31 & 58814 & G    & A & 0.111490330 & 0.09878049 & 0.0617900954 & 0.082645631 & 0.02192639 & 0.175803545 & 1.840796e-01 & 0.06521739 & 0.058500323 & 6.054307e-02\\\\\n",
       "\t5 & 32 & 63735 & CCTA & C & 0.332624113 & 0.27115987 & 0.4825581395 & 0.354333576 & 0.68252305 & 0.340150492 & 1.623777e-01 & 0.36915888 & 0.338417541 & 3.528184e-01\\\\\n",
       "\t6 & 33 & 63528 & G    & A & 0.004559271 & 0.03472222 & 0.0008912656 & 0.001672241 & 0.00000000 & 0.002922756 & 4.516984e-04 & 0.00000000 & 0.003243243 & 4.416756e-03\\\\\n",
       "\\end{tabular}\n"
      ],
      "text/markdown": [
       "\n",
       "A data.frame: 6 × 14\n",
       "\n",
       "| <!--/--> | id &lt;int&gt; | pos &lt;int&gt; | ref &lt;chr&gt; | alt &lt;chr&gt; | AF_oth &lt;dbl&gt; | AF_ami &lt;dbl&gt; | AF_sas &lt;dbl&gt; | AF_fin &lt;dbl&gt; | AF_eas &lt;dbl&gt; | AF_amr &lt;dbl&gt; | AF_afr &lt;dbl&gt; | AF_mid &lt;dbl&gt; | AF_asj &lt;dbl&gt; | AF_nfe &lt;dbl&gt; |\n",
       "|---|---|---|---|---|---|---|---|---|---|---|---|---|---|---|\n",
       "| 1 |  2 | 13550 | G    | A | 0.011467890 | 0.00000000 | 0.0028205128 | 0.025546605 | 0.00000000 | 0.012193216 | 1.383878e-03 | 0.01574803 | 0.015923567 | 1.521429e-02 |\n",
       "| 2 |  7 | 13302 | C    | T | 0.007407407 | 0.00000000 | 0.0000000000 | 0.000000000 | 0.00000000 | 0.004024662 | 3.296571e-02 | 0.00000000 | 0.000000000 | 9.041591e-05 |\n",
       "| 3 | 17 | 15850 | G    | A | 0.000000000 | 0.00000000 | 0.0004413063 | 0.000000000 | 0.01020408 | 0.000000000 | 2.837201e-05 | 0.00000000 | 0.000000000 | 7.918910e-05 |\n",
       "| 4 | 31 | 58814 | G    | A | 0.111490330 | 0.09878049 | 0.0617900954 | 0.082645631 | 0.02192639 | 0.175803545 | 1.840796e-01 | 0.06521739 | 0.058500323 | 6.054307e-02 |\n",
       "| 5 | 32 | 63735 | CCTA | C | 0.332624113 | 0.27115987 | 0.4825581395 | 0.354333576 | 0.68252305 | 0.340150492 | 1.623777e-01 | 0.36915888 | 0.338417541 | 3.528184e-01 |\n",
       "| 6 | 33 | 63528 | G    | A | 0.004559271 | 0.03472222 | 0.0008912656 | 0.001672241 | 0.00000000 | 0.002922756 | 4.516984e-04 | 0.00000000 | 0.003243243 | 4.416756e-03 |\n",
       "\n"
      ],
      "text/plain": [
       "  id pos   ref  alt AF_oth      AF_ami     AF_sas       AF_fin      AF_eas    \n",
       "1  2 13550 G    A   0.011467890 0.00000000 0.0028205128 0.025546605 0.00000000\n",
       "2  7 13302 C    T   0.007407407 0.00000000 0.0000000000 0.000000000 0.00000000\n",
       "3 17 15850 G    A   0.000000000 0.00000000 0.0004413063 0.000000000 0.01020408\n",
       "4 31 58814 G    A   0.111490330 0.09878049 0.0617900954 0.082645631 0.02192639\n",
       "5 32 63735 CCTA C   0.332624113 0.27115987 0.4825581395 0.354333576 0.68252305\n",
       "6 33 63528 G    A   0.004559271 0.03472222 0.0008912656 0.001672241 0.00000000\n",
       "  AF_amr      AF_afr       AF_mid     AF_asj      AF_nfe      \n",
       "1 0.012193216 1.383878e-03 0.01574803 0.015923567 1.521429e-02\n",
       "2 0.004024662 3.296571e-02 0.00000000 0.000000000 9.041591e-05\n",
       "3 0.000000000 2.837201e-05 0.00000000 0.000000000 7.918910e-05\n",
       "4 0.175803545 1.840796e-01 0.06521739 0.058500323 6.054307e-02\n",
       "5 0.340150492 1.623777e-01 0.36915888 0.338417541 3.528184e-01\n",
       "6 0.002922756 4.516984e-04 0.00000000 0.003243243 4.416756e-03"
      ]
     },
     "metadata": {},
     "output_type": "display_data"
    }
   ],
   "source": [
    "head(guide.data)\n",
    "head(snp.data)"
   ]
  },
  {
   "cell_type": "code",
   "execution_count": null,
   "metadata": {},
   "outputs": [],
   "source": []
  }
 ],
 "metadata": {
  "kernelspec": {
   "display_name": "R",
   "language": "R",
   "name": "ir"
  },
  "language_info": {
   "codemirror_mode": "r",
   "file_extension": ".r",
   "mimetype": "text/x-r-source",
   "name": "R",
   "pygments_lexer": "r",
   "version": "4.1.2"
  },
  "toc": {
   "base_numbering": 1,
   "nav_menu": {},
   "number_sections": true,
   "sideBar": true,
   "skip_h1_title": false,
   "title_cell": "Table of Contents",
   "title_sidebar": "Contents",
   "toc_cell": false,
   "toc_position": {},
   "toc_section_display": true,
   "toc_window_display": false
  }
 },
 "nbformat": 4,
 "nbformat_minor": 2
}
