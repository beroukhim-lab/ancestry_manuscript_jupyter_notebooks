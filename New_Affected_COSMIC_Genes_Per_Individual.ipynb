{
 "cells": [
  {
   "cell_type": "markdown",
   "metadata": {},
   "source": [
    "The goal of this notebook is to calculate the number of COSMIC genes that are affected in each individual using the guides in the Avana library"
   ]
  },
  {
   "cell_type": "code",
   "execution_count": 16,
   "metadata": {},
   "outputs": [],
   "source": [
    "#Set up the environment\n",
    "library(tidyverse)\n",
    "library(reshape2)"
   ]
  },
  {
   "cell_type": "code",
   "execution_count": 17,
   "metadata": {},
   "outputs": [],
   "source": [
    "#Load in the cosmic cancer gene census genes\n",
    "setwd(\"/home/jupyter/Ancestry/analysis/cosmic_cancer_gene_census\")\n",
    "cosmic.genes = read.table(\"cosmic_genes.csv\", sep = \",\", header = T)\n",
    "\n",
    "cosmic.tier1 = cosmic.genes %>% \n",
    "filter(Tier %in% \"1\") %>%\n",
    "filter(Role.in.Cancer %in% c(\"oncogene\", \"TSG\")) %>%\n",
    "pull(Gene.Symbol)"
   ]
  },
  {
   "cell_type": "code",
   "execution_count": 18,
   "metadata": {},
   "outputs": [
    {
     "data": {
      "text/html": [
       "<table class=\"dataframe\">\n",
       "<caption>A data.frame: 6 × 2</caption>\n",
       "<thead>\n",
       "\t<tr><th></th><th scope=col>sample</th><th scope=col>ancestry</th></tr>\n",
       "\t<tr><th></th><th scope=col>&lt;chr&gt;</th><th scope=col>&lt;chr&gt;</th></tr>\n",
       "</thead>\n",
       "<tbody>\n",
       "\t<tr><th scope=row>1</th><td>CHMI_CHMI3_WGS2</td><td>nfe</td></tr>\n",
       "\t<tr><th scope=row>2</th><td>HG00096        </td><td>nfe</td></tr>\n",
       "\t<tr><th scope=row>3</th><td>HG00097        </td><td>nfe</td></tr>\n",
       "\t<tr><th scope=row>4</th><td>HG00099        </td><td>nfe</td></tr>\n",
       "\t<tr><th scope=row>5</th><td>HG00100        </td><td>nfe</td></tr>\n",
       "\t<tr><th scope=row>6</th><td>HG00101        </td><td>nfe</td></tr>\n",
       "</tbody>\n",
       "</table>\n"
      ],
      "text/latex": [
       "A data.frame: 6 × 2\n",
       "\\begin{tabular}{r|ll}\n",
       "  & sample & ancestry\\\\\n",
       "  & <chr> & <chr>\\\\\n",
       "\\hline\n",
       "\t1 & CHMI\\_CHMI3\\_WGS2 & nfe\\\\\n",
       "\t2 & HG00096         & nfe\\\\\n",
       "\t3 & HG00097         & nfe\\\\\n",
       "\t4 & HG00099         & nfe\\\\\n",
       "\t5 & HG00100         & nfe\\\\\n",
       "\t6 & HG00101         & nfe\\\\\n",
       "\\end{tabular}\n"
      ],
      "text/markdown": [
       "\n",
       "A data.frame: 6 × 2\n",
       "\n",
       "| <!--/--> | sample &lt;chr&gt; | ancestry &lt;chr&gt; |\n",
       "|---|---|---|\n",
       "| 1 | CHMI_CHMI3_WGS2 | nfe |\n",
       "| 2 | HG00096         | nfe |\n",
       "| 3 | HG00097         | nfe |\n",
       "| 4 | HG00099         | nfe |\n",
       "| 5 | HG00100         | nfe |\n",
       "| 6 | HG00101         | nfe |\n",
       "\n"
      ],
      "text/plain": [
       "  sample          ancestry\n",
       "1 CHMI_CHMI3_WGS2 nfe     \n",
       "2 HG00096         nfe     \n",
       "3 HG00097         nfe     \n",
       "4 HG00099         nfe     \n",
       "5 HG00100         nfe     \n",
       "6 HG00101         nfe     "
      ]
     },
     "metadata": {},
     "output_type": "display_data"
    }
   ],
   "source": [
    "#Load in the gnomAD annotation file so that we know which sample belongs to each ancestry group\n",
    "setwd(\"/home/jupyter/Ancestry/raw_data/hgdp\")\n",
    "sample.annotation = read.table(\"gnomad.genomes.v3.1.2.hgdp_1kg_subset_sample_meta.tsv.bgz\", sep = \"\\t\", header = T) %>%\n",
    "select(s, gnomad_population_inference) %>%\n",
    "mutate(gnomad_population_inference = gsub(\"\\\\..*pop\", \"\", gnomad_population_inference)) %>%\n",
    "mutate(gnomad_population_inference = gsub(\"prob..*\", \"\", gnomad_population_inference)) %>%\n",
    "mutate(gnomad_population_inference = gsub(\"..*:\", \"\", gnomad_population_inference)) %>%\n",
    "mutate(gnomad_population_inference = gsub(\",\", \"\", gnomad_population_inference)) %>%\n",
    "rename(\"sample\" = 1, \"ancestry\" = 2)\n",
    "\n",
    "head(sample.annotation)"
   ]
  },
  {
   "cell_type": "code",
   "execution_count": 19,
   "metadata": {},
   "outputs": [
    {
     "data": {
      "text/html": [
       "<table class=\"dataframe\">\n",
       "<caption>A data.frame: 6 × 4155</caption>\n",
       "<thead>\n",
       "\t<tr><th></th><th scope=col>seq</th><th scope=col>chr</th><th scope=col>posL</th><th scope=col>posR</th><th scope=col>CHMI_CHMI3_WGS2</th><th scope=col>LP6005441.DNA_F08</th><th scope=col>HGDP00843</th><th scope=col>HGDP00392</th><th scope=col>LP6005441.DNA_H03</th><th scope=col>HGDP00544</th><th scope=col>⋯</th><th scope=col>HG00288</th><th scope=col>HG00290</th><th scope=col>HG00304</th><th scope=col>HG01765</th><th scope=col>HG01766</th><th scope=col>HG01767</th><th scope=col>HG01768</th><th scope=col>HG01785</th><th scope=col>HG01786</th><th scope=col>HG02219</th></tr>\n",
       "\t<tr><th></th><th scope=col>&lt;chr&gt;</th><th scope=col>&lt;chr&gt;</th><th scope=col>&lt;int&gt;</th><th scope=col>&lt;int&gt;</th><th scope=col>&lt;int&gt;</th><th scope=col>&lt;int&gt;</th><th scope=col>&lt;int&gt;</th><th scope=col>&lt;int&gt;</th><th scope=col>&lt;int&gt;</th><th scope=col>&lt;int&gt;</th><th scope=col>⋯</th><th scope=col>&lt;int&gt;</th><th scope=col>&lt;int&gt;</th><th scope=col>&lt;int&gt;</th><th scope=col>&lt;int&gt;</th><th scope=col>&lt;int&gt;</th><th scope=col>&lt;int&gt;</th><th scope=col>&lt;int&gt;</th><th scope=col>&lt;int&gt;</th><th scope=col>&lt;int&gt;</th><th scope=col>&lt;int&gt;</th></tr>\n",
       "</thead>\n",
       "<tbody>\n",
       "\t<tr><th scope=row>1</th><td>AAATCCCCCTGAAGGTACCG</td><td>chr22</td><td>46626903</td><td>46626925</td><td>0</td><td>0</td><td>0</td><td>0</td><td>0</td><td>0</td><td>⋯</td><td>0</td><td>0</td><td>0</td><td>0</td><td>0</td><td>0</td><td>0</td><td>0</td><td>0</td><td>0</td></tr>\n",
       "\t<tr><th scope=row>2</th><td>AACAAGAAGGAGATTCAGAA</td><td>chr22</td><td>16991998</td><td>16992020</td><td>0</td><td>0</td><td>0</td><td>0</td><td>0</td><td>0</td><td>⋯</td><td>0</td><td>0</td><td>0</td><td>0</td><td>0</td><td>0</td><td>0</td><td>0</td><td>0</td><td>0</td></tr>\n",
       "\t<tr><th scope=row>3</th><td>AACACCGGTGAGGTATATCG</td><td>chr22</td><td>24557741</td><td>24557763</td><td>0</td><td>0</td><td>0</td><td>0</td><td>0</td><td>0</td><td>⋯</td><td>0</td><td>0</td><td>0</td><td>0</td><td>0</td><td>0</td><td>0</td><td>0</td><td>0</td><td>0</td></tr>\n",
       "\t<tr><th scope=row>4</th><td>AACCAGCAGCGCAAAAACGG</td><td>chr22</td><td>31345490</td><td>31345512</td><td>0</td><td>0</td><td>0</td><td>0</td><td>0</td><td>0</td><td>⋯</td><td>0</td><td>0</td><td>0</td><td>0</td><td>0</td><td>0</td><td>0</td><td>0</td><td>0</td><td>0</td></tr>\n",
       "\t<tr><th scope=row>5</th><td>AACCCGGACGAGGACCCGCG</td><td>chr22</td><td>31291036</td><td>31291058</td><td>0</td><td>0</td><td>0</td><td>0</td><td>0</td><td>0</td><td>⋯</td><td>0</td><td>0</td><td>0</td><td>0</td><td>0</td><td>0</td><td>0</td><td>0</td><td>0</td><td>0</td></tr>\n",
       "\t<tr><th scope=row>6</th><td>AACGGCATATGCGGCCACGA</td><td>chr22</td><td>30532670</td><td>30532692</td><td>0</td><td>0</td><td>0</td><td>0</td><td>0</td><td>0</td><td>⋯</td><td>0</td><td>0</td><td>0</td><td>0</td><td>0</td><td>0</td><td>0</td><td>0</td><td>0</td><td>0</td></tr>\n",
       "</tbody>\n",
       "</table>\n"
      ],
      "text/latex": [
       "A data.frame: 6 × 4155\n",
       "\\begin{tabular}{r|lllllllllllllllllllll}\n",
       "  & seq & chr & posL & posR & CHMI\\_CHMI3\\_WGS2 & LP6005441.DNA\\_F08 & HGDP00843 & HGDP00392 & LP6005441.DNA\\_H03 & HGDP00544 & ⋯ & HG00288 & HG00290 & HG00304 & HG01765 & HG01766 & HG01767 & HG01768 & HG01785 & HG01786 & HG02219\\\\\n",
       "  & <chr> & <chr> & <int> & <int> & <int> & <int> & <int> & <int> & <int> & <int> & ⋯ & <int> & <int> & <int> & <int> & <int> & <int> & <int> & <int> & <int> & <int>\\\\\n",
       "\\hline\n",
       "\t1 & AAATCCCCCTGAAGGTACCG & chr22 & 46626903 & 46626925 & 0 & 0 & 0 & 0 & 0 & 0 & ⋯ & 0 & 0 & 0 & 0 & 0 & 0 & 0 & 0 & 0 & 0\\\\\n",
       "\t2 & AACAAGAAGGAGATTCAGAA & chr22 & 16991998 & 16992020 & 0 & 0 & 0 & 0 & 0 & 0 & ⋯ & 0 & 0 & 0 & 0 & 0 & 0 & 0 & 0 & 0 & 0\\\\\n",
       "\t3 & AACACCGGTGAGGTATATCG & chr22 & 24557741 & 24557763 & 0 & 0 & 0 & 0 & 0 & 0 & ⋯ & 0 & 0 & 0 & 0 & 0 & 0 & 0 & 0 & 0 & 0\\\\\n",
       "\t4 & AACCAGCAGCGCAAAAACGG & chr22 & 31345490 & 31345512 & 0 & 0 & 0 & 0 & 0 & 0 & ⋯ & 0 & 0 & 0 & 0 & 0 & 0 & 0 & 0 & 0 & 0\\\\\n",
       "\t5 & AACCCGGACGAGGACCCGCG & chr22 & 31291036 & 31291058 & 0 & 0 & 0 & 0 & 0 & 0 & ⋯ & 0 & 0 & 0 & 0 & 0 & 0 & 0 & 0 & 0 & 0\\\\\n",
       "\t6 & AACGGCATATGCGGCCACGA & chr22 & 30532670 & 30532692 & 0 & 0 & 0 & 0 & 0 & 0 & ⋯ & 0 & 0 & 0 & 0 & 0 & 0 & 0 & 0 & 0 & 0\\\\\n",
       "\\end{tabular}\n"
      ],
      "text/markdown": [
       "\n",
       "A data.frame: 6 × 4155\n",
       "\n",
       "| <!--/--> | seq &lt;chr&gt; | chr &lt;chr&gt; | posL &lt;int&gt; | posR &lt;int&gt; | CHMI_CHMI3_WGS2 &lt;int&gt; | LP6005441.DNA_F08 &lt;int&gt; | HGDP00843 &lt;int&gt; | HGDP00392 &lt;int&gt; | LP6005441.DNA_H03 &lt;int&gt; | HGDP00544 &lt;int&gt; | ⋯ ⋯ | HG00288 &lt;int&gt; | HG00290 &lt;int&gt; | HG00304 &lt;int&gt; | HG01765 &lt;int&gt; | HG01766 &lt;int&gt; | HG01767 &lt;int&gt; | HG01768 &lt;int&gt; | HG01785 &lt;int&gt; | HG01786 &lt;int&gt; | HG02219 &lt;int&gt; |\n",
       "|---|---|---|---|---|---|---|---|---|---|---|---|---|---|---|---|---|---|---|---|---|---|\n",
       "| 1 | AAATCCCCCTGAAGGTACCG | chr22 | 46626903 | 46626925 | 0 | 0 | 0 | 0 | 0 | 0 | ⋯ | 0 | 0 | 0 | 0 | 0 | 0 | 0 | 0 | 0 | 0 |\n",
       "| 2 | AACAAGAAGGAGATTCAGAA | chr22 | 16991998 | 16992020 | 0 | 0 | 0 | 0 | 0 | 0 | ⋯ | 0 | 0 | 0 | 0 | 0 | 0 | 0 | 0 | 0 | 0 |\n",
       "| 3 | AACACCGGTGAGGTATATCG | chr22 | 24557741 | 24557763 | 0 | 0 | 0 | 0 | 0 | 0 | ⋯ | 0 | 0 | 0 | 0 | 0 | 0 | 0 | 0 | 0 | 0 |\n",
       "| 4 | AACCAGCAGCGCAAAAACGG | chr22 | 31345490 | 31345512 | 0 | 0 | 0 | 0 | 0 | 0 | ⋯ | 0 | 0 | 0 | 0 | 0 | 0 | 0 | 0 | 0 | 0 |\n",
       "| 5 | AACCCGGACGAGGACCCGCG | chr22 | 31291036 | 31291058 | 0 | 0 | 0 | 0 | 0 | 0 | ⋯ | 0 | 0 | 0 | 0 | 0 | 0 | 0 | 0 | 0 | 0 |\n",
       "| 6 | AACGGCATATGCGGCCACGA | chr22 | 30532670 | 30532692 | 0 | 0 | 0 | 0 | 0 | 0 | ⋯ | 0 | 0 | 0 | 0 | 0 | 0 | 0 | 0 | 0 | 0 |\n",
       "\n"
      ],
      "text/plain": [
       "  seq                  chr   posL     posR     CHMI_CHMI3_WGS2\n",
       "1 AAATCCCCCTGAAGGTACCG chr22 46626903 46626925 0              \n",
       "2 AACAAGAAGGAGATTCAGAA chr22 16991998 16992020 0              \n",
       "3 AACACCGGTGAGGTATATCG chr22 24557741 24557763 0              \n",
       "4 AACCAGCAGCGCAAAAACGG chr22 31345490 31345512 0              \n",
       "5 AACCCGGACGAGGACCCGCG chr22 31291036 31291058 0              \n",
       "6 AACGGCATATGCGGCCACGA chr22 30532670 30532692 0              \n",
       "  LP6005441.DNA_F08 HGDP00843 HGDP00392 LP6005441.DNA_H03 HGDP00544 ⋯ HG00288\n",
       "1 0                 0         0         0                 0         ⋯ 0      \n",
       "2 0                 0         0         0                 0         ⋯ 0      \n",
       "3 0                 0         0         0                 0         ⋯ 0      \n",
       "4 0                 0         0         0                 0         ⋯ 0      \n",
       "5 0                 0         0         0                 0         ⋯ 0      \n",
       "6 0                 0         0         0                 0         ⋯ 0      \n",
       "  HG00290 HG00304 HG01765 HG01766 HG01767 HG01768 HG01785 HG01786 HG02219\n",
       "1 0       0       0       0       0       0       0       0       0      \n",
       "2 0       0       0       0       0       0       0       0       0      \n",
       "3 0       0       0       0       0       0       0       0       0      \n",
       "4 0       0       0       0       0       0       0       0       0      \n",
       "5 0       0       0       0       0       0       0       0       0      \n",
       "6 0       0       0       0       0       0       0       0       0      "
      ]
     },
     "metadata": {},
     "output_type": "display_data"
    }
   ],
   "source": [
    "#Load in the avana SNP/guide matrix\n",
    "setwd(\"/home/jupyter/Ancestry/analysis/cosmic_cancer_gene_census\")\n",
    "avana.matrix = read.table(\"final_avana.txt\", sep = \"\\t\", header = T)\n",
    "\n",
    "head(avana.matrix)"
   ]
  },
  {
   "cell_type": "code",
   "execution_count": 20,
   "metadata": {},
   "outputs": [
    {
     "data": {
      "text/html": [
       "<table class=\"dataframe\">\n",
       "<caption>A data.frame: 6 × 2</caption>\n",
       "<thead>\n",
       "\t<tr><th></th><th scope=col>seq</th><th scope=col>gene</th></tr>\n",
       "\t<tr><th></th><th scope=col>&lt;chr&gt;</th><th scope=col>&lt;chr&gt;</th></tr>\n",
       "</thead>\n",
       "<tbody>\n",
       "\t<tr><th scope=row>1</th><td>AAAAAAATCCAGCAATGCAG</td><td>SHOC2  </td></tr>\n",
       "\t<tr><th scope=row>2</th><td>AAAAAACCCGTAGATAGCCT</td><td>NDUFA12</td></tr>\n",
       "\t<tr><th scope=row>3</th><td>AAAAAAGAAGAAAAAACCAG</td><td>SDAD1  </td></tr>\n",
       "\t<tr><th scope=row>4</th><td>AAAAAAGCTCAAGAAGGAGG</td><td>FAM98A </td></tr>\n",
       "\t<tr><th scope=row>5</th><td>AAAAAAGGCTGTAAAAGCGT</td><td>ZNF253 </td></tr>\n",
       "\t<tr><th scope=row>6</th><td>AAAAAAGGGCTCCAAAAAGG</td><td>H2BC7  </td></tr>\n",
       "</tbody>\n",
       "</table>\n"
      ],
      "text/latex": [
       "A data.frame: 6 × 2\n",
       "\\begin{tabular}{r|ll}\n",
       "  & seq & gene\\\\\n",
       "  & <chr> & <chr>\\\\\n",
       "\\hline\n",
       "\t1 & AAAAAAATCCAGCAATGCAG & SHOC2  \\\\\n",
       "\t2 & AAAAAACCCGTAGATAGCCT & NDUFA12\\\\\n",
       "\t3 & AAAAAAGAAGAAAAAACCAG & SDAD1  \\\\\n",
       "\t4 & AAAAAAGCTCAAGAAGGAGG & FAM98A \\\\\n",
       "\t5 & AAAAAAGGCTGTAAAAGCGT & ZNF253 \\\\\n",
       "\t6 & AAAAAAGGGCTCCAAAAAGG & H2BC7  \\\\\n",
       "\\end{tabular}\n"
      ],
      "text/markdown": [
       "\n",
       "A data.frame: 6 × 2\n",
       "\n",
       "| <!--/--> | seq &lt;chr&gt; | gene &lt;chr&gt; |\n",
       "|---|---|---|\n",
       "| 1 | AAAAAAATCCAGCAATGCAG | SHOC2   |\n",
       "| 2 | AAAAAACCCGTAGATAGCCT | NDUFA12 |\n",
       "| 3 | AAAAAAGAAGAAAAAACCAG | SDAD1   |\n",
       "| 4 | AAAAAAGCTCAAGAAGGAGG | FAM98A  |\n",
       "| 5 | AAAAAAGGCTGTAAAAGCGT | ZNF253  |\n",
       "| 6 | AAAAAAGGGCTCCAAAAAGG | H2BC7   |\n",
       "\n"
      ],
      "text/plain": [
       "  seq                  gene   \n",
       "1 AAAAAAATCCAGCAATGCAG SHOC2  \n",
       "2 AAAAAACCCGTAGATAGCCT NDUFA12\n",
       "3 AAAAAAGAAGAAAAAACCAG SDAD1  \n",
       "4 AAAAAAGCTCAAGAAGGAGG FAM98A \n",
       "5 AAAAAAGGCTGTAAAAGCGT ZNF253 \n",
       "6 AAAAAAGGGCTCCAAAAAGG H2BC7  "
      ]
     },
     "metadata": {},
     "output_type": "display_data"
    }
   ],
   "source": [
    "#Load in the guide-to-gene mapping file\n",
    "setwd(\"/home/jupyter/Ancestry/analysis/cosmic_cancer_gene_census\")\n",
    "guide.to.gene = read.table(\"internal-21q4_v9-achilles-guide-map.csv\", sep = \",\", header = T) %>%\n",
    "mutate(gene = word(gene, 1)) %>%\n",
    "select(sgrna, gene) %>%\n",
    "rename(\"seq\" = sgrna)\n",
    "\n",
    "head(guide.to.gene)"
   ]
  },
  {
   "cell_type": "code",
   "execution_count": 21,
   "metadata": {},
   "outputs": [
    {
     "name": "stderr",
     "output_type": "stream",
     "text": [
      "Using seq as id variables\n",
      "\n",
      "\u001b[1m\u001b[22m`summarise()` has grouped output by 'seq'. You can override using the `.groups`\n",
      "argument.\n"
     ]
    },
    {
     "data": {
      "text/html": [
       "<table class=\"dataframe\">\n",
       "<caption>A data.frame: 6 × 4152</caption>\n",
       "<thead>\n",
       "\t<tr><th></th><th scope=col>seq</th><th scope=col>CHMI_CHMI3_WGS2</th><th scope=col>LP6005441.DNA_F08</th><th scope=col>HGDP00843</th><th scope=col>HGDP00392</th><th scope=col>LP6005441.DNA_H03</th><th scope=col>HGDP00544</th><th scope=col>HGDP01053</th><th scope=col>HGDP00191</th><th scope=col>HGDP01399</th><th scope=col>⋯</th><th scope=col>HG00288</th><th scope=col>HG00290</th><th scope=col>HG00304</th><th scope=col>HG01765</th><th scope=col>HG01766</th><th scope=col>HG01767</th><th scope=col>HG01768</th><th scope=col>HG01785</th><th scope=col>HG01786</th><th scope=col>HG02219</th></tr>\n",
       "\t<tr><th></th><th scope=col>&lt;chr&gt;</th><th scope=col>&lt;chr&gt;</th><th scope=col>&lt;chr&gt;</th><th scope=col>&lt;chr&gt;</th><th scope=col>&lt;chr&gt;</th><th scope=col>&lt;chr&gt;</th><th scope=col>&lt;chr&gt;</th><th scope=col>&lt;chr&gt;</th><th scope=col>&lt;chr&gt;</th><th scope=col>&lt;chr&gt;</th><th scope=col>⋯</th><th scope=col>&lt;chr&gt;</th><th scope=col>&lt;chr&gt;</th><th scope=col>&lt;chr&gt;</th><th scope=col>&lt;chr&gt;</th><th scope=col>&lt;chr&gt;</th><th scope=col>&lt;chr&gt;</th><th scope=col>&lt;chr&gt;</th><th scope=col>&lt;chr&gt;</th><th scope=col>&lt;chr&gt;</th><th scope=col>&lt;chr&gt;</th></tr>\n",
       "</thead>\n",
       "<tbody>\n",
       "\t<tr><th scope=row>1</th><td>ACVR1 </td><td>1</td><td>1</td><td>1</td><td>1</td><td>1</td><td>1</td><td>1</td><td>2</td><td>1</td><td>⋯</td><td>1</td><td>1</td><td>1</td><td>1</td><td>1</td><td>1</td><td>1</td><td>1</td><td>1</td><td>1</td></tr>\n",
       "\t<tr><th scope=row>2</th><td>ACVR1B</td><td>0</td><td>0</td><td>0</td><td>0</td><td>0</td><td>0</td><td>0</td><td>0</td><td>0</td><td>⋯</td><td>0</td><td>0</td><td>0</td><td>0</td><td>0</td><td>0</td><td>0</td><td>0</td><td>0</td><td>0</td></tr>\n",
       "\t<tr><th scope=row>3</th><td>ACVR2A</td><td>0</td><td>0</td><td>0</td><td>0</td><td>0</td><td>0</td><td>0</td><td>0</td><td>0</td><td>⋯</td><td>0</td><td>0</td><td>0</td><td>0</td><td>0</td><td>0</td><td>0</td><td>0</td><td>0</td><td>0</td></tr>\n",
       "\t<tr><th scope=row>4</th><td>AKT1  </td><td>0</td><td>0</td><td>0</td><td>0</td><td>0</td><td>0</td><td>0</td><td>0</td><td>0</td><td>⋯</td><td>0</td><td>0</td><td>0</td><td>0</td><td>0</td><td>0</td><td>0</td><td>0</td><td>0</td><td>0</td></tr>\n",
       "\t<tr><th scope=row>5</th><td>AKT2  </td><td>0</td><td>0</td><td>0</td><td>0</td><td>0</td><td>0</td><td>0</td><td>0</td><td>0</td><td>⋯</td><td>0</td><td>0</td><td>0</td><td>0</td><td>0</td><td>0</td><td>0</td><td>0</td><td>0</td><td>0</td></tr>\n",
       "\t<tr><th scope=row>6</th><td>APC   </td><td>0</td><td>0</td><td>0</td><td>0</td><td>0</td><td>0</td><td>0</td><td>0</td><td>0</td><td>⋯</td><td>0</td><td>0</td><td>0</td><td>0</td><td>0</td><td>0</td><td>0</td><td>0</td><td>0</td><td>0</td></tr>\n",
       "</tbody>\n",
       "</table>\n"
      ],
      "text/latex": [
       "A data.frame: 6 × 4152\n",
       "\\begin{tabular}{r|lllllllllllllllllllll}\n",
       "  & seq & CHMI\\_CHMI3\\_WGS2 & LP6005441.DNA\\_F08 & HGDP00843 & HGDP00392 & LP6005441.DNA\\_H03 & HGDP00544 & HGDP01053 & HGDP00191 & HGDP01399 & ⋯ & HG00288 & HG00290 & HG00304 & HG01765 & HG01766 & HG01767 & HG01768 & HG01785 & HG01786 & HG02219\\\\\n",
       "  & <chr> & <chr> & <chr> & <chr> & <chr> & <chr> & <chr> & <chr> & <chr> & <chr> & ⋯ & <chr> & <chr> & <chr> & <chr> & <chr> & <chr> & <chr> & <chr> & <chr> & <chr>\\\\\n",
       "\\hline\n",
       "\t1 & ACVR1  & 1 & 1 & 1 & 1 & 1 & 1 & 1 & 2 & 1 & ⋯ & 1 & 1 & 1 & 1 & 1 & 1 & 1 & 1 & 1 & 1\\\\\n",
       "\t2 & ACVR1B & 0 & 0 & 0 & 0 & 0 & 0 & 0 & 0 & 0 & ⋯ & 0 & 0 & 0 & 0 & 0 & 0 & 0 & 0 & 0 & 0\\\\\n",
       "\t3 & ACVR2A & 0 & 0 & 0 & 0 & 0 & 0 & 0 & 0 & 0 & ⋯ & 0 & 0 & 0 & 0 & 0 & 0 & 0 & 0 & 0 & 0\\\\\n",
       "\t4 & AKT1   & 0 & 0 & 0 & 0 & 0 & 0 & 0 & 0 & 0 & ⋯ & 0 & 0 & 0 & 0 & 0 & 0 & 0 & 0 & 0 & 0\\\\\n",
       "\t5 & AKT2   & 0 & 0 & 0 & 0 & 0 & 0 & 0 & 0 & 0 & ⋯ & 0 & 0 & 0 & 0 & 0 & 0 & 0 & 0 & 0 & 0\\\\\n",
       "\t6 & APC    & 0 & 0 & 0 & 0 & 0 & 0 & 0 & 0 & 0 & ⋯ & 0 & 0 & 0 & 0 & 0 & 0 & 0 & 0 & 0 & 0\\\\\n",
       "\\end{tabular}\n"
      ],
      "text/markdown": [
       "\n",
       "A data.frame: 6 × 4152\n",
       "\n",
       "| <!--/--> | seq &lt;chr&gt; | CHMI_CHMI3_WGS2 &lt;chr&gt; | LP6005441.DNA_F08 &lt;chr&gt; | HGDP00843 &lt;chr&gt; | HGDP00392 &lt;chr&gt; | LP6005441.DNA_H03 &lt;chr&gt; | HGDP00544 &lt;chr&gt; | HGDP01053 &lt;chr&gt; | HGDP00191 &lt;chr&gt; | HGDP01399 &lt;chr&gt; | ⋯ ⋯ | HG00288 &lt;chr&gt; | HG00290 &lt;chr&gt; | HG00304 &lt;chr&gt; | HG01765 &lt;chr&gt; | HG01766 &lt;chr&gt; | HG01767 &lt;chr&gt; | HG01768 &lt;chr&gt; | HG01785 &lt;chr&gt; | HG01786 &lt;chr&gt; | HG02219 &lt;chr&gt; |\n",
       "|---|---|---|---|---|---|---|---|---|---|---|---|---|---|---|---|---|---|---|---|---|---|\n",
       "| 1 | ACVR1  | 1 | 1 | 1 | 1 | 1 | 1 | 1 | 2 | 1 | ⋯ | 1 | 1 | 1 | 1 | 1 | 1 | 1 | 1 | 1 | 1 |\n",
       "| 2 | ACVR1B | 0 | 0 | 0 | 0 | 0 | 0 | 0 | 0 | 0 | ⋯ | 0 | 0 | 0 | 0 | 0 | 0 | 0 | 0 | 0 | 0 |\n",
       "| 3 | ACVR2A | 0 | 0 | 0 | 0 | 0 | 0 | 0 | 0 | 0 | ⋯ | 0 | 0 | 0 | 0 | 0 | 0 | 0 | 0 | 0 | 0 |\n",
       "| 4 | AKT1   | 0 | 0 | 0 | 0 | 0 | 0 | 0 | 0 | 0 | ⋯ | 0 | 0 | 0 | 0 | 0 | 0 | 0 | 0 | 0 | 0 |\n",
       "| 5 | AKT2   | 0 | 0 | 0 | 0 | 0 | 0 | 0 | 0 | 0 | ⋯ | 0 | 0 | 0 | 0 | 0 | 0 | 0 | 0 | 0 | 0 |\n",
       "| 6 | APC    | 0 | 0 | 0 | 0 | 0 | 0 | 0 | 0 | 0 | ⋯ | 0 | 0 | 0 | 0 | 0 | 0 | 0 | 0 | 0 | 0 |\n",
       "\n"
      ],
      "text/plain": [
       "  seq    CHMI_CHMI3_WGS2 LP6005441.DNA_F08 HGDP00843 HGDP00392\n",
       "1 ACVR1  1               1                 1         1        \n",
       "2 ACVR1B 0               0                 0         0        \n",
       "3 ACVR2A 0               0                 0         0        \n",
       "4 AKT1   0               0                 0         0        \n",
       "5 AKT2   0               0                 0         0        \n",
       "6 APC    0               0                 0         0        \n",
       "  LP6005441.DNA_H03 HGDP00544 HGDP01053 HGDP00191 HGDP01399 ⋯ HG00288 HG00290\n",
       "1 1                 1         1         2         1         ⋯ 1       1      \n",
       "2 0                 0         0         0         0         ⋯ 0       0      \n",
       "3 0                 0         0         0         0         ⋯ 0       0      \n",
       "4 0                 0         0         0         0         ⋯ 0       0      \n",
       "5 0                 0         0         0         0         ⋯ 0       0      \n",
       "6 0                 0         0         0         0         ⋯ 0       0      \n",
       "  HG00304 HG01765 HG01766 HG01767 HG01768 HG01785 HG01786 HG02219\n",
       "1 1       1       1       1       1       1       1       1      \n",
       "2 0       0       0       0       0       0       0       0      \n",
       "3 0       0       0       0       0       0       0       0      \n",
       "4 0       0       0       0       0       0       0       0      \n",
       "5 0       0       0       0       0       0       0       0      \n",
       "6 0       0       0       0       0       0       0       0      "
      ]
     },
     "metadata": {},
     "output_type": "display_data"
    },
    {
     "data": {
      "text/html": [
       "<style>\n",
       ".list-inline {list-style: none; margin:0; padding: 0}\n",
       ".list-inline>li {display: inline-block}\n",
       ".list-inline>li:not(:last-child)::after {content: \"\\00b7\"; padding: 0 .5ex}\n",
       "</style>\n",
       "<ol class=list-inline><li>209</li><li>4152</li></ol>\n"
      ],
      "text/latex": [
       "\\begin{enumerate*}\n",
       "\\item 209\n",
       "\\item 4152\n",
       "\\end{enumerate*}\n"
      ],
      "text/markdown": [
       "1. 209\n",
       "2. 4152\n",
       "\n",
       "\n"
      ],
      "text/plain": [
       "[1]  209 4152"
      ]
     },
     "metadata": {},
     "output_type": "display_data"
    }
   ],
   "source": [
    "#Filter the SNP matrix so that it only includes the cosmic tier1 genes\n",
    "cosmic.tier1.matrix = avana.matrix %>% \n",
    "mutate(seq = plyr::mapvalues(from = guide.to.gene$seq, to = guide.to.gene$gene, seq, warn_missing = FALSE)) %>%\n",
    "select(-chr, -posL, -posR) %>%\n",
    "filter(seq %in% all_of(cosmic.tier1)) %>%\n",
    "melt() %>%\n",
    "group_by(seq, variable) %>%\n",
    "summarise(sum(value)) %>%\n",
    "rename(\"value\" = 3) %>%\n",
    "dcast(formula = seq ~ variable, fill = \"value\")\n",
    "\n",
    "head(cosmic.tier1.matrix)\n",
    "dim(cosmic.tier1.matrix)\n"
   ]
  },
  {
   "cell_type": "code",
   "execution_count": 22,
   "metadata": {},
   "outputs": [
    {
     "data": {
      "text/html": [
       "<table class=\"dataframe\">\n",
       "<caption>A data.frame: 6 × 3</caption>\n",
       "<thead>\n",
       "\t<tr><th></th><th scope=col>sample</th><th scope=col>num_genes</th><th scope=col>ancestry</th></tr>\n",
       "\t<tr><th></th><th scope=col>&lt;chr&gt;</th><th scope=col>&lt;dbl&gt;</th><th scope=col>&lt;chr&gt;</th></tr>\n",
       "</thead>\n",
       "<tbody>\n",
       "\t<tr><th scope=row>1</th><td>CHMI_CHMI3_WGS2</td><td>14</td><td>Other</td></tr>\n",
       "\t<tr><th scope=row>2</th><td>HGDP00843      </td><td>10</td><td>Other</td></tr>\n",
       "\t<tr><th scope=row>3</th><td>HGDP00392      </td><td>10</td><td>Other</td></tr>\n",
       "\t<tr><th scope=row>4</th><td>HGDP00544      </td><td> 8</td><td>Other</td></tr>\n",
       "\t<tr><th scope=row>5</th><td>HGDP01053      </td><td> 9</td><td>Other</td></tr>\n",
       "\t<tr><th scope=row>6</th><td>HGDP00191      </td><td>10</td><td>Other</td></tr>\n",
       "</tbody>\n",
       "</table>\n"
      ],
      "text/latex": [
       "A data.frame: 6 × 3\n",
       "\\begin{tabular}{r|lll}\n",
       "  & sample & num\\_genes & ancestry\\\\\n",
       "  & <chr> & <dbl> & <chr>\\\\\n",
       "\\hline\n",
       "\t1 & CHMI\\_CHMI3\\_WGS2 & 14 & Other\\\\\n",
       "\t2 & HGDP00843       & 10 & Other\\\\\n",
       "\t3 & HGDP00392       & 10 & Other\\\\\n",
       "\t4 & HGDP00544       &  8 & Other\\\\\n",
       "\t5 & HGDP01053       &  9 & Other\\\\\n",
       "\t6 & HGDP00191       & 10 & Other\\\\\n",
       "\\end{tabular}\n"
      ],
      "text/markdown": [
       "\n",
       "A data.frame: 6 × 3\n",
       "\n",
       "| <!--/--> | sample &lt;chr&gt; | num_genes &lt;dbl&gt; | ancestry &lt;chr&gt; |\n",
       "|---|---|---|---|\n",
       "| 1 | CHMI_CHMI3_WGS2 | 14 | Other |\n",
       "| 2 | HGDP00843       | 10 | Other |\n",
       "| 3 | HGDP00392       | 10 | Other |\n",
       "| 4 | HGDP00544       |  8 | Other |\n",
       "| 5 | HGDP01053       |  9 | Other |\n",
       "| 6 | HGDP00191       | 10 | Other |\n",
       "\n"
      ],
      "text/plain": [
       "  sample          num_genes ancestry\n",
       "1 CHMI_CHMI3_WGS2 14        Other   \n",
       "2 HGDP00843       10        Other   \n",
       "3 HGDP00392       10        Other   \n",
       "4 HGDP00544        8        Other   \n",
       "5 HGDP01053        9        Other   \n",
       "6 HGDP00191       10        Other   "
      ]
     },
     "metadata": {},
     "output_type": "display_data"
    },
    {
     "name": "stdout",
     "output_type": "stream",
     "text": [
      "'data.frame':\t4010 obs. of  3 variables:\n",
      " $ sample   : chr  \"CHMI_CHMI3_WGS2\" \"HGDP00843\" \"HGDP00392\" \"HGDP00544\" ...\n",
      " $ num_genes: num  14 10 10 8 9 10 7 8 9 10 ...\n",
      " $ ancestry : chr  \"Other\" \"Other\" \"Other\" \"Other\" ...\n"
     ]
    }
   ],
   "source": [
    "#Now create a data frame that has the number of affected cosmic genes per individual\n",
    "affected.genes.per.person = cosmic.tier1.matrix %>%\n",
    "select(-seq) %>%\n",
    "apply(2, as.numeric) %>%\n",
    "apply(2, sum) %>%\n",
    "data.frame() %>%\n",
    "rename(\"num_genes\" = 1) %>%\n",
    "tibble::rownames_to_column(\"sample\") %>%\n",
    "inner_join(sample.annotation, by = \"sample\") %>%\n",
    "filter(ancestry != \"NA\") %>%\n",
    "mutate(ancestry = gsub(\"nfe\", \"Other\", ancestry)) %>%\n",
    "mutate(ancestry = gsub(\"amr\", \"Other\", ancestry)) %>%\n",
    "mutate(ancestry = gsub(\"sas\", \"Other\", ancestry)) %>%\n",
    "mutate(ancestry = gsub(\"oth\", \"Other\", ancestry)) %>%\n",
    "mutate(ancestry = gsub(\"eas\", \"Other\", ancestry)) %>%\n",
    "mutate(ancestry = gsub(\"afr\", \"African\", ancestry)) %>%\n",
    "mutate(ancestry = gsub(\"mid\", \"Other\", ancestry)) %>%\n",
    "mutate(ancestry = gsub(\"fin\", \"Other\", ancestry))\n",
    "\n",
    "\n",
    "head(affected.genes.per.person)\n",
    "str(affected.genes.per.person)"
   ]
  },
  {
   "cell_type": "code",
   "execution_count": 23,
   "metadata": {},
   "outputs": [
    {
     "data": {
      "text/html": [
       "2"
      ],
      "text/latex": [
       "2"
      ],
      "text/markdown": [
       "2"
      ],
      "text/plain": [
       "[1] 2"
      ]
     },
     "metadata": {},
     "output_type": "display_data"
    },
    {
     "data": {
      "text/html": [
       "19"
      ],
      "text/latex": [
       "19"
      ],
      "text/markdown": [
       "19"
      ],
      "text/plain": [
       "[1] 19"
      ]
     },
     "metadata": {},
     "output_type": "display_data"
    },
    {
     "data": {
      "text/html": [
       "10"
      ],
      "text/latex": [
       "10"
      ],
      "text/markdown": [
       "10"
      ],
      "text/plain": [
       "[1] 10"
      ]
     },
     "metadata": {},
     "output_type": "display_data"
    }
   ],
   "source": [
    "#Calculate the minimum, maximum, and median number of affected genes per person\n",
    "min.num.genes = affected.genes.per.person %>%\n",
    "pull(num_genes) %>%\n",
    "min()\n",
    "\n",
    "max.num.genes = affected.genes.per.person %>%\n",
    "pull(num_genes) %>%\n",
    "max()\n",
    "\n",
    "median.num.genes = affected.genes.per.person %>%\n",
    "pull(num_genes) %>%\n",
    "median()\n",
    "\n",
    "min.num.genes\n",
    "max.num.genes\n",
    "median.num.genes"
   ]
  },
  {
   "cell_type": "code",
   "execution_count": 24,
   "metadata": {},
   "outputs": [
    {
     "data": {
      "image/png": "[encoded data removed]",
      "text/plain": [
       "plot without title"
      ]
     },
     "metadata": {
      "image/png": {
       "height": 420,
       "width": 420
      }
     },
     "output_type": "display_data"
    }
   ],
   "source": [
    "#Now plot the plot!\n",
    "affected.genes.per.person %>%\n",
    "ggplot(aes(x = num_genes)) +\n",
    "geom_histogram(bins = 26, color = rgb(24, 69, 59, maxColorValue = 255), fill = rgb(24, 69, 59, maxColorValue = 255)) +\n",
    "theme_bw() +\n",
    "\n",
    "theme(\n",
    "panel.grid.major = element_blank(),\n",
    "panel.grid.minor = element_blank(), \n",
    "axis.line = element_line(color = \"black\")\n",
    ") +\n",
    "\n",
    "theme(\n",
    "axis.title.x = element_text(color = \"black\", size = 7),\n",
    "axis.title.y = element_text(color = \"black\", size = 7)\n",
    ") +\n",
    "\n",
    "theme(\n",
    "axis.text=element_text(size = 7),\n",
    "axis.title=element_text(size = 7)\n",
    ") +\n",
    "\n",
    "theme(\n",
    "legend.title = element_text(size = 7),\n",
    "legend.text = element_text(size = 7)\n",
    ") +\n",
    "\n",
    "scale_y_continuous(expand = c(0,0)) +\n",
    "scale_x_continuous(expand = c(0,0)) +\n",
    "\n",
    "ylab(\"Number of people\") +\n",
    "xlab(\"# COSMIC CGS genes with SNV\")\n",
    "\n",
    "\n",
    "setwd(\"/home/jupyter/Ancestry/analysis/cosmic_cancer_gene_census\")\n",
    "ggsave(\"affected_cosmic_genes.pdf\", width = 5, height = 3)\n",
    "system(glue::glue(\"\n",
    "cd /home/jupyter/Ancestry/analysis/cosmic_cancer_gene_census\n",
    "gsutil cp affected_cosmic_genes.pdf gs://fc-45c0e148-0b1c-4244-9bfc-feb559bbc514\n",
    "\"))"
   ]
  },
  {
   "cell_type": "markdown",
   "metadata": {},
   "source": [
    "Pick any two samples from the top and fill in their information on the figure"
   ]
  },
  {
   "cell_type": "markdown",
   "metadata": {},
   "source": [
    "# Calculate pairwise overlaps in COSMIC tier 1 genes"
   ]
  },
  {
   "cell_type": "markdown",
   "metadata": {},
   "source": [
    "Do this for only 25 random samples from each subpopulation"
   ]
  },
  {
   "cell_type": "code",
   "execution_count": 14,
   "metadata": {},
   "outputs": [],
   "source": [
    "#Get vectors for all of the samples that we want.\n",
    "set.seed(42)\n",
    "random.nfe.samples = sample.annotation %>% filter(ancestry %in% \"nfe\") %>% sample_n(25)\n",
    "random.fin.samples = sample.annotation %>% filter(ancestry %in% \"fin\") %>% sample_n(25)\n",
    "random.eas.samples = sample.annotation %>% filter(ancestry %in% \"eas\") %>% sample_n(25) \n",
    "random.amr.samples = sample.annotation %>% filter(ancestry %in% \"amr\") %>% sample_n(25)\n",
    "random.sas.samples = sample.annotation %>% filter(ancestry %in% \"sas\") %>% sample_n(25) \n",
    "random.mid.samples = sample.annotation %>% filter(ancestry %in% \"mid\") %>% sample_n(25)\n",
    "\n",
    "#bind all of the datasets together\n",
    "selected.samples = rbind(random.nfe.samples, random.fin.samples, random.eas.samples, random.amr.samples, random.sas.samples, random.mid.samples)"
   ]
  },
  {
   "cell_type": "code",
   "execution_count": 15,
   "metadata": {},
   "outputs": [
    {
     "data": {
      "text/html": [
       "<table class=\"dataframe\">\n",
       "<caption>A data.frame: 6 × 151</caption>\n",
       "<thead>\n",
       "\t<tr><th></th><th scope=col>gene</th><th scope=col>NA12828</th><th scope=col>HGDP01062</th><th scope=col>HG01626</th><th scope=col>HG00253</th><th scope=col>HG01786</th><th scope=col>HG01619</th><th scope=col>NA20764</th><th scope=col>HG00150</th><th scope=col>HG01601</th><th scope=col>⋯</th><th scope=col>HGDP00568</th><th scope=col>HGDP00649</th><th scope=col>HGDP00601</th><th scope=col>HGDP00615</th><th scope=col>HGDP01272</th><th scope=col>HGDP00562</th><th scope=col>HGDP00612</th><th scope=col>HGDP00699</th><th scope=col>HGDP01280</th><th scope=col>HGDP01268</th></tr>\n",
       "\t<tr><th></th><th scope=col>&lt;chr&gt;</th><th scope=col>&lt;chr&gt;</th><th scope=col>&lt;chr&gt;</th><th scope=col>&lt;chr&gt;</th><th scope=col>&lt;chr&gt;</th><th scope=col>&lt;chr&gt;</th><th scope=col>&lt;chr&gt;</th><th scope=col>&lt;chr&gt;</th><th scope=col>&lt;chr&gt;</th><th scope=col>&lt;chr&gt;</th><th scope=col>⋯</th><th scope=col>&lt;chr&gt;</th><th scope=col>&lt;chr&gt;</th><th scope=col>&lt;chr&gt;</th><th scope=col>&lt;chr&gt;</th><th scope=col>&lt;chr&gt;</th><th scope=col>&lt;chr&gt;</th><th scope=col>&lt;chr&gt;</th><th scope=col>&lt;chr&gt;</th><th scope=col>&lt;chr&gt;</th><th scope=col>&lt;chr&gt;</th></tr>\n",
       "</thead>\n",
       "<tbody>\n",
       "\t<tr><th scope=row>1</th><td>ACVR1 </td><td>1</td><td>1</td><td>1</td><td>1</td><td>1</td><td>1</td><td>1</td><td>1</td><td>1</td><td>⋯</td><td>1</td><td>1</td><td>1</td><td>1</td><td>1</td><td>1</td><td>1</td><td>1</td><td>1</td><td>1</td></tr>\n",
       "\t<tr><th scope=row>2</th><td>ACVR1B</td><td>0</td><td>0</td><td>0</td><td>0</td><td>0</td><td>0</td><td>0</td><td>0</td><td>0</td><td>⋯</td><td>0</td><td>0</td><td>0</td><td>0</td><td>0</td><td>0</td><td>0</td><td>0</td><td>0</td><td>0</td></tr>\n",
       "\t<tr><th scope=row>3</th><td>ACVR2A</td><td>0</td><td>0</td><td>0</td><td>0</td><td>0</td><td>0</td><td>0</td><td>0</td><td>0</td><td>⋯</td><td>0</td><td>0</td><td>0</td><td>0</td><td>0</td><td>0</td><td>0</td><td>0</td><td>0</td><td>0</td></tr>\n",
       "\t<tr><th scope=row>4</th><td>AKT1  </td><td>0</td><td>0</td><td>0</td><td>0</td><td>0</td><td>0</td><td>0</td><td>0</td><td>0</td><td>⋯</td><td>0</td><td>0</td><td>0</td><td>0</td><td>0</td><td>0</td><td>0</td><td>0</td><td>0</td><td>0</td></tr>\n",
       "\t<tr><th scope=row>5</th><td>AKT2  </td><td>0</td><td>0</td><td>0</td><td>0</td><td>0</td><td>0</td><td>0</td><td>0</td><td>0</td><td>⋯</td><td>0</td><td>0</td><td>0</td><td>0</td><td>0</td><td>0</td><td>0</td><td>0</td><td>0</td><td>0</td></tr>\n",
       "\t<tr><th scope=row>6</th><td>APC   </td><td>0</td><td>0</td><td>0</td><td>0</td><td>0</td><td>0</td><td>0</td><td>0</td><td>0</td><td>⋯</td><td>0</td><td>0</td><td>0</td><td>0</td><td>0</td><td>0</td><td>0</td><td>0</td><td>0</td><td>0</td></tr>\n",
       "</tbody>\n",
       "</table>\n"
      ],
      "text/latex": [
       "A data.frame: 6 × 151\n",
       "\\begin{tabular}{r|lllllllllllllllllllll}\n",
       "  & gene & NA12828 & HGDP01062 & HG01626 & HG00253 & HG01786 & HG01619 & NA20764 & HG00150 & HG01601 & ⋯ & HGDP00568 & HGDP00649 & HGDP00601 & HGDP00615 & HGDP01272 & HGDP00562 & HGDP00612 & HGDP00699 & HGDP01280 & HGDP01268\\\\\n",
       "  & <chr> & <chr> & <chr> & <chr> & <chr> & <chr> & <chr> & <chr> & <chr> & <chr> & ⋯ & <chr> & <chr> & <chr> & <chr> & <chr> & <chr> & <chr> & <chr> & <chr> & <chr>\\\\\n",
       "\\hline\n",
       "\t1 & ACVR1  & 1 & 1 & 1 & 1 & 1 & 1 & 1 & 1 & 1 & ⋯ & 1 & 1 & 1 & 1 & 1 & 1 & 1 & 1 & 1 & 1\\\\\n",
       "\t2 & ACVR1B & 0 & 0 & 0 & 0 & 0 & 0 & 0 & 0 & 0 & ⋯ & 0 & 0 & 0 & 0 & 0 & 0 & 0 & 0 & 0 & 0\\\\\n",
       "\t3 & ACVR2A & 0 & 0 & 0 & 0 & 0 & 0 & 0 & 0 & 0 & ⋯ & 0 & 0 & 0 & 0 & 0 & 0 & 0 & 0 & 0 & 0\\\\\n",
       "\t4 & AKT1   & 0 & 0 & 0 & 0 & 0 & 0 & 0 & 0 & 0 & ⋯ & 0 & 0 & 0 & 0 & 0 & 0 & 0 & 0 & 0 & 0\\\\\n",
       "\t5 & AKT2   & 0 & 0 & 0 & 0 & 0 & 0 & 0 & 0 & 0 & ⋯ & 0 & 0 & 0 & 0 & 0 & 0 & 0 & 0 & 0 & 0\\\\\n",
       "\t6 & APC    & 0 & 0 & 0 & 0 & 0 & 0 & 0 & 0 & 0 & ⋯ & 0 & 0 & 0 & 0 & 0 & 0 & 0 & 0 & 0 & 0\\\\\n",
       "\\end{tabular}\n"
      ],
      "text/markdown": [
       "\n",
       "A data.frame: 6 × 151\n",
       "\n",
       "| <!--/--> | gene &lt;chr&gt; | NA12828 &lt;chr&gt; | HGDP01062 &lt;chr&gt; | HG01626 &lt;chr&gt; | HG00253 &lt;chr&gt; | HG01786 &lt;chr&gt; | HG01619 &lt;chr&gt; | NA20764 &lt;chr&gt; | HG00150 &lt;chr&gt; | HG01601 &lt;chr&gt; | ⋯ ⋯ | HGDP00568 &lt;chr&gt; | HGDP00649 &lt;chr&gt; | HGDP00601 &lt;chr&gt; | HGDP00615 &lt;chr&gt; | HGDP01272 &lt;chr&gt; | HGDP00562 &lt;chr&gt; | HGDP00612 &lt;chr&gt; | HGDP00699 &lt;chr&gt; | HGDP01280 &lt;chr&gt; | HGDP01268 &lt;chr&gt; |\n",
       "|---|---|---|---|---|---|---|---|---|---|---|---|---|---|---|---|---|---|---|---|---|---|\n",
       "| 1 | ACVR1  | 1 | 1 | 1 | 1 | 1 | 1 | 1 | 1 | 1 | ⋯ | 1 | 1 | 1 | 1 | 1 | 1 | 1 | 1 | 1 | 1 |\n",
       "| 2 | ACVR1B | 0 | 0 | 0 | 0 | 0 | 0 | 0 | 0 | 0 | ⋯ | 0 | 0 | 0 | 0 | 0 | 0 | 0 | 0 | 0 | 0 |\n",
       "| 3 | ACVR2A | 0 | 0 | 0 | 0 | 0 | 0 | 0 | 0 | 0 | ⋯ | 0 | 0 | 0 | 0 | 0 | 0 | 0 | 0 | 0 | 0 |\n",
       "| 4 | AKT1   | 0 | 0 | 0 | 0 | 0 | 0 | 0 | 0 | 0 | ⋯ | 0 | 0 | 0 | 0 | 0 | 0 | 0 | 0 | 0 | 0 |\n",
       "| 5 | AKT2   | 0 | 0 | 0 | 0 | 0 | 0 | 0 | 0 | 0 | ⋯ | 0 | 0 | 0 | 0 | 0 | 0 | 0 | 0 | 0 | 0 |\n",
       "| 6 | APC    | 0 | 0 | 0 | 0 | 0 | 0 | 0 | 0 | 0 | ⋯ | 0 | 0 | 0 | 0 | 0 | 0 | 0 | 0 | 0 | 0 |\n",
       "\n"
      ],
      "text/plain": [
       "  gene   NA12828 HGDP01062 HG01626 HG00253 HG01786 HG01619 NA20764 HG00150\n",
       "1 ACVR1  1       1         1       1       1       1       1       1      \n",
       "2 ACVR1B 0       0         0       0       0       0       0       0      \n",
       "3 ACVR2A 0       0         0       0       0       0       0       0      \n",
       "4 AKT1   0       0         0       0       0       0       0       0      \n",
       "5 AKT2   0       0         0       0       0       0       0       0      \n",
       "6 APC    0       0         0       0       0       0       0       0      \n",
       "  HG01601 ⋯ HGDP00568 HGDP00649 HGDP00601 HGDP00615 HGDP01272 HGDP00562\n",
       "1 1       ⋯ 1         1         1         1         1         1        \n",
       "2 0       ⋯ 0         0         0         0         0         0        \n",
       "3 0       ⋯ 0         0         0         0         0         0        \n",
       "4 0       ⋯ 0         0         0         0         0         0        \n",
       "5 0       ⋯ 0         0         0         0         0         0        \n",
       "6 0       ⋯ 0         0         0         0         0         0        \n",
       "  HGDP00612 HGDP00699 HGDP01280 HGDP01268\n",
       "1 1         1         1         1        \n",
       "2 0         0         0         0        \n",
       "3 0         0         0         0        \n",
       "4 0         0         0         0        \n",
       "5 0         0         0         0        \n",
       "6 0         0         0         0        "
      ]
     },
     "metadata": {},
     "output_type": "display_data"
    }
   ],
   "source": [
    "#Filter the genotyping data to only include the selected samples\n",
    "selected.cosmic.matrix = cosmic.tier1.matrix %>%\n",
    "rename_all(~gsub(\"\\\\.\", \"-\", .)) %>%\n",
    "select(seq, all_of(selected.samples$sample)) %>%\n",
    "mutate(across(-seq, ~ ifelse(. > 1, 1, .))) %>%\n",
    "rename(\"gene\" = seq)\n",
    "\n",
    "selected.cosmic.matrix %>% head()"
   ]
  },
  {
   "cell_type": "code",
   "execution_count": 16,
   "metadata": {},
   "outputs": [],
   "source": [
    "#Go through all of the cell lines and get a dataframe that has which genes are affected in each cell line\n",
    "affected.gene.list = selected.cosmic.matrix %>% \n",
    "melt(id = \"gene\") %>%\n",
    "filter(value %in% \"1\") %>%\n",
    "select(-value) %>%\n",
    "rename(\"sample\" = variable)"
   ]
  },
  {
   "cell_type": "code",
   "execution_count": 17,
   "metadata": {},
   "outputs": [],
   "source": [
    "#Get a vector of all unique samples\n",
    "unique.samples = affected.gene.list %>%\n",
    "pull(sample) %>%\n",
    "unique() %>%\n",
    "as.character()"
   ]
  },
  {
   "cell_type": "code",
   "execution_count": 18,
   "metadata": {},
   "outputs": [],
   "source": [
    "#Now loop through everything and compute an intersection matrix\n",
    "intersection.matrix = NULL\n",
    "for(line in unique.samples){\n",
    "    \n",
    "    affected.gene.v1 = affected.gene.list %>% filter(sample %in% all_of(line)) %>% pull(gene) %>% unique()\n",
    "    \n",
    "    intersection.vector = NULL\n",
    "    for(i in 1:length(unique.samples)){\n",
    "        \n",
    "        #Extract a vector of affected genes\n",
    "        second.line.of.interest = unique.samples[i]\n",
    "        affected.gene.vi = affected.gene.list %>% filter(sample %in% all_of(second.line.of.interest)) %>% pull(gene) %>% unique()\n",
    "        \n",
    "        #Calculate the intersection length\n",
    "        intersection.length = intersect(affected.gene.v1, affected.gene.vi) %>% length()\n",
    "        \n",
    "        #Export it outside of the loop\n",
    "        intersection.vector[i] = intersection.length    \n",
    "    }\n",
    "    \n",
    "    #Now export the final vector to outside of the loop and store it as a df\n",
    "    intersection.matrix = cbind(intersection.matrix, intersection.vector)\n",
    "    \n",
    "}\n",
    "\n",
    "#Rename the matrix\n",
    "colnames(intersection.matrix) = unique.samples\n",
    "intersection.matrix = intersection.matrix %>%\n",
    "data.frame() %>%\n",
    "mutate(\"sample\" = unique.samples, .before = 1)"
   ]
  },
  {
   "cell_type": "markdown",
   "metadata": {},
   "source": [
    "This is probably not the correct strategy. Maybe just do the propaganda figure.\n",
    "\n",
    "\n",
    "The goal this time is to pick 5 samples from each ancestry group, then filter so that it only includes the affected genes and make a heatmap. Maybe that will be good enough."
   ]
  },
  {
   "cell_type": "code",
   "execution_count": 19,
   "metadata": {},
   "outputs": [],
   "source": [
    "#Randomly select samples\n",
    "set.seed(42)\n",
    "random.nfe.propaganda.samples = sample.annotation %>% filter(ancestry %in% \"nfe\") %>% sample_n(5)\n",
    "random.fin.propaganda.samples = sample.annotation %>% filter(ancestry %in% \"fin\") %>% sample_n(5)\n",
    "random.eas.propaganda.samples = sample.annotation %>% filter(ancestry %in% \"eas\") %>% sample_n(5) \n",
    "random.amr.propaganda.samples = sample.annotation %>% filter(ancestry %in% \"amr\") %>% sample_n(5)\n",
    "random.sas.propaganda.samples = sample.annotation %>% filter(ancestry %in% \"sas\") %>% sample_n(5) \n",
    "random.mid.propaganda.samples = sample.annotation %>% filter(ancestry %in% \"mid\") %>% sample_n(5)\n",
    "random.afr.propaganda.samples = sample.annotation %>% filter(ancestry %in% \"afr\") %>% sample_n(5)\n",
    "\n",
    "#bind all of the datasets together\n",
    "selected.propaganda.samples = rbind(random.nfe.propaganda.samples, random.fin.propaganda.samples, random.eas.propaganda.samples, random.amr.propaganda.samples, random.sas.propaganda.samples, random.mid.propaganda.samples, random.afr.propaganda.samples)"
   ]
  },
  {
   "cell_type": "code",
   "execution_count": 20,
   "metadata": {},
   "outputs": [
    {
     "data": {
      "text/html": [
       "<table class=\"dataframe\">\n",
       "<caption>A data.frame: 6 × 36</caption>\n",
       "<thead>\n",
       "\t<tr><th></th><th scope=col>gene</th><th scope=col>NA12828</th><th scope=col>HGDP01062</th><th scope=col>HG01626</th><th scope=col>HG00253</th><th scope=col>HG01786</th><th scope=col>HG00267</th><th scope=col>HG00325</th><th scope=col>HG00323</th><th scope=col>HG00274</th><th scope=col>⋯</th><th scope=col>HGDP00604</th><th scope=col>HGDP00626</th><th scope=col>HGDP00581</th><th scope=col>HGDP00590</th><th scope=col>HGDP00651</th><th scope=col>LP6005443-DNA_F02</th><th scope=col>HG02983</th><th scope=col>NA19238</th><th scope=col>NA20342</th><th scope=col>HG02594</th></tr>\n",
       "\t<tr><th></th><th scope=col>&lt;chr&gt;</th><th scope=col>&lt;chr&gt;</th><th scope=col>&lt;chr&gt;</th><th scope=col>&lt;chr&gt;</th><th scope=col>&lt;chr&gt;</th><th scope=col>&lt;chr&gt;</th><th scope=col>&lt;chr&gt;</th><th scope=col>&lt;chr&gt;</th><th scope=col>&lt;chr&gt;</th><th scope=col>&lt;chr&gt;</th><th scope=col>⋯</th><th scope=col>&lt;chr&gt;</th><th scope=col>&lt;chr&gt;</th><th scope=col>&lt;chr&gt;</th><th scope=col>&lt;chr&gt;</th><th scope=col>&lt;chr&gt;</th><th scope=col>&lt;chr&gt;</th><th scope=col>&lt;chr&gt;</th><th scope=col>&lt;chr&gt;</th><th scope=col>&lt;chr&gt;</th><th scope=col>&lt;chr&gt;</th></tr>\n",
       "</thead>\n",
       "<tbody>\n",
       "\t<tr><th scope=row>1</th><td>ACVR1 </td><td>1</td><td>1</td><td>1</td><td>1</td><td>1</td><td>1</td><td>1</td><td>1</td><td>1</td><td>⋯</td><td>1</td><td>0</td><td>1</td><td>1</td><td>1</td><td>0</td><td>0</td><td>1</td><td>1</td><td>0</td></tr>\n",
       "\t<tr><th scope=row>2</th><td>ACVR1B</td><td>0</td><td>0</td><td>0</td><td>0</td><td>0</td><td>0</td><td>0</td><td>0</td><td>0</td><td>⋯</td><td>0</td><td>0</td><td>0</td><td>0</td><td>0</td><td>0</td><td>0</td><td>0</td><td>0</td><td>0</td></tr>\n",
       "\t<tr><th scope=row>3</th><td>ACVR2A</td><td>0</td><td>0</td><td>0</td><td>0</td><td>0</td><td>0</td><td>0</td><td>0</td><td>0</td><td>⋯</td><td>0</td><td>0</td><td>0</td><td>0</td><td>0</td><td>0</td><td>0</td><td>0</td><td>0</td><td>0</td></tr>\n",
       "\t<tr><th scope=row>4</th><td>AKT1  </td><td>0</td><td>0</td><td>0</td><td>0</td><td>0</td><td>0</td><td>0</td><td>0</td><td>0</td><td>⋯</td><td>0</td><td>0</td><td>0</td><td>0</td><td>0</td><td>0</td><td>0</td><td>0</td><td>0</td><td>0</td></tr>\n",
       "\t<tr><th scope=row>5</th><td>AKT2  </td><td>0</td><td>0</td><td>0</td><td>0</td><td>0</td><td>0</td><td>0</td><td>0</td><td>0</td><td>⋯</td><td>0</td><td>0</td><td>0</td><td>0</td><td>0</td><td>0</td><td>0</td><td>0</td><td>0</td><td>0</td></tr>\n",
       "\t<tr><th scope=row>6</th><td>APC   </td><td>0</td><td>0</td><td>0</td><td>0</td><td>0</td><td>0</td><td>0</td><td>0</td><td>0</td><td>⋯</td><td>0</td><td>0</td><td>0</td><td>0</td><td>0</td><td>0</td><td>0</td><td>0</td><td>0</td><td>0</td></tr>\n",
       "</tbody>\n",
       "</table>\n"
      ],
      "text/latex": [
       "A data.frame: 6 × 36\n",
       "\\begin{tabular}{r|lllllllllllllllllllll}\n",
       "  & gene & NA12828 & HGDP01062 & HG01626 & HG00253 & HG01786 & HG00267 & HG00325 & HG00323 & HG00274 & ⋯ & HGDP00604 & HGDP00626 & HGDP00581 & HGDP00590 & HGDP00651 & LP6005443-DNA\\_F02 & HG02983 & NA19238 & NA20342 & HG02594\\\\\n",
       "  & <chr> & <chr> & <chr> & <chr> & <chr> & <chr> & <chr> & <chr> & <chr> & <chr> & ⋯ & <chr> & <chr> & <chr> & <chr> & <chr> & <chr> & <chr> & <chr> & <chr> & <chr>\\\\\n",
       "\\hline\n",
       "\t1 & ACVR1  & 1 & 1 & 1 & 1 & 1 & 1 & 1 & 1 & 1 & ⋯ & 1 & 0 & 1 & 1 & 1 & 0 & 0 & 1 & 1 & 0\\\\\n",
       "\t2 & ACVR1B & 0 & 0 & 0 & 0 & 0 & 0 & 0 & 0 & 0 & ⋯ & 0 & 0 & 0 & 0 & 0 & 0 & 0 & 0 & 0 & 0\\\\\n",
       "\t3 & ACVR2A & 0 & 0 & 0 & 0 & 0 & 0 & 0 & 0 & 0 & ⋯ & 0 & 0 & 0 & 0 & 0 & 0 & 0 & 0 & 0 & 0\\\\\n",
       "\t4 & AKT1   & 0 & 0 & 0 & 0 & 0 & 0 & 0 & 0 & 0 & ⋯ & 0 & 0 & 0 & 0 & 0 & 0 & 0 & 0 & 0 & 0\\\\\n",
       "\t5 & AKT2   & 0 & 0 & 0 & 0 & 0 & 0 & 0 & 0 & 0 & ⋯ & 0 & 0 & 0 & 0 & 0 & 0 & 0 & 0 & 0 & 0\\\\\n",
       "\t6 & APC    & 0 & 0 & 0 & 0 & 0 & 0 & 0 & 0 & 0 & ⋯ & 0 & 0 & 0 & 0 & 0 & 0 & 0 & 0 & 0 & 0\\\\\n",
       "\\end{tabular}\n"
      ],
      "text/markdown": [
       "\n",
       "A data.frame: 6 × 36\n",
       "\n",
       "| <!--/--> | gene &lt;chr&gt; | NA12828 &lt;chr&gt; | HGDP01062 &lt;chr&gt; | HG01626 &lt;chr&gt; | HG00253 &lt;chr&gt; | HG01786 &lt;chr&gt; | HG00267 &lt;chr&gt; | HG00325 &lt;chr&gt; | HG00323 &lt;chr&gt; | HG00274 &lt;chr&gt; | ⋯ ⋯ | HGDP00604 &lt;chr&gt; | HGDP00626 &lt;chr&gt; | HGDP00581 &lt;chr&gt; | HGDP00590 &lt;chr&gt; | HGDP00651 &lt;chr&gt; | LP6005443-DNA_F02 &lt;chr&gt; | HG02983 &lt;chr&gt; | NA19238 &lt;chr&gt; | NA20342 &lt;chr&gt; | HG02594 &lt;chr&gt; |\n",
       "|---|---|---|---|---|---|---|---|---|---|---|---|---|---|---|---|---|---|---|---|---|---|\n",
       "| 1 | ACVR1  | 1 | 1 | 1 | 1 | 1 | 1 | 1 | 1 | 1 | ⋯ | 1 | 0 | 1 | 1 | 1 | 0 | 0 | 1 | 1 | 0 |\n",
       "| 2 | ACVR1B | 0 | 0 | 0 | 0 | 0 | 0 | 0 | 0 | 0 | ⋯ | 0 | 0 | 0 | 0 | 0 | 0 | 0 | 0 | 0 | 0 |\n",
       "| 3 | ACVR2A | 0 | 0 | 0 | 0 | 0 | 0 | 0 | 0 | 0 | ⋯ | 0 | 0 | 0 | 0 | 0 | 0 | 0 | 0 | 0 | 0 |\n",
       "| 4 | AKT1   | 0 | 0 | 0 | 0 | 0 | 0 | 0 | 0 | 0 | ⋯ | 0 | 0 | 0 | 0 | 0 | 0 | 0 | 0 | 0 | 0 |\n",
       "| 5 | AKT2   | 0 | 0 | 0 | 0 | 0 | 0 | 0 | 0 | 0 | ⋯ | 0 | 0 | 0 | 0 | 0 | 0 | 0 | 0 | 0 | 0 |\n",
       "| 6 | APC    | 0 | 0 | 0 | 0 | 0 | 0 | 0 | 0 | 0 | ⋯ | 0 | 0 | 0 | 0 | 0 | 0 | 0 | 0 | 0 | 0 |\n",
       "\n"
      ],
      "text/plain": [
       "  gene   NA12828 HGDP01062 HG01626 HG00253 HG01786 HG00267 HG00325 HG00323\n",
       "1 ACVR1  1       1         1       1       1       1       1       1      \n",
       "2 ACVR1B 0       0         0       0       0       0       0       0      \n",
       "3 ACVR2A 0       0         0       0       0       0       0       0      \n",
       "4 AKT1   0       0         0       0       0       0       0       0      \n",
       "5 AKT2   0       0         0       0       0       0       0       0      \n",
       "6 APC    0       0         0       0       0       0       0       0      \n",
       "  HG00274 ⋯ HGDP00604 HGDP00626 HGDP00581 HGDP00590 HGDP00651 LP6005443-DNA_F02\n",
       "1 1       ⋯ 1         0         1         1         1         0                \n",
       "2 0       ⋯ 0         0         0         0         0         0                \n",
       "3 0       ⋯ 0         0         0         0         0         0                \n",
       "4 0       ⋯ 0         0         0         0         0         0                \n",
       "5 0       ⋯ 0         0         0         0         0         0                \n",
       "6 0       ⋯ 0         0         0         0         0         0                \n",
       "  HG02983 NA19238 NA20342 HG02594\n",
       "1 0       1       1       0      \n",
       "2 0       0       0       0      \n",
       "3 0       0       0       0      \n",
       "4 0       0       0       0      \n",
       "5 0       0       0       0      \n",
       "6 0       0       0       0      "
      ]
     },
     "metadata": {},
     "output_type": "display_data"
    }
   ],
   "source": [
    "#Filter the genotyping data to only include the selected propaganda samples\n",
    "selected.propaganda.cosmic.matrix = cosmic.tier1.matrix %>%\n",
    "rename_all(~gsub(\"\\\\.\", \"-\", .)) %>%\n",
    "select(seq, all_of(selected.propaganda.samples$sample)) %>%\n",
    "mutate(across(-seq, ~ ifelse(. > 1, 1, .))) %>%\n",
    "rename(\"gene\" = seq)\n",
    "\n",
    "selected.propaganda.cosmic.matrix %>% head()"
   ]
  },
  {
   "cell_type": "code",
   "execution_count": 38,
   "metadata": {},
   "outputs": [
    {
     "data": {
      "text/html": [
       "<table class=\"dataframe\">\n",
       "<caption>A tibble: 7 × 2</caption>\n",
       "<thead>\n",
       "\t<tr><th scope=col>ancestry</th><th scope=col>total_affected_cells</th></tr>\n",
       "\t<tr><th scope=col>&lt;fct&gt;</th><th scope=col>&lt;dbl&gt;</th></tr>\n",
       "</thead>\n",
       "<tbody>\n",
       "\t<tr><td>nfe</td><td>47</td></tr>\n",
       "\t<tr><td>fin</td><td>45</td></tr>\n",
       "\t<tr><td>eas</td><td>43</td></tr>\n",
       "\t<tr><td>amr</td><td>49</td></tr>\n",
       "\t<tr><td>sas</td><td>44</td></tr>\n",
       "\t<tr><td>mid</td><td>44</td></tr>\n",
       "\t<tr><td>afr</td><td>55</td></tr>\n",
       "</tbody>\n",
       "</table>\n"
      ],
      "text/latex": [
       "A tibble: 7 × 2\n",
       "\\begin{tabular}{ll}\n",
       " ancestry & total\\_affected\\_cells\\\\\n",
       " <fct> & <dbl>\\\\\n",
       "\\hline\n",
       "\t nfe & 47\\\\\n",
       "\t fin & 45\\\\\n",
       "\t eas & 43\\\\\n",
       "\t amr & 49\\\\\n",
       "\t sas & 44\\\\\n",
       "\t mid & 44\\\\\n",
       "\t afr & 55\\\\\n",
       "\\end{tabular}\n"
      ],
      "text/markdown": [
       "\n",
       "A tibble: 7 × 2\n",
       "\n",
       "| ancestry &lt;fct&gt; | total_affected_cells &lt;dbl&gt; |\n",
       "|---|---|\n",
       "| nfe | 47 |\n",
       "| fin | 45 |\n",
       "| eas | 43 |\n",
       "| amr | 49 |\n",
       "| sas | 44 |\n",
       "| mid | 44 |\n",
       "| afr | 55 |\n",
       "\n"
      ],
      "text/plain": [
       "  ancestry total_affected_cells\n",
       "1 nfe      47                  \n",
       "2 fin      45                  \n",
       "3 eas      43                  \n",
       "4 amr      49                  \n",
       "5 sas      44                  \n",
       "6 mid      44                  \n",
       "7 afr      55                  "
      ]
     },
     "metadata": {},
     "output_type": "display_data"
    }
   ],
   "source": [
    "#Calculate the row order\n",
    "factor.order.df = selected.propaganda.cosmic.matrix %>%\n",
    "mutate_at(vars(-gene), as.numeric) %>%\n",
    "filter(rowSums(select(., -gene)) != 0) %>%\n",
    "melt(id = \"gene\") %>%\n",
    "rename(\"sample\" = variable) %>%\n",
    "mutate(\"ancestry\" = plyr::mapvalues(from = sample.annotation$sample, to = sample.annotation$ancestry, sample, warn_missing = FALSE)) %>%\n",
    "group_by(gene) %>%\n",
    "summarise(\"total_affected\" = sum(value)) %>%\n",
    "arrange(total_affected)\n",
    "\n",
    "#Calculate the total number of affected cells per ancestry group\n",
    "total.affected.cells.df = selected.propaganda.cosmic.matrix %>%\n",
    "mutate_at(vars(-gene), as.numeric) %>%\n",
    "filter(rowSums(select(., -gene)) != 0) %>%\n",
    "melt(id = \"gene\") %>%\n",
    "rename(\"sample\" = variable) %>%\n",
    "mutate(\"ancestry\" = plyr::mapvalues(from = sample.annotation$sample, to = sample.annotation$ancestry, sample, warn_missing = FALSE)) %>%\n",
    "group_by(ancestry) %>%\n",
    "summarise(\"total_affected_cells\" = sum(value))\n",
    "\n",
    "total.affected.cells.df"
   ]
  },
  {
   "cell_type": "code",
   "execution_count": 30,
   "metadata": {},
   "outputs": [
    {
     "data": {
      "image/png": "[encoded data removed]",
      "text/plain": [
       "plot without title"
      ]
     },
     "metadata": {
      "image/png": {
       "height": 420,
       "width": 420
      }
     },
     "output_type": "display_data"
    }
   ],
   "source": [
    "#Create the propaganda heatmap\n",
    "selected.propaganda.cosmic.matrix %>%\n",
    "mutate(gene = factor(gene, levels = factor.order.df$gene)) %>%\n",
    "mutate_at(vars(-gene), as.numeric) %>%\n",
    "filter(rowSums(select(., -gene)) != 0) %>%\n",
    "melt(id = \"gene\") %>%\n",
    "rename(\"sample\" = variable) %>%\n",
    "mutate(\"ancestry\" = plyr::mapvalues(from = sample.annotation$sample, to = sample.annotation$ancestry, sample, warn_missing = FALSE)) %>%\n",
    "mutate(value = as.character(value)) %>%\n",
    "ggplot(aes(x = sample, y = gene, fill = value)) +\n",
    "geom_tile() +\n",
    "facet_grid(1 ~ ancestry, scale = \"free\") +\n",
    "\n",
    "theme_bw() +\n",
    "\n",
    "theme(\n",
    "panel.grid.major = element_blank(),\n",
    "panel.grid.minor = element_blank(), \n",
    ") +\n",
    "\n",
    "theme(\n",
    "axis.title.x = element_text(size = 7),\n",
    "axis.title.y = element_text(size = 7)\n",
    ") +\n",
    "\n",
    "theme(\n",
    "axis.text = element_text(size = 7),\n",
    "axis.title = element_text(size = 7)\n",
    ") +\n",
    "\n",
    "theme(\n",
    "legend.title = element_text(size = 7),\n",
    "legend.text = element_text(size = 7)\n",
    ") +\n",
    "\n",
    "ylab(\"Gene\") +\n",
    "xlab(\"Sample\") +\n",
    "\n",
    "theme(\n",
    "axis.text.x = element_text(angle = 45, vjust = 0.5, hjust = 0.25)\n",
    ")\n",
    "\n",
    "\n",
    "#Export it to the google bucket\n",
    "setwd('/home/jupyter/Ancestry/analysis/cosmic_cancer_gene_census')\n",
    "ggsave(\"propaganda_heatmap.pdf\", width = 6, height = 8)\n",
    "system(glue::glue(\"\n",
    "cd /home/jupyter/Ancestry/analysis/cosmic_cancer_gene_census\n",
    "gsutil cp propaganda_heatmap.pdf gs://fc-45c0e148-0b1c-4244-9bfc-feb559bbc514\n",
    "\"))"
   ]
  }
 ],
 "metadata": {
  "kernelspec": {
   "display_name": "R",
   "language": "R",
   "name": "ir"
  },
  "language_info": {
   "codemirror_mode": "r",
   "file_extension": ".r",
   "mimetype": "text/x-r-source",
   "name": "R",
   "pygments_lexer": "r",
   "version": "4.2.1"
  },
  "toc": {
   "base_numbering": 1,
   "nav_menu": {},
   "number_sections": true,
   "sideBar": true,
   "skip_h1_title": false,
   "title_cell": "Table of Contents",
   "title_sidebar": "Contents",
   "toc_cell": false,
   "toc_position": {},
   "toc_section_display": true,
   "toc_window_display": false
  }
 },
 "nbformat": 4,
 "nbformat_minor": 2
}
