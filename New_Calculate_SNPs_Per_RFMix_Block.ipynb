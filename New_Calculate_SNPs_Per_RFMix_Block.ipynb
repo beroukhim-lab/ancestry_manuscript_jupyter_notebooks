{
 "cells": [
  {
   "cell_type": "markdown",
   "metadata": {},
   "source": [
    "The goal of this notebook is to calculate the median number of SNPs per RFMix block so that I can add a few words to the manuscript."
   ]
  },
  {
   "cell_type": "code",
   "execution_count": 1,
   "metadata": {},
   "outputs": [
    {
     "name": "stderr",
     "output_type": "stream",
     "text": [
      "Warning message in system(\"timedatectl\", intern = TRUE):\n",
      "“running command 'timedatectl' had status 1”\n",
      "── \u001b[1mAttaching packages\u001b[22m ─────────────────────────────────────── tidyverse 1.3.1 ──\n",
      "\n",
      "\u001b[32m✔\u001b[39m \u001b[34mggplot2\u001b[39m 3.3.5     \u001b[32m✔\u001b[39m \u001b[34mpurrr  \u001b[39m 0.3.4\n",
      "\u001b[32m✔\u001b[39m \u001b[34mtibble \u001b[39m 3.1.6     \u001b[32m✔\u001b[39m \u001b[34mdplyr  \u001b[39m 1.0.7\n",
      "\u001b[32m✔\u001b[39m \u001b[34mtidyr  \u001b[39m 1.1.4     \u001b[32m✔\u001b[39m \u001b[34mstringr\u001b[39m 1.4.0\n",
      "\u001b[32m✔\u001b[39m \u001b[34mreadr  \u001b[39m 2.1.1     \u001b[32m✔\u001b[39m \u001b[34mforcats\u001b[39m 0.5.1\n",
      "\n",
      "── \u001b[1mConflicts\u001b[22m ────────────────────────────────────────── tidyverse_conflicts() ──\n",
      "\u001b[31m✖\u001b[39m \u001b[34mdplyr\u001b[39m::\u001b[32mfilter()\u001b[39m masks \u001b[34mstats\u001b[39m::filter()\n",
      "\u001b[31m✖\u001b[39m \u001b[34mdplyr\u001b[39m::\u001b[32mlag()\u001b[39m    masks \u001b[34mstats\u001b[39m::lag()\n",
      "\n",
      "\n",
      "Attaching package: ‘reshape2’\n",
      "\n",
      "\n",
      "The following object is masked from ‘package:tidyr’:\n",
      "\n",
      "    smiths\n",
      "\n",
      "\n"
     ]
    }
   ],
   "source": [
    "#Set up the environment\n",
    "library(tidyverse)\n",
    "library(reshape2)"
   ]
  },
  {
   "cell_type": "code",
   "execution_count": 2,
   "metadata": {},
   "outputs": [
    {
     "data": {
      "text/html": [
       "<table class=\"dataframe\">\n",
       "<caption>A data.frame: 6 × 1994</caption>\n",
       "<thead>\n",
       "\t<tr><th></th><th scope=col>X.chm</th><th scope=col>spos</th><th scope=col>epos</th><th scope=col>sgpos</th><th scope=col>egpos</th><th scope=col>n.snps</th><th scope=col>ACH.000657.0</th><th scope=col>ACH.000657.1</th><th scope=col>ACH.000617.0</th><th scope=col>ACH.000617.1</th><th scope=col>⋯</th><th scope=col>ACH.000342.0</th><th scope=col>ACH.000342.1</th><th scope=col>ACH.001130.0</th><th scope=col>ACH.001130.1</th><th scope=col>ACH.000287.0</th><th scope=col>ACH.000287.1</th><th scope=col>ACH.000798.0</th><th scope=col>ACH.000798.1</th><th scope=col>ACH.000645.0</th><th scope=col>ACH.000645.1</th></tr>\n",
       "\t<tr><th></th><th scope=col>&lt;chr&gt;</th><th scope=col>&lt;int&gt;</th><th scope=col>&lt;int&gt;</th><th scope=col>&lt;dbl&gt;</th><th scope=col>&lt;dbl&gt;</th><th scope=col>&lt;int&gt;</th><th scope=col>&lt;int&gt;</th><th scope=col>&lt;int&gt;</th><th scope=col>&lt;int&gt;</th><th scope=col>&lt;int&gt;</th><th scope=col>⋯</th><th scope=col>&lt;int&gt;</th><th scope=col>&lt;int&gt;</th><th scope=col>&lt;int&gt;</th><th scope=col>&lt;int&gt;</th><th scope=col>&lt;int&gt;</th><th scope=col>&lt;int&gt;</th><th scope=col>&lt;int&gt;</th><th scope=col>&lt;int&gt;</th><th scope=col>&lt;int&gt;</th><th scope=col>&lt;int&gt;</th></tr>\n",
       "</thead>\n",
       "<tbody>\n",
       "\t<tr><th scope=row>1</th><td>chr1</td><td>  54490</td><td>1167183</td><td>0.00</td><td>1.00</td><td>1387</td><td>0</td><td>0</td><td>3</td><td>3</td><td>⋯</td><td>3</td><td>3</td><td>2</td><td>0</td><td>3</td><td>3</td><td>3</td><td>3</td><td>3</td><td>3</td></tr>\n",
       "\t<tr><th scope=row>2</th><td>chr1</td><td>1167183</td><td>1639348</td><td>1.00</td><td>1.49</td><td>1840</td><td>0</td><td>0</td><td>3</td><td>3</td><td>⋯</td><td>3</td><td>3</td><td>2</td><td>0</td><td>3</td><td>3</td><td>3</td><td>3</td><td>3</td><td>3</td></tr>\n",
       "\t<tr><th scope=row>3</th><td>chr1</td><td>1639348</td><td>1703754</td><td>1.49</td><td>1.59</td><td> 145</td><td>0</td><td>0</td><td>3</td><td>3</td><td>⋯</td><td>3</td><td>3</td><td>2</td><td>2</td><td>3</td><td>3</td><td>3</td><td>3</td><td>3</td><td>3</td></tr>\n",
       "\t<tr><th scope=row>4</th><td>chr1</td><td>1703754</td><td>1714987</td><td>1.59</td><td>1.60</td><td>  15</td><td>0</td><td>0</td><td>3</td><td>3</td><td>⋯</td><td>3</td><td>3</td><td>2</td><td>2</td><td>3</td><td>3</td><td>3</td><td>3</td><td>3</td><td>3</td></tr>\n",
       "\t<tr><th scope=row>5</th><td>chr1</td><td>1714987</td><td>1896915</td><td>1.60</td><td>1.70</td><td> 380</td><td>0</td><td>0</td><td>3</td><td>3</td><td>⋯</td><td>3</td><td>3</td><td>2</td><td>2</td><td>3</td><td>3</td><td>3</td><td>3</td><td>3</td><td>3</td></tr>\n",
       "\t<tr><th scope=row>6</th><td>chr1</td><td>1896915</td><td>1960886</td><td>1.70</td><td>1.77</td><td> 240</td><td>0</td><td>0</td><td>3</td><td>3</td><td>⋯</td><td>3</td><td>3</td><td>2</td><td>2</td><td>3</td><td>3</td><td>3</td><td>3</td><td>3</td><td>3</td></tr>\n",
       "</tbody>\n",
       "</table>\n"
      ],
      "text/latex": [
       "A data.frame: 6 × 1994\n",
       "\\begin{tabular}{r|lllllllllllllllllllll}\n",
       "  & X.chm & spos & epos & sgpos & egpos & n.snps & ACH.000657.0 & ACH.000657.1 & ACH.000617.0 & ACH.000617.1 & ⋯ & ACH.000342.0 & ACH.000342.1 & ACH.001130.0 & ACH.001130.1 & ACH.000287.0 & ACH.000287.1 & ACH.000798.0 & ACH.000798.1 & ACH.000645.0 & ACH.000645.1\\\\\n",
       "  & <chr> & <int> & <int> & <dbl> & <dbl> & <int> & <int> & <int> & <int> & <int> & ⋯ & <int> & <int> & <int> & <int> & <int> & <int> & <int> & <int> & <int> & <int>\\\\\n",
       "\\hline\n",
       "\t1 & chr1 &   54490 & 1167183 & 0.00 & 1.00 & 1387 & 0 & 0 & 3 & 3 & ⋯ & 3 & 3 & 2 & 0 & 3 & 3 & 3 & 3 & 3 & 3\\\\\n",
       "\t2 & chr1 & 1167183 & 1639348 & 1.00 & 1.49 & 1840 & 0 & 0 & 3 & 3 & ⋯ & 3 & 3 & 2 & 0 & 3 & 3 & 3 & 3 & 3 & 3\\\\\n",
       "\t3 & chr1 & 1639348 & 1703754 & 1.49 & 1.59 &  145 & 0 & 0 & 3 & 3 & ⋯ & 3 & 3 & 2 & 2 & 3 & 3 & 3 & 3 & 3 & 3\\\\\n",
       "\t4 & chr1 & 1703754 & 1714987 & 1.59 & 1.60 &   15 & 0 & 0 & 3 & 3 & ⋯ & 3 & 3 & 2 & 2 & 3 & 3 & 3 & 3 & 3 & 3\\\\\n",
       "\t5 & chr1 & 1714987 & 1896915 & 1.60 & 1.70 &  380 & 0 & 0 & 3 & 3 & ⋯ & 3 & 3 & 2 & 2 & 3 & 3 & 3 & 3 & 3 & 3\\\\\n",
       "\t6 & chr1 & 1896915 & 1960886 & 1.70 & 1.77 &  240 & 0 & 0 & 3 & 3 & ⋯ & 3 & 3 & 2 & 2 & 3 & 3 & 3 & 3 & 3 & 3\\\\\n",
       "\\end{tabular}\n"
      ],
      "text/markdown": [
       "\n",
       "A data.frame: 6 × 1994\n",
       "\n",
       "| <!--/--> | X.chm &lt;chr&gt; | spos &lt;int&gt; | epos &lt;int&gt; | sgpos &lt;dbl&gt; | egpos &lt;dbl&gt; | n.snps &lt;int&gt; | ACH.000657.0 &lt;int&gt; | ACH.000657.1 &lt;int&gt; | ACH.000617.0 &lt;int&gt; | ACH.000617.1 &lt;int&gt; | ⋯ ⋯ | ACH.000342.0 &lt;int&gt; | ACH.000342.1 &lt;int&gt; | ACH.001130.0 &lt;int&gt; | ACH.001130.1 &lt;int&gt; | ACH.000287.0 &lt;int&gt; | ACH.000287.1 &lt;int&gt; | ACH.000798.0 &lt;int&gt; | ACH.000798.1 &lt;int&gt; | ACH.000645.0 &lt;int&gt; | ACH.000645.1 &lt;int&gt; |\n",
       "|---|---|---|---|---|---|---|---|---|---|---|---|---|---|---|---|---|---|---|---|---|---|\n",
       "| 1 | chr1 |   54490 | 1167183 | 0.00 | 1.00 | 1387 | 0 | 0 | 3 | 3 | ⋯ | 3 | 3 | 2 | 0 | 3 | 3 | 3 | 3 | 3 | 3 |\n",
       "| 2 | chr1 | 1167183 | 1639348 | 1.00 | 1.49 | 1840 | 0 | 0 | 3 | 3 | ⋯ | 3 | 3 | 2 | 0 | 3 | 3 | 3 | 3 | 3 | 3 |\n",
       "| 3 | chr1 | 1639348 | 1703754 | 1.49 | 1.59 |  145 | 0 | 0 | 3 | 3 | ⋯ | 3 | 3 | 2 | 2 | 3 | 3 | 3 | 3 | 3 | 3 |\n",
       "| 4 | chr1 | 1703754 | 1714987 | 1.59 | 1.60 |   15 | 0 | 0 | 3 | 3 | ⋯ | 3 | 3 | 2 | 2 | 3 | 3 | 3 | 3 | 3 | 3 |\n",
       "| 5 | chr1 | 1714987 | 1896915 | 1.60 | 1.70 |  380 | 0 | 0 | 3 | 3 | ⋯ | 3 | 3 | 2 | 2 | 3 | 3 | 3 | 3 | 3 | 3 |\n",
       "| 6 | chr1 | 1896915 | 1960886 | 1.70 | 1.77 |  240 | 0 | 0 | 3 | 3 | ⋯ | 3 | 3 | 2 | 2 | 3 | 3 | 3 | 3 | 3 | 3 |\n",
       "\n"
      ],
      "text/plain": [
       "  X.chm spos    epos    sgpos egpos n.snps ACH.000657.0 ACH.000657.1\n",
       "1 chr1    54490 1167183 0.00  1.00  1387   0            0           \n",
       "2 chr1  1167183 1639348 1.00  1.49  1840   0            0           \n",
       "3 chr1  1639348 1703754 1.49  1.59   145   0            0           \n",
       "4 chr1  1703754 1714987 1.59  1.60    15   0            0           \n",
       "5 chr1  1714987 1896915 1.60  1.70   380   0            0           \n",
       "6 chr1  1896915 1960886 1.70  1.77   240   0            0           \n",
       "  ACH.000617.0 ACH.000617.1 ⋯ ACH.000342.0 ACH.000342.1 ACH.001130.0\n",
       "1 3            3            ⋯ 3            3            2           \n",
       "2 3            3            ⋯ 3            3            2           \n",
       "3 3            3            ⋯ 3            3            2           \n",
       "4 3            3            ⋯ 3            3            2           \n",
       "5 3            3            ⋯ 3            3            2           \n",
       "6 3            3            ⋯ 3            3            2           \n",
       "  ACH.001130.1 ACH.000287.0 ACH.000287.1 ACH.000798.0 ACH.000798.1 ACH.000645.0\n",
       "1 0            3            3            3            3            3           \n",
       "2 0            3            3            3            3            3           \n",
       "3 2            3            3            3            3            3           \n",
       "4 2            3            3            3            3            3           \n",
       "5 2            3            3            3            3            3           \n",
       "6 2            3            3            3            3            3           \n",
       "  ACH.000645.1\n",
       "1 3           \n",
       "2 3           \n",
       "3 3           \n",
       "4 3           \n",
       "5 3           \n",
       "6 3           "
      ]
     },
     "metadata": {},
     "output_type": "display_data"
    }
   ],
   "source": [
    "#Load the RFMix data into one big df.\n",
    "setwd(\"/home/jupyter/Ancestry/rfmix\")\n",
    "rfmix.file.names = list.files(pattern = \"msp.tsv\")\n",
    "\n",
    "rfmix.data = NULL\n",
    "for(rfmix.file in rfmix.file.names){\n",
    "    rfmix.data.temp = read.table(rfmix.file, sep = \"\\t\", header = T, comment.char = \"^\", skip = 1)\n",
    "    rfmix.data = rbind(rfmix.data, rfmix.data.temp)\n",
    "}"
   ]
  },
  {
   "cell_type": "code",
   "execution_count": 3,
   "metadata": {},
   "outputs": [
    {
     "data": {
      "text/html": [
       "580"
      ],
      "text/latex": [
       "580"
      ],
      "text/markdown": [
       "580"
      ],
      "text/plain": [
       "[1] 580"
      ]
     },
     "metadata": {},
     "output_type": "display_data"
    }
   ],
   "source": [
    "#Now calculate the median number of SNPs per block\n",
    "rfmix.data %>%\n",
    "pull(n.snps) %>%\n",
    "median()"
   ]
  },
  {
   "cell_type": "code",
   "execution_count": null,
   "metadata": {},
   "outputs": [],
   "source": []
  },
  {
   "cell_type": "code",
   "execution_count": null,
   "metadata": {},
   "outputs": [],
   "source": []
  },
  {
   "cell_type": "code",
   "execution_count": null,
   "metadata": {},
   "outputs": [],
   "source": []
  },
  {
   "cell_type": "code",
   "execution_count": null,
   "metadata": {},
   "outputs": [],
   "source": []
  },
  {
   "cell_type": "code",
   "execution_count": null,
   "metadata": {},
   "outputs": [],
   "source": []
  },
  {
   "cell_type": "code",
   "execution_count": null,
   "metadata": {},
   "outputs": [],
   "source": []
  },
  {
   "cell_type": "code",
   "execution_count": null,
   "metadata": {},
   "outputs": [],
   "source": []
  }
 ],
 "metadata": {
  "kernelspec": {
   "display_name": "R",
   "language": "R",
   "name": "ir"
  },
  "language_info": {
   "codemirror_mode": "r",
   "file_extension": ".r",
   "mimetype": "text/x-r-source",
   "name": "R",
   "pygments_lexer": "r",
   "version": "4.1.2"
  },
  "toc": {
   "base_numbering": 1,
   "nav_menu": {},
   "number_sections": true,
   "sideBar": true,
   "skip_h1_title": false,
   "title_cell": "Table of Contents",
   "title_sidebar": "Contents",
   "toc_cell": false,
   "toc_position": {},
   "toc_section_display": true,
   "toc_window_display": false
  }
 },
 "nbformat": 4,
 "nbformat_minor": 2
}
