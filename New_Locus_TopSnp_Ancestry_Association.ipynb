{
 "cells": [
  {
   "cell_type": "markdown",
   "metadata": {},
   "source": [
    "The goal of this notebook is to test whether the \"top snps\" from 'New_Locus_Specific_GWAS.ipynb' are ancestry-associated."
   ]
  },
  {
   "cell_type": "code",
   "execution_count": 1,
   "metadata": {},
   "outputs": [
    {
     "name": "stderr",
     "output_type": "stream",
     "text": [
      "Warning message in system(\"timedatectl\", intern = TRUE):\n",
      "“running command 'timedatectl' had status 1”\n",
      "── \u001b[1mAttaching packages\u001b[22m ─────────────────────────────────────── tidyverse 1.3.2 ──\n",
      "\u001b[32m✔\u001b[39m \u001b[34mggplot2\u001b[39m 3.3.6     \u001b[32m✔\u001b[39m \u001b[34mpurrr  \u001b[39m 0.3.4\n",
      "\u001b[32m✔\u001b[39m \u001b[34mtibble \u001b[39m 3.1.8     \u001b[32m✔\u001b[39m \u001b[34mdplyr  \u001b[39m 1.0.9\n",
      "\u001b[32m✔\u001b[39m \u001b[34mtidyr  \u001b[39m 1.2.0     \u001b[32m✔\u001b[39m \u001b[34mstringr\u001b[39m 1.4.0\n",
      "\u001b[32m✔\u001b[39m \u001b[34mreadr  \u001b[39m 2.1.2     \u001b[32m✔\u001b[39m \u001b[34mforcats\u001b[39m 0.5.1\n",
      "── \u001b[1mConflicts\u001b[22m ────────────────────────────────────────── tidyverse_conflicts() ──\n",
      "\u001b[31m✖\u001b[39m \u001b[34mdplyr\u001b[39m::\u001b[32mfilter()\u001b[39m masks \u001b[34mstats\u001b[39m::filter()\n",
      "\u001b[31m✖\u001b[39m \u001b[34mdplyr\u001b[39m::\u001b[32mlag()\u001b[39m    masks \u001b[34mstats\u001b[39m::lag()\n",
      "\n",
      "Attaching package: ‘reshape2’\n",
      "\n",
      "\n",
      "The following object is masked from ‘package:tidyr’:\n",
      "\n",
      "    smiths\n",
      "\n",
      "\n"
     ]
    }
   ],
   "source": [
    "#Set up the environment\n",
    "library(tidyverse)\n",
    "library(reshape2)"
   ]
  },
  {
   "cell_type": "code",
   "execution_count": 2,
   "metadata": {},
   "outputs": [
    {
     "data": {
      "text/html": [
       "<table class=\"dataframe\">\n",
       "<caption>A data.frame: 6 × 3</caption>\n",
       "<thead>\n",
       "\t<tr><th></th><th scope=col>gene</th><th scope=col>snp</th><th scope=col>fdr</th></tr>\n",
       "\t<tr><th></th><th scope=col>&lt;chr&gt;</th><th scope=col>&lt;chr&gt;</th><th scope=col>&lt;dbl&gt;</th></tr>\n",
       "</thead>\n",
       "<tbody>\n",
       "\t<tr><th scope=row>1</th><td>TUT1  </td><td>chr11:62578659:C:T</td><td>7.962065e-39</td></tr>\n",
       "\t<tr><th scope=row>2</th><td>ECD   </td><td>chr10:73094386:A:G</td><td>7.230154e-36</td></tr>\n",
       "\t<tr><th scope=row>3</th><td>MRTO4 </td><td>chr1:19252818:GT:G</td><td>1.689572e-34</td></tr>\n",
       "\t<tr><th scope=row>4</th><td>RPS5  </td><td>chr19:58365001:A:G</td><td>4.034371e-31</td></tr>\n",
       "\t<tr><th scope=row>5</th><td>RESP18</td><td>chr2:219320135:G:A</td><td>3.977248e-28</td></tr>\n",
       "\t<tr><th scope=row>6</th><td>SRP14 </td><td>chr15:40035497:C:G</td><td>1.121033e-27</td></tr>\n",
       "</tbody>\n",
       "</table>\n"
      ],
      "text/latex": [
       "A data.frame: 6 × 3\n",
       "\\begin{tabular}{r|lll}\n",
       "  & gene & snp & fdr\\\\\n",
       "  & <chr> & <chr> & <dbl>\\\\\n",
       "\\hline\n",
       "\t1 & TUT1   & chr11:62578659:C:T & 7.962065e-39\\\\\n",
       "\t2 & ECD    & chr10:73094386:A:G & 7.230154e-36\\\\\n",
       "\t3 & MRTO4  & chr1:19252818:GT:G & 1.689572e-34\\\\\n",
       "\t4 & RPS5   & chr19:58365001:A:G & 4.034371e-31\\\\\n",
       "\t5 & RESP18 & chr2:219320135:G:A & 3.977248e-28\\\\\n",
       "\t6 & SRP14  & chr15:40035497:C:G & 1.121033e-27\\\\\n",
       "\\end{tabular}\n"
      ],
      "text/markdown": [
       "\n",
       "A data.frame: 6 × 3\n",
       "\n",
       "| <!--/--> | gene &lt;chr&gt; | snp &lt;chr&gt; | fdr &lt;dbl&gt; |\n",
       "|---|---|---|---|\n",
       "| 1 | TUT1   | chr11:62578659:C:T | 7.962065e-39 |\n",
       "| 2 | ECD    | chr10:73094386:A:G | 7.230154e-36 |\n",
       "| 3 | MRTO4  | chr1:19252818:GT:G | 1.689572e-34 |\n",
       "| 4 | RPS5   | chr19:58365001:A:G | 4.034371e-31 |\n",
       "| 5 | RESP18 | chr2:219320135:G:A | 3.977248e-28 |\n",
       "| 6 | SRP14  | chr15:40035497:C:G | 1.121033e-27 |\n",
       "\n"
      ],
      "text/plain": [
       "  gene   snp                fdr         \n",
       "1 TUT1   chr11:62578659:C:T 7.962065e-39\n",
       "2 ECD    chr10:73094386:A:G 7.230154e-36\n",
       "3 MRTO4  chr1:19252818:GT:G 1.689572e-34\n",
       "4 RPS5   chr19:58365001:A:G 4.034371e-31\n",
       "5 RESP18 chr2:219320135:G:A 3.977248e-28\n",
       "6 SRP14  chr15:40035497:C:G 1.121033e-27"
      ]
     },
     "metadata": {},
     "output_type": "display_data"
    }
   ],
   "source": [
    "#Load in the top snp data\n",
    "setwd(\"/home/jupyter/Ancestry/analysis/locus_specific_gwas_analysis\")\n",
    "top.snp = read.table(\"top.snp.fdr.txt\", sep = \"\\t\", header = T)\n",
    "head(top.snp)"
   ]
  },
  {
   "cell_type": "markdown",
   "metadata": {},
   "source": [
    "# Extract the SNPs from the big VCF file"
   ]
  },
  {
   "cell_type": "code",
   "execution_count": 3,
   "metadata": {},
   "outputs": [],
   "source": [
    "#We need to extract these SNPs from the big vcf file, so let's create a bed file so that we can do that\n",
    "top.snp.for.extraction = top.snp %>%\n",
    "select(snp) %>%\n",
    "data.frame()\n",
    "\n",
    "#write the bed file into the working directory for this project\n",
    "setwd(\"/home/jupyter/Ancestry/analysis/new_locus_topsnp_ancestry_association\")\n",
    "write.table(top.snp.for.extraction, \"top_snp_for_extraction.txt\", sep =\"\\t\", col.names = FALSE, row.names = FALSE, quote = FALSE)"
   ]
  },
  {
   "cell_type": "code",
   "execution_count": 4,
   "metadata": {},
   "outputs": [],
   "source": [
    "#Now extract those SNPs with bcftools\n",
    "system(glue::glue(\"\n",
    "cd /home/jupyter/Ancestry/analysis/new_locus_topsnp_ancestry_association\n",
    "/home/jupyter/Ancestry/software/bcftools/bcftools filter --include 'ID=@top_snp_for_extraction.txt' /home/jupyter/Ancestry/analysis/locus_specific_gwas_analysis/split.all_chroms.maf.subset.reheader.vcf.gz > extracted.snps\n",
    "\"))"
   ]
  },
  {
   "cell_type": "code",
   "execution_count": 5,
   "metadata": {},
   "outputs": [],
   "source": [
    "#Extract the sample names\n",
    "system(glue::glue(\"\n",
    "cd /home/jupyter/Ancestry/analysis/new_locus_topsnp_ancestry_association\n",
    "/home/jupyter/Ancestry/software/bcftools/bcftools query -l /home/jupyter/Ancestry/analysis/locus_specific_gwas_analysis/split.all_chroms.maf.subset.reheader.vcf.gz > sample.names\n",
    "\"))"
   ]
  },
  {
   "cell_type": "code",
   "execution_count": 4,
   "metadata": {},
   "outputs": [
    {
     "name": "stderr",
     "output_type": "stream",
     "text": [
      "Warning message:\n",
      "“`funs()` was deprecated in dplyr 0.8.0.\n",
      "Please use a list of either functions or lambdas: \n",
      "\n",
      "  # Simple named list: \n",
      "  list(mean = mean, median = median)\n",
      "\n",
      "  # Auto named with `tibble::lst()`: \n",
      "  tibble::lst(mean, median)\n",
      "\n",
      "  # Using lambdas\n",
      "  list(~ mean(., trim = .2), ~ median(., na.rm = TRUE))\n",
      "\u001b[90mThis warning is displayed once every 8 hours.\u001b[39m\n",
      "\u001b[90mCall `lifecycle::last_lifecycle_warnings()` to see where this warning was generated.\u001b[39m”\n"
     ]
    },
    {
     "data": {
      "text/html": [
       "<table class=\"dataframe\">\n",
       "<caption>A data.frame: 6 × 995</caption>\n",
       "<thead>\n",
       "\t<tr><th></th><th scope=col>snp</th><th scope=col>ACH-000657</th><th scope=col>ACH-000617</th><th scope=col>ACH-000685</th><th scope=col>ACH-000632</th><th scope=col>ACH-000171</th><th scope=col>ACH-000863</th><th scope=col>ACH-000971</th><th scope=col>ACH-000178</th><th scope=col>ACH-000822</th><th scope=col>⋯</th><th scope=col>ACH-000981</th><th scope=col>ACH-000217</th><th scope=col>ACH-000116</th><th scope=col>ACH-000930</th><th scope=col>ACH-000986</th><th scope=col>ACH-000342</th><th scope=col>ACH-001130</th><th scope=col>ACH-000287</th><th scope=col>ACH-000798</th><th scope=col>ACH-000645</th></tr>\n",
       "\t<tr><th></th><th scope=col>&lt;chr&gt;</th><th scope=col>&lt;chr&gt;</th><th scope=col>&lt;chr&gt;</th><th scope=col>&lt;chr&gt;</th><th scope=col>&lt;chr&gt;</th><th scope=col>&lt;chr&gt;</th><th scope=col>&lt;chr&gt;</th><th scope=col>&lt;chr&gt;</th><th scope=col>&lt;chr&gt;</th><th scope=col>&lt;chr&gt;</th><th scope=col>⋯</th><th scope=col>&lt;chr&gt;</th><th scope=col>&lt;chr&gt;</th><th scope=col>&lt;chr&gt;</th><th scope=col>&lt;chr&gt;</th><th scope=col>&lt;chr&gt;</th><th scope=col>&lt;chr&gt;</th><th scope=col>&lt;chr&gt;</th><th scope=col>&lt;chr&gt;</th><th scope=col>&lt;chr&gt;</th><th scope=col>&lt;chr&gt;</th></tr>\n",
       "</thead>\n",
       "<tbody>\n",
       "\t<tr><th scope=row>1</th><td>chr1:914838:T:A  </td><td>0</td><td>1</td><td>0</td><td>0</td><td>2</td><td>2</td><td>2</td><td>0</td><td>2</td><td>⋯</td><td>2</td><td>1</td><td>1</td><td>0</td><td>1</td><td>1</td><td>1</td><td>1</td><td>2</td><td>1</td></tr>\n",
       "\t<tr><th scope=row>2</th><td>chr1:2166675:GC:G</td><td>0</td><td>0</td><td>0</td><td>0</td><td>0</td><td>0</td><td>0</td><td>0</td><td>0</td><td>⋯</td><td>1</td><td>0</td><td>0</td><td>0</td><td>0</td><td>0</td><td>0</td><td>0</td><td>0</td><td>1</td></tr>\n",
       "\t<tr><th scope=row>3</th><td>chr1:2763943:AG:A</td><td>0</td><td>0</td><td>0</td><td>0</td><td>0</td><td>0</td><td>0</td><td>0</td><td>0</td><td>⋯</td><td>0</td><td>0</td><td>0</td><td>0</td><td>0</td><td>0</td><td>0</td><td>0</td><td>0</td><td>0</td></tr>\n",
       "\t<tr><th scope=row>4</th><td>chr1:3790892:G:GC</td><td>2</td><td>2</td><td>2</td><td>2</td><td>0</td><td>2</td><td>0</td><td>2</td><td>1</td><td>⋯</td><td>2</td><td>0</td><td>0</td><td>2</td><td>2</td><td>2</td><td>1</td><td>2</td><td>2</td><td>1</td></tr>\n",
       "\t<tr><th scope=row>5</th><td>chr1:7630154:T:C </td><td>0</td><td>0</td><td>0</td><td>0</td><td>0</td><td>0</td><td>0</td><td>0</td><td>0</td><td>⋯</td><td>0</td><td>0</td><td>0</td><td>0</td><td>0</td><td>0</td><td>0</td><td>0</td><td>0</td><td>0</td></tr>\n",
       "\t<tr><th scope=row>6</th><td>chr1:14141375:C:G</td><td>0</td><td>0</td><td>0</td><td>0</td><td>0</td><td>0</td><td>0</td><td>0</td><td>0</td><td>⋯</td><td>0</td><td>0</td><td>0</td><td>0</td><td>0</td><td>0</td><td>0</td><td>0</td><td>0</td><td>0</td></tr>\n",
       "</tbody>\n",
       "</table>\n"
      ],
      "text/latex": [
       "A data.frame: 6 × 995\n",
       "\\begin{tabular}{r|lllllllllllllllllllll}\n",
       "  & snp & ACH-000657 & ACH-000617 & ACH-000685 & ACH-000632 & ACH-000171 & ACH-000863 & ACH-000971 & ACH-000178 & ACH-000822 & ⋯ & ACH-000981 & ACH-000217 & ACH-000116 & ACH-000930 & ACH-000986 & ACH-000342 & ACH-001130 & ACH-000287 & ACH-000798 & ACH-000645\\\\\n",
       "  & <chr> & <chr> & <chr> & <chr> & <chr> & <chr> & <chr> & <chr> & <chr> & <chr> & ⋯ & <chr> & <chr> & <chr> & <chr> & <chr> & <chr> & <chr> & <chr> & <chr> & <chr>\\\\\n",
       "\\hline\n",
       "\t1 & chr1:914838:T:A   & 0 & 1 & 0 & 0 & 2 & 2 & 2 & 0 & 2 & ⋯ & 2 & 1 & 1 & 0 & 1 & 1 & 1 & 1 & 2 & 1\\\\\n",
       "\t2 & chr1:2166675:GC:G & 0 & 0 & 0 & 0 & 0 & 0 & 0 & 0 & 0 & ⋯ & 1 & 0 & 0 & 0 & 0 & 0 & 0 & 0 & 0 & 1\\\\\n",
       "\t3 & chr1:2763943:AG:A & 0 & 0 & 0 & 0 & 0 & 0 & 0 & 0 & 0 & ⋯ & 0 & 0 & 0 & 0 & 0 & 0 & 0 & 0 & 0 & 0\\\\\n",
       "\t4 & chr1:3790892:G:GC & 2 & 2 & 2 & 2 & 0 & 2 & 0 & 2 & 1 & ⋯ & 2 & 0 & 0 & 2 & 2 & 2 & 1 & 2 & 2 & 1\\\\\n",
       "\t5 & chr1:7630154:T:C  & 0 & 0 & 0 & 0 & 0 & 0 & 0 & 0 & 0 & ⋯ & 0 & 0 & 0 & 0 & 0 & 0 & 0 & 0 & 0 & 0\\\\\n",
       "\t6 & chr1:14141375:C:G & 0 & 0 & 0 & 0 & 0 & 0 & 0 & 0 & 0 & ⋯ & 0 & 0 & 0 & 0 & 0 & 0 & 0 & 0 & 0 & 0\\\\\n",
       "\\end{tabular}\n"
      ],
      "text/markdown": [
       "\n",
       "A data.frame: 6 × 995\n",
       "\n",
       "| <!--/--> | snp &lt;chr&gt; | ACH-000657 &lt;chr&gt; | ACH-000617 &lt;chr&gt; | ACH-000685 &lt;chr&gt; | ACH-000632 &lt;chr&gt; | ACH-000171 &lt;chr&gt; | ACH-000863 &lt;chr&gt; | ACH-000971 &lt;chr&gt; | ACH-000178 &lt;chr&gt; | ACH-000822 &lt;chr&gt; | ⋯ ⋯ | ACH-000981 &lt;chr&gt; | ACH-000217 &lt;chr&gt; | ACH-000116 &lt;chr&gt; | ACH-000930 &lt;chr&gt; | ACH-000986 &lt;chr&gt; | ACH-000342 &lt;chr&gt; | ACH-001130 &lt;chr&gt; | ACH-000287 &lt;chr&gt; | ACH-000798 &lt;chr&gt; | ACH-000645 &lt;chr&gt; |\n",
       "|---|---|---|---|---|---|---|---|---|---|---|---|---|---|---|---|---|---|---|---|---|---|\n",
       "| 1 | chr1:914838:T:A   | 0 | 1 | 0 | 0 | 2 | 2 | 2 | 0 | 2 | ⋯ | 2 | 1 | 1 | 0 | 1 | 1 | 1 | 1 | 2 | 1 |\n",
       "| 2 | chr1:2166675:GC:G | 0 | 0 | 0 | 0 | 0 | 0 | 0 | 0 | 0 | ⋯ | 1 | 0 | 0 | 0 | 0 | 0 | 0 | 0 | 0 | 1 |\n",
       "| 3 | chr1:2763943:AG:A | 0 | 0 | 0 | 0 | 0 | 0 | 0 | 0 | 0 | ⋯ | 0 | 0 | 0 | 0 | 0 | 0 | 0 | 0 | 0 | 0 |\n",
       "| 4 | chr1:3790892:G:GC | 2 | 2 | 2 | 2 | 0 | 2 | 0 | 2 | 1 | ⋯ | 2 | 0 | 0 | 2 | 2 | 2 | 1 | 2 | 2 | 1 |\n",
       "| 5 | chr1:7630154:T:C  | 0 | 0 | 0 | 0 | 0 | 0 | 0 | 0 | 0 | ⋯ | 0 | 0 | 0 | 0 | 0 | 0 | 0 | 0 | 0 | 0 |\n",
       "| 6 | chr1:14141375:C:G | 0 | 0 | 0 | 0 | 0 | 0 | 0 | 0 | 0 | ⋯ | 0 | 0 | 0 | 0 | 0 | 0 | 0 | 0 | 0 | 0 |\n",
       "\n"
      ],
      "text/plain": [
       "  snp               ACH-000657 ACH-000617 ACH-000685 ACH-000632 ACH-000171\n",
       "1 chr1:914838:T:A   0          1          0          0          2         \n",
       "2 chr1:2166675:GC:G 0          0          0          0          0         \n",
       "3 chr1:2763943:AG:A 0          0          0          0          0         \n",
       "4 chr1:3790892:G:GC 2          2          2          2          0         \n",
       "5 chr1:7630154:T:C  0          0          0          0          0         \n",
       "6 chr1:14141375:C:G 0          0          0          0          0         \n",
       "  ACH-000863 ACH-000971 ACH-000178 ACH-000822 ⋯ ACH-000981 ACH-000217\n",
       "1 2          2          0          2          ⋯ 2          1         \n",
       "2 0          0          0          0          ⋯ 1          0         \n",
       "3 0          0          0          0          ⋯ 0          0         \n",
       "4 2          0          2          1          ⋯ 2          0         \n",
       "5 0          0          0          0          ⋯ 0          0         \n",
       "6 0          0          0          0          ⋯ 0          0         \n",
       "  ACH-000116 ACH-000930 ACH-000986 ACH-000342 ACH-001130 ACH-000287 ACH-000798\n",
       "1 1          0          1          1          1          1          2         \n",
       "2 0          0          0          0          0          0          0         \n",
       "3 0          0          0          0          0          0          0         \n",
       "4 0          2          2          2          1          2          2         \n",
       "5 0          0          0          0          0          0          0         \n",
       "6 0          0          0          0          0          0          0         \n",
       "  ACH-000645\n",
       "1 1         \n",
       "2 1         \n",
       "3 0         \n",
       "4 1         \n",
       "5 0         \n",
       "6 0         "
      ]
     },
     "metadata": {},
     "output_type": "display_data"
    }
   ],
   "source": [
    "#Assemble the snp matrix\n",
    "#Interestingly, there are 96 SNPs that target 98 genes. So I guess there is one SNP that is targeting two overlapping genes? Neat\n",
    "\n",
    "#First, load in the sample names\n",
    "setwd(\"/home/jupyter/Ancestry/analysis/new_locus_topsnp_ancestry_association\")\n",
    "sample.names = read.table(\"sample.names\", sep = \"\\t\") %>%\n",
    "pull(1) %>%\n",
    "c(\"snp\", .)\n",
    "\n",
    "#load in the filtered SNPS\n",
    "setwd(\"/home/jupyter/Ancestry/analysis/new_locus_topsnp_ancestry_association\")\n",
    "filtered.snps = read.table(\"extracted.snps\", sep = \"\\t\") \n",
    "\n",
    "#Now assemble the big matrix\n",
    "assembled.matrix = filtered.snps %>%\n",
    "select(-1, -2, -3, -4, -5, -6, -7, -8, -9) %>%\n",
    "apply(2, function(x){gsub(\":..*\", \"\", x)}) %>%\n",
    "apply(2, function(x){gsub(\"0\\\\|0\", \"0\", x)}) %>%\n",
    "apply(2, function(x){gsub(\"0\\\\|1\", \"1\", x)}) %>%\n",
    "apply(2, function(x){gsub(\"1\\\\|0\", \"1\", x)}) %>%\n",
    "apply(2, function(x){gsub(\"1\\\\|1\", \"2\", x)}) %>%\n",
    "data.frame() %>%\n",
    "mutate(\"snp\" = filtered.snps$V3, .before = 1) %>%\n",
    "rename_all(funs( c(sample.names) ))\n",
    "\n",
    "#Inspect the output\n",
    "head(assembled.matrix)"
   ]
  },
  {
   "cell_type": "markdown",
   "metadata": {},
   "source": [
    "# Load in the ancestry data"
   ]
  },
  {
   "cell_type": "code",
   "execution_count": 3,
   "metadata": {},
   "outputs": [
    {
     "data": {
      "text/html": [
       "<table class=\"dataframe\">\n",
       "<caption>A data.frame: 6 × 2</caption>\n",
       "<thead>\n",
       "\t<tr><th></th><th scope=col>sample</th><th scope=col>ancestry</th></tr>\n",
       "\t<tr><th></th><th scope=col>&lt;chr&gt;</th><th scope=col>&lt;chr&gt;</th></tr>\n",
       "</thead>\n",
       "<tbody>\n",
       "\t<tr><th scope=row>1</th><td>ACH-000657</td><td>AFR</td></tr>\n",
       "\t<tr><th scope=row>2</th><td>ACH-000617</td><td>EUR</td></tr>\n",
       "\t<tr><th scope=row>3</th><td>ACH-000685</td><td>AFR</td></tr>\n",
       "\t<tr><th scope=row>4</th><td>ACH-000632</td><td>EUR</td></tr>\n",
       "\t<tr><th scope=row>5</th><td>ACH-000171</td><td>EUR</td></tr>\n",
       "\t<tr><th scope=row>6</th><td>ACH-000863</td><td>EUR</td></tr>\n",
       "</tbody>\n",
       "</table>\n"
      ],
      "text/latex": [
       "A data.frame: 6 × 2\n",
       "\\begin{tabular}{r|ll}\n",
       "  & sample & ancestry\\\\\n",
       "  & <chr> & <chr>\\\\\n",
       "\\hline\n",
       "\t1 & ACH-000657 & AFR\\\\\n",
       "\t2 & ACH-000617 & EUR\\\\\n",
       "\t3 & ACH-000685 & AFR\\\\\n",
       "\t4 & ACH-000632 & EUR\\\\\n",
       "\t5 & ACH-000171 & EUR\\\\\n",
       "\t6 & ACH-000863 & EUR\\\\\n",
       "\\end{tabular}\n"
      ],
      "text/markdown": [
       "\n",
       "A data.frame: 6 × 2\n",
       "\n",
       "| <!--/--> | sample &lt;chr&gt; | ancestry &lt;chr&gt; |\n",
       "|---|---|---|\n",
       "| 1 | ACH-000657 | AFR |\n",
       "| 2 | ACH-000617 | EUR |\n",
       "| 3 | ACH-000685 | AFR |\n",
       "| 4 | ACH-000632 | EUR |\n",
       "| 5 | ACH-000171 | EUR |\n",
       "| 6 | ACH-000863 | EUR |\n",
       "\n"
      ],
      "text/plain": [
       "  sample     ancestry\n",
       "1 ACH-000657 AFR     \n",
       "2 ACH-000617 EUR     \n",
       "3 ACH-000685 AFR     \n",
       "4 ACH-000632 EUR     \n",
       "5 ACH-000171 EUR     \n",
       "6 ACH-000863 EUR     "
      ]
     },
     "metadata": {},
     "output_type": "display_data"
    }
   ],
   "source": [
    "#Load in the ancestry data and format it correctly.\n",
    "setwd(\"/home/jupyter/Ancestry/rfmix\")\n",
    "ancestry.calls = read.table(\"collapsed.ancestry.information.txt\", sep = \"\\t\") %>%\n",
    "mutate(ancestry = ifelse(AFR >= 0.8, \"AFR\",\n",
    "                        ifelse(AMR >= 0.8, \"AMR\",\n",
    "                              ifelse(EAS >= 0.8, \"EAS\",\n",
    "                                    ifelse(EUR >= 0.8, \"EUR\", \n",
    "                                          ifelse(SAS >= 0.8, \"SAS\", \"admixed\")))))) %>%\n",
    "select(sample, ancestry)\n",
    "\n",
    "#Print the head for the ancestry assignments\n",
    "head(ancestry.calls)"
   ]
  },
  {
   "cell_type": "code",
   "execution_count": 5,
   "metadata": {},
   "outputs": [],
   "source": [
    "#Get a list of cell lines for each ancestry group\n",
    "afr.lines = ancestry.calls %>% filter(ancestry %in% \"AFR\") %>% pull(sample)\n",
    "amr.lines = ancestry.calls %>% filter(ancestry %in% \"AMR\") %>% pull(sample)\n",
    "eas.lines = ancestry.calls %>% filter(ancestry %in% \"EAS\") %>% pull(sample)\n",
    "eur.lines = ancestry.calls %>% filter(ancestry %in% \"EUR\") %>% pull(sample)\n",
    "sas.lines = ancestry.calls %>% filter(ancestry %in% \"SAS\") %>% pull(sample)"
   ]
  },
  {
   "cell_type": "code",
   "execution_count": 6,
   "metadata": {},
   "outputs": [],
   "source": [
    "#calculate the number of cell lines for each group\n",
    "num.afr = ancestry.calls %>% filter(ancestry %in% \"AFR\") %>% nrow()\n",
    "num.non.afr = ancestry.calls %>% nrow(.) -num.afr\n",
    "\n",
    "num.amr = ancestry.calls %>% filter(ancestry %in% \"AMR\") %>% nrow()\n",
    "num.non.amr = ancestry.calls %>% nrow(.) -num.amr\n",
    "\n",
    "num.eas = ancestry.calls %>% filter(ancestry %in% \"EAS\") %>% nrow()\n",
    "num.non.eas = ancestry.calls %>% nrow(.) -num.eas\n",
    "\n",
    "num.eur = ancestry.calls %>% filter(ancestry %in% \"EUR\") %>% nrow()\n",
    "num.non.eur = ancestry.calls %>% nrow(.) -num.eur\n",
    "\n",
    "num.sas = ancestry.calls %>% filter(ancestry %in% \"SAS\") %>% nrow()\n",
    "num.non.sas = ancestry.calls %>% nrow(.) -num.sas"
   ]
  },
  {
   "cell_type": "code",
   "execution_count": 7,
   "metadata": {},
   "outputs": [],
   "source": [
    "#Calculate the allele count for afr, eas, and eur cell lines\n",
    "afr.ac = assembled.matrix %>% select(all_of(afr.lines)) %>% apply(1, as.numeric) %>% t() %>% apply(1, sum)\n",
    "non.afr.ac = assembled.matrix %>% select(-all_of(afr.lines)) %>% select(-snp) %>% apply(1, as.numeric) %>% t() %>% apply(1, sum)\n",
    "\n",
    "eas.ac = assembled.matrix %>% select(all_of(eas.lines)) %>% apply(1, as.numeric) %>% t() %>% apply(1, sum)\n",
    "non.eas.ac = assembled.matrix %>% select(-all_of(eas.lines)) %>% select(-snp) %>% apply(1, as.numeric) %>% t() %>% apply(1, sum)\n",
    " \n",
    "eur.ac = assembled.matrix %>% select(all_of(eur.lines)) %>% apply(1, as.numeric) %>% t() %>% apply(1, sum)\n",
    "non.eur.ac = assembled.matrix %>% select(-all_of(eur.lines)) %>% select(-snp) %>% apply(1, as.numeric) %>% t() %>% apply(1, sum)"
   ]
  },
  {
   "cell_type": "code",
   "execution_count": 8,
   "metadata": {},
   "outputs": [],
   "source": [
    "#convert allele count into allele frequency\n",
    "afr.af = afr.ac/(2*num.afr)\n",
    "non.afr.af = non.afr.ac/(2*num.non.afr)\n",
    "\n",
    "eas.af = eas.ac/(2*num.eas)\n",
    "non.eas.af = non.eas.ac/(2*num.non.eas)\n",
    "\n",
    "eur.af =  eur.ac/(2*num.eur)\n",
    "non.eur.af = non.eur.ac/(2*num.non.eur)"
   ]
  },
  {
   "cell_type": "code",
   "execution_count": 9,
   "metadata": {},
   "outputs": [
    {
     "data": {
      "text/html": [
       "<table class=\"dataframe\">\n",
       "<caption>A data.frame: 6 × 3</caption>\n",
       "<thead>\n",
       "\t<tr><th></th><th scope=col>ancestry</th><th scope=col>non.ancestry</th><th scope=col>ancestry.assignment</th></tr>\n",
       "\t<tr><th></th><th scope=col>&lt;dbl&gt;</th><th scope=col>&lt;dbl&gt;</th><th scope=col>&lt;chr&gt;</th></tr>\n",
       "</thead>\n",
       "<tbody>\n",
       "\t<tr><th scope=row>1</th><td>0.09756098</td><td>0.46852046</td><td>AFR</td></tr>\n",
       "\t<tr><th scope=row>2</th><td>0.01219512</td><td>0.02046170</td><td>EAS</td></tr>\n",
       "\t<tr><th scope=row>3</th><td>0.02439024</td><td>0.02938090</td><td>EUR</td></tr>\n",
       "\t<tr><th scope=row>4</th><td>0.95121951</td><td>0.77649528</td><td>AFR</td></tr>\n",
       "\t<tr><th scope=row>5</th><td>0.04878049</td><td>0.02098636</td><td>EAS</td></tr>\n",
       "\t<tr><th scope=row>6</th><td>0.00000000</td><td>0.02833158</td><td>EUR</td></tr>\n",
       "</tbody>\n",
       "</table>\n"
      ],
      "text/latex": [
       "A data.frame: 6 × 3\n",
       "\\begin{tabular}{r|lll}\n",
       "  & ancestry & non.ancestry & ancestry.assignment\\\\\n",
       "  & <dbl> & <dbl> & <chr>\\\\\n",
       "\\hline\n",
       "\t1 & 0.09756098 & 0.46852046 & AFR\\\\\n",
       "\t2 & 0.01219512 & 0.02046170 & EAS\\\\\n",
       "\t3 & 0.02439024 & 0.02938090 & EUR\\\\\n",
       "\t4 & 0.95121951 & 0.77649528 & AFR\\\\\n",
       "\t5 & 0.04878049 & 0.02098636 & EAS\\\\\n",
       "\t6 & 0.00000000 & 0.02833158 & EUR\\\\\n",
       "\\end{tabular}\n"
      ],
      "text/markdown": [
       "\n",
       "A data.frame: 6 × 3\n",
       "\n",
       "| <!--/--> | ancestry &lt;dbl&gt; | non.ancestry &lt;dbl&gt; | ancestry.assignment &lt;chr&gt; |\n",
       "|---|---|---|---|\n",
       "| 1 | 0.09756098 | 0.46852046 | AFR |\n",
       "| 2 | 0.01219512 | 0.02046170 | EAS |\n",
       "| 3 | 0.02439024 | 0.02938090 | EUR |\n",
       "| 4 | 0.95121951 | 0.77649528 | AFR |\n",
       "| 5 | 0.04878049 | 0.02098636 | EAS |\n",
       "| 6 | 0.00000000 | 0.02833158 | EUR |\n",
       "\n"
      ],
      "text/plain": [
       "  ancestry   non.ancestry ancestry.assignment\n",
       "1 0.09756098 0.46852046   AFR                \n",
       "2 0.01219512 0.02046170   EAS                \n",
       "3 0.02439024 0.02938090   EUR                \n",
       "4 0.95121951 0.77649528   AFR                \n",
       "5 0.04878049 0.02098636   EAS                \n",
       "6 0.00000000 0.02833158   EUR                "
      ]
     },
     "metadata": {},
     "output_type": "display_data"
    }
   ],
   "source": [
    "#For each SNP plot the median AF in that ancestry group vs the median AF not in that ancestry group\n",
    "ancestry.vector = c(afr.af, eas.af, eur.af)\n",
    "non.ancestry.vector = c(non.afr.af, non.eas.af, non.eur.af)\n",
    "ancestry.assignment = c(rep(\"AFR\", n = length(afr.ac)), rep(\"EAS\", n = length(afr.ac)), rep(\"EUR\", n = length(afr.ac))) \n",
    "\n",
    "ancestry.df.for.plotting = cbind(ancestry.vector, non.ancestry.vector, ancestry.assignment) %>%\n",
    "data.frame() %>% \n",
    "rename(\"ancestry\" = 1, \"non.ancestry\" = 2, \"ancestry.assignment\" = 3) %>%\n",
    "mutate(ancestry = as.numeric(ancestry)) %>%\n",
    "mutate(non.ancestry = as.numeric(non.ancestry))\n",
    "\n",
    "head(ancestry.df.for.plotting)"
   ]
  },
  {
   "cell_type": "code",
   "execution_count": 10,
   "metadata": {},
   "outputs": [
    {
     "data": {
      "image/png": "[encoded data removed]",
      "text/plain": [
       "plot without title"
      ]
     },
     "metadata": {
      "image/png": {
       "height": 420,
       "width": 420
      }
     },
     "output_type": "display_data"
    }
   ],
   "source": [
    "ancestry.df.for.plotting %>%\n",
    "ggplot() +\n",
    "geom_point(aes(x = ancestry, y = non.ancestry, color = ancestry.assignment)) +\n",
    "geom_abline(intercept = -0.2, slope = 1, col = \"red\") +\n",
    "geom_abline(intercept = 0.2, slope = 1, col = \"red\") +\n",
    "theme_bw() + \n",
    "\n",
    "scale_color_manual(values=c(\"darkorange2\", \"chartreuse4\", \"dodgerblue4\")) +\n",
    "\n",
    "ylab(\"Frequency in other ancestry groups\") +\n",
    "xlab(\"Frequency in ancestry group\") +\n",
    "\n",
    "theme(panel.border = element_blank(), panel.grid.major = element_blank(),\n",
    "panel.grid.minor = element_blank(), axis.line = element_line(colour = \"black\")) +\n",
    "\n",
    "theme(axis.text=element_text(size=12), axis.title=element_text(size=14,face=\"bold\")) +\n",
    "theme(axis.text.x = element_text(face=\"bold\", size=14), axis.text.y = element_text(face=\"bold\", size=14)) +\n",
    "\n",
    "theme(\n",
    "axis.title.x = element_text(color = \"black\", size = 14, face = \"bold\"),\n",
    "axis.title.y = element_text(color = \"black\", size = 14, face = \"bold\")\n",
    ") +\n",
    "\n",
    "theme(\n",
    "axis.text=element_text(size = 12, face = \"bold\"),\n",
    "axis.title=element_text(size = 14,face = \"bold\")\n",
    ") +\n",
    "\n",
    "theme(\n",
    "  legend.title = element_text(size = 14, face = \"bold\"),\n",
    "  legend.text = element_text(size = 10, face = \"bold\")\n",
    ") +\n",
    "\n",
    "xlim(c(0,1)) +\n",
    "ylim(c(0,1))\n",
    "\n",
    "#Export it to the google bucket\n",
    "setwd(\"/home/jupyter/Ancestry/analysis/new_locus_topsnp_ancestry_association\")\n",
    "ggsave(\"ancestry_differential_frequency.pdf\", width = 5, height = 3)\n",
    "system(glue::glue(\"\n",
    "cd /home/jupyter/Ancestry/analysis/new_locus_topsnp_ancestry_association\n",
    "gsutil cp ancestry_differential_frequency.pdf gs://fc-45c0e148-0b1c-4244-9bfc-feb559bbc514\n",
    "\"))"
   ]
  },
  {
   "cell_type": "code",
   "execution_count": 10,
   "metadata": {},
   "outputs": [
    {
     "data": {
      "text/html": [
       "<table class=\"dataframe\">\n",
       "<caption>A data.frame: 6 × 12</caption>\n",
       "<thead>\n",
       "\t<tr><th></th><th scope=col>snp</th><th scope=col>afr.af</th><th scope=col>non.afr.af</th><th scope=col>eas.af</th><th scope=col>non.eas.af</th><th scope=col>eur.af</th><th scope=col>non.eur.af</th><th scope=col>gene</th><th scope=col>fdr</th><th scope=col>afr.differential</th><th scope=col>eas.differential</th><th scope=col>eur.differential</th></tr>\n",
       "\t<tr><th></th><th scope=col>&lt;chr&gt;</th><th scope=col>&lt;dbl&gt;</th><th scope=col>&lt;dbl&gt;</th><th scope=col>&lt;dbl&gt;</th><th scope=col>&lt;dbl&gt;</th><th scope=col>&lt;dbl&gt;</th><th scope=col>&lt;dbl&gt;</th><th scope=col>&lt;chr&gt;</th><th scope=col>&lt;dbl&gt;</th><th scope=col>&lt;dbl&gt;</th><th scope=col>&lt;dbl&gt;</th><th scope=col>&lt;dbl&gt;</th></tr>\n",
       "</thead>\n",
       "<tbody>\n",
       "\t<tr><th scope=row>1</th><td>chr1:914838:T:A  </td><td>0.09756098</td><td>0.46852046</td><td>0.3833333</td><td>0.483429395</td><td>0.532125206</td><td>0.329457364</td><td>SNAP23</td><td>0.7343892</td><td>0.370959486</td><td>0.10009606</td><td>0.20266784</td></tr>\n",
       "\t<tr><th scope=row>2</th><td>chr1:2166675:GC:G</td><td>0.01219512</td><td>0.02046170</td><td>0.0000000</td><td>0.028818444</td><td>0.029654036</td><td>0.005167959</td><td>CAAP1 </td><td>0.2810654</td><td>0.008266578</td><td>0.02881844</td><td>0.02448608</td></tr>\n",
       "\t<tr><th scope=row>3</th><td>chr1:2763943:AG:A</td><td>0.02439024</td><td>0.02938090</td><td>0.0050000</td><td>0.039625360</td><td>0.035420099</td><td>0.019379845</td><td>NKAIN4</td><td>0.6453377</td><td>0.004990659</td><td>0.03462536</td><td>0.01604025</td></tr>\n",
       "\t<tr><th scope=row>4</th><td>chr1:3790892:G:GC</td><td>0.95121951</td><td>0.77649528</td><td>0.6083333</td><td>0.859510086</td><td>0.848434926</td><td>0.682170543</td><td>DCN   </td><td>0.7695058</td><td>0.174724234</td><td>0.25117675</td><td>0.16626438</td></tr>\n",
       "\t<tr><th scope=row>5</th><td>chr1:7630154:T:C </td><td>0.04878049</td><td>0.02098636</td><td>0.0550000</td><td>0.007925072</td><td>0.003294893</td><td>0.051679587</td><td>KLF5  </td><td>0.0200330</td><td>0.027794129</td><td>0.04707493</td><td>0.04838469</td></tr>\n",
       "\t<tr><th scope=row>6</th><td>chr1:14141375:C:G</td><td>0.00000000</td><td>0.02833158</td><td>0.0900000</td><td>0.000000000</td><td>0.000000000</td><td>0.069767442</td><td>STX4  </td><td>0.1783895</td><td>0.028331584</td><td>0.09000000</td><td>0.06976744</td></tr>\n",
       "</tbody>\n",
       "</table>\n"
      ],
      "text/latex": [
       "A data.frame: 6 × 12\n",
       "\\begin{tabular}{r|llllllllllll}\n",
       "  & snp & afr.af & non.afr.af & eas.af & non.eas.af & eur.af & non.eur.af & gene & fdr & afr.differential & eas.differential & eur.differential\\\\\n",
       "  & <chr> & <dbl> & <dbl> & <dbl> & <dbl> & <dbl> & <dbl> & <chr> & <dbl> & <dbl> & <dbl> & <dbl>\\\\\n",
       "\\hline\n",
       "\t1 & chr1:914838:T:A   & 0.09756098 & 0.46852046 & 0.3833333 & 0.483429395 & 0.532125206 & 0.329457364 & SNAP23 & 0.7343892 & 0.370959486 & 0.10009606 & 0.20266784\\\\\n",
       "\t2 & chr1:2166675:GC:G & 0.01219512 & 0.02046170 & 0.0000000 & 0.028818444 & 0.029654036 & 0.005167959 & CAAP1  & 0.2810654 & 0.008266578 & 0.02881844 & 0.02448608\\\\\n",
       "\t3 & chr1:2763943:AG:A & 0.02439024 & 0.02938090 & 0.0050000 & 0.039625360 & 0.035420099 & 0.019379845 & NKAIN4 & 0.6453377 & 0.004990659 & 0.03462536 & 0.01604025\\\\\n",
       "\t4 & chr1:3790892:G:GC & 0.95121951 & 0.77649528 & 0.6083333 & 0.859510086 & 0.848434926 & 0.682170543 & DCN    & 0.7695058 & 0.174724234 & 0.25117675 & 0.16626438\\\\\n",
       "\t5 & chr1:7630154:T:C  & 0.04878049 & 0.02098636 & 0.0550000 & 0.007925072 & 0.003294893 & 0.051679587 & KLF5   & 0.0200330 & 0.027794129 & 0.04707493 & 0.04838469\\\\\n",
       "\t6 & chr1:14141375:C:G & 0.00000000 & 0.02833158 & 0.0900000 & 0.000000000 & 0.000000000 & 0.069767442 & STX4   & 0.1783895 & 0.028331584 & 0.09000000 & 0.06976744\\\\\n",
       "\\end{tabular}\n"
      ],
      "text/markdown": [
       "\n",
       "A data.frame: 6 × 12\n",
       "\n",
       "| <!--/--> | snp &lt;chr&gt; | afr.af &lt;dbl&gt; | non.afr.af &lt;dbl&gt; | eas.af &lt;dbl&gt; | non.eas.af &lt;dbl&gt; | eur.af &lt;dbl&gt; | non.eur.af &lt;dbl&gt; | gene &lt;chr&gt; | fdr &lt;dbl&gt; | afr.differential &lt;dbl&gt; | eas.differential &lt;dbl&gt; | eur.differential &lt;dbl&gt; |\n",
       "|---|---|---|---|---|---|---|---|---|---|---|---|---|\n",
       "| 1 | chr1:914838:T:A   | 0.09756098 | 0.46852046 | 0.3833333 | 0.483429395 | 0.532125206 | 0.329457364 | SNAP23 | 0.7343892 | 0.370959486 | 0.10009606 | 0.20266784 |\n",
       "| 2 | chr1:2166675:GC:G | 0.01219512 | 0.02046170 | 0.0000000 | 0.028818444 | 0.029654036 | 0.005167959 | CAAP1  | 0.2810654 | 0.008266578 | 0.02881844 | 0.02448608 |\n",
       "| 3 | chr1:2763943:AG:A | 0.02439024 | 0.02938090 | 0.0050000 | 0.039625360 | 0.035420099 | 0.019379845 | NKAIN4 | 0.6453377 | 0.004990659 | 0.03462536 | 0.01604025 |\n",
       "| 4 | chr1:3790892:G:GC | 0.95121951 | 0.77649528 | 0.6083333 | 0.859510086 | 0.848434926 | 0.682170543 | DCN    | 0.7695058 | 0.174724234 | 0.25117675 | 0.16626438 |\n",
       "| 5 | chr1:7630154:T:C  | 0.04878049 | 0.02098636 | 0.0550000 | 0.007925072 | 0.003294893 | 0.051679587 | KLF5   | 0.0200330 | 0.027794129 | 0.04707493 | 0.04838469 |\n",
       "| 6 | chr1:14141375:C:G | 0.00000000 | 0.02833158 | 0.0900000 | 0.000000000 | 0.000000000 | 0.069767442 | STX4   | 0.1783895 | 0.028331584 | 0.09000000 | 0.06976744 |\n",
       "\n"
      ],
      "text/plain": [
       "  snp               afr.af     non.afr.af eas.af    non.eas.af  eur.af     \n",
       "1 chr1:914838:T:A   0.09756098 0.46852046 0.3833333 0.483429395 0.532125206\n",
       "2 chr1:2166675:GC:G 0.01219512 0.02046170 0.0000000 0.028818444 0.029654036\n",
       "3 chr1:2763943:AG:A 0.02439024 0.02938090 0.0050000 0.039625360 0.035420099\n",
       "4 chr1:3790892:G:GC 0.95121951 0.77649528 0.6083333 0.859510086 0.848434926\n",
       "5 chr1:7630154:T:C  0.04878049 0.02098636 0.0550000 0.007925072 0.003294893\n",
       "6 chr1:14141375:C:G 0.00000000 0.02833158 0.0900000 0.000000000 0.000000000\n",
       "  non.eur.af  gene   fdr       afr.differential eas.differential\n",
       "1 0.329457364 SNAP23 0.7343892 0.370959486      0.10009606      \n",
       "2 0.005167959 CAAP1  0.2810654 0.008266578      0.02881844      \n",
       "3 0.019379845 NKAIN4 0.6453377 0.004990659      0.03462536      \n",
       "4 0.682170543 DCN    0.7695058 0.174724234      0.25117675      \n",
       "5 0.051679587 KLF5   0.0200330 0.027794129      0.04707493      \n",
       "6 0.069767442 STX4   0.1783895 0.028331584      0.09000000      \n",
       "  eur.differential\n",
       "1 0.20266784      \n",
       "2 0.02448608      \n",
       "3 0.01604025      \n",
       "4 0.16626438      \n",
       "5 0.04838469      \n",
       "6 0.06976744      "
      ]
     },
     "metadata": {},
     "output_type": "display_data"
    },
    {
     "data": {
      "text/html": [
       "35"
      ],
      "text/latex": [
       "35"
      ],
      "text/markdown": [
       "35"
      ],
      "text/plain": [
       "[1] 35"
      ]
     },
     "metadata": {},
     "output_type": "display_data"
    }
   ],
   "source": [
    "#Now let's calculate how many SNPs are ancestry-associated so that we can include this information in the paper\n",
    "ancestry.analysis.df = cbind(assembled.matrix$snp, afr.af, non.afr.af, eas.af, non.eas.af, eur.af, non.eur.af) %>%\n",
    "data.frame() %>%\n",
    "rename(\"snp\" = 1) %>%\n",
    "inner_join(top.snp, by = \"snp\") %>%\n",
    "mutate(afr.af = as.numeric(afr.af)) %>%\n",
    "mutate(non.afr.af = as.numeric(non.afr.af)) %>%\n",
    "mutate(eas.af = as.numeric(eas.af)) %>%\n",
    "mutate(non.eas.af = as.numeric(non.eas.af)) %>%\n",
    "mutate(eur.af = as.numeric(eur.af)) %>%\n",
    "mutate(non.eur.af = as.numeric(non.eur.af)) %>%\n",
    "mutate(\"afr.differential\" = abs(afr.af - non.afr.af)) %>%\n",
    "mutate(\"eas.differential\" = abs(eas.af - non.eas.af)) %>%\n",
    "mutate(\"eur.differential\" = abs(eur.af - non.eur.af))\n",
    "\n",
    "head(ancestry.analysis.df)\n",
    "\n",
    "#Now calculate how many SNPs are ancestry-associated \n",
    "ancestry.analysis.df %>%\n",
    "filter(afr.differential >= 0.2 | eas.differential >= 0.2 | eur.differential >= 0.2) %>%\n",
    "nrow()"
   ]
  },
  {
   "cell_type": "markdown",
   "metadata": {},
   "source": [
    "# Make a different type of plot to show the gini for each SNP"
   ]
  },
  {
   "cell_type": "code",
   "execution_count": 48,
   "metadata": {},
   "outputs": [
    {
     "data": {
      "text/html": [
       "<style>\n",
       ".list-inline {list-style: none; margin:0; padding: 0}\n",
       ".list-inline>li {display: inline-block}\n",
       ".list-inline>li:not(:last-child)::after {content: \"\\00b7\"; padding: 0 .5ex}\n",
       "</style>\n",
       "<ol class=list-inline><li>'chr1:73819660:G:A'</li><li>'chr13:30458378:G:A'</li><li>'chr4:34013415:A:G'</li><li>'chr11:87580312:T:C'</li><li>'chr2:139140314:T:C'</li><li>'chr3:22153105:A:G'</li></ol>\n"
      ],
      "text/latex": [
       "\\begin{enumerate*}\n",
       "\\item 'chr1:73819660:G:A'\n",
       "\\item 'chr13:30458378:G:A'\n",
       "\\item 'chr4:34013415:A:G'\n",
       "\\item 'chr11:87580312:T:C'\n",
       "\\item 'chr2:139140314:T:C'\n",
       "\\item 'chr3:22153105:A:G'\n",
       "\\end{enumerate*}\n"
      ],
      "text/markdown": [
       "1. 'chr1:73819660:G:A'\n",
       "2. 'chr13:30458378:G:A'\n",
       "3. 'chr4:34013415:A:G'\n",
       "4. 'chr11:87580312:T:C'\n",
       "5. 'chr2:139140314:T:C'\n",
       "6. 'chr3:22153105:A:G'\n",
       "\n",
       "\n"
      ],
      "text/plain": [
       "[1] \"chr1:73819660:G:A\"  \"chr13:30458378:G:A\" \"chr4:34013415:A:G\" \n",
       "[4] \"chr11:87580312:T:C\" \"chr2:139140314:T:C\" \"chr3:22153105:A:G\" "
      ]
     },
     "metadata": {},
     "output_type": "display_data"
    },
    {
     "name": "stderr",
     "output_type": "stream",
     "text": [
      "Using snp as id variables\n",
      "\n"
     ]
    },
    {
     "data": {
      "image/png": "[encoded data removed]",
      "text/plain": [
       "plot without title"
      ]
     },
     "metadata": {
      "image/png": {
       "height": 420,
       "width": 420
      }
     },
     "output_type": "display_data"
    }
   ],
   "source": [
    "#First calculate the imbalance for each SNP, then add that as a factor to make the heatmap look a bit better \n",
    "#Maybe the best way is to just rank by stdev?\n",
    "factor.order = ancestry.analysis.df %>%\n",
    "select(afr.af, eas.af, eur.af) %>%\n",
    "apply(1, sd) %>%\n",
    "cbind(ancestry.analysis.df$snp, .) %>%\n",
    "data.frame() %>%\n",
    "rename(\"snp\" = 1, \"sd\" = 2) %>%\n",
    "distinct(snp, sd, .keep_all = TRUE) %>%\n",
    "arrange(sd, descending = TRUE) %>%\n",
    "pull(snp)\n",
    "\n",
    "head(factor.order)\n",
    "\n",
    "\n",
    "#Plot it as a heatmap\n",
    "ancestry.analysis.df %>%\n",
    "select(snp, afr.af, eas.af, eur.af) %>%\n",
    "mutate(snp = factor(snp, levels = factor.order)) %>%\n",
    "melt() %>%\n",
    "ggplot() +\n",
    "geom_tile(aes(x = variable, y = snp, fill = value)) +\n",
    "\n",
    "scale_fill_gradient2(low = \"white\", high = \"goldenrod4\", \n",
    "limit = c(0, 1)) +\n",
    "\n",
    "theme_bw() +\n",
    "\n",
    "theme(\n",
    "panel.border=element_rect(fill = NA, color = \"black\", size=1)) +\n",
    "\n",
    "theme(\n",
    "axis.title.x = element_text(color = \"black\", size = 14, face = \"bold\"),\n",
    "axis.title.y = element_text(color = \"black\", size = 14, face = \"bold\")\n",
    ") +\n",
    "\n",
    "theme(\n",
    "axis.text=element_text(size = 12, face = \"bold\"),\n",
    "axis.title=element_text(size = 14,face = \"bold\")\n",
    ") +\n",
    "\n",
    "theme(\n",
    "legend.title = element_text(size = 14, face = \"bold\"),\n",
    "legend.text = element_text(size = 10, face = \"bold\")\n",
    ") +\n",
    "\n",
    "theme(\n",
    "axis.text.y=element_blank(), \n",
    "axis.ticks.y=element_blank() \n",
    ") +\n",
    "\n",
    "ylab(\"SNP\") +\n",
    "xlab(\"Ancestry Group\")\n",
    "\n",
    "\n",
    "setwd(\"/home/jupyter/Ancestry/analysis/new_locus_topsnp_ancestry_association\")\n",
    "ggsave(\"allele_frequency_heatmap.pdf\", width = 2, height = 7)\n",
    "system(glue::glue(\"\n",
    "cd /home/jupyter/Ancestry/analysis/new_locus_topsnp_ancestry_association\n",
    "gsutil cp allele_frequency_heatmap.pdf gs://fc-45c0e148-0b1c-4244-9bfc-feb559bbc514\n",
    "\"))"
   ]
  },
  {
   "cell_type": "markdown",
   "metadata": {},
   "source": [
    "# Make a stacked histogram"
   ]
  },
  {
   "cell_type": "code",
   "execution_count": 63,
   "metadata": {},
   "outputs": [
    {
     "name": "stderr",
     "output_type": "stream",
     "text": [
      "Using snp as id variables\n",
      "\n",
      "`stat_bin()` using `bins = 30`. Pick better value with `binwidth`.\n",
      "\n",
      "`stat_bin()` using `bins = 30`. Pick better value with `binwidth`.\n",
      "\n"
     ]
    },
    {
     "data": {
      "image/png": "[encoded data removed]",
      "text/plain": [
       "plot without title"
      ]
     },
     "metadata": {
      "image/png": {
       "height": 420,
       "width": 420
      }
     },
     "output_type": "display_data"
    }
   ],
   "source": [
    "#Assemble a dataframe with all of the ancestry vs all comparisons and plot it\n",
    "ancestry.analysis.df %>%\n",
    "select(snp, afr.differential, eas.differential, eur.differential) %>%\n",
    "melt() %>%\n",
    "ggplot() +\n",
    "geom_histogram(aes(x = value, color = variable, fill = variable)) +\n",
    "facet_grid(variable ~ 1, scales = \"free_x\") +\n",
    "\n",
    "scale_fill_manual(values = c(\"darkorange2\", \"chartreuse4\", \"dodgerblue4\")) +\n",
    "scale_color_manual(values = c(\"darkorange2\", \"chartreuse4\", \"dodgerblue4\")) +\n",
    "\n",
    "theme_bw() +\n",
    "\n",
    "theme(\n",
    "panel.grid.major = element_blank(),\n",
    "panel.grid.minor = element_blank(), \n",
    "axis.line = element_line(color = \"black\")\n",
    ") +\n",
    "\n",
    "theme(\n",
    "axis.title.x = element_text(color = \"black\", size = 14, face = \"bold\"),\n",
    "axis.title.y = element_text(color = \"black\", size = 14, face = \"bold\")\n",
    ") +\n",
    "\n",
    "theme(\n",
    "axis.text=element_text(size = 12, face = \"bold\"),\n",
    "axis.title=element_text(size = 14,face = \"bold\")\n",
    ") +\n",
    "\n",
    "\n",
    "theme(legend.position = \"none\") + \n",
    "\n",
    "scale_y_continuous(expand = c(0,0)) +\n",
    "scale_x_continuous(expand = c(0,0)) +\n",
    "\n",
    "ylab(\"Number of cell lines\") +\n",
    "xlab(\"Differential allele frequency\")\n",
    "\n",
    "#Put the exported image into the google bucket\n",
    "setwd(\"/home/jupyter/Ancestry/analysis/new_locus_topsnp_ancestry_association\")\n",
    "ggsave(\"ccle_allele_frequency_histogram.pdf\", width = 2.5, height = 3.5)\n",
    "system(glue::glue(\"\n",
    "cd /home/jupyter/Ancestry/analysis/new_locus_topsnp_ancestry_association\n",
    "gsutil cp ccle_allele_frequency_histogram.pdf gs://fc-45c0e148-0b1c-4244-9bfc-feb559bbc514\n",
    "\"))"
   ]
  },
  {
   "cell_type": "code",
   "execution_count": 66,
   "metadata": {},
   "outputs": [
    {
     "data": {
      "text/html": [
       "14"
      ],
      "text/latex": [
       "14"
      ],
      "text/markdown": [
       "14"
      ],
      "text/plain": [
       "[1] 14"
      ]
     },
     "metadata": {},
     "output_type": "display_data"
    },
    {
     "data": {
      "text/html": [
       "26"
      ],
      "text/latex": [
       "26"
      ],
      "text/markdown": [
       "26"
      ],
      "text/plain": [
       "[1] 26"
      ]
     },
     "metadata": {},
     "output_type": "display_data"
    },
    {
     "data": {
      "text/html": [
       "24"
      ],
      "text/latex": [
       "24"
      ],
      "text/markdown": [
       "24"
      ],
      "text/plain": [
       "[1] 24"
      ]
     },
     "metadata": {},
     "output_type": "display_data"
    }
   ],
   "source": [
    "#Calculate the number greater than 0.2 for each ancestry group\n",
    "afr.differential.snps = ancestry.analysis.df %>% filter(afr.differential > 0.2) %>% nrow()\n",
    "eas.differential.snps = ancestry.analysis.df %>% filter(eas.differential > 0.2) %>% nrow()\n",
    "eur.differential.snps = ancestry.analysis.df %>% filter(eur.differential > 0.2) %>% nrow()\n",
    "\n",
    "afr.differential.snps\n",
    "eas.differential.snps\n",
    "eur.differential.snps"
   ]
  },
  {
   "cell_type": "code",
   "execution_count": null,
   "metadata": {},
   "outputs": [],
   "source": []
  },
  {
   "cell_type": "code",
   "execution_count": 64,
   "metadata": {},
   "outputs": [
    {
     "data": {
      "text/html": [
       "<table class=\"dataframe\">\n",
       "<caption>A data.frame: 6 × 12</caption>\n",
       "<thead>\n",
       "\t<tr><th></th><th scope=col>snp</th><th scope=col>afr.af</th><th scope=col>non.afr.af</th><th scope=col>eas.af</th><th scope=col>non.eas.af</th><th scope=col>eur.af</th><th scope=col>non.eur.af</th><th scope=col>gene</th><th scope=col>fdr</th><th scope=col>afr.differential</th><th scope=col>eas.differential</th><th scope=col>eur.differential</th></tr>\n",
       "\t<tr><th></th><th scope=col>&lt;chr&gt;</th><th scope=col>&lt;dbl&gt;</th><th scope=col>&lt;dbl&gt;</th><th scope=col>&lt;dbl&gt;</th><th scope=col>&lt;dbl&gt;</th><th scope=col>&lt;dbl&gt;</th><th scope=col>&lt;dbl&gt;</th><th scope=col>&lt;chr&gt;</th><th scope=col>&lt;dbl&gt;</th><th scope=col>&lt;dbl&gt;</th><th scope=col>&lt;dbl&gt;</th><th scope=col>&lt;dbl&gt;</th></tr>\n",
       "</thead>\n",
       "<tbody>\n",
       "\t<tr><th scope=row>1</th><td>chr1:914838:T:A  </td><td>0.09756098</td><td>0.46852046</td><td>0.3833333</td><td>0.483429395</td><td>0.532125206</td><td>0.329457364</td><td>SNAP23</td><td>0.7343892</td><td>0.370959486</td><td>0.10009606</td><td>0.20266784</td></tr>\n",
       "\t<tr><th scope=row>2</th><td>chr1:2166675:GC:G</td><td>0.01219512</td><td>0.02046170</td><td>0.0000000</td><td>0.028818444</td><td>0.029654036</td><td>0.005167959</td><td>CAAP1 </td><td>0.2810654</td><td>0.008266578</td><td>0.02881844</td><td>0.02448608</td></tr>\n",
       "\t<tr><th scope=row>3</th><td>chr1:2763943:AG:A</td><td>0.02439024</td><td>0.02938090</td><td>0.0050000</td><td>0.039625360</td><td>0.035420099</td><td>0.019379845</td><td>NKAIN4</td><td>0.6453377</td><td>0.004990659</td><td>0.03462536</td><td>0.01604025</td></tr>\n",
       "\t<tr><th scope=row>4</th><td>chr1:3790892:G:GC</td><td>0.95121951</td><td>0.77649528</td><td>0.6083333</td><td>0.859510086</td><td>0.848434926</td><td>0.682170543</td><td>DCN   </td><td>0.7695058</td><td>0.174724234</td><td>0.25117675</td><td>0.16626438</td></tr>\n",
       "\t<tr><th scope=row>5</th><td>chr1:7630154:T:C </td><td>0.04878049</td><td>0.02098636</td><td>0.0550000</td><td>0.007925072</td><td>0.003294893</td><td>0.051679587</td><td>KLF5  </td><td>0.0200330</td><td>0.027794129</td><td>0.04707493</td><td>0.04838469</td></tr>\n",
       "\t<tr><th scope=row>6</th><td>chr1:14141375:C:G</td><td>0.00000000</td><td>0.02833158</td><td>0.0900000</td><td>0.000000000</td><td>0.000000000</td><td>0.069767442</td><td>STX4  </td><td>0.1783895</td><td>0.028331584</td><td>0.09000000</td><td>0.06976744</td></tr>\n",
       "</tbody>\n",
       "</table>\n"
      ],
      "text/latex": [
       "A data.frame: 6 × 12\n",
       "\\begin{tabular}{r|llllllllllll}\n",
       "  & snp & afr.af & non.afr.af & eas.af & non.eas.af & eur.af & non.eur.af & gene & fdr & afr.differential & eas.differential & eur.differential\\\\\n",
       "  & <chr> & <dbl> & <dbl> & <dbl> & <dbl> & <dbl> & <dbl> & <chr> & <dbl> & <dbl> & <dbl> & <dbl>\\\\\n",
       "\\hline\n",
       "\t1 & chr1:914838:T:A   & 0.09756098 & 0.46852046 & 0.3833333 & 0.483429395 & 0.532125206 & 0.329457364 & SNAP23 & 0.7343892 & 0.370959486 & 0.10009606 & 0.20266784\\\\\n",
       "\t2 & chr1:2166675:GC:G & 0.01219512 & 0.02046170 & 0.0000000 & 0.028818444 & 0.029654036 & 0.005167959 & CAAP1  & 0.2810654 & 0.008266578 & 0.02881844 & 0.02448608\\\\\n",
       "\t3 & chr1:2763943:AG:A & 0.02439024 & 0.02938090 & 0.0050000 & 0.039625360 & 0.035420099 & 0.019379845 & NKAIN4 & 0.6453377 & 0.004990659 & 0.03462536 & 0.01604025\\\\\n",
       "\t4 & chr1:3790892:G:GC & 0.95121951 & 0.77649528 & 0.6083333 & 0.859510086 & 0.848434926 & 0.682170543 & DCN    & 0.7695058 & 0.174724234 & 0.25117675 & 0.16626438\\\\\n",
       "\t5 & chr1:7630154:T:C  & 0.04878049 & 0.02098636 & 0.0550000 & 0.007925072 & 0.003294893 & 0.051679587 & KLF5   & 0.0200330 & 0.027794129 & 0.04707493 & 0.04838469\\\\\n",
       "\t6 & chr1:14141375:C:G & 0.00000000 & 0.02833158 & 0.0900000 & 0.000000000 & 0.000000000 & 0.069767442 & STX4   & 0.1783895 & 0.028331584 & 0.09000000 & 0.06976744\\\\\n",
       "\\end{tabular}\n"
      ],
      "text/markdown": [
       "\n",
       "A data.frame: 6 × 12\n",
       "\n",
       "| <!--/--> | snp &lt;chr&gt; | afr.af &lt;dbl&gt; | non.afr.af &lt;dbl&gt; | eas.af &lt;dbl&gt; | non.eas.af &lt;dbl&gt; | eur.af &lt;dbl&gt; | non.eur.af &lt;dbl&gt; | gene &lt;chr&gt; | fdr &lt;dbl&gt; | afr.differential &lt;dbl&gt; | eas.differential &lt;dbl&gt; | eur.differential &lt;dbl&gt; |\n",
       "|---|---|---|---|---|---|---|---|---|---|---|---|---|\n",
       "| 1 | chr1:914838:T:A   | 0.09756098 | 0.46852046 | 0.3833333 | 0.483429395 | 0.532125206 | 0.329457364 | SNAP23 | 0.7343892 | 0.370959486 | 0.10009606 | 0.20266784 |\n",
       "| 2 | chr1:2166675:GC:G | 0.01219512 | 0.02046170 | 0.0000000 | 0.028818444 | 0.029654036 | 0.005167959 | CAAP1  | 0.2810654 | 0.008266578 | 0.02881844 | 0.02448608 |\n",
       "| 3 | chr1:2763943:AG:A | 0.02439024 | 0.02938090 | 0.0050000 | 0.039625360 | 0.035420099 | 0.019379845 | NKAIN4 | 0.6453377 | 0.004990659 | 0.03462536 | 0.01604025 |\n",
       "| 4 | chr1:3790892:G:GC | 0.95121951 | 0.77649528 | 0.6083333 | 0.859510086 | 0.848434926 | 0.682170543 | DCN    | 0.7695058 | 0.174724234 | 0.25117675 | 0.16626438 |\n",
       "| 5 | chr1:7630154:T:C  | 0.04878049 | 0.02098636 | 0.0550000 | 0.007925072 | 0.003294893 | 0.051679587 | KLF5   | 0.0200330 | 0.027794129 | 0.04707493 | 0.04838469 |\n",
       "| 6 | chr1:14141375:C:G | 0.00000000 | 0.02833158 | 0.0900000 | 0.000000000 | 0.000000000 | 0.069767442 | STX4   | 0.1783895 | 0.028331584 | 0.09000000 | 0.06976744 |\n",
       "\n"
      ],
      "text/plain": [
       "  snp               afr.af     non.afr.af eas.af    non.eas.af  eur.af     \n",
       "1 chr1:914838:T:A   0.09756098 0.46852046 0.3833333 0.483429395 0.532125206\n",
       "2 chr1:2166675:GC:G 0.01219512 0.02046170 0.0000000 0.028818444 0.029654036\n",
       "3 chr1:2763943:AG:A 0.02439024 0.02938090 0.0050000 0.039625360 0.035420099\n",
       "4 chr1:3790892:G:GC 0.95121951 0.77649528 0.6083333 0.859510086 0.848434926\n",
       "5 chr1:7630154:T:C  0.04878049 0.02098636 0.0550000 0.007925072 0.003294893\n",
       "6 chr1:14141375:C:G 0.00000000 0.02833158 0.0900000 0.000000000 0.000000000\n",
       "  non.eur.af  gene   fdr       afr.differential eas.differential\n",
       "1 0.329457364 SNAP23 0.7343892 0.370959486      0.10009606      \n",
       "2 0.005167959 CAAP1  0.2810654 0.008266578      0.02881844      \n",
       "3 0.019379845 NKAIN4 0.6453377 0.004990659      0.03462536      \n",
       "4 0.682170543 DCN    0.7695058 0.174724234      0.25117675      \n",
       "5 0.051679587 KLF5   0.0200330 0.027794129      0.04707493      \n",
       "6 0.069767442 STX4   0.1783895 0.028331584      0.09000000      \n",
       "  eur.differential\n",
       "1 0.20266784      \n",
       "2 0.02448608      \n",
       "3 0.01604025      \n",
       "4 0.16626438      \n",
       "5 0.04838469      \n",
       "6 0.06976744      "
      ]
     },
     "metadata": {},
     "output_type": "display_data"
    }
   ],
   "source": [
    "ancestry.analysis.df %>% head()"
   ]
  },
  {
   "cell_type": "code",
   "execution_count": null,
   "metadata": {},
   "outputs": [],
   "source": []
  }
 ],
 "metadata": {
  "kernelspec": {
   "display_name": "R",
   "language": "R",
   "name": "ir"
  },
  "language_info": {
   "codemirror_mode": "r",
   "file_extension": ".r",
   "mimetype": "text/x-r-source",
   "name": "R",
   "pygments_lexer": "r",
   "version": "4.2.1"
  },
  "toc": {
   "base_numbering": 1,
   "nav_menu": {},
   "number_sections": true,
   "sideBar": true,
   "skip_h1_title": false,
   "title_cell": "Table of Contents",
   "title_sidebar": "Contents",
   "toc_cell": false,
   "toc_position": {},
   "toc_section_display": true,
   "toc_window_display": false
  }
 },
 "nbformat": 4,
 "nbformat_minor": 2
}
