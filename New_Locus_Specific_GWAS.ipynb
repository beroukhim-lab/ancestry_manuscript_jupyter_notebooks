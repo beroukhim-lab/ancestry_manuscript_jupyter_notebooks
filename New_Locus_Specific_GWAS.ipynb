{
 "cells": [
  {
   "cell_type": "markdown",
   "metadata": {},
   "source": [
    "The purpose of this notebook is to run GWAS for all of the ancestry-associated genes."
   ]
  },
  {
   "cell_type": "code",
   "execution_count": 1,
   "metadata": {},
   "outputs": [
    {
     "name": "stderr",
     "output_type": "stream",
     "text": [
      "Warning message in system(\"timedatectl\", intern = TRUE):\n",
      "“running command 'timedatectl' had status 1”\n",
      "── \u001b[1mAttaching packages\u001b[22m ─────────────────────────────────────── tidyverse 1.3.2 ──\n",
      "\u001b[32m✔\u001b[39m \u001b[34mggplot2\u001b[39m 3.3.6     \u001b[32m✔\u001b[39m \u001b[34mpurrr  \u001b[39m 0.3.4\n",
      "\u001b[32m✔\u001b[39m \u001b[34mtibble \u001b[39m 3.1.8     \u001b[32m✔\u001b[39m \u001b[34mdplyr  \u001b[39m 1.0.9\n",
      "\u001b[32m✔\u001b[39m \u001b[34mtidyr  \u001b[39m 1.2.0     \u001b[32m✔\u001b[39m \u001b[34mstringr\u001b[39m 1.4.0\n",
      "\u001b[32m✔\u001b[39m \u001b[34mreadr  \u001b[39m 2.1.2     \u001b[32m✔\u001b[39m \u001b[34mforcats\u001b[39m 0.5.1\n",
      "── \u001b[1mConflicts\u001b[22m ────────────────────────────────────────── tidyverse_conflicts() ──\n",
      "\u001b[31m✖\u001b[39m \u001b[34mdplyr\u001b[39m::\u001b[32mfilter()\u001b[39m masks \u001b[34mstats\u001b[39m::filter()\n",
      "\u001b[31m✖\u001b[39m \u001b[34mdplyr\u001b[39m::\u001b[32mlag()\u001b[39m    masks \u001b[34mstats\u001b[39m::lag()\n",
      "\n",
      "Attaching package: ‘reshape2’\n",
      "\n",
      "\n",
      "The following object is masked from ‘package:tidyr’:\n",
      "\n",
      "    smiths\n",
      "\n",
      "\n"
     ]
    }
   ],
   "source": [
    "#Set up the environment\n",
    "library(tidyverse)\n",
    "library(reshape2)\n",
    "library(grid)"
   ]
  },
  {
   "cell_type": "code",
   "execution_count": 2,
   "metadata": {},
   "outputs": [],
   "source": [
    "#Convert the data into the PLINK format\n",
    "system(glue::glue(\"\n",
    "cd /home/jupyter/Ancestry/analysis/locus_specific_gwas_analysis\n",
    "/home/jupyter/Ancestry/software/plink2/plink2 --allow-extra-chr --vcf split.all_chroms.maf.subset.reheader.vcf.gz --make-bed --out ccle.snp6.imputed.final\n",
    "\"))"
   ]
  },
  {
   "cell_type": "code",
   "execution_count": 3,
   "metadata": {},
   "outputs": [],
   "source": [
    "#Run PCA\n",
    "system(glue::glue(\"\n",
    "cd /home/jupyter/Ancestry/analysis/locus_specific_gwas_analysis\n",
    "/home/jupyter/Ancestry/software/plink2/plink2 --allow-extra-chr --bfile ccle.snp6.imputed.final --pca 10 --maf 0.01 --out ccle.snp6.imputed.final.pca10\n",
    "\"))"
   ]
  },
  {
   "cell_type": "code",
   "execution_count": 2,
   "metadata": {},
   "outputs": [
    {
     "name": "stderr",
     "output_type": "stream",
     "text": [
      "Warning message in scan(file = file, what = what, sep = sep, quote = quote, dec = dec, :\n",
      "“EOF within quoted string”\n"
     ]
    },
    {
     "data": {
      "text/html": [
       "<table class=\"dataframe\">\n",
       "<caption>A data.frame: 6 × 11</caption>\n",
       "<thead>\n",
       "\t<tr><th></th><th scope=col>IID</th><th scope=col>pc1</th><th scope=col>pc2</th><th scope=col>pc4</th><th scope=col>pc5</th><th scope=col>pc6</th><th scope=col>pc7</th><th scope=col>pc8</th><th scope=col>pc9</th><th scope=col>pc10</th><th scope=col>lineage</th></tr>\n",
       "\t<tr><th></th><th scope=col>&lt;chr&gt;</th><th scope=col>&lt;dbl&gt;</th><th scope=col>&lt;dbl&gt;</th><th scope=col>&lt;dbl&gt;</th><th scope=col>&lt;dbl&gt;</th><th scope=col>&lt;dbl&gt;</th><th scope=col>&lt;dbl&gt;</th><th scope=col>&lt;dbl&gt;</th><th scope=col>&lt;dbl&gt;</th><th scope=col>&lt;dbl&gt;</th><th scope=col>&lt;chr&gt;</th></tr>\n",
       "</thead>\n",
       "<tbody>\n",
       "\t<tr><th scope=row>1</th><td>ACH-000657</td><td>-0.00370843</td><td>-0.14336500</td><td> 0.037719100</td><td>-0.000872143</td><td>-0.00816973</td><td> 0.003733370</td><td>-0.038474900</td><td>-0.00834988</td><td> 2.12964e-03</td><td>ovary                 </td></tr>\n",
       "\t<tr><th scope=row>2</th><td>ACH-000617</td><td>-0.02393800</td><td> 0.00917185</td><td>-0.001431090</td><td> 0.001374310</td><td> 0.01312150</td><td>-0.008954580</td><td>-0.000188026</td><td>-0.00466626</td><td> 8.78533e-05</td><td>ovary                 </td></tr>\n",
       "\t<tr><th scope=row>3</th><td>ACH-000685</td><td>-0.00131223</td><td>-0.13231000</td><td> 0.044561900</td><td> 0.000915528</td><td>-0.04803250</td><td>-0.025351600</td><td>-0.063014100</td><td> 0.01242340</td><td> 5.39580e-03</td><td>pancreas              </td></tr>\n",
       "\t<tr><th scope=row>4</th><td>ACH-000632</td><td>-0.02340550</td><td> 0.01056860</td><td>-0.000100992</td><td> 0.001161190</td><td> 0.00177562</td><td>-0.002112090</td><td>-0.001453860</td><td>-0.00233648</td><td> 4.18550e-04</td><td>skin                  </td></tr>\n",
       "\t<tr><th scope=row>5</th><td>ACH-000171</td><td>-0.02265400</td><td> 0.01018530</td><td> 0.000515668</td><td>-0.000440733</td><td> 0.00151383</td><td>-0.000558844</td><td> 0.000665614</td><td> 0.00759516</td><td> 1.70581e-03</td><td>kidney                </td></tr>\n",
       "\t<tr><th scope=row>6</th><td>ACH-000863</td><td>-0.01952820</td><td> 0.00513162</td><td>-0.000708070</td><td>-0.016854800</td><td> 0.01086210</td><td>-0.008986980</td><td>-0.002713440</td><td>-0.01490090</td><td>-2.27135e-04</td><td>central_nervous_system</td></tr>\n",
       "</tbody>\n",
       "</table>\n"
      ],
      "text/latex": [
       "A data.frame: 6 × 11\n",
       "\\begin{tabular}{r|lllllllllll}\n",
       "  & IID & pc1 & pc2 & pc4 & pc5 & pc6 & pc7 & pc8 & pc9 & pc10 & lineage\\\\\n",
       "  & <chr> & <dbl> & <dbl> & <dbl> & <dbl> & <dbl> & <dbl> & <dbl> & <dbl> & <dbl> & <chr>\\\\\n",
       "\\hline\n",
       "\t1 & ACH-000657 & -0.00370843 & -0.14336500 &  0.037719100 & -0.000872143 & -0.00816973 &  0.003733370 & -0.038474900 & -0.00834988 &  2.12964e-03 & ovary                 \\\\\n",
       "\t2 & ACH-000617 & -0.02393800 &  0.00917185 & -0.001431090 &  0.001374310 &  0.01312150 & -0.008954580 & -0.000188026 & -0.00466626 &  8.78533e-05 & ovary                 \\\\\n",
       "\t3 & ACH-000685 & -0.00131223 & -0.13231000 &  0.044561900 &  0.000915528 & -0.04803250 & -0.025351600 & -0.063014100 &  0.01242340 &  5.39580e-03 & pancreas              \\\\\n",
       "\t4 & ACH-000632 & -0.02340550 &  0.01056860 & -0.000100992 &  0.001161190 &  0.00177562 & -0.002112090 & -0.001453860 & -0.00233648 &  4.18550e-04 & skin                  \\\\\n",
       "\t5 & ACH-000171 & -0.02265400 &  0.01018530 &  0.000515668 & -0.000440733 &  0.00151383 & -0.000558844 &  0.000665614 &  0.00759516 &  1.70581e-03 & kidney                \\\\\n",
       "\t6 & ACH-000863 & -0.01952820 &  0.00513162 & -0.000708070 & -0.016854800 &  0.01086210 & -0.008986980 & -0.002713440 & -0.01490090 & -2.27135e-04 & central\\_nervous\\_system\\\\\n",
       "\\end{tabular}\n"
      ],
      "text/markdown": [
       "\n",
       "A data.frame: 6 × 11\n",
       "\n",
       "| <!--/--> | IID &lt;chr&gt; | pc1 &lt;dbl&gt; | pc2 &lt;dbl&gt; | pc4 &lt;dbl&gt; | pc5 &lt;dbl&gt; | pc6 &lt;dbl&gt; | pc7 &lt;dbl&gt; | pc8 &lt;dbl&gt; | pc9 &lt;dbl&gt; | pc10 &lt;dbl&gt; | lineage &lt;chr&gt; |\n",
       "|---|---|---|---|---|---|---|---|---|---|---|---|\n",
       "| 1 | ACH-000657 | -0.00370843 | -0.14336500 |  0.037719100 | -0.000872143 | -0.00816973 |  0.003733370 | -0.038474900 | -0.00834988 |  2.12964e-03 | ovary                  |\n",
       "| 2 | ACH-000617 | -0.02393800 |  0.00917185 | -0.001431090 |  0.001374310 |  0.01312150 | -0.008954580 | -0.000188026 | -0.00466626 |  8.78533e-05 | ovary                  |\n",
       "| 3 | ACH-000685 | -0.00131223 | -0.13231000 |  0.044561900 |  0.000915528 | -0.04803250 | -0.025351600 | -0.063014100 |  0.01242340 |  5.39580e-03 | pancreas               |\n",
       "| 4 | ACH-000632 | -0.02340550 |  0.01056860 | -0.000100992 |  0.001161190 |  0.00177562 | -0.002112090 | -0.001453860 | -0.00233648 |  4.18550e-04 | skin                   |\n",
       "| 5 | ACH-000171 | -0.02265400 |  0.01018530 |  0.000515668 | -0.000440733 |  0.00151383 | -0.000558844 |  0.000665614 |  0.00759516 |  1.70581e-03 | kidney                 |\n",
       "| 6 | ACH-000863 | -0.01952820 |  0.00513162 | -0.000708070 | -0.016854800 |  0.01086210 | -0.008986980 | -0.002713440 | -0.01490090 | -2.27135e-04 | central_nervous_system |\n",
       "\n"
      ],
      "text/plain": [
       "  IID        pc1         pc2         pc4          pc5          pc6        \n",
       "1 ACH-000657 -0.00370843 -0.14336500  0.037719100 -0.000872143 -0.00816973\n",
       "2 ACH-000617 -0.02393800  0.00917185 -0.001431090  0.001374310  0.01312150\n",
       "3 ACH-000685 -0.00131223 -0.13231000  0.044561900  0.000915528 -0.04803250\n",
       "4 ACH-000632 -0.02340550  0.01056860 -0.000100992  0.001161190  0.00177562\n",
       "5 ACH-000171 -0.02265400  0.01018530  0.000515668 -0.000440733  0.00151383\n",
       "6 ACH-000863 -0.01952820  0.00513162 -0.000708070 -0.016854800  0.01086210\n",
       "  pc7          pc8          pc9         pc10         lineage               \n",
       "1  0.003733370 -0.038474900 -0.00834988  2.12964e-03 ovary                 \n",
       "2 -0.008954580 -0.000188026 -0.00466626  8.78533e-05 ovary                 \n",
       "3 -0.025351600 -0.063014100  0.01242340  5.39580e-03 pancreas              \n",
       "4 -0.002112090 -0.001453860 -0.00233648  4.18550e-04 skin                  \n",
       "5 -0.000558844  0.000665614  0.00759516  1.70581e-03 kidney                \n",
       "6 -0.008986980 -0.002713440 -0.01490090 -2.27135e-04 central_nervous_system"
      ]
     },
     "metadata": {},
     "output_type": "display_data"
    }
   ],
   "source": [
    "#Load in the PCA data\n",
    "setwd(\"/home/jupyter/Ancestry/analysis/locus_specific_gwas_analysis\") \n",
    "pca.cov <- read.table('ccle.snp6.imputed.final.pca10.eigenvec', sep = \"\\t\", fill = TRUE) #Covariates from PCA\n",
    "\n",
    "#Load in the sample annotation file\n",
    "setwd(\"/home/jupyter/Ancestry/analysis/locus_specific_gwas_analysis\")\n",
    "cell.annotation <- read.table('sample_info.csv', sep = \",\", fill = TRUE, header = TRUE) %>%\n",
    "select(DepMap_ID, lineage) %>%\n",
    "rename(\"ach_id\" = DepMap_ID) %>%\n",
    "mutate_all(na_if,\"\") %>%\n",
    "mutate(lineage = replace_na(lineage, \"NONE\"))\n",
    "\n",
    "#Assemble the final data frame\n",
    "covariate.file = pca.cov %>%\n",
    "select(-V1) %>%\n",
    "rename(\"ach_id\" = V2) %>%\n",
    "inner_join(cell.annotation, by = \"ach_id\") %>%\n",
    "rename(\"IID\" = ach_id, \"pc1\" = 2, \"pc2\" = 3, \"pc3\" = 4, \"pc4\" = 5, \"pc5\" = 6, \"pc6\" = 7, \"pc7\" = 8, \"pc8\" = 9, \"pc9\" = 10, \"pc10\" = 11) %>%\n",
    "select(-pc3)\n",
    "\n",
    "head(covariate.file)\n",
    "\n",
    "#Write it so that we can use it in gwas\n",
    "setwd(\"/home/jupyter/Ancestry/analysis/locus_specific_gwas_analysis\")\n",
    "write.table(covariate.file, \"depmap.cov\", sep = \"\\t\", col.names = TRUE, row.names = FALSE, quote = FALSE)"
   ]
  },
  {
   "cell_type": "code",
   "execution_count": 4,
   "metadata": {},
   "outputs": [
    {
     "data": {
      "text/html": [
       "<style>\n",
       ".list-inline {list-style: none; margin:0; padding: 0}\n",
       ".list-inline>li {display: inline-block}\n",
       ".list-inline>li:not(:last-child)::after {content: \"\\00b7\"; padding: 0 .5ex}\n",
       "</style>\n",
       "<ol class=list-inline><li>'CAAP1'</li><li>'CDKN2B'</li><li>'DMRTA1'</li><li>'EEF2'</li><li>'ELAVL2'</li><li>'IFNA10'</li><li>'IFNA14'</li><li>'IFNA16'</li><li>'IFNA4'</li><li>'IFNA6'</li><li>'IFNA8'</li><li>'IFNB1'</li><li>'IFNE'</li><li>'IFNK'</li><li>'IZUMO3'</li><li>'MOB3B'</li><li>'MTAP'</li><li>'RESP18'</li><li>'TEK'</li><li>'ZNF236'</li><li>'ZNF407'</li><li>'ABHD5'</li><li>'ADCY3'</li><li>'BTG1'</li><li>'C22orf31'</li><li>'C2orf80'</li><li>'CBFA2T2'</li><li>'CCDC102B'</li><li>'CCDC74B'</li><li>'CCL3'</li><li>'CEP19'</li><li>'CHGB'</li><li>'CLPSL1'</li><li>'CLSPN'</li><li>'COX6B1'</li><li>'CSTA'</li><li>'DCN'</li><li>'DDX47'</li><li>'DND1'</li><li>'ECD'</li><li>'FAM25A'</li><li>'FCGR3A'</li><li>'FRG2C'</li><li>'GLYCTK'</li><li>'GRB2'</li><li>'HINT3'</li><li>'INCENP'</li><li>'ITGA3'</li><li>'KIAA2013'</li><li>'KLF5'</li><li>'MATR3'</li><li>'MDN1'</li><li>'MRTO4'</li><li>'MYH11'</li><li>'NIT2'</li><li>'NOP56'</li><li>'NPEPPS'</li><li>'NPHS1'</li><li>'PDXDC1'</li><li>'PEX11A'</li><li>'PTPN11'</li><li>'QRICH2'</li><li>'RAB21'</li><li>'RETNLB'</li><li>'RHD'</li><li>'RIMS2'</li><li>'RPS5'</li><li>'RTP5'</li><li>'SART1'</li><li>'SLC10A5'</li><li>'SLC52A2'</li><li>'SLC5A11'</li><li>'SNAP23'</li><li>'SPATA6L'</li><li>'SRP14'</li><li>'STX4'</li><li>'STXBP3'</li><li>'TPSD1'</li><li>'TRMT61B'</li><li>'TTC4'</li><li>'TUT1'</li><li>'TXNRD1'</li><li>'UGT2B17'</li><li>'WSB2'</li><li>'ZNF675'</li><li>'ZYG11A'</li><li>'ACAN'</li><li>'DEFB108B'</li><li>'EGR4'</li><li>'NKAIN4'</li><li>'NOMO2'</li><li>'PIGN'</li><li>'RPL3'</li><li>'RPP30'</li><li>'RRP7A'</li><li>'TP63'</li><li>'VRK1'</li><li>'YTHDF2'</li></ol>\n"
      ],
      "text/latex": [
       "\\begin{enumerate*}\n",
       "\\item 'CAAP1'\n",
       "\\item 'CDKN2B'\n",
       "\\item 'DMRTA1'\n",
       "\\item 'EEF2'\n",
       "\\item 'ELAVL2'\n",
       "\\item 'IFNA10'\n",
       "\\item 'IFNA14'\n",
       "\\item 'IFNA16'\n",
       "\\item 'IFNA4'\n",
       "\\item 'IFNA6'\n",
       "\\item 'IFNA8'\n",
       "\\item 'IFNB1'\n",
       "\\item 'IFNE'\n",
       "\\item 'IFNK'\n",
       "\\item 'IZUMO3'\n",
       "\\item 'MOB3B'\n",
       "\\item 'MTAP'\n",
       "\\item 'RESP18'\n",
       "\\item 'TEK'\n",
       "\\item 'ZNF236'\n",
       "\\item 'ZNF407'\n",
       "\\item 'ABHD5'\n",
       "\\item 'ADCY3'\n",
       "\\item 'BTG1'\n",
       "\\item 'C22orf31'\n",
       "\\item 'C2orf80'\n",
       "\\item 'CBFA2T2'\n",
       "\\item 'CCDC102B'\n",
       "\\item 'CCDC74B'\n",
       "\\item 'CCL3'\n",
       "\\item 'CEP19'\n",
       "\\item 'CHGB'\n",
       "\\item 'CLPSL1'\n",
       "\\item 'CLSPN'\n",
       "\\item 'COX6B1'\n",
       "\\item 'CSTA'\n",
       "\\item 'DCN'\n",
       "\\item 'DDX47'\n",
       "\\item 'DND1'\n",
       "\\item 'ECD'\n",
       "\\item 'FAM25A'\n",
       "\\item 'FCGR3A'\n",
       "\\item 'FRG2C'\n",
       "\\item 'GLYCTK'\n",
       "\\item 'GRB2'\n",
       "\\item 'HINT3'\n",
       "\\item 'INCENP'\n",
       "\\item 'ITGA3'\n",
       "\\item 'KIAA2013'\n",
       "\\item 'KLF5'\n",
       "\\item 'MATR3'\n",
       "\\item 'MDN1'\n",
       "\\item 'MRTO4'\n",
       "\\item 'MYH11'\n",
       "\\item 'NIT2'\n",
       "\\item 'NOP56'\n",
       "\\item 'NPEPPS'\n",
       "\\item 'NPHS1'\n",
       "\\item 'PDXDC1'\n",
       "\\item 'PEX11A'\n",
       "\\item 'PTPN11'\n",
       "\\item 'QRICH2'\n",
       "\\item 'RAB21'\n",
       "\\item 'RETNLB'\n",
       "\\item 'RHD'\n",
       "\\item 'RIMS2'\n",
       "\\item 'RPS5'\n",
       "\\item 'RTP5'\n",
       "\\item 'SART1'\n",
       "\\item 'SLC10A5'\n",
       "\\item 'SLC52A2'\n",
       "\\item 'SLC5A11'\n",
       "\\item 'SNAP23'\n",
       "\\item 'SPATA6L'\n",
       "\\item 'SRP14'\n",
       "\\item 'STX4'\n",
       "\\item 'STXBP3'\n",
       "\\item 'TPSD1'\n",
       "\\item 'TRMT61B'\n",
       "\\item 'TTC4'\n",
       "\\item 'TUT1'\n",
       "\\item 'TXNRD1'\n",
       "\\item 'UGT2B17'\n",
       "\\item 'WSB2'\n",
       "\\item 'ZNF675'\n",
       "\\item 'ZYG11A'\n",
       "\\item 'ACAN'\n",
       "\\item 'DEFB108B'\n",
       "\\item 'EGR4'\n",
       "\\item 'NKAIN4'\n",
       "\\item 'NOMO2'\n",
       "\\item 'PIGN'\n",
       "\\item 'RPL3'\n",
       "\\item 'RPP30'\n",
       "\\item 'RRP7A'\n",
       "\\item 'TP63'\n",
       "\\item 'VRK1'\n",
       "\\item 'YTHDF2'\n",
       "\\end{enumerate*}\n"
      ],
      "text/markdown": [
       "1. 'CAAP1'\n",
       "2. 'CDKN2B'\n",
       "3. 'DMRTA1'\n",
       "4. 'EEF2'\n",
       "5. 'ELAVL2'\n",
       "6. 'IFNA10'\n",
       "7. 'IFNA14'\n",
       "8. 'IFNA16'\n",
       "9. 'IFNA4'\n",
       "10. 'IFNA6'\n",
       "11. 'IFNA8'\n",
       "12. 'IFNB1'\n",
       "13. 'IFNE'\n",
       "14. 'IFNK'\n",
       "15. 'IZUMO3'\n",
       "16. 'MOB3B'\n",
       "17. 'MTAP'\n",
       "18. 'RESP18'\n",
       "19. 'TEK'\n",
       "20. 'ZNF236'\n",
       "21. 'ZNF407'\n",
       "22. 'ABHD5'\n",
       "23. 'ADCY3'\n",
       "24. 'BTG1'\n",
       "25. 'C22orf31'\n",
       "26. 'C2orf80'\n",
       "27. 'CBFA2T2'\n",
       "28. 'CCDC102B'\n",
       "29. 'CCDC74B'\n",
       "30. 'CCL3'\n",
       "31. 'CEP19'\n",
       "32. 'CHGB'\n",
       "33. 'CLPSL1'\n",
       "34. 'CLSPN'\n",
       "35. 'COX6B1'\n",
       "36. 'CSTA'\n",
       "37. 'DCN'\n",
       "38. 'DDX47'\n",
       "39. 'DND1'\n",
       "40. 'ECD'\n",
       "41. 'FAM25A'\n",
       "42. 'FCGR3A'\n",
       "43. 'FRG2C'\n",
       "44. 'GLYCTK'\n",
       "45. 'GRB2'\n",
       "46. 'HINT3'\n",
       "47. 'INCENP'\n",
       "48. 'ITGA3'\n",
       "49. 'KIAA2013'\n",
       "50. 'KLF5'\n",
       "51. 'MATR3'\n",
       "52. 'MDN1'\n",
       "53. 'MRTO4'\n",
       "54. 'MYH11'\n",
       "55. 'NIT2'\n",
       "56. 'NOP56'\n",
       "57. 'NPEPPS'\n",
       "58. 'NPHS1'\n",
       "59. 'PDXDC1'\n",
       "60. 'PEX11A'\n",
       "61. 'PTPN11'\n",
       "62. 'QRICH2'\n",
       "63. 'RAB21'\n",
       "64. 'RETNLB'\n",
       "65. 'RHD'\n",
       "66. 'RIMS2'\n",
       "67. 'RPS5'\n",
       "68. 'RTP5'\n",
       "69. 'SART1'\n",
       "70. 'SLC10A5'\n",
       "71. 'SLC52A2'\n",
       "72. 'SLC5A11'\n",
       "73. 'SNAP23'\n",
       "74. 'SPATA6L'\n",
       "75. 'SRP14'\n",
       "76. 'STX4'\n",
       "77. 'STXBP3'\n",
       "78. 'TPSD1'\n",
       "79. 'TRMT61B'\n",
       "80. 'TTC4'\n",
       "81. 'TUT1'\n",
       "82. 'TXNRD1'\n",
       "83. 'UGT2B17'\n",
       "84. 'WSB2'\n",
       "85. 'ZNF675'\n",
       "86. 'ZYG11A'\n",
       "87. 'ACAN'\n",
       "88. 'DEFB108B'\n",
       "89. 'EGR4'\n",
       "90. 'NKAIN4'\n",
       "91. 'NOMO2'\n",
       "92. 'PIGN'\n",
       "93. 'RPL3'\n",
       "94. 'RPP30'\n",
       "95. 'RRP7A'\n",
       "96. 'TP63'\n",
       "97. 'VRK1'\n",
       "98. 'YTHDF2'\n",
       "\n",
       "\n"
      ],
      "text/plain": [
       " [1] \"CAAP1\"    \"CDKN2B\"   \"DMRTA1\"   \"EEF2\"     \"ELAVL2\"   \"IFNA10\"  \n",
       " [7] \"IFNA14\"   \"IFNA16\"   \"IFNA4\"    \"IFNA6\"    \"IFNA8\"    \"IFNB1\"   \n",
       "[13] \"IFNE\"     \"IFNK\"     \"IZUMO3\"   \"MOB3B\"    \"MTAP\"     \"RESP18\"  \n",
       "[19] \"TEK\"      \"ZNF236\"   \"ZNF407\"   \"ABHD5\"    \"ADCY3\"    \"BTG1\"    \n",
       "[25] \"C22orf31\" \"C2orf80\"  \"CBFA2T2\"  \"CCDC102B\" \"CCDC74B\"  \"CCL3\"    \n",
       "[31] \"CEP19\"    \"CHGB\"     \"CLPSL1\"   \"CLSPN\"    \"COX6B1\"   \"CSTA\"    \n",
       "[37] \"DCN\"      \"DDX47\"    \"DND1\"     \"ECD\"      \"FAM25A\"   \"FCGR3A\"  \n",
       "[43] \"FRG2C\"    \"GLYCTK\"   \"GRB2\"     \"HINT3\"    \"INCENP\"   \"ITGA3\"   \n",
       "[49] \"KIAA2013\" \"KLF5\"     \"MATR3\"    \"MDN1\"     \"MRTO4\"    \"MYH11\"   \n",
       "[55] \"NIT2\"     \"NOP56\"    \"NPEPPS\"   \"NPHS1\"    \"PDXDC1\"   \"PEX11A\"  \n",
       "[61] \"PTPN11\"   \"QRICH2\"   \"RAB21\"    \"RETNLB\"   \"RHD\"      \"RIMS2\"   \n",
       "[67] \"RPS5\"     \"RTP5\"     \"SART1\"    \"SLC10A5\"  \"SLC52A2\"  \"SLC5A11\" \n",
       "[73] \"SNAP23\"   \"SPATA6L\"  \"SRP14\"    \"STX4\"     \"STXBP3\"   \"TPSD1\"   \n",
       "[79] \"TRMT61B\"  \"TTC4\"     \"TUT1\"     \"TXNRD1\"   \"UGT2B17\"  \"WSB2\"    \n",
       "[85] \"ZNF675\"   \"ZYG11A\"   \"ACAN\"     \"DEFB108B\" \"EGR4\"     \"NKAIN4\"  \n",
       "[91] \"NOMO2\"    \"PIGN\"     \"RPL3\"     \"RPP30\"    \"RRP7A\"    \"TP63\"    \n",
       "[97] \"VRK1\"     \"YTHDF2\"  "
      ]
     },
     "metadata": {},
     "output_type": "display_data"
    }
   ],
   "source": [
    "#Get a list of all ancestry-associated genes\n",
    "\n",
    "#Load in the output from the ancestry analysis\n",
    "setwd(\"/home/jupyter/Ancestry/analysis/locus_specific_associations\")\n",
    "ancestry.associated.genes = read.table(\"ancestry_locus_gene_associations.txt\", sep = \"\\t\", header = T) %>%\n",
    "filter(FDR < 0.05) %>%\n",
    "pull(gene) %>%\n",
    "unique()\n",
    "\n",
    "ancestry.associated.genes"
   ]
  },
  {
   "cell_type": "code",
   "execution_count": 5,
   "metadata": {},
   "outputs": [
    {
     "data": {
      "text/html": [
       "<table class=\"dataframe\">\n",
       "<caption>A data.frame: 6 × 99</caption>\n",
       "<thead>\n",
       "\t<tr><th></th><th scope=col>IID</th><th scope=col>CAAP1</th><th scope=col>CDKN2B</th><th scope=col>DMRTA1</th><th scope=col>EEF2</th><th scope=col>ELAVL2</th><th scope=col>IFNA10</th><th scope=col>IFNA14</th><th scope=col>IFNA16</th><th scope=col>IFNA4</th><th scope=col>⋯</th><th scope=col>EGR4</th><th scope=col>NKAIN4</th><th scope=col>NOMO2</th><th scope=col>PIGN</th><th scope=col>RPL3</th><th scope=col>RPP30</th><th scope=col>RRP7A</th><th scope=col>TP63</th><th scope=col>VRK1</th><th scope=col>YTHDF2</th></tr>\n",
       "\t<tr><th></th><th scope=col>&lt;chr&gt;</th><th scope=col>&lt;dbl&gt;</th><th scope=col>&lt;dbl&gt;</th><th scope=col>&lt;dbl&gt;</th><th scope=col>&lt;dbl&gt;</th><th scope=col>&lt;dbl&gt;</th><th scope=col>&lt;dbl&gt;</th><th scope=col>&lt;dbl&gt;</th><th scope=col>&lt;dbl&gt;</th><th scope=col>&lt;dbl&gt;</th><th scope=col>⋯</th><th scope=col>&lt;dbl&gt;</th><th scope=col>&lt;dbl&gt;</th><th scope=col>&lt;dbl&gt;</th><th scope=col>&lt;dbl&gt;</th><th scope=col>&lt;dbl&gt;</th><th scope=col>&lt;dbl&gt;</th><th scope=col>&lt;dbl&gt;</th><th scope=col>&lt;dbl&gt;</th><th scope=col>&lt;dbl&gt;</th><th scope=col>&lt;dbl&gt;</th></tr>\n",
       "</thead>\n",
       "<tbody>\n",
       "\t<tr><th scope=row>1</th><td>ACH-000001</td><td> 0.073922537</td><td> 0.05821736</td><td>-0.03897724</td><td>-2.095793</td><td> 0.08994452</td><td>0.03120451</td><td>-0.02879361</td><td> 0.009268298</td><td> 0.01118823</td><td>⋯</td><td>-0.13482804</td><td> 0.18271866</td><td>-0.11330932</td><td>-0.12020076</td><td>-1.788885</td><td>-0.8718407</td><td>-1.0189240</td><td> 0.13866131</td><td>-0.2589375</td><td>-0.25308329</td></tr>\n",
       "\t<tr><th scope=row>2</th><td>ACH-000004</td><td>-0.209395311</td><td> 0.05773211</td><td> 0.18987021</td><td>-2.417370</td><td> 0.13983175</td><td>0.10776506</td><td> 0.21711221</td><td> 0.174100468</td><td> 0.07971205</td><td>⋯</td><td>-0.07211585</td><td> 0.24557957</td><td> 0.01480258</td><td>-0.04919209</td><td>-1.421307</td><td>-1.1469241</td><td>-1.2317386</td><td>-0.07841507</td><td>-0.1338326</td><td>-0.51207891</td></tr>\n",
       "\t<tr><th scope=row>3</th><td>ACH-000005</td><td>-0.278041459</td><td> 0.12962967</td><td>-0.07577167</td><td>-2.452462</td><td>-0.06422529</td><td>0.06291882</td><td> 0.03605785</td><td>-0.014284027</td><td>-0.02551373</td><td>⋯</td><td>-0.02013553</td><td> 0.07471058</td><td>-0.04999424</td><td>-0.09208842</td><td>-1.651697</td><td>-1.4016076</td><td>-0.8449442</td><td>-0.02757647</td><td>-0.1409894</td><td>-0.10982255</td></tr>\n",
       "\t<tr><th scope=row>4</th><td>ACH-000007</td><td> 0.005260136</td><td>-0.21691816</td><td> 0.10735205</td><td>-2.458988</td><td>-0.05011293</td><td>0.12146441</td><td>-0.12873824</td><td>-0.060270074</td><td>-0.35424782</td><td>⋯</td><td>-0.02404117</td><td>-0.02024189</td><td>-0.05488131</td><td> 0.04321737</td><td>-2.174718</td><td>-1.5101039</td><td>-0.7207358</td><td> 0.01276595</td><td>-0.8868753</td><td> 0.01029005</td></tr>\n",
       "\t<tr><th scope=row>5</th><td>ACH-000009</td><td>-0.196819259</td><td>-0.03785296</td><td>-0.06203587</td><td>-2.267818</td><td>-0.07328527</td><td>0.11706925</td><td> 0.02483427</td><td>-0.156237595</td><td>-0.15959780</td><td>⋯</td><td>-0.02372320</td><td> 0.13250238</td><td>-0.03757812</td><td>-0.04881894</td><td>-1.929680</td><td>-1.2853043</td><td>-0.8462712</td><td>-0.05036788</td><td>-0.1409046</td><td>-0.14301749</td></tr>\n",
       "\t<tr><th scope=row>6</th><td>ACH-000011</td><td> 0.147927886</td><td>-0.08222672</td><td>-0.06938509</td><td>-1.470855</td><td>-0.05832150</td><td>0.04078548</td><td>-0.13443332</td><td> 0.101044466</td><td>-0.19760178</td><td>⋯</td><td>-0.25750334</td><td>-0.02135712</td><td>-0.12231211</td><td> 0.06000768</td><td>-2.289076</td><td>-1.5691946</td><td>-0.6501023</td><td>-0.04808420</td><td>-1.0732280</td><td>-0.20775455</td></tr>\n",
       "</tbody>\n",
       "</table>\n"
      ],
      "text/latex": [
       "A data.frame: 6 × 99\n",
       "\\begin{tabular}{r|lllllllllllllllllllll}\n",
       "  & IID & CAAP1 & CDKN2B & DMRTA1 & EEF2 & ELAVL2 & IFNA10 & IFNA14 & IFNA16 & IFNA4 & ⋯ & EGR4 & NKAIN4 & NOMO2 & PIGN & RPL3 & RPP30 & RRP7A & TP63 & VRK1 & YTHDF2\\\\\n",
       "  & <chr> & <dbl> & <dbl> & <dbl> & <dbl> & <dbl> & <dbl> & <dbl> & <dbl> & <dbl> & ⋯ & <dbl> & <dbl> & <dbl> & <dbl> & <dbl> & <dbl> & <dbl> & <dbl> & <dbl> & <dbl>\\\\\n",
       "\\hline\n",
       "\t1 & ACH-000001 &  0.073922537 &  0.05821736 & -0.03897724 & -2.095793 &  0.08994452 & 0.03120451 & -0.02879361 &  0.009268298 &  0.01118823 & ⋯ & -0.13482804 &  0.18271866 & -0.11330932 & -0.12020076 & -1.788885 & -0.8718407 & -1.0189240 &  0.13866131 & -0.2589375 & -0.25308329\\\\\n",
       "\t2 & ACH-000004 & -0.209395311 &  0.05773211 &  0.18987021 & -2.417370 &  0.13983175 & 0.10776506 &  0.21711221 &  0.174100468 &  0.07971205 & ⋯ & -0.07211585 &  0.24557957 &  0.01480258 & -0.04919209 & -1.421307 & -1.1469241 & -1.2317386 & -0.07841507 & -0.1338326 & -0.51207891\\\\\n",
       "\t3 & ACH-000005 & -0.278041459 &  0.12962967 & -0.07577167 & -2.452462 & -0.06422529 & 0.06291882 &  0.03605785 & -0.014284027 & -0.02551373 & ⋯ & -0.02013553 &  0.07471058 & -0.04999424 & -0.09208842 & -1.651697 & -1.4016076 & -0.8449442 & -0.02757647 & -0.1409894 & -0.10982255\\\\\n",
       "\t4 & ACH-000007 &  0.005260136 & -0.21691816 &  0.10735205 & -2.458988 & -0.05011293 & 0.12146441 & -0.12873824 & -0.060270074 & -0.35424782 & ⋯ & -0.02404117 & -0.02024189 & -0.05488131 &  0.04321737 & -2.174718 & -1.5101039 & -0.7207358 &  0.01276595 & -0.8868753 &  0.01029005\\\\\n",
       "\t5 & ACH-000009 & -0.196819259 & -0.03785296 & -0.06203587 & -2.267818 & -0.07328527 & 0.11706925 &  0.02483427 & -0.156237595 & -0.15959780 & ⋯ & -0.02372320 &  0.13250238 & -0.03757812 & -0.04881894 & -1.929680 & -1.2853043 & -0.8462712 & -0.05036788 & -0.1409046 & -0.14301749\\\\\n",
       "\t6 & ACH-000011 &  0.147927886 & -0.08222672 & -0.06938509 & -1.470855 & -0.05832150 & 0.04078548 & -0.13443332 &  0.101044466 & -0.19760178 & ⋯ & -0.25750334 & -0.02135712 & -0.12231211 &  0.06000768 & -2.289076 & -1.5691946 & -0.6501023 & -0.04808420 & -1.0732280 & -0.20775455\\\\\n",
       "\\end{tabular}\n"
      ],
      "text/markdown": [
       "\n",
       "A data.frame: 6 × 99\n",
       "\n",
       "| <!--/--> | IID &lt;chr&gt; | CAAP1 &lt;dbl&gt; | CDKN2B &lt;dbl&gt; | DMRTA1 &lt;dbl&gt; | EEF2 &lt;dbl&gt; | ELAVL2 &lt;dbl&gt; | IFNA10 &lt;dbl&gt; | IFNA14 &lt;dbl&gt; | IFNA16 &lt;dbl&gt; | IFNA4 &lt;dbl&gt; | ⋯ ⋯ | EGR4 &lt;dbl&gt; | NKAIN4 &lt;dbl&gt; | NOMO2 &lt;dbl&gt; | PIGN &lt;dbl&gt; | RPL3 &lt;dbl&gt; | RPP30 &lt;dbl&gt; | RRP7A &lt;dbl&gt; | TP63 &lt;dbl&gt; | VRK1 &lt;dbl&gt; | YTHDF2 &lt;dbl&gt; |\n",
       "|---|---|---|---|---|---|---|---|---|---|---|---|---|---|---|---|---|---|---|---|---|---|\n",
       "| 1 | ACH-000001 |  0.073922537 |  0.05821736 | -0.03897724 | -2.095793 |  0.08994452 | 0.03120451 | -0.02879361 |  0.009268298 |  0.01118823 | ⋯ | -0.13482804 |  0.18271866 | -0.11330932 | -0.12020076 | -1.788885 | -0.8718407 | -1.0189240 |  0.13866131 | -0.2589375 | -0.25308329 |\n",
       "| 2 | ACH-000004 | -0.209395311 |  0.05773211 |  0.18987021 | -2.417370 |  0.13983175 | 0.10776506 |  0.21711221 |  0.174100468 |  0.07971205 | ⋯ | -0.07211585 |  0.24557957 |  0.01480258 | -0.04919209 | -1.421307 | -1.1469241 | -1.2317386 | -0.07841507 | -0.1338326 | -0.51207891 |\n",
       "| 3 | ACH-000005 | -0.278041459 |  0.12962967 | -0.07577167 | -2.452462 | -0.06422529 | 0.06291882 |  0.03605785 | -0.014284027 | -0.02551373 | ⋯ | -0.02013553 |  0.07471058 | -0.04999424 | -0.09208842 | -1.651697 | -1.4016076 | -0.8449442 | -0.02757647 | -0.1409894 | -0.10982255 |\n",
       "| 4 | ACH-000007 |  0.005260136 | -0.21691816 |  0.10735205 | -2.458988 | -0.05011293 | 0.12146441 | -0.12873824 | -0.060270074 | -0.35424782 | ⋯ | -0.02404117 | -0.02024189 | -0.05488131 |  0.04321737 | -2.174718 | -1.5101039 | -0.7207358 |  0.01276595 | -0.8868753 |  0.01029005 |\n",
       "| 5 | ACH-000009 | -0.196819259 | -0.03785296 | -0.06203587 | -2.267818 | -0.07328527 | 0.11706925 |  0.02483427 | -0.156237595 | -0.15959780 | ⋯ | -0.02372320 |  0.13250238 | -0.03757812 | -0.04881894 | -1.929680 | -1.2853043 | -0.8462712 | -0.05036788 | -0.1409046 | -0.14301749 |\n",
       "| 6 | ACH-000011 |  0.147927886 | -0.08222672 | -0.06938509 | -1.470855 | -0.05832150 | 0.04078548 | -0.13443332 |  0.101044466 | -0.19760178 | ⋯ | -0.25750334 | -0.02135712 | -0.12231211 |  0.06000768 | -2.289076 | -1.5691946 | -0.6501023 | -0.04808420 | -1.0732280 | -0.20775455 |\n",
       "\n"
      ],
      "text/plain": [
       "  IID        CAAP1        CDKN2B      DMRTA1      EEF2      ELAVL2     \n",
       "1 ACH-000001  0.073922537  0.05821736 -0.03897724 -2.095793  0.08994452\n",
       "2 ACH-000004 -0.209395311  0.05773211  0.18987021 -2.417370  0.13983175\n",
       "3 ACH-000005 -0.278041459  0.12962967 -0.07577167 -2.452462 -0.06422529\n",
       "4 ACH-000007  0.005260136 -0.21691816  0.10735205 -2.458988 -0.05011293\n",
       "5 ACH-000009 -0.196819259 -0.03785296 -0.06203587 -2.267818 -0.07328527\n",
       "6 ACH-000011  0.147927886 -0.08222672 -0.06938509 -1.470855 -0.05832150\n",
       "  IFNA10     IFNA14      IFNA16       IFNA4       ⋯ EGR4        NKAIN4     \n",
       "1 0.03120451 -0.02879361  0.009268298  0.01118823 ⋯ -0.13482804  0.18271866\n",
       "2 0.10776506  0.21711221  0.174100468  0.07971205 ⋯ -0.07211585  0.24557957\n",
       "3 0.06291882  0.03605785 -0.014284027 -0.02551373 ⋯ -0.02013553  0.07471058\n",
       "4 0.12146441 -0.12873824 -0.060270074 -0.35424782 ⋯ -0.02404117 -0.02024189\n",
       "5 0.11706925  0.02483427 -0.156237595 -0.15959780 ⋯ -0.02372320  0.13250238\n",
       "6 0.04078548 -0.13443332  0.101044466 -0.19760178 ⋯ -0.25750334 -0.02135712\n",
       "  NOMO2       PIGN        RPL3      RPP30      RRP7A      TP63       \n",
       "1 -0.11330932 -0.12020076 -1.788885 -0.8718407 -1.0189240  0.13866131\n",
       "2  0.01480258 -0.04919209 -1.421307 -1.1469241 -1.2317386 -0.07841507\n",
       "3 -0.04999424 -0.09208842 -1.651697 -1.4016076 -0.8449442 -0.02757647\n",
       "4 -0.05488131  0.04321737 -2.174718 -1.5101039 -0.7207358  0.01276595\n",
       "5 -0.03757812 -0.04881894 -1.929680 -1.2853043 -0.8462712 -0.05036788\n",
       "6 -0.12231211  0.06000768 -2.289076 -1.5691946 -0.6501023 -0.04808420\n",
       "  VRK1       YTHDF2     \n",
       "1 -0.2589375 -0.25308329\n",
       "2 -0.1338326 -0.51207891\n",
       "3 -0.1409894 -0.10982255\n",
       "4 -0.8868753  0.01029005\n",
       "5 -0.1409046 -0.14301749\n",
       "6 -1.0732280 -0.20775455"
      ]
     },
     "metadata": {},
     "output_type": "display_data"
    }
   ],
   "source": [
    "#Load in the chronos data\n",
    "setwd(\"/home/jupyter/Ancestry/analysis/locus_specific_associations\")\n",
    "chronos.scores = read.table('CRISPR_gene_effect_22Q1.csv', sep = \",\", header = T, check.names = FALSE) %>%\n",
    "rename( \"IID\" = 1) %>%\n",
    "setNames(word(names(.), 1)) %>%\n",
    "select(IID, all_of(ancestry.associated.genes))\n",
    "\n",
    "\n",
    "head(chronos.scores)\n",
    "\n",
    "#write it\n",
    "setwd(\"/home/jupyter/Ancestry/analysis/locus_specific_gwas_analysis\") \n",
    "write.table(chronos.scores, \"chronos_gwas_phenotypes.pheno\", sep = \"\\t\", col.names = TRUE, row.names = FALSE, quote = FALSE)"
   ]
  },
  {
   "cell_type": "code",
   "execution_count": 11,
   "metadata": {},
   "outputs": [],
   "source": [
    "#Run GWAS\n",
    "system(glue::glue(\"\n",
    "cd /home/jupyter/Ancestry/analysis/locus_specific_gwas_analysis\n",
    "/home/jupyter/Ancestry/software/plink2/plink2 --allow-extra-chr --bfile ccle.snp6.imputed.final --maf 0.01 --glm hide-covar --pfilter 1 --covar 'iid-only' depmap.cov --pheno chronos_gwas_phenotypes.pheno --out /home/jupyter/Ancestry/analysis/locus_specific_gwas_analysis/gwas_output/output\n",
    "\"))"
   ]
  },
  {
   "cell_type": "markdown",
   "metadata": {},
   "source": [
    "# Now that we've run the GWAS, let's pull it all into R and create a matrix for downstream analysis"
   ]
  },
  {
   "cell_type": "code",
   "execution_count": 6,
   "metadata": {},
   "outputs": [],
   "source": [
    "setwd(\"/home/jupyter/Ancestry/analysis/locus_specific_gwas_analysis/gwas_output\")\n",
    "file.list = list.files(path = \".\", pattern = \"glm.linear\")\n",
    "\n",
    "#extract the SNP IDs from the dataset\n",
    "all.data = read.table(file.list[1], sep = \"\\t\") %>%\n",
    "pull(3) %>%\n",
    "data.frame()\n",
    "\n",
    "for(file in file.list){\n",
    "\n",
    "    #Load in the file and select only the p-value column\n",
    "    temp.file = read.table(file, sep = \"\\t\") %>%\n",
    "    pull(12) %>%\n",
    "    data.frame()\n",
    "    \n",
    "    #Add the pvalues to the big file\n",
    "    all.data = cbind(all.data, temp.file)\n",
    "}\n",
    "\n",
    "\n"
   ]
  },
  {
   "cell_type": "code",
   "execution_count": 7,
   "metadata": {},
   "outputs": [
    {
     "data": {
      "text/html": [
       "<table class=\"dataframe\">\n",
       "<caption>A data.frame: 6 × 99</caption>\n",
       "<thead>\n",
       "\t<tr><th></th><th scope=col>snp</th><th scope=col>ABHD5</th><th scope=col>ACAN</th><th scope=col>ADCY3</th><th scope=col>BTG1</th><th scope=col>C22orf31</th><th scope=col>C2orf80</th><th scope=col>CAAP1</th><th scope=col>CBFA2T2</th><th scope=col>CCDC102B</th><th scope=col>⋯</th><th scope=col>TUT1</th><th scope=col>TXNRD1</th><th scope=col>UGT2B17</th><th scope=col>VRK1</th><th scope=col>WSB2</th><th scope=col>YTHDF2</th><th scope=col>ZNF236</th><th scope=col>ZNF407</th><th scope=col>ZNF675</th><th scope=col>ZYG11A</th></tr>\n",
       "\t<tr><th></th><th scope=col>&lt;chr&gt;</th><th scope=col>&lt;dbl&gt;</th><th scope=col>&lt;dbl&gt;</th><th scope=col>&lt;dbl&gt;</th><th scope=col>&lt;dbl&gt;</th><th scope=col>&lt;dbl&gt;</th><th scope=col>&lt;dbl&gt;</th><th scope=col>&lt;dbl&gt;</th><th scope=col>&lt;dbl&gt;</th><th scope=col>&lt;dbl&gt;</th><th scope=col>⋯</th><th scope=col>&lt;dbl&gt;</th><th scope=col>&lt;dbl&gt;</th><th scope=col>&lt;dbl&gt;</th><th scope=col>&lt;dbl&gt;</th><th scope=col>&lt;dbl&gt;</th><th scope=col>&lt;dbl&gt;</th><th scope=col>&lt;dbl&gt;</th><th scope=col>&lt;dbl&gt;</th><th scope=col>&lt;dbl&gt;</th><th scope=col>&lt;dbl&gt;</th></tr>\n",
       "</thead>\n",
       "<tbody>\n",
       "\t<tr><th scope=row>1</th><td>chr1:54490:G:A </td><td>0.0652707</td><td>0.8707160</td><td>0.8900570</td><td>0.7757710</td><td>0.0757729</td><td>0.3764640</td><td>0.688243</td><td>0.0634200</td><td>0.2114380</td><td>⋯</td><td>0.721353</td><td>0.53174100</td><td>0.414801</td><td>0.717388</td><td>0.175734</td><td>0.202604</td><td>0.236854</td><td>0.786585</td><td>0.595809</td><td>0.495595</td></tr>\n",
       "\t<tr><th scope=row>2</th><td>chr1:80346:C:G </td><td>0.2447680</td><td>0.0752532</td><td>0.2640520</td><td>0.0281466</td><td>0.6462630</td><td>0.9789040</td><td>0.028520</td><td>0.9025280</td><td>0.0795115</td><td>⋯</td><td>0.221946</td><td>0.38322200</td><td>0.498739</td><td>0.513364</td><td>0.143435</td><td>0.639850</td><td>0.940338</td><td>0.838261</td><td>0.296312</td><td>0.167206</td></tr>\n",
       "\t<tr><th scope=row>3</th><td>chr1:148488:A:G</td><td>0.4776400</td><td>0.3581960</td><td>0.1151710</td><td>0.9714240</td><td>0.3136700</td><td>0.5847060</td><td>0.510924</td><td>0.0986867</td><td>0.0506254</td><td>⋯</td><td>0.443894</td><td>0.00726514</td><td>0.523597</td><td>0.453962</td><td>0.668276</td><td>0.799697</td><td>0.837331</td><td>0.945006</td><td>0.931312</td><td>0.316771</td></tr>\n",
       "\t<tr><th scope=row>4</th><td>chr1:511511:C:A</td><td>0.4967390</td><td>0.3187560</td><td>0.0975982</td><td>0.9797200</td><td>0.3339170</td><td>0.5209980</td><td>0.446258</td><td>0.0918128</td><td>0.0474887</td><td>⋯</td><td>0.479619</td><td>0.02439110</td><td>0.631723</td><td>0.332545</td><td>0.660228</td><td>0.994863</td><td>0.944445</td><td>0.917598</td><td>0.891083</td><td>0.390732</td></tr>\n",
       "\t<tr><th scope=row>5</th><td>chr1:598941:G:A</td><td>0.6873320</td><td>0.9064950</td><td>0.1638670</td><td>0.5144650</td><td>0.0261078</td><td>0.9654060</td><td>0.436682</td><td>0.8156020</td><td>0.4695980</td><td>⋯</td><td>0.888868</td><td>0.44851800</td><td>0.840718</td><td>0.560734</td><td>0.482156</td><td>0.706675</td><td>0.553658</td><td>0.921749</td><td>0.959954</td><td>0.213521</td></tr>\n",
       "\t<tr><th scope=row>6</th><td>chr1:665098:G:A</td><td>0.7081250</td><td>0.9082080</td><td>0.2066630</td><td>0.9878240</td><td>0.3265540</td><td>0.0222034</td><td>0.264381</td><td>0.6311350</td><td>0.9956740</td><td>⋯</td><td>0.710559</td><td>0.02132450</td><td>0.917770</td><td>0.203688</td><td>0.466955</td><td>0.812171</td><td>0.324138</td><td>0.817819</td><td>0.289654</td><td>0.574535</td></tr>\n",
       "</tbody>\n",
       "</table>\n"
      ],
      "text/latex": [
       "A data.frame: 6 × 99\n",
       "\\begin{tabular}{r|lllllllllllllllllllll}\n",
       "  & snp & ABHD5 & ACAN & ADCY3 & BTG1 & C22orf31 & C2orf80 & CAAP1 & CBFA2T2 & CCDC102B & ⋯ & TUT1 & TXNRD1 & UGT2B17 & VRK1 & WSB2 & YTHDF2 & ZNF236 & ZNF407 & ZNF675 & ZYG11A\\\\\n",
       "  & <chr> & <dbl> & <dbl> & <dbl> & <dbl> & <dbl> & <dbl> & <dbl> & <dbl> & <dbl> & ⋯ & <dbl> & <dbl> & <dbl> & <dbl> & <dbl> & <dbl> & <dbl> & <dbl> & <dbl> & <dbl>\\\\\n",
       "\\hline\n",
       "\t1 & chr1:54490:G:A  & 0.0652707 & 0.8707160 & 0.8900570 & 0.7757710 & 0.0757729 & 0.3764640 & 0.688243 & 0.0634200 & 0.2114380 & ⋯ & 0.721353 & 0.53174100 & 0.414801 & 0.717388 & 0.175734 & 0.202604 & 0.236854 & 0.786585 & 0.595809 & 0.495595\\\\\n",
       "\t2 & chr1:80346:C:G  & 0.2447680 & 0.0752532 & 0.2640520 & 0.0281466 & 0.6462630 & 0.9789040 & 0.028520 & 0.9025280 & 0.0795115 & ⋯ & 0.221946 & 0.38322200 & 0.498739 & 0.513364 & 0.143435 & 0.639850 & 0.940338 & 0.838261 & 0.296312 & 0.167206\\\\\n",
       "\t3 & chr1:148488:A:G & 0.4776400 & 0.3581960 & 0.1151710 & 0.9714240 & 0.3136700 & 0.5847060 & 0.510924 & 0.0986867 & 0.0506254 & ⋯ & 0.443894 & 0.00726514 & 0.523597 & 0.453962 & 0.668276 & 0.799697 & 0.837331 & 0.945006 & 0.931312 & 0.316771\\\\\n",
       "\t4 & chr1:511511:C:A & 0.4967390 & 0.3187560 & 0.0975982 & 0.9797200 & 0.3339170 & 0.5209980 & 0.446258 & 0.0918128 & 0.0474887 & ⋯ & 0.479619 & 0.02439110 & 0.631723 & 0.332545 & 0.660228 & 0.994863 & 0.944445 & 0.917598 & 0.891083 & 0.390732\\\\\n",
       "\t5 & chr1:598941:G:A & 0.6873320 & 0.9064950 & 0.1638670 & 0.5144650 & 0.0261078 & 0.9654060 & 0.436682 & 0.8156020 & 0.4695980 & ⋯ & 0.888868 & 0.44851800 & 0.840718 & 0.560734 & 0.482156 & 0.706675 & 0.553658 & 0.921749 & 0.959954 & 0.213521\\\\\n",
       "\t6 & chr1:665098:G:A & 0.7081250 & 0.9082080 & 0.2066630 & 0.9878240 & 0.3265540 & 0.0222034 & 0.264381 & 0.6311350 & 0.9956740 & ⋯ & 0.710559 & 0.02132450 & 0.917770 & 0.203688 & 0.466955 & 0.812171 & 0.324138 & 0.817819 & 0.289654 & 0.574535\\\\\n",
       "\\end{tabular}\n"
      ],
      "text/markdown": [
       "\n",
       "A data.frame: 6 × 99\n",
       "\n",
       "| <!--/--> | snp &lt;chr&gt; | ABHD5 &lt;dbl&gt; | ACAN &lt;dbl&gt; | ADCY3 &lt;dbl&gt; | BTG1 &lt;dbl&gt; | C22orf31 &lt;dbl&gt; | C2orf80 &lt;dbl&gt; | CAAP1 &lt;dbl&gt; | CBFA2T2 &lt;dbl&gt; | CCDC102B &lt;dbl&gt; | ⋯ ⋯ | TUT1 &lt;dbl&gt; | TXNRD1 &lt;dbl&gt; | UGT2B17 &lt;dbl&gt; | VRK1 &lt;dbl&gt; | WSB2 &lt;dbl&gt; | YTHDF2 &lt;dbl&gt; | ZNF236 &lt;dbl&gt; | ZNF407 &lt;dbl&gt; | ZNF675 &lt;dbl&gt; | ZYG11A &lt;dbl&gt; |\n",
       "|---|---|---|---|---|---|---|---|---|---|---|---|---|---|---|---|---|---|---|---|---|---|\n",
       "| 1 | chr1:54490:G:A  | 0.0652707 | 0.8707160 | 0.8900570 | 0.7757710 | 0.0757729 | 0.3764640 | 0.688243 | 0.0634200 | 0.2114380 | ⋯ | 0.721353 | 0.53174100 | 0.414801 | 0.717388 | 0.175734 | 0.202604 | 0.236854 | 0.786585 | 0.595809 | 0.495595 |\n",
       "| 2 | chr1:80346:C:G  | 0.2447680 | 0.0752532 | 0.2640520 | 0.0281466 | 0.6462630 | 0.9789040 | 0.028520 | 0.9025280 | 0.0795115 | ⋯ | 0.221946 | 0.38322200 | 0.498739 | 0.513364 | 0.143435 | 0.639850 | 0.940338 | 0.838261 | 0.296312 | 0.167206 |\n",
       "| 3 | chr1:148488:A:G | 0.4776400 | 0.3581960 | 0.1151710 | 0.9714240 | 0.3136700 | 0.5847060 | 0.510924 | 0.0986867 | 0.0506254 | ⋯ | 0.443894 | 0.00726514 | 0.523597 | 0.453962 | 0.668276 | 0.799697 | 0.837331 | 0.945006 | 0.931312 | 0.316771 |\n",
       "| 4 | chr1:511511:C:A | 0.4967390 | 0.3187560 | 0.0975982 | 0.9797200 | 0.3339170 | 0.5209980 | 0.446258 | 0.0918128 | 0.0474887 | ⋯ | 0.479619 | 0.02439110 | 0.631723 | 0.332545 | 0.660228 | 0.994863 | 0.944445 | 0.917598 | 0.891083 | 0.390732 |\n",
       "| 5 | chr1:598941:G:A | 0.6873320 | 0.9064950 | 0.1638670 | 0.5144650 | 0.0261078 | 0.9654060 | 0.436682 | 0.8156020 | 0.4695980 | ⋯ | 0.888868 | 0.44851800 | 0.840718 | 0.560734 | 0.482156 | 0.706675 | 0.553658 | 0.921749 | 0.959954 | 0.213521 |\n",
       "| 6 | chr1:665098:G:A | 0.7081250 | 0.9082080 | 0.2066630 | 0.9878240 | 0.3265540 | 0.0222034 | 0.264381 | 0.6311350 | 0.9956740 | ⋯ | 0.710559 | 0.02132450 | 0.917770 | 0.203688 | 0.466955 | 0.812171 | 0.324138 | 0.817819 | 0.289654 | 0.574535 |\n",
       "\n"
      ],
      "text/plain": [
       "  snp             ABHD5     ACAN      ADCY3     BTG1      C22orf31  C2orf80  \n",
       "1 chr1:54490:G:A  0.0652707 0.8707160 0.8900570 0.7757710 0.0757729 0.3764640\n",
       "2 chr1:80346:C:G  0.2447680 0.0752532 0.2640520 0.0281466 0.6462630 0.9789040\n",
       "3 chr1:148488:A:G 0.4776400 0.3581960 0.1151710 0.9714240 0.3136700 0.5847060\n",
       "4 chr1:511511:C:A 0.4967390 0.3187560 0.0975982 0.9797200 0.3339170 0.5209980\n",
       "5 chr1:598941:G:A 0.6873320 0.9064950 0.1638670 0.5144650 0.0261078 0.9654060\n",
       "6 chr1:665098:G:A 0.7081250 0.9082080 0.2066630 0.9878240 0.3265540 0.0222034\n",
       "  CAAP1    CBFA2T2   CCDC102B  ⋯ TUT1     TXNRD1     UGT2B17  VRK1     WSB2    \n",
       "1 0.688243 0.0634200 0.2114380 ⋯ 0.721353 0.53174100 0.414801 0.717388 0.175734\n",
       "2 0.028520 0.9025280 0.0795115 ⋯ 0.221946 0.38322200 0.498739 0.513364 0.143435\n",
       "3 0.510924 0.0986867 0.0506254 ⋯ 0.443894 0.00726514 0.523597 0.453962 0.668276\n",
       "4 0.446258 0.0918128 0.0474887 ⋯ 0.479619 0.02439110 0.631723 0.332545 0.660228\n",
       "5 0.436682 0.8156020 0.4695980 ⋯ 0.888868 0.44851800 0.840718 0.560734 0.482156\n",
       "6 0.264381 0.6311350 0.9956740 ⋯ 0.710559 0.02132450 0.917770 0.203688 0.466955\n",
       "  YTHDF2   ZNF236   ZNF407   ZNF675   ZYG11A  \n",
       "1 0.202604 0.236854 0.786585 0.595809 0.495595\n",
       "2 0.639850 0.940338 0.838261 0.296312 0.167206\n",
       "3 0.799697 0.837331 0.945006 0.931312 0.316771\n",
       "4 0.994863 0.944445 0.917598 0.891083 0.390732\n",
       "5 0.706675 0.553658 0.921749 0.959954 0.213521\n",
       "6 0.812171 0.324138 0.817819 0.289654 0.574535"
      ]
     },
     "metadata": {},
     "output_type": "display_data"
    }
   ],
   "source": [
    "#Set the names correctly\n",
    "#First, get a vector of names\n",
    "col.name.vector = gsub(\"output.\", \"\", file.list) %>%\n",
    "gsub(\".glm.linear\", \"\", .) %>%\n",
    "c(\"snp\", .)\n",
    "colnames(all.data) = col.name.vector #Assign the names\n",
    "head(all.data)\n",
    "\n",
    "\n",
    "#Write out the file so that we don't need to re-load and merge everything again\n",
    "setwd(\"/home/jupyter/Ancestry/analysis/locus_specific_gwas_analysis/gwas_output\")\n",
    "write.table(all.data, \"merged.pvals.txt\", sep = \"\\t\", col.names = TRUE, row.names = FALSE, quote = FALSE)"
   ]
  },
  {
   "cell_type": "code",
   "execution_count": 4,
   "metadata": {},
   "outputs": [],
   "source": [
    "#Re-load all.data\n",
    "setwd(\"/home/jupyter/Ancestry/analysis/locus_specific_gwas_analysis/gwas_output\")\n",
    "all.data = read.table(\"merged.pvals.txt\", sep = \"\\t\", header = T)"
   ]
  },
  {
   "cell_type": "code",
   "execution_count": 8,
   "metadata": {},
   "outputs": [
    {
     "data": {
      "text/html": [
       "<table class=\"dataframe\">\n",
       "<caption>A data.frame: 6 × 99</caption>\n",
       "<thead>\n",
       "\t<tr><th></th><th scope=col>snp</th><th scope=col>ABHD5</th><th scope=col>ACAN</th><th scope=col>ADCY3</th><th scope=col>BTG1</th><th scope=col>C22orf31</th><th scope=col>C2orf80</th><th scope=col>CAAP1</th><th scope=col>CBFA2T2</th><th scope=col>CCDC102B</th><th scope=col>⋯</th><th scope=col>TUT1</th><th scope=col>TXNRD1</th><th scope=col>UGT2B17</th><th scope=col>VRK1</th><th scope=col>WSB2</th><th scope=col>YTHDF2</th><th scope=col>ZNF236</th><th scope=col>ZNF407</th><th scope=col>ZNF675</th><th scope=col>ZYG11A</th></tr>\n",
       "\t<tr><th></th><th scope=col>&lt;chr&gt;</th><th scope=col>&lt;dbl&gt;</th><th scope=col>&lt;dbl&gt;</th><th scope=col>&lt;dbl&gt;</th><th scope=col>&lt;dbl&gt;</th><th scope=col>&lt;dbl&gt;</th><th scope=col>&lt;dbl&gt;</th><th scope=col>&lt;dbl&gt;</th><th scope=col>&lt;dbl&gt;</th><th scope=col>&lt;dbl&gt;</th><th scope=col>⋯</th><th scope=col>&lt;dbl&gt;</th><th scope=col>&lt;dbl&gt;</th><th scope=col>&lt;dbl&gt;</th><th scope=col>&lt;dbl&gt;</th><th scope=col>&lt;dbl&gt;</th><th scope=col>&lt;dbl&gt;</th><th scope=col>&lt;dbl&gt;</th><th scope=col>&lt;dbl&gt;</th><th scope=col>&lt;dbl&gt;</th><th scope=col>&lt;dbl&gt;</th></tr>\n",
       "</thead>\n",
       "<tbody>\n",
       "\t<tr><th scope=row>1</th><td>chr1:54490:G:A </td><td>0.9999274</td><td>0.9999927</td><td>0.9999966</td><td>0.9999936</td><td>0.9561429</td><td>0.999999</td><td>0.9994164</td><td>0.9555656</td><td>0.9999909</td><td>⋯</td><td>0.9999949</td><td>0.9988738</td><td>0.9999956</td><td>0.9886106</td><td>0.999999</td><td>0.9940746</td><td>0.9896837</td><td>0.9931634</td><td>0.9982766</td><td>0.9999965</td></tr>\n",
       "\t<tr><th scope=row>2</th><td>chr1:80346:C:G </td><td>0.9999274</td><td>0.9999927</td><td>0.9999966</td><td>0.9999936</td><td>0.9959908</td><td>0.999999</td><td>0.9812526</td><td>0.9994435</td><td>0.9999909</td><td>⋯</td><td>0.9999949</td><td>0.9987351</td><td>0.9999956</td><td>0.9783282</td><td>0.999999</td><td>0.9973960</td><td>0.9993527</td><td>0.9949166</td><td>0.9976309</td><td>0.9999965</td></tr>\n",
       "\t<tr><th scope=row>3</th><td>chr1:148488:A:G</td><td>0.9999274</td><td>0.9999927</td><td>0.9999966</td><td>0.9999936</td><td>0.9833459</td><td>0.999999</td><td>0.9994164</td><td>0.9677767</td><td>0.9999909</td><td>⋯</td><td>0.9999949</td><td>0.9816852</td><td>0.9999956</td><td>0.9740795</td><td>0.999999</td><td>0.9986807</td><td>0.9982434</td><td>0.9984946</td><td>0.9995848</td><td>0.9999965</td></tr>\n",
       "\t<tr><th scope=row>4</th><td>chr1:511511:C:A</td><td>0.9999274</td><td>0.9999927</td><td>0.9999966</td><td>0.9999936</td><td>0.9846677</td><td>0.999999</td><td>0.9994164</td><td>0.9652594</td><td>0.9999909</td><td>⋯</td><td>0.9999949</td><td>0.9987351</td><td>0.9999956</td><td>0.9616654</td><td>0.999999</td><td>0.9998937</td><td>0.9994658</td><td>0.9975993</td><td>0.9994489</td><td>0.9999965</td></tr>\n",
       "\t<tr><th scope=row>5</th><td>chr1:598941:G:A</td><td>0.9999274</td><td>0.9999927</td><td>0.9999966</td><td>0.9999936</td><td>0.9246643</td><td>0.999999</td><td>0.9994164</td><td>0.9985359</td><td>0.9999909</td><td>⋯</td><td>0.9999949</td><td>0.9988408</td><td>0.9999956</td><td>0.9810760</td><td>0.999999</td><td>0.9982661</td><td>0.9964352</td><td>0.9976894</td><td>0.9997273</td><td>0.9999965</td></tr>\n",
       "\t<tr><th scope=row>6</th><td>chr1:665098:G:A</td><td>0.9999274</td><td>0.9999927</td><td>0.9999966</td><td>0.9999936</td><td>0.9841753</td><td>0.999999</td><td>0.9994164</td><td>0.9954424</td><td>0.9999909</td><td>⋯</td><td>0.9999949</td><td>0.9987351</td><td>0.9999956</td><td>0.9421966</td><td>0.999999</td><td>0.9987279</td><td>0.9921584</td><td>0.9943211</td><td>0.9972859</td><td>0.9999965</td></tr>\n",
       "</tbody>\n",
       "</table>\n"
      ],
      "text/latex": [
       "A data.frame: 6 × 99\n",
       "\\begin{tabular}{r|lllllllllllllllllllll}\n",
       "  & snp & ABHD5 & ACAN & ADCY3 & BTG1 & C22orf31 & C2orf80 & CAAP1 & CBFA2T2 & CCDC102B & ⋯ & TUT1 & TXNRD1 & UGT2B17 & VRK1 & WSB2 & YTHDF2 & ZNF236 & ZNF407 & ZNF675 & ZYG11A\\\\\n",
       "  & <chr> & <dbl> & <dbl> & <dbl> & <dbl> & <dbl> & <dbl> & <dbl> & <dbl> & <dbl> & ⋯ & <dbl> & <dbl> & <dbl> & <dbl> & <dbl> & <dbl> & <dbl> & <dbl> & <dbl> & <dbl>\\\\\n",
       "\\hline\n",
       "\t1 & chr1:54490:G:A  & 0.9999274 & 0.9999927 & 0.9999966 & 0.9999936 & 0.9561429 & 0.999999 & 0.9994164 & 0.9555656 & 0.9999909 & ⋯ & 0.9999949 & 0.9988738 & 0.9999956 & 0.9886106 & 0.999999 & 0.9940746 & 0.9896837 & 0.9931634 & 0.9982766 & 0.9999965\\\\\n",
       "\t2 & chr1:80346:C:G  & 0.9999274 & 0.9999927 & 0.9999966 & 0.9999936 & 0.9959908 & 0.999999 & 0.9812526 & 0.9994435 & 0.9999909 & ⋯ & 0.9999949 & 0.9987351 & 0.9999956 & 0.9783282 & 0.999999 & 0.9973960 & 0.9993527 & 0.9949166 & 0.9976309 & 0.9999965\\\\\n",
       "\t3 & chr1:148488:A:G & 0.9999274 & 0.9999927 & 0.9999966 & 0.9999936 & 0.9833459 & 0.999999 & 0.9994164 & 0.9677767 & 0.9999909 & ⋯ & 0.9999949 & 0.9816852 & 0.9999956 & 0.9740795 & 0.999999 & 0.9986807 & 0.9982434 & 0.9984946 & 0.9995848 & 0.9999965\\\\\n",
       "\t4 & chr1:511511:C:A & 0.9999274 & 0.9999927 & 0.9999966 & 0.9999936 & 0.9846677 & 0.999999 & 0.9994164 & 0.9652594 & 0.9999909 & ⋯ & 0.9999949 & 0.9987351 & 0.9999956 & 0.9616654 & 0.999999 & 0.9998937 & 0.9994658 & 0.9975993 & 0.9994489 & 0.9999965\\\\\n",
       "\t5 & chr1:598941:G:A & 0.9999274 & 0.9999927 & 0.9999966 & 0.9999936 & 0.9246643 & 0.999999 & 0.9994164 & 0.9985359 & 0.9999909 & ⋯ & 0.9999949 & 0.9988408 & 0.9999956 & 0.9810760 & 0.999999 & 0.9982661 & 0.9964352 & 0.9976894 & 0.9997273 & 0.9999965\\\\\n",
       "\t6 & chr1:665098:G:A & 0.9999274 & 0.9999927 & 0.9999966 & 0.9999936 & 0.9841753 & 0.999999 & 0.9994164 & 0.9954424 & 0.9999909 & ⋯ & 0.9999949 & 0.9987351 & 0.9999956 & 0.9421966 & 0.999999 & 0.9987279 & 0.9921584 & 0.9943211 & 0.9972859 & 0.9999965\\\\\n",
       "\\end{tabular}\n"
      ],
      "text/markdown": [
       "\n",
       "A data.frame: 6 × 99\n",
       "\n",
       "| <!--/--> | snp &lt;chr&gt; | ABHD5 &lt;dbl&gt; | ACAN &lt;dbl&gt; | ADCY3 &lt;dbl&gt; | BTG1 &lt;dbl&gt; | C22orf31 &lt;dbl&gt; | C2orf80 &lt;dbl&gt; | CAAP1 &lt;dbl&gt; | CBFA2T2 &lt;dbl&gt; | CCDC102B &lt;dbl&gt; | ⋯ ⋯ | TUT1 &lt;dbl&gt; | TXNRD1 &lt;dbl&gt; | UGT2B17 &lt;dbl&gt; | VRK1 &lt;dbl&gt; | WSB2 &lt;dbl&gt; | YTHDF2 &lt;dbl&gt; | ZNF236 &lt;dbl&gt; | ZNF407 &lt;dbl&gt; | ZNF675 &lt;dbl&gt; | ZYG11A &lt;dbl&gt; |\n",
       "|---|---|---|---|---|---|---|---|---|---|---|---|---|---|---|---|---|---|---|---|---|---|\n",
       "| 1 | chr1:54490:G:A  | 0.9999274 | 0.9999927 | 0.9999966 | 0.9999936 | 0.9561429 | 0.999999 | 0.9994164 | 0.9555656 | 0.9999909 | ⋯ | 0.9999949 | 0.9988738 | 0.9999956 | 0.9886106 | 0.999999 | 0.9940746 | 0.9896837 | 0.9931634 | 0.9982766 | 0.9999965 |\n",
       "| 2 | chr1:80346:C:G  | 0.9999274 | 0.9999927 | 0.9999966 | 0.9999936 | 0.9959908 | 0.999999 | 0.9812526 | 0.9994435 | 0.9999909 | ⋯ | 0.9999949 | 0.9987351 | 0.9999956 | 0.9783282 | 0.999999 | 0.9973960 | 0.9993527 | 0.9949166 | 0.9976309 | 0.9999965 |\n",
       "| 3 | chr1:148488:A:G | 0.9999274 | 0.9999927 | 0.9999966 | 0.9999936 | 0.9833459 | 0.999999 | 0.9994164 | 0.9677767 | 0.9999909 | ⋯ | 0.9999949 | 0.9816852 | 0.9999956 | 0.9740795 | 0.999999 | 0.9986807 | 0.9982434 | 0.9984946 | 0.9995848 | 0.9999965 |\n",
       "| 4 | chr1:511511:C:A | 0.9999274 | 0.9999927 | 0.9999966 | 0.9999936 | 0.9846677 | 0.999999 | 0.9994164 | 0.9652594 | 0.9999909 | ⋯ | 0.9999949 | 0.9987351 | 0.9999956 | 0.9616654 | 0.999999 | 0.9998937 | 0.9994658 | 0.9975993 | 0.9994489 | 0.9999965 |\n",
       "| 5 | chr1:598941:G:A | 0.9999274 | 0.9999927 | 0.9999966 | 0.9999936 | 0.9246643 | 0.999999 | 0.9994164 | 0.9985359 | 0.9999909 | ⋯ | 0.9999949 | 0.9988408 | 0.9999956 | 0.9810760 | 0.999999 | 0.9982661 | 0.9964352 | 0.9976894 | 0.9997273 | 0.9999965 |\n",
       "| 6 | chr1:665098:G:A | 0.9999274 | 0.9999927 | 0.9999966 | 0.9999936 | 0.9841753 | 0.999999 | 0.9994164 | 0.9954424 | 0.9999909 | ⋯ | 0.9999949 | 0.9987351 | 0.9999956 | 0.9421966 | 0.999999 | 0.9987279 | 0.9921584 | 0.9943211 | 0.9972859 | 0.9999965 |\n",
       "\n"
      ],
      "text/plain": [
       "  snp             ABHD5     ACAN      ADCY3     BTG1      C22orf31  C2orf80 \n",
       "1 chr1:54490:G:A  0.9999274 0.9999927 0.9999966 0.9999936 0.9561429 0.999999\n",
       "2 chr1:80346:C:G  0.9999274 0.9999927 0.9999966 0.9999936 0.9959908 0.999999\n",
       "3 chr1:148488:A:G 0.9999274 0.9999927 0.9999966 0.9999936 0.9833459 0.999999\n",
       "4 chr1:511511:C:A 0.9999274 0.9999927 0.9999966 0.9999936 0.9846677 0.999999\n",
       "5 chr1:598941:G:A 0.9999274 0.9999927 0.9999966 0.9999936 0.9246643 0.999999\n",
       "6 chr1:665098:G:A 0.9999274 0.9999927 0.9999966 0.9999936 0.9841753 0.999999\n",
       "  CAAP1     CBFA2T2   CCDC102B  ⋯ TUT1      TXNRD1    UGT2B17   VRK1     \n",
       "1 0.9994164 0.9555656 0.9999909 ⋯ 0.9999949 0.9988738 0.9999956 0.9886106\n",
       "2 0.9812526 0.9994435 0.9999909 ⋯ 0.9999949 0.9987351 0.9999956 0.9783282\n",
       "3 0.9994164 0.9677767 0.9999909 ⋯ 0.9999949 0.9816852 0.9999956 0.9740795\n",
       "4 0.9994164 0.9652594 0.9999909 ⋯ 0.9999949 0.9987351 0.9999956 0.9616654\n",
       "5 0.9994164 0.9985359 0.9999909 ⋯ 0.9999949 0.9988408 0.9999956 0.9810760\n",
       "6 0.9994164 0.9954424 0.9999909 ⋯ 0.9999949 0.9987351 0.9999956 0.9421966\n",
       "  WSB2     YTHDF2    ZNF236    ZNF407    ZNF675    ZYG11A   \n",
       "1 0.999999 0.9940746 0.9896837 0.9931634 0.9982766 0.9999965\n",
       "2 0.999999 0.9973960 0.9993527 0.9949166 0.9976309 0.9999965\n",
       "3 0.999999 0.9986807 0.9982434 0.9984946 0.9995848 0.9999965\n",
       "4 0.999999 0.9998937 0.9994658 0.9975993 0.9994489 0.9999965\n",
       "5 0.999999 0.9982661 0.9964352 0.9976894 0.9997273 0.9999965\n",
       "6 0.999999 0.9987279 0.9921584 0.9943211 0.9972859 0.9999965"
      ]
     },
     "metadata": {},
     "output_type": "display_data"
    }
   ],
   "source": [
    "#FDR correct everything\n",
    "all.data.fdr = all.data %>%\n",
    "select(-snp) %>%\n",
    "apply(2, function(x){ p.adjust(x, method = \"BH\", n = length(x)) }) %>%\n",
    "data.frame() %>%\n",
    "mutate(\"snp\" = all.data$snp, .before = 1)\n",
    "\n",
    "head(all.data.fdr)\n",
    "\n",
    "#Write the FDR data so that we don't need to do all of those calculations again.\n",
    "setwd(\"/home/jupyter/Ancestry/analysis/locus_specific_gwas_analysis/gwas_output\")\n",
    "write.table(all.data.fdr, \"merged.fdr.txt\", sep = \"\\t\", col.names = TRUE, row.names = FALSE, quote = FALSE)"
   ]
  },
  {
   "cell_type": "code",
   "execution_count": 20,
   "metadata": {},
   "outputs": [],
   "source": [
    "#Write the FDR data so that we don't need to do all of those calculations again.\n",
    "setwd(\"/home/jupyter/Ancestry/analysis/locus_specific_gwas_analysis/gwas_output\")\n",
    "write.table(all.data.fdr, \"merged.fdr.txt\", sep = \"\\t\", col.names = TRUE, row.names = FALSE, quote = FALSE)"
   ]
  },
  {
   "cell_type": "code",
   "execution_count": null,
   "metadata": {},
   "outputs": [],
   "source": [
    "#Read it back in\n",
    "setwd(\"/home/jupyter/Ancestry/analysis/locus_specific_gwas_analysis/gwas_output\")\n",
    "all.data.fdr = read.table(\"merged.fdr.txt\", sep = \"\\t\", header = T)"
   ]
  },
  {
   "cell_type": "markdown",
   "metadata": {},
   "source": [
    "# Get the TSS for all of the ancestry-associated genes. "
   ]
  },
  {
   "cell_type": "markdown",
   "metadata": {},
   "source": [
    "Fortunately, I think that we have already written most of this code. I just need to grab it from the analysis where I calculated the ancestry locus-specific dependencies."
   ]
  },
  {
   "cell_type": "code",
   "execution_count": 5,
   "metadata": {},
   "outputs": [
    {
     "data": {
      "text/html": [
       "<table class=\"dataframe\">\n",
       "<caption>A data.frame: 6 × 4</caption>\n",
       "<thead>\n",
       "\t<tr><th></th><th scope=col>chr</th><th scope=col>position</th><th scope=col>strand</th><th scope=col>gene</th></tr>\n",
       "\t<tr><th></th><th scope=col>&lt;chr&gt;</th><th scope=col>&lt;int&gt;</th><th scope=col>&lt;chr&gt;</th><th scope=col>&lt;chr&gt;</th></tr>\n",
       "</thead>\n",
       "<tbody>\n",
       "\t<tr><th scope=row>1</th><td>chr2 </td><td> 24920237</td><td>-</td><td>ADCY3  </td></tr>\n",
       "\t<tr><th scope=row>2</th><td>chr9 </td><td> 27109141</td><td>+</td><td>TEK    </td></tr>\n",
       "\t<tr><th scope=row>3</th><td>chr1 </td><td> 25272486</td><td>+</td><td>RHD    </td></tr>\n",
       "\t<tr><th scope=row>4</th><td>chr16</td><td> 24845963</td><td>+</td><td>SLC5A11</td></tr>\n",
       "\t<tr><th scope=row>5</th><td>chr8 </td><td>103500610</td><td>+</td><td>RIMS2  </td></tr>\n",
       "\t<tr><th scope=row>6</th><td>chr22</td><td> 39319623</td><td>-</td><td>RPL3   </td></tr>\n",
       "</tbody>\n",
       "</table>\n"
      ],
      "text/latex": [
       "A data.frame: 6 × 4\n",
       "\\begin{tabular}{r|llll}\n",
       "  & chr & position & strand & gene\\\\\n",
       "  & <chr> & <int> & <chr> & <chr>\\\\\n",
       "\\hline\n",
       "\t1 & chr2  &  24920237 & - & ADCY3  \\\\\n",
       "\t2 & chr9  &  27109141 & + & TEK    \\\\\n",
       "\t3 & chr1  &  25272486 & + & RHD    \\\\\n",
       "\t4 & chr16 &  24845963 & + & SLC5A11\\\\\n",
       "\t5 & chr8  & 103500610 & + & RIMS2  \\\\\n",
       "\t6 & chr22 &  39319623 & - & RPL3   \\\\\n",
       "\\end{tabular}\n"
      ],
      "text/markdown": [
       "\n",
       "A data.frame: 6 × 4\n",
       "\n",
       "| <!--/--> | chr &lt;chr&gt; | position &lt;int&gt; | strand &lt;chr&gt; | gene &lt;chr&gt; |\n",
       "|---|---|---|---|---|\n",
       "| 1 | chr2  |  24920237 | - | ADCY3   |\n",
       "| 2 | chr9  |  27109141 | + | TEK     |\n",
       "| 3 | chr1  |  25272486 | + | RHD     |\n",
       "| 4 | chr16 |  24845963 | + | SLC5A11 |\n",
       "| 5 | chr8  | 103500610 | + | RIMS2   |\n",
       "| 6 | chr22 |  39319623 | - | RPL3    |\n",
       "\n"
      ],
      "text/plain": [
       "  chr   position  strand gene   \n",
       "1 chr2   24920237 -      ADCY3  \n",
       "2 chr9   27109141 +      TEK    \n",
       "3 chr1   25272486 +      RHD    \n",
       "4 chr16  24845963 +      SLC5A11\n",
       "5 chr8  103500610 +      RIMS2  \n",
       "6 chr22  39319623 -      RPL3   "
      ]
     },
     "metadata": {},
     "output_type": "display_data"
    },
    {
     "data": {
      "text/html": [
       "<style>\n",
       ".list-inline {list-style: none; margin:0; padding: 0}\n",
       ".list-inline>li {display: inline-block}\n",
       ".list-inline>li:not(:last-child)::after {content: \"\\00b7\"; padding: 0 .5ex}\n",
       "</style>\n",
       "<ol class=list-inline><li>98</li><li>4</li></ol>\n"
      ],
      "text/latex": [
       "\\begin{enumerate*}\n",
       "\\item 98\n",
       "\\item 4\n",
       "\\end{enumerate*}\n"
      ],
      "text/markdown": [
       "1. 98\n",
       "2. 4\n",
       "\n",
       "\n"
      ],
      "text/plain": [
       "[1] 98  4"
      ]
     },
     "metadata": {},
     "output_type": "display_data"
    }
   ],
   "source": [
    "#Find the TSS for all of the ancestry-associated genes.\n",
    "setwd(\"/home/jupyter/Ancestry/analysis/locus_specific_gwas_analysis\")\n",
    "refgene = read.table(\"hg38.refGene.gtf\", header = F, sep = \"\\t\") %>%\n",
    "select(V1, V3, V4, V5, 7, V9) %>%\n",
    "rename(\"chr\" = V1, \"type\" = V3, \"start\" = V4, \"end\" = V5, \"strand\" = V7, \"gene\" = V9) %>%\n",
    "filter(type %in% \"transcript\") %>%\n",
    "mutate(\"position\" = ifelse(strand %in% \"+\", start, end)) %>%\n",
    "mutate(gene = gsub(\";..*\", \"\", gene)) %>%\n",
    "mutate(gene = gsub(\"gene_id \", \"\", gene)) %>%\n",
    "select(chr, position, strand, gene) %>%\n",
    "filter(gene %in% ancestry.associated.genes) %>%\n",
    "distinct(gene, .keep_all = TRUE)\n",
    "\n",
    "head(refgene)\n",
    "dim(refgene)"
   ]
  },
  {
   "cell_type": "markdown",
   "metadata": {},
   "source": [
    "# Find the most significant SNP for all of the ancestry associated genes"
   ]
  },
  {
   "cell_type": "code",
   "execution_count": null,
   "metadata": {},
   "outputs": [],
   "source": [
    "#Assemble a dataframe that has the gene, lowest fdr, and the corresponding SNP\n",
    "top.snp = all.data.fdr %>%\n",
    "select(-snp) %>%\n",
    "apply(2, function(x){\n",
    "    \n",
    "    #Get the index of the smallest fdr\n",
    "    min.index = which.min(x)\n",
    "    \n",
    "    #Then get the SNP with that pval\n",
    "    min.snp = all.data.fdr$snp[min.index]\n",
    "    \n",
    "    #Then get the SNP with the smallest fdr\n",
    "    min.fdr = min(x)\n",
    "    \n",
    "    #paste them together and return it outside of the vector\n",
    "    c(min.snp, min.fdr) %>% return()\n",
    "\n",
    "}) %>%\n",
    "data.frame() %>%\n",
    "t() %>%\n",
    "data.frame() %>%\n",
    "rename(\"snp\" = 1, \"fdr\" = 2) %>%\n",
    "mutate(\"gene\" = colnames(all.data.fdr[-1]), .before = 1) %>%\n",
    "mutate(fdr = as.numeric(fdr)) %>%\n",
    "arrange(fdr)\n",
    "\n",
    "#inspect the output\n",
    "head(top.snp)\n",
    "tail(top.snp)\n",
    "\n",
    "#Write it, so that if I do need to go back and re-make this figure, I don't need to do a whole bunch of caluclations\n",
    "setwd(\"/home/jupyter/Ancestry/analysis/locus_specific_gwas_analysis\")\n",
    "write.table(top.snp, \"top.snp.fdr.txt\", sep = \"\\t\", col.names = TRUE, row.names = FALSE, quote = FALSE)"
   ]
  },
  {
   "cell_type": "code",
   "execution_count": 2,
   "metadata": {},
   "outputs": [
    {
     "data": {
      "text/html": [
       "<table class=\"dataframe\">\n",
       "<caption>A data.frame: 6 × 3</caption>\n",
       "<thead>\n",
       "\t<tr><th></th><th scope=col>gene</th><th scope=col>snp</th><th scope=col>fdr</th></tr>\n",
       "\t<tr><th></th><th scope=col>&lt;chr&gt;</th><th scope=col>&lt;chr&gt;</th><th scope=col>&lt;dbl&gt;</th></tr>\n",
       "</thead>\n",
       "<tbody>\n",
       "\t<tr><th scope=row>1</th><td>TUT1  </td><td>chr11:62578659:C:T</td><td>7.962065e-39</td></tr>\n",
       "\t<tr><th scope=row>2</th><td>ECD   </td><td>chr10:73094386:A:G</td><td>7.230154e-36</td></tr>\n",
       "\t<tr><th scope=row>3</th><td>MRTO4 </td><td>chr1:19252818:GT:G</td><td>1.689572e-34</td></tr>\n",
       "\t<tr><th scope=row>4</th><td>RPS5  </td><td>chr19:58365001:A:G</td><td>4.034371e-31</td></tr>\n",
       "\t<tr><th scope=row>5</th><td>RESP18</td><td>chr2:219320135:G:A</td><td>3.977248e-28</td></tr>\n",
       "\t<tr><th scope=row>6</th><td>SRP14 </td><td>chr15:40035497:C:G</td><td>1.121033e-27</td></tr>\n",
       "</tbody>\n",
       "</table>\n"
      ],
      "text/latex": [
       "A data.frame: 6 × 3\n",
       "\\begin{tabular}{r|lll}\n",
       "  & gene & snp & fdr\\\\\n",
       "  & <chr> & <chr> & <dbl>\\\\\n",
       "\\hline\n",
       "\t1 & TUT1   & chr11:62578659:C:T & 7.962065e-39\\\\\n",
       "\t2 & ECD    & chr10:73094386:A:G & 7.230154e-36\\\\\n",
       "\t3 & MRTO4  & chr1:19252818:GT:G & 1.689572e-34\\\\\n",
       "\t4 & RPS5   & chr19:58365001:A:G & 4.034371e-31\\\\\n",
       "\t5 & RESP18 & chr2:219320135:G:A & 3.977248e-28\\\\\n",
       "\t6 & SRP14  & chr15:40035497:C:G & 1.121033e-27\\\\\n",
       "\\end{tabular}\n"
      ],
      "text/markdown": [
       "\n",
       "A data.frame: 6 × 3\n",
       "\n",
       "| <!--/--> | gene &lt;chr&gt; | snp &lt;chr&gt; | fdr &lt;dbl&gt; |\n",
       "|---|---|---|---|\n",
       "| 1 | TUT1   | chr11:62578659:C:T | 7.962065e-39 |\n",
       "| 2 | ECD    | chr10:73094386:A:G | 7.230154e-36 |\n",
       "| 3 | MRTO4  | chr1:19252818:GT:G | 1.689572e-34 |\n",
       "| 4 | RPS5   | chr19:58365001:A:G | 4.034371e-31 |\n",
       "| 5 | RESP18 | chr2:219320135:G:A | 3.977248e-28 |\n",
       "| 6 | SRP14  | chr15:40035497:C:G | 1.121033e-27 |\n",
       "\n"
      ],
      "text/plain": [
       "  gene   snp                fdr         \n",
       "1 TUT1   chr11:62578659:C:T 7.962065e-39\n",
       "2 ECD    chr10:73094386:A:G 7.230154e-36\n",
       "3 MRTO4  chr1:19252818:GT:G 1.689572e-34\n",
       "4 RPS5   chr19:58365001:A:G 4.034371e-31\n",
       "5 RESP18 chr2:219320135:G:A 3.977248e-28\n",
       "6 SRP14  chr15:40035497:C:G 1.121033e-27"
      ]
     },
     "metadata": {},
     "output_type": "display_data"
    }
   ],
   "source": [
    "#Re-load the data\n",
    "setwd(\"/home/jupyter/Ancestry/analysis/locus_specific_gwas_analysis\")\n",
    "top.snp = read.table(\"top.snp.fdr.txt\", sep = \"\\t\", header = T)\n",
    "\n",
    "head(top.snp)"
   ]
  },
  {
   "cell_type": "markdown",
   "metadata": {},
   "source": [
    "# Add in the SNP TSS to the data frame"
   ]
  },
  {
   "cell_type": "code",
   "execution_count": 8,
   "metadata": {},
   "outputs": [
    {
     "data": {
      "text/html": [
       "<table class=\"dataframe\">\n",
       "<caption>A data.frame: 6 × 11</caption>\n",
       "<thead>\n",
       "\t<tr><th></th><th scope=col>gene</th><th scope=col>snp_chr</th><th scope=col>snp_pos</th><th scope=col>snp_ref</th><th scope=col>snp_alt</th><th scope=col>fdr</th><th scope=col>tss_chr</th><th scope=col>tss_pos</th><th scope=col>strand</th><th scope=col>cis_or_trans</th><th scope=col>position_difference</th></tr>\n",
       "\t<tr><th></th><th scope=col>&lt;chr&gt;</th><th scope=col>&lt;chr&gt;</th><th scope=col>&lt;dbl&gt;</th><th scope=col>&lt;chr&gt;</th><th scope=col>&lt;chr&gt;</th><th scope=col>&lt;dbl&gt;</th><th scope=col>&lt;chr&gt;</th><th scope=col>&lt;int&gt;</th><th scope=col>&lt;chr&gt;</th><th scope=col>&lt;chr&gt;</th><th scope=col>&lt;dbl&gt;</th></tr>\n",
       "</thead>\n",
       "<tbody>\n",
       "\t<tr><th scope=row>1</th><td>TUT1  </td><td>chr11</td><td> 62578659</td><td>C </td><td>T</td><td>7.962065e-39</td><td>chr11</td><td> 62591523</td><td>-</td><td>cis</td><td> 12864</td></tr>\n",
       "\t<tr><th scope=row>2</th><td>ECD   </td><td>chr10</td><td> 73094386</td><td>A </td><td>G</td><td>7.230154e-36</td><td>chr10</td><td> 73168095</td><td>-</td><td>cis</td><td> 73709</td></tr>\n",
       "\t<tr><th scope=row>3</th><td>MRTO4 </td><td>chr1 </td><td> 19252818</td><td>GT</td><td>G</td><td>1.689572e-34</td><td>chr1 </td><td> 19251805</td><td>+</td><td>cis</td><td>  1013</td></tr>\n",
       "\t<tr><th scope=row>4</th><td>RPS5  </td><td>chr19</td><td> 58365001</td><td>A </td><td>G</td><td>4.034371e-31</td><td>chr19</td><td> 58387269</td><td>+</td><td>cis</td><td>-22268</td></tr>\n",
       "\t<tr><th scope=row>5</th><td>RESP18</td><td>chr2 </td><td>219320135</td><td>G </td><td>A</td><td>3.977248e-28</td><td>chr2 </td><td>219333177</td><td>-</td><td>cis</td><td> 13042</td></tr>\n",
       "\t<tr><th scope=row>6</th><td>SRP14 </td><td>chr15</td><td> 40035497</td><td>C </td><td>G</td><td>1.121033e-27</td><td>chr15</td><td> 40039181</td><td>-</td><td>cis</td><td>  3684</td></tr>\n",
       "</tbody>\n",
       "</table>\n"
      ],
      "text/latex": [
       "A data.frame: 6 × 11\n",
       "\\begin{tabular}{r|lllllllllll}\n",
       "  & gene & snp\\_chr & snp\\_pos & snp\\_ref & snp\\_alt & fdr & tss\\_chr & tss\\_pos & strand & cis\\_or\\_trans & position\\_difference\\\\\n",
       "  & <chr> & <chr> & <dbl> & <chr> & <chr> & <dbl> & <chr> & <int> & <chr> & <chr> & <dbl>\\\\\n",
       "\\hline\n",
       "\t1 & TUT1   & chr11 &  62578659 & C  & T & 7.962065e-39 & chr11 &  62591523 & - & cis &  12864\\\\\n",
       "\t2 & ECD    & chr10 &  73094386 & A  & G & 7.230154e-36 & chr10 &  73168095 & - & cis &  73709\\\\\n",
       "\t3 & MRTO4  & chr1  &  19252818 & GT & G & 1.689572e-34 & chr1  &  19251805 & + & cis &   1013\\\\\n",
       "\t4 & RPS5   & chr19 &  58365001 & A  & G & 4.034371e-31 & chr19 &  58387269 & + & cis & -22268\\\\\n",
       "\t5 & RESP18 & chr2  & 219320135 & G  & A & 3.977248e-28 & chr2  & 219333177 & - & cis &  13042\\\\\n",
       "\t6 & SRP14  & chr15 &  40035497 & C  & G & 1.121033e-27 & chr15 &  40039181 & - & cis &   3684\\\\\n",
       "\\end{tabular}\n"
      ],
      "text/markdown": [
       "\n",
       "A data.frame: 6 × 11\n",
       "\n",
       "| <!--/--> | gene &lt;chr&gt; | snp_chr &lt;chr&gt; | snp_pos &lt;dbl&gt; | snp_ref &lt;chr&gt; | snp_alt &lt;chr&gt; | fdr &lt;dbl&gt; | tss_chr &lt;chr&gt; | tss_pos &lt;int&gt; | strand &lt;chr&gt; | cis_or_trans &lt;chr&gt; | position_difference &lt;dbl&gt; |\n",
       "|---|---|---|---|---|---|---|---|---|---|---|---|\n",
       "| 1 | TUT1   | chr11 |  62578659 | C  | T | 7.962065e-39 | chr11 |  62591523 | - | cis |  12864 |\n",
       "| 2 | ECD    | chr10 |  73094386 | A  | G | 7.230154e-36 | chr10 |  73168095 | - | cis |  73709 |\n",
       "| 3 | MRTO4  | chr1  |  19252818 | GT | G | 1.689572e-34 | chr1  |  19251805 | + | cis |   1013 |\n",
       "| 4 | RPS5   | chr19 |  58365001 | A  | G | 4.034371e-31 | chr19 |  58387269 | + | cis | -22268 |\n",
       "| 5 | RESP18 | chr2  | 219320135 | G  | A | 3.977248e-28 | chr2  | 219333177 | - | cis |  13042 |\n",
       "| 6 | SRP14  | chr15 |  40035497 | C  | G | 1.121033e-27 | chr15 |  40039181 | - | cis |   3684 |\n",
       "\n"
      ],
      "text/plain": [
       "  gene   snp_chr snp_pos   snp_ref snp_alt fdr          tss_chr tss_pos  \n",
       "1 TUT1   chr11    62578659 C       T       7.962065e-39 chr11    62591523\n",
       "2 ECD    chr10    73094386 A       G       7.230154e-36 chr10    73168095\n",
       "3 MRTO4  chr1     19252818 GT      G       1.689572e-34 chr1     19251805\n",
       "4 RPS5   chr19    58365001 A       G       4.034371e-31 chr19    58387269\n",
       "5 RESP18 chr2    219320135 G       A       3.977248e-28 chr2    219333177\n",
       "6 SRP14  chr15    40035497 C       G       1.121033e-27 chr15    40039181\n",
       "  strand cis_or_trans position_difference\n",
       "1 -      cis           12864             \n",
       "2 -      cis           73709             \n",
       "3 +      cis            1013             \n",
       "4 +      cis          -22268             \n",
       "5 -      cis           13042             \n",
       "6 -      cis            3684             "
      ]
     },
     "metadata": {},
     "output_type": "display_data"
    },
    {
     "data": {
      "text/html": [
       "<style>\n",
       ".list-inline {list-style: none; margin:0; padding: 0}\n",
       ".list-inline>li {display: inline-block}\n",
       ".list-inline>li:not(:last-child)::after {content: \"\\00b7\"; padding: 0 .5ex}\n",
       "</style>\n",
       "<ol class=list-inline><li>98</li><li>11</li></ol>\n"
      ],
      "text/latex": [
       "\\begin{enumerate*}\n",
       "\\item 98\n",
       "\\item 11\n",
       "\\end{enumerate*}\n"
      ],
      "text/markdown": [
       "1. 98\n",
       "2. 11\n",
       "\n",
       "\n"
      ],
      "text/plain": [
       "[1] 98 11"
      ]
     },
     "metadata": {},
     "output_type": "display_data"
    },
    {
     "data": {
      "text/html": [
       "<table class=\"dataframe\">\n",
       "<caption>A data.frame: 6 × 11</caption>\n",
       "<thead>\n",
       "\t<tr><th></th><th scope=col>gene</th><th scope=col>snp_chr</th><th scope=col>snp_pos</th><th scope=col>snp_ref</th><th scope=col>snp_alt</th><th scope=col>fdr</th><th scope=col>tss_chr</th><th scope=col>tss_pos</th><th scope=col>strand</th><th scope=col>cis_or_trans</th><th scope=col>position_difference</th></tr>\n",
       "\t<tr><th></th><th scope=col>&lt;chr&gt;</th><th scope=col>&lt;chr&gt;</th><th scope=col>&lt;dbl&gt;</th><th scope=col>&lt;chr&gt;</th><th scope=col>&lt;chr&gt;</th><th scope=col>&lt;dbl&gt;</th><th scope=col>&lt;chr&gt;</th><th scope=col>&lt;int&gt;</th><th scope=col>&lt;chr&gt;</th><th scope=col>&lt;chr&gt;</th><th scope=col>&lt;dbl&gt;</th></tr>\n",
       "</thead>\n",
       "<tbody>\n",
       "\t<tr><th scope=row>93</th><td>MATR3 </td><td>chr12</td><td>82025517</td><td>A    </td><td>C </td><td>0.6472920</td><td>chr5 </td><td>139293750</td><td>+</td><td>trans</td><td>1e+06</td></tr>\n",
       "\t<tr><th scope=row>94</th><td>TXNRD1</td><td>chr14</td><td>43926123</td><td>GTCTT</td><td>G </td><td>0.6722183</td><td>chr12</td><td>104287032</td><td>+</td><td>trans</td><td>1e+06</td></tr>\n",
       "\t<tr><th scope=row>95</th><td>SNAP23</td><td>chr1 </td><td>  914838</td><td>T    </td><td>A </td><td>0.7343892</td><td>chr15</td><td> 42495306</td><td>+</td><td>trans</td><td>1e+06</td></tr>\n",
       "\t<tr><th scope=row>96</th><td>IFNA10</td><td>chr2 </td><td>72951351</td><td>C    </td><td>A </td><td>0.7628205</td><td>chr9 </td><td> 21207143</td><td>-</td><td>trans</td><td>1e+06</td></tr>\n",
       "\t<tr><th scope=row>97</th><td>DCN   </td><td>chr1 </td><td> 3790892</td><td>G    </td><td>GC</td><td>0.7695058</td><td>chr12</td><td> 91178646</td><td>-</td><td>trans</td><td>1e+06</td></tr>\n",
       "\t<tr><th scope=row>98</th><td>RTP5  </td><td>chr3 </td><td>35490939</td><td>G    </td><td>A </td><td>0.8344473</td><td>chr2 </td><td>241869729</td><td>+</td><td>trans</td><td>1e+06</td></tr>\n",
       "</tbody>\n",
       "</table>\n"
      ],
      "text/latex": [
       "A data.frame: 6 × 11\n",
       "\\begin{tabular}{r|lllllllllll}\n",
       "  & gene & snp\\_chr & snp\\_pos & snp\\_ref & snp\\_alt & fdr & tss\\_chr & tss\\_pos & strand & cis\\_or\\_trans & position\\_difference\\\\\n",
       "  & <chr> & <chr> & <dbl> & <chr> & <chr> & <dbl> & <chr> & <int> & <chr> & <chr> & <dbl>\\\\\n",
       "\\hline\n",
       "\t93 & MATR3  & chr12 & 82025517 & A     & C  & 0.6472920 & chr5  & 139293750 & + & trans & 1e+06\\\\\n",
       "\t94 & TXNRD1 & chr14 & 43926123 & GTCTT & G  & 0.6722183 & chr12 & 104287032 & + & trans & 1e+06\\\\\n",
       "\t95 & SNAP23 & chr1  &   914838 & T     & A  & 0.7343892 & chr15 &  42495306 & + & trans & 1e+06\\\\\n",
       "\t96 & IFNA10 & chr2  & 72951351 & C     & A  & 0.7628205 & chr9  &  21207143 & - & trans & 1e+06\\\\\n",
       "\t97 & DCN    & chr1  &  3790892 & G     & GC & 0.7695058 & chr12 &  91178646 & - & trans & 1e+06\\\\\n",
       "\t98 & RTP5   & chr3  & 35490939 & G     & A  & 0.8344473 & chr2  & 241869729 & + & trans & 1e+06\\\\\n",
       "\\end{tabular}\n"
      ],
      "text/markdown": [
       "\n",
       "A data.frame: 6 × 11\n",
       "\n",
       "| <!--/--> | gene &lt;chr&gt; | snp_chr &lt;chr&gt; | snp_pos &lt;dbl&gt; | snp_ref &lt;chr&gt; | snp_alt &lt;chr&gt; | fdr &lt;dbl&gt; | tss_chr &lt;chr&gt; | tss_pos &lt;int&gt; | strand &lt;chr&gt; | cis_or_trans &lt;chr&gt; | position_difference &lt;dbl&gt; |\n",
       "|---|---|---|---|---|---|---|---|---|---|---|---|\n",
       "| 93 | MATR3  | chr12 | 82025517 | A     | C  | 0.6472920 | chr5  | 139293750 | + | trans | 1e+06 |\n",
       "| 94 | TXNRD1 | chr14 | 43926123 | GTCTT | G  | 0.6722183 | chr12 | 104287032 | + | trans | 1e+06 |\n",
       "| 95 | SNAP23 | chr1  |   914838 | T     | A  | 0.7343892 | chr15 |  42495306 | + | trans | 1e+06 |\n",
       "| 96 | IFNA10 | chr2  | 72951351 | C     | A  | 0.7628205 | chr9  |  21207143 | - | trans | 1e+06 |\n",
       "| 97 | DCN    | chr1  |  3790892 | G     | GC | 0.7695058 | chr12 |  91178646 | - | trans | 1e+06 |\n",
       "| 98 | RTP5   | chr3  | 35490939 | G     | A  | 0.8344473 | chr2  | 241869729 | + | trans | 1e+06 |\n",
       "\n"
      ],
      "text/plain": [
       "   gene   snp_chr snp_pos  snp_ref snp_alt fdr       tss_chr tss_pos   strand\n",
       "93 MATR3  chr12   82025517 A       C       0.6472920 chr5    139293750 +     \n",
       "94 TXNRD1 chr14   43926123 GTCTT   G       0.6722183 chr12   104287032 +     \n",
       "95 SNAP23 chr1      914838 T       A       0.7343892 chr15    42495306 +     \n",
       "96 IFNA10 chr2    72951351 C       A       0.7628205 chr9     21207143 -     \n",
       "97 DCN    chr1     3790892 G       GC      0.7695058 chr12    91178646 -     \n",
       "98 RTP5   chr3    35490939 G       A       0.8344473 chr2    241869729 +     \n",
       "   cis_or_trans position_difference\n",
       "93 trans        1e+06              \n",
       "94 trans        1e+06              \n",
       "95 trans        1e+06              \n",
       "96 trans        1e+06              \n",
       "97 trans        1e+06              \n",
       "98 trans        1e+06              "
      ]
     },
     "metadata": {},
     "output_type": "display_data"
    }
   ],
   "source": [
    "final.assembled.df = top.snp %>%\n",
    "inner_join(refgene, by = \"gene\") %>%\n",
    "separate(col = snp, into = c(\"snp_chr\", \"snp_pos\", \"snp_ref\", \"snp_alt\"), sep = \":\") %>%\n",
    "rename(\"tss_chr\" = chr) %>%\n",
    "rename(\"tss_pos\" = position) %>%\n",
    "mutate(snp_pos = as.numeric(snp_pos)) %>%\n",
    "mutate(cis_or_trans = ifelse(snp_chr == tss_chr, \"cis\", \"trans\")) %>% #If the SNP chromosome is not the same as the gene chromosome, call it trans\n",
    "mutate(cis_or_trans = ifelse(abs(snp_pos-tss_pos) > 1000000, \"trans\", \"cis\")) %>% #Revise the previous statement. If the SNP is over 1,000,000 bp from the TSS, also call it trans\n",
    "mutate(position_difference = ifelse(strand %in% \"+\", snp_pos - tss_pos, tss_pos - snp_pos)) %>% #calculate the position difference between the SNP and the TSS\n",
    "mutate(position_difference = ifelse(cis_or_trans == \"trans\", 1000000, position_difference)) #Set the position difference to be equal to 1,000,000 if it is a trans assoication\n",
    "\n",
    "head(final.assembled.df)\n",
    "dim(final.assembled.df)\n",
    "tail(final.assembled.df)"
   ]
  },
  {
   "cell_type": "code",
   "execution_count": 7,
   "metadata": {},
   "outputs": [
    {
     "data": {
      "image/png": "[encoded data removed]",
      "text/plain": [
       "plot without title"
      ]
     },
     "metadata": {
      "image/png": {
       "height": 420,
       "width": 420
      }
     },
     "output_type": "display_data"
    }
   ],
   "source": [
    "#Plot the plot \n",
    "final.assembled.df %>%\n",
    "ggplot() +\n",
    "geom_point(aes(x = position_difference, y = -log10(fdr))) +\n",
    "facet_grid(1~cis_or_trans, scales='free_x') +\n",
    "geom_vline(xintercept = 0, linetype = \"dashed\", color = \"red\", size = 1) +\n",
    "\n",
    "\n",
    "theme_bw() +\n",
    "\n",
    "\n",
    "theme(\n",
    "axis.text.x = element_text(angle = 90, vjust = 0.5, hjust=1)\n",
    ") +\n",
    "\n",
    "theme(\n",
    "panel.border = element_blank(), \n",
    "panel.grid.major = element_blank(),\n",
    "panel.grid.minor = element_blank(), \n",
    "axis.line = element_line(color = \"black\")\n",
    ") +\n",
    "\n",
    "theme(\n",
    "axis.text=element_text(size = 14, face = \"bold\"),\n",
    ") +\n",
    "\n",
    "theme(\n",
    "legend.title = element_text(size = 14, face = \"bold\"),\n",
    "legend.text = element_text(size = 10, face = \"bold\")\n",
    ") +\n",
    "\n",
    "theme(\n",
    "axis.text.x = element_text(size = 8),\n",
    ") +\n",
    "\n",
    "theme(\n",
    "  strip.background = element_blank(),\n",
    "  strip.text.x = element_blank()\n",
    ") +\n",
    "\n",
    "\n",
    "xlab(\"Position relative to TSS\") +\n",
    "ylab(\"FDR\") \n",
    "\n",
    "#Export it to the google bucket\n",
    "setwd(\"/home/jupyter/Ancestry/analysis/locus_specific_gwas_analysis\")\n",
    "ggsave(\"position_vs_pval.pdf\", height = 4, width = 4)\n",
    "system(glue::glue(\"\n",
    "cd home/jupyter/Ancestry/analysis/locus_specific_gwas_analysis\n",
    "gsutil cp position_vs_pval.pdf gs://fc-45c0e148-0b1c-4244-9bfc-feb559bbc514\n",
    "\"))"
   ]
  },
  {
   "cell_type": "code",
   "execution_count": 11,
   "metadata": {},
   "outputs": [
    {
     "data": {
      "text/html": [
       "32"
      ],
      "text/latex": [
       "32"
      ],
      "text/markdown": [
       "32"
      ],
      "text/plain": [
       "[1] 32"
      ]
     },
     "metadata": {},
     "output_type": "display_data"
    },
    {
     "data": {
      "text/html": [
       "66"
      ],
      "text/latex": [
       "66"
      ],
      "text/markdown": [
       "66"
      ],
      "text/plain": [
       "[1] 66"
      ]
     },
     "metadata": {},
     "output_type": "display_data"
    }
   ],
   "source": [
    "#Calculate how many are cis vs trans\n",
    "num.cis = final.assembled.df %>%\n",
    "filter(cis_or_trans %in% \"cis\") %>%\n",
    "nrow()\n",
    "\n",
    "num.trans = final.assembled.df %>%\n",
    "filter(cis_or_trans %in% \"trans\") %>%\n",
    "nrow()\n",
    "\n",
    "num.cis\n",
    "num.trans"
   ]
  },
  {
   "cell_type": "code",
   "execution_count": 12,
   "metadata": {},
   "outputs": [
    {
     "data": {
      "text/html": [
       "<table class=\"dataframe\">\n",
       "<caption>A grouped_df: 4 × 6</caption>\n",
       "<thead>\n",
       "\t<tr><th scope=col>gene</th><th scope=col>snp_chr</th><th scope=col>snp_pos</th><th scope=col>snp_ref</th><th scope=col>snp_alt</th><th scope=col>snp</th></tr>\n",
       "\t<tr><th scope=col>&lt;chr&gt;</th><th scope=col>&lt;chr&gt;</th><th scope=col>&lt;dbl&gt;</th><th scope=col>&lt;chr&gt;</th><th scope=col>&lt;chr&gt;</th><th scope=col>&lt;chr&gt;</th></tr>\n",
       "</thead>\n",
       "<tbody>\n",
       "\t<tr><td>IFNE  </td><td>chr9</td><td>21340131</td><td>A</td><td>G</td><td>chr9:21340131:A:G</td></tr>\n",
       "\t<tr><td>IFNA16</td><td>chr9</td><td>21340131</td><td>A</td><td>G</td><td>chr9:21340131:A:G</td></tr>\n",
       "\t<tr><td>IFNA6 </td><td>chr9</td><td>21338127</td><td>A</td><td>C</td><td>chr9:21338127:A:C</td></tr>\n",
       "\t<tr><td>IFNA14</td><td>chr9</td><td>21338127</td><td>A</td><td>C</td><td>chr9:21338127:A:C</td></tr>\n",
       "</tbody>\n",
       "</table>\n"
      ],
      "text/latex": [
       "A grouped\\_df: 4 × 6\n",
       "\\begin{tabular}{llllll}\n",
       " gene & snp\\_chr & snp\\_pos & snp\\_ref & snp\\_alt & snp\\\\\n",
       " <chr> & <chr> & <dbl> & <chr> & <chr> & <chr>\\\\\n",
       "\\hline\n",
       "\t IFNE   & chr9 & 21340131 & A & G & chr9:21340131:A:G\\\\\n",
       "\t IFNA16 & chr9 & 21340131 & A & G & chr9:21340131:A:G\\\\\n",
       "\t IFNA6  & chr9 & 21338127 & A & C & chr9:21338127:A:C\\\\\n",
       "\t IFNA14 & chr9 & 21338127 & A & C & chr9:21338127:A:C\\\\\n",
       "\\end{tabular}\n"
      ],
      "text/markdown": [
       "\n",
       "A grouped_df: 4 × 6\n",
       "\n",
       "| gene &lt;chr&gt; | snp_chr &lt;chr&gt; | snp_pos &lt;dbl&gt; | snp_ref &lt;chr&gt; | snp_alt &lt;chr&gt; | snp &lt;chr&gt; |\n",
       "|---|---|---|---|---|---|\n",
       "| IFNE   | chr9 | 21340131 | A | G | chr9:21340131:A:G |\n",
       "| IFNA16 | chr9 | 21340131 | A | G | chr9:21340131:A:G |\n",
       "| IFNA6  | chr9 | 21338127 | A | C | chr9:21338127:A:C |\n",
       "| IFNA14 | chr9 | 21338127 | A | C | chr9:21338127:A:C |\n",
       "\n"
      ],
      "text/plain": [
       "  gene   snp_chr snp_pos  snp_ref snp_alt snp              \n",
       "1 IFNE   chr9    21340131 A       G       chr9:21340131:A:G\n",
       "2 IFNA16 chr9    21340131 A       G       chr9:21340131:A:G\n",
       "3 IFNA6  chr9    21338127 A       C       chr9:21338127:A:C\n",
       "4 IFNA14 chr9    21338127 A       C       chr9:21338127:A:C"
      ]
     },
     "metadata": {},
     "output_type": "display_data"
    }
   ],
   "source": [
    "#Calculate which SNPs are duplicated\n",
    "duplicated.snps = final.assembled.df %>%\n",
    "select(gene, snp_chr, snp_pos, snp_ref, snp_alt) %>%\n",
    "mutate(snp = paste(snp_chr, \":\", snp_pos, \":\", snp_ref, \":\", snp_alt, sep = \"\")) %>%\n",
    "group_by(snp) %>%\n",
    "filter(n() > 1)\n",
    "\n",
    "\n",
    "head(duplicated.snps)\n",
    "\n"
   ]
  },
  {
   "cell_type": "code",
   "execution_count": 10,
   "metadata": {},
   "outputs": [
    {
     "data": {
      "image/png": "[encoded data removed]",
      "text/plain": [
       "plot without title"
      ]
     },
     "metadata": {
      "image/png": {
       "height": 420,
       "width": 420
      }
     },
     "output_type": "display_data"
    }
   ],
   "source": [
    "#Create a boxplot for cis vs trans\n",
    "final.assembled.df %>%\n",
    "ggplot() +\n",
    "geom_boxplot(aes(x = cis_or_trans, y = -log10(fdr))) +\n",
    "theme_bw() +\n",
    "\n",
    "theme(\n",
    "axis.text.x = element_text(angle = 45, vjust = 0.5, hjust=1)\n",
    ") +\n",
    "\n",
    "theme(\n",
    "panel.border = element_blank(), \n",
    "panel.grid.major = element_blank(),\n",
    "panel.grid.minor = element_blank(), \n",
    "axis.line = element_line(color = \"black\")\n",
    ") +\n",
    "\n",
    "theme(\n",
    "axis.text = element_text(size = 12, face = \"bold\"),\n",
    ") +\n",
    "\n",
    "\n",
    "theme(\n",
    "axis.text.x = element_text(size = 12),\n",
    ") +\n",
    "\n",
    "theme(\n",
    "strip.background = element_blank(),\n",
    "strip.text.x = element_blank()\n",
    ") +\n",
    "\n",
    "ylab(\"Association between SNV and dependency score (FDR)\")\n",
    "\n",
    "\n",
    "#Export it to the google bucket\n",
    "setwd(\"/home/jupyter/Ancestry/analysis/locus_specific_gwas_analysis\")\n",
    "ggsave(\"boxplot_position_vs_pval.pdf\", height = 3, width = 1.75)\n",
    "system(glue::glue(\"\n",
    "cd home/jupyter/Ancestry/analysis/locus_specific_gwas_analysis\n",
    "gsutil cp boxplot_position_vs_pval.pdf gs://fc-45c0e148-0b1c-4244-9bfc-feb559bbc514\n",
    "\"))"
   ]
  },
  {
   "cell_type": "code",
   "execution_count": 13,
   "metadata": {},
   "outputs": [
    {
     "data": {
      "text/html": [
       "<table class=\"dataframe\">\n",
       "<caption>A data.frame: 6 × 11</caption>\n",
       "<thead>\n",
       "\t<tr><th></th><th scope=col>gene</th><th scope=col>snp_chr</th><th scope=col>snp_pos</th><th scope=col>snp_ref</th><th scope=col>snp_alt</th><th scope=col>fdr</th><th scope=col>tss_chr</th><th scope=col>tss_pos</th><th scope=col>strand</th><th scope=col>cis_or_trans</th><th scope=col>position_difference</th></tr>\n",
       "\t<tr><th></th><th scope=col>&lt;chr&gt;</th><th scope=col>&lt;chr&gt;</th><th scope=col>&lt;dbl&gt;</th><th scope=col>&lt;chr&gt;</th><th scope=col>&lt;chr&gt;</th><th scope=col>&lt;dbl&gt;</th><th scope=col>&lt;chr&gt;</th><th scope=col>&lt;int&gt;</th><th scope=col>&lt;chr&gt;</th><th scope=col>&lt;chr&gt;</th><th scope=col>&lt;dbl&gt;</th></tr>\n",
       "</thead>\n",
       "<tbody>\n",
       "\t<tr><th scope=row>1</th><td>TUT1  </td><td>chr11</td><td> 62578659</td><td>C </td><td>T</td><td>7.962065e-39</td><td>chr11</td><td> 62591523</td><td>-</td><td>cis</td><td> 12864</td></tr>\n",
       "\t<tr><th scope=row>2</th><td>ECD   </td><td>chr10</td><td> 73094386</td><td>A </td><td>G</td><td>7.230154e-36</td><td>chr10</td><td> 73168095</td><td>-</td><td>cis</td><td> 73709</td></tr>\n",
       "\t<tr><th scope=row>3</th><td>MRTO4 </td><td>chr1 </td><td> 19252818</td><td>GT</td><td>G</td><td>1.689572e-34</td><td>chr1 </td><td> 19251805</td><td>+</td><td>cis</td><td>  1013</td></tr>\n",
       "\t<tr><th scope=row>4</th><td>RPS5  </td><td>chr19</td><td> 58365001</td><td>A </td><td>G</td><td>4.034371e-31</td><td>chr19</td><td> 58387269</td><td>+</td><td>cis</td><td>-22268</td></tr>\n",
       "\t<tr><th scope=row>5</th><td>RESP18</td><td>chr2 </td><td>219320135</td><td>G </td><td>A</td><td>3.977248e-28</td><td>chr2 </td><td>219333177</td><td>-</td><td>cis</td><td> 13042</td></tr>\n",
       "\t<tr><th scope=row>6</th><td>SRP14 </td><td>chr15</td><td> 40035497</td><td>C </td><td>G</td><td>1.121033e-27</td><td>chr15</td><td> 40039181</td><td>-</td><td>cis</td><td>  3684</td></tr>\n",
       "</tbody>\n",
       "</table>\n"
      ],
      "text/latex": [
       "A data.frame: 6 × 11\n",
       "\\begin{tabular}{r|lllllllllll}\n",
       "  & gene & snp\\_chr & snp\\_pos & snp\\_ref & snp\\_alt & fdr & tss\\_chr & tss\\_pos & strand & cis\\_or\\_trans & position\\_difference\\\\\n",
       "  & <chr> & <chr> & <dbl> & <chr> & <chr> & <dbl> & <chr> & <int> & <chr> & <chr> & <dbl>\\\\\n",
       "\\hline\n",
       "\t1 & TUT1   & chr11 &  62578659 & C  & T & 7.962065e-39 & chr11 &  62591523 & - & cis &  12864\\\\\n",
       "\t2 & ECD    & chr10 &  73094386 & A  & G & 7.230154e-36 & chr10 &  73168095 & - & cis &  73709\\\\\n",
       "\t3 & MRTO4  & chr1  &  19252818 & GT & G & 1.689572e-34 & chr1  &  19251805 & + & cis &   1013\\\\\n",
       "\t4 & RPS5   & chr19 &  58365001 & A  & G & 4.034371e-31 & chr19 &  58387269 & + & cis & -22268\\\\\n",
       "\t5 & RESP18 & chr2  & 219320135 & G  & A & 3.977248e-28 & chr2  & 219333177 & - & cis &  13042\\\\\n",
       "\t6 & SRP14  & chr15 &  40035497 & C  & G & 1.121033e-27 & chr15 &  40039181 & - & cis &   3684\\\\\n",
       "\\end{tabular}\n"
      ],
      "text/markdown": [
       "\n",
       "A data.frame: 6 × 11\n",
       "\n",
       "| <!--/--> | gene &lt;chr&gt; | snp_chr &lt;chr&gt; | snp_pos &lt;dbl&gt; | snp_ref &lt;chr&gt; | snp_alt &lt;chr&gt; | fdr &lt;dbl&gt; | tss_chr &lt;chr&gt; | tss_pos &lt;int&gt; | strand &lt;chr&gt; | cis_or_trans &lt;chr&gt; | position_difference &lt;dbl&gt; |\n",
       "|---|---|---|---|---|---|---|---|---|---|---|---|\n",
       "| 1 | TUT1   | chr11 |  62578659 | C  | T | 7.962065e-39 | chr11 |  62591523 | - | cis |  12864 |\n",
       "| 2 | ECD    | chr10 |  73094386 | A  | G | 7.230154e-36 | chr10 |  73168095 | - | cis |  73709 |\n",
       "| 3 | MRTO4  | chr1  |  19252818 | GT | G | 1.689572e-34 | chr1  |  19251805 | + | cis |   1013 |\n",
       "| 4 | RPS5   | chr19 |  58365001 | A  | G | 4.034371e-31 | chr19 |  58387269 | + | cis | -22268 |\n",
       "| 5 | RESP18 | chr2  | 219320135 | G  | A | 3.977248e-28 | chr2  | 219333177 | - | cis |  13042 |\n",
       "| 6 | SRP14  | chr15 |  40035497 | C  | G | 1.121033e-27 | chr15 |  40039181 | - | cis |   3684 |\n",
       "\n"
      ],
      "text/plain": [
       "  gene   snp_chr snp_pos   snp_ref snp_alt fdr          tss_chr tss_pos  \n",
       "1 TUT1   chr11    62578659 C       T       7.962065e-39 chr11    62591523\n",
       "2 ECD    chr10    73094386 A       G       7.230154e-36 chr10    73168095\n",
       "3 MRTO4  chr1     19252818 GT      G       1.689572e-34 chr1     19251805\n",
       "4 RPS5   chr19    58365001 A       G       4.034371e-31 chr19    58387269\n",
       "5 RESP18 chr2    219320135 G       A       3.977248e-28 chr2    219333177\n",
       "6 SRP14  chr15    40035497 C       G       1.121033e-27 chr15    40039181\n",
       "  strand cis_or_trans position_difference\n",
       "1 -      cis           12864             \n",
       "2 -      cis           73709             \n",
       "3 +      cis            1013             \n",
       "4 +      cis          -22268             \n",
       "5 -      cis           13042             \n",
       "6 -      cis            3684             "
      ]
     },
     "metadata": {},
     "output_type": "display_data"
    }
   ],
   "source": [
    "head(final.assembled.df)"
   ]
  },
  {
   "cell_type": "code",
   "execution_count": 11,
   "metadata": {},
   "outputs": [
    {
     "data": {
      "text/html": [
       "41"
      ],
      "text/latex": [
       "41"
      ],
      "text/markdown": [
       "41"
      ],
      "text/plain": [
       "[1] 41"
      ]
     },
     "metadata": {},
     "output_type": "display_data"
    },
    {
     "data": {
      "text/html": [
       "57"
      ],
      "text/latex": [
       "57"
      ],
      "text/markdown": [
       "57"
      ],
      "text/plain": [
       "[1] 57"
      ]
     },
     "metadata": {},
     "output_type": "display_data"
    }
   ],
   "source": [
    "#calculate the total number of cis vs trans qTLs\n",
    "total.cis = final.assembled.df %>% filter(cis_or_trans %in% \"cis\") %>% nrow\n",
    "total.trans = final.assembled.df %>% filter(cis_or_trans %in% \"trans\") %>% nrow\n",
    "\n",
    "total.cis\n",
    "total.trans"
   ]
  },
  {
   "cell_type": "code",
   "execution_count": null,
   "metadata": {},
   "outputs": [],
   "source": []
  },
  {
   "cell_type": "code",
   "execution_count": null,
   "metadata": {},
   "outputs": [],
   "source": []
  },
  {
   "cell_type": "code",
   "execution_count": null,
   "metadata": {},
   "outputs": [],
   "source": []
  },
  {
   "cell_type": "code",
   "execution_count": null,
   "metadata": {},
   "outputs": [],
   "source": []
  }
 ],
 "metadata": {
  "kernelspec": {
   "display_name": "R",
   "language": "R",
   "name": "ir"
  },
  "language_info": {
   "codemirror_mode": "r",
   "file_extension": ".r",
   "mimetype": "text/x-r-source",
   "name": "R",
   "pygments_lexer": "r",
   "version": "4.2.1"
  },
  "toc": {
   "base_numbering": 1,
   "nav_menu": {},
   "number_sections": true,
   "sideBar": true,
   "skip_h1_title": false,
   "title_cell": "Table of Contents",
   "title_sidebar": "Contents",
   "toc_cell": false,
   "toc_position": {},
   "toc_section_display": true,
   "toc_window_display": false
  }
 },
 "nbformat": 4,
 "nbformat_minor": 2
}
