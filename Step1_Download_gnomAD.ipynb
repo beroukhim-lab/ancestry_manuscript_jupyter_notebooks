{
 "cells": [
  {
   "cell_type": "markdown",
   "metadata": {},
   "source": [
    "# Download and pre-process the gnomAD HGDP data"
   ]
  },
  {
   "cell_type": "code",
   "execution_count": 1,
   "metadata": {},
   "outputs": [],
   "source": [
    "#Arguments/variables\n",
    "\n",
    "working_dir = \"/home/jupyter-user/notebooks/Ancestry\"\n",
    "workspace_bucket = Sys.getenv('WORKSPACE_BUCKET')"
   ]
  },
  {
   "cell_type": "code",
   "execution_count": 2,
   "metadata": {},
   "outputs": [],
   "source": [
    "#Create the directory structure\n",
    "\n",
    "system(glue::glue(\"\n",
    "mkdir {working_dir}/raw_data\n",
    "mkdir {working_dir}/raw_data/hgdp\n",
    "mkdir {working_dir}/software\n",
    "\"))\n"
   ]
  },
  {
   "cell_type": "code",
   "execution_count": 2,
   "metadata": {},
   "outputs": [
    {
     "name": "stderr",
     "output_type": "stream",
     "text": [
      "Installing package into ‘/home/jupyter-user/notebooks/packages’\n",
      "(as ‘lib’ is unspecified)\n",
      "\n",
      "\n",
      "Attaching package: ‘dplyr’\n",
      "\n",
      "\n",
      "The following objects are masked from ‘package:stats’:\n",
      "\n",
      "    filter, lag\n",
      "\n",
      "\n",
      "The following objects are masked from ‘package:base’:\n",
      "\n",
      "    intersect, setdiff, setequal, union\n",
      "\n",
      "\n"
     ]
    }
   ],
   "source": [
    "#Install/load required packages/software\n",
    "\n",
    "#Download R packages\n",
    "install.packages(\"tictoc\")\n",
    "\n",
    "#Load R packages\n",
    "library(dplyr)\n",
    "library(tictoc)"
   ]
  },
  {
   "cell_type": "code",
   "execution_count": 3,
   "metadata": {},
   "outputs": [
    {
     "name": "stdout",
     "output_type": "stream",
     "text": [
      "[1] \"The data will be downloaded to: gs://fc-45c0e148-0b1c-4244-9bfc-feb559bbc514\"\n"
     ]
    }
   ],
   "source": [
    "##Download the gnomAD HGDP data\n",
    "\n",
    "#Print the bucket that the data will be downloaded into\n",
    "print(paste(\"The data will be downloaded to: \", workspace_bucket, sep = \"\"))\n",
    "\n",
    "#Transfer the data to my google bucket\n",
    "system(glue::glue(\"\n",
    "gsutil cp gs://gcp-public-data--gnomad/release/3.1/vcf/genomes/*hgdp* {workspace_bucket}\n",
    "\"))"
   ]
  },
  {
   "cell_type": "code",
   "execution_count": null,
   "metadata": {},
   "outputs": [],
   "source": [
    "#Download all of the data to the cloud environment\n",
    "tic()\n",
    "system(glue::glue(\"\n",
    "cd {working_dir}/raw_data/hgdp\n",
    "gsutil cp gs://fc-45c0e148-0b1c-4244-9bfc-feb559bbc514/* .\n",
    "\"))\n",
    "toc()\n",
    "\n"
   ]
  }
 ],
 "metadata": {
  "kernelspec": {
   "display_name": "R",
   "language": "R",
   "name": "ir"
  },
  "language_info": {
   "codemirror_mode": "r",
   "file_extension": ".r",
   "mimetype": "text/x-r-source",
   "name": "R",
   "pygments_lexer": "r",
   "version": "4.1.1"
  },
  "toc": {
   "base_numbering": 1,
   "nav_menu": {},
   "number_sections": true,
   "sideBar": true,
   "skip_h1_title": false,
   "title_cell": "Table of Contents",
   "title_sidebar": "Contents",
   "toc_cell": false,
   "toc_position": {},
   "toc_section_display": true,
   "toc_window_display": false
  }
 },
 "nbformat": 4,
 "nbformat_minor": 2
}
