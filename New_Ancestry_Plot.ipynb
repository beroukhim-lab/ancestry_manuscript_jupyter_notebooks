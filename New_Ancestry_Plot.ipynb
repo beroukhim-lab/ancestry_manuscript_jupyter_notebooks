{
 "cells": [
  {
   "cell_type": "markdown",
   "metadata": {},
   "source": [
    "The purpose of this notebook is to create a plot to display the ancestry breakdown for all of the DepMap cell lines"
   ]
  },
  {
   "cell_type": "markdown",
   "metadata": {},
   "source": [
    "# Set up the environment"
   ]
  },
  {
   "cell_type": "code",
   "execution_count": 19,
   "metadata": {},
   "outputs": [],
   "source": [
    "#Arguments/Parameters\n",
    "working_dir = '/home/jupyter/notebooks/Ancestry' #home directory for this workspace\n",
    "workspace_bucket = Sys.getenv('WORKSPACE_BUCKET') #the workspace bucket that we will upload the output to"
   ]
  },
  {
   "cell_type": "code",
   "execution_count": 20,
   "metadata": {},
   "outputs": [],
   "source": [
    "#Load packages\n",
    "library(tidyverse)\n",
    "library(reshape2)\n",
    "\n",
    "\n",
    "#Define functions\n",
    "show_msg <- function(x){ \n",
    "    print(x)\n",
    "    flush.console()\n",
    "}"
   ]
  },
  {
   "cell_type": "markdown",
   "metadata": {},
   "source": [
    "# Load in and format the data"
   ]
  },
  {
   "cell_type": "markdown",
   "metadata": {},
   "source": [
    "The admixture output does not manually assign ancestry groups to the dataframe. So we need to inspect the output from the training set to manually assign ancestries to the columns"
   ]
  },
  {
   "cell_type": "code",
   "execution_count": 21,
   "metadata": {},
   "outputs": [
    {
     "data": {
      "text/html": [
       "<table class=\"dataframe\">\n",
       "<caption>A tibble: 5 × 6</caption>\n",
       "<thead>\n",
       "\t<tr><th scope=col>ancestry</th><th scope=col>V1</th><th scope=col>V2</th><th scope=col>V3</th><th scope=col>V4</th><th scope=col>V5</th></tr>\n",
       "\t<tr><th scope=col>&lt;chr&gt;</th><th scope=col>&lt;dbl&gt;</th><th scope=col>&lt;dbl&gt;</th><th scope=col>&lt;dbl&gt;</th><th scope=col>&lt;dbl&gt;</th><th scope=col>&lt;dbl&gt;</th></tr>\n",
       "</thead>\n",
       "<tbody>\n",
       "\t<tr><td>AFR</td><td>0.00001</td><td>0.00001</td><td>0.00001</td><td>0.00001</td><td>0.99996</td></tr>\n",
       "\t<tr><td>AMR</td><td>0.00001</td><td>0.00001</td><td>0.99996</td><td>0.00001</td><td>0.00001</td></tr>\n",
       "\t<tr><td>EAS</td><td>0.00001</td><td>0.99996</td><td>0.00001</td><td>0.00001</td><td>0.00001</td></tr>\n",
       "\t<tr><td>EUR</td><td>0.99996</td><td>0.00001</td><td>0.00001</td><td>0.00001</td><td>0.00001</td></tr>\n",
       "\t<tr><td>SAS</td><td>0.00001</td><td>0.00001</td><td>0.00001</td><td>0.99996</td><td>0.00001</td></tr>\n",
       "</tbody>\n",
       "</table>\n"
      ],
      "text/latex": [
       "A tibble: 5 × 6\n",
       "\\begin{tabular}{llllll}\n",
       " ancestry & V1 & V2 & V3 & V4 & V5\\\\\n",
       " <chr> & <dbl> & <dbl> & <dbl> & <dbl> & <dbl>\\\\\n",
       "\\hline\n",
       "\t AFR & 0.00001 & 0.00001 & 0.00001 & 0.00001 & 0.99996\\\\\n",
       "\t AMR & 0.00001 & 0.00001 & 0.99996 & 0.00001 & 0.00001\\\\\n",
       "\t EAS & 0.00001 & 0.99996 & 0.00001 & 0.00001 & 0.00001\\\\\n",
       "\t EUR & 0.99996 & 0.00001 & 0.00001 & 0.00001 & 0.00001\\\\\n",
       "\t SAS & 0.00001 & 0.00001 & 0.00001 & 0.99996 & 0.00001\\\\\n",
       "\\end{tabular}\n"
      ],
      "text/markdown": [
       "\n",
       "A tibble: 5 × 6\n",
       "\n",
       "| ancestry &lt;chr&gt; | V1 &lt;dbl&gt; | V2 &lt;dbl&gt; | V3 &lt;dbl&gt; | V4 &lt;dbl&gt; | V5 &lt;dbl&gt; |\n",
       "|---|---|---|---|---|---|\n",
       "| AFR | 0.00001 | 0.00001 | 0.00001 | 0.00001 | 0.99996 |\n",
       "| AMR | 0.00001 | 0.00001 | 0.99996 | 0.00001 | 0.00001 |\n",
       "| EAS | 0.00001 | 0.99996 | 0.00001 | 0.00001 | 0.00001 |\n",
       "| EUR | 0.99996 | 0.00001 | 0.00001 | 0.00001 | 0.00001 |\n",
       "| SAS | 0.00001 | 0.00001 | 0.00001 | 0.99996 | 0.00001 |\n",
       "\n"
      ],
      "text/plain": [
       "  ancestry V1      V2      V3      V4      V5     \n",
       "1 AFR      0.00001 0.00001 0.00001 0.00001 0.99996\n",
       "2 AMR      0.00001 0.00001 0.99996 0.00001 0.00001\n",
       "3 EAS      0.00001 0.99996 0.00001 0.00001 0.00001\n",
       "4 EUR      0.99996 0.00001 0.00001 0.00001 0.00001\n",
       "5 SAS      0.00001 0.00001 0.00001 0.99996 0.00001"
      ]
     },
     "metadata": {},
     "output_type": "display_data"
    }
   ],
   "source": [
    "#Load in the ADMIXTURE training output\n",
    "paste({working_dir}, \"/admixture\", sep = \"\") %>% setwd()\n",
    "reference.set = read.table('merged.1kg.admixture.reference.5.Q', sep = \" \") \n",
    "\n",
    "\n",
    "#Load in the sample annotation file\n",
    "paste({working_dir}, \"/admixture\", sep = \"\") %>% setwd()\n",
    "reference.annotation = read.table('merged.1kg.admixture.reference.pop', sep = \"\\t\") %>%\n",
    "pull(1)\n",
    "\n",
    "\n",
    "#Calculate which column belongs to which ancestry group\n",
    "reference.set %>%\n",
    "mutate(ancestry = reference.annotation) %>%\n",
    "group_by(ancestry) %>%\n",
    "summarise(across(1:5, mean)) %>%\n",
    "head()"
   ]
  },
  {
   "cell_type": "markdown",
   "metadata": {},
   "source": [
    "Now it's time to load in the ADMIXTURE output for the DepMap lines."
   ]
  },
  {
   "cell_type": "markdown",
   "metadata": {},
   "source": [
    "First, get all of the sample names."
   ]
  },
  {
   "cell_type": "code",
   "execution_count": 22,
   "metadata": {},
   "outputs": [],
   "source": [
    "#Get the sample names since they are not included in the ADMIXTURE output\n",
    "system(glue::glue(\"\n",
    "cd {working_dir}/admixture\n",
    "{working_dir}/software/bcftools/bcftools query -l merged.ccle.admixture.target.vcf.gz > admixture.sample.header.for.plot\n",
    "\"))\n",
    "\n",
    "#Load in the sample names\n",
    "paste({working_dir}, \"/admixture\", sep = \"\") %>% setwd()\n",
    "sample.names = read.table('admixture.sample.header.for.plot', sep = \"\\t\") %>%\n",
    "pull(1)"
   ]
  },
  {
   "cell_type": "markdown",
   "metadata": {},
   "source": [
    "Load in the sample annotation data so that we can figure out which subtype each cell line belongs to."
   ]
  },
  {
   "cell_type": "code",
   "execution_count": 23,
   "metadata": {},
   "outputs": [
    {
     "data": {
      "text/html": [
       "<table class=\"dataframe\">\n",
       "<caption>A data.frame: 6 × 2</caption>\n",
       "<thead>\n",
       "\t<tr><th></th><th scope=col>depmap_id</th><th scope=col>lineage</th></tr>\n",
       "\t<tr><th></th><th scope=col>&lt;chr&gt;</th><th scope=col>&lt;chr&gt;</th></tr>\n",
       "</thead>\n",
       "<tbody>\n",
       "\t<tr><th scope=row>1</th><td>ACH-000001</td><td>ovary     </td></tr>\n",
       "\t<tr><th scope=row>2</th><td>ACH-000002</td><td>blood     </td></tr>\n",
       "\t<tr><th scope=row>3</th><td>ACH-000003</td><td>colorectal</td></tr>\n",
       "\t<tr><th scope=row>4</th><td>ACH-000004</td><td>blood     </td></tr>\n",
       "\t<tr><th scope=row>5</th><td>ACH-000005</td><td>blood     </td></tr>\n",
       "\t<tr><th scope=row>6</th><td>ACH-000006</td><td>blood     </td></tr>\n",
       "</tbody>\n",
       "</table>\n"
      ],
      "text/latex": [
       "A data.frame: 6 × 2\n",
       "\\begin{tabular}{r|ll}\n",
       "  & depmap\\_id & lineage\\\\\n",
       "  & <chr> & <chr>\\\\\n",
       "\\hline\n",
       "\t1 & ACH-000001 & ovary     \\\\\n",
       "\t2 & ACH-000002 & blood     \\\\\n",
       "\t3 & ACH-000003 & colorectal\\\\\n",
       "\t4 & ACH-000004 & blood     \\\\\n",
       "\t5 & ACH-000005 & blood     \\\\\n",
       "\t6 & ACH-000006 & blood     \\\\\n",
       "\\end{tabular}\n"
      ],
      "text/markdown": [
       "\n",
       "A data.frame: 6 × 2\n",
       "\n",
       "| <!--/--> | depmap_id &lt;chr&gt; | lineage &lt;chr&gt; |\n",
       "|---|---|---|\n",
       "| 1 | ACH-000001 | ovary      |\n",
       "| 2 | ACH-000002 | blood      |\n",
       "| 3 | ACH-000003 | colorectal |\n",
       "| 4 | ACH-000004 | blood      |\n",
       "| 5 | ACH-000005 | blood      |\n",
       "| 6 | ACH-000006 | blood      |\n",
       "\n"
      ],
      "text/plain": [
       "  depmap_id  lineage   \n",
       "1 ACH-000001 ovary     \n",
       "2 ACH-000002 blood     \n",
       "3 ACH-000003 colorectal\n",
       "4 ACH-000004 blood     \n",
       "5 ACH-000005 blood     \n",
       "6 ACH-000006 blood     "
      ]
     },
     "metadata": {},
     "output_type": "display_data"
    }
   ],
   "source": [
    "#Download the sample annotation file\n",
    "system(glue::glue(\"\n",
    "cd {working_dir}/admixture\n",
    "gsutil cp gs://fc-45c0e148-0b1c-4244-9bfc-feb559bbc514/internal-21q3_v15-sample-info.csv .\n",
    "\"))\n",
    "\n",
    "#Load it into R\n",
    "paste({working_dir}, \"/admixture\", sep = \"\") %>% setwd()\n",
    "lineage.annotation = read.table('internal-21q3_v15-sample-info.csv', sep = \",\", header = T) %>%\n",
    "rename(\"depmap_id\" = 1, \"lineage\" = 2)\n",
    "\n",
    "head(lineage.annotation)"
   ]
  },
  {
   "cell_type": "markdown",
   "metadata": {},
   "source": [
    "Load in the ADMIXTURE data for the CCLE projections. Then format it to include the extra columns, column names, etc."
   ]
  },
  {
   "cell_type": "code",
   "execution_count": 26,
   "metadata": {},
   "outputs": [
    {
     "data": {
      "text/html": [
       "<table class=\"dataframe\">\n",
       "<caption>A data.frame: 6 × 7</caption>\n",
       "<thead>\n",
       "\t<tr><th></th><th scope=col>EUR</th><th scope=col>EAS</th><th scope=col>AMR</th><th scope=col>SAS</th><th scope=col>AFR</th><th scope=col>depmap_id</th><th scope=col>lineage</th></tr>\n",
       "\t<tr><th></th><th scope=col>&lt;dbl&gt;</th><th scope=col>&lt;dbl&gt;</th><th scope=col>&lt;dbl&gt;</th><th scope=col>&lt;dbl&gt;</th><th scope=col>&lt;dbl&gt;</th><th scope=col>&lt;chr&gt;</th><th scope=col>&lt;chr&gt;</th></tr>\n",
       "</thead>\n",
       "<tbody>\n",
       "\t<tr><th scope=row>1</th><td>0.058376</td><td>0.841298</td><td>0.028906</td><td>0.013521</td><td>0.057898</td><td>ACH-000380</td><td>plasma_cell           </td></tr>\n",
       "\t<tr><th scope=row>2</th><td>0.036494</td><td>0.863657</td><td>0.032450</td><td>0.008646</td><td>0.058753</td><td>ACH-000321</td><td>blood                 </td></tr>\n",
       "\t<tr><th scope=row>3</th><td>0.011415</td><td>0.010345</td><td>0.003088</td><td>0.964387</td><td>0.010765</td><td>ACH-000857</td><td>breast                </td></tr>\n",
       "\t<tr><th scope=row>4</th><td>0.888580</td><td>0.017735</td><td>0.028750</td><td>0.055862</td><td>0.009074</td><td>ACH-000883</td><td>central_nervous_system</td></tr>\n",
       "\t<tr><th scope=row>5</th><td>0.898368</td><td>0.014906</td><td>0.025614</td><td>0.052141</td><td>0.008971</td><td>ACH-000936</td><td>ovary                 </td></tr>\n",
       "\t<tr><th scope=row>6</th><td>0.915203</td><td>0.006926</td><td>0.029091</td><td>0.026713</td><td>0.022068</td><td>ACH-000290</td><td>lung                  </td></tr>\n",
       "</tbody>\n",
       "</table>\n"
      ],
      "text/latex": [
       "A data.frame: 6 × 7\n",
       "\\begin{tabular}{r|lllllll}\n",
       "  & EUR & EAS & AMR & SAS & AFR & depmap\\_id & lineage\\\\\n",
       "  & <dbl> & <dbl> & <dbl> & <dbl> & <dbl> & <chr> & <chr>\\\\\n",
       "\\hline\n",
       "\t1 & 0.058376 & 0.841298 & 0.028906 & 0.013521 & 0.057898 & ACH-000380 & plasma\\_cell           \\\\\n",
       "\t2 & 0.036494 & 0.863657 & 0.032450 & 0.008646 & 0.058753 & ACH-000321 & blood                 \\\\\n",
       "\t3 & 0.011415 & 0.010345 & 0.003088 & 0.964387 & 0.010765 & ACH-000857 & breast                \\\\\n",
       "\t4 & 0.888580 & 0.017735 & 0.028750 & 0.055862 & 0.009074 & ACH-000883 & central\\_nervous\\_system\\\\\n",
       "\t5 & 0.898368 & 0.014906 & 0.025614 & 0.052141 & 0.008971 & ACH-000936 & ovary                 \\\\\n",
       "\t6 & 0.915203 & 0.006926 & 0.029091 & 0.026713 & 0.022068 & ACH-000290 & lung                  \\\\\n",
       "\\end{tabular}\n"
      ],
      "text/markdown": [
       "\n",
       "A data.frame: 6 × 7\n",
       "\n",
       "| <!--/--> | EUR &lt;dbl&gt; | EAS &lt;dbl&gt; | AMR &lt;dbl&gt; | SAS &lt;dbl&gt; | AFR &lt;dbl&gt; | depmap_id &lt;chr&gt; | lineage &lt;chr&gt; |\n",
       "|---|---|---|---|---|---|---|---|\n",
       "| 1 | 0.058376 | 0.841298 | 0.028906 | 0.013521 | 0.057898 | ACH-000380 | plasma_cell            |\n",
       "| 2 | 0.036494 | 0.863657 | 0.032450 | 0.008646 | 0.058753 | ACH-000321 | blood                  |\n",
       "| 3 | 0.011415 | 0.010345 | 0.003088 | 0.964387 | 0.010765 | ACH-000857 | breast                 |\n",
       "| 4 | 0.888580 | 0.017735 | 0.028750 | 0.055862 | 0.009074 | ACH-000883 | central_nervous_system |\n",
       "| 5 | 0.898368 | 0.014906 | 0.025614 | 0.052141 | 0.008971 | ACH-000936 | ovary                  |\n",
       "| 6 | 0.915203 | 0.006926 | 0.029091 | 0.026713 | 0.022068 | ACH-000290 | lung                   |\n",
       "\n"
      ],
      "text/plain": [
       "  EUR      EAS      AMR      SAS      AFR      depmap_id \n",
       "1 0.058376 0.841298 0.028906 0.013521 0.057898 ACH-000380\n",
       "2 0.036494 0.863657 0.032450 0.008646 0.058753 ACH-000321\n",
       "3 0.011415 0.010345 0.003088 0.964387 0.010765 ACH-000857\n",
       "4 0.888580 0.017735 0.028750 0.055862 0.009074 ACH-000883\n",
       "5 0.898368 0.014906 0.025614 0.052141 0.008971 ACH-000936\n",
       "6 0.915203 0.006926 0.029091 0.026713 0.022068 ACH-000290\n",
       "  lineage               \n",
       "1 plasma_cell           \n",
       "2 blood                 \n",
       "3 breast                \n",
       "4 central_nervous_system\n",
       "5 ovary                 \n",
       "6 lung                  "
      ]
     },
     "metadata": {},
     "output_type": "display_data"
    },
    {
     "data": {
      "text/html": [
       "<table class=\"dataframe\">\n",
       "<caption>A data.frame: 6 × 7</caption>\n",
       "<thead>\n",
       "\t<tr><th></th><th scope=col>EUR</th><th scope=col>EAS</th><th scope=col>AMR</th><th scope=col>SAS</th><th scope=col>AFR</th><th scope=col>DepMap_ID</th><th scope=col>lineage_subtype</th></tr>\n",
       "\t<tr><th></th><th scope=col>&lt;dbl&gt;</th><th scope=col>&lt;dbl&gt;</th><th scope=col>&lt;dbl&gt;</th><th scope=col>&lt;dbl&gt;</th><th scope=col>&lt;dbl&gt;</th><th scope=col>&lt;chr&gt;</th><th scope=col>&lt;chr&gt;</th></tr>\n",
       "</thead>\n",
       "<tbody>\n",
       "\t<tr><th scope=row>1</th><td>0.058376</td><td>0.841298</td><td>0.028906</td><td>0.013521</td><td>0.057898</td><td>ACH-000380</td><td>plasma_cell           </td></tr>\n",
       "\t<tr><th scope=row>2</th><td>0.036494</td><td>0.863657</td><td>0.032450</td><td>0.008646</td><td>0.058753</td><td>ACH-000321</td><td>blood                 </td></tr>\n",
       "\t<tr><th scope=row>3</th><td>0.011415</td><td>0.010345</td><td>0.003088</td><td>0.964387</td><td>0.010765</td><td>ACH-000857</td><td>breast                </td></tr>\n",
       "\t<tr><th scope=row>4</th><td>0.888580</td><td>0.017735</td><td>0.028750</td><td>0.055862</td><td>0.009074</td><td>ACH-000883</td><td>central_nervous_system</td></tr>\n",
       "\t<tr><th scope=row>5</th><td>0.898368</td><td>0.014906</td><td>0.025614</td><td>0.052141</td><td>0.008971</td><td>ACH-000936</td><td>ovary                 </td></tr>\n",
       "\t<tr><th scope=row>6</th><td>0.915203</td><td>0.006926</td><td>0.029091</td><td>0.026713</td><td>0.022068</td><td>ACH-000290</td><td>lung                  </td></tr>\n",
       "</tbody>\n",
       "</table>\n"
      ],
      "text/latex": [
       "A data.frame: 6 × 7\n",
       "\\begin{tabular}{r|lllllll}\n",
       "  & EUR & EAS & AMR & SAS & AFR & DepMap\\_ID & lineage\\_subtype\\\\\n",
       "  & <dbl> & <dbl> & <dbl> & <dbl> & <dbl> & <chr> & <chr>\\\\\n",
       "\\hline\n",
       "\t1 & 0.058376 & 0.841298 & 0.028906 & 0.013521 & 0.057898 & ACH-000380 & plasma\\_cell           \\\\\n",
       "\t2 & 0.036494 & 0.863657 & 0.032450 & 0.008646 & 0.058753 & ACH-000321 & blood                 \\\\\n",
       "\t3 & 0.011415 & 0.010345 & 0.003088 & 0.964387 & 0.010765 & ACH-000857 & breast                \\\\\n",
       "\t4 & 0.888580 & 0.017735 & 0.028750 & 0.055862 & 0.009074 & ACH-000883 & central\\_nervous\\_system\\\\\n",
       "\t5 & 0.898368 & 0.014906 & 0.025614 & 0.052141 & 0.008971 & ACH-000936 & ovary                 \\\\\n",
       "\t6 & 0.915203 & 0.006926 & 0.029091 & 0.026713 & 0.022068 & ACH-000290 & lung                  \\\\\n",
       "\\end{tabular}\n"
      ],
      "text/markdown": [
       "\n",
       "A data.frame: 6 × 7\n",
       "\n",
       "| <!--/--> | EUR &lt;dbl&gt; | EAS &lt;dbl&gt; | AMR &lt;dbl&gt; | SAS &lt;dbl&gt; | AFR &lt;dbl&gt; | DepMap_ID &lt;chr&gt; | lineage_subtype &lt;chr&gt; |\n",
       "|---|---|---|---|---|---|---|---|\n",
       "| 1 | 0.058376 | 0.841298 | 0.028906 | 0.013521 | 0.057898 | ACH-000380 | plasma_cell            |\n",
       "| 2 | 0.036494 | 0.863657 | 0.032450 | 0.008646 | 0.058753 | ACH-000321 | blood                  |\n",
       "| 3 | 0.011415 | 0.010345 | 0.003088 | 0.964387 | 0.010765 | ACH-000857 | breast                 |\n",
       "| 4 | 0.888580 | 0.017735 | 0.028750 | 0.055862 | 0.009074 | ACH-000883 | central_nervous_system |\n",
       "| 5 | 0.898368 | 0.014906 | 0.025614 | 0.052141 | 0.008971 | ACH-000936 | ovary                  |\n",
       "| 6 | 0.915203 | 0.006926 | 0.029091 | 0.026713 | 0.022068 | ACH-000290 | lung                   |\n",
       "\n"
      ],
      "text/plain": [
       "  EUR      EAS      AMR      SAS      AFR      DepMap_ID \n",
       "1 0.058376 0.841298 0.028906 0.013521 0.057898 ACH-000380\n",
       "2 0.036494 0.863657 0.032450 0.008646 0.058753 ACH-000321\n",
       "3 0.011415 0.010345 0.003088 0.964387 0.010765 ACH-000857\n",
       "4 0.888580 0.017735 0.028750 0.055862 0.009074 ACH-000883\n",
       "5 0.898368 0.014906 0.025614 0.052141 0.008971 ACH-000936\n",
       "6 0.915203 0.006926 0.029091 0.026713 0.022068 ACH-000290\n",
       "  lineage_subtype       \n",
       "1 plasma_cell           \n",
       "2 blood                 \n",
       "3 breast                \n",
       "4 central_nervous_system\n",
       "5 ovary                 \n",
       "6 lung                  "
      ]
     },
     "metadata": {},
     "output_type": "display_data"
    }
   ],
   "source": [
    "#Load in the CCLE Projections\n",
    "paste({working_dir}, \"/admixture\", sep = \"\") %>% setwd()\n",
    "ccle.projections = read.table('merged.ccle.admixture.target.5.Q', sep = \" \") %>%\n",
    "mutate(depmap_id = sample.names) %>%\n",
    "rename(\"EUR\" = 1, \"EAS\" = 2, \"AMR\" = 3, \"SAS\" = 4, \"AFR\" = 5) %>% #These names are based on the assignments from the reference\n",
    "mutate(lineage = depmap_id) %>%\n",
    "mutate(lineage = plyr::mapvalues(lineage, from = lineage.annotation$depmap_id, to = lineage.annotation$lineage, warn_missing = FALSE))\n",
    "\n",
    "#Print the head so that we can take a look at it.\n",
    "head(ccle.projections)\n",
    "\n",
    "#Now write it out so that we can use it in downstream analysis\n",
    "ccle.projections.for.export = ccle.projections %>%\n",
    "rename(\"DepMap_ID\" = depmap_id) %>%\n",
    "rename(\"lineage_subtype\" = lineage)\n",
    "\n",
    "\n",
    "write.table(ccle.projections.for.export, \"ccle.projections.txt\", sep = \"\\t\", col.names = T, row.names = F, quote = FALSE)"
   ]
  },
  {
   "cell_type": "markdown",
   "metadata": {},
   "source": [
    "# Generate the plot"
   ]
  },
  {
   "cell_type": "markdown",
   "metadata": {},
   "source": [
    "First, let's just try grouping them together by cancer type and taking the straight average."
   ]
  },
  {
   "cell_type": "code",
   "execution_count": 7,
   "metadata": {},
   "outputs": [
    {
     "data": {
      "text/html": [
       "<table class=\"dataframe\">\n",
       "<caption>A grouped_df: 6 × 3</caption>\n",
       "<thead>\n",
       "\t<tr><th scope=col>lineage</th><th scope=col>popmax</th><th scope=col>n</th></tr>\n",
       "\t<tr><th scope=col>&lt;chr&gt;</th><th scope=col>&lt;chr&gt;</th><th scope=col>&lt;int&gt;</th></tr>\n",
       "</thead>\n",
       "<tbody>\n",
       "\t<tr><td>bile_duct</td><td>East Asian (EAS)</td><td> 7</td></tr>\n",
       "\t<tr><td>blood    </td><td>Admixed         </td><td>13</td></tr>\n",
       "\t<tr><td>blood    </td><td>East Asian (EAS)</td><td>19</td></tr>\n",
       "\t<tr><td>blood    </td><td>European (EUR)  </td><td>17</td></tr>\n",
       "\t<tr><td>bone     </td><td>East Asian (EAS)</td><td> 1</td></tr>\n",
       "\t<tr><td>bone     </td><td>European (EUR)  </td><td> 4</td></tr>\n",
       "</tbody>\n",
       "</table>\n"
      ],
      "text/latex": [
       "A grouped\\_df: 6 × 3\n",
       "\\begin{tabular}{lll}\n",
       " lineage & popmax & n\\\\\n",
       " <chr> & <chr> & <int>\\\\\n",
       "\\hline\n",
       "\t bile\\_duct & East Asian (EAS) &  7\\\\\n",
       "\t blood     & Admixed          & 13\\\\\n",
       "\t blood     & East Asian (EAS) & 19\\\\\n",
       "\t blood     & European (EUR)   & 17\\\\\n",
       "\t bone      & East Asian (EAS) &  1\\\\\n",
       "\t bone      & European (EUR)   &  4\\\\\n",
       "\\end{tabular}\n"
      ],
      "text/markdown": [
       "\n",
       "A grouped_df: 6 × 3\n",
       "\n",
       "| lineage &lt;chr&gt; | popmax &lt;chr&gt; | n &lt;int&gt; |\n",
       "|---|---|---|\n",
       "| bile_duct | East Asian (EAS) |  7 |\n",
       "| blood     | Admixed          | 13 |\n",
       "| blood     | East Asian (EAS) | 19 |\n",
       "| blood     | European (EUR)   | 17 |\n",
       "| bone      | East Asian (EAS) |  1 |\n",
       "| bone      | European (EUR)   |  4 |\n",
       "\n"
      ],
      "text/plain": [
       "  lineage   popmax           n \n",
       "1 bile_duct East Asian (EAS)  7\n",
       "2 blood     Admixed          13\n",
       "3 blood     East Asian (EAS) 19\n",
       "4 blood     European (EUR)   17\n",
       "5 bone      East Asian (EAS)  1\n",
       "6 bone      European (EUR)    4"
      ]
     },
     "metadata": {},
     "output_type": "display_data"
    },
    {
     "data": {
      "text/html": [
       "<table class=\"dataframe\">\n",
       "<caption>A tibble: 6 × 2</caption>\n",
       "<thead>\n",
       "\t<tr><th scope=col>lineage</th><th scope=col>n</th></tr>\n",
       "\t<tr><th scope=col>&lt;chr&gt;</th><th scope=col>&lt;int&gt;</th></tr>\n",
       "</thead>\n",
       "<tbody>\n",
       "\t<tr><td>lung      </td><td>120</td></tr>\n",
       "\t<tr><td>blood     </td><td> 49</td></tr>\n",
       "\t<tr><td>breast    </td><td> 42</td></tr>\n",
       "\t<tr><td>ovary     </td><td> 36</td></tr>\n",
       "\t<tr><td>colorectal</td><td> 35</td></tr>\n",
       "\t<tr><td>gastric   </td><td> 34</td></tr>\n",
       "</tbody>\n",
       "</table>\n"
      ],
      "text/latex": [
       "A tibble: 6 × 2\n",
       "\\begin{tabular}{ll}\n",
       " lineage & n\\\\\n",
       " <chr> & <int>\\\\\n",
       "\\hline\n",
       "\t lung       & 120\\\\\n",
       "\t blood      &  49\\\\\n",
       "\t breast     &  42\\\\\n",
       "\t ovary      &  36\\\\\n",
       "\t colorectal &  35\\\\\n",
       "\t gastric    &  34\\\\\n",
       "\\end{tabular}\n"
      ],
      "text/markdown": [
       "\n",
       "A tibble: 6 × 2\n",
       "\n",
       "| lineage &lt;chr&gt; | n &lt;int&gt; |\n",
       "|---|---|\n",
       "| lung       | 120 |\n",
       "| blood      |  49 |\n",
       "| breast     |  42 |\n",
       "| ovary      |  36 |\n",
       "| colorectal |  35 |\n",
       "| gastric    |  34 |\n",
       "\n"
      ],
      "text/plain": [
       "  lineage    n  \n",
       "1 lung       120\n",
       "2 blood       49\n",
       "3 breast      42\n",
       "4 ovary       36\n",
       "5 colorectal  35\n",
       "6 gastric     34"
      ]
     },
     "metadata": {},
     "output_type": "display_data"
    }
   ],
   "source": [
    "#Group by lineage and take the average for each ancestry group\n",
    "lineage.average = ccle.projections %>%\n",
    "group_by(lineage) %>%\n",
    "summarise(across(1:5, mean))\n",
    "\n",
    "\n",
    "#Calculate the maximum ancestry for each cell line\n",
    "max.ancestry = ccle.projections %>%\n",
    "mutate(popmax = case_when(\n",
    "                                EUR >= 0.8 ~ \"European (EUR)\",\n",
    "                                EAS >= 0.8 ~ \"East Asian (EAS)\",\n",
    "                                AMR >= 0.8 ~ \"American (AMR)\",\n",
    "                                SAS >= 0.8 ~ \"South Asian (SAS)\",\n",
    "                                AFR >= 0.8 ~ \"African (AFR)\")) %>%\n",
    "mutate(popmax = replace_na(popmax, \"Admixed\")) %>%\n",
    "select(depmap_id, lineage, popmax) %>%\n",
    "group_by(lineage) %>%\n",
    "count(popmax, .drop = FALSE) %>%\n",
    "arrange(lineage)\n",
    "head(max.ancestry)\n",
    "write.table(max.ancestry, \"ancestry.by.cancer.type.txt\", sep = \"\\t\", col.names = T, row.names = FALSE)\n",
    "\n",
    "\n",
    "\n",
    "#Count the number of cell line for each lineage\n",
    "num.lines = ccle.projections %>%\n",
    "group_by(lineage) %>%\n",
    "summarise(n()) %>%\n",
    "rename(\"n\" = 2) %>%\n",
    "arrange(-n)\n",
    "head(num.lines)"
   ]
  },
  {
   "cell_type": "markdown",
   "metadata": {},
   "source": [
    "Plot the data with ggplot"
   ]
  },
  {
   "cell_type": "code",
   "execution_count": 8,
   "metadata": {},
   "outputs": [
    {
     "data": {
      "text/html": [
       "<style>\n",
       ".list-inline {list-style: none; margin:0; padding: 0}\n",
       ".list-inline>li {display: inline-block}\n",
       ".list-inline>li:not(:last-child)::after {content: \"\\00b7\"; padding: 0 .5ex}\n",
       "</style>\n",
       "<ol class=list-inline><li>'lung'</li><li>'blood'</li><li>'breast'</li><li>'ovary'</li><li>'colorectal'</li><li>'gastric'</li><li>'skin'</li><li>'lymphocyte'</li><li>'fibroblast'</li><li>'pancreas'</li><li>'central_nervous_system'</li><li>'uterus'</li><li>'upper_aerodigestive'</li><li>'plasma_cell'</li><li>'liver'</li><li>'kidney'</li><li>'urinary_tract'</li><li>'esophagus'</li><li>'bile_duct'</li><li>'peripheral_nervous_system'</li><li>'soft_tissue'</li><li>'prostate'</li><li>'bone'</li><li>'thyroid'</li></ol>\n"
      ],
      "text/latex": [
       "\\begin{enumerate*}\n",
       "\\item 'lung'\n",
       "\\item 'blood'\n",
       "\\item 'breast'\n",
       "\\item 'ovary'\n",
       "\\item 'colorectal'\n",
       "\\item 'gastric'\n",
       "\\item 'skin'\n",
       "\\item 'lymphocyte'\n",
       "\\item 'fibroblast'\n",
       "\\item 'pancreas'\n",
       "\\item 'central\\_nervous\\_system'\n",
       "\\item 'uterus'\n",
       "\\item 'upper\\_aerodigestive'\n",
       "\\item 'plasma\\_cell'\n",
       "\\item 'liver'\n",
       "\\item 'kidney'\n",
       "\\item 'urinary\\_tract'\n",
       "\\item 'esophagus'\n",
       "\\item 'bile\\_duct'\n",
       "\\item 'peripheral\\_nervous\\_system'\n",
       "\\item 'soft\\_tissue'\n",
       "\\item 'prostate'\n",
       "\\item 'bone'\n",
       "\\item 'thyroid'\n",
       "\\end{enumerate*}\n"
      ],
      "text/markdown": [
       "1. 'lung'\n",
       "2. 'blood'\n",
       "3. 'breast'\n",
       "4. 'ovary'\n",
       "5. 'colorectal'\n",
       "6. 'gastric'\n",
       "7. 'skin'\n",
       "8. 'lymphocyte'\n",
       "9. 'fibroblast'\n",
       "10. 'pancreas'\n",
       "11. 'central_nervous_system'\n",
       "12. 'uterus'\n",
       "13. 'upper_aerodigestive'\n",
       "14. 'plasma_cell'\n",
       "15. 'liver'\n",
       "16. 'kidney'\n",
       "17. 'urinary_tract'\n",
       "18. 'esophagus'\n",
       "19. 'bile_duct'\n",
       "20. 'peripheral_nervous_system'\n",
       "21. 'soft_tissue'\n",
       "22. 'prostate'\n",
       "23. 'bone'\n",
       "24. 'thyroid'\n",
       "\n",
       "\n"
      ],
      "text/plain": [
       " [1] \"lung\"                      \"blood\"                    \n",
       " [3] \"breast\"                    \"ovary\"                    \n",
       " [5] \"colorectal\"                \"gastric\"                  \n",
       " [7] \"skin\"                      \"lymphocyte\"               \n",
       " [9] \"fibroblast\"                \"pancreas\"                 \n",
       "[11] \"central_nervous_system\"    \"uterus\"                   \n",
       "[13] \"upper_aerodigestive\"       \"plasma_cell\"              \n",
       "[15] \"liver\"                     \"kidney\"                   \n",
       "[17] \"urinary_tract\"             \"esophagus\"                \n",
       "[19] \"bile_duct\"                 \"peripheral_nervous_system\"\n",
       "[21] \"soft_tissue\"               \"prostate\"                 \n",
       "[23] \"bone\"                      \"thyroid\"                  "
      ]
     },
     "metadata": {},
     "output_type": "display_data"
    }
   ],
   "source": [
    "num.lines$lineage %>% unique()"
   ]
  },
  {
   "cell_type": "code",
   "execution_count": 9,
   "metadata": {},
   "outputs": [],
   "source": [
    "#Create a mapping file to adjust the text labels for all of the cancer lineages \n",
    "old.names = num.lines %>%\n",
    "pull(lineage) %>%\n",
    "unique()\n",
    "\n",
    "new.names = c(\"Lung\", \"Blood\", \"Breast\", \"Ovarian\", \"Colorectal\", \"Gastric\", \"Skin\", \"Lymphocyte\", \"Fibroblast\", \"Pancreas\", \"CNS\", \"Uterus\", \"Upper Aerodigestive\", \"Plasma Cell\", \"Liver\", \"Kidney\", \"Urunary Tract\", \"Esophagus\", \"Bile Duct\", \"Peripheral Nervous System\", \"Soft Tissue\", \"Prostate\", \"Bone\", \"Thyroid\")\n",
    "\n",
    "mapping = cbind(old.names, new.names) %>%\n",
    "data.frame()"
   ]
  },
  {
   "cell_type": "code",
   "execution_count": 18,
   "metadata": {},
   "outputs": [
    {
     "name": "stderr",
     "output_type": "stream",
     "text": [
      "Using lineage, popmax as id variables\n",
      "\n",
      "Saving 10 x 6.67 in image\n",
      "\n"
     ]
    },
    {
     "data": {
      "image/png": "[encoded data removed]",
      "text/plain": [
       "plot without title"
      ]
     },
     "metadata": {
      "image/png": {
       "height": 420,
       "width": 420
      }
     },
     "output_type": "display_data"
    }
   ],
   "source": [
    "#Plot the data\n",
    "max.ancestry %>%\n",
    "select(sort(colnames(.))) %>%\n",
    "melt() %>%\n",
    "rename(\"lineage\" = 1, \"Ancestry\" = 2, \"fraction\" = 4) %>%\n",
    "select(lineage, Ancestry, fraction) %>%\n",
    "mutate(lineage = as.factor(lineage)) %>%\n",
    "mutate(lineage = plyr::mapvalues(lineage, from = mapping$old.names, to = mapping$new.names, warn_missing = FALSE)) %>%\n",
    "\n",
    "\n",
    "ggplot() +\n",
    "geom_bar(aes(x = fraction, y = reorder(lineage, fraction, sum), fill = Ancestry), stat=\"identity\") +\n",
    "\n",
    "\n",
    "scale_fill_manual(values = c(\"gold\", \"darkorange2\", \"firebrick4\", \"chartreuse4\", \"dodgerblue4\", \"darkorchid4\")) +\n",
    "theme_bw() +\n",
    "\n",
    "\n",
    "theme(\n",
    "panel.border = element_blank(), panel.grid.major = element_blank(),\n",
    "panel.grid.minor = element_blank(), axis.line = element_line(colour = \"black\")\n",
    ") +\n",
    "\n",
    "\n",
    "theme(\n",
    "axis.text=element_text(size=12),\n",
    "axis.title=element_text(size=14, face=\"bold\")\n",
    ") +\n",
    "\n",
    "theme(\n",
    "axis.text.x = element_text(face=\"bold\", size=14),\n",
    "axis.text.y = element_text(face=\"bold\", size=14)\n",
    ") +\n",
    "\n",
    "theme(\n",
    "panel.border = element_blank(), panel.grid.major = element_blank(),\n",
    "panel.grid.minor = element_blank(), axis.line = element_line(color = \"black\")\n",
    ") +\n",
    "\n",
    "theme(\n",
    "legend.title = element_text(size = 14, face = \"bold\"),\n",
    "legend.text = element_text(size = 10, face = \"bold\")\n",
    ") +\n",
    "\n",
    "\n",
    "theme(\n",
    "legend.title.align=0.5\n",
    ") +\n",
    "\n",
    "theme(\n",
    "strip.text = element_text(size = 8, face = \"bold\"),\n",
    "strip.background = element_blank()\n",
    ") +\n",
    "\n",
    "xlab(\"# Cell Lines\") +\n",
    "ylab (\"Lineage\") +\n",
    "\n",
    "theme(\n",
    "axis.title=element_text(size = 24,face = \"bold\")\n",
    ") +\n",
    "\n",
    "theme(\n",
    "plot.title = element_text(size = 20, face = \"bold\"),\n",
    "legend.title=element_text(size=30), \n",
    "legend.text=element_text(size=20)\n",
    ") +\n",
    "\n",
    "theme(\n",
    "legend.position = c(0.75, 0.5)\n",
    ") +\n",
    "\n",
    "theme(\n",
    "plot.margin = unit(c(1,1,1,1), \"cm\")\n",
    ")\n",
    "\n",
    "#Save the plot\n",
    "paste({working_dir}, \"/figures\", sep = \"\") %>% setwd()\n",
    "ggsave(\"ancestry_bar_plot.png\", width = 10, dpi = 700)\n",
    "\n",
    "#Export it to the google bucket\n",
    "system(glue::glue(\"\n",
    "cd {working_dir}/figures\n",
    "gsutil cp ancestry_bar_plot.png gs://fc-45c0e148-0b1c-4244-9bfc-feb559bbc514\n",
    "\"))"
   ]
  },
  {
   "cell_type": "code",
   "execution_count": null,
   "metadata": {},
   "outputs": [],
   "source": []
  }
 ],
 "metadata": {
  "kernelspec": {
   "display_name": "R",
   "language": "R",
   "name": "ir"
  },
  "language_info": {
   "codemirror_mode": "r",
   "file_extension": ".r",
   "mimetype": "text/x-r-source",
   "name": "R",
   "pygments_lexer": "r",
   "version": "4.1.1"
  },
  "toc": {
   "base_numbering": 1,
   "nav_menu": {},
   "number_sections": true,
   "sideBar": true,
   "skip_h1_title": false,
   "title_cell": "Table of Contents",
   "title_sidebar": "Contents",
   "toc_cell": false,
   "toc_position": {},
   "toc_section_display": true,
   "toc_window_display": false
  }
 },
 "nbformat": 4,
 "nbformat_minor": 2
}
