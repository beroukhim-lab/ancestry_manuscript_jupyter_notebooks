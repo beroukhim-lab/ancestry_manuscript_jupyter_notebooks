{
 "cells": [
  {
   "cell_type": "markdown",
   "metadata": {},
   "source": [
    "The goal of this notebook is to calculate the fraction of COSMIC cancer cell lines that are represented in DepMap."
   ]
  },
  {
   "cell_type": "code",
   "execution_count": 2,
   "metadata": {},
   "outputs": [
    {
     "name": "stderr",
     "output_type": "stream",
     "text": [
      "Warning message in system(\"timedatectl\", intern = TRUE):\n",
      "“running command 'timedatectl' had status 1”\n",
      "── \u001b[1mAttaching packages\u001b[22m ─────────────────────────────────────── tidyverse 1.3.1 ──\n",
      "\n",
      "\u001b[32m✔\u001b[39m \u001b[34mggplot2\u001b[39m 3.3.5     \u001b[32m✔\u001b[39m \u001b[34mpurrr  \u001b[39m 0.3.4\n",
      "\u001b[32m✔\u001b[39m \u001b[34mtibble \u001b[39m 3.1.6     \u001b[32m✔\u001b[39m \u001b[34mdplyr  \u001b[39m 1.0.7\n",
      "\u001b[32m✔\u001b[39m \u001b[34mtidyr  \u001b[39m 1.1.4     \u001b[32m✔\u001b[39m \u001b[34mstringr\u001b[39m 1.4.0\n",
      "\u001b[32m✔\u001b[39m \u001b[34mreadr  \u001b[39m 2.1.1     \u001b[32m✔\u001b[39m \u001b[34mforcats\u001b[39m 0.5.1\n",
      "\n",
      "── \u001b[1mConflicts\u001b[22m ────────────────────────────────────────── tidyverse_conflicts() ──\n",
      "\u001b[31m✖\u001b[39m \u001b[34mdplyr\u001b[39m::\u001b[32mfilter()\u001b[39m masks \u001b[34mstats\u001b[39m::filter()\n",
      "\u001b[31m✖\u001b[39m \u001b[34mdplyr\u001b[39m::\u001b[32mlag()\u001b[39m    masks \u001b[34mstats\u001b[39m::lag()\n",
      "\n"
     ]
    }
   ],
   "source": [
    "#Set up the environment\n",
    "library(tidyverse)"
   ]
  },
  {
   "cell_type": "code",
   "execution_count": 3,
   "metadata": {},
   "outputs": [],
   "source": [
    "#Load in the COSMIC cell lines\n",
    "setwd('/home/jupyter/Ancestry/raw_data/cosmic')\n",
    "cosmic.lines = read.table('COSMIC_CCLs.csv', sep = \",\", header = F) %>% \n",
    "pull(1)"
   ]
  },
  {
   "cell_type": "code",
   "execution_count": 6,
   "metadata": {},
   "outputs": [
    {
     "name": "stderr",
     "output_type": "stream",
     "text": [
      "Warning message in scan(file = file, what = what, sep = sep, quote = quote, dec = dec, :\n",
      "“EOF within quoted string”\n"
     ]
    },
    {
     "data": {
      "text/html": [
       "<table class=\"dataframe\">\n",
       "<caption>A data.frame: 6 × 2</caption>\n",
       "<thead>\n",
       "\t<tr><th></th><th scope=col>DepMap_ID</th><th scope=col>RRID</th></tr>\n",
       "\t<tr><th></th><th scope=col>&lt;chr&gt;</th><th scope=col>&lt;chr&gt;</th></tr>\n",
       "</thead>\n",
       "<tbody>\n",
       "\t<tr><th scope=row>1</th><td>ACH-000001</td><td>CVCL_0465</td></tr>\n",
       "\t<tr><th scope=row>2</th><td>ACH-000002</td><td>CVCL_0002</td></tr>\n",
       "\t<tr><th scope=row>3</th><td>ACH-000003</td><td>CVCL_0025</td></tr>\n",
       "\t<tr><th scope=row>4</th><td>ACH-000004</td><td>CVCL_0001</td></tr>\n",
       "\t<tr><th scope=row>5</th><td>ACH-000005</td><td>CVCL_2481</td></tr>\n",
       "\t<tr><th scope=row>6</th><td>ACH-000006</td><td>CVCL_1426</td></tr>\n",
       "</tbody>\n",
       "</table>\n"
      ],
      "text/latex": [
       "A data.frame: 6 × 2\n",
       "\\begin{tabular}{r|ll}\n",
       "  & DepMap\\_ID & RRID\\\\\n",
       "  & <chr> & <chr>\\\\\n",
       "\\hline\n",
       "\t1 & ACH-000001 & CVCL\\_0465\\\\\n",
       "\t2 & ACH-000002 & CVCL\\_0002\\\\\n",
       "\t3 & ACH-000003 & CVCL\\_0025\\\\\n",
       "\t4 & ACH-000004 & CVCL\\_0001\\\\\n",
       "\t5 & ACH-000005 & CVCL\\_2481\\\\\n",
       "\t6 & ACH-000006 & CVCL\\_1426\\\\\n",
       "\\end{tabular}\n"
      ],
      "text/markdown": [
       "\n",
       "A data.frame: 6 × 2\n",
       "\n",
       "| <!--/--> | DepMap_ID &lt;chr&gt; | RRID &lt;chr&gt; |\n",
       "|---|---|---|\n",
       "| 1 | ACH-000001 | CVCL_0465 |\n",
       "| 2 | ACH-000002 | CVCL_0002 |\n",
       "| 3 | ACH-000003 | CVCL_0025 |\n",
       "| 4 | ACH-000004 | CVCL_0001 |\n",
       "| 5 | ACH-000005 | CVCL_2481 |\n",
       "| 6 | ACH-000006 | CVCL_1426 |\n",
       "\n"
      ],
      "text/plain": [
       "  DepMap_ID  RRID     \n",
       "1 ACH-000001 CVCL_0465\n",
       "2 ACH-000002 CVCL_0002\n",
       "3 ACH-000003 CVCL_0025\n",
       "4 ACH-000004 CVCL_0001\n",
       "5 ACH-000005 CVCL_2481\n",
       "6 ACH-000006 CVCL_1426"
      ]
     },
     "metadata": {},
     "output_type": "display_data"
    },
    {
     "data": {
      "text/html": [
       "<style>\n",
       ".list-inline {list-style: none; margin:0; padding: 0}\n",
       ".list-inline>li {display: inline-block}\n",
       ".list-inline>li:not(:last-child)::after {content: \"\\00b7\"; padding: 0 .5ex}\n",
       "</style>\n",
       "<ol class=list-inline><li>'ACH-000657'</li><li>'ACH-000617'</li><li>'ACH-000685'</li><li>'ACH-000632'</li><li>'ACH-000171'</li><li>'ACH-000863'</li></ol>\n"
      ],
      "text/latex": [
       "\\begin{enumerate*}\n",
       "\\item 'ACH-000657'\n",
       "\\item 'ACH-000617'\n",
       "\\item 'ACH-000685'\n",
       "\\item 'ACH-000632'\n",
       "\\item 'ACH-000171'\n",
       "\\item 'ACH-000863'\n",
       "\\end{enumerate*}\n"
      ],
      "text/markdown": [
       "1. 'ACH-000657'\n",
       "2. 'ACH-000617'\n",
       "3. 'ACH-000685'\n",
       "4. 'ACH-000632'\n",
       "5. 'ACH-000171'\n",
       "6. 'ACH-000863'\n",
       "\n",
       "\n"
      ],
      "text/plain": [
       "[1] \"ACH-000657\" \"ACH-000617\" \"ACH-000685\" \"ACH-000632\" \"ACH-000171\"\n",
       "[6] \"ACH-000863\""
      ]
     },
     "metadata": {},
     "output_type": "display_data"
    }
   ],
   "source": [
    "#Load in the depmap sample annotation file and filter it so that it only includes the information we want\n",
    "setwd('/home/jupyter/Ancestry/gwas')\n",
    "sample.info = read.table('internal-22q1_v24-sample-info.csv', sep = \",\", header = T, fill = TRUE) %>%\n",
    "select(DepMap_ID, RRID)\n",
    "head(sample.info)\n",
    "\n",
    "#Load in the ancestry information. This is just so that we can get a list of cell lines that we have SNP6 data for.\n",
    "#Then pull a vector of just the sample names\n",
    "setwd('/home/jupyter/Ancestry/rfmix')\n",
    "snp6.sample.names = read.table(\"collapsed.ancestry.information.txt\", header = T) %>%\n",
    "pull(sample)\n",
    "\n",
    "head(snp6.sample.names)"
   ]
  },
  {
   "cell_type": "code",
   "execution_count": 8,
   "metadata": {},
   "outputs": [
    {
     "data": {
      "text/html": [
       "<table class=\"dataframe\">\n",
       "<caption>A data.frame: 6 × 2</caption>\n",
       "<thead>\n",
       "\t<tr><th></th><th scope=col>DepMap_ID</th><th scope=col>RRID</th></tr>\n",
       "\t<tr><th></th><th scope=col>&lt;chr&gt;</th><th scope=col>&lt;chr&gt;</th></tr>\n",
       "</thead>\n",
       "<tbody>\n",
       "\t<tr><th scope=row>1</th><td>ACH-000001</td><td>CVCL_0465</td></tr>\n",
       "\t<tr><th scope=row>2</th><td>ACH-000002</td><td>CVCL_0002</td></tr>\n",
       "\t<tr><th scope=row>3</th><td>ACH-000004</td><td>CVCL_0001</td></tr>\n",
       "\t<tr><th scope=row>4</th><td>ACH-000005</td><td>CVCL_2481</td></tr>\n",
       "\t<tr><th scope=row>5</th><td>ACH-000007</td><td>CVCL_1386</td></tr>\n",
       "\t<tr><th scope=row>6</th><td>ACH-000008</td><td>CVCL_1057</td></tr>\n",
       "</tbody>\n",
       "</table>\n"
      ],
      "text/latex": [
       "A data.frame: 6 × 2\n",
       "\\begin{tabular}{r|ll}\n",
       "  & DepMap\\_ID & RRID\\\\\n",
       "  & <chr> & <chr>\\\\\n",
       "\\hline\n",
       "\t1 & ACH-000001 & CVCL\\_0465\\\\\n",
       "\t2 & ACH-000002 & CVCL\\_0002\\\\\n",
       "\t3 & ACH-000004 & CVCL\\_0001\\\\\n",
       "\t4 & ACH-000005 & CVCL\\_2481\\\\\n",
       "\t5 & ACH-000007 & CVCL\\_1386\\\\\n",
       "\t6 & ACH-000008 & CVCL\\_1057\\\\\n",
       "\\end{tabular}\n"
      ],
      "text/markdown": [
       "\n",
       "A data.frame: 6 × 2\n",
       "\n",
       "| <!--/--> | DepMap_ID &lt;chr&gt; | RRID &lt;chr&gt; |\n",
       "|---|---|---|\n",
       "| 1 | ACH-000001 | CVCL_0465 |\n",
       "| 2 | ACH-000002 | CVCL_0002 |\n",
       "| 3 | ACH-000004 | CVCL_0001 |\n",
       "| 4 | ACH-000005 | CVCL_2481 |\n",
       "| 5 | ACH-000007 | CVCL_1386 |\n",
       "| 6 | ACH-000008 | CVCL_1057 |\n",
       "\n"
      ],
      "text/plain": [
       "  DepMap_ID  RRID     \n",
       "1 ACH-000001 CVCL_0465\n",
       "2 ACH-000002 CVCL_0002\n",
       "3 ACH-000004 CVCL_0001\n",
       "4 ACH-000005 CVCL_2481\n",
       "5 ACH-000007 CVCL_1386\n",
       "6 ACH-000008 CVCL_1057"
      ]
     },
     "metadata": {},
     "output_type": "display_data"
    }
   ],
   "source": [
    "#Select only the rows in 'sample.info' that are in 'snp6.sample.names'\n",
    "filtered.sample.info = sample.info %>%\n",
    "filter(DepMap_ID %in% snp6.sample.names)\n",
    "head(filtered.sample.info)"
   ]
  },
  {
   "cell_type": "code",
   "execution_count": 19,
   "metadata": {},
   "outputs": [],
   "source": [
    "#Now calculate the fraction of cosmic.lines which are in depmap\n",
    "intersecting.lines = intersect(cosmic.lines, filtered.sample.info$RRID)\n",
    "num.intersecting.lines = intersecting.lines %>% length()"
   ]
  },
  {
   "cell_type": "code",
   "execution_count": 40,
   "metadata": {},
   "outputs": [
    {
     "data": {
      "image/png": "[encoded data removed]",
      "text/plain": [
       "plot without title"
      ]
     },
     "metadata": {
      "image/png": {
       "height": 420,
       "width": 420
      }
     },
     "output_type": "display_data"
    }
   ],
   "source": [
    "#Assemble the dataset for plotting\n",
    "group.vector = c(\"In DepMap\", \"Not In DepMap\")\n",
    "value.vector = c(num.intersecting.lines, (length(cosmic.lines)-num.intersecting.lines))\n",
    "\n",
    "df.for.plotting = cbind(group.vector, value.vector) %>%\n",
    "data.frame() %>%\n",
    "rename(\"group\" = 1, \"value\" = 2) %>%\n",
    "mutate(value = as.numeric(value))\n",
    "\n",
    "#Make a pie chart\n",
    "df.for.plotting %>%\n",
    "ggplot(aes(x=\"\", y=value, fill=group)) +\n",
    "geom_bar(stat=\"identity\", width=1, color=\"white\") +\n",
    "coord_polar(\"y\", start=0) +\n",
    "theme_void() + # remove background, grid, numeric labels\n",
    "scale_fill_brewer(palette = \"Set1\")\n",
    "\n",
    "\n",
    "#Export it to the google bucket\n",
    "setwd('/home/jupyter/Ancestry/figures')\n",
    "ggsave(\"cosmic_pie_chart.pdf\", width = 5, height = 5)\n",
    "system(glue::glue(\"\n",
    "cd /home/jupyter/Ancestry/figures\n",
    "gsutil cp cosmic_pie_chart.pdf gs://fc-45c0e148-0b1c-4244-9bfc-feb559bbc514\n",
    "\"))"
   ]
  },
  {
   "cell_type": "code",
   "execution_count": 41,
   "metadata": {},
   "outputs": [
    {
     "data": {
      "text/html": [
       "<table class=\"dataframe\">\n",
       "<caption>A data.frame: 2 × 2</caption>\n",
       "<thead>\n",
       "\t<tr><th scope=col>group</th><th scope=col>value</th></tr>\n",
       "\t<tr><th scope=col>&lt;chr&gt;</th><th scope=col>&lt;dbl&gt;</th></tr>\n",
       "</thead>\n",
       "<tbody>\n",
       "\t<tr><td>In DepMap    </td><td>834</td></tr>\n",
       "\t<tr><td>Not In DepMap</td><td>781</td></tr>\n",
       "</tbody>\n",
       "</table>\n"
      ],
      "text/latex": [
       "A data.frame: 2 × 2\n",
       "\\begin{tabular}{ll}\n",
       " group & value\\\\\n",
       " <chr> & <dbl>\\\\\n",
       "\\hline\n",
       "\t In DepMap     & 834\\\\\n",
       "\t Not In DepMap & 781\\\\\n",
       "\\end{tabular}\n"
      ],
      "text/markdown": [
       "\n",
       "A data.frame: 2 × 2\n",
       "\n",
       "| group &lt;chr&gt; | value &lt;dbl&gt; |\n",
       "|---|---|\n",
       "| In DepMap     | 834 |\n",
       "| Not In DepMap | 781 |\n",
       "\n"
      ],
      "text/plain": [
       "  group         value\n",
       "1 In DepMap     834  \n",
       "2 Not In DepMap 781  "
      ]
     },
     "metadata": {},
     "output_type": "display_data"
    }
   ],
   "source": [
    "df.for.plotting"
   ]
  },
  {
   "cell_type": "code",
   "execution_count": null,
   "metadata": {},
   "outputs": [],
   "source": []
  }
 ],
 "metadata": {
  "kernelspec": {
   "display_name": "R",
   "language": "R",
   "name": "ir"
  },
  "language_info": {
   "codemirror_mode": "r",
   "file_extension": ".r",
   "mimetype": "text/x-r-source",
   "name": "R",
   "pygments_lexer": "r",
   "version": "4.1.2"
  },
  "toc": {
   "base_numbering": 1,
   "nav_menu": {},
   "number_sections": true,
   "sideBar": true,
   "skip_h1_title": false,
   "title_cell": "Table of Contents",
   "title_sidebar": "Contents",
   "toc_cell": false,
   "toc_position": {},
   "toc_section_display": true,
   "toc_window_display": false
  }
 },
 "nbformat": 4,
 "nbformat_minor": 2
}
